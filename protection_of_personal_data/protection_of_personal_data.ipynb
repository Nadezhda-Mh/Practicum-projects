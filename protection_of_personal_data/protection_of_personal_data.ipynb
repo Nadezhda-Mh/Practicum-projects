{
 "cells": [
  {
   "cell_type": "markdown",
   "metadata": {},
   "source": [
    "# Защита персональных данных клиентов"
   ]
  },
  {
   "cell_type": "markdown",
   "metadata": {},
   "source": [
    "## Загрузка данных"
   ]
  },
  {
   "cell_type": "code",
   "execution_count": 1,
   "metadata": {},
   "outputs": [],
   "source": [
    "# импорт библиотек\n",
    "import pandas as pd\n",
    "import numpy as np\n",
    "from sklearn.linear_model import LinearRegression\n",
    "from sklearn.metrics import r2_score"
   ]
  },
  {
   "cell_type": "code",
   "execution_count": 2,
   "metadata": {},
   "outputs": [],
   "source": [
    "# чтение файла с данными и сохранение в df с использованием конструкции try-except\n",
    "try:\n",
    "    df = pd.read_csv('C:/Users/datasets/insurance.csv') # локальный путь\n",
    "except:\n",
    "    df = pd.read_csv('//datasets/insurance.csv') # серверный путь"
   ]
  },
  {
   "cell_type": "code",
   "execution_count": 3,
   "metadata": {},
   "outputs": [
    {
     "data": {
      "text/html": [
       "<div>\n",
       "<style scoped>\n",
       "    .dataframe tbody tr th:only-of-type {\n",
       "        vertical-align: middle;\n",
       "    }\n",
       "\n",
       "    .dataframe tbody tr th {\n",
       "        vertical-align: top;\n",
       "    }\n",
       "\n",
       "    .dataframe thead th {\n",
       "        text-align: right;\n",
       "    }\n",
       "</style>\n",
       "<table border=\"1\" class=\"dataframe\">\n",
       "  <thead>\n",
       "    <tr style=\"text-align: right;\">\n",
       "      <th></th>\n",
       "      <th>Пол</th>\n",
       "      <th>Возраст</th>\n",
       "      <th>Зарплата</th>\n",
       "      <th>Члены семьи</th>\n",
       "      <th>Страховые выплаты</th>\n",
       "    </tr>\n",
       "  </thead>\n",
       "  <tbody>\n",
       "    <tr>\n",
       "      <th>0</th>\n",
       "      <td>1</td>\n",
       "      <td>41.0</td>\n",
       "      <td>49600.0</td>\n",
       "      <td>1</td>\n",
       "      <td>0</td>\n",
       "    </tr>\n",
       "    <tr>\n",
       "      <th>1</th>\n",
       "      <td>0</td>\n",
       "      <td>46.0</td>\n",
       "      <td>38000.0</td>\n",
       "      <td>1</td>\n",
       "      <td>1</td>\n",
       "    </tr>\n",
       "    <tr>\n",
       "      <th>2</th>\n",
       "      <td>0</td>\n",
       "      <td>29.0</td>\n",
       "      <td>21000.0</td>\n",
       "      <td>0</td>\n",
       "      <td>0</td>\n",
       "    </tr>\n",
       "    <tr>\n",
       "      <th>3</th>\n",
       "      <td>0</td>\n",
       "      <td>21.0</td>\n",
       "      <td>41700.0</td>\n",
       "      <td>2</td>\n",
       "      <td>0</td>\n",
       "    </tr>\n",
       "    <tr>\n",
       "      <th>4</th>\n",
       "      <td>1</td>\n",
       "      <td>28.0</td>\n",
       "      <td>26100.0</td>\n",
       "      <td>0</td>\n",
       "      <td>0</td>\n",
       "    </tr>\n",
       "  </tbody>\n",
       "</table>\n",
       "</div>"
      ],
      "text/plain": [
       "   Пол  Возраст  Зарплата  Члены семьи  Страховые выплаты\n",
       "0    1     41.0   49600.0            1                  0\n",
       "1    0     46.0   38000.0            1                  1\n",
       "2    0     29.0   21000.0            0                  0\n",
       "3    0     21.0   41700.0            2                  0\n",
       "4    1     28.0   26100.0            0                  0"
      ]
     },
     "execution_count": 3,
     "metadata": {},
     "output_type": "execute_result"
    }
   ],
   "source": [
    "# просмотр первых пяти строк \n",
    "df.head()"
   ]
  },
  {
   "cell_type": "code",
   "execution_count": 4,
   "metadata": {},
   "outputs": [
    {
     "name": "stdout",
     "output_type": "stream",
     "text": [
      "<class 'pandas.core.frame.DataFrame'>\n",
      "RangeIndex: 5000 entries, 0 to 4999\n",
      "Data columns (total 5 columns):\n",
      " #   Column             Non-Null Count  Dtype  \n",
      "---  ------             --------------  -----  \n",
      " 0   Пол                5000 non-null   int64  \n",
      " 1   Возраст            5000 non-null   float64\n",
      " 2   Зарплата           5000 non-null   float64\n",
      " 3   Члены семьи        5000 non-null   int64  \n",
      " 4   Страховые выплаты  5000 non-null   int64  \n",
      "dtypes: float64(2), int64(3)\n",
      "memory usage: 195.4 KB\n"
     ]
    }
   ],
   "source": [
    "# получение общей информации\n",
    "df.info()"
   ]
  },
  {
   "cell_type": "markdown",
   "metadata": {},
   "source": [
    "## Умножение матриц"
   ]
  },
  {
   "cell_type": "markdown",
   "metadata": {},
   "source": [
    "Обозначения:\n",
    "\n",
    "- $X$ — матрица признаков (нулевой столбец состоит из единиц)\n",
    "\n",
    "- $y$ — вектор целевого признака\n",
    "\n",
    "- $P$ — матрица, на которую умножаются признаки\n",
    "\n",
    "- $w$ — вектор весов линейной регрессии (нулевой элемент равен сдвигу)"
   ]
  },
  {
   "cell_type": "markdown",
   "metadata": {},
   "source": [
    "Предсказания:\n",
    "\n",
    "$$\n",
    "a = Xw\n",
    "$$\n",
    "\n",
    "Задача обучения:\n",
    "\n",
    "$$\n",
    "w = \\arg\\min_w MSE(Xw, y)\n",
    "$$\n",
    "\n",
    "Формула обучения:\n",
    "\n",
    "$$\n",
    "w = (X^T X)^{-1} X^T y\n",
    "$$"
   ]
  },
  {
   "cell_type": "markdown",
   "metadata": {},
   "source": [
    "**Ответ:** При умножении признаков на обратимую матрицу качество линейной регрессии не изменится.\n",
    "\n",
    "**Обоснование:** \n",
    "\n",
    "$$\n",
    "a_1 = X P w\n",
    "$$\n",
    "$$\n",
    "a_1 = X P((XP)^T XP)^{-1} (XP)^T y\n",
    "$$\n",
    "$$\n",
    "a_1 = (X P) (XP)^{-1}((XP)^T)^{-1} (XP)^T y\n",
    "$$\n",
    "$$\n",
    "a_1 = X P P^{-1}X^{-1}(P^T X^T)^{-1} P^T X^T y = XEX^{-1}(X^T)^{-1}(P^T)^{-1}P^T X^T y\n",
    "$$\n",
    "$$\n",
    "a_1 = XX^{-1}(X^T)^{-1}EX^T y = X(X^T X)^{-1} X^T y = X w = a\n",
    "$$"
   ]
  },
  {
   "cell_type": "markdown",
   "metadata": {},
   "source": [
    "## Алгоритм преобразования"
   ]
  },
  {
   "cell_type": "markdown",
   "metadata": {},
   "source": [
    "**Алгоритм**\n",
    "\n",
    "Чтобы защитить данные клиентов, будем умножать матрицу признаков на обратимую матрицу, сгенерированную случайным образом. Таким образом, алгоритм преобразования данных будет следущим: составление обратимой матрицы; проверка матрицы на обратимость; получение матрицы преобразованных признаков; проверка качества линейной регресси на преобразованных данных."
   ]
  },
  {
   "cell_type": "markdown",
   "metadata": {},
   "source": [
    "**Обоснование**\n",
    "\n",
    "Пример:\n",
    "$$\n",
    "X = \\begin{pmatrix}\n",
    "     2& 4\\\\\n",
    "     3& 7\\\\\n",
    "     5& 1\\\n",
    "    \\end{pmatrix}\n",
    "$$\n",
    "$$\n",
    "P = \\begin{pmatrix}\n",
    "     1& 2\\\\\n",
    "     0& 3\\\n",
    "    \\end{pmatrix}\n",
    "$$\n",
    "$$\n",
    "Z = XP = \\begin{pmatrix}\n",
    "          2*1+4*0& 2*2+4*3\\\\\n",
    "          3*1+7*0& 3*2+7*3\\\\\n",
    "          5*1+1*0& 5*2+1*3\\\n",
    "         \\end{pmatrix} = \\begin{pmatrix}\n",
    "                          2& 16\\\\\n",
    "                          3& 27\\\\\n",
    "                          5& 13\\\n",
    "                         \\end{pmatrix}           \n",
    "$$\n",
    "\n",
    "При этом чтобы *Z* матрица имела такую же размерность, что и матрица *Х*. А для этого матрица *Р* должна быть квадратной (у которой число строк и столбцов равно количеству признаков."
   ]
  },
  {
   "cell_type": "markdown",
   "metadata": {},
   "source": [
    "## Проверка алгоритма"
   ]
  },
  {
   "cell_type": "code",
   "execution_count": 5,
   "metadata": {},
   "outputs": [
    {
     "name": "stdout",
     "output_type": "stream",
     "text": [
      "(5000,)\n"
     ]
    },
    {
     "data": {
      "text/plain": [
       "(5000, 4)"
      ]
     },
     "execution_count": 5,
     "metadata": {},
     "output_type": "execute_result"
    }
   ],
   "source": [
    "# создание переменных с признакими и целевым признаком\n",
    "target = df['Страховые выплаты']\n",
    "features = df.drop('Страховые выплаты', axis=1)\n",
    "\n",
    "print(target.shape)\n",
    "features.shape"
   ]
  },
  {
   "cell_type": "code",
   "execution_count": 6,
   "metadata": {},
   "outputs": [],
   "source": [
    "# функция для расчета метрики r2\n",
    "def lin_regression(x, y):\n",
    "    model = LinearRegression()\n",
    "    model.fit(x, y)\n",
    "    return r2_score(y, model.predict(x))"
   ]
  },
  {
   "cell_type": "code",
   "execution_count": 7,
   "metadata": {},
   "outputs": [
    {
     "data": {
      "text/plain": [
       "0.42494550286668"
      ]
     },
     "execution_count": 7,
     "metadata": {},
     "output_type": "execute_result"
    }
   ],
   "source": [
    "# расчет r2\n",
    "lin_regression(features, target)"
   ]
  },
  {
   "cell_type": "code",
   "execution_count": 8,
   "metadata": {
    "scrolled": true
   },
   "outputs": [
    {
     "name": "stdout",
     "output_type": "stream",
     "text": [
      "[[-0.33525568  0.42902486 -0.65025013 -0.56655532]\n",
      " [-0.12096238 -0.50259556 -0.82363436  0.15832097]\n",
      " [-0.69055439  1.41971986  2.1411035  -1.436361  ]\n",
      " [-0.95048715  1.80042386 -0.06471185  0.79497353]]\n"
     ]
    },
    {
     "data": {
      "text/plain": [
       "array([[ 0.90654163, -2.97839199, -0.88106454, -0.35268953],\n",
       "       [ 0.80398287, -1.6517513 , -0.38498706,  0.20633045],\n",
       "       [-0.77756689,  0.26999911,  0.33466749, -0.00324268],\n",
       "       [-0.80024244,  0.20176933, -0.15427392,  0.36866765]])"
      ]
     },
     "execution_count": 8,
     "metadata": {},
     "output_type": "execute_result"
    }
   ],
   "source": [
    "# создание обратимой матрицы\n",
    "P = np.random.normal(size=(4, 4))\n",
    "print(P)\n",
    "\n",
    "np.linalg.inv(P) # проверка обратимости матрицы"
   ]
  },
  {
   "cell_type": "code",
   "execution_count": 10,
   "metadata": {},
   "outputs": [
    {
     "data": {
      "text/html": [
       "<div>\n",
       "<style scoped>\n",
       "    .dataframe tbody tr th:only-of-type {\n",
       "        vertical-align: middle;\n",
       "    }\n",
       "\n",
       "    .dataframe tbody tr th {\n",
       "        vertical-align: top;\n",
       "    }\n",
       "\n",
       "    .dataframe thead th {\n",
       "        text-align: right;\n",
       "    }\n",
       "</style>\n",
       "<table border=\"1\" class=\"dataframe\">\n",
       "  <thead>\n",
       "    <tr style=\"text-align: right;\">\n",
       "      <th></th>\n",
       "      <th>0</th>\n",
       "      <th>1</th>\n",
       "      <th>2</th>\n",
       "      <th>3</th>\n",
       "    </tr>\n",
       "  </thead>\n",
       "  <tbody>\n",
       "    <tr>\n",
       "      <th>0</th>\n",
       "      <td>-34257.743024</td>\n",
       "      <td>70399.728080</td>\n",
       "      <td>106164.249485</td>\n",
       "      <td>-71236.786253</td>\n",
       "    </tr>\n",
       "    <tr>\n",
       "      <th>1</th>\n",
       "      <td>-26247.581637</td>\n",
       "      <td>53928.035703</td>\n",
       "      <td>81323.980997</td>\n",
       "      <td>-54573.640438</td>\n",
       "    </tr>\n",
       "    <tr>\n",
       "      <th>2</th>\n",
       "      <td>-14505.150132</td>\n",
       "      <td>29799.541786</td>\n",
       "      <td>44939.288043</td>\n",
       "      <td>-30158.989789</td>\n",
       "    </tr>\n",
       "    <tr>\n",
       "      <th>3</th>\n",
       "      <td>-28800.559314</td>\n",
       "      <td>59195.364497</td>\n",
       "      <td>89266.590084</td>\n",
       "      <td>-59891.339206</td>\n",
       "    </tr>\n",
       "    <tr>\n",
       "      <th>4</th>\n",
       "      <td>-18027.191823</td>\n",
       "      <td>37041.044692</td>\n",
       "      <td>55859.089262</td>\n",
       "      <td>-37485.155789</td>\n",
       "    </tr>\n",
       "  </tbody>\n",
       "</table>\n",
       "</div>"
      ],
      "text/plain": [
       "              0             1              2             3\n",
       "0 -34257.743024  70399.728080  106164.249485 -71236.786253\n",
       "1 -26247.581637  53928.035703   81323.980997 -54573.640438\n",
       "2 -14505.150132  29799.541786   44939.288043 -30158.989789\n",
       "3 -28800.559314  59195.364497   89266.590084 -59891.339206\n",
       "4 -18027.191823  37041.044692   55859.089262 -37485.155789"
      ]
     },
     "execution_count": 10,
     "metadata": {},
     "output_type": "execute_result"
    }
   ],
   "source": [
    "# получение матрицы преобразованных признаков\n",
    "Z = features @ P\n",
    "Z.head()"
   ]
  },
  {
   "cell_type": "code",
   "execution_count": 11,
   "metadata": {},
   "outputs": [
    {
     "data": {
      "text/plain": [
       "0.42494550286667043"
      ]
     },
     "execution_count": 11,
     "metadata": {},
     "output_type": "execute_result"
    }
   ],
   "source": [
    "# проверка качества линейной регрессии\n",
    "lin_regression(Z, target)"
   ]
  },
  {
   "cell_type": "markdown",
   "metadata": {},
   "source": [
    "Таким образом, качество линейной регрессии не меняется при умножении матрицы признаков на квадратную обратимую матрицу."
   ]
  },
  {
   "cell_type": "code",
   "execution_count": null,
   "metadata": {},
   "outputs": [],
   "source": []
  }
 ],
 "metadata": {
  "ExecuteTimeLog": [
   {
    "duration": 539,
    "start_time": "2022-04-10T16:09:43.447Z"
   },
   {
    "duration": 85,
    "start_time": "2022-04-10T16:11:08.112Z"
   },
   {
    "duration": 23,
    "start_time": "2022-04-10T16:11:43.634Z"
   },
   {
    "duration": 16,
    "start_time": "2022-04-10T16:12:35.758Z"
   },
   {
    "duration": 7,
    "start_time": "2022-04-10T16:31:46.150Z"
   },
   {
    "duration": 7,
    "start_time": "2022-04-10T16:31:56.286Z"
   },
   {
    "duration": 1200,
    "start_time": "2022-04-10T16:54:33.459Z"
   },
   {
    "duration": 5,
    "start_time": "2022-04-10T16:55:55.083Z"
   },
   {
    "duration": 5,
    "start_time": "2022-04-10T18:51:35.282Z"
   },
   {
    "duration": 72,
    "start_time": "2022-04-10T18:52:36.025Z"
   },
   {
    "duration": 4,
    "start_time": "2022-04-10T18:54:44.247Z"
   },
   {
    "duration": 94,
    "start_time": "2022-04-10T18:54:51.112Z"
   },
   {
    "duration": 1140,
    "start_time": "2022-04-12T15:15:40.740Z"
   },
   {
    "duration": 101,
    "start_time": "2022-04-12T15:15:41.882Z"
   },
   {
    "duration": 15,
    "start_time": "2022-04-12T15:15:41.984Z"
   },
   {
    "duration": 11,
    "start_time": "2022-04-12T15:15:42.002Z"
   },
   {
    "duration": 28,
    "start_time": "2022-04-12T15:15:42.014Z"
   },
   {
    "duration": 13,
    "start_time": "2022-04-12T15:15:42.044Z"
   },
   {
    "duration": 149,
    "start_time": "2022-04-12T15:15:42.058Z"
   },
   {
    "duration": 0,
    "start_time": "2022-04-12T15:15:42.208Z"
   },
   {
    "duration": 0,
    "start_time": "2022-04-12T15:15:42.209Z"
   },
   {
    "duration": 0,
    "start_time": "2022-04-12T15:15:42.210Z"
   },
   {
    "duration": 0,
    "start_time": "2022-04-12T15:15:42.210Z"
   },
   {
    "duration": 1087,
    "start_time": "2022-04-12T15:16:01.886Z"
   },
   {
    "duration": 97,
    "start_time": "2022-04-12T15:16:02.974Z"
   },
   {
    "duration": 13,
    "start_time": "2022-04-12T15:16:03.073Z"
   },
   {
    "duration": 10,
    "start_time": "2022-04-12T15:16:03.088Z"
   },
   {
    "duration": 5,
    "start_time": "2022-04-12T15:16:03.099Z"
   },
   {
    "duration": 4,
    "start_time": "2022-04-12T15:16:03.105Z"
   },
   {
    "duration": 15,
    "start_time": "2022-04-12T15:16:03.110Z"
   },
   {
    "duration": 81,
    "start_time": "2022-04-12T15:16:03.127Z"
   },
   {
    "duration": 106,
    "start_time": "2022-04-12T15:16:03.210Z"
   },
   {
    "duration": 89,
    "start_time": "2022-04-12T15:16:03.319Z"
   },
   {
    "duration": 7,
    "start_time": "2022-04-12T15:17:04.418Z"
   },
   {
    "duration": 2,
    "start_time": "2022-04-12T15:25:39.890Z"
   },
   {
    "duration": 4,
    "start_time": "2022-04-12T15:25:46.162Z"
   },
   {
    "duration": 4,
    "start_time": "2022-04-12T15:27:27.422Z"
   },
   {
    "duration": 7,
    "start_time": "2022-04-12T15:28:38.076Z"
   },
   {
    "duration": 11,
    "start_time": "2022-04-12T15:31:15.070Z"
   },
   {
    "duration": 9,
    "start_time": "2022-04-12T15:31:51.116Z"
   },
   {
    "duration": 9,
    "start_time": "2022-04-12T15:32:07.948Z"
   },
   {
    "duration": 1218,
    "start_time": "2022-04-12T15:35:22.552Z"
   },
   {
    "duration": 118,
    "start_time": "2022-04-12T15:35:23.772Z"
   },
   {
    "duration": 14,
    "start_time": "2022-04-12T15:35:23.891Z"
   },
   {
    "duration": 10,
    "start_time": "2022-04-12T15:35:23.907Z"
   },
   {
    "duration": 8,
    "start_time": "2022-04-12T15:35:23.918Z"
   },
   {
    "duration": 4,
    "start_time": "2022-04-12T15:35:23.927Z"
   },
   {
    "duration": 68,
    "start_time": "2022-04-12T15:35:23.933Z"
   },
   {
    "duration": 101,
    "start_time": "2022-04-12T15:35:24.003Z"
   },
   {
    "duration": 10,
    "start_time": "2022-04-12T15:35:24.106Z"
   },
   {
    "duration": 86,
    "start_time": "2022-04-12T15:35:24.117Z"
   },
   {
    "duration": 92,
    "start_time": "2022-04-12T15:43:52.423Z"
   },
   {
    "duration": 6,
    "start_time": "2022-04-12T15:44:00.628Z"
   },
   {
    "duration": 1099,
    "start_time": "2022-04-12T15:57:02.427Z"
   },
   {
    "duration": 108,
    "start_time": "2022-04-12T15:57:03.528Z"
   },
   {
    "duration": 14,
    "start_time": "2022-04-12T15:57:03.638Z"
   },
   {
    "duration": 10,
    "start_time": "2022-04-12T15:57:03.654Z"
   },
   {
    "duration": 5,
    "start_time": "2022-04-12T15:57:03.666Z"
   },
   {
    "duration": 4,
    "start_time": "2022-04-12T15:57:03.673Z"
   },
   {
    "duration": 30,
    "start_time": "2022-04-12T15:57:03.678Z"
   },
   {
    "duration": 8,
    "start_time": "2022-04-12T15:57:03.799Z"
   },
   {
    "duration": 102,
    "start_time": "2022-04-12T15:57:03.809Z"
   },
   {
    "duration": 91,
    "start_time": "2022-04-12T15:57:03.913Z"
   },
   {
    "duration": 1564,
    "start_time": "2022-04-13T18:53:41.535Z"
   },
   {
    "duration": 79,
    "start_time": "2022-04-13T18:53:43.102Z"
   },
   {
    "duration": 23,
    "start_time": "2022-04-13T18:53:43.184Z"
   },
   {
    "duration": 17,
    "start_time": "2022-04-13T18:53:43.210Z"
   },
   {
    "duration": 11,
    "start_time": "2022-04-13T18:53:43.229Z"
   },
   {
    "duration": 10,
    "start_time": "2022-04-13T18:53:43.242Z"
   },
   {
    "duration": 81,
    "start_time": "2022-04-13T18:53:43.255Z"
   },
   {
    "duration": 93,
    "start_time": "2022-04-13T18:53:43.339Z"
   },
   {
    "duration": 99,
    "start_time": "2022-04-13T18:53:43.436Z"
   },
   {
    "duration": 20,
    "start_time": "2022-04-13T18:53:43.540Z"
   },
   {
    "duration": 162,
    "start_time": "2022-04-13T18:53:43.563Z"
   },
   {
    "duration": 13,
    "start_time": "2022-04-13T18:54:12.024Z"
   },
   {
    "duration": 10,
    "start_time": "2022-04-13T18:54:30.470Z"
   },
   {
    "duration": 10,
    "start_time": "2022-04-13T18:55:05.004Z"
   },
   {
    "duration": 10,
    "start_time": "2022-04-13T18:55:25.010Z"
   }
  ],
  "kernelspec": {
   "display_name": "Python 3 (ipykernel)",
   "language": "python",
   "name": "python3"
  },
  "language_info": {
   "codemirror_mode": {
    "name": "ipython",
    "version": 3
   },
   "file_extension": ".py",
   "mimetype": "text/x-python",
   "name": "python",
   "nbconvert_exporter": "python",
   "pygments_lexer": "ipython3",
   "version": "3.9.7"
  },
  "toc": {
   "base_numbering": 1,
   "nav_menu": {},
   "number_sections": true,
   "sideBar": true,
   "skip_h1_title": true,
   "title_cell": "Содержание",
   "title_sidebar": "Contents",
   "toc_cell": true,
   "toc_position": {
    "height": "calc(100% - 180px)",
    "left": "10px",
    "top": "150px",
    "width": "179.6px"
   },
   "toc_section_display": true,
   "toc_window_display": true
  }
 },
 "nbformat": 4,
 "nbformat_minor": 2
}
