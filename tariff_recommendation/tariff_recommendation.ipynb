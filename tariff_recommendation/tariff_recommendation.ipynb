{
 "cells": [
  {
   "cell_type": "markdown",
   "metadata": {},
   "source": [
    "# Рекомендация тарифов"
   ]
  },
  {
   "cell_type": "markdown",
   "metadata": {},
   "source": [
    "## Изучение файла"
   ]
  },
  {
   "cell_type": "code",
   "execution_count": 1,
   "metadata": {},
   "outputs": [],
   "source": [
    "# импорт библиотек\n",
    "import pandas as pd\n",
    "from sklearn.model_selection import train_test_split\n",
    "from sklearn.tree import DecisionTreeClassifier\n",
    "from sklearn.ensemble import RandomForestClassifier\n",
    "from sklearn.linear_model import LogisticRegression\n",
    "from sklearn.metrics import accuracy_score"
   ]
  },
  {
   "cell_type": "code",
   "execution_count": 2,
   "metadata": {},
   "outputs": [],
   "source": [
    "# чтение файла с данными и сохранение в df с использованием конструкции try-except\n",
    "try:\n",
    "    df = pd.read_csv('C:/Users/datasets/users_behavior.csv')  # локальный путь\n",
    "except:\n",
    "    df = pd.read_csv('/datasets/users_behavior.csv')  # серверный путь"
   ]
  },
  {
   "cell_type": "code",
   "execution_count": 3,
   "metadata": {},
   "outputs": [
    {
     "data": {
      "text/html": [
       "<div>\n",
       "<style scoped>\n",
       "    .dataframe tbody tr th:only-of-type {\n",
       "        vertical-align: middle;\n",
       "    }\n",
       "\n",
       "    .dataframe tbody tr th {\n",
       "        vertical-align: top;\n",
       "    }\n",
       "\n",
       "    .dataframe thead th {\n",
       "        text-align: right;\n",
       "    }\n",
       "</style>\n",
       "<table border=\"1\" class=\"dataframe\">\n",
       "  <thead>\n",
       "    <tr style=\"text-align: right;\">\n",
       "      <th></th>\n",
       "      <th>calls</th>\n",
       "      <th>minutes</th>\n",
       "      <th>messages</th>\n",
       "      <th>mb_used</th>\n",
       "      <th>is_ultra</th>\n",
       "    </tr>\n",
       "  </thead>\n",
       "  <tbody>\n",
       "    <tr>\n",
       "      <td>1230</td>\n",
       "      <td>100.0</td>\n",
       "      <td>639.43</td>\n",
       "      <td>42.0</td>\n",
       "      <td>11230.93</td>\n",
       "      <td>0</td>\n",
       "    </tr>\n",
       "    <tr>\n",
       "      <td>2996</td>\n",
       "      <td>67.0</td>\n",
       "      <td>499.29</td>\n",
       "      <td>10.0</td>\n",
       "      <td>23124.48</td>\n",
       "      <td>0</td>\n",
       "    </tr>\n",
       "    <tr>\n",
       "      <td>1737</td>\n",
       "      <td>35.0</td>\n",
       "      <td>222.44</td>\n",
       "      <td>6.0</td>\n",
       "      <td>4659.43</td>\n",
       "      <td>0</td>\n",
       "    </tr>\n",
       "    <tr>\n",
       "      <td>3201</td>\n",
       "      <td>56.0</td>\n",
       "      <td>419.42</td>\n",
       "      <td>59.0</td>\n",
       "      <td>5177.62</td>\n",
       "      <td>1</td>\n",
       "    </tr>\n",
       "    <tr>\n",
       "      <td>1280</td>\n",
       "      <td>3.0</td>\n",
       "      <td>12.70</td>\n",
       "      <td>0.0</td>\n",
       "      <td>492.03</td>\n",
       "      <td>1</td>\n",
       "    </tr>\n",
       "  </tbody>\n",
       "</table>\n",
       "</div>"
      ],
      "text/plain": [
       "      calls  minutes  messages   mb_used  is_ultra\n",
       "1230  100.0   639.43      42.0  11230.93         0\n",
       "2996   67.0   499.29      10.0  23124.48         0\n",
       "1737   35.0   222.44       6.0   4659.43         0\n",
       "3201   56.0   419.42      59.0   5177.62         1\n",
       "1280    3.0    12.70       0.0    492.03         1"
      ]
     },
     "execution_count": 3,
     "metadata": {},
     "output_type": "execute_result"
    }
   ],
   "source": [
    "# получение 5 строк таблицы df\n",
    "df.sample(5)"
   ]
  },
  {
   "cell_type": "code",
   "execution_count": 4,
   "metadata": {},
   "outputs": [
    {
     "name": "stdout",
     "output_type": "stream",
     "text": [
      "<class 'pandas.core.frame.DataFrame'>\n",
      "RangeIndex: 3214 entries, 0 to 3213\n",
      "Data columns (total 5 columns):\n",
      "calls       3214 non-null float64\n",
      "minutes     3214 non-null float64\n",
      "messages    3214 non-null float64\n",
      "mb_used     3214 non-null float64\n",
      "is_ultra    3214 non-null int64\n",
      "dtypes: float64(4), int64(1)\n",
      "memory usage: 125.7 KB\n"
     ]
    }
   ],
   "source": [
    "# получение общей информации о данных в таблице df\n",
    "df.info()"
   ]
  },
  {
   "cell_type": "code",
   "execution_count": 5,
   "metadata": {
    "scrolled": true
   },
   "outputs": [
    {
     "data": {
      "text/html": [
       "<div>\n",
       "<style scoped>\n",
       "    .dataframe tbody tr th:only-of-type {\n",
       "        vertical-align: middle;\n",
       "    }\n",
       "\n",
       "    .dataframe tbody tr th {\n",
       "        vertical-align: top;\n",
       "    }\n",
       "\n",
       "    .dataframe thead th {\n",
       "        text-align: right;\n",
       "    }\n",
       "</style>\n",
       "<table border=\"1\" class=\"dataframe\">\n",
       "  <thead>\n",
       "    <tr style=\"text-align: right;\">\n",
       "      <th></th>\n",
       "      <th>calls</th>\n",
       "      <th>minutes</th>\n",
       "      <th>messages</th>\n",
       "      <th>mb_used</th>\n",
       "      <th>is_ultra</th>\n",
       "    </tr>\n",
       "  </thead>\n",
       "  <tbody>\n",
       "    <tr>\n",
       "      <td>count</td>\n",
       "      <td>3214.000000</td>\n",
       "      <td>3214.000000</td>\n",
       "      <td>3214.000000</td>\n",
       "      <td>3214.000000</td>\n",
       "      <td>3214.000000</td>\n",
       "    </tr>\n",
       "    <tr>\n",
       "      <td>mean</td>\n",
       "      <td>63.038892</td>\n",
       "      <td>438.208787</td>\n",
       "      <td>38.281269</td>\n",
       "      <td>17207.673836</td>\n",
       "      <td>0.306472</td>\n",
       "    </tr>\n",
       "    <tr>\n",
       "      <td>std</td>\n",
       "      <td>33.236368</td>\n",
       "      <td>234.569872</td>\n",
       "      <td>36.148326</td>\n",
       "      <td>7570.968246</td>\n",
       "      <td>0.461100</td>\n",
       "    </tr>\n",
       "    <tr>\n",
       "      <td>min</td>\n",
       "      <td>0.000000</td>\n",
       "      <td>0.000000</td>\n",
       "      <td>0.000000</td>\n",
       "      <td>0.000000</td>\n",
       "      <td>0.000000</td>\n",
       "    </tr>\n",
       "    <tr>\n",
       "      <td>25%</td>\n",
       "      <td>40.000000</td>\n",
       "      <td>274.575000</td>\n",
       "      <td>9.000000</td>\n",
       "      <td>12491.902500</td>\n",
       "      <td>0.000000</td>\n",
       "    </tr>\n",
       "    <tr>\n",
       "      <td>50%</td>\n",
       "      <td>62.000000</td>\n",
       "      <td>430.600000</td>\n",
       "      <td>30.000000</td>\n",
       "      <td>16943.235000</td>\n",
       "      <td>0.000000</td>\n",
       "    </tr>\n",
       "    <tr>\n",
       "      <td>75%</td>\n",
       "      <td>82.000000</td>\n",
       "      <td>571.927500</td>\n",
       "      <td>57.000000</td>\n",
       "      <td>21424.700000</td>\n",
       "      <td>1.000000</td>\n",
       "    </tr>\n",
       "    <tr>\n",
       "      <td>max</td>\n",
       "      <td>244.000000</td>\n",
       "      <td>1632.060000</td>\n",
       "      <td>224.000000</td>\n",
       "      <td>49745.730000</td>\n",
       "      <td>1.000000</td>\n",
       "    </tr>\n",
       "  </tbody>\n",
       "</table>\n",
       "</div>"
      ],
      "text/plain": [
       "             calls      minutes     messages       mb_used     is_ultra\n",
       "count  3214.000000  3214.000000  3214.000000   3214.000000  3214.000000\n",
       "mean     63.038892   438.208787    38.281269  17207.673836     0.306472\n",
       "std      33.236368   234.569872    36.148326   7570.968246     0.461100\n",
       "min       0.000000     0.000000     0.000000      0.000000     0.000000\n",
       "25%      40.000000   274.575000     9.000000  12491.902500     0.000000\n",
       "50%      62.000000   430.600000    30.000000  16943.235000     0.000000\n",
       "75%      82.000000   571.927500    57.000000  21424.700000     1.000000\n",
       "max     244.000000  1632.060000   224.000000  49745.730000     1.000000"
      ]
     },
     "execution_count": 5,
     "metadata": {},
     "output_type": "execute_result"
    }
   ],
   "source": [
    "# получение статистической информации\n",
    "df.describe()"
   ]
  },
  {
   "cell_type": "markdown",
   "metadata": {},
   "source": [
    "Таким образом, таблица состоит из 5 числовых столбцов. В каждой строке таблицы - данные о поведении клиентов. Количество значений в столбцах одинаковое, а значит, в данных нет пропущенных значений. Целевой признак (`is_ultra`) - это категориальная переменная (тариф ультра или нет), то в исследовании решается задача классификации."
   ]
  },
  {
   "cell_type": "markdown",
   "metadata": {},
   "source": [
    "## Разбиение данных на выборки"
   ]
  },
  {
   "cell_type": "code",
   "execution_count": 6,
   "metadata": {},
   "outputs": [],
   "source": [
    "# создание переменных с признакими и целевым признаком\n",
    "features = df.drop('is_ultra', axis=1)\n",
    "target = df['is_ultra']"
   ]
  },
  {
   "cell_type": "code",
   "execution_count": 7,
   "metadata": {},
   "outputs": [],
   "source": [
    "# разделение данных на обучающую, валидационную и тестовую выборки\n",
    "features_train, features_test_val, target_train, target_test_val = (\n",
    "    train_test_split(features, target, test_size=0.4, random_state=12345)) # разделям на обучающую и на проверочную выборки\n",
    "features_valid, features_test, target_valid, target_test = (\n",
    "    train_test_split(features_test_val, target_test_val, test_size=0.5, random_state=12345)) # проверочную делим на валидационную и тестовую"
   ]
  },
  {
   "cell_type": "markdown",
   "metadata": {},
   "source": [
    "Получилось три выборки в соотношении 3:1:1. То есть на обучающую выборку отведено 60%, на валидационную и тестовую по 20%."
   ]
  },
  {
   "cell_type": "code",
   "execution_count": 8,
   "metadata": {},
   "outputs": [
    {
     "name": "stdout",
     "output_type": "stream",
     "text": [
      "(1928, 4)\n",
      "(1928,)\n",
      "(643, 4)\n",
      "(643,)\n",
      "(643, 4)\n",
      "(643,)\n"
     ]
    }
   ],
   "source": [
    "# проверка размеров полученных наборов\n",
    "sets = [features_train, target_train, features_valid, target_valid, features_test, target_test]\n",
    "for elem in sets:\n",
    "    print(elem.shape)"
   ]
  },
  {
   "cell_type": "markdown",
   "metadata": {},
   "source": [
    "## Исследование моделей"
   ]
  },
  {
   "cell_type": "markdown",
   "metadata": {},
   "source": [
    "Так как мы имеем дело с задачей классификации, будем использовать три модели: решающее дерево, случайный лес и логистическая регрессия. "
   ]
  },
  {
   "cell_type": "code",
   "execution_count": 9,
   "metadata": {},
   "outputs": [
    {
     "name": "stdout",
     "output_type": "stream",
     "text": [
      "Accuracy наилучшей модели на валидационной выборке: 0.7853810264385692 , max_depth = 3\n"
     ]
    }
   ],
   "source": [
    "# модель DecisionTreeClassifier\n",
    "best_model = None\n",
    "best_result = 0\n",
    "best_depth = 0\n",
    "for depth in range(1,6): # создаем цикл для перебора гиперпараметров\n",
    "    model = DecisionTreeClassifier(random_state=12345, max_depth=depth) \n",
    "    model.fit(features_train, target_train) # обучаем модель на тренировочной выборке\n",
    "    predictions = model.predict(features_valid) # получаем предсказания модели на валидационной выборке\n",
    "    result = accuracy_score(target_valid, predictions) # рассчитываем качество модели\n",
    "    if result > best_result:\n",
    "        best_model = model\n",
    "        best_result = result\n",
    "        best_depth = depth\n",
    "print('Accuracy наилучшей модели на валидационной выборке:', best_result, ',', 'max_depth =', best_depth)"
   ]
  },
  {
   "cell_type": "code",
   "execution_count": 10,
   "metadata": {},
   "outputs": [
    {
     "name": "stdout",
     "output_type": "stream",
     "text": [
      "Accuracy наилучшей модели на валидационной выборке: 0.7931570762052877 , n_estimators = 8 , max_depth = 5\n"
     ]
    }
   ],
   "source": [
    "# модель RandomForestClassifier\n",
    "best_model = None\n",
    "best_result = 0\n",
    "best_depth = 0\n",
    "best_est = 0\n",
    "for est in range(1,11): \n",
    "    for depth in range(1,6):\n",
    "        model = RandomForestClassifier(random_state=12345, n_estimators=est,  max_depth=depth) \n",
    "        model.fit(features_train, target_train) \n",
    "        predictions = model.predict(features_valid)\n",
    "        result = accuracy_score(target_valid, predictions)  \n",
    "        if result > best_result:\n",
    "            best_model = model\n",
    "            best_result = result\n",
    "            best_est = est\n",
    "            best_depth = depth\n",
    "print('Accuracy наилучшей модели на валидационной выборке:', best_result, ',', 'n_estimators =', best_est, ',', 'max_depth =', best_depth)"
   ]
  },
  {
   "cell_type": "code",
   "execution_count": 11,
   "metadata": {
    "scrolled": true
   },
   "outputs": [
    {
     "name": "stdout",
     "output_type": "stream",
     "text": [
      "Accuracy модели логистической регрессии на валидационной выборке: 0.7589424572317263\n"
     ]
    },
    {
     "name": "stderr",
     "output_type": "stream",
     "text": [
      "/opt/conda/lib/python3.7/site-packages/sklearn/linear_model/logistic.py:432: FutureWarning: Default solver will be changed to 'lbfgs' in 0.22. Specify a solver to silence this warning.\n",
      "  FutureWarning)\n"
     ]
    }
   ],
   "source": [
    "# модель LogisticRegression\n",
    "model = LogisticRegression(random_state=12345)\n",
    "model.fit(features_train, target_train)\n",
    "result = model.score(features_valid, target_valid)\n",
    "print('Accuracy модели логистической регрессии на валидационной выборке:', result)"
   ]
  },
  {
   "cell_type": "markdown",
   "metadata": {},
   "source": [
    "Модель RandomForestClassifier показала лучшее значение accuracy - 0.7931 при этом глубина дерева равна 5, а количество деревьев - 8. Чуть хуже оказалось значение accuracy у DecisionTreeClassifier (0.7854) при глубине дерева равное 3. И наименьшее значение accuracy равное 0.7589 у модели LogisticRegression."
   ]
  },
  {
   "cell_type": "markdown",
   "metadata": {},
   "source": [
    "## Проверка модели на тестовой выборке"
   ]
  },
  {
   "cell_type": "code",
   "execution_count": 12,
   "metadata": {},
   "outputs": [
    {
     "data": {
      "text/plain": [
       "0.7962674961119751"
      ]
     },
     "execution_count": 12,
     "metadata": {},
     "output_type": "execute_result"
    }
   ],
   "source": [
    "# проверка качества RandomForestClassifier на тестовой выборке\n",
    "model = RandomForestClassifier(random_state=12345, n_estimators=8,  max_depth=5)\n",
    "model.fit(features_train, target_train) # обучаем модель на тренировочной выборке\n",
    "predictions_test = model.predict(features_test) # получаем предсказания модели на тестовой выборке\n",
    "accuracy_score(target_test, predictions_test)"
   ]
  },
  {
   "cell_type": "code",
   "execution_count": 13,
   "metadata": {},
   "outputs": [
    {
     "data": {
      "text/plain": [
       "0.7791601866251944"
      ]
     },
     "execution_count": 13,
     "metadata": {},
     "output_type": "execute_result"
    }
   ],
   "source": [
    "# проверка качества DecisionTreeClassifier на тестовой выборке\n",
    "model = DecisionTreeClassifier(random_state=12345, max_depth=3)\n",
    "model.fit(features_train, target_train)\n",
    "predictions_test = model.predict(features_test)\n",
    "accuracy_score(target_test, predictions_test)"
   ]
  },
  {
   "cell_type": "code",
   "execution_count": 14,
   "metadata": {
    "scrolled": true
   },
   "outputs": [
    {
     "name": "stderr",
     "output_type": "stream",
     "text": [
      "/opt/conda/lib/python3.7/site-packages/sklearn/linear_model/logistic.py:432: FutureWarning: Default solver will be changed to 'lbfgs' in 0.22. Specify a solver to silence this warning.\n",
      "  FutureWarning)\n"
     ]
    },
    {
     "data": {
      "text/plain": [
       "0.7402799377916018"
      ]
     },
     "execution_count": 14,
     "metadata": {},
     "output_type": "execute_result"
    }
   ],
   "source": [
    "# проверка качества LogisticRegression на тестовой выборке\n",
    "model = LogisticRegression(random_state=12345)\n",
    "model.fit(features_train, target_train)\n",
    "predictions_test = model.predict(features_test)\n",
    "accuracy_score(target_test, predictions_test)"
   ]
  },
  {
   "cell_type": "markdown",
   "metadata": {},
   "source": [
    "Проверив качество моделей на тестовой выборке, мы видим, что для модели RandomForestClassifier результат оказался даже немного выше (0.7963), для остальных же моделей результат получился немного хуже, чем при проверке на валидацонной выборке."
   ]
  },
  {
   "cell_type": "markdown",
   "metadata": {},
   "source": [
    "**Вывод**\n",
    "\n",
    "Была построена модель для задачи классификации, которая выберет подходящий тариф. Для обучения и оценки качества мы разделили данные на обучающую, валидационную и тестовую выборки. Построив три модели (решающее дерево, случайный лес и логистическая регрессия), была выбрана модель случайного леса (RandomForestClassifier), которая показала лучшее значение accuracy - 0.7931. При проверке качества данной модели на тестовой выборке результат оказался чуть выше (0.7963). "
   ]
  }
 ],
 "metadata": {
  "ExecuteTimeLog": [
   {
    "duration": 545,
    "start_time": "2022-02-09T18:41:07.760Z"
   },
   {
    "duration": 149,
    "start_time": "2022-02-09T18:41:08.861Z"
   },
   {
    "duration": 17,
    "start_time": "2022-02-09T18:41:25.236Z"
   },
   {
    "duration": 7,
    "start_time": "2022-02-09T18:41:53.243Z"
   },
   {
    "duration": 22,
    "start_time": "2022-02-09T18:42:27.292Z"
   },
   {
    "duration": 273,
    "start_time": "2022-02-09T18:59:19.634Z"
   },
   {
    "duration": 430,
    "start_time": "2022-02-09T18:59:24.402Z"
   },
   {
    "duration": 243,
    "start_time": "2022-02-09T18:59:30.326Z"
   },
   {
    "duration": 352,
    "start_time": "2022-02-09T19:04:35.181Z"
   },
   {
    "duration": 278,
    "start_time": "2022-02-09T19:05:46.898Z"
   },
   {
    "duration": 1253,
    "start_time": "2022-02-10T09:15:45.101Z"
   },
   {
    "duration": 222,
    "start_time": "2022-02-10T09:15:46.356Z"
   },
   {
    "duration": 24,
    "start_time": "2022-02-10T09:15:46.582Z"
   },
   {
    "duration": 8,
    "start_time": "2022-02-10T09:15:46.609Z"
   },
   {
    "duration": 42,
    "start_time": "2022-02-10T09:15:46.620Z"
   },
   {
    "duration": 452,
    "start_time": "2022-02-10T09:15:46.665Z"
   },
   {
    "duration": 140,
    "start_time": "2022-02-10T09:18:12.248Z"
   },
   {
    "duration": 5,
    "start_time": "2022-02-10T09:19:11.312Z"
   },
   {
    "duration": 366,
    "start_time": "2022-02-10T09:19:27.736Z"
   },
   {
    "duration": 881,
    "start_time": "2022-02-10T09:20:12.848Z"
   },
   {
    "duration": 359,
    "start_time": "2022-02-10T09:21:37.598Z"
   },
   {
    "duration": 305,
    "start_time": "2022-02-10T09:22:27.046Z"
   },
   {
    "duration": 7,
    "start_time": "2022-02-10T09:25:11.222Z"
   },
   {
    "duration": 8,
    "start_time": "2022-02-10T09:26:33.254Z"
   },
   {
    "duration": 368,
    "start_time": "2022-02-10T09:26:45.310Z"
   },
   {
    "duration": 7,
    "start_time": "2022-02-10T09:27:21.388Z"
   },
   {
    "duration": 328,
    "start_time": "2022-02-10T09:27:22.732Z"
   },
   {
    "duration": 7,
    "start_time": "2022-02-10T09:27:30.540Z"
   },
   {
    "duration": 6,
    "start_time": "2022-02-10T09:27:31.524Z"
   },
   {
    "duration": 7,
    "start_time": "2022-02-10T09:28:03.772Z"
   },
   {
    "duration": 362,
    "start_time": "2022-02-10T09:28:04.244Z"
   },
   {
    "duration": 8,
    "start_time": "2022-02-10T09:33:15.158Z"
   },
   {
    "duration": 6,
    "start_time": "2022-02-10T09:33:15.715Z"
   },
   {
    "duration": 7,
    "start_time": "2022-02-10T09:33:41.514Z"
   },
   {
    "duration": 7,
    "start_time": "2022-02-10T09:33:59.715Z"
   },
   {
    "duration": 16,
    "start_time": "2022-02-10T09:34:14.250Z"
   },
   {
    "duration": 6,
    "start_time": "2022-02-10T09:35:46.130Z"
   },
   {
    "duration": 7,
    "start_time": "2022-02-10T09:35:58.304Z"
   },
   {
    "duration": 7,
    "start_time": "2022-02-10T09:36:32.368Z"
   },
   {
    "duration": 349,
    "start_time": "2022-02-10T09:36:32.850Z"
   },
   {
    "duration": 7,
    "start_time": "2022-02-10T09:36:58.258Z"
   },
   {
    "duration": 419,
    "start_time": "2022-02-10T09:36:59.432Z"
   },
   {
    "duration": 7,
    "start_time": "2022-02-10T09:37:12.664Z"
   },
   {
    "duration": 330,
    "start_time": "2022-02-10T09:37:13.280Z"
   },
   {
    "duration": 7,
    "start_time": "2022-02-10T09:42:48.790Z"
   },
   {
    "duration": 517,
    "start_time": "2022-02-10T09:43:07.030Z"
   },
   {
    "duration": 7,
    "start_time": "2022-02-10T09:43:53.326Z"
   },
   {
    "duration": 8,
    "start_time": "2022-02-10T09:44:08.934Z"
   },
   {
    "duration": 329,
    "start_time": "2022-02-10T09:44:09.518Z"
   },
   {
    "duration": 8,
    "start_time": "2022-02-10T10:01:44.000Z"
   },
   {
    "duration": 331,
    "start_time": "2022-02-10T10:01:44.558Z"
   },
   {
    "duration": 384,
    "start_time": "2022-02-10T10:02:26.537Z"
   },
   {
    "duration": 372,
    "start_time": "2022-02-10T10:05:31.064Z"
   },
   {
    "duration": 523,
    "start_time": "2022-02-10T10:05:55.758Z"
   },
   {
    "duration": 9,
    "start_time": "2022-02-10T10:06:12.063Z"
   },
   {
    "duration": 6,
    "start_time": "2022-02-10T10:06:34.373Z"
   },
   {
    "duration": 15,
    "start_time": "2022-02-10T10:06:35.462Z"
   },
   {
    "duration": 6,
    "start_time": "2022-02-10T10:06:43.518Z"
   },
   {
    "duration": 141,
    "start_time": "2022-02-10T12:25:04.458Z"
   },
   {
    "duration": 10,
    "start_time": "2022-02-10T12:25:19.794Z"
   },
   {
    "duration": 541,
    "start_time": "2022-02-10T12:58:43.926Z"
   },
   {
    "duration": 5,
    "start_time": "2022-02-10T12:59:11.725Z"
   },
   {
    "duration": 4,
    "start_time": "2022-02-10T13:09:15.854Z"
   },
   {
    "duration": 319,
    "start_time": "2022-02-10T13:09:21.193Z"
   },
   {
    "duration": 443,
    "start_time": "2022-02-10T13:11:17.154Z"
   },
   {
    "duration": 42,
    "start_time": "2022-02-10T13:11:29.041Z"
   },
   {
    "duration": 40,
    "start_time": "2022-02-10T13:11:44.669Z"
   },
   {
    "duration": 89,
    "start_time": "2022-02-10T13:11:53.018Z"
   },
   {
    "duration": 38,
    "start_time": "2022-02-10T13:12:01.778Z"
   },
   {
    "duration": 16,
    "start_time": "2022-02-10T13:12:53.376Z"
   },
   {
    "duration": 14,
    "start_time": "2022-02-10T13:12:58.537Z"
   },
   {
    "duration": 15,
    "start_time": "2022-02-10T13:13:01.888Z"
   },
   {
    "duration": 14,
    "start_time": "2022-02-10T13:13:07.138Z"
   },
   {
    "duration": 11,
    "start_time": "2022-02-10T13:13:24.912Z"
   },
   {
    "duration": 14,
    "start_time": "2022-02-10T13:13:30.098Z"
   },
   {
    "duration": 13,
    "start_time": "2022-02-10T13:13:33.784Z"
   },
   {
    "duration": 18,
    "start_time": "2022-02-10T13:13:37.564Z"
   },
   {
    "duration": 19,
    "start_time": "2022-02-10T13:13:40.865Z"
   },
   {
    "duration": 14,
    "start_time": "2022-02-10T13:13:44.440Z"
   },
   {
    "duration": 44,
    "start_time": "2022-02-10T13:20:23.743Z"
   },
   {
    "duration": 374,
    "start_time": "2022-02-10T13:22:39.172Z"
   },
   {
    "duration": 754,
    "start_time": "2022-02-10T13:22:47.997Z"
   },
   {
    "duration": 1326,
    "start_time": "2022-02-10T13:22:56.877Z"
   },
   {
    "duration": 1326,
    "start_time": "2022-02-10T13:23:12.700Z"
   },
   {
    "duration": 3147,
    "start_time": "2022-02-10T13:23:27.175Z"
   },
   {
    "duration": 347,
    "start_time": "2022-02-10T13:23:36.951Z"
   },
   {
    "duration": 2337,
    "start_time": "2022-02-10T13:27:41.324Z"
   },
   {
    "duration": 1048,
    "start_time": "2022-02-10T13:27:48.940Z"
   },
   {
    "duration": 17,
    "start_time": "2022-02-10T13:28:38.043Z"
   },
   {
    "duration": 16,
    "start_time": "2022-02-10T13:28:42.179Z"
   },
   {
    "duration": 17,
    "start_time": "2022-02-10T13:28:46.283Z"
   },
   {
    "duration": 18,
    "start_time": "2022-02-10T13:28:49.715Z"
   },
   {
    "duration": 21,
    "start_time": "2022-02-10T13:29:03.939Z"
   },
   {
    "duration": 22,
    "start_time": "2022-02-10T13:29:15.228Z"
   },
   {
    "duration": 36,
    "start_time": "2022-02-10T13:30:07.467Z"
   },
   {
    "duration": 46,
    "start_time": "2022-02-10T13:30:12.745Z"
   },
   {
    "duration": 25,
    "start_time": "2022-02-10T13:30:23.393Z"
   },
   {
    "duration": 16,
    "start_time": "2022-02-10T13:30:28.323Z"
   },
   {
    "duration": 66,
    "start_time": "2022-02-10T13:31:07.850Z"
   },
   {
    "duration": 22,
    "start_time": "2022-02-10T13:33:44.481Z"
   },
   {
    "duration": 26,
    "start_time": "2022-02-10T13:33:48.522Z"
   },
   {
    "duration": 66,
    "start_time": "2022-02-10T13:33:51.563Z"
   },
   {
    "duration": 548,
    "start_time": "2022-02-10T13:33:55.697Z"
   },
   {
    "duration": 277,
    "start_time": "2022-02-10T13:34:05.762Z"
   },
   {
    "duration": 124,
    "start_time": "2022-02-10T13:34:22.545Z"
   },
   {
    "duration": 27,
    "start_time": "2022-02-10T13:36:36.599Z"
   },
   {
    "duration": 26,
    "start_time": "2022-02-10T13:36:43.472Z"
   },
   {
    "duration": 537,
    "start_time": "2022-02-10T13:46:26.629Z"
   },
   {
    "duration": 445,
    "start_time": "2022-02-10T13:48:44.237Z"
   },
   {
    "duration": 10,
    "start_time": "2022-02-10T13:49:10.370Z"
   },
   {
    "duration": 15,
    "start_time": "2022-02-10T13:49:22.619Z"
   },
   {
    "duration": 15,
    "start_time": "2022-02-10T13:49:46.907Z"
   },
   {
    "duration": 12,
    "start_time": "2022-02-10T13:50:13.731Z"
   },
   {
    "duration": 476,
    "start_time": "2022-02-10T13:50:18.292Z"
   },
   {
    "duration": 16,
    "start_time": "2022-02-10T13:50:32.174Z"
   },
   {
    "duration": 15,
    "start_time": "2022-02-10T13:50:34.783Z"
   },
   {
    "duration": 16,
    "start_time": "2022-02-10T13:50:37.315Z"
   },
   {
    "duration": 468,
    "start_time": "2022-02-10T13:51:04.547Z"
   },
   {
    "duration": 365,
    "start_time": "2022-02-10T13:51:11.275Z"
   },
   {
    "duration": 340,
    "start_time": "2022-02-10T13:51:49.915Z"
   },
   {
    "duration": 7,
    "start_time": "2022-02-10T13:52:04.456Z"
   },
   {
    "duration": 7,
    "start_time": "2022-02-10T13:52:20.369Z"
   },
   {
    "duration": 6,
    "start_time": "2022-02-10T13:54:39.553Z"
   },
   {
    "duration": 8,
    "start_time": "2022-02-10T14:02:49.429Z"
   },
   {
    "duration": 7,
    "start_time": "2022-02-10T14:03:06.118Z"
   },
   {
    "duration": 384,
    "start_time": "2022-02-10T14:03:33.823Z"
   },
   {
    "duration": 375,
    "start_time": "2022-02-10T14:06:33.447Z"
   },
   {
    "duration": 6,
    "start_time": "2022-02-10T14:14:17.457Z"
   },
   {
    "duration": 6,
    "start_time": "2022-02-10T14:14:23.345Z"
   },
   {
    "duration": 6,
    "start_time": "2022-02-10T14:14:33.673Z"
   },
   {
    "duration": 366,
    "start_time": "2022-02-10T14:16:05.762Z"
   },
   {
    "duration": 358,
    "start_time": "2022-02-10T14:17:30.960Z"
   },
   {
    "duration": 38,
    "start_time": "2022-02-10T14:18:31.416Z"
   },
   {
    "duration": 367,
    "start_time": "2022-02-10T16:58:49.603Z"
   },
   {
    "duration": 476,
    "start_time": "2022-02-10T16:59:29.651Z"
   },
   {
    "duration": 434,
    "start_time": "2022-02-10T16:59:47.995Z"
   },
   {
    "duration": 139,
    "start_time": "2022-02-10T17:00:11.387Z"
   },
   {
    "duration": 890,
    "start_time": "2022-02-10T17:01:18.065Z"
   },
   {
    "duration": 427,
    "start_time": "2022-02-10T17:01:46.251Z"
   },
   {
    "duration": 34,
    "start_time": "2022-02-10T17:01:56.027Z"
   },
   {
    "duration": 322,
    "start_time": "2022-02-10T17:03:09.507Z"
   },
   {
    "duration": 11,
    "start_time": "2022-02-10T17:04:49.882Z"
   },
   {
    "duration": 14,
    "start_time": "2022-02-10T17:05:06.209Z"
   },
   {
    "duration": 13,
    "start_time": "2022-02-10T17:06:44.848Z"
   },
   {
    "duration": 47,
    "start_time": "2022-02-10T17:07:36.176Z"
   },
   {
    "duration": 26,
    "start_time": "2022-02-10T17:08:20.239Z"
   },
   {
    "duration": 34,
    "start_time": "2022-02-10T17:14:16.646Z"
   },
   {
    "duration": 916,
    "start_time": "2022-02-10T17:15:10.397Z"
   },
   {
    "duration": 128,
    "start_time": "2022-02-10T17:15:38.756Z"
   },
   {
    "duration": 26,
    "start_time": "2022-02-10T17:15:54.166Z"
   },
   {
    "duration": 14,
    "start_time": "2022-02-10T18:12:05.805Z"
   },
   {
    "duration": 435,
    "start_time": "2022-02-10T18:53:16.182Z"
   },
   {
    "duration": 1354,
    "start_time": "2022-02-10T19:12:33.331Z"
   },
   {
    "duration": 224,
    "start_time": "2022-02-10T19:12:34.688Z"
   },
   {
    "duration": 25,
    "start_time": "2022-02-10T19:12:34.914Z"
   },
   {
    "duration": 9,
    "start_time": "2022-02-10T19:12:34.941Z"
   },
   {
    "duration": 37,
    "start_time": "2022-02-10T19:12:34.953Z"
   },
   {
    "duration": 6,
    "start_time": "2022-02-10T19:12:34.992Z"
   },
   {
    "duration": 9,
    "start_time": "2022-02-10T19:12:35.000Z"
   },
   {
    "duration": 59,
    "start_time": "2022-02-10T19:12:35.012Z"
   },
   {
    "duration": 919,
    "start_time": "2022-02-10T19:12:35.075Z"
   },
   {
    "duration": 26,
    "start_time": "2022-02-10T19:12:35.997Z"
   },
   {
    "duration": 61,
    "start_time": "2022-02-10T19:12:36.026Z"
   },
   {
    "duration": 13,
    "start_time": "2022-02-10T19:12:36.089Z"
   },
   {
    "duration": 26,
    "start_time": "2022-02-10T19:12:36.105Z"
   },
   {
    "duration": 252,
    "start_time": "2022-02-11T08:01:27.277Z"
   },
   {
    "duration": 1206,
    "start_time": "2022-02-11T08:01:39.179Z"
   },
   {
    "duration": 150,
    "start_time": "2022-02-11T08:01:40.387Z"
   },
   {
    "duration": 18,
    "start_time": "2022-02-11T08:01:40.540Z"
   },
   {
    "duration": 8,
    "start_time": "2022-02-11T08:01:40.560Z"
   },
   {
    "duration": 26,
    "start_time": "2022-02-11T08:01:40.570Z"
   },
   {
    "duration": 4,
    "start_time": "2022-02-11T08:01:40.598Z"
   },
   {
    "duration": 23,
    "start_time": "2022-02-11T08:01:40.607Z"
   },
   {
    "duration": 6,
    "start_time": "2022-02-11T08:01:40.632Z"
   },
   {
    "duration": 33,
    "start_time": "2022-02-11T08:01:40.641Z"
   },
   {
    "duration": 708,
    "start_time": "2022-02-11T08:01:40.676Z"
   },
   {
    "duration": 24,
    "start_time": "2022-02-11T08:01:41.386Z"
   },
   {
    "duration": 33,
    "start_time": "2022-02-11T08:01:41.413Z"
   },
   {
    "duration": 11,
    "start_time": "2022-02-11T08:01:41.448Z"
   },
   {
    "duration": 17,
    "start_time": "2022-02-11T08:01:41.461Z"
   },
   {
    "duration": 3,
    "start_time": "2022-02-11T08:03:36.127Z"
   },
   {
    "duration": 4,
    "start_time": "2022-02-11T08:03:48.573Z"
   },
   {
    "duration": 69,
    "start_time": "2022-02-11T08:08:54.438Z"
   },
   {
    "duration": 4,
    "start_time": "2022-02-11T08:09:00.243Z"
   },
   {
    "duration": 1198,
    "start_time": "2022-02-11T08:27:58.475Z"
   },
   {
    "duration": 143,
    "start_time": "2022-02-11T08:27:59.675Z"
   },
   {
    "duration": 17,
    "start_time": "2022-02-11T08:27:59.823Z"
   },
   {
    "duration": 7,
    "start_time": "2022-02-11T08:27:59.843Z"
   },
   {
    "duration": 32,
    "start_time": "2022-02-11T08:27:59.852Z"
   },
   {
    "duration": 21,
    "start_time": "2022-02-11T08:27:59.886Z"
   },
   {
    "duration": 8,
    "start_time": "2022-02-11T08:27:59.910Z"
   },
   {
    "duration": 6,
    "start_time": "2022-02-11T08:27:59.920Z"
   },
   {
    "duration": 30,
    "start_time": "2022-02-11T08:27:59.927Z"
   },
   {
    "duration": 715,
    "start_time": "2022-02-11T08:27:59.959Z"
   },
   {
    "duration": 17,
    "start_time": "2022-02-11T08:28:00.676Z"
   },
   {
    "duration": 41,
    "start_time": "2022-02-11T08:28:00.695Z"
   },
   {
    "duration": 10,
    "start_time": "2022-02-11T08:28:00.738Z"
   },
   {
    "duration": 34,
    "start_time": "2022-02-11T08:28:00.750Z"
   }
  ],
  "kernelspec": {
   "display_name": "Python 3 (ipykernel)",
   "language": "python",
   "name": "python3"
  },
  "language_info": {
   "codemirror_mode": {
    "name": "ipython",
    "version": 3
   },
   "file_extension": ".py",
   "mimetype": "text/x-python",
   "name": "python",
   "nbconvert_exporter": "python",
   "pygments_lexer": "ipython3",
   "version": "3.9.7"
  },
  "toc": {
   "base_numbering": 1,
   "nav_menu": {},
   "number_sections": true,
   "sideBar": true,
   "skip_h1_title": true,
   "title_cell": "Table of Contents",
   "title_sidebar": "Contents",
   "toc_cell": false,
   "toc_position": {},
   "toc_section_display": true,
   "toc_window_display": false
  }
 },
 "nbformat": 4,
 "nbformat_minor": 2
}
