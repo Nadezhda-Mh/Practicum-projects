{
 "cells": [
  {
   "cell_type": "markdown",
   "metadata": {},
   "source": [
    "# Исследование объявлений о продаже квартир"
   ]
  },
  {
   "cell_type": "markdown",
   "metadata": {},
   "source": [
    "## Изучение данных из файла"
   ]
  },
  {
   "cell_type": "code",
   "execution_count": 1,
   "metadata": {},
   "outputs": [],
   "source": [
    "# импорт библиотек\n",
    "import pandas as pd\n",
    "import matplotlib.pyplot as plt \n",
    "import seaborn"
   ]
  },
  {
   "cell_type": "code",
   "execution_count": 2,
   "metadata": {},
   "outputs": [],
   "source": [
    "# чтение файла с данными и сохранение в df с использованием конструкции try-except\n",
    "try:\n",
    "    df = pd.read_csv('C:/Users/datasets/real_estate_data.csv', sep='\\t')  # локальный путь\n",
    "except:\n",
    "    df = pd.read_csv('/datasets/real_estate_data.csv', sep='\\t')  # серверный путь"
   ]
  },
  {
   "cell_type": "code",
   "execution_count": 3,
   "metadata": {},
   "outputs": [
    {
     "data": {
      "text/html": [
       "<div>\n",
       "<style scoped>\n",
       "    .dataframe tbody tr th:only-of-type {\n",
       "        vertical-align: middle;\n",
       "    }\n",
       "\n",
       "    .dataframe tbody tr th {\n",
       "        vertical-align: top;\n",
       "    }\n",
       "\n",
       "    .dataframe thead th {\n",
       "        text-align: right;\n",
       "    }\n",
       "</style>\n",
       "<table border=\"1\" class=\"dataframe\">\n",
       "  <thead>\n",
       "    <tr style=\"text-align: right;\">\n",
       "      <th></th>\n",
       "      <th>total_images</th>\n",
       "      <th>last_price</th>\n",
       "      <th>total_area</th>\n",
       "      <th>first_day_exposition</th>\n",
       "      <th>rooms</th>\n",
       "      <th>ceiling_height</th>\n",
       "      <th>floors_total</th>\n",
       "      <th>living_area</th>\n",
       "      <th>floor</th>\n",
       "      <th>is_apartment</th>\n",
       "      <th>...</th>\n",
       "      <th>kitchen_area</th>\n",
       "      <th>balcony</th>\n",
       "      <th>locality_name</th>\n",
       "      <th>airports_nearest</th>\n",
       "      <th>cityCenters_nearest</th>\n",
       "      <th>parks_around3000</th>\n",
       "      <th>parks_nearest</th>\n",
       "      <th>ponds_around3000</th>\n",
       "      <th>ponds_nearest</th>\n",
       "      <th>days_exposition</th>\n",
       "    </tr>\n",
       "  </thead>\n",
       "  <tbody>\n",
       "    <tr>\n",
       "      <td>3700</td>\n",
       "      <td>11</td>\n",
       "      <td>5280000.0</td>\n",
       "      <td>43.0</td>\n",
       "      <td>2017-01-26T00:00:00</td>\n",
       "      <td>1</td>\n",
       "      <td>NaN</td>\n",
       "      <td>17.0</td>\n",
       "      <td>20.0</td>\n",
       "      <td>6</td>\n",
       "      <td>False</td>\n",
       "      <td>...</td>\n",
       "      <td>11.0</td>\n",
       "      <td>1.0</td>\n",
       "      <td>Сестрорецк</td>\n",
       "      <td>56343.0</td>\n",
       "      <td>33272.0</td>\n",
       "      <td>0.0</td>\n",
       "      <td>NaN</td>\n",
       "      <td>1.0</td>\n",
       "      <td>545.0</td>\n",
       "      <td>103.0</td>\n",
       "    </tr>\n",
       "    <tr>\n",
       "      <td>22143</td>\n",
       "      <td>0</td>\n",
       "      <td>4300000.0</td>\n",
       "      <td>42.0</td>\n",
       "      <td>2016-05-19T00:00:00</td>\n",
       "      <td>1</td>\n",
       "      <td>NaN</td>\n",
       "      <td>12.0</td>\n",
       "      <td>NaN</td>\n",
       "      <td>3</td>\n",
       "      <td>NaN</td>\n",
       "      <td>...</td>\n",
       "      <td>NaN</td>\n",
       "      <td>0.0</td>\n",
       "      <td>Санкт-Петербург</td>\n",
       "      <td>40793.0</td>\n",
       "      <td>10976.0</td>\n",
       "      <td>3.0</td>\n",
       "      <td>371.0</td>\n",
       "      <td>0.0</td>\n",
       "      <td>NaN</td>\n",
       "      <td>284.0</td>\n",
       "    </tr>\n",
       "    <tr>\n",
       "      <td>16485</td>\n",
       "      <td>11</td>\n",
       "      <td>5300000.0</td>\n",
       "      <td>45.0</td>\n",
       "      <td>2017-10-22T00:00:00</td>\n",
       "      <td>1</td>\n",
       "      <td>2.60</td>\n",
       "      <td>17.0</td>\n",
       "      <td>20.0</td>\n",
       "      <td>14</td>\n",
       "      <td>NaN</td>\n",
       "      <td>...</td>\n",
       "      <td>11.0</td>\n",
       "      <td>NaN</td>\n",
       "      <td>Санкт-Петербург</td>\n",
       "      <td>34273.0</td>\n",
       "      <td>15372.0</td>\n",
       "      <td>1.0</td>\n",
       "      <td>518.0</td>\n",
       "      <td>3.0</td>\n",
       "      <td>491.0</td>\n",
       "      <td>138.0</td>\n",
       "    </tr>\n",
       "    <tr>\n",
       "      <td>1278</td>\n",
       "      <td>18</td>\n",
       "      <td>2390000.0</td>\n",
       "      <td>34.2</td>\n",
       "      <td>2016-09-23T00:00:00</td>\n",
       "      <td>1</td>\n",
       "      <td>NaN</td>\n",
       "      <td>5.0</td>\n",
       "      <td>15.5</td>\n",
       "      <td>4</td>\n",
       "      <td>NaN</td>\n",
       "      <td>...</td>\n",
       "      <td>8.1</td>\n",
       "      <td>NaN</td>\n",
       "      <td>Всеволожск</td>\n",
       "      <td>NaN</td>\n",
       "      <td>NaN</td>\n",
       "      <td>NaN</td>\n",
       "      <td>NaN</td>\n",
       "      <td>NaN</td>\n",
       "      <td>NaN</td>\n",
       "      <td>722.0</td>\n",
       "    </tr>\n",
       "    <tr>\n",
       "      <td>9609</td>\n",
       "      <td>8</td>\n",
       "      <td>4000000.0</td>\n",
       "      <td>43.4</td>\n",
       "      <td>2018-01-21T00:00:00</td>\n",
       "      <td>2</td>\n",
       "      <td>2.50</td>\n",
       "      <td>5.0</td>\n",
       "      <td>NaN</td>\n",
       "      <td>4</td>\n",
       "      <td>NaN</td>\n",
       "      <td>...</td>\n",
       "      <td>NaN</td>\n",
       "      <td>NaN</td>\n",
       "      <td>Санкт-Петербург</td>\n",
       "      <td>20539.0</td>\n",
       "      <td>5191.0</td>\n",
       "      <td>1.0</td>\n",
       "      <td>1299.0</td>\n",
       "      <td>3.0</td>\n",
       "      <td>407.0</td>\n",
       "      <td>45.0</td>\n",
       "    </tr>\n",
       "    <tr>\n",
       "      <td>16289</td>\n",
       "      <td>13</td>\n",
       "      <td>4000000.0</td>\n",
       "      <td>52.0</td>\n",
       "      <td>2016-06-03T00:00:00</td>\n",
       "      <td>2</td>\n",
       "      <td>2.83</td>\n",
       "      <td>5.0</td>\n",
       "      <td>30.0</td>\n",
       "      <td>4</td>\n",
       "      <td>NaN</td>\n",
       "      <td>...</td>\n",
       "      <td>9.2</td>\n",
       "      <td>NaN</td>\n",
       "      <td>Петергоф</td>\n",
       "      <td>36606.0</td>\n",
       "      <td>40031.0</td>\n",
       "      <td>0.0</td>\n",
       "      <td>NaN</td>\n",
       "      <td>0.0</td>\n",
       "      <td>NaN</td>\n",
       "      <td>585.0</td>\n",
       "    </tr>\n",
       "    <tr>\n",
       "      <td>22939</td>\n",
       "      <td>15</td>\n",
       "      <td>6050000.0</td>\n",
       "      <td>68.4</td>\n",
       "      <td>2017-05-25T00:00:00</td>\n",
       "      <td>3</td>\n",
       "      <td>2.66</td>\n",
       "      <td>12.0</td>\n",
       "      <td>44.7</td>\n",
       "      <td>11</td>\n",
       "      <td>NaN</td>\n",
       "      <td>...</td>\n",
       "      <td>8.3</td>\n",
       "      <td>2.0</td>\n",
       "      <td>Санкт-Петербург</td>\n",
       "      <td>13721.0</td>\n",
       "      <td>15765.0</td>\n",
       "      <td>0.0</td>\n",
       "      <td>NaN</td>\n",
       "      <td>0.0</td>\n",
       "      <td>NaN</td>\n",
       "      <td>111.0</td>\n",
       "    </tr>\n",
       "    <tr>\n",
       "      <td>9543</td>\n",
       "      <td>8</td>\n",
       "      <td>3800000.0</td>\n",
       "      <td>35.1</td>\n",
       "      <td>2018-02-20T00:00:00</td>\n",
       "      <td>1</td>\n",
       "      <td>NaN</td>\n",
       "      <td>9.0</td>\n",
       "      <td>18.3</td>\n",
       "      <td>7</td>\n",
       "      <td>NaN</td>\n",
       "      <td>...</td>\n",
       "      <td>6.8</td>\n",
       "      <td>1.0</td>\n",
       "      <td>Санкт-Петербург</td>\n",
       "      <td>12444.0</td>\n",
       "      <td>15035.0</td>\n",
       "      <td>0.0</td>\n",
       "      <td>NaN</td>\n",
       "      <td>1.0</td>\n",
       "      <td>881.0</td>\n",
       "      <td>223.0</td>\n",
       "    </tr>\n",
       "    <tr>\n",
       "      <td>11952</td>\n",
       "      <td>6</td>\n",
       "      <td>3250000.0</td>\n",
       "      <td>31.9</td>\n",
       "      <td>2018-04-08T00:00:00</td>\n",
       "      <td>1</td>\n",
       "      <td>2.50</td>\n",
       "      <td>5.0</td>\n",
       "      <td>18.0</td>\n",
       "      <td>5</td>\n",
       "      <td>NaN</td>\n",
       "      <td>...</td>\n",
       "      <td>5.3</td>\n",
       "      <td>NaN</td>\n",
       "      <td>Сестрорецк</td>\n",
       "      <td>58571.0</td>\n",
       "      <td>35501.0</td>\n",
       "      <td>1.0</td>\n",
       "      <td>549.0</td>\n",
       "      <td>2.0</td>\n",
       "      <td>218.0</td>\n",
       "      <td>205.0</td>\n",
       "    </tr>\n",
       "    <tr>\n",
       "      <td>5800</td>\n",
       "      <td>7</td>\n",
       "      <td>7249000.0</td>\n",
       "      <td>45.0</td>\n",
       "      <td>2017-09-26T00:00:00</td>\n",
       "      <td>1</td>\n",
       "      <td>NaN</td>\n",
       "      <td>13.0</td>\n",
       "      <td>17.5</td>\n",
       "      <td>12</td>\n",
       "      <td>NaN</td>\n",
       "      <td>...</td>\n",
       "      <td>11.0</td>\n",
       "      <td>1.0</td>\n",
       "      <td>Санкт-Петербург</td>\n",
       "      <td>29609.0</td>\n",
       "      <td>5032.0</td>\n",
       "      <td>1.0</td>\n",
       "      <td>620.0</td>\n",
       "      <td>1.0</td>\n",
       "      <td>809.0</td>\n",
       "      <td>9.0</td>\n",
       "    </tr>\n",
       "  </tbody>\n",
       "</table>\n",
       "<p>10 rows × 22 columns</p>\n",
       "</div>"
      ],
      "text/plain": [
       "       total_images  last_price  total_area first_day_exposition  rooms  \\\n",
       "3700             11   5280000.0        43.0  2017-01-26T00:00:00      1   \n",
       "22143             0   4300000.0        42.0  2016-05-19T00:00:00      1   \n",
       "16485            11   5300000.0        45.0  2017-10-22T00:00:00      1   \n",
       "1278             18   2390000.0        34.2  2016-09-23T00:00:00      1   \n",
       "9609              8   4000000.0        43.4  2018-01-21T00:00:00      2   \n",
       "16289            13   4000000.0        52.0  2016-06-03T00:00:00      2   \n",
       "22939            15   6050000.0        68.4  2017-05-25T00:00:00      3   \n",
       "9543              8   3800000.0        35.1  2018-02-20T00:00:00      1   \n",
       "11952             6   3250000.0        31.9  2018-04-08T00:00:00      1   \n",
       "5800              7   7249000.0        45.0  2017-09-26T00:00:00      1   \n",
       "\n",
       "       ceiling_height  floors_total  living_area  floor is_apartment  ...  \\\n",
       "3700              NaN          17.0         20.0      6        False  ...   \n",
       "22143             NaN          12.0          NaN      3          NaN  ...   \n",
       "16485            2.60          17.0         20.0     14          NaN  ...   \n",
       "1278              NaN           5.0         15.5      4          NaN  ...   \n",
       "9609             2.50           5.0          NaN      4          NaN  ...   \n",
       "16289            2.83           5.0         30.0      4          NaN  ...   \n",
       "22939            2.66          12.0         44.7     11          NaN  ...   \n",
       "9543              NaN           9.0         18.3      7          NaN  ...   \n",
       "11952            2.50           5.0         18.0      5          NaN  ...   \n",
       "5800              NaN          13.0         17.5     12          NaN  ...   \n",
       "\n",
       "       kitchen_area  balcony    locality_name  airports_nearest  \\\n",
       "3700           11.0      1.0       Сестрорецк           56343.0   \n",
       "22143           NaN      0.0  Санкт-Петербург           40793.0   \n",
       "16485          11.0      NaN  Санкт-Петербург           34273.0   \n",
       "1278            8.1      NaN       Всеволожск               NaN   \n",
       "9609            NaN      NaN  Санкт-Петербург           20539.0   \n",
       "16289           9.2      NaN         Петергоф           36606.0   \n",
       "22939           8.3      2.0  Санкт-Петербург           13721.0   \n",
       "9543            6.8      1.0  Санкт-Петербург           12444.0   \n",
       "11952           5.3      NaN       Сестрорецк           58571.0   \n",
       "5800           11.0      1.0  Санкт-Петербург           29609.0   \n",
       "\n",
       "      cityCenters_nearest  parks_around3000  parks_nearest  ponds_around3000  \\\n",
       "3700              33272.0               0.0            NaN               1.0   \n",
       "22143             10976.0               3.0          371.0               0.0   \n",
       "16485             15372.0               1.0          518.0               3.0   \n",
       "1278                  NaN               NaN            NaN               NaN   \n",
       "9609               5191.0               1.0         1299.0               3.0   \n",
       "16289             40031.0               0.0            NaN               0.0   \n",
       "22939             15765.0               0.0            NaN               0.0   \n",
       "9543              15035.0               0.0            NaN               1.0   \n",
       "11952             35501.0               1.0          549.0               2.0   \n",
       "5800               5032.0               1.0          620.0               1.0   \n",
       "\n",
       "       ponds_nearest  days_exposition  \n",
       "3700           545.0            103.0  \n",
       "22143            NaN            284.0  \n",
       "16485          491.0            138.0  \n",
       "1278             NaN            722.0  \n",
       "9609           407.0             45.0  \n",
       "16289            NaN            585.0  \n",
       "22939            NaN            111.0  \n",
       "9543           881.0            223.0  \n",
       "11952          218.0            205.0  \n",
       "5800           809.0              9.0  \n",
       "\n",
       "[10 rows x 22 columns]"
      ]
     },
     "execution_count": 3,
     "metadata": {},
     "output_type": "execute_result"
    }
   ],
   "source": [
    "# получение 10 строк таблицы df\n",
    "df.sample(10)"
   ]
  },
  {
   "cell_type": "code",
   "execution_count": 4,
   "metadata": {},
   "outputs": [
    {
     "name": "stdout",
     "output_type": "stream",
     "text": [
      "<class 'pandas.core.frame.DataFrame'>\n",
      "RangeIndex: 23699 entries, 0 to 23698\n",
      "Data columns (total 22 columns):\n",
      "total_images            23699 non-null int64\n",
      "last_price              23699 non-null float64\n",
      "total_area              23699 non-null float64\n",
      "first_day_exposition    23699 non-null object\n",
      "rooms                   23699 non-null int64\n",
      "ceiling_height          14504 non-null float64\n",
      "floors_total            23613 non-null float64\n",
      "living_area             21796 non-null float64\n",
      "floor                   23699 non-null int64\n",
      "is_apartment            2775 non-null object\n",
      "studio                  23699 non-null bool\n",
      "open_plan               23699 non-null bool\n",
      "kitchen_area            21421 non-null float64\n",
      "balcony                 12180 non-null float64\n",
      "locality_name           23650 non-null object\n",
      "airports_nearest        18157 non-null float64\n",
      "cityCenters_nearest     18180 non-null float64\n",
      "parks_around3000        18181 non-null float64\n",
      "parks_nearest           8079 non-null float64\n",
      "ponds_around3000        18181 non-null float64\n",
      "ponds_nearest           9110 non-null float64\n",
      "days_exposition         20518 non-null float64\n",
      "dtypes: bool(2), float64(14), int64(3), object(3)\n",
      "memory usage: 3.7+ MB\n"
     ]
    }
   ],
   "source": [
    "# получение общей информации о данных в таблице df\n",
    "df.info()"
   ]
  },
  {
   "cell_type": "code",
   "execution_count": 5,
   "metadata": {},
   "outputs": [
    {
     "data": {
      "text/html": [
       "<div>\n",
       "<style scoped>\n",
       "    .dataframe tbody tr th:only-of-type {\n",
       "        vertical-align: middle;\n",
       "    }\n",
       "\n",
       "    .dataframe tbody tr th {\n",
       "        vertical-align: top;\n",
       "    }\n",
       "\n",
       "    .dataframe thead th {\n",
       "        text-align: right;\n",
       "    }\n",
       "</style>\n",
       "<table border=\"1\" class=\"dataframe\">\n",
       "  <thead>\n",
       "    <tr style=\"text-align: right;\">\n",
       "      <th></th>\n",
       "      <th>total_images</th>\n",
       "      <th>last_price</th>\n",
       "      <th>total_area</th>\n",
       "      <th>rooms</th>\n",
       "      <th>ceiling_height</th>\n",
       "      <th>floors_total</th>\n",
       "      <th>living_area</th>\n",
       "      <th>floor</th>\n",
       "      <th>kitchen_area</th>\n",
       "      <th>balcony</th>\n",
       "      <th>airports_nearest</th>\n",
       "      <th>cityCenters_nearest</th>\n",
       "      <th>parks_around3000</th>\n",
       "      <th>parks_nearest</th>\n",
       "      <th>ponds_around3000</th>\n",
       "      <th>ponds_nearest</th>\n",
       "      <th>days_exposition</th>\n",
       "    </tr>\n",
       "  </thead>\n",
       "  <tbody>\n",
       "    <tr>\n",
       "      <td>count</td>\n",
       "      <td>23699.000000</td>\n",
       "      <td>2.369900e+04</td>\n",
       "      <td>23699.000000</td>\n",
       "      <td>23699.000000</td>\n",
       "      <td>14504.000000</td>\n",
       "      <td>23613.000000</td>\n",
       "      <td>21796.000000</td>\n",
       "      <td>23699.000000</td>\n",
       "      <td>21421.000000</td>\n",
       "      <td>12180.000000</td>\n",
       "      <td>18157.000000</td>\n",
       "      <td>18180.000000</td>\n",
       "      <td>18181.000000</td>\n",
       "      <td>8079.000000</td>\n",
       "      <td>18181.000000</td>\n",
       "      <td>9110.000000</td>\n",
       "      <td>20518.000000</td>\n",
       "    </tr>\n",
       "    <tr>\n",
       "      <td>mean</td>\n",
       "      <td>9.858475</td>\n",
       "      <td>6.541549e+06</td>\n",
       "      <td>60.348651</td>\n",
       "      <td>2.070636</td>\n",
       "      <td>2.771499</td>\n",
       "      <td>10.673824</td>\n",
       "      <td>34.457852</td>\n",
       "      <td>5.892358</td>\n",
       "      <td>10.569807</td>\n",
       "      <td>1.150082</td>\n",
       "      <td>28793.672193</td>\n",
       "      <td>14191.277833</td>\n",
       "      <td>0.611408</td>\n",
       "      <td>490.804555</td>\n",
       "      <td>0.770255</td>\n",
       "      <td>517.980900</td>\n",
       "      <td>180.888634</td>\n",
       "    </tr>\n",
       "    <tr>\n",
       "      <td>std</td>\n",
       "      <td>5.682529</td>\n",
       "      <td>1.088701e+07</td>\n",
       "      <td>35.654083</td>\n",
       "      <td>1.078405</td>\n",
       "      <td>1.261056</td>\n",
       "      <td>6.597173</td>\n",
       "      <td>22.030445</td>\n",
       "      <td>4.885249</td>\n",
       "      <td>5.905438</td>\n",
       "      <td>1.071300</td>\n",
       "      <td>12630.880622</td>\n",
       "      <td>8608.386210</td>\n",
       "      <td>0.802074</td>\n",
       "      <td>342.317995</td>\n",
       "      <td>0.938346</td>\n",
       "      <td>277.720643</td>\n",
       "      <td>219.727988</td>\n",
       "    </tr>\n",
       "    <tr>\n",
       "      <td>min</td>\n",
       "      <td>0.000000</td>\n",
       "      <td>1.219000e+04</td>\n",
       "      <td>12.000000</td>\n",
       "      <td>0.000000</td>\n",
       "      <td>1.000000</td>\n",
       "      <td>1.000000</td>\n",
       "      <td>2.000000</td>\n",
       "      <td>1.000000</td>\n",
       "      <td>1.300000</td>\n",
       "      <td>0.000000</td>\n",
       "      <td>0.000000</td>\n",
       "      <td>181.000000</td>\n",
       "      <td>0.000000</td>\n",
       "      <td>1.000000</td>\n",
       "      <td>0.000000</td>\n",
       "      <td>13.000000</td>\n",
       "      <td>1.000000</td>\n",
       "    </tr>\n",
       "    <tr>\n",
       "      <td>25%</td>\n",
       "      <td>6.000000</td>\n",
       "      <td>3.400000e+06</td>\n",
       "      <td>40.000000</td>\n",
       "      <td>1.000000</td>\n",
       "      <td>2.520000</td>\n",
       "      <td>5.000000</td>\n",
       "      <td>18.600000</td>\n",
       "      <td>2.000000</td>\n",
       "      <td>7.000000</td>\n",
       "      <td>0.000000</td>\n",
       "      <td>18585.000000</td>\n",
       "      <td>9238.000000</td>\n",
       "      <td>0.000000</td>\n",
       "      <td>288.000000</td>\n",
       "      <td>0.000000</td>\n",
       "      <td>294.000000</td>\n",
       "      <td>45.000000</td>\n",
       "    </tr>\n",
       "    <tr>\n",
       "      <td>50%</td>\n",
       "      <td>9.000000</td>\n",
       "      <td>4.650000e+06</td>\n",
       "      <td>52.000000</td>\n",
       "      <td>2.000000</td>\n",
       "      <td>2.650000</td>\n",
       "      <td>9.000000</td>\n",
       "      <td>30.000000</td>\n",
       "      <td>4.000000</td>\n",
       "      <td>9.100000</td>\n",
       "      <td>1.000000</td>\n",
       "      <td>26726.000000</td>\n",
       "      <td>13098.500000</td>\n",
       "      <td>0.000000</td>\n",
       "      <td>455.000000</td>\n",
       "      <td>1.000000</td>\n",
       "      <td>502.000000</td>\n",
       "      <td>95.000000</td>\n",
       "    </tr>\n",
       "    <tr>\n",
       "      <td>75%</td>\n",
       "      <td>14.000000</td>\n",
       "      <td>6.800000e+06</td>\n",
       "      <td>69.900000</td>\n",
       "      <td>3.000000</td>\n",
       "      <td>2.800000</td>\n",
       "      <td>16.000000</td>\n",
       "      <td>42.300000</td>\n",
       "      <td>8.000000</td>\n",
       "      <td>12.000000</td>\n",
       "      <td>2.000000</td>\n",
       "      <td>37273.000000</td>\n",
       "      <td>16293.000000</td>\n",
       "      <td>1.000000</td>\n",
       "      <td>612.000000</td>\n",
       "      <td>1.000000</td>\n",
       "      <td>729.000000</td>\n",
       "      <td>232.000000</td>\n",
       "    </tr>\n",
       "    <tr>\n",
       "      <td>max</td>\n",
       "      <td>50.000000</td>\n",
       "      <td>7.630000e+08</td>\n",
       "      <td>900.000000</td>\n",
       "      <td>19.000000</td>\n",
       "      <td>100.000000</td>\n",
       "      <td>60.000000</td>\n",
       "      <td>409.700000</td>\n",
       "      <td>33.000000</td>\n",
       "      <td>112.000000</td>\n",
       "      <td>5.000000</td>\n",
       "      <td>84869.000000</td>\n",
       "      <td>65968.000000</td>\n",
       "      <td>3.000000</td>\n",
       "      <td>3190.000000</td>\n",
       "      <td>3.000000</td>\n",
       "      <td>1344.000000</td>\n",
       "      <td>1580.000000</td>\n",
       "    </tr>\n",
       "  </tbody>\n",
       "</table>\n",
       "</div>"
      ],
      "text/plain": [
       "       total_images    last_price    total_area         rooms  ceiling_height  \\\n",
       "count  23699.000000  2.369900e+04  23699.000000  23699.000000    14504.000000   \n",
       "mean       9.858475  6.541549e+06     60.348651      2.070636        2.771499   \n",
       "std        5.682529  1.088701e+07     35.654083      1.078405        1.261056   \n",
       "min        0.000000  1.219000e+04     12.000000      0.000000        1.000000   \n",
       "25%        6.000000  3.400000e+06     40.000000      1.000000        2.520000   \n",
       "50%        9.000000  4.650000e+06     52.000000      2.000000        2.650000   \n",
       "75%       14.000000  6.800000e+06     69.900000      3.000000        2.800000   \n",
       "max       50.000000  7.630000e+08    900.000000     19.000000      100.000000   \n",
       "\n",
       "       floors_total   living_area         floor  kitchen_area       balcony  \\\n",
       "count  23613.000000  21796.000000  23699.000000  21421.000000  12180.000000   \n",
       "mean      10.673824     34.457852      5.892358     10.569807      1.150082   \n",
       "std        6.597173     22.030445      4.885249      5.905438      1.071300   \n",
       "min        1.000000      2.000000      1.000000      1.300000      0.000000   \n",
       "25%        5.000000     18.600000      2.000000      7.000000      0.000000   \n",
       "50%        9.000000     30.000000      4.000000      9.100000      1.000000   \n",
       "75%       16.000000     42.300000      8.000000     12.000000      2.000000   \n",
       "max       60.000000    409.700000     33.000000    112.000000      5.000000   \n",
       "\n",
       "       airports_nearest  cityCenters_nearest  parks_around3000  parks_nearest  \\\n",
       "count      18157.000000         18180.000000      18181.000000    8079.000000   \n",
       "mean       28793.672193         14191.277833          0.611408     490.804555   \n",
       "std        12630.880622          8608.386210          0.802074     342.317995   \n",
       "min            0.000000           181.000000          0.000000       1.000000   \n",
       "25%        18585.000000          9238.000000          0.000000     288.000000   \n",
       "50%        26726.000000         13098.500000          0.000000     455.000000   \n",
       "75%        37273.000000         16293.000000          1.000000     612.000000   \n",
       "max        84869.000000         65968.000000          3.000000    3190.000000   \n",
       "\n",
       "       ponds_around3000  ponds_nearest  days_exposition  \n",
       "count      18181.000000    9110.000000     20518.000000  \n",
       "mean           0.770255     517.980900       180.888634  \n",
       "std            0.938346     277.720643       219.727988  \n",
       "min            0.000000      13.000000         1.000000  \n",
       "25%            0.000000     294.000000        45.000000  \n",
       "50%            1.000000     502.000000        95.000000  \n",
       "75%            1.000000     729.000000       232.000000  \n",
       "max            3.000000    1344.000000      1580.000000  "
      ]
     },
     "execution_count": 5,
     "metadata": {},
     "output_type": "execute_result"
    }
   ],
   "source": [
    "# получение статистической информации о данных\n",
    "df.describe()"
   ]
  },
  {
   "cell_type": "markdown",
   "metadata": {},
   "source": [
    "### Вывод"
   ]
  },
  {
   "cell_type": "markdown",
   "metadata": {},
   "source": [
    "Итак, мы имеем датафрейм, состоящий 22 столбцов и 23699 строк. Столбцы имеют следующий тип данных: булевый (2), строка (3) и числовой (целые числа-3, вещественные числа-14). В каждой строке - информация о квартире, выставленной на продажу. Количество значений в столбцах различается, а значит, в данных есть пропущенные значения. При чем пропуски имеются в 14 из 22 столбцах.\n",
    "Просмотр статистических данных показал, что в данных есть странные значения, например минимальная высота потолков 1 метр, а максимальная 100 метров или минимальное количество комнат - 0."
   ]
  },
  {
   "cell_type": "markdown",
   "metadata": {},
   "source": [
    "## Предобработка данных"
   ]
  },
  {
   "cell_type": "code",
   "execution_count": 6,
   "metadata": {},
   "outputs": [
    {
     "data": {
      "text/plain": [
       "total_images                0\n",
       "last_price                  0\n",
       "total_area                  0\n",
       "first_day_exposition        0\n",
       "rooms                       0\n",
       "ceiling_height           9195\n",
       "floors_total               86\n",
       "living_area              1903\n",
       "floor                       0\n",
       "is_apartment            20924\n",
       "studio                      0\n",
       "open_plan                   0\n",
       "kitchen_area             2278\n",
       "balcony                 11519\n",
       "locality_name              49\n",
       "airports_nearest         5542\n",
       "cityCenters_nearest      5519\n",
       "parks_around3000         5518\n",
       "parks_nearest           15620\n",
       "ponds_around3000         5518\n",
       "ponds_nearest           14589\n",
       "days_exposition          3181\n",
       "dtype: int64"
      ]
     },
     "execution_count": 6,
     "metadata": {},
     "output_type": "execute_result"
    }
   ],
   "source": [
    "# подсчёт пропусков\n",
    "df.isna().sum()"
   ]
  },
  {
   "cell_type": "markdown",
   "metadata": {},
   "source": [
    "В столбце `ceiling_height` пропущено 9195 значений. Попробуем заменить пропуски медианой"
   ]
  },
  {
   "cell_type": "code",
   "execution_count": 7,
   "metadata": {
    "scrolled": false
   },
   "outputs": [
    {
     "data": {
      "text/plain": [
       "array([  2.7 ,    nan,   3.03,   2.5 ,   2.67,   2.56,   3.05,   2.75,\n",
       "         2.6 ,   2.9 ,   2.8 ,   2.55,   3.  ,   2.65,   3.2 ,   2.61,\n",
       "         3.25,   3.45,   2.77,   2.85,   2.64,   2.57,   4.15,   3.5 ,\n",
       "         3.3 ,   2.71,   4.  ,   2.47,   2.73,   2.84,   3.1 ,   2.34,\n",
       "         3.4 ,   3.06,   2.72,   2.54,   2.51,   2.78,   2.76,  25.  ,\n",
       "         2.58,   3.7 ,   2.52,   5.2 ,   2.87,   2.66,   2.59,   2.  ,\n",
       "         2.45,   3.6 ,   2.92,   3.11,   3.13,   3.8 ,   3.15,   3.55,\n",
       "         3.16,   3.62,   3.12,   2.53,   2.74,   2.96,   2.46,   5.3 ,\n",
       "         5.  ,   2.79,   2.95,   4.06,   2.94,   3.82,   3.54,   3.53,\n",
       "         2.83,   4.7 ,   2.4 ,   3.38,   3.01,   5.6 ,   3.65,   3.9 ,\n",
       "         3.18,   3.35,   2.3 ,   3.57,   2.48,   2.62,   2.82,   3.98,\n",
       "         2.63,   3.83,   3.52,   3.95,   3.75,   2.88,   3.67,   3.87,\n",
       "         3.66,   3.85,   3.86,   4.19,   3.24,   4.8 ,   4.5 ,   4.2 ,\n",
       "         3.36,  32.  ,   3.08,   3.68,   3.07,   3.37,   3.09,   8.  ,\n",
       "         3.26,   3.34,   2.81,   3.44,   2.97,   3.14,   4.37,   2.68,\n",
       "         3.22,   3.27,  27.  ,   4.1 ,   2.93,   3.46,  24.  ,   3.47,\n",
       "         3.33,   3.63,   3.32,  26.  ,   1.2 ,   8.3 ,   2.98,   2.86,\n",
       "         3.17,   4.4 ,   3.28,   3.04,   4.45,   5.5 ,   3.84,   3.23,\n",
       "         3.02,   3.21,   3.43,   3.78,   4.3 ,   3.39,   2.69,   3.31,\n",
       "         4.65,   3.56,   2.2 ,   3.51,   3.93,   3.42,   2.99,   3.49,\n",
       "        14.  ,   4.14,   2.91,   3.88,   1.75,   4.25,   3.29,  20.  ,\n",
       "         2.25,   3.76,   3.69,   6.  ,  22.6 ,   2.89,   3.58,   5.8 ,\n",
       "        27.5 ,   2.49,   4.9 ,   3.48,  10.3 ,   1.  , 100.  ,   3.59])"
      ]
     },
     "execution_count": 7,
     "metadata": {},
     "output_type": "execute_result"
    }
   ],
   "source": [
    "# просмотр уникальных значений количества балконов\n",
    "df['ceiling_height'].unique()"
   ]
  },
  {
   "cell_type": "code",
   "execution_count": 8,
   "metadata": {},
   "outputs": [],
   "source": [
    "# замена пропусков в столбце ceiling_height медианой\n",
    "df['ceiling_height'] = df['ceiling_height'].fillna(df['ceiling_height'].median())"
   ]
  },
  {
   "cell_type": "code",
   "execution_count": 9,
   "metadata": {},
   "outputs": [
    {
     "data": {
      "text/plain": [
       "array([  2.7 ,   2.65,   3.03,   2.5 ,   2.67,   2.56,   3.05,   2.75,\n",
       "         2.6 ,   2.9 ,   2.8 ,   2.55,   3.  ,   3.2 ,   2.61,   3.25,\n",
       "         3.45,   2.77,   2.85,   2.64,   2.57,   4.15,   3.5 ,   3.3 ,\n",
       "         2.71,   4.  ,   2.47,   2.73,   2.84,   3.1 ,   2.34,   3.4 ,\n",
       "         3.06,   2.72,   2.54,   2.51,   2.78,   2.76,  25.  ,   2.58,\n",
       "         3.7 ,   2.52,   5.2 ,   2.87,   2.66,   2.59,   2.  ,   2.45,\n",
       "         3.6 ,   2.92,   3.11,   3.13,   3.8 ,   3.15,   3.55,   3.16,\n",
       "         3.62,   3.12,   2.53,   2.74,   2.96,   2.46,   5.3 ,   5.  ,\n",
       "         2.79,   2.95,   4.06,   2.94,   3.82,   3.54,   3.53,   2.83,\n",
       "         4.7 ,   2.4 ,   3.38,   3.01,   5.6 ,   3.65,   3.9 ,   3.18,\n",
       "         3.35,   2.3 ,   3.57,   2.48,   2.62,   2.82,   3.98,   2.63,\n",
       "         3.83,   3.52,   3.95,   3.75,   2.88,   3.67,   3.87,   3.66,\n",
       "         3.85,   3.86,   4.19,   3.24,   4.8 ,   4.5 ,   4.2 ,   3.36,\n",
       "        32.  ,   3.08,   3.68,   3.07,   3.37,   3.09,   8.  ,   3.26,\n",
       "         3.34,   2.81,   3.44,   2.97,   3.14,   4.37,   2.68,   3.22,\n",
       "         3.27,  27.  ,   4.1 ,   2.93,   3.46,  24.  ,   3.47,   3.33,\n",
       "         3.63,   3.32,  26.  ,   1.2 ,   8.3 ,   2.98,   2.86,   3.17,\n",
       "         4.4 ,   3.28,   3.04,   4.45,   5.5 ,   3.84,   3.23,   3.02,\n",
       "         3.21,   3.43,   3.78,   4.3 ,   3.39,   2.69,   3.31,   4.65,\n",
       "         3.56,   2.2 ,   3.51,   3.93,   3.42,   2.99,   3.49,  14.  ,\n",
       "         4.14,   2.91,   3.88,   1.75,   4.25,   3.29,  20.  ,   2.25,\n",
       "         3.76,   3.69,   6.  ,  22.6 ,   2.89,   3.58,   5.8 ,  27.5 ,\n",
       "         2.49,   4.9 ,   3.48,  10.3 ,   1.  , 100.  ,   3.59])"
      ]
     },
     "execution_count": 9,
     "metadata": {},
     "output_type": "execute_result"
    }
   ],
   "source": [
    "# проверка\n",
    "df['ceiling_height'].unique()"
   ]
  },
  {
   "cell_type": "markdown",
   "metadata": {},
   "source": [
    "Что касается столбцов `kitchen_area` и `living_area`, то у нас имееются значения трех площадей (общая, жилая и кухни), а также количество комнат. Будем их использовать для заполнения пропусков. Чтобы заполнить пропущенные значения в столбце `kitchen_area`, рассчитаем средний процент в зависимости от количества комнат, который занимает кухня от общей площади,после чего перемножим его на общую площадь"
   ]
  },
  {
   "cell_type": "code",
   "execution_count": 10,
   "metadata": {
    "scrolled": true
   },
   "outputs": [
    {
     "data": {
      "text/plain": [
       "rooms\n",
       "0          NaN\n",
       "1     0.249906\n",
       "2     0.174163\n",
       "3     0.140928\n",
       "4     0.124031\n",
       "5     0.113455\n",
       "6     0.104150\n",
       "7     0.091932\n",
       "8     0.091708\n",
       "9     0.075054\n",
       "10    0.088013\n",
       "11    0.066855\n",
       "12    0.124444\n",
       "14    0.075636\n",
       "15    0.169492\n",
       "16    0.048148\n",
       "19    0.073679\n",
       "Name: percent_kitchen, dtype: float64"
      ]
     },
     "execution_count": 10,
     "metadata": {},
     "output_type": "execute_result"
    }
   ],
   "source": [
    "df['percent_kitchen'] = df['kitchen_area'] / df['total_area'] # рассчет процента\n",
    "df.groupby('rooms')['percent_kitchen'].mean() # рассчет среднего процента для каждого количества комнат"
   ]
  },
  {
   "cell_type": "code",
   "execution_count": 11,
   "metadata": {},
   "outputs": [],
   "source": [
    "# создание функции, которая счистает средние значение для каждого количества комнат\n",
    "# и рассчитывает площадь кухни, если пропущено значение\n",
    "def kitchen_area_mean(row):\n",
    "    total_area = row['total_area']\n",
    "    rooms_percent = df.loc[df['rooms']==row['rooms']]['percent_kitchen'].mean()\n",
    "    if pd.isnull(row['kitchen_area']):\n",
    "        kitchen_mean = total_area*rooms_percent\n",
    "        return kitchen_mean\n",
    "    else:\n",
    "        return row['kitchen_area']\n",
    "df['kitchen_area'] = df.apply(kitchen_area_mean, axis=1) # замена пропусков методом apply, который в качестве аргумента принимает нашу функцию"
   ]
  },
  {
   "cell_type": "markdown",
   "metadata": {},
   "source": [
    "Проверим работу функции. В строке с индексом 3 был пропуск, выведем первые пять значений столбца `kitchen_area`"
   ]
  },
  {
   "cell_type": "code",
   "execution_count": 12,
   "metadata": {
    "scrolled": true
   },
   "outputs": [
    {
     "data": {
      "text/plain": [
       "0    25.000000\n",
       "1    11.000000\n",
       "2     8.300000\n",
       "3    22.407531\n",
       "4    41.000000\n",
       "Name: kitchen_area, dtype: float64"
      ]
     },
     "execution_count": 12,
     "metadata": {},
     "output_type": "execute_result"
    }
   ],
   "source": [
    "# проверка\n",
    "df['kitchen_area'].head()"
   ]
  },
  {
   "cell_type": "code",
   "execution_count": 13,
   "metadata": {},
   "outputs": [
    {
     "data": {
      "text/plain": [
       "197"
      ]
     },
     "execution_count": 13,
     "metadata": {},
     "output_type": "execute_result"
    }
   ],
   "source": [
    "# проверка пропусков\n",
    "df['kitchen_area'].isna().sum()"
   ]
  },
  {
   "cell_type": "code",
   "execution_count": 14,
   "metadata": {},
   "outputs": [
    {
     "data": {
      "text/plain": [
       "0    197\n",
       "Name: rooms, dtype: int64"
      ]
     },
     "execution_count": 14,
     "metadata": {},
     "output_type": "execute_result"
    }
   ],
   "source": [
    "# просмотр пропусков, сгруппированных по количеству комнат\n",
    "df[df['kitchen_area'].isna()]['rooms'].value_counts()"
   ]
  },
  {
   "cell_type": "markdown",
   "metadata": {},
   "source": [
    "Проверим являются ли данные квартиры студиями и если нет, то сделаем срез по ним"
   ]
  },
  {
   "cell_type": "code",
   "execution_count": 15,
   "metadata": {},
   "outputs": [
    {
     "data": {
      "text/plain": [
       "True     138\n",
       "False     59\n",
       "Name: studio, dtype: int64"
      ]
     },
     "execution_count": 15,
     "metadata": {},
     "output_type": "execute_result"
    }
   ],
   "source": [
    "# проверка, являются ли квартиры с количеством комнат 0 студиями\n",
    "df[df['kitchen_area'].isna()]['studio'].value_counts()"
   ]
  },
  {
   "cell_type": "code",
   "execution_count": 16,
   "metadata": {},
   "outputs": [
    {
     "data": {
      "text/html": [
       "<div>\n",
       "<style scoped>\n",
       "    .dataframe tbody tr th:only-of-type {\n",
       "        vertical-align: middle;\n",
       "    }\n",
       "\n",
       "    .dataframe tbody tr th {\n",
       "        vertical-align: top;\n",
       "    }\n",
       "\n",
       "    .dataframe thead th {\n",
       "        text-align: right;\n",
       "    }\n",
       "</style>\n",
       "<table border=\"1\" class=\"dataframe\">\n",
       "  <thead>\n",
       "    <tr style=\"text-align: right;\">\n",
       "      <th></th>\n",
       "      <th>total_images</th>\n",
       "      <th>last_price</th>\n",
       "      <th>total_area</th>\n",
       "      <th>first_day_exposition</th>\n",
       "      <th>rooms</th>\n",
       "      <th>ceiling_height</th>\n",
       "      <th>floors_total</th>\n",
       "      <th>living_area</th>\n",
       "      <th>floor</th>\n",
       "      <th>is_apartment</th>\n",
       "      <th>...</th>\n",
       "      <th>balcony</th>\n",
       "      <th>locality_name</th>\n",
       "      <th>airports_nearest</th>\n",
       "      <th>cityCenters_nearest</th>\n",
       "      <th>parks_around3000</th>\n",
       "      <th>parks_nearest</th>\n",
       "      <th>ponds_around3000</th>\n",
       "      <th>ponds_nearest</th>\n",
       "      <th>days_exposition</th>\n",
       "      <th>percent_kitchen</th>\n",
       "    </tr>\n",
       "  </thead>\n",
       "  <tbody>\n",
       "    <tr>\n",
       "      <td>349</td>\n",
       "      <td>4</td>\n",
       "      <td>2320000.0</td>\n",
       "      <td>25.00</td>\n",
       "      <td>2017-09-27T00:00:00</td>\n",
       "      <td>0</td>\n",
       "      <td>2.65</td>\n",
       "      <td>14.0</td>\n",
       "      <td>17.0</td>\n",
       "      <td>1</td>\n",
       "      <td>NaN</td>\n",
       "      <td>...</td>\n",
       "      <td>0.0</td>\n",
       "      <td>деревня Кудрово</td>\n",
       "      <td>NaN</td>\n",
       "      <td>NaN</td>\n",
       "      <td>NaN</td>\n",
       "      <td>NaN</td>\n",
       "      <td>NaN</td>\n",
       "      <td>NaN</td>\n",
       "      <td>45.0</td>\n",
       "      <td>NaN</td>\n",
       "    </tr>\n",
       "    <tr>\n",
       "      <td>508</td>\n",
       "      <td>0</td>\n",
       "      <td>3375000.0</td>\n",
       "      <td>34.40</td>\n",
       "      <td>2017-03-28T00:00:00</td>\n",
       "      <td>0</td>\n",
       "      <td>2.65</td>\n",
       "      <td>26.0</td>\n",
       "      <td>24.3</td>\n",
       "      <td>19</td>\n",
       "      <td>NaN</td>\n",
       "      <td>...</td>\n",
       "      <td>1.0</td>\n",
       "      <td>посёлок Парголово</td>\n",
       "      <td>53115.0</td>\n",
       "      <td>19292.0</td>\n",
       "      <td>0.0</td>\n",
       "      <td>NaN</td>\n",
       "      <td>1.0</td>\n",
       "      <td>593.0</td>\n",
       "      <td>430.0</td>\n",
       "      <td>NaN</td>\n",
       "    </tr>\n",
       "    <tr>\n",
       "      <td>780</td>\n",
       "      <td>9</td>\n",
       "      <td>2600000.0</td>\n",
       "      <td>26.10</td>\n",
       "      <td>2018-02-20T00:00:00</td>\n",
       "      <td>0</td>\n",
       "      <td>2.65</td>\n",
       "      <td>18.0</td>\n",
       "      <td>NaN</td>\n",
       "      <td>8</td>\n",
       "      <td>NaN</td>\n",
       "      <td>...</td>\n",
       "      <td>1.0</td>\n",
       "      <td>посёлок Мурино</td>\n",
       "      <td>NaN</td>\n",
       "      <td>NaN</td>\n",
       "      <td>NaN</td>\n",
       "      <td>NaN</td>\n",
       "      <td>NaN</td>\n",
       "      <td>NaN</td>\n",
       "      <td>45.0</td>\n",
       "      <td>NaN</td>\n",
       "    </tr>\n",
       "    <tr>\n",
       "      <td>839</td>\n",
       "      <td>14</td>\n",
       "      <td>1900000.0</td>\n",
       "      <td>35.00</td>\n",
       "      <td>2017-04-14T00:00:00</td>\n",
       "      <td>0</td>\n",
       "      <td>2.70</td>\n",
       "      <td>5.0</td>\n",
       "      <td>15.0</td>\n",
       "      <td>3</td>\n",
       "      <td>False</td>\n",
       "      <td>...</td>\n",
       "      <td>1.0</td>\n",
       "      <td>поселок Новый Свет</td>\n",
       "      <td>NaN</td>\n",
       "      <td>NaN</td>\n",
       "      <td>NaN</td>\n",
       "      <td>NaN</td>\n",
       "      <td>NaN</td>\n",
       "      <td>NaN</td>\n",
       "      <td>7.0</td>\n",
       "      <td>NaN</td>\n",
       "    </tr>\n",
       "    <tr>\n",
       "      <td>946</td>\n",
       "      <td>5</td>\n",
       "      <td>2200000.0</td>\n",
       "      <td>23.00</td>\n",
       "      <td>2016-09-27T00:00:00</td>\n",
       "      <td>0</td>\n",
       "      <td>2.65</td>\n",
       "      <td>27.0</td>\n",
       "      <td>18.0</td>\n",
       "      <td>7</td>\n",
       "      <td>NaN</td>\n",
       "      <td>...</td>\n",
       "      <td>2.0</td>\n",
       "      <td>посёлок Мурино</td>\n",
       "      <td>NaN</td>\n",
       "      <td>NaN</td>\n",
       "      <td>NaN</td>\n",
       "      <td>NaN</td>\n",
       "      <td>NaN</td>\n",
       "      <td>NaN</td>\n",
       "      <td>483.0</td>\n",
       "      <td>NaN</td>\n",
       "    </tr>\n",
       "    <tr>\n",
       "      <td>1574</td>\n",
       "      <td>0</td>\n",
       "      <td>2200000.0</td>\n",
       "      <td>22.00</td>\n",
       "      <td>2017-11-03T00:00:00</td>\n",
       "      <td>0</td>\n",
       "      <td>2.65</td>\n",
       "      <td>18.0</td>\n",
       "      <td>15.0</td>\n",
       "      <td>16</td>\n",
       "      <td>NaN</td>\n",
       "      <td>...</td>\n",
       "      <td>1.0</td>\n",
       "      <td>деревня Кудрово</td>\n",
       "      <td>NaN</td>\n",
       "      <td>NaN</td>\n",
       "      <td>NaN</td>\n",
       "      <td>NaN</td>\n",
       "      <td>NaN</td>\n",
       "      <td>NaN</td>\n",
       "      <td>81.0</td>\n",
       "      <td>NaN</td>\n",
       "    </tr>\n",
       "    <tr>\n",
       "      <td>1625</td>\n",
       "      <td>7</td>\n",
       "      <td>1980000.0</td>\n",
       "      <td>23.98</td>\n",
       "      <td>2018-02-01T00:00:00</td>\n",
       "      <td>0</td>\n",
       "      <td>2.65</td>\n",
       "      <td>4.0</td>\n",
       "      <td>10.5</td>\n",
       "      <td>3</td>\n",
       "      <td>NaN</td>\n",
       "      <td>...</td>\n",
       "      <td>1.0</td>\n",
       "      <td>поселок станции Корнево</td>\n",
       "      <td>NaN</td>\n",
       "      <td>NaN</td>\n",
       "      <td>NaN</td>\n",
       "      <td>NaN</td>\n",
       "      <td>NaN</td>\n",
       "      <td>NaN</td>\n",
       "      <td>120.0</td>\n",
       "      <td>NaN</td>\n",
       "    </tr>\n",
       "    <tr>\n",
       "      <td>2532</td>\n",
       "      <td>5</td>\n",
       "      <td>3500000.0</td>\n",
       "      <td>27.10</td>\n",
       "      <td>2018-02-01T00:00:00</td>\n",
       "      <td>0</td>\n",
       "      <td>2.65</td>\n",
       "      <td>18.0</td>\n",
       "      <td>18.7</td>\n",
       "      <td>9</td>\n",
       "      <td>NaN</td>\n",
       "      <td>...</td>\n",
       "      <td>2.0</td>\n",
       "      <td>Санкт-Петербург</td>\n",
       "      <td>32036.0</td>\n",
       "      <td>8175.0</td>\n",
       "      <td>0.0</td>\n",
       "      <td>NaN</td>\n",
       "      <td>1.0</td>\n",
       "      <td>644.0</td>\n",
       "      <td>70.0</td>\n",
       "      <td>NaN</td>\n",
       "    </tr>\n",
       "    <tr>\n",
       "      <td>3019</td>\n",
       "      <td>18</td>\n",
       "      <td>2100000.0</td>\n",
       "      <td>24.00</td>\n",
       "      <td>2017-11-10T00:00:00</td>\n",
       "      <td>0</td>\n",
       "      <td>2.65</td>\n",
       "      <td>10.0</td>\n",
       "      <td>18.0</td>\n",
       "      <td>6</td>\n",
       "      <td>NaN</td>\n",
       "      <td>...</td>\n",
       "      <td>2.0</td>\n",
       "      <td>Сертолово</td>\n",
       "      <td>NaN</td>\n",
       "      <td>NaN</td>\n",
       "      <td>NaN</td>\n",
       "      <td>NaN</td>\n",
       "      <td>NaN</td>\n",
       "      <td>NaN</td>\n",
       "      <td>5.0</td>\n",
       "      <td>NaN</td>\n",
       "    </tr>\n",
       "    <tr>\n",
       "      <td>4115</td>\n",
       "      <td>7</td>\n",
       "      <td>2600000.0</td>\n",
       "      <td>24.00</td>\n",
       "      <td>2018-02-01T00:00:00</td>\n",
       "      <td>0</td>\n",
       "      <td>2.65</td>\n",
       "      <td>25.0</td>\n",
       "      <td>18.0</td>\n",
       "      <td>4</td>\n",
       "      <td>NaN</td>\n",
       "      <td>...</td>\n",
       "      <td>2.0</td>\n",
       "      <td>Санкт-Петербург</td>\n",
       "      <td>10031.0</td>\n",
       "      <td>13330.0</td>\n",
       "      <td>1.0</td>\n",
       "      <td>915.0</td>\n",
       "      <td>0.0</td>\n",
       "      <td>NaN</td>\n",
       "      <td>42.0</td>\n",
       "      <td>NaN</td>\n",
       "    </tr>\n",
       "    <tr>\n",
       "      <td>4437</td>\n",
       "      <td>10</td>\n",
       "      <td>3200000.0</td>\n",
       "      <td>25.00</td>\n",
       "      <td>2017-10-16T00:00:00</td>\n",
       "      <td>0</td>\n",
       "      <td>2.65</td>\n",
       "      <td>9.0</td>\n",
       "      <td>18.6</td>\n",
       "      <td>9</td>\n",
       "      <td>NaN</td>\n",
       "      <td>...</td>\n",
       "      <td>2.0</td>\n",
       "      <td>Санкт-Петербург</td>\n",
       "      <td>11943.0</td>\n",
       "      <td>11710.0</td>\n",
       "      <td>1.0</td>\n",
       "      <td>518.0</td>\n",
       "      <td>1.0</td>\n",
       "      <td>232.0</td>\n",
       "      <td>97.0</td>\n",
       "      <td>NaN</td>\n",
       "    </tr>\n",
       "    <tr>\n",
       "      <td>4683</td>\n",
       "      <td>2</td>\n",
       "      <td>3650000.0</td>\n",
       "      <td>35.00</td>\n",
       "      <td>2018-02-01T00:00:00</td>\n",
       "      <td>0</td>\n",
       "      <td>2.65</td>\n",
       "      <td>25.0</td>\n",
       "      <td>23.4</td>\n",
       "      <td>25</td>\n",
       "      <td>NaN</td>\n",
       "      <td>...</td>\n",
       "      <td>NaN</td>\n",
       "      <td>Санкт-Петербург</td>\n",
       "      <td>43431.0</td>\n",
       "      <td>12188.0</td>\n",
       "      <td>0.0</td>\n",
       "      <td>NaN</td>\n",
       "      <td>0.0</td>\n",
       "      <td>NaN</td>\n",
       "      <td>100.0</td>\n",
       "      <td>NaN</td>\n",
       "    </tr>\n",
       "    <tr>\n",
       "      <td>4876</td>\n",
       "      <td>7</td>\n",
       "      <td>3000000.0</td>\n",
       "      <td>25.00</td>\n",
       "      <td>2017-09-27T00:00:00</td>\n",
       "      <td>0</td>\n",
       "      <td>27.00</td>\n",
       "      <td>25.0</td>\n",
       "      <td>17.0</td>\n",
       "      <td>17</td>\n",
       "      <td>NaN</td>\n",
       "      <td>...</td>\n",
       "      <td>2.0</td>\n",
       "      <td>посёлок Мурино</td>\n",
       "      <td>NaN</td>\n",
       "      <td>NaN</td>\n",
       "      <td>NaN</td>\n",
       "      <td>NaN</td>\n",
       "      <td>NaN</td>\n",
       "      <td>NaN</td>\n",
       "      <td>28.0</td>\n",
       "      <td>NaN</td>\n",
       "    </tr>\n",
       "    <tr>\n",
       "      <td>5749</td>\n",
       "      <td>20</td>\n",
       "      <td>3590000.0</td>\n",
       "      <td>25.00</td>\n",
       "      <td>2017-08-30T00:00:00</td>\n",
       "      <td>0</td>\n",
       "      <td>2.80</td>\n",
       "      <td>35.0</td>\n",
       "      <td>NaN</td>\n",
       "      <td>26</td>\n",
       "      <td>NaN</td>\n",
       "      <td>...</td>\n",
       "      <td>2.0</td>\n",
       "      <td>Санкт-Петербург</td>\n",
       "      <td>18732.0</td>\n",
       "      <td>20444.0</td>\n",
       "      <td>0.0</td>\n",
       "      <td>NaN</td>\n",
       "      <td>3.0</td>\n",
       "      <td>80.0</td>\n",
       "      <td>198.0</td>\n",
       "      <td>NaN</td>\n",
       "    </tr>\n",
       "    <tr>\n",
       "      <td>6472</td>\n",
       "      <td>13</td>\n",
       "      <td>3620000.0</td>\n",
       "      <td>28.00</td>\n",
       "      <td>2017-11-10T00:00:00</td>\n",
       "      <td>0</td>\n",
       "      <td>2.70</td>\n",
       "      <td>20.0</td>\n",
       "      <td>18.0</td>\n",
       "      <td>17</td>\n",
       "      <td>NaN</td>\n",
       "      <td>...</td>\n",
       "      <td>2.0</td>\n",
       "      <td>Санкт-Петербург</td>\n",
       "      <td>35068.0</td>\n",
       "      <td>16167.0</td>\n",
       "      <td>0.0</td>\n",
       "      <td>NaN</td>\n",
       "      <td>0.0</td>\n",
       "      <td>NaN</td>\n",
       "      <td>37.0</td>\n",
       "      <td>NaN</td>\n",
       "    </tr>\n",
       "    <tr>\n",
       "      <td>6612</td>\n",
       "      <td>18</td>\n",
       "      <td>3590000.0</td>\n",
       "      <td>26.80</td>\n",
       "      <td>2017-11-10T00:00:00</td>\n",
       "      <td>0</td>\n",
       "      <td>2.65</td>\n",
       "      <td>24.0</td>\n",
       "      <td>19.0</td>\n",
       "      <td>20</td>\n",
       "      <td>NaN</td>\n",
       "      <td>...</td>\n",
       "      <td>NaN</td>\n",
       "      <td>Санкт-Петербург</td>\n",
       "      <td>11022.0</td>\n",
       "      <td>12679.0</td>\n",
       "      <td>0.0</td>\n",
       "      <td>NaN</td>\n",
       "      <td>0.0</td>\n",
       "      <td>NaN</td>\n",
       "      <td>15.0</td>\n",
       "      <td>NaN</td>\n",
       "    </tr>\n",
       "    <tr>\n",
       "      <td>6805</td>\n",
       "      <td>7</td>\n",
       "      <td>1850000.0</td>\n",
       "      <td>31.00</td>\n",
       "      <td>2017-11-10T00:00:00</td>\n",
       "      <td>0</td>\n",
       "      <td>2.65</td>\n",
       "      <td>18.0</td>\n",
       "      <td>18.0</td>\n",
       "      <td>10</td>\n",
       "      <td>NaN</td>\n",
       "      <td>...</td>\n",
       "      <td>1.0</td>\n",
       "      <td>Никольское</td>\n",
       "      <td>NaN</td>\n",
       "      <td>NaN</td>\n",
       "      <td>NaN</td>\n",
       "      <td>NaN</td>\n",
       "      <td>NaN</td>\n",
       "      <td>NaN</td>\n",
       "      <td>7.0</td>\n",
       "      <td>NaN</td>\n",
       "    </tr>\n",
       "    <tr>\n",
       "      <td>7008</td>\n",
       "      <td>4</td>\n",
       "      <td>5200000.0</td>\n",
       "      <td>32.30</td>\n",
       "      <td>2017-09-14T00:00:00</td>\n",
       "      <td>0</td>\n",
       "      <td>2.65</td>\n",
       "      <td>11.0</td>\n",
       "      <td>25.5</td>\n",
       "      <td>4</td>\n",
       "      <td>NaN</td>\n",
       "      <td>...</td>\n",
       "      <td>NaN</td>\n",
       "      <td>Санкт-Петербург</td>\n",
       "      <td>30824.0</td>\n",
       "      <td>6469.0</td>\n",
       "      <td>1.0</td>\n",
       "      <td>756.0</td>\n",
       "      <td>1.0</td>\n",
       "      <td>936.0</td>\n",
       "      <td>86.0</td>\n",
       "      <td>NaN</td>\n",
       "    </tr>\n",
       "    <tr>\n",
       "      <td>7237</td>\n",
       "      <td>8</td>\n",
       "      <td>2999000.0</td>\n",
       "      <td>42.63</td>\n",
       "      <td>2017-11-27T00:00:00</td>\n",
       "      <td>0</td>\n",
       "      <td>2.65</td>\n",
       "      <td>16.0</td>\n",
       "      <td>25.7</td>\n",
       "      <td>2</td>\n",
       "      <td>NaN</td>\n",
       "      <td>...</td>\n",
       "      <td>2.0</td>\n",
       "      <td>деревня Кудрово</td>\n",
       "      <td>NaN</td>\n",
       "      <td>NaN</td>\n",
       "      <td>NaN</td>\n",
       "      <td>NaN</td>\n",
       "      <td>NaN</td>\n",
       "      <td>NaN</td>\n",
       "      <td>45.0</td>\n",
       "      <td>NaN</td>\n",
       "    </tr>\n",
       "    <tr>\n",
       "      <td>7286</td>\n",
       "      <td>6</td>\n",
       "      <td>2580000.0</td>\n",
       "      <td>30.00</td>\n",
       "      <td>2018-02-07T00:00:00</td>\n",
       "      <td>0</td>\n",
       "      <td>2.65</td>\n",
       "      <td>18.0</td>\n",
       "      <td>19.0</td>\n",
       "      <td>2</td>\n",
       "      <td>NaN</td>\n",
       "      <td>...</td>\n",
       "      <td>NaN</td>\n",
       "      <td>посёлок Парголово</td>\n",
       "      <td>52610.0</td>\n",
       "      <td>18787.0</td>\n",
       "      <td>0.0</td>\n",
       "      <td>NaN</td>\n",
       "      <td>0.0</td>\n",
       "      <td>NaN</td>\n",
       "      <td>41.0</td>\n",
       "      <td>NaN</td>\n",
       "    </tr>\n",
       "    <tr>\n",
       "      <td>7818</td>\n",
       "      <td>11</td>\n",
       "      <td>3300000.0</td>\n",
       "      <td>27.30</td>\n",
       "      <td>2018-04-06T00:00:00</td>\n",
       "      <td>0</td>\n",
       "      <td>2.65</td>\n",
       "      <td>20.0</td>\n",
       "      <td>NaN</td>\n",
       "      <td>9</td>\n",
       "      <td>NaN</td>\n",
       "      <td>...</td>\n",
       "      <td>2.0</td>\n",
       "      <td>Санкт-Петербург</td>\n",
       "      <td>15990.0</td>\n",
       "      <td>13853.0</td>\n",
       "      <td>0.0</td>\n",
       "      <td>NaN</td>\n",
       "      <td>1.0</td>\n",
       "      <td>584.0</td>\n",
       "      <td>31.0</td>\n",
       "      <td>NaN</td>\n",
       "    </tr>\n",
       "    <tr>\n",
       "      <td>9412</td>\n",
       "      <td>5</td>\n",
       "      <td>2100000.0</td>\n",
       "      <td>16.00</td>\n",
       "      <td>2017-12-10T00:00:00</td>\n",
       "      <td>0</td>\n",
       "      <td>2.65</td>\n",
       "      <td>6.0</td>\n",
       "      <td>13.0</td>\n",
       "      <td>1</td>\n",
       "      <td>NaN</td>\n",
       "      <td>...</td>\n",
       "      <td>NaN</td>\n",
       "      <td>Санкт-Петербург</td>\n",
       "      <td>20735.0</td>\n",
       "      <td>2111.0</td>\n",
       "      <td>2.0</td>\n",
       "      <td>228.0</td>\n",
       "      <td>3.0</td>\n",
       "      <td>72.0</td>\n",
       "      <td>3.0</td>\n",
       "      <td>NaN</td>\n",
       "    </tr>\n",
       "    <tr>\n",
       "      <td>9586</td>\n",
       "      <td>7</td>\n",
       "      <td>1670000.0</td>\n",
       "      <td>28.30</td>\n",
       "      <td>2017-09-27T00:00:00</td>\n",
       "      <td>0</td>\n",
       "      <td>2.65</td>\n",
       "      <td>9.0</td>\n",
       "      <td>18.2</td>\n",
       "      <td>3</td>\n",
       "      <td>NaN</td>\n",
       "      <td>...</td>\n",
       "      <td>0.0</td>\n",
       "      <td>Никольское</td>\n",
       "      <td>NaN</td>\n",
       "      <td>NaN</td>\n",
       "      <td>NaN</td>\n",
       "      <td>NaN</td>\n",
       "      <td>NaN</td>\n",
       "      <td>NaN</td>\n",
       "      <td>45.0</td>\n",
       "      <td>NaN</td>\n",
       "    </tr>\n",
       "    <tr>\n",
       "      <td>9861</td>\n",
       "      <td>10</td>\n",
       "      <td>2350000.0</td>\n",
       "      <td>25.00</td>\n",
       "      <td>2017-12-03T00:00:00</td>\n",
       "      <td>0</td>\n",
       "      <td>2.65</td>\n",
       "      <td>22.0</td>\n",
       "      <td>25.0</td>\n",
       "      <td>17</td>\n",
       "      <td>NaN</td>\n",
       "      <td>...</td>\n",
       "      <td>2.0</td>\n",
       "      <td>посёлок Мурино</td>\n",
       "      <td>NaN</td>\n",
       "      <td>NaN</td>\n",
       "      <td>NaN</td>\n",
       "      <td>NaN</td>\n",
       "      <td>NaN</td>\n",
       "      <td>NaN</td>\n",
       "      <td>13.0</td>\n",
       "      <td>NaN</td>\n",
       "    </tr>\n",
       "    <tr>\n",
       "      <td>10284</td>\n",
       "      <td>9</td>\n",
       "      <td>2700000.0</td>\n",
       "      <td>24.00</td>\n",
       "      <td>2017-01-23T00:00:00</td>\n",
       "      <td>0</td>\n",
       "      <td>2.65</td>\n",
       "      <td>12.0</td>\n",
       "      <td>15.5</td>\n",
       "      <td>11</td>\n",
       "      <td>NaN</td>\n",
       "      <td>...</td>\n",
       "      <td>1.0</td>\n",
       "      <td>деревня Кудрово</td>\n",
       "      <td>NaN</td>\n",
       "      <td>NaN</td>\n",
       "      <td>NaN</td>\n",
       "      <td>NaN</td>\n",
       "      <td>NaN</td>\n",
       "      <td>NaN</td>\n",
       "      <td>357.0</td>\n",
       "      <td>NaN</td>\n",
       "    </tr>\n",
       "    <tr>\n",
       "      <td>10606</td>\n",
       "      <td>14</td>\n",
       "      <td>2950000.0</td>\n",
       "      <td>25.27</td>\n",
       "      <td>2017-11-17T00:00:00</td>\n",
       "      <td>0</td>\n",
       "      <td>2.65</td>\n",
       "      <td>25.0</td>\n",
       "      <td>25.0</td>\n",
       "      <td>11</td>\n",
       "      <td>NaN</td>\n",
       "      <td>...</td>\n",
       "      <td>1.0</td>\n",
       "      <td>Санкт-Петербург</td>\n",
       "      <td>11405.0</td>\n",
       "      <td>13222.0</td>\n",
       "      <td>0.0</td>\n",
       "      <td>NaN</td>\n",
       "      <td>1.0</td>\n",
       "      <td>623.0</td>\n",
       "      <td>51.0</td>\n",
       "      <td>NaN</td>\n",
       "    </tr>\n",
       "    <tr>\n",
       "      <td>11035</td>\n",
       "      <td>1</td>\n",
       "      <td>2500000.0</td>\n",
       "      <td>26.00</td>\n",
       "      <td>2017-11-10T00:00:00</td>\n",
       "      <td>0</td>\n",
       "      <td>2.65</td>\n",
       "      <td>8.0</td>\n",
       "      <td>14.0</td>\n",
       "      <td>6</td>\n",
       "      <td>NaN</td>\n",
       "      <td>...</td>\n",
       "      <td>NaN</td>\n",
       "      <td>городской посёлок Янино-1</td>\n",
       "      <td>NaN</td>\n",
       "      <td>NaN</td>\n",
       "      <td>NaN</td>\n",
       "      <td>NaN</td>\n",
       "      <td>NaN</td>\n",
       "      <td>NaN</td>\n",
       "      <td>22.0</td>\n",
       "      <td>NaN</td>\n",
       "    </tr>\n",
       "    <tr>\n",
       "      <td>11051</td>\n",
       "      <td>2</td>\n",
       "      <td>2200000.0</td>\n",
       "      <td>26.00</td>\n",
       "      <td>2017-10-24T00:00:00</td>\n",
       "      <td>0</td>\n",
       "      <td>2.65</td>\n",
       "      <td>21.0</td>\n",
       "      <td>12.0</td>\n",
       "      <td>21</td>\n",
       "      <td>NaN</td>\n",
       "      <td>...</td>\n",
       "      <td>2.0</td>\n",
       "      <td>деревня Кудрово</td>\n",
       "      <td>NaN</td>\n",
       "      <td>NaN</td>\n",
       "      <td>NaN</td>\n",
       "      <td>NaN</td>\n",
       "      <td>NaN</td>\n",
       "      <td>NaN</td>\n",
       "      <td>35.0</td>\n",
       "      <td>NaN</td>\n",
       "    </tr>\n",
       "    <tr>\n",
       "      <td>11157</td>\n",
       "      <td>0</td>\n",
       "      <td>2900000.0</td>\n",
       "      <td>27.30</td>\n",
       "      <td>2017-11-22T00:00:00</td>\n",
       "      <td>0</td>\n",
       "      <td>2.80</td>\n",
       "      <td>8.0</td>\n",
       "      <td>20.0</td>\n",
       "      <td>5</td>\n",
       "      <td>NaN</td>\n",
       "      <td>...</td>\n",
       "      <td>NaN</td>\n",
       "      <td>Санкт-Петербург</td>\n",
       "      <td>38832.0</td>\n",
       "      <td>13729.0</td>\n",
       "      <td>0.0</td>\n",
       "      <td>NaN</td>\n",
       "      <td>0.0</td>\n",
       "      <td>NaN</td>\n",
       "      <td>9.0</td>\n",
       "      <td>NaN</td>\n",
       "    </tr>\n",
       "    <tr>\n",
       "      <td>11331</td>\n",
       "      <td>6</td>\n",
       "      <td>1315000.0</td>\n",
       "      <td>27.32</td>\n",
       "      <td>2017-09-29T00:00:00</td>\n",
       "      <td>0</td>\n",
       "      <td>2.70</td>\n",
       "      <td>15.0</td>\n",
       "      <td>18.7</td>\n",
       "      <td>15</td>\n",
       "      <td>NaN</td>\n",
       "      <td>...</td>\n",
       "      <td>NaN</td>\n",
       "      <td>Никольское</td>\n",
       "      <td>NaN</td>\n",
       "      <td>NaN</td>\n",
       "      <td>NaN</td>\n",
       "      <td>NaN</td>\n",
       "      <td>NaN</td>\n",
       "      <td>NaN</td>\n",
       "      <td>116.0</td>\n",
       "      <td>NaN</td>\n",
       "    </tr>\n",
       "    <tr>\n",
       "      <td>11692</td>\n",
       "      <td>0</td>\n",
       "      <td>2550000.0</td>\n",
       "      <td>23.06</td>\n",
       "      <td>2017-10-24T00:00:00</td>\n",
       "      <td>0</td>\n",
       "      <td>2.80</td>\n",
       "      <td>14.0</td>\n",
       "      <td>18.0</td>\n",
       "      <td>9</td>\n",
       "      <td>NaN</td>\n",
       "      <td>...</td>\n",
       "      <td>2.0</td>\n",
       "      <td>деревня Кудрово</td>\n",
       "      <td>NaN</td>\n",
       "      <td>NaN</td>\n",
       "      <td>NaN</td>\n",
       "      <td>NaN</td>\n",
       "      <td>NaN</td>\n",
       "      <td>NaN</td>\n",
       "      <td>20.0</td>\n",
       "      <td>NaN</td>\n",
       "    </tr>\n",
       "    <tr>\n",
       "      <td>11705</td>\n",
       "      <td>5</td>\n",
       "      <td>3380000.0</td>\n",
       "      <td>26.00</td>\n",
       "      <td>2018-02-20T00:00:00</td>\n",
       "      <td>0</td>\n",
       "      <td>2.80</td>\n",
       "      <td>17.0</td>\n",
       "      <td>17.0</td>\n",
       "      <td>8</td>\n",
       "      <td>NaN</td>\n",
       "      <td>...</td>\n",
       "      <td>1.0</td>\n",
       "      <td>Санкт-Петербург</td>\n",
       "      <td>15706.0</td>\n",
       "      <td>7734.0</td>\n",
       "      <td>2.0</td>\n",
       "      <td>592.0</td>\n",
       "      <td>1.0</td>\n",
       "      <td>802.0</td>\n",
       "      <td>45.0</td>\n",
       "      <td>NaN</td>\n",
       "    </tr>\n",
       "    <tr>\n",
       "      <td>12412</td>\n",
       "      <td>0</td>\n",
       "      <td>3300000.0</td>\n",
       "      <td>27.00</td>\n",
       "      <td>2017-08-15T00:00:00</td>\n",
       "      <td>0</td>\n",
       "      <td>2.65</td>\n",
       "      <td>25.0</td>\n",
       "      <td>25.0</td>\n",
       "      <td>22</td>\n",
       "      <td>NaN</td>\n",
       "      <td>...</td>\n",
       "      <td>NaN</td>\n",
       "      <td>Санкт-Петербург</td>\n",
       "      <td>12199.0</td>\n",
       "      <td>12111.0</td>\n",
       "      <td>0.0</td>\n",
       "      <td>NaN</td>\n",
       "      <td>1.0</td>\n",
       "      <td>337.0</td>\n",
       "      <td>161.0</td>\n",
       "      <td>NaN</td>\n",
       "    </tr>\n",
       "    <tr>\n",
       "      <td>12691</td>\n",
       "      <td>1</td>\n",
       "      <td>3700000.0</td>\n",
       "      <td>24.20</td>\n",
       "      <td>2017-11-10T00:00:00</td>\n",
       "      <td>0</td>\n",
       "      <td>2.65</td>\n",
       "      <td>19.0</td>\n",
       "      <td>24.2</td>\n",
       "      <td>13</td>\n",
       "      <td>NaN</td>\n",
       "      <td>...</td>\n",
       "      <td>1.0</td>\n",
       "      <td>Санкт-Петербург</td>\n",
       "      <td>17837.0</td>\n",
       "      <td>16840.0</td>\n",
       "      <td>0.0</td>\n",
       "      <td>NaN</td>\n",
       "      <td>2.0</td>\n",
       "      <td>210.0</td>\n",
       "      <td>74.0</td>\n",
       "      <td>NaN</td>\n",
       "    </tr>\n",
       "    <tr>\n",
       "      <td>13953</td>\n",
       "      <td>21</td>\n",
       "      <td>3255000.0</td>\n",
       "      <td>28.20</td>\n",
       "      <td>2017-09-26T00:00:00</td>\n",
       "      <td>0</td>\n",
       "      <td>2.65</td>\n",
       "      <td>24.0</td>\n",
       "      <td>20.0</td>\n",
       "      <td>2</td>\n",
       "      <td>NaN</td>\n",
       "      <td>...</td>\n",
       "      <td>NaN</td>\n",
       "      <td>Санкт-Петербург</td>\n",
       "      <td>41466.0</td>\n",
       "      <td>11538.0</td>\n",
       "      <td>0.0</td>\n",
       "      <td>NaN</td>\n",
       "      <td>0.0</td>\n",
       "      <td>NaN</td>\n",
       "      <td>119.0</td>\n",
       "      <td>NaN</td>\n",
       "    </tr>\n",
       "    <tr>\n",
       "      <td>15105</td>\n",
       "      <td>8</td>\n",
       "      <td>2500000.0</td>\n",
       "      <td>26.10</td>\n",
       "      <td>2017-12-01T00:00:00</td>\n",
       "      <td>0</td>\n",
       "      <td>2.65</td>\n",
       "      <td>25.0</td>\n",
       "      <td>18.0</td>\n",
       "      <td>4</td>\n",
       "      <td>NaN</td>\n",
       "      <td>...</td>\n",
       "      <td>2.0</td>\n",
       "      <td>посёлок Мурино</td>\n",
       "      <td>NaN</td>\n",
       "      <td>NaN</td>\n",
       "      <td>NaN</td>\n",
       "      <td>NaN</td>\n",
       "      <td>NaN</td>\n",
       "      <td>NaN</td>\n",
       "      <td>45.0</td>\n",
       "      <td>NaN</td>\n",
       "    </tr>\n",
       "    <tr>\n",
       "      <td>15273</td>\n",
       "      <td>9</td>\n",
       "      <td>2700000.0</td>\n",
       "      <td>25.20</td>\n",
       "      <td>2017-11-10T00:00:00</td>\n",
       "      <td>0</td>\n",
       "      <td>2.65</td>\n",
       "      <td>9.0</td>\n",
       "      <td>15.2</td>\n",
       "      <td>2</td>\n",
       "      <td>NaN</td>\n",
       "      <td>...</td>\n",
       "      <td>2.0</td>\n",
       "      <td>деревня Кудрово</td>\n",
       "      <td>NaN</td>\n",
       "      <td>NaN</td>\n",
       "      <td>NaN</td>\n",
       "      <td>NaN</td>\n",
       "      <td>NaN</td>\n",
       "      <td>NaN</td>\n",
       "      <td>23.0</td>\n",
       "      <td>NaN</td>\n",
       "    </tr>\n",
       "    <tr>\n",
       "      <td>15434</td>\n",
       "      <td>0</td>\n",
       "      <td>2200000.0</td>\n",
       "      <td>27.00</td>\n",
       "      <td>2017-01-01T00:00:00</td>\n",
       "      <td>0</td>\n",
       "      <td>2.65</td>\n",
       "      <td>25.0</td>\n",
       "      <td>15.0</td>\n",
       "      <td>5</td>\n",
       "      <td>NaN</td>\n",
       "      <td>...</td>\n",
       "      <td>2.0</td>\n",
       "      <td>посёлок Парголово</td>\n",
       "      <td>53791.0</td>\n",
       "      <td>18006.0</td>\n",
       "      <td>1.0</td>\n",
       "      <td>733.0</td>\n",
       "      <td>3.0</td>\n",
       "      <td>865.0</td>\n",
       "      <td>336.0</td>\n",
       "      <td>NaN</td>\n",
       "    </tr>\n",
       "    <tr>\n",
       "      <td>16429</td>\n",
       "      <td>2</td>\n",
       "      <td>2460000.0</td>\n",
       "      <td>28.01</td>\n",
       "      <td>2017-08-17T00:00:00</td>\n",
       "      <td>0</td>\n",
       "      <td>2.65</td>\n",
       "      <td>17.0</td>\n",
       "      <td>18.1</td>\n",
       "      <td>5</td>\n",
       "      <td>NaN</td>\n",
       "      <td>...</td>\n",
       "      <td>1.0</td>\n",
       "      <td>деревня Кудрово</td>\n",
       "      <td>NaN</td>\n",
       "      <td>NaN</td>\n",
       "      <td>NaN</td>\n",
       "      <td>NaN</td>\n",
       "      <td>NaN</td>\n",
       "      <td>NaN</td>\n",
       "      <td>15.0</td>\n",
       "      <td>NaN</td>\n",
       "    </tr>\n",
       "    <tr>\n",
       "      <td>17695</td>\n",
       "      <td>7</td>\n",
       "      <td>2550000.0</td>\n",
       "      <td>24.00</td>\n",
       "      <td>2017-12-16T00:00:00</td>\n",
       "      <td>0</td>\n",
       "      <td>2.65</td>\n",
       "      <td>23.0</td>\n",
       "      <td>17.0</td>\n",
       "      <td>8</td>\n",
       "      <td>NaN</td>\n",
       "      <td>...</td>\n",
       "      <td>1.0</td>\n",
       "      <td>деревня Кудрово</td>\n",
       "      <td>NaN</td>\n",
       "      <td>NaN</td>\n",
       "      <td>NaN</td>\n",
       "      <td>NaN</td>\n",
       "      <td>NaN</td>\n",
       "      <td>NaN</td>\n",
       "      <td>38.0</td>\n",
       "      <td>NaN</td>\n",
       "    </tr>\n",
       "    <tr>\n",
       "      <td>17729</td>\n",
       "      <td>7</td>\n",
       "      <td>2948000.0</td>\n",
       "      <td>28.05</td>\n",
       "      <td>2017-12-09T00:00:00</td>\n",
       "      <td>0</td>\n",
       "      <td>2.65</td>\n",
       "      <td>14.0</td>\n",
       "      <td>21.8</td>\n",
       "      <td>9</td>\n",
       "      <td>NaN</td>\n",
       "      <td>...</td>\n",
       "      <td>2.0</td>\n",
       "      <td>Санкт-Петербург</td>\n",
       "      <td>22098.0</td>\n",
       "      <td>23810.0</td>\n",
       "      <td>0.0</td>\n",
       "      <td>NaN</td>\n",
       "      <td>2.0</td>\n",
       "      <td>100.0</td>\n",
       "      <td>45.0</td>\n",
       "      <td>NaN</td>\n",
       "    </tr>\n",
       "    <tr>\n",
       "      <td>17805</td>\n",
       "      <td>17</td>\n",
       "      <td>2600000.0</td>\n",
       "      <td>31.10</td>\n",
       "      <td>2017-10-25T00:00:00</td>\n",
       "      <td>0</td>\n",
       "      <td>2.65</td>\n",
       "      <td>16.0</td>\n",
       "      <td>21.4</td>\n",
       "      <td>14</td>\n",
       "      <td>NaN</td>\n",
       "      <td>...</td>\n",
       "      <td>2.0</td>\n",
       "      <td>Санкт-Петербург</td>\n",
       "      <td>19212.0</td>\n",
       "      <td>22637.0</td>\n",
       "      <td>0.0</td>\n",
       "      <td>NaN</td>\n",
       "      <td>1.0</td>\n",
       "      <td>457.0</td>\n",
       "      <td>44.0</td>\n",
       "      <td>NaN</td>\n",
       "    </tr>\n",
       "    <tr>\n",
       "      <td>17824</td>\n",
       "      <td>10</td>\n",
       "      <td>2300000.0</td>\n",
       "      <td>22.50</td>\n",
       "      <td>2017-09-27T00:00:00</td>\n",
       "      <td>0</td>\n",
       "      <td>2.65</td>\n",
       "      <td>22.0</td>\n",
       "      <td>20.0</td>\n",
       "      <td>7</td>\n",
       "      <td>NaN</td>\n",
       "      <td>...</td>\n",
       "      <td>2.0</td>\n",
       "      <td>посёлок Мурино</td>\n",
       "      <td>NaN</td>\n",
       "      <td>NaN</td>\n",
       "      <td>NaN</td>\n",
       "      <td>NaN</td>\n",
       "      <td>NaN</td>\n",
       "      <td>NaN</td>\n",
       "      <td>11.0</td>\n",
       "      <td>NaN</td>\n",
       "    </tr>\n",
       "    <tr>\n",
       "      <td>18042</td>\n",
       "      <td>15</td>\n",
       "      <td>2950000.0</td>\n",
       "      <td>25.90</td>\n",
       "      <td>2017-12-09T00:00:00</td>\n",
       "      <td>0</td>\n",
       "      <td>2.65</td>\n",
       "      <td>14.0</td>\n",
       "      <td>16.9</td>\n",
       "      <td>9</td>\n",
       "      <td>NaN</td>\n",
       "      <td>...</td>\n",
       "      <td>2.0</td>\n",
       "      <td>Санкт-Петербург</td>\n",
       "      <td>23239.0</td>\n",
       "      <td>12102.0</td>\n",
       "      <td>1.0</td>\n",
       "      <td>1021.0</td>\n",
       "      <td>1.0</td>\n",
       "      <td>893.0</td>\n",
       "      <td>45.0</td>\n",
       "      <td>NaN</td>\n",
       "    </tr>\n",
       "    <tr>\n",
       "      <td>18549</td>\n",
       "      <td>16</td>\n",
       "      <td>3699000.0</td>\n",
       "      <td>29.00</td>\n",
       "      <td>2017-11-11T00:00:00</td>\n",
       "      <td>0</td>\n",
       "      <td>2.65</td>\n",
       "      <td>16.0</td>\n",
       "      <td>19.0</td>\n",
       "      <td>11</td>\n",
       "      <td>NaN</td>\n",
       "      <td>...</td>\n",
       "      <td>2.0</td>\n",
       "      <td>Санкт-Петербург</td>\n",
       "      <td>10949.0</td>\n",
       "      <td>12890.0</td>\n",
       "      <td>0.0</td>\n",
       "      <td>NaN</td>\n",
       "      <td>0.0</td>\n",
       "      <td>NaN</td>\n",
       "      <td>70.0</td>\n",
       "      <td>NaN</td>\n",
       "    </tr>\n",
       "    <tr>\n",
       "      <td>18782</td>\n",
       "      <td>0</td>\n",
       "      <td>2500000.0</td>\n",
       "      <td>25.00</td>\n",
       "      <td>2017-10-08T00:00:00</td>\n",
       "      <td>0</td>\n",
       "      <td>2.65</td>\n",
       "      <td>22.0</td>\n",
       "      <td>17.0</td>\n",
       "      <td>19</td>\n",
       "      <td>NaN</td>\n",
       "      <td>...</td>\n",
       "      <td>1.0</td>\n",
       "      <td>деревня Кудрово</td>\n",
       "      <td>NaN</td>\n",
       "      <td>NaN</td>\n",
       "      <td>NaN</td>\n",
       "      <td>NaN</td>\n",
       "      <td>NaN</td>\n",
       "      <td>NaN</td>\n",
       "      <td>8.0</td>\n",
       "      <td>NaN</td>\n",
       "    </tr>\n",
       "    <tr>\n",
       "      <td>19392</td>\n",
       "      <td>5</td>\n",
       "      <td>71000000.0</td>\n",
       "      <td>371.00</td>\n",
       "      <td>2018-07-26T00:00:00</td>\n",
       "      <td>0</td>\n",
       "      <td>3.57</td>\n",
       "      <td>7.0</td>\n",
       "      <td>NaN</td>\n",
       "      <td>6</td>\n",
       "      <td>NaN</td>\n",
       "      <td>...</td>\n",
       "      <td>NaN</td>\n",
       "      <td>Санкт-Петербург</td>\n",
       "      <td>25257.0</td>\n",
       "      <td>6060.0</td>\n",
       "      <td>1.0</td>\n",
       "      <td>761.0</td>\n",
       "      <td>1.0</td>\n",
       "      <td>584.0</td>\n",
       "      <td>90.0</td>\n",
       "      <td>NaN</td>\n",
       "    </tr>\n",
       "    <tr>\n",
       "      <td>19477</td>\n",
       "      <td>11</td>\n",
       "      <td>2300000.0</td>\n",
       "      <td>20.00</td>\n",
       "      <td>2017-11-10T00:00:00</td>\n",
       "      <td>0</td>\n",
       "      <td>2.65</td>\n",
       "      <td>10.0</td>\n",
       "      <td>16.0</td>\n",
       "      <td>1</td>\n",
       "      <td>NaN</td>\n",
       "      <td>...</td>\n",
       "      <td>NaN</td>\n",
       "      <td>Санкт-Петербург</td>\n",
       "      <td>29791.0</td>\n",
       "      <td>12652.0</td>\n",
       "      <td>0.0</td>\n",
       "      <td>NaN</td>\n",
       "      <td>1.0</td>\n",
       "      <td>815.0</td>\n",
       "      <td>35.0</td>\n",
       "      <td>NaN</td>\n",
       "    </tr>\n",
       "    <tr>\n",
       "      <td>19735</td>\n",
       "      <td>1</td>\n",
       "      <td>2800000.0</td>\n",
       "      <td>30.50</td>\n",
       "      <td>2017-10-10T00:00:00</td>\n",
       "      <td>0</td>\n",
       "      <td>2.75</td>\n",
       "      <td>25.0</td>\n",
       "      <td>20.0</td>\n",
       "      <td>2</td>\n",
       "      <td>NaN</td>\n",
       "      <td>...</td>\n",
       "      <td>2.0</td>\n",
       "      <td>деревня Кудрово</td>\n",
       "      <td>NaN</td>\n",
       "      <td>NaN</td>\n",
       "      <td>NaN</td>\n",
       "      <td>NaN</td>\n",
       "      <td>NaN</td>\n",
       "      <td>NaN</td>\n",
       "      <td>13.0</td>\n",
       "      <td>NaN</td>\n",
       "    </tr>\n",
       "    <tr>\n",
       "      <td>19917</td>\n",
       "      <td>5</td>\n",
       "      <td>2340000.0</td>\n",
       "      <td>25.41</td>\n",
       "      <td>2017-09-29T00:00:00</td>\n",
       "      <td>0</td>\n",
       "      <td>2.65</td>\n",
       "      <td>25.0</td>\n",
       "      <td>18.5</td>\n",
       "      <td>13</td>\n",
       "      <td>NaN</td>\n",
       "      <td>...</td>\n",
       "      <td>0.0</td>\n",
       "      <td>деревня Кудрово</td>\n",
       "      <td>NaN</td>\n",
       "      <td>NaN</td>\n",
       "      <td>NaN</td>\n",
       "      <td>NaN</td>\n",
       "      <td>NaN</td>\n",
       "      <td>NaN</td>\n",
       "      <td>3.0</td>\n",
       "      <td>NaN</td>\n",
       "    </tr>\n",
       "    <tr>\n",
       "      <td>20002</td>\n",
       "      <td>8</td>\n",
       "      <td>2700000.0</td>\n",
       "      <td>28.00</td>\n",
       "      <td>2017-11-10T00:00:00</td>\n",
       "      <td>0</td>\n",
       "      <td>2.65</td>\n",
       "      <td>21.0</td>\n",
       "      <td>20.0</td>\n",
       "      <td>6</td>\n",
       "      <td>NaN</td>\n",
       "      <td>...</td>\n",
       "      <td>2.0</td>\n",
       "      <td>Санкт-Петербург</td>\n",
       "      <td>21460.0</td>\n",
       "      <td>16788.0</td>\n",
       "      <td>0.0</td>\n",
       "      <td>NaN</td>\n",
       "      <td>1.0</td>\n",
       "      <td>170.0</td>\n",
       "      <td>17.0</td>\n",
       "      <td>NaN</td>\n",
       "    </tr>\n",
       "    <tr>\n",
       "      <td>20045</td>\n",
       "      <td>3</td>\n",
       "      <td>3100000.0</td>\n",
       "      <td>25.00</td>\n",
       "      <td>2017-09-27T00:00:00</td>\n",
       "      <td>0</td>\n",
       "      <td>2.65</td>\n",
       "      <td>24.0</td>\n",
       "      <td>18.0</td>\n",
       "      <td>24</td>\n",
       "      <td>NaN</td>\n",
       "      <td>...</td>\n",
       "      <td>2.0</td>\n",
       "      <td>Санкт-Петербург</td>\n",
       "      <td>33416.0</td>\n",
       "      <td>14557.0</td>\n",
       "      <td>0.0</td>\n",
       "      <td>NaN</td>\n",
       "      <td>0.0</td>\n",
       "      <td>NaN</td>\n",
       "      <td>7.0</td>\n",
       "      <td>NaN</td>\n",
       "    </tr>\n",
       "    <tr>\n",
       "      <td>20054</td>\n",
       "      <td>5</td>\n",
       "      <td>2730000.0</td>\n",
       "      <td>21.00</td>\n",
       "      <td>2017-11-22T00:00:00</td>\n",
       "      <td>0</td>\n",
       "      <td>2.65</td>\n",
       "      <td>9.0</td>\n",
       "      <td>14.0</td>\n",
       "      <td>6</td>\n",
       "      <td>NaN</td>\n",
       "      <td>...</td>\n",
       "      <td>NaN</td>\n",
       "      <td>Санкт-Петербург</td>\n",
       "      <td>17048.0</td>\n",
       "      <td>5936.0</td>\n",
       "      <td>2.0</td>\n",
       "      <td>462.0</td>\n",
       "      <td>0.0</td>\n",
       "      <td>NaN</td>\n",
       "      <td>45.0</td>\n",
       "      <td>NaN</td>\n",
       "    </tr>\n",
       "    <tr>\n",
       "      <td>20793</td>\n",
       "      <td>13</td>\n",
       "      <td>3600000.0</td>\n",
       "      <td>27.50</td>\n",
       "      <td>2017-11-10T00:00:00</td>\n",
       "      <td>0</td>\n",
       "      <td>2.65</td>\n",
       "      <td>24.0</td>\n",
       "      <td>19.0</td>\n",
       "      <td>23</td>\n",
       "      <td>NaN</td>\n",
       "      <td>...</td>\n",
       "      <td>2.0</td>\n",
       "      <td>Санкт-Петербург</td>\n",
       "      <td>11555.0</td>\n",
       "      <td>12099.0</td>\n",
       "      <td>0.0</td>\n",
       "      <td>NaN</td>\n",
       "      <td>1.0</td>\n",
       "      <td>527.0</td>\n",
       "      <td>74.0</td>\n",
       "      <td>NaN</td>\n",
       "    </tr>\n",
       "    <tr>\n",
       "      <td>21299</td>\n",
       "      <td>13</td>\n",
       "      <td>2450000.0</td>\n",
       "      <td>28.50</td>\n",
       "      <td>2017-11-22T00:00:00</td>\n",
       "      <td>0</td>\n",
       "      <td>2.65</td>\n",
       "      <td>12.0</td>\n",
       "      <td>18.0</td>\n",
       "      <td>7</td>\n",
       "      <td>NaN</td>\n",
       "      <td>...</td>\n",
       "      <td>2.0</td>\n",
       "      <td>Санкт-Петербург</td>\n",
       "      <td>20381.0</td>\n",
       "      <td>19383.0</td>\n",
       "      <td>0.0</td>\n",
       "      <td>NaN</td>\n",
       "      <td>1.0</td>\n",
       "      <td>579.0</td>\n",
       "      <td>73.0</td>\n",
       "      <td>NaN</td>\n",
       "    </tr>\n",
       "    <tr>\n",
       "      <td>21628</td>\n",
       "      <td>9</td>\n",
       "      <td>3900000.0</td>\n",
       "      <td>34.00</td>\n",
       "      <td>2017-03-18T00:00:00</td>\n",
       "      <td>0</td>\n",
       "      <td>2.65</td>\n",
       "      <td>20.0</td>\n",
       "      <td>24.0</td>\n",
       "      <td>10</td>\n",
       "      <td>NaN</td>\n",
       "      <td>...</td>\n",
       "      <td>2.0</td>\n",
       "      <td>Санкт-Петербург</td>\n",
       "      <td>15506.0</td>\n",
       "      <td>13615.0</td>\n",
       "      <td>0.0</td>\n",
       "      <td>NaN</td>\n",
       "      <td>1.0</td>\n",
       "      <td>767.0</td>\n",
       "      <td>320.0</td>\n",
       "      <td>NaN</td>\n",
       "    </tr>\n",
       "    <tr>\n",
       "      <td>22573</td>\n",
       "      <td>8</td>\n",
       "      <td>2250000.0</td>\n",
       "      <td>24.00</td>\n",
       "      <td>2017-09-28T00:00:00</td>\n",
       "      <td>0</td>\n",
       "      <td>2.65</td>\n",
       "      <td>12.0</td>\n",
       "      <td>15.0</td>\n",
       "      <td>3</td>\n",
       "      <td>NaN</td>\n",
       "      <td>...</td>\n",
       "      <td>2.0</td>\n",
       "      <td>городской посёлок Новоселье</td>\n",
       "      <td>NaN</td>\n",
       "      <td>NaN</td>\n",
       "      <td>NaN</td>\n",
       "      <td>NaN</td>\n",
       "      <td>NaN</td>\n",
       "      <td>NaN</td>\n",
       "      <td>45.0</td>\n",
       "      <td>NaN</td>\n",
       "    </tr>\n",
       "    <tr>\n",
       "      <td>23442</td>\n",
       "      <td>0</td>\n",
       "      <td>2500000.0</td>\n",
       "      <td>27.70</td>\n",
       "      <td>2017-09-28T00:00:00</td>\n",
       "      <td>0</td>\n",
       "      <td>2.65</td>\n",
       "      <td>24.0</td>\n",
       "      <td>18.0</td>\n",
       "      <td>4</td>\n",
       "      <td>NaN</td>\n",
       "      <td>...</td>\n",
       "      <td>2.0</td>\n",
       "      <td>посёлок Мурино</td>\n",
       "      <td>NaN</td>\n",
       "      <td>NaN</td>\n",
       "      <td>NaN</td>\n",
       "      <td>NaN</td>\n",
       "      <td>NaN</td>\n",
       "      <td>NaN</td>\n",
       "      <td>4.0</td>\n",
       "      <td>NaN</td>\n",
       "    </tr>\n",
       "    <tr>\n",
       "      <td>23592</td>\n",
       "      <td>10</td>\n",
       "      <td>1450000.0</td>\n",
       "      <td>29.00</td>\n",
       "      <td>2017-11-11T00:00:00</td>\n",
       "      <td>0</td>\n",
       "      <td>2.65</td>\n",
       "      <td>9.0</td>\n",
       "      <td>18.0</td>\n",
       "      <td>8</td>\n",
       "      <td>NaN</td>\n",
       "      <td>...</td>\n",
       "      <td>2.0</td>\n",
       "      <td>Никольское</td>\n",
       "      <td>NaN</td>\n",
       "      <td>NaN</td>\n",
       "      <td>NaN</td>\n",
       "      <td>NaN</td>\n",
       "      <td>NaN</td>\n",
       "      <td>NaN</td>\n",
       "      <td>82.0</td>\n",
       "      <td>NaN</td>\n",
       "    </tr>\n",
       "  </tbody>\n",
       "</table>\n",
       "<p>59 rows × 23 columns</p>\n",
       "</div>"
      ],
      "text/plain": [
       "       total_images  last_price  total_area first_day_exposition  rooms  \\\n",
       "349               4   2320000.0       25.00  2017-09-27T00:00:00      0   \n",
       "508               0   3375000.0       34.40  2017-03-28T00:00:00      0   \n",
       "780               9   2600000.0       26.10  2018-02-20T00:00:00      0   \n",
       "839              14   1900000.0       35.00  2017-04-14T00:00:00      0   \n",
       "946               5   2200000.0       23.00  2016-09-27T00:00:00      0   \n",
       "1574              0   2200000.0       22.00  2017-11-03T00:00:00      0   \n",
       "1625              7   1980000.0       23.98  2018-02-01T00:00:00      0   \n",
       "2532              5   3500000.0       27.10  2018-02-01T00:00:00      0   \n",
       "3019             18   2100000.0       24.00  2017-11-10T00:00:00      0   \n",
       "4115              7   2600000.0       24.00  2018-02-01T00:00:00      0   \n",
       "4437             10   3200000.0       25.00  2017-10-16T00:00:00      0   \n",
       "4683              2   3650000.0       35.00  2018-02-01T00:00:00      0   \n",
       "4876              7   3000000.0       25.00  2017-09-27T00:00:00      0   \n",
       "5749             20   3590000.0       25.00  2017-08-30T00:00:00      0   \n",
       "6472             13   3620000.0       28.00  2017-11-10T00:00:00      0   \n",
       "6612             18   3590000.0       26.80  2017-11-10T00:00:00      0   \n",
       "6805              7   1850000.0       31.00  2017-11-10T00:00:00      0   \n",
       "7008              4   5200000.0       32.30  2017-09-14T00:00:00      0   \n",
       "7237              8   2999000.0       42.63  2017-11-27T00:00:00      0   \n",
       "7286              6   2580000.0       30.00  2018-02-07T00:00:00      0   \n",
       "7818             11   3300000.0       27.30  2018-04-06T00:00:00      0   \n",
       "9412              5   2100000.0       16.00  2017-12-10T00:00:00      0   \n",
       "9586              7   1670000.0       28.30  2017-09-27T00:00:00      0   \n",
       "9861             10   2350000.0       25.00  2017-12-03T00:00:00      0   \n",
       "10284             9   2700000.0       24.00  2017-01-23T00:00:00      0   \n",
       "10606            14   2950000.0       25.27  2017-11-17T00:00:00      0   \n",
       "11035             1   2500000.0       26.00  2017-11-10T00:00:00      0   \n",
       "11051             2   2200000.0       26.00  2017-10-24T00:00:00      0   \n",
       "11157             0   2900000.0       27.30  2017-11-22T00:00:00      0   \n",
       "11331             6   1315000.0       27.32  2017-09-29T00:00:00      0   \n",
       "11692             0   2550000.0       23.06  2017-10-24T00:00:00      0   \n",
       "11705             5   3380000.0       26.00  2018-02-20T00:00:00      0   \n",
       "12412             0   3300000.0       27.00  2017-08-15T00:00:00      0   \n",
       "12691             1   3700000.0       24.20  2017-11-10T00:00:00      0   \n",
       "13953            21   3255000.0       28.20  2017-09-26T00:00:00      0   \n",
       "15105             8   2500000.0       26.10  2017-12-01T00:00:00      0   \n",
       "15273             9   2700000.0       25.20  2017-11-10T00:00:00      0   \n",
       "15434             0   2200000.0       27.00  2017-01-01T00:00:00      0   \n",
       "16429             2   2460000.0       28.01  2017-08-17T00:00:00      0   \n",
       "17695             7   2550000.0       24.00  2017-12-16T00:00:00      0   \n",
       "17729             7   2948000.0       28.05  2017-12-09T00:00:00      0   \n",
       "17805            17   2600000.0       31.10  2017-10-25T00:00:00      0   \n",
       "17824            10   2300000.0       22.50  2017-09-27T00:00:00      0   \n",
       "18042            15   2950000.0       25.90  2017-12-09T00:00:00      0   \n",
       "18549            16   3699000.0       29.00  2017-11-11T00:00:00      0   \n",
       "18782             0   2500000.0       25.00  2017-10-08T00:00:00      0   \n",
       "19392             5  71000000.0      371.00  2018-07-26T00:00:00      0   \n",
       "19477            11   2300000.0       20.00  2017-11-10T00:00:00      0   \n",
       "19735             1   2800000.0       30.50  2017-10-10T00:00:00      0   \n",
       "19917             5   2340000.0       25.41  2017-09-29T00:00:00      0   \n",
       "20002             8   2700000.0       28.00  2017-11-10T00:00:00      0   \n",
       "20045             3   3100000.0       25.00  2017-09-27T00:00:00      0   \n",
       "20054             5   2730000.0       21.00  2017-11-22T00:00:00      0   \n",
       "20793            13   3600000.0       27.50  2017-11-10T00:00:00      0   \n",
       "21299            13   2450000.0       28.50  2017-11-22T00:00:00      0   \n",
       "21628             9   3900000.0       34.00  2017-03-18T00:00:00      0   \n",
       "22573             8   2250000.0       24.00  2017-09-28T00:00:00      0   \n",
       "23442             0   2500000.0       27.70  2017-09-28T00:00:00      0   \n",
       "23592            10   1450000.0       29.00  2017-11-11T00:00:00      0   \n",
       "\n",
       "       ceiling_height  floors_total  living_area  floor is_apartment  ...  \\\n",
       "349              2.65          14.0         17.0      1          NaN  ...   \n",
       "508              2.65          26.0         24.3     19          NaN  ...   \n",
       "780              2.65          18.0          NaN      8          NaN  ...   \n",
       "839              2.70           5.0         15.0      3        False  ...   \n",
       "946              2.65          27.0         18.0      7          NaN  ...   \n",
       "1574             2.65          18.0         15.0     16          NaN  ...   \n",
       "1625             2.65           4.0         10.5      3          NaN  ...   \n",
       "2532             2.65          18.0         18.7      9          NaN  ...   \n",
       "3019             2.65          10.0         18.0      6          NaN  ...   \n",
       "4115             2.65          25.0         18.0      4          NaN  ...   \n",
       "4437             2.65           9.0         18.6      9          NaN  ...   \n",
       "4683             2.65          25.0         23.4     25          NaN  ...   \n",
       "4876            27.00          25.0         17.0     17          NaN  ...   \n",
       "5749             2.80          35.0          NaN     26          NaN  ...   \n",
       "6472             2.70          20.0         18.0     17          NaN  ...   \n",
       "6612             2.65          24.0         19.0     20          NaN  ...   \n",
       "6805             2.65          18.0         18.0     10          NaN  ...   \n",
       "7008             2.65          11.0         25.5      4          NaN  ...   \n",
       "7237             2.65          16.0         25.7      2          NaN  ...   \n",
       "7286             2.65          18.0         19.0      2          NaN  ...   \n",
       "7818             2.65          20.0          NaN      9          NaN  ...   \n",
       "9412             2.65           6.0         13.0      1          NaN  ...   \n",
       "9586             2.65           9.0         18.2      3          NaN  ...   \n",
       "9861             2.65          22.0         25.0     17          NaN  ...   \n",
       "10284            2.65          12.0         15.5     11          NaN  ...   \n",
       "10606            2.65          25.0         25.0     11          NaN  ...   \n",
       "11035            2.65           8.0         14.0      6          NaN  ...   \n",
       "11051            2.65          21.0         12.0     21          NaN  ...   \n",
       "11157            2.80           8.0         20.0      5          NaN  ...   \n",
       "11331            2.70          15.0         18.7     15          NaN  ...   \n",
       "11692            2.80          14.0         18.0      9          NaN  ...   \n",
       "11705            2.80          17.0         17.0      8          NaN  ...   \n",
       "12412            2.65          25.0         25.0     22          NaN  ...   \n",
       "12691            2.65          19.0         24.2     13          NaN  ...   \n",
       "13953            2.65          24.0         20.0      2          NaN  ...   \n",
       "15105            2.65          25.0         18.0      4          NaN  ...   \n",
       "15273            2.65           9.0         15.2      2          NaN  ...   \n",
       "15434            2.65          25.0         15.0      5          NaN  ...   \n",
       "16429            2.65          17.0         18.1      5          NaN  ...   \n",
       "17695            2.65          23.0         17.0      8          NaN  ...   \n",
       "17729            2.65          14.0         21.8      9          NaN  ...   \n",
       "17805            2.65          16.0         21.4     14          NaN  ...   \n",
       "17824            2.65          22.0         20.0      7          NaN  ...   \n",
       "18042            2.65          14.0         16.9      9          NaN  ...   \n",
       "18549            2.65          16.0         19.0     11          NaN  ...   \n",
       "18782            2.65          22.0         17.0     19          NaN  ...   \n",
       "19392            3.57           7.0          NaN      6          NaN  ...   \n",
       "19477            2.65          10.0         16.0      1          NaN  ...   \n",
       "19735            2.75          25.0         20.0      2          NaN  ...   \n",
       "19917            2.65          25.0         18.5     13          NaN  ...   \n",
       "20002            2.65          21.0         20.0      6          NaN  ...   \n",
       "20045            2.65          24.0         18.0     24          NaN  ...   \n",
       "20054            2.65           9.0         14.0      6          NaN  ...   \n",
       "20793            2.65          24.0         19.0     23          NaN  ...   \n",
       "21299            2.65          12.0         18.0      7          NaN  ...   \n",
       "21628            2.65          20.0         24.0     10          NaN  ...   \n",
       "22573            2.65          12.0         15.0      3          NaN  ...   \n",
       "23442            2.65          24.0         18.0      4          NaN  ...   \n",
       "23592            2.65           9.0         18.0      8          NaN  ...   \n",
       "\n",
       "       balcony                locality_name  airports_nearest  \\\n",
       "349        0.0              деревня Кудрово               NaN   \n",
       "508        1.0            посёлок Парголово           53115.0   \n",
       "780        1.0               посёлок Мурино               NaN   \n",
       "839        1.0           поселок Новый Свет               NaN   \n",
       "946        2.0               посёлок Мурино               NaN   \n",
       "1574       1.0              деревня Кудрово               NaN   \n",
       "1625       1.0      поселок станции Корнево               NaN   \n",
       "2532       2.0              Санкт-Петербург           32036.0   \n",
       "3019       2.0                    Сертолово               NaN   \n",
       "4115       2.0              Санкт-Петербург           10031.0   \n",
       "4437       2.0              Санкт-Петербург           11943.0   \n",
       "4683       NaN              Санкт-Петербург           43431.0   \n",
       "4876       2.0               посёлок Мурино               NaN   \n",
       "5749       2.0              Санкт-Петербург           18732.0   \n",
       "6472       2.0              Санкт-Петербург           35068.0   \n",
       "6612       NaN              Санкт-Петербург           11022.0   \n",
       "6805       1.0                   Никольское               NaN   \n",
       "7008       NaN              Санкт-Петербург           30824.0   \n",
       "7237       2.0              деревня Кудрово               NaN   \n",
       "7286       NaN            посёлок Парголово           52610.0   \n",
       "7818       2.0              Санкт-Петербург           15990.0   \n",
       "9412       NaN              Санкт-Петербург           20735.0   \n",
       "9586       0.0                   Никольское               NaN   \n",
       "9861       2.0               посёлок Мурино               NaN   \n",
       "10284      1.0              деревня Кудрово               NaN   \n",
       "10606      1.0              Санкт-Петербург           11405.0   \n",
       "11035      NaN    городской посёлок Янино-1               NaN   \n",
       "11051      2.0              деревня Кудрово               NaN   \n",
       "11157      NaN              Санкт-Петербург           38832.0   \n",
       "11331      NaN                   Никольское               NaN   \n",
       "11692      2.0              деревня Кудрово               NaN   \n",
       "11705      1.0              Санкт-Петербург           15706.0   \n",
       "12412      NaN              Санкт-Петербург           12199.0   \n",
       "12691      1.0              Санкт-Петербург           17837.0   \n",
       "13953      NaN              Санкт-Петербург           41466.0   \n",
       "15105      2.0               посёлок Мурино               NaN   \n",
       "15273      2.0              деревня Кудрово               NaN   \n",
       "15434      2.0            посёлок Парголово           53791.0   \n",
       "16429      1.0              деревня Кудрово               NaN   \n",
       "17695      1.0              деревня Кудрово               NaN   \n",
       "17729      2.0              Санкт-Петербург           22098.0   \n",
       "17805      2.0              Санкт-Петербург           19212.0   \n",
       "17824      2.0               посёлок Мурино               NaN   \n",
       "18042      2.0              Санкт-Петербург           23239.0   \n",
       "18549      2.0              Санкт-Петербург           10949.0   \n",
       "18782      1.0              деревня Кудрово               NaN   \n",
       "19392      NaN              Санкт-Петербург           25257.0   \n",
       "19477      NaN              Санкт-Петербург           29791.0   \n",
       "19735      2.0              деревня Кудрово               NaN   \n",
       "19917      0.0              деревня Кудрово               NaN   \n",
       "20002      2.0              Санкт-Петербург           21460.0   \n",
       "20045      2.0              Санкт-Петербург           33416.0   \n",
       "20054      NaN              Санкт-Петербург           17048.0   \n",
       "20793      2.0              Санкт-Петербург           11555.0   \n",
       "21299      2.0              Санкт-Петербург           20381.0   \n",
       "21628      2.0              Санкт-Петербург           15506.0   \n",
       "22573      2.0  городской посёлок Новоселье               NaN   \n",
       "23442      2.0               посёлок Мурино               NaN   \n",
       "23592      2.0                   Никольское               NaN   \n",
       "\n",
       "       cityCenters_nearest parks_around3000  parks_nearest  ponds_around3000  \\\n",
       "349                    NaN              NaN            NaN               NaN   \n",
       "508                19292.0              0.0            NaN               1.0   \n",
       "780                    NaN              NaN            NaN               NaN   \n",
       "839                    NaN              NaN            NaN               NaN   \n",
       "946                    NaN              NaN            NaN               NaN   \n",
       "1574                   NaN              NaN            NaN               NaN   \n",
       "1625                   NaN              NaN            NaN               NaN   \n",
       "2532                8175.0              0.0            NaN               1.0   \n",
       "3019                   NaN              NaN            NaN               NaN   \n",
       "4115               13330.0              1.0          915.0               0.0   \n",
       "4437               11710.0              1.0          518.0               1.0   \n",
       "4683               12188.0              0.0            NaN               0.0   \n",
       "4876                   NaN              NaN            NaN               NaN   \n",
       "5749               20444.0              0.0            NaN               3.0   \n",
       "6472               16167.0              0.0            NaN               0.0   \n",
       "6612               12679.0              0.0            NaN               0.0   \n",
       "6805                   NaN              NaN            NaN               NaN   \n",
       "7008                6469.0              1.0          756.0               1.0   \n",
       "7237                   NaN              NaN            NaN               NaN   \n",
       "7286               18787.0              0.0            NaN               0.0   \n",
       "7818               13853.0              0.0            NaN               1.0   \n",
       "9412                2111.0              2.0          228.0               3.0   \n",
       "9586                   NaN              NaN            NaN               NaN   \n",
       "9861                   NaN              NaN            NaN               NaN   \n",
       "10284                  NaN              NaN            NaN               NaN   \n",
       "10606              13222.0              0.0            NaN               1.0   \n",
       "11035                  NaN              NaN            NaN               NaN   \n",
       "11051                  NaN              NaN            NaN               NaN   \n",
       "11157              13729.0              0.0            NaN               0.0   \n",
       "11331                  NaN              NaN            NaN               NaN   \n",
       "11692                  NaN              NaN            NaN               NaN   \n",
       "11705               7734.0              2.0          592.0               1.0   \n",
       "12412              12111.0              0.0            NaN               1.0   \n",
       "12691              16840.0              0.0            NaN               2.0   \n",
       "13953              11538.0              0.0            NaN               0.0   \n",
       "15105                  NaN              NaN            NaN               NaN   \n",
       "15273                  NaN              NaN            NaN               NaN   \n",
       "15434              18006.0              1.0          733.0               3.0   \n",
       "16429                  NaN              NaN            NaN               NaN   \n",
       "17695                  NaN              NaN            NaN               NaN   \n",
       "17729              23810.0              0.0            NaN               2.0   \n",
       "17805              22637.0              0.0            NaN               1.0   \n",
       "17824                  NaN              NaN            NaN               NaN   \n",
       "18042              12102.0              1.0         1021.0               1.0   \n",
       "18549              12890.0              0.0            NaN               0.0   \n",
       "18782                  NaN              NaN            NaN               NaN   \n",
       "19392               6060.0              1.0          761.0               1.0   \n",
       "19477              12652.0              0.0            NaN               1.0   \n",
       "19735                  NaN              NaN            NaN               NaN   \n",
       "19917                  NaN              NaN            NaN               NaN   \n",
       "20002              16788.0              0.0            NaN               1.0   \n",
       "20045              14557.0              0.0            NaN               0.0   \n",
       "20054               5936.0              2.0          462.0               0.0   \n",
       "20793              12099.0              0.0            NaN               1.0   \n",
       "21299              19383.0              0.0            NaN               1.0   \n",
       "21628              13615.0              0.0            NaN               1.0   \n",
       "22573                  NaN              NaN            NaN               NaN   \n",
       "23442                  NaN              NaN            NaN               NaN   \n",
       "23592                  NaN              NaN            NaN               NaN   \n",
       "\n",
       "       ponds_nearest  days_exposition  percent_kitchen  \n",
       "349              NaN             45.0              NaN  \n",
       "508            593.0            430.0              NaN  \n",
       "780              NaN             45.0              NaN  \n",
       "839              NaN              7.0              NaN  \n",
       "946              NaN            483.0              NaN  \n",
       "1574             NaN             81.0              NaN  \n",
       "1625             NaN            120.0              NaN  \n",
       "2532           644.0             70.0              NaN  \n",
       "3019             NaN              5.0              NaN  \n",
       "4115             NaN             42.0              NaN  \n",
       "4437           232.0             97.0              NaN  \n",
       "4683             NaN            100.0              NaN  \n",
       "4876             NaN             28.0              NaN  \n",
       "5749            80.0            198.0              NaN  \n",
       "6472             NaN             37.0              NaN  \n",
       "6612             NaN             15.0              NaN  \n",
       "6805             NaN              7.0              NaN  \n",
       "7008           936.0             86.0              NaN  \n",
       "7237             NaN             45.0              NaN  \n",
       "7286             NaN             41.0              NaN  \n",
       "7818           584.0             31.0              NaN  \n",
       "9412            72.0              3.0              NaN  \n",
       "9586             NaN             45.0              NaN  \n",
       "9861             NaN             13.0              NaN  \n",
       "10284            NaN            357.0              NaN  \n",
       "10606          623.0             51.0              NaN  \n",
       "11035            NaN             22.0              NaN  \n",
       "11051            NaN             35.0              NaN  \n",
       "11157            NaN              9.0              NaN  \n",
       "11331            NaN            116.0              NaN  \n",
       "11692            NaN             20.0              NaN  \n",
       "11705          802.0             45.0              NaN  \n",
       "12412          337.0            161.0              NaN  \n",
       "12691          210.0             74.0              NaN  \n",
       "13953            NaN            119.0              NaN  \n",
       "15105            NaN             45.0              NaN  \n",
       "15273            NaN             23.0              NaN  \n",
       "15434          865.0            336.0              NaN  \n",
       "16429            NaN             15.0              NaN  \n",
       "17695            NaN             38.0              NaN  \n",
       "17729          100.0             45.0              NaN  \n",
       "17805          457.0             44.0              NaN  \n",
       "17824            NaN             11.0              NaN  \n",
       "18042          893.0             45.0              NaN  \n",
       "18549            NaN             70.0              NaN  \n",
       "18782            NaN              8.0              NaN  \n",
       "19392          584.0             90.0              NaN  \n",
       "19477          815.0             35.0              NaN  \n",
       "19735            NaN             13.0              NaN  \n",
       "19917            NaN              3.0              NaN  \n",
       "20002          170.0             17.0              NaN  \n",
       "20045            NaN              7.0              NaN  \n",
       "20054            NaN             45.0              NaN  \n",
       "20793          527.0             74.0              NaN  \n",
       "21299          579.0             73.0              NaN  \n",
       "21628          767.0            320.0              NaN  \n",
       "22573            NaN             45.0              NaN  \n",
       "23442            NaN              4.0              NaN  \n",
       "23592            NaN             82.0              NaN  \n",
       "\n",
       "[59 rows x 23 columns]"
      ]
     },
     "execution_count": 16,
     "metadata": {},
     "output_type": "execute_result"
    }
   ],
   "source": [
    "# срез данных по studio==False\n",
    "df.query('kitchen_area==\"nan\" and studio==False')"
   ]
  },
  {
   "cell_type": "markdown",
   "metadata": {},
   "source": [
    "Итого имеем 59 квартир, где количество комнат равно 0 и которые не являются студиями. Судя по общей площади, квартиры больше похоже на студии. Возможно во время заполнения данных была допущена ошибка. Исходя из этого, заполним пропуски 0."
   ]
  },
  {
   "cell_type": "code",
   "execution_count": 17,
   "metadata": {},
   "outputs": [],
   "source": [
    "# замена пропущенных значений на 0\n",
    "df['kitchen_area'] = df['kitchen_area'].fillna(0)"
   ]
  },
  {
   "cell_type": "code",
   "execution_count": 18,
   "metadata": {},
   "outputs": [
    {
     "data": {
      "text/plain": [
       "0"
      ]
     },
     "execution_count": 18,
     "metadata": {},
     "output_type": "execute_result"
    }
   ],
   "source": [
    "# проверка пропусков\n",
    "df['kitchen_area'].isna().sum()"
   ]
  },
  {
   "cell_type": "markdown",
   "metadata": {},
   "source": [
    "В столбце `living_area` 1903 пропуска. Как было сказано выше, у нас имеется целых три площади: общая, жилая и кухни. Если сложить площадь кухни с жилой площадью, то можно найти, какой процент они занимают от общей площади. В среднем получается 75%. Следовательно, можно заполнить пропуски, умножив полученный процент на общую площадь"
   ]
  },
  {
   "cell_type": "code",
   "execution_count": 19,
   "metadata": {},
   "outputs": [
    {
     "data": {
      "text/plain": [
       "75.06013661805304"
      ]
     },
     "execution_count": 19,
     "metadata": {},
     "output_type": "execute_result"
    }
   ],
   "source": [
    "# расчет процента\n",
    "(((df['living_area']+df['kitchen_area']))/df['total_area']*100).mean()"
   ]
  },
  {
   "cell_type": "code",
   "execution_count": 20,
   "metadata": {},
   "outputs": [],
   "source": [
    "# создание функции, которая для пропусков умножает процент на общую площадь\n",
    "def living_area_mean(row):\n",
    "    tot_area = row['total_area']\n",
    "    if pd.isnull(row['living_area']):\n",
    "        area = tot_area*0.7506\n",
    "        return area\n",
    "    else:\n",
    "        return row['living_area']\n",
    "df['living_area'] = df.apply(living_area_mean, axis=1) # замена пропусков методом apply    "
   ]
  },
  {
   "cell_type": "code",
   "execution_count": 21,
   "metadata": {},
   "outputs": [
    {
     "data": {
      "text/plain": [
       "0"
      ]
     },
     "execution_count": 21,
     "metadata": {},
     "output_type": "execute_result"
    }
   ],
   "source": [
    "# проверка пропусков\n",
    "df['living_area'].isna().sum()"
   ]
  },
  {
   "cell_type": "code",
   "execution_count": 22,
   "metadata": {},
   "outputs": [
    {
     "data": {
      "text/plain": [
       "0     51.0000\n",
       "1     18.6000\n",
       "2     34.3000\n",
       "3    119.3454\n",
       "4     32.0000\n",
       "Name: living_area, dtype: float64"
      ]
     },
     "execution_count": 22,
     "metadata": {},
     "output_type": "execute_result"
    }
   ],
   "source": [
    "# проверка\n",
    "df['living_area'].head()"
   ]
  },
  {
   "cell_type": "markdown",
   "metadata": {},
   "source": [
    "В столбце `balcony` пропущено 11519 значений. Возможно, раз человек не указал число балконов — скорее всего, их нет. Тогда пропущенные значения можно заменить на 0."
   ]
  },
  {
   "cell_type": "code",
   "execution_count": 23,
   "metadata": {},
   "outputs": [
    {
     "data": {
      "text/plain": [
       "array([nan,  2.,  0.,  1.,  5.,  4.,  3.])"
      ]
     },
     "execution_count": 23,
     "metadata": {},
     "output_type": "execute_result"
    }
   ],
   "source": [
    "# просмотр уникальных значений количества балконов\n",
    "df['balcony'].unique()"
   ]
  },
  {
   "cell_type": "code",
   "execution_count": 24,
   "metadata": {},
   "outputs": [],
   "source": [
    "# замена пропущенных значений в стролбце balcony на 0\n",
    "df['balcony'] = df['balcony'].fillna(0)"
   ]
  },
  {
   "cell_type": "code",
   "execution_count": 25,
   "metadata": {
    "scrolled": true
   },
   "outputs": [
    {
     "data": {
      "text/plain": [
       "0.0    15277\n",
       "1.0     4195\n",
       "2.0     3659\n",
       "5.0      304\n",
       "4.0      183\n",
       "3.0       81\n",
       "Name: balcony, dtype: int64"
      ]
     },
     "execution_count": 25,
     "metadata": {},
     "output_type": "execute_result"
    }
   ],
   "source": [
    "# проверка\n",
    "df['balcony'].value_counts()"
   ]
  },
  {
   "cell_type": "markdown",
   "metadata": {},
   "source": [
    "В остальные столбцах оставим пропуски пустыми, так как подходящих значений на заменут у нас нет. Кроме того наличие пропусков не повлияет на наше исследование"
   ]
  },
  {
   "cell_type": "markdown",
   "metadata": {},
   "source": [
    "У нас имеется 14 столбцов с вещественным типом данных. Заменим их на числовой тип, за исключением тех столбцов, где нам важны сантиметры: `total_area`, `living_area`, `kitchean_area`, `ceiling_height`. Чтобы превести вещественные числа в целые воспользуемся методом `astype()`Б кроме столбца `days_exposition`, в котором округлим округлим значения самостоятельно и только потом поменяем тип (если этого не сделать, то будет ошибка)"
   ]
  },
  {
   "cell_type": "code",
   "execution_count": 26,
   "metadata": {},
   "outputs": [],
   "source": [
    "# округление значений столбца days_exposition\n",
    "df['days_exposition'] = pd.to_numeric(df['days_exposition'], errors='coerce')\n",
    "df['days_exposition'] = round(df['days_exposition'])"
   ]
  },
  {
   "cell_type": "code",
   "execution_count": 27,
   "metadata": {},
   "outputs": [],
   "source": [
    "# замена вещественного типа данных на целочисленный\n",
    "df['balcony'] = df['balcony'].astype('int')\n",
    "df['cityCenters_nearest'] = df['cityCenters_nearest'].astype('Int64')\n",
    "df['floors_total'] = df['floors_total'].astype('Int64')\n",
    "df['last_price'] = df['last_price'].astype('int')\n",
    "df['parks_around3000'] = df['parks_around3000'].astype('Int64')\n",
    "df['parks_nearest'] = df['parks_nearest'].astype('Int64')\n",
    "df['ponds_around3000'] = df['ponds_around3000'].astype('Int64')\n",
    "df['ponds_nearest'] = df['ponds_nearest'].astype('Int64')\n",
    "df['airports_nearest'] = df['airports_nearest'].astype('Int64')\n",
    "df['days_exposition'] = df['days_exposition'].astype('Int64')"
   ]
  },
  {
   "cell_type": "code",
   "execution_count": 28,
   "metadata": {},
   "outputs": [],
   "source": [
    "# замена типа данных object на datetime\n",
    "df['first_day_exposition'] = pd.to_datetime(df['first_day_exposition'])"
   ]
  },
  {
   "cell_type": "code",
   "execution_count": 29,
   "metadata": {
    "scrolled": true
   },
   "outputs": [
    {
     "data": {
      "text/plain": [
       "total_images                     int64\n",
       "last_price                       int64\n",
       "total_area                     float64\n",
       "first_day_exposition    datetime64[ns]\n",
       "rooms                            int64\n",
       "ceiling_height                 float64\n",
       "floors_total                     Int64\n",
       "living_area                    float64\n",
       "floor                            int64\n",
       "is_apartment                    object\n",
       "studio                            bool\n",
       "open_plan                         bool\n",
       "kitchen_area                   float64\n",
       "balcony                          int64\n",
       "locality_name                   object\n",
       "airports_nearest                 Int64\n",
       "cityCenters_nearest              Int64\n",
       "parks_around3000                 Int64\n",
       "parks_nearest                    Int64\n",
       "ponds_around3000                 Int64\n",
       "ponds_nearest                    Int64\n",
       "days_exposition                  Int64\n",
       "percent_kitchen                float64\n",
       "dtype: object"
      ]
     },
     "execution_count": 29,
     "metadata": {},
     "output_type": "execute_result"
    }
   ],
   "source": [
    "# проверка типов данных\n",
    "df.dtypes"
   ]
  },
  {
   "cell_type": "markdown",
   "metadata": {},
   "source": [
    "Проверим есть ли в данных дубликаты и если есть, удалим их"
   ]
  },
  {
   "cell_type": "code",
   "execution_count": 30,
   "metadata": {},
   "outputs": [
    {
     "data": {
      "text/plain": [
       "array(['Санкт-Петербург', 'посёлок Шушары', 'городской посёлок Янино-1',\n",
       "       'посёлок Парголово', 'посёлок Мурино', 'Ломоносов', 'Сертолово',\n",
       "       'Петергоф', 'Пушкин', 'деревня Кудрово', 'Коммунар', 'Колпино',\n",
       "       'поселок городского типа Красный Бор', 'Гатчина', 'поселок Мурино',\n",
       "       'деревня Фёдоровское', 'Выборг', 'Кронштадт', 'Кировск',\n",
       "       'деревня Новое Девяткино', 'посёлок Металлострой',\n",
       "       'посёлок городского типа Лебяжье',\n",
       "       'посёлок городского типа Сиверский', 'поселок Молодцово',\n",
       "       'поселок городского типа Кузьмоловский',\n",
       "       'садовое товарищество Новая Ропша', 'Павловск',\n",
       "       'деревня Пикколово', 'Всеволожск', 'Волхов', 'Кингисепп',\n",
       "       'Приозерск', 'Сестрорецк', 'деревня Куттузи', 'посёлок Аннино',\n",
       "       'поселок городского типа Ефимовский', 'посёлок Плодовое',\n",
       "       'деревня Заклинье', 'поселок Торковичи', 'поселок Первомайское',\n",
       "       'Красное Село', 'посёлок Понтонный', 'Сясьстрой', 'деревня Старая',\n",
       "       'деревня Лесколово', 'посёлок Новый Свет', 'Сланцы',\n",
       "       'село Путилово', 'Ивангород', 'Мурино', 'Шлиссельбург',\n",
       "       'Никольское', 'Зеленогорск', 'Сосновый Бор', 'поселок Новый Свет',\n",
       "       'деревня Оржицы', 'деревня Кальтино', 'Кудрово',\n",
       "       'поселок Романовка', 'посёлок Бугры', 'поселок Бугры',\n",
       "       'поселок городского типа Рощино', 'Кириши', 'Луга', 'Волосово',\n",
       "       'Отрадное', 'село Павлово', 'поселок Оредеж', 'село Копорье',\n",
       "       'посёлок городского типа Красный Бор', 'посёлок Молодёжное',\n",
       "       'Тихвин', 'посёлок Победа', 'деревня Нурма',\n",
       "       'поселок городского типа Синявино', 'Тосно',\n",
       "       'посёлок городского типа Кузьмоловский', 'посёлок Стрельна',\n",
       "       'Бокситогорск', 'посёлок Александровская', 'деревня Лопухинка',\n",
       "       'Пикалёво', 'поселок Терволово',\n",
       "       'поселок городского типа Советский', 'Подпорожье',\n",
       "       'посёлок Петровское', 'посёлок городского типа Токсово',\n",
       "       'поселок Сельцо', 'посёлок городского типа Вырица',\n",
       "       'деревня Кипень', 'деревня Келози', 'деревня Вартемяги',\n",
       "       'посёлок Тельмана', 'поселок Севастьяново',\n",
       "       'городской поселок Большая Ижора', nan,\n",
       "       'городской посёлок Павлово', 'деревня Агалатово',\n",
       "       'посёлок Новогорелово', 'городской посёлок Лесогорский',\n",
       "       'деревня Лаголово', 'поселок Цвелодубово',\n",
       "       'поселок городского типа Рахья', 'поселок городского типа Вырица',\n",
       "       'деревня Белогорка', 'поселок Заводской',\n",
       "       'городской посёлок Новоселье', 'деревня Большие Колпаны',\n",
       "       'деревня Горбунки', 'деревня Батово', 'деревня Заневка',\n",
       "       'деревня Иссад', 'Приморск', 'городской посёлок Фёдоровское',\n",
       "       'деревня Мистолово', 'Новая Ладога', 'поселок Зимитицы',\n",
       "       'поселок Барышево', 'деревня Разметелево',\n",
       "       'поселок городского типа имени Свердлова', 'деревня Пеники',\n",
       "       'поселок Рябово', 'деревня Пудомяги', 'поселок станции Корнево',\n",
       "       'деревня Низино', 'деревня Бегуницы', 'посёлок Поляны',\n",
       "       'городской посёлок Мга', 'поселок Елизаветино',\n",
       "       'посёлок городского типа Кузнечное', 'деревня Колтуши',\n",
       "       'поселок Запорожское', 'посёлок городского типа Рощино',\n",
       "       'деревня Гостилицы', 'деревня Малое Карлино',\n",
       "       'посёлок Мичуринское', 'посёлок городского типа имени Морозова',\n",
       "       'посёлок Песочный', 'посёлок Сосново', 'деревня Аро',\n",
       "       'поселок Ильичёво', 'посёлок городского типа Тайцы',\n",
       "       'деревня Малое Верево', 'деревня Извара', 'поселок станции Вещево',\n",
       "       'село Паша', 'деревня Калитино',\n",
       "       'посёлок городского типа Ульяновка', 'деревня Чудской Бор',\n",
       "       'поселок городского типа Дубровка', 'деревня Мины',\n",
       "       'поселок Войсковицы', 'посёлок городского типа имени Свердлова',\n",
       "       'деревня Коркино', 'посёлок Ропша',\n",
       "       'поселок городского типа Приладожский', 'посёлок Щеглово',\n",
       "       'посёлок Гаврилово', 'Лодейное Поле', 'деревня Рабитицы',\n",
       "       'поселок городского типа Никольский', 'деревня Кузьмолово',\n",
       "       'деревня Малые Колпаны', 'поселок Тельмана',\n",
       "       'посёлок Петро-Славянка', 'городской посёлок Назия',\n",
       "       'посёлок Репино', 'посёлок Ильичёво', 'поселок Углово',\n",
       "       'поселок Старая Малукса', 'садовое товарищество Рахья',\n",
       "       'поселок Аннино', 'поселок Победа', 'деревня Меньково',\n",
       "       'деревня Старые Бегуницы', 'посёлок Сапёрный', 'поселок Семрино',\n",
       "       'поселок Гаврилово', 'поселок Глажево', 'поселок Кобринское',\n",
       "       'деревня Гарболово', 'деревня Юкки',\n",
       "       'поселок станции Приветнинское', 'деревня Мануйлово',\n",
       "       'деревня Пчева', 'поселок Поляны', 'поселок Цвылёво',\n",
       "       'поселок Мельниково', 'посёлок Пудость', 'посёлок Усть-Луга',\n",
       "       'Светогорск', 'Любань', 'поселок Селезнёво',\n",
       "       'поселок городского типа Рябово', 'Каменногорск', 'деревня Кривко',\n",
       "       'поселок Глебычево', 'деревня Парицы', 'поселок Жилпосёлок',\n",
       "       'посёлок городского типа Мга', 'городской поселок Янино-1',\n",
       "       'посёлок Войскорово', 'село Никольское', 'посёлок Терволово',\n",
       "       'поселок Стеклянный', 'посёлок городского типа Важины',\n",
       "       'посёлок Мыза-Ивановка', 'село Русско-Высоцкое',\n",
       "       'поселок городского типа Лебяжье',\n",
       "       'поселок городского типа Форносово', 'село Старая Ладога',\n",
       "       'поселок Житково', 'городской посёлок Виллози', 'деревня Лампово',\n",
       "       'деревня Шпаньково', 'деревня Лаврики', 'посёлок Сумино',\n",
       "       'посёлок Возрождение', 'деревня Старосиверская',\n",
       "       'посёлок Кикерино', 'поселок Возрождение',\n",
       "       'деревня Старое Хинколово', 'посёлок Пригородный',\n",
       "       'посёлок Торфяное', 'городской посёлок Будогощь',\n",
       "       'поселок Суходолье', 'поселок Красная Долина', 'деревня Хапо-Ое',\n",
       "       'поселок городского типа Дружная Горка', 'поселок Лисий Нос',\n",
       "       'деревня Яльгелево', 'посёлок Стеклянный', 'село Рождествено',\n",
       "       'деревня Старополье', 'посёлок Левашово', 'деревня Сяськелево',\n",
       "       'деревня Камышовка',\n",
       "       'садоводческое некоммерческое товарищество Лесная Поляна',\n",
       "       'деревня Хязельки', 'поселок Жилгородок',\n",
       "       'посёлок городского типа Павлово', 'деревня Ялгино',\n",
       "       'поселок Новый Учхоз', 'городской посёлок Рощино',\n",
       "       'поселок Гончарово', 'поселок Почап', 'посёлок Сапёрное',\n",
       "       'посёлок Платформа 69-й километр', 'поселок Каложицы',\n",
       "       'деревня Фалилеево', 'деревня Пельгора',\n",
       "       'поселок городского типа Лесогорский', 'деревня Торошковичи',\n",
       "       'посёлок Белоостров', 'посёлок Алексеевка', 'поселок Серебрянский',\n",
       "       'поселок Лукаши', 'поселок Петровское', 'деревня Щеглово',\n",
       "       'поселок Мичуринское', 'деревня Тарасово', 'поселок Кингисеппский',\n",
       "       'посёлок при железнодорожной станции Вещево', 'поселок Ушаки',\n",
       "       'деревня Котлы', 'деревня Сижно', 'деревня Торосово',\n",
       "       'посёлок Форт Красная Горка', 'поселок городского типа Токсово',\n",
       "       'деревня Новолисино', 'посёлок станции Громово', 'деревня Глинка',\n",
       "       'посёлок Мельниково', 'поселок городского типа Назия',\n",
       "       'деревня Старая Пустошь', 'поселок Коммунары', 'поселок Починок',\n",
       "       'посёлок городского типа Вознесенье', 'деревня Разбегаево',\n",
       "       'посёлок городского типа Рябово', 'поселок Гладкое',\n",
       "       'посёлок при железнодорожной станции Приветнинское',\n",
       "       'поселок Тёсово-4', 'посёлок Жилгородок', 'деревня Бор',\n",
       "       'посёлок Коробицыно', 'деревня Большая Вруда', 'деревня Курковицы',\n",
       "       'посёлок Лисий Нос', 'городской посёлок Советский',\n",
       "       'посёлок Кобралово', 'деревня Суоранда', 'поселок Кобралово',\n",
       "       'поселок городского типа Кондратьево',\n",
       "       'коттеджный поселок Счастье', 'поселок Любань', 'деревня Реброво',\n",
       "       'деревня Зимитицы', 'деревня Тойворово', 'поселок Семиозерье',\n",
       "       'поселок Лесное', 'поселок Совхозный', 'поселок Усть-Луга',\n",
       "       'посёлок Ленинское', 'посёлок Суйда',\n",
       "       'посёлок городского типа Форносово', 'деревня Нижние Осельки',\n",
       "       'посёлок станции Свирь', 'поселок Перово', 'Высоцк',\n",
       "       'поселок Гарболово', 'село Шум', 'поселок Котельский',\n",
       "       'поселок станции Лужайка', 'деревня Большая Пустомержа',\n",
       "       'поселок Красносельское', 'деревня Вахнова Кара', 'деревня Пижма',\n",
       "       'коттеджный поселок Кивеннапа Север', 'поселок Коробицыно',\n",
       "       'поселок Ромашки', 'посёлок Перово', 'деревня Каськово',\n",
       "       'деревня Куровицы', 'посёлок Плоское', 'поселок Сумино',\n",
       "       'поселок городского типа Большая Ижора', 'поселок Кирпичное',\n",
       "       'деревня Ям-Тесово', 'деревня Раздолье', 'деревня Терпилицы',\n",
       "       'посёлок Шугозеро', 'деревня Ваганово', 'поселок Пушное',\n",
       "       'садовое товарищество Садко', 'посёлок Усть-Ижора',\n",
       "       'деревня Выскатка', 'городской посёлок Свирьстрой',\n",
       "       'поселок Громово', 'деревня Кисельня', 'посёлок Старая Малукса',\n",
       "       'деревня Трубников Бор', 'поселок Калитино',\n",
       "       'посёлок Высокоключевой', 'садовое товарищество Приладожский',\n",
       "       'посёлок Пансионат Зелёный Бор', 'деревня Ненимяки',\n",
       "       'поселок Пансионат Зелёный Бор', 'деревня Снегирёвка',\n",
       "       'деревня Рапполово', 'деревня Пустынка', 'поселок Рабитицы',\n",
       "       'деревня Большой Сабск', 'деревня Русско', 'деревня Лупполово',\n",
       "       'деревня Большое Рейзино', 'деревня Малая Романовка',\n",
       "       'поселок Дружноселье', 'поселок Пчевжа', 'поселок Володарское',\n",
       "       'деревня Нижняя', 'коттеджный посёлок Лесное', 'деревня Тихковицы',\n",
       "       'деревня Борисова Грива', 'посёлок Дзержинского'], dtype=object)"
      ]
     },
     "execution_count": 30,
     "metadata": {},
     "output_type": "execute_result"
    }
   ],
   "source": [
    "# просмотр уникальных значений\n",
    "df['locality_name'].unique()"
   ]
  },
  {
   "cell_type": "code",
   "execution_count": 31,
   "metadata": {},
   "outputs": [],
   "source": [
    "# удаление населенного пунката из названия\n",
    "remove_words = (\n",
    "    ['посёлок', 'городской', 'деревня', 'поселок', 'городского', 'коттеджный', 'типа', 'садовое',\n",
    "     'товарищество', 'село', 'при', 'железнодорожной', 'станции', 'садоводческое', 'некоммерческое']\n",
    ")\n",
    "pat = '|'.join(remove_words)\n",
    "df['new_locality_name'] = df['locality_name'].replace(pat,'', regex=True).str.lstrip() # создание нового столбца и удаление пробелов в начале строки"
   ]
  },
  {
   "cell_type": "code",
   "execution_count": 32,
   "metadata": {},
   "outputs": [
    {
     "data": {
      "text/plain": [
       "array(['Санкт-Петербург', 'Шушары', 'Янино-1', 'Парголово', 'Мурино',\n",
       "       'Ломоносов', 'Сертолово', 'Петергоф', 'Пушкин', 'Кудрово',\n",
       "       'Коммунар', 'Колпино', 'Красный Бор', 'Гатчина', 'Фёдоровское',\n",
       "       'Выборг', 'Кронштадт', 'Кировск', 'Новое Девяткино',\n",
       "       'Металлострой', 'Лебяжье', 'Сиверский', 'Молодцово',\n",
       "       'Кузьмоловский', 'Новая Ропша', 'Павловск', 'Пикколово',\n",
       "       'Всеволожск', 'Волхов', 'Кингисепп', 'Приозерск', 'Сестрорецк',\n",
       "       'Куттузи', 'Аннино', 'Ефимовский', 'Плодовое', 'Заклинье',\n",
       "       'Торковичи', 'Первомайское', 'Красное Село', 'Понтонный',\n",
       "       'Сясьстрой', 'Старая', 'Лесколово', 'Новый Свет', 'Сланцы',\n",
       "       'Путилово', 'Ивангород', 'Шлиссельбург', 'Никольское',\n",
       "       'Зеленогорск', 'Сосновый Бор', 'Оржицы', 'Кальтино', 'Романовка',\n",
       "       'Бугры', 'Рощино', 'Кириши', 'Луга', 'Волосово', 'Отрадное',\n",
       "       'Павлово', 'Оредеж', 'Копорье', 'Молодёжное', 'Тихвин', 'Победа',\n",
       "       'Нурма', 'Синявино', 'Тосно', 'Стрельна', 'Бокситогорск',\n",
       "       'Александровская', 'Лопухинка', 'Пикалёво', 'Терволово',\n",
       "       'Советский', 'Подпорожье', 'Петровское', 'Токсово', 'Сельцо',\n",
       "       'Вырица', 'Кипень', 'Келози', 'Вартемяги', 'Тельмана',\n",
       "       'Севастьяново', 'Большая Ижора', nan, 'Агалатово', 'Новогорелово',\n",
       "       'Лесогорский', 'Лаголово', 'Цвелодубово', 'Рахья', 'Белогорка',\n",
       "       'Заводской', 'Новоселье', 'Большие Колпаны', 'Горбунки', 'Батово',\n",
       "       'Заневка', 'Иссад', 'Приморск', 'Мистолово', 'Новая Ладога',\n",
       "       'Зимитицы', 'Барышево', 'Разметелево', 'имени Свердлова', 'Пеники',\n",
       "       'Рябово', 'Пудомяги', 'Корнево', 'Низино', 'Бегуницы', 'Поляны',\n",
       "       'Мга', 'Елизаветино', 'Кузнечное', 'Колтуши', 'Запорожское',\n",
       "       'Гостилицы', 'Малое Карлино', 'Мичуринское', 'имени Морозова',\n",
       "       'Песочный', 'Сосново', 'Аро', 'Ильичёво', 'Тайцы', 'Малое Верево',\n",
       "       'Извара', 'Вещево', 'Паша', 'Калитино', 'Ульяновка', 'Чудской Бор',\n",
       "       'Дубровка', 'Мины', 'Войсковицы', 'Коркино', 'Ропша',\n",
       "       'Приладожский', 'Щеглово', 'Гаврилово', 'Лодейное Поле',\n",
       "       'Рабитицы', 'Никольский', 'Кузьмолово', 'Малые Колпаны',\n",
       "       'Петро-Славянка', 'Назия', 'Репино', 'Углово', 'Старая Малукса',\n",
       "       'Меньково', 'Старые Бегуницы', 'Сапёрный', 'Семрино', 'Глажево',\n",
       "       'Кобринское', 'Гарболово', 'Юкки', 'Приветнинское', 'Мануйлово',\n",
       "       'Пчева', 'Цвылёво', 'Мельниково', 'Пудость', 'Усть-Луга',\n",
       "       'Светогорск', 'Любань', 'Селезнёво', 'Каменногорск', 'Кривко',\n",
       "       'Глебычево', 'Парицы', 'Жил', 'Войскорово', 'Стеклянный', 'Важины',\n",
       "       'Мыза-Ивановка', 'Русско-Высоцкое', 'Форносово', 'Старая Ладога',\n",
       "       'Житково', 'Виллози', 'Лампово', 'Шпаньково', 'Лаврики', 'Сумино',\n",
       "       'Возрождение', 'Старосиверская', 'Кикерино', 'Старое Хинколово',\n",
       "       'Пригородный', 'Торфяное', 'Будогощь', 'Суходолье',\n",
       "       'Красная Долина', 'Хапо-Ое', 'Дружная Горка', 'Лисий Нос',\n",
       "       'Яльгелево', 'Рождествено', 'Старополье', 'Левашово', 'Сяськелево',\n",
       "       'Камышовка', 'Лесная Поляна', 'Хязельки', 'Жилгородок', 'Ялгино',\n",
       "       'Новый Учхоз', 'Гончарово', 'Почап', 'Сапёрное',\n",
       "       'Платформа 69-й километр', 'Каложицы', 'Фалилеево', 'Пельгора',\n",
       "       'Торошковичи', 'Белоостров', 'Алексеевка', 'Серебрянский',\n",
       "       'Лукаши', 'Тарасово', 'Кингисеппский', 'Ушаки', 'Котлы', 'Сижно',\n",
       "       'Торосово', 'Форт Красная Горка', 'Новолисино', 'Громово',\n",
       "       'Глинка', 'Старая Пустошь', 'Коммунары', 'Починок', 'Вознесенье',\n",
       "       'Разбегаево', 'Гладкое', 'Тёсово-4', 'Бор', 'Коробицыно',\n",
       "       'Большая Вруда', 'Курковицы', 'Кобралово', 'Суоранда',\n",
       "       'Кондратьево', 'Счастье', 'Реброво', 'Тойворово', 'Семиозерье',\n",
       "       'Лесное', 'Совхозный', 'Ленинское', 'Суйда', 'Нижние Осельки',\n",
       "       'Свирь', 'Перово', 'Высоцк', 'Шум', 'Котельский', 'Лужайка',\n",
       "       'Большая Пустомержа', 'Красносельское', 'Вахнова Кара', 'Пижма',\n",
       "       'Кивеннапа Север', 'Ромашки', 'Каськово', 'Куровицы', 'Плоское',\n",
       "       'Кирпичное', 'Ям-Тесово', 'Раздолье', 'Терпилицы', 'Шугозеро',\n",
       "       'Ваганово', 'Пушное', 'Садко', 'Усть-Ижора', 'Выскатка',\n",
       "       'Свирьстрой', 'Кисельня', 'Трубников Бор', 'Высокоключевой',\n",
       "       'Пансионат Зелёный Бор', 'Ненимяки', 'Снегирёвка', 'Рапполово',\n",
       "       'Пустынка', 'Большой Сабск', 'Русско', 'Лупполово',\n",
       "       'Большое Рейзино', 'Малая Романовка', 'Дружноселье', 'Пчевжа',\n",
       "       'Володарское', 'Нижняя', 'Тихковицы', 'Борисова Грива',\n",
       "       'Дзержинского'], dtype=object)"
      ]
     },
     "execution_count": 32,
     "metadata": {},
     "output_type": "execute_result"
    }
   ],
   "source": [
    "# проверка\n",
    "df['new_locality_name'].unique()"
   ]
  },
  {
   "cell_type": "code",
   "execution_count": 33,
   "metadata": {},
   "outputs": [
    {
     "data": {
      "text/plain": [
       "0"
      ]
     },
     "execution_count": 33,
     "metadata": {},
     "output_type": "execute_result"
    }
   ],
   "source": [
    "# подсчёт дубликатов\n",
    "df.duplicated().sum()"
   ]
  },
  {
   "cell_type": "markdown",
   "metadata": {},
   "source": [
    "Таким образом, в результате изучения и просмотра данных было выявлено огромное количество пропусков. Из 22 столбцов пропуски имеются аж в 14 столбцах. Причин возникновения пропусков может быть множество. Скорее всего в нашем случае пропуски появились в результате того, что при заполнении данных о квартире продавец не указал все данные (не заполнил все поля). Так же пропуски могли стать результатом некорректной выгрузки данных или же сбой при сборе информации.\n",
    "Заменять все пропуски мы не стали, так как для данного исследования пропуски не повлияют на его результат"
   ]
  },
  {
   "cell_type": "markdown",
   "metadata": {},
   "source": [
    "## Расчёты и добавление результатов в таблицу"
   ]
  },
  {
   "cell_type": "code",
   "execution_count": 34,
   "metadata": {},
   "outputs": [],
   "source": [
    "# расчет стоимость квадратного метра\n",
    "df['price_m2'] = df['last_price'] / df['total_area']"
   ]
  },
  {
   "cell_type": "code",
   "execution_count": 35,
   "metadata": {},
   "outputs": [],
   "source": [
    "# созданием новых столбцов: день недели, месяц и год публикации объявления\n",
    "df['weekday'] = df['first_day_exposition'].dt.weekday\n",
    "df['month'] = df['first_day_exposition'].dt.month\n",
    "df['year'] = df['first_day_exposition'].dt.year"
   ]
  },
  {
   "cell_type": "code",
   "execution_count": 36,
   "metadata": {},
   "outputs": [],
   "source": [
    "# создание функции для выделения категорий этажности\n",
    "def floors(row):\n",
    "    floor = row['floor']\n",
    "    floors_total = row['floors_total']\n",
    "    if floor == 1:\n",
    "        return 'первый'\n",
    "    if floor == floors_total:\n",
    "        return 'последний'\n",
    "    return 'другой'\n",
    "df['floor_category'] = df.apply(floors, axis=1) # добавление новоего стоолбца"
   ]
  },
  {
   "cell_type": "code",
   "execution_count": 37,
   "metadata": {},
   "outputs": [],
   "source": [
    "# создание столбцов соотношение жилой и общей площади и отношение площади кухни к общей.\n",
    "df['living_and_total_area_ratio'] = df['living_area'] / df['total_area']\n",
    "df['kitchen_and_total_area_ratio'] = df['kitchen_area'] / df['total_area']"
   ]
  },
  {
   "cell_type": "code",
   "execution_count": 38,
   "metadata": {},
   "outputs": [
    {
     "data": {
      "text/html": [
       "<div>\n",
       "<style scoped>\n",
       "    .dataframe tbody tr th:only-of-type {\n",
       "        vertical-align: middle;\n",
       "    }\n",
       "\n",
       "    .dataframe tbody tr th {\n",
       "        vertical-align: top;\n",
       "    }\n",
       "\n",
       "    .dataframe thead th {\n",
       "        text-align: right;\n",
       "    }\n",
       "</style>\n",
       "<table border=\"1\" class=\"dataframe\">\n",
       "  <thead>\n",
       "    <tr style=\"text-align: right;\">\n",
       "      <th></th>\n",
       "      <th>total_images</th>\n",
       "      <th>last_price</th>\n",
       "      <th>total_area</th>\n",
       "      <th>first_day_exposition</th>\n",
       "      <th>rooms</th>\n",
       "      <th>ceiling_height</th>\n",
       "      <th>floors_total</th>\n",
       "      <th>living_area</th>\n",
       "      <th>floor</th>\n",
       "      <th>is_apartment</th>\n",
       "      <th>...</th>\n",
       "      <th>days_exposition</th>\n",
       "      <th>percent_kitchen</th>\n",
       "      <th>new_locality_name</th>\n",
       "      <th>price_m2</th>\n",
       "      <th>weekday</th>\n",
       "      <th>month</th>\n",
       "      <th>year</th>\n",
       "      <th>floor_category</th>\n",
       "      <th>living_and_total_area_ratio</th>\n",
       "      <th>kitchen_and_total_area_ratio</th>\n",
       "    </tr>\n",
       "  </thead>\n",
       "  <tbody>\n",
       "    <tr>\n",
       "      <td>0</td>\n",
       "      <td>20</td>\n",
       "      <td>13000000</td>\n",
       "      <td>108.0</td>\n",
       "      <td>2019-03-07</td>\n",
       "      <td>3</td>\n",
       "      <td>2.70</td>\n",
       "      <td>16</td>\n",
       "      <td>51.0000</td>\n",
       "      <td>8</td>\n",
       "      <td>NaN</td>\n",
       "      <td>...</td>\n",
       "      <td>NaN</td>\n",
       "      <td>0.231481</td>\n",
       "      <td>Санкт-Петербург</td>\n",
       "      <td>120370.370370</td>\n",
       "      <td>3</td>\n",
       "      <td>3</td>\n",
       "      <td>2019</td>\n",
       "      <td>другой</td>\n",
       "      <td>0.472222</td>\n",
       "      <td>0.231481</td>\n",
       "    </tr>\n",
       "    <tr>\n",
       "      <td>1</td>\n",
       "      <td>7</td>\n",
       "      <td>3350000</td>\n",
       "      <td>40.4</td>\n",
       "      <td>2018-12-04</td>\n",
       "      <td>1</td>\n",
       "      <td>2.65</td>\n",
       "      <td>11</td>\n",
       "      <td>18.6000</td>\n",
       "      <td>1</td>\n",
       "      <td>NaN</td>\n",
       "      <td>...</td>\n",
       "      <td>81</td>\n",
       "      <td>0.272277</td>\n",
       "      <td>Шушары</td>\n",
       "      <td>82920.792079</td>\n",
       "      <td>1</td>\n",
       "      <td>12</td>\n",
       "      <td>2018</td>\n",
       "      <td>первый</td>\n",
       "      <td>0.460396</td>\n",
       "      <td>0.272277</td>\n",
       "    </tr>\n",
       "    <tr>\n",
       "      <td>2</td>\n",
       "      <td>10</td>\n",
       "      <td>5196000</td>\n",
       "      <td>56.0</td>\n",
       "      <td>2015-08-20</td>\n",
       "      <td>2</td>\n",
       "      <td>2.65</td>\n",
       "      <td>5</td>\n",
       "      <td>34.3000</td>\n",
       "      <td>4</td>\n",
       "      <td>NaN</td>\n",
       "      <td>...</td>\n",
       "      <td>558</td>\n",
       "      <td>0.148214</td>\n",
       "      <td>Санкт-Петербург</td>\n",
       "      <td>92785.714286</td>\n",
       "      <td>3</td>\n",
       "      <td>8</td>\n",
       "      <td>2015</td>\n",
       "      <td>другой</td>\n",
       "      <td>0.612500</td>\n",
       "      <td>0.148214</td>\n",
       "    </tr>\n",
       "    <tr>\n",
       "      <td>3</td>\n",
       "      <td>0</td>\n",
       "      <td>64900000</td>\n",
       "      <td>159.0</td>\n",
       "      <td>2015-07-24</td>\n",
       "      <td>3</td>\n",
       "      <td>2.65</td>\n",
       "      <td>14</td>\n",
       "      <td>119.3454</td>\n",
       "      <td>9</td>\n",
       "      <td>NaN</td>\n",
       "      <td>...</td>\n",
       "      <td>424</td>\n",
       "      <td>NaN</td>\n",
       "      <td>Санкт-Петербург</td>\n",
       "      <td>408176.100629</td>\n",
       "      <td>4</td>\n",
       "      <td>7</td>\n",
       "      <td>2015</td>\n",
       "      <td>другой</td>\n",
       "      <td>0.750600</td>\n",
       "      <td>0.140928</td>\n",
       "    </tr>\n",
       "    <tr>\n",
       "      <td>4</td>\n",
       "      <td>2</td>\n",
       "      <td>10000000</td>\n",
       "      <td>100.0</td>\n",
       "      <td>2018-06-19</td>\n",
       "      <td>2</td>\n",
       "      <td>3.03</td>\n",
       "      <td>14</td>\n",
       "      <td>32.0000</td>\n",
       "      <td>13</td>\n",
       "      <td>NaN</td>\n",
       "      <td>...</td>\n",
       "      <td>121</td>\n",
       "      <td>0.410000</td>\n",
       "      <td>Санкт-Петербург</td>\n",
       "      <td>100000.000000</td>\n",
       "      <td>1</td>\n",
       "      <td>6</td>\n",
       "      <td>2018</td>\n",
       "      <td>другой</td>\n",
       "      <td>0.320000</td>\n",
       "      <td>0.410000</td>\n",
       "    </tr>\n",
       "  </tbody>\n",
       "</table>\n",
       "<p>5 rows × 31 columns</p>\n",
       "</div>"
      ],
      "text/plain": [
       "   total_images  last_price  total_area first_day_exposition  rooms  \\\n",
       "0            20    13000000       108.0           2019-03-07      3   \n",
       "1             7     3350000        40.4           2018-12-04      1   \n",
       "2            10     5196000        56.0           2015-08-20      2   \n",
       "3             0    64900000       159.0           2015-07-24      3   \n",
       "4             2    10000000       100.0           2018-06-19      2   \n",
       "\n",
       "   ceiling_height  floors_total  living_area  floor is_apartment  ...  \\\n",
       "0            2.70            16      51.0000      8          NaN  ...   \n",
       "1            2.65            11      18.6000      1          NaN  ...   \n",
       "2            2.65             5      34.3000      4          NaN  ...   \n",
       "3            2.65            14     119.3454      9          NaN  ...   \n",
       "4            3.03            14      32.0000     13          NaN  ...   \n",
       "\n",
       "   days_exposition  percent_kitchen  new_locality_name       price_m2 weekday  \\\n",
       "0              NaN         0.231481    Санкт-Петербург  120370.370370       3   \n",
       "1               81         0.272277             Шушары   82920.792079       1   \n",
       "2              558         0.148214    Санкт-Петербург   92785.714286       3   \n",
       "3              424              NaN    Санкт-Петербург  408176.100629       4   \n",
       "4              121         0.410000    Санкт-Петербург  100000.000000       1   \n",
       "\n",
       "   month  year  floor_category  living_and_total_area_ratio  \\\n",
       "0      3  2019          другой                     0.472222   \n",
       "1     12  2018          первый                     0.460396   \n",
       "2      8  2015          другой                     0.612500   \n",
       "3      7  2015          другой                     0.750600   \n",
       "4      6  2018          другой                     0.320000   \n",
       "\n",
       "   kitchen_and_total_area_ratio  \n",
       "0                      0.231481  \n",
       "1                      0.272277  \n",
       "2                      0.148214  \n",
       "3                      0.140928  \n",
       "4                      0.410000  \n",
       "\n",
       "[5 rows x 31 columns]"
      ]
     },
     "execution_count": 38,
     "metadata": {},
     "output_type": "execute_result"
    }
   ],
   "source": [
    "# просмотр первых пяти строк\n",
    "df.head()"
   ]
  },
  {
   "cell_type": "markdown",
   "metadata": {},
   "source": [
    "Было создано 7 новых столбцов: стоимость квадратного метра, день недели, месяц и год публикации объявления, категория этажа, соотношение жилой и общей площади и отношение площади кухни к общей."
   ]
  },
  {
   "cell_type": "markdown",
   "metadata": {},
   "source": [
    "## Исследовательский анализ данных"
   ]
  },
  {
   "cell_type": "markdown",
   "metadata": {},
   "source": [
    "Для параметров: площадь, цена, число комнат, высота потолков, построим гистограммы, диаграммы размаха и посмотрим их числовое описание, используя метод `describe()`"
   ]
  },
  {
   "cell_type": "code",
   "execution_count": 133,
   "metadata": {
    "scrolled": true
   },
   "outputs": [
    {
     "data": {
      "text/plain": [
       "Text(0, 0.5, 'количество квартир')"
      ]
     },
     "execution_count": 133,
     "metadata": {},
     "output_type": "execute_result"
    },
    {
     "data": {
      "image/png": "[encoded data removed]",
      "text/plain": [
       "<Figure size 432x288 with 1 Axes>"
      ]
     },
     "metadata": {
      "needs_background": "light"
     },
     "output_type": "display_data"
    }
   ],
   "source": [
    "# гистограмма \"общая площадь\"\n",
    "df['total_area'].hist(bins=25, range=(0, 400))\n",
    "plt.xlabel('общая площадь')\n",
    "plt.ylabel('количество квартир')"
   ]
  },
  {
   "cell_type": "code",
   "execution_count": 40,
   "metadata": {},
   "outputs": [
    {
     "data": {
      "text/plain": [
       "<matplotlib.axes._subplots.AxesSubplot at 0x7f4e8c72b390>"
      ]
     },
     "execution_count": 40,
     "metadata": {},
     "output_type": "execute_result"
    },
    {
     "data": {
      "image/png": "[encoded data removed]",
      "text/plain": [
       "<Figure size 432x288 with 1 Axes>"
      ]
     },
     "metadata": {
      "needs_background": "light"
     },
     "output_type": "display_data"
    }
   ],
   "source": [
    "# диаграмма размаха \"общая площадь\"\n",
    "plt.ylim(0, 550) \n",
    "df.boxplot('total_area')"
   ]
  },
  {
   "cell_type": "code",
   "execution_count": 41,
   "metadata": {},
   "outputs": [
    {
     "data": {
      "text/plain": [
       "count    23699.000000\n",
       "mean        60.348651\n",
       "std         35.654083\n",
       "min         12.000000\n",
       "25%         40.000000\n",
       "50%         52.000000\n",
       "75%         69.900000\n",
       "max        900.000000\n",
       "Name: total_area, dtype: float64"
      ]
     },
     "execution_count": 41,
     "metadata": {},
     "output_type": "execute_result"
    }
   ],
   "source": [
    "# числовое описание столбца total_area\n",
    "df['total_area'].describe()"
   ]
  },
  {
   "cell_type": "markdown",
   "metadata": {},
   "source": [
    "Изучив данные об общей площади, можно сказать, что больше всего квартир площадью около 50 метров. Минимальная площадь равна 12 метров (скорее всего это комната), а максимальная площадь - аж 900 метров."
   ]
  },
  {
   "cell_type": "code",
   "execution_count": 128,
   "metadata": {},
   "outputs": [
    {
     "data": {
      "text/plain": [
       "Text(0, 0.5, 'количество квартир')"
      ]
     },
     "execution_count": 128,
     "metadata": {},
     "output_type": "execute_result"
    },
    {
     "data": {
      "image/png": "[encoded data removed]",
      "text/plain": [
       "<Figure size 432x288 with 1 Axes>"
      ]
     },
     "metadata": {
      "needs_background": "light"
     },
     "output_type": "display_data"
    }
   ],
   "source": [
    "# гистограмма \"цена квартиры\"\n",
    "df['last_price'].hist(bins=10, range=(0, 15000000))\n",
    "plt.xlabel('цена квартиры')\n",
    "plt.ylabel('количество квартир')"
   ]
  },
  {
   "cell_type": "code",
   "execution_count": 43,
   "metadata": {},
   "outputs": [
    {
     "data": {
      "text/plain": [
       "<matplotlib.axes._subplots.AxesSubplot at 0x7f4e8c649890>"
      ]
     },
     "execution_count": 43,
     "metadata": {},
     "output_type": "execute_result"
    },
    {
     "data": {
      "image/png": "[encoded data removed]",
      "text/plain": [
       "<Figure size 432x288 with 1 Axes>"
      ]
     },
     "metadata": {
      "needs_background": "light"
     },
     "output_type": "display_data"
    }
   ],
   "source": [
    "# диаграмма размаха \"цена квартиры\"\n",
    "plt.ylim(0, 100000000) \n",
    "df.boxplot('last_price')"
   ]
  },
  {
   "cell_type": "code",
   "execution_count": 44,
   "metadata": {},
   "outputs": [
    {
     "data": {
      "text/plain": [
       "count    2.369900e+04\n",
       "mean     6.541549e+06\n",
       "std      1.088701e+07\n",
       "min      1.219000e+04\n",
       "25%      3.400000e+06\n",
       "50%      4.650000e+06\n",
       "75%      6.800000e+06\n",
       "max      7.630000e+08\n",
       "Name: last_price, dtype: float64"
      ]
     },
     "execution_count": 44,
     "metadata": {},
     "output_type": "execute_result"
    }
   ],
   "source": [
    "# числовое описание столбца last_price\n",
    "df['last_price'].describe()"
   ]
  },
  {
   "cell_type": "markdown",
   "metadata": {},
   "source": [
    "Медианное значение стоимости картиры около 4,65 млн рублей, при этом минимальная стоимость составляет всего 12190, а максимальная - 763 млн рублей. "
   ]
  },
  {
   "cell_type": "code",
   "execution_count": 129,
   "metadata": {},
   "outputs": [
    {
     "data": {
      "text/plain": [
       "Text(0, 0.5, 'количество квартир')"
      ]
     },
     "execution_count": 129,
     "metadata": {},
     "output_type": "execute_result"
    },
    {
     "data": {
      "image/png": "[encoded data removed]",
      "text/plain": [
       "<Figure size 432x288 with 1 Axes>"
      ]
     },
     "metadata": {
      "needs_background": "light"
     },
     "output_type": "display_data"
    }
   ],
   "source": [
    "# гистограмма \"количество комнат\"\n",
    "df.plot(kind='hist', y='rooms', range=(0, 15), grid=True);\n",
    "plt.xlabel('количество комнат')\n",
    "plt.ylabel('количество квартир')"
   ]
  },
  {
   "cell_type": "code",
   "execution_count": 46,
   "metadata": {},
   "outputs": [
    {
     "data": {
      "text/plain": [
       "<matplotlib.axes._subplots.AxesSubplot at 0x7f4e8c1c3150>"
      ]
     },
     "execution_count": 46,
     "metadata": {},
     "output_type": "execute_result"
    },
    {
     "data": {
      "image/png": "[encoded data removed]",
      "text/plain": [
       "<Figure size 432x288 with 1 Axes>"
      ]
     },
     "metadata": {
      "needs_background": "light"
     },
     "output_type": "display_data"
    }
   ],
   "source": [
    "# диаграмма размаха \"количество комнат\" \n",
    "df.boxplot('rooms');"
   ]
  },
  {
   "cell_type": "code",
   "execution_count": 47,
   "metadata": {},
   "outputs": [
    {
     "data": {
      "text/plain": [
       "count    23699.000000\n",
       "mean         2.070636\n",
       "std          1.078405\n",
       "min          0.000000\n",
       "25%          1.000000\n",
       "50%          2.000000\n",
       "75%          3.000000\n",
       "max         19.000000\n",
       "Name: rooms, dtype: float64"
      ]
     },
     "execution_count": 47,
     "metadata": {},
     "output_type": "execute_result"
    }
   ],
   "source": [
    "# числовое описание столбца rooms\n",
    "df['rooms'].describe()"
   ]
  },
  {
   "cell_type": "markdown",
   "metadata": {},
   "source": [
    "В среднем квартиры, которые были выставлены на продажу, имеют 2 комнаты. Однако есть объявления, в которых число комнат указано 0 (студии). Максимальное количество комнат - 19."
   ]
  },
  {
   "cell_type": "code",
   "execution_count": 130,
   "metadata": {},
   "outputs": [
    {
     "data": {
      "text/plain": [
       "Text(0, 0.5, 'количество квартир')"
      ]
     },
     "execution_count": 130,
     "metadata": {},
     "output_type": "execute_result"
    },
    {
     "data": {
      "image/png": "[encoded data removed]",
      "text/plain": [
       "<Figure size 720x360 with 1 Axes>"
      ]
     },
     "metadata": {
      "needs_background": "light"
     },
     "output_type": "display_data"
    }
   ],
   "source": [
    "# гистограмма \"высота потолка\"\n",
    "df.plot(kind='hist', y='ceiling_height', bins=50, range=(0, 10), grid=True, figsize=(10, 5));\n",
    "plt.xlabel('высота потолка')\n",
    "plt.ylabel('количество квартир')"
   ]
  },
  {
   "cell_type": "code",
   "execution_count": 49,
   "metadata": {},
   "outputs": [
    {
     "data": {
      "text/plain": [
       "<matplotlib.axes._subplots.AxesSubplot at 0x7f4e8b8fd6d0>"
      ]
     },
     "execution_count": 49,
     "metadata": {},
     "output_type": "execute_result"
    },
    {
     "data": {
      "image/png": "[encoded data removed]",
      "text/plain": [
       "<Figure size 432x288 with 1 Axes>"
      ]
     },
     "metadata": {
      "needs_background": "light"
     },
     "output_type": "display_data"
    }
   ],
   "source": [
    "# диаграмма размаха \"высота потолка\"\n",
    "plt.ylim(0, 6) \n",
    "df.boxplot('ceiling_height');"
   ]
  },
  {
   "cell_type": "code",
   "execution_count": 50,
   "metadata": {
    "scrolled": true
   },
   "outputs": [
    {
     "data": {
      "text/plain": [
       "count    23699.000000\n",
       "mean         2.724358\n",
       "std          0.988298\n",
       "min          1.000000\n",
       "25%          2.600000\n",
       "50%          2.650000\n",
       "75%          2.700000\n",
       "max        100.000000\n",
       "Name: ceiling_height, dtype: float64"
      ]
     },
     "execution_count": 50,
     "metadata": {},
     "output_type": "execute_result"
    }
   ],
   "source": [
    "# числовое описание столбца ceiling_height\n",
    "df['ceiling_height'].describe()"
   ]
  },
  {
   "cell_type": "markdown",
   "metadata": {},
   "source": [
    "В большинстве квартир высота потолка составляет 2,6-2,7 метра. Кроме того есть квартиры, в которых высота потолка 1 и 100 метров, что немного сомнительно."
   ]
  },
  {
   "cell_type": "markdown",
   "metadata": {},
   "source": [
    "Теперь изучим время продажи квартиры"
   ]
  },
  {
   "cell_type": "code",
   "execution_count": 51,
   "metadata": {},
   "outputs": [
    {
     "data": {
      "text/plain": [
       "<matplotlib.axes._subplots.AxesSubplot at 0x7f4e8b8751d0>"
      ]
     },
     "execution_count": 51,
     "metadata": {},
     "output_type": "execute_result"
    },
    {
     "data": {
      "image/png": "[encoded data removed]",
      "text/plain": [
       "<Figure size 432x288 with 1 Axes>"
      ]
     },
     "metadata": {
      "needs_background": "light"
     },
     "output_type": "display_data"
    }
   ],
   "source": [
    "# диаграмма размаха \"время продажи квартиры\"\n",
    "df.boxplot('days_exposition');"
   ]
  },
  {
   "cell_type": "code",
   "execution_count": 52,
   "metadata": {},
   "outputs": [
    {
     "data": {
      "text/plain": [
       "count    20518.000000\n",
       "mean       180.888634\n",
       "std        219.727988\n",
       "min          1.000000\n",
       "25%         45.000000\n",
       "50%         95.000000\n",
       "75%        232.000000\n",
       "max       1580.000000\n",
       "Name: days_exposition, dtype: float64"
      ]
     },
     "execution_count": 52,
     "metadata": {},
     "output_type": "execute_result"
    }
   ],
   "source": [
    "# числовое описание столбца days_exposition\n",
    "df['days_exposition'].describe()"
   ]
  },
  {
   "cell_type": "code",
   "execution_count": 131,
   "metadata": {},
   "outputs": [
    {
     "data": {
      "text/plain": [
       "Text(0, 0.5, 'количество квартир')"
      ]
     },
     "execution_count": 131,
     "metadata": {},
     "output_type": "execute_result"
    },
    {
     "data": {
      "image/png": "[encoded data removed]",
      "text/plain": [
       "<Figure size 432x288 with 1 Axes>"
      ]
     },
     "metadata": {
      "needs_background": "light"
     },
     "output_type": "display_data"
    }
   ],
   "source": [
    "# гистограмма \"время продажи квартиры\"\n",
    "df['days_exposition'].hist(bins=50);\n",
    "plt.xlabel('время продажи квартиры')\n",
    "plt.ylabel('количество квартир')"
   ]
  },
  {
   "cell_type": "markdown",
   "metadata": {},
   "source": [
    "Таким образом, в среднем время продажи квартиры составляет 180 дней, при этом медианное значение равно 95 дней. Нижний «ус» на диаграмме размаха упирается в 0. Верхний заканчивается около 500 дней — это 1,5 межквартильного размаха, добавленного к 3-му квартилю. Это ориентировочная граница нормального размаха. Всё, что лежит за ней, считается выбросом.  Следовательно, продажа квартиры длилась необычно долго, когда время продажи квартиры составляет более 500 дней. "
   ]
  },
  {
   "cell_type": "markdown",
   "metadata": {},
   "source": [
    "Изучив наши параметры (площадь, цена, число комнат, высота потолков), можно сказать, что в данных имеются редкие и выбивающиеся значения. Например, стоимость квартиры, стандартное отклонение которого составляет 10.9 млн рублей. Это говорит о том, что в наборе данных есть серьёзные аномалии или выбросы. Сделаем срез данных, ориентируясь на границы \"усов\" диаграмм рассеивания"
   ]
  },
  {
   "cell_type": "code",
   "execution_count": 54,
   "metadata": {},
   "outputs": [
    {
     "data": {
      "text/plain": [
       "(21975, 31)"
      ]
     },
     "execution_count": 54,
     "metadata": {},
     "output_type": "execute_result"
    }
   ],
   "source": [
    "# методом query убираем редкие и выбивающиеся значения\n",
    "df_filtered = df.query('last_price<=14000000 and total_area<=120 and rooms<=6 and 2.4<ceiling_height<4.5')\n",
    "df_filtered.shape # размер получившейся таблицы"
   ]
  },
  {
   "cell_type": "markdown",
   "metadata": {},
   "source": [
    "Изучим, зависит ли цена от площади, числа комнат, удалённости от центра. Для этого найдем коэффициенты корреляции и построим матрицу диаграмм рассеивания. Так как в столбце `cityCenters_nearest` имеются пропуски, для этого параметра построим диаграмму рассеивания отдельно"
   ]
  },
  {
   "cell_type": "code",
   "execution_count": 55,
   "metadata": {},
   "outputs": [
    {
     "data": {
      "text/html": [
       "<div>\n",
       "<style scoped>\n",
       "    .dataframe tbody tr th:only-of-type {\n",
       "        vertical-align: middle;\n",
       "    }\n",
       "\n",
       "    .dataframe tbody tr th {\n",
       "        vertical-align: top;\n",
       "    }\n",
       "\n",
       "    .dataframe thead th {\n",
       "        text-align: right;\n",
       "    }\n",
       "</style>\n",
       "<table border=\"1\" class=\"dataframe\">\n",
       "  <thead>\n",
       "    <tr style=\"text-align: right;\">\n",
       "      <th></th>\n",
       "      <th>last_price</th>\n",
       "      <th>total_area</th>\n",
       "      <th>rooms</th>\n",
       "      <th>cityCenters_nearest</th>\n",
       "    </tr>\n",
       "  </thead>\n",
       "  <tbody>\n",
       "    <tr>\n",
       "      <td>last_price</td>\n",
       "      <td>1.000000</td>\n",
       "      <td>0.726142</td>\n",
       "      <td>0.455600</td>\n",
       "      <td>-0.353203</td>\n",
       "    </tr>\n",
       "    <tr>\n",
       "      <td>total_area</td>\n",
       "      <td>0.726142</td>\n",
       "      <td>1.000000</td>\n",
       "      <td>0.802664</td>\n",
       "      <td>-0.154085</td>\n",
       "    </tr>\n",
       "    <tr>\n",
       "      <td>rooms</td>\n",
       "      <td>0.455600</td>\n",
       "      <td>0.802664</td>\n",
       "      <td>1.000000</td>\n",
       "      <td>-0.093900</td>\n",
       "    </tr>\n",
       "    <tr>\n",
       "      <td>cityCenters_nearest</td>\n",
       "      <td>-0.353203</td>\n",
       "      <td>-0.154085</td>\n",
       "      <td>-0.093900</td>\n",
       "      <td>1.000000</td>\n",
       "    </tr>\n",
       "  </tbody>\n",
       "</table>\n",
       "</div>"
      ],
      "text/plain": [
       "                     last_price  total_area     rooms  cityCenters_nearest\n",
       "last_price             1.000000    0.726142  0.455600            -0.353203\n",
       "total_area             0.726142    1.000000  0.802664            -0.154085\n",
       "rooms                  0.455600    0.802664  1.000000            -0.093900\n",
       "cityCenters_nearest   -0.353203   -0.154085 -0.093900             1.000000"
      ]
     },
     "execution_count": 55,
     "metadata": {},
     "output_type": "execute_result"
    }
   ],
   "source": [
    "# матрица корреляции \n",
    "df_filtered[['last_price', 'total_area', 'rooms', 'cityCenters_nearest']].corr()"
   ]
  },
  {
   "cell_type": "code",
   "execution_count": 139,
   "metadata": {},
   "outputs": [
    {
     "data": {
      "text/plain": [
       "array([[<matplotlib.axes._subplots.AxesSubplot object at 0x7f4e3fd18dd0>,\n",
       "        <matplotlib.axes._subplots.AxesSubplot object at 0x7f4e3fc75510>,\n",
       "        <matplotlib.axes._subplots.AxesSubplot object at 0x7f4e3fc53550>],\n",
       "       [<matplotlib.axes._subplots.AxesSubplot object at 0x7f4e3fc04d50>,\n",
       "        <matplotlib.axes._subplots.AxesSubplot object at 0x7f4e3fbc5590>,\n",
       "        <matplotlib.axes._subplots.AxesSubplot object at 0x7f4e3fb7ad90>],\n",
       "       [<matplotlib.axes._subplots.AxesSubplot object at 0x7f4e3fb395d0>,\n",
       "        <matplotlib.axes._subplots.AxesSubplot object at 0x7f4e3faeedd0>,\n",
       "        <matplotlib.axes._subplots.AxesSubplot object at 0x7f4e3faf7950>]],\n",
       "      dtype=object)"
      ]
     },
     "execution_count": 139,
     "metadata": {},
     "output_type": "execute_result"
    },
    {
     "data": {
      "image/png": "[encoded data removed]",
      "text/plain": [
       "<Figure size 648x648 with 9 Axes>"
      ]
     },
     "metadata": {
      "needs_background": "light"
     },
     "output_type": "display_data"
    }
   ],
   "source": [
    "# матрица диаграмм рассеяния\n",
    "pd.plotting.scatter_matrix(df_filtered[['last_price', 'total_area', 'rooms']], figsize=(9, 9));"
   ]
  },
  {
   "cell_type": "code",
   "execution_count": 57,
   "metadata": {},
   "outputs": [
    {
     "data": {
      "text/plain": [
       "<matplotlib.axes._subplots.AxesSubplot at 0x7f4e8b280650>"
      ]
     },
     "execution_count": 57,
     "metadata": {},
     "output_type": "execute_result"
    },
    {
     "data": {
      "image/png": "[encoded data removed]",
      "text/plain": [
       "<Figure size 432x288 with 1 Axes>"
      ]
     },
     "metadata": {
      "needs_background": "light"
     },
     "output_type": "display_data"
    }
   ],
   "source": [
    "# диаграмма рассеивания\n",
    "df_filtered.plot(x='cityCenters_nearest', y='last_price', kind='scatter', alpha=0.3); "
   ]
  },
  {
   "cell_type": "markdown",
   "metadata": {},
   "source": [
    "Посчитав коэффициенты кореляции и построив диаграммы, мы видим, что цена квартиры зависит от площади, что логично: чем больше площадь, тем выше цена. Количество комнат влияет на цену почти в 1.5 раза слабее (коэффициент корреляции = 0,45). Что касается удаленности от цента, то коэффициент корреляции отрицателен, то есть чем меньше расстояние до центра, тем выше цена.  "
   ]
  },
  {
   "cell_type": "markdown",
   "metadata": {},
   "source": [
    "Далее посмотрим есть ли зависимость цены от того, на каком этаже расположена квартира: первом, последнем или другом, построив столбчатую диаграмму. Для этого сперва сгруппируем данные по категории этажа и найдем среднее значение стоимости квартиры"
   ]
  },
  {
   "cell_type": "code",
   "execution_count": 102,
   "metadata": {
    "scrolled": true
   },
   "outputs": [
    {
     "data": {
      "text/plain": [
       "<matplotlib.axes._subplots.AxesSubplot at 0x7f4e5a00a690>"
      ]
     },
     "execution_count": 102,
     "metadata": {},
     "output_type": "execute_result"
    },
    {
     "data": {
      "image/png": "[encoded data removed]",
      "text/plain": [
       "<Figure size 432x288 with 1 Axes>"
      ]
     },
     "metadata": {
      "needs_background": "light"
     },
     "output_type": "display_data"
    }
   ],
   "source": [
    "# столбчатая диаграмма\n",
    "df_filtered.groupby('floor_category')['last_price'].mean().plot(kind='bar');"
   ]
  },
  {
   "cell_type": "markdown",
   "metadata": {},
   "source": [
    "На диаграмме видно, что квартиры, располагающиеся на первом и последнем этажах в среднем стоят дешевле, чем квартиры, располагающиеся на любом другом этаже"
   ]
  },
  {
   "cell_type": "markdown",
   "metadata": {},
   "source": [
    "Чтобы изучить зависимость от даты размещения: дня недели, месяца и года, также построим столбчатую диаграмму."
   ]
  },
  {
   "cell_type": "code",
   "execution_count": 101,
   "metadata": {},
   "outputs": [
    {
     "data": {
      "text/plain": [
       "<matplotlib.axes._subplots.AxesSubplot at 0x7f4e5919b0d0>"
      ]
     },
     "execution_count": 101,
     "metadata": {},
     "output_type": "execute_result"
    },
    {
     "data": {
      "image/png": "[encoded data removed]",
      "text/plain": [
       "<Figure size 432x288 with 1 Axes>"
      ]
     },
     "metadata": {
      "needs_background": "light"
     },
     "output_type": "display_data"
    }
   ],
   "source": [
    "# столбчатая диаграмма для дня недели\n",
    "df_filtered.groupby('weekday')['last_price'].mean().plot(kind='bar');"
   ]
  },
  {
   "cell_type": "code",
   "execution_count": 105,
   "metadata": {},
   "outputs": [
    {
     "data": {
      "text/plain": [
       "<matplotlib.axes._subplots.AxesSubplot at 0x7f4e59297890>"
      ]
     },
     "execution_count": 105,
     "metadata": {},
     "output_type": "execute_result"
    },
    {
     "data": {
      "image/png": "[encoded data removed]",
      "text/plain": [
       "<Figure size 432x288 with 1 Axes>"
      ]
     },
     "metadata": {
      "needs_background": "light"
     },
     "output_type": "display_data"
    }
   ],
   "source": [
    "# столбчатая диаграмма для месяца \n",
    "df_filtered.groupby('month')['last_price'].mean().plot(kind='bar');"
   ]
  },
  {
   "cell_type": "code",
   "execution_count": 118,
   "metadata": {},
   "outputs": [
    {
     "data": {
      "text/plain": [
       "<matplotlib.axes._subplots.AxesSubplot at 0x7f4e5a048950>"
      ]
     },
     "execution_count": 118,
     "metadata": {},
     "output_type": "execute_result"
    },
    {
     "data": {
      "image/png": "[encoded data removed]",
      "text/plain": [
       "<Figure size 432x288 with 1 Axes>"
      ]
     },
     "metadata": {
      "needs_background": "light"
     },
     "output_type": "display_data"
    }
   ],
   "source": [
    "# столбчатая диаграмма для года \n",
    "df_filtered.groupby('year')['last_price'].mean().plot(kind='bar');"
   ]
  },
  {
   "cell_type": "markdown",
   "metadata": {},
   "source": [
    " Зависимости стоимости квартиры от даты размещения объявления цена не выявлено. Построив диаграмму по годам, мы видим, что в 2014 году квартиры были в среднем дороже, чем в другие года. Затем средняя цена снижается и только в 2019 году выросла. На мой взгляд, некорректно выявлять зависимость по всем населенным пунктам сразу, так как чем дальше квартира находится от Санкт-Петербурга, тем дешевле она стоит и если в том или ином году будет большое количество квартир, находящихся не в Санкт-Петербурге, то средняя цена естественно будет ниже."
   ]
  },
  {
   "cell_type": "markdown",
   "metadata": {},
   "source": [
    "Найдем 10 населённых пунктов с наибольшим числом объявлений и посчитаем для них среднюю цену квадратного метра, а также  определим населённые пункты с самой высокой и низкой стоимостью жилья."
   ]
  },
  {
   "cell_type": "code",
   "execution_count": 62,
   "metadata": {},
   "outputs": [
    {
     "data": {
      "text/plain": [
       "Санкт-Петербург    14133\n",
       "Мурино               588\n",
       "Кудрово              471\n",
       "Шушары               439\n",
       "Всеволожск           393\n",
       "Пушкин               339\n",
       "Колпино              335\n",
       "Парголово            326\n",
       "Гатчина              303\n",
       "Выборг               229\n",
       "Name: new_locality_name, dtype: int64"
      ]
     },
     "execution_count": 62,
     "metadata": {},
     "output_type": "execute_result"
    }
   ],
   "source": [
    "# 10 населённых пунктов с наибольшим числом объявлений\n",
    "df_filtered['new_locality_name'].value_counts().head(10)"
   ]
  },
  {
   "cell_type": "code",
   "execution_count": 63,
   "metadata": {},
   "outputs": [
    {
     "data": {
      "text/html": [
       "<div>\n",
       "<style scoped>\n",
       "    .dataframe tbody tr th:only-of-type {\n",
       "        vertical-align: middle;\n",
       "    }\n",
       "\n",
       "    .dataframe tbody tr th {\n",
       "        vertical-align: top;\n",
       "    }\n",
       "\n",
       "    .dataframe thead th {\n",
       "        text-align: right;\n",
       "    }\n",
       "</style>\n",
       "<table border=\"1\" class=\"dataframe\">\n",
       "  <thead>\n",
       "    <tr style=\"text-align: right;\">\n",
       "      <th></th>\n",
       "      <th>total_images</th>\n",
       "      <th>last_price</th>\n",
       "      <th>total_area</th>\n",
       "      <th>first_day_exposition</th>\n",
       "      <th>rooms</th>\n",
       "      <th>ceiling_height</th>\n",
       "      <th>floors_total</th>\n",
       "      <th>living_area</th>\n",
       "      <th>floor</th>\n",
       "      <th>is_apartment</th>\n",
       "      <th>...</th>\n",
       "      <th>days_exposition</th>\n",
       "      <th>percent_kitchen</th>\n",
       "      <th>new_locality_name</th>\n",
       "      <th>price_m2</th>\n",
       "      <th>weekday</th>\n",
       "      <th>month</th>\n",
       "      <th>year</th>\n",
       "      <th>floor_category</th>\n",
       "      <th>living_and_total_area_ratio</th>\n",
       "      <th>kitchen_and_total_area_ratio</th>\n",
       "    </tr>\n",
       "  </thead>\n",
       "  <tbody>\n",
       "    <tr>\n",
       "      <td>0</td>\n",
       "      <td>20</td>\n",
       "      <td>13000000</td>\n",
       "      <td>108.00</td>\n",
       "      <td>2019-03-07</td>\n",
       "      <td>3</td>\n",
       "      <td>2.70</td>\n",
       "      <td>16</td>\n",
       "      <td>51.00000</td>\n",
       "      <td>8</td>\n",
       "      <td>NaN</td>\n",
       "      <td>...</td>\n",
       "      <td>NaN</td>\n",
       "      <td>0.231481</td>\n",
       "      <td>Санкт-Петербург</td>\n",
       "      <td>120370.370370</td>\n",
       "      <td>3</td>\n",
       "      <td>3</td>\n",
       "      <td>2019</td>\n",
       "      <td>другой</td>\n",
       "      <td>0.472222</td>\n",
       "      <td>0.231481</td>\n",
       "    </tr>\n",
       "    <tr>\n",
       "      <td>1</td>\n",
       "      <td>7</td>\n",
       "      <td>3350000</td>\n",
       "      <td>40.40</td>\n",
       "      <td>2018-12-04</td>\n",
       "      <td>1</td>\n",
       "      <td>2.65</td>\n",
       "      <td>11</td>\n",
       "      <td>18.60000</td>\n",
       "      <td>1</td>\n",
       "      <td>NaN</td>\n",
       "      <td>...</td>\n",
       "      <td>81</td>\n",
       "      <td>0.272277</td>\n",
       "      <td>Шушары</td>\n",
       "      <td>82920.792079</td>\n",
       "      <td>1</td>\n",
       "      <td>12</td>\n",
       "      <td>2018</td>\n",
       "      <td>первый</td>\n",
       "      <td>0.460396</td>\n",
       "      <td>0.272277</td>\n",
       "    </tr>\n",
       "    <tr>\n",
       "      <td>2</td>\n",
       "      <td>10</td>\n",
       "      <td>5196000</td>\n",
       "      <td>56.00</td>\n",
       "      <td>2015-08-20</td>\n",
       "      <td>2</td>\n",
       "      <td>2.65</td>\n",
       "      <td>5</td>\n",
       "      <td>34.30000</td>\n",
       "      <td>4</td>\n",
       "      <td>NaN</td>\n",
       "      <td>...</td>\n",
       "      <td>558</td>\n",
       "      <td>0.148214</td>\n",
       "      <td>Санкт-Петербург</td>\n",
       "      <td>92785.714286</td>\n",
       "      <td>3</td>\n",
       "      <td>8</td>\n",
       "      <td>2015</td>\n",
       "      <td>другой</td>\n",
       "      <td>0.612500</td>\n",
       "      <td>0.148214</td>\n",
       "    </tr>\n",
       "    <tr>\n",
       "      <td>4</td>\n",
       "      <td>2</td>\n",
       "      <td>10000000</td>\n",
       "      <td>100.00</td>\n",
       "      <td>2018-06-19</td>\n",
       "      <td>2</td>\n",
       "      <td>3.03</td>\n",
       "      <td>14</td>\n",
       "      <td>32.00000</td>\n",
       "      <td>13</td>\n",
       "      <td>NaN</td>\n",
       "      <td>...</td>\n",
       "      <td>121</td>\n",
       "      <td>0.410000</td>\n",
       "      <td>Санкт-Петербург</td>\n",
       "      <td>100000.000000</td>\n",
       "      <td>1</td>\n",
       "      <td>6</td>\n",
       "      <td>2018</td>\n",
       "      <td>другой</td>\n",
       "      <td>0.320000</td>\n",
       "      <td>0.410000</td>\n",
       "    </tr>\n",
       "    <tr>\n",
       "      <td>6</td>\n",
       "      <td>6</td>\n",
       "      <td>3700000</td>\n",
       "      <td>37.30</td>\n",
       "      <td>2017-11-02</td>\n",
       "      <td>1</td>\n",
       "      <td>2.65</td>\n",
       "      <td>26</td>\n",
       "      <td>10.60000</td>\n",
       "      <td>6</td>\n",
       "      <td>NaN</td>\n",
       "      <td>...</td>\n",
       "      <td>155</td>\n",
       "      <td>0.386059</td>\n",
       "      <td>Парголово</td>\n",
       "      <td>99195.710456</td>\n",
       "      <td>3</td>\n",
       "      <td>11</td>\n",
       "      <td>2017</td>\n",
       "      <td>другой</td>\n",
       "      <td>0.284182</td>\n",
       "      <td>0.386059</td>\n",
       "    </tr>\n",
       "    <tr>\n",
       "      <td>...</td>\n",
       "      <td>...</td>\n",
       "      <td>...</td>\n",
       "      <td>...</td>\n",
       "      <td>...</td>\n",
       "      <td>...</td>\n",
       "      <td>...</td>\n",
       "      <td>...</td>\n",
       "      <td>...</td>\n",
       "      <td>...</td>\n",
       "      <td>...</td>\n",
       "      <td>...</td>\n",
       "      <td>...</td>\n",
       "      <td>...</td>\n",
       "      <td>...</td>\n",
       "      <td>...</td>\n",
       "      <td>...</td>\n",
       "      <td>...</td>\n",
       "      <td>...</td>\n",
       "      <td>...</td>\n",
       "      <td>...</td>\n",
       "      <td>...</td>\n",
       "    </tr>\n",
       "    <tr>\n",
       "      <td>23688</td>\n",
       "      <td>19</td>\n",
       "      <td>9200000</td>\n",
       "      <td>101.00</td>\n",
       "      <td>2019-04-01</td>\n",
       "      <td>3</td>\n",
       "      <td>3.05</td>\n",
       "      <td>15</td>\n",
       "      <td>63.00000</td>\n",
       "      <td>12</td>\n",
       "      <td>NaN</td>\n",
       "      <td>...</td>\n",
       "      <td>23</td>\n",
       "      <td>0.148515</td>\n",
       "      <td>Санкт-Петербург</td>\n",
       "      <td>91089.108911</td>\n",
       "      <td>0</td>\n",
       "      <td>4</td>\n",
       "      <td>2019</td>\n",
       "      <td>другой</td>\n",
       "      <td>0.623762</td>\n",
       "      <td>0.148515</td>\n",
       "    </tr>\n",
       "    <tr>\n",
       "      <td>23689</td>\n",
       "      <td>13</td>\n",
       "      <td>3550000</td>\n",
       "      <td>35.30</td>\n",
       "      <td>2018-02-28</td>\n",
       "      <td>1</td>\n",
       "      <td>2.86</td>\n",
       "      <td>15</td>\n",
       "      <td>16.30000</td>\n",
       "      <td>4</td>\n",
       "      <td>NaN</td>\n",
       "      <td>...</td>\n",
       "      <td>29</td>\n",
       "      <td>0.257790</td>\n",
       "      <td>Санкт-Петербург</td>\n",
       "      <td>100566.572238</td>\n",
       "      <td>2</td>\n",
       "      <td>2</td>\n",
       "      <td>2018</td>\n",
       "      <td>другой</td>\n",
       "      <td>0.461756</td>\n",
       "      <td>0.257790</td>\n",
       "    </tr>\n",
       "    <tr>\n",
       "      <td>23690</td>\n",
       "      <td>3</td>\n",
       "      <td>5500000</td>\n",
       "      <td>52.00</td>\n",
       "      <td>2018-07-19</td>\n",
       "      <td>2</td>\n",
       "      <td>2.65</td>\n",
       "      <td>5</td>\n",
       "      <td>31.00000</td>\n",
       "      <td>2</td>\n",
       "      <td>NaN</td>\n",
       "      <td>...</td>\n",
       "      <td>15</td>\n",
       "      <td>0.115385</td>\n",
       "      <td>Санкт-Петербург</td>\n",
       "      <td>105769.230769</td>\n",
       "      <td>3</td>\n",
       "      <td>7</td>\n",
       "      <td>2018</td>\n",
       "      <td>другой</td>\n",
       "      <td>0.596154</td>\n",
       "      <td>0.115385</td>\n",
       "    </tr>\n",
       "    <tr>\n",
       "      <td>23691</td>\n",
       "      <td>11</td>\n",
       "      <td>9470000</td>\n",
       "      <td>72.90</td>\n",
       "      <td>2016-10-13</td>\n",
       "      <td>2</td>\n",
       "      <td>2.75</td>\n",
       "      <td>25</td>\n",
       "      <td>40.30000</td>\n",
       "      <td>7</td>\n",
       "      <td>NaN</td>\n",
       "      <td>...</td>\n",
       "      <td>519</td>\n",
       "      <td>0.145405</td>\n",
       "      <td>Санкт-Петербург</td>\n",
       "      <td>129903.978052</td>\n",
       "      <td>3</td>\n",
       "      <td>10</td>\n",
       "      <td>2016</td>\n",
       "      <td>другой</td>\n",
       "      <td>0.552812</td>\n",
       "      <td>0.145405</td>\n",
       "    </tr>\n",
       "    <tr>\n",
       "      <td>23697</td>\n",
       "      <td>13</td>\n",
       "      <td>11475000</td>\n",
       "      <td>76.75</td>\n",
       "      <td>2017-03-28</td>\n",
       "      <td>2</td>\n",
       "      <td>3.00</td>\n",
       "      <td>17</td>\n",
       "      <td>57.60855</td>\n",
       "      <td>12</td>\n",
       "      <td>NaN</td>\n",
       "      <td>...</td>\n",
       "      <td>602</td>\n",
       "      <td>0.303583</td>\n",
       "      <td>Санкт-Петербург</td>\n",
       "      <td>149511.400651</td>\n",
       "      <td>1</td>\n",
       "      <td>3</td>\n",
       "      <td>2017</td>\n",
       "      <td>другой</td>\n",
       "      <td>0.750600</td>\n",
       "      <td>0.303583</td>\n",
       "    </tr>\n",
       "  </tbody>\n",
       "</table>\n",
       "<p>17556 rows × 31 columns</p>\n",
       "</div>"
      ],
      "text/plain": [
       "       total_images  last_price  total_area first_day_exposition  rooms  \\\n",
       "0                20    13000000      108.00           2019-03-07      3   \n",
       "1                 7     3350000       40.40           2018-12-04      1   \n",
       "2                10     5196000       56.00           2015-08-20      2   \n",
       "4                 2    10000000      100.00           2018-06-19      2   \n",
       "6                 6     3700000       37.30           2017-11-02      1   \n",
       "...             ...         ...         ...                  ...    ...   \n",
       "23688            19     9200000      101.00           2019-04-01      3   \n",
       "23689            13     3550000       35.30           2018-02-28      1   \n",
       "23690             3     5500000       52.00           2018-07-19      2   \n",
       "23691            11     9470000       72.90           2016-10-13      2   \n",
       "23697            13    11475000       76.75           2017-03-28      2   \n",
       "\n",
       "       ceiling_height  floors_total  living_area  floor is_apartment  ...  \\\n",
       "0                2.70            16     51.00000      8          NaN  ...   \n",
       "1                2.65            11     18.60000      1          NaN  ...   \n",
       "2                2.65             5     34.30000      4          NaN  ...   \n",
       "4                3.03            14     32.00000     13          NaN  ...   \n",
       "6                2.65            26     10.60000      6          NaN  ...   \n",
       "...               ...           ...          ...    ...          ...  ...   \n",
       "23688            3.05            15     63.00000     12          NaN  ...   \n",
       "23689            2.86            15     16.30000      4          NaN  ...   \n",
       "23690            2.65             5     31.00000      2          NaN  ...   \n",
       "23691            2.75            25     40.30000      7          NaN  ...   \n",
       "23697            3.00            17     57.60855     12          NaN  ...   \n",
       "\n",
       "       days_exposition  percent_kitchen  new_locality_name       price_m2  \\\n",
       "0                  NaN         0.231481    Санкт-Петербург  120370.370370   \n",
       "1                   81         0.272277             Шушары   82920.792079   \n",
       "2                  558         0.148214    Санкт-Петербург   92785.714286   \n",
       "4                  121         0.410000    Санкт-Петербург  100000.000000   \n",
       "6                  155         0.386059          Парголово   99195.710456   \n",
       "...                ...              ...                ...            ...   \n",
       "23688               23         0.148515    Санкт-Петербург   91089.108911   \n",
       "23689               29         0.257790    Санкт-Петербург  100566.572238   \n",
       "23690               15         0.115385    Санкт-Петербург  105769.230769   \n",
       "23691              519         0.145405    Санкт-Петербург  129903.978052   \n",
       "23697              602         0.303583    Санкт-Петербург  149511.400651   \n",
       "\n",
       "      weekday  month  year  floor_category  living_and_total_area_ratio  \\\n",
       "0           3      3  2019          другой                     0.472222   \n",
       "1           1     12  2018          первый                     0.460396   \n",
       "2           3      8  2015          другой                     0.612500   \n",
       "4           1      6  2018          другой                     0.320000   \n",
       "6           3     11  2017          другой                     0.284182   \n",
       "...       ...    ...   ...             ...                          ...   \n",
       "23688       0      4  2019          другой                     0.623762   \n",
       "23689       2      2  2018          другой                     0.461756   \n",
       "23690       3      7  2018          другой                     0.596154   \n",
       "23691       3     10  2016          другой                     0.552812   \n",
       "23697       1      3  2017          другой                     0.750600   \n",
       "\n",
       "       kitchen_and_total_area_ratio  \n",
       "0                          0.231481  \n",
       "1                          0.272277  \n",
       "2                          0.148214  \n",
       "4                          0.410000  \n",
       "6                          0.386059  \n",
       "...                             ...  \n",
       "23688                      0.148515  \n",
       "23689                      0.257790  \n",
       "23690                      0.115385  \n",
       "23691                      0.145405  \n",
       "23697                      0.303583  \n",
       "\n",
       "[17556 rows x 31 columns]"
      ]
     },
     "execution_count": 63,
     "metadata": {},
     "output_type": "execute_result"
    }
   ],
   "source": [
    "# срез данных по 10 населенным пунктам\n",
    "top_10 = df_filtered.query('new_locality_name in (\"Санкт-Петербург\", \"Мурино\", \"Кудрово\", \"Шушары\", \"Всеволожск\", \"Пушкин\", \"Колпино\", \"Парголово\", \"Гатчина\", \"Выборг\")')\n",
    "top_10"
   ]
  },
  {
   "cell_type": "code",
   "execution_count": 64,
   "metadata": {},
   "outputs": [
    {
     "data": {
      "text/plain": [
       "new_locality_name\n",
       "Всеволожск          67284.294016\n",
       "Выборг              58280.151559\n",
       "Гатчина             68931.687349\n",
       "Колпино             75389.372149\n",
       "Кудрово             95326.179139\n",
       "Мурино              86064.821204\n",
       "Парголово           90332.263023\n",
       "Пушкин             100840.580984\n",
       "Санкт-Петербург    107029.144455\n",
       "Шушары              78666.165160\n",
       "Name: price_m2, dtype: float64"
      ]
     },
     "execution_count": 64,
     "metadata": {},
     "output_type": "execute_result"
    }
   ],
   "source": [
    "# расчет средней цены квадратного метра\n",
    "top_10.groupby('new_locality_name')['price_m2'].mean()"
   ]
  },
  {
   "cell_type": "markdown",
   "metadata": {},
   "source": [
    "Самое дорогое жилье в Санкт-Петербурге и Пушкине (107 и 100 тыс. за кв.м), а самое дешевое жилье в Выборге (58 тыс. за кв.м). Далее идут Всеволожск и Гатчина, стоимость квадратного метра которых составила 67 и 68 тысяч."
   ]
  },
  {
   "cell_type": "markdown",
   "metadata": {},
   "source": [
    "Выясним, какая область входит в центр."
   ]
  },
  {
   "cell_type": "code",
   "execution_count": 65,
   "metadata": {},
   "outputs": [
    {
     "name": "stderr",
     "output_type": "stream",
     "text": [
      "/opt/conda/lib/python3.7/site-packages/ipykernel_launcher.py:3: SettingWithCopyWarning: \n",
      "A value is trying to be set on a copy of a slice from a DataFrame.\n",
      "Try using .loc[row_indexer,col_indexer] = value instead\n",
      "\n",
      "See the caveats in the documentation: http://pandas.pydata.org/pandas-docs/stable/user_guide/indexing.html#returning-a-view-versus-a-copy\n",
      "  This is separate from the ipykernel package so we can avoid doing imports until\n"
     ]
    },
    {
     "data": {
      "text/plain": [
       "0    16.0\n",
       "2    14.0\n",
       "4     8.0\n",
       "7    12.0\n",
       "9    15.0\n",
       "Name: spb_center_km, dtype: float64"
      ]
     },
     "execution_count": 65,
     "metadata": {},
     "output_type": "execute_result"
    }
   ],
   "source": [
    "# создание нового столбца с данными о расстоянии до центра города в км для квартир, находящихся в Санкт-Петрбурге\n",
    "df_spb = df_filtered.query('new_locality_name==\"Санкт-Петербург\"')\n",
    "df_spb['spb_center_km'] = round(df_spb['cityCenters_nearest']/1000)\n",
    "df_spb['spb_center_km'].head()"
   ]
  },
  {
   "cell_type": "code",
   "execution_count": 66,
   "metadata": {},
   "outputs": [
    {
     "data": {
      "text/plain": [
       "spb_center_km\n",
       "0.0     122387.691331\n",
       "1.0     123311.340937\n",
       "2.0     122186.186312\n",
       "3.0     112219.211162\n",
       "4.0     118850.486071\n",
       "5.0     123249.055949\n",
       "6.0     124900.869967\n",
       "7.0     119531.317817\n",
       "8.0     117826.788590\n",
       "9.0     108330.941441\n",
       "10.0    109819.125161\n",
       "11.0    105856.979399\n",
       "12.0    106399.710483\n",
       "13.0    107215.365472\n",
       "14.0    103874.910038\n",
       "15.0    103054.918669\n",
       "16.0     99915.154379\n",
       "17.0     95652.633564\n",
       "18.0     96585.683990\n",
       "19.0     97938.544867\n",
       "20.0    103081.679025\n",
       "21.0     94464.856891\n",
       "22.0     91137.032731\n",
       "23.0     92063.679612\n",
       "24.0     85736.904595\n",
       "25.0     91531.371618\n",
       "26.0     89285.876593\n",
       "27.0     70312.500000\n",
       "28.0     81161.915320\n",
       "29.0     72953.365445\n",
       "Name: price_m2, dtype: float64"
      ]
     },
     "execution_count": 66,
     "metadata": {},
     "output_type": "execute_result"
    }
   ],
   "source": [
    "# рассчет средней цены для каждого километра\n",
    "df_spb.groupby('spb_center_km')['price_m2'].mean()"
   ]
  },
  {
   "cell_type": "code",
   "execution_count": 67,
   "metadata": {},
   "outputs": [
    {
     "data": {
      "text/plain": [
       "<matplotlib.axes._subplots.AxesSubplot at 0x7f4e812d8ed0>"
      ]
     },
     "execution_count": 67,
     "metadata": {},
     "output_type": "execute_result"
    },
    {
     "data": {
      "image/png": "[encoded data removed]",
      "text/plain": [
       "<Figure size 432x288 with 1 Axes>"
      ]
     },
     "metadata": {
      "needs_background": "light"
     },
     "output_type": "display_data"
    }
   ],
   "source": [
    "# построение графика\n",
    "df_spb.groupby('spb_center_km')['price_m2'].mean().plot();"
   ]
  },
  {
   "cell_type": "markdown",
   "metadata": {},
   "source": [
    "Границей центра Санкт-Петербурга будем считать отметку в 6 км, после этой отметки средняя стоимость кв. метра снижается. Теперь проанализируйте эту территорию, посмотрев коэффициенты корреляции и числовое описание факторов для центра и по всему городу."
   ]
  },
  {
   "cell_type": "code",
   "execution_count": 68,
   "metadata": {},
   "outputs": [
    {
     "data": {
      "text/html": [
       "<div>\n",
       "<style scoped>\n",
       "    .dataframe tbody tr th:only-of-type {\n",
       "        vertical-align: middle;\n",
       "    }\n",
       "\n",
       "    .dataframe tbody tr th {\n",
       "        vertical-align: top;\n",
       "    }\n",
       "\n",
       "    .dataframe thead th {\n",
       "        text-align: right;\n",
       "    }\n",
       "</style>\n",
       "<table border=\"1\" class=\"dataframe\">\n",
       "  <thead>\n",
       "    <tr style=\"text-align: right;\">\n",
       "      <th></th>\n",
       "      <th>last_price</th>\n",
       "      <th>total_area</th>\n",
       "      <th>rooms</th>\n",
       "      <th>ceiling_height</th>\n",
       "    </tr>\n",
       "  </thead>\n",
       "  <tbody>\n",
       "    <tr>\n",
       "      <td>count</td>\n",
       "      <td>2.161000e+03</td>\n",
       "      <td>2161.000000</td>\n",
       "      <td>2161.000000</td>\n",
       "      <td>2161.000000</td>\n",
       "    </tr>\n",
       "    <tr>\n",
       "      <td>mean</td>\n",
       "      <td>8.018482e+06</td>\n",
       "      <td>68.719621</td>\n",
       "      <td>2.397038</td>\n",
       "      <td>2.901666</td>\n",
       "    </tr>\n",
       "    <tr>\n",
       "      <td>std</td>\n",
       "      <td>2.577250e+06</td>\n",
       "      <td>22.643779</td>\n",
       "      <td>1.021378</td>\n",
       "      <td>0.325026</td>\n",
       "    </tr>\n",
       "    <tr>\n",
       "      <td>min</td>\n",
       "      <td>1.600000e+06</td>\n",
       "      <td>12.000000</td>\n",
       "      <td>0.000000</td>\n",
       "      <td>2.450000</td>\n",
       "    </tr>\n",
       "    <tr>\n",
       "      <td>25%</td>\n",
       "      <td>6.100000e+06</td>\n",
       "      <td>50.000000</td>\n",
       "      <td>2.000000</td>\n",
       "      <td>2.650000</td>\n",
       "    </tr>\n",
       "    <tr>\n",
       "      <td>50%</td>\n",
       "      <td>7.722600e+06</td>\n",
       "      <td>68.000000</td>\n",
       "      <td>2.000000</td>\n",
       "      <td>2.760000</td>\n",
       "    </tr>\n",
       "    <tr>\n",
       "      <td>75%</td>\n",
       "      <td>9.790000e+06</td>\n",
       "      <td>85.100000</td>\n",
       "      <td>3.000000</td>\n",
       "      <td>3.100000</td>\n",
       "    </tr>\n",
       "    <tr>\n",
       "      <td>max</td>\n",
       "      <td>1.400000e+07</td>\n",
       "      <td>120.000000</td>\n",
       "      <td>6.000000</td>\n",
       "      <td>4.370000</td>\n",
       "    </tr>\n",
       "  </tbody>\n",
       "</table>\n",
       "</div>"
      ],
      "text/plain": [
       "         last_price   total_area        rooms  ceiling_height\n",
       "count  2.161000e+03  2161.000000  2161.000000     2161.000000\n",
       "mean   8.018482e+06    68.719621     2.397038        2.901666\n",
       "std    2.577250e+06    22.643779     1.021378        0.325026\n",
       "min    1.600000e+06    12.000000     0.000000        2.450000\n",
       "25%    6.100000e+06    50.000000     2.000000        2.650000\n",
       "50%    7.722600e+06    68.000000     2.000000        2.760000\n",
       "75%    9.790000e+06    85.100000     3.000000        3.100000\n",
       "max    1.400000e+07   120.000000     6.000000        4.370000"
      ]
     },
     "execution_count": 68,
     "metadata": {},
     "output_type": "execute_result"
    }
   ],
   "source": [
    "# числовое описание площади, цены, числа комнат, высоты потолков для центра города\n",
    "df_spb.query('spb_center_km<=6.0')[['last_price', 'total_area', 'rooms', 'ceiling_height']].describe()"
   ]
  },
  {
   "cell_type": "code",
   "execution_count": 69,
   "metadata": {
    "scrolled": true
   },
   "outputs": [
    {
     "data": {
      "text/html": [
       "<div>\n",
       "<style scoped>\n",
       "    .dataframe tbody tr th:only-of-type {\n",
       "        vertical-align: middle;\n",
       "    }\n",
       "\n",
       "    .dataframe tbody tr th {\n",
       "        vertical-align: top;\n",
       "    }\n",
       "\n",
       "    .dataframe thead th {\n",
       "        text-align: right;\n",
       "    }\n",
       "</style>\n",
       "<table border=\"1\" class=\"dataframe\">\n",
       "  <thead>\n",
       "    <tr style=\"text-align: right;\">\n",
       "      <th></th>\n",
       "      <th>last_price</th>\n",
       "      <th>total_area</th>\n",
       "      <th>rooms</th>\n",
       "      <th>ceiling_height</th>\n",
       "    </tr>\n",
       "  </thead>\n",
       "  <tbody>\n",
       "    <tr>\n",
       "      <td>count</td>\n",
       "      <td>1.413300e+04</td>\n",
       "      <td>14133.000000</td>\n",
       "      <td>14133.000000</td>\n",
       "      <td>14133.000000</td>\n",
       "    </tr>\n",
       "    <tr>\n",
       "      <td>mean</td>\n",
       "      <td>5.899971e+06</td>\n",
       "      <td>55.593523</td>\n",
       "      <td>1.993137</td>\n",
       "      <td>2.693784</td>\n",
       "    </tr>\n",
       "    <tr>\n",
       "      <td>std</td>\n",
       "      <td>2.442241e+06</td>\n",
       "      <td>19.803090</td>\n",
       "      <td>0.924719</td>\n",
       "      <td>0.199998</td>\n",
       "    </tr>\n",
       "    <tr>\n",
       "      <td>min</td>\n",
       "      <td>1.219000e+04</td>\n",
       "      <td>12.000000</td>\n",
       "      <td>0.000000</td>\n",
       "      <td>2.450000</td>\n",
       "    </tr>\n",
       "    <tr>\n",
       "      <td>25%</td>\n",
       "      <td>4.100000e+06</td>\n",
       "      <td>40.500000</td>\n",
       "      <td>1.000000</td>\n",
       "      <td>2.600000</td>\n",
       "    </tr>\n",
       "    <tr>\n",
       "      <td>50%</td>\n",
       "      <td>5.200000e+06</td>\n",
       "      <td>51.400000</td>\n",
       "      <td>2.000000</td>\n",
       "      <td>2.650000</td>\n",
       "    </tr>\n",
       "    <tr>\n",
       "      <td>75%</td>\n",
       "      <td>7.040000e+06</td>\n",
       "      <td>67.100000</td>\n",
       "      <td>3.000000</td>\n",
       "      <td>2.700000</td>\n",
       "    </tr>\n",
       "    <tr>\n",
       "      <td>max</td>\n",
       "      <td>1.400000e+07</td>\n",
       "      <td>120.000000</td>\n",
       "      <td>6.000000</td>\n",
       "      <td>4.370000</td>\n",
       "    </tr>\n",
       "  </tbody>\n",
       "</table>\n",
       "</div>"
      ],
      "text/plain": [
       "         last_price    total_area         rooms  ceiling_height\n",
       "count  1.413300e+04  14133.000000  14133.000000    14133.000000\n",
       "mean   5.899971e+06     55.593523      1.993137        2.693784\n",
       "std    2.442241e+06     19.803090      0.924719        0.199998\n",
       "min    1.219000e+04     12.000000      0.000000        2.450000\n",
       "25%    4.100000e+06     40.500000      1.000000        2.600000\n",
       "50%    5.200000e+06     51.400000      2.000000        2.650000\n",
       "75%    7.040000e+06     67.100000      3.000000        2.700000\n",
       "max    1.400000e+07    120.000000      6.000000        4.370000"
      ]
     },
     "execution_count": 69,
     "metadata": {},
     "output_type": "execute_result"
    }
   ],
   "source": [
    "# числовое описание площади, цены, числа комнат, высоты потолков для всего города\n",
    "df_spb[['last_price', 'total_area', 'rooms', 'ceiling_height']].describe()"
   ]
  },
  {
   "cell_type": "code",
   "execution_count": 70,
   "metadata": {},
   "outputs": [
    {
     "data": {
      "text/html": [
       "<div>\n",
       "<style scoped>\n",
       "    .dataframe tbody tr th:only-of-type {\n",
       "        vertical-align: middle;\n",
       "    }\n",
       "\n",
       "    .dataframe tbody tr th {\n",
       "        vertical-align: top;\n",
       "    }\n",
       "\n",
       "    .dataframe thead th {\n",
       "        text-align: right;\n",
       "    }\n",
       "</style>\n",
       "<table border=\"1\" class=\"dataframe\">\n",
       "  <thead>\n",
       "    <tr style=\"text-align: right;\">\n",
       "      <th></th>\n",
       "      <th>last_price</th>\n",
       "      <th>rooms</th>\n",
       "      <th>floor</th>\n",
       "      <th>cityCenters_nearest</th>\n",
       "      <th>weekday</th>\n",
       "      <th>month</th>\n",
       "      <th>year</th>\n",
       "    </tr>\n",
       "  </thead>\n",
       "  <tbody>\n",
       "    <tr>\n",
       "      <td>last_price</td>\n",
       "      <td>1.000000</td>\n",
       "      <td>0.441742</td>\n",
       "      <td>0.170149</td>\n",
       "      <td>-0.092733</td>\n",
       "      <td>-0.009566</td>\n",
       "      <td>-0.032414</td>\n",
       "      <td>-0.008789</td>\n",
       "    </tr>\n",
       "    <tr>\n",
       "      <td>rooms</td>\n",
       "      <td>0.441742</td>\n",
       "      <td>1.000000</td>\n",
       "      <td>-0.103417</td>\n",
       "      <td>-0.165093</td>\n",
       "      <td>-0.010249</td>\n",
       "      <td>-0.005624</td>\n",
       "      <td>-0.049054</td>\n",
       "    </tr>\n",
       "    <tr>\n",
       "      <td>floor</td>\n",
       "      <td>0.170149</td>\n",
       "      <td>-0.103417</td>\n",
       "      <td>1.000000</td>\n",
       "      <td>0.214362</td>\n",
       "      <td>0.044902</td>\n",
       "      <td>0.005741</td>\n",
       "      <td>-0.051775</td>\n",
       "    </tr>\n",
       "    <tr>\n",
       "      <td>cityCenters_nearest</td>\n",
       "      <td>-0.092733</td>\n",
       "      <td>-0.165093</td>\n",
       "      <td>0.214362</td>\n",
       "      <td>1.000000</td>\n",
       "      <td>-0.004643</td>\n",
       "      <td>-0.018699</td>\n",
       "      <td>0.032484</td>\n",
       "    </tr>\n",
       "    <tr>\n",
       "      <td>weekday</td>\n",
       "      <td>-0.009566</td>\n",
       "      <td>-0.010249</td>\n",
       "      <td>0.044902</td>\n",
       "      <td>-0.004643</td>\n",
       "      <td>1.000000</td>\n",
       "      <td>0.047573</td>\n",
       "      <td>-0.006405</td>\n",
       "    </tr>\n",
       "    <tr>\n",
       "      <td>month</td>\n",
       "      <td>-0.032414</td>\n",
       "      <td>-0.005624</td>\n",
       "      <td>0.005741</td>\n",
       "      <td>-0.018699</td>\n",
       "      <td>0.047573</td>\n",
       "      <td>1.000000</td>\n",
       "      <td>-0.224340</td>\n",
       "    </tr>\n",
       "    <tr>\n",
       "      <td>year</td>\n",
       "      <td>-0.008789</td>\n",
       "      <td>-0.049054</td>\n",
       "      <td>-0.051775</td>\n",
       "      <td>0.032484</td>\n",
       "      <td>-0.006405</td>\n",
       "      <td>-0.224340</td>\n",
       "      <td>1.000000</td>\n",
       "    </tr>\n",
       "  </tbody>\n",
       "</table>\n",
       "</div>"
      ],
      "text/plain": [
       "                     last_price     rooms     floor  cityCenters_nearest  \\\n",
       "last_price             1.000000  0.441742  0.170149            -0.092733   \n",
       "rooms                  0.441742  1.000000 -0.103417            -0.165093   \n",
       "floor                  0.170149 -0.103417  1.000000             0.214362   \n",
       "cityCenters_nearest   -0.092733 -0.165093  0.214362             1.000000   \n",
       "weekday               -0.009566 -0.010249  0.044902            -0.004643   \n",
       "month                 -0.032414 -0.005624  0.005741            -0.018699   \n",
       "year                  -0.008789 -0.049054 -0.051775             0.032484   \n",
       "\n",
       "                      weekday     month      year  \n",
       "last_price          -0.009566 -0.032414 -0.008789  \n",
       "rooms               -0.010249 -0.005624 -0.049054  \n",
       "floor                0.044902  0.005741 -0.051775  \n",
       "cityCenters_nearest -0.004643 -0.018699  0.032484  \n",
       "weekday              1.000000  0.047573 -0.006405  \n",
       "month                0.047573  1.000000 -0.224340  \n",
       "year                -0.006405 -0.224340  1.000000  "
      ]
     },
     "execution_count": 70,
     "metadata": {},
     "output_type": "execute_result"
    }
   ],
   "source": [
    "# матрица корреляции для центра города\n",
    "df_spb.query('spb_center_km<=6.0')[['last_price', 'rooms','floor', 'cityCenters_nearest', 'weekday', 'month', 'year']].corr()"
   ]
  },
  {
   "cell_type": "code",
   "execution_count": 119,
   "metadata": {},
   "outputs": [
    {
     "data": {
      "text/plain": [
       "<matplotlib.axes._subplots.AxesSubplot at 0x7f4e5a075290>"
      ]
     },
     "execution_count": 119,
     "metadata": {},
     "output_type": "execute_result"
    },
    {
     "data": {
      "image/png": "[encoded data removed]",
      "text/plain": [
       "<Figure size 432x288 with 1 Axes>"
      ]
     },
     "metadata": {
      "needs_background": "light"
     },
     "output_type": "display_data"
    }
   ],
   "source": [
    "# столбчатая диаграмма для дня недели\n",
    "df_spb.query('spb_center_km<=6.0').groupby('weekday')['last_price'].mean().plot(kind='bar');"
   ]
  },
  {
   "cell_type": "code",
   "execution_count": 120,
   "metadata": {},
   "outputs": [
    {
     "data": {
      "text/plain": [
       "<matplotlib.axes._subplots.AxesSubplot at 0x7f4e59fe2d90>"
      ]
     },
     "execution_count": 120,
     "metadata": {},
     "output_type": "execute_result"
    },
    {
     "data": {
      "image/png": "[encoded data removed]",
      "text/plain": [
       "<Figure size 432x288 with 1 Axes>"
      ]
     },
     "metadata": {
      "needs_background": "light"
     },
     "output_type": "display_data"
    }
   ],
   "source": [
    "# столбчатая диаграмма для месяца\n",
    "df_spb.query('spb_center_km<=6.0').groupby('month')['last_price'].mean().plot(kind='bar');"
   ]
  },
  {
   "cell_type": "code",
   "execution_count": 122,
   "metadata": {},
   "outputs": [
    {
     "data": {
      "text/plain": [
       "<matplotlib.axes._subplots.AxesSubplot at 0x7f4e59fbf190>"
      ]
     },
     "execution_count": 122,
     "metadata": {},
     "output_type": "execute_result"
    },
    {
     "data": {
      "image/png": "[encoded data removed]",
      "text/plain": [
       "<Figure size 432x288 with 1 Axes>"
      ]
     },
     "metadata": {
      "needs_background": "light"
     },
     "output_type": "display_data"
    }
   ],
   "source": [
    "# столбчатая диаграмма для года\n",
    "df_spb.query('spb_center_km<=6.0').groupby('year')['last_price'].mean().plot(kind='bar');"
   ]
  },
  {
   "cell_type": "markdown",
   "metadata": {},
   "source": [
    "В центре Санкт-Петербурга квартиры большего размера чем в целом в городе: среднее значение больше на 13 метров, а медиана на 18 метров. Цена соответственно тоже выше в центре города (средняя цена 8 млн. рублей, против 5,9 млн. рублей). Высота потолков немного выше в центральной части, чем в целом в городе.\n",
    "В целом влияние факторов на стоимость квартиры в центре Санкт-Петербурга и  по городу, практически одинаковое, за исключением удаленности от центра и года размещения объявления. Для всего города влияние удаленности сильнее, а влияние года слабее. "
   ]
  },
  {
   "cell_type": "markdown",
   "metadata": {},
   "source": [
    "## Общий вывод"
   ]
  },
  {
   "cell_type": "markdown",
   "metadata": {},
   "source": [
    "Было проведено исследование объявлений о продаже квартир в Санкт-Петербурге и соседних населённых пунктах за несколько лет. В ходе предобработке данных было выявлено огромное количество пропусков (из 22 столбцов пропуски присутствуют в 14 столбцах). Скорее всего пропуски появились в результате того, что при заполнении информации о квартире продавец не указал все данные (не заполнил все поля). Так же пропуски могли стать результатом некорректной выгрузки данных или же сбой при сборе информации. Заменять все пропуски мы не стали, так как для данного исследования пропуски не повлияют на его результат. Однако на это стоит обратить внимание и в дальнейшем не допускать появления такое числа пропусков (например, сделать все или большинтво полей обязательными при заполнении).\n",
    "\n",
    "Так же данные были приведены к необходимому типу (часть столбцов с вещественным типом были преобразованы в целочисленный тип, а столбец с датой публикацией был приведен к datetime). Кроме того были убраны неявные дубликаты в столбце с названиями населенного пункта. \n",
    "\n",
    "Для дальнейшего анализа было создано 7 новых столбцов: стоимость квадратного метра, день недели, месяц и год публикации объявления, категория этажа, соотношение жилой и общей площади и отношение площади кухни к общей.\n",
    "\n",
    "Проводя исследовательский анализ данных были выявлены и убраны редкие и выбивающиеся значения, дабы избежать искажение результатов анализа. Коэффициенты кореляции и диаграммы рассеивания показали, что цена квартиры зависит от площади: чем больше площадь, тем выше цена. Количество комнат влияет на цену почти в 1.5 раза слабее (коэффициент корреляции = 0,45). Что касается удаленности от цента, то коэффициент корреляции отрицателен, то есть чем меньше расстояние до центра, тем выше цена. Так же можно сказать, что квартиры, располагающиеся на первом и последнем этажах стоят дешевле, чем квартиры располагающиеся на любом другом этаже. Влияние даты размещения объявления не было выявлено, т.е. при изменении даты размещения объявления цена квартиры остается прежней.\n",
    "\n",
    "Было выделено 10 населённых пунктов с наибольшим числом объявлений, к которым относятся: Санкт-Петербург, Мурино, Кудрово, Шушары, Всеволожск, Пушкин, Колпино, Парголово, Гатчина, Выборг. Для данных населенных пунктов была рассчитана средняя цена квадратного метра, которая показала, что самое дорогое жилье в Санкт-Петербурге и Пушкине (107 и 100 тыс. за кв.м), а самое дешевое жилье в Выборге (58 тыс. за кв.м). Далее идут Всеволожск и Гатчина, стоимость квадратного метра которых составила 67 и 68 тысяч.\n",
    "\n",
    "Была определена граница центра Санкт-Петербурга, которая составила 6 км. Проанализировав данную территорию, мы пришли к выводу, что в центре Санкт-Петербурга квартиры большего размера чем в целом в городе: среднее значение больше на 13 метров, а медиана на 18 метров. Цена соответственно тоже выше в центре города (средняя цена 8 млн. рублей, против 5,9 млн. рублей). Высота потолков немного выше в центральной части, чем в целом в городе."
   ]
  },
  {
   "cell_type": "code",
   "execution_count": null,
   "metadata": {},
   "outputs": [],
   "source": []
  }
 ],
 "metadata": {
  "ExecuteTimeLog": [
   {
    "duration": 599,
    "start_time": "2021-12-26T11:01:14.326Z"
   },
   {
    "duration": 202,
    "start_time": "2021-12-26T11:05:27.270Z"
   },
   {
    "duration": 14,
    "start_time": "2021-12-26T11:05:53.664Z"
   },
   {
    "duration": 185,
    "start_time": "2021-12-26T11:07:25.056Z"
   },
   {
    "duration": 8,
    "start_time": "2021-12-26T11:07:25.936Z"
   },
   {
    "duration": 62,
    "start_time": "2021-12-26T11:08:05.200Z"
   },
   {
    "duration": 8,
    "start_time": "2021-12-26T11:08:07.599Z"
   },
   {
    "duration": 62,
    "start_time": "2021-12-26T11:08:50.840Z"
   },
   {
    "duration": 9,
    "start_time": "2021-12-26T11:08:53.039Z"
   },
   {
    "duration": 84,
    "start_time": "2021-12-26T11:09:02.432Z"
   },
   {
    "duration": 59,
    "start_time": "2021-12-26T11:09:22.229Z"
   },
   {
    "duration": 8,
    "start_time": "2021-12-26T11:09:25.856Z"
   },
   {
    "duration": 3816,
    "start_time": "2021-12-26T11:11:39.476Z"
   },
   {
    "duration": 61,
    "start_time": "2021-12-26T11:11:58.709Z"
   },
   {
    "duration": 9,
    "start_time": "2021-12-26T11:12:01.660Z"
   },
   {
    "duration": 60,
    "start_time": "2021-12-26T11:13:05.645Z"
   },
   {
    "duration": 8,
    "start_time": "2021-12-26T11:13:09.174Z"
   },
   {
    "duration": 58,
    "start_time": "2021-12-26T11:13:13.992Z"
   },
   {
    "duration": 7,
    "start_time": "2021-12-26T11:13:16.408Z"
   },
   {
    "duration": 3317,
    "start_time": "2021-12-26T11:14:11.221Z"
   },
   {
    "duration": 60,
    "start_time": "2021-12-26T11:14:30.142Z"
   },
   {
    "duration": 7,
    "start_time": "2021-12-26T11:14:32.718Z"
   },
   {
    "duration": 86,
    "start_time": "2021-12-26T11:14:38.622Z"
   },
   {
    "duration": 9,
    "start_time": "2021-12-26T11:14:40.910Z"
   },
   {
    "duration": 90,
    "start_time": "2021-12-26T11:15:13.550Z"
   },
   {
    "duration": 9,
    "start_time": "2021-12-26T11:15:15.840Z"
   },
   {
    "duration": 221,
    "start_time": "2021-12-26T11:15:29.053Z"
   },
   {
    "duration": 121,
    "start_time": "2021-12-26T11:17:19.087Z"
   },
   {
    "duration": 12,
    "start_time": "2021-12-26T11:17:21.604Z"
   },
   {
    "duration": 107,
    "start_time": "2021-12-26T11:17:33.268Z"
   },
   {
    "duration": 22,
    "start_time": "2021-12-26T11:17:36.518Z"
   },
   {
    "duration": 221,
    "start_time": "2021-12-26T11:17:54.132Z"
   },
   {
    "duration": 26,
    "start_time": "2021-12-26T11:17:54.996Z"
   },
   {
    "duration": 11,
    "start_time": "2021-12-26T11:18:47.022Z"
   },
   {
    "duration": 23,
    "start_time": "2021-12-26T11:20:24.556Z"
   },
   {
    "duration": 72,
    "start_time": "2021-12-26T11:20:36.331Z"
   },
   {
    "duration": 5,
    "start_time": "2021-12-26T12:49:59.722Z"
   },
   {
    "duration": 12,
    "start_time": "2021-12-26T12:50:17.458Z"
   },
   {
    "duration": 4,
    "start_time": "2021-12-26T12:50:58.128Z"
   },
   {
    "duration": 12,
    "start_time": "2021-12-26T12:51:08.511Z"
   },
   {
    "duration": 7226,
    "start_time": "2021-12-26T13:09:18.048Z"
   },
   {
    "duration": 6,
    "start_time": "2021-12-26T13:09:28.377Z"
   },
   {
    "duration": 34,
    "start_time": "2021-12-26T13:09:40.634Z"
   },
   {
    "duration": 10,
    "start_time": "2021-12-26T13:33:50.330Z"
   },
   {
    "duration": 5,
    "start_time": "2021-12-26T13:38:37.520Z"
   },
   {
    "duration": 7,
    "start_time": "2021-12-26T13:43:44.924Z"
   },
   {
    "duration": 7,
    "start_time": "2021-12-26T13:44:09.067Z"
   },
   {
    "duration": 7,
    "start_time": "2021-12-26T13:44:42.532Z"
   },
   {
    "duration": 269,
    "start_time": "2021-12-26T13:45:11.404Z"
   },
   {
    "duration": 213,
    "start_time": "2021-12-26T13:45:24.172Z"
   },
   {
    "duration": 6,
    "start_time": "2021-12-26T13:45:29.164Z"
   },
   {
    "duration": 5,
    "start_time": "2021-12-26T13:45:33.060Z"
   },
   {
    "duration": 7,
    "start_time": "2021-12-26T13:45:36.156Z"
   },
   {
    "duration": 210,
    "start_time": "2021-12-26T13:55:28.776Z"
   },
   {
    "duration": 5,
    "start_time": "2021-12-26T13:56:09.488Z"
   },
   {
    "duration": 244,
    "start_time": "2021-12-26T13:56:37.872Z"
   },
   {
    "duration": 34,
    "start_time": "2021-12-26T13:56:49.657Z"
   },
   {
    "duration": 4,
    "start_time": "2021-12-26T14:03:42.180Z"
   },
   {
    "duration": 5,
    "start_time": "2021-12-26T14:04:58.556Z"
   },
   {
    "duration": 3,
    "start_time": "2021-12-26T14:06:01.321Z"
   },
   {
    "duration": 262,
    "start_time": "2021-12-26T14:06:01.326Z"
   },
   {
    "duration": 56,
    "start_time": "2021-12-26T14:06:01.591Z"
   },
   {
    "duration": 16,
    "start_time": "2021-12-26T14:06:01.649Z"
   },
   {
    "duration": 112,
    "start_time": "2021-12-26T14:06:01.667Z"
   },
   {
    "duration": 11,
    "start_time": "2021-12-26T14:06:01.781Z"
   },
   {
    "duration": 9,
    "start_time": "2021-12-26T14:06:01.793Z"
   },
   {
    "duration": 14,
    "start_time": "2021-12-26T14:06:01.804Z"
   },
   {
    "duration": 46,
    "start_time": "2021-12-26T14:06:01.820Z"
   },
   {
    "duration": 103,
    "start_time": "2021-12-26T14:06:01.868Z"
   },
   {
    "duration": 395679,
    "start_time": "2021-12-26T13:59:26.295Z"
   },
   {
    "duration": 395679,
    "start_time": "2021-12-26T13:59:26.296Z"
   },
   {
    "duration": 4,
    "start_time": "2021-12-26T14:06:20.740Z"
   },
   {
    "duration": 3,
    "start_time": "2021-12-26T14:06:23.660Z"
   },
   {
    "duration": 4,
    "start_time": "2021-12-26T14:06:24.747Z"
   },
   {
    "duration": 6,
    "start_time": "2021-12-26T14:07:39.307Z"
   },
   {
    "duration": 232,
    "start_time": "2021-12-26T14:09:20.212Z"
   },
   {
    "duration": 16,
    "start_time": "2021-12-26T14:09:41.967Z"
   },
   {
    "duration": 6,
    "start_time": "2021-12-26T14:10:15.688Z"
   },
   {
    "duration": 19,
    "start_time": "2021-12-26T14:11:29.801Z"
   },
   {
    "duration": 316,
    "start_time": "2021-12-26T14:12:01.987Z"
   },
   {
    "duration": 15,
    "start_time": "2021-12-26T14:12:10.940Z"
   },
   {
    "duration": 15,
    "start_time": "2021-12-26T14:12:22.122Z"
   },
   {
    "duration": 36,
    "start_time": "2021-12-26T14:16:02.877Z"
   },
   {
    "duration": 8,
    "start_time": "2021-12-26T14:16:48.222Z"
   },
   {
    "duration": 9,
    "start_time": "2021-12-26T14:17:08.623Z"
   },
   {
    "duration": 237,
    "start_time": "2021-12-26T14:17:22.070Z"
   },
   {
    "duration": 212,
    "start_time": "2021-12-26T14:17:33.912Z"
   },
   {
    "duration": 202,
    "start_time": "2021-12-26T14:18:10.207Z"
   },
   {
    "duration": 39,
    "start_time": "2021-12-26T14:18:18.912Z"
   },
   {
    "duration": 9,
    "start_time": "2021-12-26T14:18:54.458Z"
   },
   {
    "duration": 10,
    "start_time": "2021-12-26T14:19:24.023Z"
   },
   {
    "duration": 6,
    "start_time": "2021-12-26T14:21:38.085Z"
   },
   {
    "duration": 8,
    "start_time": "2021-12-26T14:21:55.271Z"
   },
   {
    "duration": 46,
    "start_time": "2021-12-26T14:23:36.935Z"
   },
   {
    "duration": 16,
    "start_time": "2021-12-26T14:26:49.948Z"
   },
   {
    "duration": 33,
    "start_time": "2021-12-26T14:27:30.260Z"
   },
   {
    "duration": 9,
    "start_time": "2021-12-26T14:28:15.947Z"
   },
   {
    "duration": 10,
    "start_time": "2021-12-26T14:28:32.557Z"
   },
   {
    "duration": 9,
    "start_time": "2021-12-26T14:29:10.563Z"
   },
   {
    "duration": 13,
    "start_time": "2021-12-26T14:29:19.571Z"
   },
   {
    "duration": 8,
    "start_time": "2021-12-26T14:29:37.155Z"
   },
   {
    "duration": 8,
    "start_time": "2021-12-26T14:30:04.010Z"
   },
   {
    "duration": 12,
    "start_time": "2021-12-26T14:30:19.964Z"
   },
   {
    "duration": 8,
    "start_time": "2021-12-26T14:30:58.913Z"
   },
   {
    "duration": 6,
    "start_time": "2021-12-26T14:32:06.145Z"
   },
   {
    "duration": 66,
    "start_time": "2021-12-26T14:32:49.074Z"
   },
   {
    "duration": 250,
    "start_time": "2021-12-26T14:32:56.865Z"
   },
   {
    "duration": 22,
    "start_time": "2021-12-26T14:33:54.081Z"
   },
   {
    "duration": 7,
    "start_time": "2021-12-26T14:36:13.167Z"
   },
   {
    "duration": 13,
    "start_time": "2021-12-26T14:39:27.510Z"
   },
   {
    "duration": 13,
    "start_time": "2021-12-26T14:39:32.751Z"
   },
   {
    "duration": 13,
    "start_time": "2021-12-26T14:40:10.735Z"
   },
   {
    "duration": 12,
    "start_time": "2021-12-26T14:40:19.781Z"
   },
   {
    "duration": 4,
    "start_time": "2021-12-26T14:48:27.404Z"
   },
   {
    "duration": 7,
    "start_time": "2021-12-26T14:48:54.819Z"
   },
   {
    "duration": 6,
    "start_time": "2021-12-26T14:49:04.978Z"
   },
   {
    "duration": 5,
    "start_time": "2021-12-26T14:50:29.578Z"
   },
   {
    "duration": 11,
    "start_time": "2021-12-26T14:51:14.035Z"
   },
   {
    "duration": 12,
    "start_time": "2021-12-26T14:51:29.140Z"
   },
   {
    "duration": 11,
    "start_time": "2021-12-26T14:56:37.904Z"
   },
   {
    "duration": 39,
    "start_time": "2021-12-26T15:14:27.634Z"
   },
   {
    "duration": 5803,
    "start_time": "2021-12-26T15:17:20.911Z"
   },
   {
    "duration": 4949,
    "start_time": "2021-12-26T15:17:37.551Z"
   },
   {
    "duration": 9,
    "start_time": "2021-12-26T15:18:04.343Z"
   },
   {
    "duration": 4,
    "start_time": "2021-12-26T15:37:19.575Z"
   },
   {
    "duration": 5,
    "start_time": "2021-12-26T15:37:42.879Z"
   },
   {
    "duration": 5,
    "start_time": "2021-12-26T15:42:48.373Z"
   },
   {
    "duration": 12,
    "start_time": "2021-12-26T15:50:14.308Z"
   },
   {
    "duration": 4,
    "start_time": "2021-12-26T15:50:27.956Z"
   },
   {
    "duration": 3,
    "start_time": "2021-12-26T16:05:42.677Z"
   },
   {
    "duration": 4,
    "start_time": "2021-12-26T16:06:07.797Z"
   },
   {
    "duration": 17,
    "start_time": "2021-12-26T16:13:07.114Z"
   },
   {
    "duration": 18,
    "start_time": "2021-12-26T16:13:40.240Z"
   },
   {
    "duration": 4,
    "start_time": "2021-12-26T16:20:25.766Z"
   },
   {
    "duration": 12,
    "start_time": "2021-12-26T16:21:54.836Z"
   },
   {
    "duration": 12,
    "start_time": "2021-12-26T16:22:04.708Z"
   },
   {
    "duration": 15,
    "start_time": "2021-12-26T16:25:53.876Z"
   },
   {
    "duration": 15,
    "start_time": "2021-12-26T16:26:03.674Z"
   },
   {
    "duration": 29,
    "start_time": "2021-12-26T16:26:56.961Z"
   },
   {
    "duration": 407,
    "start_time": "2021-12-26T16:27:42.983Z"
   },
   {
    "duration": 402,
    "start_time": "2021-12-26T16:31:19.994Z"
   },
   {
    "duration": 5,
    "start_time": "2021-12-26T16:31:45.312Z"
   },
   {
    "duration": 4,
    "start_time": "2021-12-26T16:32:07.800Z"
   },
   {
    "duration": 82,
    "start_time": "2021-12-26T16:32:28.116Z"
   },
   {
    "duration": 36,
    "start_time": "2021-12-26T16:36:16.598Z"
   },
   {
    "duration": 6,
    "start_time": "2021-12-26T16:39:59.897Z"
   },
   {
    "duration": 6,
    "start_time": "2021-12-26T16:40:20.916Z"
   },
   {
    "duration": 14,
    "start_time": "2021-12-26T16:40:32.609Z"
   },
   {
    "duration": 78,
    "start_time": "2021-12-26T16:40:56.668Z"
   },
   {
    "duration": 15,
    "start_time": "2021-12-26T16:41:58.516Z"
   },
   {
    "duration": 68,
    "start_time": "2021-12-26T16:42:43.759Z"
   },
   {
    "duration": 250,
    "start_time": "2021-12-26T16:42:47.556Z"
   },
   {
    "duration": 14,
    "start_time": "2021-12-26T16:42:51.198Z"
   },
   {
    "duration": 42,
    "start_time": "2021-12-26T16:43:05.428Z"
   },
   {
    "duration": 2,
    "start_time": "2021-12-26T17:04:23.682Z"
   },
   {
    "duration": 243,
    "start_time": "2021-12-26T17:04:23.686Z"
   },
   {
    "duration": 26,
    "start_time": "2021-12-26T17:04:23.931Z"
   },
   {
    "duration": 12,
    "start_time": "2021-12-26T17:04:23.959Z"
   },
   {
    "duration": 67,
    "start_time": "2021-12-26T17:04:23.973Z"
   },
   {
    "duration": 22,
    "start_time": "2021-12-26T17:04:24.042Z"
   },
   {
    "duration": 32,
    "start_time": "2021-12-26T17:04:24.066Z"
   },
   {
    "duration": 20,
    "start_time": "2021-12-26T17:04:24.100Z"
   },
   {
    "duration": 13,
    "start_time": "2021-12-26T17:04:24.124Z"
   },
   {
    "duration": 8,
    "start_time": "2021-12-26T17:04:24.140Z"
   },
   {
    "duration": 4,
    "start_time": "2021-12-26T17:04:24.149Z"
   },
   {
    "duration": 6,
    "start_time": "2021-12-26T17:04:24.155Z"
   },
   {
    "duration": 7,
    "start_time": "2021-12-26T17:04:24.162Z"
   },
   {
    "duration": 6,
    "start_time": "2021-12-26T17:04:24.171Z"
   },
   {
    "duration": 7,
    "start_time": "2021-12-26T17:04:24.179Z"
   },
   {
    "duration": 5,
    "start_time": "2021-12-26T17:04:24.188Z"
   },
   {
    "duration": 36,
    "start_time": "2021-12-26T17:04:24.195Z"
   },
   {
    "duration": 70,
    "start_time": "2021-12-26T17:04:24.233Z"
   },
   {
    "duration": 13,
    "start_time": "2021-12-26T17:04:24.305Z"
   },
   {
    "duration": 17,
    "start_time": "2021-12-26T17:04:24.320Z"
   },
   {
    "duration": 13,
    "start_time": "2021-12-26T17:04:24.339Z"
   },
   {
    "duration": 27,
    "start_time": "2021-12-26T17:04:24.354Z"
   },
   {
    "duration": 81,
    "start_time": "2021-12-26T17:04:24.383Z"
   },
   {
    "duration": 395613,
    "start_time": "2021-12-26T16:57:48.853Z"
   },
   {
    "duration": 25,
    "start_time": "2021-12-26T17:09:17.739Z"
   },
   {
    "duration": 23,
    "start_time": "2021-12-26T17:28:19.089Z"
   },
   {
    "duration": 12,
    "start_time": "2021-12-26T17:30:25.489Z"
   },
   {
    "duration": 308,
    "start_time": "2021-12-26T17:30:37.722Z"
   },
   {
    "duration": 8,
    "start_time": "2021-12-26T17:30:45.843Z"
   },
   {
    "duration": 28,
    "start_time": "2021-12-26T17:31:13.362Z"
   },
   {
    "duration": 26,
    "start_time": "2021-12-26T17:32:15.481Z"
   },
   {
    "duration": 24,
    "start_time": "2021-12-26T17:33:36.722Z"
   },
   {
    "duration": 26,
    "start_time": "2021-12-26T17:34:17.887Z"
   },
   {
    "duration": 25,
    "start_time": "2021-12-26T17:34:57.103Z"
   },
   {
    "duration": 23,
    "start_time": "2021-12-26T17:35:13.106Z"
   },
   {
    "duration": 25,
    "start_time": "2021-12-26T17:35:20.320Z"
   },
   {
    "duration": 4,
    "start_time": "2021-12-26T17:54:49.593Z"
   },
   {
    "duration": 7,
    "start_time": "2021-12-26T17:55:03.184Z"
   },
   {
    "duration": 8,
    "start_time": "2021-12-26T17:55:23.113Z"
   },
   {
    "duration": 5,
    "start_time": "2021-12-26T17:55:53.698Z"
   },
   {
    "duration": 5,
    "start_time": "2021-12-26T17:56:55.584Z"
   },
   {
    "duration": 6,
    "start_time": "2021-12-26T17:58:26.255Z"
   },
   {
    "duration": 7,
    "start_time": "2021-12-26T17:59:32.176Z"
   },
   {
    "duration": 6,
    "start_time": "2021-12-26T17:59:45.386Z"
   },
   {
    "duration": 255,
    "start_time": "2021-12-26T18:04:09.069Z"
   },
   {
    "duration": 247,
    "start_time": "2021-12-26T18:05:41.677Z"
   },
   {
    "duration": 378,
    "start_time": "2021-12-26T18:05:59.750Z"
   },
   {
    "duration": 16,
    "start_time": "2021-12-26T18:08:38.827Z"
   },
   {
    "duration": 20,
    "start_time": "2021-12-26T18:08:52.547Z"
   },
   {
    "duration": 207,
    "start_time": "2021-12-26T18:09:48.172Z"
   },
   {
    "duration": 273,
    "start_time": "2021-12-26T18:10:06.540Z"
   },
   {
    "duration": 212,
    "start_time": "2021-12-26T18:10:32.917Z"
   },
   {
    "duration": 215,
    "start_time": "2021-12-26T18:10:49.161Z"
   },
   {
    "duration": 21,
    "start_time": "2021-12-26T18:10:59.929Z"
   },
   {
    "duration": 212,
    "start_time": "2021-12-26T18:15:14.401Z"
   },
   {
    "duration": 241,
    "start_time": "2021-12-26T18:16:04.063Z"
   },
   {
    "duration": 6,
    "start_time": "2021-12-26T18:17:56.527Z"
   },
   {
    "duration": 14,
    "start_time": "2021-12-26T18:18:08.759Z"
   },
   {
    "duration": 219,
    "start_time": "2021-12-26T18:19:50.699Z"
   },
   {
    "duration": 7,
    "start_time": "2021-12-26T18:20:39.857Z"
   },
   {
    "duration": 298,
    "start_time": "2021-12-26T18:21:17.929Z"
   },
   {
    "duration": 12,
    "start_time": "2021-12-26T18:24:34.075Z"
   },
   {
    "duration": 8,
    "start_time": "2021-12-26T18:25:24.629Z"
   },
   {
    "duration": 13,
    "start_time": "2021-12-26T18:25:29.855Z"
   },
   {
    "duration": 2,
    "start_time": "2021-12-26T18:32:16.956Z"
   },
   {
    "duration": 12,
    "start_time": "2021-12-26T18:33:04.074Z"
   },
   {
    "duration": 17,
    "start_time": "2021-12-26T18:41:03.016Z"
   },
   {
    "duration": 12,
    "start_time": "2021-12-26T18:41:23.655Z"
   },
   {
    "duration": 15,
    "start_time": "2021-12-26T18:41:44.179Z"
   },
   {
    "duration": 37,
    "start_time": "2021-12-26T18:42:43.688Z"
   },
   {
    "duration": 7,
    "start_time": "2021-12-26T18:45:35.909Z"
   },
   {
    "duration": 5,
    "start_time": "2021-12-26T18:45:52.580Z"
   },
   {
    "duration": 6,
    "start_time": "2021-12-26T18:46:57.925Z"
   },
   {
    "duration": 8,
    "start_time": "2021-12-26T18:47:35.435Z"
   },
   {
    "duration": 228,
    "start_time": "2021-12-26T18:47:50.403Z"
   },
   {
    "duration": 240,
    "start_time": "2021-12-26T18:48:00.699Z"
   },
   {
    "duration": 28,
    "start_time": "2021-12-26T18:48:05.974Z"
   },
   {
    "duration": 56,
    "start_time": "2021-12-26T18:48:18.333Z"
   },
   {
    "duration": 228,
    "start_time": "2021-12-26T18:48:30.715Z"
   },
   {
    "duration": 49,
    "start_time": "2021-12-26T18:48:44.459Z"
   },
   {
    "duration": 31,
    "start_time": "2021-12-26T19:01:32.697Z"
   },
   {
    "duration": 35,
    "start_time": "2021-12-26T19:08:25.476Z"
   },
   {
    "duration": 9,
    "start_time": "2021-12-26T19:09:42.758Z"
   },
   {
    "duration": 4,
    "start_time": "2021-12-26T19:10:49.477Z"
   },
   {
    "duration": 238,
    "start_time": "2021-12-26T19:11:00.054Z"
   },
   {
    "duration": 14,
    "start_time": "2021-12-26T19:11:04.768Z"
   },
   {
    "duration": 8,
    "start_time": "2021-12-26T19:11:17.606Z"
   },
   {
    "duration": 9,
    "start_time": "2021-12-26T19:11:35.535Z"
   },
   {
    "duration": 610,
    "start_time": "2021-12-26T19:22:37.878Z"
   },
   {
    "duration": 256,
    "start_time": "2021-12-26T19:22:38.490Z"
   },
   {
    "duration": 39,
    "start_time": "2021-12-26T19:22:38.749Z"
   },
   {
    "duration": 10,
    "start_time": "2021-12-26T19:22:38.790Z"
   },
   {
    "duration": 78,
    "start_time": "2021-12-26T19:22:38.802Z"
   },
   {
    "duration": 8,
    "start_time": "2021-12-26T19:22:38.882Z"
   },
   {
    "duration": 6,
    "start_time": "2021-12-26T19:22:38.891Z"
   },
   {
    "duration": 6,
    "start_time": "2021-12-26T19:22:38.898Z"
   },
   {
    "duration": 14,
    "start_time": "2021-12-26T19:22:38.906Z"
   },
   {
    "duration": 8,
    "start_time": "2021-12-26T19:22:38.922Z"
   },
   {
    "duration": 12,
    "start_time": "2021-12-26T19:22:38.932Z"
   },
   {
    "duration": 18,
    "start_time": "2021-12-26T19:22:38.945Z"
   },
   {
    "duration": 17,
    "start_time": "2021-12-26T19:22:38.966Z"
   },
   {
    "duration": 24,
    "start_time": "2021-12-26T19:22:38.984Z"
   },
   {
    "duration": 2,
    "start_time": "2021-12-26T19:22:39.010Z"
   },
   {
    "duration": 12,
    "start_time": "2021-12-26T19:22:39.014Z"
   },
   {
    "duration": 2,
    "start_time": "2021-12-26T19:22:39.028Z"
   },
   {
    "duration": 46,
    "start_time": "2021-12-26T19:22:39.032Z"
   },
   {
    "duration": 8,
    "start_time": "2021-12-26T19:22:39.080Z"
   },
   {
    "duration": 7,
    "start_time": "2021-12-26T19:22:39.090Z"
   },
   {
    "duration": 4,
    "start_time": "2021-12-26T19:22:39.099Z"
   },
   {
    "duration": 5,
    "start_time": "2021-12-26T19:22:39.105Z"
   },
   {
    "duration": 58,
    "start_time": "2021-12-26T19:22:39.111Z"
   },
   {
    "duration": 7,
    "start_time": "2021-12-26T19:22:39.171Z"
   },
   {
    "duration": 93,
    "start_time": "2021-12-26T19:22:39.180Z"
   },
   {
    "duration": 46,
    "start_time": "2021-12-26T19:22:39.275Z"
   },
   {
    "duration": 7,
    "start_time": "2021-12-26T19:22:39.324Z"
   },
   {
    "duration": 37,
    "start_time": "2021-12-26T19:22:39.332Z"
   },
   {
    "duration": 5,
    "start_time": "2021-12-26T19:22:39.371Z"
   },
   {
    "duration": 10,
    "start_time": "2021-12-26T19:22:39.379Z"
   },
   {
    "duration": 70,
    "start_time": "2021-12-26T19:22:39.390Z"
   },
   {
    "duration": 395538,
    "start_time": "2021-12-26T19:16:03.924Z"
   },
   {
    "duration": 8,
    "start_time": "2021-12-26T19:24:44.981Z"
   },
   {
    "duration": 346,
    "start_time": "2021-12-26T19:24:57.022Z"
   },
   {
    "duration": 229,
    "start_time": "2021-12-26T19:25:06.151Z"
   },
   {
    "duration": 22,
    "start_time": "2021-12-26T19:25:09.895Z"
   },
   {
    "duration": 25,
    "start_time": "2021-12-26T19:29:21.531Z"
   },
   {
    "duration": 5,
    "start_time": "2021-12-26T19:30:20.904Z"
   },
   {
    "duration": 24,
    "start_time": "2021-12-26T19:30:31.182Z"
   },
   {
    "duration": 3,
    "start_time": "2021-12-26T19:31:08.781Z"
   },
   {
    "duration": 523,
    "start_time": "2021-12-26T19:31:09.389Z"
   },
   {
    "duration": 25,
    "start_time": "2021-12-26T19:31:10.196Z"
   },
   {
    "duration": 14,
    "start_time": "2021-12-26T19:32:15.820Z"
   },
   {
    "duration": 3,
    "start_time": "2021-12-26T19:33:00.453Z"
   },
   {
    "duration": 10,
    "start_time": "2021-12-26T19:33:01.757Z"
   },
   {
    "duration": 7,
    "start_time": "2021-12-26T19:33:58.093Z"
   },
   {
    "duration": 8,
    "start_time": "2021-12-26T19:34:24.262Z"
   },
   {
    "duration": 240,
    "start_time": "2021-12-26T19:38:37.146Z"
   },
   {
    "duration": 9,
    "start_time": "2021-12-26T19:39:25.963Z"
   },
   {
    "duration": 9,
    "start_time": "2021-12-26T19:39:33.374Z"
   },
   {
    "duration": 6,
    "start_time": "2021-12-26T19:41:03.032Z"
   },
   {
    "duration": 5,
    "start_time": "2021-12-26T19:41:06.648Z"
   },
   {
    "duration": 7,
    "start_time": "2021-12-26T19:44:54.888Z"
   },
   {
    "duration": 6,
    "start_time": "2021-12-26T19:44:59.696Z"
   },
   {
    "duration": 567,
    "start_time": "2021-12-27T15:33:20.091Z"
   },
   {
    "duration": 760,
    "start_time": "2021-12-27T15:33:29.171Z"
   },
   {
    "duration": 323,
    "start_time": "2021-12-27T15:33:30.985Z"
   },
   {
    "duration": 49,
    "start_time": "2021-12-27T15:33:32.305Z"
   },
   {
    "duration": 15,
    "start_time": "2021-12-27T15:33:42.083Z"
   },
   {
    "duration": 107,
    "start_time": "2021-12-27T15:33:42.985Z"
   },
   {
    "duration": 13,
    "start_time": "2021-12-27T15:33:47.080Z"
   },
   {
    "duration": 7,
    "start_time": "2021-12-27T15:33:51.379Z"
   },
   {
    "duration": 5,
    "start_time": "2021-12-27T15:33:52.643Z"
   },
   {
    "duration": 9,
    "start_time": "2021-12-27T15:33:53.705Z"
   },
   {
    "duration": 9,
    "start_time": "2021-12-27T15:33:57.953Z"
   },
   {
    "duration": 4,
    "start_time": "2021-12-27T15:33:59.243Z"
   },
   {
    "duration": 7,
    "start_time": "2021-12-27T15:34:00.332Z"
   },
   {
    "duration": 7,
    "start_time": "2021-12-27T15:34:27.011Z"
   },
   {
    "duration": 4,
    "start_time": "2021-12-27T15:37:26.897Z"
   },
   {
    "duration": 745,
    "start_time": "2021-12-27T15:37:29.361Z"
   },
   {
    "duration": 4,
    "start_time": "2021-12-27T15:38:13.991Z"
   },
   {
    "duration": 655,
    "start_time": "2021-12-27T15:38:15.616Z"
   },
   {
    "duration": 4,
    "start_time": "2021-12-27T15:38:56.713Z"
   },
   {
    "duration": 670,
    "start_time": "2021-12-27T15:38:59.817Z"
   },
   {
    "duration": 649,
    "start_time": "2021-12-27T15:40:45.856Z"
   },
   {
    "duration": 16,
    "start_time": "2021-12-27T15:41:09.103Z"
   },
   {
    "duration": 4,
    "start_time": "2021-12-27T15:41:15.375Z"
   },
   {
    "duration": 8,
    "start_time": "2021-12-27T15:41:17.289Z"
   },
   {
    "duration": 11,
    "start_time": "2021-12-27T15:41:21.143Z"
   },
   {
    "duration": 4,
    "start_time": "2021-12-27T15:49:05.557Z"
   },
   {
    "duration": 6159,
    "start_time": "2021-12-27T15:49:07.461Z"
   },
   {
    "duration": 4,
    "start_time": "2021-12-27T15:49:45.395Z"
   },
   {
    "duration": 14,
    "start_time": "2021-12-27T15:49:46.167Z"
   },
   {
    "duration": 12,
    "start_time": "2021-12-27T15:50:23.525Z"
   },
   {
    "duration": 10,
    "start_time": "2021-12-27T15:50:32.363Z"
   },
   {
    "duration": 4,
    "start_time": "2021-12-27T15:50:55.715Z"
   },
   {
    "duration": 10,
    "start_time": "2021-12-27T15:50:57.037Z"
   },
   {
    "duration": 9,
    "start_time": "2021-12-27T15:51:01.683Z"
   },
   {
    "duration": 8,
    "start_time": "2021-12-27T15:51:16.211Z"
   },
   {
    "duration": 11,
    "start_time": "2021-12-27T15:51:16.803Z"
   },
   {
    "duration": 5,
    "start_time": "2021-12-27T15:51:55.643Z"
   },
   {
    "duration": 11,
    "start_time": "2021-12-27T15:51:56.170Z"
   },
   {
    "duration": 4,
    "start_time": "2021-12-27T15:52:32.747Z"
   },
   {
    "duration": 10,
    "start_time": "2021-12-27T15:52:33.227Z"
   },
   {
    "duration": 12,
    "start_time": "2021-12-27T15:52:42.107Z"
   },
   {
    "duration": 6,
    "start_time": "2021-12-27T15:52:48.611Z"
   },
   {
    "duration": 9,
    "start_time": "2021-12-27T15:53:11.747Z"
   },
   {
    "duration": 7,
    "start_time": "2021-12-27T15:53:12.490Z"
   },
   {
    "duration": 9,
    "start_time": "2021-12-27T15:57:08.249Z"
   },
   {
    "duration": 9,
    "start_time": "2021-12-27T15:58:34.041Z"
   },
   {
    "duration": 7,
    "start_time": "2021-12-27T15:58:39.144Z"
   },
   {
    "duration": 11,
    "start_time": "2021-12-27T16:03:14.737Z"
   },
   {
    "duration": 31,
    "start_time": "2021-12-27T16:03:27.518Z"
   },
   {
    "duration": 12,
    "start_time": "2021-12-27T16:04:23.229Z"
   },
   {
    "duration": 11,
    "start_time": "2021-12-27T16:04:31.302Z"
   },
   {
    "duration": 14,
    "start_time": "2021-12-27T16:04:39.371Z"
   },
   {
    "duration": 61,
    "start_time": "2021-12-27T16:05:18.791Z"
   },
   {
    "duration": 35,
    "start_time": "2021-12-27T16:07:24.781Z"
   },
   {
    "duration": 18,
    "start_time": "2021-12-27T16:07:38.493Z"
   },
   {
    "duration": 47,
    "start_time": "2021-12-27T16:07:49.062Z"
   },
   {
    "duration": 66,
    "start_time": "2021-12-27T16:08:36.837Z"
   },
   {
    "duration": 68,
    "start_time": "2021-12-27T16:08:41.175Z"
   },
   {
    "duration": 48,
    "start_time": "2021-12-27T16:08:52.847Z"
   },
   {
    "duration": 41,
    "start_time": "2021-12-27T16:09:00.077Z"
   },
   {
    "duration": 11926,
    "start_time": "2021-12-27T16:18:42.601Z"
   },
   {
    "duration": 34,
    "start_time": "2021-12-27T16:22:22.937Z"
   },
   {
    "duration": 12,
    "start_time": "2021-12-27T16:31:09.773Z"
   },
   {
    "duration": 392,
    "start_time": "2021-12-27T16:37:29.119Z"
   },
   {
    "duration": 5,
    "start_time": "2021-12-27T17:05:47.791Z"
   },
   {
    "duration": 9,
    "start_time": "2021-12-27T17:05:57.006Z"
   },
   {
    "duration": 9,
    "start_time": "2021-12-27T17:08:45.116Z"
   },
   {
    "duration": 7,
    "start_time": "2021-12-27T17:08:46.012Z"
   },
   {
    "duration": 320,
    "start_time": "2021-12-27T17:12:04.309Z"
   },
   {
    "duration": 9,
    "start_time": "2021-12-27T17:15:48.393Z"
   },
   {
    "duration": 8,
    "start_time": "2021-12-27T17:15:49.279Z"
   },
   {
    "duration": 8,
    "start_time": "2021-12-27T17:17:25.092Z"
   },
   {
    "duration": 7,
    "start_time": "2021-12-27T17:19:04.506Z"
   },
   {
    "duration": 325,
    "start_time": "2021-12-27T17:19:12.785Z"
   },
   {
    "duration": 119,
    "start_time": "2021-12-27T17:19:29.897Z"
   },
   {
    "duration": 5,
    "start_time": "2021-12-27T17:19:38.721Z"
   },
   {
    "duration": 9,
    "start_time": "2021-12-27T17:19:41.098Z"
   },
   {
    "duration": 318,
    "start_time": "2021-12-27T17:23:10.714Z"
   },
   {
    "duration": 8,
    "start_time": "2021-12-27T17:23:52.269Z"
   },
   {
    "duration": 8,
    "start_time": "2021-12-27T17:24:46.319Z"
   },
   {
    "duration": 9,
    "start_time": "2021-12-27T17:24:52.680Z"
   },
   {
    "duration": 23,
    "start_time": "2021-12-27T17:26:10.519Z"
   },
   {
    "duration": 40,
    "start_time": "2021-12-27T17:26:18.656Z"
   },
   {
    "duration": 4132,
    "start_time": "2021-12-27T17:26:57.847Z"
   },
   {
    "duration": 7,
    "start_time": "2021-12-27T17:27:29.144Z"
   },
   {
    "duration": 8,
    "start_time": "2021-12-27T17:27:38.254Z"
   },
   {
    "duration": 403,
    "start_time": "2021-12-27T17:30:30.094Z"
   },
   {
    "duration": 315,
    "start_time": "2021-12-27T17:30:42.285Z"
   },
   {
    "duration": 7,
    "start_time": "2021-12-27T17:32:33.829Z"
   },
   {
    "duration": 10296,
    "start_time": "2021-12-27T17:35:09.269Z"
   },
   {
    "duration": 3377,
    "start_time": "2021-12-27T17:38:38.231Z"
   },
   {
    "duration": 3763,
    "start_time": "2021-12-27T17:39:00.043Z"
   },
   {
    "duration": 354,
    "start_time": "2021-12-27T17:39:43.425Z"
   },
   {
    "duration": 3336,
    "start_time": "2021-12-27T17:39:53.346Z"
   },
   {
    "duration": 10714,
    "start_time": "2021-12-27T17:40:47.026Z"
   },
   {
    "duration": 11478,
    "start_time": "2021-12-27T17:41:05.299Z"
   },
   {
    "duration": 521,
    "start_time": "2021-12-27T17:43:09.667Z"
   },
   {
    "duration": 10417,
    "start_time": "2021-12-27T17:45:55.754Z"
   },
   {
    "duration": 10310,
    "start_time": "2021-12-27T17:46:10.664Z"
   },
   {
    "duration": 9,
    "start_time": "2021-12-27T17:46:43.063Z"
   },
   {
    "duration": 9,
    "start_time": "2021-12-27T17:47:06.064Z"
   },
   {
    "duration": 6,
    "start_time": "2021-12-27T17:47:16.296Z"
   },
   {
    "duration": 16,
    "start_time": "2021-12-27T17:47:40.616Z"
   },
   {
    "duration": 10,
    "start_time": "2021-12-27T17:48:10.687Z"
   },
   {
    "duration": 369,
    "start_time": "2021-12-27T17:48:17.496Z"
   },
   {
    "duration": 3,
    "start_time": "2021-12-27T17:49:29.312Z"
   },
   {
    "duration": 9,
    "start_time": "2021-12-27T17:49:40.422Z"
   },
   {
    "duration": 10259,
    "start_time": "2021-12-27T17:49:48.544Z"
   },
   {
    "duration": 10120,
    "start_time": "2021-12-27T17:50:08.968Z"
   },
   {
    "duration": 8,
    "start_time": "2021-12-27T17:50:19.101Z"
   },
   {
    "duration": 10,
    "start_time": "2021-12-27T17:50:30.158Z"
   },
   {
    "duration": 7,
    "start_time": "2021-12-27T17:51:18.277Z"
   },
   {
    "duration": 18,
    "start_time": "2021-12-27T17:51:29.861Z"
   },
   {
    "duration": 12,
    "start_time": "2021-12-27T17:52:00.878Z"
   },
   {
    "duration": 357,
    "start_time": "2021-12-27T17:52:54.019Z"
   },
   {
    "duration": 23,
    "start_time": "2021-12-27T17:53:01.589Z"
   },
   {
    "duration": 322,
    "start_time": "2021-12-27T17:53:16.851Z"
   },
   {
    "duration": 11,
    "start_time": "2021-12-27T17:53:25.110Z"
   },
   {
    "duration": 4,
    "start_time": "2021-12-27T17:54:01.969Z"
   },
   {
    "duration": 290,
    "start_time": "2021-12-27T17:54:02.829Z"
   },
   {
    "duration": 39,
    "start_time": "2021-12-27T17:54:03.789Z"
   },
   {
    "duration": 18,
    "start_time": "2021-12-27T17:54:15.548Z"
   },
   {
    "duration": 150,
    "start_time": "2021-12-27T17:54:16.445Z"
   },
   {
    "duration": 12,
    "start_time": "2021-12-27T17:54:20.284Z"
   },
   {
    "duration": 11,
    "start_time": "2021-12-27T17:54:26.508Z"
   },
   {
    "duration": 5,
    "start_time": "2021-12-27T17:54:29.380Z"
   },
   {
    "duration": 10,
    "start_time": "2021-12-27T17:54:30.524Z"
   },
   {
    "duration": 465,
    "start_time": "2021-12-27T17:55:27.979Z"
   },
   {
    "duration": 88,
    "start_time": "2021-12-27T17:55:35.342Z"
   },
   {
    "duration": 10389,
    "start_time": "2021-12-27T17:55:46.326Z"
   },
   {
    "duration": 26,
    "start_time": "2021-12-27T17:56:28.339Z"
   },
   {
    "duration": 153,
    "start_time": "2021-12-27T17:59:28.889Z"
   },
   {
    "duration": 8,
    "start_time": "2021-12-27T17:59:37.987Z"
   },
   {
    "duration": 9,
    "start_time": "2021-12-27T18:01:44.019Z"
   },
   {
    "duration": 10,
    "start_time": "2021-12-27T18:02:06.633Z"
   },
   {
    "duration": 16,
    "start_time": "2021-12-27T18:09:08.446Z"
   },
   {
    "duration": 7,
    "start_time": "2021-12-27T18:09:21.638Z"
   },
   {
    "duration": 36,
    "start_time": "2021-12-27T18:09:38.615Z"
   },
   {
    "duration": 38,
    "start_time": "2021-12-27T18:09:42.198Z"
   },
   {
    "duration": 9596,
    "start_time": "2021-12-27T18:29:14.132Z"
   },
   {
    "duration": 3,
    "start_time": "2021-12-27T18:29:51.703Z"
   },
   {
    "duration": 328,
    "start_time": "2021-12-27T18:29:52.391Z"
   },
   {
    "duration": 57,
    "start_time": "2021-12-27T18:29:53.165Z"
   },
   {
    "duration": 15,
    "start_time": "2021-12-27T18:29:56.919Z"
   },
   {
    "duration": 104,
    "start_time": "2021-12-27T18:29:57.799Z"
   },
   {
    "duration": 13,
    "start_time": "2021-12-27T18:30:01.039Z"
   },
   {
    "duration": 8,
    "start_time": "2021-12-27T18:30:03.079Z"
   },
   {
    "duration": 8,
    "start_time": "2021-12-27T18:30:11.032Z"
   },
   {
    "duration": 11,
    "start_time": "2021-12-27T18:30:12.119Z"
   },
   {
    "duration": 9,
    "start_time": "2021-12-27T18:30:14.343Z"
   },
   {
    "duration": 4,
    "start_time": "2021-12-27T18:30:18.751Z"
   },
   {
    "duration": 6,
    "start_time": "2021-12-27T18:30:19.423Z"
   },
   {
    "duration": 9,
    "start_time": "2021-12-27T18:30:20.622Z"
   },
   {
    "duration": 15,
    "start_time": "2021-12-27T18:30:24.238Z"
   },
   {
    "duration": 5,
    "start_time": "2021-12-27T18:30:32.534Z"
   },
   {
    "duration": 9,
    "start_time": "2021-12-27T18:30:36.277Z"
   },
   {
    "duration": 15,
    "start_time": "2021-12-27T18:30:46.484Z"
   },
   {
    "duration": 48,
    "start_time": "2021-12-27T18:31:14.519Z"
   },
   {
    "duration": 7,
    "start_time": "2021-12-27T18:31:34.831Z"
   },
   {
    "duration": 7,
    "start_time": "2021-12-27T18:34:01.892Z"
   },
   {
    "duration": 5,
    "start_time": "2021-12-27T18:34:07.284Z"
   },
   {
    "duration": 8,
    "start_time": "2021-12-27T18:34:40.325Z"
   },
   {
    "duration": 10,
    "start_time": "2021-12-27T18:34:49.895Z"
   },
   {
    "duration": 9,
    "start_time": "2021-12-27T18:34:53.508Z"
   },
   {
    "duration": 3,
    "start_time": "2021-12-27T18:36:01.636Z"
   },
   {
    "duration": 313,
    "start_time": "2021-12-27T18:36:02.141Z"
   },
   {
    "duration": 64,
    "start_time": "2021-12-27T18:36:06.637Z"
   },
   {
    "duration": 68,
    "start_time": "2021-12-27T18:36:25.909Z"
   },
   {
    "duration": 44,
    "start_time": "2021-12-27T18:36:54.013Z"
   },
   {
    "duration": 38,
    "start_time": "2021-12-27T18:36:58.155Z"
   },
   {
    "duration": 15,
    "start_time": "2021-12-27T18:37:00.246Z"
   },
   {
    "duration": 42,
    "start_time": "2021-12-27T18:37:03.773Z"
   },
   {
    "duration": 8726,
    "start_time": "2021-12-27T18:37:28.701Z"
   },
   {
    "duration": 13,
    "start_time": "2021-12-27T18:37:47.194Z"
   },
   {
    "duration": 11,
    "start_time": "2021-12-27T18:37:48.781Z"
   },
   {
    "duration": 8,
    "start_time": "2021-12-27T18:37:51.685Z"
   },
   {
    "duration": 10,
    "start_time": "2021-12-27T18:37:52.122Z"
   },
   {
    "duration": 9,
    "start_time": "2021-12-27T18:37:53.842Z"
   },
   {
    "duration": 5,
    "start_time": "2021-12-27T18:37:54.395Z"
   },
   {
    "duration": 7,
    "start_time": "2021-12-27T18:37:54.978Z"
   },
   {
    "duration": 13,
    "start_time": "2021-12-27T18:37:58.090Z"
   },
   {
    "duration": 4,
    "start_time": "2021-12-27T18:38:00.859Z"
   },
   {
    "duration": 9,
    "start_time": "2021-12-27T18:38:05.380Z"
   },
   {
    "duration": 7,
    "start_time": "2021-12-27T18:38:59.052Z"
   },
   {
    "duration": 13,
    "start_time": "2021-12-27T18:39:06.019Z"
   },
   {
    "duration": 6,
    "start_time": "2021-12-27T18:39:08.459Z"
   },
   {
    "duration": 329,
    "start_time": "2021-12-27T18:40:45.946Z"
   },
   {
    "duration": 328,
    "start_time": "2021-12-27T18:41:12.370Z"
   },
   {
    "duration": 6,
    "start_time": "2021-12-27T18:41:51.058Z"
   },
   {
    "duration": 6,
    "start_time": "2021-12-27T18:42:16.968Z"
   },
   {
    "duration": 6,
    "start_time": "2021-12-27T18:42:20.400Z"
   },
   {
    "duration": 319,
    "start_time": "2021-12-27T18:46:21.950Z"
   },
   {
    "duration": 327,
    "start_time": "2021-12-27T18:46:30.168Z"
   },
   {
    "duration": 7,
    "start_time": "2021-12-27T18:46:37.981Z"
   },
   {
    "duration": 12,
    "start_time": "2021-12-27T18:46:45.346Z"
   },
   {
    "duration": 13,
    "start_time": "2021-12-27T18:48:27.200Z"
   },
   {
    "duration": 12,
    "start_time": "2021-12-27T18:48:42.634Z"
   },
   {
    "duration": 102,
    "start_time": "2021-12-27T18:50:47.774Z"
   },
   {
    "duration": 324,
    "start_time": "2021-12-27T18:50:55.072Z"
   },
   {
    "duration": 318,
    "start_time": "2021-12-27T18:51:06.199Z"
   },
   {
    "duration": 26,
    "start_time": "2021-12-27T18:53:29.879Z"
   },
   {
    "duration": 84,
    "start_time": "2021-12-27T18:55:24.969Z"
   },
   {
    "duration": 318,
    "start_time": "2021-12-27T19:10:41.718Z"
   },
   {
    "duration": 281,
    "start_time": "2021-12-27T19:11:08.359Z"
   },
   {
    "duration": 100,
    "start_time": "2021-12-27T19:11:46.246Z"
   },
   {
    "duration": 25,
    "start_time": "2021-12-27T19:12:49.551Z"
   },
   {
    "duration": 72,
    "start_time": "2021-12-27T19:13:20.903Z"
   },
   {
    "duration": 11,
    "start_time": "2021-12-27T19:16:05.309Z"
   },
   {
    "duration": 6,
    "start_time": "2021-12-27T19:16:21.237Z"
   },
   {
    "duration": 37,
    "start_time": "2021-12-27T19:17:10.644Z"
   },
   {
    "duration": 10,
    "start_time": "2021-12-27T19:18:01.229Z"
   },
   {
    "duration": 5,
    "start_time": "2021-12-27T19:19:15.918Z"
   },
   {
    "duration": 42,
    "start_time": "2021-12-27T19:20:33.146Z"
   },
   {
    "duration": 5,
    "start_time": "2021-12-27T19:22:14.733Z"
   },
   {
    "duration": 12,
    "start_time": "2021-12-27T19:22:50.883Z"
   },
   {
    "duration": 7,
    "start_time": "2021-12-27T19:23:21.809Z"
   },
   {
    "duration": 12,
    "start_time": "2021-12-27T19:23:44.523Z"
   },
   {
    "duration": 6,
    "start_time": "2021-12-27T19:23:47.275Z"
   },
   {
    "duration": 3,
    "start_time": "2021-12-27T19:23:57.300Z"
   },
   {
    "duration": 298,
    "start_time": "2021-12-27T19:23:57.902Z"
   },
   {
    "duration": 42,
    "start_time": "2021-12-27T19:23:58.754Z"
   },
   {
    "duration": 41,
    "start_time": "2021-12-27T19:24:06.293Z"
   },
   {
    "duration": 15,
    "start_time": "2021-12-27T19:24:07.932Z"
   },
   {
    "duration": 40,
    "start_time": "2021-12-27T19:24:10.669Z"
   },
   {
    "duration": 12,
    "start_time": "2021-12-27T19:24:25.333Z"
   },
   {
    "duration": 5,
    "start_time": "2021-12-27T19:24:27.651Z"
   },
   {
    "duration": 11,
    "start_time": "2021-12-27T19:24:36.662Z"
   },
   {
    "duration": 8,
    "start_time": "2021-12-27T19:24:37.913Z"
   },
   {
    "duration": 37,
    "start_time": "2021-12-27T19:25:03.914Z"
   },
   {
    "duration": 5,
    "start_time": "2021-12-27T19:25:22.667Z"
   },
   {
    "duration": 10,
    "start_time": "2021-12-27T19:25:33.784Z"
   },
   {
    "duration": 7,
    "start_time": "2021-12-27T19:25:55.184Z"
   },
   {
    "duration": 3,
    "start_time": "2021-12-27T19:26:08.803Z"
   },
   {
    "duration": 296,
    "start_time": "2021-12-27T19:26:09.553Z"
   },
   {
    "duration": 40,
    "start_time": "2021-12-27T19:26:10.320Z"
   },
   {
    "duration": 40,
    "start_time": "2021-12-27T19:26:14.689Z"
   },
   {
    "duration": 4,
    "start_time": "2021-12-27T19:26:25.387Z"
   },
   {
    "duration": 8529,
    "start_time": "2021-12-27T19:26:31.208Z"
   },
   {
    "duration": 396128,
    "start_time": "2021-12-27T19:20:03.612Z"
   },
   {
    "duration": 15,
    "start_time": "2021-12-27T19:26:54.552Z"
   },
   {
    "duration": 4,
    "start_time": "2021-12-27T19:27:00.865Z"
   },
   {
    "duration": 12,
    "start_time": "2021-12-27T19:27:09.320Z"
   },
   {
    "duration": 7,
    "start_time": "2021-12-27T19:27:12.761Z"
   },
   {
    "duration": 38,
    "start_time": "2021-12-27T19:27:24.352Z"
   },
   {
    "duration": 5,
    "start_time": "2021-12-27T19:29:34.233Z"
   },
   {
    "duration": 325,
    "start_time": "2021-12-27T19:29:34.815Z"
   },
   {
    "duration": 59,
    "start_time": "2021-12-27T19:29:35.590Z"
   },
   {
    "duration": 14,
    "start_time": "2021-12-27T19:29:45.144Z"
   },
   {
    "duration": 5,
    "start_time": "2021-12-27T19:29:46.256Z"
   },
   {
    "duration": 10,
    "start_time": "2021-12-27T19:30:03.528Z"
   },
   {
    "duration": 7,
    "start_time": "2021-12-27T19:30:12.720Z"
   },
   {
    "duration": 57,
    "start_time": "2021-12-27T19:32:32.854Z"
   },
   {
    "duration": 11,
    "start_time": "2021-12-27T19:33:07.798Z"
   },
   {
    "duration": 11,
    "start_time": "2021-12-27T19:33:34.031Z"
   },
   {
    "duration": 4,
    "start_time": "2021-12-27T19:33:55.574Z"
   },
   {
    "duration": 4,
    "start_time": "2021-12-27T19:34:02.468Z"
   },
   {
    "duration": 292,
    "start_time": "2021-12-27T19:34:03.095Z"
   },
   {
    "duration": 41,
    "start_time": "2021-12-27T19:34:03.878Z"
   },
   {
    "duration": 14,
    "start_time": "2021-12-27T19:34:16.398Z"
   },
   {
    "duration": 4,
    "start_time": "2021-12-27T19:34:20.270Z"
   },
   {
    "duration": 10,
    "start_time": "2021-12-27T19:34:31.736Z"
   },
   {
    "duration": 7,
    "start_time": "2021-12-27T19:34:33.183Z"
   },
   {
    "duration": 3,
    "start_time": "2021-12-27T19:35:54.124Z"
   },
   {
    "duration": 301,
    "start_time": "2021-12-27T19:35:54.837Z"
   },
   {
    "duration": 56,
    "start_time": "2021-12-27T19:35:55.844Z"
   },
   {
    "duration": 13,
    "start_time": "2021-12-27T19:36:05.637Z"
   },
   {
    "duration": 4,
    "start_time": "2021-12-27T19:36:08.340Z"
   },
   {
    "duration": 11,
    "start_time": "2021-12-27T19:36:16.724Z"
   },
   {
    "duration": 6,
    "start_time": "2021-12-27T19:36:17.604Z"
   },
   {
    "duration": 13,
    "start_time": "2021-12-27T19:38:11.196Z"
   },
   {
    "duration": 370,
    "start_time": "2021-12-27T19:38:30.148Z"
   },
   {
    "duration": 133,
    "start_time": "2021-12-27T19:38:41.204Z"
   },
   {
    "duration": 9,
    "start_time": "2021-12-27T19:39:04.044Z"
   },
   {
    "duration": 5,
    "start_time": "2021-12-27T19:39:52.932Z"
   },
   {
    "duration": 4,
    "start_time": "2021-12-27T19:39:59.228Z"
   },
   {
    "duration": 286,
    "start_time": "2021-12-27T19:39:59.812Z"
   },
   {
    "duration": 42,
    "start_time": "2021-12-27T19:40:00.514Z"
   },
   {
    "duration": 15,
    "start_time": "2021-12-27T19:40:10.852Z"
   },
   {
    "duration": 5,
    "start_time": "2021-12-27T19:40:16.380Z"
   },
   {
    "duration": 13,
    "start_time": "2021-12-27T19:40:24.452Z"
   },
   {
    "duration": 6,
    "start_time": "2021-12-27T19:40:25.725Z"
   },
   {
    "duration": 3,
    "start_time": "2021-12-27T19:41:17.981Z"
   },
   {
    "duration": 397,
    "start_time": "2021-12-27T19:41:18.844Z"
   },
   {
    "duration": 42,
    "start_time": "2021-12-27T19:41:19.916Z"
   },
   {
    "duration": 13,
    "start_time": "2021-12-27T19:41:44.594Z"
   },
   {
    "duration": 4,
    "start_time": "2021-12-27T19:41:45.276Z"
   },
   {
    "duration": 11,
    "start_time": "2021-12-27T19:41:50.610Z"
   },
   {
    "duration": 6,
    "start_time": "2021-12-27T19:41:52.275Z"
   },
   {
    "duration": 7,
    "start_time": "2021-12-27T19:42:01.218Z"
   },
   {
    "duration": 288,
    "start_time": "2021-12-27T19:43:03.331Z"
   },
   {
    "duration": 42,
    "start_time": "2021-12-27T19:43:04.290Z"
   },
   {
    "duration": 16,
    "start_time": "2021-12-27T19:43:11.490Z"
   },
   {
    "duration": 4,
    "start_time": "2021-12-27T19:43:18.546Z"
   },
   {
    "duration": 11,
    "start_time": "2021-12-27T19:43:24.770Z"
   },
   {
    "duration": 7,
    "start_time": "2021-12-27T19:43:37.424Z"
   },
   {
    "duration": 9,
    "start_time": "2021-12-27T19:48:08.640Z"
   },
   {
    "duration": 5,
    "start_time": "2021-12-27T19:48:17.288Z"
   },
   {
    "duration": 12,
    "start_time": "2021-12-27T19:48:21.192Z"
   },
   {
    "duration": 4,
    "start_time": "2021-12-27T19:50:17.256Z"
   },
   {
    "duration": 349,
    "start_time": "2021-12-27T19:50:18.128Z"
   },
   {
    "duration": 40,
    "start_time": "2021-12-27T19:50:19.751Z"
   },
   {
    "duration": 14,
    "start_time": "2021-12-27T19:50:26.536Z"
   },
   {
    "duration": 9,
    "start_time": "2021-12-27T19:51:48.848Z"
   },
   {
    "duration": 7,
    "start_time": "2021-12-27T19:52:05.182Z"
   },
   {
    "duration": 6,
    "start_time": "2021-12-27T19:52:10.278Z"
   },
   {
    "duration": 11,
    "start_time": "2021-12-27T19:52:34.142Z"
   },
   {
    "duration": 6,
    "start_time": "2021-12-27T19:52:37.646Z"
   },
   {
    "duration": 11,
    "start_time": "2021-12-27T19:54:39.166Z"
   },
   {
    "duration": 9,
    "start_time": "2021-12-27T19:54:43.337Z"
   },
   {
    "duration": 6,
    "start_time": "2021-12-27T19:54:46.212Z"
   },
   {
    "duration": 5,
    "start_time": "2021-12-27T19:55:12.464Z"
   },
   {
    "duration": 10,
    "start_time": "2021-12-27T19:55:17.590Z"
   },
   {
    "duration": 5,
    "start_time": "2021-12-27T19:55:20.567Z"
   },
   {
    "duration": 4,
    "start_time": "2021-12-27T19:55:33.066Z"
   },
   {
    "duration": 281,
    "start_time": "2021-12-27T19:55:33.663Z"
   },
   {
    "duration": 41,
    "start_time": "2021-12-27T19:55:34.346Z"
   },
   {
    "duration": 14,
    "start_time": "2021-12-27T19:55:41.118Z"
   },
   {
    "duration": 4,
    "start_time": "2021-12-27T19:55:42.183Z"
   },
   {
    "duration": 10,
    "start_time": "2021-12-27T19:55:52.998Z"
   },
   {
    "duration": 7,
    "start_time": "2021-12-27T19:55:56.814Z"
   },
   {
    "duration": 285,
    "start_time": "2021-12-27T19:56:33.039Z"
   },
   {
    "duration": 39,
    "start_time": "2021-12-27T19:56:33.597Z"
   },
   {
    "duration": 13,
    "start_time": "2021-12-27T19:56:43.077Z"
   },
   {
    "duration": 5,
    "start_time": "2021-12-27T19:56:50.990Z"
   },
   {
    "duration": 11,
    "start_time": "2021-12-27T19:56:59.092Z"
   },
   {
    "duration": 7,
    "start_time": "2021-12-27T19:57:02.446Z"
   },
   {
    "duration": 6,
    "start_time": "2021-12-27T19:57:36.188Z"
   },
   {
    "duration": 946,
    "start_time": "2021-12-28T18:25:49.400Z"
   },
   {
    "duration": 258,
    "start_time": "2021-12-28T18:25:50.363Z"
   },
   {
    "duration": 54,
    "start_time": "2021-12-28T18:25:51.042Z"
   },
   {
    "duration": 16,
    "start_time": "2021-12-28T18:26:03.187Z"
   },
   {
    "duration": 14,
    "start_time": "2021-12-28T18:26:06.642Z"
   },
   {
    "duration": 14,
    "start_time": "2021-12-28T18:26:27.971Z"
   },
   {
    "duration": 8,
    "start_time": "2021-12-28T18:26:54.794Z"
   },
   {
    "duration": 10,
    "start_time": "2021-12-28T18:29:32.504Z"
   },
   {
    "duration": 6,
    "start_time": "2021-12-28T18:29:37.416Z"
   },
   {
    "duration": 8,
    "start_time": "2021-12-28T18:29:38.908Z"
   },
   {
    "duration": 7,
    "start_time": "2021-12-28T18:31:10.352Z"
   },
   {
    "duration": 5,
    "start_time": "2021-12-28T18:32:05.641Z"
   },
   {
    "duration": 7,
    "start_time": "2021-12-28T18:32:06.398Z"
   },
   {
    "duration": 11,
    "start_time": "2021-12-28T18:32:09.072Z"
   },
   {
    "duration": 21,
    "start_time": "2021-12-28T18:32:14.640Z"
   },
   {
    "duration": 5,
    "start_time": "2021-12-28T18:32:20.528Z"
   },
   {
    "duration": 7,
    "start_time": "2021-12-28T18:33:58.846Z"
   },
   {
    "duration": 71,
    "start_time": "2021-12-28T18:37:40.633Z"
   },
   {
    "duration": 1068,
    "start_time": "2021-12-28T18:39:51.131Z"
   },
   {
    "duration": 9,
    "start_time": "2021-12-28T18:40:30.532Z"
   },
   {
    "duration": 529,
    "start_time": "2021-12-28T19:47:06.265Z"
   },
   {
    "duration": 11,
    "start_time": "2021-12-28T19:53:37.769Z"
   },
   {
    "duration": 238,
    "start_time": "2021-12-28T19:53:55.665Z"
   },
   {
    "duration": 88,
    "start_time": "2021-12-28T19:54:06.530Z"
   },
   {
    "duration": 12,
    "start_time": "2021-12-28T19:54:31.865Z"
   },
   {
    "duration": 11,
    "start_time": "2021-12-28T19:54:41.641Z"
   },
   {
    "duration": 11,
    "start_time": "2021-12-28T19:54:53.431Z"
   },
   {
    "duration": 15,
    "start_time": "2021-12-28T20:03:15.517Z"
   },
   {
    "duration": 8,
    "start_time": "2021-12-28T20:12:01.651Z"
   },
   {
    "duration": 6,
    "start_time": "2021-12-28T20:12:28.321Z"
   },
   {
    "duration": 9,
    "start_time": "2021-12-28T20:14:29.681Z"
   },
   {
    "duration": 7,
    "start_time": "2021-12-28T20:14:45.133Z"
   },
   {
    "duration": 7,
    "start_time": "2021-12-28T20:15:25.409Z"
   },
   {
    "duration": 9,
    "start_time": "2021-12-28T20:15:32.472Z"
   },
   {
    "duration": 3,
    "start_time": "2021-12-28T20:16:01.647Z"
   },
   {
    "duration": 256,
    "start_time": "2021-12-28T20:16:02.335Z"
   },
   {
    "duration": 7,
    "start_time": "2021-12-28T20:16:13.904Z"
   },
   {
    "duration": 7,
    "start_time": "2021-12-28T20:16:36.830Z"
   },
   {
    "duration": 14,
    "start_time": "2021-12-28T20:21:42.486Z"
   },
   {
    "duration": 4,
    "start_time": "2021-12-28T20:33:45.096Z"
   },
   {
    "duration": 3622,
    "start_time": "2021-12-28T20:35:56.825Z"
   },
   {
    "duration": 557,
    "start_time": "2021-12-28T20:36:30.701Z"
   },
   {
    "duration": 5,
    "start_time": "2021-12-28T20:36:57.498Z"
   },
   {
    "duration": 553,
    "start_time": "2021-12-28T20:36:58.919Z"
   },
   {
    "duration": 6,
    "start_time": "2021-12-28T20:37:22.111Z"
   },
   {
    "duration": 589,
    "start_time": "2021-12-28T20:37:22.970Z"
   },
   {
    "duration": 669,
    "start_time": "2021-12-28T20:38:24.704Z"
   },
   {
    "duration": 5,
    "start_time": "2021-12-28T20:38:46.929Z"
   },
   {
    "duration": 622,
    "start_time": "2021-12-28T20:38:47.519Z"
   },
   {
    "duration": 78,
    "start_time": "2021-12-28T20:40:12.399Z"
   },
   {
    "duration": 81,
    "start_time": "2021-12-28T20:40:17.841Z"
   },
   {
    "duration": 85,
    "start_time": "2021-12-28T20:40:35.759Z"
   },
   {
    "duration": 78,
    "start_time": "2021-12-28T20:41:50.143Z"
   },
   {
    "duration": 4,
    "start_time": "2021-12-28T21:03:47.355Z"
   },
   {
    "duration": 575,
    "start_time": "2021-12-28T21:03:55.942Z"
   },
   {
    "duration": 4,
    "start_time": "2021-12-28T21:08:45.443Z"
   },
   {
    "duration": 69734,
    "start_time": "2021-12-28T21:08:46.698Z"
   },
   {
    "duration": 5,
    "start_time": "2021-12-28T21:10:38.727Z"
   },
   {
    "duration": 46,
    "start_time": "2021-12-28T21:11:35.328Z"
   },
   {
    "duration": 6,
    "start_time": "2021-12-28T21:12:42.330Z"
   },
   {
    "duration": 1078,
    "start_time": "2021-12-29T15:35:49.540Z"
   },
   {
    "duration": 323,
    "start_time": "2021-12-29T15:35:51.124Z"
   },
   {
    "duration": 78,
    "start_time": "2021-12-29T15:36:16.668Z"
   },
   {
    "duration": 21,
    "start_time": "2021-12-29T15:36:37.477Z"
   },
   {
    "duration": 162,
    "start_time": "2021-12-29T15:37:02.565Z"
   },
   {
    "duration": 12,
    "start_time": "2021-12-29T15:37:09.636Z"
   },
   {
    "duration": 8,
    "start_time": "2021-12-29T15:51:28.326Z"
   },
   {
    "duration": 167,
    "start_time": "2021-12-29T15:52:25.999Z"
   },
   {
    "duration": 72,
    "start_time": "2021-12-29T15:52:39.084Z"
   },
   {
    "duration": 52,
    "start_time": "2021-12-29T16:48:27.626Z"
   },
   {
    "duration": 61,
    "start_time": "2021-12-29T16:49:25.464Z"
   },
   {
    "duration": 10,
    "start_time": "2021-12-29T16:53:16.038Z"
   },
   {
    "duration": 10,
    "start_time": "2021-12-29T16:53:35.446Z"
   },
   {
    "duration": 54,
    "start_time": "2021-12-29T17:10:20.929Z"
   },
   {
    "duration": 8,
    "start_time": "2021-12-29T17:10:31.240Z"
   },
   {
    "duration": 457,
    "start_time": "2021-12-29T17:14:47.262Z"
   },
   {
    "duration": 82,
    "start_time": "2021-12-29T17:14:52.655Z"
   },
   {
    "duration": 9,
    "start_time": "2021-12-29T17:15:53.750Z"
   },
   {
    "duration": 35,
    "start_time": "2021-12-29T17:16:28.428Z"
   },
   {
    "duration": 4,
    "start_time": "2021-12-29T17:16:57.199Z"
   },
   {
    "duration": 274,
    "start_time": "2021-12-29T17:16:57.844Z"
   },
   {
    "duration": 49,
    "start_time": "2021-12-29T17:16:59.742Z"
   },
   {
    "duration": 16,
    "start_time": "2021-12-29T17:17:02.476Z"
   },
   {
    "duration": 109,
    "start_time": "2021-12-29T17:17:03.781Z"
   },
   {
    "duration": 16,
    "start_time": "2021-12-29T17:17:06.819Z"
   },
   {
    "duration": 11,
    "start_time": "2021-12-29T17:17:09.316Z"
   },
   {
    "duration": 2290,
    "start_time": "2021-12-29T17:17:59.171Z"
   },
   {
    "duration": 8,
    "start_time": "2021-12-29T17:18:13.596Z"
   },
   {
    "duration": 10,
    "start_time": "2021-12-29T17:19:06.883Z"
   },
   {
    "duration": 825,
    "start_time": "2021-12-29T17:19:17.499Z"
   },
   {
    "duration": 337,
    "start_time": "2021-12-29T17:19:37.068Z"
   },
   {
    "duration": 8,
    "start_time": "2021-12-29T17:20:43.955Z"
   },
   {
    "duration": 3,
    "start_time": "2021-12-29T17:21:00.438Z"
   },
   {
    "duration": 343,
    "start_time": "2021-12-29T17:21:01.108Z"
   },
   {
    "duration": 50,
    "start_time": "2021-12-29T17:21:02.009Z"
   },
   {
    "duration": 17,
    "start_time": "2021-12-29T17:21:04.683Z"
   },
   {
    "duration": 138,
    "start_time": "2021-12-29T17:21:07.044Z"
   },
   {
    "duration": 17,
    "start_time": "2021-12-29T17:21:09.516Z"
   },
   {
    "duration": 12,
    "start_time": "2021-12-29T17:21:12.420Z"
   },
   {
    "duration": 557,
    "start_time": "2021-12-29T17:21:14.363Z"
   },
   {
    "duration": 10,
    "start_time": "2021-12-29T17:21:38.196Z"
   },
   {
    "duration": 9,
    "start_time": "2021-12-29T17:23:31.978Z"
   },
   {
    "duration": 8,
    "start_time": "2021-12-29T17:23:42.394Z"
   },
   {
    "duration": 14,
    "start_time": "2021-12-29T17:23:59.004Z"
   },
   {
    "duration": 8,
    "start_time": "2021-12-29T17:24:08.778Z"
   },
   {
    "duration": 13,
    "start_time": "2021-12-29T17:24:16.545Z"
   },
   {
    "duration": 6,
    "start_time": "2021-12-29T17:26:22.291Z"
   },
   {
    "duration": 8,
    "start_time": "2021-12-29T17:26:23.040Z"
   },
   {
    "duration": 19,
    "start_time": "2021-12-29T18:09:19.767Z"
   },
   {
    "duration": 7,
    "start_time": "2021-12-29T18:16:48.670Z"
   },
   {
    "duration": 7,
    "start_time": "2021-12-29T18:17:12.173Z"
   },
   {
    "duration": 57735,
    "start_time": "2021-12-29T18:17:23.904Z"
   },
   {
    "duration": 7,
    "start_time": "2021-12-29T18:19:52.709Z"
   },
   {
    "duration": 8,
    "start_time": "2021-12-29T18:23:34.804Z"
   },
   {
    "duration": 9,
    "start_time": "2021-12-29T18:23:40.790Z"
   },
   {
    "duration": 6,
    "start_time": "2021-12-29T18:24:09.134Z"
   },
   {
    "duration": 9,
    "start_time": "2021-12-29T18:27:20.105Z"
   },
   {
    "duration": 10,
    "start_time": "2021-12-29T18:28:13.962Z"
   },
   {
    "duration": 57,
    "start_time": "2021-12-29T18:28:37.411Z"
   },
   {
    "duration": 12,
    "start_time": "2021-12-29T18:29:04.655Z"
   },
   {
    "duration": 11,
    "start_time": "2021-12-29T18:29:28.233Z"
   },
   {
    "duration": 12,
    "start_time": "2021-12-29T18:44:15.844Z"
   },
   {
    "duration": 14,
    "start_time": "2021-12-29T18:44:42.107Z"
   },
   {
    "duration": 85,
    "start_time": "2021-12-29T18:46:44.305Z"
   },
   {
    "duration": 9,
    "start_time": "2021-12-29T18:53:06.047Z"
   },
   {
    "duration": 70,
    "start_time": "2021-12-29T18:53:45.439Z"
   },
   {
    "duration": 70,
    "start_time": "2021-12-29T18:54:18.655Z"
   },
   {
    "duration": 77,
    "start_time": "2021-12-29T19:01:57.350Z"
   },
   {
    "duration": 85,
    "start_time": "2021-12-29T19:02:18.356Z"
   },
   {
    "duration": 5,
    "start_time": "2021-12-29T19:48:08.195Z"
   },
   {
    "duration": 8,
    "start_time": "2021-12-29T19:48:25.010Z"
   },
   {
    "duration": 11,
    "start_time": "2021-12-29T19:59:21.782Z"
   },
   {
    "duration": 20,
    "start_time": "2021-12-29T20:04:36.630Z"
   },
   {
    "duration": 573,
    "start_time": "2021-12-29T20:10:27.604Z"
   },
   {
    "duration": 977,
    "start_time": "2021-12-29T20:11:29.209Z"
   },
   {
    "duration": 10,
    "start_time": "2021-12-29T20:11:53.665Z"
   },
   {
    "duration": 6,
    "start_time": "2021-12-29T20:12:34.475Z"
   },
   {
    "duration": 9336,
    "start_time": "2021-12-29T20:12:57.327Z"
   },
   {
    "duration": 8,
    "start_time": "2021-12-29T20:13:58.542Z"
   },
   {
    "duration": 628,
    "start_time": "2021-12-29T20:15:53.745Z"
   },
   {
    "duration": 636,
    "start_time": "2021-12-29T20:16:08.679Z"
   },
   {
    "duration": 649,
    "start_time": "2021-12-29T20:17:30.169Z"
   },
   {
    "duration": 1023,
    "start_time": "2021-12-29T20:18:44.647Z"
   },
   {
    "duration": 7,
    "start_time": "2021-12-29T20:18:51.269Z"
   },
   {
    "duration": 4,
    "start_time": "2021-12-29T20:19:34.618Z"
   },
   {
    "duration": 305,
    "start_time": "2021-12-29T20:19:34.625Z"
   },
   {
    "duration": 43,
    "start_time": "2021-12-29T20:19:34.934Z"
   },
   {
    "duration": 15,
    "start_time": "2021-12-29T20:19:34.980Z"
   },
   {
    "duration": 115,
    "start_time": "2021-12-29T20:19:35.020Z"
   },
   {
    "duration": 12,
    "start_time": "2021-12-29T20:19:35.137Z"
   },
   {
    "duration": 8,
    "start_time": "2021-12-29T20:19:35.152Z"
   },
   {
    "duration": 13,
    "start_time": "2021-12-29T20:19:35.165Z"
   },
   {
    "duration": 47,
    "start_time": "2021-12-29T20:19:35.181Z"
   },
   {
    "duration": 9,
    "start_time": "2021-12-29T20:19:35.231Z"
   },
   {
    "duration": 4,
    "start_time": "2021-12-29T20:19:35.243Z"
   },
   {
    "duration": 7,
    "start_time": "2021-12-29T20:19:35.249Z"
   },
   {
    "duration": 60,
    "start_time": "2021-12-29T20:19:35.258Z"
   },
   {
    "duration": 59894,
    "start_time": "2021-12-29T20:19:35.323Z"
   },
   {
    "duration": 7,
    "start_time": "2021-12-29T20:20:35.222Z"
   },
   {
    "duration": 7,
    "start_time": "2021-12-29T20:20:35.234Z"
   },
   {
    "duration": 9,
    "start_time": "2021-12-29T20:20:35.244Z"
   },
   {
    "duration": 10,
    "start_time": "2021-12-29T20:20:35.255Z"
   },
   {
    "duration": 122,
    "start_time": "2021-12-29T20:20:35.267Z"
   },
   {
    "duration": 28,
    "start_time": "2021-12-29T20:20:35.391Z"
   },
   {
    "duration": 13,
    "start_time": "2021-12-29T20:20:35.425Z"
   },
   {
    "duration": 9,
    "start_time": "2021-12-29T20:20:35.442Z"
   },
   {
    "duration": 7,
    "start_time": "2021-12-29T20:20:35.458Z"
   },
   {
    "duration": 986,
    "start_time": "2021-12-29T20:20:35.468Z"
   },
   {
    "duration": 7,
    "start_time": "2021-12-29T20:20:36.456Z"
   },
   {
    "duration": 637,
    "start_time": "2021-12-29T20:20:36.465Z"
   },
   {
    "duration": 396829,
    "start_time": "2021-12-29T20:14:00.275Z"
   },
   {
    "duration": 396827,
    "start_time": "2021-12-29T20:14:00.279Z"
   },
   {
    "duration": 396810,
    "start_time": "2021-12-29T20:14:00.298Z"
   },
   {
    "duration": 396807,
    "start_time": "2021-12-29T20:14:00.302Z"
   },
   {
    "duration": 396807,
    "start_time": "2021-12-29T20:14:00.304Z"
   },
   {
    "duration": 396807,
    "start_time": "2021-12-29T20:14:00.306Z"
   },
   {
    "duration": 396808,
    "start_time": "2021-12-29T20:14:00.307Z"
   },
   {
    "duration": 396807,
    "start_time": "2021-12-29T20:14:00.309Z"
   },
   {
    "duration": 396805,
    "start_time": "2021-12-29T20:14:00.312Z"
   },
   {
    "duration": 396806,
    "start_time": "2021-12-29T20:14:00.313Z"
   },
   {
    "duration": 396807,
    "start_time": "2021-12-29T20:14:00.314Z"
   },
   {
    "duration": 396806,
    "start_time": "2021-12-29T20:14:00.316Z"
   },
   {
    "duration": 396807,
    "start_time": "2021-12-29T20:14:00.317Z"
   },
   {
    "duration": 396798,
    "start_time": "2021-12-29T20:14:00.328Z"
   },
   {
    "duration": 396798,
    "start_time": "2021-12-29T20:14:00.330Z"
   },
   {
    "duration": 396801,
    "start_time": "2021-12-29T20:14:00.331Z"
   },
   {
    "duration": 7,
    "start_time": "2021-12-29T20:20:50.189Z"
   },
   {
    "duration": 345,
    "start_time": "2021-12-29T20:22:05.517Z"
   },
   {
    "duration": 531,
    "start_time": "2021-12-31T07:24:10.518Z"
   },
   {
    "duration": 155,
    "start_time": "2021-12-31T07:24:11.099Z"
   },
   {
    "duration": 32,
    "start_time": "2021-12-31T07:24:11.787Z"
   },
   {
    "duration": 12,
    "start_time": "2021-12-31T07:24:20.092Z"
   },
   {
    "duration": 72,
    "start_time": "2021-12-31T07:24:47.195Z"
   },
   {
    "duration": 10,
    "start_time": "2021-12-31T07:24:53.699Z"
   },
   {
    "duration": 6,
    "start_time": "2021-12-31T07:25:05.779Z"
   },
   {
    "duration": 10,
    "start_time": "2021-12-31T07:25:10.036Z"
   },
   {
    "duration": 5,
    "start_time": "2021-12-31T07:25:11.268Z"
   },
   {
    "duration": 13,
    "start_time": "2021-12-31T07:28:54.256Z"
   },
   {
    "duration": 35032,
    "start_time": "2021-12-31T07:28:58.009Z"
   },
   {
    "duration": 5,
    "start_time": "2021-12-31T07:29:37.746Z"
   },
   {
    "duration": 5,
    "start_time": "2021-12-31T07:29:39.185Z"
   },
   {
    "duration": 7,
    "start_time": "2021-12-31T07:30:03.537Z"
   },
   {
    "duration": 7,
    "start_time": "2021-12-31T07:30:06.234Z"
   },
   {
    "duration": 47,
    "start_time": "2021-12-31T07:30:07.272Z"
   },
   {
    "duration": 4,
    "start_time": "2021-12-31T07:30:13.194Z"
   },
   {
    "duration": 5,
    "start_time": "2021-12-31T07:30:13.927Z"
   },
   {
    "duration": 6,
    "start_time": "2021-12-31T07:31:00.553Z"
   },
   {
    "duration": 8,
    "start_time": "2021-12-31T07:31:54.728Z"
   },
   {
    "duration": 5,
    "start_time": "2021-12-31T07:32:16.751Z"
   },
   {
    "duration": 6,
    "start_time": "2021-12-31T07:50:27.109Z"
   },
   {
    "duration": 4,
    "start_time": "2021-12-31T07:50:33.073Z"
   },
   {
    "duration": 5,
    "start_time": "2021-12-31T07:50:40.581Z"
   },
   {
    "duration": 24,
    "start_time": "2021-12-31T07:51:55.805Z"
   },
   {
    "duration": 493,
    "start_time": "2021-12-31T08:03:22.310Z"
   },
   {
    "duration": 27,
    "start_time": "2021-12-31T08:03:22.904Z"
   },
   {
    "duration": 10,
    "start_time": "2021-12-31T08:03:35.600Z"
   },
   {
    "duration": 34808,
    "start_time": "2021-12-31T08:03:36.795Z"
   },
   {
    "duration": 6,
    "start_time": "2021-12-31T08:04:13.896Z"
   },
   {
    "duration": 8,
    "start_time": "2021-12-31T08:04:17.273Z"
   },
   {
    "duration": 8,
    "start_time": "2021-12-31T08:04:18.496Z"
   },
   {
    "duration": 47,
    "start_time": "2021-12-31T08:04:19.066Z"
   },
   {
    "duration": 4,
    "start_time": "2021-12-31T08:04:22.050Z"
   },
   {
    "duration": 5,
    "start_time": "2021-12-31T08:04:24.795Z"
   },
   {
    "duration": 5,
    "start_time": "2021-12-31T08:04:28.385Z"
   },
   {
    "duration": 5,
    "start_time": "2021-12-31T08:04:33.401Z"
   },
   {
    "duration": 158,
    "start_time": "2021-12-31T08:07:18.368Z"
   },
   {
    "duration": 11,
    "start_time": "2021-12-31T08:07:26.352Z"
   },
   {
    "duration": 35933,
    "start_time": "2021-12-31T08:07:27.624Z"
   },
   {
    "duration": 5,
    "start_time": "2021-12-31T08:08:09.566Z"
   },
   {
    "duration": 5,
    "start_time": "2021-12-31T08:08:10.726Z"
   },
   {
    "duration": 7,
    "start_time": "2021-12-31T08:08:13.950Z"
   },
   {
    "duration": 4,
    "start_time": "2021-12-31T08:08:18.814Z"
   },
   {
    "duration": 6,
    "start_time": "2021-12-31T08:08:22.814Z"
   },
   {
    "duration": 517,
    "start_time": "2021-12-31T08:08:24.150Z"
   },
   {
    "duration": 6,
    "start_time": "2021-12-31T08:08:39.134Z"
   },
   {
    "duration": 5,
    "start_time": "2021-12-31T08:09:00.126Z"
   },
   {
    "duration": 4,
    "start_time": "2021-12-31T08:09:05.398Z"
   },
   {
    "duration": 4,
    "start_time": "2021-12-31T08:12:30.252Z"
   },
   {
    "duration": 3,
    "start_time": "2021-12-31T08:12:31.638Z"
   },
   {
    "duration": 7,
    "start_time": "2021-12-31T08:12:32.590Z"
   },
   {
    "duration": 5,
    "start_time": "2021-12-31T09:30:45.941Z"
   },
   {
    "duration": 214,
    "start_time": "2021-12-31T09:31:40.480Z"
   },
   {
    "duration": 151,
    "start_time": "2021-12-31T09:35:18.156Z"
   },
   {
    "duration": 4,
    "start_time": "2021-12-31T09:42:31.674Z"
   },
   {
    "duration": 5,
    "start_time": "2021-12-31T09:42:35.995Z"
   },
   {
    "duration": 6,
    "start_time": "2021-12-31T09:43:07.728Z"
   },
   {
    "duration": 9,
    "start_time": "2021-12-31T09:52:44.564Z"
   },
   {
    "duration": 159,
    "start_time": "2021-12-31T09:54:16.709Z"
   },
   {
    "duration": 6,
    "start_time": "2021-12-31T09:59:40.498Z"
   },
   {
    "duration": 5,
    "start_time": "2021-12-31T10:00:10.322Z"
   },
   {
    "duration": 161,
    "start_time": "2021-12-31T10:00:59.074Z"
   },
   {
    "duration": 6,
    "start_time": "2021-12-31T10:01:26.122Z"
   },
   {
    "duration": 6,
    "start_time": "2021-12-31T10:04:50.008Z"
   },
   {
    "duration": 6,
    "start_time": "2021-12-31T10:05:09.256Z"
   },
   {
    "duration": 8,
    "start_time": "2021-12-31T10:05:50.688Z"
   },
   {
    "duration": 10,
    "start_time": "2021-12-31T10:06:35.600Z"
   },
   {
    "duration": 5,
    "start_time": "2021-12-31T10:06:43.320Z"
   },
   {
    "duration": 3,
    "start_time": "2021-12-31T10:07:01.338Z"
   },
   {
    "duration": 164,
    "start_time": "2021-12-31T10:07:01.343Z"
   },
   {
    "duration": 26,
    "start_time": "2021-12-31T10:07:01.509Z"
   },
   {
    "duration": 26,
    "start_time": "2021-12-31T10:07:01.537Z"
   },
   {
    "duration": 74,
    "start_time": "2021-12-31T10:07:01.564Z"
   },
   {
    "duration": 8,
    "start_time": "2021-12-31T10:07:01.645Z"
   },
   {
    "duration": 5,
    "start_time": "2021-12-31T10:07:01.655Z"
   },
   {
    "duration": 14,
    "start_time": "2021-12-31T10:07:01.662Z"
   },
   {
    "duration": 11,
    "start_time": "2021-12-31T10:07:01.692Z"
   },
   {
    "duration": 12,
    "start_time": "2021-12-31T10:07:01.705Z"
   },
   {
    "duration": 36531,
    "start_time": "2021-12-31T10:07:01.718Z"
   },
   {
    "duration": 5,
    "start_time": "2021-12-31T10:07:38.251Z"
   },
   {
    "duration": 7,
    "start_time": "2021-12-31T10:07:38.257Z"
   },
   {
    "duration": 7,
    "start_time": "2021-12-31T10:07:38.265Z"
   },
   {
    "duration": 22,
    "start_time": "2021-12-31T10:07:38.274Z"
   },
   {
    "duration": 46,
    "start_time": "2021-12-31T10:07:38.298Z"
   },
   {
    "duration": 4,
    "start_time": "2021-12-31T10:07:38.345Z"
   },
   {
    "duration": 8,
    "start_time": "2021-12-31T10:07:38.351Z"
   },
   {
    "duration": 6,
    "start_time": "2021-12-31T10:07:38.361Z"
   },
   {
    "duration": 525,
    "start_time": "2021-12-31T10:07:38.392Z"
   },
   {
    "duration": 5,
    "start_time": "2021-12-31T10:07:38.918Z"
   },
   {
    "duration": 7,
    "start_time": "2021-12-31T10:07:38.924Z"
   },
   {
    "duration": 7,
    "start_time": "2021-12-31T10:07:38.932Z"
   },
   {
    "duration": 4,
    "start_time": "2021-12-31T10:07:38.940Z"
   },
   {
    "duration": 7,
    "start_time": "2021-12-31T10:07:38.946Z"
   },
   {
    "duration": 180,
    "start_time": "2021-12-31T10:07:38.955Z"
   },
   {
    "duration": 398485,
    "start_time": "2021-12-31T10:01:00.652Z"
   },
   {
    "duration": 398484,
    "start_time": "2021-12-31T10:01:00.654Z"
   },
   {
    "duration": 5,
    "start_time": "2021-12-31T10:07:44.862Z"
   },
   {
    "duration": 7,
    "start_time": "2021-12-31T10:08:03.526Z"
   },
   {
    "duration": 202,
    "start_time": "2021-12-31T10:08:12.937Z"
   },
   {
    "duration": 5,
    "start_time": "2021-12-31T10:08:25.910Z"
   },
   {
    "duration": 140,
    "start_time": "2021-12-31T10:08:44.016Z"
   },
   {
    "duration": 152,
    "start_time": "2021-12-31T10:09:26.608Z"
   },
   {
    "duration": 6,
    "start_time": "2021-12-31T10:09:44.702Z"
   },
   {
    "duration": 5,
    "start_time": "2021-12-31T10:09:51.200Z"
   },
   {
    "duration": 158,
    "start_time": "2021-12-31T10:10:01.470Z"
   },
   {
    "duration": 3,
    "start_time": "2021-12-31T10:10:19.966Z"
   },
   {
    "duration": 144,
    "start_time": "2021-12-31T10:10:22.894Z"
   },
   {
    "duration": 4,
    "start_time": "2021-12-31T10:10:48.592Z"
   },
   {
    "duration": 149,
    "start_time": "2021-12-31T10:10:49.894Z"
   },
   {
    "duration": 144,
    "start_time": "2021-12-31T10:11:05.318Z"
   },
   {
    "duration": 179,
    "start_time": "2021-12-31T10:11:17.062Z"
   },
   {
    "duration": 1876,
    "start_time": "2021-12-31T10:12:17.862Z"
   },
   {
    "duration": 376,
    "start_time": "2021-12-31T10:12:24.766Z"
   },
   {
    "duration": 5,
    "start_time": "2021-12-31T10:12:30.534Z"
   },
   {
    "duration": 4,
    "start_time": "2021-12-31T10:14:22.612Z"
   },
   {
    "duration": 5,
    "start_time": "2021-12-31T10:14:32.044Z"
   },
   {
    "duration": 11,
    "start_time": "2021-12-31T10:14:37.268Z"
   },
   {
    "duration": 6,
    "start_time": "2021-12-31T10:14:42.947Z"
   },
   {
    "duration": 5,
    "start_time": "2021-12-31T10:14:47.388Z"
   },
   {
    "duration": 139,
    "start_time": "2021-12-31T10:20:21.474Z"
   },
   {
    "duration": 3,
    "start_time": "2021-12-31T10:20:32.467Z"
   },
   {
    "duration": 148,
    "start_time": "2021-12-31T10:20:32.474Z"
   },
   {
    "duration": 24,
    "start_time": "2021-12-31T10:20:32.625Z"
   },
   {
    "duration": 10,
    "start_time": "2021-12-31T10:20:32.651Z"
   },
   {
    "duration": 90,
    "start_time": "2021-12-31T10:20:32.662Z"
   },
   {
    "duration": 8,
    "start_time": "2021-12-31T10:20:32.754Z"
   },
   {
    "duration": 5,
    "start_time": "2021-12-31T10:20:32.763Z"
   },
   {
    "duration": 28,
    "start_time": "2021-12-31T10:20:32.770Z"
   },
   {
    "duration": 5,
    "start_time": "2021-12-31T10:20:32.800Z"
   },
   {
    "duration": 9,
    "start_time": "2021-12-31T10:20:32.807Z"
   },
   {
    "duration": 35318,
    "start_time": "2021-12-31T10:20:32.818Z"
   },
   {
    "duration": 5,
    "start_time": "2021-12-31T10:21:08.138Z"
   },
   {
    "duration": 6,
    "start_time": "2021-12-31T10:21:08.144Z"
   },
   {
    "duration": 11,
    "start_time": "2021-12-31T10:21:08.151Z"
   },
   {
    "duration": 9,
    "start_time": "2021-12-31T10:21:08.163Z"
   },
   {
    "duration": 48,
    "start_time": "2021-12-31T10:21:08.191Z"
   },
   {
    "duration": 4,
    "start_time": "2021-12-31T10:21:08.240Z"
   },
   {
    "duration": 9,
    "start_time": "2021-12-31T10:21:08.246Z"
   },
   {
    "duration": 7,
    "start_time": "2021-12-31T10:21:08.256Z"
   },
   {
    "duration": 554,
    "start_time": "2021-12-31T10:21:08.264Z"
   },
   {
    "duration": 4,
    "start_time": "2021-12-31T10:21:08.820Z"
   },
   {
    "duration": 10,
    "start_time": "2021-12-31T10:21:08.825Z"
   },
   {
    "duration": 9,
    "start_time": "2021-12-31T10:21:08.836Z"
   },
   {
    "duration": 3,
    "start_time": "2021-12-31T10:21:08.848Z"
   },
   {
    "duration": 8,
    "start_time": "2021-12-31T10:21:08.852Z"
   },
   {
    "duration": 3,
    "start_time": "2021-12-31T10:21:08.862Z"
   },
   {
    "duration": 37,
    "start_time": "2021-12-31T10:21:08.867Z"
   },
   {
    "duration": 5,
    "start_time": "2021-12-31T10:21:08.905Z"
   },
   {
    "duration": 22,
    "start_time": "2021-12-31T10:22:38.855Z"
   },
   {
    "duration": 42,
    "start_time": "2021-12-31T10:49:00.183Z"
   },
   {
    "duration": 4,
    "start_time": "2021-12-31T11:20:37.897Z"
   },
   {
    "duration": 23,
    "start_time": "2021-12-31T11:21:22.360Z"
   },
   {
    "duration": 8,
    "start_time": "2021-12-31T11:26:36.816Z"
   },
   {
    "duration": 25,
    "start_time": "2021-12-31T11:26:40.093Z"
   },
   {
    "duration": 5,
    "start_time": "2021-12-31T11:27:25.862Z"
   },
   {
    "duration": 5,
    "start_time": "2021-12-31T11:27:27.582Z"
   },
   {
    "duration": 137,
    "start_time": "2021-12-31T11:31:05.662Z"
   },
   {
    "duration": 13,
    "start_time": "2021-12-31T11:31:18.294Z"
   },
   {
    "duration": 23,
    "start_time": "2021-12-31T11:31:21.746Z"
   },
   {
    "duration": 340,
    "start_time": "2021-12-31T11:44:32.696Z"
   },
   {
    "duration": 421,
    "start_time": "2021-12-31T11:47:59.352Z"
   },
   {
    "duration": 431,
    "start_time": "2021-12-31T11:49:06.549Z"
   },
   {
    "duration": 304,
    "start_time": "2021-12-31T11:49:38.333Z"
   },
   {
    "duration": 320,
    "start_time": "2021-12-31T11:50:29.677Z"
   },
   {
    "duration": 881,
    "start_time": "2021-12-31T11:51:14.445Z"
   },
   {
    "duration": 309,
    "start_time": "2021-12-31T11:51:36.821Z"
   },
   {
    "duration": 87,
    "start_time": "2021-12-31T11:52:07.719Z"
   },
   {
    "duration": 441,
    "start_time": "2021-12-31T11:52:11.909Z"
   },
   {
    "duration": 23,
    "start_time": "2021-12-31T11:52:15.506Z"
   },
   {
    "duration": 6,
    "start_time": "2021-12-31T12:34:18.012Z"
   },
   {
    "duration": 23,
    "start_time": "2021-12-31T12:34:20.737Z"
   },
   {
    "duration": 230,
    "start_time": "2021-12-31T16:33:41.000Z"
   },
   {
    "duration": 372,
    "start_time": "2021-12-31T16:34:06.016Z"
   },
   {
    "duration": 169,
    "start_time": "2021-12-31T16:34:10.062Z"
   },
   {
    "duration": 181,
    "start_time": "2021-12-31T16:34:15.904Z"
   },
   {
    "duration": 189,
    "start_time": "2021-12-31T16:34:41.120Z"
   },
   {
    "duration": 186,
    "start_time": "2021-12-31T16:34:54.216Z"
   },
   {
    "duration": 339,
    "start_time": "2021-12-31T16:35:02.496Z"
   },
   {
    "duration": 320,
    "start_time": "2021-12-31T16:35:15.038Z"
   },
   {
    "duration": 393,
    "start_time": "2021-12-31T16:35:41.470Z"
   },
   {
    "duration": 384,
    "start_time": "2021-12-31T16:35:49.950Z"
   },
   {
    "duration": 333,
    "start_time": "2021-12-31T16:35:57.582Z"
   },
   {
    "duration": 1014,
    "start_time": "2021-12-31T16:36:07.091Z"
   },
   {
    "duration": 295,
    "start_time": "2021-12-31T16:36:13.198Z"
   },
   {
    "duration": 270,
    "start_time": "2021-12-31T16:36:21.014Z"
   },
   {
    "duration": 352,
    "start_time": "2021-12-31T16:36:27.594Z"
   },
   {
    "duration": 516,
    "start_time": "2021-12-31T16:36:34.262Z"
   },
   {
    "duration": 276,
    "start_time": "2021-12-31T16:36:41.478Z"
   },
   {
    "duration": 255,
    "start_time": "2021-12-31T16:36:49.870Z"
   },
   {
    "duration": 188,
    "start_time": "2021-12-31T16:37:11.490Z"
   },
   {
    "duration": 447,
    "start_time": "2021-12-31T16:37:18.566Z"
   },
   {
    "duration": 252,
    "start_time": "2021-12-31T16:37:25.078Z"
   },
   {
    "duration": 252,
    "start_time": "2021-12-31T16:37:35.022Z"
   },
   {
    "duration": 224,
    "start_time": "2021-12-31T16:39:28.698Z"
   },
   {
    "duration": 874,
    "start_time": "2021-12-31T16:40:03.493Z"
   },
   {
    "duration": 251,
    "start_time": "2021-12-31T16:41:05.670Z"
   },
   {
    "duration": 163,
    "start_time": "2022-01-02T11:21:33.946Z"
   },
   {
    "duration": 597,
    "start_time": "2022-01-02T11:21:40.607Z"
   },
   {
    "duration": 146,
    "start_time": "2022-01-02T11:21:41.206Z"
   },
   {
    "duration": 33,
    "start_time": "2022-01-02T11:21:41.354Z"
   },
   {
    "duration": 15,
    "start_time": "2022-01-02T11:21:41.394Z"
   },
   {
    "duration": 90,
    "start_time": "2022-01-02T11:21:41.411Z"
   },
   {
    "duration": 10,
    "start_time": "2022-01-02T11:21:41.503Z"
   },
   {
    "duration": 7,
    "start_time": "2022-01-02T11:21:41.515Z"
   },
   {
    "duration": 5,
    "start_time": "2022-01-02T11:21:41.524Z"
   },
   {
    "duration": 5,
    "start_time": "2022-01-02T11:21:41.533Z"
   },
   {
    "duration": 12,
    "start_time": "2022-01-02T11:21:41.540Z"
   },
   {
    "duration": 36090,
    "start_time": "2022-01-02T11:21:41.554Z"
   },
   {
    "duration": 4,
    "start_time": "2022-01-02T11:22:17.646Z"
   },
   {
    "duration": 6,
    "start_time": "2022-01-02T11:22:17.651Z"
   },
   {
    "duration": 8,
    "start_time": "2022-01-02T11:22:17.658Z"
   },
   {
    "duration": 30,
    "start_time": "2022-01-02T11:22:17.667Z"
   },
   {
    "duration": 47,
    "start_time": "2022-01-02T11:22:17.699Z"
   },
   {
    "duration": 3,
    "start_time": "2022-01-02T11:22:17.747Z"
   },
   {
    "duration": 7,
    "start_time": "2022-01-02T11:22:17.752Z"
   },
   {
    "duration": 9,
    "start_time": "2022-01-02T11:22:17.760Z"
   },
   {
    "duration": 573,
    "start_time": "2022-01-02T11:22:17.770Z"
   },
   {
    "duration": 5,
    "start_time": "2022-01-02T11:22:18.344Z"
   },
   {
    "duration": 6,
    "start_time": "2022-01-02T11:22:18.350Z"
   },
   {
    "duration": 6,
    "start_time": "2022-01-02T11:22:18.358Z"
   },
   {
    "duration": 4,
    "start_time": "2022-01-02T11:22:18.366Z"
   },
   {
    "duration": 30,
    "start_time": "2022-01-02T11:22:18.371Z"
   },
   {
    "duration": 4,
    "start_time": "2022-01-02T11:22:18.402Z"
   },
   {
    "duration": 17,
    "start_time": "2022-01-02T11:22:18.409Z"
   },
   {
    "duration": 7,
    "start_time": "2022-01-02T11:22:18.428Z"
   },
   {
    "duration": 8,
    "start_time": "2022-01-02T11:22:18.436Z"
   },
   {
    "duration": 71,
    "start_time": "2022-01-02T11:22:18.446Z"
   },
   {
    "duration": 4,
    "start_time": "2022-01-02T11:22:18.518Z"
   },
   {
    "duration": 17,
    "start_time": "2022-01-02T11:22:18.523Z"
   },
   {
    "duration": 504,
    "start_time": "2022-01-02T11:22:18.541Z"
   },
   {
    "duration": 5,
    "start_time": "2022-01-02T11:22:19.046Z"
   },
   {
    "duration": 31,
    "start_time": "2022-01-02T11:22:19.053Z"
   },
   {
    "duration": 368,
    "start_time": "2022-01-02T11:22:19.086Z"
   },
   {
    "duration": 278,
    "start_time": "2022-01-02T11:22:19.455Z"
   },
   {
    "duration": 201,
    "start_time": "2022-01-02T11:24:40.248Z"
   },
   {
    "duration": 678,
    "start_time": "2022-01-02T11:24:53.900Z"
   },
   {
    "duration": 241,
    "start_time": "2022-01-02T11:25:07.018Z"
   },
   {
    "duration": 236,
    "start_time": "2022-01-02T11:25:12.848Z"
   },
   {
    "duration": 218,
    "start_time": "2022-01-02T11:25:18.744Z"
   },
   {
    "duration": 380,
    "start_time": "2022-01-02T11:25:24.521Z"
   },
   {
    "duration": 270,
    "start_time": "2022-01-02T11:25:31.984Z"
   },
   {
    "duration": 219,
    "start_time": "2022-01-02T11:26:27.135Z"
   },
   {
    "duration": 206,
    "start_time": "2022-01-02T11:26:31.031Z"
   },
   {
    "duration": 189,
    "start_time": "2022-01-02T11:26:36.111Z"
   },
   {
    "duration": 180,
    "start_time": "2022-01-02T11:26:43.767Z"
   },
   {
    "duration": 218,
    "start_time": "2022-01-02T11:26:48.487Z"
   },
   {
    "duration": 218,
    "start_time": "2022-01-02T11:27:52.878Z"
   },
   {
    "duration": 190,
    "start_time": "2022-01-02T11:28:01.701Z"
   },
   {
    "duration": 50,
    "start_time": "2022-01-02T11:32:55.283Z"
   },
   {
    "duration": 201,
    "start_time": "2022-01-02T11:32:58.341Z"
   },
   {
    "duration": 2282,
    "start_time": "2022-01-02T11:34:19.829Z"
   },
   {
    "duration": 517,
    "start_time": "2022-01-02T11:34:30.677Z"
   },
   {
    "duration": 275,
    "start_time": "2022-01-02T11:34:47.083Z"
   },
   {
    "duration": 51,
    "start_time": "2022-01-02T11:36:47.003Z"
   },
   {
    "duration": 279,
    "start_time": "2022-01-02T11:36:50.795Z"
   },
   {
    "duration": 291,
    "start_time": "2022-01-02T11:36:57.787Z"
   },
   {
    "duration": 293,
    "start_time": "2022-01-02T11:37:05.866Z"
   },
   {
    "duration": 258,
    "start_time": "2022-01-02T11:37:37.883Z"
   },
   {
    "duration": 4,
    "start_time": "2022-01-02T11:38:12.144Z"
   },
   {
    "duration": 262,
    "start_time": "2022-01-02T11:38:40.011Z"
   },
   {
    "duration": 265,
    "start_time": "2022-01-02T11:38:46.826Z"
   },
   {
    "duration": 214,
    "start_time": "2022-01-02T11:38:55.513Z"
   },
   {
    "duration": 182,
    "start_time": "2022-01-02T11:39:03.321Z"
   },
   {
    "duration": 196,
    "start_time": "2022-01-02T11:39:08.145Z"
   },
   {
    "duration": 203,
    "start_time": "2022-01-02T11:40:13.177Z"
   },
   {
    "duration": 186,
    "start_time": "2022-01-02T11:40:26.049Z"
   },
   {
    "duration": 201,
    "start_time": "2022-01-02T11:40:30.761Z"
   },
   {
    "duration": 331,
    "start_time": "2022-01-02T11:40:34.200Z"
   },
   {
    "duration": 193,
    "start_time": "2022-01-02T11:40:42.520Z"
   },
   {
    "duration": 259,
    "start_time": "2022-01-02T11:40:51.024Z"
   },
   {
    "duration": 245,
    "start_time": "2022-01-02T11:40:59.953Z"
   },
   {
    "duration": 207,
    "start_time": "2022-01-02T11:41:07.835Z"
   },
   {
    "duration": 198,
    "start_time": "2022-01-02T11:41:13.186Z"
   },
   {
    "duration": 189,
    "start_time": "2022-01-02T11:41:35.641Z"
   },
   {
    "duration": 5,
    "start_time": "2022-01-02T11:41:58.529Z"
   },
   {
    "duration": 5,
    "start_time": "2022-01-02T11:42:20.448Z"
   },
   {
    "duration": 221,
    "start_time": "2022-01-02T11:43:18.446Z"
   },
   {
    "duration": 221,
    "start_time": "2022-01-02T11:43:38.503Z"
   },
   {
    "duration": 205,
    "start_time": "2022-01-02T11:43:53.391Z"
   },
   {
    "duration": 227,
    "start_time": "2022-01-02T11:44:00.767Z"
   },
   {
    "duration": 209,
    "start_time": "2022-01-02T11:44:17.344Z"
   },
   {
    "duration": 224,
    "start_time": "2022-01-02T11:44:22.471Z"
   },
   {
    "duration": 236,
    "start_time": "2022-01-02T11:44:27.326Z"
   },
   {
    "duration": 214,
    "start_time": "2022-01-02T11:44:40.846Z"
   },
   {
    "duration": 207,
    "start_time": "2022-01-02T11:44:48.550Z"
   },
   {
    "duration": 377,
    "start_time": "2022-01-02T11:44:56.318Z"
   },
   {
    "duration": 243,
    "start_time": "2022-01-02T11:45:03.630Z"
   },
   {
    "duration": 409,
    "start_time": "2022-01-02T11:45:08.654Z"
   },
   {
    "duration": 234,
    "start_time": "2022-01-02T11:45:30.687Z"
   },
   {
    "duration": 210,
    "start_time": "2022-01-02T11:45:41.198Z"
   },
   {
    "duration": 254,
    "start_time": "2022-01-02T11:45:45.486Z"
   },
   {
    "duration": 230,
    "start_time": "2022-01-02T11:45:56.174Z"
   },
   {
    "duration": 232,
    "start_time": "2022-01-02T11:46:07.983Z"
   },
   {
    "duration": 206,
    "start_time": "2022-01-02T11:46:13.822Z"
   },
   {
    "duration": 200,
    "start_time": "2022-01-02T11:46:19.382Z"
   },
   {
    "duration": 215,
    "start_time": "2022-01-02T11:46:23.992Z"
   },
   {
    "duration": 201,
    "start_time": "2022-01-02T11:46:34.150Z"
   },
   {
    "duration": 201,
    "start_time": "2022-01-02T11:46:39.342Z"
   },
   {
    "duration": 203,
    "start_time": "2022-01-02T11:46:48.198Z"
   },
   {
    "duration": 206,
    "start_time": "2022-01-02T11:46:52.174Z"
   },
   {
    "duration": 212,
    "start_time": "2022-01-02T11:49:40.510Z"
   },
   {
    "duration": 192,
    "start_time": "2022-01-02T11:49:47.790Z"
   },
   {
    "duration": 231,
    "start_time": "2022-01-02T11:50:36.877Z"
   },
   {
    "duration": 230,
    "start_time": "2022-01-02T11:50:43.332Z"
   },
   {
    "duration": 231,
    "start_time": "2022-01-02T11:50:53.204Z"
   },
   {
    "duration": 210,
    "start_time": "2022-01-02T11:50:58.116Z"
   },
   {
    "duration": 208,
    "start_time": "2022-01-02T11:51:07.591Z"
   },
   {
    "duration": 201,
    "start_time": "2022-01-02T11:51:17.764Z"
   },
   {
    "duration": 389,
    "start_time": "2022-01-02T11:51:22.428Z"
   },
   {
    "duration": 302,
    "start_time": "2022-01-02T11:51:30.916Z"
   },
   {
    "duration": 475,
    "start_time": "2022-01-02T11:51:52.212Z"
   },
   {
    "duration": 280,
    "start_time": "2022-01-02T11:52:54.644Z"
   },
   {
    "duration": 200,
    "start_time": "2022-01-02T11:53:01.058Z"
   },
   {
    "duration": 213,
    "start_time": "2022-01-02T11:53:08.485Z"
   },
   {
    "duration": 406,
    "start_time": "2022-01-02T11:53:13.026Z"
   },
   {
    "duration": 382,
    "start_time": "2022-01-02T11:53:18.858Z"
   },
   {
    "duration": 285,
    "start_time": "2022-01-02T11:53:26.570Z"
   },
   {
    "duration": 282,
    "start_time": "2022-01-02T11:53:43.554Z"
   },
   {
    "duration": 312,
    "start_time": "2022-01-02T11:54:05.982Z"
   },
   {
    "duration": 300,
    "start_time": "2022-01-02T11:54:30.946Z"
   },
   {
    "duration": 234,
    "start_time": "2022-01-02T11:54:53.018Z"
   },
   {
    "duration": 783,
    "start_time": "2022-01-02T11:55:00.122Z"
   },
   {
    "duration": 1083,
    "start_time": "2022-01-02T11:55:11.186Z"
   },
   {
    "duration": 297,
    "start_time": "2022-01-02T11:55:22.042Z"
   },
   {
    "duration": 234,
    "start_time": "2022-01-02T11:55:49.202Z"
   },
   {
    "duration": 293,
    "start_time": "2022-01-02T11:56:21.114Z"
   },
   {
    "duration": 323,
    "start_time": "2022-01-02T12:01:12.232Z"
   },
   {
    "duration": 293,
    "start_time": "2022-01-02T12:01:21.448Z"
   },
   {
    "duration": 318,
    "start_time": "2022-01-02T12:01:30.176Z"
   },
   {
    "duration": 137,
    "start_time": "2022-01-02T12:08:09.172Z"
   },
   {
    "duration": 988,
    "start_time": "2022-01-02T12:09:10.638Z"
   },
   {
    "duration": 125,
    "start_time": "2022-01-02T12:10:25.548Z"
   },
   {
    "duration": 144,
    "start_time": "2022-01-02T12:11:54.406Z"
   },
   {
    "duration": 140,
    "start_time": "2022-01-02T12:12:49.181Z"
   },
   {
    "duration": 135,
    "start_time": "2022-01-02T12:12:53.306Z"
   },
   {
    "duration": 132,
    "start_time": "2022-01-02T12:13:00.324Z"
   },
   {
    "duration": 9,
    "start_time": "2022-01-02T12:14:25.268Z"
   },
   {
    "duration": 3,
    "start_time": "2022-01-02T12:15:07.049Z"
   },
   {
    "duration": 158,
    "start_time": "2022-01-02T12:22:37.890Z"
   },
   {
    "duration": 131,
    "start_time": "2022-01-02T12:22:59.504Z"
   },
   {
    "duration": 139,
    "start_time": "2022-01-02T12:23:05.591Z"
   },
   {
    "duration": 129,
    "start_time": "2022-01-02T12:23:10.808Z"
   },
   {
    "duration": 157,
    "start_time": "2022-01-02T12:23:21.352Z"
   },
   {
    "duration": 142,
    "start_time": "2022-01-02T12:23:34.096Z"
   },
   {
    "duration": 148,
    "start_time": "2022-01-02T12:28:04.023Z"
   },
   {
    "duration": 138,
    "start_time": "2022-01-02T12:28:20.158Z"
   },
   {
    "duration": 151,
    "start_time": "2022-01-02T12:28:35.023Z"
   },
   {
    "duration": 153,
    "start_time": "2022-01-02T12:30:04.607Z"
   },
   {
    "duration": 146,
    "start_time": "2022-01-02T12:30:26.791Z"
   },
   {
    "duration": 143,
    "start_time": "2022-01-02T12:31:00.471Z"
   },
   {
    "duration": 145,
    "start_time": "2022-01-02T12:31:21.213Z"
   },
   {
    "duration": 123,
    "start_time": "2022-01-02T12:31:26.197Z"
   },
   {
    "duration": 139,
    "start_time": "2022-01-02T12:31:32.341Z"
   },
   {
    "duration": 144,
    "start_time": "2022-01-02T12:32:39.606Z"
   },
   {
    "duration": 152,
    "start_time": "2022-01-02T12:33:01.087Z"
   },
   {
    "duration": 151,
    "start_time": "2022-01-02T12:33:12.287Z"
   },
   {
    "duration": 149,
    "start_time": "2022-01-02T12:33:23.045Z"
   },
   {
    "duration": 134,
    "start_time": "2022-01-02T12:33:34.982Z"
   },
   {
    "duration": 439,
    "start_time": "2022-01-02T12:33:59.174Z"
   },
   {
    "duration": 134,
    "start_time": "2022-01-02T12:34:05.326Z"
   },
   {
    "duration": 142,
    "start_time": "2022-01-02T12:34:21.302Z"
   },
   {
    "duration": 150,
    "start_time": "2022-01-02T12:34:27.592Z"
   },
   {
    "duration": 148,
    "start_time": "2022-01-02T12:34:32.164Z"
   },
   {
    "duration": 134,
    "start_time": "2022-01-02T12:34:36.384Z"
   },
   {
    "duration": 9,
    "start_time": "2022-01-02T12:38:20.133Z"
   },
   {
    "duration": 10,
    "start_time": "2022-01-02T12:44:38.027Z"
   },
   {
    "duration": 9,
    "start_time": "2022-01-02T12:46:08.659Z"
   },
   {
    "duration": 22,
    "start_time": "2022-01-02T12:59:26.358Z"
   },
   {
    "duration": 17,
    "start_time": "2022-01-02T13:01:34.138Z"
   },
   {
    "duration": 20,
    "start_time": "2022-01-02T13:02:01.172Z"
   },
   {
    "duration": 26,
    "start_time": "2022-01-02T13:02:05.084Z"
   },
   {
    "duration": 3,
    "start_time": "2022-01-02T13:06:53.954Z"
   },
   {
    "duration": 174,
    "start_time": "2022-01-02T13:06:54.738Z"
   },
   {
    "duration": 24,
    "start_time": "2022-01-02T13:06:55.560Z"
   },
   {
    "duration": 10,
    "start_time": "2022-01-02T13:06:59.274Z"
   },
   {
    "duration": 315,
    "start_time": "2022-01-02T13:07:09.858Z"
   },
   {
    "duration": 138,
    "start_time": "2022-01-02T13:07:17.092Z"
   },
   {
    "duration": 9,
    "start_time": "2022-01-02T13:07:32.306Z"
   },
   {
    "duration": 9,
    "start_time": "2022-01-02T13:14:46.816Z"
   },
   {
    "duration": 187,
    "start_time": "2022-01-02T13:52:14.359Z"
   },
   {
    "duration": 232,
    "start_time": "2022-01-02T13:53:01.133Z"
   },
   {
    "duration": 280,
    "start_time": "2022-01-02T13:53:12.580Z"
   },
   {
    "duration": 270,
    "start_time": "2022-01-02T13:54:31.315Z"
   },
   {
    "duration": 146,
    "start_time": "2022-01-02T13:54:44.197Z"
   },
   {
    "duration": 133,
    "start_time": "2022-01-02T13:55:09.507Z"
   },
   {
    "duration": 148,
    "start_time": "2022-01-02T13:55:20.883Z"
   },
   {
    "duration": 149,
    "start_time": "2022-01-02T13:55:39.195Z"
   },
   {
    "duration": 8,
    "start_time": "2022-01-02T13:59:31.885Z"
   },
   {
    "duration": 7,
    "start_time": "2022-01-02T14:00:20.561Z"
   },
   {
    "duration": 145,
    "start_time": "2022-01-02T14:02:25.305Z"
   },
   {
    "duration": 39,
    "start_time": "2022-01-02T14:08:45.471Z"
   },
   {
    "duration": 35,
    "start_time": "2022-01-02T14:09:26.877Z"
   },
   {
    "duration": 35,
    "start_time": "2022-01-02T14:10:22.111Z"
   },
   {
    "duration": 35,
    "start_time": "2022-01-02T14:11:16.071Z"
   },
   {
    "duration": 21,
    "start_time": "2022-01-02T14:11:36.943Z"
   },
   {
    "duration": 23,
    "start_time": "2022-01-02T14:11:48.061Z"
   },
   {
    "duration": 34,
    "start_time": "2022-01-02T14:12:10.391Z"
   },
   {
    "duration": 145,
    "start_time": "2022-01-02T14:18:17.875Z"
   },
   {
    "duration": 137,
    "start_time": "2022-01-02T14:21:28.618Z"
   },
   {
    "duration": 164,
    "start_time": "2022-01-02T14:21:40.098Z"
   },
   {
    "duration": 156,
    "start_time": "2022-01-02T14:23:29.010Z"
   },
   {
    "duration": 152,
    "start_time": "2022-01-02T14:23:41.018Z"
   },
   {
    "duration": 11,
    "start_time": "2022-01-02T14:23:53.081Z"
   },
   {
    "duration": 142,
    "start_time": "2022-01-02T14:24:00.570Z"
   },
   {
    "duration": 156,
    "start_time": "2022-01-02T14:24:11.482Z"
   },
   {
    "duration": 3329,
    "start_time": "2022-01-02T14:30:20.400Z"
   },
   {
    "duration": 139,
    "start_time": "2022-01-02T14:31:28.280Z"
   },
   {
    "duration": 133,
    "start_time": "2022-01-02T14:34:33.966Z"
   },
   {
    "duration": 142,
    "start_time": "2022-01-02T14:35:30.198Z"
   },
   {
    "duration": 143,
    "start_time": "2022-01-02T14:35:52.082Z"
   },
   {
    "duration": 143,
    "start_time": "2022-01-02T14:36:13.624Z"
   },
   {
    "duration": 30303,
    "start_time": "2022-01-02T14:36:59.206Z"
   },
   {
    "duration": 146,
    "start_time": "2022-01-02T14:38:43.435Z"
   },
   {
    "duration": 3,
    "start_time": "2022-01-02T14:39:07.820Z"
   },
   {
    "duration": 7,
    "start_time": "2022-01-02T14:39:19.116Z"
   },
   {
    "duration": 129,
    "start_time": "2022-01-02T14:45:04.044Z"
   },
   {
    "duration": 646,
    "start_time": "2022-01-02T14:46:24.961Z"
   },
   {
    "duration": 154,
    "start_time": "2022-01-02T14:46:25.609Z"
   },
   {
    "duration": 30,
    "start_time": "2022-01-02T14:46:25.766Z"
   },
   {
    "duration": 11,
    "start_time": "2022-01-02T14:46:25.798Z"
   },
   {
    "duration": 91,
    "start_time": "2022-01-02T14:46:25.811Z"
   },
   {
    "duration": 8,
    "start_time": "2022-01-02T14:46:25.904Z"
   },
   {
    "duration": 5,
    "start_time": "2022-01-02T14:46:25.914Z"
   },
   {
    "duration": 4,
    "start_time": "2022-01-02T14:46:25.921Z"
   },
   {
    "duration": 5,
    "start_time": "2022-01-02T14:46:25.928Z"
   },
   {
    "duration": 15,
    "start_time": "2022-01-02T14:46:25.935Z"
   },
   {
    "duration": 35405,
    "start_time": "2022-01-02T14:46:25.952Z"
   },
   {
    "duration": 5,
    "start_time": "2022-01-02T14:47:01.359Z"
   },
   {
    "duration": 20,
    "start_time": "2022-01-02T14:47:01.365Z"
   },
   {
    "duration": 25,
    "start_time": "2022-01-02T14:47:01.387Z"
   },
   {
    "duration": 20,
    "start_time": "2022-01-02T14:47:01.414Z"
   },
   {
    "duration": 57,
    "start_time": "2022-01-02T14:47:01.435Z"
   },
   {
    "duration": 4,
    "start_time": "2022-01-02T14:47:01.493Z"
   },
   {
    "duration": 15,
    "start_time": "2022-01-02T14:47:01.498Z"
   },
   {
    "duration": 13,
    "start_time": "2022-01-02T14:47:01.514Z"
   },
   {
    "duration": 526,
    "start_time": "2022-01-02T14:47:01.529Z"
   },
   {
    "duration": 5,
    "start_time": "2022-01-02T14:47:02.056Z"
   },
   {
    "duration": 15,
    "start_time": "2022-01-02T14:47:02.062Z"
   },
   {
    "duration": 15,
    "start_time": "2022-01-02T14:47:02.079Z"
   },
   {
    "duration": 27,
    "start_time": "2022-01-02T14:47:02.095Z"
   },
   {
    "duration": 20,
    "start_time": "2022-01-02T14:47:02.124Z"
   },
   {
    "duration": 13,
    "start_time": "2022-01-02T14:47:02.146Z"
   },
   {
    "duration": 23,
    "start_time": "2022-01-02T14:47:02.163Z"
   },
   {
    "duration": 9,
    "start_time": "2022-01-02T14:47:02.189Z"
   },
   {
    "duration": 13,
    "start_time": "2022-01-02T14:47:02.200Z"
   },
   {
    "duration": 49,
    "start_time": "2022-01-02T14:47:02.215Z"
   },
   {
    "duration": 4,
    "start_time": "2022-01-02T14:47:02.266Z"
   },
   {
    "duration": 30,
    "start_time": "2022-01-02T14:47:02.272Z"
   },
   {
    "duration": 463,
    "start_time": "2022-01-02T14:47:02.304Z"
   },
   {
    "duration": 5,
    "start_time": "2022-01-02T14:47:02.768Z"
   },
   {
    "duration": 36,
    "start_time": "2022-01-02T14:47:02.774Z"
   },
   {
    "duration": 290,
    "start_time": "2022-01-02T14:47:02.811Z"
   },
   {
    "duration": 149,
    "start_time": "2022-01-02T14:47:03.103Z"
   },
   {
    "duration": 8,
    "start_time": "2022-01-02T14:47:03.254Z"
   },
   {
    "duration": 218,
    "start_time": "2022-01-02T14:47:03.264Z"
   },
   {
    "duration": 147,
    "start_time": "2022-01-02T14:47:03.491Z"
   },
   {
    "duration": 7,
    "start_time": "2022-01-02T14:47:03.640Z"
   },
   {
    "duration": 242,
    "start_time": "2022-01-02T14:47:03.649Z"
   },
   {
    "duration": 148,
    "start_time": "2022-01-02T14:47:03.893Z"
   },
   {
    "duration": 8,
    "start_time": "2022-01-02T14:47:04.042Z"
   },
   {
    "duration": 348,
    "start_time": "2022-01-02T14:47:04.052Z"
   },
   {
    "duration": 150,
    "start_time": "2022-01-02T14:47:04.401Z"
   },
   {
    "duration": 9,
    "start_time": "2022-01-02T14:47:04.552Z"
   },
   {
    "duration": 186,
    "start_time": "2022-01-02T14:47:04.563Z"
   },
   {
    "duration": 19,
    "start_time": "2022-01-02T14:47:04.750Z"
   },
   {
    "duration": 288,
    "start_time": "2022-01-02T14:47:04.770Z"
   },
   {
    "duration": 234,
    "start_time": "2022-01-02T14:47:05.059Z"
   },
   {
    "duration": 191,
    "start_time": "2022-01-02T14:47:05.295Z"
   },
   {
    "duration": 399524,
    "start_time": "2022-01-02T14:40:25.964Z"
   },
   {
    "duration": 3,
    "start_time": "2022-01-02T14:47:39.057Z"
   },
   {
    "duration": 157,
    "start_time": "2022-01-02T14:47:39.062Z"
   },
   {
    "duration": 25,
    "start_time": "2022-01-02T14:47:39.221Z"
   },
   {
    "duration": 10,
    "start_time": "2022-01-02T14:47:39.247Z"
   },
   {
    "duration": 91,
    "start_time": "2022-01-02T14:47:39.259Z"
   },
   {
    "duration": 10,
    "start_time": "2022-01-02T14:47:39.352Z"
   },
   {
    "duration": 6,
    "start_time": "2022-01-02T14:47:39.363Z"
   },
   {
    "duration": 22,
    "start_time": "2022-01-02T14:47:39.371Z"
   },
   {
    "duration": 7,
    "start_time": "2022-01-02T14:47:39.396Z"
   },
   {
    "duration": 10,
    "start_time": "2022-01-02T14:47:39.405Z"
   },
   {
    "duration": 36202,
    "start_time": "2022-01-02T14:47:39.416Z"
   },
   {
    "duration": 4,
    "start_time": "2022-01-02T14:48:15.620Z"
   },
   {
    "duration": 8,
    "start_time": "2022-01-02T14:48:15.626Z"
   },
   {
    "duration": 8,
    "start_time": "2022-01-02T14:48:15.636Z"
   },
   {
    "duration": 8,
    "start_time": "2022-01-02T14:48:15.646Z"
   },
   {
    "duration": 76,
    "start_time": "2022-01-02T14:48:15.656Z"
   },
   {
    "duration": 3,
    "start_time": "2022-01-02T14:48:15.734Z"
   },
   {
    "duration": 7,
    "start_time": "2022-01-02T14:48:15.739Z"
   },
   {
    "duration": 6,
    "start_time": "2022-01-02T14:48:15.747Z"
   },
   {
    "duration": 528,
    "start_time": "2022-01-02T14:48:15.754Z"
   },
   {
    "duration": 9,
    "start_time": "2022-01-02T14:48:16.284Z"
   },
   {
    "duration": 10,
    "start_time": "2022-01-02T14:48:16.294Z"
   },
   {
    "duration": 5,
    "start_time": "2022-01-02T14:48:16.306Z"
   },
   {
    "duration": 3,
    "start_time": "2022-01-02T14:48:16.313Z"
   },
   {
    "duration": 8,
    "start_time": "2022-01-02T14:48:16.318Z"
   },
   {
    "duration": 4,
    "start_time": "2022-01-02T14:48:16.327Z"
   },
   {
    "duration": 16,
    "start_time": "2022-01-02T14:48:16.334Z"
   },
   {
    "duration": 41,
    "start_time": "2022-01-02T14:48:16.352Z"
   },
   {
    "duration": 7,
    "start_time": "2022-01-02T14:48:16.394Z"
   },
   {
    "duration": 42,
    "start_time": "2022-01-02T14:48:16.402Z"
   },
   {
    "duration": 5,
    "start_time": "2022-01-02T14:48:16.445Z"
   },
   {
    "duration": 15,
    "start_time": "2022-01-02T14:48:16.451Z"
   },
   {
    "duration": 474,
    "start_time": "2022-01-02T14:48:16.468Z"
   },
   {
    "duration": 4,
    "start_time": "2022-01-02T14:48:16.944Z"
   },
   {
    "duration": 23,
    "start_time": "2022-01-02T14:48:16.950Z"
   },
   {
    "duration": 237,
    "start_time": "2022-01-02T14:48:16.975Z"
   },
   {
    "duration": 153,
    "start_time": "2022-01-02T14:48:17.213Z"
   },
   {
    "duration": 9,
    "start_time": "2022-01-02T14:48:17.368Z"
   },
   {
    "duration": 214,
    "start_time": "2022-01-02T14:48:17.379Z"
   },
   {
    "duration": 165,
    "start_time": "2022-01-02T14:48:17.595Z"
   },
   {
    "duration": 8,
    "start_time": "2022-01-02T14:48:17.762Z"
   },
   {
    "duration": 240,
    "start_time": "2022-01-02T14:48:17.772Z"
   },
   {
    "duration": 160,
    "start_time": "2022-01-02T14:48:18.013Z"
   },
   {
    "duration": 18,
    "start_time": "2022-01-02T14:48:18.175Z"
   },
   {
    "duration": 332,
    "start_time": "2022-01-02T14:48:18.195Z"
   },
   {
    "duration": 224,
    "start_time": "2022-01-02T14:48:18.529Z"
   },
   {
    "duration": 9,
    "start_time": "2022-01-02T14:48:18.756Z"
   },
   {
    "duration": 196,
    "start_time": "2022-01-02T14:48:18.767Z"
   },
   {
    "duration": 26,
    "start_time": "2022-01-02T14:48:18.965Z"
   },
   {
    "duration": 282,
    "start_time": "2022-01-02T14:48:18.993Z"
   },
   {
    "duration": 177,
    "start_time": "2022-01-02T14:48:19.276Z"
   },
   {
    "duration": 139,
    "start_time": "2022-01-02T14:48:19.455Z"
   },
   {
    "duration": 399519,
    "start_time": "2022-01-02T14:41:40.077Z"
   },
   {
    "duration": 139,
    "start_time": "2022-01-02T14:51:41.241Z"
   },
   {
    "duration": 218,
    "start_time": "2022-01-02T14:52:07.889Z"
   },
   {
    "duration": 880,
    "start_time": "2022-01-02T14:52:42.496Z"
   },
   {
    "duration": 153,
    "start_time": "2022-01-02T14:53:22.882Z"
   },
   {
    "duration": 878,
    "start_time": "2022-01-02T14:53:42.966Z"
   },
   {
    "duration": 1014,
    "start_time": "2022-01-02T14:53:43.846Z"
   },
   {
    "duration": 4,
    "start_time": "2022-01-02T14:58:49.117Z"
   },
   {
    "duration": 9,
    "start_time": "2022-01-02T14:59:03.580Z"
   },
   {
    "duration": 1775,
    "start_time": "2022-01-02T14:59:20.807Z"
   },
   {
    "duration": 1996,
    "start_time": "2022-01-02T15:00:09.500Z"
   },
   {
    "duration": 195,
    "start_time": "2022-01-02T15:01:05.823Z"
   },
   {
    "duration": 15,
    "start_time": "2022-01-02T15:01:37.166Z"
   },
   {
    "duration": 8,
    "start_time": "2022-01-02T16:59:40.822Z"
   },
   {
    "duration": 3150,
    "start_time": "2022-01-02T16:59:47.610Z"
   },
   {
    "duration": 133,
    "start_time": "2022-01-02T17:21:41.936Z"
   },
   {
    "duration": 515,
    "start_time": "2022-01-02T17:21:48.328Z"
   },
   {
    "duration": 515,
    "start_time": "2022-01-02T17:22:35.129Z"
   },
   {
    "duration": 339,
    "start_time": "2022-01-02T17:23:20.754Z"
   },
   {
    "duration": 485,
    "start_time": "2022-01-02T17:23:36.474Z"
   },
   {
    "duration": 344,
    "start_time": "2022-01-02T17:25:36.272Z"
   },
   {
    "duration": 353,
    "start_time": "2022-01-02T17:26:06.646Z"
   },
   {
    "duration": 810,
    "start_time": "2022-01-02T17:26:13.672Z"
   },
   {
    "duration": 343,
    "start_time": "2022-01-02T17:26:20.600Z"
   },
   {
    "duration": 352,
    "start_time": "2022-01-02T17:26:55.536Z"
   },
   {
    "duration": 363,
    "start_time": "2022-01-02T17:28:21.999Z"
   },
   {
    "duration": 545,
    "start_time": "2022-01-02T17:29:07.229Z"
   },
   {
    "duration": 541,
    "start_time": "2022-01-02T17:29:56.126Z"
   },
   {
    "duration": 392,
    "start_time": "2022-01-02T17:31:33.957Z"
   },
   {
    "duration": 19,
    "start_time": "2022-01-02T17:34:19.820Z"
   },
   {
    "duration": 3115,
    "start_time": "2022-01-02T17:40:22.994Z"
   },
   {
    "duration": 2020,
    "start_time": "2022-01-02T17:41:13.404Z"
   },
   {
    "duration": 3008,
    "start_time": "2022-01-02T17:41:19.622Z"
   },
   {
    "duration": 157,
    "start_time": "2022-01-02T18:07:15.179Z"
   },
   {
    "duration": 92,
    "start_time": "2022-01-02T18:08:27.882Z"
   },
   {
    "duration": 10974,
    "start_time": "2022-01-02T18:09:31.128Z"
   },
   {
    "duration": 4,
    "start_time": "2022-01-02T18:11:28.193Z"
   },
   {
    "duration": 4,
    "start_time": "2022-01-02T18:11:43.807Z"
   },
   {
    "duration": 3,
    "start_time": "2022-01-02T18:11:58.505Z"
   },
   {
    "duration": 157,
    "start_time": "2022-01-02T18:12:16.415Z"
   },
   {
    "duration": 178,
    "start_time": "2022-01-02T18:12:29.878Z"
   },
   {
    "duration": 8,
    "start_time": "2022-01-02T18:13:02.223Z"
   },
   {
    "duration": 3995,
    "start_time": "2022-01-02T18:15:09.208Z"
   },
   {
    "duration": 173,
    "start_time": "2022-01-02T18:15:28.526Z"
   },
   {
    "duration": 151,
    "start_time": "2022-01-02T18:16:23.013Z"
   },
   {
    "duration": 527,
    "start_time": "2022-01-02T18:17:37.964Z"
   },
   {
    "duration": 3138,
    "start_time": "2022-01-02T18:18:09.805Z"
   },
   {
    "duration": 58,
    "start_time": "2022-01-02T18:18:28.363Z"
   },
   {
    "duration": 3380,
    "start_time": "2022-01-02T18:27:52.336Z"
   },
   {
    "duration": 305,
    "start_time": "2022-01-02T18:28:06.510Z"
   },
   {
    "duration": 325,
    "start_time": "2022-01-02T18:28:15.421Z"
   },
   {
    "duration": 171,
    "start_time": "2022-01-02T18:28:45.806Z"
   },
   {
    "duration": 10,
    "start_time": "2022-01-02T18:30:52.573Z"
   },
   {
    "duration": 11,
    "start_time": "2022-01-02T18:31:05.691Z"
   },
   {
    "duration": 301923,
    "start_time": "2022-01-02T18:35:33.867Z"
   },
   {
    "duration": 595,
    "start_time": "2022-01-02T18:49:31.477Z"
   },
   {
    "duration": 137,
    "start_time": "2022-01-02T18:50:44.725Z"
   },
   {
    "duration": 765,
    "start_time": "2022-01-02T18:51:10.773Z"
   },
   {
    "duration": 134,
    "start_time": "2022-01-02T18:53:42.827Z"
   },
   {
    "duration": 134,
    "start_time": "2022-01-02T18:53:54.789Z"
   },
   {
    "duration": 1361,
    "start_time": "2022-01-02T18:53:59.389Z"
   },
   {
    "duration": 128,
    "start_time": "2022-01-02T19:11:10.337Z"
   },
   {
    "duration": 11067,
    "start_time": "2022-01-02T19:12:34.781Z"
   },
   {
    "duration": 49,
    "start_time": "2022-01-02T19:13:56.269Z"
   },
   {
    "duration": 14,
    "start_time": "2022-01-02T19:13:59.789Z"
   },
   {
    "duration": 11,
    "start_time": "2022-01-02T19:17:56.980Z"
   },
   {
    "duration": 4163,
    "start_time": "2022-01-02T19:18:59.939Z"
   },
   {
    "duration": 5551,
    "start_time": "2022-01-02T19:19:45.420Z"
   },
   {
    "duration": 145,
    "start_time": "2022-01-02T19:39:19.038Z"
   },
   {
    "duration": 150,
    "start_time": "2022-01-02T19:39:28.517Z"
   },
   {
    "duration": 153,
    "start_time": "2022-01-02T19:39:39.486Z"
   },
   {
    "duration": 136,
    "start_time": "2022-01-02T19:40:05.237Z"
   },
   {
    "duration": 170,
    "start_time": "2022-01-02T19:42:52.947Z"
   },
   {
    "duration": 19,
    "start_time": "2022-01-02T19:43:02.219Z"
   },
   {
    "duration": 152,
    "start_time": "2022-01-02T19:43:07.762Z"
   },
   {
    "duration": 162,
    "start_time": "2022-01-02T19:43:18.291Z"
   },
   {
    "duration": 174,
    "start_time": "2022-01-02T19:43:30.387Z"
   },
   {
    "duration": 142,
    "start_time": "2022-01-02T19:48:21.329Z"
   },
   {
    "duration": 52,
    "start_time": "2022-01-02T19:49:48.092Z"
   },
   {
    "duration": 16,
    "start_time": "2022-01-02T19:51:31.063Z"
   },
   {
    "duration": 33,
    "start_time": "2022-01-02T19:51:40.848Z"
   },
   {
    "duration": 37,
    "start_time": "2022-01-02T19:56:11.405Z"
   },
   {
    "duration": 42,
    "start_time": "2022-01-02T19:57:49.270Z"
   },
   {
    "duration": 40,
    "start_time": "2022-01-02T19:57:54.533Z"
   },
   {
    "duration": 15,
    "start_time": "2022-01-02T19:59:58.571Z"
   },
   {
    "duration": 40,
    "start_time": "2022-01-02T20:02:42.371Z"
   },
   {
    "duration": 27,
    "start_time": "2022-01-02T20:03:21.011Z"
   },
   {
    "duration": 364,
    "start_time": "2022-01-02T20:03:34.393Z"
   },
   {
    "duration": 27,
    "start_time": "2022-01-02T20:03:35.103Z"
   },
   {
    "duration": 25,
    "start_time": "2022-01-02T20:03:53.075Z"
   },
   {
    "duration": 10,
    "start_time": "2022-01-02T20:04:15.649Z"
   },
   {
    "duration": 26,
    "start_time": "2022-01-02T20:04:32.921Z"
   },
   {
    "duration": 29,
    "start_time": "2022-01-02T20:04:50.761Z"
   },
   {
    "duration": 32,
    "start_time": "2022-01-02T20:04:57.499Z"
   },
   {
    "duration": 3,
    "start_time": "2022-01-02T20:05:04.381Z"
   },
   {
    "duration": 163,
    "start_time": "2022-01-02T20:05:04.387Z"
   },
   {
    "duration": 27,
    "start_time": "2022-01-02T20:05:04.552Z"
   },
   {
    "duration": 12,
    "start_time": "2022-01-02T20:05:04.592Z"
   },
   {
    "duration": 93,
    "start_time": "2022-01-02T20:05:04.606Z"
   },
   {
    "duration": 9,
    "start_time": "2022-01-02T20:05:04.700Z"
   },
   {
    "duration": 6,
    "start_time": "2022-01-02T20:05:04.711Z"
   },
   {
    "duration": 5,
    "start_time": "2022-01-02T20:05:04.719Z"
   },
   {
    "duration": 7,
    "start_time": "2022-01-02T20:05:04.726Z"
   },
   {
    "duration": 9,
    "start_time": "2022-01-02T20:05:04.736Z"
   },
   {
    "duration": 37444,
    "start_time": "2022-01-02T20:05:04.747Z"
   },
   {
    "duration": 4,
    "start_time": "2022-01-02T20:05:42.193Z"
   },
   {
    "duration": 7,
    "start_time": "2022-01-02T20:05:42.199Z"
   },
   {
    "duration": 8,
    "start_time": "2022-01-02T20:05:42.208Z"
   },
   {
    "duration": 7,
    "start_time": "2022-01-02T20:05:42.217Z"
   },
   {
    "duration": 72,
    "start_time": "2022-01-02T20:05:42.225Z"
   },
   {
    "duration": 3,
    "start_time": "2022-01-02T20:05:42.299Z"
   },
   {
    "duration": 9,
    "start_time": "2022-01-02T20:05:42.304Z"
   },
   {
    "duration": 6,
    "start_time": "2022-01-02T20:05:42.315Z"
   },
   {
    "duration": 525,
    "start_time": "2022-01-02T20:05:42.323Z"
   },
   {
    "duration": 4,
    "start_time": "2022-01-02T20:05:42.850Z"
   },
   {
    "duration": 8,
    "start_time": "2022-01-02T20:05:42.855Z"
   },
   {
    "duration": 6,
    "start_time": "2022-01-02T20:05:42.864Z"
   },
   {
    "duration": 3,
    "start_time": "2022-01-02T20:05:42.872Z"
   },
   {
    "duration": 6,
    "start_time": "2022-01-02T20:05:42.891Z"
   },
   {
    "duration": 3,
    "start_time": "2022-01-02T20:05:42.899Z"
   },
   {
    "duration": 17,
    "start_time": "2022-01-02T20:05:42.904Z"
   },
   {
    "duration": 8,
    "start_time": "2022-01-02T20:05:42.924Z"
   },
   {
    "duration": 11,
    "start_time": "2022-01-02T20:05:42.935Z"
   },
   {
    "duration": 67,
    "start_time": "2022-01-02T20:05:42.948Z"
   },
   {
    "duration": 4,
    "start_time": "2022-01-02T20:05:43.016Z"
   },
   {
    "duration": 16,
    "start_time": "2022-01-02T20:05:43.022Z"
   },
   {
    "duration": 455,
    "start_time": "2022-01-02T20:05:43.040Z"
   },
   {
    "duration": 5,
    "start_time": "2022-01-02T20:05:43.497Z"
   },
   {
    "duration": 28,
    "start_time": "2022-01-02T20:05:43.503Z"
   },
   {
    "duration": 256,
    "start_time": "2022-01-02T20:05:43.533Z"
   },
   {
    "duration": 145,
    "start_time": "2022-01-02T20:05:43.791Z"
   },
   {
    "duration": 8,
    "start_time": "2022-01-02T20:05:43.938Z"
   },
   {
    "duration": 223,
    "start_time": "2022-01-02T20:05:43.948Z"
   },
   {
    "duration": 150,
    "start_time": "2022-01-02T20:05:44.173Z"
   },
   {
    "duration": 9,
    "start_time": "2022-01-02T20:05:44.325Z"
   },
   {
    "duration": 251,
    "start_time": "2022-01-02T20:05:44.336Z"
   },
   {
    "duration": 169,
    "start_time": "2022-01-02T20:05:44.592Z"
   },
   {
    "duration": 10,
    "start_time": "2022-01-02T20:05:44.763Z"
   },
   {
    "duration": 380,
    "start_time": "2022-01-02T20:05:44.775Z"
   },
   {
    "duration": 163,
    "start_time": "2022-01-02T20:05:45.157Z"
   },
   {
    "duration": 10,
    "start_time": "2022-01-02T20:05:45.322Z"
   },
   {
    "duration": 191,
    "start_time": "2022-01-02T20:05:45.334Z"
   },
   {
    "duration": 20,
    "start_time": "2022-01-02T20:05:45.527Z"
   },
   {
    "duration": 322,
    "start_time": "2022-01-02T20:05:45.549Z"
   },
   {
    "duration": 42,
    "start_time": "2022-01-02T20:05:45.874Z"
   },
   {
    "duration": 47,
    "start_time": "2022-01-02T20:05:45.918Z"
   },
   {
    "duration": 30,
    "start_time": "2022-01-02T20:05:45.967Z"
   },
   {
    "duration": 16,
    "start_time": "2022-01-02T20:05:46.000Z"
   },
   {
    "duration": 2989,
    "start_time": "2022-01-02T20:05:46.018Z"
   },
   {
    "duration": 551,
    "start_time": "2022-01-02T20:05:49.009Z"
   },
   {
    "duration": 1579,
    "start_time": "2022-01-02T20:05:49.562Z"
   },
   {
    "duration": 11,
    "start_time": "2022-01-02T20:05:51.143Z"
   },
   {
    "duration": 5894,
    "start_time": "2022-01-02T20:05:51.156Z"
   },
   {
    "duration": 27,
    "start_time": "2022-01-02T20:11:35.984Z"
   },
   {
    "duration": 27,
    "start_time": "2022-01-02T20:11:53.118Z"
   },
   {
    "duration": 16,
    "start_time": "2022-01-02T20:12:21.854Z"
   },
   {
    "duration": 130,
    "start_time": "2022-01-02T20:12:39.414Z"
   },
   {
    "duration": 1833,
    "start_time": "2022-01-02T20:13:04.607Z"
   },
   {
    "duration": 1079,
    "start_time": "2022-01-03T08:12:29.216Z"
   },
   {
    "duration": 191,
    "start_time": "2022-01-03T08:12:30.297Z"
   },
   {
    "duration": 27,
    "start_time": "2022-01-03T08:12:30.490Z"
   },
   {
    "duration": 22,
    "start_time": "2022-01-03T08:12:30.519Z"
   },
   {
    "duration": 71,
    "start_time": "2022-01-03T08:12:30.542Z"
   },
   {
    "duration": 9,
    "start_time": "2022-01-03T08:12:30.615Z"
   },
   {
    "duration": 24,
    "start_time": "2022-01-03T08:12:30.642Z"
   },
   {
    "duration": 19,
    "start_time": "2022-01-03T08:12:30.668Z"
   },
   {
    "duration": 35,
    "start_time": "2022-01-03T08:12:30.689Z"
   },
   {
    "duration": 55,
    "start_time": "2022-01-03T08:12:30.726Z"
   },
   {
    "duration": 33300,
    "start_time": "2022-01-03T08:12:30.783Z"
   },
   {
    "duration": 5,
    "start_time": "2022-01-03T08:13:04.084Z"
   },
   {
    "duration": 8,
    "start_time": "2022-01-03T08:13:04.090Z"
   },
   {
    "duration": 6,
    "start_time": "2022-01-03T08:13:04.100Z"
   },
   {
    "duration": 9,
    "start_time": "2022-01-03T08:13:04.108Z"
   },
   {
    "duration": 56,
    "start_time": "2022-01-03T08:13:04.119Z"
   },
   {
    "duration": 3,
    "start_time": "2022-01-03T08:13:04.177Z"
   },
   {
    "duration": 7,
    "start_time": "2022-01-03T08:13:04.181Z"
   },
   {
    "duration": 6,
    "start_time": "2022-01-03T08:13:04.189Z"
   },
   {
    "duration": 490,
    "start_time": "2022-01-03T08:13:04.197Z"
   },
   {
    "duration": 3,
    "start_time": "2022-01-03T08:13:04.689Z"
   },
   {
    "duration": 14,
    "start_time": "2022-01-03T08:13:04.694Z"
   },
   {
    "duration": 7,
    "start_time": "2022-01-03T08:13:04.711Z"
   },
   {
    "duration": 3,
    "start_time": "2022-01-03T08:13:04.720Z"
   },
   {
    "duration": 17,
    "start_time": "2022-01-03T08:13:04.724Z"
   },
   {
    "duration": 3,
    "start_time": "2022-01-03T08:13:04.743Z"
   },
   {
    "duration": 19,
    "start_time": "2022-01-03T08:13:04.747Z"
   },
   {
    "duration": 7,
    "start_time": "2022-01-03T08:13:04.767Z"
   },
   {
    "duration": 12,
    "start_time": "2022-01-03T08:13:04.776Z"
   },
   {
    "duration": 52,
    "start_time": "2022-01-03T08:13:04.789Z"
   },
   {
    "duration": 3,
    "start_time": "2022-01-03T08:13:04.842Z"
   },
   {
    "duration": 16,
    "start_time": "2022-01-03T08:13:04.847Z"
   },
   {
    "duration": 432,
    "start_time": "2022-01-03T08:13:04.865Z"
   },
   {
    "duration": 4,
    "start_time": "2022-01-03T08:13:05.299Z"
   },
   {
    "duration": 22,
    "start_time": "2022-01-03T08:13:05.305Z"
   },
   {
    "duration": 214,
    "start_time": "2022-01-03T08:13:05.328Z"
   },
   {
    "duration": 127,
    "start_time": "2022-01-03T08:13:05.544Z"
   },
   {
    "duration": 7,
    "start_time": "2022-01-03T08:13:05.672Z"
   },
   {
    "duration": 179,
    "start_time": "2022-01-03T08:13:05.681Z"
   },
   {
    "duration": 185,
    "start_time": "2022-01-03T08:13:05.861Z"
   },
   {
    "duration": 8,
    "start_time": "2022-01-03T08:13:06.048Z"
   },
   {
    "duration": 202,
    "start_time": "2022-01-03T08:13:06.057Z"
   },
   {
    "duration": 128,
    "start_time": "2022-01-03T08:13:06.261Z"
   },
   {
    "duration": 7,
    "start_time": "2022-01-03T08:13:06.391Z"
   },
   {
    "duration": 294,
    "start_time": "2022-01-03T08:13:06.399Z"
   },
   {
    "duration": 126,
    "start_time": "2022-01-03T08:13:06.694Z"
   },
   {
    "duration": 8,
    "start_time": "2022-01-03T08:13:06.822Z"
   },
   {
    "duration": 153,
    "start_time": "2022-01-03T08:13:06.841Z"
   },
   {
    "duration": 17,
    "start_time": "2022-01-03T08:13:06.995Z"
   },
   {
    "duration": 255,
    "start_time": "2022-01-03T08:13:07.014Z"
   },
   {
    "duration": 28,
    "start_time": "2022-01-03T08:13:07.271Z"
   },
   {
    "duration": 58,
    "start_time": "2022-01-03T08:13:07.300Z"
   },
   {
    "duration": 12,
    "start_time": "2022-01-03T08:13:07.360Z"
   },
   {
    "duration": 15,
    "start_time": "2022-01-03T08:13:07.374Z"
   },
   {
    "duration": 1986,
    "start_time": "2022-01-03T08:13:07.391Z"
   },
   {
    "duration": 500,
    "start_time": "2022-01-03T08:13:09.379Z"
   },
   {
    "duration": 1277,
    "start_time": "2022-01-03T08:13:09.880Z"
   },
   {
    "duration": 10,
    "start_time": "2022-01-03T08:13:11.158Z"
   },
   {
    "duration": 6206,
    "start_time": "2022-01-03T08:13:11.169Z"
   },
   {
    "duration": 42,
    "start_time": "2022-01-03T08:17:03.552Z"
   },
   {
    "duration": 42,
    "start_time": "2022-01-03T08:17:14.035Z"
   },
   {
    "duration": 64,
    "start_time": "2022-01-03T08:17:26.466Z"
   },
   {
    "duration": 41,
    "start_time": "2022-01-03T08:17:45.780Z"
   },
   {
    "duration": 30,
    "start_time": "2022-01-03T08:19:36.098Z"
   },
   {
    "duration": 27,
    "start_time": "2022-01-03T08:20:04.033Z"
   },
   {
    "duration": 29,
    "start_time": "2022-01-03T08:20:25.540Z"
   },
   {
    "duration": 28,
    "start_time": "2022-01-03T08:20:34.649Z"
   },
   {
    "duration": 29,
    "start_time": "2022-01-03T08:20:57.352Z"
   },
   {
    "duration": 28,
    "start_time": "2022-01-03T08:22:57.929Z"
   },
   {
    "duration": 28,
    "start_time": "2022-01-03T08:23:10.417Z"
   },
   {
    "duration": 27,
    "start_time": "2022-01-03T08:23:25.974Z"
   },
   {
    "duration": 28,
    "start_time": "2022-01-03T08:24:42.848Z"
   },
   {
    "duration": 31,
    "start_time": "2022-01-03T08:32:10.954Z"
   },
   {
    "duration": 30,
    "start_time": "2022-01-03T08:32:28.666Z"
   },
   {
    "duration": 31,
    "start_time": "2022-01-03T08:32:56.044Z"
   },
   {
    "duration": 33,
    "start_time": "2022-01-03T08:43:57.672Z"
   },
   {
    "duration": 22,
    "start_time": "2022-01-03T08:44:24.418Z"
   },
   {
    "duration": 283,
    "start_time": "2022-01-03T08:47:39.958Z"
   },
   {
    "duration": 13,
    "start_time": "2022-01-03T08:47:51.318Z"
   },
   {
    "duration": 13,
    "start_time": "2022-01-03T08:48:11.694Z"
   },
   {
    "duration": 16,
    "start_time": "2022-01-03T08:51:49.436Z"
   },
   {
    "duration": 15,
    "start_time": "2022-01-03T08:52:41.916Z"
   },
   {
    "duration": 2831,
    "start_time": "2022-01-03T08:52:57.677Z"
   },
   {
    "duration": 461,
    "start_time": "2022-01-03T08:53:25.044Z"
   },
   {
    "duration": 1537,
    "start_time": "2022-01-03T08:56:57.604Z"
   },
   {
    "duration": 10,
    "start_time": "2022-01-03T08:57:40.914Z"
   },
   {
    "duration": 9,
    "start_time": "2022-01-03T08:57:56.956Z"
   },
   {
    "duration": 10,
    "start_time": "2022-01-03T08:58:05.380Z"
   },
   {
    "duration": 4728,
    "start_time": "2022-01-03T08:58:25.734Z"
   },
   {
    "duration": 7,
    "start_time": "2022-01-03T09:08:04.560Z"
   },
   {
    "duration": 5,
    "start_time": "2022-01-03T09:23:56.530Z"
   },
   {
    "duration": 8,
    "start_time": "2022-01-03T09:24:09.200Z"
   },
   {
    "duration": 8,
    "start_time": "2022-01-03T09:24:31.754Z"
   },
   {
    "duration": 200,
    "start_time": "2022-01-03T09:33:36.654Z"
   },
   {
    "duration": 6,
    "start_time": "2022-01-03T09:33:43.102Z"
   },
   {
    "duration": 30,
    "start_time": "2022-01-03T09:38:32.605Z"
   },
   {
    "duration": 7,
    "start_time": "2022-01-03T09:38:49.772Z"
   },
   {
    "duration": 20,
    "start_time": "2022-01-03T09:41:03.562Z"
   },
   {
    "duration": 6,
    "start_time": "2022-01-03T09:41:04.836Z"
   },
   {
    "duration": 20,
    "start_time": "2022-01-03T09:45:40.970Z"
   },
   {
    "duration": 7,
    "start_time": "2022-01-03T09:45:45.898Z"
   },
   {
    "duration": 11,
    "start_time": "2022-01-03T09:47:11.696Z"
   },
   {
    "duration": 6,
    "start_time": "2022-01-03T09:47:15.760Z"
   },
   {
    "duration": 20,
    "start_time": "2022-01-03T09:47:46.816Z"
   },
   {
    "duration": 6,
    "start_time": "2022-01-03T09:47:47.864Z"
   },
   {
    "duration": 134,
    "start_time": "2022-01-03T09:48:28.416Z"
   },
   {
    "duration": 10,
    "start_time": "2022-01-03T09:48:49.203Z"
   },
   {
    "duration": 6,
    "start_time": "2022-01-03T09:48:50.520Z"
   },
   {
    "duration": 22,
    "start_time": "2022-01-03T09:48:54.038Z"
   },
   {
    "duration": 21,
    "start_time": "2022-01-03T09:49:11.952Z"
   },
   {
    "duration": 6,
    "start_time": "2022-01-03T09:49:13.200Z"
   },
   {
    "duration": 23,
    "start_time": "2022-01-03T09:49:17.520Z"
   },
   {
    "duration": 48,
    "start_time": "2022-01-03T09:56:10.398Z"
   },
   {
    "duration": 3,
    "start_time": "2022-01-03T09:57:28.064Z"
   },
   {
    "duration": 191,
    "start_time": "2022-01-03T09:57:28.069Z"
   },
   {
    "duration": 23,
    "start_time": "2022-01-03T09:57:28.262Z"
   },
   {
    "duration": 14,
    "start_time": "2022-01-03T09:57:28.287Z"
   },
   {
    "duration": 68,
    "start_time": "2022-01-03T09:57:28.302Z"
   },
   {
    "duration": 8,
    "start_time": "2022-01-03T09:57:28.372Z"
   },
   {
    "duration": 6,
    "start_time": "2022-01-03T09:57:28.381Z"
   },
   {
    "duration": 4,
    "start_time": "2022-01-03T09:57:28.390Z"
   },
   {
    "duration": 7,
    "start_time": "2022-01-03T09:57:28.395Z"
   },
   {
    "duration": 9,
    "start_time": "2022-01-03T09:57:28.404Z"
   },
   {
    "duration": 33376,
    "start_time": "2022-01-03T09:57:28.441Z"
   },
   {
    "duration": 4,
    "start_time": "2022-01-03T09:58:01.819Z"
   },
   {
    "duration": 18,
    "start_time": "2022-01-03T09:58:01.825Z"
   },
   {
    "duration": 10,
    "start_time": "2022-01-03T09:58:01.845Z"
   },
   {
    "duration": 6,
    "start_time": "2022-01-03T09:58:01.857Z"
   },
   {
    "duration": 52,
    "start_time": "2022-01-03T09:58:01.865Z"
   },
   {
    "duration": 3,
    "start_time": "2022-01-03T09:58:01.919Z"
   },
   {
    "duration": 19,
    "start_time": "2022-01-03T09:58:01.923Z"
   },
   {
    "duration": 17,
    "start_time": "2022-01-03T09:58:01.943Z"
   },
   {
    "duration": 502,
    "start_time": "2022-01-03T09:58:01.961Z"
   },
   {
    "duration": 4,
    "start_time": "2022-01-03T09:58:02.464Z"
   },
   {
    "duration": 115,
    "start_time": "2022-01-03T09:58:02.470Z"
   },
   {
    "duration": 46,
    "start_time": "2022-01-03T09:58:02.588Z"
   },
   {
    "duration": 11,
    "start_time": "2022-01-03T09:58:02.636Z"
   },
   {
    "duration": 10,
    "start_time": "2022-01-03T09:58:02.648Z"
   },
   {
    "duration": 9,
    "start_time": "2022-01-03T09:58:02.660Z"
   },
   {
    "duration": 25,
    "start_time": "2022-01-03T09:58:02.670Z"
   },
   {
    "duration": 12,
    "start_time": "2022-01-03T09:58:02.697Z"
   },
   {
    "duration": 16,
    "start_time": "2022-01-03T09:58:02.711Z"
   },
   {
    "duration": 18,
    "start_time": "2022-01-03T09:58:02.728Z"
   },
   {
    "duration": 26,
    "start_time": "2022-01-03T09:58:02.747Z"
   },
   {
    "duration": 5,
    "start_time": "2022-01-03T09:58:02.774Z"
   },
   {
    "duration": 48,
    "start_time": "2022-01-03T09:58:02.780Z"
   },
   {
    "duration": 11,
    "start_time": "2022-01-03T09:58:02.830Z"
   },
   {
    "duration": 25,
    "start_time": "2022-01-03T09:58:02.842Z"
   },
   {
    "duration": 477,
    "start_time": "2022-01-03T09:58:02.869Z"
   },
   {
    "duration": 7,
    "start_time": "2022-01-03T09:58:03.347Z"
   },
   {
    "duration": 83,
    "start_time": "2022-01-03T09:58:03.355Z"
   },
   {
    "duration": 214,
    "start_time": "2022-01-03T09:58:03.440Z"
   },
   {
    "duration": 129,
    "start_time": "2022-01-03T09:58:03.656Z"
   },
   {
    "duration": 7,
    "start_time": "2022-01-03T09:58:03.786Z"
   },
   {
    "duration": 180,
    "start_time": "2022-01-03T09:58:03.795Z"
   },
   {
    "duration": 128,
    "start_time": "2022-01-03T09:58:03.977Z"
   },
   {
    "duration": 9,
    "start_time": "2022-01-03T09:58:04.107Z"
   },
   {
    "duration": 206,
    "start_time": "2022-01-03T09:58:04.117Z"
   },
   {
    "duration": 137,
    "start_time": "2022-01-03T09:58:04.326Z"
   },
   {
    "duration": 9,
    "start_time": "2022-01-03T09:58:04.465Z"
   },
   {
    "duration": 295,
    "start_time": "2022-01-03T09:58:04.476Z"
   },
   {
    "duration": 141,
    "start_time": "2022-01-03T09:58:04.774Z"
   },
   {
    "duration": 10,
    "start_time": "2022-01-03T09:58:04.917Z"
   },
   {
    "duration": 169,
    "start_time": "2022-01-03T09:58:04.942Z"
   },
   {
    "duration": 29,
    "start_time": "2022-01-03T09:58:05.113Z"
   },
   {
    "duration": 267,
    "start_time": "2022-01-03T09:58:05.144Z"
   },
   {
    "duration": 15,
    "start_time": "2022-01-03T09:58:05.413Z"
   },
   {
    "duration": 25,
    "start_time": "2022-01-03T09:58:05.430Z"
   },
   {
    "duration": 2837,
    "start_time": "2022-01-03T09:58:05.457Z"
   },
   {
    "duration": 476,
    "start_time": "2022-01-03T09:58:08.296Z"
   },
   {
    "duration": 1570,
    "start_time": "2022-01-03T09:58:08.773Z"
   },
   {
    "duration": 9,
    "start_time": "2022-01-03T09:58:10.345Z"
   },
   {
    "duration": 4821,
    "start_time": "2022-01-03T09:58:10.355Z"
   },
   {
    "duration": 8,
    "start_time": "2022-01-03T11:00:34.134Z"
   },
   {
    "duration": 8,
    "start_time": "2022-01-03T11:00:54.277Z"
   },
   {
    "duration": 14,
    "start_time": "2022-01-03T11:10:56.440Z"
   },
   {
    "duration": 7,
    "start_time": "2022-01-03T11:10:57.407Z"
   },
   {
    "duration": 23,
    "start_time": "2022-01-03T11:11:36.138Z"
   },
   {
    "duration": 6,
    "start_time": "2022-01-03T11:11:36.856Z"
   },
   {
    "duration": 23,
    "start_time": "2022-01-03T11:11:53.576Z"
   },
   {
    "duration": 6,
    "start_time": "2022-01-03T11:11:55.080Z"
   },
   {
    "duration": 22,
    "start_time": "2022-01-03T11:11:59.240Z"
   },
   {
    "duration": 6,
    "start_time": "2022-01-03T11:12:01.344Z"
   },
   {
    "duration": 24,
    "start_time": "2022-01-03T11:12:12.968Z"
   },
   {
    "duration": 6,
    "start_time": "2022-01-03T11:12:14.600Z"
   },
   {
    "duration": 20,
    "start_time": "2022-01-03T11:14:07.472Z"
   },
   {
    "duration": 6,
    "start_time": "2022-01-03T11:14:08.088Z"
   },
   {
    "duration": 5,
    "start_time": "2022-01-03T11:14:27.528Z"
   },
   {
    "duration": 7,
    "start_time": "2022-01-03T11:14:28.487Z"
   },
   {
    "duration": 19,
    "start_time": "2022-01-03T11:14:41.808Z"
   },
   {
    "duration": 5,
    "start_time": "2022-01-03T11:14:42.326Z"
   },
   {
    "duration": 212,
    "start_time": "2022-01-03T11:17:52.054Z"
   },
   {
    "duration": 7,
    "start_time": "2022-01-03T11:17:53.165Z"
   },
   {
    "duration": 1050,
    "start_time": "2022-01-03T11:18:33.814Z"
   },
   {
    "duration": 399637,
    "start_time": "2022-01-03T11:11:55.229Z"
   },
   {
    "duration": 64,
    "start_time": "2022-01-03T11:20:55.590Z"
   },
   {
    "duration": 28,
    "start_time": "2022-01-03T11:20:59.638Z"
   },
   {
    "duration": 6,
    "start_time": "2022-01-03T11:21:03.670Z"
   },
   {
    "duration": 21,
    "start_time": "2022-01-03T11:21:41.636Z"
   },
   {
    "duration": 6,
    "start_time": "2022-01-03T11:21:42.404Z"
   },
   {
    "duration": 19,
    "start_time": "2022-01-03T11:21:55.668Z"
   },
   {
    "duration": 7,
    "start_time": "2022-01-03T11:21:56.383Z"
   },
   {
    "duration": 15,
    "start_time": "2022-01-03T11:26:09.532Z"
   },
   {
    "duration": 6,
    "start_time": "2022-01-03T11:26:10.460Z"
   },
   {
    "duration": 17,
    "start_time": "2022-01-03T11:26:31.026Z"
   },
   {
    "duration": 7,
    "start_time": "2022-01-03T11:26:31.825Z"
   },
   {
    "duration": 19,
    "start_time": "2022-01-03T11:26:56.858Z"
   },
   {
    "duration": 6,
    "start_time": "2022-01-03T11:26:57.417Z"
   },
   {
    "duration": 26,
    "start_time": "2022-01-03T11:29:40.874Z"
   },
   {
    "duration": 6,
    "start_time": "2022-01-03T11:29:42.026Z"
   },
   {
    "duration": 25,
    "start_time": "2022-01-03T11:30:09.804Z"
   },
   {
    "duration": 6,
    "start_time": "2022-01-03T11:30:10.809Z"
   },
   {
    "duration": 7,
    "start_time": "2022-01-03T11:30:45.362Z"
   },
   {
    "duration": 6,
    "start_time": "2022-01-03T11:31:12.106Z"
   },
   {
    "duration": 8,
    "start_time": "2022-01-03T11:31:19.384Z"
   },
   {
    "duration": 2,
    "start_time": "2022-01-03T11:31:26.196Z"
   },
   {
    "duration": 196,
    "start_time": "2022-01-03T11:31:26.200Z"
   },
   {
    "duration": 23,
    "start_time": "2022-01-03T11:31:26.397Z"
   },
   {
    "duration": 13,
    "start_time": "2022-01-03T11:31:26.422Z"
   },
   {
    "duration": 63,
    "start_time": "2022-01-03T11:31:26.440Z"
   },
   {
    "duration": 8,
    "start_time": "2022-01-03T11:31:26.505Z"
   },
   {
    "duration": 7,
    "start_time": "2022-01-03T11:31:26.514Z"
   },
   {
    "duration": 5,
    "start_time": "2022-01-03T11:31:26.540Z"
   },
   {
    "duration": 11,
    "start_time": "2022-01-03T11:31:26.547Z"
   },
   {
    "duration": 14,
    "start_time": "2022-01-03T11:31:26.559Z"
   },
   {
    "duration": 35011,
    "start_time": "2022-01-03T11:31:26.575Z"
   },
   {
    "duration": 4,
    "start_time": "2022-01-03T11:32:01.588Z"
   },
   {
    "duration": 14,
    "start_time": "2022-01-03T11:32:01.594Z"
   },
   {
    "duration": 8,
    "start_time": "2022-01-03T11:32:01.610Z"
   },
   {
    "duration": 14,
    "start_time": "2022-01-03T11:32:01.619Z"
   },
   {
    "duration": 47,
    "start_time": "2022-01-03T11:32:01.640Z"
   },
   {
    "duration": 3,
    "start_time": "2022-01-03T11:32:01.688Z"
   },
   {
    "duration": 14,
    "start_time": "2022-01-03T11:32:01.693Z"
   },
   {
    "duration": 13,
    "start_time": "2022-01-03T11:32:01.709Z"
   },
   {
    "duration": 561,
    "start_time": "2022-01-03T11:32:01.724Z"
   },
   {
    "duration": 5,
    "start_time": "2022-01-03T11:32:02.287Z"
   },
   {
    "duration": 9,
    "start_time": "2022-01-03T11:32:02.293Z"
   },
   {
    "duration": 9,
    "start_time": "2022-01-03T11:32:02.305Z"
   },
   {
    "duration": 5,
    "start_time": "2022-01-03T11:32:02.316Z"
   },
   {
    "duration": 20,
    "start_time": "2022-01-03T11:32:02.322Z"
   },
   {
    "duration": 4,
    "start_time": "2022-01-03T11:32:02.344Z"
   },
   {
    "duration": 16,
    "start_time": "2022-01-03T11:32:02.350Z"
   },
   {
    "duration": 8,
    "start_time": "2022-01-03T11:32:02.368Z"
   },
   {
    "duration": 15,
    "start_time": "2022-01-03T11:32:02.377Z"
   },
   {
    "duration": 13,
    "start_time": "2022-01-03T11:32:02.393Z"
   },
   {
    "duration": 42,
    "start_time": "2022-01-03T11:32:02.408Z"
   },
   {
    "duration": 6,
    "start_time": "2022-01-03T11:32:02.452Z"
   },
   {
    "duration": 52,
    "start_time": "2022-01-03T11:32:02.460Z"
   },
   {
    "duration": 4,
    "start_time": "2022-01-03T11:32:02.513Z"
   },
   {
    "duration": 36,
    "start_time": "2022-01-03T11:32:02.518Z"
   },
   {
    "duration": 612,
    "start_time": "2022-01-03T11:32:02.556Z"
   },
   {
    "duration": 5,
    "start_time": "2022-01-03T11:32:03.169Z"
   },
   {
    "duration": 27,
    "start_time": "2022-01-03T11:32:03.176Z"
   },
   {
    "duration": 229,
    "start_time": "2022-01-03T11:32:03.205Z"
   },
   {
    "duration": 143,
    "start_time": "2022-01-03T11:32:03.436Z"
   },
   {
    "duration": 8,
    "start_time": "2022-01-03T11:32:03.581Z"
   },
   {
    "duration": 203,
    "start_time": "2022-01-03T11:32:03.590Z"
   },
   {
    "duration": 134,
    "start_time": "2022-01-03T11:32:03.795Z"
   },
   {
    "duration": 11,
    "start_time": "2022-01-03T11:32:03.930Z"
   },
   {
    "duration": 193,
    "start_time": "2022-01-03T11:32:03.943Z"
   },
   {
    "duration": 130,
    "start_time": "2022-01-03T11:32:04.138Z"
   },
   {
    "duration": 8,
    "start_time": "2022-01-03T11:32:04.269Z"
   },
   {
    "duration": 289,
    "start_time": "2022-01-03T11:32:04.279Z"
   },
   {
    "duration": 139,
    "start_time": "2022-01-03T11:32:04.570Z"
   },
   {
    "duration": 10,
    "start_time": "2022-01-03T11:32:04.710Z"
   },
   {
    "duration": 166,
    "start_time": "2022-01-03T11:32:04.721Z"
   },
   {
    "duration": 17,
    "start_time": "2022-01-03T11:32:04.888Z"
   },
   {
    "duration": 247,
    "start_time": "2022-01-03T11:32:04.906Z"
   },
   {
    "duration": 14,
    "start_time": "2022-01-03T11:32:05.155Z"
   },
   {
    "duration": 34,
    "start_time": "2022-01-03T11:32:05.171Z"
   },
   {
    "duration": 2653,
    "start_time": "2022-01-03T11:32:05.207Z"
   },
   {
    "duration": 495,
    "start_time": "2022-01-03T11:32:07.862Z"
   },
   {
    "duration": 1765,
    "start_time": "2022-01-03T11:32:08.359Z"
   },
   {
    "duration": 16,
    "start_time": "2022-01-03T11:32:10.126Z"
   },
   {
    "duration": 5952,
    "start_time": "2022-01-03T11:32:10.143Z"
   },
   {
    "duration": 7,
    "start_time": "2022-01-03T11:32:16.097Z"
   },
   {
    "duration": 69,
    "start_time": "2022-01-03T11:38:17.006Z"
   },
   {
    "duration": 8,
    "start_time": "2022-01-03T11:38:20.246Z"
   },
   {
    "duration": 6,
    "start_time": "2022-01-03T11:38:55.879Z"
   },
   {
    "duration": 8,
    "start_time": "2022-01-03T11:39:09.926Z"
   },
   {
    "duration": 5,
    "start_time": "2022-01-03T11:39:14.301Z"
   },
   {
    "duration": 7,
    "start_time": "2022-01-03T11:39:49.806Z"
   },
   {
    "duration": 1125,
    "start_time": "2022-01-03T11:41:02.422Z"
   },
   {
    "duration": 8,
    "start_time": "2022-01-03T11:41:17.310Z"
   },
   {
    "duration": 218,
    "start_time": "2022-01-03T11:41:18.160Z"
   },
   {
    "duration": 17,
    "start_time": "2022-01-03T11:42:28.606Z"
   },
   {
    "duration": 11,
    "start_time": "2022-01-03T11:42:41.547Z"
   },
   {
    "duration": 9,
    "start_time": "2022-01-03T11:42:50.035Z"
   },
   {
    "duration": 9,
    "start_time": "2022-01-03T11:42:57.059Z"
   },
   {
    "duration": 7,
    "start_time": "2022-01-03T11:44:17.164Z"
   },
   {
    "duration": 8,
    "start_time": "2022-01-03T11:44:23.548Z"
   },
   {
    "duration": 38,
    "start_time": "2022-01-03T11:46:58.300Z"
   },
   {
    "duration": 11,
    "start_time": "2022-01-03T11:47:20.122Z"
   },
   {
    "duration": 12,
    "start_time": "2022-01-03T11:48:00.387Z"
   },
   {
    "duration": 11,
    "start_time": "2022-01-03T11:48:14.858Z"
   },
   {
    "duration": 13,
    "start_time": "2022-01-03T11:48:24.203Z"
   },
   {
    "duration": 11,
    "start_time": "2022-01-03T11:48:36.338Z"
   },
   {
    "duration": 11,
    "start_time": "2022-01-03T11:48:41.618Z"
   },
   {
    "duration": 11,
    "start_time": "2022-01-03T11:48:47.050Z"
   },
   {
    "duration": 210,
    "start_time": "2022-01-03T11:50:39.850Z"
   },
   {
    "duration": 12,
    "start_time": "2022-01-03T11:55:38.368Z"
   },
   {
    "duration": 11,
    "start_time": "2022-01-03T11:56:02.880Z"
   },
   {
    "duration": 11,
    "start_time": "2022-01-03T11:56:12.617Z"
   },
   {
    "duration": 72,
    "start_time": "2022-01-03T12:00:12.548Z"
   },
   {
    "duration": 68,
    "start_time": "2022-01-03T12:01:16.551Z"
   },
   {
    "duration": 63,
    "start_time": "2022-01-03T12:01:41.698Z"
   },
   {
    "duration": 65,
    "start_time": "2022-01-03T12:02:18.821Z"
   },
   {
    "duration": 45,
    "start_time": "2022-01-03T12:02:34.437Z"
   },
   {
    "duration": 8,
    "start_time": "2022-01-03T12:03:19.332Z"
   },
   {
    "duration": 60,
    "start_time": "2022-01-03T12:04:21.635Z"
   },
   {
    "duration": 86,
    "start_time": "2022-01-03T12:04:35.140Z"
   },
   {
    "duration": 45,
    "start_time": "2022-01-03T12:04:43.709Z"
   },
   {
    "duration": 8,
    "start_time": "2022-01-03T12:07:18.211Z"
   },
   {
    "duration": 9,
    "start_time": "2022-01-03T12:09:59.362Z"
   },
   {
    "duration": 9,
    "start_time": "2022-01-03T12:27:28.740Z"
   },
   {
    "duration": 8,
    "start_time": "2022-01-03T12:30:13.556Z"
   },
   {
    "duration": 8,
    "start_time": "2022-01-03T12:30:53.467Z"
   },
   {
    "duration": 8,
    "start_time": "2022-01-03T12:31:18.780Z"
   },
   {
    "duration": 44,
    "start_time": "2022-01-03T12:38:17.977Z"
   },
   {
    "duration": 12,
    "start_time": "2022-01-03T12:39:27.476Z"
   },
   {
    "duration": 13,
    "start_time": "2022-01-03T12:51:45.594Z"
   },
   {
    "duration": 11,
    "start_time": "2022-01-03T12:52:50.739Z"
   },
   {
    "duration": 7,
    "start_time": "2022-01-03T12:53:03.634Z"
   },
   {
    "duration": 4,
    "start_time": "2022-01-03T12:53:16.906Z"
   },
   {
    "duration": 22,
    "start_time": "2022-01-03T12:54:05.248Z"
   },
   {
    "duration": 192,
    "start_time": "2022-01-03T12:59:34.985Z"
   },
   {
    "duration": 10,
    "start_time": "2022-01-03T12:59:42.446Z"
   },
   {
    "duration": 22,
    "start_time": "2022-01-03T12:59:44.494Z"
   },
   {
    "duration": 7,
    "start_time": "2022-01-03T13:01:44.726Z"
   },
   {
    "duration": 6,
    "start_time": "2022-01-03T13:01:59.214Z"
   },
   {
    "duration": 7,
    "start_time": "2022-01-03T13:02:34.910Z"
   },
   {
    "duration": 217,
    "start_time": "2022-01-03T13:03:18.270Z"
   },
   {
    "duration": 9,
    "start_time": "2022-01-03T13:03:39.790Z"
   },
   {
    "duration": 193,
    "start_time": "2022-01-03T13:05:35.877Z"
   },
   {
    "duration": 214,
    "start_time": "2022-01-03T13:05:49.868Z"
   },
   {
    "duration": 7,
    "start_time": "2022-01-03T13:06:16.070Z"
   },
   {
    "duration": 8,
    "start_time": "2022-01-03T13:12:08.442Z"
   },
   {
    "duration": 149,
    "start_time": "2022-01-03T13:12:53.506Z"
   },
   {
    "duration": 8,
    "start_time": "2022-01-03T13:13:49.746Z"
   },
   {
    "duration": 156,
    "start_time": "2022-01-03T13:13:59.522Z"
   },
   {
    "duration": 12,
    "start_time": "2022-01-03T13:24:17.117Z"
   },
   {
    "duration": 8,
    "start_time": "2022-01-03T13:24:18.984Z"
   },
   {
    "duration": 9,
    "start_time": "2022-01-03T13:24:23.814Z"
   },
   {
    "duration": 156,
    "start_time": "2022-01-03T13:24:29.414Z"
   },
   {
    "duration": 13,
    "start_time": "2022-01-03T13:25:24.598Z"
   },
   {
    "duration": 8,
    "start_time": "2022-01-03T13:25:26.462Z"
   },
   {
    "duration": 9,
    "start_time": "2022-01-03T13:25:27.820Z"
   },
   {
    "duration": 150,
    "start_time": "2022-01-03T13:25:36.703Z"
   },
   {
    "duration": 24,
    "start_time": "2022-01-03T13:30:58.962Z"
   },
   {
    "duration": 15,
    "start_time": "2022-01-03T13:31:51.931Z"
   },
   {
    "duration": 3,
    "start_time": "2022-01-03T13:32:03.110Z"
   },
   {
    "duration": 190,
    "start_time": "2022-01-03T13:32:03.123Z"
   },
   {
    "duration": 24,
    "start_time": "2022-01-03T13:32:03.315Z"
   },
   {
    "duration": 11,
    "start_time": "2022-01-03T13:32:03.342Z"
   },
   {
    "duration": 66,
    "start_time": "2022-01-03T13:32:03.356Z"
   },
   {
    "duration": 21,
    "start_time": "2022-01-03T13:32:03.425Z"
   },
   {
    "duration": 6,
    "start_time": "2022-01-03T13:32:03.449Z"
   },
   {
    "duration": 5,
    "start_time": "2022-01-03T13:32:03.458Z"
   },
   {
    "duration": 7,
    "start_time": "2022-01-03T13:32:03.465Z"
   },
   {
    "duration": 12,
    "start_time": "2022-01-03T13:32:03.475Z"
   },
   {
    "duration": 36395,
    "start_time": "2022-01-03T13:32:03.489Z"
   },
   {
    "duration": 4,
    "start_time": "2022-01-03T13:32:39.886Z"
   },
   {
    "duration": 20,
    "start_time": "2022-01-03T13:32:39.891Z"
   },
   {
    "duration": 6,
    "start_time": "2022-01-03T13:32:39.913Z"
   },
   {
    "duration": 8,
    "start_time": "2022-01-03T13:32:39.921Z"
   },
   {
    "duration": 53,
    "start_time": "2022-01-03T13:32:39.930Z"
   },
   {
    "duration": 4,
    "start_time": "2022-01-03T13:32:39.985Z"
   },
   {
    "duration": 6,
    "start_time": "2022-01-03T13:32:39.991Z"
   },
   {
    "duration": 11,
    "start_time": "2022-01-03T13:32:39.998Z"
   },
   {
    "duration": 537,
    "start_time": "2022-01-03T13:32:40.010Z"
   },
   {
    "duration": 5,
    "start_time": "2022-01-03T13:32:40.548Z"
   },
   {
    "duration": 9,
    "start_time": "2022-01-03T13:32:40.554Z"
   },
   {
    "duration": 7,
    "start_time": "2022-01-03T13:32:40.564Z"
   },
   {
    "duration": 4,
    "start_time": "2022-01-03T13:32:40.572Z"
   },
   {
    "duration": 8,
    "start_time": "2022-01-03T13:32:40.577Z"
   },
   {
    "duration": 4,
    "start_time": "2022-01-03T13:32:40.586Z"
   },
   {
    "duration": 18,
    "start_time": "2022-01-03T13:32:40.592Z"
   },
   {
    "duration": 35,
    "start_time": "2022-01-03T13:32:40.614Z"
   },
   {
    "duration": 5,
    "start_time": "2022-01-03T13:32:40.652Z"
   },
   {
    "duration": 8,
    "start_time": "2022-01-03T13:32:40.659Z"
   },
   {
    "duration": 31,
    "start_time": "2022-01-03T13:32:40.669Z"
   },
   {
    "duration": 7,
    "start_time": "2022-01-03T13:32:40.702Z"
   },
   {
    "duration": 44,
    "start_time": "2022-01-03T13:32:40.742Z"
   },
   {
    "duration": 4,
    "start_time": "2022-01-03T13:32:40.788Z"
   },
   {
    "duration": 20,
    "start_time": "2022-01-03T13:32:40.793Z"
   },
   {
    "duration": 458,
    "start_time": "2022-01-03T13:32:40.815Z"
   },
   {
    "duration": 6,
    "start_time": "2022-01-03T13:32:41.274Z"
   },
   {
    "duration": 33,
    "start_time": "2022-01-03T13:32:41.282Z"
   },
   {
    "duration": 235,
    "start_time": "2022-01-03T13:32:41.317Z"
   },
   {
    "duration": 141,
    "start_time": "2022-01-03T13:32:41.555Z"
   },
   {
    "duration": 10,
    "start_time": "2022-01-03T13:32:41.698Z"
   },
   {
    "duration": 192,
    "start_time": "2022-01-03T13:32:41.710Z"
   },
   {
    "duration": 139,
    "start_time": "2022-01-03T13:32:41.903Z"
   },
   {
    "duration": 8,
    "start_time": "2022-01-03T13:32:42.044Z"
   },
   {
    "duration": 217,
    "start_time": "2022-01-03T13:32:42.053Z"
   },
   {
    "duration": 139,
    "start_time": "2022-01-03T13:32:42.271Z"
   },
   {
    "duration": 8,
    "start_time": "2022-01-03T13:32:42.411Z"
   },
   {
    "duration": 304,
    "start_time": "2022-01-03T13:32:42.420Z"
   },
   {
    "duration": 141,
    "start_time": "2022-01-03T13:32:42.725Z"
   },
   {
    "duration": 8,
    "start_time": "2022-01-03T13:32:42.868Z"
   },
   {
    "duration": 158,
    "start_time": "2022-01-03T13:32:42.877Z"
   },
   {
    "duration": 17,
    "start_time": "2022-01-03T13:32:43.040Z"
   },
   {
    "duration": 262,
    "start_time": "2022-01-03T13:32:43.059Z"
   },
   {
    "duration": 30,
    "start_time": "2022-01-03T13:32:43.322Z"
   },
   {
    "duration": 16,
    "start_time": "2022-01-03T13:32:43.353Z"
   },
   {
    "duration": 2974,
    "start_time": "2022-01-03T13:32:43.371Z"
   },
   {
    "duration": 485,
    "start_time": "2022-01-03T13:32:46.347Z"
   },
   {
    "duration": 2020,
    "start_time": "2022-01-03T13:32:46.834Z"
   },
   {
    "duration": 10,
    "start_time": "2022-01-03T13:32:48.856Z"
   },
   {
    "duration": 5175,
    "start_time": "2022-01-03T13:32:48.868Z"
   },
   {
    "duration": 8,
    "start_time": "2022-01-03T13:32:54.045Z"
   },
   {
    "duration": 47,
    "start_time": "2022-01-03T13:32:54.055Z"
   },
   {
    "duration": 8,
    "start_time": "2022-01-03T13:32:54.104Z"
   },
   {
    "duration": 33,
    "start_time": "2022-01-03T13:32:54.113Z"
   },
   {
    "duration": 7,
    "start_time": "2022-01-03T13:32:54.148Z"
   },
   {
    "duration": 8,
    "start_time": "2022-01-03T13:32:54.156Z"
   },
   {
    "duration": 175,
    "start_time": "2022-01-03T13:32:54.166Z"
   },
   {
    "duration": 31,
    "start_time": "2022-01-03T13:32:54.342Z"
   },
   {
    "duration": 9,
    "start_time": "2022-01-03T13:33:27.267Z"
   },
   {
    "duration": 35,
    "start_time": "2022-01-03T13:39:45.893Z"
   },
   {
    "duration": 15,
    "start_time": "2022-01-03T13:41:18.120Z"
   },
   {
    "duration": 24,
    "start_time": "2022-01-03T13:41:24.646Z"
   },
   {
    "duration": 16,
    "start_time": "2022-01-03T13:43:50.384Z"
   },
   {
    "duration": 9,
    "start_time": "2022-01-03T13:43:52.357Z"
   },
   {
    "duration": 36,
    "start_time": "2022-01-03T13:45:00.228Z"
   },
   {
    "duration": 26,
    "start_time": "2022-01-03T13:45:13.254Z"
   },
   {
    "duration": 24,
    "start_time": "2022-01-03T13:45:18.479Z"
   },
   {
    "duration": 23,
    "start_time": "2022-01-03T13:46:40.725Z"
   },
   {
    "duration": 17,
    "start_time": "2022-01-03T13:49:21.270Z"
   },
   {
    "duration": 8,
    "start_time": "2022-01-03T13:49:22.332Z"
   },
   {
    "duration": 153,
    "start_time": "2022-01-03T13:49:30.532Z"
   },
   {
    "duration": 25,
    "start_time": "2022-01-03T13:49:35.788Z"
   },
   {
    "duration": 24,
    "start_time": "2022-01-03T13:51:19.655Z"
   },
   {
    "duration": 25,
    "start_time": "2022-01-03T13:53:01.630Z"
   },
   {
    "duration": 15,
    "start_time": "2022-01-03T13:56:03.819Z"
   },
   {
    "duration": 15,
    "start_time": "2022-01-03T13:56:35.890Z"
   },
   {
    "duration": 15,
    "start_time": "2022-01-03T13:56:44.101Z"
   },
   {
    "duration": 15,
    "start_time": "2022-01-03T13:56:48.762Z"
   },
   {
    "duration": 18,
    "start_time": "2022-01-03T13:58:41.106Z"
   },
   {
    "duration": 17,
    "start_time": "2022-01-03T13:59:02.752Z"
   },
   {
    "duration": 17,
    "start_time": "2022-01-03T13:59:07.944Z"
   },
   {
    "duration": 16,
    "start_time": "2022-01-03T13:59:13.488Z"
   },
   {
    "duration": 16,
    "start_time": "2022-01-03T13:59:20.148Z"
   },
   {
    "duration": 18,
    "start_time": "2022-01-03T13:59:26.282Z"
   },
   {
    "duration": 22,
    "start_time": "2022-01-03T13:59:48.024Z"
   },
   {
    "duration": 16,
    "start_time": "2022-01-03T13:59:57.008Z"
   },
   {
    "duration": 21,
    "start_time": "2022-01-03T14:02:04.632Z"
   },
   {
    "duration": 26,
    "start_time": "2022-01-03T14:02:45.184Z"
   },
   {
    "duration": 15,
    "start_time": "2022-01-03T14:02:53.760Z"
   },
   {
    "duration": 16,
    "start_time": "2022-01-03T14:02:57.344Z"
   },
   {
    "duration": 3,
    "start_time": "2022-01-03T15:12:08.029Z"
   },
   {
    "duration": 195,
    "start_time": "2022-01-03T15:12:08.034Z"
   },
   {
    "duration": 24,
    "start_time": "2022-01-03T15:12:08.231Z"
   },
   {
    "duration": 11,
    "start_time": "2022-01-03T15:12:08.257Z"
   },
   {
    "duration": 79,
    "start_time": "2022-01-03T15:12:08.270Z"
   },
   {
    "duration": 8,
    "start_time": "2022-01-03T15:12:08.351Z"
   },
   {
    "duration": 6,
    "start_time": "2022-01-03T15:12:08.360Z"
   },
   {
    "duration": 4,
    "start_time": "2022-01-03T15:12:08.368Z"
   },
   {
    "duration": 5,
    "start_time": "2022-01-03T15:12:08.375Z"
   },
   {
    "duration": 11,
    "start_time": "2022-01-03T15:12:08.382Z"
   },
   {
    "duration": 34268,
    "start_time": "2022-01-03T15:12:08.394Z"
   },
   {
    "duration": 4,
    "start_time": "2022-01-03T15:12:42.664Z"
   },
   {
    "duration": 8,
    "start_time": "2022-01-03T15:12:42.669Z"
   },
   {
    "duration": 12,
    "start_time": "2022-01-03T15:12:42.678Z"
   },
   {
    "duration": 7,
    "start_time": "2022-01-03T15:12:42.692Z"
   },
   {
    "duration": 60,
    "start_time": "2022-01-03T15:12:42.701Z"
   },
   {
    "duration": 4,
    "start_time": "2022-01-03T15:12:42.762Z"
   },
   {
    "duration": 11,
    "start_time": "2022-01-03T15:12:42.767Z"
   },
   {
    "duration": 9,
    "start_time": "2022-01-03T15:12:42.780Z"
   },
   {
    "duration": 482,
    "start_time": "2022-01-03T15:12:42.790Z"
   },
   {
    "duration": 4,
    "start_time": "2022-01-03T15:12:43.274Z"
   },
   {
    "duration": 6,
    "start_time": "2022-01-03T15:12:43.280Z"
   },
   {
    "duration": 7,
    "start_time": "2022-01-03T15:12:43.288Z"
   },
   {
    "duration": 4,
    "start_time": "2022-01-03T15:12:43.296Z"
   },
   {
    "duration": 9,
    "start_time": "2022-01-03T15:12:43.302Z"
   },
   {
    "duration": 3,
    "start_time": "2022-01-03T15:12:43.313Z"
   },
   {
    "duration": 15,
    "start_time": "2022-01-03T15:12:43.340Z"
   },
   {
    "duration": 8,
    "start_time": "2022-01-03T15:12:43.357Z"
   },
   {
    "duration": 11,
    "start_time": "2022-01-03T15:12:43.367Z"
   },
   {
    "duration": 11,
    "start_time": "2022-01-03T15:12:43.380Z"
   },
   {
    "duration": 33,
    "start_time": "2022-01-03T15:12:43.392Z"
   },
   {
    "duration": 6,
    "start_time": "2022-01-03T15:12:43.426Z"
   },
   {
    "duration": 41,
    "start_time": "2022-01-03T15:12:43.441Z"
   },
   {
    "duration": 3,
    "start_time": "2022-01-03T15:12:43.484Z"
   },
   {
    "duration": 18,
    "start_time": "2022-01-03T15:12:43.488Z"
   },
   {
    "duration": 454,
    "start_time": "2022-01-03T15:12:43.507Z"
   },
   {
    "duration": 5,
    "start_time": "2022-01-03T15:12:43.962Z"
   },
   {
    "duration": 28,
    "start_time": "2022-01-03T15:12:43.968Z"
   },
   {
    "duration": 205,
    "start_time": "2022-01-03T15:12:43.997Z"
   },
   {
    "duration": 130,
    "start_time": "2022-01-03T15:12:44.204Z"
   },
   {
    "duration": 9,
    "start_time": "2022-01-03T15:12:44.340Z"
   },
   {
    "duration": 190,
    "start_time": "2022-01-03T15:12:44.351Z"
   },
   {
    "duration": 128,
    "start_time": "2022-01-03T15:12:44.542Z"
   },
   {
    "duration": 9,
    "start_time": "2022-01-03T15:12:44.672Z"
   },
   {
    "duration": 212,
    "start_time": "2022-01-03T15:12:44.682Z"
   },
   {
    "duration": 148,
    "start_time": "2022-01-03T15:12:44.895Z"
   },
   {
    "duration": 8,
    "start_time": "2022-01-03T15:12:45.045Z"
   },
   {
    "duration": 326,
    "start_time": "2022-01-03T15:12:45.055Z"
   },
   {
    "duration": 146,
    "start_time": "2022-01-03T15:12:45.383Z"
   },
   {
    "duration": 15,
    "start_time": "2022-01-03T15:12:45.530Z"
   },
   {
    "duration": 196,
    "start_time": "2022-01-03T15:12:45.547Z"
   },
   {
    "duration": 23,
    "start_time": "2022-01-03T15:12:45.745Z"
   },
   {
    "duration": 280,
    "start_time": "2022-01-03T15:12:45.770Z"
   },
   {
    "duration": 15,
    "start_time": "2022-01-03T15:12:46.052Z"
   },
   {
    "duration": 17,
    "start_time": "2022-01-03T15:12:46.068Z"
   },
   {
    "duration": 2686,
    "start_time": "2022-01-03T15:12:46.086Z"
   },
   {
    "duration": 486,
    "start_time": "2022-01-03T15:12:48.773Z"
   },
   {
    "duration": 1875,
    "start_time": "2022-01-03T15:12:49.261Z"
   },
   {
    "duration": 10,
    "start_time": "2022-01-03T15:12:51.141Z"
   },
   {
    "duration": 6160,
    "start_time": "2022-01-03T15:12:51.153Z"
   },
   {
    "duration": 7,
    "start_time": "2022-01-03T15:12:57.315Z"
   },
   {
    "duration": 53,
    "start_time": "2022-01-03T15:12:57.324Z"
   },
   {
    "duration": 7,
    "start_time": "2022-01-03T15:12:57.378Z"
   },
   {
    "duration": 13,
    "start_time": "2022-01-03T15:12:57.387Z"
   },
   {
    "duration": 8,
    "start_time": "2022-01-03T15:12:57.402Z"
   },
   {
    "duration": 151,
    "start_time": "2022-01-03T15:12:57.441Z"
   },
   {
    "duration": 26,
    "start_time": "2022-01-03T15:12:57.594Z"
   },
   {
    "duration": 37,
    "start_time": "2022-01-03T15:12:57.622Z"
   },
   {
    "duration": 15,
    "start_time": "2022-01-03T15:12:57.661Z"
   },
   {
    "duration": 16,
    "start_time": "2022-01-03T15:12:57.678Z"
   },
   {
    "duration": 423,
    "start_time": "2022-01-04T15:21:14.309Z"
   },
   {
    "duration": 1681,
    "start_time": "2022-01-04T15:21:26.766Z"
   },
   {
    "duration": 298,
    "start_time": "2022-01-04T15:21:28.458Z"
   },
   {
    "duration": 46,
    "start_time": "2022-01-04T15:21:28.759Z"
   },
   {
    "duration": 15,
    "start_time": "2022-01-04T15:21:28.808Z"
   },
   {
    "duration": 163,
    "start_time": "2022-01-04T15:21:28.826Z"
   },
   {
    "duration": 13,
    "start_time": "2022-01-04T15:21:28.991Z"
   },
   {
    "duration": 8,
    "start_time": "2022-01-04T15:21:29.006Z"
   },
   {
    "duration": 41,
    "start_time": "2022-01-04T15:21:29.018Z"
   },
   {
    "duration": 8,
    "start_time": "2022-01-04T15:21:29.063Z"
   },
   {
    "duration": 24,
    "start_time": "2022-01-04T15:21:29.073Z"
   },
   {
    "duration": 55750,
    "start_time": "2022-01-04T15:21:29.099Z"
   },
   {
    "duration": 12,
    "start_time": "2022-01-04T15:22:24.852Z"
   },
   {
    "duration": 9,
    "start_time": "2022-01-04T15:22:24.867Z"
   },
   {
    "duration": 12,
    "start_time": "2022-01-04T15:22:24.879Z"
   },
   {
    "duration": 9,
    "start_time": "2022-01-04T15:22:24.893Z"
   },
   {
    "duration": 122,
    "start_time": "2022-01-04T15:22:24.904Z"
   },
   {
    "duration": 5,
    "start_time": "2022-01-04T15:22:25.028Z"
   },
   {
    "duration": 27,
    "start_time": "2022-01-04T15:22:25.035Z"
   },
   {
    "duration": 8,
    "start_time": "2022-01-04T15:22:25.065Z"
   },
   {
    "duration": 905,
    "start_time": "2022-01-04T15:22:25.075Z"
   },
   {
    "duration": 7,
    "start_time": "2022-01-04T15:22:25.983Z"
   },
   {
    "duration": 12,
    "start_time": "2022-01-04T15:22:25.992Z"
   },
   {
    "duration": 9,
    "start_time": "2022-01-04T15:22:26.011Z"
   },
   {
    "duration": 38,
    "start_time": "2022-01-04T15:22:26.025Z"
   },
   {
    "duration": 10,
    "start_time": "2022-01-04T15:22:26.065Z"
   },
   {
    "duration": 12,
    "start_time": "2022-01-04T15:22:26.077Z"
   },
   {
    "duration": 24,
    "start_time": "2022-01-04T15:22:26.092Z"
   },
   {
    "duration": 44,
    "start_time": "2022-01-04T15:22:26.119Z"
   },
   {
    "duration": 7,
    "start_time": "2022-01-04T15:22:26.166Z"
   },
   {
    "duration": 13,
    "start_time": "2022-01-04T15:22:26.175Z"
   },
   {
    "duration": 72,
    "start_time": "2022-01-04T15:22:26.190Z"
   },
   {
    "duration": 9,
    "start_time": "2022-01-04T15:22:26.264Z"
   },
   {
    "duration": 93,
    "start_time": "2022-01-04T15:22:26.276Z"
   },
   {
    "duration": 6,
    "start_time": "2022-01-04T15:22:26.372Z"
   },
   {
    "duration": 20,
    "start_time": "2022-01-04T15:22:26.381Z"
   },
   {
    "duration": 822,
    "start_time": "2022-01-04T15:22:26.404Z"
   },
   {
    "duration": 9,
    "start_time": "2022-01-04T15:22:27.229Z"
   },
   {
    "duration": 51,
    "start_time": "2022-01-04T15:22:27.241Z"
   },
   {
    "duration": 376,
    "start_time": "2022-01-04T15:22:27.296Z"
   },
   {
    "duration": 241,
    "start_time": "2022-01-04T15:22:27.675Z"
   },
   {
    "duration": 11,
    "start_time": "2022-01-04T15:22:27.919Z"
   },
   {
    "duration": 340,
    "start_time": "2022-01-04T15:22:27.933Z"
   },
   {
    "duration": 302,
    "start_time": "2022-01-04T15:22:28.275Z"
   },
   {
    "duration": 11,
    "start_time": "2022-01-04T15:22:28.579Z"
   },
   {
    "duration": 352,
    "start_time": "2022-01-04T15:22:28.592Z"
   },
   {
    "duration": 249,
    "start_time": "2022-01-04T15:22:28.946Z"
   },
   {
    "duration": 11,
    "start_time": "2022-01-04T15:22:29.197Z"
   },
   {
    "duration": 526,
    "start_time": "2022-01-04T15:22:29.211Z"
   },
   {
    "duration": 234,
    "start_time": "2022-01-04T15:22:29.739Z"
   },
   {
    "duration": 11,
    "start_time": "2022-01-04T15:22:29.976Z"
   },
   {
    "duration": 307,
    "start_time": "2022-01-04T15:22:29.989Z"
   },
   {
    "duration": 25,
    "start_time": "2022-01-04T15:22:30.300Z"
   },
   {
    "duration": 536,
    "start_time": "2022-01-04T15:22:30.327Z"
   },
   {
    "duration": 27,
    "start_time": "2022-01-04T15:22:30.865Z"
   },
   {
    "duration": 24,
    "start_time": "2022-01-04T15:22:30.895Z"
   },
   {
    "duration": 4566,
    "start_time": "2022-01-04T15:22:30.922Z"
   },
   {
    "duration": 800,
    "start_time": "2022-01-04T15:22:35.490Z"
   },
   {
    "duration": 3084,
    "start_time": "2022-01-04T15:22:36.293Z"
   },
   {
    "duration": 15,
    "start_time": "2022-01-04T15:22:39.380Z"
   },
   {
    "duration": 8124,
    "start_time": "2022-01-04T15:22:39.397Z"
   },
   {
    "duration": 10,
    "start_time": "2022-01-04T15:22:47.524Z"
   },
   {
    "duration": 90,
    "start_time": "2022-01-04T15:22:47.537Z"
   },
   {
    "duration": 30,
    "start_time": "2022-01-04T15:22:47.630Z"
   },
   {
    "duration": 21,
    "start_time": "2022-01-04T15:22:47.663Z"
   },
   {
    "duration": 10,
    "start_time": "2022-01-04T15:22:47.686Z"
   },
   {
    "duration": 301,
    "start_time": "2022-01-04T15:22:47.698Z"
   },
   {
    "duration": 39,
    "start_time": "2022-01-04T15:22:48.001Z"
   },
   {
    "duration": 33,
    "start_time": "2022-01-04T15:22:48.062Z"
   },
   {
    "duration": 24,
    "start_time": "2022-01-04T15:22:48.098Z"
   },
   {
    "duration": 56,
    "start_time": "2022-01-04T15:22:48.125Z"
   },
   {
    "duration": 399,
    "start_time": "2022-01-04T15:33:54.065Z"
   },
   {
    "duration": 649,
    "start_time": "2022-01-04T15:34:13.135Z"
   },
   {
    "duration": 2243,
    "start_time": "2022-01-04T15:35:09.800Z"
   },
   {
    "duration": 437,
    "start_time": "2022-01-04T15:38:28.473Z"
   },
   {
    "duration": 751,
    "start_time": "2022-01-04T15:38:56.176Z"
   },
   {
    "duration": 433352,
    "start_time": "2022-01-04T15:39:10.425Z"
   },
   {
    "duration": 385,
    "start_time": "2022-01-04T15:47:35.101Z"
   },
   {
    "duration": 388,
    "start_time": "2022-01-04T15:48:34.988Z"
   },
   {
    "duration": 1716,
    "start_time": "2022-01-04T15:54:30.098Z"
   },
   {
    "duration": 519,
    "start_time": "2022-01-04T15:54:31.817Z"
   },
   {
    "duration": 45,
    "start_time": "2022-01-04T15:54:32.338Z"
   },
   {
    "duration": 14,
    "start_time": "2022-01-04T15:54:32.386Z"
   },
   {
    "duration": 128,
    "start_time": "2022-01-04T15:54:32.403Z"
   },
   {
    "duration": 11,
    "start_time": "2022-01-04T15:54:32.534Z"
   },
   {
    "duration": 9,
    "start_time": "2022-01-04T15:54:32.559Z"
   },
   {
    "duration": 6,
    "start_time": "2022-01-04T15:54:32.574Z"
   },
   {
    "duration": 8,
    "start_time": "2022-01-04T15:54:32.583Z"
   },
   {
    "duration": 33,
    "start_time": "2022-01-04T15:54:32.593Z"
   },
   {
    "duration": 55112,
    "start_time": "2022-01-04T15:54:32.628Z"
   },
   {
    "duration": 6,
    "start_time": "2022-01-04T15:55:27.742Z"
   },
   {
    "duration": 12,
    "start_time": "2022-01-04T15:55:27.750Z"
   },
   {
    "duration": 11,
    "start_time": "2022-01-04T15:55:27.764Z"
   },
   {
    "duration": 11,
    "start_time": "2022-01-04T15:55:27.779Z"
   },
   {
    "duration": 115,
    "start_time": "2022-01-04T15:55:27.792Z"
   },
   {
    "duration": 5,
    "start_time": "2022-01-04T15:55:27.909Z"
   },
   {
    "duration": 7,
    "start_time": "2022-01-04T15:55:27.916Z"
   },
   {
    "duration": 34,
    "start_time": "2022-01-04T15:55:27.926Z"
   },
   {
    "duration": 907,
    "start_time": "2022-01-04T15:55:27.963Z"
   },
   {
    "duration": 5,
    "start_time": "2022-01-04T15:55:28.872Z"
   },
   {
    "duration": 9,
    "start_time": "2022-01-04T15:55:28.879Z"
   },
   {
    "duration": 5,
    "start_time": "2022-01-04T15:55:28.894Z"
   },
   {
    "duration": 4,
    "start_time": "2022-01-04T15:55:28.902Z"
   },
   {
    "duration": 10,
    "start_time": "2022-01-04T15:55:28.909Z"
   },
   {
    "duration": 5,
    "start_time": "2022-01-04T15:55:28.960Z"
   },
   {
    "duration": 25,
    "start_time": "2022-01-04T15:55:28.968Z"
   },
   {
    "duration": 11,
    "start_time": "2022-01-04T15:55:28.995Z"
   },
   {
    "duration": 8,
    "start_time": "2022-01-04T15:55:29.008Z"
   },
   {
    "duration": 43,
    "start_time": "2022-01-04T15:55:29.018Z"
   },
   {
    "duration": 45,
    "start_time": "2022-01-04T15:55:29.063Z"
   },
   {
    "duration": 9,
    "start_time": "2022-01-04T15:55:29.110Z"
   },
   {
    "duration": 102,
    "start_time": "2022-01-04T15:55:29.122Z"
   },
   {
    "duration": 7,
    "start_time": "2022-01-04T15:55:29.227Z"
   },
   {
    "duration": 21,
    "start_time": "2022-01-04T15:55:29.261Z"
   },
   {
    "duration": 787,
    "start_time": "2022-01-04T15:55:29.284Z"
   },
   {
    "duration": 8,
    "start_time": "2022-01-04T15:55:30.074Z"
   },
   {
    "duration": 39,
    "start_time": "2022-01-04T15:55:30.084Z"
   },
   {
    "duration": 443,
    "start_time": "2022-01-04T15:55:30.125Z"
   },
   {
    "duration": 269,
    "start_time": "2022-01-04T15:55:30.571Z"
   },
   {
    "duration": 20,
    "start_time": "2022-01-04T15:55:30.843Z"
   },
   {
    "duration": 348,
    "start_time": "2022-01-04T15:55:30.865Z"
   },
   {
    "duration": 312,
    "start_time": "2022-01-04T15:55:31.215Z"
   },
   {
    "duration": 11,
    "start_time": "2022-01-04T15:55:31.530Z"
   },
   {
    "duration": 356,
    "start_time": "2022-01-04T15:55:31.559Z"
   },
   {
    "duration": 245,
    "start_time": "2022-01-04T15:55:31.918Z"
   },
   {
    "duration": 11,
    "start_time": "2022-01-04T15:55:32.166Z"
   },
   {
    "duration": 538,
    "start_time": "2022-01-04T15:55:32.180Z"
   },
   {
    "duration": 241,
    "start_time": "2022-01-04T15:55:32.721Z"
   },
   {
    "duration": 12,
    "start_time": "2022-01-04T15:55:32.964Z"
   },
   {
    "duration": 297,
    "start_time": "2022-01-04T15:55:32.978Z"
   },
   {
    "duration": 25,
    "start_time": "2022-01-04T15:55:33.277Z"
   },
   {
    "duration": 490,
    "start_time": "2022-01-04T15:55:33.304Z"
   },
   {
    "duration": 22,
    "start_time": "2022-01-04T15:55:33.797Z"
   },
   {
    "duration": 48,
    "start_time": "2022-01-04T15:55:33.821Z"
   },
   {
    "duration": 4863,
    "start_time": "2022-01-04T15:55:33.871Z"
   },
   {
    "duration": 785,
    "start_time": "2022-01-04T15:55:38.736Z"
   },
   {
    "duration": 2740,
    "start_time": "2022-01-04T15:55:39.523Z"
   },
   {
    "duration": 411,
    "start_time": "2022-01-04T15:55:42.266Z"
   },
   {
    "duration": 15,
    "start_time": "2022-01-04T15:55:42.680Z"
   },
   {
    "duration": 9162,
    "start_time": "2022-01-04T15:55:42.697Z"
   },
   {
    "duration": 10,
    "start_time": "2022-01-04T15:55:51.861Z"
   },
   {
    "duration": 197,
    "start_time": "2022-01-04T15:55:51.874Z"
   },
   {
    "duration": 10,
    "start_time": "2022-01-04T15:55:52.074Z"
   },
   {
    "duration": 28,
    "start_time": "2022-01-04T15:55:52.087Z"
   },
   {
    "duration": 11,
    "start_time": "2022-01-04T15:55:52.117Z"
   },
   {
    "duration": 301,
    "start_time": "2022-01-04T15:55:52.130Z"
   },
   {
    "duration": 50,
    "start_time": "2022-01-04T15:55:52.438Z"
   },
   {
    "duration": 32,
    "start_time": "2022-01-04T15:55:52.490Z"
   },
   {
    "duration": 44,
    "start_time": "2022-01-04T15:55:52.525Z"
   },
   {
    "duration": 28,
    "start_time": "2022-01-04T15:55:52.571Z"
   },
   {
    "duration": 2781,
    "start_time": "2022-01-04T15:56:57.599Z"
   },
   {
    "duration": 832,
    "start_time": "2022-01-04T15:57:23.559Z"
   },
   {
    "duration": 676,
    "start_time": "2022-01-04T15:57:41.897Z"
   },
   {
    "duration": 622,
    "start_time": "2022-01-04T15:58:09.537Z"
   },
   {
    "duration": 371,
    "start_time": "2022-01-04T15:58:20.105Z"
   },
   {
    "duration": 454993,
    "start_time": "2022-01-04T16:01:16.905Z"
   },
   {
    "duration": 369,
    "start_time": "2022-01-04T16:09:25.502Z"
   },
   {
    "duration": 982,
    "start_time": "2022-01-04T16:10:04.627Z"
   },
   {
    "duration": 123,
    "start_time": "2022-01-04T16:10:54.084Z"
   },
   {
    "duration": 2328,
    "start_time": "2022-01-04T16:10:59.834Z"
   },
   {
    "duration": 646,
    "start_time": "2022-01-04T16:11:25.959Z"
   },
   {
    "duration": 2151,
    "start_time": "2022-01-04T16:13:28.011Z"
   },
   {
    "duration": 11,
    "start_time": "2022-01-04T16:18:00.982Z"
   },
   {
    "duration": 15,
    "start_time": "2022-01-04T16:18:15.721Z"
   },
   {
    "duration": 12,
    "start_time": "2022-01-04T16:18:27.144Z"
   },
   {
    "duration": 11,
    "start_time": "2022-01-04T16:18:53.537Z"
   },
   {
    "duration": 11,
    "start_time": "2022-01-04T16:19:05.977Z"
   },
   {
    "duration": 11,
    "start_time": "2022-01-04T16:19:32.000Z"
   },
   {
    "duration": 15,
    "start_time": "2022-01-04T16:19:44.953Z"
   },
   {
    "duration": 512,
    "start_time": "2022-01-04T16:20:19.969Z"
   },
   {
    "duration": 250,
    "start_time": "2022-01-04T16:20:34.577Z"
   },
   {
    "duration": 234,
    "start_time": "2022-01-04T16:21:38.425Z"
   },
   {
    "duration": 215,
    "start_time": "2022-01-04T16:21:58.327Z"
   },
   {
    "duration": 10,
    "start_time": "2022-01-04T16:32:38.375Z"
   },
   {
    "duration": 9,
    "start_time": "2022-01-04T16:32:49.619Z"
   },
   {
    "duration": 11,
    "start_time": "2022-01-04T16:34:35.171Z"
   },
   {
    "duration": 10,
    "start_time": "2022-01-04T16:35:04.562Z"
   },
   {
    "duration": 10,
    "start_time": "2022-01-04T16:35:31.602Z"
   },
   {
    "duration": 253,
    "start_time": "2022-01-04T16:36:16.851Z"
   },
   {
    "duration": 373,
    "start_time": "2022-01-04T16:36:24.451Z"
   },
   {
    "duration": 228,
    "start_time": "2022-01-04T16:36:32.867Z"
   },
   {
    "duration": 289,
    "start_time": "2022-01-04T16:39:32.999Z"
   },
   {
    "duration": 275,
    "start_time": "2022-01-04T16:39:49.595Z"
   },
   {
    "duration": 295,
    "start_time": "2022-01-04T16:39:57.153Z"
   },
   {
    "duration": 241,
    "start_time": "2022-01-04T16:40:15.082Z"
   },
   {
    "duration": 257,
    "start_time": "2022-01-04T16:40:31.145Z"
   },
   {
    "duration": 13,
    "start_time": "2022-01-04T16:41:09.497Z"
   },
   {
    "duration": 263,
    "start_time": "2022-01-04T16:41:23.303Z"
   },
   {
    "duration": 9,
    "start_time": "2022-01-04T16:50:18.252Z"
   },
   {
    "duration": 8,
    "start_time": "2022-01-04T16:50:46.287Z"
   },
   {
    "duration": 8,
    "start_time": "2022-01-04T16:52:02.087Z"
   },
   {
    "duration": 9,
    "start_time": "2022-01-04T16:52:52.667Z"
   },
   {
    "duration": 10,
    "start_time": "2022-01-04T16:53:44.043Z"
   },
   {
    "duration": 8,
    "start_time": "2022-01-04T16:54:02.234Z"
   },
   {
    "duration": 8,
    "start_time": "2022-01-04T16:54:07.795Z"
   },
   {
    "duration": 9,
    "start_time": "2022-01-04T16:59:00.377Z"
   },
   {
    "duration": 253,
    "start_time": "2022-01-04T16:59:09.696Z"
   },
   {
    "duration": 282,
    "start_time": "2022-01-04T17:57:10.731Z"
   },
   {
    "duration": 282,
    "start_time": "2022-01-04T17:59:49.130Z"
   },
   {
    "duration": 285,
    "start_time": "2022-01-04T18:00:12.912Z"
   },
   {
    "duration": 272,
    "start_time": "2022-01-04T18:00:50.048Z"
   },
   {
    "duration": 137,
    "start_time": "2022-01-04T18:12:36.945Z"
   },
   {
    "duration": 154,
    "start_time": "2022-01-04T21:50:28.656Z"
   },
   {
    "duration": 674,
    "start_time": "2022-01-04T21:50:32.622Z"
   },
   {
    "duration": 374,
    "start_time": "2022-01-04T21:51:05.399Z"
   },
   {
    "duration": 385,
    "start_time": "2022-01-04T21:51:57.694Z"
   },
   {
    "duration": 427,
    "start_time": "2022-01-04T21:52:40.188Z"
   },
   {
    "duration": 361,
    "start_time": "2022-01-04T21:54:43.644Z"
   },
   {
    "duration": 548,
    "start_time": "2022-01-04T21:55:07.314Z"
   },
   {
    "duration": 461,
    "start_time": "2022-01-04T21:55:41.418Z"
   },
   {
    "duration": 391,
    "start_time": "2022-01-04T21:57:53.244Z"
   },
   {
    "duration": 381,
    "start_time": "2022-01-04T21:58:16.437Z"
   },
   {
    "duration": 360,
    "start_time": "2022-01-04T22:01:04.928Z"
   },
   {
    "duration": 5160,
    "start_time": "2022-01-04T22:01:17.130Z"
   },
   {
    "duration": 5205,
    "start_time": "2022-01-04T22:02:07.058Z"
   },
   {
    "duration": 399951,
    "start_time": "2022-01-04T21:59:52.378Z"
   },
   {
    "duration": 11120,
    "start_time": "2022-01-04T22:07:06.016Z"
   },
   {
    "duration": 4973,
    "start_time": "2022-01-04T22:08:05.998Z"
   },
   {
    "duration": 7,
    "start_time": "2022-01-05T07:03:14.662Z"
   }
  ],
  "kernelspec": {
   "display_name": "Python 3 (ipykernel)",
   "language": "python",
   "name": "python3"
  },
  "language_info": {
   "codemirror_mode": {
    "name": "ipython",
    "version": 3
   },
   "file_extension": ".py",
   "mimetype": "text/x-python",
   "name": "python",
   "nbconvert_exporter": "python",
   "pygments_lexer": "ipython3",
   "version": "3.9.7"
  },
  "toc": {
   "base_numbering": 1,
   "nav_menu": {},
   "number_sections": true,
   "sideBar": true,
   "skip_h1_title": true,
   "title_cell": "Содержание",
   "title_sidebar": "Contents",
   "toc_cell": true,
   "toc_position": {
    "height": "calc(100% - 180px)",
    "left": "10px",
    "top": "150px",
    "width": "217.391px"
   },
   "toc_section_display": true,
   "toc_window_display": true
  }
 },
 "nbformat": 4,
 "nbformat_minor": 2
}
