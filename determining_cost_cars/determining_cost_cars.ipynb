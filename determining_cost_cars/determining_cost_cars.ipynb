{
 "cells": [
  {
   "cell_type": "markdown",
   "metadata": {},
   "source": [
    "# Определение стоимости автомобилей"
   ]
  },
  {
   "cell_type": "markdown",
   "metadata": {},
   "source": [
    "## Подготовка данных"
   ]
  },
  {
   "cell_type": "code",
   "execution_count": 1,
   "metadata": {},
   "outputs": [],
   "source": [
    "# импорт библиотек\n",
    "import pandas as pd\n",
    "import matplotlib.pyplot as plt\n",
    "import seaborn as sns\n",
    "\n",
    "from sklearn.model_selection import train_test_split, cross_val_score, GridSearchCV\n",
    "from sklearn.linear_model import LinearRegression\n",
    "from sklearn.tree import DecisionTreeRegressor\n",
    "from sklearn.ensemble import RandomForestRegressor\n",
    "from sklearn.metrics import mean_squared_error\n",
    "from catboost import CatBoostRegressor\n",
    "from lightgbm import LGBMRegressor\n",
    "\n",
    "import warnings\n",
    "warnings.filterwarnings('ignore')"
   ]
  },
  {
   "cell_type": "code",
   "execution_count": 2,
   "metadata": {},
   "outputs": [],
   "source": [
    "# чтение файла с данными и сохранение в df с использованием конструкции try-except\n",
    "try:\n",
    "    df = pd.read_csv('C:/Users/datasets/autos.csv') # локальный путь\n",
    "except:\n",
    "    df = pd.read_csv('//datasets/autos.csv') # серверный путь"
   ]
  },
  {
   "cell_type": "code",
   "execution_count": 3,
   "metadata": {},
   "outputs": [
    {
     "data": {
      "text/html": [
       "<div>\n",
       "<style scoped>\n",
       "    .dataframe tbody tr th:only-of-type {\n",
       "        vertical-align: middle;\n",
       "    }\n",
       "\n",
       "    .dataframe tbody tr th {\n",
       "        vertical-align: top;\n",
       "    }\n",
       "\n",
       "    .dataframe thead th {\n",
       "        text-align: right;\n",
       "    }\n",
       "</style>\n",
       "<table border=\"1\" class=\"dataframe\">\n",
       "  <thead>\n",
       "    <tr style=\"text-align: right;\">\n",
       "      <th></th>\n",
       "      <th>DateCrawled</th>\n",
       "      <th>Price</th>\n",
       "      <th>VehicleType</th>\n",
       "      <th>RegistrationYear</th>\n",
       "      <th>Gearbox</th>\n",
       "      <th>Power</th>\n",
       "      <th>Model</th>\n",
       "      <th>Kilometer</th>\n",
       "      <th>RegistrationMonth</th>\n",
       "      <th>FuelType</th>\n",
       "      <th>Brand</th>\n",
       "      <th>NotRepaired</th>\n",
       "      <th>DateCreated</th>\n",
       "      <th>NumberOfPictures</th>\n",
       "      <th>PostalCode</th>\n",
       "      <th>LastSeen</th>\n",
       "    </tr>\n",
       "  </thead>\n",
       "  <tbody>\n",
       "    <tr>\n",
       "      <th>0</th>\n",
       "      <td>2016-03-24 11:52:17</td>\n",
       "      <td>480</td>\n",
       "      <td>NaN</td>\n",
       "      <td>1993</td>\n",
       "      <td>manual</td>\n",
       "      <td>0</td>\n",
       "      <td>golf</td>\n",
       "      <td>150000</td>\n",
       "      <td>0</td>\n",
       "      <td>petrol</td>\n",
       "      <td>volkswagen</td>\n",
       "      <td>NaN</td>\n",
       "      <td>2016-03-24 00:00:00</td>\n",
       "      <td>0</td>\n",
       "      <td>70435</td>\n",
       "      <td>2016-04-07 03:16:57</td>\n",
       "    </tr>\n",
       "    <tr>\n",
       "      <th>1</th>\n",
       "      <td>2016-03-24 10:58:45</td>\n",
       "      <td>18300</td>\n",
       "      <td>coupe</td>\n",
       "      <td>2011</td>\n",
       "      <td>manual</td>\n",
       "      <td>190</td>\n",
       "      <td>NaN</td>\n",
       "      <td>125000</td>\n",
       "      <td>5</td>\n",
       "      <td>gasoline</td>\n",
       "      <td>audi</td>\n",
       "      <td>yes</td>\n",
       "      <td>2016-03-24 00:00:00</td>\n",
       "      <td>0</td>\n",
       "      <td>66954</td>\n",
       "      <td>2016-04-07 01:46:50</td>\n",
       "    </tr>\n",
       "    <tr>\n",
       "      <th>2</th>\n",
       "      <td>2016-03-14 12:52:21</td>\n",
       "      <td>9800</td>\n",
       "      <td>suv</td>\n",
       "      <td>2004</td>\n",
       "      <td>auto</td>\n",
       "      <td>163</td>\n",
       "      <td>grand</td>\n",
       "      <td>125000</td>\n",
       "      <td>8</td>\n",
       "      <td>gasoline</td>\n",
       "      <td>jeep</td>\n",
       "      <td>NaN</td>\n",
       "      <td>2016-03-14 00:00:00</td>\n",
       "      <td>0</td>\n",
       "      <td>90480</td>\n",
       "      <td>2016-04-05 12:47:46</td>\n",
       "    </tr>\n",
       "    <tr>\n",
       "      <th>3</th>\n",
       "      <td>2016-03-17 16:54:04</td>\n",
       "      <td>1500</td>\n",
       "      <td>small</td>\n",
       "      <td>2001</td>\n",
       "      <td>manual</td>\n",
       "      <td>75</td>\n",
       "      <td>golf</td>\n",
       "      <td>150000</td>\n",
       "      <td>6</td>\n",
       "      <td>petrol</td>\n",
       "      <td>volkswagen</td>\n",
       "      <td>no</td>\n",
       "      <td>2016-03-17 00:00:00</td>\n",
       "      <td>0</td>\n",
       "      <td>91074</td>\n",
       "      <td>2016-03-17 17:40:17</td>\n",
       "    </tr>\n",
       "    <tr>\n",
       "      <th>4</th>\n",
       "      <td>2016-03-31 17:25:20</td>\n",
       "      <td>3600</td>\n",
       "      <td>small</td>\n",
       "      <td>2008</td>\n",
       "      <td>manual</td>\n",
       "      <td>69</td>\n",
       "      <td>fabia</td>\n",
       "      <td>90000</td>\n",
       "      <td>7</td>\n",
       "      <td>gasoline</td>\n",
       "      <td>skoda</td>\n",
       "      <td>no</td>\n",
       "      <td>2016-03-31 00:00:00</td>\n",
       "      <td>0</td>\n",
       "      <td>60437</td>\n",
       "      <td>2016-04-06 10:17:21</td>\n",
       "    </tr>\n",
       "  </tbody>\n",
       "</table>\n",
       "</div>"
      ],
      "text/plain": [
       "           DateCrawled  Price VehicleType  RegistrationYear Gearbox  Power  \\\n",
       "0  2016-03-24 11:52:17    480         NaN              1993  manual      0   \n",
       "1  2016-03-24 10:58:45  18300       coupe              2011  manual    190   \n",
       "2  2016-03-14 12:52:21   9800         suv              2004    auto    163   \n",
       "3  2016-03-17 16:54:04   1500       small              2001  manual     75   \n",
       "4  2016-03-31 17:25:20   3600       small              2008  manual     69   \n",
       "\n",
       "   Model  Kilometer  RegistrationMonth  FuelType       Brand NotRepaired  \\\n",
       "0   golf     150000                  0    petrol  volkswagen         NaN   \n",
       "1    NaN     125000                  5  gasoline        audi         yes   \n",
       "2  grand     125000                  8  gasoline        jeep         NaN   \n",
       "3   golf     150000                  6    petrol  volkswagen          no   \n",
       "4  fabia      90000                  7  gasoline       skoda          no   \n",
       "\n",
       "           DateCreated  NumberOfPictures  PostalCode             LastSeen  \n",
       "0  2016-03-24 00:00:00                 0       70435  2016-04-07 03:16:57  \n",
       "1  2016-03-24 00:00:00                 0       66954  2016-04-07 01:46:50  \n",
       "2  2016-03-14 00:00:00                 0       90480  2016-04-05 12:47:46  \n",
       "3  2016-03-17 00:00:00                 0       91074  2016-03-17 17:40:17  \n",
       "4  2016-03-31 00:00:00                 0       60437  2016-04-06 10:17:21  "
      ]
     },
     "execution_count": 3,
     "metadata": {},
     "output_type": "execute_result"
    }
   ],
   "source": [
    "# просмотр первых пяти строк \n",
    "df.head()"
   ]
  },
  {
   "cell_type": "code",
   "execution_count": 4,
   "metadata": {},
   "outputs": [
    {
     "name": "stdout",
     "output_type": "stream",
     "text": [
      "<class 'pandas.core.frame.DataFrame'>\n",
      "RangeIndex: 354369 entries, 0 to 354368\n",
      "Data columns (total 16 columns):\n",
      " #   Column             Non-Null Count   Dtype \n",
      "---  ------             --------------   ----- \n",
      " 0   DateCrawled        354369 non-null  object\n",
      " 1   Price              354369 non-null  int64 \n",
      " 2   VehicleType        316879 non-null  object\n",
      " 3   RegistrationYear   354369 non-null  int64 \n",
      " 4   Gearbox            334536 non-null  object\n",
      " 5   Power              354369 non-null  int64 \n",
      " 6   Model              334664 non-null  object\n",
      " 7   Kilometer          354369 non-null  int64 \n",
      " 8   RegistrationMonth  354369 non-null  int64 \n",
      " 9   FuelType           321474 non-null  object\n",
      " 10  Brand              354369 non-null  object\n",
      " 11  NotRepaired        283215 non-null  object\n",
      " 12  DateCreated        354369 non-null  object\n",
      " 13  NumberOfPictures   354369 non-null  int64 \n",
      " 14  PostalCode         354369 non-null  int64 \n",
      " 15  LastSeen           354369 non-null  object\n",
      "dtypes: int64(7), object(9)\n",
      "memory usage: 43.3+ MB\n"
     ]
    }
   ],
   "source": [
    "# получение общей информации\n",
    "df.info()"
   ]
  },
  {
   "cell_type": "code",
   "execution_count": 5,
   "metadata": {
    "scrolled": true
   },
   "outputs": [
    {
     "data": {
      "text/plain": [
       "DateCrawled              0\n",
       "Price                    0\n",
       "VehicleType          37490\n",
       "RegistrationYear         0\n",
       "Gearbox              19833\n",
       "Power                    0\n",
       "Model                19705\n",
       "Kilometer                0\n",
       "RegistrationMonth        0\n",
       "FuelType             32895\n",
       "Brand                    0\n",
       "NotRepaired          71154\n",
       "DateCreated              0\n",
       "NumberOfPictures         0\n",
       "PostalCode               0\n",
       "LastSeen                 0\n",
       "dtype: int64"
      ]
     },
     "execution_count": 5,
     "metadata": {},
     "output_type": "execute_result"
    }
   ],
   "source": [
    "# подсчет пропусков\n",
    "df.isna().sum()"
   ]
  },
  {
   "cell_type": "code",
   "execution_count": 6,
   "metadata": {
    "scrolled": true
   },
   "outputs": [
    {
     "data": {
      "text/plain": [
       "DateCrawled          0.000000\n",
       "Price                0.000000\n",
       "VehicleType          0.105794\n",
       "RegistrationYear     0.000000\n",
       "Gearbox              0.055967\n",
       "Power                0.000000\n",
       "Model                0.055606\n",
       "Kilometer            0.000000\n",
       "RegistrationMonth    0.000000\n",
       "FuelType             0.092827\n",
       "Brand                0.000000\n",
       "NotRepaired          0.200791\n",
       "DateCreated          0.000000\n",
       "NumberOfPictures     0.000000\n",
       "PostalCode           0.000000\n",
       "LastSeen             0.000000\n",
       "dtype: float64"
      ]
     },
     "execution_count": 6,
     "metadata": {},
     "output_type": "execute_result"
    }
   ],
   "source": [
    "# оценка пропусков в процентном соотношении\n",
    "df.isna().mean()"
   ]
  },
  {
   "cell_type": "markdown",
   "metadata": {},
   "source": [
    "Итак, мы имеем датасет, состоящий из 16 столбцов, из них пропуски присутствуют в 5 столбцах. Оставим только те столбцы, которые влияют на цену автомобиля, а так же проведем предобработку данных."
   ]
  },
  {
   "cell_type": "code",
   "execution_count": 7,
   "metadata": {},
   "outputs": [
    {
     "name": "stdout",
     "output_type": "stream",
     "text": [
      "<class 'pandas.core.frame.DataFrame'>\n",
      "RangeIndex: 354369 entries, 0 to 354368\n",
      "Data columns (total 10 columns):\n",
      " #   Column            Non-Null Count   Dtype \n",
      "---  ------            --------------   ----- \n",
      " 0   VehicleType       316879 non-null  object\n",
      " 1   RegistrationYear  354369 non-null  int64 \n",
      " 2   Gearbox           334536 non-null  object\n",
      " 3   Power             354369 non-null  int64 \n",
      " 4   Model             334664 non-null  object\n",
      " 5   Kilometer         354369 non-null  int64 \n",
      " 6   FuelType          321474 non-null  object\n",
      " 7   Brand             354369 non-null  object\n",
      " 8   NotRepaired       283215 non-null  object\n",
      " 9   Price             354369 non-null  int64 \n",
      "dtypes: int64(4), object(6)\n",
      "memory usage: 27.0+ MB\n"
     ]
    }
   ],
   "source": [
    "df_auto = df[['VehicleType', 'RegistrationYear', 'Gearbox', 'Power', 'Model', 'Kilometer', 'FuelType', 'Brand',\n",
    "              'NotRepaired', 'Price']]\n",
    "\n",
    "df_auto.info()"
   ]
  },
  {
   "cell_type": "code",
   "execution_count": 8,
   "metadata": {
    "scrolled": false
   },
   "outputs": [
    {
     "data": {
      "text/plain": [
       "array(['golf', nan, 'grand', 'fabia', '3er', '2_reihe', 'other', 'c_max',\n",
       "       '3_reihe', 'passat', 'navara', 'ka', 'polo', 'twingo', 'a_klasse',\n",
       "       'scirocco', '5er', 'meriva', 'arosa', 'c4', 'civic', 'transporter',\n",
       "       'punto', 'e_klasse', 'clio', 'kadett', 'kangoo', 'corsa', 'one',\n",
       "       'fortwo', '1er', 'b_klasse', 'signum', 'astra', 'a8', 'jetta',\n",
       "       'fiesta', 'c_klasse', 'micra', 'vito', 'sprinter', '156', 'escort',\n",
       "       'forester', 'xc_reihe', 'scenic', 'a4', 'a1', 'insignia', 'combo',\n",
       "       'focus', 'tt', 'a6', 'jazz', 'omega', 'slk', '7er', '80', '147',\n",
       "       '100', 'z_reihe', 'sportage', 'sorento', 'v40', 'ibiza', 'mustang',\n",
       "       'eos', 'touran', 'getz', 'a3', 'almera', 'megane', 'lupo', 'r19',\n",
       "       'zafira', 'caddy', 'mondeo', 'cordoba', 'colt', 'impreza',\n",
       "       'vectra', 'berlingo', 'tiguan', 'i_reihe', 'espace', 'sharan',\n",
       "       '6_reihe', 'panda', 'up', 'seicento', 'ceed', '5_reihe', 'yeti',\n",
       "       'octavia', 'mii', 'rx_reihe', '6er', 'modus', 'fox', 'matiz',\n",
       "       'beetle', 'c1', 'rio', 'touareg', 'logan', 'spider', 'cuore',\n",
       "       's_max', 'a2', 'galaxy', 'c3', 'viano', 's_klasse', '1_reihe',\n",
       "       'avensis', 'roomster', 'sl', 'kaefer', 'santa', 'cooper', 'leon',\n",
       "       '4_reihe', 'a5', '500', 'laguna', 'ptcruiser', 'clk', 'primera',\n",
       "       'x_reihe', 'exeo', '159', 'transit', 'juke', 'qashqai', 'carisma',\n",
       "       'accord', 'corolla', 'lanos', 'phaeton', 'verso', 'swift', 'rav',\n",
       "       'picanto', 'boxster', 'kalos', 'superb', 'stilo', 'alhambra',\n",
       "       'mx_reihe', 'roadster', 'ypsilon', 'cayenne', 'galant', 'justy',\n",
       "       '90', 'sirion', 'crossfire', 'agila', 'duster', 'cr_reihe', 'v50',\n",
       "       'c_reihe', 'v_klasse', 'm_klasse', 'yaris', 'c5', 'aygo', 'cc',\n",
       "       'carnival', 'fusion', '911', 'bora', 'forfour', 'm_reihe', 'cl',\n",
       "       'tigra', '300c', 'spark', 'v70', 'kuga', 'x_type', 'ducato',\n",
       "       's_type', 'x_trail', 'toledo', 'altea', 'voyager', 'calibra',\n",
       "       'bravo', 'antara', 'tucson', 'citigo', 'jimny', 'wrangler',\n",
       "       'lybra', 'q7', 'lancer', 'captiva', 'c2', 'discovery',\n",
       "       'freelander', 'sandero', 'note', '900', 'cherokee', 'clubman',\n",
       "       'samara', 'defender', '601', 'cx_reihe', 'legacy', 'pajero',\n",
       "       'auris', 'niva', 's60', 'nubira', 'vivaro', 'g_klasse', 'lodgy',\n",
       "       '850', 'range_rover', 'q3', 'serie_2', 'glk', 'charade', 'croma',\n",
       "       'outlander', 'doblo', 'musa', 'move', '9000', 'v60', '145', 'aveo',\n",
       "       '200', 'b_max', 'range_rover_sport', 'terios', 'rangerover', 'q5',\n",
       "       'range_rover_evoque', 'materia', 'delta', 'gl', 'kalina', 'amarok',\n",
       "       'elefantino', 'i3', 'kappa', 'serie_3', 'serie_1'], dtype=object)"
      ]
     },
     "execution_count": 8,
     "metadata": {},
     "output_type": "execute_result"
    }
   ],
   "source": [
    "# просмотр уникальных значений столбца Model\n",
    "df_auto['Model'].unique()"
   ]
  },
  {
   "cell_type": "markdown",
   "metadata": {},
   "source": [
    "Заменим пропуски в данном столбце значением `unknown`, так как пропущенные данные мы никак не может восстановить."
   ]
  },
  {
   "cell_type": "code",
   "execution_count": 9,
   "metadata": {},
   "outputs": [],
   "source": [
    "# заполнение пропусков в столбце Model\n",
    "df_auto['Model'] = df_auto['Model'].fillna('unknown')"
   ]
  },
  {
   "cell_type": "code",
   "execution_count": 10,
   "metadata": {},
   "outputs": [
    {
     "data": {
      "text/plain": [
       "array([nan, 'coupe', 'suv', 'small', 'sedan', 'convertible', 'bus',\n",
       "       'wagon', 'other'], dtype=object)"
      ]
     },
     "execution_count": 10,
     "metadata": {},
     "output_type": "execute_result"
    }
   ],
   "source": [
    "# просмотр уникальных значений столбца VehicleType\n",
    "df['VehicleType'].unique()"
   ]
  },
  {
   "cell_type": "markdown",
   "metadata": {},
   "source": [
    "Заполним пропуски в данном столбце самым популярным типом кузова по каждой модели. Для этого сгруппируем данные и создадим словарь, где ключ - это модель автомобиля, а значение - тип кузова."
   ]
  },
  {
   "cell_type": "code",
   "execution_count": 11,
   "metadata": {
    "scrolled": true
   },
   "outputs": [
    {
     "data": {
      "text/plain": [
       "{'100': 'sedan',\n",
       " '145': 'small',\n",
       " '147': 'sedan',\n",
       " '156': 'wagon',\n",
       " '159': 'wagon',\n",
       " '1_reihe': 'small',\n",
       " '1er': 'sedan',\n",
       " '200': 'sedan',\n",
       " '2_reihe': 'small',\n",
       " '300c': 'wagon',\n",
       " '3_reihe': 'sedan',\n",
       " '3er': 'sedan',\n",
       " '4_reihe': 'wagon',\n",
       " '500': 'small',\n",
       " '5_reihe': 'bus',\n",
       " '5er': 'sedan',\n",
       " '601': 'sedan',\n",
       " '6_reihe': 'wagon',\n",
       " '6er': 'coupe',\n",
       " '7er': 'sedan',\n",
       " '80': 'sedan',\n",
       " '850': 'wagon',\n",
       " '90': 'sedan',\n",
       " '900': 'convertible',\n",
       " '9000': 'sedan',\n",
       " '911': 'coupe',\n",
       " 'a1': 'small',\n",
       " 'a2': 'small',\n",
       " 'a3': 'sedan',\n",
       " 'a4': 'wagon',\n",
       " 'a5': 'coupe',\n",
       " 'a6': 'wagon',\n",
       " 'a8': 'sedan',\n",
       " 'a_klasse': 'sedan',\n",
       " 'accord': 'sedan',\n",
       " 'agila': 'small',\n",
       " 'alhambra': 'bus',\n",
       " 'almera': 'sedan',\n",
       " 'altea': 'bus',\n",
       " 'amarok': 'suv',\n",
       " 'antara': 'suv',\n",
       " 'arosa': 'small',\n",
       " 'astra': 'sedan',\n",
       " 'auris': 'sedan',\n",
       " 'avensis': 'wagon',\n",
       " 'aveo': 'small',\n",
       " 'aygo': 'small',\n",
       " 'b_klasse': 'bus',\n",
       " 'b_max': 'bus',\n",
       " 'beetle': 'sedan',\n",
       " 'berlingo': 'bus',\n",
       " 'bora': 'sedan',\n",
       " 'boxster': 'convertible',\n",
       " 'bravo': 'sedan',\n",
       " 'c1': 'small',\n",
       " 'c2': 'small',\n",
       " 'c3': 'small',\n",
       " 'c4': 'sedan',\n",
       " 'c5': 'wagon',\n",
       " 'c_klasse': 'sedan',\n",
       " 'c_max': 'bus',\n",
       " 'c_reihe': 'convertible',\n",
       " 'caddy': 'wagon',\n",
       " 'calibra': 'coupe',\n",
       " 'captiva': 'suv',\n",
       " 'carisma': 'sedan',\n",
       " 'carnival': 'bus',\n",
       " 'cayenne': 'suv',\n",
       " 'cc': 'coupe',\n",
       " 'ceed': 'sedan',\n",
       " 'charade': 'small',\n",
       " 'cherokee': 'suv',\n",
       " 'citigo': 'small',\n",
       " 'civic': 'sedan',\n",
       " 'cl': 'coupe',\n",
       " 'clio': 'small',\n",
       " 'clk': 'coupe',\n",
       " 'clubman': 'wagon',\n",
       " 'colt': 'sedan',\n",
       " 'combo': 'bus',\n",
       " 'cooper': 'small',\n",
       " 'cordoba': 'wagon',\n",
       " 'corolla': 'sedan',\n",
       " 'corsa': 'small',\n",
       " 'cr_reihe': 'suv',\n",
       " 'croma': 'wagon',\n",
       " 'crossfire': 'coupe',\n",
       " 'cuore': 'small',\n",
       " 'cx_reihe': 'suv',\n",
       " 'defender': 'suv',\n",
       " 'delta': 'sedan',\n",
       " 'discovery': 'suv',\n",
       " 'doblo': 'bus',\n",
       " 'ducato': 'bus',\n",
       " 'duster': 'suv',\n",
       " 'e_klasse': 'sedan',\n",
       " 'elefantino': 'small',\n",
       " 'eos': 'convertible',\n",
       " 'escort': 'sedan',\n",
       " 'espace': 'bus',\n",
       " 'exeo': 'wagon',\n",
       " 'fabia': 'small',\n",
       " 'fiesta': 'small',\n",
       " 'focus': 'wagon',\n",
       " 'forester': 'wagon',\n",
       " 'forfour': 'small',\n",
       " 'fortwo': 'small',\n",
       " 'fox': 'small',\n",
       " 'freelander': 'suv',\n",
       " 'fusion': 'small',\n",
       " 'g_klasse': 'suv',\n",
       " 'galant': 'sedan',\n",
       " 'galaxy': 'bus',\n",
       " 'getz': 'small',\n",
       " 'gl': 'suv',\n",
       " 'glk': 'suv',\n",
       " 'golf': 'sedan',\n",
       " 'grand': 'suv',\n",
       " 'i3': 'sedan',\n",
       " 'i_reihe': 'small',\n",
       " 'ibiza': 'small',\n",
       " 'impreza': 'sedan',\n",
       " 'insignia': 'wagon',\n",
       " 'jazz': 'small',\n",
       " 'jetta': 'sedan',\n",
       " 'jimny': 'suv',\n",
       " 'juke': 'small',\n",
       " 'justy': 'small',\n",
       " 'ka': 'small',\n",
       " 'kadett': 'sedan',\n",
       " 'kaefer': 'sedan',\n",
       " 'kalina': 'sedan',\n",
       " 'kalos': 'small',\n",
       " 'kangoo': 'bus',\n",
       " 'kappa': 'sedan',\n",
       " 'kuga': 'suv',\n",
       " 'laguna': 'wagon',\n",
       " 'lancer': 'sedan',\n",
       " 'lanos': 'small',\n",
       " 'legacy': 'wagon',\n",
       " 'leon': 'sedan',\n",
       " 'lodgy': 'bus',\n",
       " 'logan': 'wagon',\n",
       " 'lupo': 'small',\n",
       " 'lybra': 'wagon',\n",
       " 'm_klasse': 'suv',\n",
       " 'm_reihe': 'sedan',\n",
       " 'materia': 'wagon',\n",
       " 'matiz': 'small',\n",
       " 'megane': 'sedan',\n",
       " 'meriva': 'bus',\n",
       " 'micra': 'small',\n",
       " 'mii': 'small',\n",
       " 'modus': 'bus',\n",
       " 'mondeo': 'wagon',\n",
       " 'move': 'small',\n",
       " 'musa': 'bus',\n",
       " 'mustang': 'coupe',\n",
       " 'mx_reihe': 'convertible',\n",
       " 'navara': 'suv',\n",
       " 'niva': 'suv',\n",
       " 'note': 'bus',\n",
       " 'nubira': 'wagon',\n",
       " 'octavia': 'wagon',\n",
       " 'omega': 'wagon',\n",
       " 'one': 'small',\n",
       " 'other': 'sedan',\n",
       " 'outlander': 'suv',\n",
       " 'pajero': 'suv',\n",
       " 'panda': 'small',\n",
       " 'passat': 'wagon',\n",
       " 'phaeton': 'sedan',\n",
       " 'picanto': 'small',\n",
       " 'polo': 'small',\n",
       " 'primera': 'sedan',\n",
       " 'ptcruiser': 'wagon',\n",
       " 'punto': 'small',\n",
       " 'q3': 'sedan',\n",
       " 'q5': 'suv',\n",
       " 'q7': 'suv',\n",
       " 'qashqai': 'sedan',\n",
       " 'r19': 'sedan',\n",
       " 'range_rover': 'suv',\n",
       " 'range_rover_evoque': 'suv',\n",
       " 'range_rover_sport': 'suv',\n",
       " 'rangerover': 'other',\n",
       " 'rav': 'suv',\n",
       " 'rio': 'small',\n",
       " 'roadster': 'convertible',\n",
       " 'roomster': 'bus',\n",
       " 'rx_reihe': 'coupe',\n",
       " 's60': 'sedan',\n",
       " 's_klasse': 'sedan',\n",
       " 's_max': 'bus',\n",
       " 's_type': 'sedan',\n",
       " 'samara': 'sedan',\n",
       " 'sandero': 'small',\n",
       " 'santa': 'suv',\n",
       " 'scenic': 'bus',\n",
       " 'scirocco': 'coupe',\n",
       " 'seicento': 'small',\n",
       " 'serie_1': 'wagon',\n",
       " 'serie_2': 'other',\n",
       " 'serie_3': 'suv',\n",
       " 'sharan': 'bus',\n",
       " 'signum': 'wagon',\n",
       " 'sirion': 'small',\n",
       " 'sl': 'convertible',\n",
       " 'slk': 'convertible',\n",
       " 'sorento': 'suv',\n",
       " 'spark': 'small',\n",
       " 'spider': 'convertible',\n",
       " 'sportage': 'suv',\n",
       " 'sprinter': 'bus',\n",
       " 'stilo': 'sedan',\n",
       " 'superb': 'sedan',\n",
       " 'swift': 'small',\n",
       " 'terios': 'sedan',\n",
       " 'tigra': 'convertible',\n",
       " 'tiguan': 'suv',\n",
       " 'toledo': 'sedan',\n",
       " 'touareg': 'suv',\n",
       " 'touran': 'bus',\n",
       " 'transit': 'bus',\n",
       " 'transporter': 'bus',\n",
       " 'tt': 'coupe',\n",
       " 'tucson': 'suv',\n",
       " 'twingo': 'small',\n",
       " 'unknown': 'sedan',\n",
       " 'up': 'small',\n",
       " 'v40': 'wagon',\n",
       " 'v50': 'wagon',\n",
       " 'v60': 'wagon',\n",
       " 'v70': 'wagon',\n",
       " 'v_klasse': 'bus',\n",
       " 'vectra': 'sedan',\n",
       " 'verso': 'bus',\n",
       " 'viano': 'bus',\n",
       " 'vito': 'bus',\n",
       " 'vivaro': 'bus',\n",
       " 'voyager': 'bus',\n",
       " 'wrangler': 'suv',\n",
       " 'x_reihe': 'suv',\n",
       " 'x_trail': 'suv',\n",
       " 'x_type': 'sedan',\n",
       " 'xc_reihe': 'suv',\n",
       " 'yaris': 'small',\n",
       " 'yeti': 'suv',\n",
       " 'ypsilon': 'small',\n",
       " 'z_reihe': 'convertible',\n",
       " 'zafira': 'bus'}"
      ]
     },
     "execution_count": 11,
     "metadata": {},
     "output_type": "execute_result"
    }
   ],
   "source": [
    "# создание словаря с популярными типами кузова по каждой модели\n",
    "vehicle_dict = df_auto.groupby('Model')['VehicleType'].agg(lambda x:x.value_counts().index[0]).to_dict()\n",
    "vehicle_dict"
   ]
  },
  {
   "cell_type": "code",
   "execution_count": 12,
   "metadata": {},
   "outputs": [],
   "source": [
    "# создание функции для заполнения пропусков в столбце VehicleType\n",
    "def vehicle_type_find(row):    \n",
    "    if pd.isnull(row['VehicleType']):\n",
    "        return vehicle_dict[row['Model']]\n",
    "    else:\n",
    "        return row['VehicleType']\n",
    "\n",
    "df_auto['VehicleType'] = df_auto.apply(vehicle_type_find, axis=1) # замена пропусков методом apply, \n",
    "                                                                # который в качестве аргумента принимает нашу функцию"
   ]
  },
  {
   "cell_type": "code",
   "execution_count": 13,
   "metadata": {
    "scrolled": false
   },
   "outputs": [
    {
     "name": "stdout",
     "output_type": "stream",
     "text": [
      "0    sedan\n",
      "1    coupe\n",
      "2      suv\n",
      "3    small\n",
      "4    small\n",
      "Name: VehicleType, dtype: object\n"
     ]
    },
    {
     "data": {
      "text/plain": [
       "0"
      ]
     },
     "execution_count": 13,
     "metadata": {},
     "output_type": "execute_result"
    }
   ],
   "source": [
    "# проверка\n",
    "print(df_auto['VehicleType'].head())\n",
    "df_auto['VehicleType'].isna().sum()"
   ]
  },
  {
   "cell_type": "code",
   "execution_count": 14,
   "metadata": {},
   "outputs": [
    {
     "data": {
      "text/plain": [
       "array(['petrol', 'gasoline', nan, 'lpg', 'other', 'hybrid', 'cng',\n",
       "       'electric'], dtype=object)"
      ]
     },
     "execution_count": 14,
     "metadata": {},
     "output_type": "execute_result"
    }
   ],
   "source": [
    "# просмотр уникальных значений столбца FuelType\n",
    "df_auto['FuelType'].unique()"
   ]
  },
  {
   "cell_type": "markdown",
   "metadata": {},
   "source": [
    "Аналогичным способом заполним пропуски в столбце FuelType."
   ]
  },
  {
   "cell_type": "code",
   "execution_count": 15,
   "metadata": {},
   "outputs": [],
   "source": [
    "# замена пропусков в FuelType\n",
    "fuel_dict = df_auto.groupby('Model')['FuelType'].agg(lambda x:x.value_counts().index[0]).to_dict()\n",
    "\n",
    "def fuel_type_find(row):    \n",
    "    if pd.isnull(row['FuelType']):\n",
    "        return vehicle_dict[row['Model']]\n",
    "    else:\n",
    "        return row['FuelType']\n",
    "\n",
    "df_auto['FuelType'] = df_auto.apply(fuel_type_find, axis=1)"
   ]
  },
  {
   "cell_type": "code",
   "execution_count": 16,
   "metadata": {},
   "outputs": [
    {
     "name": "stdout",
     "output_type": "stream",
     "text": [
      "[nan 'yes' 'no']\n"
     ]
    },
    {
     "data": {
      "text/plain": [
       "no     0.872697\n",
       "yes    0.127303\n",
       "Name: NotRepaired, dtype: float64"
      ]
     },
     "execution_count": 16,
     "metadata": {},
     "output_type": "execute_result"
    }
   ],
   "source": [
    "# просмотр уникальных значений столбца NotRepaired\n",
    "print(df_auto['NotRepaired'].unique())\n",
    "df_auto['NotRepaired'].value_counts(normalize=True)"
   ]
  },
  {
   "cell_type": "markdown",
   "metadata": {},
   "source": [
    "В столбце `NotRepaired` заменим пропуски на `no`, имеяя ввиду, что ремонта не было"
   ]
  },
  {
   "cell_type": "code",
   "execution_count": 17,
   "metadata": {},
   "outputs": [],
   "source": [
    "# замена пропусков в NotRepaired\n",
    "df_auto['NotRepaired'] = df_auto['NotRepaired'].fillna('no')"
   ]
  },
  {
   "cell_type": "code",
   "execution_count": 18,
   "metadata": {
    "scrolled": true
   },
   "outputs": [
    {
     "name": "stdout",
     "output_type": "stream",
     "text": [
      "['manual' 'auto' nan]\n"
     ]
    },
    {
     "data": {
      "text/plain": [
       "manual    0.80186\n",
       "auto      0.19814\n",
       "Name: Gearbox, dtype: float64"
      ]
     },
     "execution_count": 18,
     "metadata": {},
     "output_type": "execute_result"
    }
   ],
   "source": [
    "# просмотр уникальных значений столбца Gearbox\n",
    "print(df_auto['Gearbox'].unique())\n",
    "df_auto['Gearbox'].value_counts(normalize=True)"
   ]
  },
  {
   "cell_type": "markdown",
   "metadata": {},
   "source": [
    "Пропуски заполним `manual`."
   ]
  },
  {
   "cell_type": "code",
   "execution_count": 19,
   "metadata": {},
   "outputs": [],
   "source": [
    "# замена пропусков в Gearbox\n",
    "df_auto['Gearbox'] = df_auto['Gearbox'].fillna('manual')"
   ]
  },
  {
   "cell_type": "code",
   "execution_count": 20,
   "metadata": {
    "scrolled": true
   },
   "outputs": [
    {
     "data": {
      "text/plain": [
       "VehicleType         0\n",
       "RegistrationYear    0\n",
       "Gearbox             0\n",
       "Power               0\n",
       "Model               0\n",
       "Kilometer           0\n",
       "FuelType            0\n",
       "Brand               0\n",
       "NotRepaired         0\n",
       "Price               0\n",
       "dtype: int64"
      ]
     },
     "execution_count": 20,
     "metadata": {},
     "output_type": "execute_result"
    }
   ],
   "source": [
    "# проверка на пропуски\n",
    "df_auto.isna().sum()"
   ]
  },
  {
   "cell_type": "markdown",
   "metadata": {},
   "source": [
    "Теперь проверим нет ли в оставшихся столбцах аномальных значений или выбросов, а также проверим наличие дубликатов."
   ]
  },
  {
   "cell_type": "code",
   "execution_count": 21,
   "metadata": {
    "scrolled": false
   },
   "outputs": [
    {
     "data": {
      "text/plain": [
       "array([1993, 2011, 2004, 2001, 2008, 1995, 1980, 2014, 1998, 2005, 1910,\n",
       "       2016, 2007, 2009, 2002, 2018, 1997, 1990, 2017, 1981, 2003, 1994,\n",
       "       1991, 1984, 2006, 1999, 2012, 2010, 2000, 1992, 2013, 1996, 1985,\n",
       "       1989, 2015, 1982, 1976, 1983, 1973, 1111, 1969, 1971, 1987, 1986,\n",
       "       1988, 1970, 1965, 1945, 1925, 1974, 1979, 1955, 1978, 1972, 1968,\n",
       "       1977, 1961, 1960, 1966, 1975, 1963, 1964, 5000, 1954, 1958, 1967,\n",
       "       1959, 9999, 1956, 3200, 1000, 1941, 8888, 1500, 2200, 4100, 1962,\n",
       "       1929, 1957, 1940, 3000, 2066, 1949, 2019, 1937, 1951, 1800, 1953,\n",
       "       1234, 8000, 5300, 9000, 2900, 6000, 5900, 5911, 1933, 1400, 1950,\n",
       "       4000, 1948, 1952, 1200, 8500, 1932, 1255, 3700, 3800, 4800, 1942,\n",
       "       7000, 1935, 1936, 6500, 1923, 2290, 2500, 1930, 1001, 9450, 1944,\n",
       "       1943, 1934, 1938, 1688, 2800, 1253, 1928, 1919, 5555, 5600, 1600,\n",
       "       2222, 1039, 9996, 1300, 8455, 1931, 1915, 4500, 1920, 1602, 7800,\n",
       "       9229, 1947, 1927, 7100, 8200, 1946, 7500, 3500])"
      ]
     },
     "execution_count": 21,
     "metadata": {},
     "output_type": "execute_result"
    }
   ],
   "source": [
    "# просмотр уникальных значений столбца RegistrationYear\n",
    "df_auto['RegistrationYear'].unique()"
   ]
  },
  {
   "cell_type": "markdown",
   "metadata": {},
   "source": [
    "Мы видим некорректные значения. Машина явно не может быть зарегистрирована позже текущего года. Удалим данные значения, нижнюю границу определим в районе 1960 года, такие автомобили теоретически могут находиться еще в эксплуатации."
   ]
  },
  {
   "cell_type": "code",
   "execution_count": 22,
   "metadata": {
    "scrolled": false
   },
   "outputs": [
    {
     "data": {
      "image/png": "[encoded data removed]",
      "text/plain": [
       "<Figure size 432x288 with 1 Axes>"
      ]
     },
     "metadata": {
      "needs_background": "light"
     },
     "output_type": "display_data"
    }
   ],
   "source": [
    "# методом query убираем некорректные значения\n",
    "df_filtered = df_auto.query('1960<RegistrationYear<2016')\n",
    "plt.boxplot(df_filtered['RegistrationYear']); # \"ящик с усами\""
   ]
  },
  {
   "cell_type": "code",
   "execution_count": 63,
   "metadata": {},
   "outputs": [
    {
     "data": {
      "text/plain": [
       "1           (2007.0, 2015.0]\n",
       "2           (2003.0, 2007.0]\n",
       "3           (1999.0, 2003.0]\n",
       "4           (2007.0, 2015.0]\n",
       "5         (1960.999, 1999.0]\n",
       "                 ...        \n",
       "354360      (2003.0, 2007.0]\n",
       "354362      (2003.0, 2007.0]\n",
       "354366      (1999.0, 2003.0]\n",
       "354367    (1960.999, 1999.0]\n",
       "354368      (1999.0, 2003.0]\n",
       "Name: RegistrationYear, Length: 244434, dtype: category\n",
       "Categories (4, interval[float64]): [(1960.999, 1999.0] < (1999.0, 2003.0] < (2003.0, 2007.0] < (2007.0, 2015.0]]"
      ]
     },
     "execution_count": 63,
     "metadata": {},
     "output_type": "execute_result"
    }
   ],
   "source": [
    "# просмотр возможных диапозонов для разбиения на группы\n",
    "pd.qcut(df_filtered['RegistrationYear'], q=4)"
   ]
  },
  {
   "cell_type": "code",
   "execution_count": 24,
   "metadata": {},
   "outputs": [],
   "source": [
    "# создание функции для разделения данных на группы одинакового размера по возрасту машины\n",
    "def car_age(year):\n",
    "    if year<=1999.0:\n",
    "        return 'super retro'\n",
    "    if year<=2002.0:\n",
    "        return 'retro'\n",
    "    if year<=2007.0:\n",
    "        return 'old'\n",
    "    return 'new'\n",
    "\n",
    "df_filtered['Car_age'] = df_filtered['RegistrationYear'].apply(car_age) # создание нового столбца"
   ]
  },
  {
   "cell_type": "code",
   "execution_count": 25,
   "metadata": {},
   "outputs": [
    {
     "data": {
      "text/plain": [
       "'new'"
      ]
     },
     "execution_count": 25,
     "metadata": {},
     "output_type": "execute_result"
    }
   ],
   "source": [
    "# проверка работы функции\n",
    "car_age(2009)"
   ]
  },
  {
   "cell_type": "markdown",
   "metadata": {},
   "source": [
    "Тепепь посмотрим выбросы в столбце `Power`."
   ]
  },
  {
   "cell_type": "code",
   "execution_count": 26,
   "metadata": {
    "scrolled": true
   },
   "outputs": [
    {
     "data": {
      "text/plain": [
       "array([    0,   190,   163,    75,    69,   102,   109,    50,   125,\n",
       "         101,   105,   140,   115,   131,   136,   160,   231,   118,\n",
       "         193,    99,    60,   113,   218,   122,   129,    70,   306,\n",
       "          95,    61,   177,   170,   143,   286,   232,   150,   156,\n",
       "          80,    82,    90,   155,    54,   185,    87,   180,    86,\n",
       "          84,   224,   235,   200,   178,   265,    77,   110,   144,\n",
       "         120,   116,   184,   126,   204,    88,   194,    64,   305,\n",
       "         197,   179,   250,    45,   313,    41,   165,    98,   130,\n",
       "         114,   211,    56,   201,   213,    58,   107,   174,   100,\n",
       "         220,    73,   192,    68,    66,   299,    74,    52,   147,\n",
       "          71,    97,    65,   239,   203,     5,   300,   103,    85,\n",
       "         258,   320,    63,    81,   148,    44,    83,   145,    55,\n",
       "         230,   280,   260,   104,   188,   333,   186,   117,   141,\n",
       "         132,   234,   158,    39,    92,    51,   135,    53,   209,\n",
       "          43,   146,    67,   106,   166,   276,   344,    72,   249,\n",
       "         237,   245,   111,   326,   279,    23,   138,   310,   175,\n",
       "          96,   226,    26,    37,   301,   334,   128,   133,   124,\n",
       "          33,   219,   241,   167,    94,   182,   196,   238,  1398,\n",
       "         228,    48,   272,   139,  1799,   240,    79,   256,   360,\n",
       "         243,   375,   252,   396,   340,   121,   345,   187,   289,\n",
       "         222,   198,   284,   450,   233,   112,   387,   152,   347,\n",
       "         172,    57,   137,   212,   476,   314,     7,   173,   290,\n",
       "         207,   205,   171,    78,    91,    89,   349,    40,   108,\n",
       "         325,    76,   350,   953,    93,   142,   500,   343,   199,\n",
       "         119,   164,    16,   264,    47,    59,   367,   208,   210,\n",
       "          46,   435,  1001,   225,   127,   176,   161,   603,   307,\n",
       "         354,    35,   206,   771,   355,   273,   223,   255,   151,\n",
       "          30,   123,   154,   149,  7515,  1400,   268,   620,   400,\n",
       "         275,    34,     2,   242,   285,   162,   328,  1753,   329,\n",
       "         134,   420,   247,   168, 10317,   215,    18,   330,   283,\n",
       "          62,    10,   214,   183,   254,    15,   321,   315,   952,\n",
       "         169,   600,   181,   426,   379,   999,    22,   157,    42,\n",
       "         195,   553,     4,   309,   507,   381,   271,   440,   189,\n",
       "         401,  2729,   236,  1240,  1704,   521,     1,  1900,   270,\n",
       "          24,   292,   515,  1200,   303,    29,    38,  1993,    14,\n",
       "         216,   610,   504,    49,   267,   331,   363,   261,   385,\n",
       "        1011,   253, 10520,   376,   227,   311,    27,   217,    20,\n",
       "         322,  1999,    11,  1056,    25,   394,    12,   298,   296,\n",
       "        1659,   294,   551,  6920,   246,    17,  1625,   368,   390,\n",
       "         221,  1367,   259,  1597,   266,   374,   392,     9,   405,\n",
       "          13,   262,   601,   430,   295,     8,   411,   900,   159,\n",
       "         541,  7512,   382, 10218,  7544,  1102,   287,    19,   751,\n",
       "         297,  1090,   457,   282,   602,   388,     6,  5411,   335,\n",
       "        1360,   202,  3750,   805,  1062,  2017,   750,  1024, 11530,\n",
       "         364,  1796,   269,   460,  1002,   288,  1780, 12012, 17932,\n",
       "         316,  2005,  1800,  1399,   191,   278,   380,   257,   449,\n",
       "        1256,   153,    21,  1653,   520,   560,   281, 12510,     3,\n",
       "        1500,   386,    32,  1202,  2016,  1436,  1405,   671,   274,\n",
       "        1288,  1055, 10912,  6226,  1115,   277,  1105,   341,  1223,\n",
       "        2340,  8404,  1968,   338,   445,  1920,   370,   517,  4400,\n",
       "       10710, 10522,   431,  1164, 11509,   371,  1501,   428, 11635,\n",
       "          36,   304,   348,  1703,  1910,  1995,   579,   580,   408,\n",
       "          31,   358,  1403,   489,  5575, 19211,   585,   960,   365,\n",
       "         353,   490,   352,  1801,  1000,   346,   550,  3199,   800,\n",
       "        7508,  1312,  1937,   950,  4700,  1600,  3454, 19208,   251,\n",
       "         850,   700,  8011,  2331,  2789,   487,   519,  2461,  6006,\n",
       "        3500,  5815,  6018,  1781,  1503,   612,  1596,   229,  1506,\n",
       "        5809, 15020,  5867,  2172,  1598, 17410,  1363,   584,  1054,\n",
       "         851,  1339,   318,   510,   525,  1700,    28,  1151,   685,\n",
       "         317,   703,  1771, 15001,   514,   362,   332,  5000,   324,\n",
       "        6045,   530,   425,   308,  6010,   475,   903,   640,  2000,\n",
       "         248,   651,  2799, 17011,   505,   606,  1103,  1521,   351,\n",
       "       16051,   398,   599,  1998,   409,  1230, 17019, 12684,  8259,\n",
       "        1895,  1317,   871,   909,  2201,  1595,   776, 17700, 11011,\n",
       "        1199,   357,  1162,  1120,   327, 15033,  1896,   339,   361,\n",
       "         574,  6512,   454,  1300,   650,   604, 16312,  1082,   336,\n",
       "       20000,   416,   678,  1401,  1021,  1870, 13636,  9710,  6012,\n",
       "        2009,  6062,  1275,   572,   244,   399,  1016,   743,  1221,\n",
       "        2402,  1362,   544,   645,   907,   702,  1003,  1432,  9013,\n",
       "         442,  1017, 15017, 10910,  1992,   540,  2018, 11025,  1433,\n",
       "        1701,  2792,  1502,  1239,  1390, 14009,  1160, 11111,  1783,\n",
       "        9007,  1149,   754,  1988,  2004,  5420,  1793,   356, 12512,\n",
       "        7511,  1299,   293, 19312,  1079,  1689,   998,  1100,  1933,\n",
       "         508, 16311,   682,  1922,  7529,   732,  2389,  1005,  2200,\n",
       "        1707,  1416,  8500,  1012,   485, 10110,   421,  1631,  7518,\n",
       "        1250,   377,  1004,  9012,  2007,  2598,  1548,  1241])"
      ]
     },
     "execution_count": 26,
     "metadata": {},
     "output_type": "execute_result"
    }
   ],
   "source": [
    "# просмотр уникальных значений столбца Power\n",
    "df_filtered['Power'].unique()"
   ]
  },
  {
   "cell_type": "code",
   "execution_count": 27,
   "metadata": {},
   "outputs": [
    {
     "data": {
      "text/plain": [
       "count    329630.000000\n",
       "mean        112.025714\n",
       "std         182.488631\n",
       "min           0.000000\n",
       "25%          71.000000\n",
       "50%         105.000000\n",
       "75%         143.000000\n",
       "max       20000.000000\n",
       "Name: Power, dtype: float64"
      ]
     },
     "execution_count": 27,
     "metadata": {},
     "output_type": "execute_result"
    }
   ],
   "source": [
    "# просмотр информации о данных столбце Power\n",
    "df_filtered['Power'].describe()"
   ]
  },
  {
   "cell_type": "markdown",
   "metadata": {},
   "source": [
    "Удалим строки с нулевыми значениями и с значением мощности более 1000 л.с."
   ]
  },
  {
   "cell_type": "code",
   "execution_count": 28,
   "metadata": {
    "scrolled": false
   },
   "outputs": [
    {
     "data": {
      "image/png": "[encoded data removed]",
      "text/plain": [
       "<Figure size 864x648 with 1 Axes>"
      ]
     },
     "metadata": {
      "needs_background": "light"
     },
     "output_type": "display_data"
    }
   ],
   "source": [
    "# методом query убираем нулевые значения и выбросы\n",
    "df_filtered = df_filtered.query('0<Power<=1000')\n",
    "df_filtered['Power'].hist(bins=100, figsize=(12,9)); # построение гистограммы"
   ]
  },
  {
   "cell_type": "markdown",
   "metadata": {},
   "source": [
    "Теперь посмотрим значения у целевого признака."
   ]
  },
  {
   "cell_type": "code",
   "execution_count": 29,
   "metadata": {
    "scrolled": false
   },
   "outputs": [
    {
     "data": {
      "text/plain": [
       "0        5991\n",
       "1500     4331\n",
       "500      4264\n",
       "2500     3635\n",
       "1200     3631\n",
       "         ... \n",
       "10898       1\n",
       "3991        1\n",
       "11923       1\n",
       "13456       1\n",
       "8188        1\n",
       "Name: Price, Length: 3575, dtype: int64"
      ]
     },
     "execution_count": 29,
     "metadata": {},
     "output_type": "execute_result"
    }
   ],
   "source": [
    "# просмотр значений столбца Price\n",
    "df_filtered['Price'].value_counts()"
   ]
  },
  {
   "cell_type": "markdown",
   "metadata": {},
   "source": [
    "Есть много объявлений, где указана цена 0 евро. Исключим их из наших данных."
   ]
  },
  {
   "cell_type": "code",
   "execution_count": 30,
   "metadata": {
    "scrolled": true
   },
   "outputs": [
    {
     "data": {
      "image/png": "[encoded data removed]",
      "text/plain": [
       "<Figure size 432x288 with 1 Axes>"
      ]
     },
     "metadata": {
      "needs_background": "light"
     },
     "output_type": "display_data"
    }
   ],
   "source": [
    "# методом query убираем нулевые значения\n",
    "df_filtered = df_filtered.query('Price>0')\n",
    "plt.boxplot(df_filtered['Price']);"
   ]
  },
  {
   "cell_type": "markdown",
   "metadata": {},
   "source": [
    "И последнее, проверим имеются ли в данных дубликаты."
   ]
  },
  {
   "cell_type": "code",
   "execution_count": 31,
   "metadata": {},
   "outputs": [
    {
     "data": {
      "text/plain": [
       "False    244434\n",
       "True      45612\n",
       "dtype: int64"
      ]
     },
     "execution_count": 31,
     "metadata": {},
     "output_type": "execute_result"
    }
   ],
   "source": [
    "# подсчет количества дубликатов\n",
    "df_filtered.duplicated().value_counts()"
   ]
  },
  {
   "cell_type": "code",
   "execution_count": 32,
   "metadata": {},
   "outputs": [
    {
     "data": {
      "text/plain": [
       "0"
      ]
     },
     "execution_count": 32,
     "metadata": {},
     "output_type": "execute_result"
    }
   ],
   "source": [
    "# удаление дубликатов\n",
    "df_filtered = df_filtered.drop_duplicates()\n",
    "df_filtered.duplicated().sum()"
   ]
  },
  {
   "cell_type": "markdown",
   "metadata": {},
   "source": [
    "## Обучение моделей"
   ]
  },
  {
   "cell_type": "markdown",
   "metadata": {},
   "source": []
  },
  {
   "cell_type": "markdown",
   "metadata": {},
   "source": [
    "Для начала создадим переменные с признакими и целевым признаком, а так же применим one hot encoding и разобьем данные на тренировочную и тестовую выборки."
   ]
  },
  {
   "cell_type": "code",
   "execution_count": 33,
   "metadata": {
    "scrolled": true
   },
   "outputs": [],
   "source": [
    "# создание переменных features и target\n",
    "features = df_filtered.drop('Price', axis=1)\n",
    "target = df_filtered['Price']\n",
    "\n",
    "categorical_feats = ['VehicleType', 'Gearbox', 'Model', 'FuelType', 'Brand', 'NotRepaired', 'Car_age'] # категориальные признаки"
   ]
  },
  {
   "cell_type": "code",
   "execution_count": 34,
   "metadata": {},
   "outputs": [
    {
     "data": {
      "text/plain": [
       "((183325, 10), (61109, 10), (183325,), (61109,))"
      ]
     },
     "execution_count": 34,
     "metadata": {},
     "output_type": "execute_result"
    }
   ],
   "source": [
    "# разделение данных на тестовую и тренировочную выборки\n",
    "features_train, features_test, target_train, target_test = train_test_split(\n",
    "    features, target, test_size=0.25, random_state=12345)\n",
    "\n",
    "features_train.shape, features_test.shape, target_train.shape, target_test.shape"
   ]
  },
  {
   "cell_type": "code",
   "execution_count": 35,
   "metadata": {
    "scrolled": true
   },
   "outputs": [],
   "source": [
    "#OHE кодирование\n",
    "ohe = pd.get_dummies(features, drop_first=True)\n",
    "ohe_features_test = pd.get_dummies(features_test)\n",
    "\n",
    "ohe_features = ohe.loc[features_train.index, :]\n",
    "ohe_features_test = ohe.loc[features_test.index, :]"
   ]
  },
  {
   "cell_type": "markdown",
   "metadata": {},
   "source": [
    "Для обучения будет использовать следующие модели: LinearRegression, DecisionTreeRegressor, RandomForestRegressor, CatBoostRegressor и LGBMRegressor."
   ]
  },
  {
   "cell_type": "code",
   "execution_count": 36,
   "metadata": {},
   "outputs": [
    {
     "name": "stdout",
     "output_type": "stream",
     "text": [
      "RMSE: 2349.621346279952\n",
      "CPU times: user 1min, sys: 35.8 s, total: 1min 36s\n",
      "Wall time: 1min 36s\n"
     ]
    }
   ],
   "source": [
    "%%time\n",
    "\n",
    "# LinearRegression\n",
    "model = LinearRegression()\n",
    "MSE_LR = cross_val_score(model, ohe_features, target_train, cv=5, scoring='neg_mean_squared_error')\n",
    "print('RMSE:',(MSE_LR.mean()* -1)**0.5)"
   ]
  },
  {
   "cell_type": "code",
   "execution_count": 37,
   "metadata": {},
   "outputs": [
    {
     "name": "stdout",
     "output_type": "stream",
     "text": [
      "RMSE: 1907.6031251844643 при значениях гиперпараметров: {'max_depth': 14}\n",
      "CPU times: user 2min 34s, sys: 9.36 s, total: 2min 44s\n",
      "Wall time: 2min 45s\n"
     ]
    }
   ],
   "source": [
    "%%time\n",
    "\n",
    "# DecisionTreeRegressor\n",
    "param_grid = {'max_depth': range(2, 15)}\n",
    "model = DecisionTreeRegressor(random_state=12345)\n",
    "search = GridSearchCV(model, param_grid, cv=5, scoring='neg_mean_squared_error')\n",
    "search.fit(ohe_features, target_train)\n",
    "print('RMSE: {} при значениях гиперпараметров: {}'.format((-search.best_score_)**0.5, search.best_params_))"
   ]
  },
  {
   "cell_type": "code",
   "execution_count": 38,
   "metadata": {
    "scrolled": true
   },
   "outputs": [
    {
     "name": "stdout",
     "output_type": "stream",
     "text": [
      "RMSE: 1913.9292862249 при значениях гиперпараметров: {'n_estimators': 21}\n",
      "CPU times: user 5min 48s, sys: 1.96 s, total: 5min 50s\n",
      "Wall time: 5min 53s\n"
     ]
    }
   ],
   "source": [
    "%%time\n",
    "\n",
    "# RandomForestRegressor\n",
    "param_grid = {'n_estimators': range(1, 31, 10)}\n",
    "model = RandomForestRegressor(random_state=12345, max_depth=10)\n",
    "search = GridSearchCV(model, param_grid, cv=5, scoring='neg_mean_squared_error')\n",
    "search.fit(ohe_features, target_train)\n",
    "print('RMSE: {} при значениях гиперпараметров: {}'.format((-search.best_score_)**0.5, search.best_params_))"
   ]
  },
  {
   "cell_type": "code",
   "execution_count": 39,
   "metadata": {},
   "outputs": [
    {
     "name": "stdout",
     "output_type": "stream",
     "text": [
      "RMSE: 1627.8597384462844 при значениях гиперпараметров: {'learning_rate': 0.1}\n",
      "CPU times: user 33min 23s, sys: 8.23 s, total: 33min 31s\n",
      "Wall time: 34min 8s\n"
     ]
    }
   ],
   "source": [
    "%%time\n",
    "\n",
    "# CatBoostRegressor\n",
    "param_grid = {'learning_rate':[0.1, 0.5, 0.8]}\n",
    "model = CatBoostRegressor(random_state=12345, verbose=False, cat_features=categorical_feats)\n",
    "search = GridSearchCV(model, param_grid, cv=5, scoring='neg_mean_squared_error')\n",
    "search.fit(features_train, target_train)\n",
    "print('RMSE: {} при значениях гиперпараметров: {}'.format((-search.best_score_)**0.5, search.best_params_))"
   ]
  },
  {
   "cell_type": "code",
   "execution_count": 40,
   "metadata": {},
   "outputs": [
    {
     "name": "stdout",
     "output_type": "stream",
     "text": [
      "RMSE: 1599.4213716039792 при значениях гиперпараметров: {'n_estimators': 151, 'num_leaves': 200}\n",
      "CPU times: user 9min 31s, sys: 18.1 s, total: 9min 49s\n",
      "Wall time: 9min 57s\n"
     ]
    }
   ],
   "source": [
    "%%time\n",
    "\n",
    "# LGBMRegressor\n",
    "param_grid = {'num_leaves': [31, 100, 200],\n",
    "             'n_estimators': range(1, 201, 50)}\n",
    "model = LGBMRegressor(random_state=12345, objective='regression')\n",
    "search = GridSearchCV(model, param_grid, cv=5, scoring='neg_mean_squared_error')\n",
    "search.fit(ohe_features, target_train)\n",
    "print('RMSE: {} при значениях гиперпараметров: {}'.format((-search.best_score_)**0.5, search.best_params_))"
   ]
  },
  {
   "cell_type": "markdown",
   "metadata": {},
   "source": [
    "Теперь проверим наши модели на тестовой выборке и полученные результаты сведем в таблицу для удобства."
   ]
  },
  {
   "cell_type": "markdown",
   "metadata": {},
   "source": [
    "## Анализ моделей"
   ]
  },
  {
   "cell_type": "markdown",
   "metadata": {},
   "source": [
    "**Линейная регрессия**"
   ]
  },
  {
   "cell_type": "code",
   "execution_count": 41,
   "metadata": {
    "scrolled": true
   },
   "outputs": [
    {
     "name": "stdout",
     "output_type": "stream",
     "text": [
      "CPU times: user 15.3 s, sys: 2.85 s, total: 18.2 s\n",
      "Wall time: 18.2 s\n"
     ]
    },
    {
     "data": {
      "text/plain": [
       "LinearRegression()"
      ]
     },
     "execution_count": 41,
     "metadata": {},
     "output_type": "execute_result"
    }
   ],
   "source": [
    "%%time\n",
    "\n",
    "model = LinearRegression()\n",
    "model.fit(ohe_features, target_train)"
   ]
  },
  {
   "cell_type": "code",
   "execution_count": 42,
   "metadata": {},
   "outputs": [
    {
     "name": "stdout",
     "output_type": "stream",
     "text": [
      "CPU times: user 173 ms, sys: 81.3 ms, total: 254 ms\n",
      "Wall time: 228 ms\n"
     ]
    }
   ],
   "source": [
    "%%time\n",
    "\n",
    "predict = model.predict(ohe_features_test)"
   ]
  },
  {
   "cell_type": "code",
   "execution_count": 43,
   "metadata": {},
   "outputs": [
    {
     "name": "stdout",
     "output_type": "stream",
     "text": [
      "RMSE для линейной регрессии: 2344.6781197278156\n"
     ]
    }
   ],
   "source": [
    "print('RMSE для линейной регрессии:',mean_squared_error(target_test, predict) ** 0.5)"
   ]
  },
  {
   "cell_type": "markdown",
   "metadata": {},
   "source": [
    "**Дерево решений**"
   ]
  },
  {
   "cell_type": "code",
   "execution_count": 44,
   "metadata": {},
   "outputs": [
    {
     "name": "stdout",
     "output_type": "stream",
     "text": [
      "CPU times: user 4.09 s, sys: 140 ms, total: 4.23 s\n",
      "Wall time: 4.25 s\n"
     ]
    },
    {
     "data": {
      "text/plain": [
       "DecisionTreeRegressor(max_depth=14, random_state=12345)"
      ]
     },
     "execution_count": 44,
     "metadata": {},
     "output_type": "execute_result"
    }
   ],
   "source": [
    "%%time\n",
    "\n",
    "model = DecisionTreeRegressor(random_state=12345, max_depth=14)\n",
    "model.fit(ohe_features, target_train)"
   ]
  },
  {
   "cell_type": "code",
   "execution_count": 45,
   "metadata": {},
   "outputs": [
    {
     "name": "stdout",
     "output_type": "stream",
     "text": [
      "CPU times: user 71.4 ms, sys: 40.3 ms, total: 112 ms\n",
      "Wall time: 122 ms\n"
     ]
    }
   ],
   "source": [
    "%%time\n",
    "\n",
    "predict = model.predict(ohe_features_test)"
   ]
  },
  {
   "cell_type": "code",
   "execution_count": 46,
   "metadata": {},
   "outputs": [
    {
     "name": "stdout",
     "output_type": "stream",
     "text": [
      "RMSE для дерева решений: 1896.2443497160994\n"
     ]
    }
   ],
   "source": [
    "print('RMSE для дерева решений:',mean_squared_error(target_test, predict) ** 0.5)"
   ]
  },
  {
   "cell_type": "code",
   "execution_count": 49,
   "metadata": {},
   "outputs": [
    {
     "data": {
      "image/png": "[encoded data removed]",
      "text/plain": [
       "<Figure size 2160x1080 with 1 Axes>"
      ]
     },
     "metadata": {},
     "output_type": "display_data"
    }
   ],
   "source": [
    "feats = {}\n",
    "for feature, importance in zip(features.columns, model.feature_importances_):\n",
    "    feats[feature] = importance\n",
    "importances = pd.DataFrame.from_dict(feats, orient='index').rename(columns={0: 'Gini-Importance'})\n",
    "importances = importances.sort_values(by='Gini-Importance', ascending=False)\n",
    "importances = importances.reset_index()\n",
    "importances = importances.rename(columns={'index': 'Features'})\n",
    "sns.set(font_scale = 5)\n",
    "sns.set(style=\"whitegrid\", color_codes=True, font_scale = 1.7)\n",
    "fig, ax = plt.subplots()\n",
    "fig.set_size_inches(30,15)\n",
    "sns.barplot(x=importances['Gini-Importance'], y=importances['Features'], data=importances, color='skyblue');"
   ]
  },
  {
   "cell_type": "markdown",
   "metadata": {},
   "source": [
    "**Случайный лес**"
   ]
  },
  {
   "cell_type": "code",
   "execution_count": 50,
   "metadata": {},
   "outputs": [
    {
     "name": "stdout",
     "output_type": "stream",
     "text": [
      "CPU times: user 46.4 s, sys: 153 ms, total: 46.5 s\n",
      "Wall time: 46.9 s\n"
     ]
    },
    {
     "data": {
      "text/plain": [
       "RandomForestRegressor(max_depth=10, n_estimators=21, random_state=12345)"
      ]
     },
     "execution_count": 50,
     "metadata": {},
     "output_type": "execute_result"
    }
   ],
   "source": [
    "%%time\n",
    "\n",
    "model = RandomForestRegressor(random_state=12345, max_depth=10, n_estimators=21)\n",
    "model.fit(ohe_features, target_train)"
   ]
  },
  {
   "cell_type": "code",
   "execution_count": 51,
   "metadata": {},
   "outputs": [
    {
     "name": "stdout",
     "output_type": "stream",
     "text": [
      "CPU times: user 159 ms, sys: 56.6 ms, total: 216 ms\n",
      "Wall time: 226 ms\n"
     ]
    }
   ],
   "source": [
    "%%time\n",
    "\n",
    "predict = model.predict(ohe_features_test)"
   ]
  },
  {
   "cell_type": "code",
   "execution_count": 52,
   "metadata": {},
   "outputs": [
    {
     "name": "stdout",
     "output_type": "stream",
     "text": [
      "RMSE для случайного леса: 1914.2501382505843\n"
     ]
    }
   ],
   "source": [
    "print('RMSE для случайного леса:',mean_squared_error(target_test, predict) ** 0.5)"
   ]
  },
  {
   "cell_type": "code",
   "execution_count": 53,
   "metadata": {},
   "outputs": [
    {
     "data": {
      "image/png": "[encoded data removed]",
      "text/plain": [
       "<Figure size 2160x1080 with 1 Axes>"
      ]
     },
     "metadata": {},
     "output_type": "display_data"
    }
   ],
   "source": [
    "feats = {}\n",
    "for feature, importance in zip(features.columns, model.feature_importances_):\n",
    "    feats[feature] = importance\n",
    "importances = pd.DataFrame.from_dict(feats, orient='index').rename(columns={0: 'Gini-Importance'})\n",
    "importances = importances.sort_values(by='Gini-Importance', ascending=False)\n",
    "importances = importances.reset_index()\n",
    "importances = importances.rename(columns={'index': 'Features'})\n",
    "sns.set(font_scale = 5)\n",
    "sns.set(style=\"whitegrid\", color_codes=True, font_scale = 1.7)\n",
    "fig, ax = plt.subplots()\n",
    "fig.set_size_inches(30,15)\n",
    "sns.barplot(x=importances['Gini-Importance'], y=importances['Features'], data=importances, color='skyblue');"
   ]
  },
  {
   "cell_type": "markdown",
   "metadata": {},
   "source": [
    "**CatBoost**"
   ]
  },
  {
   "cell_type": "code",
   "execution_count": 54,
   "metadata": {},
   "outputs": [
    {
     "name": "stdout",
     "output_type": "stream",
     "text": [
      "CPU times: user 2min 35s, sys: 463 ms, total: 2min 35s\n",
      "Wall time: 2min 38s\n"
     ]
    },
    {
     "data": {
      "text/plain": [
       "<catboost.core.CatBoostRegressor at 0x7f780c559220>"
      ]
     },
     "execution_count": 54,
     "metadata": {},
     "output_type": "execute_result"
    }
   ],
   "source": [
    "%%time\n",
    "\n",
    "model = CatBoostRegressor(learning_rate=0.1, random_state=12345, verbose=False, cat_features=categorical_feats)\n",
    "model.fit(features_train, target_train)"
   ]
  },
  {
   "cell_type": "code",
   "execution_count": 55,
   "metadata": {},
   "outputs": [
    {
     "name": "stdout",
     "output_type": "stream",
     "text": [
      "CPU times: user 491 ms, sys: 12.1 ms, total: 503 ms\n",
      "Wall time: 501 ms\n"
     ]
    }
   ],
   "source": [
    "%%time\n",
    "\n",
    "predict = model.predict(features_test)"
   ]
  },
  {
   "cell_type": "code",
   "execution_count": 56,
   "metadata": {
    "scrolled": true
   },
   "outputs": [
    {
     "name": "stdout",
     "output_type": "stream",
     "text": [
      "RMSE для CatBoost: 1621.7166048874008\n"
     ]
    }
   ],
   "source": [
    "print('RMSE для CatBoost:',mean_squared_error(target_test, predict) ** 0.5)"
   ]
  },
  {
   "cell_type": "code",
   "execution_count": 57,
   "metadata": {},
   "outputs": [
    {
     "data": {
      "image/png": "[encoded data removed]",
      "text/plain": [
       "<Figure size 2160x1080 with 1 Axes>"
      ]
     },
     "metadata": {},
     "output_type": "display_data"
    }
   ],
   "source": [
    "feats = {}\n",
    "for feature, importance in zip(features.columns, model.feature_importances_):\n",
    "    feats[feature] = importance\n",
    "importances = pd.DataFrame.from_dict(feats, orient='index').rename(columns={0: 'Gini-Importance'})\n",
    "importances = importances.sort_values(by='Gini-Importance', ascending=False)\n",
    "importances = importances.reset_index()\n",
    "importances = importances.rename(columns={'index': 'Features'})\n",
    "sns.set(font_scale = 5)\n",
    "sns.set(style=\"whitegrid\", color_codes=True, font_scale = 1.7)\n",
    "fig, ax = plt.subplots()\n",
    "fig.set_size_inches(30,15)\n",
    "sns.barplot(x=importances['Gini-Importance'], y=importances['Features'], data=importances, color='skyblue');"
   ]
  },
  {
   "cell_type": "markdown",
   "metadata": {},
   "source": [
    "**LGBM**"
   ]
  },
  {
   "cell_type": "code",
   "execution_count": 58,
   "metadata": {},
   "outputs": [
    {
     "name": "stdout",
     "output_type": "stream",
     "text": [
      "CPU times: user 1min 6s, sys: 521 ms, total: 1min 6s\n",
      "Wall time: 1min 7s\n"
     ]
    },
    {
     "data": {
      "text/plain": [
       "LGBMRegressor(n_estimators=151, num_leaves=200, objective='regression',\n",
       "              random_state=12345)"
      ]
     },
     "execution_count": 58,
     "metadata": {},
     "output_type": "execute_result"
    }
   ],
   "source": [
    "%%time\n",
    "\n",
    "model = LGBMRegressor(random_state=12345, objective='regression', n_estimators=151, num_leaves=200)\n",
    "model.fit(ohe_features, target_train)"
   ]
  },
  {
   "cell_type": "code",
   "execution_count": 59,
   "metadata": {},
   "outputs": [
    {
     "name": "stdout",
     "output_type": "stream",
     "text": [
      "CPU times: user 1.42 s, sys: 84.5 ms, total: 1.51 s\n",
      "Wall time: 1.51 s\n"
     ]
    }
   ],
   "source": [
    "%%time\n",
    "\n",
    "predict = model.predict(ohe_features_test)"
   ]
  },
  {
   "cell_type": "code",
   "execution_count": 60,
   "metadata": {
    "scrolled": true
   },
   "outputs": [
    {
     "name": "stdout",
     "output_type": "stream",
     "text": [
      "RMSE для LGBM: 1593.7654021445885\n"
     ]
    }
   ],
   "source": [
    "print('RMSE для LGBM:',mean_squared_error(target_test, predict) ** 0.5)"
   ]
  },
  {
   "cell_type": "code",
   "execution_count": 61,
   "metadata": {},
   "outputs": [
    {
     "data": {
      "image/png": "[encoded data removed]",
      "text/plain": [
       "<Figure size 2160x1080 with 1 Axes>"
      ]
     },
     "metadata": {},
     "output_type": "display_data"
    }
   ],
   "source": [
    "feats = {}\n",
    "for feature, importance in zip(features.columns, model.feature_importances_):\n",
    "    feats[feature] = importance\n",
    "importances = pd.DataFrame.from_dict(feats, orient='index').rename(columns={0: 'Gini-Importance'})\n",
    "importances = importances.sort_values(by='Gini-Importance', ascending=False)\n",
    "importances = importances.reset_index()\n",
    "importances = importances.rename(columns={'index': 'Features'})\n",
    "sns.set(font_scale = 5)\n",
    "sns.set(style=\"whitegrid\", color_codes=True, font_scale = 1.7)\n",
    "fig, ax = plt.subplots()\n",
    "fig.set_size_inches(30,15)\n",
    "sns.barplot(x=importances['Gini-Importance'], y=importances['Features'], data=importances, color='skyblue');"
   ]
  },
  {
   "cell_type": "code",
   "execution_count": 62,
   "metadata": {},
   "outputs": [
    {
     "data": {
      "text/html": [
       "<div>\n",
       "<style scoped>\n",
       "    .dataframe tbody tr th:only-of-type {\n",
       "        vertical-align: middle;\n",
       "    }\n",
       "\n",
       "    .dataframe tbody tr th {\n",
       "        vertical-align: top;\n",
       "    }\n",
       "\n",
       "    .dataframe thead th {\n",
       "        text-align: right;\n",
       "    }\n",
       "</style>\n",
       "<table border=\"1\" class=\"dataframe\">\n",
       "  <thead>\n",
       "    <tr style=\"text-align: right;\">\n",
       "      <th></th>\n",
       "      <th>fit_time</th>\n",
       "      <th>predict_time</th>\n",
       "      <th>RMSE</th>\n",
       "    </tr>\n",
       "  </thead>\n",
       "  <tbody>\n",
       "    <tr>\n",
       "      <th>Linear</th>\n",
       "      <td>18.2 s</td>\n",
       "      <td>228 ms</td>\n",
       "      <td>2344.6</td>\n",
       "    </tr>\n",
       "    <tr>\n",
       "      <th>Tree</th>\n",
       "      <td>4.25 s</td>\n",
       "      <td>122 ms</td>\n",
       "      <td>1896.2</td>\n",
       "    </tr>\n",
       "    <tr>\n",
       "      <th>Forest</th>\n",
       "      <td>46.9 s</td>\n",
       "      <td>226 ms</td>\n",
       "      <td>1914.2</td>\n",
       "    </tr>\n",
       "    <tr>\n",
       "      <th>Catboost</th>\n",
       "      <td>2min 38s</td>\n",
       "      <td>501 ms</td>\n",
       "      <td>1621.7</td>\n",
       "    </tr>\n",
       "    <tr>\n",
       "      <th>LGBM</th>\n",
       "      <td>1min 7s</td>\n",
       "      <td>1.51 s</td>\n",
       "      <td>1593.7</td>\n",
       "    </tr>\n",
       "  </tbody>\n",
       "</table>\n",
       "</div>"
      ],
      "text/plain": [
       "          fit_time predict_time    RMSE\n",
       "Linear      18.2 s       228 ms  2344.6\n",
       "Tree        4.25 s       122 ms  1896.2\n",
       "Forest      46.9 s       226 ms  1914.2\n",
       "Catboost  2min 38s       501 ms  1621.7\n",
       "LGBM       1min 7s       1.51 s  1593.7"
      ]
     },
     "execution_count": 62,
     "metadata": {},
     "output_type": "execute_result"
    }
   ],
   "source": [
    "# создание таблицы\n",
    "data = [['18.2 s', '228 ms', 2344.6],\n",
    "        ['4.25 s', '122 ms', 1896.2],\n",
    "        ['46.9 s', '226 ms', 1914.2],\n",
    "        ['2min 38s', '501 ms', 1621.7],\n",
    "        ['1min 7s', '1.51 s', 1593.7]]\n",
    "models = ['Linear', 'Tree', 'Forest', 'Catboost', 'LGBM']\n",
    "\n",
    "pd.DataFrame(data=data, index=models, columns=['fit_time', 'predict_time', 'RMSE'])"
   ]
  },
  {
   "cell_type": "markdown",
   "metadata": {},
   "source": [
    "Таким образом, быстрее всех обучается и предсказывает модель дерева решений, при этом значение метрики RMSE у данной модели 1896.2, что больше чем у модель LGBMRegressor. LGBM показала самое лучшее значение RMSE из всех моделей. Чуть хуже оказалось значение метрики у Catboost, однако данная модель обучается и предсказывает дольше остальных."
   ]
  },
  {
   "cell_type": "code",
   "execution_count": null,
   "metadata": {},
   "outputs": [],
   "source": []
  }
 ],
 "metadata": {
  "ExecuteTimeLog": [
   {
    "duration": 384,
    "start_time": "2022-04-24T18:01:41.413Z"
   },
   {
    "duration": 982,
    "start_time": "2022-04-24T18:03:22.523Z"
   },
   {
    "duration": 32,
    "start_time": "2022-04-24T18:03:40.345Z"
   },
   {
    "duration": 156,
    "start_time": "2022-04-24T18:04:35.915Z"
   },
   {
    "duration": 542,
    "start_time": "2022-04-25T16:06:09.902Z"
   },
   {
    "duration": 1338,
    "start_time": "2022-04-25T16:06:10.448Z"
   },
   {
    "duration": 39,
    "start_time": "2022-04-25T16:06:11.789Z"
   },
   {
    "duration": 181,
    "start_time": "2022-04-25T16:06:11.831Z"
   },
   {
    "duration": 171,
    "start_time": "2022-04-25T16:06:35.204Z"
   },
   {
    "duration": 158,
    "start_time": "2022-04-25T16:06:42.486Z"
   },
   {
    "duration": 314,
    "start_time": "2022-04-25T16:10:32.810Z"
   },
   {
    "duration": 159,
    "start_time": "2022-04-25T16:10:55.954Z"
   },
   {
    "duration": 167,
    "start_time": "2022-04-25T16:11:46.421Z"
   },
   {
    "duration": 29,
    "start_time": "2022-04-25T16:12:59.486Z"
   },
   {
    "duration": 29,
    "start_time": "2022-04-25T16:15:21.526Z"
   },
   {
    "duration": 129,
    "start_time": "2022-04-25T16:15:30.984Z"
   },
   {
    "duration": 39,
    "start_time": "2022-04-25T16:16:29.399Z"
   },
   {
    "duration": 30,
    "start_time": "2022-04-25T16:16:34.700Z"
   },
   {
    "duration": 67,
    "start_time": "2022-04-25T16:16:49.340Z"
   },
   {
    "duration": 148,
    "start_time": "2022-04-25T16:27:46.620Z"
   },
   {
    "duration": 283,
    "start_time": "2022-04-25T16:38:47.292Z"
   },
   {
    "duration": 71,
    "start_time": "2022-04-25T16:39:49.900Z"
   },
   {
    "duration": 64,
    "start_time": "2022-04-25T16:40:10.424Z"
   },
   {
    "duration": 69,
    "start_time": "2022-04-25T16:41:56.210Z"
   },
   {
    "duration": 15,
    "start_time": "2022-04-25T16:44:32.842Z"
   },
   {
    "duration": 12,
    "start_time": "2022-04-25T16:46:10.854Z"
   },
   {
    "duration": 318,
    "start_time": "2022-04-25T16:46:32.460Z"
   },
   {
    "duration": 277,
    "start_time": "2022-04-25T17:57:55.206Z"
   },
   {
    "duration": 314,
    "start_time": "2022-04-25T18:10:08.464Z"
   },
   {
    "duration": 285,
    "start_time": "2022-04-25T18:13:55.449Z"
   },
   {
    "duration": 2293,
    "start_time": "2022-04-25T18:14:44.661Z"
   },
   {
    "duration": 299,
    "start_time": "2022-04-25T18:15:05.546Z"
   },
   {
    "duration": 11,
    "start_time": "2022-04-25T18:15:48.837Z"
   },
   {
    "duration": 10,
    "start_time": "2022-04-25T18:16:15.696Z"
   },
   {
    "duration": 10,
    "start_time": "2022-04-25T18:17:09.663Z"
   },
   {
    "duration": 11,
    "start_time": "2022-04-25T18:17:20.410Z"
   },
   {
    "duration": 12,
    "start_time": "2022-04-25T18:17:35.499Z"
   },
   {
    "duration": 6,
    "start_time": "2022-04-25T18:17:49.981Z"
   },
   {
    "duration": 111,
    "start_time": "2022-04-25T18:18:04.960Z"
   },
   {
    "duration": 137,
    "start_time": "2022-04-25T18:18:59.831Z"
   },
   {
    "duration": 129,
    "start_time": "2022-04-25T18:20:15.046Z"
   },
   {
    "duration": 129,
    "start_time": "2022-04-25T18:20:31.687Z"
   },
   {
    "duration": 158,
    "start_time": "2022-04-25T18:20:48.394Z"
   },
   {
    "duration": 137,
    "start_time": "2022-04-25T18:21:10.816Z"
   },
   {
    "duration": 194,
    "start_time": "2022-04-25T18:22:24.425Z"
   },
   {
    "duration": 131,
    "start_time": "2022-04-25T18:22:32.813Z"
   },
   {
    "duration": 176,
    "start_time": "2022-04-25T18:23:20.559Z"
   },
   {
    "duration": 130,
    "start_time": "2022-04-25T18:23:56.252Z"
   },
   {
    "duration": 307,
    "start_time": "2022-04-25T18:24:35.666Z"
   },
   {
    "duration": 301,
    "start_time": "2022-04-25T18:25:03.957Z"
   },
   {
    "duration": 135,
    "start_time": "2022-04-25T18:25:41.689Z"
   },
   {
    "duration": 127,
    "start_time": "2022-04-25T18:27:32.416Z"
   },
   {
    "duration": 8296,
    "start_time": "2022-04-25T18:27:43.634Z"
   },
   {
    "duration": 2355,
    "start_time": "2022-04-25T18:28:57.203Z"
   },
   {
    "duration": 5819,
    "start_time": "2022-04-25T18:37:54.467Z"
   },
   {
    "duration": 6386,
    "start_time": "2022-04-25T18:39:16.176Z"
   },
   {
    "duration": 98,
    "start_time": "2022-04-25T18:41:38.444Z"
   },
   {
    "duration": 270,
    "start_time": "2022-04-25T18:42:27.099Z"
   },
   {
    "duration": 6523,
    "start_time": "2022-04-25T18:42:32.993Z"
   },
   {
    "duration": 71,
    "start_time": "2022-04-25T18:42:45.838Z"
   },
   {
    "duration": 5946,
    "start_time": "2022-04-25T18:43:26.773Z"
   },
   {
    "duration": 69,
    "start_time": "2022-04-25T18:43:37.401Z"
   },
   {
    "duration": 5643,
    "start_time": "2022-04-25T18:46:26.267Z"
   },
   {
    "duration": 71,
    "start_time": "2022-04-25T18:46:52.089Z"
   },
   {
    "duration": 5603,
    "start_time": "2022-04-25T18:48:10.475Z"
   },
   {
    "duration": 13,
    "start_time": "2022-04-25T18:48:39.455Z"
   },
   {
    "duration": 12,
    "start_time": "2022-04-25T18:50:55.339Z"
   },
   {
    "duration": 12,
    "start_time": "2022-04-25T18:51:32.353Z"
   },
   {
    "duration": 9,
    "start_time": "2022-04-25T19:03:14.223Z"
   },
   {
    "duration": 13,
    "start_time": "2022-04-25T19:03:27.559Z"
   },
   {
    "duration": 10,
    "start_time": "2022-04-25T19:04:36.377Z"
   },
   {
    "duration": 13,
    "start_time": "2022-04-25T19:04:43.849Z"
   },
   {
    "duration": 5418,
    "start_time": "2022-04-25T19:05:17.997Z"
   },
   {
    "duration": 5628,
    "start_time": "2022-04-25T19:05:59.497Z"
   },
   {
    "duration": 311,
    "start_time": "2022-04-25T19:08:36.805Z"
   },
   {
    "duration": 5131,
    "start_time": "2022-04-25T19:08:44.629Z"
   },
   {
    "duration": 69,
    "start_time": "2022-04-25T19:09:06.311Z"
   },
   {
    "duration": 54,
    "start_time": "2022-04-25T19:09:38.901Z"
   },
   {
    "duration": 5,
    "start_time": "2022-04-25T19:11:49.394Z"
   },
   {
    "duration": 5318,
    "start_time": "2022-04-25T19:11:55.459Z"
   },
   {
    "duration": 8074,
    "start_time": "2022-04-25T19:14:40.116Z"
   },
   {
    "duration": 2354,
    "start_time": "2022-04-25T19:15:08.892Z"
   },
   {
    "duration": 8361,
    "start_time": "2022-04-25T19:16:57.224Z"
   },
   {
    "duration": 65,
    "start_time": "2022-04-25T19:17:15.299Z"
   },
   {
    "duration": 5004,
    "start_time": "2022-04-25T19:24:33.906Z"
   },
   {
    "duration": 66,
    "start_time": "2022-04-25T19:24:44.490Z"
   },
   {
    "duration": 13,
    "start_time": "2022-04-25T19:25:18.599Z"
   },
   {
    "duration": 151,
    "start_time": "2022-04-25T19:25:34.940Z"
   },
   {
    "duration": 5,
    "start_time": "2022-04-25T19:26:09.327Z"
   },
   {
    "duration": 12,
    "start_time": "2022-04-25T19:26:11.821Z"
   },
   {
    "duration": 4,
    "start_time": "2022-04-25T19:26:40.654Z"
   },
   {
    "duration": 9,
    "start_time": "2022-04-25T19:26:49.766Z"
   },
   {
    "duration": 12,
    "start_time": "2022-04-25T19:26:58.713Z"
   },
   {
    "duration": 13,
    "start_time": "2022-04-25T19:28:37.887Z"
   },
   {
    "duration": 12,
    "start_time": "2022-04-25T19:28:52.137Z"
   },
   {
    "duration": 5359,
    "start_time": "2022-04-25T19:33:03.141Z"
   },
   {
    "duration": 6,
    "start_time": "2022-04-25T19:33:24.059Z"
   },
   {
    "duration": 90,
    "start_time": "2022-04-25T19:33:39.188Z"
   },
   {
    "duration": 7,
    "start_time": "2022-04-25T19:33:49.785Z"
   },
   {
    "duration": 33,
    "start_time": "2022-04-25T19:34:26.398Z"
   },
   {
    "duration": 7,
    "start_time": "2022-04-25T19:34:51.719Z"
   },
   {
    "duration": 24,
    "start_time": "2022-04-25T19:35:30.598Z"
   },
   {
    "duration": 479,
    "start_time": "2022-04-25T19:35:42.868Z"
   },
   {
    "duration": 1179,
    "start_time": "2022-04-25T19:35:43.350Z"
   },
   {
    "duration": 31,
    "start_time": "2022-04-25T19:35:44.531Z"
   },
   {
    "duration": 174,
    "start_time": "2022-04-25T19:35:44.565Z"
   },
   {
    "duration": 164,
    "start_time": "2022-04-25T19:35:44.741Z"
   },
   {
    "duration": 165,
    "start_time": "2022-04-25T19:35:44.907Z"
   },
   {
    "duration": 155,
    "start_time": "2022-04-25T19:35:45.074Z"
   },
   {
    "duration": 277,
    "start_time": "2022-04-25T19:35:45.232Z"
   },
   {
    "duration": 0,
    "start_time": "2022-04-25T19:35:45.525Z"
   },
   {
    "duration": 0,
    "start_time": "2022-04-25T19:35:45.527Z"
   },
   {
    "duration": 0,
    "start_time": "2022-04-25T19:35:45.528Z"
   },
   {
    "duration": 0,
    "start_time": "2022-04-25T19:35:45.530Z"
   },
   {
    "duration": 0,
    "start_time": "2022-04-25T19:35:45.531Z"
   },
   {
    "duration": 0,
    "start_time": "2022-04-25T19:35:45.532Z"
   },
   {
    "duration": 0,
    "start_time": "2022-04-25T19:35:45.533Z"
   },
   {
    "duration": 0,
    "start_time": "2022-04-25T19:35:45.534Z"
   },
   {
    "duration": 0,
    "start_time": "2022-04-25T19:35:45.536Z"
   },
   {
    "duration": 0,
    "start_time": "2022-04-25T19:35:45.537Z"
   },
   {
    "duration": 276,
    "start_time": "2022-04-25T19:36:12.123Z"
   },
   {
    "duration": 167,
    "start_time": "2022-04-25T19:36:23.719Z"
   },
   {
    "duration": 7,
    "start_time": "2022-04-25T19:36:40.004Z"
   },
   {
    "duration": 24,
    "start_time": "2022-04-25T19:36:47.194Z"
   },
   {
    "duration": 2288,
    "start_time": "2022-04-25T19:37:15.643Z"
   },
   {
    "duration": 561,
    "start_time": "2022-04-25T19:37:50.813Z"
   },
   {
    "duration": 26,
    "start_time": "2022-04-25T19:38:57.707Z"
   },
   {
    "duration": 188,
    "start_time": "2022-04-25T19:39:34.248Z"
   },
   {
    "duration": 10,
    "start_time": "2022-04-25T19:40:19.034Z"
   },
   {
    "duration": 5,
    "start_time": "2022-04-25T19:40:36.090Z"
   },
   {
    "duration": 213,
    "start_time": "2022-04-25T19:41:33.684Z"
   },
   {
    "duration": 6,
    "start_time": "2022-04-25T19:42:18.521Z"
   },
   {
    "duration": 206,
    "start_time": "2022-04-25T19:42:34.428Z"
   },
   {
    "duration": 7,
    "start_time": "2022-04-25T19:46:33.149Z"
   },
   {
    "duration": 23,
    "start_time": "2022-04-25T19:46:37.056Z"
   },
   {
    "duration": 4,
    "start_time": "2022-04-25T19:49:12.995Z"
   },
   {
    "duration": 160,
    "start_time": "2022-04-25T19:49:41.312Z"
   },
   {
    "duration": 136,
    "start_time": "2022-04-25T19:50:32.976Z"
   },
   {
    "duration": 4,
    "start_time": "2022-04-25T19:51:16.606Z"
   },
   {
    "duration": 15823,
    "start_time": "2022-04-25T19:51:19.124Z"
   },
   {
    "duration": 28,
    "start_time": "2022-04-25T19:52:50.940Z"
   },
   {
    "duration": 5,
    "start_time": "2022-04-25T19:52:55.867Z"
   },
   {
    "duration": 14122,
    "start_time": "2022-04-25T19:52:58.742Z"
   },
   {
    "duration": 15551,
    "start_time": "2022-04-25T19:53:19.225Z"
   },
   {
    "duration": 29,
    "start_time": "2022-04-25T19:53:41.358Z"
   },
   {
    "duration": 6,
    "start_time": "2022-04-25T19:53:44.105Z"
   },
   {
    "duration": 13919,
    "start_time": "2022-04-25T19:53:46.918Z"
   },
   {
    "duration": 5,
    "start_time": "2022-04-25T19:54:09.674Z"
   },
   {
    "duration": 5794,
    "start_time": "2022-04-25T19:54:12.712Z"
   },
   {
    "duration": 36,
    "start_time": "2022-04-25T19:54:34.421Z"
   },
   {
    "duration": 7,
    "start_time": "2022-04-25T19:54:41.516Z"
   },
   {
    "duration": 435,
    "start_time": "2022-04-26T15:43:09.694Z"
   },
   {
    "duration": 823,
    "start_time": "2022-04-26T15:43:10.939Z"
   },
   {
    "duration": 19,
    "start_time": "2022-04-26T15:43:12.281Z"
   },
   {
    "duration": 129,
    "start_time": "2022-04-26T15:43:18.340Z"
   },
   {
    "duration": 126,
    "start_time": "2022-04-26T15:43:19.855Z"
   },
   {
    "duration": 124,
    "start_time": "2022-04-26T15:43:33.771Z"
   },
   {
    "duration": 100,
    "start_time": "2022-04-26T15:46:14.323Z"
   },
   {
    "duration": 22,
    "start_time": "2022-04-26T15:47:05.225Z"
   },
   {
    "duration": 21,
    "start_time": "2022-04-26T15:48:50.762Z"
   },
   {
    "duration": 32,
    "start_time": "2022-04-26T15:49:43.373Z"
   },
   {
    "duration": 18,
    "start_time": "2022-04-26T15:50:08.839Z"
   },
   {
    "duration": 227,
    "start_time": "2022-04-26T15:51:21.463Z"
   },
   {
    "duration": 32,
    "start_time": "2022-04-26T15:51:36.787Z"
   },
   {
    "duration": 21,
    "start_time": "2022-04-26T15:52:15.701Z"
   },
   {
    "duration": 274,
    "start_time": "2022-04-26T15:52:16.793Z"
   },
   {
    "duration": 5205,
    "start_time": "2022-04-26T15:54:12.854Z"
   },
   {
    "duration": 6,
    "start_time": "2022-04-26T15:54:50.477Z"
   },
   {
    "duration": 17,
    "start_time": "2022-04-26T15:56:03.245Z"
   },
   {
    "duration": 27,
    "start_time": "2022-04-26T15:56:22.752Z"
   },
   {
    "duration": 31,
    "start_time": "2022-04-26T16:05:32.493Z"
   },
   {
    "duration": 23,
    "start_time": "2022-04-26T16:05:50.664Z"
   },
   {
    "duration": 25,
    "start_time": "2022-04-26T16:06:04.691Z"
   },
   {
    "duration": 20,
    "start_time": "2022-04-26T16:06:36.784Z"
   },
   {
    "duration": 163,
    "start_time": "2022-04-26T16:07:12.364Z"
   },
   {
    "duration": 39,
    "start_time": "2022-04-26T17:25:35.979Z"
   },
   {
    "duration": 37,
    "start_time": "2022-04-26T17:30:53.896Z"
   },
   {
    "duration": 156,
    "start_time": "2022-04-26T17:32:29.521Z"
   },
   {
    "duration": 168,
    "start_time": "2022-04-26T17:32:44.167Z"
   },
   {
    "duration": 4655,
    "start_time": "2022-04-26T17:34:16.806Z"
   },
   {
    "duration": 90,
    "start_time": "2022-04-26T17:34:36.153Z"
   },
   {
    "duration": 25,
    "start_time": "2022-04-26T17:37:26.003Z"
   },
   {
    "duration": 62,
    "start_time": "2022-04-26T17:39:26.599Z"
   },
   {
    "duration": 87,
    "start_time": "2022-04-26T17:39:47.936Z"
   },
   {
    "duration": 68,
    "start_time": "2022-04-26T17:40:19.074Z"
   },
   {
    "duration": 23,
    "start_time": "2022-04-26T17:41:15.573Z"
   },
   {
    "duration": 23,
    "start_time": "2022-04-26T17:41:33.567Z"
   },
   {
    "duration": 94,
    "start_time": "2022-04-26T17:41:35.973Z"
   },
   {
    "duration": 8,
    "start_time": "2022-04-26T17:42:34.813Z"
   },
   {
    "duration": 861,
    "start_time": "2022-04-26T17:51:33.127Z"
   },
   {
    "duration": 436,
    "start_time": "2022-04-26T17:52:10.084Z"
   },
   {
    "duration": 345,
    "start_time": "2022-04-26T17:52:23.013Z"
   },
   {
    "duration": 471,
    "start_time": "2022-04-26T17:52:31.372Z"
   },
   {
    "duration": 303,
    "start_time": "2022-04-26T17:52:38.041Z"
   },
   {
    "duration": 81,
    "start_time": "2022-04-26T17:54:36.508Z"
   },
   {
    "duration": 9,
    "start_time": "2022-04-26T17:54:42.449Z"
   },
   {
    "duration": 6,
    "start_time": "2022-04-26T17:54:49.059Z"
   },
   {
    "duration": 257,
    "start_time": "2022-04-26T17:55:11.493Z"
   },
   {
    "duration": 236,
    "start_time": "2022-04-26T17:55:36.782Z"
   },
   {
    "duration": 339,
    "start_time": "2022-04-26T17:56:24.311Z"
   },
   {
    "duration": 408,
    "start_time": "2022-04-26T17:56:42.331Z"
   },
   {
    "duration": 830,
    "start_time": "2022-04-26T17:56:50.605Z"
   },
   {
    "duration": 11,
    "start_time": "2022-04-26T17:58:53.242Z"
   },
   {
    "duration": 2,
    "start_time": "2022-04-26T18:01:35.132Z"
   },
   {
    "duration": 11,
    "start_time": "2022-04-26T18:01:43.091Z"
   },
   {
    "duration": 775,
    "start_time": "2022-04-26T18:02:30.640Z"
   },
   {
    "duration": 36,
    "start_time": "2022-04-26T18:02:46.708Z"
   },
   {
    "duration": 106,
    "start_time": "2022-04-26T18:03:16.283Z"
   },
   {
    "duration": 109,
    "start_time": "2022-04-26T18:03:29.585Z"
   },
   {
    "duration": 126,
    "start_time": "2022-04-26T18:03:34.934Z"
   },
   {
    "duration": 148,
    "start_time": "2022-04-26T18:05:16.561Z"
   },
   {
    "duration": 124,
    "start_time": "2022-04-26T18:05:21.973Z"
   },
   {
    "duration": 105,
    "start_time": "2022-04-26T18:05:30.433Z"
   },
   {
    "duration": 113,
    "start_time": "2022-04-26T18:06:05.384Z"
   },
   {
    "duration": 125,
    "start_time": "2022-04-26T18:06:18.300Z"
   },
   {
    "duration": 121,
    "start_time": "2022-04-26T18:06:52.444Z"
   },
   {
    "duration": 179,
    "start_time": "2022-04-26T18:07:03.162Z"
   },
   {
    "duration": 115,
    "start_time": "2022-04-26T18:07:12.198Z"
   },
   {
    "duration": 107,
    "start_time": "2022-04-26T18:07:29.386Z"
   },
   {
    "duration": 122,
    "start_time": "2022-04-26T18:07:33.922Z"
   },
   {
    "duration": 125,
    "start_time": "2022-04-26T18:08:38.640Z"
   },
   {
    "duration": 93,
    "start_time": "2022-04-26T18:09:33.187Z"
   },
   {
    "duration": 101,
    "start_time": "2022-04-26T18:09:39.640Z"
   },
   {
    "duration": 59,
    "start_time": "2022-04-26T18:11:01.052Z"
   },
   {
    "duration": 160,
    "start_time": "2022-04-26T18:11:58.298Z"
   },
   {
    "duration": 337,
    "start_time": "2022-04-26T18:12:03.408Z"
   },
   {
    "duration": 146,
    "start_time": "2022-04-26T18:13:55.997Z"
   },
   {
    "duration": 14,
    "start_time": "2022-04-26T18:14:25.852Z"
   },
   {
    "duration": 97,
    "start_time": "2022-04-26T18:14:29.528Z"
   },
   {
    "duration": 14,
    "start_time": "2022-04-26T18:15:43.106Z"
   },
   {
    "duration": 17,
    "start_time": "2022-04-26T18:18:47.204Z"
   },
   {
    "duration": 24,
    "start_time": "2022-04-26T18:20:44.962Z"
   },
   {
    "duration": 276,
    "start_time": "2022-04-26T18:21:28.745Z"
   },
   {
    "duration": 288,
    "start_time": "2022-04-26T18:21:42.796Z"
   },
   {
    "duration": 293,
    "start_time": "2022-04-26T18:22:00.346Z"
   },
   {
    "duration": 272,
    "start_time": "2022-04-26T18:22:33.773Z"
   },
   {
    "duration": 15,
    "start_time": "2022-04-26T18:23:00.257Z"
   },
   {
    "duration": 294,
    "start_time": "2022-04-26T18:23:28.128Z"
   },
   {
    "duration": 20,
    "start_time": "2022-04-26T18:23:31.794Z"
   },
   {
    "duration": 15,
    "start_time": "2022-04-26T18:23:41.322Z"
   },
   {
    "duration": 430,
    "start_time": "2022-04-26T18:23:48.809Z"
   },
   {
    "duration": 17,
    "start_time": "2022-04-26T18:23:51.643Z"
   },
   {
    "duration": 302,
    "start_time": "2022-04-26T18:23:56.004Z"
   },
   {
    "duration": 16,
    "start_time": "2022-04-26T18:23:58.560Z"
   },
   {
    "duration": 407,
    "start_time": "2022-04-26T18:25:13.979Z"
   },
   {
    "duration": 13,
    "start_time": "2022-04-26T18:25:16.610Z"
   },
   {
    "duration": 498,
    "start_time": "2022-04-26T18:25:20.342Z"
   },
   {
    "duration": 13,
    "start_time": "2022-04-26T18:25:23.324Z"
   },
   {
    "duration": 229,
    "start_time": "2022-04-26T18:25:29.815Z"
   },
   {
    "duration": 11,
    "start_time": "2022-04-26T18:25:32.243Z"
   },
   {
    "duration": 778,
    "start_time": "2022-04-27T14:57:35.048Z"
   },
   {
    "duration": 823,
    "start_time": "2022-04-27T14:57:35.828Z"
   },
   {
    "duration": 16,
    "start_time": "2022-04-27T14:57:36.653Z"
   },
   {
    "duration": 117,
    "start_time": "2022-04-27T14:57:36.671Z"
   },
   {
    "duration": 107,
    "start_time": "2022-04-27T14:57:36.790Z"
   },
   {
    "duration": 109,
    "start_time": "2022-04-27T14:57:36.899Z"
   },
   {
    "duration": 95,
    "start_time": "2022-04-27T14:57:37.010Z"
   },
   {
    "duration": 25,
    "start_time": "2022-04-27T14:57:37.107Z"
   },
   {
    "duration": 37,
    "start_time": "2022-04-27T14:57:37.134Z"
   },
   {
    "duration": 15,
    "start_time": "2022-04-27T14:57:37.173Z"
   },
   {
    "duration": 38,
    "start_time": "2022-04-27T14:57:37.189Z"
   },
   {
    "duration": 179,
    "start_time": "2022-04-27T14:57:37.228Z"
   },
   {
    "duration": 3302,
    "start_time": "2022-04-27T14:57:37.409Z"
   },
   {
    "duration": 24,
    "start_time": "2022-04-27T14:57:40.713Z"
   },
   {
    "duration": 24,
    "start_time": "2022-04-27T14:57:40.739Z"
   },
   {
    "duration": 3207,
    "start_time": "2022-04-27T14:57:40.765Z"
   },
   {
    "duration": 19,
    "start_time": "2022-04-27T14:57:43.974Z"
   },
   {
    "duration": 32,
    "start_time": "2022-04-27T14:57:43.994Z"
   },
   {
    "duration": 14,
    "start_time": "2022-04-27T14:57:44.028Z"
   },
   {
    "duration": 49,
    "start_time": "2022-04-27T14:57:44.044Z"
   },
   {
    "duration": 34,
    "start_time": "2022-04-27T14:57:44.094Z"
   },
   {
    "duration": 72,
    "start_time": "2022-04-27T14:57:44.130Z"
   },
   {
    "duration": 8,
    "start_time": "2022-04-27T14:57:44.204Z"
   },
   {
    "duration": 143,
    "start_time": "2022-04-27T14:57:44.224Z"
   },
   {
    "duration": 8,
    "start_time": "2022-04-27T14:57:44.369Z"
   },
   {
    "duration": 17,
    "start_time": "2022-04-27T14:57:44.379Z"
   },
   {
    "duration": 309,
    "start_time": "2022-04-27T14:57:44.398Z"
   },
   {
    "duration": 16,
    "start_time": "2022-04-27T14:58:01.065Z"
   },
   {
    "duration": 308,
    "start_time": "2022-04-27T14:58:10.751Z"
   },
   {
    "duration": 16,
    "start_time": "2022-04-27T14:58:13.757Z"
   },
   {
    "duration": 263,
    "start_time": "2022-04-27T14:58:19.238Z"
   },
   {
    "duration": 16,
    "start_time": "2022-04-27T14:58:21.964Z"
   },
   {
    "duration": 7,
    "start_time": "2022-04-27T15:01:23.164Z"
   },
   {
    "duration": 13,
    "start_time": "2022-04-27T15:17:06.272Z"
   },
   {
    "duration": 76,
    "start_time": "2022-04-27T15:17:09.293Z"
   },
   {
    "duration": 21,
    "start_time": "2022-04-27T15:18:12.283Z"
   },
   {
    "duration": 7,
    "start_time": "2022-04-27T15:18:42.956Z"
   },
   {
    "duration": 9,
    "start_time": "2022-04-27T15:21:45.271Z"
   },
   {
    "duration": 22,
    "start_time": "2022-04-27T15:22:58.981Z"
   },
   {
    "duration": 84,
    "start_time": "2022-04-27T15:24:07.783Z"
   },
   {
    "duration": 78,
    "start_time": "2022-04-27T15:24:22.943Z"
   },
   {
    "duration": 653,
    "start_time": "2022-04-27T15:25:41.683Z"
   },
   {
    "duration": 787,
    "start_time": "2022-04-27T15:25:42.338Z"
   },
   {
    "duration": 16,
    "start_time": "2022-04-27T15:25:43.127Z"
   },
   {
    "duration": 117,
    "start_time": "2022-04-27T15:25:43.145Z"
   },
   {
    "duration": 120,
    "start_time": "2022-04-27T15:25:43.263Z"
   },
   {
    "duration": 113,
    "start_time": "2022-04-27T15:25:43.385Z"
   },
   {
    "duration": 105,
    "start_time": "2022-04-27T15:25:43.500Z"
   },
   {
    "duration": 29,
    "start_time": "2022-04-27T15:25:43.607Z"
   },
   {
    "duration": 27,
    "start_time": "2022-04-27T15:25:43.638Z"
   },
   {
    "duration": 14,
    "start_time": "2022-04-27T15:25:43.668Z"
   },
   {
    "duration": 21,
    "start_time": "2022-04-27T15:25:43.683Z"
   },
   {
    "duration": 188,
    "start_time": "2022-04-27T15:25:43.705Z"
   },
   {
    "duration": 2965,
    "start_time": "2022-04-27T15:25:43.894Z"
   },
   {
    "duration": 15,
    "start_time": "2022-04-27T15:25:46.861Z"
   },
   {
    "duration": 22,
    "start_time": "2022-04-27T15:25:46.878Z"
   },
   {
    "duration": 3304,
    "start_time": "2022-04-27T15:25:46.902Z"
   },
   {
    "duration": 53,
    "start_time": "2022-04-27T15:25:50.207Z"
   },
   {
    "duration": 21,
    "start_time": "2022-04-27T15:25:50.262Z"
   },
   {
    "duration": 14,
    "start_time": "2022-04-27T15:25:50.285Z"
   },
   {
    "duration": 68,
    "start_time": "2022-04-27T15:25:50.301Z"
   },
   {
    "duration": 17,
    "start_time": "2022-04-27T15:25:50.371Z"
   },
   {
    "duration": 85,
    "start_time": "2022-04-27T15:25:50.390Z"
   },
   {
    "duration": 11,
    "start_time": "2022-04-27T15:25:50.476Z"
   },
   {
    "duration": 147,
    "start_time": "2022-04-27T15:25:50.489Z"
   },
   {
    "duration": 7,
    "start_time": "2022-04-27T15:25:50.638Z"
   },
   {
    "duration": 19,
    "start_time": "2022-04-27T15:25:50.647Z"
   },
   {
    "duration": 310,
    "start_time": "2022-04-27T15:25:50.668Z"
   },
   {
    "duration": 6,
    "start_time": "2022-04-27T15:25:50.981Z"
   },
   {
    "duration": 37,
    "start_time": "2022-04-27T15:25:50.988Z"
   },
   {
    "duration": 9,
    "start_time": "2022-04-27T15:25:51.026Z"
   },
   {
    "duration": 141,
    "start_time": "2022-04-27T15:25:51.036Z"
   },
   {
    "duration": 129,
    "start_time": "2022-04-27T15:30:02.151Z"
   },
   {
    "duration": 133,
    "start_time": "2022-04-27T15:30:16.003Z"
   },
   {
    "duration": 137,
    "start_time": "2022-04-27T15:30:33.087Z"
   },
   {
    "duration": 256,
    "start_time": "2022-04-27T15:31:43.212Z"
   },
   {
    "duration": 331,
    "start_time": "2022-04-27T16:28:09.011Z"
   },
   {
    "duration": 796,
    "start_time": "2022-04-27T16:32:36.080Z"
   },
   {
    "duration": 12,
    "start_time": "2022-04-27T16:36:22.075Z"
   },
   {
    "duration": 118,
    "start_time": "2022-04-27T16:38:25.805Z"
   },
   {
    "duration": 30,
    "start_time": "2022-04-27T16:38:45.847Z"
   },
   {
    "duration": 100,
    "start_time": "2022-04-27T16:39:47.327Z"
   },
   {
    "duration": 506,
    "start_time": "2022-04-27T18:40:56.872Z"
   },
   {
    "duration": 195,
    "start_time": "2022-04-27T18:51:48.248Z"
   },
   {
    "duration": 3,
    "start_time": "2022-04-27T18:51:58.251Z"
   },
   {
    "duration": 119,
    "start_time": "2022-04-27T18:52:04.480Z"
   },
   {
    "duration": 125,
    "start_time": "2022-04-27T18:54:54.096Z"
   },
   {
    "duration": 108,
    "start_time": "2022-04-27T18:56:58.216Z"
   },
   {
    "duration": 335,
    "start_time": "2022-04-27T18:58:00.696Z"
   },
   {
    "duration": 65899,
    "start_time": "2022-04-27T18:58:03.767Z"
   },
   {
    "duration": 145,
    "start_time": "2022-04-27T19:00:19.306Z"
   },
   {
    "duration": 67350,
    "start_time": "2022-04-27T19:00:53.174Z"
   },
   {
    "duration": 65803,
    "start_time": "2022-04-27T19:02:53.326Z"
   },
   {
    "duration": 67543,
    "start_time": "2022-04-27T19:07:06.282Z"
   },
   {
    "duration": 91889,
    "start_time": "2022-04-27T19:09:30.437Z"
   },
   {
    "duration": 90324,
    "start_time": "2022-04-27T19:11:24.506Z"
   },
   {
    "duration": 82868,
    "start_time": "2022-04-27T19:13:47.562Z"
   },
   {
    "duration": 85,
    "start_time": "2022-04-27T19:21:07.318Z"
   },
   {
    "duration": 162617,
    "start_time": "2022-04-27T19:21:53.356Z"
   },
   {
    "duration": 70,
    "start_time": "2022-04-27T19:27:01.168Z"
   },
   {
    "duration": 167118,
    "start_time": "2022-04-27T19:27:26.396Z"
   },
   {
    "duration": 122,
    "start_time": "2022-04-27T19:36:30.136Z"
   },
   {
    "duration": 2085129,
    "start_time": "2022-04-27T19:37:10.623Z"
   },
   {
    "duration": 715,
    "start_time": "2022-04-27T20:12:10.610Z"
   },
   {
    "duration": 15,
    "start_time": "2022-04-27T20:15:30.290Z"
   },
   {
    "duration": 12,
    "start_time": "2022-04-27T20:15:37.193Z"
   },
   {
    "duration": 10,
    "start_time": "2022-04-27T20:16:31.651Z"
   },
   {
    "duration": 9,
    "start_time": "2022-04-27T20:16:42.182Z"
   },
   {
    "duration": 8,
    "start_time": "2022-04-27T20:17:20.541Z"
   },
   {
    "duration": 846,
    "start_time": "2022-04-27T20:19:50.353Z"
   },
   {
    "duration": 1009,
    "start_time": "2022-04-27T20:20:35.485Z"
   },
   {
    "duration": 13,
    "start_time": "2022-04-27T20:25:42.637Z"
   },
   {
    "duration": 11,
    "start_time": "2022-04-27T20:26:30.935Z"
   },
   {
    "duration": 121,
    "start_time": "2022-04-27T20:26:38.983Z"
   },
   {
    "duration": 578,
    "start_time": "2022-04-27T20:26:47.499Z"
   },
   {
    "duration": 5,
    "start_time": "2022-04-27T20:26:59.758Z"
   },
   {
    "duration": 112,
    "start_time": "2022-04-27T20:27:27.594Z"
   },
   {
    "duration": 11,
    "start_time": "2022-04-27T20:27:32.622Z"
   },
   {
    "duration": 8,
    "start_time": "2022-04-27T20:27:42.890Z"
   },
   {
    "duration": 33,
    "start_time": "2022-04-27T20:27:43.606Z"
   },
   {
    "duration": 574,
    "start_time": "2022-04-27T20:27:54.357Z"
   },
   {
    "duration": 1738,
    "start_time": "2022-04-28T03:42:50.629Z"
   },
   {
    "duration": 978,
    "start_time": "2022-04-28T03:42:52.369Z"
   },
   {
    "duration": 18,
    "start_time": "2022-04-28T03:42:53.349Z"
   },
   {
    "duration": 165,
    "start_time": "2022-04-28T03:42:53.369Z"
   },
   {
    "duration": 142,
    "start_time": "2022-04-28T03:42:53.536Z"
   },
   {
    "duration": 142,
    "start_time": "2022-04-28T03:42:53.679Z"
   },
   {
    "duration": 134,
    "start_time": "2022-04-28T03:42:53.822Z"
   },
   {
    "duration": 24,
    "start_time": "2022-04-28T03:42:53.958Z"
   },
   {
    "duration": 51,
    "start_time": "2022-04-28T03:42:53.983Z"
   },
   {
    "duration": 22,
    "start_time": "2022-04-28T03:42:54.037Z"
   },
   {
    "duration": 199,
    "start_time": "2022-04-28T03:42:54.061Z"
   },
   {
    "duration": 3176,
    "start_time": "2022-04-28T03:42:54.262Z"
   },
   {
    "duration": 20,
    "start_time": "2022-04-28T03:42:57.440Z"
   },
   {
    "duration": 25,
    "start_time": "2022-04-28T03:42:57.462Z"
   },
   {
    "duration": 3295,
    "start_time": "2022-04-28T03:42:57.489Z"
   },
   {
    "duration": 61,
    "start_time": "2022-04-28T03:43:00.786Z"
   },
   {
    "duration": 25,
    "start_time": "2022-04-28T03:43:00.849Z"
   },
   {
    "duration": 75,
    "start_time": "2022-04-28T03:43:00.876Z"
   },
   {
    "duration": 29,
    "start_time": "2022-04-28T03:43:00.953Z"
   },
   {
    "duration": 98,
    "start_time": "2022-04-28T03:43:00.984Z"
   },
   {
    "duration": 22,
    "start_time": "2022-04-28T03:43:01.085Z"
   },
   {
    "duration": 170,
    "start_time": "2022-04-28T03:43:01.109Z"
   },
   {
    "duration": 10,
    "start_time": "2022-04-28T03:43:01.282Z"
   },
   {
    "duration": 22,
    "start_time": "2022-04-28T03:43:01.294Z"
   },
   {
    "duration": 352,
    "start_time": "2022-04-28T03:43:01.332Z"
   },
   {
    "duration": 11,
    "start_time": "2022-04-28T03:43:01.686Z"
   },
   {
    "duration": 173,
    "start_time": "2022-04-28T03:43:01.699Z"
   },
   {
    "duration": 162,
    "start_time": "2022-04-28T03:43:01.876Z"
   },
   {
    "duration": 295,
    "start_time": "2022-04-28T03:43:02.040Z"
   },
   {
    "duration": 13,
    "start_time": "2022-04-28T03:43:02.337Z"
   },
   {
    "duration": 59,
    "start_time": "2022-04-28T03:43:02.352Z"
   },
   {
    "duration": 532,
    "start_time": "2022-04-28T03:43:02.413Z"
   },
   {
    "duration": 75478,
    "start_time": "2022-04-28T03:43:02.947Z"
   },
   {
    "duration": 170855,
    "start_time": "2022-04-28T03:44:18.427Z"
   },
   {
    "duration": 595278,
    "start_time": "2022-04-28T03:47:09.284Z"
   },
   {
    "duration": 138,
    "start_time": "2022-04-28T03:57:04.564Z"
   },
   {
    "duration": 5,
    "start_time": "2022-04-28T03:57:04.704Z"
   },
   {
    "duration": 0,
    "start_time": "2022-04-28T03:57:04.711Z"
   },
   {
    "duration": 6,
    "start_time": "2022-04-28T04:03:38.140Z"
   },
   {
    "duration": 13,
    "start_time": "2022-04-28T04:03:44.644Z"
   },
   {
    "duration": 5,
    "start_time": "2022-04-28T04:04:00.824Z"
   },
   {
    "duration": 331,
    "start_time": "2022-04-28T04:04:06.316Z"
   },
   {
    "duration": 6,
    "start_time": "2022-04-28T04:04:30.878Z"
   },
   {
    "duration": 378,
    "start_time": "2022-04-28T04:07:02.111Z"
   },
   {
    "duration": 140,
    "start_time": "2022-04-28T04:15:36.449Z"
   },
   {
    "duration": 14,
    "start_time": "2022-04-28T04:15:55.725Z"
   },
   {
    "duration": 333,
    "start_time": "2022-04-28T04:17:37.754Z"
   },
   {
    "duration": 30,
    "start_time": "2022-04-28T04:36:38.268Z"
   },
   {
    "duration": 17,
    "start_time": "2022-04-28T04:37:02.231Z"
   },
   {
    "duration": 7909,
    "start_time": "2022-04-28T04:37:34.549Z"
   },
   {
    "duration": 6,
    "start_time": "2022-04-28T04:37:46.193Z"
   },
   {
    "duration": 161155,
    "start_time": "2022-04-28T04:37:57.285Z"
   },
   {
    "duration": 5,
    "start_time": "2022-04-28T04:42:57.893Z"
   },
   {
    "duration": 28496,
    "start_time": "2022-04-28T04:47:38.087Z"
   },
   {
    "duration": 490264,
    "start_time": "2022-04-28T04:49:25.585Z"
   },
   {
    "duration": 1659,
    "start_time": "2022-04-28T15:19:08.082Z"
   },
   {
    "duration": 893,
    "start_time": "2022-04-28T15:19:09.743Z"
   },
   {
    "duration": 17,
    "start_time": "2022-04-28T15:19:10.638Z"
   },
   {
    "duration": 144,
    "start_time": "2022-04-28T15:19:10.658Z"
   },
   {
    "duration": 134,
    "start_time": "2022-04-28T15:19:10.803Z"
   },
   {
    "duration": 163,
    "start_time": "2022-04-28T15:19:10.939Z"
   },
   {
    "duration": 117,
    "start_time": "2022-04-28T15:19:11.104Z"
   },
   {
    "duration": 23,
    "start_time": "2022-04-28T15:19:11.223Z"
   },
   {
    "duration": 43,
    "start_time": "2022-04-28T15:19:11.248Z"
   },
   {
    "duration": 23,
    "start_time": "2022-04-28T15:19:11.294Z"
   },
   {
    "duration": 199,
    "start_time": "2022-04-28T15:19:11.319Z"
   },
   {
    "duration": 3432,
    "start_time": "2022-04-28T15:19:11.520Z"
   },
   {
    "duration": 30,
    "start_time": "2022-04-28T15:19:14.954Z"
   },
   {
    "duration": 30,
    "start_time": "2022-04-28T15:19:14.986Z"
   },
   {
    "duration": 3765,
    "start_time": "2022-04-28T15:19:15.018Z"
   },
   {
    "duration": 57,
    "start_time": "2022-04-28T15:19:18.784Z"
   },
   {
    "duration": 37,
    "start_time": "2022-04-28T15:19:18.842Z"
   },
   {
    "duration": 56,
    "start_time": "2022-04-28T15:19:18.881Z"
   },
   {
    "duration": 40,
    "start_time": "2022-04-28T15:19:18.939Z"
   },
   {
    "duration": 103,
    "start_time": "2022-04-28T15:19:18.981Z"
   },
   {
    "duration": 9,
    "start_time": "2022-04-28T15:19:19.086Z"
   },
   {
    "duration": 185,
    "start_time": "2022-04-28T15:19:19.097Z"
   },
   {
    "duration": 8,
    "start_time": "2022-04-28T15:19:19.284Z"
   },
   {
    "duration": 18,
    "start_time": "2022-04-28T15:19:19.294Z"
   },
   {
    "duration": 351,
    "start_time": "2022-04-28T15:19:19.314Z"
   },
   {
    "duration": 15,
    "start_time": "2022-04-28T15:19:19.667Z"
   },
   {
    "duration": 168,
    "start_time": "2022-04-28T15:19:19.684Z"
   },
   {
    "duration": 160,
    "start_time": "2022-04-28T15:19:19.855Z"
   },
   {
    "duration": 278,
    "start_time": "2022-04-28T15:19:20.017Z"
   },
   {
    "duration": 28,
    "start_time": "2022-04-28T15:19:20.297Z"
   },
   {
    "duration": 130,
    "start_time": "2022-04-28T15:19:20.327Z"
   },
   {
    "duration": 0,
    "start_time": "2022-04-28T15:19:20.460Z"
   },
   {
    "duration": 0,
    "start_time": "2022-04-28T15:19:20.461Z"
   },
   {
    "duration": 0,
    "start_time": "2022-04-28T15:19:20.472Z"
   },
   {
    "duration": 0,
    "start_time": "2022-04-28T15:19:20.474Z"
   },
   {
    "duration": 0,
    "start_time": "2022-04-28T15:19:20.476Z"
   },
   {
    "duration": 0,
    "start_time": "2022-04-28T15:19:20.477Z"
   },
   {
    "duration": 0,
    "start_time": "2022-04-28T15:19:20.479Z"
   },
   {
    "duration": 0,
    "start_time": "2022-04-28T15:19:20.480Z"
   },
   {
    "duration": 0,
    "start_time": "2022-04-28T15:19:20.482Z"
   },
   {
    "duration": 0,
    "start_time": "2022-04-28T15:19:20.483Z"
   },
   {
    "duration": 1534,
    "start_time": "2022-04-28T15:24:12.397Z"
   },
   {
    "duration": 934,
    "start_time": "2022-04-28T15:24:13.933Z"
   },
   {
    "duration": 17,
    "start_time": "2022-04-28T15:24:14.869Z"
   },
   {
    "duration": 150,
    "start_time": "2022-04-28T15:24:14.887Z"
   },
   {
    "duration": 141,
    "start_time": "2022-04-28T15:24:15.040Z"
   },
   {
    "duration": 131,
    "start_time": "2022-04-28T15:24:15.182Z"
   },
   {
    "duration": 122,
    "start_time": "2022-04-28T15:24:15.314Z"
   },
   {
    "duration": 37,
    "start_time": "2022-04-28T15:24:15.438Z"
   },
   {
    "duration": 24,
    "start_time": "2022-04-28T15:24:15.476Z"
   },
   {
    "duration": 21,
    "start_time": "2022-04-28T15:24:15.502Z"
   },
   {
    "duration": 179,
    "start_time": "2022-04-28T15:24:15.525Z"
   },
   {
    "duration": 2915,
    "start_time": "2022-04-28T15:24:15.706Z"
   },
   {
    "duration": 19,
    "start_time": "2022-04-28T15:24:18.623Z"
   },
   {
    "duration": 34,
    "start_time": "2022-04-28T15:24:18.646Z"
   },
   {
    "duration": 3100,
    "start_time": "2022-04-28T15:24:18.682Z"
   },
   {
    "duration": 51,
    "start_time": "2022-04-28T15:24:21.783Z"
   },
   {
    "duration": 21,
    "start_time": "2022-04-28T15:24:21.836Z"
   },
   {
    "duration": 49,
    "start_time": "2022-04-28T15:24:21.875Z"
   },
   {
    "duration": 21,
    "start_time": "2022-04-28T15:24:21.925Z"
   },
   {
    "duration": 98,
    "start_time": "2022-04-28T15:24:21.948Z"
   },
   {
    "duration": 7,
    "start_time": "2022-04-28T15:24:22.048Z"
   },
   {
    "duration": 166,
    "start_time": "2022-04-28T15:24:22.056Z"
   },
   {
    "duration": 7,
    "start_time": "2022-04-28T15:24:22.224Z"
   },
   {
    "duration": 18,
    "start_time": "2022-04-28T15:24:22.233Z"
   },
   {
    "duration": 324,
    "start_time": "2022-04-28T15:24:22.253Z"
   },
   {
    "duration": 10,
    "start_time": "2022-04-28T15:24:22.578Z"
   },
   {
    "duration": 155,
    "start_time": "2022-04-28T15:24:22.589Z"
   },
   {
    "duration": 143,
    "start_time": "2022-04-28T15:24:22.746Z"
   },
   {
    "duration": 262,
    "start_time": "2022-04-28T15:24:22.891Z"
   },
   {
    "duration": 34,
    "start_time": "2022-04-28T15:24:23.154Z"
   },
   {
    "duration": 55,
    "start_time": "2022-04-28T15:24:23.190Z"
   },
   {
    "duration": 508,
    "start_time": "2022-04-28T15:24:23.246Z"
   },
   {
    "duration": 80828,
    "start_time": "2022-04-28T15:24:23.756Z"
   },
   {
    "duration": 179852,
    "start_time": "2022-04-28T15:25:44.586Z"
   },
   {
    "duration": 375036,
    "start_time": "2022-04-28T15:28:44.440Z"
   },
   {
    "duration": 589,
    "start_time": "2022-04-28T15:34:59.478Z"
   },
   {
    "duration": 4,
    "start_time": "2022-04-28T15:35:00.068Z"
   },
   {
    "duration": 1379,
    "start_time": "2022-04-28T15:35:00.073Z"
   },
   {
    "duration": 3,
    "start_time": "2022-04-28T15:35:01.453Z"
   },
   {
    "duration": 15,
    "start_time": "2022-04-28T15:35:01.458Z"
   },
   {
    "duration": 3,
    "start_time": "2022-04-28T15:40:34.522Z"
   },
   {
    "duration": 2977019,
    "start_time": "2022-04-28T15:40:35.492Z"
   },
   {
    "duration": 1432,
    "start_time": "2022-04-28T16:30:12.513Z"
   },
   {
    "duration": 6,
    "start_time": "2022-04-28T16:30:13.946Z"
   },
   {
    "duration": 16,
    "start_time": "2022-04-28T16:31:02.311Z"
   },
   {
    "duration": 2399994,
    "start_time": "2022-04-28T16:31:20.394Z"
   },
   {
    "duration": 1481,
    "start_time": "2022-04-28T17:12:57.040Z"
   },
   {
    "duration": 891,
    "start_time": "2022-04-28T17:12:58.523Z"
   },
   {
    "duration": 17,
    "start_time": "2022-04-28T17:12:59.416Z"
   },
   {
    "duration": 139,
    "start_time": "2022-04-28T17:12:59.435Z"
   },
   {
    "duration": 128,
    "start_time": "2022-04-28T17:12:59.575Z"
   },
   {
    "duration": 128,
    "start_time": "2022-04-28T17:12:59.704Z"
   },
   {
    "duration": 109,
    "start_time": "2022-04-28T17:12:59.834Z"
   },
   {
    "duration": 31,
    "start_time": "2022-04-28T17:12:59.945Z"
   },
   {
    "duration": 19,
    "start_time": "2022-04-28T17:12:59.977Z"
   },
   {
    "duration": 22,
    "start_time": "2022-04-28T17:12:59.999Z"
   },
   {
    "duration": 180,
    "start_time": "2022-04-28T17:13:00.023Z"
   },
   {
    "duration": 2925,
    "start_time": "2022-04-28T17:13:00.205Z"
   },
   {
    "duration": 18,
    "start_time": "2022-04-28T17:13:03.132Z"
   },
   {
    "duration": 33,
    "start_time": "2022-04-28T17:13:03.152Z"
   },
   {
    "duration": 3029,
    "start_time": "2022-04-28T17:13:03.187Z"
   },
   {
    "duration": 56,
    "start_time": "2022-04-28T17:13:06.218Z"
   },
   {
    "duration": 22,
    "start_time": "2022-04-28T17:13:06.275Z"
   },
   {
    "duration": 50,
    "start_time": "2022-04-28T17:13:06.299Z"
   },
   {
    "duration": 37,
    "start_time": "2022-04-28T17:13:06.351Z"
   },
   {
    "duration": 92,
    "start_time": "2022-04-28T17:13:06.389Z"
   },
   {
    "duration": 6,
    "start_time": "2022-04-28T17:13:06.483Z"
   },
   {
    "duration": 159,
    "start_time": "2022-04-28T17:13:06.490Z"
   },
   {
    "duration": 7,
    "start_time": "2022-04-28T17:13:06.651Z"
   },
   {
    "duration": 26,
    "start_time": "2022-04-28T17:13:06.659Z"
   },
   {
    "duration": 305,
    "start_time": "2022-04-28T17:13:06.687Z"
   },
   {
    "duration": 9,
    "start_time": "2022-04-28T17:13:06.994Z"
   },
   {
    "duration": 149,
    "start_time": "2022-04-28T17:13:07.005Z"
   },
   {
    "duration": 157,
    "start_time": "2022-04-28T17:13:07.158Z"
   },
   {
    "duration": 259,
    "start_time": "2022-04-28T17:13:07.316Z"
   },
   {
    "duration": 126,
    "start_time": "2022-04-28T17:13:07.576Z"
   },
   {
    "duration": 70,
    "start_time": "2022-04-28T17:13:07.704Z"
   },
   {
    "duration": 523,
    "start_time": "2022-04-28T17:13:07.776Z"
   },
   {
    "duration": 86872,
    "start_time": "2022-04-28T17:13:08.301Z"
   },
   {
    "duration": 180090,
    "start_time": "2022-04-28T17:14:35.176Z"
   },
   {
    "duration": 385707,
    "start_time": "2022-04-28T17:17:35.267Z"
   },
   {
    "duration": 131,
    "start_time": "2022-04-28T17:24:00.976Z"
   },
   {
    "duration": 1778608,
    "start_time": "2022-04-28T17:24:01.109Z"
   },
   {
    "duration": 3,
    "start_time": "2022-04-28T17:53:39.718Z"
   },
   {
    "duration": 1335,
    "start_time": "2022-04-28T17:53:39.722Z"
   },
   {
    "duration": 2,
    "start_time": "2022-04-28T17:53:41.059Z"
   },
   {
    "duration": 10,
    "start_time": "2022-04-28T17:53:41.062Z"
   },
   {
    "duration": 19207,
    "start_time": "2022-04-28T17:53:41.074Z"
   },
   {
    "duration": 264,
    "start_time": "2022-04-28T17:54:00.283Z"
   },
   {
    "duration": 202,
    "start_time": "2022-04-28T17:54:00.549Z"
   },
   {
    "duration": 0,
    "start_time": "2022-04-28T17:54:00.753Z"
   },
   {
    "duration": 0,
    "start_time": "2022-04-28T17:54:00.753Z"
   },
   {
    "duration": 0,
    "start_time": "2022-04-28T17:54:00.755Z"
   },
   {
    "duration": 0,
    "start_time": "2022-04-28T17:54:00.755Z"
   },
   {
    "duration": 0,
    "start_time": "2022-04-28T17:54:00.757Z"
   },
   {
    "duration": 0,
    "start_time": "2022-04-28T17:54:00.758Z"
   },
   {
    "duration": 0,
    "start_time": "2022-04-28T17:54:00.759Z"
   },
   {
    "duration": 0,
    "start_time": "2022-04-28T17:54:00.760Z"
   },
   {
    "duration": 0,
    "start_time": "2022-04-28T17:54:00.760Z"
   },
   {
    "duration": 0,
    "start_time": "2022-04-28T17:54:00.761Z"
   },
   {
    "duration": 0,
    "start_time": "2022-04-28T17:54:00.762Z"
   },
   {
    "duration": 0,
    "start_time": "2022-04-28T17:54:00.763Z"
   },
   {
    "duration": 87,
    "start_time": "2022-04-28T17:59:55.797Z"
   },
   {
    "duration": 42319,
    "start_time": "2022-04-28T18:00:14.924Z"
   },
   {
    "duration": 926558,
    "start_time": "2022-04-28T18:10:37.923Z"
   },
   {
    "duration": 23638,
    "start_time": "2022-04-28T18:26:49.741Z"
   },
   {
    "duration": 202,
    "start_time": "2022-04-28T18:27:13.382Z"
   },
   {
    "duration": 5081,
    "start_time": "2022-04-28T18:27:36.077Z"
   },
   {
    "duration": 289,
    "start_time": "2022-04-28T18:27:44.785Z"
   },
   {
    "duration": 5,
    "start_time": "2022-04-28T18:29:45.883Z"
   },
   {
    "duration": 4,
    "start_time": "2022-04-28T18:30:53.170Z"
   },
   {
    "duration": 4,
    "start_time": "2022-04-28T18:32:30.850Z"
   },
   {
    "duration": 22,
    "start_time": "2022-04-28T18:38:08.668Z"
   },
   {
    "duration": 34,
    "start_time": "2022-04-28T18:38:20.732Z"
   },
   {
    "duration": 12,
    "start_time": "2022-04-28T18:38:31.694Z"
   },
   {
    "duration": 16,
    "start_time": "2022-04-28T18:38:39.766Z"
   },
   {
    "duration": 5,
    "start_time": "2022-04-28T18:39:00.744Z"
   },
   {
    "duration": 22,
    "start_time": "2022-04-28T18:39:25.891Z"
   },
   {
    "duration": 10,
    "start_time": "2022-04-28T18:41:16.649Z"
   },
   {
    "duration": 4,
    "start_time": "2022-04-28T18:41:22.928Z"
   },
   {
    "duration": 470,
    "start_time": "2022-04-28T18:41:48.202Z"
   },
   {
    "duration": 4,
    "start_time": "2022-04-28T18:41:49.635Z"
   },
   {
    "duration": 468,
    "start_time": "2022-04-28T18:41:57.446Z"
   },
   {
    "duration": 4,
    "start_time": "2022-04-28T18:41:59.507Z"
   },
   {
    "duration": 944,
    "start_time": "2022-04-28T18:44:29.057Z"
   },
   {
    "duration": 4,
    "start_time": "2022-04-28T18:45:34.705Z"
   },
   {
    "duration": 132710,
    "start_time": "2022-04-28T18:46:20.265Z"
   },
   {
    "duration": 32401,
    "start_time": "2022-04-28T18:49:02.983Z"
   },
   {
    "duration": 387,
    "start_time": "2022-04-28T18:49:35.387Z"
   },
   {
    "duration": 6,
    "start_time": "2022-04-28T18:49:35.776Z"
   },
   {
    "duration": 5078,
    "start_time": "2022-04-28T18:49:56.035Z"
   },
   {
    "duration": 153,
    "start_time": "2022-04-28T18:50:01.115Z"
   },
   {
    "duration": 6,
    "start_time": "2022-04-28T18:50:01.270Z"
   },
   {
    "duration": 55133,
    "start_time": "2022-04-28T18:50:01.279Z"
   },
   {
    "duration": 276,
    "start_time": "2022-04-28T18:50:56.414Z"
   },
   {
    "duration": 5,
    "start_time": "2022-04-28T18:50:56.691Z"
   },
   {
    "duration": 137640,
    "start_time": "2022-04-28T18:50:56.697Z"
   },
   {
    "duration": 776,
    "start_time": "2022-04-28T18:53:14.338Z"
   },
   {
    "duration": 4,
    "start_time": "2022-04-28T18:53:15.116Z"
   },
   {
    "duration": 109,
    "start_time": "2022-04-28T18:53:15.122Z"
   },
   {
    "duration": 83,
    "start_time": "2022-04-28T18:53:15.232Z"
   },
   {
    "duration": 5,
    "start_time": "2022-04-28T18:53:15.317Z"
   },
   {
    "duration": 17696,
    "start_time": "2022-04-28T18:54:19.586Z"
   },
   {
    "duration": 99,
    "start_time": "2022-04-28T18:54:37.284Z"
   },
   {
    "duration": 5,
    "start_time": "2022-04-28T18:54:37.385Z"
   },
   {
    "duration": 1561,
    "start_time": "2022-04-28T18:55:39.339Z"
   },
   {
    "duration": 5,
    "start_time": "2022-04-28T18:55:41.845Z"
   },
   {
    "duration": 4,
    "start_time": "2022-04-28T18:57:24.125Z"
   },
   {
    "duration": 770,
    "start_time": "2022-04-28T18:57:25.649Z"
   },
   {
    "duration": 14,
    "start_time": "2022-04-28T18:57:26.490Z"
   },
   {
    "duration": 121,
    "start_time": "2022-04-28T18:57:27.301Z"
   },
   {
    "duration": 119,
    "start_time": "2022-04-28T18:57:28.169Z"
   },
   {
    "duration": 119,
    "start_time": "2022-04-28T18:57:28.873Z"
   },
   {
    "duration": 99,
    "start_time": "2022-04-28T18:57:30.087Z"
   },
   {
    "duration": 22,
    "start_time": "2022-04-28T18:57:30.648Z"
   },
   {
    "duration": 20,
    "start_time": "2022-04-28T18:57:32.416Z"
   },
   {
    "duration": 19,
    "start_time": "2022-04-28T18:57:33.033Z"
   },
   {
    "duration": 148,
    "start_time": "2022-04-28T18:57:35.946Z"
   },
   {
    "duration": 2778,
    "start_time": "2022-04-28T18:57:37.013Z"
   },
   {
    "duration": 17,
    "start_time": "2022-04-28T18:57:39.793Z"
   },
   {
    "duration": 23,
    "start_time": "2022-04-28T18:57:39.812Z"
   },
   {
    "duration": 2898,
    "start_time": "2022-04-28T18:57:40.069Z"
   },
   {
    "duration": 51,
    "start_time": "2022-04-28T18:57:42.968Z"
   },
   {
    "duration": 21,
    "start_time": "2022-04-28T18:57:44.678Z"
   },
   {
    "duration": 48,
    "start_time": "2022-04-28T18:57:45.329Z"
   },
   {
    "duration": 19,
    "start_time": "2022-04-28T18:57:58.551Z"
   },
   {
    "duration": 76,
    "start_time": "2022-04-28T18:57:59.716Z"
   },
   {
    "duration": 6,
    "start_time": "2022-04-28T18:58:03.037Z"
   },
   {
    "duration": 116,
    "start_time": "2022-04-28T18:58:09.262Z"
   },
   {
    "duration": 8,
    "start_time": "2022-04-28T18:58:14.090Z"
   },
   {
    "duration": 18,
    "start_time": "2022-04-28T18:59:26.241Z"
   },
   {
    "duration": 282,
    "start_time": "2022-04-28T18:59:28.596Z"
   },
   {
    "duration": 9,
    "start_time": "2022-04-28T18:59:34.046Z"
   },
   {
    "duration": 132,
    "start_time": "2022-04-28T18:59:35.649Z"
   },
   {
    "duration": 125,
    "start_time": "2022-04-28T18:59:42.460Z"
   },
   {
    "duration": 243,
    "start_time": "2022-04-28T18:59:43.057Z"
   },
   {
    "duration": 13,
    "start_time": "2022-04-28T18:59:58.646Z"
   },
   {
    "duration": 61,
    "start_time": "2022-04-28T19:00:37.846Z"
   },
   {
    "duration": 969,
    "start_time": "2022-04-28T19:00:40.461Z"
   },
   {
    "duration": 3,
    "start_time": "2022-04-28T19:00:48.904Z"
   },
   {
    "duration": 1314409,
    "start_time": "2022-04-28T19:01:03.571Z"
   },
   {
    "duration": 4,
    "start_time": "2022-04-28T19:39:37.625Z"
   },
   {
    "duration": 90443,
    "start_time": "2022-04-28T19:39:55.342Z"
   },
   {
    "duration": 11,
    "start_time": "2022-04-28T19:42:32.954Z"
   },
   {
    "duration": 1963,
    "start_time": "2022-04-30T07:33:59.988Z"
   },
   {
    "duration": 818,
    "start_time": "2022-04-30T07:34:01.953Z"
   },
   {
    "duration": 16,
    "start_time": "2022-04-30T07:34:04.391Z"
   },
   {
    "duration": 128,
    "start_time": "2022-04-30T07:34:08.707Z"
   },
   {
    "duration": 118,
    "start_time": "2022-04-30T07:34:11.622Z"
   },
   {
    "duration": 119,
    "start_time": "2022-04-30T07:34:13.936Z"
   },
   {
    "duration": 107,
    "start_time": "2022-04-30T07:34:18.850Z"
   },
   {
    "duration": 21,
    "start_time": "2022-04-30T07:34:28.398Z"
   },
   {
    "duration": 18,
    "start_time": "2022-04-30T07:34:31.924Z"
   },
   {
    "duration": 21,
    "start_time": "2022-04-30T07:34:32.598Z"
   },
   {
    "duration": 155,
    "start_time": "2022-04-30T07:34:36.272Z"
   },
   {
    "duration": 2972,
    "start_time": "2022-04-30T07:34:39.527Z"
   },
   {
    "duration": 18,
    "start_time": "2022-04-30T07:34:42.501Z"
   },
   {
    "duration": 20,
    "start_time": "2022-04-30T07:34:44.776Z"
   },
   {
    "duration": 3050,
    "start_time": "2022-04-30T07:34:47.533Z"
   },
   {
    "duration": 51,
    "start_time": "2022-04-30T07:34:50.585Z"
   },
   {
    "duration": 20,
    "start_time": "2022-04-30T07:34:53.326Z"
   },
   {
    "duration": 50,
    "start_time": "2022-04-30T07:34:53.922Z"
   },
   {
    "duration": 20,
    "start_time": "2022-04-30T07:34:56.300Z"
   },
   {
    "duration": 79,
    "start_time": "2022-04-30T07:34:56.866Z"
   },
   {
    "duration": 7,
    "start_time": "2022-04-30T07:35:04.374Z"
   },
   {
    "duration": 5,
    "start_time": "2022-04-30T07:35:58.453Z"
   },
   {
    "duration": 7,
    "start_time": "2022-04-30T07:37:21.761Z"
   },
   {
    "duration": 102,
    "start_time": "2022-04-30T07:37:24.398Z"
   },
   {
    "duration": 130,
    "start_time": "2022-04-30T07:37:34.828Z"
   },
   {
    "duration": 16,
    "start_time": "2022-04-30T07:37:42.194Z"
   },
   {
    "duration": 13,
    "start_time": "2022-04-30T07:40:51.188Z"
   },
   {
    "duration": 132,
    "start_time": "2022-04-30T07:41:09.216Z"
   },
   {
    "duration": 156,
    "start_time": "2022-04-30T07:41:38.393Z"
   },
   {
    "duration": 456,
    "start_time": "2022-04-30T07:41:39.430Z"
   },
   {
    "duration": 19,
    "start_time": "2022-04-30T07:41:45.006Z"
   },
   {
    "duration": 64,
    "start_time": "2022-04-30T07:41:50.895Z"
   },
   {
    "duration": 1080,
    "start_time": "2022-04-30T07:41:51.660Z"
   },
   {
    "duration": 118896,
    "start_time": "2022-04-30T07:45:42.419Z"
   },
   {
    "duration": 120840,
    "start_time": "2022-04-30T07:49:37.716Z"
   },
   {
    "duration": 214030,
    "start_time": "2022-04-30T07:52:02.386Z"
   },
   {
    "duration": 224500,
    "start_time": "2022-04-30T07:58:34.601Z"
   },
   {
    "duration": 9,
    "start_time": "2022-04-30T08:04:44.454Z"
   },
   {
    "duration": 69718,
    "start_time": "2022-04-30T08:08:04.736Z"
   },
   {
    "duration": 283,
    "start_time": "2022-04-30T08:09:14.456Z"
   },
   {
    "duration": 4,
    "start_time": "2022-04-30T08:09:14.741Z"
   },
   {
    "duration": 10,
    "start_time": "2022-04-30T08:12:03.416Z"
   },
   {
    "duration": 9,
    "start_time": "2022-04-30T08:12:09.726Z"
   },
   {
    "duration": 12,
    "start_time": "2022-04-30T08:12:27.242Z"
   },
   {
    "duration": 11,
    "start_time": "2022-04-30T08:12:53.170Z"
   },
   {
    "duration": 11,
    "start_time": "2022-04-30T08:13:39.776Z"
   },
   {
    "duration": 17,
    "start_time": "2022-04-30T08:13:43.982Z"
   },
   {
    "duration": 441,
    "start_time": "2022-04-30T08:15:36.990Z"
   },
   {
    "duration": 5659,
    "start_time": "2022-04-30T08:16:41.328Z"
   },
   {
    "duration": 137,
    "start_time": "2022-04-30T08:16:46.989Z"
   },
   {
    "duration": 4,
    "start_time": "2022-04-30T08:16:47.127Z"
   },
   {
    "duration": 363,
    "start_time": "2022-04-30T08:16:52.726Z"
   },
   {
    "duration": 602104,
    "start_time": "2022-04-30T08:18:18.294Z"
   },
   {
    "duration": 121,
    "start_time": "2022-04-30T08:28:20.400Z"
   },
   {
    "duration": 5,
    "start_time": "2022-04-30T08:28:20.524Z"
   },
   {
    "duration": 155297,
    "start_time": "2022-04-30T08:28:48.153Z"
   },
   {
    "duration": 1220,
    "start_time": "2022-04-30T08:36:55.842Z"
   },
   {
    "duration": 5,
    "start_time": "2022-04-30T08:36:58.698Z"
   },
   {
    "duration": 286,
    "start_time": "2022-04-30T08:37:22.110Z"
   },
   {
    "duration": 29472,
    "start_time": "2022-04-30T08:37:42.690Z"
   },
   {
    "duration": 248,
    "start_time": "2022-04-30T08:40:01.508Z"
   },
   {
    "duration": 5,
    "start_time": "2022-04-30T08:40:02.626Z"
   },
   {
    "duration": 12,
    "start_time": "2022-04-30T08:40:22.720Z"
   },
   {
    "duration": 5969,
    "start_time": "2022-04-30T08:40:45.417Z"
   },
   {
    "duration": 141,
    "start_time": "2022-04-30T08:41:00.980Z"
   },
   {
    "duration": 5,
    "start_time": "2022-04-30T08:41:01.988Z"
   },
   {
    "duration": 301,
    "start_time": "2022-04-30T08:41:05.529Z"
   },
   {
    "duration": 892473,
    "start_time": "2022-04-30T08:41:22.888Z"
   },
   {
    "duration": 1685,
    "start_time": "2022-04-30T08:57:33.988Z"
   },
   {
    "duration": 4,
    "start_time": "2022-04-30T08:57:48.172Z"
   },
   {
    "duration": 304,
    "start_time": "2022-04-30T08:57:50.183Z"
   },
   {
    "duration": 12,
    "start_time": "2022-04-30T09:49:51.772Z"
   },
   {
    "duration": 10,
    "start_time": "2022-04-30T09:51:30.328Z"
   },
   {
    "duration": 27,
    "start_time": "2022-04-30T09:51:43.766Z"
   },
   {
    "duration": 10,
    "start_time": "2022-04-30T09:53:01.170Z"
   },
   {
    "duration": 10,
    "start_time": "2022-04-30T09:53:06.016Z"
   },
   {
    "duration": 16,
    "start_time": "2022-04-30T09:53:36.684Z"
   },
   {
    "duration": 5,
    "start_time": "2022-04-30T09:55:18.140Z"
   },
   {
    "duration": 14,
    "start_time": "2022-04-30T09:55:22.696Z"
   },
   {
    "duration": 26,
    "start_time": "2022-04-30T09:55:51.066Z"
   },
   {
    "duration": 15,
    "start_time": "2022-04-30T09:56:57.961Z"
   },
   {
    "duration": 108,
    "start_time": "2022-04-30T09:59:05.772Z"
   },
   {
    "duration": 17,
    "start_time": "2022-04-30T10:00:13.020Z"
   },
   {
    "duration": 32,
    "start_time": "2022-04-30T10:01:09.505Z"
   },
   {
    "duration": 14,
    "start_time": "2022-04-30T10:11:44.716Z"
   },
   {
    "duration": 17,
    "start_time": "2022-04-30T10:13:38.186Z"
   },
   {
    "duration": 18,
    "start_time": "2022-04-30T10:13:53.382Z"
   },
   {
    "duration": 17,
    "start_time": "2022-04-30T10:14:13.914Z"
   },
   {
    "duration": 28,
    "start_time": "2022-04-30T10:14:50.633Z"
   },
   {
    "duration": 158,
    "start_time": "2022-04-30T10:23:54.706Z"
   },
   {
    "duration": 82,
    "start_time": "2022-04-30T10:24:24.853Z"
   },
   {
    "duration": 4,
    "start_time": "2022-04-30T10:24:48.821Z"
   },
   {
    "duration": 4,
    "start_time": "2022-04-30T10:24:56.699Z"
   },
   {
    "duration": 1456,
    "start_time": "2022-04-30T10:27:27.174Z"
   },
   {
    "duration": 771,
    "start_time": "2022-04-30T10:27:28.632Z"
   },
   {
    "duration": 15,
    "start_time": "2022-04-30T10:27:29.404Z"
   },
   {
    "duration": 137,
    "start_time": "2022-04-30T10:27:29.421Z"
   },
   {
    "duration": 122,
    "start_time": "2022-04-30T10:27:29.560Z"
   },
   {
    "duration": 128,
    "start_time": "2022-04-30T10:27:29.684Z"
   },
   {
    "duration": 114,
    "start_time": "2022-04-30T10:27:29.813Z"
   },
   {
    "duration": 26,
    "start_time": "2022-04-30T10:27:29.929Z"
   },
   {
    "duration": 25,
    "start_time": "2022-04-30T10:27:29.957Z"
   },
   {
    "duration": 20,
    "start_time": "2022-04-30T10:27:29.983Z"
   },
   {
    "duration": 189,
    "start_time": "2022-04-30T10:27:30.005Z"
   },
   {
    "duration": 2902,
    "start_time": "2022-04-30T10:27:30.195Z"
   },
   {
    "duration": 17,
    "start_time": "2022-04-30T10:27:33.098Z"
   },
   {
    "duration": 37,
    "start_time": "2022-04-30T10:27:33.119Z"
   },
   {
    "duration": 3039,
    "start_time": "2022-04-30T10:27:33.157Z"
   },
   {
    "duration": 63,
    "start_time": "2022-04-30T10:27:36.198Z"
   },
   {
    "duration": 28,
    "start_time": "2022-04-30T10:27:36.262Z"
   },
   {
    "duration": 58,
    "start_time": "2022-04-30T10:27:36.291Z"
   },
   {
    "duration": 40,
    "start_time": "2022-04-30T10:27:36.350Z"
   },
   {
    "duration": 97,
    "start_time": "2022-04-30T10:27:36.392Z"
   },
   {
    "duration": 11,
    "start_time": "2022-04-30T10:27:36.491Z"
   },
   {
    "duration": 146,
    "start_time": "2022-04-30T10:27:36.503Z"
   },
   {
    "duration": 29,
    "start_time": "2022-04-30T10:27:36.654Z"
   },
   {
    "duration": 104,
    "start_time": "2022-04-30T10:27:36.685Z"
   },
   {
    "duration": 4,
    "start_time": "2022-04-30T10:27:36.790Z"
   },
   {
    "duration": 38,
    "start_time": "2022-04-30T10:27:36.796Z"
   },
   {
    "duration": 29,
    "start_time": "2022-04-30T10:27:36.835Z"
   },
   {
    "duration": 294,
    "start_time": "2022-04-30T10:27:36.866Z"
   },
   {
    "duration": 8,
    "start_time": "2022-04-30T10:27:37.162Z"
   },
   {
    "duration": 158,
    "start_time": "2022-04-30T10:27:37.172Z"
   },
   {
    "duration": 117,
    "start_time": "2022-04-30T10:27:37.332Z"
   },
   {
    "duration": 231,
    "start_time": "2022-04-30T10:27:37.453Z"
   },
   {
    "duration": 12,
    "start_time": "2022-04-30T10:27:37.686Z"
   },
   {
    "duration": 93,
    "start_time": "2022-04-30T10:27:37.700Z"
   },
   {
    "duration": 922,
    "start_time": "2022-04-30T10:27:37.795Z"
   },
   {
    "duration": 76737,
    "start_time": "2022-04-30T10:27:38.719Z"
   },
   {
    "duration": 153942,
    "start_time": "2022-04-30T10:28:55.458Z"
   },
   {
    "duration": 121,
    "start_time": "2022-04-30T10:31:29.402Z"
   },
   {
    "duration": 0,
    "start_time": "2022-04-30T10:31:29.525Z"
   },
   {
    "duration": 0,
    "start_time": "2022-04-30T10:31:29.526Z"
   },
   {
    "duration": 0,
    "start_time": "2022-04-30T10:31:29.527Z"
   },
   {
    "duration": 0,
    "start_time": "2022-04-30T10:31:29.527Z"
   },
   {
    "duration": 0,
    "start_time": "2022-04-30T10:31:29.528Z"
   },
   {
    "duration": 0,
    "start_time": "2022-04-30T10:31:29.529Z"
   },
   {
    "duration": 0,
    "start_time": "2022-04-30T10:31:29.530Z"
   },
   {
    "duration": 0,
    "start_time": "2022-04-30T10:31:29.531Z"
   },
   {
    "duration": 0,
    "start_time": "2022-04-30T10:31:29.532Z"
   },
   {
    "duration": 0,
    "start_time": "2022-04-30T10:31:29.533Z"
   },
   {
    "duration": 0,
    "start_time": "2022-04-30T10:31:29.533Z"
   },
   {
    "duration": 0,
    "start_time": "2022-04-30T10:31:29.534Z"
   },
   {
    "duration": 0,
    "start_time": "2022-04-30T10:31:29.535Z"
   },
   {
    "duration": 0,
    "start_time": "2022-04-30T10:31:29.555Z"
   },
   {
    "duration": 0,
    "start_time": "2022-04-30T10:31:29.558Z"
   },
   {
    "duration": 0,
    "start_time": "2022-04-30T10:31:29.559Z"
   },
   {
    "duration": 1,
    "start_time": "2022-04-30T10:31:29.560Z"
   },
   {
    "duration": 0,
    "start_time": "2022-04-30T10:31:29.562Z"
   },
   {
    "duration": 0,
    "start_time": "2022-04-30T10:31:29.563Z"
   },
   {
    "duration": 0,
    "start_time": "2022-04-30T10:31:29.564Z"
   },
   {
    "duration": 0,
    "start_time": "2022-04-30T10:31:29.566Z"
   },
   {
    "duration": 0,
    "start_time": "2022-04-30T10:31:29.567Z"
   },
   {
    "duration": 0,
    "start_time": "2022-04-30T10:31:29.569Z"
   },
   {
    "duration": 344269,
    "start_time": "2022-04-30T10:32:32.239Z"
   },
   {
    "duration": 300,
    "start_time": "2022-04-30T10:38:16.511Z"
   },
   {
    "duration": 1547,
    "start_time": "2022-04-30T11:14:18.169Z"
   },
   {
    "duration": 811,
    "start_time": "2022-04-30T11:14:19.718Z"
   },
   {
    "duration": 25,
    "start_time": "2022-04-30T11:14:20.531Z"
   },
   {
    "duration": 154,
    "start_time": "2022-04-30T11:14:20.558Z"
   },
   {
    "duration": 131,
    "start_time": "2022-04-30T11:14:20.713Z"
   },
   {
    "duration": 127,
    "start_time": "2022-04-30T11:14:20.846Z"
   },
   {
    "duration": 121,
    "start_time": "2022-04-30T11:14:20.976Z"
   },
   {
    "duration": 30,
    "start_time": "2022-04-30T11:14:21.099Z"
   },
   {
    "duration": 43,
    "start_time": "2022-04-30T11:14:21.131Z"
   },
   {
    "duration": 36,
    "start_time": "2022-04-30T11:14:21.178Z"
   },
   {
    "duration": 180,
    "start_time": "2022-04-30T11:14:21.216Z"
   },
   {
    "duration": 2833,
    "start_time": "2022-04-30T11:14:21.398Z"
   },
   {
    "duration": 22,
    "start_time": "2022-04-30T11:14:24.233Z"
   },
   {
    "duration": 102,
    "start_time": "2022-04-30T11:14:24.257Z"
   },
   {
    "duration": 2930,
    "start_time": "2022-04-30T11:14:24.360Z"
   },
   {
    "duration": 51,
    "start_time": "2022-04-30T11:14:27.292Z"
   },
   {
    "duration": 185,
    "start_time": "2022-04-30T11:14:27.355Z"
   },
   {
    "duration": 92,
    "start_time": "2022-04-30T11:14:27.542Z"
   },
   {
    "duration": 24,
    "start_time": "2022-04-30T11:14:27.635Z"
   },
   {
    "duration": 94,
    "start_time": "2022-04-30T11:14:27.661Z"
   },
   {
    "duration": 28,
    "start_time": "2022-04-30T11:14:27.756Z"
   },
   {
    "duration": 129,
    "start_time": "2022-04-30T11:14:27.785Z"
   },
   {
    "duration": 28,
    "start_time": "2022-04-30T11:14:27.916Z"
   },
   {
    "duration": 87,
    "start_time": "2022-04-30T11:14:27.945Z"
   },
   {
    "duration": 4,
    "start_time": "2022-04-30T11:14:28.034Z"
   },
   {
    "duration": 8,
    "start_time": "2022-04-30T11:14:28.055Z"
   },
   {
    "duration": 19,
    "start_time": "2022-04-30T11:14:28.064Z"
   },
   {
    "duration": 318,
    "start_time": "2022-04-30T11:14:28.087Z"
   },
   {
    "duration": 9,
    "start_time": "2022-04-30T11:14:28.406Z"
   },
   {
    "duration": 171,
    "start_time": "2022-04-30T11:14:28.417Z"
   },
   {
    "duration": 141,
    "start_time": "2022-04-30T11:14:28.590Z"
   },
   {
    "duration": 266,
    "start_time": "2022-04-30T11:14:28.733Z"
   },
   {
    "duration": 13,
    "start_time": "2022-04-30T11:14:29.000Z"
   },
   {
    "duration": 68,
    "start_time": "2022-04-30T11:14:29.015Z"
   },
   {
    "duration": 971,
    "start_time": "2022-04-30T11:14:29.085Z"
   },
   {
    "duration": 96998,
    "start_time": "2022-04-30T11:14:30.058Z"
   },
   {
    "duration": 165985,
    "start_time": "2022-04-30T11:16:07.058Z"
   },
   {
    "duration": 353701,
    "start_time": "2022-04-30T11:18:53.045Z"
   },
   {
    "duration": 2048305,
    "start_time": "2022-04-30T11:24:46.748Z"
   },
   {
    "duration": 597911,
    "start_time": "2022-04-30T11:58:55.054Z"
   },
   {
    "duration": 18290,
    "start_time": "2022-04-30T12:08:52.967Z"
   },
   {
    "duration": 298,
    "start_time": "2022-04-30T12:09:11.259Z"
   },
   {
    "duration": 96,
    "start_time": "2022-04-30T12:09:11.559Z"
   },
   {
    "duration": 4260,
    "start_time": "2022-04-30T12:09:11.657Z"
   },
   {
    "duration": 125,
    "start_time": "2022-04-30T12:09:15.919Z"
   },
   {
    "duration": 9,
    "start_time": "2022-04-30T12:09:16.046Z"
   },
   {
    "duration": 117,
    "start_time": "2022-04-30T12:09:16.057Z"
   },
   {
    "duration": 0,
    "start_time": "2022-04-30T12:09:16.175Z"
   },
   {
    "duration": 0,
    "start_time": "2022-04-30T12:09:16.176Z"
   },
   {
    "duration": 0,
    "start_time": "2022-04-30T12:09:16.177Z"
   },
   {
    "duration": 0,
    "start_time": "2022-04-30T12:09:16.179Z"
   },
   {
    "duration": 0,
    "start_time": "2022-04-30T12:09:16.180Z"
   },
   {
    "duration": 0,
    "start_time": "2022-04-30T12:09:16.180Z"
   },
   {
    "duration": 0,
    "start_time": "2022-04-30T12:09:16.181Z"
   },
   {
    "duration": 0,
    "start_time": "2022-04-30T12:09:16.182Z"
   },
   {
    "duration": 0,
    "start_time": "2022-04-30T12:09:16.183Z"
   },
   {
    "duration": 0,
    "start_time": "2022-04-30T12:09:16.184Z"
   },
   {
    "duration": 0,
    "start_time": "2022-04-30T12:09:16.185Z"
   },
   {
    "duration": 0,
    "start_time": "2022-04-30T12:09:16.186Z"
   },
   {
    "duration": 0,
    "start_time": "2022-04-30T12:09:16.187Z"
   },
   {
    "duration": 28,
    "start_time": "2022-04-30T12:10:15.089Z"
   },
   {
    "duration": 305,
    "start_time": "2022-04-30T12:11:03.969Z"
   },
   {
    "duration": 46914,
    "start_time": "2022-04-30T12:11:13.803Z"
   },
   {
    "duration": 229,
    "start_time": "2022-04-30T12:12:00.720Z"
   },
   {
    "duration": 5,
    "start_time": "2022-04-30T12:12:00.954Z"
   },
   {
    "duration": 317,
    "start_time": "2022-04-30T12:12:00.961Z"
   },
   {
    "duration": 158473,
    "start_time": "2022-04-30T12:12:30.331Z"
   },
   {
    "duration": 505,
    "start_time": "2022-04-30T12:15:08.806Z"
   },
   {
    "duration": 5,
    "start_time": "2022-04-30T12:15:09.313Z"
   },
   {
    "duration": 688,
    "start_time": "2022-04-30T12:15:09.320Z"
   },
   {
    "duration": 67458,
    "start_time": "2022-04-30T12:16:11.405Z"
   },
   {
    "duration": 1513,
    "start_time": "2022-04-30T12:17:18.865Z"
   },
   {
    "duration": 5,
    "start_time": "2022-04-30T12:17:20.455Z"
   },
   {
    "duration": 327,
    "start_time": "2022-04-30T12:17:20.462Z"
   },
   {
    "duration": 10,
    "start_time": "2022-04-30T12:18:22.543Z"
   },
   {
    "duration": 24,
    "start_time": "2022-04-30T12:23:24.855Z"
   },
   {
    "duration": 88922,
    "start_time": "2022-04-30T14:36:14.655Z"
   },
   {
    "duration": 1142,
    "start_time": "2022-04-30T14:37:43.580Z"
   },
   {
    "duration": 42,
    "start_time": "2022-04-30T14:38:13.841Z"
   },
   {
    "duration": 33,
    "start_time": "2022-04-30T14:38:30.512Z"
   }
  ],
  "kernelspec": {
   "display_name": "Python 3 (ipykernel)",
   "language": "python",
   "name": "python3"
  },
  "language_info": {
   "codemirror_mode": {
    "name": "ipython",
    "version": 3
   },
   "file_extension": ".py",
   "mimetype": "text/x-python",
   "name": "python",
   "nbconvert_exporter": "python",
   "pygments_lexer": "ipython3",
   "version": "3.9.7"
  },
  "toc": {
   "base_numbering": 1,
   "nav_menu": {},
   "number_sections": true,
   "sideBar": true,
   "skip_h1_title": true,
   "title_cell": "Table of Contents",
   "title_sidebar": "Contents",
   "toc_cell": false,
   "toc_position": {},
   "toc_section_display": true,
   "toc_window_display": false
  }
 },
 "nbformat": 4,
 "nbformat_minor": 2
}
