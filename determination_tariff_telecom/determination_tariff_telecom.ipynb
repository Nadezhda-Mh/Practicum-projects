{
 "cells": [
  {
   "cell_type": "markdown",
   "metadata": {},
   "source": [
    "# Определение перспективного тарифа для телеком-компании"
   ]
  },
  {
   "cell_type": "markdown",
   "metadata": {},
   "source": [
    "## Изучение данных из файла"
   ]
  },
  {
   "cell_type": "code",
   "execution_count": 1,
   "metadata": {},
   "outputs": [],
   "source": [
    "# импорт библиотек\n",
    "import pandas as pd\n",
    "import numpy as np\n",
    "from functools import reduce\n",
    "import math\n",
    "import matplotlib.pyplot as plt\n",
    "from scipy import stats as st"
   ]
  },
  {
   "cell_type": "code",
   "execution_count": 2,
   "metadata": {},
   "outputs": [],
   "source": [
    "# чтение файлов с данными и сохранение в df* с использованием конструкции try-except\n",
    "try:\n",
    "    df_calls = pd.read_csv('C:/Users/datasets/calls.csv')  # локальный путь\n",
    "    df_internet = pd.read_csv('C:/Users/datasets/internet.csv')\n",
    "    df_messages = pd.read_csv('C:/Users/datasets/messages.csv')\n",
    "    df_tariffs = pd.read_csv('C:/Users/datasets/tariffs.csv')\n",
    "    df_users = pd.read_csv('C:/Users/datasets/users.csv')\n",
    "except:\n",
    "    df_calls = pd.read_csv('/datasets/calls.csv')  # серверный путь\n",
    "    df_internet = pd.read_csv('/datasets/internet.csv')\n",
    "    df_messages = pd.read_csv('/datasets/messages.csv')\n",
    "    df_tariffs = pd.read_csv('/datasets/tariffs.csv')\n",
    "    df_users = pd.read_csv('/datasets/users.csv')"
   ]
  },
  {
   "cell_type": "code",
   "execution_count": 3,
   "metadata": {},
   "outputs": [
    {
     "data": {
      "text/html": [
       "<div>\n",
       "<style scoped>\n",
       "    .dataframe tbody tr th:only-of-type {\n",
       "        vertical-align: middle;\n",
       "    }\n",
       "\n",
       "    .dataframe tbody tr th {\n",
       "        vertical-align: top;\n",
       "    }\n",
       "\n",
       "    .dataframe thead th {\n",
       "        text-align: right;\n",
       "    }\n",
       "</style>\n",
       "<table border=\"1\" class=\"dataframe\">\n",
       "  <thead>\n",
       "    <tr style=\"text-align: right;\">\n",
       "      <th></th>\n",
       "      <th>id</th>\n",
       "      <th>call_date</th>\n",
       "      <th>duration</th>\n",
       "      <th>user_id</th>\n",
       "    </tr>\n",
       "  </thead>\n",
       "  <tbody>\n",
       "    <tr>\n",
       "      <td>0</td>\n",
       "      <td>1000_0</td>\n",
       "      <td>2018-07-25</td>\n",
       "      <td>0.00</td>\n",
       "      <td>1000</td>\n",
       "    </tr>\n",
       "    <tr>\n",
       "      <td>1</td>\n",
       "      <td>1000_1</td>\n",
       "      <td>2018-08-17</td>\n",
       "      <td>0.00</td>\n",
       "      <td>1000</td>\n",
       "    </tr>\n",
       "    <tr>\n",
       "      <td>2</td>\n",
       "      <td>1000_2</td>\n",
       "      <td>2018-06-11</td>\n",
       "      <td>2.85</td>\n",
       "      <td>1000</td>\n",
       "    </tr>\n",
       "    <tr>\n",
       "      <td>3</td>\n",
       "      <td>1000_3</td>\n",
       "      <td>2018-09-21</td>\n",
       "      <td>13.80</td>\n",
       "      <td>1000</td>\n",
       "    </tr>\n",
       "    <tr>\n",
       "      <td>4</td>\n",
       "      <td>1000_4</td>\n",
       "      <td>2018-12-15</td>\n",
       "      <td>5.18</td>\n",
       "      <td>1000</td>\n",
       "    </tr>\n",
       "  </tbody>\n",
       "</table>\n",
       "</div>"
      ],
      "text/plain": [
       "       id   call_date  duration  user_id\n",
       "0  1000_0  2018-07-25      0.00     1000\n",
       "1  1000_1  2018-08-17      0.00     1000\n",
       "2  1000_2  2018-06-11      2.85     1000\n",
       "3  1000_3  2018-09-21     13.80     1000\n",
       "4  1000_4  2018-12-15      5.18     1000"
      ]
     },
     "execution_count": 3,
     "metadata": {},
     "output_type": "execute_result"
    }
   ],
   "source": [
    "# получение 5 строк таблицы df_calls\n",
    "df_calls.head()"
   ]
  },
  {
   "cell_type": "code",
   "execution_count": 4,
   "metadata": {},
   "outputs": [
    {
     "name": "stdout",
     "output_type": "stream",
     "text": [
      "<class 'pandas.core.frame.DataFrame'>\n",
      "RangeIndex: 202607 entries, 0 to 202606\n",
      "Data columns (total 4 columns):\n",
      "id           202607 non-null object\n",
      "call_date    202607 non-null object\n",
      "duration     202607 non-null float64\n",
      "user_id      202607 non-null int64\n",
      "dtypes: float64(1), int64(1), object(2)\n",
      "memory usage: 6.2+ MB\n"
     ]
    }
   ],
   "source": [
    "# получение общей информации о данных в таблице df_calls\n",
    "df_calls.info()"
   ]
  },
  {
   "cell_type": "code",
   "execution_count": 5,
   "metadata": {},
   "outputs": [
    {
     "data": {
      "text/html": [
       "<div>\n",
       "<style scoped>\n",
       "    .dataframe tbody tr th:only-of-type {\n",
       "        vertical-align: middle;\n",
       "    }\n",
       "\n",
       "    .dataframe tbody tr th {\n",
       "        vertical-align: top;\n",
       "    }\n",
       "\n",
       "    .dataframe thead th {\n",
       "        text-align: right;\n",
       "    }\n",
       "</style>\n",
       "<table border=\"1\" class=\"dataframe\">\n",
       "  <thead>\n",
       "    <tr style=\"text-align: right;\">\n",
       "      <th></th>\n",
       "      <th>duration</th>\n",
       "      <th>user_id</th>\n",
       "    </tr>\n",
       "  </thead>\n",
       "  <tbody>\n",
       "    <tr>\n",
       "      <td>count</td>\n",
       "      <td>202607.000000</td>\n",
       "      <td>202607.000000</td>\n",
       "    </tr>\n",
       "    <tr>\n",
       "      <td>mean</td>\n",
       "      <td>6.755887</td>\n",
       "      <td>1253.940619</td>\n",
       "    </tr>\n",
       "    <tr>\n",
       "      <td>std</td>\n",
       "      <td>5.843365</td>\n",
       "      <td>144.722751</td>\n",
       "    </tr>\n",
       "    <tr>\n",
       "      <td>min</td>\n",
       "      <td>0.000000</td>\n",
       "      <td>1000.000000</td>\n",
       "    </tr>\n",
       "    <tr>\n",
       "      <td>25%</td>\n",
       "      <td>1.300000</td>\n",
       "      <td>1126.000000</td>\n",
       "    </tr>\n",
       "    <tr>\n",
       "      <td>50%</td>\n",
       "      <td>6.000000</td>\n",
       "      <td>1260.000000</td>\n",
       "    </tr>\n",
       "    <tr>\n",
       "      <td>75%</td>\n",
       "      <td>10.700000</td>\n",
       "      <td>1379.000000</td>\n",
       "    </tr>\n",
       "    <tr>\n",
       "      <td>max</td>\n",
       "      <td>38.000000</td>\n",
       "      <td>1499.000000</td>\n",
       "    </tr>\n",
       "  </tbody>\n",
       "</table>\n",
       "</div>"
      ],
      "text/plain": [
       "            duration        user_id\n",
       "count  202607.000000  202607.000000\n",
       "mean        6.755887    1253.940619\n",
       "std         5.843365     144.722751\n",
       "min         0.000000    1000.000000\n",
       "25%         1.300000    1126.000000\n",
       "50%         6.000000    1260.000000\n",
       "75%        10.700000    1379.000000\n",
       "max        38.000000    1499.000000"
      ]
     },
     "execution_count": 5,
     "metadata": {},
     "output_type": "execute_result"
    }
   ],
   "source": [
    "# получение статистической информации о звонках\n",
    "df_calls.describe()"
   ]
  },
  {
   "cell_type": "code",
   "execution_count": 6,
   "metadata": {},
   "outputs": [
    {
     "data": {
      "text/html": [
       "<div>\n",
       "<style scoped>\n",
       "    .dataframe tbody tr th:only-of-type {\n",
       "        vertical-align: middle;\n",
       "    }\n",
       "\n",
       "    .dataframe tbody tr th {\n",
       "        vertical-align: top;\n",
       "    }\n",
       "\n",
       "    .dataframe thead th {\n",
       "        text-align: right;\n",
       "    }\n",
       "</style>\n",
       "<table border=\"1\" class=\"dataframe\">\n",
       "  <thead>\n",
       "    <tr style=\"text-align: right;\">\n",
       "      <th></th>\n",
       "      <th>Unnamed: 0</th>\n",
       "      <th>id</th>\n",
       "      <th>mb_used</th>\n",
       "      <th>session_date</th>\n",
       "      <th>user_id</th>\n",
       "    </tr>\n",
       "  </thead>\n",
       "  <tbody>\n",
       "    <tr>\n",
       "      <td>0</td>\n",
       "      <td>0</td>\n",
       "      <td>1000_0</td>\n",
       "      <td>112.95</td>\n",
       "      <td>2018-11-25</td>\n",
       "      <td>1000</td>\n",
       "    </tr>\n",
       "    <tr>\n",
       "      <td>1</td>\n",
       "      <td>1</td>\n",
       "      <td>1000_1</td>\n",
       "      <td>1052.81</td>\n",
       "      <td>2018-09-07</td>\n",
       "      <td>1000</td>\n",
       "    </tr>\n",
       "    <tr>\n",
       "      <td>2</td>\n",
       "      <td>2</td>\n",
       "      <td>1000_2</td>\n",
       "      <td>1197.26</td>\n",
       "      <td>2018-06-25</td>\n",
       "      <td>1000</td>\n",
       "    </tr>\n",
       "    <tr>\n",
       "      <td>3</td>\n",
       "      <td>3</td>\n",
       "      <td>1000_3</td>\n",
       "      <td>550.27</td>\n",
       "      <td>2018-08-22</td>\n",
       "      <td>1000</td>\n",
       "    </tr>\n",
       "    <tr>\n",
       "      <td>4</td>\n",
       "      <td>4</td>\n",
       "      <td>1000_4</td>\n",
       "      <td>302.56</td>\n",
       "      <td>2018-09-24</td>\n",
       "      <td>1000</td>\n",
       "    </tr>\n",
       "  </tbody>\n",
       "</table>\n",
       "</div>"
      ],
      "text/plain": [
       "   Unnamed: 0      id  mb_used session_date  user_id\n",
       "0           0  1000_0   112.95   2018-11-25     1000\n",
       "1           1  1000_1  1052.81   2018-09-07     1000\n",
       "2           2  1000_2  1197.26   2018-06-25     1000\n",
       "3           3  1000_3   550.27   2018-08-22     1000\n",
       "4           4  1000_4   302.56   2018-09-24     1000"
      ]
     },
     "execution_count": 6,
     "metadata": {},
     "output_type": "execute_result"
    }
   ],
   "source": [
    "# получение 5 строк таблицы df_internet\n",
    "df_internet.head()"
   ]
  },
  {
   "cell_type": "code",
   "execution_count": 7,
   "metadata": {},
   "outputs": [
    {
     "name": "stdout",
     "output_type": "stream",
     "text": [
      "<class 'pandas.core.frame.DataFrame'>\n",
      "RangeIndex: 149396 entries, 0 to 149395\n",
      "Data columns (total 5 columns):\n",
      "Unnamed: 0      149396 non-null int64\n",
      "id              149396 non-null object\n",
      "mb_used         149396 non-null float64\n",
      "session_date    149396 non-null object\n",
      "user_id         149396 non-null int64\n",
      "dtypes: float64(1), int64(2), object(2)\n",
      "memory usage: 5.7+ MB\n"
     ]
    }
   ],
   "source": [
    "# получение общей информации о данных в таблице df_internet\n",
    "df_internet.info()"
   ]
  },
  {
   "cell_type": "code",
   "execution_count": 8,
   "metadata": {},
   "outputs": [
    {
     "data": {
      "text/html": [
       "<div>\n",
       "<style scoped>\n",
       "    .dataframe tbody tr th:only-of-type {\n",
       "        vertical-align: middle;\n",
       "    }\n",
       "\n",
       "    .dataframe tbody tr th {\n",
       "        vertical-align: top;\n",
       "    }\n",
       "\n",
       "    .dataframe thead th {\n",
       "        text-align: right;\n",
       "    }\n",
       "</style>\n",
       "<table border=\"1\" class=\"dataframe\">\n",
       "  <thead>\n",
       "    <tr style=\"text-align: right;\">\n",
       "      <th></th>\n",
       "      <th>Unnamed: 0</th>\n",
       "      <th>mb_used</th>\n",
       "      <th>user_id</th>\n",
       "    </tr>\n",
       "  </thead>\n",
       "  <tbody>\n",
       "    <tr>\n",
       "      <td>count</td>\n",
       "      <td>149396.000000</td>\n",
       "      <td>149396.000000</td>\n",
       "      <td>149396.000000</td>\n",
       "    </tr>\n",
       "    <tr>\n",
       "      <td>mean</td>\n",
       "      <td>74697.500000</td>\n",
       "      <td>370.192426</td>\n",
       "      <td>1252.099842</td>\n",
       "    </tr>\n",
       "    <tr>\n",
       "      <td>std</td>\n",
       "      <td>43127.054745</td>\n",
       "      <td>278.300951</td>\n",
       "      <td>144.050823</td>\n",
       "    </tr>\n",
       "    <tr>\n",
       "      <td>min</td>\n",
       "      <td>0.000000</td>\n",
       "      <td>0.000000</td>\n",
       "      <td>1000.000000</td>\n",
       "    </tr>\n",
       "    <tr>\n",
       "      <td>25%</td>\n",
       "      <td>37348.750000</td>\n",
       "      <td>138.187500</td>\n",
       "      <td>1130.000000</td>\n",
       "    </tr>\n",
       "    <tr>\n",
       "      <td>50%</td>\n",
       "      <td>74697.500000</td>\n",
       "      <td>348.015000</td>\n",
       "      <td>1251.000000</td>\n",
       "    </tr>\n",
       "    <tr>\n",
       "      <td>75%</td>\n",
       "      <td>112046.250000</td>\n",
       "      <td>559.552500</td>\n",
       "      <td>1380.000000</td>\n",
       "    </tr>\n",
       "    <tr>\n",
       "      <td>max</td>\n",
       "      <td>149395.000000</td>\n",
       "      <td>1724.830000</td>\n",
       "      <td>1499.000000</td>\n",
       "    </tr>\n",
       "  </tbody>\n",
       "</table>\n",
       "</div>"
      ],
      "text/plain": [
       "          Unnamed: 0        mb_used        user_id\n",
       "count  149396.000000  149396.000000  149396.000000\n",
       "mean    74697.500000     370.192426    1252.099842\n",
       "std     43127.054745     278.300951     144.050823\n",
       "min         0.000000       0.000000    1000.000000\n",
       "25%     37348.750000     138.187500    1130.000000\n",
       "50%     74697.500000     348.015000    1251.000000\n",
       "75%    112046.250000     559.552500    1380.000000\n",
       "max    149395.000000    1724.830000    1499.000000"
      ]
     },
     "execution_count": 8,
     "metadata": {},
     "output_type": "execute_result"
    }
   ],
   "source": [
    "# получение статистической информации об интернет-трафике\n",
    "df_internet.describe()"
   ]
  },
  {
   "cell_type": "code",
   "execution_count": 9,
   "metadata": {},
   "outputs": [
    {
     "data": {
      "text/html": [
       "<div>\n",
       "<style scoped>\n",
       "    .dataframe tbody tr th:only-of-type {\n",
       "        vertical-align: middle;\n",
       "    }\n",
       "\n",
       "    .dataframe tbody tr th {\n",
       "        vertical-align: top;\n",
       "    }\n",
       "\n",
       "    .dataframe thead th {\n",
       "        text-align: right;\n",
       "    }\n",
       "</style>\n",
       "<table border=\"1\" class=\"dataframe\">\n",
       "  <thead>\n",
       "    <tr style=\"text-align: right;\">\n",
       "      <th></th>\n",
       "      <th>id</th>\n",
       "      <th>message_date</th>\n",
       "      <th>user_id</th>\n",
       "    </tr>\n",
       "  </thead>\n",
       "  <tbody>\n",
       "    <tr>\n",
       "      <td>117139</td>\n",
       "      <td>1477_22</td>\n",
       "      <td>2018-06-03</td>\n",
       "      <td>1477</td>\n",
       "    </tr>\n",
       "    <tr>\n",
       "      <td>74841</td>\n",
       "      <td>1317_80</td>\n",
       "      <td>2018-10-20</td>\n",
       "      <td>1317</td>\n",
       "    </tr>\n",
       "    <tr>\n",
       "      <td>29073</td>\n",
       "      <td>1127_96</td>\n",
       "      <td>2018-10-18</td>\n",
       "      <td>1127</td>\n",
       "    </tr>\n",
       "    <tr>\n",
       "      <td>58680</td>\n",
       "      <td>1257_472</td>\n",
       "      <td>2018-09-12</td>\n",
       "      <td>1257</td>\n",
       "    </tr>\n",
       "    <tr>\n",
       "      <td>103558</td>\n",
       "      <td>1421_521</td>\n",
       "      <td>2018-06-24</td>\n",
       "      <td>1421</td>\n",
       "    </tr>\n",
       "  </tbody>\n",
       "</table>\n",
       "</div>"
      ],
      "text/plain": [
       "              id message_date  user_id\n",
       "117139   1477_22   2018-06-03     1477\n",
       "74841    1317_80   2018-10-20     1317\n",
       "29073    1127_96   2018-10-18     1127\n",
       "58680   1257_472   2018-09-12     1257\n",
       "103558  1421_521   2018-06-24     1421"
      ]
     },
     "execution_count": 9,
     "metadata": {},
     "output_type": "execute_result"
    }
   ],
   "source": [
    "# получение 5 строк таблицы df_messages\n",
    "df_messages.sample(5)"
   ]
  },
  {
   "cell_type": "code",
   "execution_count": 10,
   "metadata": {},
   "outputs": [
    {
     "name": "stdout",
     "output_type": "stream",
     "text": [
      "<class 'pandas.core.frame.DataFrame'>\n",
      "RangeIndex: 123036 entries, 0 to 123035\n",
      "Data columns (total 3 columns):\n",
      "id              123036 non-null object\n",
      "message_date    123036 non-null object\n",
      "user_id         123036 non-null int64\n",
      "dtypes: int64(1), object(2)\n",
      "memory usage: 2.8+ MB\n"
     ]
    }
   ],
   "source": [
    "# получение общей информации о данных в таблице df_messages\n",
    "df_messages.info()"
   ]
  },
  {
   "cell_type": "code",
   "execution_count": 11,
   "metadata": {},
   "outputs": [
    {
     "data": {
      "text/html": [
       "<div>\n",
       "<style scoped>\n",
       "    .dataframe tbody tr th:only-of-type {\n",
       "        vertical-align: middle;\n",
       "    }\n",
       "\n",
       "    .dataframe tbody tr th {\n",
       "        vertical-align: top;\n",
       "    }\n",
       "\n",
       "    .dataframe thead th {\n",
       "        text-align: right;\n",
       "    }\n",
       "</style>\n",
       "<table border=\"1\" class=\"dataframe\">\n",
       "  <thead>\n",
       "    <tr style=\"text-align: right;\">\n",
       "      <th></th>\n",
       "      <th>user_id</th>\n",
       "    </tr>\n",
       "  </thead>\n",
       "  <tbody>\n",
       "    <tr>\n",
       "      <td>count</td>\n",
       "      <td>123036.000000</td>\n",
       "    </tr>\n",
       "    <tr>\n",
       "      <td>mean</td>\n",
       "      <td>1256.989410</td>\n",
       "    </tr>\n",
       "    <tr>\n",
       "      <td>std</td>\n",
       "      <td>143.523967</td>\n",
       "    </tr>\n",
       "    <tr>\n",
       "      <td>min</td>\n",
       "      <td>1000.000000</td>\n",
       "    </tr>\n",
       "    <tr>\n",
       "      <td>25%</td>\n",
       "      <td>1134.000000</td>\n",
       "    </tr>\n",
       "    <tr>\n",
       "      <td>50%</td>\n",
       "      <td>1271.000000</td>\n",
       "    </tr>\n",
       "    <tr>\n",
       "      <td>75%</td>\n",
       "      <td>1381.000000</td>\n",
       "    </tr>\n",
       "    <tr>\n",
       "      <td>max</td>\n",
       "      <td>1499.000000</td>\n",
       "    </tr>\n",
       "  </tbody>\n",
       "</table>\n",
       "</div>"
      ],
      "text/plain": [
       "             user_id\n",
       "count  123036.000000\n",
       "mean     1256.989410\n",
       "std       143.523967\n",
       "min      1000.000000\n",
       "25%      1134.000000\n",
       "50%      1271.000000\n",
       "75%      1381.000000\n",
       "max      1499.000000"
      ]
     },
     "execution_count": 11,
     "metadata": {},
     "output_type": "execute_result"
    }
   ],
   "source": [
    "# получение статистической информации о сообщениях\n",
    "df_messages.describe()"
   ]
  },
  {
   "cell_type": "code",
   "execution_count": 12,
   "metadata": {},
   "outputs": [
    {
     "data": {
      "text/html": [
       "<div>\n",
       "<style scoped>\n",
       "    .dataframe tbody tr th:only-of-type {\n",
       "        vertical-align: middle;\n",
       "    }\n",
       "\n",
       "    .dataframe tbody tr th {\n",
       "        vertical-align: top;\n",
       "    }\n",
       "\n",
       "    .dataframe thead th {\n",
       "        text-align: right;\n",
       "    }\n",
       "</style>\n",
       "<table border=\"1\" class=\"dataframe\">\n",
       "  <thead>\n",
       "    <tr style=\"text-align: right;\">\n",
       "      <th></th>\n",
       "      <th>messages_included</th>\n",
       "      <th>mb_per_month_included</th>\n",
       "      <th>minutes_included</th>\n",
       "      <th>rub_monthly_fee</th>\n",
       "      <th>rub_per_gb</th>\n",
       "      <th>rub_per_message</th>\n",
       "      <th>rub_per_minute</th>\n",
       "      <th>tariff_name</th>\n",
       "    </tr>\n",
       "  </thead>\n",
       "  <tbody>\n",
       "    <tr>\n",
       "      <td>0</td>\n",
       "      <td>50</td>\n",
       "      <td>15360</td>\n",
       "      <td>500</td>\n",
       "      <td>550</td>\n",
       "      <td>200</td>\n",
       "      <td>3</td>\n",
       "      <td>3</td>\n",
       "      <td>smart</td>\n",
       "    </tr>\n",
       "    <tr>\n",
       "      <td>1</td>\n",
       "      <td>1000</td>\n",
       "      <td>30720</td>\n",
       "      <td>3000</td>\n",
       "      <td>1950</td>\n",
       "      <td>150</td>\n",
       "      <td>1</td>\n",
       "      <td>1</td>\n",
       "      <td>ultra</td>\n",
       "    </tr>\n",
       "  </tbody>\n",
       "</table>\n",
       "</div>"
      ],
      "text/plain": [
       "   messages_included  mb_per_month_included  minutes_included  \\\n",
       "0                 50                  15360               500   \n",
       "1               1000                  30720              3000   \n",
       "\n",
       "   rub_monthly_fee  rub_per_gb  rub_per_message  rub_per_minute tariff_name  \n",
       "0              550         200                3               3       smart  \n",
       "1             1950         150                1               1       ultra  "
      ]
     },
     "execution_count": 12,
     "metadata": {},
     "output_type": "execute_result"
    }
   ],
   "source": [
    "# просмотр строк таблицы df_tariffs\n",
    "df_tariffs.head()"
   ]
  },
  {
   "cell_type": "code",
   "execution_count": 13,
   "metadata": {},
   "outputs": [
    {
     "name": "stdout",
     "output_type": "stream",
     "text": [
      "<class 'pandas.core.frame.DataFrame'>\n",
      "RangeIndex: 2 entries, 0 to 1\n",
      "Data columns (total 8 columns):\n",
      "messages_included        2 non-null int64\n",
      "mb_per_month_included    2 non-null int64\n",
      "minutes_included         2 non-null int64\n",
      "rub_monthly_fee          2 non-null int64\n",
      "rub_per_gb               2 non-null int64\n",
      "rub_per_message          2 non-null int64\n",
      "rub_per_minute           2 non-null int64\n",
      "tariff_name              2 non-null object\n",
      "dtypes: int64(7), object(1)\n",
      "memory usage: 256.0+ bytes\n"
     ]
    }
   ],
   "source": [
    "# получение общей информации о данных в таблице df_tariffs\n",
    "df_tariffs.info()"
   ]
  },
  {
   "cell_type": "code",
   "execution_count": 14,
   "metadata": {
    "scrolled": false
   },
   "outputs": [
    {
     "data": {
      "text/html": [
       "<div>\n",
       "<style scoped>\n",
       "    .dataframe tbody tr th:only-of-type {\n",
       "        vertical-align: middle;\n",
       "    }\n",
       "\n",
       "    .dataframe tbody tr th {\n",
       "        vertical-align: top;\n",
       "    }\n",
       "\n",
       "    .dataframe thead th {\n",
       "        text-align: right;\n",
       "    }\n",
       "</style>\n",
       "<table border=\"1\" class=\"dataframe\">\n",
       "  <thead>\n",
       "    <tr style=\"text-align: right;\">\n",
       "      <th></th>\n",
       "      <th>user_id</th>\n",
       "      <th>age</th>\n",
       "      <th>churn_date</th>\n",
       "      <th>city</th>\n",
       "      <th>first_name</th>\n",
       "      <th>last_name</th>\n",
       "      <th>reg_date</th>\n",
       "      <th>tariff</th>\n",
       "    </tr>\n",
       "  </thead>\n",
       "  <tbody>\n",
       "    <tr>\n",
       "      <td>476</td>\n",
       "      <td>1476</td>\n",
       "      <td>50</td>\n",
       "      <td>NaN</td>\n",
       "      <td>Москва</td>\n",
       "      <td>Валентина</td>\n",
       "      <td>Семенова</td>\n",
       "      <td>2018-04-30</td>\n",
       "      <td>ultra</td>\n",
       "    </tr>\n",
       "    <tr>\n",
       "      <td>426</td>\n",
       "      <td>1426</td>\n",
       "      <td>56</td>\n",
       "      <td>NaN</td>\n",
       "      <td>Оренбург</td>\n",
       "      <td>Арина</td>\n",
       "      <td>Богданова</td>\n",
       "      <td>2018-09-04</td>\n",
       "      <td>smart</td>\n",
       "    </tr>\n",
       "    <tr>\n",
       "      <td>23</td>\n",
       "      <td>1023</td>\n",
       "      <td>42</td>\n",
       "      <td>NaN</td>\n",
       "      <td>Томск</td>\n",
       "      <td>Людмила</td>\n",
       "      <td>Мельникова</td>\n",
       "      <td>2018-10-22</td>\n",
       "      <td>smart</td>\n",
       "    </tr>\n",
       "    <tr>\n",
       "      <td>239</td>\n",
       "      <td>1239</td>\n",
       "      <td>68</td>\n",
       "      <td>NaN</td>\n",
       "      <td>Самара</td>\n",
       "      <td>Даниил</td>\n",
       "      <td>Ёрохов</td>\n",
       "      <td>2018-06-12</td>\n",
       "      <td>smart</td>\n",
       "    </tr>\n",
       "    <tr>\n",
       "      <td>242</td>\n",
       "      <td>1242</td>\n",
       "      <td>39</td>\n",
       "      <td>2018-12-21</td>\n",
       "      <td>Хабаровск</td>\n",
       "      <td>Радим</td>\n",
       "      <td>Федосеев</td>\n",
       "      <td>2018-11-18</td>\n",
       "      <td>smart</td>\n",
       "    </tr>\n",
       "  </tbody>\n",
       "</table>\n",
       "</div>"
      ],
      "text/plain": [
       "     user_id  age  churn_date       city first_name   last_name    reg_date  \\\n",
       "476     1476   50         NaN     Москва  Валентина    Семенова  2018-04-30   \n",
       "426     1426   56         NaN   Оренбург      Арина   Богданова  2018-09-04   \n",
       "23      1023   42         NaN      Томск    Людмила  Мельникова  2018-10-22   \n",
       "239     1239   68         NaN     Самара     Даниил      Ёрохов  2018-06-12   \n",
       "242     1242   39  2018-12-21  Хабаровск      Радим    Федосеев  2018-11-18   \n",
       "\n",
       "    tariff  \n",
       "476  ultra  \n",
       "426  smart  \n",
       "23   smart  \n",
       "239  smart  \n",
       "242  smart  "
      ]
     },
     "execution_count": 14,
     "metadata": {},
     "output_type": "execute_result"
    }
   ],
   "source": [
    "# получение 5 строк таблицы df_users\n",
    "df_users.sample(5)"
   ]
  },
  {
   "cell_type": "code",
   "execution_count": 15,
   "metadata": {},
   "outputs": [
    {
     "name": "stdout",
     "output_type": "stream",
     "text": [
      "<class 'pandas.core.frame.DataFrame'>\n",
      "RangeIndex: 500 entries, 0 to 499\n",
      "Data columns (total 8 columns):\n",
      "user_id       500 non-null int64\n",
      "age           500 non-null int64\n",
      "churn_date    38 non-null object\n",
      "city          500 non-null object\n",
      "first_name    500 non-null object\n",
      "last_name     500 non-null object\n",
      "reg_date      500 non-null object\n",
      "tariff        500 non-null object\n",
      "dtypes: int64(2), object(6)\n",
      "memory usage: 31.4+ KB\n"
     ]
    }
   ],
   "source": [
    "# получение общей информации о данных в таблице df_users\n",
    "df_users.info()"
   ]
  },
  {
   "cell_type": "code",
   "execution_count": 16,
   "metadata": {},
   "outputs": [
    {
     "data": {
      "text/html": [
       "<div>\n",
       "<style scoped>\n",
       "    .dataframe tbody tr th:only-of-type {\n",
       "        vertical-align: middle;\n",
       "    }\n",
       "\n",
       "    .dataframe tbody tr th {\n",
       "        vertical-align: top;\n",
       "    }\n",
       "\n",
       "    .dataframe thead th {\n",
       "        text-align: right;\n",
       "    }\n",
       "</style>\n",
       "<table border=\"1\" class=\"dataframe\">\n",
       "  <thead>\n",
       "    <tr style=\"text-align: right;\">\n",
       "      <th></th>\n",
       "      <th>user_id</th>\n",
       "      <th>age</th>\n",
       "    </tr>\n",
       "  </thead>\n",
       "  <tbody>\n",
       "    <tr>\n",
       "      <td>count</td>\n",
       "      <td>500.000000</td>\n",
       "      <td>500.00000</td>\n",
       "    </tr>\n",
       "    <tr>\n",
       "      <td>mean</td>\n",
       "      <td>1249.500000</td>\n",
       "      <td>46.58800</td>\n",
       "    </tr>\n",
       "    <tr>\n",
       "      <td>std</td>\n",
       "      <td>144.481833</td>\n",
       "      <td>16.66763</td>\n",
       "    </tr>\n",
       "    <tr>\n",
       "      <td>min</td>\n",
       "      <td>1000.000000</td>\n",
       "      <td>18.00000</td>\n",
       "    </tr>\n",
       "    <tr>\n",
       "      <td>25%</td>\n",
       "      <td>1124.750000</td>\n",
       "      <td>32.00000</td>\n",
       "    </tr>\n",
       "    <tr>\n",
       "      <td>50%</td>\n",
       "      <td>1249.500000</td>\n",
       "      <td>46.00000</td>\n",
       "    </tr>\n",
       "    <tr>\n",
       "      <td>75%</td>\n",
       "      <td>1374.250000</td>\n",
       "      <td>62.00000</td>\n",
       "    </tr>\n",
       "    <tr>\n",
       "      <td>max</td>\n",
       "      <td>1499.000000</td>\n",
       "      <td>75.00000</td>\n",
       "    </tr>\n",
       "  </tbody>\n",
       "</table>\n",
       "</div>"
      ],
      "text/plain": [
       "           user_id        age\n",
       "count   500.000000  500.00000\n",
       "mean   1249.500000   46.58800\n",
       "std     144.481833   16.66763\n",
       "min    1000.000000   18.00000\n",
       "25%    1124.750000   32.00000\n",
       "50%    1249.500000   46.00000\n",
       "75%    1374.250000   62.00000\n",
       "max    1499.000000   75.00000"
      ]
     },
     "execution_count": 16,
     "metadata": {},
     "output_type": "execute_result"
    }
   ],
   "source": [
    "# получение статистической информации о пользователях\n",
    "df_users.describe()"
   ]
  },
  {
   "cell_type": "markdown",
   "metadata": {},
   "source": [
    "Таким образом, для исследования у нас имеется 5 таблиц с информацией о пользователях, звонках, сообщениях, интернет-сессиях и тарифах. Все таблицы имеют разное количество строк. Пропуски имеются только в одном столбце `churn_date`. Данные пропуски говорят о том, что тариф ещё действовал на момент выгрузки данных."
   ]
  },
  {
   "cell_type": "markdown",
   "metadata": {},
   "source": [
    "## Предобработка данных"
   ]
  },
  {
   "cell_type": "markdown",
   "metadata": {},
   "source": [
    "Изменим тип данных в столбцах с датами, чтобы в дальнейшем была возможность извлекать месяц, день или год, если это понадобится."
   ]
  },
  {
   "cell_type": "code",
   "execution_count": 17,
   "metadata": {},
   "outputs": [
    {
     "data": {
      "text/plain": [
       "id                   object\n",
       "call_date    datetime64[ns]\n",
       "duration            float64\n",
       "user_id               int64\n",
       "dtype: object"
      ]
     },
     "execution_count": 17,
     "metadata": {},
     "output_type": "execute_result"
    }
   ],
   "source": [
    "# замена типа данных object на datetime в df_calls\n",
    "df_calls['call_date'] = pd.to_datetime(df_calls['call_date'])\n",
    "df_calls.dtypes # проверка"
   ]
  },
  {
   "cell_type": "code",
   "execution_count": 18,
   "metadata": {},
   "outputs": [
    {
     "data": {
      "text/plain": [
       "id                      object\n",
       "message_date    datetime64[ns]\n",
       "user_id                  int64\n",
       "dtype: object"
      ]
     },
     "execution_count": 18,
     "metadata": {},
     "output_type": "execute_result"
    }
   ],
   "source": [
    "# замена типа данных object на datetime в df_messages\n",
    "df_messages['message_date'] = pd.to_datetime(df_messages['message_date'])\n",
    "df_messages.dtypes # проверка"
   ]
  },
  {
   "cell_type": "code",
   "execution_count": 19,
   "metadata": {},
   "outputs": [
    {
     "data": {
      "text/plain": [
       "Unnamed: 0               int64\n",
       "id                      object\n",
       "mb_used                float64\n",
       "session_date    datetime64[ns]\n",
       "user_id                  int64\n",
       "dtype: object"
      ]
     },
     "execution_count": 19,
     "metadata": {},
     "output_type": "execute_result"
    }
   ],
   "source": [
    "# замена типа данных object на datetime в df_internet\n",
    "df_internet['session_date'] = pd.to_datetime(df_internet['session_date'])\n",
    "df_internet.dtypes # проверка"
   ]
  },
  {
   "cell_type": "code",
   "execution_count": 20,
   "metadata": {},
   "outputs": [
    {
     "data": {
      "text/plain": [
       "user_id                int64\n",
       "age                    int64\n",
       "churn_date    datetime64[ns]\n",
       "city                  object\n",
       "first_name            object\n",
       "last_name             object\n",
       "reg_date      datetime64[ns]\n",
       "tariff                object\n",
       "dtype: object"
      ]
     },
     "execution_count": 20,
     "metadata": {},
     "output_type": "execute_result"
    }
   ],
   "source": [
    "# замена типа данных object на datetime в df_users\n",
    "df_users['reg_date'] = pd.to_datetime(df_users['reg_date'])\n",
    "df_users['churn_date'] = pd.to_datetime(df_users['churn_date'])\n",
    "df_users.dtypes # проверка"
   ]
  },
  {
   "cell_type": "markdown",
   "metadata": {},
   "source": [
    "Так как «Мегалайн» всегда округляет секунды до минут, округлим значения столбца `duration` до целых вверх и заменим тип данных на целочисленный"
   ]
  },
  {
   "cell_type": "code",
   "execution_count": 21,
   "metadata": {},
   "outputs": [],
   "source": [
    "# округление значений вверх и измениение типа данных на целое число\n",
    "df_calls['duration'] = np.ceil(df_calls['duration']).astype('int')"
   ]
  },
  {
   "cell_type": "code",
   "execution_count": 22,
   "metadata": {},
   "outputs": [],
   "source": [
    "# добавление нового столбца с месяцем\n",
    "df_calls['month'] = df_calls['call_date'].dt.month\n",
    "df_messages['month'] = df_messages['message_date'].dt.month\n",
    "df_internet['month'] = df_internet['session_date'].dt.month"
   ]
  },
  {
   "cell_type": "code",
   "execution_count": 23,
   "metadata": {},
   "outputs": [
    {
     "data": {
      "text/html": [
       "<div>\n",
       "<style scoped>\n",
       "    .dataframe tbody tr th:only-of-type {\n",
       "        vertical-align: middle;\n",
       "    }\n",
       "\n",
       "    .dataframe tbody tr th {\n",
       "        vertical-align: top;\n",
       "    }\n",
       "\n",
       "    .dataframe thead th {\n",
       "        text-align: right;\n",
       "    }\n",
       "</style>\n",
       "<table border=\"1\" class=\"dataframe\">\n",
       "  <thead>\n",
       "    <tr style=\"text-align: right;\">\n",
       "      <th></th>\n",
       "      <th></th>\n",
       "      <th>count_calls</th>\n",
       "      <th>sum_minutes</th>\n",
       "    </tr>\n",
       "    <tr>\n",
       "      <th>user_id</th>\n",
       "      <th>month</th>\n",
       "      <th></th>\n",
       "      <th></th>\n",
       "    </tr>\n",
       "  </thead>\n",
       "  <tbody>\n",
       "    <tr>\n",
       "      <td rowspan=\"5\" valign=\"top\">1000</td>\n",
       "      <td>5</td>\n",
       "      <td>22</td>\n",
       "      <td>159</td>\n",
       "    </tr>\n",
       "    <tr>\n",
       "      <td>6</td>\n",
       "      <td>43</td>\n",
       "      <td>172</td>\n",
       "    </tr>\n",
       "    <tr>\n",
       "      <td>7</td>\n",
       "      <td>47</td>\n",
       "      <td>340</td>\n",
       "    </tr>\n",
       "    <tr>\n",
       "      <td>8</td>\n",
       "      <td>52</td>\n",
       "      <td>408</td>\n",
       "    </tr>\n",
       "    <tr>\n",
       "      <td>9</td>\n",
       "      <td>58</td>\n",
       "      <td>466</td>\n",
       "    </tr>\n",
       "    <tr>\n",
       "      <td>...</td>\n",
       "      <td>...</td>\n",
       "      <td>...</td>\n",
       "      <td>...</td>\n",
       "    </tr>\n",
       "    <tr>\n",
       "      <td>1498</td>\n",
       "      <td>10</td>\n",
       "      <td>41</td>\n",
       "      <td>247</td>\n",
       "    </tr>\n",
       "    <tr>\n",
       "      <td rowspan=\"4\" valign=\"top\">1499</td>\n",
       "      <td>9</td>\n",
       "      <td>9</td>\n",
       "      <td>70</td>\n",
       "    </tr>\n",
       "    <tr>\n",
       "      <td>10</td>\n",
       "      <td>68</td>\n",
       "      <td>449</td>\n",
       "    </tr>\n",
       "    <tr>\n",
       "      <td>11</td>\n",
       "      <td>74</td>\n",
       "      <td>612</td>\n",
       "    </tr>\n",
       "    <tr>\n",
       "      <td>12</td>\n",
       "      <td>69</td>\n",
       "      <td>492</td>\n",
       "    </tr>\n",
       "  </tbody>\n",
       "</table>\n",
       "<p>3174 rows × 2 columns</p>\n",
       "</div>"
      ],
      "text/plain": [
       "               count_calls  sum_minutes\n",
       "user_id month                          \n",
       "1000    5               22          159\n",
       "        6               43          172\n",
       "        7               47          340\n",
       "        8               52          408\n",
       "        9               58          466\n",
       "...                    ...          ...\n",
       "1498    10              41          247\n",
       "1499    9                9           70\n",
       "        10              68          449\n",
       "        11              74          612\n",
       "        12              69          492\n",
       "\n",
       "[3174 rows x 2 columns]"
      ]
     },
     "execution_count": 23,
     "metadata": {},
     "output_type": "execute_result"
    }
   ],
   "source": [
    "# подсчет количества сделанных звонков и израсходованных минут разговора по месяцам\n",
    "df_calls_count = df_calls.groupby(['user_id', 'month']).agg({'id': 'count', 'duration': 'sum'})\n",
    "df_calls_count.columns = ['count_calls', 'sum_minutes']\n",
    "df_calls_count"
   ]
  },
  {
   "cell_type": "code",
   "execution_count": 24,
   "metadata": {},
   "outputs": [
    {
     "data": {
      "text/html": [
       "<div>\n",
       "<style scoped>\n",
       "    .dataframe tbody tr th:only-of-type {\n",
       "        vertical-align: middle;\n",
       "    }\n",
       "\n",
       "    .dataframe tbody tr th {\n",
       "        vertical-align: top;\n",
       "    }\n",
       "\n",
       "    .dataframe thead th {\n",
       "        text-align: right;\n",
       "    }\n",
       "</style>\n",
       "<table border=\"1\" class=\"dataframe\">\n",
       "  <thead>\n",
       "    <tr style=\"text-align: right;\">\n",
       "      <th></th>\n",
       "      <th></th>\n",
       "      <th>count_messages</th>\n",
       "    </tr>\n",
       "    <tr>\n",
       "      <th>user_id</th>\n",
       "      <th>month</th>\n",
       "      <th></th>\n",
       "    </tr>\n",
       "  </thead>\n",
       "  <tbody>\n",
       "    <tr>\n",
       "      <td rowspan=\"5\" valign=\"top\">1000</td>\n",
       "      <td>5</td>\n",
       "      <td>22</td>\n",
       "    </tr>\n",
       "    <tr>\n",
       "      <td>6</td>\n",
       "      <td>60</td>\n",
       "    </tr>\n",
       "    <tr>\n",
       "      <td>7</td>\n",
       "      <td>75</td>\n",
       "    </tr>\n",
       "    <tr>\n",
       "      <td>8</td>\n",
       "      <td>81</td>\n",
       "    </tr>\n",
       "    <tr>\n",
       "      <td>9</td>\n",
       "      <td>57</td>\n",
       "    </tr>\n",
       "    <tr>\n",
       "      <td>...</td>\n",
       "      <td>...</td>\n",
       "      <td>...</td>\n",
       "    </tr>\n",
       "    <tr>\n",
       "      <td>1498</td>\n",
       "      <td>10</td>\n",
       "      <td>42</td>\n",
       "    </tr>\n",
       "    <tr>\n",
       "      <td rowspan=\"4\" valign=\"top\">1499</td>\n",
       "      <td>9</td>\n",
       "      <td>11</td>\n",
       "    </tr>\n",
       "    <tr>\n",
       "      <td>10</td>\n",
       "      <td>48</td>\n",
       "    </tr>\n",
       "    <tr>\n",
       "      <td>11</td>\n",
       "      <td>59</td>\n",
       "    </tr>\n",
       "    <tr>\n",
       "      <td>12</td>\n",
       "      <td>66</td>\n",
       "    </tr>\n",
       "  </tbody>\n",
       "</table>\n",
       "<p>2717 rows × 1 columns</p>\n",
       "</div>"
      ],
      "text/plain": [
       "               count_messages\n",
       "user_id month                \n",
       "1000    5                  22\n",
       "        6                  60\n",
       "        7                  75\n",
       "        8                  81\n",
       "        9                  57\n",
       "...                       ...\n",
       "1498    10                 42\n",
       "1499    9                  11\n",
       "        10                 48\n",
       "        11                 59\n",
       "        12                 66\n",
       "\n",
       "[2717 rows x 1 columns]"
      ]
     },
     "execution_count": 24,
     "metadata": {},
     "output_type": "execute_result"
    }
   ],
   "source": [
    "# подсчет количества отправленных сообщений по месяцам\n",
    "df_messages_count = df_messages.pivot_table(index = ['user_id', 'month'], values = 'id', aggfunc = 'count')\n",
    "df_messages_count.columns = ['count_messages']\n",
    "df_messages_count"
   ]
  },
  {
   "cell_type": "code",
   "execution_count": 25,
   "metadata": {
    "scrolled": true
   },
   "outputs": [
    {
     "data": {
      "text/html": [
       "<div>\n",
       "<style scoped>\n",
       "    .dataframe tbody tr th:only-of-type {\n",
       "        vertical-align: middle;\n",
       "    }\n",
       "\n",
       "    .dataframe tbody tr th {\n",
       "        vertical-align: top;\n",
       "    }\n",
       "\n",
       "    .dataframe thead th {\n",
       "        text-align: right;\n",
       "    }\n",
       "</style>\n",
       "<table border=\"1\" class=\"dataframe\">\n",
       "  <thead>\n",
       "    <tr style=\"text-align: right;\">\n",
       "      <th></th>\n",
       "      <th></th>\n",
       "      <th>mb_used_sum</th>\n",
       "    </tr>\n",
       "    <tr>\n",
       "      <th>user_id</th>\n",
       "      <th>month</th>\n",
       "      <th></th>\n",
       "    </tr>\n",
       "  </thead>\n",
       "  <tbody>\n",
       "    <tr>\n",
       "      <td rowspan=\"5\" valign=\"top\">1000</td>\n",
       "      <td>5</td>\n",
       "      <td>2253.49</td>\n",
       "    </tr>\n",
       "    <tr>\n",
       "      <td>6</td>\n",
       "      <td>23233.77</td>\n",
       "    </tr>\n",
       "    <tr>\n",
       "      <td>7</td>\n",
       "      <td>14003.64</td>\n",
       "    </tr>\n",
       "    <tr>\n",
       "      <td>8</td>\n",
       "      <td>14055.93</td>\n",
       "    </tr>\n",
       "    <tr>\n",
       "      <td>9</td>\n",
       "      <td>14568.91</td>\n",
       "    </tr>\n",
       "    <tr>\n",
       "      <td>...</td>\n",
       "      <td>...</td>\n",
       "      <td>...</td>\n",
       "    </tr>\n",
       "    <tr>\n",
       "      <td>1498</td>\n",
       "      <td>10</td>\n",
       "      <td>20579.36</td>\n",
       "    </tr>\n",
       "    <tr>\n",
       "      <td rowspan=\"4\" valign=\"top\">1499</td>\n",
       "      <td>9</td>\n",
       "      <td>1845.75</td>\n",
       "    </tr>\n",
       "    <tr>\n",
       "      <td>10</td>\n",
       "      <td>17788.51</td>\n",
       "    </tr>\n",
       "    <tr>\n",
       "      <td>11</td>\n",
       "      <td>17963.31</td>\n",
       "    </tr>\n",
       "    <tr>\n",
       "      <td>12</td>\n",
       "      <td>13055.58</td>\n",
       "    </tr>\n",
       "  </tbody>\n",
       "</table>\n",
       "<p>3203 rows × 1 columns</p>\n",
       "</div>"
      ],
      "text/plain": [
       "               mb_used_sum\n",
       "user_id month             \n",
       "1000    5          2253.49\n",
       "        6         23233.77\n",
       "        7         14003.64\n",
       "        8         14055.93\n",
       "        9         14568.91\n",
       "...                    ...\n",
       "1498    10        20579.36\n",
       "1499    9          1845.75\n",
       "        10        17788.51\n",
       "        11        17963.31\n",
       "        12        13055.58\n",
       "\n",
       "[3203 rows x 1 columns]"
      ]
     },
     "execution_count": 25,
     "metadata": {},
     "output_type": "execute_result"
    }
   ],
   "source": [
    "# подсчет объема израсходованного интернет-трафика по месяцам\n",
    "df_internet_used = df_internet.pivot_table(index = ['user_id', 'month'], values = 'mb_used', aggfunc = 'sum')\n",
    "df_internet_used.columns = ['mb_used_sum']\n",
    "df_internet_used"
   ]
  },
  {
   "cell_type": "markdown",
   "metadata": {},
   "source": [
    "В описании проекта сказано, что для веб-трафика отдельные сессии не считаются. Вместо этого общая сумма за месяц округляется в большую сторону. Для этого напишем функцию, которая будет округлять значения до тысячи вверх и применим к столбцу `mb_used_sum` метод `aplay()`."
   ]
  },
  {
   "cell_type": "code",
   "execution_count": 26,
   "metadata": {},
   "outputs": [],
   "source": [
    "# создание функции для округления израсходанного интернет-трафика вверх плюс конвертирование мегабайты в гигабайты\n",
    "def roundup(x):\n",
    "    return int(np.ceil(x/1024))\n",
    "df_internet_used['mb_used_sum'] = df_internet_used['mb_used_sum'].apply(roundup) # замена значений на округленные методом apply   "
   ]
  },
  {
   "cell_type": "code",
   "execution_count": 27,
   "metadata": {
    "scrolled": true
   },
   "outputs": [
    {
     "data": {
      "text/html": [
       "<div>\n",
       "<style scoped>\n",
       "    .dataframe tbody tr th:only-of-type {\n",
       "        vertical-align: middle;\n",
       "    }\n",
       "\n",
       "    .dataframe tbody tr th {\n",
       "        vertical-align: top;\n",
       "    }\n",
       "\n",
       "    .dataframe thead th {\n",
       "        text-align: right;\n",
       "    }\n",
       "</style>\n",
       "<table border=\"1\" class=\"dataframe\">\n",
       "  <thead>\n",
       "    <tr style=\"text-align: right;\">\n",
       "      <th></th>\n",
       "      <th></th>\n",
       "      <th>mb_used_sum</th>\n",
       "    </tr>\n",
       "    <tr>\n",
       "      <th>user_id</th>\n",
       "      <th>month</th>\n",
       "      <th></th>\n",
       "    </tr>\n",
       "  </thead>\n",
       "  <tbody>\n",
       "    <tr>\n",
       "      <td rowspan=\"5\" valign=\"top\">1000</td>\n",
       "      <td>5</td>\n",
       "      <td>3</td>\n",
       "    </tr>\n",
       "    <tr>\n",
       "      <td>6</td>\n",
       "      <td>23</td>\n",
       "    </tr>\n",
       "    <tr>\n",
       "      <td>7</td>\n",
       "      <td>14</td>\n",
       "    </tr>\n",
       "    <tr>\n",
       "      <td>8</td>\n",
       "      <td>14</td>\n",
       "    </tr>\n",
       "    <tr>\n",
       "      <td>9</td>\n",
       "      <td>15</td>\n",
       "    </tr>\n",
       "    <tr>\n",
       "      <td>...</td>\n",
       "      <td>...</td>\n",
       "      <td>...</td>\n",
       "    </tr>\n",
       "    <tr>\n",
       "      <td>1498</td>\n",
       "      <td>10</td>\n",
       "      <td>21</td>\n",
       "    </tr>\n",
       "    <tr>\n",
       "      <td rowspan=\"4\" valign=\"top\">1499</td>\n",
       "      <td>9</td>\n",
       "      <td>2</td>\n",
       "    </tr>\n",
       "    <tr>\n",
       "      <td>10</td>\n",
       "      <td>18</td>\n",
       "    </tr>\n",
       "    <tr>\n",
       "      <td>11</td>\n",
       "      <td>18</td>\n",
       "    </tr>\n",
       "    <tr>\n",
       "      <td>12</td>\n",
       "      <td>13</td>\n",
       "    </tr>\n",
       "  </tbody>\n",
       "</table>\n",
       "<p>3203 rows × 1 columns</p>\n",
       "</div>"
      ],
      "text/plain": [
       "               mb_used_sum\n",
       "user_id month             \n",
       "1000    5                3\n",
       "        6               23\n",
       "        7               14\n",
       "        8               14\n",
       "        9               15\n",
       "...                    ...\n",
       "1498    10              21\n",
       "1499    9                2\n",
       "        10              18\n",
       "        11              18\n",
       "        12              13\n",
       "\n",
       "[3203 rows x 1 columns]"
      ]
     },
     "execution_count": 27,
     "metadata": {},
     "output_type": "execute_result"
    }
   ],
   "source": [
    "# проверка\n",
    "df_internet_used"
   ]
  },
  {
   "cell_type": "markdown",
   "metadata": {},
   "source": [
    "Для того чтобы посчитать помесячную выручку с каждого пользователя, объединим наши таблицы с данными о звонках, сообщениях, интернет-трафике и пользователях в одну"
   ]
  },
  {
   "cell_type": "code",
   "execution_count": 28,
   "metadata": {},
   "outputs": [
    {
     "data": {
      "text/html": [
       "<div>\n",
       "<style scoped>\n",
       "    .dataframe tbody tr th:only-of-type {\n",
       "        vertical-align: middle;\n",
       "    }\n",
       "\n",
       "    .dataframe tbody tr th {\n",
       "        vertical-align: top;\n",
       "    }\n",
       "\n",
       "    .dataframe thead th {\n",
       "        text-align: right;\n",
       "    }\n",
       "</style>\n",
       "<table border=\"1\" class=\"dataframe\">\n",
       "  <thead>\n",
       "    <tr style=\"text-align: right;\">\n",
       "      <th></th>\n",
       "      <th>user_id</th>\n",
       "      <th>month</th>\n",
       "      <th>count_calls</th>\n",
       "      <th>sum_minutes</th>\n",
       "      <th>count_messages</th>\n",
       "      <th>mb_used_sum</th>\n",
       "      <th>age</th>\n",
       "      <th>churn_date</th>\n",
       "      <th>city</th>\n",
       "      <th>first_name</th>\n",
       "      <th>last_name</th>\n",
       "      <th>reg_date</th>\n",
       "      <th>tariff</th>\n",
       "    </tr>\n",
       "  </thead>\n",
       "  <tbody>\n",
       "    <tr>\n",
       "      <td>0</td>\n",
       "      <td>1000</td>\n",
       "      <td>5</td>\n",
       "      <td>22.0</td>\n",
       "      <td>159.0</td>\n",
       "      <td>22.0</td>\n",
       "      <td>3.0</td>\n",
       "      <td>52</td>\n",
       "      <td>NaT</td>\n",
       "      <td>Краснодар</td>\n",
       "      <td>Рафаил</td>\n",
       "      <td>Верещагин</td>\n",
       "      <td>2018-05-25</td>\n",
       "      <td>ultra</td>\n",
       "    </tr>\n",
       "    <tr>\n",
       "      <td>1</td>\n",
       "      <td>1000</td>\n",
       "      <td>6</td>\n",
       "      <td>43.0</td>\n",
       "      <td>172.0</td>\n",
       "      <td>60.0</td>\n",
       "      <td>23.0</td>\n",
       "      <td>52</td>\n",
       "      <td>NaT</td>\n",
       "      <td>Краснодар</td>\n",
       "      <td>Рафаил</td>\n",
       "      <td>Верещагин</td>\n",
       "      <td>2018-05-25</td>\n",
       "      <td>ultra</td>\n",
       "    </tr>\n",
       "    <tr>\n",
       "      <td>2</td>\n",
       "      <td>1000</td>\n",
       "      <td>7</td>\n",
       "      <td>47.0</td>\n",
       "      <td>340.0</td>\n",
       "      <td>75.0</td>\n",
       "      <td>14.0</td>\n",
       "      <td>52</td>\n",
       "      <td>NaT</td>\n",
       "      <td>Краснодар</td>\n",
       "      <td>Рафаил</td>\n",
       "      <td>Верещагин</td>\n",
       "      <td>2018-05-25</td>\n",
       "      <td>ultra</td>\n",
       "    </tr>\n",
       "    <tr>\n",
       "      <td>3</td>\n",
       "      <td>1000</td>\n",
       "      <td>8</td>\n",
       "      <td>52.0</td>\n",
       "      <td>408.0</td>\n",
       "      <td>81.0</td>\n",
       "      <td>14.0</td>\n",
       "      <td>52</td>\n",
       "      <td>NaT</td>\n",
       "      <td>Краснодар</td>\n",
       "      <td>Рафаил</td>\n",
       "      <td>Верещагин</td>\n",
       "      <td>2018-05-25</td>\n",
       "      <td>ultra</td>\n",
       "    </tr>\n",
       "    <tr>\n",
       "      <td>4</td>\n",
       "      <td>1000</td>\n",
       "      <td>9</td>\n",
       "      <td>58.0</td>\n",
       "      <td>466.0</td>\n",
       "      <td>57.0</td>\n",
       "      <td>15.0</td>\n",
       "      <td>52</td>\n",
       "      <td>NaT</td>\n",
       "      <td>Краснодар</td>\n",
       "      <td>Рафаил</td>\n",
       "      <td>Верещагин</td>\n",
       "      <td>2018-05-25</td>\n",
       "      <td>ultra</td>\n",
       "    </tr>\n",
       "    <tr>\n",
       "      <td>...</td>\n",
       "      <td>...</td>\n",
       "      <td>...</td>\n",
       "      <td>...</td>\n",
       "      <td>...</td>\n",
       "      <td>...</td>\n",
       "      <td>...</td>\n",
       "      <td>...</td>\n",
       "      <td>...</td>\n",
       "      <td>...</td>\n",
       "      <td>...</td>\n",
       "      <td>...</td>\n",
       "      <td>...</td>\n",
       "      <td>...</td>\n",
       "    </tr>\n",
       "    <tr>\n",
       "      <td>3209</td>\n",
       "      <td>1489</td>\n",
       "      <td>8</td>\n",
       "      <td>NaN</td>\n",
       "      <td>NaN</td>\n",
       "      <td>17.0</td>\n",
       "      <td>11.0</td>\n",
       "      <td>35</td>\n",
       "      <td>NaT</td>\n",
       "      <td>Санкт-Петербург</td>\n",
       "      <td>Павел</td>\n",
       "      <td>Гончаров</td>\n",
       "      <td>2018-08-15</td>\n",
       "      <td>smart</td>\n",
       "    </tr>\n",
       "    <tr>\n",
       "      <td>3210</td>\n",
       "      <td>1489</td>\n",
       "      <td>9</td>\n",
       "      <td>NaN</td>\n",
       "      <td>NaN</td>\n",
       "      <td>32.0</td>\n",
       "      <td>17.0</td>\n",
       "      <td>35</td>\n",
       "      <td>NaT</td>\n",
       "      <td>Санкт-Петербург</td>\n",
       "      <td>Павел</td>\n",
       "      <td>Гончаров</td>\n",
       "      <td>2018-08-15</td>\n",
       "      <td>smart</td>\n",
       "    </tr>\n",
       "    <tr>\n",
       "      <td>3211</td>\n",
       "      <td>1489</td>\n",
       "      <td>10</td>\n",
       "      <td>NaN</td>\n",
       "      <td>NaN</td>\n",
       "      <td>21.0</td>\n",
       "      <td>20.0</td>\n",
       "      <td>35</td>\n",
       "      <td>NaT</td>\n",
       "      <td>Санкт-Петербург</td>\n",
       "      <td>Павел</td>\n",
       "      <td>Гончаров</td>\n",
       "      <td>2018-08-15</td>\n",
       "      <td>smart</td>\n",
       "    </tr>\n",
       "    <tr>\n",
       "      <td>3212</td>\n",
       "      <td>1489</td>\n",
       "      <td>11</td>\n",
       "      <td>NaN</td>\n",
       "      <td>NaN</td>\n",
       "      <td>20.0</td>\n",
       "      <td>18.0</td>\n",
       "      <td>35</td>\n",
       "      <td>NaT</td>\n",
       "      <td>Санкт-Петербург</td>\n",
       "      <td>Павел</td>\n",
       "      <td>Гончаров</td>\n",
       "      <td>2018-08-15</td>\n",
       "      <td>smart</td>\n",
       "    </tr>\n",
       "    <tr>\n",
       "      <td>3213</td>\n",
       "      <td>1489</td>\n",
       "      <td>12</td>\n",
       "      <td>NaN</td>\n",
       "      <td>NaN</td>\n",
       "      <td>35.0</td>\n",
       "      <td>17.0</td>\n",
       "      <td>35</td>\n",
       "      <td>NaT</td>\n",
       "      <td>Санкт-Петербург</td>\n",
       "      <td>Павел</td>\n",
       "      <td>Гончаров</td>\n",
       "      <td>2018-08-15</td>\n",
       "      <td>smart</td>\n",
       "    </tr>\n",
       "  </tbody>\n",
       "</table>\n",
       "<p>3214 rows × 13 columns</p>\n",
       "</div>"
      ],
      "text/plain": [
       "      user_id  month  count_calls  sum_minutes  count_messages  mb_used_sum  \\\n",
       "0        1000      5         22.0        159.0            22.0          3.0   \n",
       "1        1000      6         43.0        172.0            60.0         23.0   \n",
       "2        1000      7         47.0        340.0            75.0         14.0   \n",
       "3        1000      8         52.0        408.0            81.0         14.0   \n",
       "4        1000      9         58.0        466.0            57.0         15.0   \n",
       "...       ...    ...          ...          ...             ...          ...   \n",
       "3209     1489      8          NaN          NaN            17.0         11.0   \n",
       "3210     1489      9          NaN          NaN            32.0         17.0   \n",
       "3211     1489     10          NaN          NaN            21.0         20.0   \n",
       "3212     1489     11          NaN          NaN            20.0         18.0   \n",
       "3213     1489     12          NaN          NaN            35.0         17.0   \n",
       "\n",
       "      age churn_date             city first_name  last_name   reg_date tariff  \n",
       "0      52        NaT        Краснодар     Рафаил  Верещагин 2018-05-25  ultra  \n",
       "1      52        NaT        Краснодар     Рафаил  Верещагин 2018-05-25  ultra  \n",
       "2      52        NaT        Краснодар     Рафаил  Верещагин 2018-05-25  ultra  \n",
       "3      52        NaT        Краснодар     Рафаил  Верещагин 2018-05-25  ultra  \n",
       "4      52        NaT        Краснодар     Рафаил  Верещагин 2018-05-25  ultra  \n",
       "...   ...        ...              ...        ...        ...        ...    ...  \n",
       "3209   35        NaT  Санкт-Петербург      Павел   Гончаров 2018-08-15  smart  \n",
       "3210   35        NaT  Санкт-Петербург      Павел   Гончаров 2018-08-15  smart  \n",
       "3211   35        NaT  Санкт-Петербург      Павел   Гончаров 2018-08-15  smart  \n",
       "3212   35        NaT  Санкт-Петербург      Павел   Гончаров 2018-08-15  smart  \n",
       "3213   35        NaT  Санкт-Петербург      Павел   Гончаров 2018-08-15  smart  \n",
       "\n",
       "[3214 rows x 13 columns]"
      ]
     },
     "execution_count": 28,
     "metadata": {},
     "output_type": "execute_result"
    }
   ],
   "source": [
    "# объединение таблиц\n",
    "data_frames = [df_calls_count, df_messages_count, df_internet_used]\n",
    "df_new = reduce(lambda  left,right: pd.merge(left,right,on=['user_id', 'month'], how='outer'), data_frames).reset_index()\n",
    "df = df_new.merge(df_users, on='user_id')\n",
    "df"
   ]
  },
  {
   "cell_type": "markdown",
   "metadata": {},
   "source": [
    "Теперь напишем функцию, которая в зависимости от тарифа посчитает выручку. После чего сосздадим новый столбец с выручкой, используя метод `apply()`. "
   ]
  },
  {
   "cell_type": "code",
   "execution_count": 29,
   "metadata": {},
   "outputs": [],
   "source": [
    "# создание функции для подсчета выручки\n",
    "def revenue(row):\n",
    "    if row['tariff']=='ultra':\n",
    "        total=1950\n",
    "        minutes=0\n",
    "        messages=0\n",
    "        traffic=0\n",
    "        if row['sum_minutes'] > 3000:\n",
    "            minutes = (row['sum_minutes'] - 3000)*1\n",
    "        if row['count_messages'] > 1000:\n",
    "            messages = (row['count_messages'] - 1000)*1\n",
    "        if row['mb_used_sum'] > 30:\n",
    "            traffic = (row['mb_used_sum'] - 30)*150\n",
    "        total = total+minutes+messages+traffic\n",
    "        return total\n",
    "    if row['tariff']=='smart':\n",
    "        total=550\n",
    "        minutes=0\n",
    "        messages=0\n",
    "        traffic=0\n",
    "        if row['sum_minutes'] > 500:\n",
    "            minutes = (row['sum_minutes'] - 500)*3\n",
    "        if row['count_messages'] > 50:\n",
    "            messages = (row['count_messages'] - 50)*3\n",
    "        if row['mb_used_sum'] > 15:\n",
    "            traffic = (row['mb_used_sum'] - 15)*200\n",
    "        total = total+minutes+messages+traffic\n",
    "        return total\n",
    "df['revenue'] = df.apply(revenue, axis=1) # создаем новый столбец           "
   ]
  },
  {
   "cell_type": "markdown",
   "metadata": {},
   "source": [
    "Проверим работу функции, посмотрев строку 3171. У данного пользователя тариф смарт, количество израсходвнных минут - 449, сообщений - 68, а интернета - 18 ГБ. Значит выручка составит 550+(68-50)*3+(18-15)*200=1204"
   ]
  },
  {
   "cell_type": "code",
   "execution_count": 30,
   "metadata": {},
   "outputs": [
    {
     "data": {
      "text/plain": [
       "1750.0"
      ]
     },
     "execution_count": 30,
     "metadata": {},
     "output_type": "execute_result"
    }
   ],
   "source": [
    "# проверка\n",
    "df['revenue'][3171]"
   ]
  },
  {
   "cell_type": "markdown",
   "metadata": {},
   "source": [
    "Таким образом, был зменим тип данных в столбцах с датами, а также посчитана для каждого пользователя: количество сделанных звонков и израсходованных минут разговора по месяцам, количество отправленных сообщений по месяцам, объем израсходованного интернет-трафика по месяцам, помесячная выручка с каждого пользователя"
   ]
  },
  {
   "cell_type": "markdown",
   "metadata": {},
   "source": [
    "## Анализ данных"
   ]
  },
  {
   "cell_type": "markdown",
   "metadata": {},
   "source": [
    "Сгруппируем данные по тарифу и по месяцам и посчитаем среднее количество, дисперсию и стандартное отклонение для минут, сообщений и интернет-трафика. Для этого можно воспользоваться либо методом `pivot_table()`, либо `groupby()`."
   ]
  },
  {
   "cell_type": "code",
   "execution_count": 31,
   "metadata": {
    "scrolled": true
   },
   "outputs": [
    {
     "data": {
      "text/html": [
       "<div>\n",
       "<style scoped>\n",
       "    .dataframe tbody tr th:only-of-type {\n",
       "        vertical-align: middle;\n",
       "    }\n",
       "\n",
       "    .dataframe tbody tr th {\n",
       "        vertical-align: top;\n",
       "    }\n",
       "\n",
       "    .dataframe thead th {\n",
       "        text-align: right;\n",
       "    }\n",
       "</style>\n",
       "<table border=\"1\" class=\"dataframe\">\n",
       "  <thead>\n",
       "    <tr style=\"text-align: right;\">\n",
       "      <th></th>\n",
       "      <th></th>\n",
       "      <th>count_messages</th>\n",
       "      <th>mb_used_sum</th>\n",
       "      <th>sum_minutes</th>\n",
       "    </tr>\n",
       "    <tr>\n",
       "      <th>tariff</th>\n",
       "      <th>month</th>\n",
       "      <th></th>\n",
       "      <th></th>\n",
       "      <th></th>\n",
       "    </tr>\n",
       "  </thead>\n",
       "  <tbody>\n",
       "    <tr>\n",
       "      <td rowspan=\"12\" valign=\"top\">smart</td>\n",
       "      <td>1</td>\n",
       "      <td>20.000000</td>\n",
       "      <td>8.735294</td>\n",
       "      <td>203.852941</td>\n",
       "    </tr>\n",
       "    <tr>\n",
       "      <td>2</td>\n",
       "      <td>27.940000</td>\n",
       "      <td>11.844828</td>\n",
       "      <td>298.689655</td>\n",
       "    </tr>\n",
       "    <tr>\n",
       "      <td>3</td>\n",
       "      <td>35.550725</td>\n",
       "      <td>15.233766</td>\n",
       "      <td>390.051948</td>\n",
       "    </tr>\n",
       "    <tr>\n",
       "      <td>4</td>\n",
       "      <td>35.864583</td>\n",
       "      <td>13.625000</td>\n",
       "      <td>367.133929</td>\n",
       "    </tr>\n",
       "    <tr>\n",
       "      <td>5</td>\n",
       "      <td>39.032787</td>\n",
       "      <td>15.907801</td>\n",
       "      <td>387.361702</td>\n",
       "    </tr>\n",
       "    <tr>\n",
       "      <td>6</td>\n",
       "      <td>38.577465</td>\n",
       "      <td>15.951220</td>\n",
       "      <td>398.067485</td>\n",
       "    </tr>\n",
       "    <tr>\n",
       "      <td>7</td>\n",
       "      <td>38.988506</td>\n",
       "      <td>15.875622</td>\n",
       "      <td>408.353234</td>\n",
       "    </tr>\n",
       "    <tr>\n",
       "      <td>8</td>\n",
       "      <td>38.750000</td>\n",
       "      <td>16.807692</td>\n",
       "      <td>423.269231</td>\n",
       "    </tr>\n",
       "    <tr>\n",
       "      <td>9</td>\n",
       "      <td>39.219731</td>\n",
       "      <td>16.392308</td>\n",
       "      <td>430.266409</td>\n",
       "    </tr>\n",
       "    <tr>\n",
       "      <td>10</td>\n",
       "      <td>39.082677</td>\n",
       "      <td>16.880952</td>\n",
       "      <td>427.590444</td>\n",
       "    </tr>\n",
       "    <tr>\n",
       "      <td>11</td>\n",
       "      <td>39.881481</td>\n",
       "      <td>17.000000</td>\n",
       "      <td>436.647619</td>\n",
       "    </tr>\n",
       "    <tr>\n",
       "      <td>12</td>\n",
       "      <td>42.264808</td>\n",
       "      <td>18.201780</td>\n",
       "      <td>479.985119</td>\n",
       "    </tr>\n",
       "    <tr>\n",
       "      <td rowspan=\"12\" valign=\"top\">ultra</td>\n",
       "      <td>1</td>\n",
       "      <td>43.428571</td>\n",
       "      <td>13.222222</td>\n",
       "      <td>428.111111</td>\n",
       "    </tr>\n",
       "    <tr>\n",
       "      <td>2</td>\n",
       "      <td>32.937500</td>\n",
       "      <td>13.090909</td>\n",
       "      <td>297.125000</td>\n",
       "    </tr>\n",
       "    <tr>\n",
       "      <td>3</td>\n",
       "      <td>47.800000</td>\n",
       "      <td>17.648649</td>\n",
       "      <td>489.648649</td>\n",
       "    </tr>\n",
       "    <tr>\n",
       "      <td>4</td>\n",
       "      <td>44.512821</td>\n",
       "      <td>16.963636</td>\n",
       "      <td>475.301887</td>\n",
       "    </tr>\n",
       "    <tr>\n",
       "      <td>5</td>\n",
       "      <td>48.769231</td>\n",
       "      <td>19.666667</td>\n",
       "      <td>534.250000</td>\n",
       "    </tr>\n",
       "    <tr>\n",
       "      <td>6</td>\n",
       "      <td>52.313433</td>\n",
       "      <td>19.168675</td>\n",
       "      <td>497.469136</td>\n",
       "    </tr>\n",
       "    <tr>\n",
       "      <td>7</td>\n",
       "      <td>62.136986</td>\n",
       "      <td>20.733333</td>\n",
       "      <td>564.397727</td>\n",
       "    </tr>\n",
       "    <tr>\n",
       "      <td>8</td>\n",
       "      <td>58.897727</td>\n",
       "      <td>19.783019</td>\n",
       "      <td>530.611650</td>\n",
       "    </tr>\n",
       "    <tr>\n",
       "      <td>9</td>\n",
       "      <td>63.294737</td>\n",
       "      <td>19.412281</td>\n",
       "      <td>558.882883</td>\n",
       "    </tr>\n",
       "    <tr>\n",
       "      <td>10</td>\n",
       "      <td>69.776699</td>\n",
       "      <td>20.229508</td>\n",
       "      <td>581.728814</td>\n",
       "    </tr>\n",
       "    <tr>\n",
       "      <td>11</td>\n",
       "      <td>66.159292</td>\n",
       "      <td>19.954887</td>\n",
       "      <td>562.364341</td>\n",
       "    </tr>\n",
       "    <tr>\n",
       "      <td>12</td>\n",
       "      <td>72.008547</td>\n",
       "      <td>21.898551</td>\n",
       "      <td>614.925373</td>\n",
       "    </tr>\n",
       "  </tbody>\n",
       "</table>\n",
       "</div>"
      ],
      "text/plain": [
       "              count_messages  mb_used_sum  sum_minutes\n",
       "tariff month                                          \n",
       "smart  1           20.000000     8.735294   203.852941\n",
       "       2           27.940000    11.844828   298.689655\n",
       "       3           35.550725    15.233766   390.051948\n",
       "       4           35.864583    13.625000   367.133929\n",
       "       5           39.032787    15.907801   387.361702\n",
       "       6           38.577465    15.951220   398.067485\n",
       "       7           38.988506    15.875622   408.353234\n",
       "       8           38.750000    16.807692   423.269231\n",
       "       9           39.219731    16.392308   430.266409\n",
       "       10          39.082677    16.880952   427.590444\n",
       "       11          39.881481    17.000000   436.647619\n",
       "       12          42.264808    18.201780   479.985119\n",
       "ultra  1           43.428571    13.222222   428.111111\n",
       "       2           32.937500    13.090909   297.125000\n",
       "       3           47.800000    17.648649   489.648649\n",
       "       4           44.512821    16.963636   475.301887\n",
       "       5           48.769231    19.666667   534.250000\n",
       "       6           52.313433    19.168675   497.469136\n",
       "       7           62.136986    20.733333   564.397727\n",
       "       8           58.897727    19.783019   530.611650\n",
       "       9           63.294737    19.412281   558.882883\n",
       "       10          69.776699    20.229508   581.728814\n",
       "       11          66.159292    19.954887   562.364341\n",
       "       12          72.008547    21.898551   614.925373"
      ]
     },
     "execution_count": 31,
     "metadata": {},
     "output_type": "execute_result"
    }
   ],
   "source": [
    "# рассчет среднего\n",
    "df.pivot_table(index=['tariff', 'month'], values=['sum_minutes', 'count_messages', 'mb_used_sum'], aggfunc='mean')"
   ]
  },
  {
   "cell_type": "code",
   "execution_count": 32,
   "metadata": {},
   "outputs": [
    {
     "data": {
      "text/html": [
       "<div>\n",
       "<style scoped>\n",
       "    .dataframe tbody tr th:only-of-type {\n",
       "        vertical-align: middle;\n",
       "    }\n",
       "\n",
       "    .dataframe tbody tr th {\n",
       "        vertical-align: top;\n",
       "    }\n",
       "\n",
       "    .dataframe thead th {\n",
       "        text-align: right;\n",
       "    }\n",
       "</style>\n",
       "<table border=\"1\" class=\"dataframe\">\n",
       "  <thead>\n",
       "    <tr style=\"text-align: right;\">\n",
       "      <th></th>\n",
       "      <th></th>\n",
       "      <th>sum_minutes</th>\n",
       "      <th>count_messages</th>\n",
       "      <th>mb_used_sum</th>\n",
       "    </tr>\n",
       "    <tr>\n",
       "      <th>tariff</th>\n",
       "      <th>month</th>\n",
       "      <th></th>\n",
       "      <th></th>\n",
       "      <th></th>\n",
       "    </tr>\n",
       "  </thead>\n",
       "  <tbody>\n",
       "    <tr>\n",
       "      <td rowspan=\"12\" valign=\"top\">smart</td>\n",
       "      <td>1</td>\n",
       "      <td>23787.341355</td>\n",
       "      <td>252.133333</td>\n",
       "      <td>39.412656</td>\n",
       "    </tr>\n",
       "    <tr>\n",
       "      <td>2</td>\n",
       "      <td>36412.287961</td>\n",
       "      <td>440.465714</td>\n",
       "      <td>37.150938</td>\n",
       "    </tr>\n",
       "    <tr>\n",
       "      <td>3</td>\n",
       "      <td>36823.155161</td>\n",
       "      <td>669.780477</td>\n",
       "      <td>32.549897</td>\n",
       "    </tr>\n",
       "    <tr>\n",
       "      <td>4</td>\n",
       "      <td>34778.207127</td>\n",
       "      <td>517.865680</td>\n",
       "      <td>31.299550</td>\n",
       "    </tr>\n",
       "    <tr>\n",
       "      <td>5</td>\n",
       "      <td>34820.061094</td>\n",
       "      <td>638.775776</td>\n",
       "      <td>34.370010</td>\n",
       "    </tr>\n",
       "    <tr>\n",
       "      <td>6</td>\n",
       "      <td>29960.520109</td>\n",
       "      <td>731.635801</td>\n",
       "      <td>31.911716</td>\n",
       "    </tr>\n",
       "    <tr>\n",
       "      <td>7</td>\n",
       "      <td>32250.269602</td>\n",
       "      <td>719.352468</td>\n",
       "      <td>33.419453</td>\n",
       "    </tr>\n",
       "    <tr>\n",
       "      <td>8</td>\n",
       "      <td>34177.270551</td>\n",
       "      <td>767.213054</td>\n",
       "      <td>28.962859</td>\n",
       "    </tr>\n",
       "    <tr>\n",
       "      <td>9</td>\n",
       "      <td>32950.529526</td>\n",
       "      <td>702.505555</td>\n",
       "      <td>25.884110</td>\n",
       "    </tr>\n",
       "    <tr>\n",
       "      <td>10</td>\n",
       "      <td>34889.530319</td>\n",
       "      <td>736.503019</td>\n",
       "      <td>32.897042</td>\n",
       "    </tr>\n",
       "    <tr>\n",
       "      <td>11</td>\n",
       "      <td>31100.611101</td>\n",
       "      <td>711.361366</td>\n",
       "      <td>27.180952</td>\n",
       "    </tr>\n",
       "    <tr>\n",
       "      <td>12</td>\n",
       "      <td>39131.447539</td>\n",
       "      <td>832.447114</td>\n",
       "      <td>29.786544</td>\n",
       "    </tr>\n",
       "    <tr>\n",
       "      <td rowspan=\"12\" valign=\"top\">ultra</td>\n",
       "      <td>1</td>\n",
       "      <td>72769.361111</td>\n",
       "      <td>765.285714</td>\n",
       "      <td>44.444444</td>\n",
       "    </tr>\n",
       "    <tr>\n",
       "      <td>2</td>\n",
       "      <td>87919.679348</td>\n",
       "      <td>713.395833</td>\n",
       "      <td>104.562771</td>\n",
       "    </tr>\n",
       "    <tr>\n",
       "      <td>3</td>\n",
       "      <td>111384.900901</td>\n",
       "      <td>1826.666667</td>\n",
       "      <td>114.345345</td>\n",
       "    </tr>\n",
       "    <tr>\n",
       "      <td>4</td>\n",
       "      <td>66036.830189</td>\n",
       "      <td>1408.256410</td>\n",
       "      <td>89.443098</td>\n",
       "    </tr>\n",
       "    <tr>\n",
       "      <td>5</td>\n",
       "      <td>74881.015873</td>\n",
       "      <td>1559.553544</td>\n",
       "      <td>91.241026</td>\n",
       "    </tr>\n",
       "    <tr>\n",
       "      <td>6</td>\n",
       "      <td>86019.652160</td>\n",
       "      <td>1935.672999</td>\n",
       "      <td>78.971202</td>\n",
       "    </tr>\n",
       "    <tr>\n",
       "      <td>7</td>\n",
       "      <td>86952.587121</td>\n",
       "      <td>2190.730974</td>\n",
       "      <td>92.737079</td>\n",
       "    </tr>\n",
       "    <tr>\n",
       "      <td>8</td>\n",
       "      <td>91169.553588</td>\n",
       "      <td>2022.966432</td>\n",
       "      <td>102.457233</td>\n",
       "    </tr>\n",
       "    <tr>\n",
       "      <td>9</td>\n",
       "      <td>98597.904341</td>\n",
       "      <td>1906.763270</td>\n",
       "      <td>83.713476</td>\n",
       "    </tr>\n",
       "    <tr>\n",
       "      <td>10</td>\n",
       "      <td>97140.336086</td>\n",
       "      <td>2426.606511</td>\n",
       "      <td>88.657634</td>\n",
       "    </tr>\n",
       "    <tr>\n",
       "      <td>11</td>\n",
       "      <td>88449.624031</td>\n",
       "      <td>2249.295828</td>\n",
       "      <td>91.513101</td>\n",
       "    </tr>\n",
       "    <tr>\n",
       "      <td>12</td>\n",
       "      <td>107981.031983</td>\n",
       "      <td>2362.870616</td>\n",
       "      <td>100.515180</td>\n",
       "    </tr>\n",
       "  </tbody>\n",
       "</table>\n",
       "</div>"
      ],
      "text/plain": [
       "                sum_minutes  count_messages  mb_used_sum\n",
       "tariff month                                            \n",
       "smart  1       23787.341355      252.133333    39.412656\n",
       "       2       36412.287961      440.465714    37.150938\n",
       "       3       36823.155161      669.780477    32.549897\n",
       "       4       34778.207127      517.865680    31.299550\n",
       "       5       34820.061094      638.775776    34.370010\n",
       "       6       29960.520109      731.635801    31.911716\n",
       "       7       32250.269602      719.352468    33.419453\n",
       "       8       34177.270551      767.213054    28.962859\n",
       "       9       32950.529526      702.505555    25.884110\n",
       "       10      34889.530319      736.503019    32.897042\n",
       "       11      31100.611101      711.361366    27.180952\n",
       "       12      39131.447539      832.447114    29.786544\n",
       "ultra  1       72769.361111      765.285714    44.444444\n",
       "       2       87919.679348      713.395833   104.562771\n",
       "       3      111384.900901     1826.666667   114.345345\n",
       "       4       66036.830189     1408.256410    89.443098\n",
       "       5       74881.015873     1559.553544    91.241026\n",
       "       6       86019.652160     1935.672999    78.971202\n",
       "       7       86952.587121     2190.730974    92.737079\n",
       "       8       91169.553588     2022.966432   102.457233\n",
       "       9       98597.904341     1906.763270    83.713476\n",
       "       10      97140.336086     2426.606511    88.657634\n",
       "       11      88449.624031     2249.295828    91.513101\n",
       "       12     107981.031983     2362.870616   100.515180"
      ]
     },
     "execution_count": 32,
     "metadata": {},
     "output_type": "execute_result"
    }
   ],
   "source": [
    "# рассчет дисперсии\n",
    "df.groupby(['tariff','month'])[['sum_minutes', 'count_messages', 'mb_used_sum']].var()"
   ]
  },
  {
   "cell_type": "code",
   "execution_count": 33,
   "metadata": {
    "scrolled": false
   },
   "outputs": [
    {
     "data": {
      "text/html": [
       "<div>\n",
       "<style scoped>\n",
       "    .dataframe tbody tr th:only-of-type {\n",
       "        vertical-align: middle;\n",
       "    }\n",
       "\n",
       "    .dataframe tbody tr th {\n",
       "        vertical-align: top;\n",
       "    }\n",
       "\n",
       "    .dataframe thead th {\n",
       "        text-align: right;\n",
       "    }\n",
       "</style>\n",
       "<table border=\"1\" class=\"dataframe\">\n",
       "  <thead>\n",
       "    <tr style=\"text-align: right;\">\n",
       "      <th></th>\n",
       "      <th></th>\n",
       "      <th>sum_minutes</th>\n",
       "      <th>count_messages</th>\n",
       "      <th>mb_used_sum</th>\n",
       "    </tr>\n",
       "    <tr>\n",
       "      <th>tariff</th>\n",
       "      <th>month</th>\n",
       "      <th></th>\n",
       "      <th></th>\n",
       "      <th></th>\n",
       "    </tr>\n",
       "  </thead>\n",
       "  <tbody>\n",
       "    <tr>\n",
       "      <td rowspan=\"12\" valign=\"top\">smart</td>\n",
       "      <td>1</td>\n",
       "      <td>154.231454</td>\n",
       "      <td>15.878707</td>\n",
       "      <td>6.277950</td>\n",
       "    </tr>\n",
       "    <tr>\n",
       "      <td>2</td>\n",
       "      <td>190.820041</td>\n",
       "      <td>20.987275</td>\n",
       "      <td>6.095157</td>\n",
       "    </tr>\n",
       "    <tr>\n",
       "      <td>3</td>\n",
       "      <td>191.893604</td>\n",
       "      <td>25.880117</td>\n",
       "      <td>5.705252</td>\n",
       "    </tr>\n",
       "    <tr>\n",
       "      <td>4</td>\n",
       "      <td>186.489161</td>\n",
       "      <td>22.756662</td>\n",
       "      <td>5.594600</td>\n",
       "    </tr>\n",
       "    <tr>\n",
       "      <td>5</td>\n",
       "      <td>186.601343</td>\n",
       "      <td>25.274014</td>\n",
       "      <td>5.862594</td>\n",
       "    </tr>\n",
       "    <tr>\n",
       "      <td>6</td>\n",
       "      <td>173.091075</td>\n",
       "      <td>27.048767</td>\n",
       "      <td>5.649046</td>\n",
       "    </tr>\n",
       "    <tr>\n",
       "      <td>7</td>\n",
       "      <td>179.583601</td>\n",
       "      <td>26.820747</td>\n",
       "      <td>5.780956</td>\n",
       "    </tr>\n",
       "    <tr>\n",
       "      <td>8</td>\n",
       "      <td>184.870956</td>\n",
       "      <td>27.698611</td>\n",
       "      <td>5.381715</td>\n",
       "    </tr>\n",
       "    <tr>\n",
       "      <td>9</td>\n",
       "      <td>181.522807</td>\n",
       "      <td>26.504821</td>\n",
       "      <td>5.087643</td>\n",
       "    </tr>\n",
       "    <tr>\n",
       "      <td>10</td>\n",
       "      <td>186.787393</td>\n",
       "      <td>27.138589</td>\n",
       "      <td>5.735594</td>\n",
       "    </tr>\n",
       "    <tr>\n",
       "      <td>11</td>\n",
       "      <td>176.353653</td>\n",
       "      <td>26.671359</td>\n",
       "      <td>5.213535</td>\n",
       "    </tr>\n",
       "    <tr>\n",
       "      <td>12</td>\n",
       "      <td>197.816702</td>\n",
       "      <td>28.852160</td>\n",
       "      <td>5.457705</td>\n",
       "    </tr>\n",
       "    <tr>\n",
       "      <td rowspan=\"12\" valign=\"top\">ultra</td>\n",
       "      <td>1</td>\n",
       "      <td>269.757968</td>\n",
       "      <td>27.663798</td>\n",
       "      <td>6.666667</td>\n",
       "    </tr>\n",
       "    <tr>\n",
       "      <td>2</td>\n",
       "      <td>296.512528</td>\n",
       "      <td>26.709471</td>\n",
       "      <td>10.225594</td>\n",
       "    </tr>\n",
       "    <tr>\n",
       "      <td>3</td>\n",
       "      <td>333.743765</td>\n",
       "      <td>42.739521</td>\n",
       "      <td>10.693238</td>\n",
       "    </tr>\n",
       "    <tr>\n",
       "      <td>4</td>\n",
       "      <td>256.976322</td>\n",
       "      <td>37.526743</td>\n",
       "      <td>9.457436</td>\n",
       "    </tr>\n",
       "    <tr>\n",
       "      <td>5</td>\n",
       "      <td>273.643958</td>\n",
       "      <td>39.491183</td>\n",
       "      <td>9.552017</td>\n",
       "    </tr>\n",
       "    <tr>\n",
       "      <td>6</td>\n",
       "      <td>293.291071</td>\n",
       "      <td>43.996284</td>\n",
       "      <td>8.886574</td>\n",
       "    </tr>\n",
       "    <tr>\n",
       "      <td>7</td>\n",
       "      <td>294.877241</td>\n",
       "      <td>46.805245</td>\n",
       "      <td>9.630009</td>\n",
       "    </tr>\n",
       "    <tr>\n",
       "      <td>8</td>\n",
       "      <td>301.942964</td>\n",
       "      <td>44.977399</td>\n",
       "      <td>10.122116</td>\n",
       "    </tr>\n",
       "    <tr>\n",
       "      <td>9</td>\n",
       "      <td>314.003032</td>\n",
       "      <td>43.666501</td>\n",
       "      <td>9.149507</td>\n",
       "    </tr>\n",
       "    <tr>\n",
       "      <td>10</td>\n",
       "      <td>311.673445</td>\n",
       "      <td>49.260598</td>\n",
       "      <td>9.415818</td>\n",
       "    </tr>\n",
       "    <tr>\n",
       "      <td>11</td>\n",
       "      <td>297.404815</td>\n",
       "      <td>47.426742</td>\n",
       "      <td>9.566248</td>\n",
       "    </tr>\n",
       "    <tr>\n",
       "      <td>12</td>\n",
       "      <td>328.604674</td>\n",
       "      <td>48.609368</td>\n",
       "      <td>10.025726</td>\n",
       "    </tr>\n",
       "  </tbody>\n",
       "</table>\n",
       "</div>"
      ],
      "text/plain": [
       "              sum_minutes  count_messages  mb_used_sum\n",
       "tariff month                                          \n",
       "smart  1       154.231454       15.878707     6.277950\n",
       "       2       190.820041       20.987275     6.095157\n",
       "       3       191.893604       25.880117     5.705252\n",
       "       4       186.489161       22.756662     5.594600\n",
       "       5       186.601343       25.274014     5.862594\n",
       "       6       173.091075       27.048767     5.649046\n",
       "       7       179.583601       26.820747     5.780956\n",
       "       8       184.870956       27.698611     5.381715\n",
       "       9       181.522807       26.504821     5.087643\n",
       "       10      186.787393       27.138589     5.735594\n",
       "       11      176.353653       26.671359     5.213535\n",
       "       12      197.816702       28.852160     5.457705\n",
       "ultra  1       269.757968       27.663798     6.666667\n",
       "       2       296.512528       26.709471    10.225594\n",
       "       3       333.743765       42.739521    10.693238\n",
       "       4       256.976322       37.526743     9.457436\n",
       "       5       273.643958       39.491183     9.552017\n",
       "       6       293.291071       43.996284     8.886574\n",
       "       7       294.877241       46.805245     9.630009\n",
       "       8       301.942964       44.977399    10.122116\n",
       "       9       314.003032       43.666501     9.149507\n",
       "       10      311.673445       49.260598     9.415818\n",
       "       11      297.404815       47.426742     9.566248\n",
       "       12      328.604674       48.609368    10.025726"
      ]
     },
     "execution_count": 33,
     "metadata": {},
     "output_type": "execute_result"
    }
   ],
   "source": [
    "# рассчет стандартного отклонения\n",
    "df.groupby(['tariff','month'])[['sum_minutes', 'count_messages', 'mb_used_sum']].std()"
   ]
  },
  {
   "cell_type": "markdown",
   "metadata": {},
   "source": [
    "Теперь постороим гистограммы, используя метод `hist()` и оценим распределение значений."
   ]
  },
  {
   "cell_type": "code",
   "execution_count": 34,
   "metadata": {},
   "outputs": [
    {
     "data": {
      "image/png": "[encoded data removed]",
      "text/plain": [
       "<Figure size 432x288 with 1 Axes>"
      ]
     },
     "metadata": {
      "needs_background": "light"
     },
     "output_type": "display_data"
    }
   ],
   "source": [
    "# гистограмма \"количество минут\"\n",
    "df['sum_minutes'].hist(bins=15)\n",
    "plt.title('Распределение количества минут')\n",
    "plt.xlabel('количество минут')\n",
    "plt.ylabel('количество пользователей');"
   ]
  },
  {
   "cell_type": "code",
   "execution_count": 35,
   "metadata": {},
   "outputs": [
    {
     "data": {
      "image/png": "[encoded data removed]",
      "text/plain": [
       "<Figure size 432x288 with 1 Axes>"
      ]
     },
     "metadata": {
      "needs_background": "light"
     },
     "output_type": "display_data"
    }
   ],
   "source": [
    "# гистограмма \"количество сообщений\"\n",
    "df['count_messages'].hist(bins=15)\n",
    "plt.title('Распределение количества сообщений')\n",
    "plt.xlabel('количество сообщений')\n",
    "plt.ylabel('количество пользователей');"
   ]
  },
  {
   "cell_type": "code",
   "execution_count": 36,
   "metadata": {},
   "outputs": [
    {
     "data": {
      "image/png": "[encoded data removed]",
      "text/plain": [
       "<Figure size 432x288 with 1 Axes>"
      ]
     },
     "metadata": {
      "needs_background": "light"
     },
     "output_type": "display_data"
    }
   ],
   "source": [
    "# гистограмма \"объем интернет-трафика\"\n",
    "df['mb_used_sum'].hist(bins=15)\n",
    "plt.title('Распределение объема интернет-трафика')\n",
    "plt.xlabel('объем интернет-трафика')\n",
    "plt.ylabel('количество пользователей');"
   ]
  },
  {
   "cell_type": "markdown",
   "metadata": {},
   "source": [
    "Рассчитав среднее значения, мы видим, что и для тарифа \"смарт\" и для тарифа \"ультра\" имеется положительная тенденция к росту числа минут, сообщений и интернет-трафика в течение года. Среднее значение по всем трем параметрам выше в тарифк \"ультра\". При этом пользователи более дорого тарифа в среднем не тратят весь пакет услуг, в то время как пользователи \"смарта\" 10 месяцев подряд использовали больше сообщений, чем предполагает их тарифный план и 9 месяцев тратили больше интернета. Посчитанное стандартное отклонение говорит, что данные достаточно сильно разбросаны (например, в декабре для тарифа \"смарт\" стандартное отклонение количества минут составило 197,8, а для тарифа \"ультра\" - 328,6). Построенные гистограммы показали, что данные скошены вправо. Для скошенных вправо данных медиана будет меньше среднего,среднее «поедет» в ту сторону, где есть дополнительные значения. Гисограмма объема трафика более симметричная, т.е. стремится к нормальному распределению."
   ]
  },
  {
   "cell_type": "markdown",
   "metadata": {},
   "source": [
    "## Проверка гипотезы"
   ]
  },
  {
   "cell_type": "markdown",
   "metadata": {},
   "source": [
    "Для удобства нулевую гипотезу сформулируем следующим образом: \"средняя выручка пользователей тарифов «Ультра» и «Смарт» равны\". Альтернативная гипотиза тогда звучит \"средняя выручка пользователей тарифов «Ультра» и «Смарт» не равна\". Для рассчетов будем использовать метод `st.ttest_ind()`. Для этого создадим два списка с выручкой по каждому тарифу, p-value (alpha) зададим 5%."
   ]
  },
  {
   "cell_type": "code",
   "execution_count": 37,
   "metadata": {},
   "outputs": [
    {
     "data": {
      "text/plain": [
       "[1150.0,\n",
       " 550.0,\n",
       " 550.0,\n",
       " 1150.0,\n",
       " 1550.0,\n",
       " 950.0,\n",
       " 550.0,\n",
       " 1350.0,\n",
       " 1150.0,\n",
       " 550.0,\n",
       " 550.0,\n",
       " 886.0,\n",
       " 1186.0,\n",
       " 835.0,\n",
       " 886.0,\n",
       " 775.0,\n",
       " 949.0,\n",
       " 556.0,\n",
       " 1219.0,\n",
       " 694.0,\n",
       " 838.0,\n",
       " 550.0,\n",
       " 950.0,\n",
       " 550.0,\n",
       " 550.0,\n",
       " 550.0,\n",
       " 1550.0,\n",
       " 1350.0,\n",
       " 750.0,\n",
       " 1550.0,\n",
       " 550.0,\n",
       " 1350.0,\n",
       " 550.0,\n",
       " 1150.0,\n",
       " 685.0,\n",
       " 981.0,\n",
       " 1750.0,\n",
       " 1015.0,\n",
       " 550.0,\n",
       " 990.0,\n",
       " 550.0,\n",
       " 568.0,\n",
       " 550.0,\n",
       " 550.0,\n",
       " 550.0,\n",
       " 750.0,\n",
       " 2550.0,\n",
       " 2350.0,\n",
       " 1950.0,\n",
       " 1550.0,\n",
       " 950.0,\n",
       " 1350.0,\n",
       " 550.0,\n",
       " 750.0,\n",
       " 550.0,\n",
       " 1350.0,\n",
       " 1350.0,\n",
       " 550.0,\n",
       " 1150.0,\n",
       " 1150.0,\n",
       " 950.0,\n",
       " 1356.0,\n",
       " 1795.0,\n",
       " 1950.0,\n",
       " 1540.0,\n",
       " 2553.0,\n",
       " 2150.0,\n",
       " 550.0,\n",
       " 950.0,\n",
       " 2750.0,\n",
       " 2550.0,\n",
       " 2150.0,\n",
       " 1950.0,\n",
       " 1350.0,\n",
       " 3350.0,\n",
       " 1950.0,\n",
       " 550.0,\n",
       " 550.0,\n",
       " 2550.0,\n",
       " 3150.0,\n",
       " 2750.0,\n",
       " 2750.0,\n",
       " 2153.0,\n",
       " 2550.0,\n",
       " 2559.0,\n",
       " 550.0,\n",
       " 1019.0,\n",
       " 3040.0,\n",
       " 1838.0,\n",
       " 3004.0,\n",
       " 1004.0,\n",
       " 1235.0,\n",
       " 1983.0,\n",
       " 1622.0,\n",
       " 550.0,\n",
       " 950.0,\n",
       " 1350.0,\n",
       " 950.0,\n",
       " 1150.0,\n",
       " 1750.0,\n",
       " 1750.0,\n",
       " 750.0,\n",
       " 550.0,\n",
       " 1672.0,\n",
       " 550.0,\n",
       " 750.0,\n",
       " 550.0,\n",
       " 986.0,\n",
       " 3321.0,\n",
       " 550.0,\n",
       " 550.0,\n",
       " 1906.0,\n",
       " 694.0,\n",
       " 781.0,\n",
       " 1150.0,\n",
       " 592.0,\n",
       " 1009.0,\n",
       " 739.0,\n",
       " 959.0,\n",
       " 655.0,\n",
       " 550.0,\n",
       " 1064.0,\n",
       " 550.0,\n",
       " 2919.0,\n",
       " 550.0,\n",
       " 1550.0,\n",
       " 2550.0,\n",
       " 1350.0,\n",
       " 1950.0,\n",
       " 2550.0,\n",
       " 1998.0,\n",
       " 550.0,\n",
       " 2313.0,\n",
       " 1087.0,\n",
       " 1723.0,\n",
       " 550.0,\n",
       " 718.0,\n",
       " 703.0,\n",
       " 691.0,\n",
       " 679.0,\n",
       " 673.0,\n",
       " 1473.0,\n",
       " 676.0,\n",
       " 1045.0,\n",
       " 736.0,\n",
       " 2350.0,\n",
       " 550.0,\n",
       " 2550.0,\n",
       " 1013.0,\n",
       " 986.0,\n",
       " 1350.0,\n",
       " 1550.0,\n",
       " 2550.0,\n",
       " 1171.0,\n",
       " 550.0,\n",
       " 2150.0,\n",
       " 1150.0,\n",
       " 550.0,\n",
       " 2031.0,\n",
       " 2831.0,\n",
       " 1640.0,\n",
       " 2616.0,\n",
       " 1816.0,\n",
       " 550.0,\n",
       " 1640.0,\n",
       " 1697.0,\n",
       " 550.0,\n",
       " 550.0,\n",
       " 886.0,\n",
       " 553.0,\n",
       " 589.0,\n",
       " 562.0,\n",
       " 750.0,\n",
       " 1359.0,\n",
       " 553.0,\n",
       " 553.0,\n",
       " 550.0,\n",
       " 1112.0,\n",
       " 750.0,\n",
       " 840.0,\n",
       " 550.0,\n",
       " 1057.0,\n",
       " 550.0,\n",
       " 550.0,\n",
       " 550.0,\n",
       " 950.0,\n",
       " 550.0,\n",
       " 950.0,\n",
       " 750.0,\n",
       " 1350.0,\n",
       " 1950.0,\n",
       " 750.0,\n",
       " 2550.0,\n",
       " 1550.0,\n",
       " 950.0,\n",
       " 550.0,\n",
       " 3233.0,\n",
       " 550.0,\n",
       " 5709.0,\n",
       " 550.0,\n",
       " 1350.0,\n",
       " 2950.0,\n",
       " 2186.0,\n",
       " 1150.0,\n",
       " 1661.0,\n",
       " 750.0,\n",
       " 1150.0,\n",
       " 2350.0,\n",
       " 1550.0,\n",
       " 1750.0,\n",
       " 550.0,\n",
       " 950.0,\n",
       " 1950.0,\n",
       " 550.0,\n",
       " 550.0,\n",
       " 574.0,\n",
       " 1356.0,\n",
       " 1965.0,\n",
       " 995.0,\n",
       " 971.0,\n",
       " 2189.0,\n",
       " 756.0,\n",
       " 550.0,\n",
       " 2213.0,\n",
       " 1350.0,\n",
       " 550.0,\n",
       " 762.0,\n",
       " 2350.0,\n",
       " 1885.0,\n",
       " 2115.0,\n",
       " 550.0,\n",
       " 3584.0,\n",
       " 3985.0,\n",
       " 550.0,\n",
       " 601.0,\n",
       " 1750.0,\n",
       " 2150.0,\n",
       " 550.0,\n",
       " 550.0,\n",
       " 550.0,\n",
       " 1951.0,\n",
       " 2788.0,\n",
       " 2130.0,\n",
       " 2264.0,\n",
       " 1765.0,\n",
       " 550.0,\n",
       " 1154.0,\n",
       " 1476.0,\n",
       " 1488.0,\n",
       " 1612.0,\n",
       " 1074.0,\n",
       " 1911.0,\n",
       " 2219.0,\n",
       " 1248.0,\n",
       " 1671.0,\n",
       " 1103.0,\n",
       " 550.0,\n",
       " 924.0,\n",
       " 750.0,\n",
       " 1150.0,\n",
       " 2004.0,\n",
       " 1350.0,\n",
       " 750.0,\n",
       " 1350.0,\n",
       " 950.0,\n",
       " 1750.0,\n",
       " 2441.0,\n",
       " 550.0,\n",
       " 1150.0,\n",
       " 550.0,\n",
       " 550.0,\n",
       " 950.0,\n",
       " 1750.0,\n",
       " 550.0,\n",
       " 1321.0,\n",
       " 2210.0,\n",
       " 1553.0,\n",
       " 550.0,\n",
       " 2263.0,\n",
       " 2765.0,\n",
       " 1131.0,\n",
       " 2813.0,\n",
       " 1622.0,\n",
       " 1948.0,\n",
       " 1608.0,\n",
       " 2028.0,\n",
       " 550.0,\n",
       " 2367.0,\n",
       " 1539.0,\n",
       " 1214.0,\n",
       " 1954.0,\n",
       " 1750.0,\n",
       " 550.0,\n",
       " 550.0,\n",
       " 550.0,\n",
       " 1150.0,\n",
       " 2550.0,\n",
       " 1350.0,\n",
       " 1750.0,\n",
       " 2350.0,\n",
       " 550.0,\n",
       " 1950.0,\n",
       " 550.0,\n",
       " 1550.0,\n",
       " 1556.0,\n",
       " 2601.0,\n",
       " 3375.0,\n",
       " 2210.0,\n",
       " 1807.0,\n",
       " 2605.0,\n",
       " 3195.0,\n",
       " 1954.0,\n",
       " 2234.0,\n",
       " 550.0,\n",
       " 550.0,\n",
       " 2395.0,\n",
       " 4011.0,\n",
       " 1069.0,\n",
       " 873.0,\n",
       " 1705.0,\n",
       " 2362.0,\n",
       " 550.0,\n",
       " 619.0,\n",
       " 976.0,\n",
       " 589.0,\n",
       " 550.0,\n",
       " 712.0,\n",
       " 592.0,\n",
       " 604.0,\n",
       " 634.0,\n",
       " 550.0,\n",
       " 2916.0,\n",
       " 1942.0,\n",
       " 3375.0,\n",
       " 2550.0,\n",
       " 798.0,\n",
       " 568.0,\n",
       " 950.0,\n",
       " 592.0,\n",
       " 550.0,\n",
       " 550.0,\n",
       " 550.0,\n",
       " 750.0,\n",
       " 550.0,\n",
       " 750.0,\n",
       " 950.0,\n",
       " 550.0,\n",
       " 1350.0,\n",
       " 1950.0,\n",
       " 550.0,\n",
       " 550.0,\n",
       " 1750.0,\n",
       " 2712.0,\n",
       " 3350.0,\n",
       " 1550.0,\n",
       " 2301.0,\n",
       " 3150.0,\n",
       " 3053.0,\n",
       " 2201.0,\n",
       " 1950.0,\n",
       " 3550.0,\n",
       " 950.0,\n",
       " 550.0,\n",
       " 849.0,\n",
       " 2190.0,\n",
       " 1150.0,\n",
       " 1046.0,\n",
       " 819.0,\n",
       " 840.0,\n",
       " 2106.0,\n",
       " 1858.0,\n",
       " 3211.0,\n",
       " 1975.0,\n",
       " 1724.0,\n",
       " 2182.0,\n",
       " 802.0,\n",
       " 2014.0,\n",
       " 550.0,\n",
       " 1908.0,\n",
       " 3202.0,\n",
       " 550.0,\n",
       " 871.0,\n",
       " 826.0,\n",
       " 1009.0,\n",
       " 859.0,\n",
       " 550.0,\n",
       " 730.0,\n",
       " 784.0,\n",
       " 619.0,\n",
       " 1016.0,\n",
       " 721.0,\n",
       " 550.0,\n",
       " 1150.0,\n",
       " 1688.0,\n",
       " 950.0,\n",
       " 1365.0,\n",
       " 1106.0,\n",
       " 1297.0,\n",
       " 1698.0,\n",
       " 753.0,\n",
       " 550.0,\n",
       " 950.0,\n",
       " 2550.0,\n",
       " 837.0,\n",
       " 948.0,\n",
       " 577.0,\n",
       " 739.0,\n",
       " 1580.0,\n",
       " 1580.0,\n",
       " 550.0,\n",
       " 750.0,\n",
       " 750.0,\n",
       " 550.0,\n",
       " 550.0,\n",
       " 950.0,\n",
       " 550.0,\n",
       " 1950.0,\n",
       " 550.0,\n",
       " 950.0,\n",
       " 550.0,\n",
       " 2589.0,\n",
       " 1034.0,\n",
       " 2368.0,\n",
       " 2353.0,\n",
       " 2810.0,\n",
       " 2577.0,\n",
       " 550.0,\n",
       " 1155.0,\n",
       " 2275.0,\n",
       " 1591.0,\n",
       " 2704.0,\n",
       " 2457.0,\n",
       " 3640.0,\n",
       " 1270.0,\n",
       " 550.0,\n",
       " 1750.0,\n",
       " 3750.0,\n",
       " 2550.0,\n",
       " 2035.0,\n",
       " 1870.0,\n",
       " 5014.0,\n",
       " 1246.0,\n",
       " 1191.0,\n",
       " 750.0,\n",
       " 727.0,\n",
       " 1040.0,\n",
       " 823.0,\n",
       " 550.0,\n",
       " 682.0,\n",
       " 655.0,\n",
       " 664.0,\n",
       " 775.0,\n",
       " 640.0,\n",
       " 901.0,\n",
       " 1219.0,\n",
       " 550.0,\n",
       " 1864.0,\n",
       " 1350.0,\n",
       " 1954.0,\n",
       " 1470.0,\n",
       " 1750.0,\n",
       " 2268.0,\n",
       " 550.0,\n",
       " 550.0,\n",
       " 3410.0,\n",
       " 2837.0,\n",
       " 2646.0,\n",
       " 550.0,\n",
       " 2150.0,\n",
       " 550.0,\n",
       " 750.0,\n",
       " 1950.0,\n",
       " 1350.0,\n",
       " 1550.0,\n",
       " 1350.0,\n",
       " 550.0,\n",
       " 550.0,\n",
       " 550.0,\n",
       " 550.0,\n",
       " 550.0,\n",
       " 616.0,\n",
       " 962.0,\n",
       " 550.0,\n",
       " 1057.0,\n",
       " 550.0,\n",
       " 750.0,\n",
       " 550.0,\n",
       " 2550.0,\n",
       " 1410.0,\n",
       " 750.0,\n",
       " 550.0,\n",
       " 1550.0,\n",
       " 1550.0,\n",
       " 1150.0,\n",
       " 550.0,\n",
       " 3046.0,\n",
       " 655.0,\n",
       " 841.0,\n",
       " 706.0,\n",
       " 2361.0,\n",
       " 550.0,\n",
       " 679.0,\n",
       " 1040.0,\n",
       " 1805.0,\n",
       " 974.0,\n",
       " 934.0,\n",
       " 1126.0,\n",
       " 1012.0,\n",
       " 964.0,\n",
       " 733.0,\n",
       " 1069.0,\n",
       " 1180.0,\n",
       " 550.0,\n",
       " 550.0,\n",
       " 550.0,\n",
       " 550.0,\n",
       " 550.0,\n",
       " 550.0,\n",
       " 550.0,\n",
       " 934.0,\n",
       " 1006.0,\n",
       " 550.0,\n",
       " 550.0,\n",
       " 916.0,\n",
       " 550.0,\n",
       " 550.0,\n",
       " 550.0,\n",
       " 550.0,\n",
       " 550.0,\n",
       " 550.0,\n",
       " 550.0,\n",
       " 1550.0,\n",
       " 750.0,\n",
       " 550.0,\n",
       " 691.0,\n",
       " 1306.0,\n",
       " 996.0,\n",
       " 1093.0,\n",
       " 1567.0,\n",
       " 1891.0,\n",
       " 1348.0,\n",
       " 1193.0,\n",
       " 751.0,\n",
       " 928.0,\n",
       " 550.0,\n",
       " 1750.0,\n",
       " 1950.0,\n",
       " 1550.0,\n",
       " 953.0,\n",
       " 1550.0,\n",
       " 2783.0,\n",
       " 2150.0,\n",
       " 1350.0,\n",
       " 550.0,\n",
       " 1002.0,\n",
       " 577.0,\n",
       " 1750.0,\n",
       " 1350.0,\n",
       " 589.0,\n",
       " 550.0,\n",
       " 643.0,\n",
       " 550.0,\n",
       " 1205.0,\n",
       " 2288.0,\n",
       " 1550.0,\n",
       " 1133.0,\n",
       " 1962.0,\n",
       " 2069.0,\n",
       " 1423.0,\n",
       " 1294.0,\n",
       " 1942.0,\n",
       " 550.0,\n",
       " 550.0,\n",
       " 550.0,\n",
       " 750.0,\n",
       " 550.0,\n",
       " 625.0,\n",
       " 661.0,\n",
       " 1007.0,\n",
       " 1446.0,\n",
       " 819.0,\n",
       " 616.0,\n",
       " 807.0,\n",
       " 637.0,\n",
       " 950.0,\n",
       " 589.0,\n",
       " 1437.0,\n",
       " 1651.0,\n",
       " 1368.0,\n",
       " 980.0,\n",
       " 2641.0,\n",
       " 583.0,\n",
       " 1047.0,\n",
       " 1605.0,\n",
       " 1750.0,\n",
       " 1263.0,\n",
       " 751.0,\n",
       " 882.0,\n",
       " 1277.0,\n",
       " 550.0,\n",
       " 1120.0,\n",
       " 994.0,\n",
       " 550.0,\n",
       " 550.0,\n",
       " 1571.0,\n",
       " 950.0,\n",
       " 604.0,\n",
       " 1404.0,\n",
       " 751.0,\n",
       " 1079.0,\n",
       " 586.0,\n",
       " 963.0,\n",
       " 1038.0,\n",
       " 792.0,\n",
       " 550.0,\n",
       " 1350.0,\n",
       " 550.0,\n",
       " 1350.0,\n",
       " 950.0,\n",
       " 1342.0,\n",
       " 1350.0,\n",
       " 1612.0,\n",
       " 1655.0,\n",
       " 1150.0,\n",
       " 2350.0,\n",
       " 1350.0,\n",
       " 550.0,\n",
       " 3870.0,\n",
       " 1365.0,\n",
       " 750.0,\n",
       " 4427.0,\n",
       " 2953.0,\n",
       " 3136.0,\n",
       " 2028.0,\n",
       " 2631.0,\n",
       " 550.0,\n",
       " 975.0,\n",
       " 1763.0,\n",
       " 550.0,\n",
       " 550.0,\n",
       " 1950.0,\n",
       " 2350.0,\n",
       " 959.0,\n",
       " 816.0,\n",
       " 1550.0,\n",
       " 550.0,\n",
       " 1750.0,\n",
       " 1950.0,\n",
       " 1350.0,\n",
       " 550.0,\n",
       " 1706.0,\n",
       " 953.0,\n",
       " 640.0,\n",
       " 804.0,\n",
       " 1413.0,\n",
       " 953.0,\n",
       " 622.0,\n",
       " 1198.0,\n",
       " 580.0,\n",
       " 1133.0,\n",
       " 697.0,\n",
       " 1993.0,\n",
       " 1202.0,\n",
       " 1461.0,\n",
       " 834.0,\n",
       " 703.0,\n",
       " 787.0,\n",
       " 550.0,\n",
       " 772.0,\n",
       " 2097.0,\n",
       " 1679.0,\n",
       " 670.0,\n",
       " 1436.0,\n",
       " 2076.0,\n",
       " 1270.0,\n",
       " 550.0,\n",
       " 1550.0,\n",
       " 1950.0,\n",
       " 1950.0,\n",
       " 1550.0,\n",
       " 2350.0,\n",
       " 550.0,\n",
       " 2273.0,\n",
       " 2855.0,\n",
       " 2697.0,\n",
       " 2697.0,\n",
       " 1831.0,\n",
       " 2622.0,\n",
       " 2419.0,\n",
       " 550.0,\n",
       " 1122.0,\n",
       " 3194.0,\n",
       " 950.0,\n",
       " 950.0,\n",
       " 550.0,\n",
       " 750.0,\n",
       " 550.0,\n",
       " 1350.0,\n",
       " 950.0,\n",
       " 1550.0,\n",
       " 1350.0,\n",
       " 750.0,\n",
       " 750.0,\n",
       " 550.0,\n",
       " 950.0,\n",
       " 2150.0,\n",
       " 1356.0,\n",
       " 765.0,\n",
       " 577.0,\n",
       " 912.0,\n",
       " 750.0,\n",
       " 550.0,\n",
       " 750.0,\n",
       " 2950.0,\n",
       " 1950.0,\n",
       " 2550.0,\n",
       " 1350.0,\n",
       " 1150.0,\n",
       " 1670.0,\n",
       " 2950.0,\n",
       " 1350.0,\n",
       " 3150.0,\n",
       " 565.0,\n",
       " 571.0,\n",
       " 580.0,\n",
       " 616.0,\n",
       " 753.0,\n",
       " 745.0,\n",
       " 592.0,\n",
       " 595.0,\n",
       " 786.0,\n",
       " 604.0,\n",
       " 550.0,\n",
       " 550.0,\n",
       " 5252.0,\n",
       " 550.0,\n",
       " 1150.0,\n",
       " 550.0,\n",
       " 950.0,\n",
       " 550.0,\n",
       " 550.0,\n",
       " 1550.0,\n",
       " 550.0,\n",
       " 950.0,\n",
       " 1750.0,\n",
       " 550.0,\n",
       " 550.0,\n",
       " 1950.0,\n",
       " 750.0,\n",
       " 550.0,\n",
       " 550.0,\n",
       " 550.0,\n",
       " 550.0,\n",
       " 550.0,\n",
       " 550.0,\n",
       " 550.0,\n",
       " 1550.0,\n",
       " 550.0,\n",
       " 950.0,\n",
       " 1150.0,\n",
       " 550.0,\n",
       " 1150.0,\n",
       " 1350.0,\n",
       " 1950.0,\n",
       " 1550.0,\n",
       " 1350.0,\n",
       " 550.0,\n",
       " 1359.0,\n",
       " 550.0,\n",
       " 1174.0,\n",
       " 826.0,\n",
       " 1000.0,\n",
       " 1141.0,\n",
       " 1036.0,\n",
       " 1354.0,\n",
       " 1078.0,\n",
       " 1479.0,\n",
       " 670.0,\n",
       " 2750.0,\n",
       " 4473.0,\n",
       " 3350.0,\n",
       " 2950.0,\n",
       " 2150.0,\n",
       " 3950.0,\n",
       " 2261.0,\n",
       " 2350.0,\n",
       " 550.0,\n",
       " 3315.0,\n",
       " 2250.0,\n",
       " 750.0,\n",
       " 2773.0,\n",
       " 3083.0,\n",
       " 2247.0,\n",
       " 550.0,\n",
       " 2185.0,\n",
       " 2096.0,\n",
       " 607.0,\n",
       " 1464.0,\n",
       " 1805.0,\n",
       " 1116.0,\n",
       " 907.0,\n",
       " 2022.0,\n",
       " 628.0,\n",
       " 1683.0,\n",
       " 550.0,\n",
       " 1750.0,\n",
       " 1750.0,\n",
       " 550.0,\n",
       " 550.0,\n",
       " 1950.0,\n",
       " 950.0,\n",
       " 1750.0,\n",
       " 2350.0,\n",
       " 550.0,\n",
       " 550.0,\n",
       " 950.0,\n",
       " 1150.0,\n",
       " 1565.0,\n",
       " 2350.0,\n",
       " 792.0,\n",
       " 550.0,\n",
       " 750.0,\n",
       " 1150.0,\n",
       " 777.0,\n",
       " 765.0,\n",
       " 550.0,\n",
       " 750.0,\n",
       " 950.0,\n",
       " 950.0,\n",
       " 1350.0,\n",
       " 750.0,\n",
       " 1760.0,\n",
       " 550.0,\n",
       " 550.0,\n",
       " 646.0,\n",
       " 1150.0,\n",
       " 733.0,\n",
       " 550.0,\n",
       " 550.0,\n",
       " 883.0,\n",
       " 550.0,\n",
       " 646.0,\n",
       " 750.0,\n",
       " 787.0,\n",
       " 1150.0,\n",
       " 706.0,\n",
       " 550.0,\n",
       " 550.0,\n",
       " 1743.0,\n",
       " 550.0,\n",
       " 3246.0,\n",
       " 550.0,\n",
       " 1987.0,\n",
       " 658.0,\n",
       " 550.0,\n",
       " 550.0,\n",
       " 942.0,\n",
       " 550.0,\n",
       " 950.0,\n",
       " 550.0,\n",
       " 550.0,\n",
       " 688.0,\n",
       " 995.0,\n",
       " 586.0,\n",
       " 784.0,\n",
       " 910.0,\n",
       " 829.0,\n",
       " 958.0,\n",
       " 1147.0,\n",
       " 550.0,\n",
       " 787.0,\n",
       " 1030.0,\n",
       " 550.0,\n",
       " 2007.0,\n",
       " 1790.0,\n",
       " 989.0,\n",
       " 613.0,\n",
       " 550.0,\n",
       " 550.0,\n",
       " 550.0,\n",
       " 550.0,\n",
       " 550.0,\n",
       " 550.0,\n",
       " 550.0,\n",
       " 550.0,\n",
       " 550.0,\n",
       " 550.0,\n",
       " 550.0,\n",
       " 550.0,\n",
       " 2100.0,\n",
       " 2601.0,\n",
       " 2150.0,\n",
       " 1554.0,\n",
       " 1489.0,\n",
       " 1576.0,\n",
       " 1095.0,\n",
       " 1137.0,\n",
       " 2903.0,\n",
       " 1715.0,\n",
       " 1138.0,\n",
       " 550.0,\n",
       " 550.0,\n",
       " 2309.0,\n",
       " 3315.0,\n",
       " 1387.0,\n",
       " 550.0,\n",
       " 550.0,\n",
       " 550.0,\n",
       " 886.0,\n",
       " 703.0,\n",
       " 550.0,\n",
       " 550.0,\n",
       " 604.0,\n",
       " 550.0,\n",
       " 676.0,\n",
       " 550.0,\n",
       " 550.0,\n",
       " 550.0,\n",
       " 562.0,\n",
       " 550.0,\n",
       " 550.0,\n",
       " 550.0,\n",
       " 550.0,\n",
       " 2067.0,\n",
       " 2150.0,\n",
       " 1950.0,\n",
       " 2661.0,\n",
       " 1150.0,\n",
       " 3150.0,\n",
       " 550.0,\n",
       " 1150.0,\n",
       " 1150.0,\n",
       " 1150.0,\n",
       " 750.0,\n",
       " 550.0,\n",
       " 649.0,\n",
       " 1135.0,\n",
       " 1768.0,\n",
       " 550.0,\n",
       " 3350.0,\n",
       " 750.0,\n",
       " 750.0,\n",
       " 750.0,\n",
       " 1550.0,\n",
       " 2100.0,\n",
       " 1350.0,\n",
       " 1150.0,\n",
       " 1550.0,\n",
       " 2950.0,\n",
       " 1750.0,\n",
       " 1350.0,\n",
       " 2150.0,\n",
       " 1550.0,\n",
       " 2150.0,\n",
       " 550.0,\n",
       " 1550.0,\n",
       " 2950.0,\n",
       " 550.0,\n",
       " 550.0,\n",
       " 750.0,\n",
       " 640.0,\n",
       " 550.0,\n",
       " 1190.0,\n",
       " 1150.0,\n",
       " 1019.0,\n",
       " 1219.0,\n",
       " 2064.0,\n",
       " 1628.0,\n",
       " 1998.0,\n",
       " 1380.0,\n",
       " 1246.0,\n",
       " 550.0,\n",
       " 2062.0,\n",
       " 1890.0,\n",
       " 2256.0,\n",
       " 1313.0,\n",
       " 1216.0,\n",
       " 550.0,\n",
       " 750.0,\n",
       " 1950.0,\n",
       " 750.0,\n",
       " 1350.0,\n",
       " 1150.0,\n",
       " 950.0,\n",
       " 909.0,\n",
       " 2187.0,\n",
       " 550.0,\n",
       " 2147.0,\n",
       " 1046.0,\n",
       " 1713.0,\n",
       " 1359.0,\n",
       " 553.0,\n",
       " 562.0,\n",
       " 577.0,\n",
       " 631.0,\n",
       " 598.0,\n",
       " 595.0,\n",
       " 550.0,\n",
       " 550.0,\n",
       " 550.0,\n",
       " ...]"
      ]
     },
     "execution_count": 37,
     "metadata": {},
     "output_type": "execute_result"
    }
   ],
   "source": [
    "# создание списка с выручкой пользователей тарифа смарт\n",
    "smart = df.query('tariff==\"smart\"')['revenue'].tolist()\n",
    "smart"
   ]
  },
  {
   "cell_type": "code",
   "execution_count": 38,
   "metadata": {},
   "outputs": [
    {
     "data": {
      "text/plain": [
       "[1950.0,\n",
       " 1950.0,\n",
       " 1950.0,\n",
       " 1950.0,\n",
       " 1950.0,\n",
       " 1950.0,\n",
       " 1950.0,\n",
       " 1950.0,\n",
       " 1950.0,\n",
       " 1950.0,\n",
       " 1950.0,\n",
       " 1950.0,\n",
       " 1950.0,\n",
       " 1950.0,\n",
       " 1950.0,\n",
       " 1950.0,\n",
       " 1950.0,\n",
       " 1950.0,\n",
       " 1950.0,\n",
       " 1950.0,\n",
       " 1950.0,\n",
       " 1950.0,\n",
       " 1950.0,\n",
       " 1950.0,\n",
       " 1950.0,\n",
       " 1950.0,\n",
       " 1950.0,\n",
       " 1950.0,\n",
       " 1950.0,\n",
       " 1950.0,\n",
       " 1950.0,\n",
       " 1950.0,\n",
       " 1950.0,\n",
       " 1950.0,\n",
       " 1950.0,\n",
       " 1950.0,\n",
       " 1950.0,\n",
       " 1950.0,\n",
       " 1950.0,\n",
       " 1950.0,\n",
       " 1950.0,\n",
       " 1950.0,\n",
       " 1950.0,\n",
       " 1950.0,\n",
       " 1950.0,\n",
       " 1950.0,\n",
       " 1950.0,\n",
       " 1950.0,\n",
       " 1950.0,\n",
       " 1950.0,\n",
       " 3900.0,\n",
       " 2850.0,\n",
       " 1950.0,\n",
       " 1950.0,\n",
       " 1950.0,\n",
       " 1950.0,\n",
       " 1950.0,\n",
       " 1950.0,\n",
       " 1950.0,\n",
       " 1950.0,\n",
       " 1950.0,\n",
       " 1950.0,\n",
       " 1950.0,\n",
       " 1950.0,\n",
       " 1950.0,\n",
       " 1950.0,\n",
       " 1950.0,\n",
       " 1950.0,\n",
       " 1950.0,\n",
       " 1950.0,\n",
       " 1950.0,\n",
       " 1950.0,\n",
       " 1950.0,\n",
       " 1950.0,\n",
       " 1950.0,\n",
       " 1950.0,\n",
       " 1950.0,\n",
       " 1950.0,\n",
       " 2700.0,\n",
       " 1950.0,\n",
       " 1950.0,\n",
       " 1950.0,\n",
       " 1950.0,\n",
       " 1950.0,\n",
       " 1950.0,\n",
       " 1950.0,\n",
       " 1950.0,\n",
       " 1950.0,\n",
       " 1950.0,\n",
       " 1950.0,\n",
       " 1950.0,\n",
       " 1950.0,\n",
       " 1950.0,\n",
       " 1950.0,\n",
       " 1950.0,\n",
       " 1950.0,\n",
       " 1950.0,\n",
       " 3900.0,\n",
       " 1950.0,\n",
       " 1950.0,\n",
       " 1950.0,\n",
       " 1950.0,\n",
       " 1950.0,\n",
       " 1950.0,\n",
       " 1950.0,\n",
       " 1950.0,\n",
       " 1950.0,\n",
       " 1950.0,\n",
       " 1950.0,\n",
       " 1950.0,\n",
       " 1950.0,\n",
       " 1950.0,\n",
       " 1950.0,\n",
       " 1950.0,\n",
       " 1950.0,\n",
       " 1950.0,\n",
       " 1950.0,\n",
       " 1950.0,\n",
       " 1950.0,\n",
       " 1950.0,\n",
       " 1950.0,\n",
       " 1950.0,\n",
       " 1950.0,\n",
       " 1950.0,\n",
       " 1950.0,\n",
       " 1950.0,\n",
       " 1950.0,\n",
       " 1950.0,\n",
       " 1950.0,\n",
       " 1950.0,\n",
       " 1950.0,\n",
       " 1950.0,\n",
       " 1950.0,\n",
       " 1950.0,\n",
       " 1950.0,\n",
       " 1950.0,\n",
       " 1950.0,\n",
       " 1950.0,\n",
       " 1950.0,\n",
       " 1950.0,\n",
       " 1950.0,\n",
       " 1950.0,\n",
       " 1950.0,\n",
       " 1950.0,\n",
       " 1950.0,\n",
       " 1950.0,\n",
       " 1950.0,\n",
       " 1950.0,\n",
       " 1950.0,\n",
       " 1950.0,\n",
       " 1950.0,\n",
       " 1950.0,\n",
       " 1950.0,\n",
       " 1950.0,\n",
       " 1950.0,\n",
       " 1950.0,\n",
       " 1950.0,\n",
       " 1950.0,\n",
       " 1950.0,\n",
       " 1950.0,\n",
       " 1950.0,\n",
       " 1950.0,\n",
       " 1950.0,\n",
       " 1950.0,\n",
       " 1950.0,\n",
       " 1950.0,\n",
       " 1950.0,\n",
       " 1950.0,\n",
       " 1950.0,\n",
       " 1950.0,\n",
       " 1950.0,\n",
       " 1950.0,\n",
       " 1950.0,\n",
       " 1950.0,\n",
       " 1950.0,\n",
       " 1950.0,\n",
       " 1950.0,\n",
       " 1950.0,\n",
       " 1950.0,\n",
       " 1950.0,\n",
       " 1950.0,\n",
       " 1950.0,\n",
       " 1950.0,\n",
       " 1950.0,\n",
       " 1950.0,\n",
       " 1950.0,\n",
       " 1950.0,\n",
       " 1950.0,\n",
       " 1950.0,\n",
       " 1950.0,\n",
       " 1950.0,\n",
       " 1950.0,\n",
       " 1950.0,\n",
       " 1950.0,\n",
       " 1950.0,\n",
       " 1950.0,\n",
       " 1950.0,\n",
       " 1950.0,\n",
       " 1950.0,\n",
       " 1950.0,\n",
       " 1950.0,\n",
       " 1950.0,\n",
       " 1950.0,\n",
       " 1950.0,\n",
       " 1950.0,\n",
       " 1950.0,\n",
       " 1950.0,\n",
       " 1950.0,\n",
       " 1950.0,\n",
       " 1950.0,\n",
       " 1950.0,\n",
       " 4800.0,\n",
       " 2850.0,\n",
       " 3300.0,\n",
       " 1950.0,\n",
       " 1950.0,\n",
       " 1950.0,\n",
       " 1950.0,\n",
       " 1950.0,\n",
       " 1950.0,\n",
       " 1950.0,\n",
       " 1950.0,\n",
       " 1950.0,\n",
       " 1950.0,\n",
       " 1950.0,\n",
       " 2400.0,\n",
       " 1950.0,\n",
       " 1950.0,\n",
       " 1950.0,\n",
       " 1950.0,\n",
       " 1950.0,\n",
       " 1950.0,\n",
       " 1950.0,\n",
       " 1950.0,\n",
       " 1950.0,\n",
       " 1950.0,\n",
       " 2550.0,\n",
       " 2250.0,\n",
       " 2700.0,\n",
       " 2550.0,\n",
       " 2400.0,\n",
       " 2250.0,\n",
       " 3150.0,\n",
       " 2850.0,\n",
       " 1950.0,\n",
       " 1950.0,\n",
       " 1950.0,\n",
       " 1950.0,\n",
       " 1950.0,\n",
       " 1950.0,\n",
       " 1950.0,\n",
       " 1950.0,\n",
       " 1950.0,\n",
       " 1950.0,\n",
       " 1950.0,\n",
       " 1950.0,\n",
       " 1950.0,\n",
       " 1950.0,\n",
       " 1950.0,\n",
       " 1950.0,\n",
       " 1950.0,\n",
       " 1950.0,\n",
       " 1950.0,\n",
       " 1950.0,\n",
       " 1950.0,\n",
       " 1950.0,\n",
       " 1950.0,\n",
       " 3750.0,\n",
       " 2250.0,\n",
       " 1950.0,\n",
       " 1950.0,\n",
       " 1950.0,\n",
       " 1950.0,\n",
       " 1950.0,\n",
       " 1950.0,\n",
       " 1950.0,\n",
       " 1950.0,\n",
       " 1950.0,\n",
       " 1950.0,\n",
       " 1950.0,\n",
       " 2400.0,\n",
       " 1950.0,\n",
       " 1950.0,\n",
       " 2250.0,\n",
       " 1950.0,\n",
       " 1950.0,\n",
       " 1950.0,\n",
       " 2850.0,\n",
       " 2250.0,\n",
       " 1950.0,\n",
       " 1950.0,\n",
       " 3000.0,\n",
       " 2100.0,\n",
       " 2850.0,\n",
       " 1950.0,\n",
       " 2550.0,\n",
       " 2400.0,\n",
       " 1950.0,\n",
       " 3900.0,\n",
       " 1950.0,\n",
       " 1950.0,\n",
       " 1950.0,\n",
       " 2100.0,\n",
       " 1950.0,\n",
       " 1950.0,\n",
       " 2250.0,\n",
       " 3300.0,\n",
       " 3150.0,\n",
       " 3750.0,\n",
       " 3750.0,\n",
       " 3150.0,\n",
       " 3450.0,\n",
       " 3300.0,\n",
       " 1950.0,\n",
       " 1950.0,\n",
       " 1950.0,\n",
       " 1950.0,\n",
       " 1950.0,\n",
       " 1950.0,\n",
       " 1950.0,\n",
       " 2400.0,\n",
       " 1950.0,\n",
       " 1950.0,\n",
       " 1950.0,\n",
       " 1950.0,\n",
       " 1950.0,\n",
       " 1950.0,\n",
       " 1950.0,\n",
       " 1950.0,\n",
       " 1950.0,\n",
       " 1950.0,\n",
       " 1950.0,\n",
       " 1950.0,\n",
       " 1950.0,\n",
       " 1950.0,\n",
       " 1950.0,\n",
       " 1950.0,\n",
       " 1950.0,\n",
       " 1950.0,\n",
       " 1950.0,\n",
       " 1950.0,\n",
       " 1950.0,\n",
       " 1950.0,\n",
       " 1950.0,\n",
       " 1950.0,\n",
       " 1950.0,\n",
       " 1950.0,\n",
       " 1950.0,\n",
       " 1950.0,\n",
       " 1950.0,\n",
       " 1950.0,\n",
       " 1950.0,\n",
       " 1950.0,\n",
       " 1950.0,\n",
       " 1950.0,\n",
       " 1950.0,\n",
       " 1950.0,\n",
       " 1950.0,\n",
       " 1950.0,\n",
       " 1950.0,\n",
       " 1950.0,\n",
       " 1950.0,\n",
       " 1950.0,\n",
       " 1950.0,\n",
       " 1950.0,\n",
       " 1950.0,\n",
       " 1950.0,\n",
       " 1950.0,\n",
       " 1950.0,\n",
       " 1950.0,\n",
       " 1950.0,\n",
       " 1950.0,\n",
       " 1950.0,\n",
       " 1950.0,\n",
       " 1950.0,\n",
       " 1950.0,\n",
       " 1950.0,\n",
       " 1950.0,\n",
       " 1950.0,\n",
       " 1950.0,\n",
       " 2850.0,\n",
       " 3900.0,\n",
       " 2700.0,\n",
       " 3600.0,\n",
       " 4650.0,\n",
       " 2100.0,\n",
       " 2550.0,\n",
       " 2250.0,\n",
       " 3900.0,\n",
       " 1950.0,\n",
       " 1950.0,\n",
       " 1950.0,\n",
       " 1950.0,\n",
       " 1950.0,\n",
       " 2100.0,\n",
       " 1950.0,\n",
       " 1950.0,\n",
       " 1950.0,\n",
       " 1950.0,\n",
       " 1950.0,\n",
       " 1950.0,\n",
       " 1950.0,\n",
       " 1950.0,\n",
       " 1950.0,\n",
       " 1950.0,\n",
       " 1950.0,\n",
       " 1950.0,\n",
       " 1950.0,\n",
       " 1950.0,\n",
       " 1950.0,\n",
       " 1950.0,\n",
       " 1950.0,\n",
       " 1950.0,\n",
       " 1950.0,\n",
       " 2100.0,\n",
       " 3000.0,\n",
       " 3750.0,\n",
       " 3000.0,\n",
       " 4200.0,\n",
       " 3600.0,\n",
       " 1950.0,\n",
       " 1950.0,\n",
       " 1950.0,\n",
       " 1950.0,\n",
       " 1950.0,\n",
       " 1950.0,\n",
       " 1950.0,\n",
       " 1950.0,\n",
       " 1950.0,\n",
       " 1950.0,\n",
       " 1950.0,\n",
       " 3150.0,\n",
       " 3000.0,\n",
       " 3000.0,\n",
       " 1950.0,\n",
       " 1950.0,\n",
       " 1950.0,\n",
       " 1950.0,\n",
       " 1950.0,\n",
       " 1950.0,\n",
       " 1950.0,\n",
       " 1950.0,\n",
       " 1950.0,\n",
       " 1950.0,\n",
       " 1950.0,\n",
       " 1950.0,\n",
       " 1950.0,\n",
       " 1950.0,\n",
       " 1950.0,\n",
       " 1950.0,\n",
       " 1950.0,\n",
       " 1950.0,\n",
       " 1950.0,\n",
       " 1950.0,\n",
       " 1950.0,\n",
       " 1950.0,\n",
       " 1950.0,\n",
       " 1950.0,\n",
       " 1950.0,\n",
       " 2400.0,\n",
       " 1950.0,\n",
       " 1950.0,\n",
       " 1950.0,\n",
       " 1950.0,\n",
       " 1950.0,\n",
       " 1950.0,\n",
       " 1950.0,\n",
       " 1950.0,\n",
       " 1950.0,\n",
       " 1950.0,\n",
       " 1950.0,\n",
       " 1950.0,\n",
       " 1950.0,\n",
       " 1950.0,\n",
       " 1950.0,\n",
       " 1950.0,\n",
       " 1950.0,\n",
       " 1950.0,\n",
       " 1950.0,\n",
       " 1950.0,\n",
       " 1950.0,\n",
       " 1950.0,\n",
       " 1950.0,\n",
       " 1950.0,\n",
       " 1950.0,\n",
       " 2550.0,\n",
       " 2250.0,\n",
       " 1950.0,\n",
       " 1950.0,\n",
       " 3450.0,\n",
       " 2550.0,\n",
       " 2550.0,\n",
       " 2400.0,\n",
       " 1950.0,\n",
       " 2850.0,\n",
       " 1950.0,\n",
       " 1950.0,\n",
       " 1950.0,\n",
       " 1950.0,\n",
       " 1950.0,\n",
       " 1950.0,\n",
       " 1950.0,\n",
       " 1950.0,\n",
       " 1950.0,\n",
       " 1950.0,\n",
       " 1950.0,\n",
       " 1950.0,\n",
       " 2550.0,\n",
       " 2400.0,\n",
       " 3150.0,\n",
       " 4050.0,\n",
       " 2700.0,\n",
       " 1950.0,\n",
       " 1950.0,\n",
       " 1950.0,\n",
       " 1950.0,\n",
       " 1950.0,\n",
       " 1950.0,\n",
       " 2700.0,\n",
       " 3750.0,\n",
       " 1950.0,\n",
       " 1950.0,\n",
       " 1950.0,\n",
       " 1950.0,\n",
       " 1950.0,\n",
       " 1950.0,\n",
       " 1950.0,\n",
       " 1950.0,\n",
       " 1950.0,\n",
       " 1950.0,\n",
       " 1950.0,\n",
       " 1950.0,\n",
       " 1950.0,\n",
       " 1950.0,\n",
       " 1950.0,\n",
       " 1950.0,\n",
       " 1950.0,\n",
       " 1950.0,\n",
       " 1950.0,\n",
       " 1950.0,\n",
       " 1950.0,\n",
       " 1950.0,\n",
       " 1950.0,\n",
       " 1950.0,\n",
       " 1950.0,\n",
       " 1950.0,\n",
       " 1950.0,\n",
       " 1950.0,\n",
       " 1950.0,\n",
       " 2100.0,\n",
       " 2250.0,\n",
       " 1950.0,\n",
       " 2400.0,\n",
       " 1950.0,\n",
       " 1950.0,\n",
       " 1950.0,\n",
       " 2550.0,\n",
       " 1950.0,\n",
       " 1950.0,\n",
       " 1950.0,\n",
       " 2250.0,\n",
       " 1950.0,\n",
       " 1950.0,\n",
       " 2400.0,\n",
       " 2250.0,\n",
       " 1950.0,\n",
       " 2400.0,\n",
       " 1950.0,\n",
       " 1950.0,\n",
       " 2550.0,\n",
       " 1950.0,\n",
       " 1950.0,\n",
       " 1950.0,\n",
       " 1950.0,\n",
       " 1950.0,\n",
       " 1950.0,\n",
       " 1950.0,\n",
       " 1950.0,\n",
       " 1950.0,\n",
       " 1950.0,\n",
       " 1950.0,\n",
       " 1950.0,\n",
       " 1950.0,\n",
       " 1950.0,\n",
       " 1950.0,\n",
       " 2250.0,\n",
       " 2550.0,\n",
       " 2100.0,\n",
       " 1950.0,\n",
       " 1950.0,\n",
       " 1950.0,\n",
       " 1950.0,\n",
       " 1950.0,\n",
       " 1950.0,\n",
       " 1950.0,\n",
       " 1950.0,\n",
       " 1950.0,\n",
       " 1950.0,\n",
       " 1950.0,\n",
       " 1950.0,\n",
       " 1950.0,\n",
       " 1950.0,\n",
       " 1950.0,\n",
       " 1950.0,\n",
       " 1950.0,\n",
       " 1950.0,\n",
       " 1950.0,\n",
       " 1950.0,\n",
       " 1950.0,\n",
       " 1950.0,\n",
       " 1950.0,\n",
       " 1950.0,\n",
       " 1950.0,\n",
       " 1950.0,\n",
       " 1950.0,\n",
       " 1950.0,\n",
       " 1950.0,\n",
       " 1950.0,\n",
       " 1950.0,\n",
       " 1950.0,\n",
       " 1950.0,\n",
       " 1950.0,\n",
       " 1950.0,\n",
       " 1950.0,\n",
       " 1950.0,\n",
       " 1950.0,\n",
       " 1950.0,\n",
       " 1950.0,\n",
       " 3750.0,\n",
       " 3300.0,\n",
       " 1950.0,\n",
       " 1950.0,\n",
       " 1950.0,\n",
       " 2400.0,\n",
       " 1950.0,\n",
       " 3300.0,\n",
       " 1950.0,\n",
       " 1950.0,\n",
       " 1950.0,\n",
       " 1950.0,\n",
       " 1950.0,\n",
       " 1950.0,\n",
       " 1950.0,\n",
       " 1950.0,\n",
       " 1950.0,\n",
       " 1950.0,\n",
       " 1950.0,\n",
       " 1950.0,\n",
       " 1950.0,\n",
       " 1950.0,\n",
       " 1950.0,\n",
       " 1950.0,\n",
       " 1950.0,\n",
       " 1950.0,\n",
       " 1950.0,\n",
       " 1950.0,\n",
       " 1950.0,\n",
       " 1950.0,\n",
       " 1950.0,\n",
       " 1950.0,\n",
       " 1950.0,\n",
       " 1950.0,\n",
       " 1950.0,\n",
       " 1950.0,\n",
       " 1950.0,\n",
       " 1950.0,\n",
       " 1950.0,\n",
       " 1950.0,\n",
       " 1950.0,\n",
       " 1950.0,\n",
       " 1950.0,\n",
       " 1950.0,\n",
       " 1950.0,\n",
       " 1950.0,\n",
       " 1950.0,\n",
       " 1950.0,\n",
       " 1950.0,\n",
       " 1950.0,\n",
       " 1950.0,\n",
       " 1950.0,\n",
       " 1950.0,\n",
       " 1950.0,\n",
       " 1950.0,\n",
       " 1950.0,\n",
       " 1950.0,\n",
       " 1950.0,\n",
       " 1950.0,\n",
       " 1950.0,\n",
       " 1950.0,\n",
       " 1950.0,\n",
       " 1950.0,\n",
       " 1950.0,\n",
       " 1950.0,\n",
       " 1950.0,\n",
       " 1950.0,\n",
       " 1950.0,\n",
       " 1950.0,\n",
       " 1950.0,\n",
       " 1950.0,\n",
       " 3450.0,\n",
       " 1950.0,\n",
       " 1950.0,\n",
       " 3750.0,\n",
       " 3150.0,\n",
       " 2400.0,\n",
       " 1950.0,\n",
       " 3000.0,\n",
       " 2250.0,\n",
       " 3900.0,\n",
       " 1950.0,\n",
       " 1950.0,\n",
       " 1950.0,\n",
       " 1950.0,\n",
       " 1950.0,\n",
       " 1950.0,\n",
       " 1950.0,\n",
       " 1950.0,\n",
       " 2250.0,\n",
       " 1950.0,\n",
       " 1950.0,\n",
       " 1950.0,\n",
       " 1950.0,\n",
       " 1950.0,\n",
       " 1950.0,\n",
       " 1950.0,\n",
       " 1950.0,\n",
       " 1950.0,\n",
       " 1950.0,\n",
       " 1950.0,\n",
       " 1950.0,\n",
       " 1950.0,\n",
       " 1950.0,\n",
       " 2250.0,\n",
       " 2100.0,\n",
       " 1950.0,\n",
       " 1950.0,\n",
       " 1950.0,\n",
       " 3000.0,\n",
       " 2700.0,\n",
       " 2550.0,\n",
       " 1950.0,\n",
       " 2550.0,\n",
       " 3150.0,\n",
       " 1950.0,\n",
       " 1950.0,\n",
       " 1950.0,\n",
       " 2700.0,\n",
       " 1950.0,\n",
       " 1950.0,\n",
       " 1950.0,\n",
       " 1950.0,\n",
       " 1950.0,\n",
       " 1950.0,\n",
       " 1950.0,\n",
       " 1950.0,\n",
       " 1950.0,\n",
       " 1950.0,\n",
       " 1950.0,\n",
       " 1950.0,\n",
       " 1950.0,\n",
       " 1950.0,\n",
       " 1950.0,\n",
       " 1950.0,\n",
       " 1950.0,\n",
       " 1950.0,\n",
       " 1950.0,\n",
       " 1950.0,\n",
       " 1950.0,\n",
       " 1950.0,\n",
       " 1950.0,\n",
       " 1950.0,\n",
       " 1950.0,\n",
       " 1950.0,\n",
       " 1950.0,\n",
       " 1950.0,\n",
       " 1950.0,\n",
       " 1950.0,\n",
       " 1950.0,\n",
       " 1950.0,\n",
       " 2100.0,\n",
       " 1950.0,\n",
       " 1950.0,\n",
       " 1950.0,\n",
       " 1950.0,\n",
       " 1950.0,\n",
       " 2100.0,\n",
       " 3000.0,\n",
       " 1950.0,\n",
       " 1950.0,\n",
       " 2250.0,\n",
       " 2700.0,\n",
       " 1950.0,\n",
       " 1950.0,\n",
       " 1950.0,\n",
       " 1950.0,\n",
       " 1950.0,\n",
       " 3450.0,\n",
       " 3000.0,\n",
       " 1950.0,\n",
       " 3150.0,\n",
       " 3300.0,\n",
       " 2250.0,\n",
       " 1950.0,\n",
       " 1950.0,\n",
       " 2250.0,\n",
       " 3000.0,\n",
       " 1950.0,\n",
       " 1950.0,\n",
       " 1950.0,\n",
       " 1950.0,\n",
       " 1950.0,\n",
       " 1950.0,\n",
       " 1950.0,\n",
       " 1950.0,\n",
       " 1950.0,\n",
       " 1950.0,\n",
       " 2250.0,\n",
       " 1950.0,\n",
       " 1950.0,\n",
       " 1950.0,\n",
       " 1950.0,\n",
       " 3150.0,\n",
       " 1950.0,\n",
       " 1950.0,\n",
       " 1950.0,\n",
       " 1950.0,\n",
       " 1950.0,\n",
       " 1950.0,\n",
       " 1950.0,\n",
       " 1950.0,\n",
       " 1950.0,\n",
       " 1950.0,\n",
       " 1950.0,\n",
       " 1950.0,\n",
       " 1950.0,\n",
       " 1950.0,\n",
       " 1950.0,\n",
       " 2100.0,\n",
       " 1950.0,\n",
       " 1950.0,\n",
       " 1950.0,\n",
       " 1950.0,\n",
       " 1950.0,\n",
       " 1950.0,\n",
       " 1950.0,\n",
       " 1950.0,\n",
       " 1950.0,\n",
       " 1950.0,\n",
       " 1950.0,\n",
       " 3300.0,\n",
       " 1950.0,\n",
       " 1950.0,\n",
       " 1950.0,\n",
       " 1950.0,\n",
       " 1950.0,\n",
       " 1950.0,\n",
       " 1950.0,\n",
       " 1950.0,\n",
       " 1950.0,\n",
       " 1950.0,\n",
       " 1950.0,\n",
       " 1950.0,\n",
       " 1950.0,\n",
       " 1950.0,\n",
       " 1950.0,\n",
       " 1950.0,\n",
       " 1950.0,\n",
       " 1950.0,\n",
       " 1950.0,\n",
       " 1950.0,\n",
       " 1950.0,\n",
       " 1950.0,\n",
       " 1950.0,\n",
       " 1950.0,\n",
       " 1950.0,\n",
       " 1950.0,\n",
       " 1950.0,\n",
       " 1950.0,\n",
       " 1950.0,\n",
       " 1950.0,\n",
       " 1950.0,\n",
       " 1950.0,\n",
       " 1950.0,\n",
       " 1950.0,\n",
       " 1950.0,\n",
       " 1950.0,\n",
       " 1950.0,\n",
       " 1950.0,\n",
       " 1950.0,\n",
       " 1950.0,\n",
       " 1950.0,\n",
       " 1950.0,\n",
       " 1950.0,\n",
       " 1950.0,\n",
       " 1950.0,\n",
       " 1950.0,\n",
       " 1950.0,\n",
       " 1950.0,\n",
       " 1950.0,\n",
       " 1950.0,\n",
       " 1950.0,\n",
       " 1950.0,\n",
       " 1950.0,\n",
       " 1950.0,\n",
       " 1950.0,\n",
       " 1950.0,\n",
       " 1950.0,\n",
       " 1950.0,\n",
       " 2400.0,\n",
       " 2400.0,\n",
       " 2400.0,\n",
       " 2700.0,\n",
       " 1950.0,\n",
       " 1950.0,\n",
       " 1950.0,\n",
       " 1950.0,\n",
       " 1950.0,\n",
       " 1950.0,\n",
       " 1950.0,\n",
       " 1950.0,\n",
       " 1950.0,\n",
       " 1950.0,\n",
       " 1950.0,\n",
       " 1950.0,\n",
       " 1950.0,\n",
       " 3750.0,\n",
       " 1950.0,\n",
       " 1950.0,\n",
       " 1950.0,\n",
       " 1950.0,\n",
       " 1950.0,\n",
       " 1950.0,\n",
       " 1950.0,\n",
       " 1950.0,\n",
       " 1950.0,\n",
       " 1950.0,\n",
       " 1950.0,\n",
       " 1950.0,\n",
       " 1950.0,\n",
       " 1950.0,\n",
       " 1950.0,\n",
       " 1950.0,\n",
       " 1950.0,\n",
       " 1950.0,\n",
       " 1950.0,\n",
       " 1950.0,\n",
       " 3750.0,\n",
       " 1950.0,\n",
       " 2400.0,\n",
       " 1950.0,\n",
       " 3300.0,\n",
       " 1950.0,\n",
       " 1950.0,\n",
       " 1950.0,\n",
       " 1950.0,\n",
       " 1950.0,\n",
       " 1950.0,\n",
       " 1950.0,\n",
       " 1950.0,\n",
       " 1950.0,\n",
       " 1950.0,\n",
       " 1950.0,\n",
       " 1950.0,\n",
       " 1950.0,\n",
       " 1950.0,\n",
       " 1950.0,\n",
       " 1950.0,\n",
       " 1950.0,\n",
       " 1950.0,\n",
       " 1950.0,\n",
       " 1950.0,\n",
       " 1950.0,\n",
       " 2250.0,\n",
       " 2400.0,\n",
       " 2100.0,\n",
       " 1950.0,\n",
       " 2250.0,\n",
       " 1950.0,\n",
       " 2700.0,\n",
       " 3300.0,\n",
       " 1950.0,\n",
       " 1950.0,\n",
       " 1950.0,\n",
       " 1950.0,\n",
       " 1950.0]"
      ]
     },
     "execution_count": 38,
     "metadata": {},
     "output_type": "execute_result"
    }
   ],
   "source": [
    "# создание списка с выручкой пользователей тарифа ультра\n",
    "ultra = df.query('tariff==\"ultra\"')['revenue'].tolist()\n",
    "ultra"
   ]
  },
  {
   "cell_type": "code",
   "execution_count": 39,
   "metadata": {},
   "outputs": [
    {
     "name": "stdout",
     "output_type": "stream",
     "text": [
      "p-значение:  1.4229814360764067e-160\n",
      "Отвергаем нулевую гипотезу\n"
     ]
    }
   ],
   "source": [
    "# проверка нулевой гипотезы\n",
    "alpha = .05 \n",
    "\n",
    "results = st.ttest_ind(\n",
    "    smart, \n",
    "    ultra)\n",
    "\n",
    "print('p-значение: ', results.pvalue)\n",
    "\n",
    "if results.pvalue < alpha:\n",
    "    print(\"Отвергаем нулевую гипотезу\")\n",
    "else:\n",
    "    print(\"Не получилось отвергнуть нулевую гипотезу\") "
   ]
  },
  {
   "cell_type": "markdown",
   "metadata": {},
   "source": [
    "Нулевая гипотиза отвергается, а это значит, что средняя выручка пользователей тарифов «Ультра» и «Смарт» различаются."
   ]
  },
  {
   "cell_type": "markdown",
   "metadata": {},
   "source": [
    "Тоже самое проведелаем с нулевой гипотизой \"средняя выручка пользователей из Москвы не отличается от выручки пользователей из других регионов\". (Альтернативная гипотиза - средняя выручка пользователей из Москвы отличается от выручки пользователей из других регионов)"
   ]
  },
  {
   "cell_type": "code",
   "execution_count": 40,
   "metadata": {},
   "outputs": [
    {
     "data": {
      "text/plain": [
       "[1150.0,\n",
       " 550.0,\n",
       " 1950.0,\n",
       " 1950.0,\n",
       " 1950.0,\n",
       " 1950.0,\n",
       " 1950.0,\n",
       " 550.0,\n",
       " 1150.0,\n",
       " 685.0,\n",
       " 981.0,\n",
       " 1750.0,\n",
       " 1015.0,\n",
       " 550.0,\n",
       " 990.0,\n",
       " 550.0,\n",
       " 1045.0,\n",
       " 736.0,\n",
       " 550.0,\n",
       " 2031.0,\n",
       " 2831.0,\n",
       " 1640.0,\n",
       " 2616.0,\n",
       " 1816.0,\n",
       " 950.0,\n",
       " 550.0,\n",
       " 950.0,\n",
       " 550.0,\n",
       " 3233.0,\n",
       " 1950.0,\n",
       " 1950.0,\n",
       " 1950.0,\n",
       " 1950.0,\n",
       " 1950.0,\n",
       " 1950.0,\n",
       " 1950.0,\n",
       " 1950.0,\n",
       " 1950.0,\n",
       " 1950.0,\n",
       " 550.0,\n",
       " 601.0,\n",
       " 1750.0,\n",
       " 2150.0,\n",
       " 550.0,\n",
       " 550.0,\n",
       " 1950.0,\n",
       " 1950.0,\n",
       " 1950.0,\n",
       " 1950.0,\n",
       " 1950.0,\n",
       " 1950.0,\n",
       " 1950.0,\n",
       " 1950.0,\n",
       " 1950.0,\n",
       " 1950.0,\n",
       " 550.0,\n",
       " 550.0,\n",
       " 1556.0,\n",
       " 2601.0,\n",
       " 3375.0,\n",
       " 2210.0,\n",
       " 1807.0,\n",
       " 2605.0,\n",
       " 3195.0,\n",
       " 1954.0,\n",
       " 2234.0,\n",
       " 550.0,\n",
       " 550.0,\n",
       " 619.0,\n",
       " 976.0,\n",
       " 589.0,\n",
       " 550.0,\n",
       " 712.0,\n",
       " 592.0,\n",
       " 604.0,\n",
       " 634.0,\n",
       " 550.0,\n",
       " 2916.0,\n",
       " 1942.0,\n",
       " 3375.0,\n",
       " 2550.0,\n",
       " 798.0,\n",
       " 550.0,\n",
       " 1908.0,\n",
       " 3202.0,\n",
       " 550.0,\n",
       " 871.0,\n",
       " 826.0,\n",
       " 1009.0,\n",
       " 859.0,\n",
       " 550.0,\n",
       " 730.0,\n",
       " 784.0,\n",
       " 1950.0,\n",
       " 1950.0,\n",
       " 1950.0,\n",
       " 1950.0,\n",
       " 1950.0,\n",
       " 1950.0,\n",
       " 1950.0,\n",
       " 1950.0,\n",
       " 1950.0,\n",
       " 1950.0,\n",
       " 1950.0,\n",
       " 1950.0,\n",
       " 1950.0,\n",
       " 1950.0,\n",
       " 1950.0,\n",
       " 619.0,\n",
       " 1016.0,\n",
       " 721.0,\n",
       " 550.0,\n",
       " 1864.0,\n",
       " 1350.0,\n",
       " 1954.0,\n",
       " 1470.0,\n",
       " 1750.0,\n",
       " 2268.0,\n",
       " 1550.0,\n",
       " 1350.0,\n",
       " 550.0,\n",
       " 934.0,\n",
       " 1006.0,\n",
       " 550.0,\n",
       " 550.0,\n",
       " 916.0,\n",
       " 1263.0,\n",
       " 751.0,\n",
       " 882.0,\n",
       " 1277.0,\n",
       " 550.0,\n",
       " 550.0,\n",
       " 750.0,\n",
       " 2950.0,\n",
       " 1950.0,\n",
       " 2550.0,\n",
       " 1350.0,\n",
       " 1150.0,\n",
       " 1670.0,\n",
       " 2950.0,\n",
       " 1350.0,\n",
       " 3150.0,\n",
       " 550.0,\n",
       " 1950.0,\n",
       " 750.0,\n",
       " 550.0,\n",
       " 550.0,\n",
       " 550.0,\n",
       " 1174.0,\n",
       " 826.0,\n",
       " 1000.0,\n",
       " 1141.0,\n",
       " 1036.0,\n",
       " 1354.0,\n",
       " 1078.0,\n",
       " 1479.0,\n",
       " 670.0,\n",
       " 550.0,\n",
       " 1750.0,\n",
       " 1750.0,\n",
       " 550.0,\n",
       " 550.0,\n",
       " 1950.0,\n",
       " 950.0,\n",
       " 1750.0,\n",
       " 2350.0,\n",
       " 550.0,\n",
       " 550.0,\n",
       " 646.0,\n",
       " 1150.0,\n",
       " 733.0,\n",
       " 550.0,\n",
       " 550.0,\n",
       " 883.0,\n",
       " 1950.0,\n",
       " 3000.0,\n",
       " 2100.0,\n",
       " 2850.0,\n",
       " 1950.0,\n",
       " 2550.0,\n",
       " 2400.0,\n",
       " 1950.0,\n",
       " 3900.0,\n",
       " 1950.0,\n",
       " 1950.0,\n",
       " 550.0,\n",
       " 562.0,\n",
       " 550.0,\n",
       " 550.0,\n",
       " 550.0,\n",
       " 1950.0,\n",
       " 1950.0,\n",
       " 1950.0,\n",
       " 1950.0,\n",
       " 1950.0,\n",
       " 1950.0,\n",
       " 1950.0,\n",
       " 1950.0,\n",
       " 1950.0,\n",
       " 1950.0,\n",
       " 1950.0,\n",
       " 1950.0,\n",
       " 1950.0,\n",
       " 1950.0,\n",
       " 1950.0,\n",
       " 750.0,\n",
       " 1550.0,\n",
       " 2100.0,\n",
       " 1350.0,\n",
       " 1150.0,\n",
       " 1550.0,\n",
       " 2950.0,\n",
       " 1750.0,\n",
       " 1350.0,\n",
       " 2150.0,\n",
       " 1550.0,\n",
       " 2150.0,\n",
       " 550.0,\n",
       " 1550.0,\n",
       " 2950.0,\n",
       " 550.0,\n",
       " 550.0,\n",
       " 550.0,\n",
       " 3266.0,\n",
       " 4116.0,\n",
       " 628.0,\n",
       " 798.0,\n",
       " 1529.0,\n",
       " 2121.0,\n",
       " 697.0,\n",
       " 2361.0,\n",
       " 580.0,\n",
       " 831.0,\n",
       " 1662.0,\n",
       " 1739.0,\n",
       " 2046.0,\n",
       " 3037.0,\n",
       " 1716.0,\n",
       " 2291.0,\n",
       " 1950.0,\n",
       " 1950.0,\n",
       " 1950.0,\n",
       " 1950.0,\n",
       " 550.0,\n",
       " 2550.0,\n",
       " 2182.0,\n",
       " 2150.0,\n",
       " 1550.0,\n",
       " 1150.0,\n",
       " 1150.0,\n",
       " 1473.0,\n",
       " 550.0,\n",
       " 1675.0,\n",
       " 1270.0,\n",
       " 2651.0,\n",
       " 3028.0,\n",
       " 2431.0,\n",
       " 1558.0,\n",
       " 2074.0,\n",
       " 1950.0,\n",
       " 1950.0,\n",
       " 1950.0,\n",
       " 1950.0,\n",
       " 1950.0,\n",
       " 1950.0,\n",
       " 1950.0,\n",
       " 1950.0,\n",
       " 550.0,\n",
       " 1267.0,\n",
       " 1398.0,\n",
       " 1669.0,\n",
       " 604.0,\n",
       " 1666.0,\n",
       " 550.0,\n",
       " 1753.0,\n",
       " 1750.0,\n",
       " 550.0,\n",
       " 550.0,\n",
       " 1350.0,\n",
       " 950.0,\n",
       " 777.0,\n",
       " 550.0,\n",
       " 1350.0,\n",
       " 750.0,\n",
       " 819.0,\n",
       " 550.0,\n",
       " 550.0,\n",
       " 1350.0,\n",
       " 550.0,\n",
       " 550.0,\n",
       " 2400.0,\n",
       " 1950.0,\n",
       " 1950.0,\n",
       " 750.0,\n",
       " 1550.0,\n",
       " 1350.0,\n",
       " 2150.0,\n",
       " 550.0,\n",
       " 5321.0,\n",
       " 1950.0,\n",
       " 1950.0,\n",
       " 1950.0,\n",
       " 1950.0,\n",
       " 550.0,\n",
       " 1482.0,\n",
       " 700.0,\n",
       " 1140.0,\n",
       " 550.0,\n",
       " 1082.0,\n",
       " 550.0,\n",
       " 628.0,\n",
       " 802.0,\n",
       " 718.0,\n",
       " 1162.0,\n",
       " 550.0,\n",
       " 750.0,\n",
       " 550.0,\n",
       " 550.0,\n",
       " 550.0,\n",
       " 750.0,\n",
       " 550.0,\n",
       " 1950.0,\n",
       " 2550.0,\n",
       " 2400.0,\n",
       " 3150.0,\n",
       " 4050.0,\n",
       " 2700.0,\n",
       " 550.0,\n",
       " 2962.0,\n",
       " 2185.0,\n",
       " 550.0,\n",
       " 550.0,\n",
       " 1350.0,\n",
       " 950.0,\n",
       " 1550.0,\n",
       " 550.0,\n",
       " 950.0,\n",
       " 550.0,\n",
       " 1150.0,\n",
       " 550.0,\n",
       " 550.0,\n",
       " 1950.0,\n",
       " 550.0,\n",
       " 1227.0,\n",
       " 750.0,\n",
       " 1684.0,\n",
       " 1573.0,\n",
       " 1177.0,\n",
       " 750.0,\n",
       " 550.0,\n",
       " 550.0,\n",
       " 1150.0,\n",
       " 550.0,\n",
       " 1550.0,\n",
       " 1777.0,\n",
       " 750.0,\n",
       " 1150.0,\n",
       " 1350.0,\n",
       " 1150.0,\n",
       " 1950.0,\n",
       " 1950.0,\n",
       " 2400.0,\n",
       " 2250.0,\n",
       " 1950.0,\n",
       " 2400.0,\n",
       " 1950.0,\n",
       " 1950.0,\n",
       " 2550.0,\n",
       " 550.0,\n",
       " 1859.0,\n",
       " 1350.0,\n",
       " 1350.0,\n",
       " 950.0,\n",
       " 971.0,\n",
       " 2073.0,\n",
       " 1150.0,\n",
       " 1950.0,\n",
       " 1950.0,\n",
       " 1950.0,\n",
       " 1950.0,\n",
       " 1950.0,\n",
       " 1950.0,\n",
       " 1950.0,\n",
       " 1950.0,\n",
       " 1950.0,\n",
       " 1950.0,\n",
       " 1950.0,\n",
       " 550.0,\n",
       " 950.0,\n",
       " 2150.0,\n",
       " 950.0,\n",
       " 1350.0,\n",
       " 950.0,\n",
       " 550.0,\n",
       " 1150.0,\n",
       " 550.0,\n",
       " 1550.0,\n",
       " 1666.0,\n",
       " 2667.0,\n",
       " 2101.0,\n",
       " 1950.0,\n",
       " 1950.0,\n",
       " 1950.0,\n",
       " 2250.0,\n",
       " 2550.0,\n",
       " 2100.0,\n",
       " 1950.0,\n",
       " 750.0,\n",
       " 550.0,\n",
       " 2350.0,\n",
       " 550.0,\n",
       " 1550.0,\n",
       " 950.0,\n",
       " 550.0,\n",
       " 1950.0,\n",
       " 1950.0,\n",
       " 1950.0,\n",
       " 1950.0,\n",
       " 1950.0,\n",
       " 1950.0,\n",
       " 3750.0,\n",
       " 3300.0,\n",
       " 1950.0,\n",
       " 1950.0,\n",
       " 1950.0,\n",
       " 2400.0,\n",
       " 1950.0,\n",
       " 3300.0,\n",
       " 550.0,\n",
       " 1093.0,\n",
       " 613.0,\n",
       " 1263.0,\n",
       " 1673.0,\n",
       " 1828.0,\n",
       " 1950.0,\n",
       " 1950.0,\n",
       " 1950.0,\n",
       " 1950.0,\n",
       " 1950.0,\n",
       " 1950.0,\n",
       " 3450.0,\n",
       " 1950.0,\n",
       " 1950.0,\n",
       " 1950.0,\n",
       " 1950.0,\n",
       " 1950.0,\n",
       " 1950.0,\n",
       " 1950.0,\n",
       " 1950.0,\n",
       " 1950.0,\n",
       " 2250.0,\n",
       " 1950.0,\n",
       " 1950.0,\n",
       " 1950.0,\n",
       " 1950.0,\n",
       " 2250.0,\n",
       " 2100.0,\n",
       " 1950.0,\n",
       " 1950.0,\n",
       " 1950.0,\n",
       " 3000.0,\n",
       " 2700.0,\n",
       " 2550.0,\n",
       " 1950.0,\n",
       " 2550.0,\n",
       " 3150.0,\n",
       " 550.0,\n",
       " 1950.0,\n",
       " 550.0,\n",
       " 1350.0,\n",
       " 750.0,\n",
       " 950.0,\n",
       " 2150.0,\n",
       " 802.0,\n",
       " 2254.0,\n",
       " 1821.0,\n",
       " 550.0,\n",
       " 1673.0,\n",
       " 882.0,\n",
       " 1445.0,\n",
       " 559.0,\n",
       " 2017.0,\n",
       " 1761.0,\n",
       " 1131.0,\n",
       " 550.0,\n",
       " 1353.0,\n",
       " 3125.0,\n",
       " 2822.0,\n",
       " 2295.0,\n",
       " 550.0,\n",
       " 550.0,\n",
       " 750.0,\n",
       " 550.0,\n",
       " 550.0,\n",
       " 550.0,\n",
       " 583.0,\n",
       " 550.0,\n",
       " 550.0,\n",
       " 550.0,\n",
       " 568.0,\n",
       " 550.0,\n",
       " 1950.0,\n",
       " 1950.0,\n",
       " 2250.0,\n",
       " 3000.0,\n",
       " 1950.0,\n",
       " 1950.0,\n",
       " 1950.0,\n",
       " 550.0,\n",
       " 550.0,\n",
       " 550.0,\n",
       " 1950.0,\n",
       " 2250.0,\n",
       " 1950.0,\n",
       " 1950.0,\n",
       " 1950.0,\n",
       " 1950.0,\n",
       " 3150.0,\n",
       " 730.0,\n",
       " 550.0,\n",
       " 1750.0,\n",
       " 1150.0,\n",
       " 2150.0,\n",
       " 750.0,\n",
       " 1550.0,\n",
       " 1350.0,\n",
       " 2150.0,\n",
       " 1350.0,\n",
       " 1750.0,\n",
       " 2150.0,\n",
       " 1950.0,\n",
       " 1950.0,\n",
       " 1950.0,\n",
       " 1950.0,\n",
       " 1950.0,\n",
       " 1950.0,\n",
       " 2100.0,\n",
       " 1950.0,\n",
       " 1950.0,\n",
       " 1950.0,\n",
       " 1950.0,\n",
       " 1950.0,\n",
       " 1950.0,\n",
       " 1950.0,\n",
       " 1950.0,\n",
       " 1950.0,\n",
       " 1950.0,\n",
       " 1049.0,\n",
       " 550.0,\n",
       " 1806.0,\n",
       " 1824.0,\n",
       " 3148.0,\n",
       " 550.0,\n",
       " 1014.0,\n",
       " 1192.0,\n",
       " 993.0,\n",
       " 1923.0,\n",
       " 925.0,\n",
       " 550.0,\n",
       " 1634.0,\n",
       " 891.0,\n",
       " 1950.0,\n",
       " 1950.0,\n",
       " 1950.0,\n",
       " 1950.0,\n",
       " 1950.0,\n",
       " 1950.0,\n",
       " 1950.0,\n",
       " 1950.0,\n",
       " 1950.0,\n",
       " 1950.0,\n",
       " 1950.0,\n",
       " 1950.0,\n",
       " 1950.0,\n",
       " 1950.0,\n",
       " 1950.0,\n",
       " 1950.0,\n",
       " 1950.0,\n",
       " 1950.0,\n",
       " 1950.0,\n",
       " 1950.0,\n",
       " 1950.0,\n",
       " 1950.0,\n",
       " 1950.0,\n",
       " 1950.0,\n",
       " 1950.0,\n",
       " 1950.0,\n",
       " 1950.0,\n",
       " 1950.0,\n",
       " 1950.0,\n",
       " 1950.0,\n",
       " 550.0,\n",
       " 1150.0,\n",
       " 1550.0,\n",
       " 1150.0,\n",
       " 550.0,\n",
       " 1350.0,\n",
       " 1750.0,\n",
       " 950.0,\n",
       " 1150.0,\n",
       " 1550.0,\n",
       " 950.0,\n",
       " 550.0,\n",
       " 1750.0,\n",
       " 1550.0,\n",
       " 586.0,\n",
       " 950.0,\n",
       " 550.0,\n",
       " 1750.0,\n",
       " 1350.0,\n",
       " 750.0]"
      ]
     },
     "execution_count": 40,
     "metadata": {},
     "output_type": "execute_result"
    }
   ],
   "source": [
    "# создание списка с выручкой пользователей из Москвы\n",
    "moscow = df.query('city==\"Москва\"')['revenue'].tolist()\n",
    "moscow"
   ]
  },
  {
   "cell_type": "code",
   "execution_count": 41,
   "metadata": {},
   "outputs": [
    {
     "data": {
      "text/plain": [
       "[1950.0,\n",
       " 1950.0,\n",
       " 1950.0,\n",
       " 1950.0,\n",
       " 1950.0,\n",
       " 1950.0,\n",
       " 1950.0,\n",
       " 1950.0,\n",
       " 550.0,\n",
       " 1150.0,\n",
       " 1550.0,\n",
       " 950.0,\n",
       " 550.0,\n",
       " 1350.0,\n",
       " 1150.0,\n",
       " 1950.0,\n",
       " 1950.0,\n",
       " 1950.0,\n",
       " 1950.0,\n",
       " 1950.0,\n",
       " 1950.0,\n",
       " 1950.0,\n",
       " 1950.0,\n",
       " 550.0,\n",
       " 550.0,\n",
       " 886.0,\n",
       " 1186.0,\n",
       " 835.0,\n",
       " 886.0,\n",
       " 775.0,\n",
       " 949.0,\n",
       " 556.0,\n",
       " 1219.0,\n",
       " 694.0,\n",
       " 838.0,\n",
       " 550.0,\n",
       " 950.0,\n",
       " 550.0,\n",
       " 550.0,\n",
       " 550.0,\n",
       " 1550.0,\n",
       " 1350.0,\n",
       " 750.0,\n",
       " 1550.0,\n",
       " 550.0,\n",
       " 1350.0,\n",
       " 568.0,\n",
       " 550.0,\n",
       " 550.0,\n",
       " 550.0,\n",
       " 750.0,\n",
       " 2550.0,\n",
       " 2350.0,\n",
       " 1950.0,\n",
       " 1550.0,\n",
       " 950.0,\n",
       " 1350.0,\n",
       " 550.0,\n",
       " 750.0,\n",
       " 550.0,\n",
       " 1350.0,\n",
       " 1350.0,\n",
       " 550.0,\n",
       " 1150.0,\n",
       " 1150.0,\n",
       " 950.0,\n",
       " 1356.0,\n",
       " 1795.0,\n",
       " 1950.0,\n",
       " 1540.0,\n",
       " 2553.0,\n",
       " 2150.0,\n",
       " 550.0,\n",
       " 950.0,\n",
       " 2750.0,\n",
       " 2550.0,\n",
       " 2150.0,\n",
       " 1950.0,\n",
       " 1350.0,\n",
       " 3350.0,\n",
       " 1950.0,\n",
       " 550.0,\n",
       " 1950.0,\n",
       " 1950.0,\n",
       " 550.0,\n",
       " 2550.0,\n",
       " 3150.0,\n",
       " 2750.0,\n",
       " 2750.0,\n",
       " 2153.0,\n",
       " 2550.0,\n",
       " 2559.0,\n",
       " 550.0,\n",
       " 1019.0,\n",
       " 3040.0,\n",
       " 1838.0,\n",
       " 3004.0,\n",
       " 1004.0,\n",
       " 1235.0,\n",
       " 1983.0,\n",
       " 1622.0,\n",
       " 1950.0,\n",
       " 1950.0,\n",
       " 550.0,\n",
       " 950.0,\n",
       " 1350.0,\n",
       " 950.0,\n",
       " 1150.0,\n",
       " 1750.0,\n",
       " 1750.0,\n",
       " 750.0,\n",
       " 1950.0,\n",
       " 1950.0,\n",
       " 1950.0,\n",
       " 1950.0,\n",
       " 1950.0,\n",
       " 1950.0,\n",
       " 1950.0,\n",
       " 1950.0,\n",
       " 1950.0,\n",
       " 1950.0,\n",
       " 1950.0,\n",
       " 1950.0,\n",
       " 1950.0,\n",
       " 1950.0,\n",
       " 1950.0,\n",
       " 550.0,\n",
       " 1672.0,\n",
       " 550.0,\n",
       " 1950.0,\n",
       " 1950.0,\n",
       " 1950.0,\n",
       " 1950.0,\n",
       " 1950.0,\n",
       " 1950.0,\n",
       " 1950.0,\n",
       " 1950.0,\n",
       " 1950.0,\n",
       " 750.0,\n",
       " 550.0,\n",
       " 986.0,\n",
       " 3321.0,\n",
       " 1950.0,\n",
       " 3900.0,\n",
       " 2850.0,\n",
       " 550.0,\n",
       " 550.0,\n",
       " 1906.0,\n",
       " 694.0,\n",
       " 781.0,\n",
       " 1150.0,\n",
       " 592.0,\n",
       " 1009.0,\n",
       " 739.0,\n",
       " 959.0,\n",
       " 655.0,\n",
       " 550.0,\n",
       " 1064.0,\n",
       " 550.0,\n",
       " 2919.0,\n",
       " 550.0,\n",
       " 1550.0,\n",
       " 2550.0,\n",
       " 1350.0,\n",
       " 1950.0,\n",
       " 2550.0,\n",
       " 1998.0,\n",
       " 1950.0,\n",
       " 1950.0,\n",
       " 1950.0,\n",
       " 550.0,\n",
       " 2313.0,\n",
       " 1087.0,\n",
       " 1723.0,\n",
       " 550.0,\n",
       " 718.0,\n",
       " 703.0,\n",
       " 691.0,\n",
       " 679.0,\n",
       " 673.0,\n",
       " 1473.0,\n",
       " 676.0,\n",
       " 2350.0,\n",
       " 550.0,\n",
       " 2550.0,\n",
       " 1013.0,\n",
       " 986.0,\n",
       " 1350.0,\n",
       " 1550.0,\n",
       " 2550.0,\n",
       " 1171.0,\n",
       " 550.0,\n",
       " 2150.0,\n",
       " 1150.0,\n",
       " 550.0,\n",
       " 1640.0,\n",
       " 1697.0,\n",
       " 550.0,\n",
       " 550.0,\n",
       " 886.0,\n",
       " 553.0,\n",
       " 589.0,\n",
       " 562.0,\n",
       " 750.0,\n",
       " 1359.0,\n",
       " 553.0,\n",
       " 553.0,\n",
       " 550.0,\n",
       " 1112.0,\n",
       " 750.0,\n",
       " 840.0,\n",
       " 550.0,\n",
       " 1057.0,\n",
       " 550.0,\n",
       " 550.0,\n",
       " 550.0,\n",
       " 1950.0,\n",
       " 1950.0,\n",
       " 1950.0,\n",
       " 1950.0,\n",
       " 1950.0,\n",
       " 1950.0,\n",
       " 1950.0,\n",
       " 750.0,\n",
       " 1350.0,\n",
       " 1950.0,\n",
       " 750.0,\n",
       " 2550.0,\n",
       " 1550.0,\n",
       " 950.0,\n",
       " 550.0,\n",
       " 5709.0,\n",
       " 550.0,\n",
       " 1350.0,\n",
       " 2950.0,\n",
       " 2186.0,\n",
       " 1150.0,\n",
       " 1661.0,\n",
       " 750.0,\n",
       " 1150.0,\n",
       " 2350.0,\n",
       " 1550.0,\n",
       " 1750.0,\n",
       " 550.0,\n",
       " 950.0,\n",
       " 1950.0,\n",
       " 550.0,\n",
       " 550.0,\n",
       " 574.0,\n",
       " 1356.0,\n",
       " 1965.0,\n",
       " 995.0,\n",
       " 971.0,\n",
       " 2189.0,\n",
       " 756.0,\n",
       " 550.0,\n",
       " 2213.0,\n",
       " 1350.0,\n",
       " 550.0,\n",
       " 762.0,\n",
       " 2350.0,\n",
       " 1885.0,\n",
       " 2115.0,\n",
       " 550.0,\n",
       " 3584.0,\n",
       " 3985.0,\n",
       " 1950.0,\n",
       " 1950.0,\n",
       " 1950.0,\n",
       " 1950.0,\n",
       " 1950.0,\n",
       " 1950.0,\n",
       " 2700.0,\n",
       " 1950.0,\n",
       " 1950.0,\n",
       " 1950.0,\n",
       " 550.0,\n",
       " 1951.0,\n",
       " 2788.0,\n",
       " 2130.0,\n",
       " 2264.0,\n",
       " 1765.0,\n",
       " 1950.0,\n",
       " 1950.0,\n",
       " 1950.0,\n",
       " 1950.0,\n",
       " 550.0,\n",
       " 1154.0,\n",
       " 1476.0,\n",
       " 1488.0,\n",
       " 1612.0,\n",
       " 1074.0,\n",
       " 1911.0,\n",
       " 2219.0,\n",
       " 1248.0,\n",
       " 1671.0,\n",
       " 1103.0,\n",
       " 550.0,\n",
       " 924.0,\n",
       " 750.0,\n",
       " 1150.0,\n",
       " 2004.0,\n",
       " 1350.0,\n",
       " 750.0,\n",
       " 1350.0,\n",
       " 950.0,\n",
       " 1750.0,\n",
       " 2441.0,\n",
       " 550.0,\n",
       " 1150.0,\n",
       " 550.0,\n",
       " 550.0,\n",
       " 950.0,\n",
       " 1750.0,\n",
       " 550.0,\n",
       " 1321.0,\n",
       " 2210.0,\n",
       " 1553.0,\n",
       " 550.0,\n",
       " 2263.0,\n",
       " 2765.0,\n",
       " 1131.0,\n",
       " 2813.0,\n",
       " 1622.0,\n",
       " 1948.0,\n",
       " 1608.0,\n",
       " 2028.0,\n",
       " 1950.0,\n",
       " 3900.0,\n",
       " 550.0,\n",
       " 2367.0,\n",
       " 1539.0,\n",
       " 1214.0,\n",
       " 1954.0,\n",
       " 1750.0,\n",
       " 1950.0,\n",
       " 1950.0,\n",
       " 1950.0,\n",
       " 1950.0,\n",
       " 1950.0,\n",
       " 1950.0,\n",
       " 1950.0,\n",
       " 1950.0,\n",
       " 1950.0,\n",
       " 550.0,\n",
       " 1150.0,\n",
       " 2550.0,\n",
       " 1350.0,\n",
       " 1750.0,\n",
       " 2350.0,\n",
       " 550.0,\n",
       " 1950.0,\n",
       " 550.0,\n",
       " 1550.0,\n",
       " 550.0,\n",
       " 2395.0,\n",
       " 4011.0,\n",
       " 1069.0,\n",
       " 873.0,\n",
       " 1705.0,\n",
       " 2362.0,\n",
       " 568.0,\n",
       " 950.0,\n",
       " 592.0,\n",
       " 550.0,\n",
       " 550.0,\n",
       " 550.0,\n",
       " 750.0,\n",
       " 550.0,\n",
       " 750.0,\n",
       " 950.0,\n",
       " 550.0,\n",
       " 1350.0,\n",
       " 1950.0,\n",
       " 550.0,\n",
       " 550.0,\n",
       " 1750.0,\n",
       " 2712.0,\n",
       " 3350.0,\n",
       " 1550.0,\n",
       " 2301.0,\n",
       " 3150.0,\n",
       " 3053.0,\n",
       " 2201.0,\n",
       " 1950.0,\n",
       " 3550.0,\n",
       " 950.0,\n",
       " 550.0,\n",
       " 849.0,\n",
       " 2190.0,\n",
       " 1150.0,\n",
       " 1046.0,\n",
       " 819.0,\n",
       " 840.0,\n",
       " 2106.0,\n",
       " 1858.0,\n",
       " 3211.0,\n",
       " 1975.0,\n",
       " 1724.0,\n",
       " 2182.0,\n",
       " 802.0,\n",
       " 2014.0,\n",
       " 1950.0,\n",
       " 1950.0,\n",
       " 1950.0,\n",
       " 1950.0,\n",
       " 1950.0,\n",
       " 1950.0,\n",
       " 1950.0,\n",
       " 550.0,\n",
       " 1150.0,\n",
       " 1688.0,\n",
       " 950.0,\n",
       " 1365.0,\n",
       " 1106.0,\n",
       " 1297.0,\n",
       " 1698.0,\n",
       " 753.0,\n",
       " 1950.0,\n",
       " 1950.0,\n",
       " 1950.0,\n",
       " 1950.0,\n",
       " 1950.0,\n",
       " 1950.0,\n",
       " 1950.0,\n",
       " 1950.0,\n",
       " 550.0,\n",
       " 950.0,\n",
       " 2550.0,\n",
       " 837.0,\n",
       " 948.0,\n",
       " 577.0,\n",
       " 739.0,\n",
       " 1580.0,\n",
       " 1580.0,\n",
       " 550.0,\n",
       " 750.0,\n",
       " 750.0,\n",
       " 550.0,\n",
       " 550.0,\n",
       " 950.0,\n",
       " 550.0,\n",
       " 1950.0,\n",
       " 550.0,\n",
       " 950.0,\n",
       " 1950.0,\n",
       " 1950.0,\n",
       " 1950.0,\n",
       " 1950.0,\n",
       " 1950.0,\n",
       " 1950.0,\n",
       " 1950.0,\n",
       " 1950.0,\n",
       " 1950.0,\n",
       " 1950.0,\n",
       " 1950.0,\n",
       " 1950.0,\n",
       " 1950.0,\n",
       " 1950.0,\n",
       " 550.0,\n",
       " 2589.0,\n",
       " 1034.0,\n",
       " 2368.0,\n",
       " 2353.0,\n",
       " 2810.0,\n",
       " 2577.0,\n",
       " 550.0,\n",
       " 1155.0,\n",
       " 2275.0,\n",
       " 1591.0,\n",
       " 2704.0,\n",
       " 2457.0,\n",
       " 3640.0,\n",
       " 1950.0,\n",
       " 1950.0,\n",
       " 1950.0,\n",
       " 1950.0,\n",
       " 1950.0,\n",
       " 1950.0,\n",
       " 1950.0,\n",
       " 1950.0,\n",
       " 1270.0,\n",
       " 1950.0,\n",
       " 1950.0,\n",
       " 1950.0,\n",
       " 1950.0,\n",
       " 1950.0,\n",
       " 1950.0,\n",
       " 1950.0,\n",
       " 1950.0,\n",
       " 1950.0,\n",
       " 1950.0,\n",
       " 1950.0,\n",
       " 1950.0,\n",
       " 1950.0,\n",
       " 1950.0,\n",
       " 1950.0,\n",
       " 1950.0,\n",
       " 550.0,\n",
       " 1750.0,\n",
       " 3750.0,\n",
       " 2550.0,\n",
       " 2035.0,\n",
       " 1870.0,\n",
       " 5014.0,\n",
       " 1950.0,\n",
       " 1950.0,\n",
       " 1950.0,\n",
       " 1950.0,\n",
       " 1950.0,\n",
       " 1950.0,\n",
       " 1950.0,\n",
       " 1950.0,\n",
       " 1950.0,\n",
       " 1950.0,\n",
       " 1246.0,\n",
       " 1191.0,\n",
       " 750.0,\n",
       " 727.0,\n",
       " 1040.0,\n",
       " 823.0,\n",
       " 550.0,\n",
       " 682.0,\n",
       " 655.0,\n",
       " 664.0,\n",
       " 775.0,\n",
       " 640.0,\n",
       " 901.0,\n",
       " 1219.0,\n",
       " 550.0,\n",
       " 1950.0,\n",
       " 1950.0,\n",
       " 1950.0,\n",
       " 1950.0,\n",
       " 1950.0,\n",
       " 1950.0,\n",
       " 1950.0,\n",
       " 1950.0,\n",
       " 1950.0,\n",
       " 1950.0,\n",
       " 1950.0,\n",
       " 550.0,\n",
       " 3410.0,\n",
       " 2837.0,\n",
       " 2646.0,\n",
       " 550.0,\n",
       " 2150.0,\n",
       " 550.0,\n",
       " 750.0,\n",
       " 1950.0,\n",
       " 1350.0,\n",
       " 550.0,\n",
       " 550.0,\n",
       " 550.0,\n",
       " 550.0,\n",
       " 550.0,\n",
       " 616.0,\n",
       " 962.0,\n",
       " 550.0,\n",
       " 1057.0,\n",
       " 550.0,\n",
       " 750.0,\n",
       " 550.0,\n",
       " 2550.0,\n",
       " 1410.0,\n",
       " 750.0,\n",
       " 550.0,\n",
       " 1550.0,\n",
       " 1550.0,\n",
       " 1150.0,\n",
       " 550.0,\n",
       " 3046.0,\n",
       " 655.0,\n",
       " 841.0,\n",
       " 706.0,\n",
       " 2361.0,\n",
       " 550.0,\n",
       " 679.0,\n",
       " 1040.0,\n",
       " 1805.0,\n",
       " 974.0,\n",
       " 934.0,\n",
       " 1126.0,\n",
       " 1012.0,\n",
       " 964.0,\n",
       " 733.0,\n",
       " 1069.0,\n",
       " 1180.0,\n",
       " 550.0,\n",
       " 550.0,\n",
       " 550.0,\n",
       " 550.0,\n",
       " 550.0,\n",
       " 550.0,\n",
       " 550.0,\n",
       " 550.0,\n",
       " 550.0,\n",
       " 550.0,\n",
       " 550.0,\n",
       " 550.0,\n",
       " 550.0,\n",
       " 1550.0,\n",
       " 750.0,\n",
       " 550.0,\n",
       " 691.0,\n",
       " 1306.0,\n",
       " 996.0,\n",
       " 1093.0,\n",
       " 1567.0,\n",
       " 1891.0,\n",
       " 1348.0,\n",
       " 1193.0,\n",
       " 751.0,\n",
       " 928.0,\n",
       " 550.0,\n",
       " 1750.0,\n",
       " 1950.0,\n",
       " 1550.0,\n",
       " 953.0,\n",
       " 1550.0,\n",
       " 2783.0,\n",
       " 2150.0,\n",
       " 1350.0,\n",
       " 1950.0,\n",
       " 1950.0,\n",
       " 1950.0,\n",
       " 1950.0,\n",
       " 1950.0,\n",
       " 1950.0,\n",
       " 1950.0,\n",
       " 1950.0,\n",
       " 1950.0,\n",
       " 1950.0,\n",
       " 1950.0,\n",
       " 1950.0,\n",
       " 550.0,\n",
       " 1002.0,\n",
       " 577.0,\n",
       " 1750.0,\n",
       " 1350.0,\n",
       " 589.0,\n",
       " 550.0,\n",
       " 643.0,\n",
       " 1950.0,\n",
       " 1950.0,\n",
       " 550.0,\n",
       " 1205.0,\n",
       " 2288.0,\n",
       " 1550.0,\n",
       " 1133.0,\n",
       " 1962.0,\n",
       " 2069.0,\n",
       " 1423.0,\n",
       " 1294.0,\n",
       " 1942.0,\n",
       " 1950.0,\n",
       " 4800.0,\n",
       " 2850.0,\n",
       " 3300.0,\n",
       " 550.0,\n",
       " 550.0,\n",
       " 550.0,\n",
       " 750.0,\n",
       " 1950.0,\n",
       " 1950.0,\n",
       " 1950.0,\n",
       " 1950.0,\n",
       " 1950.0,\n",
       " 1950.0,\n",
       " 1950.0,\n",
       " 1950.0,\n",
       " 1950.0,\n",
       " 1950.0,\n",
       " 1950.0,\n",
       " 2400.0,\n",
       " 550.0,\n",
       " 625.0,\n",
       " 661.0,\n",
       " 1007.0,\n",
       " 1446.0,\n",
       " 819.0,\n",
       " 616.0,\n",
       " 807.0,\n",
       " 637.0,\n",
       " 950.0,\n",
       " 589.0,\n",
       " 1437.0,\n",
       " 1651.0,\n",
       " 1368.0,\n",
       " 980.0,\n",
       " 2641.0,\n",
       " 583.0,\n",
       " 1047.0,\n",
       " 1605.0,\n",
       " 1750.0,\n",
       " 550.0,\n",
       " 1120.0,\n",
       " 994.0,\n",
       " 550.0,\n",
       " 550.0,\n",
       " 1571.0,\n",
       " 950.0,\n",
       " 604.0,\n",
       " 1404.0,\n",
       " 751.0,\n",
       " 1079.0,\n",
       " 586.0,\n",
       " 963.0,\n",
       " 1038.0,\n",
       " 792.0,\n",
       " 550.0,\n",
       " 1350.0,\n",
       " 550.0,\n",
       " 1350.0,\n",
       " 950.0,\n",
       " 1342.0,\n",
       " 1350.0,\n",
       " 1612.0,\n",
       " 1655.0,\n",
       " 1150.0,\n",
       " 2350.0,\n",
       " 1350.0,\n",
       " 550.0,\n",
       " 3870.0,\n",
       " 1365.0,\n",
       " 750.0,\n",
       " 4427.0,\n",
       " 2953.0,\n",
       " 3136.0,\n",
       " 2028.0,\n",
       " 2631.0,\n",
       " 550.0,\n",
       " 975.0,\n",
       " 1763.0,\n",
       " 550.0,\n",
       " 1950.0,\n",
       " 2350.0,\n",
       " 959.0,\n",
       " 816.0,\n",
       " 1550.0,\n",
       " 550.0,\n",
       " 1750.0,\n",
       " 1950.0,\n",
       " 1350.0,\n",
       " 1950.0,\n",
       " 1950.0,\n",
       " 1950.0,\n",
       " 1950.0,\n",
       " 1950.0,\n",
       " 1950.0,\n",
       " 1950.0,\n",
       " 1950.0,\n",
       " 1950.0,\n",
       " 550.0,\n",
       " 1706.0,\n",
       " 953.0,\n",
       " 640.0,\n",
       " 804.0,\n",
       " 1413.0,\n",
       " 953.0,\n",
       " 622.0,\n",
       " 1198.0,\n",
       " 580.0,\n",
       " 1133.0,\n",
       " 697.0,\n",
       " 1993.0,\n",
       " 1202.0,\n",
       " 1461.0,\n",
       " 834.0,\n",
       " 703.0,\n",
       " 787.0,\n",
       " 550.0,\n",
       " 772.0,\n",
       " 2097.0,\n",
       " 1679.0,\n",
       " 670.0,\n",
       " 1436.0,\n",
       " 2076.0,\n",
       " 1270.0,\n",
       " 550.0,\n",
       " 1550.0,\n",
       " 1950.0,\n",
       " 1950.0,\n",
       " 1550.0,\n",
       " 2350.0,\n",
       " 1950.0,\n",
       " 2550.0,\n",
       " 2250.0,\n",
       " 2700.0,\n",
       " 2550.0,\n",
       " 2400.0,\n",
       " 2250.0,\n",
       " 3150.0,\n",
       " 2850.0,\n",
       " 550.0,\n",
       " 2273.0,\n",
       " 2855.0,\n",
       " 2697.0,\n",
       " 2697.0,\n",
       " 1831.0,\n",
       " 2622.0,\n",
       " 2419.0,\n",
       " 1950.0,\n",
       " 1950.0,\n",
       " 1950.0,\n",
       " 1950.0,\n",
       " 1950.0,\n",
       " 1950.0,\n",
       " 1950.0,\n",
       " 1950.0,\n",
       " 1950.0,\n",
       " 1950.0,\n",
       " 1950.0,\n",
       " 1950.0,\n",
       " 1950.0,\n",
       " 1950.0,\n",
       " 1950.0,\n",
       " 1950.0,\n",
       " 1950.0,\n",
       " 1950.0,\n",
       " 1950.0,\n",
       " 1950.0,\n",
       " 550.0,\n",
       " 1122.0,\n",
       " 3194.0,\n",
       " 950.0,\n",
       " 950.0,\n",
       " 550.0,\n",
       " 750.0,\n",
       " 550.0,\n",
       " 1350.0,\n",
       " 950.0,\n",
       " 1550.0,\n",
       " 1350.0,\n",
       " 750.0,\n",
       " 750.0,\n",
       " 550.0,\n",
       " 950.0,\n",
       " 2150.0,\n",
       " 1356.0,\n",
       " 765.0,\n",
       " 577.0,\n",
       " 912.0,\n",
       " 750.0,\n",
       " 1950.0,\n",
       " 1950.0,\n",
       " 565.0,\n",
       " 571.0,\n",
       " 580.0,\n",
       " 616.0,\n",
       " 753.0,\n",
       " 745.0,\n",
       " 592.0,\n",
       " 595.0,\n",
       " 786.0,\n",
       " 604.0,\n",
       " 550.0,\n",
       " 550.0,\n",
       " 5252.0,\n",
       " 550.0,\n",
       " 1150.0,\n",
       " 550.0,\n",
       " 950.0,\n",
       " 550.0,\n",
       " 550.0,\n",
       " 1550.0,\n",
       " 550.0,\n",
       " 950.0,\n",
       " 1750.0,\n",
       " 550.0,\n",
       " 550.0,\n",
       " 550.0,\n",
       " 550.0,\n",
       " 550.0,\n",
       " 550.0,\n",
       " 1550.0,\n",
       " 550.0,\n",
       " 950.0,\n",
       " 1150.0,\n",
       " 1950.0,\n",
       " 3750.0,\n",
       " 2250.0,\n",
       " 1950.0,\n",
       " 1950.0,\n",
       " 1950.0,\n",
       " 1950.0,\n",
       " 1950.0,\n",
       " 1950.0,\n",
       " 1950.0,\n",
       " 1950.0,\n",
       " 1950.0,\n",
       " 1950.0,\n",
       " 1950.0,\n",
       " 2400.0,\n",
       " 1950.0,\n",
       " 1950.0,\n",
       " 2250.0,\n",
       " 1950.0,\n",
       " 1950.0,\n",
       " 1950.0,\n",
       " 2850.0,\n",
       " 2250.0,\n",
       " 1950.0,\n",
       " 550.0,\n",
       " 1150.0,\n",
       " 1350.0,\n",
       " 1950.0,\n",
       " 1550.0,\n",
       " 1350.0,\n",
       " 550.0,\n",
       " 1359.0,\n",
       " 2750.0,\n",
       " 4473.0,\n",
       " 3350.0,\n",
       " 2950.0,\n",
       " 2150.0,\n",
       " 3950.0,\n",
       " 2261.0,\n",
       " 2350.0,\n",
       " 550.0,\n",
       " 3315.0,\n",
       " 2250.0,\n",
       " 750.0,\n",
       " 2773.0,\n",
       " 3083.0,\n",
       " 2247.0,\n",
       " 550.0,\n",
       " 2185.0,\n",
       " 2096.0,\n",
       " 607.0,\n",
       " 1464.0,\n",
       " 1805.0,\n",
       " 1116.0,\n",
       " 907.0,\n",
       " 2022.0,\n",
       " 628.0,\n",
       " 1683.0,\n",
       " 550.0,\n",
       " 550.0,\n",
       " 950.0,\n",
       " 1150.0,\n",
       " 1565.0,\n",
       " 2350.0,\n",
       " 792.0,\n",
       " 550.0,\n",
       " 750.0,\n",
       " 1150.0,\n",
       " 777.0,\n",
       " 765.0,\n",
       " 550.0,\n",
       " 750.0,\n",
       " 950.0,\n",
       " 950.0,\n",
       " 1350.0,\n",
       " 750.0,\n",
       " 1760.0,\n",
       " 550.0,\n",
       " 646.0,\n",
       " 750.0,\n",
       " 787.0,\n",
       " 1150.0,\n",
       " 706.0,\n",
       " 550.0,\n",
       " 550.0,\n",
       " 1743.0,\n",
       " 550.0,\n",
       " 3246.0,\n",
       " 1950.0,\n",
       " 2100.0,\n",
       " 1950.0,\n",
       " 550.0,\n",
       " 1987.0,\n",
       " 658.0,\n",
       " 550.0,\n",
       " 550.0,\n",
       " 942.0,\n",
       " 550.0,\n",
       " 950.0,\n",
       " 550.0,\n",
       " 550.0,\n",
       " 1950.0,\n",
       " 2250.0,\n",
       " 3300.0,\n",
       " 3150.0,\n",
       " 3750.0,\n",
       " 3750.0,\n",
       " 3150.0,\n",
       " 3450.0,\n",
       " 3300.0,\n",
       " 688.0,\n",
       " 995.0,\n",
       " 586.0,\n",
       " 784.0,\n",
       " 910.0,\n",
       " 829.0,\n",
       " 958.0,\n",
       " 1147.0,\n",
       " 550.0,\n",
       " 787.0,\n",
       " 1030.0,\n",
       " ...]"
      ]
     },
     "execution_count": 41,
     "metadata": {},
     "output_type": "execute_result"
    }
   ],
   "source": [
    "# создание списка с выручкой пользователей из регионов\n",
    "regions = df.query('city!=\"Москва\"')['revenue'].tolist()\n",
    "regions"
   ]
  },
  {
   "cell_type": "code",
   "execution_count": 42,
   "metadata": {},
   "outputs": [
    {
     "name": "stdout",
     "output_type": "stream",
     "text": [
      "p-значение:  0.5440152911670224\n",
      "Не получилось отвергнуть нулевую гипотезу\n"
     ]
    }
   ],
   "source": [
    "# проверка нулевой гипотезы\n",
    "alpha = .05 \n",
    "\n",
    "results = st.ttest_ind(\n",
    "    moscow, \n",
    "    regions)\n",
    "\n",
    "print('p-значение: ', results.pvalue)\n",
    "\n",
    "if results.pvalue < alpha:\n",
    "    print(\"Отвергаем нулевую гипотезу\")\n",
    "else:\n",
    "    print(\"Не получилось отвергнуть нулевую гипотезу\") "
   ]
  },
  {
   "cell_type": "markdown",
   "metadata": {},
   "source": [
    "Нулевая гипотеза не была отвергнута, а значит средняя выручка пользователей из Москвы не отличается от выручки пользователей из других регионов."
   ]
  },
  {
   "cell_type": "markdown",
   "metadata": {},
   "source": [
    "## Общий вывод"
   ]
  },
  {
   "cell_type": "markdown",
   "metadata": {},
   "source": [
    "Было проведено исследование информации о 500 пользователях \"Мегалайна\": кто они, откуда, каким тарифом пользуются, сколько звонков и сообщений каждый отправил за 2018 год. Данные хорошего качества, так как в них нет пропусков. За исключением столбца churn_date, но это не является ошибкой, поскольку пользователь еще пользовался тарифом на момент выгрузки данных. В распоряжении у нас было 5 таблиц с информацией о пользователях, звонках, сообщениях, интернет-сессиях и тарифах.\n",
    "\n",
    "В дальнейшем для удобства расчетов данные были соединены в одну таблицу. В ходе предобработке данных был изменен тип данных в столбцах с датами на datetime, а также произведено округление секунд до минут у длительности звонков и округление интернет-трафика до гигабайтов. Было посчитано для каждого пользователя: количество сделанных звонков и израсходованных минут разговора по месяцам, количество отправленных сообщений по месяцам, объем израсходованного интернет-трафика по месяцам, помесячная выручка с каждого пользователя.\n",
    "\n",
    "Были произведены рассчеты среднего количества, дисперсии и стандартного отклонения количества звонков, собщений и объема интернет трафика для пользователей каждого тарифа в месяц. Рассчеты показали, что и для тарифа \"смарт\" и для тарифа \"ультра\" имеется положительная тенденция к росту числа минут, сообщений и интернет-трафика в течение года. Среднее значение по всем трем параметрам выше в тарифк \"ультра\". При этом пользователи более дорого тарифа в среднем не тратят весь пакет услуг, в то время как пользователи \"смарта\" 10 месяцев подряд использовали больше сообщений, чем предполагает их тарифный план и 9 месяцев тратили больше интернета. Посчитанное стандартное отклонение говорит, что данные достаточно сильно разбросаны (например, в декабре для тарифа \"смарт\" стандартное отклонение количества минут составило 197,8, а для тарифа \"ультра\" - 328,6). Построенные гистограммы показали, что данные скошены вправо. Для скошенных вправо данных медиана будет меньше среднего,среднее «поедет» в ту сторону, где есть дополнительные значения. Гисограмма объема трафика более симметричная, т.е. стремится к нормальному распределению.\n",
    "\n",
    "Было выдвенуто и проверено две гипотезы. Первая гипотеза была отвергнута, альтернативная ей - \"средняя выручка пользователей тарифов «Ультра» и «Смарт» различается\". Вторая же гипотеза, наоборот, не была отвергнута, то есть средняя выручка пользователей из Москвы не отличается от выручки пользователей из других регионов."
   ]
  }
 ],
 "metadata": {
  "ExecuteTimeLog": [
   {
    "duration": 1071,
    "start_time": "2022-01-15T16:10:04.182Z"
   },
   {
    "duration": 495,
    "start_time": "2022-01-15T16:13:08.732Z"
   },
   {
    "duration": 233,
    "start_time": "2022-01-15T16:13:39.024Z"
   },
   {
    "duration": 19,
    "start_time": "2022-01-15T16:13:57.853Z"
   },
   {
    "duration": 826,
    "start_time": "2022-01-15T16:16:59.256Z"
   },
   {
    "duration": 18,
    "start_time": "2022-01-15T16:17:01.525Z"
   },
   {
    "duration": 17,
    "start_time": "2022-01-15T16:17:26.524Z"
   },
   {
    "duration": 13,
    "start_time": "2022-01-15T16:18:26.508Z"
   },
   {
    "duration": 12,
    "start_time": "2022-01-15T16:18:27.866Z"
   },
   {
    "duration": 508,
    "start_time": "2022-01-15T16:21:12.867Z"
   },
   {
    "duration": 10,
    "start_time": "2022-01-15T16:22:53.419Z"
   },
   {
    "duration": 513,
    "start_time": "2022-01-15T16:22:54.523Z"
   },
   {
    "duration": 11,
    "start_time": "2022-01-15T16:23:07.611Z"
   },
   {
    "duration": 9,
    "start_time": "2022-01-15T16:24:12.216Z"
   },
   {
    "duration": 8,
    "start_time": "2022-01-15T16:24:34.178Z"
   },
   {
    "duration": 10,
    "start_time": "2022-01-15T16:24:48.003Z"
   },
   {
    "duration": 9,
    "start_time": "2022-01-15T16:24:53.733Z"
   },
   {
    "duration": 143,
    "start_time": "2022-01-15T16:54:11.859Z"
   },
   {
    "duration": 139,
    "start_time": "2022-01-15T16:54:28.964Z"
   },
   {
    "duration": 1137,
    "start_time": "2022-01-15T17:00:12.429Z"
   },
   {
    "duration": 516,
    "start_time": "2022-01-15T17:00:13.568Z"
   },
   {
    "duration": 1166,
    "start_time": "2022-01-15T17:00:57.285Z"
   },
   {
    "duration": 508,
    "start_time": "2022-01-15T17:00:58.452Z"
   },
   {
    "duration": 17,
    "start_time": "2022-01-15T17:00:58.962Z"
   },
   {
    "duration": 12,
    "start_time": "2022-01-15T17:00:58.981Z"
   },
   {
    "duration": 13,
    "start_time": "2022-01-15T17:00:58.996Z"
   },
   {
    "duration": 8,
    "start_time": "2022-01-15T17:00:59.011Z"
   },
   {
    "duration": 12,
    "start_time": "2022-01-15T17:00:59.021Z"
   },
   {
    "duration": 6,
    "start_time": "2022-01-15T17:00:59.034Z"
   },
   {
    "duration": 3,
    "start_time": "2022-01-15T17:01:14.719Z"
   },
   {
    "duration": 514,
    "start_time": "2022-01-15T17:01:14.726Z"
   },
   {
    "duration": 14,
    "start_time": "2022-01-15T17:01:15.242Z"
   },
   {
    "duration": 13,
    "start_time": "2022-01-15T17:01:15.258Z"
   },
   {
    "duration": 9,
    "start_time": "2022-01-15T17:01:15.273Z"
   },
   {
    "duration": 8,
    "start_time": "2022-01-15T17:01:15.283Z"
   },
   {
    "duration": 12,
    "start_time": "2022-01-15T17:01:15.292Z"
   },
   {
    "duration": 2,
    "start_time": "2022-01-15T17:01:15.306Z"
   },
   {
    "duration": 242,
    "start_time": "2022-01-15T17:07:04.769Z"
   },
   {
    "duration": 162,
    "start_time": "2022-01-15T17:12:24.663Z"
   },
   {
    "duration": 194,
    "start_time": "2022-01-15T17:15:04.129Z"
   },
   {
    "duration": 84,
    "start_time": "2022-01-15T17:15:21.945Z"
   },
   {
    "duration": 19,
    "start_time": "2022-01-15T17:15:30.283Z"
   },
   {
    "duration": 133,
    "start_time": "2022-01-15T18:16:52.915Z"
   },
   {
    "duration": 33,
    "start_time": "2022-01-15T18:17:25.499Z"
   },
   {
    "duration": 12,
    "start_time": "2022-01-15T18:17:27.844Z"
   },
   {
    "duration": 1036,
    "start_time": "2022-01-15T18:22:15.412Z"
   },
   {
    "duration": 465,
    "start_time": "2022-01-15T18:22:16.954Z"
   },
   {
    "duration": 1084,
    "start_time": "2022-01-15T18:22:39.150Z"
   },
   {
    "duration": 492,
    "start_time": "2022-01-15T18:22:40.236Z"
   },
   {
    "duration": 235,
    "start_time": "2022-01-15T18:24:10.222Z"
   },
   {
    "duration": 150,
    "start_time": "2022-01-15T18:24:45.400Z"
   },
   {
    "duration": 136,
    "start_time": "2022-01-15T18:26:37.699Z"
   },
   {
    "duration": 136,
    "start_time": "2022-01-15T18:26:55.572Z"
   },
   {
    "duration": 135,
    "start_time": "2022-01-15T18:27:19.460Z"
   },
   {
    "duration": 38,
    "start_time": "2022-01-15T18:27:45.383Z"
   },
   {
    "duration": 15,
    "start_time": "2022-01-15T18:27:48.988Z"
   },
   {
    "duration": 83,
    "start_time": "2022-01-15T18:28:10.257Z"
   },
   {
    "duration": 13,
    "start_time": "2022-01-15T18:28:13.358Z"
   },
   {
    "duration": 74,
    "start_time": "2022-01-15T18:29:17.540Z"
   },
   {
    "duration": 21,
    "start_time": "2022-01-15T18:29:18.185Z"
   },
   {
    "duration": 212,
    "start_time": "2022-01-15T18:30:09.261Z"
   },
   {
    "duration": 23,
    "start_time": "2022-01-15T18:30:10.761Z"
   },
   {
    "duration": 3232,
    "start_time": "2022-01-15T18:32:45.451Z"
   },
   {
    "duration": 1005,
    "start_time": "2022-01-15T18:34:35.847Z"
   },
   {
    "duration": 477,
    "start_time": "2022-01-15T18:34:36.854Z"
   },
   {
    "duration": 50,
    "start_time": "2022-01-15T18:38:46.498Z"
   },
   {
    "duration": 179,
    "start_time": "2022-01-15T18:38:51.363Z"
   },
   {
    "duration": 1172,
    "start_time": "2022-01-15T18:38:58.092Z"
   },
   {
    "duration": 483,
    "start_time": "2022-01-15T18:38:59.265Z"
   },
   {
    "duration": 197,
    "start_time": "2022-01-15T18:39:04.723Z"
   },
   {
    "duration": 166,
    "start_time": "2022-01-15T18:42:50.449Z"
   },
   {
    "duration": 166,
    "start_time": "2022-01-15T19:08:24.223Z"
   },
   {
    "duration": 1112,
    "start_time": "2022-01-15T19:08:29.279Z"
   },
   {
    "duration": 543,
    "start_time": "2022-01-15T19:08:30.393Z"
   },
   {
    "duration": 198,
    "start_time": "2022-01-15T19:08:33.581Z"
   },
   {
    "duration": 14,
    "start_time": "2022-01-15T19:08:39.996Z"
   },
   {
    "duration": 195,
    "start_time": "2022-01-15T19:09:35.231Z"
   },
   {
    "duration": 38,
    "start_time": "2022-01-15T19:13:57.205Z"
   },
   {
    "duration": 21,
    "start_time": "2022-01-15T19:14:35.478Z"
   },
   {
    "duration": 29,
    "start_time": "2022-01-15T19:15:29.805Z"
   },
   {
    "duration": 24,
    "start_time": "2022-01-15T19:16:50.878Z"
   },
   {
    "duration": 8,
    "start_time": "2022-01-15T19:17:57.782Z"
   },
   {
    "duration": 8,
    "start_time": "2022-01-15T19:18:17.124Z"
   },
   {
    "duration": 15,
    "start_time": "2022-01-15T19:19:53.341Z"
   },
   {
    "duration": 9,
    "start_time": "2022-01-15T19:22:19.706Z"
   },
   {
    "duration": 7,
    "start_time": "2022-01-15T19:22:51.764Z"
   },
   {
    "duration": 21,
    "start_time": "2022-01-15T19:23:40.989Z"
   },
   {
    "duration": 16,
    "start_time": "2022-01-15T19:24:40.393Z"
   },
   {
    "duration": 272,
    "start_time": "2022-01-15T19:42:09.305Z"
   },
   {
    "duration": 5,
    "start_time": "2022-01-15T19:42:32.617Z"
   },
   {
    "duration": 7,
    "start_time": "2022-01-15T19:43:44.881Z"
   },
   {
    "duration": 6,
    "start_time": "2022-01-15T19:44:06.673Z"
   },
   {
    "duration": 6,
    "start_time": "2022-01-15T19:44:15.361Z"
   },
   {
    "duration": 28,
    "start_time": "2022-01-16T08:32:49.474Z"
   },
   {
    "duration": 9,
    "start_time": "2022-01-16T08:33:13.455Z"
   },
   {
    "duration": 20,
    "start_time": "2022-01-16T08:35:45.482Z"
   },
   {
    "duration": 22,
    "start_time": "2022-01-16T08:48:05.469Z"
   },
   {
    "duration": 9,
    "start_time": "2022-01-16T08:54:07.973Z"
   },
   {
    "duration": 8,
    "start_time": "2022-01-16T08:57:19.300Z"
   },
   {
    "duration": 30,
    "start_time": "2022-01-16T08:58:20.689Z"
   },
   {
    "duration": 24,
    "start_time": "2022-01-16T09:00:42.177Z"
   },
   {
    "duration": 6,
    "start_time": "2022-01-16T09:03:54.136Z"
   },
   {
    "duration": 5,
    "start_time": "2022-01-16T09:04:04.350Z"
   },
   {
    "duration": 132,
    "start_time": "2022-01-16T09:05:20.150Z"
   },
   {
    "duration": 4,
    "start_time": "2022-01-16T09:05:35.078Z"
   },
   {
    "duration": 4,
    "start_time": "2022-01-16T09:05:51.935Z"
   },
   {
    "duration": 3808,
    "start_time": "2022-01-16T09:06:17.736Z"
   },
   {
    "duration": 4,
    "start_time": "2022-01-16T09:06:41.117Z"
   },
   {
    "duration": 6,
    "start_time": "2022-01-16T09:06:51.649Z"
   },
   {
    "duration": 5,
    "start_time": "2022-01-16T09:07:08.320Z"
   },
   {
    "duration": 6,
    "start_time": "2022-01-16T09:07:46.893Z"
   },
   {
    "duration": 7,
    "start_time": "2022-01-16T09:08:02.246Z"
   },
   {
    "duration": 62,
    "start_time": "2022-01-16T09:08:20.901Z"
   },
   {
    "duration": 9,
    "start_time": "2022-01-16T09:10:42.092Z"
   },
   {
    "duration": 90,
    "start_time": "2022-01-16T09:12:44.884Z"
   },
   {
    "duration": 59,
    "start_time": "2022-01-16T09:12:53.395Z"
   },
   {
    "duration": 8,
    "start_time": "2022-01-16T09:12:59.388Z"
   },
   {
    "duration": 39,
    "start_time": "2022-01-16T09:13:09.057Z"
   },
   {
    "duration": 23,
    "start_time": "2022-01-16T09:13:42.890Z"
   },
   {
    "duration": 36,
    "start_time": "2022-01-16T09:17:30.443Z"
   },
   {
    "duration": 47,
    "start_time": "2022-01-16T09:19:37.206Z"
   },
   {
    "duration": 43,
    "start_time": "2022-01-16T09:23:13.726Z"
   },
   {
    "duration": 32,
    "start_time": "2022-01-16T09:23:26.526Z"
   },
   {
    "duration": 167,
    "start_time": "2022-01-16T09:29:06.678Z"
   },
   {
    "duration": 27,
    "start_time": "2022-01-16T09:30:07.542Z"
   },
   {
    "duration": 34,
    "start_time": "2022-01-16T09:30:25.396Z"
   },
   {
    "duration": 525,
    "start_time": "2022-01-16T09:31:42.943Z"
   },
   {
    "duration": 28,
    "start_time": "2022-01-16T09:32:20.068Z"
   },
   {
    "duration": 36,
    "start_time": "2022-01-16T09:32:30.770Z"
   },
   {
    "duration": 3,
    "start_time": "2022-01-16T15:14:07.111Z"
   },
   {
    "duration": 133,
    "start_time": "2022-01-16T15:15:48.415Z"
   },
   {
    "duration": 155,
    "start_time": "2022-01-16T15:17:02.277Z"
   },
   {
    "duration": 134,
    "start_time": "2022-01-16T15:30:39.407Z"
   },
   {
    "duration": 2,
    "start_time": "2022-01-16T15:31:37.150Z"
   },
   {
    "duration": 4,
    "start_time": "2022-01-16T15:31:54.652Z"
   },
   {
    "duration": 9,
    "start_time": "2022-01-16T15:32:16.139Z"
   },
   {
    "duration": 15,
    "start_time": "2022-01-16T15:33:17.006Z"
   },
   {
    "duration": 5,
    "start_time": "2022-01-16T15:33:50.543Z"
   },
   {
    "duration": 9,
    "start_time": "2022-01-16T15:33:56.112Z"
   },
   {
    "duration": 20,
    "start_time": "2022-01-16T15:33:57.839Z"
   },
   {
    "duration": 6,
    "start_time": "2022-01-16T15:37:07.997Z"
   },
   {
    "duration": 146,
    "start_time": "2022-01-16T15:37:54.522Z"
   },
   {
    "duration": 29,
    "start_time": "2022-01-16T15:41:05.667Z"
   },
   {
    "duration": 35,
    "start_time": "2022-01-16T15:43:03.319Z"
   },
   {
    "duration": 38,
    "start_time": "2022-01-16T15:43:57.058Z"
   },
   {
    "duration": 176,
    "start_time": "2022-01-16T15:49:09.457Z"
   },
   {
    "duration": 36,
    "start_time": "2022-01-16T15:49:19.281Z"
   },
   {
    "duration": 136,
    "start_time": "2022-01-16T15:54:30.736Z"
   },
   {
    "duration": 172,
    "start_time": "2022-01-16T15:54:44.989Z"
   },
   {
    "duration": 47,
    "start_time": "2022-01-16T15:55:03.263Z"
   },
   {
    "duration": 1118,
    "start_time": "2022-01-16T15:56:36.552Z"
   },
   {
    "duration": 495,
    "start_time": "2022-01-16T15:56:37.672Z"
   },
   {
    "duration": 13,
    "start_time": "2022-01-16T15:56:38.169Z"
   },
   {
    "duration": 21,
    "start_time": "2022-01-16T15:56:38.184Z"
   },
   {
    "duration": 8,
    "start_time": "2022-01-16T15:56:38.207Z"
   },
   {
    "duration": 18,
    "start_time": "2022-01-16T15:56:38.217Z"
   },
   {
    "duration": 10,
    "start_time": "2022-01-16T15:56:38.236Z"
   },
   {
    "duration": 48,
    "start_time": "2022-01-16T15:56:38.248Z"
   },
   {
    "duration": 8,
    "start_time": "2022-01-16T15:56:38.300Z"
   },
   {
    "duration": 6,
    "start_time": "2022-01-16T15:56:38.311Z"
   },
   {
    "duration": 11,
    "start_time": "2022-01-16T15:56:38.319Z"
   },
   {
    "duration": 7,
    "start_time": "2022-01-16T15:56:38.332Z"
   },
   {
    "duration": 69,
    "start_time": "2022-01-16T15:56:38.340Z"
   },
   {
    "duration": 21,
    "start_time": "2022-01-16T15:56:38.411Z"
   },
   {
    "duration": 25,
    "start_time": "2022-01-16T15:56:38.433Z"
   },
   {
    "duration": 32,
    "start_time": "2022-01-16T15:56:38.460Z"
   },
   {
    "duration": 8,
    "start_time": "2022-01-16T15:56:38.494Z"
   },
   {
    "duration": 43,
    "start_time": "2022-01-16T15:56:38.505Z"
   },
   {
    "duration": 69,
    "start_time": "2022-01-16T15:56:38.549Z"
   },
   {
    "duration": 53,
    "start_time": "2022-01-16T15:56:38.619Z"
   },
   {
    "duration": 1117,
    "start_time": "2022-01-16T15:57:26.210Z"
   },
   {
    "duration": 485,
    "start_time": "2022-01-16T15:57:27.330Z"
   },
   {
    "duration": 11,
    "start_time": "2022-01-16T15:57:27.817Z"
   },
   {
    "duration": 22,
    "start_time": "2022-01-16T15:57:27.830Z"
   },
   {
    "duration": 8,
    "start_time": "2022-01-16T15:57:27.854Z"
   },
   {
    "duration": 20,
    "start_time": "2022-01-16T15:57:27.864Z"
   },
   {
    "duration": 10,
    "start_time": "2022-01-16T15:57:27.886Z"
   },
   {
    "duration": 19,
    "start_time": "2022-01-16T15:57:27.897Z"
   },
   {
    "duration": 7,
    "start_time": "2022-01-16T15:57:27.919Z"
   },
   {
    "duration": 8,
    "start_time": "2022-01-16T15:57:27.928Z"
   },
   {
    "duration": 11,
    "start_time": "2022-01-16T15:57:27.937Z"
   },
   {
    "duration": 7,
    "start_time": "2022-01-16T15:57:27.949Z"
   },
   {
    "duration": 68,
    "start_time": "2022-01-16T15:57:27.958Z"
   },
   {
    "duration": 22,
    "start_time": "2022-01-16T15:57:28.028Z"
   },
   {
    "duration": 46,
    "start_time": "2022-01-16T15:57:28.052Z"
   },
   {
    "duration": 9,
    "start_time": "2022-01-16T15:57:28.100Z"
   },
   {
    "duration": 8,
    "start_time": "2022-01-16T15:57:28.111Z"
   },
   {
    "duration": 36,
    "start_time": "2022-01-16T15:57:28.120Z"
   },
   {
    "duration": 67,
    "start_time": "2022-01-16T15:57:28.158Z"
   },
   {
    "duration": 69,
    "start_time": "2022-01-16T15:57:28.227Z"
   },
   {
    "duration": 4,
    "start_time": "2022-01-16T15:57:28.298Z"
   },
   {
    "duration": 8,
    "start_time": "2022-01-16T15:57:28.304Z"
   },
   {
    "duration": 5,
    "start_time": "2022-01-16T15:57:28.314Z"
   },
   {
    "duration": 4,
    "start_time": "2022-01-16T15:57:28.321Z"
   },
   {
    "duration": 4,
    "start_time": "2022-01-16T15:57:28.327Z"
   },
   {
    "duration": 4,
    "start_time": "2022-01-16T15:57:28.333Z"
   },
   {
    "duration": 233,
    "start_time": "2022-01-16T15:59:16.538Z"
   },
   {
    "duration": 22,
    "start_time": "2022-01-16T15:59:22.227Z"
   },
   {
    "duration": 13,
    "start_time": "2022-01-16T18:27:46.942Z"
   },
   {
    "duration": 15,
    "start_time": "2022-01-16T18:28:39.473Z"
   },
   {
    "duration": 10,
    "start_time": "2022-01-16T18:28:46.881Z"
   },
   {
    "duration": 14,
    "start_time": "2022-01-16T18:29:16.476Z"
   },
   {
    "duration": 14,
    "start_time": "2022-01-16T18:29:18.704Z"
   },
   {
    "duration": 9,
    "start_time": "2022-01-16T18:33:23.951Z"
   },
   {
    "duration": 9,
    "start_time": "2022-01-16T18:33:47.806Z"
   },
   {
    "duration": 12,
    "start_time": "2022-01-16T18:34:04.879Z"
   },
   {
    "duration": 11,
    "start_time": "2022-01-16T18:34:17.895Z"
   },
   {
    "duration": 14,
    "start_time": "2022-01-16T18:34:30.551Z"
   },
   {
    "duration": 10,
    "start_time": "2022-01-16T18:34:59.934Z"
   },
   {
    "duration": 50,
    "start_time": "2022-01-16T18:36:10.215Z"
   },
   {
    "duration": 9,
    "start_time": "2022-01-16T18:37:55.254Z"
   },
   {
    "duration": 14,
    "start_time": "2022-01-16T18:38:03.044Z"
   },
   {
    "duration": 21,
    "start_time": "2022-01-16T18:39:13.044Z"
   },
   {
    "duration": 49,
    "start_time": "2022-01-16T18:44:42.431Z"
   },
   {
    "duration": 151,
    "start_time": "2022-01-16T18:46:01.303Z"
   },
   {
    "duration": 496,
    "start_time": "2022-01-16T18:46:53.195Z"
   },
   {
    "duration": 32,
    "start_time": "2022-01-16T18:47:06.507Z"
   },
   {
    "duration": 20,
    "start_time": "2022-01-16T18:47:07.161Z"
   },
   {
    "duration": 25,
    "start_time": "2022-01-16T18:47:07.742Z"
   },
   {
    "duration": 9,
    "start_time": "2022-01-16T18:47:09.841Z"
   },
   {
    "duration": 6,
    "start_time": "2022-01-16T18:47:12.377Z"
   },
   {
    "duration": 49,
    "start_time": "2022-01-16T18:47:13.001Z"
   },
   {
    "duration": 37,
    "start_time": "2022-01-16T18:47:13.642Z"
   },
   {
    "duration": 45,
    "start_time": "2022-01-16T18:47:18.497Z"
   },
   {
    "duration": 496,
    "start_time": "2022-01-16T18:47:39.273Z"
   },
   {
    "duration": 35,
    "start_time": "2022-01-16T18:47:44.184Z"
   },
   {
    "duration": 21,
    "start_time": "2022-01-16T18:47:44.816Z"
   },
   {
    "duration": 25,
    "start_time": "2022-01-16T18:47:45.385Z"
   },
   {
    "duration": 9,
    "start_time": "2022-01-16T18:47:45.953Z"
   },
   {
    "duration": 5,
    "start_time": "2022-01-16T18:47:49.281Z"
   },
   {
    "duration": 49,
    "start_time": "2022-01-16T18:47:49.896Z"
   },
   {
    "duration": 35,
    "start_time": "2022-01-16T18:47:50.497Z"
   },
   {
    "duration": 42,
    "start_time": "2022-01-16T18:47:53.169Z"
   },
   {
    "duration": 26,
    "start_time": "2022-01-16T18:47:55.387Z"
   },
   {
    "duration": 26,
    "start_time": "2022-01-16T18:50:32.929Z"
   },
   {
    "duration": 3,
    "start_time": "2022-01-16T19:23:27.107Z"
   },
   {
    "duration": 12,
    "start_time": "2022-01-16T19:25:07.057Z"
   },
   {
    "duration": 14,
    "start_time": "2022-01-16T19:25:30.721Z"
   },
   {
    "duration": 9,
    "start_time": "2022-01-16T19:25:56.489Z"
   },
   {
    "duration": 13,
    "start_time": "2022-01-16T19:25:57.281Z"
   },
   {
    "duration": 25,
    "start_time": "2022-01-16T19:31:53.656Z"
   },
   {
    "duration": 6,
    "start_time": "2022-01-16T19:36:57.004Z"
   },
   {
    "duration": 459,
    "start_time": "2022-01-17T12:00:53.890Z"
   },
   {
    "duration": 1629,
    "start_time": "2022-01-17T12:01:03.573Z"
   },
   {
    "duration": 891,
    "start_time": "2022-01-17T12:01:05.204Z"
   },
   {
    "duration": 18,
    "start_time": "2022-01-17T12:01:06.099Z"
   },
   {
    "duration": 44,
    "start_time": "2022-01-17T12:01:06.121Z"
   },
   {
    "duration": 17,
    "start_time": "2022-01-17T12:01:06.169Z"
   },
   {
    "duration": 58,
    "start_time": "2022-01-17T12:01:06.189Z"
   },
   {
    "duration": 17,
    "start_time": "2022-01-17T12:01:06.250Z"
   },
   {
    "duration": 19,
    "start_time": "2022-01-17T12:01:06.271Z"
   },
   {
    "duration": 38,
    "start_time": "2022-01-17T12:01:06.294Z"
   },
   {
    "duration": 18,
    "start_time": "2022-01-17T12:01:06.334Z"
   },
   {
    "duration": 29,
    "start_time": "2022-01-17T12:01:06.355Z"
   },
   {
    "duration": 36,
    "start_time": "2022-01-17T12:01:06.387Z"
   },
   {
    "duration": 51,
    "start_time": "2022-01-17T12:01:06.426Z"
   },
   {
    "duration": 57,
    "start_time": "2022-01-17T12:01:06.480Z"
   },
   {
    "duration": 36,
    "start_time": "2022-01-17T12:01:06.539Z"
   },
   {
    "duration": 58,
    "start_time": "2022-01-17T12:01:06.578Z"
   },
   {
    "duration": 19,
    "start_time": "2022-01-17T12:01:06.639Z"
   },
   {
    "duration": 91,
    "start_time": "2022-01-17T12:01:06.661Z"
   },
   {
    "duration": 69,
    "start_time": "2022-01-17T12:01:06.755Z"
   },
   {
    "duration": 67,
    "start_time": "2022-01-17T12:01:06.826Z"
   },
   {
    "duration": 52,
    "start_time": "2022-01-17T12:01:06.896Z"
   },
   {
    "duration": 14,
    "start_time": "2022-01-17T12:01:06.951Z"
   },
   {
    "duration": 49,
    "start_time": "2022-01-17T12:01:06.970Z"
   },
   {
    "duration": 53,
    "start_time": "2022-01-17T12:01:07.022Z"
   },
   {
    "duration": 4,
    "start_time": "2022-01-17T12:01:07.077Z"
   },
   {
    "duration": 19,
    "start_time": "2022-01-17T12:01:07.084Z"
   },
   {
    "duration": 12,
    "start_time": "2022-01-17T12:01:07.106Z"
   },
   {
    "duration": 14,
    "start_time": "2022-01-17T12:01:07.121Z"
   },
   {
    "duration": 24,
    "start_time": "2022-01-17T12:01:07.138Z"
   },
   {
    "duration": 56,
    "start_time": "2022-01-17T12:03:16.803Z"
   },
   {
    "duration": 424,
    "start_time": "2022-01-17T12:04:11.403Z"
   },
   {
    "duration": 108,
    "start_time": "2022-01-17T12:06:01.033Z"
   },
   {
    "duration": 95,
    "start_time": "2022-01-17T12:07:45.697Z"
   },
   {
    "duration": 59,
    "start_time": "2022-01-17T12:08:48.266Z"
   },
   {
    "duration": 161,
    "start_time": "2022-01-17T12:10:14.321Z"
   },
   {
    "duration": 187,
    "start_time": "2022-01-17T12:10:32.361Z"
   },
   {
    "duration": 59,
    "start_time": "2022-01-17T12:11:13.663Z"
   },
   {
    "duration": 39,
    "start_time": "2022-01-17T12:16:41.989Z"
   },
   {
    "duration": 85,
    "start_time": "2022-01-17T12:18:07.077Z"
   },
   {
    "duration": 89,
    "start_time": "2022-01-17T12:19:35.294Z"
   },
   {
    "duration": 29,
    "start_time": "2022-01-17T12:21:49.315Z"
   },
   {
    "duration": 162,
    "start_time": "2022-01-17T12:22:07.763Z"
   },
   {
    "duration": 39,
    "start_time": "2022-01-17T12:22:14.538Z"
   },
   {
    "duration": 42,
    "start_time": "2022-01-17T12:22:40.875Z"
   },
   {
    "duration": 67,
    "start_time": "2022-01-17T12:23:22.580Z"
   },
   {
    "duration": 8,
    "start_time": "2022-01-17T12:38:03.501Z"
   },
   {
    "duration": 9,
    "start_time": "2022-01-17T12:38:40.365Z"
   },
   {
    "duration": 6,
    "start_time": "2022-01-17T12:39:10.153Z"
   },
   {
    "duration": 7,
    "start_time": "2022-01-17T12:40:11.012Z"
   },
   {
    "duration": 17,
    "start_time": "2022-01-17T14:42:24.842Z"
   },
   {
    "duration": 27,
    "start_time": "2022-01-17T14:42:26.125Z"
   },
   {
    "duration": 46,
    "start_time": "2022-01-17T14:44:22.661Z"
   },
   {
    "duration": 38,
    "start_time": "2022-01-17T14:44:34.061Z"
   },
   {
    "duration": 63,
    "start_time": "2022-01-17T14:44:54.980Z"
   },
   {
    "duration": 12,
    "start_time": "2022-01-17T14:45:15.253Z"
   },
   {
    "duration": 61,
    "start_time": "2022-01-17T14:45:17.980Z"
   },
   {
    "duration": 7,
    "start_time": "2022-01-17T14:54:50.269Z"
   },
   {
    "duration": 563,
    "start_time": "2022-01-17T14:55:52.587Z"
   },
   {
    "duration": 520,
    "start_time": "2022-01-17T14:56:48.705Z"
   },
   {
    "duration": 542,
    "start_time": "2022-01-17T14:57:01.801Z"
   },
   {
    "duration": 91,
    "start_time": "2022-01-17T14:59:45.896Z"
   },
   {
    "duration": 1000,
    "start_time": "2022-01-17T15:03:16.648Z"
   },
   {
    "duration": 675,
    "start_time": "2022-01-17T15:04:38.462Z"
   },
   {
    "duration": 232,
    "start_time": "2022-01-17T15:07:26.581Z"
   },
   {
    "duration": 7,
    "start_time": "2022-01-17T15:08:04.085Z"
   },
   {
    "duration": 7912,
    "start_time": "2022-01-17T15:08:54.035Z"
   },
   {
    "duration": 959,
    "start_time": "2022-01-17T15:09:49.595Z"
   },
   {
    "duration": 6,
    "start_time": "2022-01-17T15:11:43.074Z"
   },
   {
    "duration": 292,
    "start_time": "2022-01-17T15:17:28.465Z"
   },
   {
    "duration": 245,
    "start_time": "2022-01-17T15:17:56.913Z"
   },
   {
    "duration": 5,
    "start_time": "2022-01-17T15:17:57.472Z"
   },
   {
    "duration": 690,
    "start_time": "2022-01-17T15:17:58.118Z"
   },
   {
    "duration": 6,
    "start_time": "2022-01-17T15:21:33.105Z"
   },
   {
    "duration": 320,
    "start_time": "2022-01-18T18:32:20.590Z"
   },
   {
    "duration": 1075,
    "start_time": "2022-01-18T18:32:30.637Z"
   },
   {
    "duration": 563,
    "start_time": "2022-01-18T18:32:31.714Z"
   },
   {
    "duration": 10,
    "start_time": "2022-01-18T18:32:32.280Z"
   },
   {
    "duration": 18,
    "start_time": "2022-01-18T18:32:32.292Z"
   },
   {
    "duration": 8,
    "start_time": "2022-01-18T18:32:32.312Z"
   },
   {
    "duration": 16,
    "start_time": "2022-01-18T18:32:32.321Z"
   },
   {
    "duration": 34,
    "start_time": "2022-01-18T18:32:32.338Z"
   },
   {
    "duration": 12,
    "start_time": "2022-01-18T18:32:32.375Z"
   },
   {
    "duration": 7,
    "start_time": "2022-01-18T18:32:32.389Z"
   },
   {
    "duration": 5,
    "start_time": "2022-01-18T18:32:32.398Z"
   },
   {
    "duration": 9,
    "start_time": "2022-01-18T18:32:32.405Z"
   },
   {
    "duration": 6,
    "start_time": "2022-01-18T18:32:32.416Z"
   },
   {
    "duration": 60,
    "start_time": "2022-01-18T18:32:32.423Z"
   },
   {
    "duration": 19,
    "start_time": "2022-01-18T18:32:32.485Z"
   },
   {
    "duration": 23,
    "start_time": "2022-01-18T18:32:32.505Z"
   },
   {
    "duration": 8,
    "start_time": "2022-01-18T18:32:32.529Z"
   },
   {
    "duration": 40,
    "start_time": "2022-01-18T18:32:32.538Z"
   },
   {
    "duration": 51,
    "start_time": "2022-01-18T18:32:32.580Z"
   },
   {
    "duration": 45,
    "start_time": "2022-01-18T18:32:32.632Z"
   },
   {
    "duration": 39,
    "start_time": "2022-01-18T18:32:32.678Z"
   },
   {
    "duration": 32,
    "start_time": "2022-01-18T18:32:32.718Z"
   },
   {
    "duration": 26,
    "start_time": "2022-01-18T18:32:32.751Z"
   },
   {
    "duration": 10,
    "start_time": "2022-01-18T18:32:32.779Z"
   },
   {
    "duration": 34,
    "start_time": "2022-01-18T18:32:32.791Z"
   },
   {
    "duration": 305,
    "start_time": "2022-01-18T18:32:32.826Z"
   },
   {
    "duration": 98,
    "start_time": "2022-01-18T18:32:33.035Z"
   },
   {
    "duration": 96,
    "start_time": "2022-01-18T18:32:33.038Z"
   },
   {
    "duration": 95,
    "start_time": "2022-01-18T18:32:33.040Z"
   },
   {
    "duration": 95,
    "start_time": "2022-01-18T18:32:33.042Z"
   },
   {
    "duration": 95,
    "start_time": "2022-01-18T18:32:33.043Z"
   },
   {
    "duration": 134,
    "start_time": "2022-01-18T18:33:04.528Z"
   },
   {
    "duration": 5,
    "start_time": "2022-01-18T18:33:07.358Z"
   },
   {
    "duration": 22,
    "start_time": "2022-01-18T18:33:13.524Z"
   },
   {
    "duration": 269,
    "start_time": "2022-01-18T18:34:38.320Z"
   },
   {
    "duration": 20,
    "start_time": "2022-01-18T18:35:02.018Z"
   },
   {
    "duration": 14,
    "start_time": "2022-01-18T18:35:29.101Z"
   },
   {
    "duration": 4,
    "start_time": "2022-01-18T18:39:37.215Z"
   },
   {
    "duration": 6,
    "start_time": "2022-01-18T18:40:26.070Z"
   },
   {
    "duration": 16,
    "start_time": "2022-01-18T18:40:39.035Z"
   },
   {
    "duration": 3,
    "start_time": "2022-01-18T18:41:20.095Z"
   },
   {
    "duration": 5,
    "start_time": "2022-01-18T18:41:31.538Z"
   },
   {
    "duration": 17,
    "start_time": "2022-01-18T18:44:52.723Z"
   },
   {
    "duration": 10,
    "start_time": "2022-01-18T18:47:33.317Z"
   },
   {
    "duration": 269,
    "start_time": "2022-01-18T18:48:00.207Z"
   },
   {
    "duration": 8,
    "start_time": "2022-01-18T18:48:20.463Z"
   },
   {
    "duration": 12,
    "start_time": "2022-01-18T18:49:16.917Z"
   },
   {
    "duration": 12,
    "start_time": "2022-01-18T18:49:54.923Z"
   },
   {
    "duration": 4,
    "start_time": "2022-01-18T18:54:13.069Z"
   },
   {
    "duration": 450,
    "start_time": "2022-01-18T18:55:44.485Z"
   },
   {
    "duration": 15,
    "start_time": "2022-01-18T18:57:36.581Z"
   },
   {
    "duration": 27,
    "start_time": "2022-01-18T18:58:16.434Z"
   },
   {
    "duration": 10,
    "start_time": "2022-01-18T18:59:09.520Z"
   },
   {
    "duration": 5,
    "start_time": "2022-01-18T19:00:17.046Z"
   },
   {
    "duration": 3,
    "start_time": "2022-01-18T19:00:32.607Z"
   },
   {
    "duration": 5,
    "start_time": "2022-01-18T19:02:22.533Z"
   },
   {
    "duration": 8,
    "start_time": "2022-01-18T19:03:02.561Z"
   },
   {
    "duration": 13,
    "start_time": "2022-01-18T19:03:18.836Z"
   },
   {
    "duration": 13,
    "start_time": "2022-01-18T19:04:21.270Z"
   },
   {
    "duration": 30,
    "start_time": "2022-01-18T19:08:23.300Z"
   },
   {
    "duration": 166,
    "start_time": "2022-01-18T19:32:57.257Z"
   },
   {
    "duration": 198,
    "start_time": "2022-01-18T19:33:20.982Z"
   },
   {
    "duration": 177,
    "start_time": "2022-01-18T19:33:52.298Z"
   },
   {
    "duration": 188,
    "start_time": "2022-01-18T19:34:06.326Z"
   },
   {
    "duration": 165,
    "start_time": "2022-01-18T19:34:17.180Z"
   },
   {
    "duration": 192,
    "start_time": "2022-01-18T19:34:27.579Z"
   },
   {
    "duration": 235,
    "start_time": "2022-01-18T19:34:41.323Z"
   },
   {
    "duration": 326,
    "start_time": "2022-01-18T19:36:42.729Z"
   },
   {
    "duration": 550,
    "start_time": "2022-01-18T19:37:54.224Z"
   },
   {
    "duration": 400,
    "start_time": "2022-01-18T19:38:41.794Z"
   },
   {
    "duration": 404,
    "start_time": "2022-01-18T19:39:55.571Z"
   },
   {
    "duration": 277,
    "start_time": "2022-01-18T19:40:54.684Z"
   },
   {
    "duration": 23,
    "start_time": "2022-01-18T19:41:23.494Z"
   },
   {
    "duration": 406,
    "start_time": "2022-01-18T19:42:47.425Z"
   },
   {
    "duration": 167,
    "start_time": "2022-01-18T19:44:44.748Z"
   },
   {
    "duration": 183,
    "start_time": "2022-01-18T19:45:14.938Z"
   },
   {
    "duration": 239,
    "start_time": "2022-01-18T19:49:58.092Z"
   },
   {
    "duration": 167,
    "start_time": "2022-01-18T19:50:08.996Z"
   },
   {
    "duration": 178,
    "start_time": "2022-01-18T19:54:33.869Z"
   },
   {
    "duration": 185,
    "start_time": "2022-01-18T19:55:03.172Z"
   },
   {
    "duration": 188,
    "start_time": "2022-01-18T19:55:17.128Z"
   },
   {
    "duration": 1181,
    "start_time": "2022-01-19T15:46:05.061Z"
   },
   {
    "duration": 559,
    "start_time": "2022-01-19T15:46:06.244Z"
   },
   {
    "duration": 11,
    "start_time": "2022-01-19T15:46:06.805Z"
   },
   {
    "duration": 26,
    "start_time": "2022-01-19T15:46:06.818Z"
   },
   {
    "duration": 8,
    "start_time": "2022-01-19T15:46:06.845Z"
   },
   {
    "duration": 22,
    "start_time": "2022-01-19T15:46:06.855Z"
   },
   {
    "duration": 26,
    "start_time": "2022-01-19T15:46:06.878Z"
   },
   {
    "duration": 15,
    "start_time": "2022-01-19T15:46:06.906Z"
   },
   {
    "duration": 9,
    "start_time": "2022-01-19T15:46:06.924Z"
   },
   {
    "duration": 11,
    "start_time": "2022-01-19T15:46:06.936Z"
   },
   {
    "duration": 13,
    "start_time": "2022-01-19T15:46:06.949Z"
   },
   {
    "duration": 5,
    "start_time": "2022-01-19T15:46:06.964Z"
   },
   {
    "duration": 62,
    "start_time": "2022-01-19T15:46:06.971Z"
   },
   {
    "duration": 23,
    "start_time": "2022-01-19T15:46:07.034Z"
   },
   {
    "duration": 53,
    "start_time": "2022-01-19T15:46:07.059Z"
   },
   {
    "duration": 9,
    "start_time": "2022-01-19T15:46:07.114Z"
   },
   {
    "duration": 10,
    "start_time": "2022-01-19T15:46:07.125Z"
   },
   {
    "duration": 72,
    "start_time": "2022-01-19T15:46:07.137Z"
   },
   {
    "duration": 42,
    "start_time": "2022-01-19T15:46:07.211Z"
   },
   {
    "duration": 57,
    "start_time": "2022-01-19T15:46:07.255Z"
   },
   {
    "duration": 32,
    "start_time": "2022-01-19T15:46:07.314Z"
   },
   {
    "duration": 7,
    "start_time": "2022-01-19T15:46:07.348Z"
   },
   {
    "duration": 16,
    "start_time": "2022-01-19T15:46:07.357Z"
   },
   {
    "duration": 58,
    "start_time": "2022-01-19T15:46:07.374Z"
   },
   {
    "duration": 172,
    "start_time": "2022-01-19T15:46:07.434Z"
   },
   {
    "duration": 4,
    "start_time": "2022-01-19T15:46:07.607Z"
   },
   {
    "duration": 22,
    "start_time": "2022-01-19T15:46:07.615Z"
   },
   {
    "duration": 16,
    "start_time": "2022-01-19T15:46:07.639Z"
   },
   {
    "duration": 43,
    "start_time": "2022-01-19T15:46:07.657Z"
   },
   {
    "duration": 257,
    "start_time": "2022-01-19T15:46:07.701Z"
   },
   {
    "duration": 245,
    "start_time": "2022-01-19T15:46:07.959Z"
   },
   {
    "duration": 316,
    "start_time": "2022-01-19T15:46:08.206Z"
   },
   {
    "duration": 409427,
    "start_time": "2022-01-19T15:39:19.097Z"
   },
   {
    "duration": 409426,
    "start_time": "2022-01-19T15:39:19.099Z"
   },
   {
    "duration": 409424,
    "start_time": "2022-01-19T15:39:19.101Z"
   },
   {
    "duration": 409423,
    "start_time": "2022-01-19T15:39:19.103Z"
   },
   {
    "duration": 409422,
    "start_time": "2022-01-19T15:39:19.105Z"
   },
   {
    "duration": 409421,
    "start_time": "2022-01-19T15:39:19.107Z"
   },
   {
    "duration": 222,
    "start_time": "2022-01-19T15:46:55.998Z"
   },
   {
    "duration": 240,
    "start_time": "2022-01-19T15:47:11.203Z"
   },
   {
    "duration": 431,
    "start_time": "2022-01-19T15:48:13.857Z"
   },
   {
    "duration": 278,
    "start_time": "2022-01-19T15:48:40.745Z"
   },
   {
    "duration": 211,
    "start_time": "2022-01-19T15:49:29.561Z"
   },
   {
    "duration": 221,
    "start_time": "2022-01-19T15:50:57.582Z"
   },
   {
    "duration": 213,
    "start_time": "2022-01-19T16:03:05.626Z"
   },
   {
    "duration": 211,
    "start_time": "2022-01-19T16:23:51.824Z"
   },
   {
    "duration": 206,
    "start_time": "2022-01-19T16:23:57.073Z"
   },
   {
    "duration": 3,
    "start_time": "2022-01-19T17:24:54.424Z"
   },
   {
    "duration": 204,
    "start_time": "2022-01-19T17:24:59.235Z"
   },
   {
    "duration": 217,
    "start_time": "2022-01-19T17:30:47.671Z"
   },
   {
    "duration": 8,
    "start_time": "2022-01-19T17:30:55.777Z"
   },
   {
    "duration": 13,
    "start_time": "2022-01-19T17:35:11.450Z"
   },
   {
    "duration": 10,
    "start_time": "2022-01-19T17:35:34.714Z"
   },
   {
    "duration": 8,
    "start_time": "2022-01-19T17:35:47.345Z"
   },
   {
    "duration": 13,
    "start_time": "2022-01-19T17:36:14.912Z"
   },
   {
    "duration": 6,
    "start_time": "2022-01-19T17:37:36.216Z"
   },
   {
    "duration": 5,
    "start_time": "2022-01-19T17:43:39.646Z"
   },
   {
    "duration": 4,
    "start_time": "2022-01-19T17:50:57.617Z"
   },
   {
    "duration": 4,
    "start_time": "2022-01-19T17:51:01.467Z"
   },
   {
    "duration": 9,
    "start_time": "2022-01-19T17:53:12.979Z"
   },
   {
    "duration": 8,
    "start_time": "2022-01-19T17:53:25.026Z"
   },
   {
    "duration": 9,
    "start_time": "2022-01-19T17:53:43.379Z"
   },
   {
    "duration": 14,
    "start_time": "2022-01-19T17:54:26.914Z"
   },
   {
    "duration": 9,
    "start_time": "2022-01-19T17:55:06.651Z"
   },
   {
    "duration": 5,
    "start_time": "2022-01-19T17:55:12.512Z"
   },
   {
    "duration": 8,
    "start_time": "2022-01-19T17:57:50.456Z"
   },
   {
    "duration": 8,
    "start_time": "2022-01-19T17:58:09.321Z"
   },
   {
    "duration": 7,
    "start_time": "2022-01-19T17:58:15.408Z"
   },
   {
    "duration": 17,
    "start_time": "2022-01-19T18:08:44.947Z"
   },
   {
    "duration": 16,
    "start_time": "2022-01-19T18:09:02.051Z"
   },
   {
    "duration": 14,
    "start_time": "2022-01-19T18:09:11.757Z"
   },
   {
    "duration": 16,
    "start_time": "2022-01-19T18:09:19.189Z"
   },
   {
    "duration": 384,
    "start_time": "2022-01-19T18:11:34.194Z"
   },
   {
    "duration": 15,
    "start_time": "2022-01-19T18:12:06.115Z"
   },
   {
    "duration": 15,
    "start_time": "2022-01-19T18:12:11.739Z"
   },
   {
    "duration": 221,
    "start_time": "2022-01-19T18:14:13.921Z"
   },
   {
    "duration": 5,
    "start_time": "2022-01-19T18:15:01.113Z"
   },
   {
    "duration": 8,
    "start_time": "2022-01-19T18:15:33.642Z"
   },
   {
    "duration": 31,
    "start_time": "2022-01-19T18:47:04.130Z"
   },
   {
    "duration": 34,
    "start_time": "2022-01-19T18:48:11.714Z"
   },
   {
    "duration": 5,
    "start_time": "2022-01-19T18:50:24.329Z"
   },
   {
    "duration": 20,
    "start_time": "2022-01-19T18:51:13.287Z"
   },
   {
    "duration": 16,
    "start_time": "2022-01-19T18:51:45.513Z"
   },
   {
    "duration": 2,
    "start_time": "2022-01-19T19:10:04.530Z"
   },
   {
    "duration": 763,
    "start_time": "2022-01-19T19:10:04.535Z"
   },
   {
    "duration": 10,
    "start_time": "2022-01-19T19:10:05.300Z"
   },
   {
    "duration": 29,
    "start_time": "2022-01-19T19:10:05.313Z"
   },
   {
    "duration": 30,
    "start_time": "2022-01-19T19:10:05.344Z"
   },
   {
    "duration": 10,
    "start_time": "2022-01-19T19:10:05.398Z"
   },
   {
    "duration": 25,
    "start_time": "2022-01-19T19:10:05.411Z"
   },
   {
    "duration": 31,
    "start_time": "2022-01-19T19:10:05.439Z"
   },
   {
    "duration": 36,
    "start_time": "2022-01-19T19:10:05.472Z"
   },
   {
    "duration": 16,
    "start_time": "2022-01-19T19:10:05.512Z"
   },
   {
    "duration": 14,
    "start_time": "2022-01-19T19:10:05.531Z"
   },
   {
    "duration": 14,
    "start_time": "2022-01-19T19:10:05.547Z"
   },
   {
    "duration": 38,
    "start_time": "2022-01-19T19:10:05.562Z"
   },
   {
    "duration": 17,
    "start_time": "2022-01-19T19:10:05.602Z"
   },
   {
    "duration": 11,
    "start_time": "2022-01-19T19:10:05.621Z"
   },
   {
    "duration": 20,
    "start_time": "2022-01-19T19:10:05.634Z"
   },
   {
    "duration": 48,
    "start_time": "2022-01-19T19:10:05.656Z"
   },
   {
    "duration": 21,
    "start_time": "2022-01-19T19:10:05.706Z"
   },
   {
    "duration": 25,
    "start_time": "2022-01-19T19:10:05.729Z"
   },
   {
    "duration": 9,
    "start_time": "2022-01-19T19:10:05.755Z"
   },
   {
    "duration": 34,
    "start_time": "2022-01-19T19:10:05.766Z"
   },
   {
    "duration": 58,
    "start_time": "2022-01-19T19:10:05.802Z"
   },
   {
    "duration": 51,
    "start_time": "2022-01-19T19:10:05.862Z"
   },
   {
    "duration": 45,
    "start_time": "2022-01-19T19:10:05.915Z"
   },
   {
    "duration": 50,
    "start_time": "2022-01-19T19:10:05.961Z"
   },
   {
    "duration": 9,
    "start_time": "2022-01-19T19:10:06.013Z"
   },
   {
    "duration": 25,
    "start_time": "2022-01-19T19:10:06.023Z"
   },
   {
    "duration": 47,
    "start_time": "2022-01-19T19:10:06.052Z"
   },
   {
    "duration": 166,
    "start_time": "2022-01-19T19:10:06.101Z"
   },
   {
    "duration": 4,
    "start_time": "2022-01-19T19:10:06.269Z"
   },
   {
    "duration": 29,
    "start_time": "2022-01-19T19:10:06.274Z"
   },
   {
    "duration": 13,
    "start_time": "2022-01-19T19:10:06.305Z"
   },
   {
    "duration": 13,
    "start_time": "2022-01-19T19:10:06.320Z"
   },
   {
    "duration": 263,
    "start_time": "2022-01-19T19:10:06.335Z"
   },
   {
    "duration": 237,
    "start_time": "2022-01-19T19:10:06.600Z"
   },
   {
    "duration": 236,
    "start_time": "2022-01-19T19:10:06.839Z"
   },
   {
    "duration": 23,
    "start_time": "2022-01-19T19:10:07.077Z"
   },
   {
    "duration": 14,
    "start_time": "2022-01-19T19:10:07.101Z"
   },
   {
    "duration": 7,
    "start_time": "2022-01-19T19:10:07.116Z"
   },
   {
    "duration": 14,
    "start_time": "2022-01-19T19:10:07.124Z"
   },
   {
    "duration": 15,
    "start_time": "2022-01-19T19:10:07.139Z"
   },
   {
    "duration": 6,
    "start_time": "2022-01-19T19:10:07.156Z"
   },
   {
    "duration": 1027,
    "start_time": "2022-01-23T18:06:16.196Z"
   },
   {
    "duration": 693,
    "start_time": "2022-01-23T18:06:17.226Z"
   },
   {
    "duration": 30,
    "start_time": "2022-01-23T18:06:17.923Z"
   },
   {
    "duration": 50,
    "start_time": "2022-01-23T18:06:17.957Z"
   },
   {
    "duration": 65,
    "start_time": "2022-01-23T18:06:18.010Z"
   },
   {
    "duration": 15,
    "start_time": "2022-01-23T18:06:18.078Z"
   },
   {
    "duration": 59,
    "start_time": "2022-01-23T18:06:18.096Z"
   },
   {
    "duration": 36,
    "start_time": "2022-01-23T18:06:18.159Z"
   },
   {
    "duration": 49,
    "start_time": "2022-01-23T18:06:18.201Z"
   },
   {
    "duration": 39,
    "start_time": "2022-01-23T18:06:18.254Z"
   },
   {
    "duration": 46,
    "start_time": "2022-01-23T18:06:18.295Z"
   },
   {
    "duration": 13,
    "start_time": "2022-01-23T18:06:18.344Z"
   },
   {
    "duration": 22,
    "start_time": "2022-01-23T18:06:18.360Z"
   },
   {
    "duration": 58,
    "start_time": "2022-01-23T18:06:18.385Z"
   },
   {
    "duration": 20,
    "start_time": "2022-01-23T18:06:18.445Z"
   },
   {
    "duration": 29,
    "start_time": "2022-01-23T18:06:18.468Z"
   },
   {
    "duration": 74,
    "start_time": "2022-01-23T18:06:18.500Z"
   },
   {
    "duration": 56,
    "start_time": "2022-01-23T18:06:18.576Z"
   },
   {
    "duration": 34,
    "start_time": "2022-01-23T18:06:18.634Z"
   },
   {
    "duration": 11,
    "start_time": "2022-01-23T18:06:18.671Z"
   },
   {
    "duration": 12,
    "start_time": "2022-01-23T18:06:18.684Z"
   },
   {
    "duration": 78,
    "start_time": "2022-01-23T18:06:18.732Z"
   },
   {
    "duration": 99,
    "start_time": "2022-01-23T18:06:18.835Z"
   },
   {
    "duration": 115,
    "start_time": "2022-01-23T18:06:18.939Z"
   },
   {
    "duration": 77,
    "start_time": "2022-01-23T18:06:19.057Z"
   },
   {
    "duration": 19,
    "start_time": "2022-01-23T18:06:19.137Z"
   },
   {
    "duration": 24,
    "start_time": "2022-01-23T18:06:19.159Z"
   },
   {
    "duration": 98,
    "start_time": "2022-01-23T18:06:19.186Z"
   },
   {
    "duration": 265,
    "start_time": "2022-01-23T18:06:19.288Z"
   },
   {
    "duration": 7,
    "start_time": "2022-01-23T18:06:19.556Z"
   },
   {
    "duration": 35,
    "start_time": "2022-01-23T18:06:19.566Z"
   },
   {
    "duration": 44,
    "start_time": "2022-01-23T18:06:19.604Z"
   },
   {
    "duration": 23,
    "start_time": "2022-01-23T18:06:19.651Z"
   },
   {
    "duration": 3113,
    "start_time": "2022-01-23T18:06:19.677Z"
   },
   {
    "duration": -73,
    "start_time": "2022-01-23T18:06:22.866Z"
   },
   {
    "duration": -74,
    "start_time": "2022-01-23T18:06:22.869Z"
   },
   {
    "duration": -74,
    "start_time": "2022-01-23T18:06:22.871Z"
   },
   {
    "duration": -75,
    "start_time": "2022-01-23T18:06:22.874Z"
   },
   {
    "duration": -76,
    "start_time": "2022-01-23T18:06:22.877Z"
   },
   {
    "duration": -75,
    "start_time": "2022-01-23T18:06:22.879Z"
   },
   {
    "duration": -75,
    "start_time": "2022-01-23T18:06:22.881Z"
   },
   {
    "duration": -76,
    "start_time": "2022-01-23T18:06:22.884Z"
   },
   {
    "duration": 4,
    "start_time": "2022-01-23T18:08:01.868Z"
   },
   {
    "duration": 338,
    "start_time": "2022-01-23T18:08:04.522Z"
   },
   {
    "duration": 490,
    "start_time": "2022-01-23T18:08:05.024Z"
   },
   {
    "duration": 22,
    "start_time": "2022-01-23T18:08:06.456Z"
   },
   {
    "duration": 20,
    "start_time": "2022-01-23T18:08:06.641Z"
   },
   {
    "duration": 7,
    "start_time": "2022-01-23T18:08:06.827Z"
   },
   {
    "duration": 16,
    "start_time": "2022-01-23T18:08:07.413Z"
   },
   {
    "duration": 24,
    "start_time": "2022-01-23T18:08:07.621Z"
   },
   {
    "duration": 10,
    "start_time": "2022-01-23T18:08:07.777Z"
   },
   {
    "duration": 43,
    "start_time": "2022-01-23T18:10:02.061Z"
   },
   {
    "duration": 23,
    "start_time": "2022-01-23T18:10:50.597Z"
   },
   {
    "duration": 6,
    "start_time": "2022-01-23T18:13:41.732Z"
   },
   {
    "duration": 10,
    "start_time": "2022-01-23T18:13:59.721Z"
   },
   {
    "duration": 596,
    "start_time": "2022-01-23T18:19:05.019Z"
   },
   {
    "duration": 106,
    "start_time": "2022-01-23T18:19:54.260Z"
   },
   {
    "duration": 11,
    "start_time": "2022-01-23T18:20:11.130Z"
   },
   {
    "duration": 880,
    "start_time": "2022-01-23T18:20:24.851Z"
   },
   {
    "duration": 15,
    "start_time": "2022-01-23T18:20:39.308Z"
   },
   {
    "duration": 1330,
    "start_time": "2022-01-25T07:36:52.307Z"
   },
   {
    "duration": 740,
    "start_time": "2022-01-25T07:37:00.249Z"
   },
   {
    "duration": 75,
    "start_time": "2022-01-25T07:38:30.216Z"
   },
   {
    "duration": 36,
    "start_time": "2022-01-25T07:39:21.143Z"
   },
   {
    "duration": 34,
    "start_time": "2022-01-25T07:39:32.142Z"
   },
   {
    "duration": 33,
    "start_time": "2022-01-25T07:39:52.383Z"
   },
   {
    "duration": 31,
    "start_time": "2022-01-25T07:43:38.524Z"
   },
   {
    "duration": 587,
    "start_time": "2022-01-25T07:45:29.549Z"
   },
   {
    "duration": 6,
    "start_time": "2022-01-25T07:45:40.141Z"
   },
   {
    "duration": 685,
    "start_time": "2022-01-25T07:45:40.150Z"
   },
   {
    "duration": 13,
    "start_time": "2022-01-25T07:45:40.838Z"
   },
   {
    "duration": 28,
    "start_time": "2022-01-25T07:45:40.855Z"
   },
   {
    "duration": 37,
    "start_time": "2022-01-25T07:45:40.886Z"
   },
   {
    "duration": 11,
    "start_time": "2022-01-25T07:45:40.926Z"
   },
   {
    "duration": 23,
    "start_time": "2022-01-25T07:45:40.966Z"
   },
   {
    "duration": 37,
    "start_time": "2022-01-25T07:45:40.991Z"
   },
   {
    "duration": 43,
    "start_time": "2022-01-25T07:45:41.032Z"
   },
   {
    "duration": 22,
    "start_time": "2022-01-25T07:45:41.078Z"
   },
   {
    "duration": 18,
    "start_time": "2022-01-25T07:45:41.103Z"
   },
   {
    "duration": 47,
    "start_time": "2022-01-25T07:45:41.124Z"
   },
   {
    "duration": 16,
    "start_time": "2022-01-25T07:45:41.173Z"
   },
   {
    "duration": 18,
    "start_time": "2022-01-25T07:45:41.191Z"
   },
   {
    "duration": 17,
    "start_time": "2022-01-25T07:45:41.211Z"
   },
   {
    "duration": 46,
    "start_time": "2022-01-25T07:45:41.230Z"
   },
   {
    "duration": 39,
    "start_time": "2022-01-25T07:45:41.279Z"
   },
   {
    "duration": 48,
    "start_time": "2022-01-25T07:45:41.320Z"
   },
   {
    "duration": 32,
    "start_time": "2022-01-25T07:45:41.370Z"
   },
   {
    "duration": 13,
    "start_time": "2022-01-25T07:45:41.405Z"
   },
   {
    "duration": 16,
    "start_time": "2022-01-25T07:45:41.421Z"
   },
   {
    "duration": 83,
    "start_time": "2022-01-25T07:45:41.466Z"
   },
   {
    "duration": 85,
    "start_time": "2022-01-25T07:45:41.552Z"
   },
   {
    "duration": 90,
    "start_time": "2022-01-25T07:45:41.639Z"
   },
   {
    "duration": 73,
    "start_time": "2022-01-25T07:45:41.732Z"
   },
   {
    "duration": 18,
    "start_time": "2022-01-25T07:45:41.808Z"
   },
   {
    "duration": 42,
    "start_time": "2022-01-25T07:45:41.834Z"
   },
   {
    "duration": 59,
    "start_time": "2022-01-25T07:45:41.879Z"
   },
   {
    "duration": 232,
    "start_time": "2022-01-25T07:45:41.940Z"
   },
   {
    "duration": 3895,
    "start_time": "2022-01-25T07:45:42.175Z"
   },
   {
    "duration": 412948,
    "start_time": "2022-01-25T07:38:53.125Z"
   },
   {
    "duration": 412947,
    "start_time": "2022-01-25T07:38:53.127Z"
   },
   {
    "duration": 412947,
    "start_time": "2022-01-25T07:38:53.129Z"
   },
   {
    "duration": 412948,
    "start_time": "2022-01-25T07:38:53.130Z"
   },
   {
    "duration": 412948,
    "start_time": "2022-01-25T07:38:53.132Z"
   },
   {
    "duration": 412949,
    "start_time": "2022-01-25T07:38:53.133Z"
   },
   {
    "duration": 412943,
    "start_time": "2022-01-25T07:38:53.141Z"
   },
   {
    "duration": 412943,
    "start_time": "2022-01-25T07:38:53.143Z"
   },
   {
    "duration": 412944,
    "start_time": "2022-01-25T07:38:53.145Z"
   },
   {
    "duration": 412945,
    "start_time": "2022-01-25T07:38:53.146Z"
   },
   {
    "duration": 412945,
    "start_time": "2022-01-25T07:38:53.148Z"
   },
   {
    "duration": 412945,
    "start_time": "2022-01-25T07:38:53.150Z"
   },
   {
    "duration": 409,
    "start_time": "2022-01-25T07:50:58.551Z"
   },
   {
    "duration": 5,
    "start_time": "2022-01-25T07:51:37.249Z"
   },
   {
    "duration": 25,
    "start_time": "2022-01-25T07:51:44.536Z"
   },
   {
    "duration": 43,
    "start_time": "2022-01-25T07:51:53.443Z"
   },
   {
    "duration": 41,
    "start_time": "2022-01-25T07:53:07.625Z"
   },
   {
    "duration": 425,
    "start_time": "2022-01-25T07:53:29.569Z"
   },
   {
    "duration": 62,
    "start_time": "2022-01-25T07:54:11.256Z"
   },
   {
    "duration": 4,
    "start_time": "2022-01-25T07:57:27.867Z"
   },
   {
    "duration": 647,
    "start_time": "2022-01-25T07:57:27.874Z"
   },
   {
    "duration": 11,
    "start_time": "2022-01-25T07:57:28.524Z"
   },
   {
    "duration": 28,
    "start_time": "2022-01-25T07:57:28.537Z"
   },
   {
    "duration": 34,
    "start_time": "2022-01-25T07:57:28.567Z"
   },
   {
    "duration": 13,
    "start_time": "2022-01-25T07:57:28.603Z"
   },
   {
    "duration": 46,
    "start_time": "2022-01-25T07:57:28.619Z"
   },
   {
    "duration": 37,
    "start_time": "2022-01-25T07:57:28.668Z"
   },
   {
    "duration": 12,
    "start_time": "2022-01-25T07:57:28.708Z"
   },
   {
    "duration": 48,
    "start_time": "2022-01-25T07:57:28.723Z"
   },
   {
    "duration": 18,
    "start_time": "2022-01-25T07:57:28.773Z"
   },
   {
    "duration": 12,
    "start_time": "2022-01-25T07:57:28.794Z"
   },
   {
    "duration": 10,
    "start_time": "2022-01-25T07:57:28.808Z"
   },
   {
    "duration": 53,
    "start_time": "2022-01-25T07:57:28.820Z"
   },
   {
    "duration": 15,
    "start_time": "2022-01-25T07:57:28.876Z"
   },
   {
    "duration": 23,
    "start_time": "2022-01-25T07:57:28.894Z"
   },
   {
    "duration": 63,
    "start_time": "2022-01-25T07:57:28.920Z"
   },
   {
    "duration": 26,
    "start_time": "2022-01-25T07:57:28.985Z"
   },
   {
    "duration": 53,
    "start_time": "2022-01-25T07:57:29.014Z"
   },
   {
    "duration": 11,
    "start_time": "2022-01-25T07:57:29.070Z"
   },
   {
    "duration": 10,
    "start_time": "2022-01-25T07:57:29.083Z"
   },
   {
    "duration": 85,
    "start_time": "2022-01-25T07:57:29.095Z"
   },
   {
    "duration": 50,
    "start_time": "2022-01-25T07:57:29.185Z"
   },
   {
    "duration": 62,
    "start_time": "2022-01-25T07:57:29.237Z"
   },
   {
    "duration": 39,
    "start_time": "2022-01-25T07:57:29.301Z"
   },
   {
    "duration": 26,
    "start_time": "2022-01-25T07:57:29.343Z"
   },
   {
    "duration": 22,
    "start_time": "2022-01-25T07:57:29.372Z"
   },
   {
    "duration": 81,
    "start_time": "2022-01-25T07:57:29.397Z"
   },
   {
    "duration": 259,
    "start_time": "2022-01-25T07:57:29.480Z"
   },
   {
    "duration": 6,
    "start_time": "2022-01-25T07:57:29.741Z"
   },
   {
    "duration": 40,
    "start_time": "2022-01-25T07:57:29.750Z"
   },
   {
    "duration": 20,
    "start_time": "2022-01-25T07:57:29.792Z"
   },
   {
    "duration": 52,
    "start_time": "2022-01-25T07:57:29.814Z"
   },
   {
    "duration": 371,
    "start_time": "2022-01-25T07:57:29.868Z"
   },
   {
    "duration": 355,
    "start_time": "2022-01-25T07:57:30.242Z"
   },
   {
    "duration": 346,
    "start_time": "2022-01-25T07:57:30.600Z"
   },
   {
    "duration": 29,
    "start_time": "2022-01-25T07:57:30.949Z"
   },
   {
    "duration": 19,
    "start_time": "2022-01-25T07:57:30.980Z"
   },
   {
    "duration": 9,
    "start_time": "2022-01-25T07:57:31.001Z"
   },
   {
    "duration": 29,
    "start_time": "2022-01-25T07:57:31.012Z"
   },
   {
    "duration": 20,
    "start_time": "2022-01-25T07:57:31.065Z"
   },
   {
    "duration": 20,
    "start_time": "2022-01-25T07:57:31.087Z"
   },
   {
    "duration": 325,
    "start_time": "2022-01-25T07:59:35.911Z"
   },
   {
    "duration": 334,
    "start_time": "2022-01-25T08:05:52.644Z"
   },
   {
    "duration": 311,
    "start_time": "2022-01-25T08:06:34.325Z"
   },
   {
    "duration": 307,
    "start_time": "2022-01-25T08:06:55.501Z"
   },
   {
    "duration": 1305,
    "start_time": "2022-01-25T08:12:16.227Z"
   },
   {
    "duration": 826,
    "start_time": "2022-01-25T08:12:17.535Z"
   },
   {
    "duration": 17,
    "start_time": "2022-01-25T08:12:18.364Z"
   },
   {
    "duration": 28,
    "start_time": "2022-01-25T08:12:18.384Z"
   },
   {
    "duration": 76,
    "start_time": "2022-01-25T08:12:18.415Z"
   },
   {
    "duration": 12,
    "start_time": "2022-01-25T08:12:18.494Z"
   },
   {
    "duration": 24,
    "start_time": "2022-01-25T08:12:18.509Z"
   },
   {
    "duration": 61,
    "start_time": "2022-01-25T08:12:18.537Z"
   },
   {
    "duration": 14,
    "start_time": "2022-01-25T08:12:18.601Z"
   },
   {
    "duration": 18,
    "start_time": "2022-01-25T08:12:18.618Z"
   },
   {
    "duration": 20,
    "start_time": "2022-01-25T08:12:18.665Z"
   },
   {
    "duration": 11,
    "start_time": "2022-01-25T08:12:18.688Z"
   },
   {
    "duration": 8,
    "start_time": "2022-01-25T08:12:18.702Z"
   },
   {
    "duration": 53,
    "start_time": "2022-01-25T08:12:18.713Z"
   },
   {
    "duration": 13,
    "start_time": "2022-01-25T08:12:18.769Z"
   },
   {
    "duration": 22,
    "start_time": "2022-01-25T08:12:18.785Z"
   },
   {
    "duration": 82,
    "start_time": "2022-01-25T08:12:18.810Z"
   },
   {
    "duration": 37,
    "start_time": "2022-01-25T08:12:18.895Z"
   },
   {
    "duration": 67,
    "start_time": "2022-01-25T08:12:18.935Z"
   },
   {
    "duration": 15,
    "start_time": "2022-01-25T08:12:19.005Z"
   },
   {
    "duration": 13,
    "start_time": "2022-01-25T08:12:19.023Z"
   },
   {
    "duration": 94,
    "start_time": "2022-01-25T08:12:19.038Z"
   },
   {
    "duration": 67,
    "start_time": "2022-01-25T08:12:19.137Z"
   },
   {
    "duration": 57,
    "start_time": "2022-01-25T08:12:19.207Z"
   },
   {
    "duration": 44,
    "start_time": "2022-01-25T08:12:19.267Z"
   },
   {
    "duration": 12,
    "start_time": "2022-01-25T08:12:19.315Z"
   },
   {
    "duration": 50,
    "start_time": "2022-01-25T08:12:19.330Z"
   },
   {
    "duration": 59,
    "start_time": "2022-01-25T08:12:19.383Z"
   },
   {
    "duration": 254,
    "start_time": "2022-01-25T08:12:19.445Z"
   },
   {
    "duration": 7,
    "start_time": "2022-01-25T08:12:19.701Z"
   },
   {
    "duration": 54,
    "start_time": "2022-01-25T08:12:19.711Z"
   },
   {
    "duration": 22,
    "start_time": "2022-01-25T08:12:19.767Z"
   },
   {
    "duration": 21,
    "start_time": "2022-01-25T08:12:19.793Z"
   },
   {
    "duration": 376,
    "start_time": "2022-01-25T08:12:19.817Z"
   },
   {
    "duration": 338,
    "start_time": "2022-01-25T08:12:20.196Z"
   },
   {
    "duration": 341,
    "start_time": "2022-01-25T08:12:20.536Z"
   },
   {
    "duration": 25,
    "start_time": "2022-01-25T08:12:20.880Z"
   },
   {
    "duration": 20,
    "start_time": "2022-01-25T08:12:20.909Z"
   },
   {
    "duration": 38,
    "start_time": "2022-01-25T08:12:20.932Z"
   },
   {
    "duration": 17,
    "start_time": "2022-01-25T08:12:20.973Z"
   },
   {
    "duration": 22,
    "start_time": "2022-01-25T08:12:20.993Z"
   },
   {
    "duration": 47,
    "start_time": "2022-01-25T08:12:21.018Z"
   },
   {
    "duration": 1040,
    "start_time": "2022-01-25T09:41:47.461Z"
   },
   {
    "duration": 513,
    "start_time": "2022-01-25T09:41:48.503Z"
   },
   {
    "duration": 11,
    "start_time": "2022-01-25T09:41:49.018Z"
   },
   {
    "duration": 29,
    "start_time": "2022-01-25T09:41:49.030Z"
   },
   {
    "duration": 36,
    "start_time": "2022-01-25T09:41:49.061Z"
   },
   {
    "duration": 7,
    "start_time": "2022-01-25T09:41:49.099Z"
   },
   {
    "duration": 42,
    "start_time": "2022-01-25T09:41:49.108Z"
   },
   {
    "duration": 29,
    "start_time": "2022-01-25T09:41:49.152Z"
   },
   {
    "duration": 16,
    "start_time": "2022-01-25T09:41:49.183Z"
   },
   {
    "duration": 20,
    "start_time": "2022-01-25T09:41:49.201Z"
   },
   {
    "duration": 49,
    "start_time": "2022-01-25T09:41:49.223Z"
   },
   {
    "duration": 28,
    "start_time": "2022-01-25T09:41:49.274Z"
   },
   {
    "duration": 50,
    "start_time": "2022-01-25T09:41:49.304Z"
   },
   {
    "duration": 56,
    "start_time": "2022-01-25T09:41:49.355Z"
   },
   {
    "duration": 24,
    "start_time": "2022-01-25T09:41:49.413Z"
   },
   {
    "duration": 42,
    "start_time": "2022-01-25T09:41:49.438Z"
   },
   {
    "duration": 47,
    "start_time": "2022-01-25T09:41:49.481Z"
   },
   {
    "duration": 21,
    "start_time": "2022-01-25T09:41:49.529Z"
   },
   {
    "duration": 32,
    "start_time": "2022-01-25T09:41:49.552Z"
   },
   {
    "duration": 18,
    "start_time": "2022-01-25T09:41:49.585Z"
   },
   {
    "duration": 27,
    "start_time": "2022-01-25T09:41:49.605Z"
   },
   {
    "duration": 59,
    "start_time": "2022-01-25T09:41:49.634Z"
   },
   {
    "duration": 48,
    "start_time": "2022-01-25T09:41:49.694Z"
   },
   {
    "duration": 33,
    "start_time": "2022-01-25T09:41:49.744Z"
   },
   {
    "duration": 40,
    "start_time": "2022-01-25T09:41:49.779Z"
   },
   {
    "duration": 7,
    "start_time": "2022-01-25T09:41:49.823Z"
   },
   {
    "duration": 33,
    "start_time": "2022-01-25T09:41:49.832Z"
   },
   {
    "duration": 48,
    "start_time": "2022-01-25T09:41:49.867Z"
   },
   {
    "duration": 154,
    "start_time": "2022-01-25T09:41:49.917Z"
   },
   {
    "duration": 5,
    "start_time": "2022-01-25T09:41:50.073Z"
   },
   {
    "duration": 30,
    "start_time": "2022-01-25T09:41:50.079Z"
   },
   {
    "duration": 21,
    "start_time": "2022-01-25T09:41:50.111Z"
   },
   {
    "duration": 16,
    "start_time": "2022-01-25T09:41:50.133Z"
   },
   {
    "duration": 249,
    "start_time": "2022-01-25T09:41:50.151Z"
   },
   {
    "duration": 223,
    "start_time": "2022-01-25T09:41:50.401Z"
   },
   {
    "duration": 231,
    "start_time": "2022-01-25T09:41:50.626Z"
   },
   {
    "duration": 15,
    "start_time": "2022-01-25T09:41:50.859Z"
   },
   {
    "duration": 30,
    "start_time": "2022-01-25T09:41:50.876Z"
   },
   {
    "duration": 6,
    "start_time": "2022-01-25T09:41:50.908Z"
   },
   {
    "duration": 33,
    "start_time": "2022-01-25T09:41:50.916Z"
   },
   {
    "duration": 19,
    "start_time": "2022-01-25T09:41:50.951Z"
   },
   {
    "duration": 20,
    "start_time": "2022-01-25T09:41:50.972Z"
   }
  ],
  "kernelspec": {
   "display_name": "Python 3 (ipykernel)",
   "language": "python",
   "name": "python3"
  },
  "language_info": {
   "codemirror_mode": {
    "name": "ipython",
    "version": 3
   },
   "file_extension": ".py",
   "mimetype": "text/x-python",
   "name": "python",
   "nbconvert_exporter": "python",
   "pygments_lexer": "ipython3",
   "version": "3.9.7"
  },
  "toc": {
   "base_numbering": 1,
   "nav_menu": {},
   "number_sections": true,
   "sideBar": true,
   "skip_h1_title": true,
   "title_cell": "Table of Contents",
   "title_sidebar": "Contents",
   "toc_cell": false,
   "toc_position": {
    "height": "calc(100% - 180px)",
    "left": "10px",
    "top": "150px",
    "width": "288.391px"
   },
   "toc_section_display": true,
   "toc_window_display": false
  }
 },
 "nbformat": 4,
 "nbformat_minor": 2
}
