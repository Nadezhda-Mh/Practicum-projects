{
 "cells": [
  {
   "cell_type": "markdown",
   "metadata": {},
   "source": [
    "# Восстановление золота из руды"
   ]
  },
  {
   "cell_type": "markdown",
   "metadata": {},
   "source": [
    "## Подготовка данных"
   ]
  },
  {
   "cell_type": "code",
   "execution_count": 1,
   "metadata": {},
   "outputs": [],
   "source": [
    "# импорт библиотек\n",
    "import pandas as pd\n",
    "import numpy as np\n",
    "import matplotlib.pyplot as plt\n",
    "from sklearn.metrics import mean_absolute_error\n",
    "import seaborn as sns\n",
    "from sklearn.tree import DecisionTreeRegressor\n",
    "from sklearn.ensemble import RandomForestRegressor\n",
    "from sklearn.linear_model import LinearRegression\n",
    "from sklearn.model_selection import cross_val_score\n",
    "from sklearn.metrics import make_scorer\n",
    "from sklearn.model_selection import GridSearchCV"
   ]
  },
  {
   "cell_type": "code",
   "execution_count": 2,
   "metadata": {},
   "outputs": [],
   "source": [
    "# чтение файла с данными и сохранение в df с использованием конструкции try-except\n",
    "try:\n",
    "    df_train = pd.read_csv('C:/Users/datasets/gold_recovery_train_new.csv') # локальный путь\n",
    "    df_test = pd.read_csv('C:/Users/datasets/gold_recovery_test_new.csv')\n",
    "    df_full = pd.read_csv('C:/Users/datasets/gold_recovery_full_new.csv')\n",
    "except:\n",
    "    df_train = pd.read_csv('/datasets/gold_recovery_train_new.csv') # серверный путь\n",
    "    df_test = pd.read_csv('/datasets/gold_recovery_test_new.csv')\n",
    "    df_full = pd.read_csv('/datasets/gold_recovery_full_new.csv')"
   ]
  },
  {
   "cell_type": "code",
   "execution_count": 3,
   "metadata": {
    "scrolled": true
   },
   "outputs": [
    {
     "data": {
      "text/html": [
       "<div>\n",
       "<style scoped>\n",
       "    .dataframe tbody tr th:only-of-type {\n",
       "        vertical-align: middle;\n",
       "    }\n",
       "\n",
       "    .dataframe tbody tr th {\n",
       "        vertical-align: top;\n",
       "    }\n",
       "\n",
       "    .dataframe thead th {\n",
       "        text-align: right;\n",
       "    }\n",
       "</style>\n",
       "<table border=\"1\" class=\"dataframe\">\n",
       "  <thead>\n",
       "    <tr style=\"text-align: right;\">\n",
       "      <th></th>\n",
       "      <th>date</th>\n",
       "      <th>final.output.concentrate_ag</th>\n",
       "      <th>final.output.concentrate_pb</th>\n",
       "      <th>final.output.concentrate_sol</th>\n",
       "      <th>final.output.concentrate_au</th>\n",
       "      <th>final.output.recovery</th>\n",
       "      <th>final.output.tail_ag</th>\n",
       "      <th>final.output.tail_pb</th>\n",
       "      <th>final.output.tail_sol</th>\n",
       "      <th>final.output.tail_au</th>\n",
       "      <th>...</th>\n",
       "      <th>secondary_cleaner.state.floatbank4_a_air</th>\n",
       "      <th>secondary_cleaner.state.floatbank4_a_level</th>\n",
       "      <th>secondary_cleaner.state.floatbank4_b_air</th>\n",
       "      <th>secondary_cleaner.state.floatbank4_b_level</th>\n",
       "      <th>secondary_cleaner.state.floatbank5_a_air</th>\n",
       "      <th>secondary_cleaner.state.floatbank5_a_level</th>\n",
       "      <th>secondary_cleaner.state.floatbank5_b_air</th>\n",
       "      <th>secondary_cleaner.state.floatbank5_b_level</th>\n",
       "      <th>secondary_cleaner.state.floatbank6_a_air</th>\n",
       "      <th>secondary_cleaner.state.floatbank6_a_level</th>\n",
       "    </tr>\n",
       "  </thead>\n",
       "  <tbody>\n",
       "    <tr>\n",
       "      <th>0</th>\n",
       "      <td>2016-01-15 00:00:00</td>\n",
       "      <td>6.055403</td>\n",
       "      <td>9.889648</td>\n",
       "      <td>5.507324</td>\n",
       "      <td>42.192020</td>\n",
       "      <td>70.541216</td>\n",
       "      <td>10.411962</td>\n",
       "      <td>0.895447</td>\n",
       "      <td>16.904297</td>\n",
       "      <td>2.143149</td>\n",
       "      <td>...</td>\n",
       "      <td>14.016835</td>\n",
       "      <td>-502.488007</td>\n",
       "      <td>12.099931</td>\n",
       "      <td>-504.715942</td>\n",
       "      <td>9.925633</td>\n",
       "      <td>-498.310211</td>\n",
       "      <td>8.079666</td>\n",
       "      <td>-500.470978</td>\n",
       "      <td>14.151341</td>\n",
       "      <td>-605.841980</td>\n",
       "    </tr>\n",
       "    <tr>\n",
       "      <th>1</th>\n",
       "      <td>2016-01-15 01:00:00</td>\n",
       "      <td>6.029369</td>\n",
       "      <td>9.968944</td>\n",
       "      <td>5.257781</td>\n",
       "      <td>42.701629</td>\n",
       "      <td>69.266198</td>\n",
       "      <td>10.462676</td>\n",
       "      <td>0.927452</td>\n",
       "      <td>16.634514</td>\n",
       "      <td>2.224930</td>\n",
       "      <td>...</td>\n",
       "      <td>13.992281</td>\n",
       "      <td>-505.503262</td>\n",
       "      <td>11.950531</td>\n",
       "      <td>-501.331529</td>\n",
       "      <td>10.039245</td>\n",
       "      <td>-500.169983</td>\n",
       "      <td>7.984757</td>\n",
       "      <td>-500.582168</td>\n",
       "      <td>13.998353</td>\n",
       "      <td>-599.787184</td>\n",
       "    </tr>\n",
       "    <tr>\n",
       "      <th>2</th>\n",
       "      <td>2016-01-15 02:00:00</td>\n",
       "      <td>6.055926</td>\n",
       "      <td>10.213995</td>\n",
       "      <td>5.383759</td>\n",
       "      <td>42.657501</td>\n",
       "      <td>68.116445</td>\n",
       "      <td>10.507046</td>\n",
       "      <td>0.953716</td>\n",
       "      <td>16.208849</td>\n",
       "      <td>2.257889</td>\n",
       "      <td>...</td>\n",
       "      <td>14.015015</td>\n",
       "      <td>-502.520901</td>\n",
       "      <td>11.912783</td>\n",
       "      <td>-501.133383</td>\n",
       "      <td>10.070913</td>\n",
       "      <td>-500.129135</td>\n",
       "      <td>8.013877</td>\n",
       "      <td>-500.517572</td>\n",
       "      <td>14.028663</td>\n",
       "      <td>-601.427363</td>\n",
       "    </tr>\n",
       "    <tr>\n",
       "      <th>3</th>\n",
       "      <td>2016-01-15 03:00:00</td>\n",
       "      <td>6.047977</td>\n",
       "      <td>9.977019</td>\n",
       "      <td>4.858634</td>\n",
       "      <td>42.689819</td>\n",
       "      <td>68.347543</td>\n",
       "      <td>10.422762</td>\n",
       "      <td>0.883763</td>\n",
       "      <td>16.532835</td>\n",
       "      <td>2.146849</td>\n",
       "      <td>...</td>\n",
       "      <td>14.036510</td>\n",
       "      <td>-500.857308</td>\n",
       "      <td>11.999550</td>\n",
       "      <td>-501.193686</td>\n",
       "      <td>9.970366</td>\n",
       "      <td>-499.201640</td>\n",
       "      <td>7.977324</td>\n",
       "      <td>-500.255908</td>\n",
       "      <td>14.005551</td>\n",
       "      <td>-599.996129</td>\n",
       "    </tr>\n",
       "    <tr>\n",
       "      <th>4</th>\n",
       "      <td>2016-01-15 04:00:00</td>\n",
       "      <td>6.148599</td>\n",
       "      <td>10.142511</td>\n",
       "      <td>4.939416</td>\n",
       "      <td>42.774141</td>\n",
       "      <td>66.927016</td>\n",
       "      <td>10.360302</td>\n",
       "      <td>0.792826</td>\n",
       "      <td>16.525686</td>\n",
       "      <td>2.055292</td>\n",
       "      <td>...</td>\n",
       "      <td>14.027298</td>\n",
       "      <td>-499.838632</td>\n",
       "      <td>11.953070</td>\n",
       "      <td>-501.053894</td>\n",
       "      <td>9.925709</td>\n",
       "      <td>-501.686727</td>\n",
       "      <td>7.894242</td>\n",
       "      <td>-500.356035</td>\n",
       "      <td>13.996647</td>\n",
       "      <td>-601.496691</td>\n",
       "    </tr>\n",
       "  </tbody>\n",
       "</table>\n",
       "<p>5 rows × 87 columns</p>\n",
       "</div>"
      ],
      "text/plain": [
       "                  date  final.output.concentrate_ag  \\\n",
       "0  2016-01-15 00:00:00                     6.055403   \n",
       "1  2016-01-15 01:00:00                     6.029369   \n",
       "2  2016-01-15 02:00:00                     6.055926   \n",
       "3  2016-01-15 03:00:00                     6.047977   \n",
       "4  2016-01-15 04:00:00                     6.148599   \n",
       "\n",
       "   final.output.concentrate_pb  final.output.concentrate_sol  \\\n",
       "0                     9.889648                      5.507324   \n",
       "1                     9.968944                      5.257781   \n",
       "2                    10.213995                      5.383759   \n",
       "3                     9.977019                      4.858634   \n",
       "4                    10.142511                      4.939416   \n",
       "\n",
       "   final.output.concentrate_au  final.output.recovery  final.output.tail_ag  \\\n",
       "0                    42.192020              70.541216             10.411962   \n",
       "1                    42.701629              69.266198             10.462676   \n",
       "2                    42.657501              68.116445             10.507046   \n",
       "3                    42.689819              68.347543             10.422762   \n",
       "4                    42.774141              66.927016             10.360302   \n",
       "\n",
       "   final.output.tail_pb  final.output.tail_sol  final.output.tail_au  ...  \\\n",
       "0              0.895447              16.904297              2.143149  ...   \n",
       "1              0.927452              16.634514              2.224930  ...   \n",
       "2              0.953716              16.208849              2.257889  ...   \n",
       "3              0.883763              16.532835              2.146849  ...   \n",
       "4              0.792826              16.525686              2.055292  ...   \n",
       "\n",
       "   secondary_cleaner.state.floatbank4_a_air  \\\n",
       "0                                 14.016835   \n",
       "1                                 13.992281   \n",
       "2                                 14.015015   \n",
       "3                                 14.036510   \n",
       "4                                 14.027298   \n",
       "\n",
       "   secondary_cleaner.state.floatbank4_a_level  \\\n",
       "0                                 -502.488007   \n",
       "1                                 -505.503262   \n",
       "2                                 -502.520901   \n",
       "3                                 -500.857308   \n",
       "4                                 -499.838632   \n",
       "\n",
       "   secondary_cleaner.state.floatbank4_b_air  \\\n",
       "0                                 12.099931   \n",
       "1                                 11.950531   \n",
       "2                                 11.912783   \n",
       "3                                 11.999550   \n",
       "4                                 11.953070   \n",
       "\n",
       "   secondary_cleaner.state.floatbank4_b_level  \\\n",
       "0                                 -504.715942   \n",
       "1                                 -501.331529   \n",
       "2                                 -501.133383   \n",
       "3                                 -501.193686   \n",
       "4                                 -501.053894   \n",
       "\n",
       "   secondary_cleaner.state.floatbank5_a_air  \\\n",
       "0                                  9.925633   \n",
       "1                                 10.039245   \n",
       "2                                 10.070913   \n",
       "3                                  9.970366   \n",
       "4                                  9.925709   \n",
       "\n",
       "   secondary_cleaner.state.floatbank5_a_level  \\\n",
       "0                                 -498.310211   \n",
       "1                                 -500.169983   \n",
       "2                                 -500.129135   \n",
       "3                                 -499.201640   \n",
       "4                                 -501.686727   \n",
       "\n",
       "   secondary_cleaner.state.floatbank5_b_air  \\\n",
       "0                                  8.079666   \n",
       "1                                  7.984757   \n",
       "2                                  8.013877   \n",
       "3                                  7.977324   \n",
       "4                                  7.894242   \n",
       "\n",
       "   secondary_cleaner.state.floatbank5_b_level  \\\n",
       "0                                 -500.470978   \n",
       "1                                 -500.582168   \n",
       "2                                 -500.517572   \n",
       "3                                 -500.255908   \n",
       "4                                 -500.356035   \n",
       "\n",
       "   secondary_cleaner.state.floatbank6_a_air  \\\n",
       "0                                 14.151341   \n",
       "1                                 13.998353   \n",
       "2                                 14.028663   \n",
       "3                                 14.005551   \n",
       "4                                 13.996647   \n",
       "\n",
       "   secondary_cleaner.state.floatbank6_a_level  \n",
       "0                                 -605.841980  \n",
       "1                                 -599.787184  \n",
       "2                                 -601.427363  \n",
       "3                                 -599.996129  \n",
       "4                                 -601.496691  \n",
       "\n",
       "[5 rows x 87 columns]"
      ]
     },
     "execution_count": 3,
     "metadata": {},
     "output_type": "execute_result"
    }
   ],
   "source": [
    "# просмотр первых пяти строк обучающей выборки\n",
    "df_train.head()"
   ]
  },
  {
   "cell_type": "code",
   "execution_count": 4,
   "metadata": {
    "scrolled": true
   },
   "outputs": [
    {
     "name": "stdout",
     "output_type": "stream",
     "text": [
      "<class 'pandas.core.frame.DataFrame'>\n",
      "RangeIndex: 14149 entries, 0 to 14148\n",
      "Data columns (total 87 columns):\n",
      " #   Column                                              Non-Null Count  Dtype  \n",
      "---  ------                                              --------------  -----  \n",
      " 0   date                                                14149 non-null  object \n",
      " 1   final.output.concentrate_ag                         14148 non-null  float64\n",
      " 2   final.output.concentrate_pb                         14148 non-null  float64\n",
      " 3   final.output.concentrate_sol                        13938 non-null  float64\n",
      " 4   final.output.concentrate_au                         14149 non-null  float64\n",
      " 5   final.output.recovery                               14149 non-null  float64\n",
      " 6   final.output.tail_ag                                14149 non-null  float64\n",
      " 7   final.output.tail_pb                                14049 non-null  float64\n",
      " 8   final.output.tail_sol                               14144 non-null  float64\n",
      " 9   final.output.tail_au                                14149 non-null  float64\n",
      " 10  primary_cleaner.input.sulfate                       14129 non-null  float64\n",
      " 11  primary_cleaner.input.depressant                    14117 non-null  float64\n",
      " 12  primary_cleaner.input.feed_size                     14149 non-null  float64\n",
      " 13  primary_cleaner.input.xanthate                      14049 non-null  float64\n",
      " 14  primary_cleaner.output.concentrate_ag               14149 non-null  float64\n",
      " 15  primary_cleaner.output.concentrate_pb               14063 non-null  float64\n",
      " 16  primary_cleaner.output.concentrate_sol              13863 non-null  float64\n",
      " 17  primary_cleaner.output.concentrate_au               14149 non-null  float64\n",
      " 18  primary_cleaner.output.tail_ag                      14148 non-null  float64\n",
      " 19  primary_cleaner.output.tail_pb                      14134 non-null  float64\n",
      " 20  primary_cleaner.output.tail_sol                     14103 non-null  float64\n",
      " 21  primary_cleaner.output.tail_au                      14149 non-null  float64\n",
      " 22  primary_cleaner.state.floatbank8_a_air              14145 non-null  float64\n",
      " 23  primary_cleaner.state.floatbank8_a_level            14148 non-null  float64\n",
      " 24  primary_cleaner.state.floatbank8_b_air              14145 non-null  float64\n",
      " 25  primary_cleaner.state.floatbank8_b_level            14148 non-null  float64\n",
      " 26  primary_cleaner.state.floatbank8_c_air              14147 non-null  float64\n",
      " 27  primary_cleaner.state.floatbank8_c_level            14148 non-null  float64\n",
      " 28  primary_cleaner.state.floatbank8_d_air              14146 non-null  float64\n",
      " 29  primary_cleaner.state.floatbank8_d_level            14148 non-null  float64\n",
      " 30  rougher.calculation.sulfate_to_au_concentrate       14148 non-null  float64\n",
      " 31  rougher.calculation.floatbank10_sulfate_to_au_feed  14148 non-null  float64\n",
      " 32  rougher.calculation.floatbank11_sulfate_to_au_feed  14148 non-null  float64\n",
      " 33  rougher.calculation.au_pb_ratio                     14149 non-null  float64\n",
      " 34  rougher.input.feed_ag                               14149 non-null  float64\n",
      " 35  rougher.input.feed_pb                               14049 non-null  float64\n",
      " 36  rougher.input.feed_rate                             14141 non-null  float64\n",
      " 37  rougher.input.feed_size                             14005 non-null  float64\n",
      " 38  rougher.input.feed_sol                              14071 non-null  float64\n",
      " 39  rougher.input.feed_au                               14149 non-null  float64\n",
      " 40  rougher.input.floatbank10_sulfate                   14120 non-null  float64\n",
      " 41  rougher.input.floatbank10_xanthate                  14141 non-null  float64\n",
      " 42  rougher.input.floatbank11_sulfate                   14113 non-null  float64\n",
      " 43  rougher.input.floatbank11_xanthate                  13721 non-null  float64\n",
      " 44  rougher.output.concentrate_ag                       14149 non-null  float64\n",
      " 45  rougher.output.concentrate_pb                       14149 non-null  float64\n",
      " 46  rougher.output.concentrate_sol                      14127 non-null  float64\n",
      " 47  rougher.output.concentrate_au                       14149 non-null  float64\n",
      " 48  rougher.output.recovery                             14149 non-null  float64\n",
      " 49  rougher.output.tail_ag                              14148 non-null  float64\n",
      " 50  rougher.output.tail_pb                              14149 non-null  float64\n",
      " 51  rougher.output.tail_sol                             14149 non-null  float64\n",
      " 52  rougher.output.tail_au                              14149 non-null  float64\n",
      " 53  rougher.state.floatbank10_a_air                     14148 non-null  float64\n",
      " 54  rougher.state.floatbank10_a_level                   14148 non-null  float64\n",
      " 55  rougher.state.floatbank10_b_air                     14148 non-null  float64\n",
      " 56  rougher.state.floatbank10_b_level                   14148 non-null  float64\n",
      " 57  rougher.state.floatbank10_c_air                     14148 non-null  float64\n",
      " 58  rougher.state.floatbank10_c_level                   14148 non-null  float64\n",
      " 59  rougher.state.floatbank10_d_air                     14149 non-null  float64\n",
      " 60  rougher.state.floatbank10_d_level                   14149 non-null  float64\n",
      " 61  rougher.state.floatbank10_e_air                     13713 non-null  float64\n",
      " 62  rougher.state.floatbank10_e_level                   14149 non-null  float64\n",
      " 63  rougher.state.floatbank10_f_air                     14149 non-null  float64\n",
      " 64  rougher.state.floatbank10_f_level                   14149 non-null  float64\n",
      " 65  secondary_cleaner.output.tail_ag                    14147 non-null  float64\n",
      " 66  secondary_cleaner.output.tail_pb                    14139 non-null  float64\n",
      " 67  secondary_cleaner.output.tail_sol                   12544 non-null  float64\n",
      " 68  secondary_cleaner.output.tail_au                    14149 non-null  float64\n",
      " 69  secondary_cleaner.state.floatbank2_a_air            13932 non-null  float64\n",
      " 70  secondary_cleaner.state.floatbank2_a_level          14148 non-null  float64\n",
      " 71  secondary_cleaner.state.floatbank2_b_air            14128 non-null  float64\n",
      " 72  secondary_cleaner.state.floatbank2_b_level          14148 non-null  float64\n",
      " 73  secondary_cleaner.state.floatbank3_a_air            14145 non-null  float64\n",
      " 74  secondary_cleaner.state.floatbank3_a_level          14148 non-null  float64\n",
      " 75  secondary_cleaner.state.floatbank3_b_air            14148 non-null  float64\n",
      " 76  secondary_cleaner.state.floatbank3_b_level          14148 non-null  float64\n",
      " 77  secondary_cleaner.state.floatbank4_a_air            14143 non-null  float64\n",
      " 78  secondary_cleaner.state.floatbank4_a_level          14148 non-null  float64\n",
      " 79  secondary_cleaner.state.floatbank4_b_air            14148 non-null  float64\n",
      " 80  secondary_cleaner.state.floatbank4_b_level          14148 non-null  float64\n",
      " 81  secondary_cleaner.state.floatbank5_a_air            14148 non-null  float64\n",
      " 82  secondary_cleaner.state.floatbank5_a_level          14148 non-null  float64\n",
      " 83  secondary_cleaner.state.floatbank5_b_air            14148 non-null  float64\n",
      " 84  secondary_cleaner.state.floatbank5_b_level          14148 non-null  float64\n",
      " 85  secondary_cleaner.state.floatbank6_a_air            14147 non-null  float64\n",
      " 86  secondary_cleaner.state.floatbank6_a_level          14148 non-null  float64\n",
      "dtypes: float64(86), object(1)\n",
      "memory usage: 9.4+ MB\n"
     ]
    }
   ],
   "source": [
    "# получение общей информации об обучающей выборки\n",
    "df_train.info()"
   ]
  },
  {
   "cell_type": "code",
   "execution_count": 5,
   "metadata": {
    "scrolled": true
   },
   "outputs": [
    {
     "data": {
      "text/html": [
       "<div>\n",
       "<style scoped>\n",
       "    .dataframe tbody tr th:only-of-type {\n",
       "        vertical-align: middle;\n",
       "    }\n",
       "\n",
       "    .dataframe tbody tr th {\n",
       "        vertical-align: top;\n",
       "    }\n",
       "\n",
       "    .dataframe thead th {\n",
       "        text-align: right;\n",
       "    }\n",
       "</style>\n",
       "<table border=\"1\" class=\"dataframe\">\n",
       "  <thead>\n",
       "    <tr style=\"text-align: right;\">\n",
       "      <th></th>\n",
       "      <th>date</th>\n",
       "      <th>primary_cleaner.input.sulfate</th>\n",
       "      <th>primary_cleaner.input.depressant</th>\n",
       "      <th>primary_cleaner.input.feed_size</th>\n",
       "      <th>primary_cleaner.input.xanthate</th>\n",
       "      <th>primary_cleaner.state.floatbank8_a_air</th>\n",
       "      <th>primary_cleaner.state.floatbank8_a_level</th>\n",
       "      <th>primary_cleaner.state.floatbank8_b_air</th>\n",
       "      <th>primary_cleaner.state.floatbank8_b_level</th>\n",
       "      <th>primary_cleaner.state.floatbank8_c_air</th>\n",
       "      <th>...</th>\n",
       "      <th>secondary_cleaner.state.floatbank4_a_air</th>\n",
       "      <th>secondary_cleaner.state.floatbank4_a_level</th>\n",
       "      <th>secondary_cleaner.state.floatbank4_b_air</th>\n",
       "      <th>secondary_cleaner.state.floatbank4_b_level</th>\n",
       "      <th>secondary_cleaner.state.floatbank5_a_air</th>\n",
       "      <th>secondary_cleaner.state.floatbank5_a_level</th>\n",
       "      <th>secondary_cleaner.state.floatbank5_b_air</th>\n",
       "      <th>secondary_cleaner.state.floatbank5_b_level</th>\n",
       "      <th>secondary_cleaner.state.floatbank6_a_air</th>\n",
       "      <th>secondary_cleaner.state.floatbank6_a_level</th>\n",
       "    </tr>\n",
       "  </thead>\n",
       "  <tbody>\n",
       "    <tr>\n",
       "      <th>0</th>\n",
       "      <td>2016-09-01 00:59:59</td>\n",
       "      <td>210.800909</td>\n",
       "      <td>14.993118</td>\n",
       "      <td>8.080000</td>\n",
       "      <td>1.005021</td>\n",
       "      <td>1398.981301</td>\n",
       "      <td>-500.225577</td>\n",
       "      <td>1399.144926</td>\n",
       "      <td>-499.919735</td>\n",
       "      <td>1400.102998</td>\n",
       "      <td>...</td>\n",
       "      <td>12.023554</td>\n",
       "      <td>-497.795834</td>\n",
       "      <td>8.016656</td>\n",
       "      <td>-501.289139</td>\n",
       "      <td>7.946562</td>\n",
       "      <td>-432.317850</td>\n",
       "      <td>4.872511</td>\n",
       "      <td>-500.037437</td>\n",
       "      <td>26.705889</td>\n",
       "      <td>-499.709414</td>\n",
       "    </tr>\n",
       "    <tr>\n",
       "      <th>1</th>\n",
       "      <td>2016-09-01 01:59:59</td>\n",
       "      <td>215.392455</td>\n",
       "      <td>14.987471</td>\n",
       "      <td>8.080000</td>\n",
       "      <td>0.990469</td>\n",
       "      <td>1398.777912</td>\n",
       "      <td>-500.057435</td>\n",
       "      <td>1398.055362</td>\n",
       "      <td>-499.778182</td>\n",
       "      <td>1396.151033</td>\n",
       "      <td>...</td>\n",
       "      <td>12.058140</td>\n",
       "      <td>-498.695773</td>\n",
       "      <td>8.130979</td>\n",
       "      <td>-499.634209</td>\n",
       "      <td>7.958270</td>\n",
       "      <td>-525.839648</td>\n",
       "      <td>4.878850</td>\n",
       "      <td>-500.162375</td>\n",
       "      <td>25.019940</td>\n",
       "      <td>-499.819438</td>\n",
       "    </tr>\n",
       "    <tr>\n",
       "      <th>2</th>\n",
       "      <td>2016-09-01 02:59:59</td>\n",
       "      <td>215.259946</td>\n",
       "      <td>12.884934</td>\n",
       "      <td>7.786667</td>\n",
       "      <td>0.996043</td>\n",
       "      <td>1398.493666</td>\n",
       "      <td>-500.868360</td>\n",
       "      <td>1398.860436</td>\n",
       "      <td>-499.764529</td>\n",
       "      <td>1398.075709</td>\n",
       "      <td>...</td>\n",
       "      <td>11.962366</td>\n",
       "      <td>-498.767484</td>\n",
       "      <td>8.096893</td>\n",
       "      <td>-500.827423</td>\n",
       "      <td>8.071056</td>\n",
       "      <td>-500.801673</td>\n",
       "      <td>4.905125</td>\n",
       "      <td>-499.828510</td>\n",
       "      <td>24.994862</td>\n",
       "      <td>-500.622559</td>\n",
       "    </tr>\n",
       "    <tr>\n",
       "      <th>3</th>\n",
       "      <td>2016-09-01 03:59:59</td>\n",
       "      <td>215.336236</td>\n",
       "      <td>12.006805</td>\n",
       "      <td>7.640000</td>\n",
       "      <td>0.863514</td>\n",
       "      <td>1399.618111</td>\n",
       "      <td>-498.863574</td>\n",
       "      <td>1397.440120</td>\n",
       "      <td>-499.211024</td>\n",
       "      <td>1400.129303</td>\n",
       "      <td>...</td>\n",
       "      <td>12.033091</td>\n",
       "      <td>-498.350935</td>\n",
       "      <td>8.074946</td>\n",
       "      <td>-499.474407</td>\n",
       "      <td>7.897085</td>\n",
       "      <td>-500.868509</td>\n",
       "      <td>4.931400</td>\n",
       "      <td>-499.963623</td>\n",
       "      <td>24.948919</td>\n",
       "      <td>-498.709987</td>\n",
       "    </tr>\n",
       "    <tr>\n",
       "      <th>4</th>\n",
       "      <td>2016-09-01 04:59:59</td>\n",
       "      <td>199.099327</td>\n",
       "      <td>10.682530</td>\n",
       "      <td>7.530000</td>\n",
       "      <td>0.805575</td>\n",
       "      <td>1401.268123</td>\n",
       "      <td>-500.808305</td>\n",
       "      <td>1398.128818</td>\n",
       "      <td>-499.504543</td>\n",
       "      <td>1402.172226</td>\n",
       "      <td>...</td>\n",
       "      <td>12.025367</td>\n",
       "      <td>-500.786497</td>\n",
       "      <td>8.054678</td>\n",
       "      <td>-500.397500</td>\n",
       "      <td>8.107890</td>\n",
       "      <td>-509.526725</td>\n",
       "      <td>4.957674</td>\n",
       "      <td>-500.360026</td>\n",
       "      <td>25.003331</td>\n",
       "      <td>-500.856333</td>\n",
       "    </tr>\n",
       "  </tbody>\n",
       "</table>\n",
       "<p>5 rows × 53 columns</p>\n",
       "</div>"
      ],
      "text/plain": [
       "                  date  primary_cleaner.input.sulfate  \\\n",
       "0  2016-09-01 00:59:59                     210.800909   \n",
       "1  2016-09-01 01:59:59                     215.392455   \n",
       "2  2016-09-01 02:59:59                     215.259946   \n",
       "3  2016-09-01 03:59:59                     215.336236   \n",
       "4  2016-09-01 04:59:59                     199.099327   \n",
       "\n",
       "   primary_cleaner.input.depressant  primary_cleaner.input.feed_size  \\\n",
       "0                         14.993118                         8.080000   \n",
       "1                         14.987471                         8.080000   \n",
       "2                         12.884934                         7.786667   \n",
       "3                         12.006805                         7.640000   \n",
       "4                         10.682530                         7.530000   \n",
       "\n",
       "   primary_cleaner.input.xanthate  primary_cleaner.state.floatbank8_a_air  \\\n",
       "0                        1.005021                             1398.981301   \n",
       "1                        0.990469                             1398.777912   \n",
       "2                        0.996043                             1398.493666   \n",
       "3                        0.863514                             1399.618111   \n",
       "4                        0.805575                             1401.268123   \n",
       "\n",
       "   primary_cleaner.state.floatbank8_a_level  \\\n",
       "0                               -500.225577   \n",
       "1                               -500.057435   \n",
       "2                               -500.868360   \n",
       "3                               -498.863574   \n",
       "4                               -500.808305   \n",
       "\n",
       "   primary_cleaner.state.floatbank8_b_air  \\\n",
       "0                             1399.144926   \n",
       "1                             1398.055362   \n",
       "2                             1398.860436   \n",
       "3                             1397.440120   \n",
       "4                             1398.128818   \n",
       "\n",
       "   primary_cleaner.state.floatbank8_b_level  \\\n",
       "0                               -499.919735   \n",
       "1                               -499.778182   \n",
       "2                               -499.764529   \n",
       "3                               -499.211024   \n",
       "4                               -499.504543   \n",
       "\n",
       "   primary_cleaner.state.floatbank8_c_air  ...  \\\n",
       "0                             1400.102998  ...   \n",
       "1                             1396.151033  ...   \n",
       "2                             1398.075709  ...   \n",
       "3                             1400.129303  ...   \n",
       "4                             1402.172226  ...   \n",
       "\n",
       "   secondary_cleaner.state.floatbank4_a_air  \\\n",
       "0                                 12.023554   \n",
       "1                                 12.058140   \n",
       "2                                 11.962366   \n",
       "3                                 12.033091   \n",
       "4                                 12.025367   \n",
       "\n",
       "   secondary_cleaner.state.floatbank4_a_level  \\\n",
       "0                                 -497.795834   \n",
       "1                                 -498.695773   \n",
       "2                                 -498.767484   \n",
       "3                                 -498.350935   \n",
       "4                                 -500.786497   \n",
       "\n",
       "   secondary_cleaner.state.floatbank4_b_air  \\\n",
       "0                                  8.016656   \n",
       "1                                  8.130979   \n",
       "2                                  8.096893   \n",
       "3                                  8.074946   \n",
       "4                                  8.054678   \n",
       "\n",
       "   secondary_cleaner.state.floatbank4_b_level  \\\n",
       "0                                 -501.289139   \n",
       "1                                 -499.634209   \n",
       "2                                 -500.827423   \n",
       "3                                 -499.474407   \n",
       "4                                 -500.397500   \n",
       "\n",
       "   secondary_cleaner.state.floatbank5_a_air  \\\n",
       "0                                  7.946562   \n",
       "1                                  7.958270   \n",
       "2                                  8.071056   \n",
       "3                                  7.897085   \n",
       "4                                  8.107890   \n",
       "\n",
       "   secondary_cleaner.state.floatbank5_a_level  \\\n",
       "0                                 -432.317850   \n",
       "1                                 -525.839648   \n",
       "2                                 -500.801673   \n",
       "3                                 -500.868509   \n",
       "4                                 -509.526725   \n",
       "\n",
       "   secondary_cleaner.state.floatbank5_b_air  \\\n",
       "0                                  4.872511   \n",
       "1                                  4.878850   \n",
       "2                                  4.905125   \n",
       "3                                  4.931400   \n",
       "4                                  4.957674   \n",
       "\n",
       "   secondary_cleaner.state.floatbank5_b_level  \\\n",
       "0                                 -500.037437   \n",
       "1                                 -500.162375   \n",
       "2                                 -499.828510   \n",
       "3                                 -499.963623   \n",
       "4                                 -500.360026   \n",
       "\n",
       "   secondary_cleaner.state.floatbank6_a_air  \\\n",
       "0                                 26.705889   \n",
       "1                                 25.019940   \n",
       "2                                 24.994862   \n",
       "3                                 24.948919   \n",
       "4                                 25.003331   \n",
       "\n",
       "   secondary_cleaner.state.floatbank6_a_level  \n",
       "0                                 -499.709414  \n",
       "1                                 -499.819438  \n",
       "2                                 -500.622559  \n",
       "3                                 -498.709987  \n",
       "4                                 -500.856333  \n",
       "\n",
       "[5 rows x 53 columns]"
      ]
     },
     "execution_count": 5,
     "metadata": {},
     "output_type": "execute_result"
    }
   ],
   "source": [
    "# просмотр первых пяти строк тестовой выборки\n",
    "df_test.head()"
   ]
  },
  {
   "cell_type": "code",
   "execution_count": 6,
   "metadata": {
    "scrolled": true
   },
   "outputs": [
    {
     "name": "stdout",
     "output_type": "stream",
     "text": [
      "<class 'pandas.core.frame.DataFrame'>\n",
      "RangeIndex: 5290 entries, 0 to 5289\n",
      "Data columns (total 53 columns):\n",
      " #   Column                                      Non-Null Count  Dtype  \n",
      "---  ------                                      --------------  -----  \n",
      " 0   date                                        5290 non-null   object \n",
      " 1   primary_cleaner.input.sulfate               5286 non-null   float64\n",
      " 2   primary_cleaner.input.depressant            5285 non-null   float64\n",
      " 3   primary_cleaner.input.feed_size             5290 non-null   float64\n",
      " 4   primary_cleaner.input.xanthate              5286 non-null   float64\n",
      " 5   primary_cleaner.state.floatbank8_a_air      5290 non-null   float64\n",
      " 6   primary_cleaner.state.floatbank8_a_level    5290 non-null   float64\n",
      " 7   primary_cleaner.state.floatbank8_b_air      5290 non-null   float64\n",
      " 8   primary_cleaner.state.floatbank8_b_level    5290 non-null   float64\n",
      " 9   primary_cleaner.state.floatbank8_c_air      5290 non-null   float64\n",
      " 10  primary_cleaner.state.floatbank8_c_level    5290 non-null   float64\n",
      " 11  primary_cleaner.state.floatbank8_d_air      5290 non-null   float64\n",
      " 12  primary_cleaner.state.floatbank8_d_level    5290 non-null   float64\n",
      " 13  rougher.input.feed_ag                       5290 non-null   float64\n",
      " 14  rougher.input.feed_pb                       5290 non-null   float64\n",
      " 15  rougher.input.feed_rate                     5287 non-null   float64\n",
      " 16  rougher.input.feed_size                     5289 non-null   float64\n",
      " 17  rougher.input.feed_sol                      5269 non-null   float64\n",
      " 18  rougher.input.feed_au                       5290 non-null   float64\n",
      " 19  rougher.input.floatbank10_sulfate           5285 non-null   float64\n",
      " 20  rougher.input.floatbank10_xanthate          5290 non-null   float64\n",
      " 21  rougher.input.floatbank11_sulfate           5282 non-null   float64\n",
      " 22  rougher.input.floatbank11_xanthate          5265 non-null   float64\n",
      " 23  rougher.state.floatbank10_a_air             5290 non-null   float64\n",
      " 24  rougher.state.floatbank10_a_level           5290 non-null   float64\n",
      " 25  rougher.state.floatbank10_b_air             5290 non-null   float64\n",
      " 26  rougher.state.floatbank10_b_level           5290 non-null   float64\n",
      " 27  rougher.state.floatbank10_c_air             5290 non-null   float64\n",
      " 28  rougher.state.floatbank10_c_level           5290 non-null   float64\n",
      " 29  rougher.state.floatbank10_d_air             5290 non-null   float64\n",
      " 30  rougher.state.floatbank10_d_level           5290 non-null   float64\n",
      " 31  rougher.state.floatbank10_e_air             5290 non-null   float64\n",
      " 32  rougher.state.floatbank10_e_level           5290 non-null   float64\n",
      " 33  rougher.state.floatbank10_f_air             5290 non-null   float64\n",
      " 34  rougher.state.floatbank10_f_level           5290 non-null   float64\n",
      " 35  secondary_cleaner.state.floatbank2_a_air    5287 non-null   float64\n",
      " 36  secondary_cleaner.state.floatbank2_a_level  5290 non-null   float64\n",
      " 37  secondary_cleaner.state.floatbank2_b_air    5288 non-null   float64\n",
      " 38  secondary_cleaner.state.floatbank2_b_level  5290 non-null   float64\n",
      " 39  secondary_cleaner.state.floatbank3_a_air    5281 non-null   float64\n",
      " 40  secondary_cleaner.state.floatbank3_a_level  5290 non-null   float64\n",
      " 41  secondary_cleaner.state.floatbank3_b_air    5290 non-null   float64\n",
      " 42  secondary_cleaner.state.floatbank3_b_level  5290 non-null   float64\n",
      " 43  secondary_cleaner.state.floatbank4_a_air    5290 non-null   float64\n",
      " 44  secondary_cleaner.state.floatbank4_a_level  5290 non-null   float64\n",
      " 45  secondary_cleaner.state.floatbank4_b_air    5290 non-null   float64\n",
      " 46  secondary_cleaner.state.floatbank4_b_level  5290 non-null   float64\n",
      " 47  secondary_cleaner.state.floatbank5_a_air    5290 non-null   float64\n",
      " 48  secondary_cleaner.state.floatbank5_a_level  5290 non-null   float64\n",
      " 49  secondary_cleaner.state.floatbank5_b_air    5290 non-null   float64\n",
      " 50  secondary_cleaner.state.floatbank5_b_level  5290 non-null   float64\n",
      " 51  secondary_cleaner.state.floatbank6_a_air    5290 non-null   float64\n",
      " 52  secondary_cleaner.state.floatbank6_a_level  5290 non-null   float64\n",
      "dtypes: float64(52), object(1)\n",
      "memory usage: 2.1+ MB\n"
     ]
    }
   ],
   "source": [
    "# получение общей информации о тестовой выборки\n",
    "df_test.info()"
   ]
  },
  {
   "cell_type": "code",
   "execution_count": 7,
   "metadata": {
    "scrolled": true
   },
   "outputs": [
    {
     "data": {
      "text/html": [
       "<div>\n",
       "<style scoped>\n",
       "    .dataframe tbody tr th:only-of-type {\n",
       "        vertical-align: middle;\n",
       "    }\n",
       "\n",
       "    .dataframe tbody tr th {\n",
       "        vertical-align: top;\n",
       "    }\n",
       "\n",
       "    .dataframe thead th {\n",
       "        text-align: right;\n",
       "    }\n",
       "</style>\n",
       "<table border=\"1\" class=\"dataframe\">\n",
       "  <thead>\n",
       "    <tr style=\"text-align: right;\">\n",
       "      <th></th>\n",
       "      <th>date</th>\n",
       "      <th>final.output.concentrate_ag</th>\n",
       "      <th>final.output.concentrate_pb</th>\n",
       "      <th>final.output.concentrate_sol</th>\n",
       "      <th>final.output.concentrate_au</th>\n",
       "      <th>final.output.recovery</th>\n",
       "      <th>final.output.tail_ag</th>\n",
       "      <th>final.output.tail_pb</th>\n",
       "      <th>final.output.tail_sol</th>\n",
       "      <th>final.output.tail_au</th>\n",
       "      <th>...</th>\n",
       "      <th>secondary_cleaner.state.floatbank4_a_air</th>\n",
       "      <th>secondary_cleaner.state.floatbank4_a_level</th>\n",
       "      <th>secondary_cleaner.state.floatbank4_b_air</th>\n",
       "      <th>secondary_cleaner.state.floatbank4_b_level</th>\n",
       "      <th>secondary_cleaner.state.floatbank5_a_air</th>\n",
       "      <th>secondary_cleaner.state.floatbank5_a_level</th>\n",
       "      <th>secondary_cleaner.state.floatbank5_b_air</th>\n",
       "      <th>secondary_cleaner.state.floatbank5_b_level</th>\n",
       "      <th>secondary_cleaner.state.floatbank6_a_air</th>\n",
       "      <th>secondary_cleaner.state.floatbank6_a_level</th>\n",
       "    </tr>\n",
       "  </thead>\n",
       "  <tbody>\n",
       "    <tr>\n",
       "      <th>0</th>\n",
       "      <td>2016-01-15 00:00:00</td>\n",
       "      <td>6.055403</td>\n",
       "      <td>9.889648</td>\n",
       "      <td>5.507324</td>\n",
       "      <td>42.192020</td>\n",
       "      <td>70.541216</td>\n",
       "      <td>10.411962</td>\n",
       "      <td>0.895447</td>\n",
       "      <td>16.904297</td>\n",
       "      <td>2.143149</td>\n",
       "      <td>...</td>\n",
       "      <td>14.016835</td>\n",
       "      <td>-502.488007</td>\n",
       "      <td>12.099931</td>\n",
       "      <td>-504.715942</td>\n",
       "      <td>9.925633</td>\n",
       "      <td>-498.310211</td>\n",
       "      <td>8.079666</td>\n",
       "      <td>-500.470978</td>\n",
       "      <td>14.151341</td>\n",
       "      <td>-605.841980</td>\n",
       "    </tr>\n",
       "    <tr>\n",
       "      <th>1</th>\n",
       "      <td>2016-01-15 01:00:00</td>\n",
       "      <td>6.029369</td>\n",
       "      <td>9.968944</td>\n",
       "      <td>5.257781</td>\n",
       "      <td>42.701629</td>\n",
       "      <td>69.266198</td>\n",
       "      <td>10.462676</td>\n",
       "      <td>0.927452</td>\n",
       "      <td>16.634514</td>\n",
       "      <td>2.224930</td>\n",
       "      <td>...</td>\n",
       "      <td>13.992281</td>\n",
       "      <td>-505.503262</td>\n",
       "      <td>11.950531</td>\n",
       "      <td>-501.331529</td>\n",
       "      <td>10.039245</td>\n",
       "      <td>-500.169983</td>\n",
       "      <td>7.984757</td>\n",
       "      <td>-500.582168</td>\n",
       "      <td>13.998353</td>\n",
       "      <td>-599.787184</td>\n",
       "    </tr>\n",
       "    <tr>\n",
       "      <th>2</th>\n",
       "      <td>2016-01-15 02:00:00</td>\n",
       "      <td>6.055926</td>\n",
       "      <td>10.213995</td>\n",
       "      <td>5.383759</td>\n",
       "      <td>42.657501</td>\n",
       "      <td>68.116445</td>\n",
       "      <td>10.507046</td>\n",
       "      <td>0.953716</td>\n",
       "      <td>16.208849</td>\n",
       "      <td>2.257889</td>\n",
       "      <td>...</td>\n",
       "      <td>14.015015</td>\n",
       "      <td>-502.520901</td>\n",
       "      <td>11.912783</td>\n",
       "      <td>-501.133383</td>\n",
       "      <td>10.070913</td>\n",
       "      <td>-500.129135</td>\n",
       "      <td>8.013877</td>\n",
       "      <td>-500.517572</td>\n",
       "      <td>14.028663</td>\n",
       "      <td>-601.427363</td>\n",
       "    </tr>\n",
       "    <tr>\n",
       "      <th>3</th>\n",
       "      <td>2016-01-15 03:00:00</td>\n",
       "      <td>6.047977</td>\n",
       "      <td>9.977019</td>\n",
       "      <td>4.858634</td>\n",
       "      <td>42.689819</td>\n",
       "      <td>68.347543</td>\n",
       "      <td>10.422762</td>\n",
       "      <td>0.883763</td>\n",
       "      <td>16.532835</td>\n",
       "      <td>2.146849</td>\n",
       "      <td>...</td>\n",
       "      <td>14.036510</td>\n",
       "      <td>-500.857308</td>\n",
       "      <td>11.999550</td>\n",
       "      <td>-501.193686</td>\n",
       "      <td>9.970366</td>\n",
       "      <td>-499.201640</td>\n",
       "      <td>7.977324</td>\n",
       "      <td>-500.255908</td>\n",
       "      <td>14.005551</td>\n",
       "      <td>-599.996129</td>\n",
       "    </tr>\n",
       "    <tr>\n",
       "      <th>4</th>\n",
       "      <td>2016-01-15 04:00:00</td>\n",
       "      <td>6.148599</td>\n",
       "      <td>10.142511</td>\n",
       "      <td>4.939416</td>\n",
       "      <td>42.774141</td>\n",
       "      <td>66.927016</td>\n",
       "      <td>10.360302</td>\n",
       "      <td>0.792826</td>\n",
       "      <td>16.525686</td>\n",
       "      <td>2.055292</td>\n",
       "      <td>...</td>\n",
       "      <td>14.027298</td>\n",
       "      <td>-499.838632</td>\n",
       "      <td>11.953070</td>\n",
       "      <td>-501.053894</td>\n",
       "      <td>9.925709</td>\n",
       "      <td>-501.686727</td>\n",
       "      <td>7.894242</td>\n",
       "      <td>-500.356035</td>\n",
       "      <td>13.996647</td>\n",
       "      <td>-601.496691</td>\n",
       "    </tr>\n",
       "  </tbody>\n",
       "</table>\n",
       "<p>5 rows × 87 columns</p>\n",
       "</div>"
      ],
      "text/plain": [
       "                  date  final.output.concentrate_ag  \\\n",
       "0  2016-01-15 00:00:00                     6.055403   \n",
       "1  2016-01-15 01:00:00                     6.029369   \n",
       "2  2016-01-15 02:00:00                     6.055926   \n",
       "3  2016-01-15 03:00:00                     6.047977   \n",
       "4  2016-01-15 04:00:00                     6.148599   \n",
       "\n",
       "   final.output.concentrate_pb  final.output.concentrate_sol  \\\n",
       "0                     9.889648                      5.507324   \n",
       "1                     9.968944                      5.257781   \n",
       "2                    10.213995                      5.383759   \n",
       "3                     9.977019                      4.858634   \n",
       "4                    10.142511                      4.939416   \n",
       "\n",
       "   final.output.concentrate_au  final.output.recovery  final.output.tail_ag  \\\n",
       "0                    42.192020              70.541216             10.411962   \n",
       "1                    42.701629              69.266198             10.462676   \n",
       "2                    42.657501              68.116445             10.507046   \n",
       "3                    42.689819              68.347543             10.422762   \n",
       "4                    42.774141              66.927016             10.360302   \n",
       "\n",
       "   final.output.tail_pb  final.output.tail_sol  final.output.tail_au  ...  \\\n",
       "0              0.895447              16.904297              2.143149  ...   \n",
       "1              0.927452              16.634514              2.224930  ...   \n",
       "2              0.953716              16.208849              2.257889  ...   \n",
       "3              0.883763              16.532835              2.146849  ...   \n",
       "4              0.792826              16.525686              2.055292  ...   \n",
       "\n",
       "   secondary_cleaner.state.floatbank4_a_air  \\\n",
       "0                                 14.016835   \n",
       "1                                 13.992281   \n",
       "2                                 14.015015   \n",
       "3                                 14.036510   \n",
       "4                                 14.027298   \n",
       "\n",
       "   secondary_cleaner.state.floatbank4_a_level  \\\n",
       "0                                 -502.488007   \n",
       "1                                 -505.503262   \n",
       "2                                 -502.520901   \n",
       "3                                 -500.857308   \n",
       "4                                 -499.838632   \n",
       "\n",
       "   secondary_cleaner.state.floatbank4_b_air  \\\n",
       "0                                 12.099931   \n",
       "1                                 11.950531   \n",
       "2                                 11.912783   \n",
       "3                                 11.999550   \n",
       "4                                 11.953070   \n",
       "\n",
       "   secondary_cleaner.state.floatbank4_b_level  \\\n",
       "0                                 -504.715942   \n",
       "1                                 -501.331529   \n",
       "2                                 -501.133383   \n",
       "3                                 -501.193686   \n",
       "4                                 -501.053894   \n",
       "\n",
       "   secondary_cleaner.state.floatbank5_a_air  \\\n",
       "0                                  9.925633   \n",
       "1                                 10.039245   \n",
       "2                                 10.070913   \n",
       "3                                  9.970366   \n",
       "4                                  9.925709   \n",
       "\n",
       "   secondary_cleaner.state.floatbank5_a_level  \\\n",
       "0                                 -498.310211   \n",
       "1                                 -500.169983   \n",
       "2                                 -500.129135   \n",
       "3                                 -499.201640   \n",
       "4                                 -501.686727   \n",
       "\n",
       "   secondary_cleaner.state.floatbank5_b_air  \\\n",
       "0                                  8.079666   \n",
       "1                                  7.984757   \n",
       "2                                  8.013877   \n",
       "3                                  7.977324   \n",
       "4                                  7.894242   \n",
       "\n",
       "   secondary_cleaner.state.floatbank5_b_level  \\\n",
       "0                                 -500.470978   \n",
       "1                                 -500.582168   \n",
       "2                                 -500.517572   \n",
       "3                                 -500.255908   \n",
       "4                                 -500.356035   \n",
       "\n",
       "   secondary_cleaner.state.floatbank6_a_air  \\\n",
       "0                                 14.151341   \n",
       "1                                 13.998353   \n",
       "2                                 14.028663   \n",
       "3                                 14.005551   \n",
       "4                                 13.996647   \n",
       "\n",
       "   secondary_cleaner.state.floatbank6_a_level  \n",
       "0                                 -605.841980  \n",
       "1                                 -599.787184  \n",
       "2                                 -601.427363  \n",
       "3                                 -599.996129  \n",
       "4                                 -601.496691  \n",
       "\n",
       "[5 rows x 87 columns]"
      ]
     },
     "execution_count": 7,
     "metadata": {},
     "output_type": "execute_result"
    }
   ],
   "source": [
    "# просмотр первых пяти строк исходных данных\n",
    "df_full.head()"
   ]
  },
  {
   "cell_type": "code",
   "execution_count": 8,
   "metadata": {
    "scrolled": true
   },
   "outputs": [
    {
     "name": "stdout",
     "output_type": "stream",
     "text": [
      "<class 'pandas.core.frame.DataFrame'>\n",
      "RangeIndex: 19439 entries, 0 to 19438\n",
      "Data columns (total 87 columns):\n",
      " #   Column                                              Non-Null Count  Dtype  \n",
      "---  ------                                              --------------  -----  \n",
      " 0   date                                                19439 non-null  object \n",
      " 1   final.output.concentrate_ag                         19438 non-null  float64\n",
      " 2   final.output.concentrate_pb                         19438 non-null  float64\n",
      " 3   final.output.concentrate_sol                        19228 non-null  float64\n",
      " 4   final.output.concentrate_au                         19439 non-null  float64\n",
      " 5   final.output.recovery                               19439 non-null  float64\n",
      " 6   final.output.tail_ag                                19438 non-null  float64\n",
      " 7   final.output.tail_pb                                19338 non-null  float64\n",
      " 8   final.output.tail_sol                               19433 non-null  float64\n",
      " 9   final.output.tail_au                                19439 non-null  float64\n",
      " 10  primary_cleaner.input.sulfate                       19415 non-null  float64\n",
      " 11  primary_cleaner.input.depressant                    19402 non-null  float64\n",
      " 12  primary_cleaner.input.feed_size                     19439 non-null  float64\n",
      " 13  primary_cleaner.input.xanthate                      19335 non-null  float64\n",
      " 14  primary_cleaner.output.concentrate_ag               19439 non-null  float64\n",
      " 15  primary_cleaner.output.concentrate_pb               19323 non-null  float64\n",
      " 16  primary_cleaner.output.concentrate_sol              19069 non-null  float64\n",
      " 17  primary_cleaner.output.concentrate_au               19439 non-null  float64\n",
      " 18  primary_cleaner.output.tail_ag                      19435 non-null  float64\n",
      " 19  primary_cleaner.output.tail_pb                      19418 non-null  float64\n",
      " 20  primary_cleaner.output.tail_sol                     19377 non-null  float64\n",
      " 21  primary_cleaner.output.tail_au                      19439 non-null  float64\n",
      " 22  primary_cleaner.state.floatbank8_a_air              19435 non-null  float64\n",
      " 23  primary_cleaner.state.floatbank8_a_level            19438 non-null  float64\n",
      " 24  primary_cleaner.state.floatbank8_b_air              19435 non-null  float64\n",
      " 25  primary_cleaner.state.floatbank8_b_level            19438 non-null  float64\n",
      " 26  primary_cleaner.state.floatbank8_c_air              19437 non-null  float64\n",
      " 27  primary_cleaner.state.floatbank8_c_level            19438 non-null  float64\n",
      " 28  primary_cleaner.state.floatbank8_d_air              19436 non-null  float64\n",
      " 29  primary_cleaner.state.floatbank8_d_level            19438 non-null  float64\n",
      " 30  rougher.calculation.sulfate_to_au_concentrate       19437 non-null  float64\n",
      " 31  rougher.calculation.floatbank10_sulfate_to_au_feed  19437 non-null  float64\n",
      " 32  rougher.calculation.floatbank11_sulfate_to_au_feed  19437 non-null  float64\n",
      " 33  rougher.calculation.au_pb_ratio                     19439 non-null  float64\n",
      " 34  rougher.input.feed_ag                               19439 non-null  float64\n",
      " 35  rougher.input.feed_pb                               19339 non-null  float64\n",
      " 36  rougher.input.feed_rate                             19428 non-null  float64\n",
      " 37  rougher.input.feed_size                             19294 non-null  float64\n",
      " 38  rougher.input.feed_sol                              19340 non-null  float64\n",
      " 39  rougher.input.feed_au                               19439 non-null  float64\n",
      " 40  rougher.input.floatbank10_sulfate                   19405 non-null  float64\n",
      " 41  rougher.input.floatbank10_xanthate                  19431 non-null  float64\n",
      " 42  rougher.input.floatbank11_sulfate                   19395 non-null  float64\n",
      " 43  rougher.input.floatbank11_xanthate                  18986 non-null  float64\n",
      " 44  rougher.output.concentrate_ag                       19439 non-null  float64\n",
      " 45  rougher.output.concentrate_pb                       19439 non-null  float64\n",
      " 46  rougher.output.concentrate_sol                      19416 non-null  float64\n",
      " 47  rougher.output.concentrate_au                       19439 non-null  float64\n",
      " 48  rougher.output.recovery                             19439 non-null  float64\n",
      " 49  rougher.output.tail_ag                              19438 non-null  float64\n",
      " 50  rougher.output.tail_pb                              19439 non-null  float64\n",
      " 51  rougher.output.tail_sol                             19439 non-null  float64\n",
      " 52  rougher.output.tail_au                              19439 non-null  float64\n",
      " 53  rougher.state.floatbank10_a_air                     19438 non-null  float64\n",
      " 54  rougher.state.floatbank10_a_level                   19438 non-null  float64\n",
      " 55  rougher.state.floatbank10_b_air                     19438 non-null  float64\n",
      " 56  rougher.state.floatbank10_b_level                   19438 non-null  float64\n",
      " 57  rougher.state.floatbank10_c_air                     19438 non-null  float64\n",
      " 58  rougher.state.floatbank10_c_level                   19438 non-null  float64\n",
      " 59  rougher.state.floatbank10_d_air                     19439 non-null  float64\n",
      " 60  rougher.state.floatbank10_d_level                   19439 non-null  float64\n",
      " 61  rougher.state.floatbank10_e_air                     19003 non-null  float64\n",
      " 62  rougher.state.floatbank10_e_level                   19439 non-null  float64\n",
      " 63  rougher.state.floatbank10_f_air                     19439 non-null  float64\n",
      " 64  rougher.state.floatbank10_f_level                   19439 non-null  float64\n",
      " 65  secondary_cleaner.output.tail_ag                    19437 non-null  float64\n",
      " 66  secondary_cleaner.output.tail_pb                    19427 non-null  float64\n",
      " 67  secondary_cleaner.output.tail_sol                   17691 non-null  float64\n",
      " 68  secondary_cleaner.output.tail_au                    19439 non-null  float64\n",
      " 69  secondary_cleaner.state.floatbank2_a_air            19219 non-null  float64\n",
      " 70  secondary_cleaner.state.floatbank2_a_level          19438 non-null  float64\n",
      " 71  secondary_cleaner.state.floatbank2_b_air            19416 non-null  float64\n",
      " 72  secondary_cleaner.state.floatbank2_b_level          19438 non-null  float64\n",
      " 73  secondary_cleaner.state.floatbank3_a_air            19426 non-null  float64\n",
      " 74  secondary_cleaner.state.floatbank3_a_level          19438 non-null  float64\n",
      " 75  secondary_cleaner.state.floatbank3_b_air            19438 non-null  float64\n",
      " 76  secondary_cleaner.state.floatbank3_b_level          19438 non-null  float64\n",
      " 77  secondary_cleaner.state.floatbank4_a_air            19433 non-null  float64\n",
      " 78  secondary_cleaner.state.floatbank4_a_level          19438 non-null  float64\n",
      " 79  secondary_cleaner.state.floatbank4_b_air            19438 non-null  float64\n",
      " 80  secondary_cleaner.state.floatbank4_b_level          19438 non-null  float64\n",
      " 81  secondary_cleaner.state.floatbank5_a_air            19438 non-null  float64\n",
      " 82  secondary_cleaner.state.floatbank5_a_level          19438 non-null  float64\n",
      " 83  secondary_cleaner.state.floatbank5_b_air            19438 non-null  float64\n",
      " 84  secondary_cleaner.state.floatbank5_b_level          19438 non-null  float64\n",
      " 85  secondary_cleaner.state.floatbank6_a_air            19437 non-null  float64\n",
      " 86  secondary_cleaner.state.floatbank6_a_level          19438 non-null  float64\n",
      "dtypes: float64(86), object(1)\n",
      "memory usage: 12.9+ MB\n"
     ]
    }
   ],
   "source": [
    "# получение общей информации об исходных данных\n",
    "df_full.info()"
   ]
  },
  {
   "cell_type": "markdown",
   "metadata": {},
   "source": [
    "Таким образом, у нас имеются три датасета, в которых присутствуют пропуски. Все признаки имеют тип `float64`. В тестовой выборке отсутствуют некоторые признаки. "
   ]
  },
  {
   "cell_type": "markdown",
   "metadata": {},
   "source": [
    "Теперь проверим, правильно ли рассчитана эффективность обогащения. Для этого вычилслим MAE между нашими расчётами и значением признака `rougher.output.recovery`."
   ]
  },
  {
   "cell_type": "code",
   "execution_count": 9,
   "metadata": {},
   "outputs": [
    {
     "name": "stdout",
     "output_type": "stream",
     "text": [
      "Абсолютная средняя ошибка = 9.73512347450521e-15\n"
     ]
    }
   ],
   "source": [
    "# расчет абсолютной средней ошибки\n",
    "recovery = df_train['rougher.output.concentrate_au']*(\n",
    "df_train['rougher.input.feed_au']-df_train['rougher.output.tail_au']) / (\n",
    "df_train['rougher.input.feed_au']*(df_train['rougher.output.concentrate_au']-df_train['rougher.output.tail_au']))*100 # расчет эффективности обогащения\n",
    "\n",
    "print('Абсолютная средняя ошибка =', mean_absolute_error(df_train['rougher.output.recovery'], recovery)) # рассчет MAE"
   ]
  },
  {
   "cell_type": "markdown",
   "metadata": {},
   "source": [
    "Абсолютная средняя ошибка очень мала, что говорит о том, что эффективность обогащения рассчитана правильно."
   ]
  },
  {
   "cell_type": "markdown",
   "metadata": {},
   "source": [
    "Посмотрим, какие признаки есть в обучающей выборке, но при этом отустствуют в тестовой."
   ]
  },
  {
   "cell_type": "code",
   "execution_count": 10,
   "metadata": {},
   "outputs": [
    {
     "name": "stdout",
     "output_type": "stream",
     "text": [
      "final.output.concentrate_ag\n",
      "final.output.concentrate_pb\n",
      "final.output.concentrate_sol\n",
      "final.output.concentrate_au\n",
      "final.output.recovery\n",
      "final.output.tail_ag\n",
      "final.output.tail_pb\n",
      "final.output.tail_sol\n",
      "final.output.tail_au\n",
      "primary_cleaner.output.concentrate_ag\n",
      "primary_cleaner.output.concentrate_pb\n",
      "primary_cleaner.output.concentrate_sol\n",
      "primary_cleaner.output.concentrate_au\n",
      "primary_cleaner.output.tail_ag\n",
      "primary_cleaner.output.tail_pb\n",
      "primary_cleaner.output.tail_sol\n",
      "primary_cleaner.output.tail_au\n",
      "rougher.calculation.sulfate_to_au_concentrate\n",
      "rougher.calculation.floatbank10_sulfate_to_au_feed\n",
      "rougher.calculation.floatbank11_sulfate_to_au_feed\n",
      "rougher.calculation.au_pb_ratio\n",
      "rougher.output.concentrate_ag\n",
      "rougher.output.concentrate_pb\n",
      "rougher.output.concentrate_sol\n",
      "rougher.output.concentrate_au\n",
      "rougher.output.recovery\n",
      "rougher.output.tail_ag\n",
      "rougher.output.tail_pb\n",
      "rougher.output.tail_sol\n",
      "rougher.output.tail_au\n",
      "secondary_cleaner.output.tail_ag\n",
      "secondary_cleaner.output.tail_pb\n",
      "secondary_cleaner.output.tail_sol\n",
      "secondary_cleaner.output.tail_au\n"
     ]
    }
   ],
   "source": [
    "# признаки, отсутствующие в тестовой выборке\n",
    "list_train = df_train.columns.values.tolist()\n",
    "list_test = df_test.columns.values.tolist()\n",
    "for col in list_train:\n",
    "    if col not in list_test:\n",
    "        print(col)"
   ]
  },
  {
   "cell_type": "markdown",
   "metadata": {},
   "source": [
    "Согласно полученным результатам, в тестовой выборке нет столбцов с этапами `final.output`, `primary_cleaner.output`, `rougher.calculation`, `rougher.output` и `secondary_cleaner.output`. Данные этих столбцов являются онлайн метриками, так как замеряются и/или рассчитываются значительно позже (по результатам технологического процесса). Остальные признаки относятся к офлайн метрикам, поскольку исторически известны."
   ]
  },
  {
   "cell_type": "markdown",
   "metadata": {},
   "source": [
    "В тестовой выборке отсутствуют два целевых признака: `rougher.output.recovery` и `final.output.recovery`. Добавим их в датасет из исходной таблицы."
   ]
  },
  {
   "cell_type": "code",
   "execution_count": 11,
   "metadata": {},
   "outputs": [
    {
     "data": {
      "text/html": [
       "<div>\n",
       "<style scoped>\n",
       "    .dataframe tbody tr th:only-of-type {\n",
       "        vertical-align: middle;\n",
       "    }\n",
       "\n",
       "    .dataframe tbody tr th {\n",
       "        vertical-align: top;\n",
       "    }\n",
       "\n",
       "    .dataframe thead th {\n",
       "        text-align: right;\n",
       "    }\n",
       "</style>\n",
       "<table border=\"1\" class=\"dataframe\">\n",
       "  <thead>\n",
       "    <tr style=\"text-align: right;\">\n",
       "      <th></th>\n",
       "      <th>date</th>\n",
       "      <th>primary_cleaner.input.sulfate</th>\n",
       "      <th>primary_cleaner.input.depressant</th>\n",
       "      <th>primary_cleaner.input.feed_size</th>\n",
       "      <th>primary_cleaner.input.xanthate</th>\n",
       "      <th>primary_cleaner.state.floatbank8_a_air</th>\n",
       "      <th>primary_cleaner.state.floatbank8_a_level</th>\n",
       "      <th>primary_cleaner.state.floatbank8_b_air</th>\n",
       "      <th>primary_cleaner.state.floatbank8_b_level</th>\n",
       "      <th>primary_cleaner.state.floatbank8_c_air</th>\n",
       "      <th>...</th>\n",
       "      <th>secondary_cleaner.state.floatbank4_b_air</th>\n",
       "      <th>secondary_cleaner.state.floatbank4_b_level</th>\n",
       "      <th>secondary_cleaner.state.floatbank5_a_air</th>\n",
       "      <th>secondary_cleaner.state.floatbank5_a_level</th>\n",
       "      <th>secondary_cleaner.state.floatbank5_b_air</th>\n",
       "      <th>secondary_cleaner.state.floatbank5_b_level</th>\n",
       "      <th>secondary_cleaner.state.floatbank6_a_air</th>\n",
       "      <th>secondary_cleaner.state.floatbank6_a_level</th>\n",
       "      <th>rougher.output.recovery</th>\n",
       "      <th>final.output.recovery</th>\n",
       "    </tr>\n",
       "  </thead>\n",
       "  <tbody>\n",
       "    <tr>\n",
       "      <th>0</th>\n",
       "      <td>2016-09-01 00:59:59</td>\n",
       "      <td>210.800909</td>\n",
       "      <td>14.993118</td>\n",
       "      <td>8.080000</td>\n",
       "      <td>1.005021</td>\n",
       "      <td>1398.981301</td>\n",
       "      <td>-500.225577</td>\n",
       "      <td>1399.144926</td>\n",
       "      <td>-499.919735</td>\n",
       "      <td>1400.102998</td>\n",
       "      <td>...</td>\n",
       "      <td>8.016656</td>\n",
       "      <td>-501.289139</td>\n",
       "      <td>7.946562</td>\n",
       "      <td>-432.317850</td>\n",
       "      <td>4.872511</td>\n",
       "      <td>-500.037437</td>\n",
       "      <td>26.705889</td>\n",
       "      <td>-499.709414</td>\n",
       "      <td>89.993421</td>\n",
       "      <td>70.273583</td>\n",
       "    </tr>\n",
       "    <tr>\n",
       "      <th>1</th>\n",
       "      <td>2016-09-01 01:59:59</td>\n",
       "      <td>215.392455</td>\n",
       "      <td>14.987471</td>\n",
       "      <td>8.080000</td>\n",
       "      <td>0.990469</td>\n",
       "      <td>1398.777912</td>\n",
       "      <td>-500.057435</td>\n",
       "      <td>1398.055362</td>\n",
       "      <td>-499.778182</td>\n",
       "      <td>1396.151033</td>\n",
       "      <td>...</td>\n",
       "      <td>8.130979</td>\n",
       "      <td>-499.634209</td>\n",
       "      <td>7.958270</td>\n",
       "      <td>-525.839648</td>\n",
       "      <td>4.878850</td>\n",
       "      <td>-500.162375</td>\n",
       "      <td>25.019940</td>\n",
       "      <td>-499.819438</td>\n",
       "      <td>88.089657</td>\n",
       "      <td>68.910432</td>\n",
       "    </tr>\n",
       "    <tr>\n",
       "      <th>2</th>\n",
       "      <td>2016-09-01 02:59:59</td>\n",
       "      <td>215.259946</td>\n",
       "      <td>12.884934</td>\n",
       "      <td>7.786667</td>\n",
       "      <td>0.996043</td>\n",
       "      <td>1398.493666</td>\n",
       "      <td>-500.868360</td>\n",
       "      <td>1398.860436</td>\n",
       "      <td>-499.764529</td>\n",
       "      <td>1398.075709</td>\n",
       "      <td>...</td>\n",
       "      <td>8.096893</td>\n",
       "      <td>-500.827423</td>\n",
       "      <td>8.071056</td>\n",
       "      <td>-500.801673</td>\n",
       "      <td>4.905125</td>\n",
       "      <td>-499.828510</td>\n",
       "      <td>24.994862</td>\n",
       "      <td>-500.622559</td>\n",
       "      <td>88.412756</td>\n",
       "      <td>68.143213</td>\n",
       "    </tr>\n",
       "    <tr>\n",
       "      <th>3</th>\n",
       "      <td>2016-09-01 03:59:59</td>\n",
       "      <td>215.336236</td>\n",
       "      <td>12.006805</td>\n",
       "      <td>7.640000</td>\n",
       "      <td>0.863514</td>\n",
       "      <td>1399.618111</td>\n",
       "      <td>-498.863574</td>\n",
       "      <td>1397.440120</td>\n",
       "      <td>-499.211024</td>\n",
       "      <td>1400.129303</td>\n",
       "      <td>...</td>\n",
       "      <td>8.074946</td>\n",
       "      <td>-499.474407</td>\n",
       "      <td>7.897085</td>\n",
       "      <td>-500.868509</td>\n",
       "      <td>4.931400</td>\n",
       "      <td>-499.963623</td>\n",
       "      <td>24.948919</td>\n",
       "      <td>-498.709987</td>\n",
       "      <td>87.360133</td>\n",
       "      <td>67.776393</td>\n",
       "    </tr>\n",
       "    <tr>\n",
       "      <th>4</th>\n",
       "      <td>2016-09-01 04:59:59</td>\n",
       "      <td>199.099327</td>\n",
       "      <td>10.682530</td>\n",
       "      <td>7.530000</td>\n",
       "      <td>0.805575</td>\n",
       "      <td>1401.268123</td>\n",
       "      <td>-500.808305</td>\n",
       "      <td>1398.128818</td>\n",
       "      <td>-499.504543</td>\n",
       "      <td>1402.172226</td>\n",
       "      <td>...</td>\n",
       "      <td>8.054678</td>\n",
       "      <td>-500.397500</td>\n",
       "      <td>8.107890</td>\n",
       "      <td>-509.526725</td>\n",
       "      <td>4.957674</td>\n",
       "      <td>-500.360026</td>\n",
       "      <td>25.003331</td>\n",
       "      <td>-500.856333</td>\n",
       "      <td>83.236367</td>\n",
       "      <td>61.467078</td>\n",
       "    </tr>\n",
       "    <tr>\n",
       "      <th>...</th>\n",
       "      <td>...</td>\n",
       "      <td>...</td>\n",
       "      <td>...</td>\n",
       "      <td>...</td>\n",
       "      <td>...</td>\n",
       "      <td>...</td>\n",
       "      <td>...</td>\n",
       "      <td>...</td>\n",
       "      <td>...</td>\n",
       "      <td>...</td>\n",
       "      <td>...</td>\n",
       "      <td>...</td>\n",
       "      <td>...</td>\n",
       "      <td>...</td>\n",
       "      <td>...</td>\n",
       "      <td>...</td>\n",
       "      <td>...</td>\n",
       "      <td>...</td>\n",
       "      <td>...</td>\n",
       "      <td>...</td>\n",
       "      <td>...</td>\n",
       "    </tr>\n",
       "    <tr>\n",
       "      <th>5285</th>\n",
       "      <td>2017-12-31 19:59:59</td>\n",
       "      <td>173.957757</td>\n",
       "      <td>15.963399</td>\n",
       "      <td>8.070000</td>\n",
       "      <td>0.896701</td>\n",
       "      <td>1401.930554</td>\n",
       "      <td>-499.728848</td>\n",
       "      <td>1401.441445</td>\n",
       "      <td>-499.193423</td>\n",
       "      <td>1399.810313</td>\n",
       "      <td>...</td>\n",
       "      <td>12.069155</td>\n",
       "      <td>-499.673279</td>\n",
       "      <td>7.977259</td>\n",
       "      <td>-499.516126</td>\n",
       "      <td>5.933319</td>\n",
       "      <td>-499.965973</td>\n",
       "      <td>8.987171</td>\n",
       "      <td>-499.755909</td>\n",
       "      <td>95.172585</td>\n",
       "      <td>68.919891</td>\n",
       "    </tr>\n",
       "    <tr>\n",
       "      <th>5286</th>\n",
       "      <td>2017-12-31 20:59:59</td>\n",
       "      <td>172.910270</td>\n",
       "      <td>16.002605</td>\n",
       "      <td>8.070000</td>\n",
       "      <td>0.896519</td>\n",
       "      <td>1447.075722</td>\n",
       "      <td>-494.716823</td>\n",
       "      <td>1448.851892</td>\n",
       "      <td>-465.963026</td>\n",
       "      <td>1443.890424</td>\n",
       "      <td>...</td>\n",
       "      <td>13.365371</td>\n",
       "      <td>-499.122723</td>\n",
       "      <td>9.288553</td>\n",
       "      <td>-496.892967</td>\n",
       "      <td>7.372897</td>\n",
       "      <td>-499.942956</td>\n",
       "      <td>8.986832</td>\n",
       "      <td>-499.903761</td>\n",
       "      <td>94.575036</td>\n",
       "      <td>68.440582</td>\n",
       "    </tr>\n",
       "    <tr>\n",
       "      <th>5287</th>\n",
       "      <td>2017-12-31 21:59:59</td>\n",
       "      <td>171.135718</td>\n",
       "      <td>15.993669</td>\n",
       "      <td>8.070000</td>\n",
       "      <td>1.165996</td>\n",
       "      <td>1498.836182</td>\n",
       "      <td>-501.770403</td>\n",
       "      <td>1499.572353</td>\n",
       "      <td>-495.516347</td>\n",
       "      <td>1502.749213</td>\n",
       "      <td>...</td>\n",
       "      <td>15.101425</td>\n",
       "      <td>-499.936252</td>\n",
       "      <td>10.989181</td>\n",
       "      <td>-498.347898</td>\n",
       "      <td>9.020944</td>\n",
       "      <td>-500.040448</td>\n",
       "      <td>8.982038</td>\n",
       "      <td>-497.789882</td>\n",
       "      <td>93.018138</td>\n",
       "      <td>67.092759</td>\n",
       "    </tr>\n",
       "    <tr>\n",
       "      <th>5288</th>\n",
       "      <td>2017-12-31 22:59:59</td>\n",
       "      <td>179.697158</td>\n",
       "      <td>15.438979</td>\n",
       "      <td>8.070000</td>\n",
       "      <td>1.501068</td>\n",
       "      <td>1498.466243</td>\n",
       "      <td>-500.483984</td>\n",
       "      <td>1497.986986</td>\n",
       "      <td>-519.200340</td>\n",
       "      <td>1496.569047</td>\n",
       "      <td>...</td>\n",
       "      <td>15.026853</td>\n",
       "      <td>-499.723143</td>\n",
       "      <td>11.011607</td>\n",
       "      <td>-499.985046</td>\n",
       "      <td>9.009783</td>\n",
       "      <td>-499.937902</td>\n",
       "      <td>9.012660</td>\n",
       "      <td>-500.154284</td>\n",
       "      <td>92.599042</td>\n",
       "      <td>68.061186</td>\n",
       "    </tr>\n",
       "    <tr>\n",
       "      <th>5289</th>\n",
       "      <td>2017-12-31 23:59:59</td>\n",
       "      <td>181.556856</td>\n",
       "      <td>14.995850</td>\n",
       "      <td>8.070000</td>\n",
       "      <td>1.623454</td>\n",
       "      <td>1498.096303</td>\n",
       "      <td>-499.796922</td>\n",
       "      <td>1501.743791</td>\n",
       "      <td>-505.146931</td>\n",
       "      <td>1499.535978</td>\n",
       "      <td>...</td>\n",
       "      <td>14.914199</td>\n",
       "      <td>-499.948518</td>\n",
       "      <td>10.986607</td>\n",
       "      <td>-500.658027</td>\n",
       "      <td>8.989497</td>\n",
       "      <td>-500.337588</td>\n",
       "      <td>8.988632</td>\n",
       "      <td>-500.764937</td>\n",
       "      <td>91.177695</td>\n",
       "      <td>71.699976</td>\n",
       "    </tr>\n",
       "  </tbody>\n",
       "</table>\n",
       "<p>5290 rows × 55 columns</p>\n",
       "</div>"
      ],
      "text/plain": [
       "                     date  primary_cleaner.input.sulfate  \\\n",
       "0     2016-09-01 00:59:59                     210.800909   \n",
       "1     2016-09-01 01:59:59                     215.392455   \n",
       "2     2016-09-01 02:59:59                     215.259946   \n",
       "3     2016-09-01 03:59:59                     215.336236   \n",
       "4     2016-09-01 04:59:59                     199.099327   \n",
       "...                   ...                            ...   \n",
       "5285  2017-12-31 19:59:59                     173.957757   \n",
       "5286  2017-12-31 20:59:59                     172.910270   \n",
       "5287  2017-12-31 21:59:59                     171.135718   \n",
       "5288  2017-12-31 22:59:59                     179.697158   \n",
       "5289  2017-12-31 23:59:59                     181.556856   \n",
       "\n",
       "      primary_cleaner.input.depressant  primary_cleaner.input.feed_size  \\\n",
       "0                            14.993118                         8.080000   \n",
       "1                            14.987471                         8.080000   \n",
       "2                            12.884934                         7.786667   \n",
       "3                            12.006805                         7.640000   \n",
       "4                            10.682530                         7.530000   \n",
       "...                                ...                              ...   \n",
       "5285                         15.963399                         8.070000   \n",
       "5286                         16.002605                         8.070000   \n",
       "5287                         15.993669                         8.070000   \n",
       "5288                         15.438979                         8.070000   \n",
       "5289                         14.995850                         8.070000   \n",
       "\n",
       "      primary_cleaner.input.xanthate  primary_cleaner.state.floatbank8_a_air  \\\n",
       "0                           1.005021                             1398.981301   \n",
       "1                           0.990469                             1398.777912   \n",
       "2                           0.996043                             1398.493666   \n",
       "3                           0.863514                             1399.618111   \n",
       "4                           0.805575                             1401.268123   \n",
       "...                              ...                                     ...   \n",
       "5285                        0.896701                             1401.930554   \n",
       "5286                        0.896519                             1447.075722   \n",
       "5287                        1.165996                             1498.836182   \n",
       "5288                        1.501068                             1498.466243   \n",
       "5289                        1.623454                             1498.096303   \n",
       "\n",
       "      primary_cleaner.state.floatbank8_a_level  \\\n",
       "0                                  -500.225577   \n",
       "1                                  -500.057435   \n",
       "2                                  -500.868360   \n",
       "3                                  -498.863574   \n",
       "4                                  -500.808305   \n",
       "...                                        ...   \n",
       "5285                               -499.728848   \n",
       "5286                               -494.716823   \n",
       "5287                               -501.770403   \n",
       "5288                               -500.483984   \n",
       "5289                               -499.796922   \n",
       "\n",
       "      primary_cleaner.state.floatbank8_b_air  \\\n",
       "0                                1399.144926   \n",
       "1                                1398.055362   \n",
       "2                                1398.860436   \n",
       "3                                1397.440120   \n",
       "4                                1398.128818   \n",
       "...                                      ...   \n",
       "5285                             1401.441445   \n",
       "5286                             1448.851892   \n",
       "5287                             1499.572353   \n",
       "5288                             1497.986986   \n",
       "5289                             1501.743791   \n",
       "\n",
       "      primary_cleaner.state.floatbank8_b_level  \\\n",
       "0                                  -499.919735   \n",
       "1                                  -499.778182   \n",
       "2                                  -499.764529   \n",
       "3                                  -499.211024   \n",
       "4                                  -499.504543   \n",
       "...                                        ...   \n",
       "5285                               -499.193423   \n",
       "5286                               -465.963026   \n",
       "5287                               -495.516347   \n",
       "5288                               -519.200340   \n",
       "5289                               -505.146931   \n",
       "\n",
       "      primary_cleaner.state.floatbank8_c_air  ...  \\\n",
       "0                                1400.102998  ...   \n",
       "1                                1396.151033  ...   \n",
       "2                                1398.075709  ...   \n",
       "3                                1400.129303  ...   \n",
       "4                                1402.172226  ...   \n",
       "...                                      ...  ...   \n",
       "5285                             1399.810313  ...   \n",
       "5286                             1443.890424  ...   \n",
       "5287                             1502.749213  ...   \n",
       "5288                             1496.569047  ...   \n",
       "5289                             1499.535978  ...   \n",
       "\n",
       "      secondary_cleaner.state.floatbank4_b_air  \\\n",
       "0                                     8.016656   \n",
       "1                                     8.130979   \n",
       "2                                     8.096893   \n",
       "3                                     8.074946   \n",
       "4                                     8.054678   \n",
       "...                                        ...   \n",
       "5285                                 12.069155   \n",
       "5286                                 13.365371   \n",
       "5287                                 15.101425   \n",
       "5288                                 15.026853   \n",
       "5289                                 14.914199   \n",
       "\n",
       "      secondary_cleaner.state.floatbank4_b_level  \\\n",
       "0                                    -501.289139   \n",
       "1                                    -499.634209   \n",
       "2                                    -500.827423   \n",
       "3                                    -499.474407   \n",
       "4                                    -500.397500   \n",
       "...                                          ...   \n",
       "5285                                 -499.673279   \n",
       "5286                                 -499.122723   \n",
       "5287                                 -499.936252   \n",
       "5288                                 -499.723143   \n",
       "5289                                 -499.948518   \n",
       "\n",
       "      secondary_cleaner.state.floatbank5_a_air  \\\n",
       "0                                     7.946562   \n",
       "1                                     7.958270   \n",
       "2                                     8.071056   \n",
       "3                                     7.897085   \n",
       "4                                     8.107890   \n",
       "...                                        ...   \n",
       "5285                                  7.977259   \n",
       "5286                                  9.288553   \n",
       "5287                                 10.989181   \n",
       "5288                                 11.011607   \n",
       "5289                                 10.986607   \n",
       "\n",
       "      secondary_cleaner.state.floatbank5_a_level  \\\n",
       "0                                    -432.317850   \n",
       "1                                    -525.839648   \n",
       "2                                    -500.801673   \n",
       "3                                    -500.868509   \n",
       "4                                    -509.526725   \n",
       "...                                          ...   \n",
       "5285                                 -499.516126   \n",
       "5286                                 -496.892967   \n",
       "5287                                 -498.347898   \n",
       "5288                                 -499.985046   \n",
       "5289                                 -500.658027   \n",
       "\n",
       "      secondary_cleaner.state.floatbank5_b_air  \\\n",
       "0                                     4.872511   \n",
       "1                                     4.878850   \n",
       "2                                     4.905125   \n",
       "3                                     4.931400   \n",
       "4                                     4.957674   \n",
       "...                                        ...   \n",
       "5285                                  5.933319   \n",
       "5286                                  7.372897   \n",
       "5287                                  9.020944   \n",
       "5288                                  9.009783   \n",
       "5289                                  8.989497   \n",
       "\n",
       "      secondary_cleaner.state.floatbank5_b_level  \\\n",
       "0                                    -500.037437   \n",
       "1                                    -500.162375   \n",
       "2                                    -499.828510   \n",
       "3                                    -499.963623   \n",
       "4                                    -500.360026   \n",
       "...                                          ...   \n",
       "5285                                 -499.965973   \n",
       "5286                                 -499.942956   \n",
       "5287                                 -500.040448   \n",
       "5288                                 -499.937902   \n",
       "5289                                 -500.337588   \n",
       "\n",
       "      secondary_cleaner.state.floatbank6_a_air  \\\n",
       "0                                    26.705889   \n",
       "1                                    25.019940   \n",
       "2                                    24.994862   \n",
       "3                                    24.948919   \n",
       "4                                    25.003331   \n",
       "...                                        ...   \n",
       "5285                                  8.987171   \n",
       "5286                                  8.986832   \n",
       "5287                                  8.982038   \n",
       "5288                                  9.012660   \n",
       "5289                                  8.988632   \n",
       "\n",
       "      secondary_cleaner.state.floatbank6_a_level  rougher.output.recovery  \\\n",
       "0                                    -499.709414                89.993421   \n",
       "1                                    -499.819438                88.089657   \n",
       "2                                    -500.622559                88.412756   \n",
       "3                                    -498.709987                87.360133   \n",
       "4                                    -500.856333                83.236367   \n",
       "...                                          ...                      ...   \n",
       "5285                                 -499.755909                95.172585   \n",
       "5286                                 -499.903761                94.575036   \n",
       "5287                                 -497.789882                93.018138   \n",
       "5288                                 -500.154284                92.599042   \n",
       "5289                                 -500.764937                91.177695   \n",
       "\n",
       "      final.output.recovery  \n",
       "0                 70.273583  \n",
       "1                 68.910432  \n",
       "2                 68.143213  \n",
       "3                 67.776393  \n",
       "4                 61.467078  \n",
       "...                     ...  \n",
       "5285              68.919891  \n",
       "5286              68.440582  \n",
       "5287              67.092759  \n",
       "5288              68.061186  \n",
       "5289              71.699976  \n",
       "\n",
       "[5290 rows x 55 columns]"
      ]
     },
     "execution_count": 11,
     "metadata": {},
     "output_type": "execute_result"
    }
   ],
   "source": [
    "# добавление целевых признаков в df_test\n",
    "df_test = df_test.merge(df_full[['date', 'rougher.output.recovery', 'final.output.recovery']], how = 'inner', on='date')\n",
    "df_test"
   ]
  },
  {
   "cell_type": "markdown",
   "metadata": {},
   "source": [
    "Так как данные индексируются датой и временем получения информации, то соседние по времени параметры часто похожи. Поэтому заполним пропуски соседними значениями."
   ]
  },
  {
   "cell_type": "code",
   "execution_count": 12,
   "metadata": {},
   "outputs": [
    {
     "name": "stdout",
     "output_type": "stream",
     "text": [
      "Количество пропусков в обучающей выборке: 0\n",
      "Количество пропусков в тестовой выборке: 0\n"
     ]
    }
   ],
   "source": [
    "# заполнение пропусков\n",
    "df_train = df_train.fillna(method='ffill')\n",
    "print('Количество пропусков в обучающей выборке:', df_train.isna().sum().sum())\n",
    "\n",
    "df_test = df_test.fillna(method='ffill')\n",
    "print('Количество пропусков в тестовой выборке:', df_test.isna().sum().sum())"
   ]
  },
  {
   "cell_type": "markdown",
   "metadata": {},
   "source": [
    "## Анализ данных"
   ]
  },
  {
   "cell_type": "markdown",
   "metadata": {},
   "source": [
    "Посмотрим, как меняется концентрация металлов (Au, Ag, Pb) на различных этапах очистки, построив гистограммы."
   ]
  },
  {
   "cell_type": "code",
   "execution_count": 13,
   "metadata": {
    "scrolled": false
   },
   "outputs": [
    {
     "data": {
      "image/png": "[encoded data removed]",
      "text/plain": [
       "<Figure size 576x432 with 1 Axes>"
      ]
     },
     "metadata": {
      "needs_background": "light"
     },
     "output_type": "display_data"
    },
    {
     "data": {
      "image/png": "[encoded data removed]",
      "text/plain": [
       "<Figure size 576x432 with 1 Axes>"
      ]
     },
     "metadata": {
      "needs_background": "light"
     },
     "output_type": "display_data"
    },
    {
     "data": {
      "image/png": "[encoded data removed]",
      "text/plain": [
       "<Figure size 576x432 with 1 Axes>"
      ]
     },
     "metadata": {
      "needs_background": "light"
     },
     "output_type": "display_data"
    }
   ],
   "source": [
    "# гистограммы изменения концентрации металлов (Au, Ag, Pb) на различных этапах очистки\n",
    "metals = ['au', 'ag', 'pb']\n",
    "concentrate = ['rougher.output.concentrate', 'primary_cleaner.output.concentrate', 'final.output.concentrate',]\n",
    "for metal in metals:\n",
    "    phase = ['{}_{}'.format(x, metal) for x in concentrate]\n",
    "    df_full[phase].plot(kind='hist', bins=100, figsize=(8, 6), alpha=0.5)\n",
    "    plt.title('Изменение концентрации {}'.format(metal))\n",
    "    plt.show()"
   ]
  },
  {
   "cell_type": "markdown",
   "metadata": {},
   "source": [
    "Концентрация золота увеличивается на каждом этапе очистки, а концентрация серебра наоборот падает, уже начиная с этапа rouger. Концентрация свинца увеличивается на протяжении всех этапов, но не так сильно как концентрация золота. "
   ]
  },
  {
   "cell_type": "markdown",
   "metadata": {},
   "source": [
    "Теперь сравним распределения размеров гранул сырья на обучающей и тестовой выборках."
   ]
  },
  {
   "cell_type": "code",
   "execution_count": 14,
   "metadata": {},
   "outputs": [
    {
     "data": {
      "image/png": "[encoded data removed]",
      "text/plain": [
       "<Figure size 576x432 with 1 Axes>"
      ]
     },
     "metadata": {
      "needs_background": "light"
     },
     "output_type": "display_data"
    },
    {
     "data": {
      "image/png": "[encoded data removed]",
      "text/plain": [
       "<Figure size 576x432 with 1 Axes>"
      ]
     },
     "metadata": {
      "needs_background": "light"
     },
     "output_type": "display_data"
    }
   ],
   "source": [
    "# гистограмма распределения гранул сырья перед флотацией и первичной очисткой\n",
    "feed_size = ['rougher.input.feed_size', 'primary_cleaner.input.feed_size']\n",
    "data = [(df_train, 'Train'), (df_test, 'Test')]\n",
    "for size in feed_size:\n",
    "    for df, lab in data: \n",
    "        df[size].plot(kind='hist', bins=100, figsize=(8, 6), alpha=0.5, label='{}'.format(lab), legend=True)\n",
    "    plt.title('Гистограмма распределения гранул сырья для {}'.format(size)) \n",
    "    plt.show()"
   ]
  },
  {
   "cell_type": "markdown",
   "metadata": {},
   "source": [
    "Исходя из построенных графиков, можно сделать вывод, что распределения размеров гранул сырья на обучающей и тестовой выборках совпадают, а следоватьельно оценка модели будет правильной."
   ]
  },
  {
   "cell_type": "markdown",
   "metadata": {},
   "source": [
    "С целью выявления аномалий найдем суммарную концентрацию всех веществ (металлы плюс sol) на разных стадиях: в сырье, в черновом и финальном концентратах."
   ]
  },
  {
   "cell_type": "code",
   "execution_count": 15,
   "metadata": {},
   "outputs": [
    {
     "data": {
      "text/html": [
       "<div>\n",
       "<style scoped>\n",
       "    .dataframe tbody tr th:only-of-type {\n",
       "        vertical-align: middle;\n",
       "    }\n",
       "\n",
       "    .dataframe tbody tr th {\n",
       "        vertical-align: top;\n",
       "    }\n",
       "\n",
       "    .dataframe thead th {\n",
       "        text-align: right;\n",
       "    }\n",
       "</style>\n",
       "<table border=\"1\" class=\"dataframe\">\n",
       "  <thead>\n",
       "    <tr style=\"text-align: right;\">\n",
       "      <th></th>\n",
       "      <th>rougher.output.concentrate</th>\n",
       "      <th>primary_cleaner.output.concentrate</th>\n",
       "      <th>final.output.concentrate</th>\n",
       "    </tr>\n",
       "  </thead>\n",
       "  <tbody>\n",
       "    <tr>\n",
       "      <th>0</th>\n",
       "      <td>66.424950</td>\n",
       "      <td>72.640924</td>\n",
       "      <td>63.644396</td>\n",
       "    </tr>\n",
       "    <tr>\n",
       "      <th>1</th>\n",
       "      <td>67.012710</td>\n",
       "      <td>72.543485</td>\n",
       "      <td>63.957723</td>\n",
       "    </tr>\n",
       "    <tr>\n",
       "      <th>2</th>\n",
       "      <td>66.103793</td>\n",
       "      <td>72.095042</td>\n",
       "      <td>64.311180</td>\n",
       "    </tr>\n",
       "    <tr>\n",
       "      <th>3</th>\n",
       "      <td>65.752751</td>\n",
       "      <td>59.957723</td>\n",
       "      <td>63.573449</td>\n",
       "    </tr>\n",
       "    <tr>\n",
       "      <th>4</th>\n",
       "      <td>65.908382</td>\n",
       "      <td>71.321010</td>\n",
       "      <td>64.004667</td>\n",
       "    </tr>\n",
       "  </tbody>\n",
       "</table>\n",
       "</div>"
      ],
      "text/plain": [
       "   rougher.output.concentrate  primary_cleaner.output.concentrate  \\\n",
       "0                   66.424950                           72.640924   \n",
       "1                   67.012710                           72.543485   \n",
       "2                   66.103793                           72.095042   \n",
       "3                   65.752751                           59.957723   \n",
       "4                   65.908382                           71.321010   \n",
       "\n",
       "   final.output.concentrate  \n",
       "0                 63.644396  \n",
       "1                 63.957723  \n",
       "2                 64.311180  \n",
       "3                 63.573449  \n",
       "4                 64.004667  "
      ]
     },
     "execution_count": 15,
     "metadata": {},
     "output_type": "execute_result"
    }
   ],
   "source": [
    "# подсчет суммарной концентрации всех веществ на разных стадиях\n",
    "substances = ['au', 'ag', 'pb', 'sol']\n",
    "for phase in concentrate:\n",
    "    df_train[phase] = 0\n",
    "    for substance in substances:\n",
    "        df_train[phase] += df_train['{}_{}'.format(phase, substance)]\n",
    "    \n",
    "df_train[concentrate].head()"
   ]
  },
  {
   "cell_type": "code",
   "execution_count": 16,
   "metadata": {
    "scrolled": true
   },
   "outputs": [
    {
     "data": {
      "image/png": "[encoded data removed]",
      "text/plain": [
       "<Figure size 1080x432 with 2 Axes>"
      ]
     },
     "metadata": {
      "needs_background": "light"
     },
     "output_type": "display_data"
    },
    {
     "data": {
      "image/png": "[encoded data removed]",
      "text/plain": [
       "<Figure size 1080x432 with 2 Axes>"
      ]
     },
     "metadata": {
      "needs_background": "light"
     },
     "output_type": "display_data"
    },
    {
     "data": {
      "image/png": "[encoded data removed]",
      "text/plain": [
       "<Figure size 1080x432 with 2 Axes>"
      ]
     },
     "metadata": {
      "needs_background": "light"
     },
     "output_type": "display_data"
    }
   ],
   "source": [
    "# диаграмма размаха и гистограмма суммарной концентрации на разных стадиях\n",
    "for phase in concentrate:\n",
    "    fig, axes = plt.subplots(1, 2, figsize=(15, 6))\n",
    "    sns.boxplot(x=df_train[phase], ax=axes[0])\n",
    "    \n",
    "    df_train[phase].plot(kind='hist', bins=100, ax=axes[1])\n",
    "    plt.title('{}'.format(phase))\n",
    "    plt.show()"
   ]
  },
  {
   "cell_type": "markdown",
   "metadata": {},
   "source": [
    "На графиках видно, что есть нулевые значения. Удалим их из обучающей выборки. "
   ]
  },
  {
   "cell_type": "code",
   "execution_count": 17,
   "metadata": {},
   "outputs": [
    {
     "data": {
      "text/plain": [
       "(13725, 90)"
      ]
     },
     "execution_count": 17,
     "metadata": {},
     "output_type": "execute_result"
    }
   ],
   "source": [
    "# удаления строк с нулевыми значениями суммарной концентрации\n",
    "df_train = df_train[(df_train['rougher.output.concentrate'] !=0) & (df_train['primary_cleaner.output.concentrate'] !=0)\n",
    "                    & (df_train['final.output.concentrate'] !=0)]\n",
    "df_train.shape"
   ]
  },
  {
   "cell_type": "markdown",
   "metadata": {},
   "source": [
    "## Модель"
   ]
  },
  {
   "cell_type": "markdown",
   "metadata": {},
   "source": [
    "Удалим из обучающей выборки лишние признаки из train, те, что отуствуют в тестовой."
   ]
  },
  {
   "cell_type": "code",
   "execution_count": 18,
   "metadata": {
    "scrolled": true
   },
   "outputs": [
    {
     "data": {
      "text/plain": [
       "(13725, 55)"
      ]
     },
     "execution_count": 18,
     "metadata": {},
     "output_type": "execute_result"
    }
   ],
   "source": [
    "# удаление признаков\n",
    "col_to_delete = set(df_train.columns.to_list()) - set(df_test.columns.to_list())\n",
    "df_train = df_train.drop(col_to_delete, axis='columns')\n",
    "df_train.shape"
   ]
  },
  {
   "cell_type": "markdown",
   "metadata": {},
   "source": [
    "Итак, мы получили в обучающей и тестовой выборке одни и те же признаки.\n",
    "\n",
    "Теперь напишем функцию для вычисления итоговой sMAPE."
   ]
  },
  {
   "cell_type": "code",
   "execution_count": 20,
   "metadata": {},
   "outputs": [],
   "source": [
    "# функция для вычисления итоговой sMAPE\n",
    "def cal_smape(y_true, y_pred):\n",
    "    error = abs(y_true - y_pred)\n",
    "    scale = (abs(y_true) + abs(y_pred)) / 2\n",
    "    result = (error / scale).mean()\n",
    "    return result*100\n",
    " \n",
    "\n",
    "def final_smape(y_true, y_pred):\n",
    "    y_true.reset_index(drop=True, inplace=True)\n",
    "    y_pred = pd.DataFrame(data=y_pred)\n",
    "    rougher = cal_smape(y_true.iloc[:, 0], y_pred.iloc[:, 0])\n",
    "    final = cal_smape(y_true.iloc[:, 1], y_pred.iloc[:, 1])\n",
    "    return 0.25 * rougher + 0.75 * final"
   ]
  },
  {
   "cell_type": "markdown",
   "metadata": {},
   "source": [
    "Выделим для тестовой и обучающей выборок признаки и целевые признаки."
   ]
  },
  {
   "cell_type": "code",
   "execution_count": 21,
   "metadata": {
    "scrolled": false
   },
   "outputs": [],
   "source": [
    "# подготовка признаков для тестовой выборки\n",
    "target = ['rougher.output.recovery', 'final.output.recovery']\n",
    "target_train = df_train[target]\n",
    "features_train = df_train.drop(target, axis=1, inplace=True)\n",
    "features_train = df_train.drop('date', axis=1)\n",
    "\n",
    "\n",
    "# подготовка признаков для обучающей выборки\n",
    "target_test = df_test[target]\n",
    "features_test = df_test.drop(target, axis=1, inplace=True)\n",
    "features_test = df_test.drop('date', axis=1)"
   ]
  },
  {
   "cell_type": "code",
   "execution_count": 22,
   "metadata": {
    "scrolled": true
   },
   "outputs": [
    {
     "name": "stdout",
     "output_type": "stream",
     "text": [
      "Index(['rougher.output.recovery', 'final.output.recovery'], dtype='object')\n",
      "(13725, 52)\n",
      "Index(['rougher.output.recovery', 'final.output.recovery'], dtype='object')\n",
      "(5290, 52)\n"
     ]
    }
   ],
   "source": [
    "# проверка\n",
    "print(target_train.columns)\n",
    "print(features_train.shape)\n",
    "print(target_test.columns)\n",
    "print(features_test.shape)"
   ]
  },
  {
   "cell_type": "markdown",
   "metadata": {},
   "source": [
    "Создадим переменную smape_scorer, чтобы в дальнейшем использовать ее при кросс-валидации, воспользовшись функцией `make_scorer`."
   ]
  },
  {
   "cell_type": "code",
   "execution_count": 23,
   "metadata": {},
   "outputs": [],
   "source": [
    "# создание переменной smape_scorer\n",
    "smape_scorer = make_scorer(final_smape, greater_is_better=False)"
   ]
  },
  {
   "cell_type": "markdown",
   "metadata": {},
   "source": [
    "Теперь перейдем к обучению и выбору лучшей модели."
   ]
  },
  {
   "cell_type": "code",
   "execution_count": 24,
   "metadata": {},
   "outputs": [
    {
     "name": "stdout",
     "output_type": "stream",
     "text": [
      "sMAPE для дерева решений: 9.174433066207342 при значениях гиперпараметров: {'max_depth': 2}\n"
     ]
    }
   ],
   "source": [
    "# модель дерева решений\n",
    "param_grid = {'max_depth': range(2, 15)}\n",
    "model = DecisionTreeRegressor(random_state=12345)\n",
    "search = GridSearchCV(model, param_grid, cv=5, scoring=smape_scorer)\n",
    "search.fit(features_train, target_train)\n",
    "print('sMAPE для дерева решений: {} при значениях гиперпараметров: {}'.format(-search.best_score_, search.best_params_))"
   ]
  },
  {
   "cell_type": "code",
   "execution_count": 25,
   "metadata": {
    "scrolled": true
   },
   "outputs": [
    {
     "name": "stdout",
     "output_type": "stream",
     "text": [
      "sMAPE для случайного леса: 9.008149504729506 при значениях гиперпараметров: {'n_estimators': 21}\n"
     ]
    }
   ],
   "source": [
    "# модель случайного леса\n",
    "param_grid = {'n_estimators': range(1, 31, 10)}\n",
    "model = RandomForestRegressor(max_depth=2, random_state=12345)\n",
    "search = GridSearchCV(model, param_grid, cv=5, scoring=smape_scorer)\n",
    "search.fit(features_train, target_train)\n",
    "print('sMAPE для случайного леса: {} при значениях гиперпараметров: {}'.format(-search.best_score_, search.best_params_))"
   ]
  },
  {
   "cell_type": "code",
   "execution_count": 26,
   "metadata": {},
   "outputs": [
    {
     "name": "stdout",
     "output_type": "stream",
     "text": [
      "sMAPE для линейной регрессии: 10.029323387636392\n"
     ]
    }
   ],
   "source": [
    "# модель линейной регрессии\n",
    "model = LinearRegression()\n",
    "model.fit(features_train, target_train)\n",
    "smape = cross_val_score(model, features_train, target_train, cv=5, scoring=smape_scorer).mean()\n",
    "print('sMAPE для линейной регрессии:', -smape)"
   ]
  },
  {
   "cell_type": "markdown",
   "metadata": {},
   "source": [
    "Наилучшая модель - RandomForestRegressor с гиперпараметрами max_depth=2 и n_estimators=21. Проверим ее на тестовой выборке, а также сравним качество предсказаний с константной моделью. За константу примем средние значения. "
   ]
  },
  {
   "cell_type": "code",
   "execution_count": 28,
   "metadata": {},
   "outputs": [
    {
     "name": "stdout",
     "output_type": "stream",
     "text": [
      "sMAPE для тестовой выборки: 9.507179779602144\n"
     ]
    }
   ],
   "source": [
    "# модель случайного леса на тестовой выборке\n",
    "model = RandomForestRegressor(max_depth=2, n_estimators=21, random_state=12345) \n",
    "model.fit(features_train, target_train)\n",
    "predictions_test = model.predict(features_test)\n",
    "\n",
    "print('sMAPE для тестовой выборки:', final_smape(target_test, predictions_test))"
   ]
  },
  {
   "cell_type": "code",
   "execution_count": 29,
   "metadata": {},
   "outputs": [
    {
     "name": "stdout",
     "output_type": "stream",
     "text": [
      "sMAPE для константной модели: 9.441580433776988\n"
     ]
    }
   ],
   "source": [
    "# константная модель\n",
    "median_rougher = pd.Series([target_train['rougher.output.recovery'].median()]*len(target_train))\n",
    "median_final = pd.Series([target_train['final.output.recovery'].median()]*len(target_train))\n",
    "\n",
    "model = RandomForestRegressor(max_depth=2, n_estimators=21, random_state=12345) \n",
    "model.fit(features_train, target_train)\n",
    "predictions_test_constant = pd.concat([median_rougher, median_final], axis=1)\n",
    "\n",
    "print('sMAPE для константной модели:', final_smape(target_test, predictions_test_constant))"
   ]
  },
  {
   "cell_type": "markdown",
   "metadata": {},
   "source": [
    "На тестовой выборке случайный лес показал значение sMAPE чуть выше, чем на обучающей (на 0,5). sMAPE для константной модели составило 9,44, что немного меньше значения метрики на тестовых данных на 0,06. Другими словами наша модель дает такую же точность ответов, как и константная модель."
   ]
  }
 ],
 "metadata": {
  "ExecuteTimeLog": [
   {
    "duration": 906,
    "start_time": "2022-03-21T16:40:03.033Z"
   },
   {
    "duration": 421,
    "start_time": "2022-03-21T16:44:45.463Z"
   },
   {
    "duration": 439,
    "start_time": "2022-03-21T16:45:06.979Z"
   },
   {
    "duration": 445,
    "start_time": "2022-03-21T16:45:20.999Z"
   },
   {
    "duration": 778,
    "start_time": "2022-03-21T16:45:25.061Z"
   },
   {
    "duration": 23,
    "start_time": "2022-03-21T18:02:39.926Z"
   },
   {
    "duration": 18,
    "start_time": "2022-03-21T18:03:16.902Z"
   },
   {
    "duration": 48,
    "start_time": "2022-03-22T18:25:16.263Z"
   },
   {
    "duration": 815,
    "start_time": "2022-03-22T18:25:20.903Z"
   },
   {
    "duration": 800,
    "start_time": "2022-03-22T18:25:21.721Z"
   },
   {
    "duration": 26,
    "start_time": "2022-03-22T18:25:22.523Z"
   },
   {
    "duration": 18,
    "start_time": "2022-03-22T18:25:22.551Z"
   },
   {
    "duration": 19,
    "start_time": "2022-03-22T18:25:22.570Z"
   },
   {
    "duration": 14,
    "start_time": "2022-03-22T18:26:11.483Z"
   },
   {
    "duration": 20,
    "start_time": "2022-03-22T18:27:03.993Z"
   },
   {
    "duration": 18,
    "start_time": "2022-03-22T18:27:20.893Z"
   },
   {
    "duration": 6,
    "start_time": "2022-03-22T18:39:43.871Z"
   },
   {
    "duration": 7,
    "start_time": "2022-03-22T18:40:05.616Z"
   },
   {
    "duration": 5,
    "start_time": "2022-03-22T18:40:57.472Z"
   },
   {
    "duration": 8,
    "start_time": "2022-03-22T18:41:19.607Z"
   },
   {
    "duration": 858,
    "start_time": "2022-03-22T18:43:15.099Z"
   },
   {
    "duration": 6,
    "start_time": "2022-03-22T18:44:27.867Z"
   },
   {
    "duration": 8,
    "start_time": "2022-03-22T18:44:57.388Z"
   },
   {
    "duration": 6,
    "start_time": "2022-03-22T18:45:02.537Z"
   },
   {
    "duration": 1773,
    "start_time": "2022-03-22T18:48:20.221Z"
   },
   {
    "duration": 7,
    "start_time": "2022-03-22T18:48:29.947Z"
   },
   {
    "duration": 5,
    "start_time": "2022-03-22T18:58:48.989Z"
   },
   {
    "duration": 1516,
    "start_time": "2022-03-22T18:59:08.703Z"
   },
   {
    "duration": 814,
    "start_time": "2022-03-22T18:59:10.220Z"
   },
   {
    "duration": 25,
    "start_time": "2022-03-22T18:59:11.036Z"
   },
   {
    "duration": 19,
    "start_time": "2022-03-22T18:59:11.065Z"
   },
   {
    "duration": 21,
    "start_time": "2022-03-22T18:59:11.086Z"
   },
   {
    "duration": 39,
    "start_time": "2022-03-22T18:59:11.109Z"
   },
   {
    "duration": 20,
    "start_time": "2022-03-22T18:59:11.149Z"
   },
   {
    "duration": 18,
    "start_time": "2022-03-22T18:59:11.171Z"
   },
   {
    "duration": 8,
    "start_time": "2022-03-22T18:59:11.191Z"
   },
   {
    "duration": 5,
    "start_time": "2022-03-22T18:59:11.201Z"
   },
   {
    "duration": 5,
    "start_time": "2022-03-22T18:59:11.238Z"
   },
   {
    "duration": 149,
    "start_time": "2022-03-22T19:00:27.505Z"
   },
   {
    "duration": 2,
    "start_time": "2022-03-22T19:00:46.213Z"
   },
   {
    "duration": 3,
    "start_time": "2022-03-22T19:01:05.872Z"
   },
   {
    "duration": 4,
    "start_time": "2022-03-22T19:01:54.117Z"
   },
   {
    "duration": 3,
    "start_time": "2022-03-22T19:02:25.133Z"
   },
   {
    "duration": 98,
    "start_time": "2022-03-22T19:02:51.794Z"
   },
   {
    "duration": 5,
    "start_time": "2022-03-22T19:03:00.095Z"
   },
   {
    "duration": 5,
    "start_time": "2022-03-22T19:03:15.678Z"
   },
   {
    "duration": 4,
    "start_time": "2022-03-22T19:04:06.772Z"
   },
   {
    "duration": 4,
    "start_time": "2022-03-22T19:14:41.075Z"
   },
   {
    "duration": 4,
    "start_time": "2022-03-22T19:16:04.855Z"
   },
   {
    "duration": 4,
    "start_time": "2022-03-22T19:17:12.395Z"
   },
   {
    "duration": 5,
    "start_time": "2022-03-22T19:22:12.245Z"
   },
   {
    "duration": 4,
    "start_time": "2022-03-22T19:23:49.601Z"
   },
   {
    "duration": 4,
    "start_time": "2022-03-22T19:24:26.396Z"
   },
   {
    "duration": 9,
    "start_time": "2022-03-22T19:25:06.930Z"
   },
   {
    "duration": 8,
    "start_time": "2022-03-22T19:25:14.584Z"
   },
   {
    "duration": 1666,
    "start_time": "2022-03-23T17:05:14.377Z"
   },
   {
    "duration": 777,
    "start_time": "2022-03-23T17:05:16.046Z"
   },
   {
    "duration": 29,
    "start_time": "2022-03-23T17:05:16.825Z"
   },
   {
    "duration": 21,
    "start_time": "2022-03-23T17:05:16.856Z"
   },
   {
    "duration": 52,
    "start_time": "2022-03-23T17:05:16.881Z"
   },
   {
    "duration": 15,
    "start_time": "2022-03-23T17:05:16.936Z"
   },
   {
    "duration": 22,
    "start_time": "2022-03-23T17:05:16.953Z"
   },
   {
    "duration": 22,
    "start_time": "2022-03-23T17:05:16.977Z"
   },
   {
    "duration": 37,
    "start_time": "2022-03-23T17:05:17.000Z"
   },
   {
    "duration": 6,
    "start_time": "2022-03-23T17:05:17.039Z"
   },
   {
    "duration": 78,
    "start_time": "2022-03-23T17:25:56.135Z"
   },
   {
    "duration": 63,
    "start_time": "2022-03-23T17:31:47.129Z"
   },
   {
    "duration": 118,
    "start_time": "2022-03-23T17:32:46.599Z"
   },
   {
    "duration": 40,
    "start_time": "2022-03-23T17:35:04.879Z"
   },
   {
    "duration": 40,
    "start_time": "2022-03-23T17:36:31.494Z"
   },
   {
    "duration": 46,
    "start_time": "2022-03-24T15:34:38.276Z"
   },
   {
    "duration": 1431,
    "start_time": "2022-03-24T15:34:43.699Z"
   },
   {
    "duration": 676,
    "start_time": "2022-03-24T15:34:45.132Z"
   },
   {
    "duration": 31,
    "start_time": "2022-03-24T15:34:45.810Z"
   },
   {
    "duration": 18,
    "start_time": "2022-03-24T15:34:45.843Z"
   },
   {
    "duration": 20,
    "start_time": "2022-03-24T15:34:45.863Z"
   },
   {
    "duration": 18,
    "start_time": "2022-03-24T15:34:45.884Z"
   },
   {
    "duration": 46,
    "start_time": "2022-03-24T15:34:45.904Z"
   },
   {
    "duration": 19,
    "start_time": "2022-03-24T15:34:45.952Z"
   },
   {
    "duration": 7,
    "start_time": "2022-03-24T15:34:45.973Z"
   },
   {
    "duration": 9,
    "start_time": "2022-03-24T15:34:45.982Z"
   },
   {
    "duration": 17,
    "start_time": "2022-03-24T15:34:45.993Z"
   },
   {
    "duration": 27,
    "start_time": "2022-03-24T15:34:46.012Z"
   },
   {
    "duration": 1434,
    "start_time": "2022-03-24T15:35:56.858Z"
   },
   {
    "duration": 36,
    "start_time": "2022-03-24T15:36:18.466Z"
   },
   {
    "duration": 4,
    "start_time": "2022-03-24T15:36:31.372Z"
   },
   {
    "duration": 23,
    "start_time": "2022-03-24T15:40:19.759Z"
   },
   {
    "duration": 17,
    "start_time": "2022-03-24T15:40:32.255Z"
   },
   {
    "duration": 22,
    "start_time": "2022-03-24T15:41:08.952Z"
   },
   {
    "duration": 46,
    "start_time": "2022-03-24T15:42:21.094Z"
   },
   {
    "duration": 22,
    "start_time": "2022-03-24T15:42:25.401Z"
   },
   {
    "duration": 23,
    "start_time": "2022-03-24T15:42:38.909Z"
   },
   {
    "duration": 10,
    "start_time": "2022-03-24T15:43:17.519Z"
   },
   {
    "duration": 8,
    "start_time": "2022-03-24T15:43:31.545Z"
   },
   {
    "duration": 20,
    "start_time": "2022-03-24T15:44:05.240Z"
   },
   {
    "duration": 18,
    "start_time": "2022-03-24T15:45:23.406Z"
   },
   {
    "duration": 850,
    "start_time": "2022-03-24T16:48:21.522Z"
   },
   {
    "duration": 865,
    "start_time": "2022-03-24T16:48:49.989Z"
   },
   {
    "duration": 520,
    "start_time": "2022-03-24T16:50:17.795Z"
   },
   {
    "duration": 458,
    "start_time": "2022-03-24T16:50:33.917Z"
   },
   {
    "duration": 540,
    "start_time": "2022-03-24T16:50:48.413Z"
   },
   {
    "duration": 855,
    "start_time": "2022-03-24T16:51:28.213Z"
   },
   {
    "duration": 1143,
    "start_time": "2022-03-24T16:51:35.651Z"
   },
   {
    "duration": 1451,
    "start_time": "2022-03-24T16:52:46.435Z"
   },
   {
    "duration": 697,
    "start_time": "2022-03-24T16:53:00.427Z"
   },
   {
    "duration": 1265,
    "start_time": "2022-03-24T16:53:13.443Z"
   },
   {
    "duration": 3318,
    "start_time": "2022-03-24T16:54:23.211Z"
   },
   {
    "duration": 1246,
    "start_time": "2022-03-24T16:56:26.883Z"
   },
   {
    "duration": 1234,
    "start_time": "2022-03-24T16:56:46.282Z"
   },
   {
    "duration": 1572,
    "start_time": "2022-03-24T16:57:21.635Z"
   },
   {
    "duration": 1275,
    "start_time": "2022-03-24T16:57:43.179Z"
   },
   {
    "duration": 1285,
    "start_time": "2022-03-24T18:38:11.037Z"
   },
   {
    "duration": 121,
    "start_time": "2022-03-24T18:40:19.471Z"
   },
   {
    "duration": 120,
    "start_time": "2022-03-24T18:40:29.997Z"
   },
   {
    "duration": 615,
    "start_time": "2022-03-24T18:40:44.387Z"
   },
   {
    "duration": 2110,
    "start_time": "2022-03-24T18:41:03.294Z"
   },
   {
    "duration": 1999,
    "start_time": "2022-03-24T18:41:31.076Z"
   },
   {
    "duration": 2091,
    "start_time": "2022-03-24T18:41:36.539Z"
   },
   {
    "duration": 1966,
    "start_time": "2022-03-24T18:41:50.664Z"
   },
   {
    "duration": 2030,
    "start_time": "2022-03-24T18:42:16.003Z"
   },
   {
    "duration": 2093,
    "start_time": "2022-03-24T18:43:17.515Z"
   },
   {
    "duration": 1965,
    "start_time": "2022-03-24T18:44:51.615Z"
   },
   {
    "duration": 1998,
    "start_time": "2022-03-24T18:46:09.983Z"
   },
   {
    "duration": 194,
    "start_time": "2022-03-24T19:05:38.702Z"
   },
   {
    "duration": 797,
    "start_time": "2022-03-24T19:05:47.174Z"
   },
   {
    "duration": 740,
    "start_time": "2022-03-24T19:08:00.141Z"
   },
   {
    "duration": 847,
    "start_time": "2022-03-24T19:08:08.916Z"
   },
   {
    "duration": 994,
    "start_time": "2022-03-24T19:08:50.307Z"
   },
   {
    "duration": 17,
    "start_time": "2022-03-24T19:09:55.103Z"
   },
   {
    "duration": 19,
    "start_time": "2022-03-24T19:10:06.908Z"
   },
   {
    "duration": 12,
    "start_time": "2022-03-24T19:11:06.420Z"
   },
   {
    "duration": 3568,
    "start_time": "2022-03-24T19:12:49.395Z"
   },
   {
    "duration": 10,
    "start_time": "2022-03-24T19:14:09.089Z"
   },
   {
    "duration": 889,
    "start_time": "2022-03-24T19:14:30.199Z"
   },
   {
    "duration": 1021,
    "start_time": "2022-03-24T19:14:50.722Z"
   },
   {
    "duration": 724,
    "start_time": "2022-03-24T19:15:48.687Z"
   },
   {
    "duration": 4,
    "start_time": "2022-03-24T19:16:21.047Z"
   },
   {
    "duration": 997,
    "start_time": "2022-03-24T19:16:26.296Z"
   },
   {
    "duration": 969,
    "start_time": "2022-03-24T19:16:58.698Z"
   },
   {
    "duration": 470,
    "start_time": "2022-03-24T19:17:17.793Z"
   },
   {
    "duration": 443,
    "start_time": "2022-03-24T19:17:58.185Z"
   },
   {
    "duration": 1040,
    "start_time": "2022-03-24T19:18:31.738Z"
   },
   {
    "duration": 870,
    "start_time": "2022-03-24T19:19:11.648Z"
   },
   {
    "duration": 3789,
    "start_time": "2022-03-24T19:19:40.129Z"
   },
   {
    "duration": 13,
    "start_time": "2022-03-24T19:20:25.716Z"
   },
   {
    "duration": 11,
    "start_time": "2022-03-24T19:22:45.471Z"
   },
   {
    "duration": 870,
    "start_time": "2022-03-24T19:23:09.511Z"
   },
   {
    "duration": 1016,
    "start_time": "2022-03-24T19:23:45.985Z"
   },
   {
    "duration": 945,
    "start_time": "2022-03-24T19:24:07.222Z"
   },
   {
    "duration": 1025,
    "start_time": "2022-03-24T19:24:12.814Z"
   },
   {
    "duration": 2403,
    "start_time": "2022-03-25T14:05:10.037Z"
   },
   {
    "duration": 13039,
    "start_time": "2022-03-25T14:05:12.443Z"
   },
   {
    "duration": 39,
    "start_time": "2022-03-25T14:05:25.485Z"
   },
   {
    "duration": 37,
    "start_time": "2022-03-25T14:05:25.526Z"
   },
   {
    "duration": 29,
    "start_time": "2022-03-25T14:05:25.567Z"
   },
   {
    "duration": 19,
    "start_time": "2022-03-25T14:05:25.598Z"
   },
   {
    "duration": 30,
    "start_time": "2022-03-25T14:05:25.646Z"
   },
   {
    "duration": 31,
    "start_time": "2022-03-25T14:05:25.678Z"
   },
   {
    "duration": 33,
    "start_time": "2022-03-25T14:05:25.711Z"
   },
   {
    "duration": 10,
    "start_time": "2022-03-25T14:05:25.747Z"
   },
   {
    "duration": 56,
    "start_time": "2022-03-25T14:05:25.760Z"
   },
   {
    "duration": 48,
    "start_time": "2022-03-25T14:05:25.819Z"
   },
   {
    "duration": 3201,
    "start_time": "2022-03-25T14:05:25.870Z"
   },
   {
    "duration": 1559,
    "start_time": "2022-03-25T14:05:29.076Z"
   },
   {
    "duration": 159,
    "start_time": "2022-03-25T14:20:04.122Z"
   },
   {
    "duration": 33,
    "start_time": "2022-03-25T14:20:09.696Z"
   },
   {
    "duration": 40,
    "start_time": "2022-03-25T14:23:23.482Z"
   },
   {
    "duration": 404,
    "start_time": "2022-03-25T14:25:42.818Z"
   },
   {
    "duration": 16,
    "start_time": "2022-03-25T14:27:29.808Z"
   },
   {
    "duration": 250,
    "start_time": "2022-03-25T14:28:58.393Z"
   },
   {
    "duration": 662,
    "start_time": "2022-03-25T14:31:41.374Z"
   },
   {
    "duration": 633,
    "start_time": "2022-03-25T14:32:59.815Z"
   },
   {
    "duration": 434,
    "start_time": "2022-03-25T14:33:45.983Z"
   },
   {
    "duration": 422,
    "start_time": "2022-03-25T14:36:25.246Z"
   },
   {
    "duration": 669,
    "start_time": "2022-03-25T14:37:51.694Z"
   },
   {
    "duration": 1149,
    "start_time": "2022-03-25T14:38:04.476Z"
   },
   {
    "duration": 1626,
    "start_time": "2022-03-25T14:38:25.108Z"
   },
   {
    "duration": 2007,
    "start_time": "2022-03-25T15:22:02.329Z"
   },
   {
    "duration": 463,
    "start_time": "2022-03-25T15:22:08.689Z"
   },
   {
    "duration": 1132,
    "start_time": "2022-03-25T15:22:09.155Z"
   },
   {
    "duration": 37,
    "start_time": "2022-03-25T15:22:10.289Z"
   },
   {
    "duration": 28,
    "start_time": "2022-03-25T15:22:10.328Z"
   },
   {
    "duration": 33,
    "start_time": "2022-03-25T15:22:10.384Z"
   },
   {
    "duration": 20,
    "start_time": "2022-03-25T15:22:10.419Z"
   },
   {
    "duration": 60,
    "start_time": "2022-03-25T15:22:10.441Z"
   },
   {
    "duration": 27,
    "start_time": "2022-03-25T15:22:10.503Z"
   },
   {
    "duration": 14,
    "start_time": "2022-03-25T15:22:10.533Z"
   },
   {
    "duration": 43,
    "start_time": "2022-03-25T15:22:10.549Z"
   },
   {
    "duration": 58,
    "start_time": "2022-03-25T15:22:10.594Z"
   },
   {
    "duration": 48,
    "start_time": "2022-03-25T15:22:10.654Z"
   },
   {
    "duration": 3445,
    "start_time": "2022-03-25T15:22:10.704Z"
   },
   {
    "duration": 1597,
    "start_time": "2022-03-25T15:22:14.152Z"
   },
   {
    "duration": 53,
    "start_time": "2022-03-25T15:22:15.751Z"
   },
   {
    "duration": 1053,
    "start_time": "2022-03-25T15:22:15.806Z"
   },
   {
    "duration": 1261,
    "start_time": "2022-03-25T15:22:30.975Z"
   },
   {
    "duration": 1781,
    "start_time": "2022-03-25T15:22:55.455Z"
   },
   {
    "duration": 1792,
    "start_time": "2022-03-25T15:23:25.136Z"
   },
   {
    "duration": 1063,
    "start_time": "2022-03-25T15:23:51.712Z"
   },
   {
    "duration": 940,
    "start_time": "2022-03-25T15:24:00.015Z"
   },
   {
    "duration": 1587,
    "start_time": "2022-03-25T15:24:31.159Z"
   },
   {
    "duration": 1604,
    "start_time": "2022-03-25T15:25:27.183Z"
   },
   {
    "duration": 2039,
    "start_time": "2022-03-25T15:25:36.253Z"
   },
   {
    "duration": 2035,
    "start_time": "2022-03-25T15:25:43.245Z"
   },
   {
    "duration": 1599,
    "start_time": "2022-03-25T15:25:51.909Z"
   },
   {
    "duration": 1740,
    "start_time": "2022-03-25T15:27:16.373Z"
   },
   {
    "duration": 1867,
    "start_time": "2022-03-25T15:29:09.853Z"
   },
   {
    "duration": 78,
    "start_time": "2022-03-25T15:34:46.098Z"
   },
   {
    "duration": 29,
    "start_time": "2022-03-25T15:35:52.971Z"
   },
   {
    "duration": 54,
    "start_time": "2022-03-25T15:36:32.562Z"
   },
   {
    "duration": 68,
    "start_time": "2022-03-25T15:37:28.811Z"
   },
   {
    "duration": 74,
    "start_time": "2022-03-25T15:37:34.754Z"
   },
   {
    "duration": 49,
    "start_time": "2022-03-25T15:39:47.529Z"
   },
   {
    "duration": 52,
    "start_time": "2022-03-25T15:40:25.849Z"
   },
   {
    "duration": 2153,
    "start_time": "2022-03-25T15:50:57.797Z"
   },
   {
    "duration": 55,
    "start_time": "2022-03-25T15:54:00.970Z"
   },
   {
    "duration": 7819,
    "start_time": "2022-03-25T16:00:35.708Z"
   },
   {
    "duration": 5,
    "start_time": "2022-03-25T16:02:21.753Z"
   },
   {
    "duration": 10546,
    "start_time": "2022-03-25T16:02:49.097Z"
   },
   {
    "duration": 25,
    "start_time": "2022-03-25T16:04:06.385Z"
   },
   {
    "duration": 21,
    "start_time": "2022-03-25T16:04:54.793Z"
   },
   {
    "duration": 25,
    "start_time": "2022-03-25T16:05:25.627Z"
   },
   {
    "duration": 29,
    "start_time": "2022-03-25T16:06:18.087Z"
   },
   {
    "duration": 34,
    "start_time": "2022-03-25T16:10:09.284Z"
   },
   {
    "duration": 25,
    "start_time": "2022-03-25T16:10:41.138Z"
   },
   {
    "duration": 24,
    "start_time": "2022-03-25T16:10:54.607Z"
   },
   {
    "duration": 1019,
    "start_time": "2022-03-25T16:11:17.479Z"
   },
   {
    "duration": 1587,
    "start_time": "2022-03-25T16:11:36.119Z"
   },
   {
    "duration": 1606,
    "start_time": "2022-03-25T16:12:24.093Z"
   },
   {
    "duration": 1772,
    "start_time": "2022-03-25T16:12:37.845Z"
   },
   {
    "duration": 1126,
    "start_time": "2022-03-25T16:12:55.692Z"
   },
   {
    "duration": 26,
    "start_time": "2022-03-25T17:52:34.251Z"
   },
   {
    "duration": 128,
    "start_time": "2022-03-25T17:53:24.371Z"
   },
   {
    "duration": 26,
    "start_time": "2022-03-25T17:53:36.586Z"
   },
   {
    "duration": 50,
    "start_time": "2022-03-25T17:56:00.897Z"
   },
   {
    "duration": 43,
    "start_time": "2022-03-25T17:57:16.721Z"
   },
   {
    "duration": 9605,
    "start_time": "2022-03-25T18:03:08.383Z"
   },
   {
    "duration": 6908,
    "start_time": "2022-03-25T18:03:52.201Z"
   },
   {
    "duration": 22,
    "start_time": "2022-03-25T18:04:36.421Z"
   },
   {
    "duration": 21,
    "start_time": "2022-03-25T18:05:35.901Z"
   },
   {
    "duration": 35,
    "start_time": "2022-03-25T18:06:23.890Z"
   },
   {
    "duration": 1982,
    "start_time": "2022-03-25T18:06:58.546Z"
   },
   {
    "duration": 896,
    "start_time": "2022-03-25T18:07:00.531Z"
   },
   {
    "duration": 39,
    "start_time": "2022-03-25T18:07:01.430Z"
   },
   {
    "duration": 48,
    "start_time": "2022-03-25T18:07:01.487Z"
   },
   {
    "duration": 38,
    "start_time": "2022-03-25T18:07:01.538Z"
   },
   {
    "duration": 36,
    "start_time": "2022-03-25T18:07:01.579Z"
   },
   {
    "duration": 52,
    "start_time": "2022-03-25T18:07:01.617Z"
   },
   {
    "duration": 79,
    "start_time": "2022-03-25T18:07:01.671Z"
   },
   {
    "duration": 18,
    "start_time": "2022-03-25T18:07:01.753Z"
   },
   {
    "duration": 47,
    "start_time": "2022-03-25T18:07:01.775Z"
   },
   {
    "duration": 127,
    "start_time": "2022-03-25T18:07:01.824Z"
   },
   {
    "duration": 28,
    "start_time": "2022-03-25T18:07:01.953Z"
   },
   {
    "duration": 3396,
    "start_time": "2022-03-25T18:07:01.983Z"
   },
   {
    "duration": 1935,
    "start_time": "2022-03-25T18:07:05.384Z"
   },
   {
    "duration": 45,
    "start_time": "2022-03-25T18:07:07.322Z"
   },
   {
    "duration": 1889,
    "start_time": "2022-03-25T18:07:07.369Z"
   },
   {
    "duration": 4,
    "start_time": "2022-03-25T18:07:09.261Z"
   },
   {
    "duration": 22,
    "start_time": "2022-03-25T18:07:09.267Z"
   },
   {
    "duration": 47,
    "start_time": "2022-03-25T18:07:09.291Z"
   },
   {
    "duration": 197,
    "start_time": "2022-03-25T18:07:09.341Z"
   },
   {
    "duration": 6,
    "start_time": "2022-03-25T18:07:09.541Z"
   },
   {
    "duration": 15,
    "start_time": "2022-03-25T18:07:36.343Z"
   },
   {
    "duration": 16,
    "start_time": "2022-03-25T18:09:09.761Z"
   },
   {
    "duration": 34,
    "start_time": "2022-03-25T18:11:02.911Z"
   },
   {
    "duration": 2724,
    "start_time": "2022-03-25T18:11:22.883Z"
   },
   {
    "duration": 1278,
    "start_time": "2022-03-25T18:11:25.611Z"
   },
   {
    "duration": 52,
    "start_time": "2022-03-25T18:11:26.892Z"
   },
   {
    "duration": 57,
    "start_time": "2022-03-25T18:11:26.947Z"
   },
   {
    "duration": 45,
    "start_time": "2022-03-25T18:11:27.009Z"
   },
   {
    "duration": 47,
    "start_time": "2022-03-25T18:11:27.057Z"
   },
   {
    "duration": 44,
    "start_time": "2022-03-25T18:11:27.107Z"
   },
   {
    "duration": 63,
    "start_time": "2022-03-25T18:11:27.154Z"
   },
   {
    "duration": 15,
    "start_time": "2022-03-25T18:11:27.219Z"
   },
   {
    "duration": 23,
    "start_time": "2022-03-25T18:11:27.237Z"
   },
   {
    "duration": 62,
    "start_time": "2022-03-25T18:11:27.283Z"
   },
   {
    "duration": 43,
    "start_time": "2022-03-25T18:11:27.347Z"
   },
   {
    "duration": 3437,
    "start_time": "2022-03-25T18:11:27.392Z"
   },
   {
    "duration": 1854,
    "start_time": "2022-03-25T18:11:30.835Z"
   },
   {
    "duration": 38,
    "start_time": "2022-03-25T18:11:32.692Z"
   },
   {
    "duration": 1837,
    "start_time": "2022-03-25T18:11:32.732Z"
   },
   {
    "duration": 13,
    "start_time": "2022-03-25T18:11:34.571Z"
   },
   {
    "duration": 24,
    "start_time": "2022-03-25T18:11:34.586Z"
   },
   {
    "duration": 46,
    "start_time": "2022-03-25T18:11:34.612Z"
   },
   {
    "duration": 195,
    "start_time": "2022-03-25T18:11:34.661Z"
   },
   {
    "duration": 6,
    "start_time": "2022-03-25T18:11:34.859Z"
   },
   {
    "duration": 110,
    "start_time": "2022-03-25T18:12:49.844Z"
   },
   {
    "duration": 17,
    "start_time": "2022-03-25T18:14:37.827Z"
   },
   {
    "duration": 23,
    "start_time": "2022-03-25T18:14:47.637Z"
   },
   {
    "duration": 36,
    "start_time": "2022-03-25T18:15:04.470Z"
   },
   {
    "duration": 27,
    "start_time": "2022-03-25T18:15:08.328Z"
   },
   {
    "duration": 8,
    "start_time": "2022-03-25T18:40:54.348Z"
   },
   {
    "duration": 7,
    "start_time": "2022-03-25T18:41:52.439Z"
   },
   {
    "duration": 15,
    "start_time": "2022-03-25T18:44:26.363Z"
   },
   {
    "duration": 6,
    "start_time": "2022-03-25T19:08:06.035Z"
   },
   {
    "duration": 244,
    "start_time": "2022-03-25T19:14:54.142Z"
   },
   {
    "duration": 2106,
    "start_time": "2022-03-25T19:15:11.389Z"
   },
   {
    "duration": 22,
    "start_time": "2022-03-25T19:15:29.533Z"
   },
   {
    "duration": 13,
    "start_time": "2022-03-25T19:16:44.366Z"
   },
   {
    "duration": 19,
    "start_time": "2022-03-25T19:16:59.748Z"
   },
   {
    "duration": 64,
    "start_time": "2022-03-25T19:29:28.666Z"
   },
   {
    "duration": 229,
    "start_time": "2022-03-25T19:41:26.584Z"
   },
   {
    "duration": 26,
    "start_time": "2022-03-25T19:42:41.070Z"
   },
   {
    "duration": 4,
    "start_time": "2022-03-25T19:44:12.783Z"
   },
   {
    "duration": 4,
    "start_time": "2022-03-25T19:44:19.958Z"
   },
   {
    "duration": 15,
    "start_time": "2022-03-25T19:44:30.737Z"
   },
   {
    "duration": 7,
    "start_time": "2022-03-25T19:45:13.892Z"
   },
   {
    "duration": 1876,
    "start_time": "2022-03-25T19:45:19.630Z"
   },
   {
    "duration": 14,
    "start_time": "2022-03-25T19:47:50.620Z"
   },
   {
    "duration": 27,
    "start_time": "2022-03-25T19:48:08.020Z"
   },
   {
    "duration": 554,
    "start_time": "2022-03-25T19:48:15.619Z"
   },
   {
    "duration": 14,
    "start_time": "2022-03-25T20:02:57.351Z"
   },
   {
    "duration": 14,
    "start_time": "2022-03-25T20:05:48.412Z"
   },
   {
    "duration": 60,
    "start_time": "2022-03-25T20:06:15.844Z"
   },
   {
    "duration": 14,
    "start_time": "2022-03-25T20:07:15.327Z"
   },
   {
    "duration": 2174,
    "start_time": "2022-03-25T20:07:26.517Z"
   },
   {
    "duration": 2336,
    "start_time": "2022-03-26T05:40:24.848Z"
   },
   {
    "duration": 831,
    "start_time": "2022-03-26T05:40:27.187Z"
   },
   {
    "duration": 35,
    "start_time": "2022-03-26T05:40:28.021Z"
   },
   {
    "duration": 27,
    "start_time": "2022-03-26T05:40:28.074Z"
   },
   {
    "duration": 33,
    "start_time": "2022-03-26T05:40:28.106Z"
   },
   {
    "duration": 47,
    "start_time": "2022-03-26T05:40:28.141Z"
   },
   {
    "duration": 31,
    "start_time": "2022-03-26T05:40:28.191Z"
   },
   {
    "duration": 50,
    "start_time": "2022-03-26T05:40:28.224Z"
   },
   {
    "duration": 13,
    "start_time": "2022-03-26T05:40:28.276Z"
   },
   {
    "duration": 7,
    "start_time": "2022-03-26T05:40:28.291Z"
   },
   {
    "duration": 84,
    "start_time": "2022-03-26T05:40:28.300Z"
   },
   {
    "duration": 26,
    "start_time": "2022-03-26T05:40:28.387Z"
   },
   {
    "duration": 3377,
    "start_time": "2022-03-26T05:40:28.415Z"
   },
   {
    "duration": 1488,
    "start_time": "2022-03-26T05:40:31.798Z"
   },
   {
    "duration": 34,
    "start_time": "2022-03-26T05:40:33.288Z"
   },
   {
    "duration": 1928,
    "start_time": "2022-03-26T05:40:33.324Z"
   },
   {
    "duration": 30,
    "start_time": "2022-03-26T05:40:35.254Z"
   },
   {
    "duration": 13,
    "start_time": "2022-03-26T05:40:35.286Z"
   },
   {
    "duration": 13,
    "start_time": "2022-03-26T05:40:35.301Z"
   },
   {
    "duration": 26,
    "start_time": "2022-03-26T05:40:35.316Z"
   },
   {
    "duration": 7,
    "start_time": "2022-03-26T05:40:35.345Z"
   },
   {
    "duration": 21038,
    "start_time": "2022-03-26T05:40:35.354Z"
   },
   {
    "duration": 188,
    "start_time": "2022-03-26T05:40:56.395Z"
   },
   {
    "duration": 1,
    "start_time": "2022-03-26T05:40:56.585Z"
   },
   {
    "duration": 2325,
    "start_time": "2022-03-26T05:41:16.953Z"
   },
   {
    "duration": 2707,
    "start_time": "2022-03-26T05:45:52.770Z"
   },
   {
    "duration": 881,
    "start_time": "2022-03-26T05:45:55.479Z"
   },
   {
    "duration": 54,
    "start_time": "2022-03-26T05:45:56.363Z"
   },
   {
    "duration": 26,
    "start_time": "2022-03-26T05:45:56.420Z"
   },
   {
    "duration": 51,
    "start_time": "2022-03-26T05:45:56.448Z"
   },
   {
    "duration": 22,
    "start_time": "2022-03-26T05:45:56.501Z"
   },
   {
    "duration": 51,
    "start_time": "2022-03-26T05:45:56.525Z"
   },
   {
    "duration": 32,
    "start_time": "2022-03-26T05:45:56.578Z"
   },
   {
    "duration": 12,
    "start_time": "2022-03-26T05:45:56.613Z"
   },
   {
    "duration": 7,
    "start_time": "2022-03-26T05:45:56.629Z"
   },
   {
    "duration": 54,
    "start_time": "2022-03-26T05:45:56.674Z"
   },
   {
    "duration": 55,
    "start_time": "2022-03-26T05:45:56.730Z"
   },
   {
    "duration": 3122,
    "start_time": "2022-03-26T05:45:56.787Z"
   },
   {
    "duration": 1553,
    "start_time": "2022-03-26T05:45:59.911Z"
   },
   {
    "duration": 35,
    "start_time": "2022-03-26T05:46:01.474Z"
   },
   {
    "duration": 1866,
    "start_time": "2022-03-26T05:46:01.511Z"
   },
   {
    "duration": 17,
    "start_time": "2022-03-26T05:46:03.379Z"
   },
   {
    "duration": 11,
    "start_time": "2022-03-26T05:46:03.398Z"
   },
   {
    "duration": 23,
    "start_time": "2022-03-26T05:46:03.411Z"
   },
   {
    "duration": 22,
    "start_time": "2022-03-26T05:46:03.436Z"
   },
   {
    "duration": 22,
    "start_time": "2022-03-26T05:46:03.461Z"
   },
   {
    "duration": 182,
    "start_time": "2022-03-26T05:46:03.486Z"
   },
   {
    "duration": 0,
    "start_time": "2022-03-26T05:46:03.671Z"
   },
   {
    "duration": 0,
    "start_time": "2022-03-26T05:46:03.672Z"
   },
   {
    "duration": 0,
    "start_time": "2022-03-26T05:46:03.674Z"
   },
   {
    "duration": 4,
    "start_time": "2022-03-26T05:47:04.085Z"
   },
   {
    "duration": 20999,
    "start_time": "2022-03-26T05:47:05.304Z"
   },
   {
    "duration": 26,
    "start_time": "2022-03-26T05:47:51.390Z"
   },
   {
    "duration": 34629,
    "start_time": "2022-03-26T05:47:56.656Z"
   },
   {
    "duration": 2412,
    "start_time": "2022-03-26T05:48:41.463Z"
   },
   {
    "duration": 2201,
    "start_time": "2022-03-26T05:49:02.774Z"
   },
   {
    "duration": 2573,
    "start_time": "2022-03-26T05:49:14.207Z"
   },
   {
    "duration": 28407,
    "start_time": "2022-03-26T05:52:01.711Z"
   },
   {
    "duration": 21850,
    "start_time": "2022-03-26T05:53:03.110Z"
   },
   {
    "duration": 13,
    "start_time": "2022-03-26T05:55:07.412Z"
   },
   {
    "duration": 3300,
    "start_time": "2022-03-26T05:55:15.413Z"
   },
   {
    "duration": 15,
    "start_time": "2022-03-26T05:56:03.847Z"
   },
   {
    "duration": 2740,
    "start_time": "2022-03-26T05:56:08.452Z"
   },
   {
    "duration": 3853,
    "start_time": "2022-03-26T05:56:40.605Z"
   },
   {
    "duration": 2584,
    "start_time": "2022-03-26T05:57:00.516Z"
   },
   {
    "duration": 3870,
    "start_time": "2022-03-26T05:57:10.036Z"
   },
   {
    "duration": 217,
    "start_time": "2022-03-26T07:29:33.458Z"
   },
   {
    "duration": 1176,
    "start_time": "2022-03-26T07:30:27.714Z"
   },
   {
    "duration": 1607,
    "start_time": "2022-03-26T14:10:46.740Z"
   },
   {
    "duration": 686,
    "start_time": "2022-03-26T14:10:48.349Z"
   },
   {
    "duration": 26,
    "start_time": "2022-03-26T14:10:49.037Z"
   },
   {
    "duration": 19,
    "start_time": "2022-03-26T14:10:49.066Z"
   },
   {
    "duration": 40,
    "start_time": "2022-03-26T14:10:49.087Z"
   },
   {
    "duration": 13,
    "start_time": "2022-03-26T14:10:49.129Z"
   },
   {
    "duration": 21,
    "start_time": "2022-03-26T14:10:49.143Z"
   },
   {
    "duration": 46,
    "start_time": "2022-03-26T14:10:49.166Z"
   },
   {
    "duration": 32,
    "start_time": "2022-03-26T14:10:49.213Z"
   },
   {
    "duration": 17,
    "start_time": "2022-03-26T14:10:49.249Z"
   },
   {
    "duration": 44,
    "start_time": "2022-03-26T14:10:49.268Z"
   },
   {
    "duration": 24,
    "start_time": "2022-03-26T14:10:49.314Z"
   },
   {
    "duration": 2082,
    "start_time": "2022-03-26T14:10:49.339Z"
   },
   {
    "duration": 1021,
    "start_time": "2022-03-26T14:10:51.423Z"
   },
   {
    "duration": 28,
    "start_time": "2022-03-26T14:10:52.446Z"
   },
   {
    "duration": 1124,
    "start_time": "2022-03-26T14:10:52.476Z"
   },
   {
    "duration": 15,
    "start_time": "2022-03-26T14:10:53.601Z"
   },
   {
    "duration": 15,
    "start_time": "2022-03-26T14:10:53.618Z"
   },
   {
    "duration": 3,
    "start_time": "2022-03-26T14:10:53.635Z"
   },
   {
    "duration": 17,
    "start_time": "2022-03-26T14:10:53.640Z"
   },
   {
    "duration": 29,
    "start_time": "2022-03-26T14:10:53.658Z"
   },
   {
    "duration": 5,
    "start_time": "2022-03-26T14:10:53.688Z"
   },
   {
    "duration": 16944,
    "start_time": "2022-03-26T14:10:53.694Z"
   },
   {
    "duration": 28090,
    "start_time": "2022-03-26T14:11:10.640Z"
   },
   {
    "duration": 1584,
    "start_time": "2022-03-26T14:11:38.732Z"
   },
   {
    "duration": 3156,
    "start_time": "2022-03-26T14:11:40.319Z"
   },
   {
    "duration": 690,
    "start_time": "2022-03-26T14:11:43.477Z"
   },
   {
    "duration": 109589,
    "start_time": "2022-03-26T14:13:00.678Z"
   },
   {
    "duration": 17114,
    "start_time": "2022-03-26T14:17:52.463Z"
   },
   {
    "duration": 29439,
    "start_time": "2022-03-26T14:22:50.168Z"
   },
   {
    "duration": 29259,
    "start_time": "2022-03-26T14:25:11.126Z"
   },
   {
    "duration": 12680,
    "start_time": "2022-03-26T14:26:08.679Z"
   },
   {
    "duration": 28104,
    "start_time": "2022-03-26T14:27:02.769Z"
   },
   {
    "duration": 3,
    "start_time": "2022-03-26T14:54:17.213Z"
   },
   {
    "duration": 773,
    "start_time": "2022-03-26T14:54:17.271Z"
   },
   {
    "duration": 22,
    "start_time": "2022-03-26T14:54:18.046Z"
   },
   {
    "duration": 148,
    "start_time": "2022-03-26T14:54:18.070Z"
   },
   {
    "duration": 22,
    "start_time": "2022-03-26T14:54:18.221Z"
   },
   {
    "duration": 14,
    "start_time": "2022-03-26T14:54:18.244Z"
   },
   {
    "duration": 21,
    "start_time": "2022-03-26T14:54:18.260Z"
   },
   {
    "duration": 20,
    "start_time": "2022-03-26T14:54:18.308Z"
   },
   {
    "duration": 8,
    "start_time": "2022-03-26T14:54:18.330Z"
   },
   {
    "duration": 11,
    "start_time": "2022-03-26T14:54:18.340Z"
   },
   {
    "duration": 70,
    "start_time": "2022-03-26T14:54:18.354Z"
   },
   {
    "duration": 20,
    "start_time": "2022-03-26T14:54:18.426Z"
   },
   {
    "duration": 2109,
    "start_time": "2022-03-26T14:54:18.448Z"
   },
   {
    "duration": 922,
    "start_time": "2022-03-26T14:54:20.559Z"
   },
   {
    "duration": 34,
    "start_time": "2022-03-26T14:54:21.483Z"
   },
   {
    "duration": 1168,
    "start_time": "2022-03-26T14:54:21.519Z"
   },
   {
    "duration": 8,
    "start_time": "2022-03-26T14:54:22.689Z"
   },
   {
    "duration": 7,
    "start_time": "2022-03-26T14:54:22.709Z"
   },
   {
    "duration": 4,
    "start_time": "2022-03-26T14:54:22.718Z"
   },
   {
    "duration": 5,
    "start_time": "2022-03-26T14:54:22.723Z"
   },
   {
    "duration": 13,
    "start_time": "2022-03-26T14:54:22.729Z"
   },
   {
    "duration": 6,
    "start_time": "2022-03-26T14:54:22.744Z"
   },
   {
    "duration": 29215,
    "start_time": "2022-03-26T14:54:22.752Z"
   },
   {
    "duration": 1405,
    "start_time": "2022-03-26T15:02:00.053Z"
   },
   {
    "duration": 699,
    "start_time": "2022-03-26T15:02:01.460Z"
   },
   {
    "duration": 26,
    "start_time": "2022-03-26T15:02:02.160Z"
   },
   {
    "duration": 27,
    "start_time": "2022-03-26T15:02:02.188Z"
   },
   {
    "duration": 22,
    "start_time": "2022-03-26T15:02:02.216Z"
   },
   {
    "duration": 16,
    "start_time": "2022-03-26T15:02:02.240Z"
   },
   {
    "duration": 21,
    "start_time": "2022-03-26T15:02:02.258Z"
   },
   {
    "duration": 46,
    "start_time": "2022-03-26T15:02:02.280Z"
   },
   {
    "duration": 7,
    "start_time": "2022-03-26T15:02:02.328Z"
   },
   {
    "duration": 7,
    "start_time": "2022-03-26T15:02:02.338Z"
   },
   {
    "duration": 63,
    "start_time": "2022-03-26T15:02:02.347Z"
   },
   {
    "duration": 26,
    "start_time": "2022-03-26T15:02:02.412Z"
   },
   {
    "duration": 2117,
    "start_time": "2022-03-26T15:02:02.440Z"
   },
   {
    "duration": 1116,
    "start_time": "2022-03-26T15:02:04.559Z"
   },
   {
    "duration": 38,
    "start_time": "2022-03-26T15:02:05.677Z"
   },
   {
    "duration": 1179,
    "start_time": "2022-03-26T15:02:05.718Z"
   },
   {
    "duration": 19,
    "start_time": "2022-03-26T15:02:06.899Z"
   },
   {
    "duration": 17,
    "start_time": "2022-03-26T15:02:06.920Z"
   },
   {
    "duration": 4,
    "start_time": "2022-03-26T15:02:06.938Z"
   },
   {
    "duration": 6,
    "start_time": "2022-03-26T15:02:06.944Z"
   },
   {
    "duration": 24,
    "start_time": "2022-03-26T15:02:06.952Z"
   },
   {
    "duration": 20,
    "start_time": "2022-03-26T15:02:06.979Z"
   },
   {
    "duration": 29854,
    "start_time": "2022-03-26T15:02:07.002Z"
   },
   {
    "duration": 1538,
    "start_time": "2022-03-26T19:00:13.271Z"
   },
   {
    "duration": 696,
    "start_time": "2022-03-26T19:00:14.811Z"
   },
   {
    "duration": 30,
    "start_time": "2022-03-26T19:00:15.508Z"
   },
   {
    "duration": 18,
    "start_time": "2022-03-26T19:00:15.540Z"
   },
   {
    "duration": 38,
    "start_time": "2022-03-26T19:00:15.560Z"
   },
   {
    "duration": 45,
    "start_time": "2022-03-26T19:00:15.600Z"
   },
   {
    "duration": 50,
    "start_time": "2022-03-26T19:00:15.647Z"
   },
   {
    "duration": 38,
    "start_time": "2022-03-26T19:00:15.699Z"
   },
   {
    "duration": 26,
    "start_time": "2022-03-26T19:00:15.739Z"
   },
   {
    "duration": 40,
    "start_time": "2022-03-26T19:00:15.768Z"
   },
   {
    "duration": 51,
    "start_time": "2022-03-26T19:00:15.809Z"
   },
   {
    "duration": 24,
    "start_time": "2022-03-26T19:00:15.862Z"
   },
   {
    "duration": 2001,
    "start_time": "2022-03-26T19:00:15.887Z"
   },
   {
    "duration": 988,
    "start_time": "2022-03-26T19:00:17.890Z"
   },
   {
    "duration": 29,
    "start_time": "2022-03-26T19:00:18.879Z"
   },
   {
    "duration": 1091,
    "start_time": "2022-03-26T19:00:18.909Z"
   },
   {
    "duration": 13,
    "start_time": "2022-03-26T19:00:20.001Z"
   },
   {
    "duration": 28,
    "start_time": "2022-03-26T19:00:20.016Z"
   },
   {
    "duration": 9,
    "start_time": "2022-03-26T19:00:20.046Z"
   },
   {
    "duration": 29,
    "start_time": "2022-03-26T19:00:20.057Z"
   },
   {
    "duration": 38,
    "start_time": "2022-03-26T19:00:20.088Z"
   },
   {
    "duration": 35,
    "start_time": "2022-03-26T19:00:20.128Z"
   },
   {
    "duration": 27262,
    "start_time": "2022-03-26T19:00:20.165Z"
   },
   {
    "duration": 939845,
    "start_time": "2022-03-26T19:00:47.429Z"
   },
   {
    "duration": 1764,
    "start_time": "2022-03-26T19:16:27.276Z"
   },
   {
    "duration": 11287,
    "start_time": "2022-03-26T19:16:29.042Z"
   },
   {
    "duration": 641,
    "start_time": "2022-03-26T19:16:40.331Z"
   },
   {
    "duration": 13782,
    "start_time": "2022-03-26T19:19:50.624Z"
   },
   {
    "duration": 746,
    "start_time": "2022-03-26T19:20:08.181Z"
   },
   {
    "duration": 5,
    "start_time": "2022-03-26T19:20:53.125Z"
   },
   {
    "duration": 3,
    "start_time": "2022-03-26T19:21:00.023Z"
   },
   {
    "duration": 27073,
    "start_time": "2022-03-26T19:21:06.925Z"
   },
   {
    "duration": 1894,
    "start_time": "2022-03-26T19:22:01.950Z"
   },
   {
    "duration": 119826,
    "start_time": "2022-03-26T19:22:51.939Z"
   },
   {
    "duration": 14493,
    "start_time": "2022-03-26T19:25:16.179Z"
   },
   {
    "duration": 823,
    "start_time": "2022-03-26T19:25:33.100Z"
   },
   {
    "duration": 2978,
    "start_time": "2022-03-26T19:25:47.115Z"
   },
   {
    "duration": 1922,
    "start_time": "2022-03-26T19:25:54.981Z"
   },
   {
    "duration": 2978,
    "start_time": "2022-03-26T19:26:09.362Z"
   },
   {
    "duration": 12876,
    "start_time": "2022-03-26T19:26:23.180Z"
   },
   {
    "duration": 199,
    "start_time": "2022-03-26T19:27:17.339Z"
   },
   {
    "duration": 13243,
    "start_time": "2022-03-26T19:27:42.299Z"
   },
   {
    "duration": 25030,
    "start_time": "2022-03-26T19:28:12.128Z"
   },
   {
    "duration": 24572,
    "start_time": "2022-03-26T19:28:55.832Z"
   },
   {
    "duration": 119504,
    "start_time": "2022-03-26T19:29:37.946Z"
   },
   {
    "duration": 13649,
    "start_time": "2022-03-26T19:32:03.360Z"
   },
   {
    "duration": 630,
    "start_time": "2022-03-26T19:33:16.386Z"
   },
   {
    "duration": 755,
    "start_time": "2022-03-26T19:33:24.594Z"
   },
   {
    "duration": 4180,
    "start_time": "2022-03-26T19:33:33.815Z"
   },
   {
    "duration": 2799,
    "start_time": "2022-03-26T19:33:46.858Z"
   },
   {
    "duration": 4142,
    "start_time": "2022-03-26T19:33:54.070Z"
   },
   {
    "duration": 26988,
    "start_time": "2022-03-26T19:34:40.488Z"
   },
   {
    "duration": 24737,
    "start_time": "2022-03-26T19:35:42.758Z"
   },
   {
    "duration": 1936,
    "start_time": "2022-03-26T19:36:22.254Z"
   },
   {
    "duration": 13492,
    "start_time": "2022-03-26T19:37:26.797Z"
   },
   {
    "duration": 5,
    "start_time": "2022-03-26T19:41:32.429Z"
   },
   {
    "duration": 3,
    "start_time": "2022-03-26T19:41:36.987Z"
   },
   {
    "duration": 26843,
    "start_time": "2022-03-26T19:41:39.739Z"
   },
   {
    "duration": 4,
    "start_time": "2022-03-26T19:43:48.939Z"
   },
   {
    "duration": 3,
    "start_time": "2022-03-26T19:43:55.433Z"
   },
   {
    "duration": 26995,
    "start_time": "2022-03-26T19:43:56.217Z"
   },
   {
    "duration": 4,
    "start_time": "2022-03-26T19:48:39.568Z"
   },
   {
    "duration": 3,
    "start_time": "2022-03-26T19:48:42.470Z"
   },
   {
    "duration": 27148,
    "start_time": "2022-03-26T19:49:09.665Z"
   },
   {
    "duration": 6,
    "start_time": "2022-03-26T19:51:23.102Z"
   },
   {
    "duration": 3,
    "start_time": "2022-03-26T19:51:27.279Z"
   },
   {
    "duration": 27046,
    "start_time": "2022-03-26T19:51:28.526Z"
   },
   {
    "duration": 27363,
    "start_time": "2022-03-26T19:52:57.413Z"
   },
   {
    "duration": 1422,
    "start_time": "2022-03-26T20:13:33.514Z"
   },
   {
    "duration": 687,
    "start_time": "2022-03-26T20:13:34.938Z"
   },
   {
    "duration": 25,
    "start_time": "2022-03-26T20:13:35.627Z"
   },
   {
    "duration": 19,
    "start_time": "2022-03-26T20:13:35.654Z"
   },
   {
    "duration": 21,
    "start_time": "2022-03-26T20:13:35.676Z"
   },
   {
    "duration": 39,
    "start_time": "2022-03-26T20:13:35.699Z"
   },
   {
    "duration": 21,
    "start_time": "2022-03-26T20:13:35.740Z"
   },
   {
    "duration": 19,
    "start_time": "2022-03-26T20:13:35.763Z"
   },
   {
    "duration": 8,
    "start_time": "2022-03-26T20:13:35.783Z"
   },
   {
    "duration": 11,
    "start_time": "2022-03-26T20:13:35.792Z"
   },
   {
    "duration": 37,
    "start_time": "2022-03-26T20:13:35.838Z"
   },
   {
    "duration": 24,
    "start_time": "2022-03-26T20:13:35.877Z"
   },
   {
    "duration": 1925,
    "start_time": "2022-03-26T20:13:35.903Z"
   },
   {
    "duration": 1039,
    "start_time": "2022-03-26T20:13:37.831Z"
   },
   {
    "duration": 27,
    "start_time": "2022-03-26T20:13:38.872Z"
   },
   {
    "duration": 1126,
    "start_time": "2022-03-26T20:13:38.901Z"
   },
   {
    "duration": 17,
    "start_time": "2022-03-26T20:13:40.029Z"
   },
   {
    "duration": 16,
    "start_time": "2022-03-26T20:13:40.047Z"
   },
   {
    "duration": 8,
    "start_time": "2022-03-26T20:13:40.064Z"
   },
   {
    "duration": 18,
    "start_time": "2022-03-26T20:13:40.073Z"
   },
   {
    "duration": 6,
    "start_time": "2022-03-26T20:13:40.093Z"
   },
   {
    "duration": 27476,
    "start_time": "2022-03-26T20:13:40.100Z"
   },
   {
    "duration": 121067,
    "start_time": "2022-03-26T20:14:07.578Z"
   },
   {
    "duration": 1496,
    "start_time": "2022-03-26T20:16:08.647Z"
   },
   {
    "duration": 13964,
    "start_time": "2022-03-26T20:16:10.145Z"
   },
   {
    "duration": 0,
    "start_time": "2022-03-26T20:16:24.111Z"
   },
   {
    "duration": 0,
    "start_time": "2022-03-26T20:16:24.112Z"
   },
   {
    "duration": 753,
    "start_time": "2022-03-26T20:17:24.050Z"
   },
   {
    "duration": 4,
    "start_time": "2022-03-26T20:19:13.619Z"
   },
   {
    "duration": 1450,
    "start_time": "2022-03-26T20:19:21.911Z"
   },
   {
    "duration": 662,
    "start_time": "2022-03-26T20:19:23.363Z"
   },
   {
    "duration": 29,
    "start_time": "2022-03-26T20:19:24.027Z"
   },
   {
    "duration": 17,
    "start_time": "2022-03-26T20:19:24.059Z"
   },
   {
    "duration": 23,
    "start_time": "2022-03-26T20:19:24.079Z"
   },
   {
    "duration": 36,
    "start_time": "2022-03-26T20:19:24.104Z"
   },
   {
    "duration": 22,
    "start_time": "2022-03-26T20:19:24.142Z"
   },
   {
    "duration": 32,
    "start_time": "2022-03-26T20:19:24.165Z"
   },
   {
    "duration": 17,
    "start_time": "2022-03-26T20:19:24.199Z"
   },
   {
    "duration": 14,
    "start_time": "2022-03-26T20:19:24.218Z"
   },
   {
    "duration": 47,
    "start_time": "2022-03-26T20:19:24.237Z"
   },
   {
    "duration": 24,
    "start_time": "2022-03-26T20:19:24.286Z"
   },
   {
    "duration": 1928,
    "start_time": "2022-03-26T20:19:24.311Z"
   },
   {
    "duration": 987,
    "start_time": "2022-03-26T20:19:26.242Z"
   },
   {
    "duration": 31,
    "start_time": "2022-03-26T20:19:27.231Z"
   },
   {
    "duration": 1099,
    "start_time": "2022-03-26T20:19:27.264Z"
   },
   {
    "duration": 14,
    "start_time": "2022-03-26T20:19:28.364Z"
   },
   {
    "duration": 10,
    "start_time": "2022-03-26T20:19:28.380Z"
   },
   {
    "duration": 6,
    "start_time": "2022-03-26T20:19:28.392Z"
   },
   {
    "duration": 38,
    "start_time": "2022-03-26T20:19:28.400Z"
   },
   {
    "duration": 8,
    "start_time": "2022-03-26T20:19:28.440Z"
   },
   {
    "duration": 27358,
    "start_time": "2022-03-26T20:19:28.450Z"
   },
   {
    "duration": 121264,
    "start_time": "2022-03-26T20:19:55.809Z"
   },
   {
    "duration": 2063,
    "start_time": "2022-03-26T20:21:57.075Z"
   },
   {
    "duration": 13864,
    "start_time": "2022-03-26T20:21:59.140Z"
   },
   {
    "duration": 0,
    "start_time": "2022-03-26T20:22:13.006Z"
   },
   {
    "duration": 0,
    "start_time": "2022-03-26T20:22:13.007Z"
   },
   {
    "duration": 233,
    "start_time": "2022-03-26T20:23:01.517Z"
   },
   {
    "duration": 5,
    "start_time": "2022-03-26T20:29:00.683Z"
   },
   {
    "duration": 2,
    "start_time": "2022-03-26T20:29:04.821Z"
   },
   {
    "duration": 27078,
    "start_time": "2022-03-26T20:29:11.733Z"
   },
   {
    "duration": 13502,
    "start_time": "2022-03-26T20:29:46.550Z"
   },
   {
    "duration": 174,
    "start_time": "2022-03-26T20:30:12.365Z"
   },
   {
    "duration": 4,
    "start_time": "2022-03-26T20:30:37.861Z"
   },
   {
    "duration": 3,
    "start_time": "2022-03-26T20:30:44.931Z"
   },
   {
    "duration": 190,
    "start_time": "2022-03-26T20:30:49.353Z"
   },
   {
    "duration": 13680,
    "start_time": "2022-03-26T20:30:53.693Z"
   },
   {
    "duration": 178,
    "start_time": "2022-03-26T20:32:02.763Z"
   },
   {
    "duration": 1439,
    "start_time": "2022-03-26T20:32:29.751Z"
   },
   {
    "duration": 775,
    "start_time": "2022-03-26T20:32:31.192Z"
   },
   {
    "duration": 27,
    "start_time": "2022-03-26T20:32:31.969Z"
   },
   {
    "duration": 18,
    "start_time": "2022-03-26T20:32:31.998Z"
   },
   {
    "duration": 36,
    "start_time": "2022-03-26T20:32:32.018Z"
   },
   {
    "duration": 17,
    "start_time": "2022-03-26T20:32:32.055Z"
   },
   {
    "duration": 20,
    "start_time": "2022-03-26T20:32:32.074Z"
   },
   {
    "duration": 20,
    "start_time": "2022-03-26T20:32:32.095Z"
   },
   {
    "duration": 7,
    "start_time": "2022-03-26T20:32:32.139Z"
   },
   {
    "duration": 7,
    "start_time": "2022-03-26T20:32:32.148Z"
   },
   {
    "duration": 36,
    "start_time": "2022-03-26T20:32:32.157Z"
   },
   {
    "duration": 56,
    "start_time": "2022-03-26T20:32:32.195Z"
   },
   {
    "duration": 1932,
    "start_time": "2022-03-26T20:32:32.253Z"
   },
   {
    "duration": 988,
    "start_time": "2022-03-26T20:32:34.187Z"
   },
   {
    "duration": 30,
    "start_time": "2022-03-26T20:32:35.177Z"
   },
   {
    "duration": 1131,
    "start_time": "2022-03-26T20:32:35.209Z"
   },
   {
    "duration": 13,
    "start_time": "2022-03-26T20:32:36.342Z"
   },
   {
    "duration": 12,
    "start_time": "2022-03-26T20:32:36.357Z"
   },
   {
    "duration": 6,
    "start_time": "2022-03-26T20:32:36.371Z"
   },
   {
    "duration": 17,
    "start_time": "2022-03-26T20:32:36.379Z"
   },
   {
    "duration": 4,
    "start_time": "2022-03-26T20:32:36.398Z"
   },
   {
    "duration": 27031,
    "start_time": "2022-03-26T20:32:36.404Z"
   },
   {
    "duration": 119720,
    "start_time": "2022-03-26T20:33:03.438Z"
   },
   {
    "duration": 2279,
    "start_time": "2022-03-26T20:35:03.160Z"
   },
   {
    "duration": 14240,
    "start_time": "2022-03-26T20:35:05.441Z"
   },
   {
    "duration": 0,
    "start_time": "2022-03-26T20:35:19.682Z"
   },
   {
    "duration": 0,
    "start_time": "2022-03-26T20:35:19.683Z"
   },
   {
    "duration": 754,
    "start_time": "2022-03-26T20:35:37.858Z"
   },
   {
    "duration": 1361,
    "start_time": "2022-03-26T20:35:56.382Z"
   },
   {
    "duration": 688,
    "start_time": "2022-03-26T20:35:57.745Z"
   },
   {
    "duration": 25,
    "start_time": "2022-03-26T20:35:58.435Z"
   },
   {
    "duration": 17,
    "start_time": "2022-03-26T20:35:58.462Z"
   },
   {
    "duration": 20,
    "start_time": "2022-03-26T20:35:58.481Z"
   },
   {
    "duration": 40,
    "start_time": "2022-03-26T20:35:58.503Z"
   },
   {
    "duration": 18,
    "start_time": "2022-03-26T20:35:58.546Z"
   },
   {
    "duration": 21,
    "start_time": "2022-03-26T20:35:58.566Z"
   },
   {
    "duration": 8,
    "start_time": "2022-03-26T20:35:58.589Z"
   },
   {
    "duration": 10,
    "start_time": "2022-03-26T20:35:58.599Z"
   },
   {
    "duration": 37,
    "start_time": "2022-03-26T20:35:58.638Z"
   },
   {
    "duration": 24,
    "start_time": "2022-03-26T20:35:58.676Z"
   },
   {
    "duration": 1965,
    "start_time": "2022-03-26T20:35:58.702Z"
   },
   {
    "duration": 1006,
    "start_time": "2022-03-26T20:36:00.671Z"
   },
   {
    "duration": 30,
    "start_time": "2022-03-26T20:36:01.679Z"
   },
   {
    "duration": 1159,
    "start_time": "2022-03-26T20:36:01.711Z"
   },
   {
    "duration": 12,
    "start_time": "2022-03-26T20:36:02.872Z"
   },
   {
    "duration": 9,
    "start_time": "2022-03-26T20:36:02.886Z"
   },
   {
    "duration": 7,
    "start_time": "2022-03-26T20:36:02.896Z"
   },
   {
    "duration": 40,
    "start_time": "2022-03-26T20:36:02.905Z"
   },
   {
    "duration": 3,
    "start_time": "2022-03-26T20:36:02.947Z"
   },
   {
    "duration": 27601,
    "start_time": "2022-03-26T20:36:02.952Z"
   },
   {
    "duration": 119599,
    "start_time": "2022-03-26T20:36:30.555Z"
   },
   {
    "duration": 1688,
    "start_time": "2022-03-26T20:38:30.155Z"
   },
   {
    "duration": 13899,
    "start_time": "2022-03-26T20:38:31.846Z"
   },
   {
    "duration": 0,
    "start_time": "2022-03-26T20:38:45.747Z"
   },
   {
    "duration": 0,
    "start_time": "2022-03-26T20:38:45.748Z"
   },
   {
    "duration": 5,
    "start_time": "2022-03-26T20:40:14.486Z"
   },
   {
    "duration": 15,
    "start_time": "2022-03-26T20:40:16.978Z"
   },
   {
    "duration": 3,
    "start_time": "2022-03-26T20:40:19.935Z"
   },
   {
    "duration": 27091,
    "start_time": "2022-03-26T20:40:22.119Z"
   },
   {
    "duration": 13538,
    "start_time": "2022-03-26T20:41:09.950Z"
   },
   {
    "duration": 161,
    "start_time": "2022-03-26T20:41:30.680Z"
   },
   {
    "duration": 1365,
    "start_time": "2022-03-26T20:41:39.489Z"
   },
   {
    "duration": 694,
    "start_time": "2022-03-26T20:41:40.856Z"
   },
   {
    "duration": 25,
    "start_time": "2022-03-26T20:41:41.551Z"
   },
   {
    "duration": 17,
    "start_time": "2022-03-26T20:41:41.578Z"
   },
   {
    "duration": 41,
    "start_time": "2022-03-26T20:41:41.597Z"
   },
   {
    "duration": 22,
    "start_time": "2022-03-26T20:41:41.640Z"
   },
   {
    "duration": 22,
    "start_time": "2022-03-26T20:41:41.664Z"
   },
   {
    "duration": 31,
    "start_time": "2022-03-26T20:41:41.687Z"
   },
   {
    "duration": 7,
    "start_time": "2022-03-26T20:41:41.719Z"
   },
   {
    "duration": 6,
    "start_time": "2022-03-26T20:41:41.737Z"
   },
   {
    "duration": 49,
    "start_time": "2022-03-26T20:41:41.745Z"
   },
   {
    "duration": 24,
    "start_time": "2022-03-26T20:41:41.796Z"
   },
   {
    "duration": 1965,
    "start_time": "2022-03-26T20:41:41.821Z"
   },
   {
    "duration": 989,
    "start_time": "2022-03-26T20:41:43.788Z"
   },
   {
    "duration": 27,
    "start_time": "2022-03-26T20:41:44.779Z"
   },
   {
    "duration": 1138,
    "start_time": "2022-03-26T20:41:44.808Z"
   },
   {
    "duration": 12,
    "start_time": "2022-03-26T20:41:45.948Z"
   },
   {
    "duration": 11,
    "start_time": "2022-03-26T20:41:45.961Z"
   },
   {
    "duration": 6,
    "start_time": "2022-03-26T20:41:45.973Z"
   },
   {
    "duration": 16,
    "start_time": "2022-03-26T20:41:45.980Z"
   },
   {
    "duration": 2,
    "start_time": "2022-03-26T20:41:45.998Z"
   },
   {
    "duration": 27334,
    "start_time": "2022-03-26T20:41:46.002Z"
   },
   {
    "duration": 118801,
    "start_time": "2022-03-26T20:42:13.338Z"
   },
   {
    "duration": 1305,
    "start_time": "2022-03-26T20:44:12.141Z"
   },
   {
    "duration": 13728,
    "start_time": "2022-03-26T20:44:13.538Z"
   },
   {
    "duration": 0,
    "start_time": "2022-03-26T20:44:27.267Z"
   },
   {
    "duration": 0,
    "start_time": "2022-03-26T20:44:27.269Z"
   },
   {
    "duration": 1442,
    "start_time": "2022-03-26T20:47:33.139Z"
   },
   {
    "duration": 681,
    "start_time": "2022-03-26T20:47:34.583Z"
   },
   {
    "duration": 23,
    "start_time": "2022-03-26T20:47:35.266Z"
   },
   {
    "duration": 27,
    "start_time": "2022-03-26T20:47:35.291Z"
   },
   {
    "duration": 24,
    "start_time": "2022-03-26T20:47:35.320Z"
   },
   {
    "duration": 17,
    "start_time": "2022-03-26T20:47:35.346Z"
   },
   {
    "duration": 32,
    "start_time": "2022-03-26T20:47:35.365Z"
   },
   {
    "duration": 29,
    "start_time": "2022-03-26T20:47:35.399Z"
   },
   {
    "duration": 10,
    "start_time": "2022-03-26T20:47:35.430Z"
   },
   {
    "duration": 27,
    "start_time": "2022-03-26T20:47:35.442Z"
   },
   {
    "duration": 48,
    "start_time": "2022-03-26T20:47:35.471Z"
   },
   {
    "duration": 24,
    "start_time": "2022-03-26T20:47:35.521Z"
   },
   {
    "duration": 1885,
    "start_time": "2022-03-26T20:47:35.547Z"
   },
   {
    "duration": 981,
    "start_time": "2022-03-26T20:47:37.437Z"
   },
   {
    "duration": 35,
    "start_time": "2022-03-26T20:47:38.419Z"
   },
   {
    "duration": 1086,
    "start_time": "2022-03-26T20:47:38.455Z"
   },
   {
    "duration": 11,
    "start_time": "2022-03-26T20:47:39.543Z"
   },
   {
    "duration": 14,
    "start_time": "2022-03-26T20:47:39.556Z"
   },
   {
    "duration": 5,
    "start_time": "2022-03-26T20:47:39.571Z"
   },
   {
    "duration": 17,
    "start_time": "2022-03-26T20:47:39.578Z"
   },
   {
    "duration": 3,
    "start_time": "2022-03-26T20:47:39.597Z"
   },
   {
    "duration": 27087,
    "start_time": "2022-03-26T20:47:39.601Z"
   },
   {
    "duration": 120972,
    "start_time": "2022-03-26T20:48:06.690Z"
   },
   {
    "duration": 1380,
    "start_time": "2022-03-26T20:50:07.664Z"
   },
   {
    "duration": 14370,
    "start_time": "2022-03-26T20:50:09.047Z"
   },
   {
    "duration": 0,
    "start_time": "2022-03-26T20:50:23.419Z"
   },
   {
    "duration": 0,
    "start_time": "2022-03-26T20:50:23.421Z"
   },
   {
    "duration": 5,
    "start_time": "2022-03-26T20:58:52.381Z"
   },
   {
    "duration": 1406,
    "start_time": "2022-03-26T21:00:48.767Z"
   },
   {
    "duration": 697,
    "start_time": "2022-03-26T21:00:50.175Z"
   },
   {
    "duration": 25,
    "start_time": "2022-03-26T21:00:50.874Z"
   },
   {
    "duration": 29,
    "start_time": "2022-03-26T21:00:50.901Z"
   },
   {
    "duration": 25,
    "start_time": "2022-03-26T21:00:50.931Z"
   },
   {
    "duration": 11,
    "start_time": "2022-03-26T21:00:50.958Z"
   },
   {
    "duration": 19,
    "start_time": "2022-03-26T21:00:50.971Z"
   },
   {
    "duration": 52,
    "start_time": "2022-03-26T21:00:50.992Z"
   },
   {
    "duration": 7,
    "start_time": "2022-03-26T21:00:51.046Z"
   },
   {
    "duration": 7,
    "start_time": "2022-03-26T21:00:51.056Z"
   },
   {
    "duration": 47,
    "start_time": "2022-03-26T21:00:51.064Z"
   },
   {
    "duration": 26,
    "start_time": "2022-03-26T21:00:51.137Z"
   },
   {
    "duration": 1989,
    "start_time": "2022-03-26T21:00:51.164Z"
   },
   {
    "duration": 1012,
    "start_time": "2022-03-26T21:00:53.155Z"
   },
   {
    "duration": 27,
    "start_time": "2022-03-26T21:00:54.169Z"
   },
   {
    "duration": 1096,
    "start_time": "2022-03-26T21:00:54.198Z"
   },
   {
    "duration": 12,
    "start_time": "2022-03-26T21:00:55.295Z"
   },
   {
    "duration": 32,
    "start_time": "2022-03-26T21:00:55.308Z"
   },
   {
    "duration": 33,
    "start_time": "2022-03-26T21:00:55.342Z"
   },
   {
    "duration": 37,
    "start_time": "2022-03-26T21:00:55.377Z"
   },
   {
    "duration": 46,
    "start_time": "2022-03-26T21:00:55.416Z"
   },
   {
    "duration": 27319,
    "start_time": "2022-03-26T21:00:55.464Z"
   },
   {
    "duration": 118791,
    "start_time": "2022-03-26T21:01:22.785Z"
   },
   {
    "duration": 1269,
    "start_time": "2022-03-26T21:03:21.578Z"
   },
   {
    "duration": 13704,
    "start_time": "2022-03-26T21:03:22.939Z"
   },
   {
    "duration": 0,
    "start_time": "2022-03-26T21:03:36.644Z"
   },
   {
    "duration": 0,
    "start_time": "2022-03-26T21:03:36.646Z"
   },
   {
    "duration": 243,
    "start_time": "2022-03-26T21:04:53.201Z"
   },
   {
    "duration": 4,
    "start_time": "2022-03-26T21:06:36.197Z"
   },
   {
    "duration": 13,
    "start_time": "2022-03-26T21:06:39.527Z"
   },
   {
    "duration": 2,
    "start_time": "2022-03-26T21:06:41.287Z"
   },
   {
    "duration": 115,
    "start_time": "2022-03-26T21:06:46.329Z"
   },
   {
    "duration": 735,
    "start_time": "2022-03-26T21:06:49.337Z"
   },
   {
    "duration": 13511,
    "start_time": "2022-03-26T21:06:52.635Z"
   },
   {
    "duration": 4,
    "start_time": "2022-03-26T21:07:28.295Z"
   },
   {
    "duration": 15,
    "start_time": "2022-03-26T21:07:31.519Z"
   },
   {
    "duration": 2,
    "start_time": "2022-03-26T21:07:33.527Z"
   },
   {
    "duration": 1707,
    "start_time": "2022-03-26T21:07:38.736Z"
   },
   {
    "duration": 219,
    "start_time": "2022-03-26T21:07:43.630Z"
   },
   {
    "duration": 4,
    "start_time": "2022-03-26T21:08:29.680Z"
   },
   {
    "duration": 13,
    "start_time": "2022-03-26T21:08:31.279Z"
   },
   {
    "duration": 2,
    "start_time": "2022-03-26T21:08:32.973Z"
   },
   {
    "duration": 1524,
    "start_time": "2022-03-26T21:08:36.117Z"
   },
   {
    "duration": 295,
    "start_time": "2022-03-26T21:08:41.543Z"
   },
   {
    "duration": 4,
    "start_time": "2022-03-26T21:08:57.599Z"
   },
   {
    "duration": 12,
    "start_time": "2022-03-26T21:08:59.325Z"
   },
   {
    "duration": 3,
    "start_time": "2022-03-26T21:09:02.203Z"
   },
   {
    "duration": 62,
    "start_time": "2022-03-26T21:09:06.285Z"
   },
   {
    "duration": 739,
    "start_time": "2022-03-26T21:09:11.326Z"
   },
   {
    "duration": 13558,
    "start_time": "2022-03-26T21:09:14.290Z"
   },
   {
    "duration": 1413,
    "start_time": "2022-03-26T21:09:35.766Z"
   },
   {
    "duration": 713,
    "start_time": "2022-03-26T21:09:37.181Z"
   },
   {
    "duration": 25,
    "start_time": "2022-03-26T21:09:37.896Z"
   },
   {
    "duration": 27,
    "start_time": "2022-03-26T21:09:37.922Z"
   },
   {
    "duration": 33,
    "start_time": "2022-03-26T21:09:37.952Z"
   },
   {
    "duration": 17,
    "start_time": "2022-03-26T21:09:37.987Z"
   },
   {
    "duration": 50,
    "start_time": "2022-03-26T21:09:38.006Z"
   },
   {
    "duration": 24,
    "start_time": "2022-03-26T21:09:38.057Z"
   },
   {
    "duration": 8,
    "start_time": "2022-03-26T21:09:38.082Z"
   },
   {
    "duration": 10,
    "start_time": "2022-03-26T21:09:38.092Z"
   },
   {
    "duration": 58,
    "start_time": "2022-03-26T21:09:38.104Z"
   },
   {
    "duration": 23,
    "start_time": "2022-03-26T21:09:38.164Z"
   },
   {
    "duration": 1912,
    "start_time": "2022-03-26T21:09:38.190Z"
   },
   {
    "duration": 959,
    "start_time": "2022-03-26T21:09:40.105Z"
   },
   {
    "duration": 28,
    "start_time": "2022-03-26T21:09:41.066Z"
   },
   {
    "duration": 1089,
    "start_time": "2022-03-26T21:09:41.096Z"
   },
   {
    "duration": 12,
    "start_time": "2022-03-26T21:09:42.187Z"
   },
   {
    "duration": 9,
    "start_time": "2022-03-26T21:09:42.201Z"
   },
   {
    "duration": 5,
    "start_time": "2022-03-26T21:09:42.211Z"
   },
   {
    "duration": 32,
    "start_time": "2022-03-26T21:09:42.217Z"
   },
   {
    "duration": 5,
    "start_time": "2022-03-26T21:09:42.251Z"
   },
   {
    "duration": 27123,
    "start_time": "2022-03-26T21:09:42.258Z"
   },
   {
    "duration": 119101,
    "start_time": "2022-03-26T21:10:09.383Z"
   },
   {
    "duration": 1656,
    "start_time": "2022-03-26T21:12:08.487Z"
   },
   {
    "duration": 13752,
    "start_time": "2022-03-26T21:12:10.145Z"
   },
   {
    "duration": 0,
    "start_time": "2022-03-26T21:12:23.900Z"
   },
   {
    "duration": 0,
    "start_time": "2022-03-26T21:12:23.901Z"
   },
   {
    "duration": 5,
    "start_time": "2022-03-26T21:14:09.441Z"
   },
   {
    "duration": 16,
    "start_time": "2022-03-26T21:14:12.120Z"
   },
   {
    "duration": 3,
    "start_time": "2022-03-26T21:14:14.178Z"
   },
   {
    "duration": 1698,
    "start_time": "2022-03-26T21:14:17.040Z"
   },
   {
    "duration": 5,
    "start_time": "2022-03-26T21:15:11.272Z"
   },
   {
    "duration": 14,
    "start_time": "2022-03-26T21:15:15.544Z"
   },
   {
    "duration": 3,
    "start_time": "2022-03-26T21:15:17.680Z"
   },
   {
    "duration": 1366,
    "start_time": "2022-03-26T21:15:20.376Z"
   },
   {
    "duration": 182,
    "start_time": "2022-03-26T21:15:28.158Z"
   },
   {
    "duration": 4,
    "start_time": "2022-03-26T21:16:41.830Z"
   },
   {
    "duration": 13,
    "start_time": "2022-03-26T21:16:46.063Z"
   },
   {
    "duration": 3,
    "start_time": "2022-03-26T21:16:48.012Z"
   },
   {
    "duration": 1433,
    "start_time": "2022-03-26T21:16:51.414Z"
   },
   {
    "duration": 369,
    "start_time": "2022-03-26T21:16:59.470Z"
   },
   {
    "duration": 5,
    "start_time": "2022-03-26T21:18:03.350Z"
   },
   {
    "duration": 13,
    "start_time": "2022-03-26T21:18:05.208Z"
   },
   {
    "duration": 3,
    "start_time": "2022-03-26T21:18:07.358Z"
   },
   {
    "duration": 1511,
    "start_time": "2022-03-26T21:18:11.334Z"
   },
   {
    "duration": 739,
    "start_time": "2022-03-26T21:18:16.798Z"
   },
   {
    "duration": 212,
    "start_time": "2022-03-26T21:18:19.630Z"
   },
   {
    "duration": 118679,
    "start_time": "2022-03-26T21:18:24.198Z"
   },
   {
    "duration": 13773,
    "start_time": "2022-03-26T21:21:08.081Z"
   },
   {
    "duration": 1905,
    "start_time": "2022-03-26T21:21:51.644Z"
   },
   {
    "duration": 2805,
    "start_time": "2022-03-26T21:23:01.733Z"
   },
   {
    "duration": 9025,
    "start_time": "2022-03-26T21:23:19.341Z"
   },
   {
    "duration": 18123,
    "start_time": "2022-03-26T21:23:47.036Z"
   },
   {
    "duration": 8827,
    "start_time": "2022-03-26T21:24:13.204Z"
   },
   {
    "duration": 6562,
    "start_time": "2022-03-26T21:24:36.765Z"
   },
   {
    "duration": 4420,
    "start_time": "2022-03-26T21:24:51.180Z"
   },
   {
    "duration": 9718,
    "start_time": "2022-03-26T21:25:04.340Z"
   },
   {
    "duration": 2829,
    "start_time": "2022-03-26T21:25:22.994Z"
   },
   {
    "duration": 13143,
    "start_time": "2022-03-26T21:25:39.437Z"
   },
   {
    "duration": 1486,
    "start_time": "2022-03-26T21:26:30.270Z"
   },
   {
    "duration": 13791,
    "start_time": "2022-03-26T21:26:39.181Z"
   },
   {
    "duration": 13529,
    "start_time": "2022-03-26T21:27:00.373Z"
   },
   {
    "duration": 19409,
    "start_time": "2022-03-26T21:27:13.904Z"
   },
   {
    "duration": 25628,
    "start_time": "2022-03-26T21:27:56.299Z"
   },
   {
    "duration": 30976,
    "start_time": "2022-03-26T21:28:45.538Z"
   },
   {
    "duration": 7688,
    "start_time": "2022-03-26T21:29:23.111Z"
   },
   {
    "duration": 53633,
    "start_time": "2022-03-26T21:29:41.122Z"
   },
   {
    "duration": 7184,
    "start_time": "2022-03-26T21:30:49.186Z"
   },
   {
    "duration": 18894,
    "start_time": "2022-03-26T21:31:17.546Z"
   },
   {
    "duration": 3695,
    "start_time": "2022-03-26T21:32:02.866Z"
   },
   {
    "duration": 48511,
    "start_time": "2022-03-26T21:32:21.827Z"
   },
   {
    "duration": 6703,
    "start_time": "2022-03-26T21:33:21.113Z"
   },
   {
    "duration": 9,
    "start_time": "2022-03-26T21:33:39.866Z"
   },
   {
    "duration": 5,
    "start_time": "2022-03-26T21:33:45.048Z"
   },
   {
    "duration": 1438,
    "start_time": "2022-03-26T21:39:28.311Z"
   },
   {
    "duration": 722,
    "start_time": "2022-03-26T21:39:29.751Z"
   },
   {
    "duration": 24,
    "start_time": "2022-03-26T21:39:30.475Z"
   },
   {
    "duration": 16,
    "start_time": "2022-03-26T21:39:30.501Z"
   },
   {
    "duration": 37,
    "start_time": "2022-03-26T21:39:30.519Z"
   },
   {
    "duration": 20,
    "start_time": "2022-03-26T21:39:30.558Z"
   },
   {
    "duration": 19,
    "start_time": "2022-03-26T21:39:30.579Z"
   },
   {
    "duration": 18,
    "start_time": "2022-03-26T21:39:30.600Z"
   },
   {
    "duration": 8,
    "start_time": "2022-03-26T21:39:30.638Z"
   },
   {
    "duration": 10,
    "start_time": "2022-03-26T21:39:30.648Z"
   },
   {
    "duration": 40,
    "start_time": "2022-03-26T21:39:30.660Z"
   },
   {
    "duration": 41,
    "start_time": "2022-03-26T21:39:30.702Z"
   },
   {
    "duration": 1995,
    "start_time": "2022-03-26T21:39:30.745Z"
   },
   {
    "duration": 980,
    "start_time": "2022-03-26T21:39:32.742Z"
   },
   {
    "duration": 32,
    "start_time": "2022-03-26T21:39:33.725Z"
   },
   {
    "duration": 1068,
    "start_time": "2022-03-26T21:39:33.759Z"
   },
   {
    "duration": 12,
    "start_time": "2022-03-26T21:39:34.837Z"
   },
   {
    "duration": 12,
    "start_time": "2022-03-26T21:39:34.851Z"
   },
   {
    "duration": 5,
    "start_time": "2022-03-26T21:39:34.865Z"
   },
   {
    "duration": 19,
    "start_time": "2022-03-26T21:39:34.871Z"
   },
   {
    "duration": 3,
    "start_time": "2022-03-26T21:39:34.892Z"
   },
   {
    "duration": 26733,
    "start_time": "2022-03-26T21:39:34.896Z"
   },
   {
    "duration": 48697,
    "start_time": "2022-03-26T21:40:01.631Z"
   },
   {
    "duration": 1714,
    "start_time": "2022-03-26T21:40:50.330Z"
   },
   {
    "duration": 6792,
    "start_time": "2022-03-26T21:40:52.047Z"
   },
   {
    "duration": 13410,
    "start_time": "2022-03-26T21:41:28.069Z"
   },
   {
    "duration": 67261,
    "start_time": "2022-03-26T21:41:57.105Z"
   },
   {
    "duration": 9465,
    "start_time": "2022-03-26T21:43:19.829Z"
   },
   {
    "duration": 157692,
    "start_time": "2022-03-27T06:03:27.807Z"
   },
   {
    "duration": 978,
    "start_time": "2022-03-27T06:06:05.502Z"
   },
   {
    "duration": 34,
    "start_time": "2022-03-27T06:06:06.482Z"
   },
   {
    "duration": 31,
    "start_time": "2022-03-27T06:06:06.519Z"
   },
   {
    "duration": 46,
    "start_time": "2022-03-27T06:06:06.552Z"
   },
   {
    "duration": 24,
    "start_time": "2022-03-27T06:06:06.600Z"
   },
   {
    "duration": 50,
    "start_time": "2022-03-27T06:06:06.626Z"
   },
   {
    "duration": 31,
    "start_time": "2022-03-27T06:06:06.678Z"
   },
   {
    "duration": 10,
    "start_time": "2022-03-27T06:06:17.044Z"
   },
   {
    "duration": 75,
    "start_time": "2022-03-27T06:06:39.647Z"
   },
   {
    "duration": 31,
    "start_time": "2022-03-27T06:07:01.731Z"
   },
   {
    "duration": 3193,
    "start_time": "2022-03-27T06:12:24.955Z"
   },
   {
    "duration": 1532,
    "start_time": "2022-03-27T06:12:28.151Z"
   },
   {
    "duration": 38,
    "start_time": "2022-03-27T06:12:29.685Z"
   },
   {
    "duration": 1839,
    "start_time": "2022-03-27T06:12:29.725Z"
   },
   {
    "duration": 22,
    "start_time": "2022-03-27T06:12:31.567Z"
   },
   {
    "duration": 12,
    "start_time": "2022-03-27T06:17:33.523Z"
   },
   {
    "duration": 7,
    "start_time": "2022-03-27T06:17:45.598Z"
   },
   {
    "duration": 18,
    "start_time": "2022-03-27T06:17:57.521Z"
   },
   {
    "duration": 4,
    "start_time": "2022-03-27T06:18:05.972Z"
   },
   {
    "duration": 14,
    "start_time": "2022-03-27T06:18:30.535Z"
   },
   {
    "duration": 6,
    "start_time": "2022-03-27T06:20:48.353Z"
   },
   {
    "duration": 4,
    "start_time": "2022-03-27T06:20:57.081Z"
   },
   {
    "duration": 37064,
    "start_time": "2022-03-27T06:21:01.877Z"
   },
   {
    "duration": 2470,
    "start_time": "2022-03-27T06:31:43.204Z"
   },
   {
    "duration": 7,
    "start_time": "2022-03-27T06:32:07.198Z"
   },
   {
    "duration": 16,
    "start_time": "2022-03-27T06:32:10.028Z"
   },
   {
    "duration": 13,
    "start_time": "2022-03-27T06:32:10.265Z"
   },
   {
    "duration": 3,
    "start_time": "2022-03-27T06:32:11.322Z"
   },
   {
    "duration": 1736,
    "start_time": "2022-03-27T06:32:18.741Z"
   },
   {
    "duration": 5,
    "start_time": "2022-03-27T06:33:02.855Z"
   },
   {
    "duration": 6,
    "start_time": "2022-03-27T06:34:02.677Z"
   },
   {
    "duration": 6,
    "start_time": "2022-03-27T06:36:39.731Z"
   },
   {
    "duration": 2354,
    "start_time": "2022-03-27T11:21:56.659Z"
   },
   {
    "duration": 876,
    "start_time": "2022-03-27T11:21:59.016Z"
   },
   {
    "duration": 42,
    "start_time": "2022-03-27T11:21:59.894Z"
   },
   {
    "duration": 51,
    "start_time": "2022-03-27T11:21:59.939Z"
   },
   {
    "duration": 32,
    "start_time": "2022-03-27T11:21:59.992Z"
   },
   {
    "duration": 49,
    "start_time": "2022-03-27T11:22:00.026Z"
   },
   {
    "duration": 30,
    "start_time": "2022-03-27T11:22:00.077Z"
   },
   {
    "duration": 32,
    "start_time": "2022-03-27T11:22:00.110Z"
   },
   {
    "duration": 13,
    "start_time": "2022-03-27T11:22:00.173Z"
   },
   {
    "duration": 24,
    "start_time": "2022-03-27T11:22:00.190Z"
   },
   {
    "duration": 91,
    "start_time": "2022-03-27T11:22:00.216Z"
   },
   {
    "duration": 31,
    "start_time": "2022-03-27T11:22:00.309Z"
   },
   {
    "duration": 3277,
    "start_time": "2022-03-27T11:22:00.374Z"
   },
   {
    "duration": 1442,
    "start_time": "2022-03-27T11:22:03.653Z"
   },
   {
    "duration": 36,
    "start_time": "2022-03-27T11:22:05.097Z"
   },
   {
    "duration": 1842,
    "start_time": "2022-03-27T11:22:05.135Z"
   },
   {
    "duration": 18,
    "start_time": "2022-03-27T11:22:06.980Z"
   },
   {
    "duration": 14,
    "start_time": "2022-03-27T11:22:07.001Z"
   },
   {
    "duration": 18,
    "start_time": "2022-03-27T11:22:07.017Z"
   },
   {
    "duration": 48,
    "start_time": "2022-03-27T11:22:07.037Z"
   },
   {
    "duration": 35,
    "start_time": "2022-03-27T11:22:07.087Z"
   },
   {
    "duration": 23,
    "start_time": "2022-03-27T11:22:07.124Z"
   },
   {
    "duration": 28,
    "start_time": "2022-03-27T11:22:07.150Z"
   },
   {
    "duration": 39106,
    "start_time": "2022-03-27T11:22:07.181Z"
   },
   {
    "duration": 142706,
    "start_time": "2022-03-27T11:22:46.290Z"
   },
   {
    "duration": 2982,
    "start_time": "2022-03-27T11:25:09.001Z"
   },
   {
    "duration": 21731,
    "start_time": "2022-03-27T11:25:11.987Z"
   },
   {
    "duration": 3285,
    "start_time": "2022-03-27T11:28:29.900Z"
   },
   {
    "duration": 869,
    "start_time": "2022-03-27T11:28:33.189Z"
   },
   {
    "duration": 47,
    "start_time": "2022-03-27T11:28:34.060Z"
   },
   {
    "duration": 62,
    "start_time": "2022-03-27T11:28:34.112Z"
   },
   {
    "duration": 52,
    "start_time": "2022-03-27T11:28:34.177Z"
   },
   {
    "duration": 60,
    "start_time": "2022-03-27T11:28:34.231Z"
   },
   {
    "duration": 33,
    "start_time": "2022-03-27T11:28:34.293Z"
   },
   {
    "duration": 54,
    "start_time": "2022-03-27T11:28:34.329Z"
   },
   {
    "duration": 16,
    "start_time": "2022-03-27T11:28:34.385Z"
   },
   {
    "duration": 13,
    "start_time": "2022-03-27T11:28:34.407Z"
   },
   {
    "duration": 125,
    "start_time": "2022-03-27T11:28:34.423Z"
   },
   {
    "duration": 52,
    "start_time": "2022-03-27T11:28:34.551Z"
   },
   {
    "duration": 5140,
    "start_time": "2022-03-27T11:28:34.607Z"
   },
   {
    "duration": 1728,
    "start_time": "2022-03-27T11:28:39.749Z"
   },
   {
    "duration": 37,
    "start_time": "2022-03-27T11:28:41.481Z"
   },
   {
    "duration": 1923,
    "start_time": "2022-03-27T11:28:41.520Z"
   },
   {
    "duration": 36,
    "start_time": "2022-03-27T11:28:43.446Z"
   },
   {
    "duration": 17,
    "start_time": "2022-03-27T11:28:43.485Z"
   },
   {
    "duration": 10,
    "start_time": "2022-03-27T11:28:43.506Z"
   },
   {
    "duration": 54,
    "start_time": "2022-03-27T11:28:43.520Z"
   },
   {
    "duration": 24,
    "start_time": "2022-03-27T11:28:43.578Z"
   },
   {
    "duration": 7,
    "start_time": "2022-03-27T11:28:43.605Z"
   },
   {
    "duration": 11,
    "start_time": "2022-03-27T11:28:43.616Z"
   },
   {
    "duration": 53867,
    "start_time": "2022-03-27T11:28:43.629Z"
   },
   {
    "duration": 95066,
    "start_time": "2022-03-27T11:29:37.499Z"
   },
   {
    "duration": 2108,
    "start_time": "2022-03-27T11:31:12.574Z"
   },
   {
    "duration": 13914,
    "start_time": "2022-03-27T11:31:14.688Z"
   },
   {
    "duration": 2404,
    "start_time": "2022-03-27T11:31:51.450Z"
   },
   {
    "duration": 968,
    "start_time": "2022-03-27T11:31:53.857Z"
   },
   {
    "duration": 53,
    "start_time": "2022-03-27T11:31:54.828Z"
   },
   {
    "duration": 29,
    "start_time": "2022-03-27T11:31:54.885Z"
   },
   {
    "duration": 65,
    "start_time": "2022-03-27T11:31:54.916Z"
   },
   {
    "duration": 65,
    "start_time": "2022-03-27T11:31:54.983Z"
   },
   {
    "duration": 37,
    "start_time": "2022-03-27T11:31:55.050Z"
   },
   {
    "duration": 45,
    "start_time": "2022-03-27T11:31:55.090Z"
   },
   {
    "duration": 13,
    "start_time": "2022-03-27T11:31:55.139Z"
   },
   {
    "duration": 23,
    "start_time": "2022-03-27T11:31:55.158Z"
   },
   {
    "duration": 123,
    "start_time": "2022-03-27T11:31:55.187Z"
   },
   {
    "duration": 60,
    "start_time": "2022-03-27T11:31:55.314Z"
   },
   {
    "duration": 6740,
    "start_time": "2022-03-27T11:31:55.378Z"
   },
   {
    "duration": 1629,
    "start_time": "2022-03-27T11:32:02.121Z"
   },
   {
    "duration": 48,
    "start_time": "2022-03-27T11:32:03.753Z"
   },
   {
    "duration": 1883,
    "start_time": "2022-03-27T11:32:03.803Z"
   },
   {
    "duration": 18,
    "start_time": "2022-03-27T11:32:05.689Z"
   },
   {
    "duration": 15,
    "start_time": "2022-03-27T11:32:05.709Z"
   },
   {
    "duration": 8,
    "start_time": "2022-03-27T11:32:05.726Z"
   },
   {
    "duration": 30,
    "start_time": "2022-03-27T11:32:05.774Z"
   },
   {
    "duration": 25,
    "start_time": "2022-03-27T11:32:05.808Z"
   },
   {
    "duration": 15,
    "start_time": "2022-03-27T11:32:05.836Z"
   },
   {
    "duration": 8,
    "start_time": "2022-03-27T11:32:05.875Z"
   },
   {
    "duration": 37970,
    "start_time": "2022-03-27T11:32:05.885Z"
   },
   {
    "duration": 96087,
    "start_time": "2022-03-27T11:32:43.857Z"
   },
   {
    "duration": 2343,
    "start_time": "2022-03-27T11:34:19.947Z"
   },
   {
    "duration": 13549,
    "start_time": "2022-03-27T11:34:22.292Z"
   },
   {
    "duration": 7,
    "start_time": "2022-03-27T11:39:02.701Z"
   },
   {
    "duration": 5,
    "start_time": "2022-03-27T11:40:03.518Z"
   },
   {
    "duration": 1293,
    "start_time": "2022-03-27T11:40:04.926Z"
   },
   {
    "duration": 37,
    "start_time": "2022-03-27T11:40:06.222Z"
   },
   {
    "duration": 39,
    "start_time": "2022-03-27T11:40:12.334Z"
   },
   {
    "duration": 49,
    "start_time": "2022-03-27T11:40:17.462Z"
   },
   {
    "duration": 30,
    "start_time": "2022-03-27T11:40:18.838Z"
   },
   {
    "duration": 48,
    "start_time": "2022-03-27T11:40:25.606Z"
   },
   {
    "duration": 37,
    "start_time": "2022-03-27T11:40:29.190Z"
   },
   {
    "duration": 12,
    "start_time": "2022-03-27T11:40:34.046Z"
   },
   {
    "duration": 14,
    "start_time": "2022-03-27T11:40:37.038Z"
   },
   {
    "duration": 57,
    "start_time": "2022-03-27T11:40:46.589Z"
   },
   {
    "duration": 25,
    "start_time": "2022-03-27T11:40:50.598Z"
   },
   {
    "duration": 3378,
    "start_time": "2022-03-27T11:40:53.349Z"
   },
   {
    "duration": 3049,
    "start_time": "2022-03-27T11:41:02.230Z"
   },
   {
    "duration": 38,
    "start_time": "2022-03-27T11:41:10.093Z"
   },
   {
    "duration": 2045,
    "start_time": "2022-03-27T11:41:18.534Z"
   },
   {
    "duration": 20,
    "start_time": "2022-03-27T11:41:41.014Z"
   },
   {
    "duration": 17,
    "start_time": "2022-03-27T11:41:48.998Z"
   },
   {
    "duration": 10,
    "start_time": "2022-03-27T11:42:22.327Z"
   },
   {
    "duration": 18,
    "start_time": "2022-03-27T11:42:27.581Z"
   },
   {
    "duration": 13,
    "start_time": "2022-03-27T11:42:32.475Z"
   },
   {
    "duration": 6,
    "start_time": "2022-03-27T11:43:01.398Z"
   },
   {
    "duration": 16,
    "start_time": "2022-03-27T11:48:42.036Z"
   },
   {
    "duration": 6,
    "start_time": "2022-03-27T11:48:44.608Z"
   },
   {
    "duration": 17,
    "start_time": "2022-03-27T11:51:00.698Z"
   },
   {
    "duration": 6,
    "start_time": "2022-03-27T11:51:07.506Z"
   },
   {
    "duration": 17,
    "start_time": "2022-03-27T11:54:26.946Z"
   },
   {
    "duration": 6,
    "start_time": "2022-03-27T11:54:30.274Z"
   },
   {
    "duration": 17,
    "start_time": "2022-03-27T11:54:47.426Z"
   },
   {
    "duration": 6,
    "start_time": "2022-03-27T11:54:51.426Z"
   },
   {
    "duration": 184,
    "start_time": "2022-03-27T11:55:35.512Z"
   },
   {
    "duration": 7,
    "start_time": "2022-03-27T11:55:45.839Z"
   },
   {
    "duration": 23,
    "start_time": "2022-03-27T11:56:40.648Z"
   },
   {
    "duration": 2739,
    "start_time": "2022-03-27T11:56:52.452Z"
   },
   {
    "duration": 891,
    "start_time": "2022-03-27T11:56:55.194Z"
   },
   {
    "duration": 35,
    "start_time": "2022-03-27T11:56:56.087Z"
   },
   {
    "duration": 24,
    "start_time": "2022-03-27T11:56:56.126Z"
   },
   {
    "duration": 66,
    "start_time": "2022-03-27T11:56:56.152Z"
   },
   {
    "duration": 30,
    "start_time": "2022-03-27T11:56:56.221Z"
   },
   {
    "duration": 44,
    "start_time": "2022-03-27T11:56:56.275Z"
   },
   {
    "duration": 66,
    "start_time": "2022-03-27T11:56:56.322Z"
   },
   {
    "duration": 13,
    "start_time": "2022-03-27T11:56:56.391Z"
   },
   {
    "duration": 11,
    "start_time": "2022-03-27T11:56:56.408Z"
   },
   {
    "duration": 84,
    "start_time": "2022-03-27T11:56:56.421Z"
   },
   {
    "duration": 32,
    "start_time": "2022-03-27T11:56:56.507Z"
   },
   {
    "duration": 3285,
    "start_time": "2022-03-27T11:56:56.541Z"
   },
   {
    "duration": 1700,
    "start_time": "2022-03-27T11:56:59.828Z"
   },
   {
    "duration": 46,
    "start_time": "2022-03-27T11:57:01.530Z"
   },
   {
    "duration": 2682,
    "start_time": "2022-03-27T11:57:01.578Z"
   },
   {
    "duration": 29,
    "start_time": "2022-03-27T11:57:04.263Z"
   },
   {
    "duration": 15,
    "start_time": "2022-03-27T11:57:04.295Z"
   },
   {
    "duration": 8,
    "start_time": "2022-03-27T11:57:04.312Z"
   },
   {
    "duration": 9,
    "start_time": "2022-03-27T11:57:04.324Z"
   },
   {
    "duration": 311,
    "start_time": "2022-03-27T11:57:04.375Z"
   },
   {
    "duration": 0,
    "start_time": "2022-03-27T11:57:04.688Z"
   },
   {
    "duration": 0,
    "start_time": "2022-03-27T11:57:04.690Z"
   },
   {
    "duration": 0,
    "start_time": "2022-03-27T11:57:04.691Z"
   },
   {
    "duration": 0,
    "start_time": "2022-03-27T11:57:04.693Z"
   },
   {
    "duration": 0,
    "start_time": "2022-03-27T11:57:04.694Z"
   },
   {
    "duration": 0,
    "start_time": "2022-03-27T11:57:04.696Z"
   },
   {
    "duration": 0,
    "start_time": "2022-03-27T11:57:04.698Z"
   },
   {
    "duration": 0,
    "start_time": "2022-03-27T11:57:04.699Z"
   },
   {
    "duration": 3562,
    "start_time": "2022-03-27T12:15:30.124Z"
   },
   {
    "duration": 2782,
    "start_time": "2022-03-27T12:15:33.690Z"
   },
   {
    "duration": 37,
    "start_time": "2022-03-27T12:15:36.474Z"
   },
   {
    "duration": 26,
    "start_time": "2022-03-27T12:15:36.514Z"
   },
   {
    "duration": 57,
    "start_time": "2022-03-27T12:15:36.543Z"
   },
   {
    "duration": 20,
    "start_time": "2022-03-27T12:15:36.602Z"
   },
   {
    "duration": 74,
    "start_time": "2022-03-27T12:15:36.625Z"
   },
   {
    "duration": 29,
    "start_time": "2022-03-27T12:15:36.702Z"
   },
   {
    "duration": 42,
    "start_time": "2022-03-27T12:15:36.733Z"
   },
   {
    "duration": 10,
    "start_time": "2022-03-27T12:15:36.779Z"
   },
   {
    "duration": 89,
    "start_time": "2022-03-27T12:15:36.791Z"
   },
   {
    "duration": 38,
    "start_time": "2022-03-27T12:15:36.882Z"
   },
   {
    "duration": 3347,
    "start_time": "2022-03-27T12:15:36.922Z"
   },
   {
    "duration": 1777,
    "start_time": "2022-03-27T12:15:40.275Z"
   },
   {
    "duration": 46,
    "start_time": "2022-03-27T12:15:42.055Z"
   },
   {
    "duration": 1874,
    "start_time": "2022-03-27T12:15:42.103Z"
   },
   {
    "duration": 32,
    "start_time": "2022-03-27T12:15:43.982Z"
   },
   {
    "duration": 22,
    "start_time": "2022-03-27T12:15:44.018Z"
   },
   {
    "duration": 36,
    "start_time": "2022-03-27T12:15:44.044Z"
   },
   {
    "duration": 9,
    "start_time": "2022-03-27T12:15:44.084Z"
   },
   {
    "duration": 18,
    "start_time": "2022-03-27T12:15:44.096Z"
   },
   {
    "duration": 57,
    "start_time": "2022-03-27T12:15:44.117Z"
   },
   {
    "duration": 8,
    "start_time": "2022-03-27T12:15:44.177Z"
   },
   {
    "duration": 6,
    "start_time": "2022-03-27T12:15:44.187Z"
   },
   {
    "duration": 8,
    "start_time": "2022-03-27T12:15:44.195Z"
   },
   {
    "duration": 37844,
    "start_time": "2022-03-27T12:15:44.205Z"
   },
   {
    "duration": 103471,
    "start_time": "2022-03-27T12:16:22.052Z"
   },
   {
    "duration": 2456,
    "start_time": "2022-03-27T12:18:05.530Z"
   },
   {
    "duration": 14769,
    "start_time": "2022-03-27T12:18:07.989Z"
   },
   {
    "duration": 19595,
    "start_time": "2022-03-27T12:18:50.153Z"
   },
   {
    "duration": 37331,
    "start_time": "2022-03-27T12:19:27.188Z"
   },
   {
    "duration": 117,
    "start_time": "2022-03-27T12:21:15.983Z"
   },
   {
    "duration": 41,
    "start_time": "2022-03-27T12:21:22.336Z"
   },
   {
    "duration": 2111,
    "start_time": "2022-03-27T12:21:46.460Z"
   },
   {
    "duration": 930,
    "start_time": "2022-03-27T12:21:48.574Z"
   },
   {
    "duration": 38,
    "start_time": "2022-03-27T12:21:49.506Z"
   },
   {
    "duration": 48,
    "start_time": "2022-03-27T12:21:49.546Z"
   },
   {
    "duration": 33,
    "start_time": "2022-03-27T12:21:49.599Z"
   },
   {
    "duration": 44,
    "start_time": "2022-03-27T12:21:49.635Z"
   },
   {
    "duration": 32,
    "start_time": "2022-03-27T12:21:49.681Z"
   },
   {
    "duration": 64,
    "start_time": "2022-03-27T12:21:49.715Z"
   },
   {
    "duration": 14,
    "start_time": "2022-03-27T12:21:49.782Z"
   },
   {
    "duration": 11,
    "start_time": "2022-03-27T12:21:49.798Z"
   },
   {
    "duration": 93,
    "start_time": "2022-03-27T12:21:49.812Z"
   },
   {
    "duration": 29,
    "start_time": "2022-03-27T12:21:49.907Z"
   },
   {
    "duration": 3346,
    "start_time": "2022-03-27T12:21:49.938Z"
   },
   {
    "duration": 1813,
    "start_time": "2022-03-27T12:21:53.289Z"
   },
   {
    "duration": 83,
    "start_time": "2022-03-27T12:21:55.105Z"
   },
   {
    "duration": 1883,
    "start_time": "2022-03-27T12:21:55.190Z"
   },
   {
    "duration": 16,
    "start_time": "2022-03-27T12:21:57.076Z"
   },
   {
    "duration": 13,
    "start_time": "2022-03-27T12:21:57.095Z"
   },
   {
    "duration": 11,
    "start_time": "2022-03-27T12:21:57.110Z"
   },
   {
    "duration": 55,
    "start_time": "2022-03-27T12:21:57.123Z"
   },
   {
    "duration": 21,
    "start_time": "2022-03-27T12:21:57.181Z"
   },
   {
    "duration": 23,
    "start_time": "2022-03-27T12:21:57.204Z"
   },
   {
    "duration": 9,
    "start_time": "2022-03-27T12:21:57.231Z"
   },
   {
    "duration": 31,
    "start_time": "2022-03-27T12:21:57.243Z"
   },
   {
    "duration": 8,
    "start_time": "2022-03-27T12:21:57.278Z"
   },
   {
    "duration": 36829,
    "start_time": "2022-03-27T12:21:57.289Z"
   },
   {
    "duration": 19427,
    "start_time": "2022-03-27T12:22:34.120Z"
   },
   {
    "duration": 2534,
    "start_time": "2022-03-27T12:22:53.551Z"
   },
   {
    "duration": 19596,
    "start_time": "2022-03-27T12:22:56.088Z"
   },
   {
    "duration": 2770,
    "start_time": "2022-03-27T12:23:29.519Z"
   },
   {
    "duration": 1735,
    "start_time": "2022-03-27T12:31:31.325Z"
   },
   {
    "duration": 693,
    "start_time": "2022-03-27T12:31:33.062Z"
   },
   {
    "duration": 25,
    "start_time": "2022-03-27T12:31:33.757Z"
   },
   {
    "duration": 15,
    "start_time": "2022-03-27T12:31:33.784Z"
   },
   {
    "duration": 17,
    "start_time": "2022-03-27T12:31:33.800Z"
   },
   {
    "duration": 12,
    "start_time": "2022-03-27T12:31:33.819Z"
   },
   {
    "duration": 41,
    "start_time": "2022-03-27T12:31:33.832Z"
   },
   {
    "duration": 17,
    "start_time": "2022-03-27T12:31:33.875Z"
   },
   {
    "duration": 7,
    "start_time": "2022-03-27T12:31:33.894Z"
   },
   {
    "duration": 6,
    "start_time": "2022-03-27T12:31:33.905Z"
   },
   {
    "duration": 68,
    "start_time": "2022-03-27T12:31:33.912Z"
   },
   {
    "duration": 21,
    "start_time": "2022-03-27T12:31:33.982Z"
   },
   {
    "duration": 1739,
    "start_time": "2022-03-27T12:31:34.005Z"
   },
   {
    "duration": 883,
    "start_time": "2022-03-27T12:31:35.745Z"
   },
   {
    "duration": 38,
    "start_time": "2022-03-27T12:31:36.629Z"
   },
   {
    "duration": 985,
    "start_time": "2022-03-27T12:31:36.668Z"
   },
   {
    "duration": 16,
    "start_time": "2022-03-27T12:31:37.654Z"
   },
   {
    "duration": 8,
    "start_time": "2022-03-27T12:31:37.672Z"
   },
   {
    "duration": 5,
    "start_time": "2022-03-27T12:31:37.681Z"
   },
   {
    "duration": 9,
    "start_time": "2022-03-27T12:31:37.687Z"
   },
   {
    "duration": 13,
    "start_time": "2022-03-27T12:31:37.697Z"
   },
   {
    "duration": 12,
    "start_time": "2022-03-27T12:31:37.711Z"
   },
   {
    "duration": 6,
    "start_time": "2022-03-27T12:31:37.724Z"
   },
   {
    "duration": 5,
    "start_time": "2022-03-27T12:31:37.732Z"
   },
   {
    "duration": 3,
    "start_time": "2022-03-27T12:31:37.763Z"
   },
   {
    "duration": 26442,
    "start_time": "2022-03-27T12:31:37.767Z"
   },
   {
    "duration": 14291,
    "start_time": "2022-03-27T12:32:04.211Z"
   },
   {
    "duration": 2069,
    "start_time": "2022-03-27T12:32:18.506Z"
   },
   {
    "duration": 2013,
    "start_time": "2022-03-27T12:32:20.662Z"
   },
   {
    "duration": 5,
    "start_time": "2022-03-27T12:32:44.050Z"
   },
   {
    "duration": 5,
    "start_time": "2022-03-27T12:44:59.367Z"
   },
   {
    "duration": 117,
    "start_time": "2022-03-27T12:45:03.496Z"
   },
   {
    "duration": 3,
    "start_time": "2022-03-27T12:45:12.149Z"
   },
   {
    "duration": 732,
    "start_time": "2022-03-27T12:45:12.662Z"
   },
   {
    "duration": 7,
    "start_time": "2022-03-27T12:45:22.525Z"
   },
   {
    "duration": 6,
    "start_time": "2022-03-27T12:45:24.605Z"
   },
   {
    "duration": 34,
    "start_time": "2022-03-27T12:45:27.813Z"
   },
   {
    "duration": 21,
    "start_time": "2022-03-27T12:45:30.843Z"
   },
   {
    "duration": 1941,
    "start_time": "2022-03-27T12:45:33.396Z"
   },
   {
    "duration": 842,
    "start_time": "2022-03-27T12:45:38.141Z"
   },
   {
    "duration": 22,
    "start_time": "2022-03-27T12:45:41.685Z"
   },
   {
    "duration": 11,
    "start_time": "2022-03-27T12:45:45.581Z"
   },
   {
    "duration": 7,
    "start_time": "2022-03-27T12:45:48.543Z"
   },
   {
    "duration": 4,
    "start_time": "2022-03-27T12:45:52.947Z"
   },
   {
    "duration": 12,
    "start_time": "2022-03-27T12:45:56.285Z"
   },
   {
    "duration": 5,
    "start_time": "2022-03-27T12:45:58.701Z"
   },
   {
    "duration": 3,
    "start_time": "2022-03-27T12:46:01.846Z"
   },
   {
    "duration": 27698,
    "start_time": "2022-03-27T12:46:23.917Z"
   },
   {
    "duration": 15026,
    "start_time": "2022-03-27T12:46:54.389Z"
   },
   {
    "duration": 2209,
    "start_time": "2022-03-27T12:47:30.059Z"
   },
   {
    "duration": 2206,
    "start_time": "2022-03-27T12:47:48.501Z"
   },
   {
    "duration": 1993,
    "start_time": "2022-03-27T13:10:03.971Z"
   },
   {
    "duration": 8,
    "start_time": "2022-03-27T13:11:03.043Z"
   },
   {
    "duration": 158,
    "start_time": "2022-03-27T13:12:27.331Z"
   },
   {
    "duration": 1919,
    "start_time": "2022-03-27T13:14:39.667Z"
   },
   {
    "duration": 9,
    "start_time": "2022-03-27T13:15:49.539Z"
   },
   {
    "duration": 11,
    "start_time": "2022-03-27T13:16:51.256Z"
   },
   {
    "duration": 13,
    "start_time": "2022-03-27T13:20:12.848Z"
   },
   {
    "duration": 15,
    "start_time": "2022-03-27T13:21:26.687Z"
   },
   {
    "duration": 1507,
    "start_time": "2022-03-27T13:23:44.151Z"
   },
   {
    "duration": 857,
    "start_time": "2022-03-27T13:23:45.661Z"
   },
   {
    "duration": 32,
    "start_time": "2022-03-27T13:23:46.520Z"
   },
   {
    "duration": 24,
    "start_time": "2022-03-27T13:23:46.553Z"
   },
   {
    "duration": 21,
    "start_time": "2022-03-27T13:23:46.579Z"
   },
   {
    "duration": 13,
    "start_time": "2022-03-27T13:23:46.602Z"
   },
   {
    "duration": 47,
    "start_time": "2022-03-27T13:23:46.617Z"
   },
   {
    "duration": 22,
    "start_time": "2022-03-27T13:23:46.666Z"
   },
   {
    "duration": 10,
    "start_time": "2022-03-27T13:23:46.690Z"
   },
   {
    "duration": 7,
    "start_time": "2022-03-27T13:23:46.704Z"
   },
   {
    "duration": 64,
    "start_time": "2022-03-27T13:23:46.713Z"
   },
   {
    "duration": 21,
    "start_time": "2022-03-27T13:23:46.779Z"
   },
   {
    "duration": 2481,
    "start_time": "2022-03-27T13:23:46.802Z"
   },
   {
    "duration": 1141,
    "start_time": "2022-03-27T13:23:49.285Z"
   },
   {
    "duration": 40,
    "start_time": "2022-03-27T13:23:50.428Z"
   },
   {
    "duration": 1099,
    "start_time": "2022-03-27T13:23:50.469Z"
   },
   {
    "duration": 13,
    "start_time": "2022-03-27T13:23:51.570Z"
   },
   {
    "duration": 13,
    "start_time": "2022-03-27T13:23:51.585Z"
   },
   {
    "duration": 5,
    "start_time": "2022-03-27T13:23:51.601Z"
   },
   {
    "duration": 6,
    "start_time": "2022-03-27T13:23:51.609Z"
   },
   {
    "duration": 46,
    "start_time": "2022-03-27T13:23:51.617Z"
   },
   {
    "duration": 4,
    "start_time": "2022-03-27T13:23:51.665Z"
   },
   {
    "duration": 6,
    "start_time": "2022-03-27T13:23:51.670Z"
   },
   {
    "duration": 26676,
    "start_time": "2022-03-27T13:23:51.677Z"
   },
   {
    "duration": 17075,
    "start_time": "2022-03-27T13:24:18.363Z"
   },
   {
    "duration": 1926,
    "start_time": "2022-03-27T13:24:35.440Z"
   },
   {
    "duration": 2084,
    "start_time": "2022-03-27T13:24:37.369Z"
   },
   {
    "duration": 1961,
    "start_time": "2022-03-27T13:24:39.465Z"
   },
   {
    "duration": 1965,
    "start_time": "2022-03-27T13:29:18.430Z"
   },
   {
    "duration": 2048,
    "start_time": "2022-03-27T13:31:04.942Z"
   },
   {
    "duration": 2036,
    "start_time": "2022-03-27T13:36:26.115Z"
   },
   {
    "duration": 1870,
    "start_time": "2022-03-27T13:36:39.256Z"
   },
   {
    "duration": 683,
    "start_time": "2022-03-27T13:36:41.128Z"
   },
   {
    "duration": 22,
    "start_time": "2022-03-27T13:36:41.814Z"
   },
   {
    "duration": 33,
    "start_time": "2022-03-27T13:36:41.837Z"
   },
   {
    "duration": 28,
    "start_time": "2022-03-27T13:36:41.874Z"
   },
   {
    "duration": 13,
    "start_time": "2022-03-27T13:36:41.904Z"
   },
   {
    "duration": 19,
    "start_time": "2022-03-27T13:36:41.918Z"
   },
   {
    "duration": 23,
    "start_time": "2022-03-27T13:36:41.963Z"
   },
   {
    "duration": 8,
    "start_time": "2022-03-27T13:36:41.987Z"
   },
   {
    "duration": 6,
    "start_time": "2022-03-27T13:36:41.996Z"
   },
   {
    "duration": 71,
    "start_time": "2022-03-27T13:36:42.004Z"
   },
   {
    "duration": 28,
    "start_time": "2022-03-27T13:36:42.077Z"
   },
   {
    "duration": 2961,
    "start_time": "2022-03-27T13:36:42.106Z"
   },
   {
    "duration": 1552,
    "start_time": "2022-03-27T13:36:45.071Z"
   },
   {
    "duration": 25,
    "start_time": "2022-03-27T13:36:46.624Z"
   },
   {
    "duration": 1028,
    "start_time": "2022-03-27T13:36:46.663Z"
   },
   {
    "duration": 11,
    "start_time": "2022-03-27T13:36:47.694Z"
   },
   {
    "duration": 17,
    "start_time": "2022-03-27T13:36:47.708Z"
   },
   {
    "duration": 6,
    "start_time": "2022-03-27T13:36:47.727Z"
   },
   {
    "duration": 6,
    "start_time": "2022-03-27T13:36:47.735Z"
   },
   {
    "duration": 32,
    "start_time": "2022-03-27T13:36:47.743Z"
   },
   {
    "duration": 7,
    "start_time": "2022-03-27T13:36:47.778Z"
   },
   {
    "duration": 12,
    "start_time": "2022-03-27T13:36:47.787Z"
   },
   {
    "duration": 30937,
    "start_time": "2022-03-27T13:36:47.801Z"
   },
   {
    "duration": 14980,
    "start_time": "2022-03-27T13:37:18.740Z"
   },
   {
    "duration": 1742,
    "start_time": "2022-03-27T13:37:33.722Z"
   },
   {
    "duration": 2063,
    "start_time": "2022-03-27T13:37:35.466Z"
   },
   {
    "duration": 2001,
    "start_time": "2022-03-27T13:37:37.531Z"
   },
   {
    "duration": 113,
    "start_time": "2022-03-27T13:44:00.681Z"
   },
   {
    "duration": 9,
    "start_time": "2022-03-27T13:44:52.631Z"
   },
   {
    "duration": 14,
    "start_time": "2022-03-27T13:45:33.263Z"
   },
   {
    "duration": 12,
    "start_time": "2022-03-27T13:48:33.243Z"
   },
   {
    "duration": 18,
    "start_time": "2022-03-27T13:50:11.943Z"
   },
   {
    "duration": 17,
    "start_time": "2022-03-27T13:50:56.490Z"
   },
   {
    "duration": 24,
    "start_time": "2022-03-27T13:52:27.788Z"
   },
   {
    "duration": 500122,
    "start_time": "2022-03-27T13:53:04.146Z"
   },
   {
    "duration": 5,
    "start_time": "2022-03-27T14:04:48.040Z"
   },
   {
    "duration": 1748,
    "start_time": "2022-03-27T14:12:01.591Z"
   },
   {
    "duration": 739,
    "start_time": "2022-03-27T14:12:03.341Z"
   },
   {
    "duration": 22,
    "start_time": "2022-03-27T14:12:04.083Z"
   },
   {
    "duration": 37,
    "start_time": "2022-03-27T14:12:04.107Z"
   },
   {
    "duration": 28,
    "start_time": "2022-03-27T14:12:04.147Z"
   },
   {
    "duration": 23,
    "start_time": "2022-03-27T14:12:04.178Z"
   },
   {
    "duration": 38,
    "start_time": "2022-03-27T14:12:04.203Z"
   },
   {
    "duration": 27,
    "start_time": "2022-03-27T14:12:04.243Z"
   },
   {
    "duration": 10,
    "start_time": "2022-03-27T14:12:04.272Z"
   },
   {
    "duration": 11,
    "start_time": "2022-03-27T14:12:04.284Z"
   },
   {
    "duration": 63,
    "start_time": "2022-03-27T14:12:04.297Z"
   },
   {
    "duration": 23,
    "start_time": "2022-03-27T14:12:04.361Z"
   },
   {
    "duration": 1806,
    "start_time": "2022-03-27T14:12:04.385Z"
   },
   {
    "duration": 1034,
    "start_time": "2022-03-27T14:12:06.194Z"
   },
   {
    "duration": 39,
    "start_time": "2022-03-27T14:12:07.230Z"
   },
   {
    "duration": 1081,
    "start_time": "2022-03-27T14:12:07.272Z"
   },
   {
    "duration": 17,
    "start_time": "2022-03-27T14:12:08.355Z"
   },
   {
    "duration": 9,
    "start_time": "2022-03-27T14:12:08.374Z"
   },
   {
    "duration": 4,
    "start_time": "2022-03-27T14:12:08.385Z"
   },
   {
    "duration": 4,
    "start_time": "2022-03-27T14:12:08.391Z"
   },
   {
    "duration": 19,
    "start_time": "2022-03-27T14:12:08.397Z"
   },
   {
    "duration": 10,
    "start_time": "2022-03-27T14:12:08.418Z"
   },
   {
    "duration": 6,
    "start_time": "2022-03-27T14:12:08.430Z"
   },
   {
    "duration": 26672,
    "start_time": "2022-03-27T14:12:08.438Z"
   },
   {
    "duration": 14173,
    "start_time": "2022-03-27T14:12:35.112Z"
   },
   {
    "duration": 1884,
    "start_time": "2022-03-27T14:12:49.287Z"
   },
   {
    "duration": 2131,
    "start_time": "2022-03-27T14:12:51.173Z"
   },
   {
    "duration": 2143,
    "start_time": "2022-03-27T14:12:53.306Z"
   },
   {
    "duration": 479212,
    "start_time": "2022-03-27T14:12:55.451Z"
   },
   {
    "duration": 2452,
    "start_time": "2022-03-27T16:02:57.493Z"
   },
   {
    "duration": 663,
    "start_time": "2022-03-27T16:02:59.947Z"
   },
   {
    "duration": 32,
    "start_time": "2022-03-27T16:03:00.612Z"
   },
   {
    "duration": 16,
    "start_time": "2022-03-27T16:03:00.646Z"
   },
   {
    "duration": 19,
    "start_time": "2022-03-27T16:03:00.664Z"
   },
   {
    "duration": 23,
    "start_time": "2022-03-27T16:03:00.685Z"
   },
   {
    "duration": 22,
    "start_time": "2022-03-27T16:03:00.732Z"
   },
   {
    "duration": 18,
    "start_time": "2022-03-27T16:03:00.756Z"
   },
   {
    "duration": 8,
    "start_time": "2022-03-27T16:03:01.870Z"
   },
   {
    "duration": 8,
    "start_time": "2022-03-27T16:03:03.621Z"
   },
   {
    "duration": 36,
    "start_time": "2022-03-27T16:03:04.376Z"
   },
   {
    "duration": 23,
    "start_time": "2022-03-27T16:03:04.983Z"
   },
   {
    "duration": 1834,
    "start_time": "2022-03-27T16:03:05.972Z"
   },
   {
    "duration": 912,
    "start_time": "2022-03-27T16:03:07.808Z"
   },
   {
    "duration": 34,
    "start_time": "2022-03-27T16:03:08.722Z"
   },
   {
    "duration": 1127,
    "start_time": "2022-03-27T16:03:08.759Z"
   },
   {
    "duration": 12,
    "start_time": "2022-03-27T16:03:09.889Z"
   },
   {
    "duration": 9,
    "start_time": "2022-03-27T16:03:10.481Z"
   },
   {
    "duration": 4,
    "start_time": "2022-03-27T16:03:11.585Z"
   },
   {
    "duration": 5,
    "start_time": "2022-03-27T16:03:12.165Z"
   },
   {
    "duration": 12,
    "start_time": "2022-03-27T16:03:15.222Z"
   },
   {
    "duration": 4,
    "start_time": "2022-03-27T16:03:15.612Z"
   },
   {
    "duration": 3,
    "start_time": "2022-03-27T16:03:16.956Z"
   },
   {
    "duration": 5773,
    "start_time": "2022-03-27T16:03:19.870Z"
   },
   {
    "duration": 0,
    "start_time": "2022-03-27T16:03:25.646Z"
   },
   {
    "duration": 2554,
    "start_time": "2022-03-27T16:15:38.942Z"
   },
   {
    "duration": 721,
    "start_time": "2022-03-27T16:15:41.498Z"
   },
   {
    "duration": 25,
    "start_time": "2022-03-27T16:15:42.221Z"
   },
   {
    "duration": 16,
    "start_time": "2022-03-27T16:15:42.248Z"
   },
   {
    "duration": 19,
    "start_time": "2022-03-27T16:15:42.265Z"
   },
   {
    "duration": 15,
    "start_time": "2022-03-27T16:15:42.286Z"
   },
   {
    "duration": 40,
    "start_time": "2022-03-27T16:15:42.303Z"
   },
   {
    "duration": 18,
    "start_time": "2022-03-27T16:15:42.344Z"
   },
   {
    "duration": 9,
    "start_time": "2022-03-27T16:15:43.012Z"
   },
   {
    "duration": 6,
    "start_time": "2022-03-27T16:15:43.993Z"
   },
   {
    "duration": 39,
    "start_time": "2022-03-27T16:15:45.597Z"
   },
   {
    "duration": 23,
    "start_time": "2022-03-27T16:15:46.782Z"
   },
   {
    "duration": 2030,
    "start_time": "2022-03-27T16:15:48.460Z"
   },
   {
    "duration": 11,
    "start_time": "2022-03-27T16:15:59.425Z"
   },
   {
    "duration": 3,
    "start_time": "2022-03-27T16:16:13.048Z"
   },
   {
    "duration": 4,
    "start_time": "2022-03-27T16:16:15.658Z"
   },
   {
    "duration": 110,
    "start_time": "2022-03-27T16:16:17.891Z"
   },
   {
    "duration": 890,
    "start_time": "2022-03-27T16:19:20.194Z"
   },
   {
    "duration": 20,
    "start_time": "2022-03-27T16:19:21.086Z"
   },
   {
    "duration": 31,
    "start_time": "2022-03-27T16:19:21.107Z"
   },
   {
    "duration": 22,
    "start_time": "2022-03-27T16:19:21.140Z"
   },
   {
    "duration": 13,
    "start_time": "2022-03-27T16:19:21.163Z"
   },
   {
    "duration": 20,
    "start_time": "2022-03-27T16:19:21.428Z"
   },
   {
    "duration": 20,
    "start_time": "2022-03-27T16:19:21.561Z"
   },
   {
    "duration": 6,
    "start_time": "2022-03-27T16:19:22.383Z"
   },
   {
    "duration": 7,
    "start_time": "2022-03-27T16:19:23.225Z"
   },
   {
    "duration": 34,
    "start_time": "2022-03-27T16:19:24.273Z"
   },
   {
    "duration": 21,
    "start_time": "2022-03-27T16:19:24.897Z"
   },
   {
    "duration": 1951,
    "start_time": "2022-03-27T16:19:25.840Z"
   },
   {
    "duration": 861,
    "start_time": "2022-03-27T16:19:27.793Z"
   },
   {
    "duration": 27,
    "start_time": "2022-03-27T16:19:28.656Z"
   },
   {
    "duration": 1094,
    "start_time": "2022-03-27T16:19:28.685Z"
   },
   {
    "duration": 10,
    "start_time": "2022-03-27T16:19:29.781Z"
   },
   {
    "duration": 9,
    "start_time": "2022-03-27T16:19:29.793Z"
   },
   {
    "duration": 5,
    "start_time": "2022-03-27T16:19:30.183Z"
   },
   {
    "duration": 4,
    "start_time": "2022-03-27T16:19:30.428Z"
   },
   {
    "duration": 14,
    "start_time": "2022-03-27T16:19:31.456Z"
   },
   {
    "duration": 5,
    "start_time": "2022-03-27T16:19:31.642Z"
   },
   {
    "duration": 3,
    "start_time": "2022-03-27T16:19:32.791Z"
   },
   {
    "duration": 22162,
    "start_time": "2022-03-27T16:19:34.471Z"
   },
   {
    "duration": 0,
    "start_time": "2022-03-27T16:19:56.637Z"
   },
   {
    "duration": 0,
    "start_time": "2022-03-27T16:19:56.638Z"
   },
   {
    "duration": 0,
    "start_time": "2022-03-27T16:19:56.639Z"
   },
   {
    "duration": 0,
    "start_time": "2022-03-27T16:19:56.640Z"
   },
   {
    "duration": 11,
    "start_time": "2022-03-27T16:20:29.471Z"
   },
   {
    "duration": 4,
    "start_time": "2022-03-27T16:20:39.792Z"
   },
   {
    "duration": 3,
    "start_time": "2022-03-27T16:20:40.444Z"
   },
   {
    "duration": 214776,
    "start_time": "2022-03-27T16:20:41.234Z"
   },
   {
    "duration": 4,
    "start_time": "2022-03-27T16:24:22.898Z"
   },
   {
    "duration": 3,
    "start_time": "2022-03-27T16:24:23.518Z"
   },
   {
    "duration": 460717,
    "start_time": "2022-03-27T16:24:31.834Z"
   },
   {
    "duration": 29,
    "start_time": "2022-03-27T16:37:31.953Z"
   },
   {
    "duration": 4,
    "start_time": "2022-03-27T16:40:40.695Z"
   },
   {
    "duration": 4,
    "start_time": "2022-03-27T16:40:40.701Z"
   },
   {
    "duration": 233,
    "start_time": "2022-03-27T16:40:41.215Z"
   },
   {
    "duration": 4,
    "start_time": "2022-03-27T16:41:25.225Z"
   },
   {
    "duration": 285,
    "start_time": "2022-03-27T16:41:34.062Z"
   },
   {
    "duration": 4,
    "start_time": "2022-03-27T16:42:08.816Z"
   },
   {
    "duration": 3394,
    "start_time": "2022-03-27T16:42:30.209Z"
   },
   {
    "duration": 2613,
    "start_time": "2022-03-27T16:44:26.533Z"
   },
   {
    "duration": 1941,
    "start_time": "2022-03-27T18:31:26.106Z"
   },
   {
    "duration": 758,
    "start_time": "2022-03-27T18:31:28.050Z"
   },
   {
    "duration": 25,
    "start_time": "2022-03-27T18:31:28.810Z"
   },
   {
    "duration": 18,
    "start_time": "2022-03-27T18:31:28.836Z"
   },
   {
    "duration": 45,
    "start_time": "2022-03-27T18:31:28.856Z"
   },
   {
    "duration": 14,
    "start_time": "2022-03-27T18:31:28.903Z"
   },
   {
    "duration": 34,
    "start_time": "2022-03-27T18:31:28.919Z"
   },
   {
    "duration": 53,
    "start_time": "2022-03-27T18:31:28.955Z"
   },
   {
    "duration": 11,
    "start_time": "2022-03-27T18:31:29.010Z"
   },
   {
    "duration": 67,
    "start_time": "2022-03-27T18:31:29.023Z"
   },
   {
    "duration": 66,
    "start_time": "2022-03-27T18:31:29.093Z"
   },
   {
    "duration": 30,
    "start_time": "2022-03-27T18:31:29.161Z"
   },
   {
    "duration": 1849,
    "start_time": "2022-03-27T18:31:29.193Z"
   },
   {
    "duration": 997,
    "start_time": "2022-03-27T18:31:31.046Z"
   },
   {
    "duration": 33,
    "start_time": "2022-03-27T18:31:32.045Z"
   },
   {
    "duration": 1796,
    "start_time": "2022-03-27T18:31:32.081Z"
   },
   {
    "duration": 23,
    "start_time": "2022-03-27T18:31:33.879Z"
   },
   {
    "duration": 9,
    "start_time": "2022-03-27T18:31:33.904Z"
   },
   {
    "duration": 6,
    "start_time": "2022-03-27T18:31:33.916Z"
   },
   {
    "duration": 6,
    "start_time": "2022-03-27T18:31:33.924Z"
   },
   {
    "duration": 12,
    "start_time": "2022-03-27T18:31:33.933Z"
   },
   {
    "duration": 5,
    "start_time": "2022-03-27T18:31:33.947Z"
   },
   {
    "duration": 3,
    "start_time": "2022-03-27T18:31:33.955Z"
   },
   {
    "duration": 36891,
    "start_time": "2022-03-27T18:31:33.960Z"
   },
   {
    "duration": 19849,
    "start_time": "2022-03-27T18:32:10.853Z"
   },
   {
    "duration": 2110,
    "start_time": "2022-03-27T18:32:30.704Z"
   },
   {
    "duration": 85,
    "start_time": "2022-03-27T18:32:32.816Z"
   },
   {
    "duration": 2610,
    "start_time": "2022-03-27T18:32:32.904Z"
   },
   {
    "duration": 2113,
    "start_time": "2022-03-27T18:32:35.515Z"
   },
   {
    "duration": 4,
    "start_time": "2022-03-27T18:32:37.630Z"
   },
   {
    "duration": 6,
    "start_time": "2022-03-27T18:32:37.636Z"
   },
   {
    "duration": 495293,
    "start_time": "2022-03-27T18:32:37.643Z"
   }
  ],
  "kernelspec": {
   "display_name": "Python 3 (ipykernel)",
   "language": "python",
   "name": "python3"
  },
  "language_info": {
   "codemirror_mode": {
    "name": "ipython",
    "version": 3
   },
   "file_extension": ".py",
   "mimetype": "text/x-python",
   "name": "python",
   "nbconvert_exporter": "python",
   "pygments_lexer": "ipython3",
   "version": "3.9.7"
  },
  "toc": {
   "base_numbering": 1,
   "nav_menu": {},
   "number_sections": true,
   "sideBar": true,
   "skip_h1_title": true,
   "title_cell": "Содержание",
   "title_sidebar": "Contents",
   "toc_cell": true,
   "toc_position": {
    "height": "calc(100% - 180px)",
    "left": "10px",
    "top": "150px",
    "width": "318.379px"
   },
   "toc_section_display": true,
   "toc_window_display": true
  }
 },
 "nbformat": 4,
 "nbformat_minor": 2
}
