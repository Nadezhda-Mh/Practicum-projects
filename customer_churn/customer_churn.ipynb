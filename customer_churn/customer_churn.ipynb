{
 "cells": [
  {
   "cell_type": "markdown",
   "metadata": {},
   "source": [
    "# Отток клиентов"
   ]
  },
  {
   "cell_type": "markdown",
   "metadata": {},
   "source": [
    "## Подготовка данных"
   ]
  },
  {
   "cell_type": "code",
   "execution_count": 1,
   "metadata": {},
   "outputs": [],
   "source": [
    "# импорт библиотек\n",
    "import pandas as pd\n",
    "from sklearn.model_selection import train_test_split\n",
    "from sklearn.preprocessing import StandardScaler\n",
    "from sklearn.tree import DecisionTreeClassifier\n",
    "from sklearn.ensemble import RandomForestClassifier\n",
    "from sklearn.linear_model import LogisticRegression\n",
    "from sklearn.metrics import accuracy_score\n",
    "from sklearn.metrics import confusion_matrix\n",
    "from sklearn.metrics import recall_score\n",
    "from sklearn.metrics import precision_score\n",
    "from sklearn.metrics import f1_score\n",
    "from sklearn.metrics import roc_curve\n",
    "from sklearn.metrics import roc_auc_score\n",
    "import matplotlib.pyplot as plt\n",
    "from sklearn.utils import shuffle"
   ]
  },
  {
   "cell_type": "code",
   "execution_count": 2,
   "metadata": {},
   "outputs": [],
   "source": [
    "# чтение файла с данными и сохранение в df с использованием конструкции try-except\n",
    "try:\n",
    "    df = pd.read_csv('C:/Users/datasets/Churn.csv')  # локальный путь\n",
    "except:\n",
    "    df = pd.read_csv('/datasets/Churn.csv')  # серверный путь"
   ]
  },
  {
   "cell_type": "code",
   "execution_count": 3,
   "metadata": {},
   "outputs": [
    {
     "data": {
      "text/html": [
       "<div>\n",
       "<style scoped>\n",
       "    .dataframe tbody tr th:only-of-type {\n",
       "        vertical-align: middle;\n",
       "    }\n",
       "\n",
       "    .dataframe tbody tr th {\n",
       "        vertical-align: top;\n",
       "    }\n",
       "\n",
       "    .dataframe thead th {\n",
       "        text-align: right;\n",
       "    }\n",
       "</style>\n",
       "<table border=\"1\" class=\"dataframe\">\n",
       "  <thead>\n",
       "    <tr style=\"text-align: right;\">\n",
       "      <th></th>\n",
       "      <th>RowNumber</th>\n",
       "      <th>CustomerId</th>\n",
       "      <th>Surname</th>\n",
       "      <th>CreditScore</th>\n",
       "      <th>Geography</th>\n",
       "      <th>Gender</th>\n",
       "      <th>Age</th>\n",
       "      <th>Tenure</th>\n",
       "      <th>Balance</th>\n",
       "      <th>NumOfProducts</th>\n",
       "      <th>HasCrCard</th>\n",
       "      <th>IsActiveMember</th>\n",
       "      <th>EstimatedSalary</th>\n",
       "      <th>Exited</th>\n",
       "    </tr>\n",
       "  </thead>\n",
       "  <tbody>\n",
       "    <tr>\n",
       "      <td>0</td>\n",
       "      <td>1</td>\n",
       "      <td>15634602</td>\n",
       "      <td>Hargrave</td>\n",
       "      <td>619</td>\n",
       "      <td>France</td>\n",
       "      <td>Female</td>\n",
       "      <td>42</td>\n",
       "      <td>2.0</td>\n",
       "      <td>0.00</td>\n",
       "      <td>1</td>\n",
       "      <td>1</td>\n",
       "      <td>1</td>\n",
       "      <td>101348.88</td>\n",
       "      <td>1</td>\n",
       "    </tr>\n",
       "    <tr>\n",
       "      <td>1</td>\n",
       "      <td>2</td>\n",
       "      <td>15647311</td>\n",
       "      <td>Hill</td>\n",
       "      <td>608</td>\n",
       "      <td>Spain</td>\n",
       "      <td>Female</td>\n",
       "      <td>41</td>\n",
       "      <td>1.0</td>\n",
       "      <td>83807.86</td>\n",
       "      <td>1</td>\n",
       "      <td>0</td>\n",
       "      <td>1</td>\n",
       "      <td>112542.58</td>\n",
       "      <td>0</td>\n",
       "    </tr>\n",
       "    <tr>\n",
       "      <td>2</td>\n",
       "      <td>3</td>\n",
       "      <td>15619304</td>\n",
       "      <td>Onio</td>\n",
       "      <td>502</td>\n",
       "      <td>France</td>\n",
       "      <td>Female</td>\n",
       "      <td>42</td>\n",
       "      <td>8.0</td>\n",
       "      <td>159660.80</td>\n",
       "      <td>3</td>\n",
       "      <td>1</td>\n",
       "      <td>0</td>\n",
       "      <td>113931.57</td>\n",
       "      <td>1</td>\n",
       "    </tr>\n",
       "    <tr>\n",
       "      <td>3</td>\n",
       "      <td>4</td>\n",
       "      <td>15701354</td>\n",
       "      <td>Boni</td>\n",
       "      <td>699</td>\n",
       "      <td>France</td>\n",
       "      <td>Female</td>\n",
       "      <td>39</td>\n",
       "      <td>1.0</td>\n",
       "      <td>0.00</td>\n",
       "      <td>2</td>\n",
       "      <td>0</td>\n",
       "      <td>0</td>\n",
       "      <td>93826.63</td>\n",
       "      <td>0</td>\n",
       "    </tr>\n",
       "    <tr>\n",
       "      <td>4</td>\n",
       "      <td>5</td>\n",
       "      <td>15737888</td>\n",
       "      <td>Mitchell</td>\n",
       "      <td>850</td>\n",
       "      <td>Spain</td>\n",
       "      <td>Female</td>\n",
       "      <td>43</td>\n",
       "      <td>2.0</td>\n",
       "      <td>125510.82</td>\n",
       "      <td>1</td>\n",
       "      <td>1</td>\n",
       "      <td>1</td>\n",
       "      <td>79084.10</td>\n",
       "      <td>0</td>\n",
       "    </tr>\n",
       "  </tbody>\n",
       "</table>\n",
       "</div>"
      ],
      "text/plain": [
       "   RowNumber  CustomerId   Surname  CreditScore Geography  Gender  Age  \\\n",
       "0          1    15634602  Hargrave          619    France  Female   42   \n",
       "1          2    15647311      Hill          608     Spain  Female   41   \n",
       "2          3    15619304      Onio          502    France  Female   42   \n",
       "3          4    15701354      Boni          699    France  Female   39   \n",
       "4          5    15737888  Mitchell          850     Spain  Female   43   \n",
       "\n",
       "   Tenure    Balance  NumOfProducts  HasCrCard  IsActiveMember  \\\n",
       "0     2.0       0.00              1          1               1   \n",
       "1     1.0   83807.86              1          0               1   \n",
       "2     8.0  159660.80              3          1               0   \n",
       "3     1.0       0.00              2          0               0   \n",
       "4     2.0  125510.82              1          1               1   \n",
       "\n",
       "   EstimatedSalary  Exited  \n",
       "0        101348.88       1  \n",
       "1        112542.58       0  \n",
       "2        113931.57       1  \n",
       "3         93826.63       0  \n",
       "4         79084.10       0  "
      ]
     },
     "execution_count": 3,
     "metadata": {},
     "output_type": "execute_result"
    }
   ],
   "source": [
    "# просмотр первых 5 строк таблицы df\n",
    "df.head()"
   ]
  },
  {
   "cell_type": "code",
   "execution_count": 4,
   "metadata": {
    "scrolled": true
   },
   "outputs": [
    {
     "name": "stdout",
     "output_type": "stream",
     "text": [
      "<class 'pandas.core.frame.DataFrame'>\n",
      "RangeIndex: 10000 entries, 0 to 9999\n",
      "Data columns (total 14 columns):\n",
      "RowNumber          10000 non-null int64\n",
      "CustomerId         10000 non-null int64\n",
      "Surname            10000 non-null object\n",
      "CreditScore        10000 non-null int64\n",
      "Geography          10000 non-null object\n",
      "Gender             10000 non-null object\n",
      "Age                10000 non-null int64\n",
      "Tenure             9091 non-null float64\n",
      "Balance            10000 non-null float64\n",
      "NumOfProducts      10000 non-null int64\n",
      "HasCrCard          10000 non-null int64\n",
      "IsActiveMember     10000 non-null int64\n",
      "EstimatedSalary    10000 non-null float64\n",
      "Exited             10000 non-null int64\n",
      "dtypes: float64(3), int64(8), object(3)\n",
      "memory usage: 1.1+ MB\n"
     ]
    }
   ],
   "source": [
    "# получение общей информации о данных в таблице df\n",
    "df.info()"
   ]
  },
  {
   "cell_type": "markdown",
   "metadata": {},
   "source": [
    "Таблица содержить 14 колонок и 10000 строк. В каждой строке содержиться информация о поведении клиентов и расторжении договоров с банком. В столбце `Tenure ` имеются пропуски. Заполним их."
   ]
  },
  {
   "cell_type": "code",
   "execution_count": 5,
   "metadata": {},
   "outputs": [
    {
     "data": {
      "text/plain": [
       "array([ 2.,  1.,  8.,  7.,  4.,  6.,  3., 10.,  5.,  9.,  0., nan])"
      ]
     },
     "execution_count": 5,
     "metadata": {},
     "output_type": "execute_result"
    }
   ],
   "source": [
    "# просмотр уникальных значений столбца Tenure\n",
    "df['Tenure'].unique()"
   ]
  },
  {
   "cell_type": "code",
   "execution_count": 6,
   "metadata": {
    "scrolled": true
   },
   "outputs": [
    {
     "data": {
      "text/html": [
       "<div>\n",
       "<style scoped>\n",
       "    .dataframe tbody tr th:only-of-type {\n",
       "        vertical-align: middle;\n",
       "    }\n",
       "\n",
       "    .dataframe tbody tr th {\n",
       "        vertical-align: top;\n",
       "    }\n",
       "\n",
       "    .dataframe thead th {\n",
       "        text-align: right;\n",
       "    }\n",
       "</style>\n",
       "<table border=\"1\" class=\"dataframe\">\n",
       "  <thead>\n",
       "    <tr style=\"text-align: right;\">\n",
       "      <th></th>\n",
       "      <th>RowNumber</th>\n",
       "      <th>CustomerId</th>\n",
       "      <th>Surname</th>\n",
       "      <th>CreditScore</th>\n",
       "      <th>Geography</th>\n",
       "      <th>Gender</th>\n",
       "      <th>Age</th>\n",
       "      <th>Tenure</th>\n",
       "      <th>Balance</th>\n",
       "      <th>NumOfProducts</th>\n",
       "      <th>HasCrCard</th>\n",
       "      <th>IsActiveMember</th>\n",
       "      <th>EstimatedSalary</th>\n",
       "      <th>Exited</th>\n",
       "    </tr>\n",
       "  </thead>\n",
       "  <tbody>\n",
       "    <tr>\n",
       "      <td>30</td>\n",
       "      <td>31</td>\n",
       "      <td>15589475</td>\n",
       "      <td>Azikiwe</td>\n",
       "      <td>591</td>\n",
       "      <td>Spain</td>\n",
       "      <td>Female</td>\n",
       "      <td>39</td>\n",
       "      <td>NaN</td>\n",
       "      <td>0.00</td>\n",
       "      <td>3</td>\n",
       "      <td>1</td>\n",
       "      <td>0</td>\n",
       "      <td>140469.38</td>\n",
       "      <td>1</td>\n",
       "    </tr>\n",
       "    <tr>\n",
       "      <td>48</td>\n",
       "      <td>49</td>\n",
       "      <td>15766205</td>\n",
       "      <td>Yin</td>\n",
       "      <td>550</td>\n",
       "      <td>Germany</td>\n",
       "      <td>Male</td>\n",
       "      <td>38</td>\n",
       "      <td>NaN</td>\n",
       "      <td>103391.38</td>\n",
       "      <td>1</td>\n",
       "      <td>0</td>\n",
       "      <td>1</td>\n",
       "      <td>90878.13</td>\n",
       "      <td>0</td>\n",
       "    </tr>\n",
       "    <tr>\n",
       "      <td>51</td>\n",
       "      <td>52</td>\n",
       "      <td>15768193</td>\n",
       "      <td>Trevisani</td>\n",
       "      <td>585</td>\n",
       "      <td>Germany</td>\n",
       "      <td>Male</td>\n",
       "      <td>36</td>\n",
       "      <td>NaN</td>\n",
       "      <td>146050.97</td>\n",
       "      <td>2</td>\n",
       "      <td>0</td>\n",
       "      <td>0</td>\n",
       "      <td>86424.57</td>\n",
       "      <td>0</td>\n",
       "    </tr>\n",
       "    <tr>\n",
       "      <td>53</td>\n",
       "      <td>54</td>\n",
       "      <td>15702298</td>\n",
       "      <td>Parkhill</td>\n",
       "      <td>655</td>\n",
       "      <td>Germany</td>\n",
       "      <td>Male</td>\n",
       "      <td>41</td>\n",
       "      <td>NaN</td>\n",
       "      <td>125561.97</td>\n",
       "      <td>1</td>\n",
       "      <td>0</td>\n",
       "      <td>0</td>\n",
       "      <td>164040.94</td>\n",
       "      <td>1</td>\n",
       "    </tr>\n",
       "    <tr>\n",
       "      <td>60</td>\n",
       "      <td>61</td>\n",
       "      <td>15651280</td>\n",
       "      <td>Hunter</td>\n",
       "      <td>742</td>\n",
       "      <td>Germany</td>\n",
       "      <td>Male</td>\n",
       "      <td>35</td>\n",
       "      <td>NaN</td>\n",
       "      <td>136857.00</td>\n",
       "      <td>1</td>\n",
       "      <td>0</td>\n",
       "      <td>0</td>\n",
       "      <td>84509.57</td>\n",
       "      <td>0</td>\n",
       "    </tr>\n",
       "    <tr>\n",
       "      <td>...</td>\n",
       "      <td>...</td>\n",
       "      <td>...</td>\n",
       "      <td>...</td>\n",
       "      <td>...</td>\n",
       "      <td>...</td>\n",
       "      <td>...</td>\n",
       "      <td>...</td>\n",
       "      <td>...</td>\n",
       "      <td>...</td>\n",
       "      <td>...</td>\n",
       "      <td>...</td>\n",
       "      <td>...</td>\n",
       "      <td>...</td>\n",
       "      <td>...</td>\n",
       "    </tr>\n",
       "    <tr>\n",
       "      <td>9944</td>\n",
       "      <td>9945</td>\n",
       "      <td>15703923</td>\n",
       "      <td>Cameron</td>\n",
       "      <td>744</td>\n",
       "      <td>Germany</td>\n",
       "      <td>Male</td>\n",
       "      <td>41</td>\n",
       "      <td>NaN</td>\n",
       "      <td>190409.34</td>\n",
       "      <td>2</td>\n",
       "      <td>1</td>\n",
       "      <td>1</td>\n",
       "      <td>138361.48</td>\n",
       "      <td>0</td>\n",
       "    </tr>\n",
       "    <tr>\n",
       "      <td>9956</td>\n",
       "      <td>9957</td>\n",
       "      <td>15707861</td>\n",
       "      <td>Nucci</td>\n",
       "      <td>520</td>\n",
       "      <td>France</td>\n",
       "      <td>Female</td>\n",
       "      <td>46</td>\n",
       "      <td>NaN</td>\n",
       "      <td>85216.61</td>\n",
       "      <td>1</td>\n",
       "      <td>1</td>\n",
       "      <td>0</td>\n",
       "      <td>117369.52</td>\n",
       "      <td>1</td>\n",
       "    </tr>\n",
       "    <tr>\n",
       "      <td>9964</td>\n",
       "      <td>9965</td>\n",
       "      <td>15642785</td>\n",
       "      <td>Douglas</td>\n",
       "      <td>479</td>\n",
       "      <td>France</td>\n",
       "      <td>Male</td>\n",
       "      <td>34</td>\n",
       "      <td>NaN</td>\n",
       "      <td>117593.48</td>\n",
       "      <td>2</td>\n",
       "      <td>0</td>\n",
       "      <td>0</td>\n",
       "      <td>113308.29</td>\n",
       "      <td>0</td>\n",
       "    </tr>\n",
       "    <tr>\n",
       "      <td>9985</td>\n",
       "      <td>9986</td>\n",
       "      <td>15586914</td>\n",
       "      <td>Nepean</td>\n",
       "      <td>659</td>\n",
       "      <td>France</td>\n",
       "      <td>Male</td>\n",
       "      <td>36</td>\n",
       "      <td>NaN</td>\n",
       "      <td>123841.49</td>\n",
       "      <td>2</td>\n",
       "      <td>1</td>\n",
       "      <td>0</td>\n",
       "      <td>96833.00</td>\n",
       "      <td>0</td>\n",
       "    </tr>\n",
       "    <tr>\n",
       "      <td>9999</td>\n",
       "      <td>10000</td>\n",
       "      <td>15628319</td>\n",
       "      <td>Walker</td>\n",
       "      <td>792</td>\n",
       "      <td>France</td>\n",
       "      <td>Female</td>\n",
       "      <td>28</td>\n",
       "      <td>NaN</td>\n",
       "      <td>130142.79</td>\n",
       "      <td>1</td>\n",
       "      <td>1</td>\n",
       "      <td>0</td>\n",
       "      <td>38190.78</td>\n",
       "      <td>0</td>\n",
       "    </tr>\n",
       "  </tbody>\n",
       "</table>\n",
       "<p>909 rows × 14 columns</p>\n",
       "</div>"
      ],
      "text/plain": [
       "      RowNumber  CustomerId    Surname  CreditScore Geography  Gender  Age  \\\n",
       "30           31    15589475    Azikiwe          591     Spain  Female   39   \n",
       "48           49    15766205        Yin          550   Germany    Male   38   \n",
       "51           52    15768193  Trevisani          585   Germany    Male   36   \n",
       "53           54    15702298   Parkhill          655   Germany    Male   41   \n",
       "60           61    15651280     Hunter          742   Germany    Male   35   \n",
       "...         ...         ...        ...          ...       ...     ...  ...   \n",
       "9944       9945    15703923    Cameron          744   Germany    Male   41   \n",
       "9956       9957    15707861      Nucci          520    France  Female   46   \n",
       "9964       9965    15642785    Douglas          479    France    Male   34   \n",
       "9985       9986    15586914     Nepean          659    France    Male   36   \n",
       "9999      10000    15628319     Walker          792    France  Female   28   \n",
       "\n",
       "      Tenure    Balance  NumOfProducts  HasCrCard  IsActiveMember  \\\n",
       "30       NaN       0.00              3          1               0   \n",
       "48       NaN  103391.38              1          0               1   \n",
       "51       NaN  146050.97              2          0               0   \n",
       "53       NaN  125561.97              1          0               0   \n",
       "60       NaN  136857.00              1          0               0   \n",
       "...      ...        ...            ...        ...             ...   \n",
       "9944     NaN  190409.34              2          1               1   \n",
       "9956     NaN   85216.61              1          1               0   \n",
       "9964     NaN  117593.48              2          0               0   \n",
       "9985     NaN  123841.49              2          1               0   \n",
       "9999     NaN  130142.79              1          1               0   \n",
       "\n",
       "      EstimatedSalary  Exited  \n",
       "30          140469.38       1  \n",
       "48           90878.13       0  \n",
       "51           86424.57       0  \n",
       "53          164040.94       1  \n",
       "60           84509.57       0  \n",
       "...               ...     ...  \n",
       "9944        138361.48       0  \n",
       "9956        117369.52       1  \n",
       "9964        113308.29       0  \n",
       "9985         96833.00       0  \n",
       "9999         38190.78       0  \n",
       "\n",
       "[909 rows x 14 columns]"
      ]
     },
     "execution_count": 6,
     "metadata": {},
     "output_type": "execute_result"
    }
   ],
   "source": [
    "# просмотр строк с пропусками в столбце Tenure\n",
    "df.query('Tenure==\"nan\"')"
   ]
  },
  {
   "cell_type": "markdown",
   "metadata": {},
   "source": [
    "Угадать, сколько лет человек является клиентом банка, мы не можем, кроме того значение 0 имеется среди уникальных значений столбца `Tenure`. Заполним пропуски, например, значением -1."
   ]
  },
  {
   "cell_type": "code",
   "execution_count": 7,
   "metadata": {},
   "outputs": [
    {
     "data": {
      "text/plain": [
       "RowNumber          0\n",
       "CustomerId         0\n",
       "Surname            0\n",
       "CreditScore        0\n",
       "Geography          0\n",
       "Gender             0\n",
       "Age                0\n",
       "Tenure             0\n",
       "Balance            0\n",
       "NumOfProducts      0\n",
       "HasCrCard          0\n",
       "IsActiveMember     0\n",
       "EstimatedSalary    0\n",
       "Exited             0\n",
       "dtype: int64"
      ]
     },
     "execution_count": 7,
     "metadata": {},
     "output_type": "execute_result"
    }
   ],
   "source": [
    "# заполнение пропусков\n",
    "df['Tenure'] = df['Tenure'].fillna(-1)\n",
    "df.isna().sum() # проверка"
   ]
  },
  {
   "cell_type": "markdown",
   "metadata": {},
   "source": [
    "Столбцы `RowNumber`, `CustomerId`, `Surname` по сути дублируют одну и ту же информацию, плюс информация, содержащаяся в них, не несет пользы для обучения модели. Поэтому данные столбцы можно спокойно удалить."
   ]
  },
  {
   "cell_type": "code",
   "execution_count": 8,
   "metadata": {},
   "outputs": [
    {
     "data": {
      "text/plain": [
       "Index(['CreditScore', 'Geography', 'Gender', 'Age', 'Tenure', 'Balance',\n",
       "       'NumOfProducts', 'HasCrCard', 'IsActiveMember', 'EstimatedSalary',\n",
       "       'Exited'],\n",
       "      dtype='object')"
      ]
     },
     "execution_count": 8,
     "metadata": {},
     "output_type": "execute_result"
    }
   ],
   "source": [
    "# удаление столбцов\n",
    "list_drop = ['RowNumber', 'CustomerId', 'Surname']\n",
    "data = df.drop(list_drop, axis=1)\n",
    "data.columns # проверка"
   ]
  },
  {
   "cell_type": "markdown",
   "metadata": {},
   "source": [
    "В дата сете есть категориальные признаки, чтобы перевести их в численные, воспользуемся методом One Hot Encoding."
   ]
  },
  {
   "cell_type": "code",
   "execution_count": 9,
   "metadata": {
    "scrolled": true
   },
   "outputs": [
    {
     "data": {
      "text/html": [
       "<div>\n",
       "<style scoped>\n",
       "    .dataframe tbody tr th:only-of-type {\n",
       "        vertical-align: middle;\n",
       "    }\n",
       "\n",
       "    .dataframe tbody tr th {\n",
       "        vertical-align: top;\n",
       "    }\n",
       "\n",
       "    .dataframe thead th {\n",
       "        text-align: right;\n",
       "    }\n",
       "</style>\n",
       "<table border=\"1\" class=\"dataframe\">\n",
       "  <thead>\n",
       "    <tr style=\"text-align: right;\">\n",
       "      <th></th>\n",
       "      <th>CreditScore</th>\n",
       "      <th>Age</th>\n",
       "      <th>Tenure</th>\n",
       "      <th>Balance</th>\n",
       "      <th>NumOfProducts</th>\n",
       "      <th>HasCrCard</th>\n",
       "      <th>IsActiveMember</th>\n",
       "      <th>EstimatedSalary</th>\n",
       "      <th>Exited</th>\n",
       "      <th>Geography_Germany</th>\n",
       "      <th>Geography_Spain</th>\n",
       "      <th>Gender_Male</th>\n",
       "    </tr>\n",
       "  </thead>\n",
       "  <tbody>\n",
       "    <tr>\n",
       "      <td>0</td>\n",
       "      <td>619</td>\n",
       "      <td>42</td>\n",
       "      <td>2.0</td>\n",
       "      <td>0.00</td>\n",
       "      <td>1</td>\n",
       "      <td>1</td>\n",
       "      <td>1</td>\n",
       "      <td>101348.88</td>\n",
       "      <td>1</td>\n",
       "      <td>0</td>\n",
       "      <td>0</td>\n",
       "      <td>0</td>\n",
       "    </tr>\n",
       "    <tr>\n",
       "      <td>1</td>\n",
       "      <td>608</td>\n",
       "      <td>41</td>\n",
       "      <td>1.0</td>\n",
       "      <td>83807.86</td>\n",
       "      <td>1</td>\n",
       "      <td>0</td>\n",
       "      <td>1</td>\n",
       "      <td>112542.58</td>\n",
       "      <td>0</td>\n",
       "      <td>0</td>\n",
       "      <td>1</td>\n",
       "      <td>0</td>\n",
       "    </tr>\n",
       "    <tr>\n",
       "      <td>2</td>\n",
       "      <td>502</td>\n",
       "      <td>42</td>\n",
       "      <td>8.0</td>\n",
       "      <td>159660.80</td>\n",
       "      <td>3</td>\n",
       "      <td>1</td>\n",
       "      <td>0</td>\n",
       "      <td>113931.57</td>\n",
       "      <td>1</td>\n",
       "      <td>0</td>\n",
       "      <td>0</td>\n",
       "      <td>0</td>\n",
       "    </tr>\n",
       "    <tr>\n",
       "      <td>3</td>\n",
       "      <td>699</td>\n",
       "      <td>39</td>\n",
       "      <td>1.0</td>\n",
       "      <td>0.00</td>\n",
       "      <td>2</td>\n",
       "      <td>0</td>\n",
       "      <td>0</td>\n",
       "      <td>93826.63</td>\n",
       "      <td>0</td>\n",
       "      <td>0</td>\n",
       "      <td>0</td>\n",
       "      <td>0</td>\n",
       "    </tr>\n",
       "    <tr>\n",
       "      <td>4</td>\n",
       "      <td>850</td>\n",
       "      <td>43</td>\n",
       "      <td>2.0</td>\n",
       "      <td>125510.82</td>\n",
       "      <td>1</td>\n",
       "      <td>1</td>\n",
       "      <td>1</td>\n",
       "      <td>79084.10</td>\n",
       "      <td>0</td>\n",
       "      <td>0</td>\n",
       "      <td>1</td>\n",
       "      <td>0</td>\n",
       "    </tr>\n",
       "  </tbody>\n",
       "</table>\n",
       "</div>"
      ],
      "text/plain": [
       "   CreditScore  Age  Tenure    Balance  NumOfProducts  HasCrCard  \\\n",
       "0          619   42     2.0       0.00              1          1   \n",
       "1          608   41     1.0   83807.86              1          0   \n",
       "2          502   42     8.0  159660.80              3          1   \n",
       "3          699   39     1.0       0.00              2          0   \n",
       "4          850   43     2.0  125510.82              1          1   \n",
       "\n",
       "   IsActiveMember  EstimatedSalary  Exited  Geography_Germany  \\\n",
       "0               1        101348.88       1                  0   \n",
       "1               1        112542.58       0                  0   \n",
       "2               0        113931.57       1                  0   \n",
       "3               0         93826.63       0                  0   \n",
       "4               1         79084.10       0                  0   \n",
       "\n",
       "   Geography_Spain  Gender_Male  \n",
       "0                0            0  \n",
       "1                1            0  \n",
       "2                0            0  \n",
       "3                0            0  \n",
       "4                1            0  "
      ]
     },
     "execution_count": 9,
     "metadata": {},
     "output_type": "execute_result"
    }
   ],
   "source": [
    "# применение One Hot Encoding\n",
    "data = pd.get_dummies(data, drop_first=True)\n",
    "data.head()"
   ]
  },
  {
   "cell_type": "markdown",
   "metadata": {},
   "source": [
    "Так как значения и их разброс в столбцах датасета совершенно разные, а признаки имеют одинаковую значимость, приведем их к одному масштабу. Для стандартизации данных будем использовать `StandardScaler`, но перед этим разделим наши данные на обучающую, валидационную и тестовую выборки."
   ]
  },
  {
   "cell_type": "code",
   "execution_count": 10,
   "metadata": {},
   "outputs": [],
   "source": [
    "# создание переменных с признакими и целевым признаком\n",
    "features = data.drop('Exited', axis=1)\n",
    "target = data['Exited']"
   ]
  },
  {
   "cell_type": "code",
   "execution_count": 11,
   "metadata": {},
   "outputs": [],
   "source": [
    "# разделение данных на обучающую, валидационную и тестовую выборки\n",
    "features_train, features_test_val, target_train, target_test_val = (\n",
    "    train_test_split(features, target, test_size=0.4, random_state=12345)) # разделям на обучающую и на проверочную выборки\n",
    "features_valid, features_test, target_valid, target_test = (\n",
    "    train_test_split(features_test_val, target_test_val, test_size=0.5, random_state=12345)) # проверочную делим на валидационную и тестовую"
   ]
  },
  {
   "cell_type": "code",
   "execution_count": 12,
   "metadata": {},
   "outputs": [
    {
     "name": "stdout",
     "output_type": "stream",
     "text": [
      "(6000, 11)\n",
      "(6000,)\n",
      "(2000, 11)\n",
      "(2000,)\n",
      "(2000, 11)\n",
      "(2000,)\n"
     ]
    }
   ],
   "source": [
    "# проверка размеров полученных наборов\n",
    "sets = [features_train, target_train, features_valid, target_valid, features_test, target_test]\n",
    "for elem in sets:\n",
    "    print(elem.shape)"
   ]
  },
  {
   "cell_type": "code",
   "execution_count": 13,
   "metadata": {},
   "outputs": [],
   "source": [
    "# создание списка с численными переменными\n",
    "numeric = ['CreditScore', 'Age', 'Tenure', 'Balance', 'NumOfProducts', 'EstimatedSalary']"
   ]
  },
  {
   "cell_type": "code",
   "execution_count": 14,
   "metadata": {},
   "outputs": [
    {
     "data": {
      "text/html": [
       "<div>\n",
       "<style scoped>\n",
       "    .dataframe tbody tr th:only-of-type {\n",
       "        vertical-align: middle;\n",
       "    }\n",
       "\n",
       "    .dataframe tbody tr th {\n",
       "        vertical-align: top;\n",
       "    }\n",
       "\n",
       "    .dataframe thead th {\n",
       "        text-align: right;\n",
       "    }\n",
       "</style>\n",
       "<table border=\"1\" class=\"dataframe\">\n",
       "  <thead>\n",
       "    <tr style=\"text-align: right;\">\n",
       "      <th></th>\n",
       "      <th>CreditScore</th>\n",
       "      <th>Age</th>\n",
       "      <th>Tenure</th>\n",
       "      <th>Balance</th>\n",
       "      <th>NumOfProducts</th>\n",
       "      <th>HasCrCard</th>\n",
       "      <th>IsActiveMember</th>\n",
       "      <th>EstimatedSalary</th>\n",
       "      <th>Geography_Germany</th>\n",
       "      <th>Geography_Spain</th>\n",
       "      <th>Gender_Male</th>\n",
       "    </tr>\n",
       "  </thead>\n",
       "  <tbody>\n",
       "    <tr>\n",
       "      <td>7479</td>\n",
       "      <td>-0.886751</td>\n",
       "      <td>-0.373192</td>\n",
       "      <td>1.083651</td>\n",
       "      <td>1.232271</td>\n",
       "      <td>-0.891560</td>\n",
       "      <td>1</td>\n",
       "      <td>0</td>\n",
       "      <td>-0.187705</td>\n",
       "      <td>0</td>\n",
       "      <td>1</td>\n",
       "      <td>1</td>\n",
       "    </tr>\n",
       "    <tr>\n",
       "      <td>3411</td>\n",
       "      <td>0.608663</td>\n",
       "      <td>-0.183385</td>\n",
       "      <td>1.083651</td>\n",
       "      <td>0.600563</td>\n",
       "      <td>-0.891560</td>\n",
       "      <td>0</td>\n",
       "      <td>0</td>\n",
       "      <td>-0.333945</td>\n",
       "      <td>0</td>\n",
       "      <td>0</td>\n",
       "      <td>0</td>\n",
       "    </tr>\n",
       "    <tr>\n",
       "      <td>6027</td>\n",
       "      <td>2.052152</td>\n",
       "      <td>0.480939</td>\n",
       "      <td>-0.452862</td>\n",
       "      <td>1.027098</td>\n",
       "      <td>0.830152</td>\n",
       "      <td>0</td>\n",
       "      <td>1</td>\n",
       "      <td>1.503095</td>\n",
       "      <td>1</td>\n",
       "      <td>0</td>\n",
       "      <td>1</td>\n",
       "    </tr>\n",
       "    <tr>\n",
       "      <td>1247</td>\n",
       "      <td>-1.457915</td>\n",
       "      <td>-1.417129</td>\n",
       "      <td>0.469046</td>\n",
       "      <td>-1.233163</td>\n",
       "      <td>0.830152</td>\n",
       "      <td>1</td>\n",
       "      <td>0</td>\n",
       "      <td>-1.071061</td>\n",
       "      <td>0</td>\n",
       "      <td>0</td>\n",
       "      <td>1</td>\n",
       "    </tr>\n",
       "    <tr>\n",
       "      <td>3716</td>\n",
       "      <td>0.130961</td>\n",
       "      <td>-1.132419</td>\n",
       "      <td>-0.760164</td>\n",
       "      <td>1.140475</td>\n",
       "      <td>-0.891560</td>\n",
       "      <td>0</td>\n",
       "      <td>0</td>\n",
       "      <td>1.524268</td>\n",
       "      <td>1</td>\n",
       "      <td>0</td>\n",
       "      <td>0</td>\n",
       "    </tr>\n",
       "  </tbody>\n",
       "</table>\n",
       "</div>"
      ],
      "text/plain": [
       "      CreditScore       Age    Tenure   Balance  NumOfProducts  HasCrCard  \\\n",
       "7479    -0.886751 -0.373192  1.083651  1.232271      -0.891560          1   \n",
       "3411     0.608663 -0.183385  1.083651  0.600563      -0.891560          0   \n",
       "6027     2.052152  0.480939 -0.452862  1.027098       0.830152          0   \n",
       "1247    -1.457915 -1.417129  0.469046 -1.233163       0.830152          1   \n",
       "3716     0.130961 -1.132419 -0.760164  1.140475      -0.891560          0   \n",
       "\n",
       "      IsActiveMember  EstimatedSalary  Geography_Germany  Geography_Spain  \\\n",
       "7479               0        -0.187705                  0                1   \n",
       "3411               0        -0.333945                  0                0   \n",
       "6027               1         1.503095                  1                0   \n",
       "1247               0        -1.071061                  0                0   \n",
       "3716               0         1.524268                  1                0   \n",
       "\n",
       "      Gender_Male  \n",
       "7479            1  \n",
       "3411            0  \n",
       "6027            1  \n",
       "1247            1  \n",
       "3716            0  "
      ]
     },
     "execution_count": 14,
     "metadata": {},
     "output_type": "execute_result"
    }
   ],
   "source": [
    "# стандартизация численных признаков тренировочной, валидационной и тестовой выборок\n",
    "pd.options.mode.chained_assignment = None\n",
    "\n",
    "scaler = StandardScaler()\n",
    "scaler.fit(features_train[numeric])\n",
    "features_train[numeric] = scaler.transform(features_train[numeric])\n",
    "features_valid[numeric] = scaler.transform(features_valid[numeric])\n",
    "features_test[numeric] = scaler.transform(features_test[numeric])\n",
    "\n",
    "features_train.head() # просмотр преобразованный данных тренировочной выбрки"
   ]
  },
  {
   "cell_type": "code",
   "execution_count": 15,
   "metadata": {},
   "outputs": [
    {
     "data": {
      "text/html": [
       "<div>\n",
       "<style scoped>\n",
       "    .dataframe tbody tr th:only-of-type {\n",
       "        vertical-align: middle;\n",
       "    }\n",
       "\n",
       "    .dataframe tbody tr th {\n",
       "        vertical-align: top;\n",
       "    }\n",
       "\n",
       "    .dataframe thead th {\n",
       "        text-align: right;\n",
       "    }\n",
       "</style>\n",
       "<table border=\"1\" class=\"dataframe\">\n",
       "  <thead>\n",
       "    <tr style=\"text-align: right;\">\n",
       "      <th></th>\n",
       "      <th>CreditScore</th>\n",
       "      <th>Age</th>\n",
       "      <th>Tenure</th>\n",
       "      <th>Balance</th>\n",
       "      <th>NumOfProducts</th>\n",
       "      <th>HasCrCard</th>\n",
       "      <th>IsActiveMember</th>\n",
       "      <th>EstimatedSalary</th>\n",
       "      <th>Geography_Germany</th>\n",
       "      <th>Geography_Spain</th>\n",
       "      <th>Gender_Male</th>\n",
       "    </tr>\n",
       "  </thead>\n",
       "  <tbody>\n",
       "    <tr>\n",
       "      <td>8532</td>\n",
       "      <td>-0.699824</td>\n",
       "      <td>-0.373192</td>\n",
       "      <td>-0.760164</td>\n",
       "      <td>-1.233163</td>\n",
       "      <td>0.830152</td>\n",
       "      <td>1</td>\n",
       "      <td>0</td>\n",
       "      <td>-0.015173</td>\n",
       "      <td>0</td>\n",
       "      <td>0</td>\n",
       "      <td>0</td>\n",
       "    </tr>\n",
       "    <tr>\n",
       "      <td>5799</td>\n",
       "      <td>-0.284431</td>\n",
       "      <td>0.575842</td>\n",
       "      <td>-0.452862</td>\n",
       "      <td>-1.233163</td>\n",
       "      <td>-0.891560</td>\n",
       "      <td>1</td>\n",
       "      <td>1</td>\n",
       "      <td>1.471724</td>\n",
       "      <td>0</td>\n",
       "      <td>0</td>\n",
       "      <td>0</td>\n",
       "    </tr>\n",
       "    <tr>\n",
       "      <td>5511</td>\n",
       "      <td>0.151731</td>\n",
       "      <td>-0.657902</td>\n",
       "      <td>-1.374769</td>\n",
       "      <td>0.438711</td>\n",
       "      <td>-0.891560</td>\n",
       "      <td>1</td>\n",
       "      <td>0</td>\n",
       "      <td>-1.367107</td>\n",
       "      <td>1</td>\n",
       "      <td>0</td>\n",
       "      <td>1</td>\n",
       "    </tr>\n",
       "    <tr>\n",
       "      <td>7365</td>\n",
       "      <td>-0.876366</td>\n",
       "      <td>-0.278288</td>\n",
       "      <td>1.698257</td>\n",
       "      <td>1.239884</td>\n",
       "      <td>-0.891560</td>\n",
       "      <td>1</td>\n",
       "      <td>1</td>\n",
       "      <td>-0.786517</td>\n",
       "      <td>0</td>\n",
       "      <td>1</td>\n",
       "      <td>0</td>\n",
       "    </tr>\n",
       "    <tr>\n",
       "      <td>7367</td>\n",
       "      <td>-0.481743</td>\n",
       "      <td>0.291132</td>\n",
       "      <td>1.698257</td>\n",
       "      <td>-1.233163</td>\n",
       "      <td>0.830152</td>\n",
       "      <td>1</td>\n",
       "      <td>0</td>\n",
       "      <td>1.358533</td>\n",
       "      <td>0</td>\n",
       "      <td>1</td>\n",
       "      <td>1</td>\n",
       "    </tr>\n",
       "  </tbody>\n",
       "</table>\n",
       "</div>"
      ],
      "text/plain": [
       "      CreditScore       Age    Tenure   Balance  NumOfProducts  HasCrCard  \\\n",
       "8532    -0.699824 -0.373192 -0.760164 -1.233163       0.830152          1   \n",
       "5799    -0.284431  0.575842 -0.452862 -1.233163      -0.891560          1   \n",
       "5511     0.151731 -0.657902 -1.374769  0.438711      -0.891560          1   \n",
       "7365    -0.876366 -0.278288  1.698257  1.239884      -0.891560          1   \n",
       "7367    -0.481743  0.291132  1.698257 -1.233163       0.830152          1   \n",
       "\n",
       "      IsActiveMember  EstimatedSalary  Geography_Germany  Geography_Spain  \\\n",
       "8532               0        -0.015173                  0                0   \n",
       "5799               1         1.471724                  0                0   \n",
       "5511               0        -1.367107                  1                0   \n",
       "7365               1        -0.786517                  0                1   \n",
       "7367               0         1.358533                  0                1   \n",
       "\n",
       "      Gender_Male  \n",
       "8532            0  \n",
       "5799            0  \n",
       "5511            1  \n",
       "7365            0  \n",
       "7367            1  "
      ]
     },
     "execution_count": 15,
     "metadata": {},
     "output_type": "execute_result"
    }
   ],
   "source": [
    "# просмотр преобразованный данных валидационной выбрки\n",
    "features_valid.head()"
   ]
  },
  {
   "cell_type": "code",
   "execution_count": 16,
   "metadata": {},
   "outputs": [
    {
     "data": {
      "text/html": [
       "<div>\n",
       "<style scoped>\n",
       "    .dataframe tbody tr th:only-of-type {\n",
       "        vertical-align: middle;\n",
       "    }\n",
       "\n",
       "    .dataframe tbody tr th {\n",
       "        vertical-align: top;\n",
       "    }\n",
       "\n",
       "    .dataframe thead th {\n",
       "        text-align: right;\n",
       "    }\n",
       "</style>\n",
       "<table border=\"1\" class=\"dataframe\">\n",
       "  <thead>\n",
       "    <tr style=\"text-align: right;\">\n",
       "      <th></th>\n",
       "      <th>CreditScore</th>\n",
       "      <th>Age</th>\n",
       "      <th>Tenure</th>\n",
       "      <th>Balance</th>\n",
       "      <th>NumOfProducts</th>\n",
       "      <th>HasCrCard</th>\n",
       "      <th>IsActiveMember</th>\n",
       "      <th>EstimatedSalary</th>\n",
       "      <th>Geography_Germany</th>\n",
       "      <th>Geography_Spain</th>\n",
       "      <th>Gender_Male</th>\n",
       "    </tr>\n",
       "  </thead>\n",
       "  <tbody>\n",
       "    <tr>\n",
       "      <td>7041</td>\n",
       "      <td>-2.226392</td>\n",
       "      <td>-0.088482</td>\n",
       "      <td>-0.760164</td>\n",
       "      <td>-1.233163</td>\n",
       "      <td>0.830152</td>\n",
       "      <td>1</td>\n",
       "      <td>0</td>\n",
       "      <td>0.647083</td>\n",
       "      <td>0</td>\n",
       "      <td>0</td>\n",
       "      <td>1</td>\n",
       "    </tr>\n",
       "    <tr>\n",
       "      <td>5709</td>\n",
       "      <td>-0.087120</td>\n",
       "      <td>0.006422</td>\n",
       "      <td>1.390954</td>\n",
       "      <td>-1.233163</td>\n",
       "      <td>-0.891560</td>\n",
       "      <td>1</td>\n",
       "      <td>0</td>\n",
       "      <td>-1.658410</td>\n",
       "      <td>0</td>\n",
       "      <td>0</td>\n",
       "      <td>0</td>\n",
       "    </tr>\n",
       "    <tr>\n",
       "      <td>7117</td>\n",
       "      <td>-0.917905</td>\n",
       "      <td>-0.752805</td>\n",
       "      <td>0.161744</td>\n",
       "      <td>0.722307</td>\n",
       "      <td>-0.891560</td>\n",
       "      <td>1</td>\n",
       "      <td>1</td>\n",
       "      <td>-1.369334</td>\n",
       "      <td>0</td>\n",
       "      <td>1</td>\n",
       "      <td>1</td>\n",
       "    </tr>\n",
       "    <tr>\n",
       "      <td>7775</td>\n",
       "      <td>-0.253277</td>\n",
       "      <td>0.101325</td>\n",
       "      <td>1.698257</td>\n",
       "      <td>-1.233163</td>\n",
       "      <td>0.830152</td>\n",
       "      <td>1</td>\n",
       "      <td>0</td>\n",
       "      <td>0.075086</td>\n",
       "      <td>0</td>\n",
       "      <td>1</td>\n",
       "      <td>1</td>\n",
       "    </tr>\n",
       "    <tr>\n",
       "      <td>8735</td>\n",
       "      <td>0.785204</td>\n",
       "      <td>-0.847708</td>\n",
       "      <td>1.698257</td>\n",
       "      <td>0.615625</td>\n",
       "      <td>-0.891560</td>\n",
       "      <td>0</td>\n",
       "      <td>1</td>\n",
       "      <td>-1.070919</td>\n",
       "      <td>0</td>\n",
       "      <td>0</td>\n",
       "      <td>1</td>\n",
       "    </tr>\n",
       "  </tbody>\n",
       "</table>\n",
       "</div>"
      ],
      "text/plain": [
       "      CreditScore       Age    Tenure   Balance  NumOfProducts  HasCrCard  \\\n",
       "7041    -2.226392 -0.088482 -0.760164 -1.233163       0.830152          1   \n",
       "5709    -0.087120  0.006422  1.390954 -1.233163      -0.891560          1   \n",
       "7117    -0.917905 -0.752805  0.161744  0.722307      -0.891560          1   \n",
       "7775    -0.253277  0.101325  1.698257 -1.233163       0.830152          1   \n",
       "8735     0.785204 -0.847708  1.698257  0.615625      -0.891560          0   \n",
       "\n",
       "      IsActiveMember  EstimatedSalary  Geography_Germany  Geography_Spain  \\\n",
       "7041               0         0.647083                  0                0   \n",
       "5709               0        -1.658410                  0                0   \n",
       "7117               1        -1.369334                  0                1   \n",
       "7775               0         0.075086                  0                1   \n",
       "8735               1        -1.070919                  0                0   \n",
       "\n",
       "      Gender_Male  \n",
       "7041            1  \n",
       "5709            0  \n",
       "7117            1  \n",
       "7775            1  \n",
       "8735            1  "
      ]
     },
     "execution_count": 16,
     "metadata": {},
     "output_type": "execute_result"
    }
   ],
   "source": [
    "# просмотр преобразованный данных тестовой выбрки\n",
    "features_test.head()"
   ]
  },
  {
   "cell_type": "markdown",
   "metadata": {},
   "source": [
    "**Вывод**\n",
    "\n",
    "Таким образом, была проведена подготовка данных, в результате которой были удалены столбцы, не имеющие ценности для обучения модели, к категориальным признакам был применен метод OHE, а так же стандартизированы численные признаки."
   ]
  },
  {
   "cell_type": "markdown",
   "metadata": {},
   "source": [
    "## Исследование задачи"
   ]
  },
  {
   "cell_type": "markdown",
   "metadata": {},
   "source": [
    "Обучим три модели: дерево решений, случайный лес и логистическая регрессия, а так же посчитаем `accuracy` для каждой из модели."
   ]
  },
  {
   "cell_type": "code",
   "execution_count": 17,
   "metadata": {},
   "outputs": [
    {
     "name": "stdout",
     "output_type": "stream",
     "text": [
      "0.7875\n",
      "0.85\n",
      "0.8025\n"
     ]
    },
    {
     "name": "stderr",
     "output_type": "stream",
     "text": [
      "/opt/conda/lib/python3.7/site-packages/sklearn/ensemble/forest.py:245: FutureWarning: The default value of n_estimators will change from 10 in version 0.20 to 100 in 0.22.\n",
      "  \"10 in version 0.20 to 100 in 0.22.\", FutureWarning)\n"
     ]
    }
   ],
   "source": [
    "models = [DecisionTreeClassifier(random_state=12345), RandomForestClassifier(random_state=12345), LogisticRegression(solver = 'liblinear', random_state=12345)]\n",
    "for model in models: \n",
    "    model.fit(features_train, target_train)\n",
    "    predicted_valid = model.predict(features_valid)\n",
    "    accuracy_valid = accuracy_score(target_valid, predicted_valid)\n",
    "    print(accuracy_valid)"
   ]
  },
  {
   "cell_type": "markdown",
   "metadata": {},
   "source": [
    "Самая высокая точность получилась у модели случайного леса (0.85).\n",
    "\n",
    "Проверим адекватность модели. Для начала проверим, как часто в целевом признаке встречается класс «1» или «0»."
   ]
  },
  {
   "cell_type": "code",
   "execution_count": 18,
   "metadata": {},
   "outputs": [
    {
     "name": "stdout",
     "output_type": "stream",
     "text": [
      "0    0.800667\n",
      "1    0.199333\n",
      "Name: Exited, dtype: float64\n"
     ]
    },
    {
     "data": {
      "image/png": "[encoded data removed]",
      "text/plain": [
       "<Figure size 432x288 with 1 Axes>"
      ]
     },
     "metadata": {
      "needs_background": "light"
     },
     "output_type": "display_data"
    }
   ],
   "source": [
    "# подсчёт частоты классов в целевом признаке тренировочной выборки\n",
    "class_frequency = target_train.value_counts(normalize=True)\n",
    "print(class_frequency)\n",
    "class_frequency.plot(kind='bar');"
   ]
  },
  {
   "cell_type": "code",
   "execution_count": 19,
   "metadata": {
    "scrolled": true
   },
   "outputs": [
    {
     "name": "stdout",
     "output_type": "stream",
     "text": [
      "0    0.791\n",
      "1    0.209\n",
      "Name: Exited, dtype: float64\n"
     ]
    },
    {
     "data": {
      "image/png": "[encoded data removed]",
      "text/plain": [
       "<Figure size 432x288 with 1 Axes>"
      ]
     },
     "metadata": {
      "needs_background": "light"
     },
     "output_type": "display_data"
    }
   ],
   "source": [
    "# подсчёт частоты классов в целевом признаке валидационнойии выборки\n",
    "class_frequency = target_valid.value_counts(normalize=True)\n",
    "print(class_frequency)\n",
    "class_frequency.plot(kind='bar');"
   ]
  },
  {
   "cell_type": "markdown",
   "metadata": {},
   "source": [
    "На лицо дисбаланс классов: около 80% ответов приходятся на класс «0» и 20% на класс «1». о есть с большой вероятностью модель будет предсказывать класс «0».\n",
    "\n",
    "Создадим константную модель, которая любому объекту прогнозирует класс «0» и сравним качество предсказаний."
   ]
  },
  {
   "cell_type": "code",
   "execution_count": 20,
   "metadata": {},
   "outputs": [
    {
     "data": {
      "text/plain": [
       "0.7963"
      ]
     },
     "execution_count": 20,
     "metadata": {},
     "output_type": "execute_result"
    }
   ],
   "source": [
    "# создание константной модели\n",
    "target_pred_constant = pd.Series([0]*len(target))\n",
    "accuracy_score(target, target_pred_constant)"
   ]
  },
  {
   "cell_type": "markdown",
   "metadata": {},
   "source": [
    "Качество констанстной модели практически такое же как у моделей дерева решений, случайного леса и логистической регрессии. Другими словами, если модель каждому объекту будет предсказывать класс «0», то доля правильных ответов будет такая же как у наших моделей. Скорее всего, причина тому дисбаланс классов.\n",
    "\n",
    "Рассчитаем матрицу ошибок функцией `confusion_matrix()` для каждой модели, а так же найдем значения полноты, точности и F1-меры."
   ]
  },
  {
   "cell_type": "code",
   "execution_count": 21,
   "metadata": {},
   "outputs": [
    {
     "data": {
      "text/plain": [
       "array([[1375,  207],\n",
       "       [ 218,  200]])"
      ]
     },
     "execution_count": 21,
     "metadata": {},
     "output_type": "execute_result"
    }
   ],
   "source": [
    "# матрица ошибок для дерева решений\n",
    "model = DecisionTreeClassifier(random_state=12345)\n",
    "model.fit(features_train, target_train)\n",
    "predicted_valid = model.predict(features_valid)\n",
    "confusion_matrix(target_valid, predicted_valid)"
   ]
  },
  {
   "cell_type": "code",
   "execution_count": 22,
   "metadata": {
    "scrolled": true
   },
   "outputs": [
    {
     "name": "stdout",
     "output_type": "stream",
     "text": [
      "Полнота 0.4784688995215311\n",
      "Точность 0.4914004914004914\n",
      "F1-мера 0.48484848484848486\n"
     ]
    }
   ],
   "source": [
    "# полнота, точность и F1-мера для дерева решений\n",
    "print('Полнота', recall_score(target_valid, predicted_valid))\n",
    "print('Точность', precision_score(target_valid, predicted_valid))\n",
    "print('F1-мера', f1_score(target_valid, predicted_valid))"
   ]
  },
  {
   "cell_type": "markdown",
   "metadata": {},
   "source": [
    "Полученные значения метрик говорит о том, что качество модели достаточно низкое."
   ]
  },
  {
   "cell_type": "markdown",
   "metadata": {},
   "source": [
    "Теперь рассчитаем матрицу ошибок и значение метрик для случайного леса."
   ]
  },
  {
   "cell_type": "code",
   "execution_count": 23,
   "metadata": {},
   "outputs": [
    {
     "name": "stderr",
     "output_type": "stream",
     "text": [
      "/opt/conda/lib/python3.7/site-packages/sklearn/ensemble/forest.py:245: FutureWarning: The default value of n_estimators will change from 10 in version 0.20 to 100 in 0.22.\n",
      "  \"10 in version 0.20 to 100 in 0.22.\", FutureWarning)\n"
     ]
    },
    {
     "data": {
      "text/plain": [
       "array([[1516,   66],\n",
       "       [ 234,  184]])"
      ]
     },
     "execution_count": 23,
     "metadata": {},
     "output_type": "execute_result"
    }
   ],
   "source": [
    "# матрица ошибок для случайного леса\n",
    "model = RandomForestClassifier(random_state=12345)\n",
    "model.fit(features_train, target_train)\n",
    "predicted_valid = model.predict(features_valid)\n",
    "confusion_matrix(target_valid, predicted_valid)"
   ]
  },
  {
   "cell_type": "code",
   "execution_count": 24,
   "metadata": {},
   "outputs": [
    {
     "name": "stdout",
     "output_type": "stream",
     "text": [
      "Полнота 0.44019138755980863\n",
      "Точность 0.736\n",
      "F1-мера 0.5508982035928144\n"
     ]
    }
   ],
   "source": [
    "# полнота, точность, F1-мера для случайного леса\n",
    "print('Полнота', recall_score(target_valid, predicted_valid))\n",
    "print('Точность', precision_score(target_valid, predicted_valid))\n",
    "print('F1-мера', f1_score(target_valid, predicted_valid))"
   ]
  },
  {
   "cell_type": "markdown",
   "metadata": {},
   "source": [
    "Модель выдает больше правильных ответов, чем случайный лес (точность модели выше на 0.24), однако качество модели остается достаточно низким."
   ]
  },
  {
   "cell_type": "code",
   "execution_count": 25,
   "metadata": {},
   "outputs": [
    {
     "data": {
      "text/plain": [
       "array([[1506,   76],\n",
       "       [ 319,   99]])"
      ]
     },
     "execution_count": 25,
     "metadata": {},
     "output_type": "execute_result"
    }
   ],
   "source": [
    "# матрица ошибок для логистической регрессии\n",
    "model = LogisticRegression(solver = 'liblinear', random_state=12345)\n",
    "model.fit(features_train, target_train)\n",
    "predicted_valid = model.predict(features_valid)\n",
    "confusion_matrix(target_valid, predicted_valid)"
   ]
  },
  {
   "cell_type": "code",
   "execution_count": 26,
   "metadata": {},
   "outputs": [
    {
     "name": "stdout",
     "output_type": "stream",
     "text": [
      "Полнота 0.23684210526315788\n",
      "Точность 0.5657142857142857\n",
      "F1-мера 0.33389544688026984\n"
     ]
    }
   ],
   "source": [
    "# полнота, точность, F1-мера для случайного леса\n",
    "print('Полнота', recall_score(target_valid, predicted_valid))\n",
    "print('Точность', precision_score(target_valid, predicted_valid))\n",
    "print('F1-мера', f1_score(target_valid, predicted_valid))"
   ]
  },
  {
   "cell_type": "markdown",
   "metadata": {},
   "source": [
    "Логистическая регрессия показала самое низкое качество.\n",
    "\n",
    "Для логистической регрессии рассчитаем AUC-ROC и построим ROC-кривую."
   ]
  },
  {
   "cell_type": "code",
   "execution_count": 27,
   "metadata": {},
   "outputs": [
    {
     "name": "stdout",
     "output_type": "stream",
     "text": [
      "0.7585576975423272\n"
     ]
    },
    {
     "data": {
      "image/png": "[encoded data removed]",
      "text/plain": [
       "<Figure size 432x288 with 1 Axes>"
      ]
     },
     "metadata": {
      "needs_background": "light"
     },
     "output_type": "display_data"
    }
   ],
   "source": [
    "# AUC-ROC и ROC-кривая для логистической регрессии \n",
    "model = LogisticRegression(random_state=12345, solver='liblinear')\n",
    "model.fit(features_train, target_train)\n",
    "\n",
    "probabilities_valid = model.predict_proba(features_valid) # рассчет вероятности классов\n",
    "probabilities_one_valid = probabilities_valid[:, 1] # вероятность класса \"1\"\n",
    "auc_roc = roc_auc_score(target_valid, probabilities_one_valid) # метрика AUC-ROC\n",
    "print(auc_roc)\n",
    "\n",
    "fpr, tpr, thresholds = roc_curve(target_valid, probabilities_one_valid) # кривая ошибок\n",
    "plt.figure()\n",
    "plt.plot(fpr, tpr)\n",
    "plt.plot([0, 1], [0, 1], linestyle='--') # ROC-кривая случайной модели\n",
    "plt.xlim([0.0, 1.0])\n",
    "plt.ylim([0.0, 1.0])\n",
    "plt.xlabel('False Positive Rate')\n",
    "plt.ylabel('True Positive Rate')\n",
    "plt.title('ROC-кривая')\n",
    "plt.show()"
   ]
  },
  {
   "cell_type": "markdown",
   "metadata": {},
   "source": [
    "## Борьба с дисбалансом"
   ]
  },
  {
   "cell_type": "markdown",
   "metadata": {},
   "source": [
    "Для устранения дисбаланса классов воспользуемся техникой upsampling. Так как соотношение класов примерно 80% и 20%, то для баланса необходимо долю класса 1 увеличить в 4 раза."
   ]
  },
  {
   "cell_type": "code",
   "execution_count": 28,
   "metadata": {},
   "outputs": [],
   "source": [
    "# создание функции для увеличения выборки\n",
    "def upsample(features, target, repeat):\n",
    "    features_zeros = features[target == 0] # признаки объектов с ответом «0»\n",
    "    features_ones = features[target == 1] # признаки объектов с ответом «1»\n",
    "    target_zeros = target[target == 0] # целевой признак объектов, у которых ответы только «0»\n",
    "    target_ones = target[target == 1] # целевой признак объектов, у которых ответы только «1»\n",
    "\n",
    "    features_upsampled = pd.concat([features_zeros] + [features_ones] * repeat) # дублирование объектов положительного класса \n",
    "                                                                            # и объединение их с объектами отрицательного класса\n",
    "    target_upsampled = pd.concat([target_zeros] + [target_ones] * repeat) \n",
    "    \n",
    "    features_upsampled, target_upsampled = shuffle(features_upsampled, target_upsampled, random_state=12345) # перемешивание данных\n",
    "    \n",
    "    return features_upsampled, target_upsampled"
   ]
  },
  {
   "cell_type": "code",
   "execution_count": 29,
   "metadata": {},
   "outputs": [
    {
     "name": "stdout",
     "output_type": "stream",
     "text": [
      "(9588, 11)\n",
      "(9588,)\n"
     ]
    }
   ],
   "source": [
    "# вызов функции для обучающих данных\n",
    "features_upsampled, target_upsampled = upsample(features_train, target_train, 4)\n",
    "print(features_upsampled.shape)\n",
    "print(target_upsampled.shape)"
   ]
  },
  {
   "cell_type": "markdown",
   "metadata": {},
   "source": [
    "Таким образом, мы получили сбалансированные классы.\n",
    "\n",
    "Рассчитаем значение F1-меры для каждой модели на новых данных."
   ]
  },
  {
   "cell_type": "code",
   "execution_count": 30,
   "metadata": {},
   "outputs": [
    {
     "name": "stdout",
     "output_type": "stream",
     "text": [
      "0.4619164619164619\n",
      "0.5989304812834225\n",
      "0.4875962360992301\n"
     ]
    },
    {
     "name": "stderr",
     "output_type": "stream",
     "text": [
      "/opt/conda/lib/python3.7/site-packages/sklearn/ensemble/forest.py:245: FutureWarning: The default value of n_estimators will change from 10 in version 0.20 to 100 in 0.22.\n",
      "  \"10 in version 0.20 to 100 in 0.22.\", FutureWarning)\n"
     ]
    }
   ],
   "source": [
    "# F1-score на сбалансированных данных\n",
    "models = [DecisionTreeClassifier(random_state=12345), RandomForestClassifier(random_state=12345), LogisticRegression(solver = 'liblinear', random_state=12345)]\n",
    "for model in models: \n",
    "    model.fit(features_upsampled, target_upsampled)\n",
    "    predicted_valid = model.predict(features_valid)\n",
    "    f1_score_valid = f1_score(target_valid, predicted_valid)\n",
    "    print(f1_score_valid)"
   ]
  },
  {
   "cell_type": "markdown",
   "metadata": {},
   "source": [
    "Самое большое значение F1-меры показала модель случайного леса, попробуем улучшить качество модели, изменив параметры."
   ]
  },
  {
   "cell_type": "code",
   "execution_count": 31,
   "metadata": {},
   "outputs": [
    {
     "name": "stdout",
     "output_type": "stream",
     "text": [
      "F1-score наилучшей модели на валидационной выборке: 0.624277456647399 , n_estimators = 80 , max_depth = 12\n"
     ]
    }
   ],
   "source": [
    "best_model = None\n",
    "best_result = 0\n",
    "best_depth = 0\n",
    "best_est = 0\n",
    "for est in range(10, 100, 10): \n",
    "    for depth in range(1,15):\n",
    "        model = RandomForestClassifier(random_state=12345, n_estimators=est,  max_depth=depth) \n",
    "        model.fit(features_upsampled, target_upsampled) \n",
    "        predictions = model.predict(features_valid)\n",
    "        result = f1_score(target_valid, predictions)  \n",
    "        if result > best_result:\n",
    "            best_model = model\n",
    "            best_result = result\n",
    "            best_est = est\n",
    "            best_depth = depth\n",
    "print('F1-score наилучшей модели на валидационной выборке:', best_result, ',', 'n_estimators =', best_est, ',', 'max_depth =', best_depth)"
   ]
  },
  {
   "cell_type": "markdown",
   "metadata": {},
   "source": [
    "Посчитаем для модели с данными параметрами все метрики качества."
   ]
  },
  {
   "cell_type": "code",
   "execution_count": 32,
   "metadata": {},
   "outputs": [
    {
     "name": "stdout",
     "output_type": "stream",
     "text": [
      "Полнота 0.645933014354067\n",
      "Точность 0.6040268456375839\n",
      "F1-мера 0.624277456647399\n",
      "AUC-ROC 0.767024661412179\n"
     ]
    }
   ],
   "source": [
    "# полнота, точность, F1-мера и AUC-ROC для лучшей модели\n",
    "model = RandomForestClassifier(random_state=12345, n_estimators=80,  max_depth=12) \n",
    "model.fit(features_upsampled, target_upsampled) \n",
    "predicted_valid = model.predict(features_valid)\n",
    "print('Полнота', recall_score(target_valid, predicted_valid))\n",
    "print('Точность', precision_score(target_valid, predicted_valid))\n",
    "print('F1-мера', f1_score(target_valid, predicted_valid))\n",
    "print('AUC-ROC', roc_auc_score(target_valid, predicted_valid))"
   ]
  },
  {
   "cell_type": "markdown",
   "metadata": {},
   "source": [
    "Теперь попробуем убрать дисбаланс классов, воспользовшись методом ` downsampling `."
   ]
  },
  {
   "cell_type": "code",
   "execution_count": 33,
   "metadata": {},
   "outputs": [],
   "source": [
    "# создание функции для уменьшения выборки\n",
    "def downsample(features, target, fraction):\n",
    "    features_zeros = features[target == 0]\n",
    "    features_ones = features[target == 1]\n",
    "    target_zeros = target[target == 0]\n",
    "    target_ones = target[target == 1]\n",
    "\n",
    "    features_downsampled = pd.concat(\n",
    "        [features_zeros.sample(frac=fraction, random_state=12345)] + [features_ones])\n",
    "    target_downsampled = pd.concat(\n",
    "        [target_zeros.sample(frac=fraction, random_state=12345)] + [target_ones])\n",
    "    \n",
    "    features_downsampled, target_downsampled = shuffle(\n",
    "        features_downsampled, target_downsampled, random_state=12345)\n",
    "    \n",
    "    return features_downsampled, target_downsampled"
   ]
  },
  {
   "cell_type": "code",
   "execution_count": 34,
   "metadata": {},
   "outputs": [
    {
     "name": "stdout",
     "output_type": "stream",
     "text": [
      "(3118, 11)\n",
      "(3118,)\n"
     ]
    }
   ],
   "source": [
    "# вызов функции для обучающих данных\n",
    "features_downsampled, target_downsampled = downsample(features_train, target_train, 0.4)\n",
    "print(features_downsampled.shape)\n",
    "print(target_downsampled.shape)"
   ]
  },
  {
   "cell_type": "code",
   "execution_count": 35,
   "metadata": {},
   "outputs": [
    {
     "name": "stdout",
     "output_type": "stream",
     "text": [
      "F1: 0.6244343891402715\n"
     ]
    }
   ],
   "source": [
    "# F1-score на сбалансированных данных для лучшей модели\n",
    "model = RandomForestClassifier(random_state=12345, n_estimators=80,  max_depth=12) \n",
    "model.fit(features_downsampled, target_downsampled)\n",
    "predicted_valid = model.predict(features_valid)\n",
    "\n",
    "print(\"F1:\", f1_score(target_valid, predicted_valid))"
   ]
  },
  {
   "cell_type": "markdown",
   "metadata": {},
   "source": [
    "Таким образом, наилучшей моделью оказалась RandomForestClassifier с количеством деревьев равным 22 и глубиной 12. При таких параметрах значение F1-меры достигает 0.62, что вышего целевого значения."
   ]
  },
  {
   "cell_type": "markdown",
   "metadata": {},
   "source": [
    "## Тестирование модели"
   ]
  },
  {
   "cell_type": "code",
   "execution_count": 36,
   "metadata": {},
   "outputs": [
    {
     "name": "stdout",
     "output_type": "stream",
     "text": [
      "Полнота 0.6099290780141844\n",
      "Точность 0.5958429561200924\n",
      "F1-мера 0.602803738317757\n"
     ]
    }
   ],
   "source": [
    "# проверка качества RandomForestClassifier на тестовой выборке\n",
    "model = RandomForestClassifier(random_state=12345, n_estimators=80,  max_depth=12)\n",
    "model.fit(features_upsampled, target_upsampled)\n",
    "predictions_test = model.predict(features_test) # получаем предсказания модели на тестовой выборке\n",
    "print('Полнота', recall_score(target_test, predictions_test))\n",
    "print('Точность', precision_score(target_test, predictions_test))\n",
    "print('F1-мера', f1_score(target_test, predictions_test))"
   ]
  },
  {
   "cell_type": "code",
   "execution_count": 37,
   "metadata": {},
   "outputs": [
    {
     "name": "stdout",
     "output_type": "stream",
     "text": [
      "0.8464619916645999\n"
     ]
    },
    {
     "data": {
      "image/png": "[encoded data removed]",
      "text/plain": [
       "<Figure size 432x288 with 1 Axes>"
      ]
     },
     "metadata": {
      "needs_background": "light"
     },
     "output_type": "display_data"
    }
   ],
   "source": [
    "# AUC-ROC и ROC-кривая для лучшей модели\n",
    "model = RandomForestClassifier(random_state=12345, n_estimators=80,  max_depth=12)\n",
    "model.fit(features_train, target_train)\n",
    "\n",
    "probabilities_valid = model.predict_proba(features_valid) # рассчет вероятности классов\n",
    "probabilities_one_valid = probabilities_valid[:, 1] # вероятность класса \"1\"\n",
    "auc_roc = roc_auc_score(target_valid, probabilities_one_valid) # метрика AUC-ROC\n",
    "print(auc_roc)\n",
    "\n",
    "fpr, tpr, thresholds = roc_curve(target_valid, probabilities_one_valid) # кривая ошибок\n",
    "plt.figure()\n",
    "plt.plot(fpr, tpr)\n",
    "plt.plot([0, 1], [0, 1], linestyle='--') # ROC-кривая случайной модели\n",
    "plt.xlim([0.0, 1.0])\n",
    "plt.ylim([0.0, 1.0])\n",
    "plt.xlabel('False Positive Rate')\n",
    "plt.ylabel('True Positive Rate')\n",
    "plt.title('ROC-кривая')\n",
    "plt.show()"
   ]
  },
  {
   "cell_type": "markdown",
   "metadata": {},
   "source": [
    "Рассчитав метрики качества на тестовой выборке, мы видим, что значения немного снизились. Если F1-score на валидационной выборке показал значение 0.62, то на тестовой выборке это значение равно 0.6. Значение метрики AUC-ROCдля лучшей модели - 0.85."
   ]
  },
  {
   "cell_type": "code",
   "execution_count": null,
   "metadata": {},
   "outputs": [],
   "source": []
  }
 ],
 "metadata": {
  "ExecuteTimeLog": [
   {
    "duration": 776,
    "start_time": "2022-02-26T08:33:24.296Z"
   },
   {
    "duration": 35,
    "start_time": "2022-02-26T08:34:27.628Z"
   },
   {
    "duration": 22,
    "start_time": "2022-02-26T08:34:39.174Z"
   },
   {
    "duration": 14,
    "start_time": "2022-02-26T08:35:56.205Z"
   },
   {
    "duration": 14,
    "start_time": "2022-02-26T08:36:03.853Z"
   },
   {
    "duration": 314,
    "start_time": "2022-02-26T08:37:37.135Z"
   },
   {
    "duration": 272,
    "start_time": "2022-02-26T08:37:42.589Z"
   },
   {
    "duration": 7,
    "start_time": "2022-02-26T08:38:07.794Z"
   },
   {
    "duration": 255,
    "start_time": "2022-02-26T08:38:27.930Z"
   },
   {
    "duration": 26,
    "start_time": "2022-02-26T08:38:39.533Z"
   },
   {
    "duration": 1408,
    "start_time": "2022-02-26T12:43:31.252Z"
   },
   {
    "duration": 336,
    "start_time": "2022-02-26T12:43:33.287Z"
   },
   {
    "duration": 30,
    "start_time": "2022-02-26T12:43:34.624Z"
   },
   {
    "duration": 13,
    "start_time": "2022-02-26T12:43:42.663Z"
   },
   {
    "duration": 8,
    "start_time": "2022-02-26T12:43:43.662Z"
   },
   {
    "duration": 13,
    "start_time": "2022-02-26T13:08:15.258Z"
   },
   {
    "duration": 415,
    "start_time": "2022-02-26T13:13:48.233Z"
   },
   {
    "duration": 15,
    "start_time": "2022-02-26T13:20:30.730Z"
   },
   {
    "duration": 51,
    "start_time": "2022-02-26T13:25:13.625Z"
   },
   {
    "duration": 40,
    "start_time": "2022-02-26T13:25:26.710Z"
   },
   {
    "duration": 33,
    "start_time": "2022-02-26T13:25:56.645Z"
   },
   {
    "duration": 7,
    "start_time": "2022-02-26T13:45:11.156Z"
   },
   {
    "duration": 12,
    "start_time": "2022-02-26T13:46:28.248Z"
   },
   {
    "duration": 5,
    "start_time": "2022-02-26T13:47:19.511Z"
   },
   {
    "duration": 4,
    "start_time": "2022-02-26T14:03:34.080Z"
   },
   {
    "duration": 5,
    "start_time": "2022-02-26T15:30:43.222Z"
   },
   {
    "duration": 36,
    "start_time": "2022-02-26T15:30:43.961Z"
   },
   {
    "duration": 34,
    "start_time": "2022-02-26T15:31:26.166Z"
   },
   {
    "duration": 30,
    "start_time": "2022-02-26T15:32:12.232Z"
   },
   {
    "duration": 45,
    "start_time": "2022-02-26T15:33:21.752Z"
   },
   {
    "duration": 44,
    "start_time": "2022-02-26T15:33:43.928Z"
   },
   {
    "duration": 43,
    "start_time": "2022-02-26T15:34:54.248Z"
   },
   {
    "duration": 16,
    "start_time": "2022-02-26T15:35:12.542Z"
   },
   {
    "duration": 16,
    "start_time": "2022-02-26T15:35:13.750Z"
   },
   {
    "duration": 40,
    "start_time": "2022-02-26T15:35:33.325Z"
   },
   {
    "duration": 14,
    "start_time": "2022-02-26T15:35:40.330Z"
   },
   {
    "duration": 15,
    "start_time": "2022-02-26T15:35:43.510Z"
   },
   {
    "duration": 42,
    "start_time": "2022-02-26T15:43:55.387Z"
   },
   {
    "duration": 15,
    "start_time": "2022-02-26T15:44:02.900Z"
   },
   {
    "duration": 16,
    "start_time": "2022-02-26T15:44:06.915Z"
   },
   {
    "duration": 4,
    "start_time": "2022-02-26T15:55:33.207Z"
   },
   {
    "duration": 45,
    "start_time": "2022-02-26T15:55:39.566Z"
   },
   {
    "duration": 170,
    "start_time": "2022-02-26T16:00:31.215Z"
   },
   {
    "duration": 165,
    "start_time": "2022-02-26T16:02:26.757Z"
   },
   {
    "duration": 168,
    "start_time": "2022-02-26T16:03:05.321Z"
   },
   {
    "duration": 174,
    "start_time": "2022-02-26T16:06:12.763Z"
   },
   {
    "duration": 168,
    "start_time": "2022-02-26T16:06:42.220Z"
   },
   {
    "duration": 7,
    "start_time": "2022-02-26T16:11:26.227Z"
   },
   {
    "duration": 9,
    "start_time": "2022-02-26T16:11:35.200Z"
   },
   {
    "duration": 8,
    "start_time": "2022-02-26T16:11:52.544Z"
   },
   {
    "duration": 318,
    "start_time": "2022-02-26T16:12:25.944Z"
   },
   {
    "duration": 213,
    "start_time": "2022-02-26T16:12:31.792Z"
   },
   {
    "duration": 222,
    "start_time": "2022-02-26T16:13:20.904Z"
   },
   {
    "duration": 8,
    "start_time": "2022-02-26T16:28:00.505Z"
   },
   {
    "duration": 12,
    "start_time": "2022-02-26T16:31:31.514Z"
   },
   {
    "duration": 6,
    "start_time": "2022-02-26T18:10:57.250Z"
   },
   {
    "duration": 48,
    "start_time": "2022-02-26T18:14:37.146Z"
   },
   {
    "duration": 6,
    "start_time": "2022-02-26T18:22:32.020Z"
   },
   {
    "duration": 188,
    "start_time": "2022-02-26T18:22:32.028Z"
   },
   {
    "duration": 18,
    "start_time": "2022-02-26T18:22:32.219Z"
   },
   {
    "duration": 13,
    "start_time": "2022-02-26T18:22:32.239Z"
   },
   {
    "duration": 6,
    "start_time": "2022-02-26T18:22:32.254Z"
   },
   {
    "duration": 35,
    "start_time": "2022-02-26T18:22:32.262Z"
   },
   {
    "duration": 11,
    "start_time": "2022-02-26T18:22:32.332Z"
   },
   {
    "duration": 8,
    "start_time": "2022-02-26T18:22:32.346Z"
   },
   {
    "duration": 35,
    "start_time": "2022-02-26T18:22:32.358Z"
   },
   {
    "duration": 40,
    "start_time": "2022-02-26T18:22:32.396Z"
   },
   {
    "duration": 11,
    "start_time": "2022-02-26T18:22:32.439Z"
   },
   {
    "duration": 7,
    "start_time": "2022-02-26T18:22:32.452Z"
   },
   {
    "duration": 6,
    "start_time": "2022-02-26T18:22:32.461Z"
   },
   {
    "duration": 80,
    "start_time": "2022-02-26T18:22:32.469Z"
   },
   {
    "duration": 19,
    "start_time": "2022-02-26T18:22:32.551Z"
   },
   {
    "duration": 19,
    "start_time": "2022-02-26T18:22:32.573Z"
   },
   {
    "duration": 246,
    "start_time": "2022-02-26T18:22:32.596Z"
   },
   {
    "duration": 367,
    "start_time": "2022-02-26T18:22:32.845Z"
   },
   {
    "duration": 242,
    "start_time": "2022-02-26T18:22:33.215Z"
   },
   {
    "duration": 10,
    "start_time": "2022-02-26T18:22:33.459Z"
   },
   {
    "duration": 67,
    "start_time": "2022-02-26T18:22:33.471Z"
   },
   {
    "duration": 372,
    "start_time": "2022-02-26T18:28:49.517Z"
   },
   {
    "duration": 12,
    "start_time": "2022-02-26T18:29:14.659Z"
   },
   {
    "duration": 7,
    "start_time": "2022-02-26T18:39:21.441Z"
   },
   {
    "duration": 7,
    "start_time": "2022-02-26T18:39:42.271Z"
   },
   {
    "duration": 110,
    "start_time": "2022-02-26T18:45:46.543Z"
   },
   {
    "duration": 16,
    "start_time": "2022-02-26T18:47:43.230Z"
   },
   {
    "duration": 34,
    "start_time": "2022-02-26T18:51:46.507Z"
   },
   {
    "duration": 16,
    "start_time": "2022-02-26T18:52:41.979Z"
   },
   {
    "duration": 317,
    "start_time": "2022-02-26T18:57:36.995Z"
   },
   {
    "duration": 6,
    "start_time": "2022-02-26T18:57:55.923Z"
   },
   {
    "duration": 494,
    "start_time": "2022-02-26T18:58:02.089Z"
   },
   {
    "duration": 468,
    "start_time": "2022-02-26T18:59:33.369Z"
   },
   {
    "duration": 6,
    "start_time": "2022-02-26T19:26:08.711Z"
   },
   {
    "duration": 6,
    "start_time": "2022-02-26T19:45:05.965Z"
   },
   {
    "duration": 21,
    "start_time": "2022-02-26T19:45:54.058Z"
   },
   {
    "duration": 16,
    "start_time": "2022-02-26T19:45:59.694Z"
   },
   {
    "duration": 16,
    "start_time": "2022-02-26T19:47:12.754Z"
   },
   {
    "duration": 235,
    "start_time": "2022-02-26T19:53:26.063Z"
   },
   {
    "duration": 285,
    "start_time": "2022-02-26T19:54:43.547Z"
   },
   {
    "duration": 38,
    "start_time": "2022-02-26T19:57:31.986Z"
   },
   {
    "duration": 16,
    "start_time": "2022-02-26T19:57:33.917Z"
   },
   {
    "duration": 1416,
    "start_time": "2022-02-26T19:58:14.649Z"
   },
   {
    "duration": 189,
    "start_time": "2022-02-26T19:58:16.067Z"
   },
   {
    "duration": 24,
    "start_time": "2022-02-26T19:58:16.259Z"
   },
   {
    "duration": 13,
    "start_time": "2022-02-26T19:58:16.287Z"
   },
   {
    "duration": 32,
    "start_time": "2022-02-26T19:58:16.303Z"
   },
   {
    "duration": 36,
    "start_time": "2022-02-26T19:58:16.338Z"
   },
   {
    "duration": 13,
    "start_time": "2022-02-26T19:58:16.377Z"
   },
   {
    "duration": 46,
    "start_time": "2022-02-26T19:58:16.393Z"
   },
   {
    "duration": 38,
    "start_time": "2022-02-26T19:58:16.445Z"
   },
   {
    "duration": 8,
    "start_time": "2022-02-26T19:58:16.487Z"
   },
   {
    "duration": 46,
    "start_time": "2022-02-26T19:58:16.497Z"
   },
   {
    "duration": 11,
    "start_time": "2022-02-26T19:58:16.546Z"
   },
   {
    "duration": 4,
    "start_time": "2022-02-26T19:58:16.560Z"
   },
   {
    "duration": 87,
    "start_time": "2022-02-26T19:58:16.567Z"
   },
   {
    "duration": 17,
    "start_time": "2022-02-26T19:58:16.657Z"
   },
   {
    "duration": 17,
    "start_time": "2022-02-26T19:58:16.676Z"
   },
   {
    "duration": 242,
    "start_time": "2022-02-26T19:58:16.696Z"
   },
   {
    "duration": 346,
    "start_time": "2022-02-26T19:58:16.941Z"
   },
   {
    "duration": 236,
    "start_time": "2022-02-26T19:58:17.289Z"
   },
   {
    "duration": 11,
    "start_time": "2022-02-26T19:58:17.527Z"
   },
   {
    "duration": 51,
    "start_time": "2022-02-26T19:58:17.540Z"
   },
   {
    "duration": 43,
    "start_time": "2022-02-26T19:58:17.593Z"
   },
   {
    "duration": 7,
    "start_time": "2022-02-26T19:58:17.638Z"
   },
   {
    "duration": 131,
    "start_time": "2022-02-26T19:58:17.647Z"
   },
   {
    "duration": 16,
    "start_time": "2022-02-26T19:58:17.781Z"
   },
   {
    "duration": 134,
    "start_time": "2022-02-26T19:58:17.799Z"
   },
   {
    "duration": 542,
    "start_time": "2022-02-26T19:58:17.940Z"
   },
   {
    "duration": 6,
    "start_time": "2022-02-26T19:58:18.485Z"
   },
   {
    "duration": 22,
    "start_time": "2022-02-26T19:58:18.493Z"
   },
   {
    "duration": 308,
    "start_time": "2022-02-26T19:58:18.531Z"
   },
   {
    "duration": 240,
    "start_time": "2022-02-26T20:01:17.919Z"
   },
   {
    "duration": 59833,
    "start_time": "2022-02-26T20:04:39.669Z"
   },
   {
    "duration": 1052,
    "start_time": "2022-02-26T20:13:18.604Z"
   },
   {
    "duration": 934,
    "start_time": "2022-02-26T20:15:07.849Z"
   },
   {
    "duration": 64712,
    "start_time": "2022-02-26T20:16:03.108Z"
   },
   {
    "duration": 1042,
    "start_time": "2022-02-26T20:17:25.937Z"
   },
   {
    "duration": 1285,
    "start_time": "2022-02-26T20:17:40.759Z"
   },
   {
    "duration": 8165,
    "start_time": "2022-02-26T20:18:44.029Z"
   },
   {
    "duration": 82,
    "start_time": "2022-02-26T20:19:00.703Z"
   },
   {
    "duration": 75,
    "start_time": "2022-02-26T20:19:32.425Z"
   },
   {
    "duration": 114,
    "start_time": "2022-02-26T20:19:38.737Z"
   },
   {
    "duration": 17,
    "start_time": "2022-02-26T20:20:02.577Z"
   },
   {
    "duration": 113,
    "start_time": "2022-02-26T20:20:06.871Z"
   },
   {
    "duration": 84,
    "start_time": "2022-02-26T20:20:11.245Z"
   },
   {
    "duration": 188,
    "start_time": "2022-02-26T20:20:18.422Z"
   },
   {
    "duration": 58427,
    "start_time": "2022-02-26T20:20:46.087Z"
   },
   {
    "duration": 225,
    "start_time": "2022-02-26T20:22:03.495Z"
   },
   {
    "duration": 59669,
    "start_time": "2022-02-26T20:23:00.111Z"
   },
   {
    "duration": 237,
    "start_time": "2022-02-26T20:24:41.469Z"
   },
   {
    "duration": 403,
    "start_time": "2022-02-26T20:24:56.175Z"
   },
   {
    "duration": 1013,
    "start_time": "2022-02-26T20:25:25.293Z"
   },
   {
    "duration": 968,
    "start_time": "2022-02-26T20:25:47.043Z"
   },
   {
    "duration": 59967,
    "start_time": "2022-02-26T20:26:27.478Z"
   },
   {
    "duration": 24,
    "start_time": "2022-02-26T20:32:47.322Z"
   },
   {
    "duration": 25,
    "start_time": "2022-02-26T20:33:01.298Z"
   },
   {
    "duration": 38,
    "start_time": "2022-02-26T20:33:52.019Z"
   },
   {
    "duration": 1082,
    "start_time": "2022-02-26T20:34:22.610Z"
   },
   {
    "duration": 73,
    "start_time": "2022-02-26T20:34:34.611Z"
   },
   {
    "duration": 72065,
    "start_time": "2022-02-26T20:34:54.081Z"
   },
   {
    "duration": 1046,
    "start_time": "2022-02-26T20:37:59.793Z"
   },
   {
    "duration": 57,
    "start_time": "2022-02-26T20:38:02.650Z"
   },
   {
    "duration": 1487,
    "start_time": "2022-02-26T20:49:31.178Z"
   },
   {
    "duration": 194,
    "start_time": "2022-02-26T20:49:32.669Z"
   },
   {
    "duration": 24,
    "start_time": "2022-02-26T20:49:32.871Z"
   },
   {
    "duration": 17,
    "start_time": "2022-02-26T20:49:32.898Z"
   },
   {
    "duration": 10,
    "start_time": "2022-02-26T20:49:32.932Z"
   },
   {
    "duration": 63,
    "start_time": "2022-02-26T20:49:32.944Z"
   },
   {
    "duration": 33,
    "start_time": "2022-02-26T20:49:33.012Z"
   },
   {
    "duration": 11,
    "start_time": "2022-02-26T20:49:33.049Z"
   },
   {
    "duration": 37,
    "start_time": "2022-02-26T20:49:33.062Z"
   },
   {
    "duration": 6,
    "start_time": "2022-02-26T20:49:33.101Z"
   },
   {
    "duration": 39,
    "start_time": "2022-02-26T20:49:33.110Z"
   },
   {
    "duration": 16,
    "start_time": "2022-02-26T20:49:33.151Z"
   },
   {
    "duration": 15,
    "start_time": "2022-02-26T20:49:33.169Z"
   },
   {
    "duration": 160,
    "start_time": "2022-02-26T20:49:33.186Z"
   },
   {
    "duration": 17,
    "start_time": "2022-02-26T20:49:33.349Z"
   },
   {
    "duration": 30,
    "start_time": "2022-02-26T20:49:33.369Z"
   },
   {
    "duration": 248,
    "start_time": "2022-02-26T20:49:33.403Z"
   },
   {
    "duration": 348,
    "start_time": "2022-02-26T20:49:33.656Z"
   },
   {
    "duration": 276,
    "start_time": "2022-02-26T20:49:34.007Z"
   },
   {
    "duration": 11,
    "start_time": "2022-02-26T20:49:34.285Z"
   },
   {
    "duration": 78,
    "start_time": "2022-02-26T20:49:34.298Z"
   },
   {
    "duration": 15,
    "start_time": "2022-02-26T20:49:34.380Z"
   },
   {
    "duration": 8,
    "start_time": "2022-02-26T20:49:34.399Z"
   },
   {
    "duration": 125,
    "start_time": "2022-02-26T20:49:34.433Z"
   },
   {
    "duration": 24,
    "start_time": "2022-02-26T20:49:34.561Z"
   },
   {
    "duration": 66,
    "start_time": "2022-02-26T20:49:34.587Z"
   },
   {
    "duration": 626,
    "start_time": "2022-02-26T20:49:34.656Z"
   },
   {
    "duration": 6,
    "start_time": "2022-02-26T20:49:35.285Z"
   },
   {
    "duration": 23,
    "start_time": "2022-02-26T20:49:35.293Z"
   },
   {
    "duration": 305,
    "start_time": "2022-02-26T20:49:35.336Z"
   },
   {
    "duration": 61332,
    "start_time": "2022-02-26T20:49:35.644Z"
   },
   {
    "duration": 1072,
    "start_time": "2022-02-26T20:50:36.979Z"
   },
   {
    "duration": 54,
    "start_time": "2022-02-26T20:50:38.054Z"
   },
   {
    "duration": 1961,
    "start_time": "2022-02-27T17:02:31.994Z"
   },
   {
    "duration": 171,
    "start_time": "2022-02-27T17:02:33.959Z"
   },
   {
    "duration": 23,
    "start_time": "2022-02-27T17:02:34.134Z"
   },
   {
    "duration": 20,
    "start_time": "2022-02-27T17:02:34.160Z"
   },
   {
    "duration": 24,
    "start_time": "2022-02-27T17:02:34.183Z"
   },
   {
    "duration": 76,
    "start_time": "2022-02-27T17:02:34.210Z"
   },
   {
    "duration": 15,
    "start_time": "2022-02-27T17:02:34.289Z"
   },
   {
    "duration": 39,
    "start_time": "2022-02-27T17:02:34.307Z"
   },
   {
    "duration": 42,
    "start_time": "2022-02-27T17:02:34.352Z"
   },
   {
    "duration": 6,
    "start_time": "2022-02-27T17:02:34.397Z"
   },
   {
    "duration": 11,
    "start_time": "2022-02-27T17:02:34.406Z"
   },
   {
    "duration": 15,
    "start_time": "2022-02-27T17:02:34.420Z"
   },
   {
    "duration": 6,
    "start_time": "2022-02-27T17:02:34.438Z"
   },
   {
    "duration": 79,
    "start_time": "2022-02-27T17:02:34.447Z"
   },
   {
    "duration": 20,
    "start_time": "2022-02-27T17:02:34.529Z"
   },
   {
    "duration": 58,
    "start_time": "2022-02-27T17:02:34.552Z"
   },
   {
    "duration": 280,
    "start_time": "2022-02-27T17:02:34.614Z"
   },
   {
    "duration": 467,
    "start_time": "2022-02-27T17:02:34.898Z"
   },
   {
    "duration": 243,
    "start_time": "2022-02-27T17:02:35.367Z"
   },
   {
    "duration": 10,
    "start_time": "2022-02-27T17:02:35.613Z"
   },
   {
    "duration": 70,
    "start_time": "2022-02-27T17:02:35.626Z"
   },
   {
    "duration": 13,
    "start_time": "2022-02-27T17:02:35.699Z"
   },
   {
    "duration": 19,
    "start_time": "2022-02-27T17:02:35.715Z"
   },
   {
    "duration": 134,
    "start_time": "2022-02-27T17:02:35.737Z"
   },
   {
    "duration": 16,
    "start_time": "2022-02-27T17:02:35.882Z"
   },
   {
    "duration": 89,
    "start_time": "2022-02-27T17:02:35.901Z"
   },
   {
    "duration": 566,
    "start_time": "2022-02-27T17:02:36.082Z"
   },
   {
    "duration": 7,
    "start_time": "2022-02-27T17:02:36.651Z"
   },
   {
    "duration": 52,
    "start_time": "2022-02-27T17:02:36.660Z"
   },
   {
    "duration": 282,
    "start_time": "2022-02-27T17:02:36.714Z"
   },
   {
    "duration": 57737,
    "start_time": "2022-02-27T17:02:37.084Z"
   },
   {
    "duration": 1023,
    "start_time": "2022-02-27T17:03:34.823Z"
   },
   {
    "duration": 67,
    "start_time": "2022-02-27T17:03:35.849Z"
   },
   {
    "duration": 14,
    "start_time": "2022-02-27T17:17:26.644Z"
   },
   {
    "duration": 14,
    "start_time": "2022-02-27T17:18:24.012Z"
   },
   {
    "duration": 101,
    "start_time": "2022-02-27T17:18:38.584Z"
   },
   {
    "duration": 13,
    "start_time": "2022-02-27T17:18:40.559Z"
   },
   {
    "duration": 6,
    "start_time": "2022-02-27T17:46:18.711Z"
   },
   {
    "duration": 17,
    "start_time": "2022-02-27T17:48:43.077Z"
   },
   {
    "duration": 17,
    "start_time": "2022-02-27T17:48:51.112Z"
   },
   {
    "duration": 16,
    "start_time": "2022-02-27T17:48:59.223Z"
   },
   {
    "duration": 17,
    "start_time": "2022-02-27T17:49:12.316Z"
   },
   {
    "duration": 64,
    "start_time": "2022-02-27T17:50:05.433Z"
   },
   {
    "duration": 26,
    "start_time": "2022-02-27T17:50:52.354Z"
   },
   {
    "duration": 422,
    "start_time": "2022-02-27T17:52:07.668Z"
   },
   {
    "duration": 109,
    "start_time": "2022-02-27T17:52:41.291Z"
   },
   {
    "duration": 76,
    "start_time": "2022-02-27T17:58:49.211Z"
   },
   {
    "duration": 300,
    "start_time": "2022-02-27T17:59:46.452Z"
   },
   {
    "duration": 477,
    "start_time": "2022-02-27T18:01:00.281Z"
   },
   {
    "duration": 1056,
    "start_time": "2022-02-27T18:03:19.714Z"
   },
   {
    "duration": 956,
    "start_time": "2022-02-27T18:06:06.796Z"
   },
   {
    "duration": 1015,
    "start_time": "2022-02-27T18:06:28.079Z"
   },
   {
    "duration": 971,
    "start_time": "2022-02-27T18:06:31.958Z"
   },
   {
    "duration": 1371,
    "start_time": "2022-02-27T18:10:01.537Z"
   },
   {
    "duration": 152,
    "start_time": "2022-02-27T18:10:02.911Z"
   },
   {
    "duration": 22,
    "start_time": "2022-02-27T18:10:03.066Z"
   },
   {
    "duration": 12,
    "start_time": "2022-02-27T18:10:03.090Z"
   },
   {
    "duration": 5,
    "start_time": "2022-02-27T18:10:03.105Z"
   },
   {
    "duration": 35,
    "start_time": "2022-02-27T18:10:03.113Z"
   },
   {
    "duration": 35,
    "start_time": "2022-02-27T18:10:03.151Z"
   },
   {
    "duration": 9,
    "start_time": "2022-02-27T18:10:03.190Z"
   },
   {
    "duration": 33,
    "start_time": "2022-02-27T18:10:03.202Z"
   },
   {
    "duration": 6,
    "start_time": "2022-02-27T18:10:03.238Z"
   },
   {
    "duration": 42,
    "start_time": "2022-02-27T18:10:03.246Z"
   },
   {
    "duration": 6,
    "start_time": "2022-02-27T18:10:03.291Z"
   },
   {
    "duration": 7,
    "start_time": "2022-02-27T18:10:03.300Z"
   },
   {
    "duration": 75,
    "start_time": "2022-02-27T18:10:03.309Z"
   },
   {
    "duration": 18,
    "start_time": "2022-02-27T18:10:03.387Z"
   },
   {
    "duration": 18,
    "start_time": "2022-02-27T18:10:03.408Z"
   },
   {
    "duration": 253,
    "start_time": "2022-02-27T18:10:03.429Z"
   },
   {
    "duration": 314,
    "start_time": "2022-02-27T18:10:03.685Z"
   },
   {
    "duration": 227,
    "start_time": "2022-02-27T18:10:04.002Z"
   },
   {
    "duration": 10,
    "start_time": "2022-02-27T18:10:04.231Z"
   },
   {
    "duration": 68,
    "start_time": "2022-02-27T18:10:04.243Z"
   },
   {
    "duration": 13,
    "start_time": "2022-02-27T18:10:04.313Z"
   },
   {
    "duration": 134,
    "start_time": "2022-02-27T18:10:04.332Z"
   },
   {
    "duration": 21,
    "start_time": "2022-02-27T18:10:04.469Z"
   },
   {
    "duration": 95,
    "start_time": "2022-02-27T18:10:04.493Z"
   },
   {
    "duration": 104,
    "start_time": "2022-02-27T18:10:04.591Z"
   },
   {
    "duration": 437,
    "start_time": "2022-02-27T18:10:04.698Z"
   },
   {
    "duration": 7,
    "start_time": "2022-02-27T18:10:05.138Z"
   },
   {
    "duration": 40,
    "start_time": "2022-02-27T18:10:05.148Z"
   },
   {
    "duration": 293,
    "start_time": "2022-02-27T18:10:05.191Z"
   },
   {
    "duration": 58140,
    "start_time": "2022-02-27T18:10:05.488Z"
   },
   {
    "duration": 1025,
    "start_time": "2022-02-27T18:11:03.631Z"
   },
   {
    "duration": 8,
    "start_time": "2022-02-27T18:11:04.658Z"
   },
   {
    "duration": 29,
    "start_time": "2022-02-27T18:11:04.669Z"
   },
   {
    "duration": 454,
    "start_time": "2022-02-27T18:11:04.701Z"
   },
   {
    "duration": 1037,
    "start_time": "2022-02-27T18:11:05.157Z"
   },
   {
    "duration": 976,
    "start_time": "2022-02-27T18:11:06.197Z"
   }
  ],
  "kernelspec": {
   "display_name": "Python 3 (ipykernel)",
   "language": "python",
   "name": "python3"
  },
  "language_info": {
   "codemirror_mode": {
    "name": "ipython",
    "version": 3
   },
   "file_extension": ".py",
   "mimetype": "text/x-python",
   "name": "python",
   "nbconvert_exporter": "python",
   "pygments_lexer": "ipython3",
   "version": "3.9.7"
  },
  "toc": {
   "base_numbering": 1,
   "nav_menu": {},
   "number_sections": true,
   "sideBar": true,
   "skip_h1_title": true,
   "title_cell": "Содержание",
   "title_sidebar": "Contents",
   "toc_cell": true,
   "toc_position": {},
   "toc_section_display": true,
   "toc_window_display": false
  }
 },
 "nbformat": 4,
 "nbformat_minor": 2
}
