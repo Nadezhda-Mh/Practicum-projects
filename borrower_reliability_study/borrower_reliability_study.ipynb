{
 "cells": [
  {
   "cell_type": "markdown",
   "metadata": {},
   "source": [
    "# Исследование надёжности заёмщиков"
   ]
  },
  {
   "cell_type": "markdown",
   "metadata": {},
   "source": [
    "## Шаг 1. Откройте файл с данными и изучите общую информацию"
   ]
  },
  {
   "cell_type": "code",
   "execution_count": 1,
   "metadata": {},
   "outputs": [],
   "source": [
    "# импорт библиотеки pandas\n",
    "import pandas as pd"
   ]
  },
  {
   "cell_type": "code",
   "execution_count": 2,
   "metadata": {},
   "outputs": [],
   "source": [
    "# чтение файла с данными и сохранение в df\n",
    "df = pd.read_csv('/datasets/data.csv')"
   ]
  },
  {
   "cell_type": "code",
   "execution_count": 3,
   "metadata": {},
   "outputs": [
    {
     "data": {
      "text/html": [
       "<div>\n",
       "<style scoped>\n",
       "    .dataframe tbody tr th:only-of-type {\n",
       "        vertical-align: middle;\n",
       "    }\n",
       "\n",
       "    .dataframe tbody tr th {\n",
       "        vertical-align: top;\n",
       "    }\n",
       "\n",
       "    .dataframe thead th {\n",
       "        text-align: right;\n",
       "    }\n",
       "</style>\n",
       "<table border=\"1\" class=\"dataframe\">\n",
       "  <thead>\n",
       "    <tr style=\"text-align: right;\">\n",
       "      <th></th>\n",
       "      <th>children</th>\n",
       "      <th>days_employed</th>\n",
       "      <th>dob_years</th>\n",
       "      <th>education</th>\n",
       "      <th>education_id</th>\n",
       "      <th>family_status</th>\n",
       "      <th>family_status_id</th>\n",
       "      <th>gender</th>\n",
       "      <th>income_type</th>\n",
       "      <th>debt</th>\n",
       "      <th>total_income</th>\n",
       "      <th>purpose</th>\n",
       "    </tr>\n",
       "  </thead>\n",
       "  <tbody>\n",
       "    <tr>\n",
       "      <td>6615</td>\n",
       "      <td>0</td>\n",
       "      <td>-8922.173305</td>\n",
       "      <td>58</td>\n",
       "      <td>среднее</td>\n",
       "      <td>1</td>\n",
       "      <td>женат / замужем</td>\n",
       "      <td>0</td>\n",
       "      <td>F</td>\n",
       "      <td>сотрудник</td>\n",
       "      <td>0</td>\n",
       "      <td>165067.010952</td>\n",
       "      <td>покупка недвижимости</td>\n",
       "    </tr>\n",
       "    <tr>\n",
       "      <td>18998</td>\n",
       "      <td>0</td>\n",
       "      <td>350871.171048</td>\n",
       "      <td>56</td>\n",
       "      <td>среднее</td>\n",
       "      <td>1</td>\n",
       "      <td>женат / замужем</td>\n",
       "      <td>0</td>\n",
       "      <td>F</td>\n",
       "      <td>пенсионер</td>\n",
       "      <td>0</td>\n",
       "      <td>204362.073077</td>\n",
       "      <td>операции со своей недвижимостью</td>\n",
       "    </tr>\n",
       "    <tr>\n",
       "      <td>695</td>\n",
       "      <td>0</td>\n",
       "      <td>364697.666024</td>\n",
       "      <td>57</td>\n",
       "      <td>среднее</td>\n",
       "      <td>1</td>\n",
       "      <td>женат / замужем</td>\n",
       "      <td>0</td>\n",
       "      <td>F</td>\n",
       "      <td>пенсионер</td>\n",
       "      <td>0</td>\n",
       "      <td>114356.625624</td>\n",
       "      <td>на покупку подержанного автомобиля</td>\n",
       "    </tr>\n",
       "    <tr>\n",
       "      <td>6374</td>\n",
       "      <td>0</td>\n",
       "      <td>-825.644363</td>\n",
       "      <td>28</td>\n",
       "      <td>среднее</td>\n",
       "      <td>1</td>\n",
       "      <td>гражданский брак</td>\n",
       "      <td>1</td>\n",
       "      <td>M</td>\n",
       "      <td>сотрудник</td>\n",
       "      <td>0</td>\n",
       "      <td>146125.146776</td>\n",
       "      <td>на покупку автомобиля</td>\n",
       "    </tr>\n",
       "    <tr>\n",
       "      <td>19886</td>\n",
       "      <td>0</td>\n",
       "      <td>383504.795288</td>\n",
       "      <td>54</td>\n",
       "      <td>среднее</td>\n",
       "      <td>1</td>\n",
       "      <td>женат / замужем</td>\n",
       "      <td>0</td>\n",
       "      <td>F</td>\n",
       "      <td>пенсионер</td>\n",
       "      <td>0</td>\n",
       "      <td>244851.508381</td>\n",
       "      <td>покупка коммерческой недвижимости</td>\n",
       "    </tr>\n",
       "    <tr>\n",
       "      <td>1749</td>\n",
       "      <td>1</td>\n",
       "      <td>-658.506604</td>\n",
       "      <td>24</td>\n",
       "      <td>Среднее</td>\n",
       "      <td>1</td>\n",
       "      <td>Не женат / не замужем</td>\n",
       "      <td>4</td>\n",
       "      <td>M</td>\n",
       "      <td>сотрудник</td>\n",
       "      <td>0</td>\n",
       "      <td>132982.952552</td>\n",
       "      <td>жилье</td>\n",
       "    </tr>\n",
       "    <tr>\n",
       "      <td>14383</td>\n",
       "      <td>0</td>\n",
       "      <td>-6704.354083</td>\n",
       "      <td>55</td>\n",
       "      <td>среднее</td>\n",
       "      <td>1</td>\n",
       "      <td>в разводе</td>\n",
       "      <td>3</td>\n",
       "      <td>M</td>\n",
       "      <td>сотрудник</td>\n",
       "      <td>0</td>\n",
       "      <td>192189.509297</td>\n",
       "      <td>операции с недвижимостью</td>\n",
       "    </tr>\n",
       "    <tr>\n",
       "      <td>10473</td>\n",
       "      <td>1</td>\n",
       "      <td>-879.610066</td>\n",
       "      <td>40</td>\n",
       "      <td>среднее</td>\n",
       "      <td>1</td>\n",
       "      <td>женат / замужем</td>\n",
       "      <td>0</td>\n",
       "      <td>M</td>\n",
       "      <td>сотрудник</td>\n",
       "      <td>0</td>\n",
       "      <td>139322.554708</td>\n",
       "      <td>получение дополнительного образования</td>\n",
       "    </tr>\n",
       "    <tr>\n",
       "      <td>3145</td>\n",
       "      <td>0</td>\n",
       "      <td>333008.343538</td>\n",
       "      <td>56</td>\n",
       "      <td>среднее</td>\n",
       "      <td>1</td>\n",
       "      <td>в разводе</td>\n",
       "      <td>3</td>\n",
       "      <td>M</td>\n",
       "      <td>пенсионер</td>\n",
       "      <td>0</td>\n",
       "      <td>65350.861129</td>\n",
       "      <td>сделка с автомобилем</td>\n",
       "    </tr>\n",
       "    <tr>\n",
       "      <td>4522</td>\n",
       "      <td>0</td>\n",
       "      <td>-4092.078716</td>\n",
       "      <td>49</td>\n",
       "      <td>Высшее</td>\n",
       "      <td>0</td>\n",
       "      <td>женат / замужем</td>\n",
       "      <td>0</td>\n",
       "      <td>F</td>\n",
       "      <td>сотрудник</td>\n",
       "      <td>0</td>\n",
       "      <td>125056.753309</td>\n",
       "      <td>профильное образование</td>\n",
       "    </tr>\n",
       "  </tbody>\n",
       "</table>\n",
       "</div>"
      ],
      "text/plain": [
       "       children  days_employed  dob_years education  education_id  \\\n",
       "6615          0   -8922.173305         58   среднее             1   \n",
       "18998         0  350871.171048         56   среднее             1   \n",
       "695           0  364697.666024         57   среднее             1   \n",
       "6374          0    -825.644363         28   среднее             1   \n",
       "19886         0  383504.795288         54   среднее             1   \n",
       "1749          1    -658.506604         24   Среднее             1   \n",
       "14383         0   -6704.354083         55   среднее             1   \n",
       "10473         1    -879.610066         40   среднее             1   \n",
       "3145          0  333008.343538         56   среднее             1   \n",
       "4522          0   -4092.078716         49    Высшее             0   \n",
       "\n",
       "               family_status  family_status_id gender income_type  debt  \\\n",
       "6615         женат / замужем                 0      F   сотрудник     0   \n",
       "18998        женат / замужем                 0      F   пенсионер     0   \n",
       "695          женат / замужем                 0      F   пенсионер     0   \n",
       "6374        гражданский брак                 1      M   сотрудник     0   \n",
       "19886        женат / замужем                 0      F   пенсионер     0   \n",
       "1749   Не женат / не замужем                 4      M   сотрудник     0   \n",
       "14383              в разводе                 3      M   сотрудник     0   \n",
       "10473        женат / замужем                 0      M   сотрудник     0   \n",
       "3145               в разводе                 3      M   пенсионер     0   \n",
       "4522         женат / замужем                 0      F   сотрудник     0   \n",
       "\n",
       "        total_income                                purpose  \n",
       "6615   165067.010952                   покупка недвижимости  \n",
       "18998  204362.073077        операции со своей недвижимостью  \n",
       "695    114356.625624     на покупку подержанного автомобиля  \n",
       "6374   146125.146776                  на покупку автомобиля  \n",
       "19886  244851.508381      покупка коммерческой недвижимости  \n",
       "1749   132982.952552                                  жилье  \n",
       "14383  192189.509297               операции с недвижимостью  \n",
       "10473  139322.554708  получение дополнительного образования  \n",
       "3145    65350.861129                   сделка с автомобилем  \n",
       "4522   125056.753309                 профильное образование  "
      ]
     },
     "execution_count": 3,
     "metadata": {},
     "output_type": "execute_result"
    }
   ],
   "source": [
    "# получение 10 строк таблицы df\n",
    "df.sample(10)"
   ]
  },
  {
   "cell_type": "code",
   "execution_count": 4,
   "metadata": {},
   "outputs": [
    {
     "name": "stdout",
     "output_type": "stream",
     "text": [
      "<class 'pandas.core.frame.DataFrame'>\n",
      "RangeIndex: 21525 entries, 0 to 21524\n",
      "Data columns (total 12 columns):\n",
      "children            21525 non-null int64\n",
      "days_employed       19351 non-null float64\n",
      "dob_years           21525 non-null int64\n",
      "education           21525 non-null object\n",
      "education_id        21525 non-null int64\n",
      "family_status       21525 non-null object\n",
      "family_status_id    21525 non-null int64\n",
      "gender              21525 non-null object\n",
      "income_type         21525 non-null object\n",
      "debt                21525 non-null int64\n",
      "total_income        19351 non-null float64\n",
      "purpose             21525 non-null object\n",
      "dtypes: float64(2), int64(5), object(5)\n",
      "memory usage: 2.0+ MB\n"
     ]
    }
   ],
   "source": [
    "# получение общей информации о данных в таблице df\n",
    "df.info()"
   ]
  },
  {
   "cell_type": "markdown",
   "metadata": {},
   "source": [
    "**Вывод**"
   ]
  },
  {
   "cell_type": "markdown",
   "metadata": {},
   "source": [
    "Таблица состоит из 12 столбцов, из которых столбцы `days_employed` и `total_income` с типом данных `float64`, пять столбцов (`children`, `dob_years`, `education_id`, `family_status_id`, `debt`) с типом данных `int64`, а оставшиеся пять столбцов (`education`, `family_status`, `gender`, `income_type`, `purpose`) - `object`.\n",
    "В каждой строке таблицы — данные о клиентах банка. Количество значений в столбцах различается. Значит, в данных есть пропущенные значения."
   ]
  },
  {
   "cell_type": "markdown",
   "metadata": {},
   "source": [
    "## Шаг 2. Предобработка данных"
   ]
  },
  {
   "cell_type": "markdown",
   "metadata": {},
   "source": [
    "### Обработка пропусков"
   ]
  },
  {
   "cell_type": "code",
   "execution_count": 5,
   "metadata": {},
   "outputs": [
    {
     "data": {
      "text/plain": [
       "children               0\n",
       "days_employed       2174\n",
       "dob_years              0\n",
       "education              0\n",
       "education_id           0\n",
       "family_status          0\n",
       "family_status_id       0\n",
       "gender                 0\n",
       "income_type            0\n",
       "debt                   0\n",
       "total_income        2174\n",
       "purpose                0\n",
       "dtype: int64"
      ]
     },
     "execution_count": 5,
     "metadata": {},
     "output_type": "execute_result"
    }
   ],
   "source": [
    "# подсчёт пропусков\n",
    "df.isna().sum()"
   ]
  },
  {
   "cell_type": "markdown",
   "metadata": {},
   "source": [
    "**Вывод**"
   ]
  },
  {
   "cell_type": "markdown",
   "metadata": {},
   "source": [
    "Не все пропущенные значения влияют на исследование. В столбце `days_employed` пропуски не важны для данной работы. Количество пропусков в столбцах `days_employed` и `total_income` равно, можно предположить, что либо пропуски оставленны умышленно, либо система сбора информации дала сбой/некорректная выгрузка данных.\n",
    "\n",
    "Тем не менее, пропуски нельзя оставлять без внимания: группировка данных с `NaN` может привести к некорректным результатам анализа. Трудовой стаж и доход — это это количественные переменные. Разделим данные по группам по типу занятости и заполним пропуски медианными значениями."
   ]
  },
  {
   "cell_type": "code",
   "execution_count": 6,
   "metadata": {},
   "outputs": [],
   "source": [
    "# преобразование значений столбца days_employed в абсолютные значения\n",
    "df['days_employed'] = df['days_employed'].abs()"
   ]
  },
  {
   "cell_type": "code",
   "execution_count": 7,
   "metadata": {
    "scrolled": true
   },
   "outputs": [
    {
     "data": {
      "text/plain": [
       "income_type\n",
       "безработный        366413.652744\n",
       "в декрете            3296.759962\n",
       "госслужащий          2689.368353\n",
       "компаньон            1547.382223\n",
       "пенсионер          365213.306266\n",
       "предприниматель       520.848083\n",
       "сотрудник            1574.202821\n",
       "студент               578.751554\n",
       "Name: days_employed, dtype: float64"
      ]
     },
     "execution_count": 7,
     "metadata": {},
     "output_type": "execute_result"
    }
   ],
   "source": [
    "# группировка данных по типу занятости и просмотр медианных значений столбца days_employed\n",
    "df_grouped = df.groupby('income_type')['days_employed'].median()\n",
    "df_grouped"
   ]
  },
  {
   "cell_type": "code",
   "execution_count": 8,
   "metadata": {
    "scrolled": true
   },
   "outputs": [],
   "source": [
    "# замена стажа безработных и пенсионеров на стаж, деленный на 24 \n",
    "df.loc[df['income_type']=='безработный', 'days_employed'] = df.loc[df['income_type']=='безработный', 'days_employed']/24\n",
    "df.loc[df['income_type']=='пенсионер', 'days_employed'] = df.loc[df['income_type']=='пенсионер', 'days_employed']/24"
   ]
  },
  {
   "cell_type": "code",
   "execution_count": 9,
   "metadata": {},
   "outputs": [
    {
     "data": {
      "text/plain": [
       "income_type\n",
       "безработный        15267.235531\n",
       "в декрете           3296.759962\n",
       "госслужащий         2689.368353\n",
       "компаньон           1547.382223\n",
       "пенсионер          15217.221094\n",
       "предприниматель      520.848083\n",
       "сотрудник           1574.202821\n",
       "студент              578.751554\n",
       "Name: days_employed, dtype: float64"
      ]
     },
     "execution_count": 9,
     "metadata": {},
     "output_type": "execute_result"
    }
   ],
   "source": [
    "# проверка\n",
    "df.groupby('income_type')['days_employed'].median()"
   ]
  },
  {
   "cell_type": "code",
   "execution_count": 10,
   "metadata": {},
   "outputs": [],
   "source": [
    "#замена пропущенных значений в стролбце days_employed на медианные значения\n",
    "df['days_employed'] = df.groupby('income_type')['days_employed'].transform(lambda x: x.fillna(x.median()))"
   ]
  },
  {
   "cell_type": "code",
   "execution_count": 11,
   "metadata": {},
   "outputs": [
    {
     "data": {
      "text/plain": [
       "income_type\n",
       "безработный        131339.751676\n",
       "в декрете           53829.130729\n",
       "госслужащий        150447.935283\n",
       "компаньон          172357.950966\n",
       "пенсионер          118514.486412\n",
       "предприниматель    499163.144947\n",
       "сотрудник          142594.396847\n",
       "студент             98201.625314\n",
       "Name: total_income, dtype: float64"
      ]
     },
     "execution_count": 11,
     "metadata": {},
     "output_type": "execute_result"
    }
   ],
   "source": [
    "# группировка данных по типу занятости и подсчет медианных значений столбца total_income\n",
    "df_grouped_income = df.groupby('income_type')['total_income'].median()\n",
    "df_grouped_income"
   ]
  },
  {
   "cell_type": "code",
   "execution_count": 12,
   "metadata": {},
   "outputs": [],
   "source": [
    "#замена пропущенных значений в стролбце total_income на медианные значения\n",
    "df['total_income'] = df.groupby('income_type')['total_income'].transform(lambda x: x.fillna(x.median()))"
   ]
  },
  {
   "cell_type": "code",
   "execution_count": 13,
   "metadata": {},
   "outputs": [
    {
     "data": {
      "text/plain": [
       "children            0\n",
       "days_employed       0\n",
       "dob_years           0\n",
       "education           0\n",
       "education_id        0\n",
       "family_status       0\n",
       "family_status_id    0\n",
       "gender              0\n",
       "income_type         0\n",
       "debt                0\n",
       "total_income        0\n",
       "purpose             0\n",
       "dtype: int64"
      ]
     },
     "execution_count": 13,
     "metadata": {},
     "output_type": "execute_result"
    }
   ],
   "source": [
    "# проверка отсутствия пропусков\n",
    "df.isna().sum()"
   ]
  },
  {
   "cell_type": "markdown",
   "metadata": {},
   "source": [
    "### Замена типа данных"
   ]
  },
  {
   "cell_type": "markdown",
   "metadata": {},
   "source": [
    "Чтобы превести вещественные числа в целые воспользуемся методом `astype()`"
   ]
  },
  {
   "cell_type": "code",
   "execution_count": 14,
   "metadata": {},
   "outputs": [],
   "source": [
    "# замена вещественного типа данных в столбцах days_employed и total_income на целочисленный\n",
    "df['days_employed'] = df['days_employed'].astype('int')\n",
    "df['total_income'] = df['total_income'].astype('int')"
   ]
  },
  {
   "cell_type": "code",
   "execution_count": 15,
   "metadata": {},
   "outputs": [
    {
     "data": {
      "text/plain": [
       "children             int64\n",
       "days_employed        int64\n",
       "dob_years            int64\n",
       "education           object\n",
       "education_id         int64\n",
       "family_status       object\n",
       "family_status_id     int64\n",
       "gender              object\n",
       "income_type         object\n",
       "debt                 int64\n",
       "total_income         int64\n",
       "purpose             object\n",
       "dtype: object"
      ]
     },
     "execution_count": 15,
     "metadata": {},
     "output_type": "execute_result"
    }
   ],
   "source": [
    "# проверка типов данных\n",
    "df.dtypes"
   ]
  },
  {
   "cell_type": "markdown",
   "metadata": {},
   "source": [
    "**Вывод**"
   ]
  },
  {
   "cell_type": "markdown",
   "metadata": {},
   "source": [
    "Мы заменили в двух столбцах вещественный тип данных и теперь наши данные имеют только два типа: целочисленный и строковый."
   ]
  },
  {
   "cell_type": "markdown",
   "metadata": {},
   "source": [
    "### Обработка дубликатов"
   ]
  },
  {
   "cell_type": "markdown",
   "metadata": {},
   "source": [
    "Чаще всего дубликаты возникают в результате ошибок пользователя при занесении информации, неправильном соединение данных из разных источников или сбое при выгрузке данных.\n",
    "\n",
    "Для подсчета количества дубликатов воспользуемся методом `duplicated()`, который в сочетании с методом `sum()` возвращает количество дубликатов, а для удаления дубликатов вызовем метод `drop_duplicates()`"
   ]
  },
  {
   "cell_type": "code",
   "execution_count": 16,
   "metadata": {},
   "outputs": [
    {
     "data": {
      "text/plain": [
       "array([ 1,  0,  3,  2, -1,  4, 20,  5])"
      ]
     },
     "execution_count": 16,
     "metadata": {},
     "output_type": "execute_result"
    }
   ],
   "source": [
    "# просмотр уникальных значений количества детей\n",
    "df['children'].unique()"
   ]
  },
  {
   "cell_type": "code",
   "execution_count": 17,
   "metadata": {},
   "outputs": [],
   "source": [
    "# замена отрицптельного значения на 0\n",
    "df.loc[df['children']==-1, 'children'] = 0"
   ]
  },
  {
   "cell_type": "code",
   "execution_count": 18,
   "metadata": {},
   "outputs": [
    {
     "data": {
      "text/plain": [
       "0     14196\n",
       "1      4818\n",
       "2      2055\n",
       "3       330\n",
       "20       76\n",
       "4        41\n",
       "5         9\n",
       "Name: children, dtype: int64"
      ]
     },
     "execution_count": 18,
     "metadata": {},
     "output_type": "execute_result"
    }
   ],
   "source": [
    "# проверка\n",
    "df['children'].value_counts()"
   ]
  },
  {
   "cell_type": "code",
   "execution_count": 19,
   "metadata": {},
   "outputs": [
    {
     "data": {
      "text/plain": [
       "array([42, 36, 33, 32, 53, 27, 43, 50, 35, 41, 40, 65, 54, 56, 26, 48, 24,\n",
       "       21, 57, 67, 28, 63, 62, 47, 34, 68, 25, 31, 30, 20, 49, 37, 45, 61,\n",
       "       64, 44, 52, 46, 23, 38, 39, 51,  0, 59, 29, 60, 55, 58, 71, 22, 73,\n",
       "       66, 69, 19, 72, 70, 74, 75])"
      ]
     },
     "execution_count": 19,
     "metadata": {},
     "output_type": "execute_result"
    }
   ],
   "source": [
    "# просмотр уникальных значений столбца dob_years\n",
    "df['dob_years'].unique()"
   ]
  },
  {
   "cell_type": "code",
   "execution_count": 20,
   "metadata": {},
   "outputs": [
    {
     "data": {
      "text/plain": [
       "income_type\n",
       "безработный        38.0\n",
       "в декрете          39.0\n",
       "госслужащий        40.0\n",
       "компаньон          39.0\n",
       "пенсионер          60.0\n",
       "предприниматель    42.5\n",
       "сотрудник          39.0\n",
       "студент            22.0\n",
       "Name: dob_years, dtype: float64"
      ]
     },
     "execution_count": 20,
     "metadata": {},
     "output_type": "execute_result"
    }
   ],
   "source": [
    "# группировка данных по типу занятости и подсчет медианных значений столбца dob_years\n",
    "df.groupby('income_type')['dob_years'].median()"
   ]
  },
  {
   "cell_type": "code",
   "execution_count": 21,
   "metadata": {},
   "outputs": [],
   "source": [
    "# создание функции для подсчета медианных значений для каждого типа занятия\n",
    "def dob_years_median(income):\n",
    "    years_median = df[df['income_type']==income]['dob_years'].median()\n",
    "    return years_median"
   ]
  },
  {
   "cell_type": "code",
   "execution_count": 22,
   "metadata": {},
   "outputs": [
    {
     "data": {
      "text/plain": [
       "60.0"
      ]
     },
     "execution_count": 22,
     "metadata": {},
     "output_type": "execute_result"
    }
   ],
   "source": [
    "# проверка работы функции\n",
    "dob_years_median('пенсионер')"
   ]
  },
  {
   "cell_type": "code",
   "execution_count": 23,
   "metadata": {},
   "outputs": [],
   "source": [
    "# замена нулевых значений медианными\n",
    "df.loc[df['dob_years']==0, 'dob_years'] = df.loc[df['dob_years']==0, 'income_type'].apply(dob_years_median)"
   ]
  },
  {
   "cell_type": "code",
   "execution_count": 24,
   "metadata": {},
   "outputs": [
    {
     "data": {
      "text/plain": [
       "False    21525\n",
       "Name: dob_years, dtype: int64"
      ]
     },
     "execution_count": 24,
     "metadata": {},
     "output_type": "execute_result"
    }
   ],
   "source": [
    "# проверка\n",
    "(df['dob_years']==0).value_counts()"
   ]
  },
  {
   "cell_type": "code",
   "execution_count": 25,
   "metadata": {},
   "outputs": [
    {
     "data": {
      "text/plain": [
       "array(['высшее', 'среднее', 'Среднее', 'СРЕДНЕЕ', 'ВЫСШЕЕ',\n",
       "       'неоконченное высшее', 'начальное', 'Высшее',\n",
       "       'НЕОКОНЧЕННОЕ ВЫСШЕЕ', 'Неоконченное высшее', 'НАЧАЛЬНОЕ',\n",
       "       'Начальное', 'Ученая степень', 'УЧЕНАЯ СТЕПЕНЬ', 'ученая степень'],\n",
       "      dtype=object)"
      ]
     },
     "execution_count": 25,
     "metadata": {},
     "output_type": "execute_result"
    }
   ],
   "source": [
    "# просмотр списка уникальных значений столбца education\n",
    "df['education'].unique()"
   ]
  },
  {
   "cell_type": "code",
   "execution_count": 26,
   "metadata": {},
   "outputs": [],
   "source": [
    "# замена значений столбца education на строчные\n",
    "df['education'] = df['education'].str.lower()"
   ]
  },
  {
   "cell_type": "code",
   "execution_count": 27,
   "metadata": {},
   "outputs": [
    {
     "data": {
      "text/plain": [
       "array(['высшее', 'среднее', 'неоконченное высшее', 'начальное',\n",
       "       'ученая степень'], dtype=object)"
      ]
     },
     "execution_count": 27,
     "metadata": {},
     "output_type": "execute_result"
    }
   ],
   "source": [
    "# проверка\n",
    "df['education'].unique()"
   ]
  },
  {
   "cell_type": "code",
   "execution_count": 28,
   "metadata": {},
   "outputs": [
    {
     "data": {
      "text/plain": [
       "71"
      ]
     },
     "execution_count": 28,
     "metadata": {},
     "output_type": "execute_result"
    }
   ],
   "source": [
    "# подсчёт явных дубликатов\n",
    "df.duplicated().sum()"
   ]
  },
  {
   "cell_type": "code",
   "execution_count": 29,
   "metadata": {},
   "outputs": [],
   "source": [
    "# удаление явных дубликатов (с удалением старых индексов и формированием новых)\n",
    "df = df.drop_duplicates().reset_index(drop=True)"
   ]
  },
  {
   "cell_type": "code",
   "execution_count": 30,
   "metadata": {},
   "outputs": [
    {
     "data": {
      "text/plain": [
       "0"
      ]
     },
     "execution_count": 30,
     "metadata": {},
     "output_type": "execute_result"
    }
   ],
   "source": [
    "# проверка на отсутствие дубликатов\n",
    "df.duplicated().sum()"
   ]
  },
  {
   "cell_type": "markdown",
   "metadata": {},
   "source": [
    "**Вывод**"
   ]
  },
  {
   "cell_type": "markdown",
   "metadata": {},
   "source": [
    "Было обнаружено и удалено 71 явных дубликата, без них исследование станет более точным. Кроме того были найдены неявные дубликаты уровней образования, а также исправлены ошибки в данных."
   ]
  },
  {
   "cell_type": "markdown",
   "metadata": {},
   "source": [
    "### Лемматизация"
   ]
  },
  {
   "cell_type": "code",
   "execution_count": 31,
   "metadata": {},
   "outputs": [],
   "source": [
    "# импорт библиотеки pymystem3\n",
    "from pymystem3 import Mystem\n",
    "m = Mystem()"
   ]
  },
  {
   "cell_type": "code",
   "execution_count": 32,
   "metadata": {},
   "outputs": [],
   "source": [
    "def lemmas_result(row): # создаем функцию, обозначим строку переменной row\n",
    "    purpose = row['purpose'] #обращаемся к конкретным значениям столбца row['purpose']\n",
    "    lemmas = ' '.join(m.lemmatize(purpose)) # лемматизируем значения столбца purpose и склеиваем результат вызовом метода join()\n",
    "    return lemmas\n",
    "df['lemmas'] = df.apply(lemmas_result, axis=1) # создаем новый столбец "
   ]
  },
  {
   "cell_type": "code",
   "execution_count": 33,
   "metadata": {},
   "outputs": [
    {
     "data": {
      "text/html": [
       "<div>\n",
       "<style scoped>\n",
       "    .dataframe tbody tr th:only-of-type {\n",
       "        vertical-align: middle;\n",
       "    }\n",
       "\n",
       "    .dataframe tbody tr th {\n",
       "        vertical-align: top;\n",
       "    }\n",
       "\n",
       "    .dataframe thead th {\n",
       "        text-align: right;\n",
       "    }\n",
       "</style>\n",
       "<table border=\"1\" class=\"dataframe\">\n",
       "  <thead>\n",
       "    <tr style=\"text-align: right;\">\n",
       "      <th></th>\n",
       "      <th>children</th>\n",
       "      <th>days_employed</th>\n",
       "      <th>dob_years</th>\n",
       "      <th>education</th>\n",
       "      <th>education_id</th>\n",
       "      <th>family_status</th>\n",
       "      <th>family_status_id</th>\n",
       "      <th>gender</th>\n",
       "      <th>income_type</th>\n",
       "      <th>debt</th>\n",
       "      <th>total_income</th>\n",
       "      <th>purpose</th>\n",
       "      <th>lemmas</th>\n",
       "    </tr>\n",
       "  </thead>\n",
       "  <tbody>\n",
       "    <tr>\n",
       "      <td>0</td>\n",
       "      <td>1</td>\n",
       "      <td>8437</td>\n",
       "      <td>42.0</td>\n",
       "      <td>высшее</td>\n",
       "      <td>0</td>\n",
       "      <td>женат / замужем</td>\n",
       "      <td>0</td>\n",
       "      <td>F</td>\n",
       "      <td>сотрудник</td>\n",
       "      <td>0</td>\n",
       "      <td>253875</td>\n",
       "      <td>покупка жилья</td>\n",
       "      <td>покупка   жилье \\n</td>\n",
       "    </tr>\n",
       "    <tr>\n",
       "      <td>1</td>\n",
       "      <td>1</td>\n",
       "      <td>4024</td>\n",
       "      <td>36.0</td>\n",
       "      <td>среднее</td>\n",
       "      <td>1</td>\n",
       "      <td>женат / замужем</td>\n",
       "      <td>0</td>\n",
       "      <td>F</td>\n",
       "      <td>сотрудник</td>\n",
       "      <td>0</td>\n",
       "      <td>112080</td>\n",
       "      <td>приобретение автомобиля</td>\n",
       "      <td>приобретение   автомобиль \\n</td>\n",
       "    </tr>\n",
       "    <tr>\n",
       "      <td>2</td>\n",
       "      <td>0</td>\n",
       "      <td>5623</td>\n",
       "      <td>33.0</td>\n",
       "      <td>среднее</td>\n",
       "      <td>1</td>\n",
       "      <td>женат / замужем</td>\n",
       "      <td>0</td>\n",
       "      <td>M</td>\n",
       "      <td>сотрудник</td>\n",
       "      <td>0</td>\n",
       "      <td>145885</td>\n",
       "      <td>покупка жилья</td>\n",
       "      <td>покупка   жилье \\n</td>\n",
       "    </tr>\n",
       "    <tr>\n",
       "      <td>3</td>\n",
       "      <td>3</td>\n",
       "      <td>4124</td>\n",
       "      <td>32.0</td>\n",
       "      <td>среднее</td>\n",
       "      <td>1</td>\n",
       "      <td>женат / замужем</td>\n",
       "      <td>0</td>\n",
       "      <td>M</td>\n",
       "      <td>сотрудник</td>\n",
       "      <td>0</td>\n",
       "      <td>267628</td>\n",
       "      <td>дополнительное образование</td>\n",
       "      <td>дополнительный   образование \\n</td>\n",
       "    </tr>\n",
       "    <tr>\n",
       "      <td>4</td>\n",
       "      <td>0</td>\n",
       "      <td>14177</td>\n",
       "      <td>53.0</td>\n",
       "      <td>среднее</td>\n",
       "      <td>1</td>\n",
       "      <td>гражданский брак</td>\n",
       "      <td>1</td>\n",
       "      <td>F</td>\n",
       "      <td>пенсионер</td>\n",
       "      <td>0</td>\n",
       "      <td>158616</td>\n",
       "      <td>сыграть свадьбу</td>\n",
       "      <td>сыграть   свадьба \\n</td>\n",
       "    </tr>\n",
       "    <tr>\n",
       "      <td>5</td>\n",
       "      <td>0</td>\n",
       "      <td>926</td>\n",
       "      <td>27.0</td>\n",
       "      <td>высшее</td>\n",
       "      <td>0</td>\n",
       "      <td>гражданский брак</td>\n",
       "      <td>1</td>\n",
       "      <td>M</td>\n",
       "      <td>компаньон</td>\n",
       "      <td>0</td>\n",
       "      <td>255763</td>\n",
       "      <td>покупка жилья</td>\n",
       "      <td>покупка   жилье \\n</td>\n",
       "    </tr>\n",
       "    <tr>\n",
       "      <td>6</td>\n",
       "      <td>0</td>\n",
       "      <td>2879</td>\n",
       "      <td>43.0</td>\n",
       "      <td>высшее</td>\n",
       "      <td>0</td>\n",
       "      <td>женат / замужем</td>\n",
       "      <td>0</td>\n",
       "      <td>F</td>\n",
       "      <td>компаньон</td>\n",
       "      <td>0</td>\n",
       "      <td>240525</td>\n",
       "      <td>операции с жильем</td>\n",
       "      <td>операция   с   жилье \\n</td>\n",
       "    </tr>\n",
       "    <tr>\n",
       "      <td>7</td>\n",
       "      <td>0</td>\n",
       "      <td>152</td>\n",
       "      <td>50.0</td>\n",
       "      <td>среднее</td>\n",
       "      <td>1</td>\n",
       "      <td>женат / замужем</td>\n",
       "      <td>0</td>\n",
       "      <td>M</td>\n",
       "      <td>сотрудник</td>\n",
       "      <td>0</td>\n",
       "      <td>135823</td>\n",
       "      <td>образование</td>\n",
       "      <td>образование \\n</td>\n",
       "    </tr>\n",
       "    <tr>\n",
       "      <td>8</td>\n",
       "      <td>2</td>\n",
       "      <td>6929</td>\n",
       "      <td>35.0</td>\n",
       "      <td>высшее</td>\n",
       "      <td>0</td>\n",
       "      <td>гражданский брак</td>\n",
       "      <td>1</td>\n",
       "      <td>F</td>\n",
       "      <td>сотрудник</td>\n",
       "      <td>0</td>\n",
       "      <td>95856</td>\n",
       "      <td>на проведение свадьбы</td>\n",
       "      <td>на   проведение   свадьба \\n</td>\n",
       "    </tr>\n",
       "    <tr>\n",
       "      <td>9</td>\n",
       "      <td>0</td>\n",
       "      <td>2188</td>\n",
       "      <td>41.0</td>\n",
       "      <td>среднее</td>\n",
       "      <td>1</td>\n",
       "      <td>женат / замужем</td>\n",
       "      <td>0</td>\n",
       "      <td>M</td>\n",
       "      <td>сотрудник</td>\n",
       "      <td>0</td>\n",
       "      <td>144425</td>\n",
       "      <td>покупка жилья для семьи</td>\n",
       "      <td>покупка   жилье   для   семья \\n</td>\n",
       "    </tr>\n",
       "  </tbody>\n",
       "</table>\n",
       "</div>"
      ],
      "text/plain": [
       "   children  days_employed  dob_years education  education_id  \\\n",
       "0         1           8437       42.0    высшее             0   \n",
       "1         1           4024       36.0   среднее             1   \n",
       "2         0           5623       33.0   среднее             1   \n",
       "3         3           4124       32.0   среднее             1   \n",
       "4         0          14177       53.0   среднее             1   \n",
       "5         0            926       27.0    высшее             0   \n",
       "6         0           2879       43.0    высшее             0   \n",
       "7         0            152       50.0   среднее             1   \n",
       "8         2           6929       35.0    высшее             0   \n",
       "9         0           2188       41.0   среднее             1   \n",
       "\n",
       "      family_status  family_status_id gender income_type  debt  total_income  \\\n",
       "0   женат / замужем                 0      F   сотрудник     0        253875   \n",
       "1   женат / замужем                 0      F   сотрудник     0        112080   \n",
       "2   женат / замужем                 0      M   сотрудник     0        145885   \n",
       "3   женат / замужем                 0      M   сотрудник     0        267628   \n",
       "4  гражданский брак                 1      F   пенсионер     0        158616   \n",
       "5  гражданский брак                 1      M   компаньон     0        255763   \n",
       "6   женат / замужем                 0      F   компаньон     0        240525   \n",
       "7   женат / замужем                 0      M   сотрудник     0        135823   \n",
       "8  гражданский брак                 1      F   сотрудник     0         95856   \n",
       "9   женат / замужем                 0      M   сотрудник     0        144425   \n",
       "\n",
       "                      purpose                            lemmas  \n",
       "0               покупка жилья                покупка   жилье \\n  \n",
       "1     приобретение автомобиля      приобретение   автомобиль \\n  \n",
       "2               покупка жилья                покупка   жилье \\n  \n",
       "3  дополнительное образование   дополнительный   образование \\n  \n",
       "4             сыграть свадьбу              сыграть   свадьба \\n  \n",
       "5               покупка жилья                покупка   жилье \\n  \n",
       "6           операции с жильем           операция   с   жилье \\n  \n",
       "7                 образование                    образование \\n  \n",
       "8       на проведение свадьбы      на   проведение   свадьба \\n  \n",
       "9     покупка жилья для семьи  покупка   жилье   для   семья \\n  "
      ]
     },
     "execution_count": 33,
     "metadata": {},
     "output_type": "execute_result"
    }
   ],
   "source": [
    "# просмотр первых 10 строк таблицы df с результатом лемматизации\n",
    "df.head(10)"
   ]
  },
  {
   "cell_type": "markdown",
   "metadata": {},
   "source": [
    "**Вывод**"
   ]
  },
  {
   "cell_type": "markdown",
   "metadata": {},
   "source": [
    "Для дальнейшей категоризации данных, были выделины леммы в значениях столбца с целями получения кредита. Теперь можно приступить к категоризации целей"
   ]
  },
  {
   "cell_type": "markdown",
   "metadata": {},
   "source": [
    "### Категоризация данных"
   ]
  },
  {
   "cell_type": "code",
   "execution_count": 34,
   "metadata": {},
   "outputs": [],
   "source": [
    "# импорт модуля Counter\n",
    "from collections import Counter"
   ]
  },
  {
   "cell_type": "code",
   "execution_count": 35,
   "metadata": {},
   "outputs": [
    {
     "data": {
      "text/plain": [
       "Counter({'покупка': 5897,\n",
       "         ' ': 55023,\n",
       "         'жилье': 4460,\n",
       "         'приобретение': 461,\n",
       "         'автомобиль': 4306,\n",
       "         'дополнительный': 906,\n",
       "         'образование': 4013,\n",
       "         'сыграть': 765,\n",
       "         'свадьба': 2324,\n",
       "         'операция': 2604,\n",
       "         'с': 2918,\n",
       "         'на': 2222,\n",
       "         'проведение': 768,\n",
       "         'для': 1289,\n",
       "         'семья': 638,\n",
       "         'недвижимость': 6351,\n",
       "         'коммерческий': 1311,\n",
       "         'жилой': 1230,\n",
       "         'строительство': 1878,\n",
       "         'собственный': 635,\n",
       "         'подержать': 853,\n",
       "         'свой': 2230,\n",
       "         'со': 627,\n",
       "         'заниматься': 904,\n",
       "         'сделка': 941,\n",
       "         'получение': 1314,\n",
       "         'высокий': 1374,\n",
       "         'подержанный': 111,\n",
       "         'профильный': 436,\n",
       "         'сдача': 651,\n",
       "         'ремонт': 607,\n",
       "         '\\n': 1})"
      ]
     },
     "execution_count": 35,
     "metadata": {},
     "output_type": "execute_result"
    }
   ],
   "source": [
    "# объединяем в строку цели из столбца purpose, лематизируем и подсчитываем число упоминаний слов с помощью Counter\n",
    "Counter(m.lemmatize(' '.join(df['purpose'])))"
   ]
  },
  {
   "cell_type": "code",
   "execution_count": 36,
   "metadata": {},
   "outputs": [],
   "source": [
    "# создание функции для объединения целей кредита в категории\n",
    "def purpose_group(lemmas): \n",
    "    if ('жилье' in lemmas) | ('недвижимость' in lemmas):\n",
    "        return 'покупка жилья/недвижимости'\n",
    "    if 'автомобиль' in lemmas:\n",
    "        return 'покупка автомобиля'\n",
    "    if 'свадьба' in lemmas:\n",
    "        return 'свадьба'\n",
    "    if 'образование' in lemmas:\n",
    "        return 'образование'\n",
    "    return 'другое'"
   ]
  },
  {
   "cell_type": "code",
   "execution_count": 37,
   "metadata": {},
   "outputs": [
    {
     "name": "stdout",
     "output_type": "stream",
     "text": [
      "покупка жилья/недвижимости\n",
      "покупка жилья/недвижимости\n",
      "образование\n",
      "покупка автомобиля\n",
      "свадьба\n"
     ]
    }
   ],
   "source": [
    "# тестируем работу функции для каждого правила\n",
    "print(purpose_group('покупка   свой   жилье'))\n",
    "print(purpose_group('строительство   жилой   недвижимость'))\n",
    "print(purpose_group('профильный   образование'))\n",
    "print(purpose_group('сделка   с   подержанный   автомобиль'))\n",
    "print(purpose_group('сыграть   свадьба'))"
   ]
  },
  {
   "cell_type": "code",
   "execution_count": 38,
   "metadata": {
    "scrolled": true
   },
   "outputs": [
    {
     "data": {
      "text/html": [
       "<div>\n",
       "<style scoped>\n",
       "    .dataframe tbody tr th:only-of-type {\n",
       "        vertical-align: middle;\n",
       "    }\n",
       "\n",
       "    .dataframe tbody tr th {\n",
       "        vertical-align: top;\n",
       "    }\n",
       "\n",
       "    .dataframe thead th {\n",
       "        text-align: right;\n",
       "    }\n",
       "</style>\n",
       "<table border=\"1\" class=\"dataframe\">\n",
       "  <thead>\n",
       "    <tr style=\"text-align: right;\">\n",
       "      <th></th>\n",
       "      <th>children</th>\n",
       "      <th>days_employed</th>\n",
       "      <th>dob_years</th>\n",
       "      <th>education</th>\n",
       "      <th>education_id</th>\n",
       "      <th>family_status</th>\n",
       "      <th>family_status_id</th>\n",
       "      <th>gender</th>\n",
       "      <th>income_type</th>\n",
       "      <th>debt</th>\n",
       "      <th>total_income</th>\n",
       "      <th>purpose</th>\n",
       "      <th>lemmas</th>\n",
       "      <th>purpose_group</th>\n",
       "    </tr>\n",
       "  </thead>\n",
       "  <tbody>\n",
       "    <tr>\n",
       "      <td>0</td>\n",
       "      <td>1</td>\n",
       "      <td>8437</td>\n",
       "      <td>42.0</td>\n",
       "      <td>высшее</td>\n",
       "      <td>0</td>\n",
       "      <td>женат / замужем</td>\n",
       "      <td>0</td>\n",
       "      <td>F</td>\n",
       "      <td>сотрудник</td>\n",
       "      <td>0</td>\n",
       "      <td>253875</td>\n",
       "      <td>покупка жилья</td>\n",
       "      <td>покупка   жилье \\n</td>\n",
       "      <td>покупка жилья/недвижимости</td>\n",
       "    </tr>\n",
       "    <tr>\n",
       "      <td>1</td>\n",
       "      <td>1</td>\n",
       "      <td>4024</td>\n",
       "      <td>36.0</td>\n",
       "      <td>среднее</td>\n",
       "      <td>1</td>\n",
       "      <td>женат / замужем</td>\n",
       "      <td>0</td>\n",
       "      <td>F</td>\n",
       "      <td>сотрудник</td>\n",
       "      <td>0</td>\n",
       "      <td>112080</td>\n",
       "      <td>приобретение автомобиля</td>\n",
       "      <td>приобретение   автомобиль \\n</td>\n",
       "      <td>покупка автомобиля</td>\n",
       "    </tr>\n",
       "    <tr>\n",
       "      <td>2</td>\n",
       "      <td>0</td>\n",
       "      <td>5623</td>\n",
       "      <td>33.0</td>\n",
       "      <td>среднее</td>\n",
       "      <td>1</td>\n",
       "      <td>женат / замужем</td>\n",
       "      <td>0</td>\n",
       "      <td>M</td>\n",
       "      <td>сотрудник</td>\n",
       "      <td>0</td>\n",
       "      <td>145885</td>\n",
       "      <td>покупка жилья</td>\n",
       "      <td>покупка   жилье \\n</td>\n",
       "      <td>покупка жилья/недвижимости</td>\n",
       "    </tr>\n",
       "    <tr>\n",
       "      <td>3</td>\n",
       "      <td>3</td>\n",
       "      <td>4124</td>\n",
       "      <td>32.0</td>\n",
       "      <td>среднее</td>\n",
       "      <td>1</td>\n",
       "      <td>женат / замужем</td>\n",
       "      <td>0</td>\n",
       "      <td>M</td>\n",
       "      <td>сотрудник</td>\n",
       "      <td>0</td>\n",
       "      <td>267628</td>\n",
       "      <td>дополнительное образование</td>\n",
       "      <td>дополнительный   образование \\n</td>\n",
       "      <td>образование</td>\n",
       "    </tr>\n",
       "    <tr>\n",
       "      <td>4</td>\n",
       "      <td>0</td>\n",
       "      <td>14177</td>\n",
       "      <td>53.0</td>\n",
       "      <td>среднее</td>\n",
       "      <td>1</td>\n",
       "      <td>гражданский брак</td>\n",
       "      <td>1</td>\n",
       "      <td>F</td>\n",
       "      <td>пенсионер</td>\n",
       "      <td>0</td>\n",
       "      <td>158616</td>\n",
       "      <td>сыграть свадьбу</td>\n",
       "      <td>сыграть   свадьба \\n</td>\n",
       "      <td>свадьба</td>\n",
       "    </tr>\n",
       "    <tr>\n",
       "      <td>5</td>\n",
       "      <td>0</td>\n",
       "      <td>926</td>\n",
       "      <td>27.0</td>\n",
       "      <td>высшее</td>\n",
       "      <td>0</td>\n",
       "      <td>гражданский брак</td>\n",
       "      <td>1</td>\n",
       "      <td>M</td>\n",
       "      <td>компаньон</td>\n",
       "      <td>0</td>\n",
       "      <td>255763</td>\n",
       "      <td>покупка жилья</td>\n",
       "      <td>покупка   жилье \\n</td>\n",
       "      <td>покупка жилья/недвижимости</td>\n",
       "    </tr>\n",
       "    <tr>\n",
       "      <td>6</td>\n",
       "      <td>0</td>\n",
       "      <td>2879</td>\n",
       "      <td>43.0</td>\n",
       "      <td>высшее</td>\n",
       "      <td>0</td>\n",
       "      <td>женат / замужем</td>\n",
       "      <td>0</td>\n",
       "      <td>F</td>\n",
       "      <td>компаньон</td>\n",
       "      <td>0</td>\n",
       "      <td>240525</td>\n",
       "      <td>операции с жильем</td>\n",
       "      <td>операция   с   жилье \\n</td>\n",
       "      <td>покупка жилья/недвижимости</td>\n",
       "    </tr>\n",
       "    <tr>\n",
       "      <td>7</td>\n",
       "      <td>0</td>\n",
       "      <td>152</td>\n",
       "      <td>50.0</td>\n",
       "      <td>среднее</td>\n",
       "      <td>1</td>\n",
       "      <td>женат / замужем</td>\n",
       "      <td>0</td>\n",
       "      <td>M</td>\n",
       "      <td>сотрудник</td>\n",
       "      <td>0</td>\n",
       "      <td>135823</td>\n",
       "      <td>образование</td>\n",
       "      <td>образование \\n</td>\n",
       "      <td>образование</td>\n",
       "    </tr>\n",
       "    <tr>\n",
       "      <td>8</td>\n",
       "      <td>2</td>\n",
       "      <td>6929</td>\n",
       "      <td>35.0</td>\n",
       "      <td>высшее</td>\n",
       "      <td>0</td>\n",
       "      <td>гражданский брак</td>\n",
       "      <td>1</td>\n",
       "      <td>F</td>\n",
       "      <td>сотрудник</td>\n",
       "      <td>0</td>\n",
       "      <td>95856</td>\n",
       "      <td>на проведение свадьбы</td>\n",
       "      <td>на   проведение   свадьба \\n</td>\n",
       "      <td>свадьба</td>\n",
       "    </tr>\n",
       "    <tr>\n",
       "      <td>9</td>\n",
       "      <td>0</td>\n",
       "      <td>2188</td>\n",
       "      <td>41.0</td>\n",
       "      <td>среднее</td>\n",
       "      <td>1</td>\n",
       "      <td>женат / замужем</td>\n",
       "      <td>0</td>\n",
       "      <td>M</td>\n",
       "      <td>сотрудник</td>\n",
       "      <td>0</td>\n",
       "      <td>144425</td>\n",
       "      <td>покупка жилья для семьи</td>\n",
       "      <td>покупка   жилье   для   семья \\n</td>\n",
       "      <td>покупка жилья/недвижимости</td>\n",
       "    </tr>\n",
       "  </tbody>\n",
       "</table>\n",
       "</div>"
      ],
      "text/plain": [
       "   children  days_employed  dob_years education  education_id  \\\n",
       "0         1           8437       42.0    высшее             0   \n",
       "1         1           4024       36.0   среднее             1   \n",
       "2         0           5623       33.0   среднее             1   \n",
       "3         3           4124       32.0   среднее             1   \n",
       "4         0          14177       53.0   среднее             1   \n",
       "5         0            926       27.0    высшее             0   \n",
       "6         0           2879       43.0    высшее             0   \n",
       "7         0            152       50.0   среднее             1   \n",
       "8         2           6929       35.0    высшее             0   \n",
       "9         0           2188       41.0   среднее             1   \n",
       "\n",
       "      family_status  family_status_id gender income_type  debt  total_income  \\\n",
       "0   женат / замужем                 0      F   сотрудник     0        253875   \n",
       "1   женат / замужем                 0      F   сотрудник     0        112080   \n",
       "2   женат / замужем                 0      M   сотрудник     0        145885   \n",
       "3   женат / замужем                 0      M   сотрудник     0        267628   \n",
       "4  гражданский брак                 1      F   пенсионер     0        158616   \n",
       "5  гражданский брак                 1      M   компаньон     0        255763   \n",
       "6   женат / замужем                 0      F   компаньон     0        240525   \n",
       "7   женат / замужем                 0      M   сотрудник     0        135823   \n",
       "8  гражданский брак                 1      F   сотрудник     0         95856   \n",
       "9   женат / замужем                 0      M   сотрудник     0        144425   \n",
       "\n",
       "                      purpose                            lemmas  \\\n",
       "0               покупка жилья                покупка   жилье \\n   \n",
       "1     приобретение автомобиля      приобретение   автомобиль \\n   \n",
       "2               покупка жилья                покупка   жилье \\n   \n",
       "3  дополнительное образование   дополнительный   образование \\n   \n",
       "4             сыграть свадьбу              сыграть   свадьба \\n   \n",
       "5               покупка жилья                покупка   жилье \\n   \n",
       "6           операции с жильем           операция   с   жилье \\n   \n",
       "7                 образование                    образование \\n   \n",
       "8       на проведение свадьбы      на   проведение   свадьба \\n   \n",
       "9     покупка жилья для семьи  покупка   жилье   для   семья \\n   \n",
       "\n",
       "                purpose_group  \n",
       "0  покупка жилья/недвижимости  \n",
       "1          покупка автомобиля  \n",
       "2  покупка жилья/недвижимости  \n",
       "3                 образование  \n",
       "4                     свадьба  \n",
       "5  покупка жилья/недвижимости  \n",
       "6  покупка жилья/недвижимости  \n",
       "7                 образование  \n",
       "8                     свадьба  \n",
       "9  покупка жилья/недвижимости  "
      ]
     },
     "execution_count": 38,
     "metadata": {},
     "output_type": "execute_result"
    }
   ],
   "source": [
    "# создание отдельного столбеца с категориями целей кредита\n",
    "df['purpose_group'] = df['lemmas'].apply(purpose_group)\n",
    "df.head(10) # получение первых 10 строк таблицы df"
   ]
  },
  {
   "cell_type": "code",
   "execution_count": 39,
   "metadata": {},
   "outputs": [
    {
     "data": {
      "text/plain": [
       "(119261.0, 142594.0]     3691\n",
       "(142594.0, 172357.0]     3594\n",
       "(228876.5, 2265604.0]    3576\n",
       "(92146.5, 119261.0]      3576\n",
       "(20666.999, 92146.5]     3576\n",
       "(172357.0, 228876.5]     3441\n",
       "Name: total_income, dtype: int64"
      ]
     },
     "execution_count": 39,
     "metadata": {},
     "output_type": "execute_result"
    }
   ],
   "source": [
    "# вызов метода qcut(), чтобы посмотреть на какие группы по уровню дохода можно разделить данные\n",
    "pd.qcut(df['total_income'], 6).value_counts()"
   ]
  },
  {
   "cell_type": "code",
   "execution_count": 40,
   "metadata": {},
   "outputs": [],
   "source": [
    "# создание функции для разделения данных на группы одинакового размера по уровню дохода\n",
    "def total_income_group(total_income):\n",
    "    #total_income = row['total_income']\n",
    "    if total_income<=92182:\n",
    "        return '20666.0 - 92183.0'\n",
    "    if total_income<=119253:\n",
    "        return '92183.0 - 119254.0'\n",
    "    if total_income<=142594:\n",
    "        return '119254.0 - 142594.0'\n",
    "    if total_income<=172357:\n",
    "        return '142594.0 - 172357.0'\n",
    "    if total_income<=228838:\n",
    "        return '172357.0 - 228838.0'\n",
    "    return '228838.0 - 2265604.0'"
   ]
  },
  {
   "cell_type": "code",
   "execution_count": 41,
   "metadata": {},
   "outputs": [
    {
     "data": {
      "text/plain": [
       "'20666.0 - 92183.0'"
      ]
     },
     "execution_count": 41,
     "metadata": {},
     "output_type": "execute_result"
    }
   ],
   "source": [
    "# тестируем работу функции\n",
    "total_income_group(50000)"
   ]
  },
  {
   "cell_type": "code",
   "execution_count": 42,
   "metadata": {},
   "outputs": [
    {
     "data": {
      "text/html": [
       "<div>\n",
       "<style scoped>\n",
       "    .dataframe tbody tr th:only-of-type {\n",
       "        vertical-align: middle;\n",
       "    }\n",
       "\n",
       "    .dataframe tbody tr th {\n",
       "        vertical-align: top;\n",
       "    }\n",
       "\n",
       "    .dataframe thead th {\n",
       "        text-align: right;\n",
       "    }\n",
       "</style>\n",
       "<table border=\"1\" class=\"dataframe\">\n",
       "  <thead>\n",
       "    <tr style=\"text-align: right;\">\n",
       "      <th></th>\n",
       "      <th>children</th>\n",
       "      <th>days_employed</th>\n",
       "      <th>dob_years</th>\n",
       "      <th>education</th>\n",
       "      <th>education_id</th>\n",
       "      <th>family_status</th>\n",
       "      <th>family_status_id</th>\n",
       "      <th>gender</th>\n",
       "      <th>income_type</th>\n",
       "      <th>debt</th>\n",
       "      <th>total_income</th>\n",
       "      <th>purpose</th>\n",
       "      <th>lemmas</th>\n",
       "      <th>purpose_group</th>\n",
       "      <th>total_income_group</th>\n",
       "    </tr>\n",
       "  </thead>\n",
       "  <tbody>\n",
       "    <tr>\n",
       "      <td>0</td>\n",
       "      <td>1</td>\n",
       "      <td>8437</td>\n",
       "      <td>42.0</td>\n",
       "      <td>высшее</td>\n",
       "      <td>0</td>\n",
       "      <td>женат / замужем</td>\n",
       "      <td>0</td>\n",
       "      <td>F</td>\n",
       "      <td>сотрудник</td>\n",
       "      <td>0</td>\n",
       "      <td>253875</td>\n",
       "      <td>покупка жилья</td>\n",
       "      <td>покупка   жилье \\n</td>\n",
       "      <td>покупка жилья/недвижимости</td>\n",
       "      <td>228838.0 - 2265604.0</td>\n",
       "    </tr>\n",
       "    <tr>\n",
       "      <td>1</td>\n",
       "      <td>1</td>\n",
       "      <td>4024</td>\n",
       "      <td>36.0</td>\n",
       "      <td>среднее</td>\n",
       "      <td>1</td>\n",
       "      <td>женат / замужем</td>\n",
       "      <td>0</td>\n",
       "      <td>F</td>\n",
       "      <td>сотрудник</td>\n",
       "      <td>0</td>\n",
       "      <td>112080</td>\n",
       "      <td>приобретение автомобиля</td>\n",
       "      <td>приобретение   автомобиль \\n</td>\n",
       "      <td>покупка автомобиля</td>\n",
       "      <td>92183.0 - 119254.0</td>\n",
       "    </tr>\n",
       "    <tr>\n",
       "      <td>2</td>\n",
       "      <td>0</td>\n",
       "      <td>5623</td>\n",
       "      <td>33.0</td>\n",
       "      <td>среднее</td>\n",
       "      <td>1</td>\n",
       "      <td>женат / замужем</td>\n",
       "      <td>0</td>\n",
       "      <td>M</td>\n",
       "      <td>сотрудник</td>\n",
       "      <td>0</td>\n",
       "      <td>145885</td>\n",
       "      <td>покупка жилья</td>\n",
       "      <td>покупка   жилье \\n</td>\n",
       "      <td>покупка жилья/недвижимости</td>\n",
       "      <td>142594.0 - 172357.0</td>\n",
       "    </tr>\n",
       "    <tr>\n",
       "      <td>3</td>\n",
       "      <td>3</td>\n",
       "      <td>4124</td>\n",
       "      <td>32.0</td>\n",
       "      <td>среднее</td>\n",
       "      <td>1</td>\n",
       "      <td>женат / замужем</td>\n",
       "      <td>0</td>\n",
       "      <td>M</td>\n",
       "      <td>сотрудник</td>\n",
       "      <td>0</td>\n",
       "      <td>267628</td>\n",
       "      <td>дополнительное образование</td>\n",
       "      <td>дополнительный   образование \\n</td>\n",
       "      <td>образование</td>\n",
       "      <td>228838.0 - 2265604.0</td>\n",
       "    </tr>\n",
       "    <tr>\n",
       "      <td>4</td>\n",
       "      <td>0</td>\n",
       "      <td>14177</td>\n",
       "      <td>53.0</td>\n",
       "      <td>среднее</td>\n",
       "      <td>1</td>\n",
       "      <td>гражданский брак</td>\n",
       "      <td>1</td>\n",
       "      <td>F</td>\n",
       "      <td>пенсионер</td>\n",
       "      <td>0</td>\n",
       "      <td>158616</td>\n",
       "      <td>сыграть свадьбу</td>\n",
       "      <td>сыграть   свадьба \\n</td>\n",
       "      <td>свадьба</td>\n",
       "      <td>142594.0 - 172357.0</td>\n",
       "    </tr>\n",
       "    <tr>\n",
       "      <td>5</td>\n",
       "      <td>0</td>\n",
       "      <td>926</td>\n",
       "      <td>27.0</td>\n",
       "      <td>высшее</td>\n",
       "      <td>0</td>\n",
       "      <td>гражданский брак</td>\n",
       "      <td>1</td>\n",
       "      <td>M</td>\n",
       "      <td>компаньон</td>\n",
       "      <td>0</td>\n",
       "      <td>255763</td>\n",
       "      <td>покупка жилья</td>\n",
       "      <td>покупка   жилье \\n</td>\n",
       "      <td>покупка жилья/недвижимости</td>\n",
       "      <td>228838.0 - 2265604.0</td>\n",
       "    </tr>\n",
       "    <tr>\n",
       "      <td>6</td>\n",
       "      <td>0</td>\n",
       "      <td>2879</td>\n",
       "      <td>43.0</td>\n",
       "      <td>высшее</td>\n",
       "      <td>0</td>\n",
       "      <td>женат / замужем</td>\n",
       "      <td>0</td>\n",
       "      <td>F</td>\n",
       "      <td>компаньон</td>\n",
       "      <td>0</td>\n",
       "      <td>240525</td>\n",
       "      <td>операции с жильем</td>\n",
       "      <td>операция   с   жилье \\n</td>\n",
       "      <td>покупка жилья/недвижимости</td>\n",
       "      <td>228838.0 - 2265604.0</td>\n",
       "    </tr>\n",
       "    <tr>\n",
       "      <td>7</td>\n",
       "      <td>0</td>\n",
       "      <td>152</td>\n",
       "      <td>50.0</td>\n",
       "      <td>среднее</td>\n",
       "      <td>1</td>\n",
       "      <td>женат / замужем</td>\n",
       "      <td>0</td>\n",
       "      <td>M</td>\n",
       "      <td>сотрудник</td>\n",
       "      <td>0</td>\n",
       "      <td>135823</td>\n",
       "      <td>образование</td>\n",
       "      <td>образование \\n</td>\n",
       "      <td>образование</td>\n",
       "      <td>119254.0 - 142594.0</td>\n",
       "    </tr>\n",
       "    <tr>\n",
       "      <td>8</td>\n",
       "      <td>2</td>\n",
       "      <td>6929</td>\n",
       "      <td>35.0</td>\n",
       "      <td>высшее</td>\n",
       "      <td>0</td>\n",
       "      <td>гражданский брак</td>\n",
       "      <td>1</td>\n",
       "      <td>F</td>\n",
       "      <td>сотрудник</td>\n",
       "      <td>0</td>\n",
       "      <td>95856</td>\n",
       "      <td>на проведение свадьбы</td>\n",
       "      <td>на   проведение   свадьба \\n</td>\n",
       "      <td>свадьба</td>\n",
       "      <td>92183.0 - 119254.0</td>\n",
       "    </tr>\n",
       "    <tr>\n",
       "      <td>9</td>\n",
       "      <td>0</td>\n",
       "      <td>2188</td>\n",
       "      <td>41.0</td>\n",
       "      <td>среднее</td>\n",
       "      <td>1</td>\n",
       "      <td>женат / замужем</td>\n",
       "      <td>0</td>\n",
       "      <td>M</td>\n",
       "      <td>сотрудник</td>\n",
       "      <td>0</td>\n",
       "      <td>144425</td>\n",
       "      <td>покупка жилья для семьи</td>\n",
       "      <td>покупка   жилье   для   семья \\n</td>\n",
       "      <td>покупка жилья/недвижимости</td>\n",
       "      <td>142594.0 - 172357.0</td>\n",
       "    </tr>\n",
       "  </tbody>\n",
       "</table>\n",
       "</div>"
      ],
      "text/plain": [
       "   children  days_employed  dob_years education  education_id  \\\n",
       "0         1           8437       42.0    высшее             0   \n",
       "1         1           4024       36.0   среднее             1   \n",
       "2         0           5623       33.0   среднее             1   \n",
       "3         3           4124       32.0   среднее             1   \n",
       "4         0          14177       53.0   среднее             1   \n",
       "5         0            926       27.0    высшее             0   \n",
       "6         0           2879       43.0    высшее             0   \n",
       "7         0            152       50.0   среднее             1   \n",
       "8         2           6929       35.0    высшее             0   \n",
       "9         0           2188       41.0   среднее             1   \n",
       "\n",
       "      family_status  family_status_id gender income_type  debt  total_income  \\\n",
       "0   женат / замужем                 0      F   сотрудник     0        253875   \n",
       "1   женат / замужем                 0      F   сотрудник     0        112080   \n",
       "2   женат / замужем                 0      M   сотрудник     0        145885   \n",
       "3   женат / замужем                 0      M   сотрудник     0        267628   \n",
       "4  гражданский брак                 1      F   пенсионер     0        158616   \n",
       "5  гражданский брак                 1      M   компаньон     0        255763   \n",
       "6   женат / замужем                 0      F   компаньон     0        240525   \n",
       "7   женат / замужем                 0      M   сотрудник     0        135823   \n",
       "8  гражданский брак                 1      F   сотрудник     0         95856   \n",
       "9   женат / замужем                 0      M   сотрудник     0        144425   \n",
       "\n",
       "                      purpose                            lemmas  \\\n",
       "0               покупка жилья                покупка   жилье \\n   \n",
       "1     приобретение автомобиля      приобретение   автомобиль \\n   \n",
       "2               покупка жилья                покупка   жилье \\n   \n",
       "3  дополнительное образование   дополнительный   образование \\n   \n",
       "4             сыграть свадьбу              сыграть   свадьба \\n   \n",
       "5               покупка жилья                покупка   жилье \\n   \n",
       "6           операции с жильем           операция   с   жилье \\n   \n",
       "7                 образование                    образование \\n   \n",
       "8       на проведение свадьбы      на   проведение   свадьба \\n   \n",
       "9     покупка жилья для семьи  покупка   жилье   для   семья \\n   \n",
       "\n",
       "                purpose_group    total_income_group  \n",
       "0  покупка жилья/недвижимости  228838.0 - 2265604.0  \n",
       "1          покупка автомобиля    92183.0 - 119254.0  \n",
       "2  покупка жилья/недвижимости   142594.0 - 172357.0  \n",
       "3                 образование  228838.0 - 2265604.0  \n",
       "4                     свадьба   142594.0 - 172357.0  \n",
       "5  покупка жилья/недвижимости  228838.0 - 2265604.0  \n",
       "6  покупка жилья/недвижимости  228838.0 - 2265604.0  \n",
       "7                 образование   119254.0 - 142594.0  \n",
       "8                     свадьба    92183.0 - 119254.0  \n",
       "9  покупка жилья/недвижимости   142594.0 - 172357.0  "
      ]
     },
     "execution_count": 42,
     "metadata": {},
     "output_type": "execute_result"
    }
   ],
   "source": [
    "# создание отдельного столбеца с категориями доходов\n",
    "df['total_income_group'] = df['total_income'].apply(total_income_group)\n",
    "df.head(10) # получение первых 10 строк таблицы df"
   ]
  },
  {
   "cell_type": "markdown",
   "metadata": {},
   "source": [
    "**Вывод**"
   ]
  },
  {
   "cell_type": "markdown",
   "metadata": {},
   "source": [
    "Таким образом, было выделено 4 категории целей: покупка жилья/недвижимости, образование, покупка автомобиля и свадьба. Так как покупка жилья и покупка недвижимости по смыслу одно и тоже, цели про жилье и недвижимость были объеденены в одну. Теперь данные подготовлены, чтобы делать из них выводы"
   ]
  },
  {
   "cell_type": "markdown",
   "metadata": {},
   "source": [
    "## Шаг 3. Ответьте на вопросы"
   ]
  },
  {
   "cell_type": "markdown",
   "metadata": {},
   "source": [
    "- Есть ли зависимость между наличием детей и возвратом кредита в срок?"
   ]
  },
  {
   "cell_type": "code",
   "execution_count": 43,
   "metadata": {},
   "outputs": [
    {
     "data": {
      "text/html": [
       "<div>\n",
       "<style scoped>\n",
       "    .dataframe tbody tr th:only-of-type {\n",
       "        vertical-align: middle;\n",
       "    }\n",
       "\n",
       "    .dataframe tbody tr th {\n",
       "        vertical-align: top;\n",
       "    }\n",
       "\n",
       "    .dataframe thead th {\n",
       "        text-align: right;\n",
       "    }\n",
       "</style>\n",
       "<table border=\"1\" class=\"dataframe\">\n",
       "  <thead>\n",
       "    <tr style=\"text-align: right;\">\n",
       "      <th></th>\n",
       "      <th>debt</th>\n",
       "    </tr>\n",
       "    <tr>\n",
       "      <th>children</th>\n",
       "      <th></th>\n",
       "    </tr>\n",
       "  </thead>\n",
       "  <tbody>\n",
       "    <tr>\n",
       "      <td>0</td>\n",
       "      <td>0.075258</td>\n",
       "    </tr>\n",
       "    <tr>\n",
       "      <td>1</td>\n",
       "      <td>0.092346</td>\n",
       "    </tr>\n",
       "    <tr>\n",
       "      <td>2</td>\n",
       "      <td>0.094542</td>\n",
       "    </tr>\n",
       "    <tr>\n",
       "      <td>3</td>\n",
       "      <td>0.081818</td>\n",
       "    </tr>\n",
       "    <tr>\n",
       "      <td>4</td>\n",
       "      <td>0.097561</td>\n",
       "    </tr>\n",
       "    <tr>\n",
       "      <td>5</td>\n",
       "      <td>0.000000</td>\n",
       "    </tr>\n",
       "    <tr>\n",
       "      <td>20</td>\n",
       "      <td>0.105263</td>\n",
       "    </tr>\n",
       "  </tbody>\n",
       "</table>\n",
       "</div>"
      ],
      "text/plain": [
       "              debt\n",
       "children          \n",
       "0         0.075258\n",
       "1         0.092346\n",
       "2         0.094542\n",
       "3         0.081818\n",
       "4         0.097561\n",
       "5         0.000000\n",
       "20        0.105263"
      ]
     },
     "execution_count": 43,
     "metadata": {},
     "output_type": "execute_result"
    }
   ],
   "source": [
    "# создание сводной таблицы по количеству детей \n",
    "df.pivot_table(index =['children'], values='debt', aggfunc='mean')"
   ]
  },
  {
   "cell_type": "markdown",
   "metadata": {},
   "source": [
    "**Вывод**"
   ]
  },
  {
   "cell_type": "markdown",
   "metadata": {},
   "source": [
    "Зависимость между наличием детей и возвратом кредита в срок невыявлена. Процент невозврата кредита в срок в каждой группе примерно одинаковый, около 0,1 или 10%. Наибольший процент невозврата кредита составил 10,53% в категории клиентов, у которых свыше 5 детей. У клиентов, количество детей у которых 5, процент равен нулю, что все кредиты были возвращены вовремя."
   ]
  },
  {
   "cell_type": "markdown",
   "metadata": {},
   "source": [
    "- Есть ли зависимость между семейным положением и возвратом кредита в срок?"
   ]
  },
  {
   "cell_type": "code",
   "execution_count": 44,
   "metadata": {},
   "outputs": [
    {
     "data": {
      "text/html": [
       "<div>\n",
       "<style scoped>\n",
       "    .dataframe tbody tr th:only-of-type {\n",
       "        vertical-align: middle;\n",
       "    }\n",
       "\n",
       "    .dataframe tbody tr th {\n",
       "        vertical-align: top;\n",
       "    }\n",
       "\n",
       "    .dataframe thead th {\n",
       "        text-align: right;\n",
       "    }\n",
       "</style>\n",
       "<table border=\"1\" class=\"dataframe\">\n",
       "  <thead>\n",
       "    <tr style=\"text-align: right;\">\n",
       "      <th></th>\n",
       "      <th>debt</th>\n",
       "    </tr>\n",
       "    <tr>\n",
       "      <th>family_status</th>\n",
       "      <th></th>\n",
       "    </tr>\n",
       "  </thead>\n",
       "  <tbody>\n",
       "    <tr>\n",
       "      <td>Не женат / не замужем</td>\n",
       "      <td>0.097509</td>\n",
       "    </tr>\n",
       "    <tr>\n",
       "      <td>в разводе</td>\n",
       "      <td>0.071130</td>\n",
       "    </tr>\n",
       "    <tr>\n",
       "      <td>вдовец / вдова</td>\n",
       "      <td>0.065693</td>\n",
       "    </tr>\n",
       "    <tr>\n",
       "      <td>гражданский брак</td>\n",
       "      <td>0.093471</td>\n",
       "    </tr>\n",
       "    <tr>\n",
       "      <td>женат / замужем</td>\n",
       "      <td>0.075452</td>\n",
       "    </tr>\n",
       "  </tbody>\n",
       "</table>\n",
       "</div>"
      ],
      "text/plain": [
       "                           debt\n",
       "family_status                  \n",
       "Не женат / не замужем  0.097509\n",
       "в разводе              0.071130\n",
       "вдовец / вдова         0.065693\n",
       "гражданский брак       0.093471\n",
       "женат / замужем        0.075452"
      ]
     },
     "execution_count": 44,
     "metadata": {},
     "output_type": "execute_result"
    }
   ],
   "source": [
    "# создание сводной таблицы по семейному положению\n",
    "df.pivot_table(index =['family_status'], values='debt', aggfunc='mean')"
   ]
  },
  {
   "cell_type": "markdown",
   "metadata": {},
   "source": [
    "**Вывод**"
   ]
  },
  {
   "cell_type": "markdown",
   "metadata": {},
   "source": [
    "Зависимость между семейным положением и возвратом кредита в срок невыявлена. Процент возврата кредита в срок в каждой группе примерно одинаковый. При этом, можно отметить, что наименьший процент невозврата кредита в срок у категорий клиентов, кто  является вдовцом (вдовой), а наибольший процент у катекорий, что живет в гражданском браке или вообще не женат (не замужем)"
   ]
  },
  {
   "cell_type": "markdown",
   "metadata": {},
   "source": [
    "- Есть ли зависимость между уровнем дохода и возвратом кредита в срок?"
   ]
  },
  {
   "cell_type": "code",
   "execution_count": 45,
   "metadata": {},
   "outputs": [
    {
     "data": {
      "text/plain": [
       "total_income_group    debt\n",
       "119254.0 - 142594.0   0       0.910937\n",
       "                      1       0.089063\n",
       "142594.0 - 172357.0   0       0.915693\n",
       "                      1       0.084307\n",
       "172357.0 - 228838.0   0       0.919430\n",
       "                      1       0.080570\n",
       "20666.0 - 92183.0     0       0.920089\n",
       "                      1       0.079911\n",
       "228838.0 - 2265604.0  0       0.929869\n",
       "                      1       0.070131\n",
       "92183.0 - 119254.0    0       0.917367\n",
       "                      1       0.082633\n",
       "Name: debt, dtype: float64"
      ]
     },
     "execution_count": 45,
     "metadata": {},
     "output_type": "execute_result"
    }
   ],
   "source": [
    "# группировка значений по уровню дохода и возврату кредита\n",
    "df.groupby('total_income_group')['debt'].value_counts(normalize=True)"
   ]
  },
  {
   "cell_type": "markdown",
   "metadata": {},
   "source": [
    "**Вывод**"
   ]
  },
  {
   "cell_type": "markdown",
   "metadata": {},
   "source": [
    "Зависимость между целью кредита и возвратом кредита в срок невыявлена. Данные были разделены на 6 категорий уровня дохода. Процент возврата кредита в срок в каждой так же примерно одинаковый. Наибольший процент (92%) возврата составил у двух групп с доходом от 20 до 92 тысяч в месяц и от 228 до 2265 тысяч в месяц. Остальные категории имеют 91% возвратов кредитов в срок."
   ]
  },
  {
   "cell_type": "markdown",
   "metadata": {},
   "source": [
    "- Как разные цели кредита влияют на его возврат в срок?"
   ]
  },
  {
   "cell_type": "code",
   "execution_count": 46,
   "metadata": {},
   "outputs": [
    {
     "data": {
      "text/plain": [
       "purpose_group               debt\n",
       "образование                 0       0.907800\n",
       "                            1       0.092200\n",
       "покупка автомобиля          0       0.906410\n",
       "                            1       0.093590\n",
       "покупка жилья/недвижимости  0       0.927666\n",
       "                            1       0.072334\n",
       "свадьба                     0       0.919966\n",
       "                            1       0.080034\n",
       "Name: debt, dtype: float64"
      ]
     },
     "execution_count": 46,
     "metadata": {},
     "output_type": "execute_result"
    }
   ],
   "source": [
    "# группировка значений по цели кредита и возврату кредита\n",
    "df.groupby('purpose_group')['debt'].value_counts(normalize=True)"
   ]
  },
  {
   "cell_type": "markdown",
   "metadata": {},
   "source": [
    "**Вывод**"
   ]
  },
  {
   "cell_type": "markdown",
   "metadata": {},
   "source": [
    "Зависимость между целью кредита и возвратом кредита в срок невыявлена. Процент возврата кредита в срок в каждой группе примерно одинаковый. 92% клиентов, взявших кредит на покупку жилья (недвижимости) или на свадьбу, вернули кредит в срок. А у клиентов, целью кредита которых было оьбразование или покупка втомобиля, это значение составило 90%."
   ]
  },
  {
   "cell_type": "markdown",
   "metadata": {},
   "source": [
    "## Шаг 4. Общий вывод"
   ]
  },
  {
   "cell_type": "markdown",
   "metadata": {},
   "source": [
    "Было проведено исследования влияния 4 признаков на факт погашения кредита в срок: количества детей, семейного положения, уровеня дохода и целей кредита. В ходе исследования были обнаружены ошибки, дубликаты и пропуски в данных. Проблемы в данных могли возникнуть по нескольким причинам: была произведена некорректная выгрузка данных или система сбора информации дала сбой, пропуски и ошибки могли быть оставленны умышленно/случайно самими клиентами банка.Чтобы это не повлияло на результат исследования, была проведена предобработка данных.\n",
    "\n",
    "Было удалено 54 дубликата, а также исправлено альтернативное написание значений, дабы убрать неявниые дубликаты, пропущенные значения были заменены на медианные для каждой группы соответственно.\n",
    "\n",
    "Чтобы ответить на вопрос, как влияют цели кредита на возврат в срок, была проведена лемматизация целей, в результате которой, было выделено 4 категории целей: покупка жилья/недвижимости, образование, покупка автомобиля и свадьба.\n",
    "\n",
    "Рассматривая влияние каждого признака на возврат кредита, были получены следующие результаты: процент возврата по кредиту в каждой группе примерно одинаковый и колеблется в районе 90%. То есть не было выявлено зависимости между признаками и возвратом кредита в срок."
   ]
  },
  {
   "cell_type": "code",
   "execution_count": null,
   "metadata": {},
   "outputs": [],
   "source": []
  }
 ],
 "metadata": {
  "ExecuteTimeLog": [
   {
    "duration": 783,
    "start_time": "2021-12-10T09:08:00.462Z"
   },
   {
    "duration": 67,
    "start_time": "2021-12-10T09:10:44.377Z"
   },
   {
    "duration": 30,
    "start_time": "2021-12-10T09:11:53.859Z"
   },
   {
    "duration": 15,
    "start_time": "2021-12-10T09:12:50.331Z"
   },
   {
    "duration": 550,
    "start_time": "2021-12-11T12:00:46.454Z"
   },
   {
    "duration": 718,
    "start_time": "2021-12-11T12:00:51.114Z"
   },
   {
    "duration": 53,
    "start_time": "2021-12-11T12:00:52.081Z"
   },
   {
    "duration": 21,
    "start_time": "2021-12-11T12:00:53.104Z"
   },
   {
    "duration": 11,
    "start_time": "2021-12-11T12:01:01.290Z"
   },
   {
    "duration": 21,
    "start_time": "2021-12-11T12:01:06.303Z"
   },
   {
    "duration": 14,
    "start_time": "2021-12-11T12:01:16.746Z"
   },
   {
    "duration": 17,
    "start_time": "2021-12-11T12:08:35.349Z"
   },
   {
    "duration": 4,
    "start_time": "2021-12-11T12:48:04.685Z"
   },
   {
    "duration": 6,
    "start_time": "2021-12-11T12:48:22.911Z"
   },
   {
    "duration": 6,
    "start_time": "2021-12-11T12:53:20.789Z"
   },
   {
    "duration": 7,
    "start_time": "2021-12-11T12:53:36.661Z"
   },
   {
    "duration": 9,
    "start_time": "2021-12-11T12:53:46.221Z"
   },
   {
    "duration": 5,
    "start_time": "2021-12-11T13:11:12.612Z"
   },
   {
    "duration": 7,
    "start_time": "2021-12-11T13:11:33.237Z"
   },
   {
    "duration": 5,
    "start_time": "2021-12-11T13:12:03.317Z"
   },
   {
    "duration": 10,
    "start_time": "2021-12-11T13:12:13.438Z"
   },
   {
    "duration": 10,
    "start_time": "2021-12-11T13:14:42.891Z"
   },
   {
    "duration": 11,
    "start_time": "2021-12-11T13:15:16.285Z"
   },
   {
    "duration": 13,
    "start_time": "2021-12-11T13:28:18.687Z"
   },
   {
    "duration": 13,
    "start_time": "2021-12-11T13:33:35.756Z"
   },
   {
    "duration": 84,
    "start_time": "2021-12-11T13:34:09.726Z"
   },
   {
    "duration": 9,
    "start_time": "2021-12-11T13:34:21.957Z"
   },
   {
    "duration": 8,
    "start_time": "2021-12-11T13:43:10.802Z"
   },
   {
    "duration": 5,
    "start_time": "2021-12-11T13:43:19.162Z"
   },
   {
    "duration": 3,
    "start_time": "2021-12-11T13:45:14.185Z"
   },
   {
    "duration": 417,
    "start_time": "2021-12-11T13:49:11.552Z"
   },
   {
    "duration": 10,
    "start_time": "2021-12-11T13:50:49.528Z"
   },
   {
    "duration": 264,
    "start_time": "2021-12-11T14:10:51.838Z"
   },
   {
    "duration": 11,
    "start_time": "2021-12-11T14:19:30.620Z"
   },
   {
    "duration": 12,
    "start_time": "2021-12-11T14:19:48.468Z"
   },
   {
    "duration": 9,
    "start_time": "2021-12-11T14:20:23.906Z"
   },
   {
    "duration": 9,
    "start_time": "2021-12-11T14:25:09.386Z"
   },
   {
    "duration": 14,
    "start_time": "2021-12-11T14:26:06.458Z"
   },
   {
    "duration": 11,
    "start_time": "2021-12-11T14:26:26.352Z"
   },
   {
    "duration": 7,
    "start_time": "2021-12-11T14:31:14.563Z"
   },
   {
    "duration": 4,
    "start_time": "2021-12-11T14:38:40.555Z"
   },
   {
    "duration": 10,
    "start_time": "2021-12-11T14:44:47.098Z"
   },
   {
    "duration": 11,
    "start_time": "2021-12-11T14:45:00.762Z"
   },
   {
    "duration": 6,
    "start_time": "2021-12-11T14:45:23.770Z"
   },
   {
    "duration": 6,
    "start_time": "2021-12-11T14:46:57.281Z"
   },
   {
    "duration": 3,
    "start_time": "2021-12-11T14:49:38.544Z"
   },
   {
    "duration": 262,
    "start_time": "2021-12-11T14:49:53.608Z"
   },
   {
    "duration": 798,
    "start_time": "2021-12-11T14:50:20.560Z"
   },
   {
    "duration": 537,
    "start_time": "2021-12-11T14:50:54.167Z"
   },
   {
    "duration": 8,
    "start_time": "2021-12-11T14:51:02.103Z"
   },
   {
    "duration": 10,
    "start_time": "2021-12-11T14:51:11.735Z"
   },
   {
    "duration": 6,
    "start_time": "2021-12-11T14:54:59.973Z"
   },
   {
    "duration": 10,
    "start_time": "2021-12-11T14:55:02.677Z"
   },
   {
    "duration": 4,
    "start_time": "2021-12-11T14:56:53.438Z"
   },
   {
    "duration": 94,
    "start_time": "2021-12-11T14:59:42.147Z"
   },
   {
    "duration": 257,
    "start_time": "2021-12-11T14:59:57.635Z"
   },
   {
    "duration": 5,
    "start_time": "2021-12-11T15:01:17.684Z"
   },
   {
    "duration": 11,
    "start_time": "2021-12-11T15:01:21.019Z"
   },
   {
    "duration": 364,
    "start_time": "2021-12-11T15:01:36.549Z"
   },
   {
    "duration": 6,
    "start_time": "2021-12-11T15:08:44.290Z"
   },
   {
    "duration": 10,
    "start_time": "2021-12-11T15:08:46.857Z"
   },
   {
    "duration": 5,
    "start_time": "2021-12-11T15:10:28.131Z"
   },
   {
    "duration": 5,
    "start_time": "2021-12-11T15:10:34.656Z"
   },
   {
    "duration": 5,
    "start_time": "2021-12-11T15:11:08.847Z"
   },
   {
    "duration": 288,
    "start_time": "2021-12-11T15:11:11.137Z"
   },
   {
    "duration": 6,
    "start_time": "2021-12-11T15:12:04.120Z"
   },
   {
    "duration": 5,
    "start_time": "2021-12-11T15:13:05.286Z"
   },
   {
    "duration": 8,
    "start_time": "2021-12-11T15:13:51.224Z"
   },
   {
    "duration": 10,
    "start_time": "2021-12-11T15:15:12.072Z"
   },
   {
    "duration": 435,
    "start_time": "2021-12-11T15:15:43.702Z"
   },
   {
    "duration": 3,
    "start_time": "2021-12-11T15:15:53.350Z"
   },
   {
    "duration": 272,
    "start_time": "2021-12-11T15:16:12.094Z"
   },
   {
    "duration": 318,
    "start_time": "2021-12-11T15:20:47.068Z"
   },
   {
    "duration": 6,
    "start_time": "2021-12-11T15:21:06.052Z"
   },
   {
    "duration": 3,
    "start_time": "2021-12-11T15:26:31.962Z"
   },
   {
    "duration": 6,
    "start_time": "2021-12-11T15:26:33.570Z"
   },
   {
    "duration": 10,
    "start_time": "2021-12-11T15:26:35.931Z"
   },
   {
    "duration": 5,
    "start_time": "2021-12-11T15:29:54.370Z"
   },
   {
    "duration": 10,
    "start_time": "2021-12-11T15:29:56.567Z"
   },
   {
    "duration": 6,
    "start_time": "2021-12-11T15:32:38.360Z"
   },
   {
    "duration": 258,
    "start_time": "2021-12-11T15:34:17.727Z"
   },
   {
    "duration": 2,
    "start_time": "2021-12-11T15:34:28.086Z"
   },
   {
    "duration": 50,
    "start_time": "2021-12-11T15:34:28.687Z"
   },
   {
    "duration": 14,
    "start_time": "2021-12-11T15:34:29.596Z"
   },
   {
    "duration": 10,
    "start_time": "2021-12-11T15:34:35.880Z"
   },
   {
    "duration": 9,
    "start_time": "2021-12-11T15:34:41.344Z"
   },
   {
    "duration": 7,
    "start_time": "2021-12-11T15:34:45.783Z"
   },
   {
    "duration": 26,
    "start_time": "2021-12-11T15:36:55.102Z"
   },
   {
    "duration": 10,
    "start_time": "2021-12-11T15:36:59.518Z"
   },
   {
    "duration": 8,
    "start_time": "2021-12-11T18:30:12.362Z"
   },
   {
    "duration": 88,
    "start_time": "2021-12-11T18:42:50.164Z"
   },
   {
    "duration": 8,
    "start_time": "2021-12-11T18:46:38.450Z"
   },
   {
    "duration": 269,
    "start_time": "2021-12-11T18:48:15.435Z"
   },
   {
    "duration": 308,
    "start_time": "2021-12-11T18:48:27.817Z"
   },
   {
    "duration": 97,
    "start_time": "2021-12-11T18:48:48.458Z"
   },
   {
    "duration": 5,
    "start_time": "2021-12-11T18:48:54.065Z"
   },
   {
    "duration": 5,
    "start_time": "2021-12-11T18:49:06.050Z"
   },
   {
    "duration": 16,
    "start_time": "2021-12-11T18:50:26.695Z"
   },
   {
    "duration": 15,
    "start_time": "2021-12-11T18:50:40.954Z"
   },
   {
    "duration": 7,
    "start_time": "2021-12-11T18:50:56.146Z"
   },
   {
    "duration": 13,
    "start_time": "2021-12-11T18:51:58.778Z"
   },
   {
    "duration": 9,
    "start_time": "2021-12-11T18:53:13.872Z"
   },
   {
    "duration": 7,
    "start_time": "2021-12-11T18:53:35.080Z"
   },
   {
    "duration": 13,
    "start_time": "2021-12-11T18:53:38.728Z"
   },
   {
    "duration": 7,
    "start_time": "2021-12-11T18:53:46.016Z"
   },
   {
    "duration": 13,
    "start_time": "2021-12-11T18:53:49.582Z"
   },
   {
    "duration": 9,
    "start_time": "2021-12-11T18:53:50.616Z"
   },
   {
    "duration": 10,
    "start_time": "2021-12-11T18:54:44.120Z"
   },
   {
    "duration": 4,
    "start_time": "2021-12-11T19:00:29.296Z"
   },
   {
    "duration": 5,
    "start_time": "2021-12-11T19:00:58.885Z"
   },
   {
    "duration": 6,
    "start_time": "2021-12-11T19:01:45.041Z"
   },
   {
    "duration": 4,
    "start_time": "2021-12-11T19:02:07.443Z"
   },
   {
    "duration": 4,
    "start_time": "2021-12-11T19:02:20.084Z"
   },
   {
    "duration": 5,
    "start_time": "2021-12-11T19:02:37.556Z"
   },
   {
    "duration": 5,
    "start_time": "2021-12-11T19:02:54.460Z"
   },
   {
    "duration": 16,
    "start_time": "2021-12-11T19:09:25.850Z"
   },
   {
    "duration": 15,
    "start_time": "2021-12-11T19:10:32.321Z"
   },
   {
    "duration": 35,
    "start_time": "2021-12-11T19:10:38.754Z"
   },
   {
    "duration": 18,
    "start_time": "2021-12-11T19:11:25.490Z"
   },
   {
    "duration": 37,
    "start_time": "2021-12-11T19:11:47.482Z"
   },
   {
    "duration": 18,
    "start_time": "2021-12-11T19:14:59.920Z"
   },
   {
    "duration": 9,
    "start_time": "2021-12-11T19:35:45.120Z"
   },
   {
    "duration": 944,
    "start_time": "2021-12-11T19:47:18.196Z"
   },
   {
    "duration": 257,
    "start_time": "2021-12-11T19:51:17.306Z"
   },
   {
    "duration": 12814,
    "start_time": "2021-12-11T19:54:05.258Z"
   },
   {
    "duration": 13,
    "start_time": "2021-12-11T19:54:52.936Z"
   },
   {
    "duration": 15,
    "start_time": "2021-12-11T19:55:14.598Z"
   },
   {
    "duration": 13455,
    "start_time": "2021-12-11T19:57:00.104Z"
   },
   {
    "duration": 14,
    "start_time": "2021-12-11T19:57:22.088Z"
   },
   {
    "duration": 12544,
    "start_time": "2021-12-11T20:00:03.520Z"
   },
   {
    "duration": 12115,
    "start_time": "2021-12-11T20:00:53.110Z"
   },
   {
    "duration": 3,
    "start_time": "2021-12-11T20:01:25.936Z"
   },
   {
    "duration": 3,
    "start_time": "2021-12-11T20:01:45.831Z"
   },
   {
    "duration": 6,
    "start_time": "2021-12-11T20:02:26.421Z"
   },
   {
    "duration": 6,
    "start_time": "2021-12-11T20:03:17.028Z"
   },
   {
    "duration": 10380,
    "start_time": "2021-12-11T20:04:06.244Z"
   },
   {
    "duration": 10404,
    "start_time": "2021-12-11T20:04:27.340Z"
   },
   {
    "duration": 12220,
    "start_time": "2021-12-11T20:04:46.924Z"
   },
   {
    "duration": 13,
    "start_time": "2021-12-11T20:06:03.540Z"
   },
   {
    "duration": 265,
    "start_time": "2021-12-11T20:09:48.434Z"
   },
   {
    "duration": 265,
    "start_time": "2021-12-11T20:11:31.314Z"
   },
   {
    "duration": 265,
    "start_time": "2021-12-11T20:11:44.387Z"
   },
   {
    "duration": 114,
    "start_time": "2021-12-11T20:13:25.457Z"
   },
   {
    "duration": 251,
    "start_time": "2021-12-11T20:13:46.304Z"
   },
   {
    "duration": 80,
    "start_time": "2021-12-11T20:14:25.210Z"
   },
   {
    "duration": 87,
    "start_time": "2021-12-11T20:14:31.666Z"
   },
   {
    "duration": 676,
    "start_time": "2021-12-11T20:15:31.953Z"
   },
   {
    "duration": 4458,
    "start_time": "2021-12-11T20:21:30.912Z"
   },
   {
    "duration": 3553,
    "start_time": "2021-12-11T20:22:49.878Z"
   },
   {
    "duration": 3934,
    "start_time": "2021-12-11T20:23:53.574Z"
   },
   {
    "duration": 3815,
    "start_time": "2021-12-11T20:24:16.094Z"
   },
   {
    "duration": 3575,
    "start_time": "2021-12-11T20:24:31.022Z"
   },
   {
    "duration": 12431,
    "start_time": "2021-12-11T20:24:58.944Z"
   },
   {
    "duration": 8897,
    "start_time": "2021-12-11T20:25:53.748Z"
   },
   {
    "duration": 12,
    "start_time": "2021-12-11T20:26:20.562Z"
   },
   {
    "duration": 8500,
    "start_time": "2021-12-11T20:27:14.302Z"
   },
   {
    "duration": 281,
    "start_time": "2021-12-11T20:28:33.308Z"
   },
   {
    "duration": 286,
    "start_time": "2021-12-11T20:29:19.076Z"
   },
   {
    "duration": 412,
    "start_time": "2021-12-11T20:29:46.820Z"
   },
   {
    "duration": 251,
    "start_time": "2021-12-11T20:30:15.164Z"
   },
   {
    "duration": 9171,
    "start_time": "2021-12-11T20:30:30.826Z"
   },
   {
    "duration": 8771,
    "start_time": "2021-12-11T20:30:51.204Z"
   },
   {
    "duration": 18923,
    "start_time": "2021-12-11T20:31:20.156Z"
   },
   {
    "duration": 13,
    "start_time": "2021-12-11T20:31:46.090Z"
   },
   {
    "duration": 8588,
    "start_time": "2021-12-11T20:32:17.022Z"
   },
   {
    "duration": 9624,
    "start_time": "2021-12-11T20:34:04.347Z"
   },
   {
    "duration": 12,
    "start_time": "2021-12-11T20:34:15.889Z"
   },
   {
    "duration": 3,
    "start_time": "2021-12-11T20:37:05.928Z"
   },
   {
    "duration": 709,
    "start_time": "2021-12-11T20:38:36.687Z"
   },
   {
    "duration": 268,
    "start_time": "2021-12-11T20:38:58.471Z"
   },
   {
    "duration": 4,
    "start_time": "2021-12-11T20:39:06.439Z"
   },
   {
    "duration": 257,
    "start_time": "2021-12-11T20:39:26.986Z"
   },
   {
    "duration": 4,
    "start_time": "2021-12-11T20:40:28.605Z"
   },
   {
    "duration": 4,
    "start_time": "2021-12-11T20:40:44.725Z"
   },
   {
    "duration": 8790,
    "start_time": "2021-12-11T20:41:10.895Z"
   },
   {
    "duration": 12786,
    "start_time": "2021-12-11T20:43:07.905Z"
   },
   {
    "duration": 13,
    "start_time": "2021-12-11T20:43:23.035Z"
   },
   {
    "duration": 12496,
    "start_time": "2021-12-11T20:43:38.749Z"
   },
   {
    "duration": 12,
    "start_time": "2021-12-11T20:43:57.197Z"
   },
   {
    "duration": 14,
    "start_time": "2021-12-11T20:44:18.325Z"
   },
   {
    "duration": 3472,
    "start_time": "2021-12-11T20:44:29.684Z"
   },
   {
    "duration": 13,
    "start_time": "2021-12-11T20:44:39.821Z"
   },
   {
    "duration": 772,
    "start_time": "2021-12-11T20:45:08.157Z"
   },
   {
    "duration": 12,
    "start_time": "2021-12-11T20:45:11.979Z"
   },
   {
    "duration": 270,
    "start_time": "2021-12-11T20:45:32.877Z"
   },
   {
    "duration": 275,
    "start_time": "2021-12-11T20:45:39.267Z"
   },
   {
    "duration": 264,
    "start_time": "2021-12-11T20:46:01.747Z"
   },
   {
    "duration": 598,
    "start_time": "2021-12-11T20:46:20.270Z"
   },
   {
    "duration": 257,
    "start_time": "2021-12-11T20:49:52.828Z"
   },
   {
    "duration": 278,
    "start_time": "2021-12-11T20:52:26.554Z"
   },
   {
    "duration": 277,
    "start_time": "2021-12-11T20:53:01.995Z"
   },
   {
    "duration": 4,
    "start_time": "2021-12-11T20:53:20.642Z"
   },
   {
    "duration": 3330,
    "start_time": "2021-12-11T20:55:13.721Z"
   },
   {
    "duration": 12,
    "start_time": "2021-12-11T20:55:46.608Z"
   },
   {
    "duration": 260,
    "start_time": "2021-12-11T21:00:38.232Z"
   },
   {
    "duration": 3732,
    "start_time": "2021-12-11T21:01:19.110Z"
   },
   {
    "duration": 396,
    "start_time": "2021-12-11T21:03:37.768Z"
   },
   {
    "duration": 358,
    "start_time": "2021-12-11T21:03:47.448Z"
   },
   {
    "duration": 12165,
    "start_time": "2021-12-11T21:04:35.038Z"
   },
   {
    "duration": 12,
    "start_time": "2021-12-11T21:04:50.182Z"
   },
   {
    "duration": 4,
    "start_time": "2021-12-11T21:05:07.358Z"
   },
   {
    "duration": 4,
    "start_time": "2021-12-11T21:05:23.061Z"
   },
   {
    "duration": 260,
    "start_time": "2021-12-11T21:05:27.366Z"
   },
   {
    "duration": 4,
    "start_time": "2021-12-11T21:05:57.991Z"
   },
   {
    "duration": 4,
    "start_time": "2021-12-11T21:06:01.982Z"
   },
   {
    "duration": 262,
    "start_time": "2021-12-11T21:07:07.682Z"
   },
   {
    "duration": 315,
    "start_time": "2021-12-11T21:07:27.404Z"
   },
   {
    "duration": 3861,
    "start_time": "2021-12-11T21:11:15.116Z"
   },
   {
    "duration": 3577,
    "start_time": "2021-12-11T21:11:23.796Z"
   },
   {
    "duration": 3512,
    "start_time": "2021-12-11T21:11:31.036Z"
   },
   {
    "duration": 3901,
    "start_time": "2021-12-11T21:12:41.282Z"
   },
   {
    "duration": 3677,
    "start_time": "2021-12-11T21:14:11.585Z"
   },
   {
    "duration": 15,
    "start_time": "2021-12-11T21:14:22.223Z"
   },
   {
    "duration": 3544,
    "start_time": "2021-12-11T21:22:37.079Z"
   },
   {
    "duration": 12,
    "start_time": "2021-12-11T21:22:53.613Z"
   },
   {
    "duration": 3489,
    "start_time": "2021-12-11T21:23:08.863Z"
   },
   {
    "duration": 12,
    "start_time": "2021-12-11T21:23:37.261Z"
   },
   {
    "duration": 303,
    "start_time": "2021-12-11T21:25:19.518Z"
   },
   {
    "duration": 259,
    "start_time": "2021-12-11T21:25:29.031Z"
   },
   {
    "duration": 279,
    "start_time": "2021-12-11T21:26:05.814Z"
   },
   {
    "duration": 256,
    "start_time": "2021-12-11T21:26:16.222Z"
   },
   {
    "duration": 3204,
    "start_time": "2021-12-11T21:26:26.509Z"
   },
   {
    "duration": 12,
    "start_time": "2021-12-11T21:26:33.909Z"
   },
   {
    "duration": 13,
    "start_time": "2021-12-12T13:15:34.333Z"
   },
   {
    "duration": 503,
    "start_time": "2021-12-12T13:39:37.672Z"
   },
   {
    "duration": 562,
    "start_time": "2021-12-12T13:40:03.129Z"
   },
   {
    "duration": 4198,
    "start_time": "2021-12-12T13:42:34.215Z"
   },
   {
    "duration": 14,
    "start_time": "2021-12-12T13:42:40.957Z"
   },
   {
    "duration": 12,
    "start_time": "2021-12-12T13:55:12.072Z"
   },
   {
    "duration": 12,
    "start_time": "2021-12-12T13:57:01.408Z"
   },
   {
    "duration": 54,
    "start_time": "2021-12-12T14:06:27.508Z"
   },
   {
    "duration": 9,
    "start_time": "2021-12-12T14:14:54.216Z"
   },
   {
    "duration": 7,
    "start_time": "2021-12-12T14:24:30.358Z"
   },
   {
    "duration": 7,
    "start_time": "2021-12-12T14:25:09.719Z"
   },
   {
    "duration": 9,
    "start_time": "2021-12-12T14:35:31.874Z"
   },
   {
    "duration": 8,
    "start_time": "2021-12-12T14:41:31.710Z"
   },
   {
    "duration": 9,
    "start_time": "2021-12-12T14:45:05.158Z"
   },
   {
    "duration": 3,
    "start_time": "2021-12-12T14:51:15.282Z"
   },
   {
    "duration": 4,
    "start_time": "2021-12-12T14:52:10.122Z"
   },
   {
    "duration": 2,
    "start_time": "2021-12-12T15:01:33.470Z"
   },
   {
    "duration": 3,
    "start_time": "2021-12-12T15:02:51.608Z"
   },
   {
    "duration": 596,
    "start_time": "2021-12-12T15:02:53.233Z"
   },
   {
    "duration": 3,
    "start_time": "2021-12-12T15:04:48.958Z"
   },
   {
    "duration": 677,
    "start_time": "2021-12-12T15:04:50.517Z"
   },
   {
    "duration": 3,
    "start_time": "2021-12-12T15:05:36.013Z"
   },
   {
    "duration": 4,
    "start_time": "2021-12-12T15:05:38.341Z"
   },
   {
    "duration": 4,
    "start_time": "2021-12-12T15:08:22.853Z"
   },
   {
    "duration": 5,
    "start_time": "2021-12-12T15:09:06.908Z"
   },
   {
    "duration": 4,
    "start_time": "2021-12-12T15:09:17.379Z"
   },
   {
    "duration": 3,
    "start_time": "2021-12-12T15:10:00.464Z"
   },
   {
    "duration": 5,
    "start_time": "2021-12-12T15:10:05.181Z"
   },
   {
    "duration": 4,
    "start_time": "2021-12-12T15:10:33.740Z"
   },
   {
    "duration": 21,
    "start_time": "2021-12-12T15:19:34.495Z"
   },
   {
    "duration": 14,
    "start_time": "2021-12-12T15:41:58.269Z"
   },
   {
    "duration": 14,
    "start_time": "2021-12-12T15:42:13.903Z"
   },
   {
    "duration": 9,
    "start_time": "2021-12-12T15:43:41.757Z"
   },
   {
    "duration": 8,
    "start_time": "2021-12-12T15:44:59.088Z"
   },
   {
    "duration": 90,
    "start_time": "2021-12-12T15:45:32.807Z"
   },
   {
    "duration": 10,
    "start_time": "2021-12-12T15:45:38.310Z"
   },
   {
    "duration": 11,
    "start_time": "2021-12-12T15:46:21.565Z"
   },
   {
    "duration": 11,
    "start_time": "2021-12-12T15:47:20.748Z"
   },
   {
    "duration": 275,
    "start_time": "2021-12-12T15:50:56.093Z"
   },
   {
    "duration": 282,
    "start_time": "2021-12-12T15:52:00.820Z"
   },
   {
    "duration": 23,
    "start_time": "2021-12-12T15:52:41.515Z"
   },
   {
    "duration": 282,
    "start_time": "2021-12-12T15:53:06.562Z"
   },
   {
    "duration": 410,
    "start_time": "2021-12-12T15:53:22.164Z"
   },
   {
    "duration": 264,
    "start_time": "2021-12-12T15:56:02.571Z"
   },
   {
    "duration": 275,
    "start_time": "2021-12-12T15:56:51.385Z"
   },
   {
    "duration": 11,
    "start_time": "2021-12-12T15:57:30.817Z"
   },
   {
    "duration": 11,
    "start_time": "2021-12-12T15:57:43.681Z"
   },
   {
    "duration": 11,
    "start_time": "2021-12-12T15:58:43.721Z"
   },
   {
    "duration": 21,
    "start_time": "2021-12-12T16:00:21.377Z"
   },
   {
    "duration": 21,
    "start_time": "2021-12-12T16:00:25.633Z"
   },
   {
    "duration": 23,
    "start_time": "2021-12-12T16:00:31.981Z"
   },
   {
    "duration": 22,
    "start_time": "2021-12-12T16:00:34.049Z"
   },
   {
    "duration": 23,
    "start_time": "2021-12-12T16:00:35.393Z"
   },
   {
    "duration": 23,
    "start_time": "2021-12-12T16:00:36.759Z"
   },
   {
    "duration": 36,
    "start_time": "2021-12-12T16:00:38.200Z"
   },
   {
    "duration": 21,
    "start_time": "2021-12-12T16:00:39.487Z"
   },
   {
    "duration": 21,
    "start_time": "2021-12-12T16:00:41.128Z"
   },
   {
    "duration": 21,
    "start_time": "2021-12-12T16:00:43.632Z"
   },
   {
    "duration": 21,
    "start_time": "2021-12-12T16:00:45.303Z"
   },
   {
    "duration": 22,
    "start_time": "2021-12-12T16:00:47.615Z"
   },
   {
    "duration": 22,
    "start_time": "2021-12-12T16:00:49.723Z"
   },
   {
    "duration": 25,
    "start_time": "2021-12-12T16:00:50.992Z"
   },
   {
    "duration": 21,
    "start_time": "2021-12-12T16:00:52.296Z"
   },
   {
    "duration": 21,
    "start_time": "2021-12-12T16:00:53.551Z"
   },
   {
    "duration": 22,
    "start_time": "2021-12-12T16:00:55.496Z"
   },
   {
    "duration": 21,
    "start_time": "2021-12-12T16:00:57.312Z"
   },
   {
    "duration": 21,
    "start_time": "2021-12-12T16:00:58.696Z"
   },
   {
    "duration": 24,
    "start_time": "2021-12-12T16:00:59.992Z"
   },
   {
    "duration": 21,
    "start_time": "2021-12-12T16:01:01.464Z"
   },
   {
    "duration": 20,
    "start_time": "2021-12-12T16:01:02.865Z"
   },
   {
    "duration": 20,
    "start_time": "2021-12-12T16:01:03.943Z"
   },
   {
    "duration": 20,
    "start_time": "2021-12-12T16:01:05.263Z"
   },
   {
    "duration": 20,
    "start_time": "2021-12-12T16:01:07.266Z"
   },
   {
    "duration": 20,
    "start_time": "2021-12-12T16:01:08.920Z"
   },
   {
    "duration": 26,
    "start_time": "2021-12-12T16:01:10.425Z"
   },
   {
    "duration": 21,
    "start_time": "2021-12-12T16:01:12.059Z"
   },
   {
    "duration": 21,
    "start_time": "2021-12-12T16:01:13.498Z"
   },
   {
    "duration": 23,
    "start_time": "2021-12-12T16:01:16.239Z"
   },
   {
    "duration": 21,
    "start_time": "2021-12-12T16:01:17.551Z"
   },
   {
    "duration": 21,
    "start_time": "2021-12-12T16:01:18.656Z"
   },
   {
    "duration": 21,
    "start_time": "2021-12-12T16:01:19.695Z"
   },
   {
    "duration": 21,
    "start_time": "2021-12-12T16:01:21.843Z"
   },
   {
    "duration": 20,
    "start_time": "2021-12-12T16:01:32.425Z"
   },
   {
    "duration": 35,
    "start_time": "2021-12-12T16:03:26.233Z"
   },
   {
    "duration": 13,
    "start_time": "2021-12-12T16:09:03.415Z"
   },
   {
    "duration": 268,
    "start_time": "2021-12-12T16:09:46.285Z"
   },
   {
    "duration": 85,
    "start_time": "2021-12-12T16:10:11.085Z"
   },
   {
    "duration": 15,
    "start_time": "2021-12-12T16:11:09.819Z"
   },
   {
    "duration": 610,
    "start_time": "2021-12-12T16:11:36.246Z"
   },
   {
    "duration": 265,
    "start_time": "2021-12-12T16:11:53.467Z"
   },
   {
    "duration": 87,
    "start_time": "2021-12-12T16:15:22.843Z"
   },
   {
    "duration": 9,
    "start_time": "2021-12-12T16:15:35.705Z"
   },
   {
    "duration": 4,
    "start_time": "2021-12-12T16:17:34.955Z"
   },
   {
    "duration": 6,
    "start_time": "2021-12-12T16:21:33.583Z"
   },
   {
    "duration": 13,
    "start_time": "2021-12-12T16:21:56.111Z"
   },
   {
    "duration": 6,
    "start_time": "2021-12-12T16:25:50.863Z"
   },
   {
    "duration": 6,
    "start_time": "2021-12-12T16:26:02.615Z"
   },
   {
    "duration": 8,
    "start_time": "2021-12-12T16:26:21.247Z"
   },
   {
    "duration": 9,
    "start_time": "2021-12-12T16:46:42.887Z"
   },
   {
    "duration": 10,
    "start_time": "2021-12-12T16:54:21.019Z"
   },
   {
    "duration": 15,
    "start_time": "2021-12-12T16:56:21.649Z"
   },
   {
    "duration": 10,
    "start_time": "2021-12-12T16:57:57.571Z"
   },
   {
    "duration": 11,
    "start_time": "2021-12-12T17:03:21.734Z"
   },
   {
    "duration": 10,
    "start_time": "2021-12-12T17:03:45.959Z"
   },
   {
    "duration": 10,
    "start_time": "2021-12-12T17:04:26.632Z"
   },
   {
    "duration": 277,
    "start_time": "2021-12-12T17:04:58.903Z"
   },
   {
    "duration": 13,
    "start_time": "2021-12-12T17:06:09.039Z"
   },
   {
    "duration": 11,
    "start_time": "2021-12-12T17:06:25.623Z"
   },
   {
    "duration": 17,
    "start_time": "2021-12-12T17:08:11.317Z"
   },
   {
    "duration": 14,
    "start_time": "2021-12-12T17:08:40.101Z"
   },
   {
    "duration": 10,
    "start_time": "2021-12-12T17:08:55.176Z"
   },
   {
    "duration": 6,
    "start_time": "2021-12-12T17:09:30.058Z"
   },
   {
    "duration": 278,
    "start_time": "2021-12-12T17:10:10.069Z"
   },
   {
    "duration": 11,
    "start_time": "2021-12-12T17:10:27.117Z"
   },
   {
    "duration": 7250,
    "start_time": "2021-12-12T17:11:40.292Z"
   },
   {
    "duration": 313,
    "start_time": "2021-12-12T17:12:16.866Z"
   },
   {
    "duration": 7,
    "start_time": "2021-12-12T17:15:01.786Z"
   },
   {
    "duration": 7983,
    "start_time": "2021-12-12T17:15:28.268Z"
   },
   {
    "duration": 10,
    "start_time": "2021-12-12T17:15:43.787Z"
   },
   {
    "duration": 297,
    "start_time": "2021-12-12T17:16:18.163Z"
   },
   {
    "duration": 10,
    "start_time": "2021-12-12T17:18:32.561Z"
   },
   {
    "duration": 251,
    "start_time": "2021-12-12T17:23:28.279Z"
   },
   {
    "duration": 13,
    "start_time": "2021-12-12T17:23:43.392Z"
   },
   {
    "duration": 14,
    "start_time": "2021-12-12T17:24:02.008Z"
   },
   {
    "duration": 18,
    "start_time": "2021-12-12T17:24:18.343Z"
   },
   {
    "duration": 48,
    "start_time": "2021-12-12T17:25:03.480Z"
   },
   {
    "duration": 14,
    "start_time": "2021-12-12T17:25:04.471Z"
   },
   {
    "duration": 11,
    "start_time": "2021-12-12T17:25:09.247Z"
   },
   {
    "duration": 10,
    "start_time": "2021-12-12T17:25:12.063Z"
   },
   {
    "duration": 7,
    "start_time": "2021-12-12T17:25:14.833Z"
   },
   {
    "duration": 13,
    "start_time": "2021-12-12T17:25:17.198Z"
   },
   {
    "duration": 8,
    "start_time": "2021-12-12T17:25:19.455Z"
   },
   {
    "duration": 14,
    "start_time": "2021-12-12T17:25:27.751Z"
   },
   {
    "duration": 10,
    "start_time": "2021-12-12T17:25:28.821Z"
   },
   {
    "duration": 5,
    "start_time": "2021-12-12T17:25:31.455Z"
   },
   {
    "duration": 5,
    "start_time": "2021-12-12T17:25:32.127Z"
   },
   {
    "duration": 15,
    "start_time": "2021-12-12T17:25:35.453Z"
   },
   {
    "duration": 17,
    "start_time": "2021-12-12T17:25:36.111Z"
   },
   {
    "duration": 14,
    "start_time": "2021-12-12T17:25:36.720Z"
   },
   {
    "duration": 20,
    "start_time": "2021-12-12T17:25:39.280Z"
   },
   {
    "duration": 3846,
    "start_time": "2021-12-12T17:25:39.919Z"
   },
   {
    "duration": 3394,
    "start_time": "2021-12-12T17:25:43.767Z"
   },
   {
    "duration": 12,
    "start_time": "2021-12-12T17:25:47.163Z"
   },
   {
    "duration": 9,
    "start_time": "2021-12-12T17:25:50.791Z"
   },
   {
    "duration": 2,
    "start_time": "2021-12-12T17:25:53.600Z"
   },
   {
    "duration": 4,
    "start_time": "2021-12-12T17:25:54.191Z"
   },
   {
    "duration": 20,
    "start_time": "2021-12-12T17:25:57.632Z"
   },
   {
    "duration": 6,
    "start_time": "2021-12-12T17:26:01.639Z"
   },
   {
    "duration": 8,
    "start_time": "2021-12-12T17:26:02.517Z"
   },
   {
    "duration": 6,
    "start_time": "2021-12-12T17:26:03.133Z"
   },
   {
    "duration": 10,
    "start_time": "2021-12-12T17:26:07.487Z"
   },
   {
    "duration": 10,
    "start_time": "2021-12-12T17:26:11.167Z"
   },
   {
    "duration": 247,
    "start_time": "2021-12-12T17:26:22.911Z"
   },
   {
    "duration": 6,
    "start_time": "2021-12-12T17:26:37.669Z"
   },
   {
    "duration": 14,
    "start_time": "2021-12-12T17:26:38.633Z"
   },
   {
    "duration": 14,
    "start_time": "2021-12-12T17:27:36.015Z"
   },
   {
    "duration": 7,
    "start_time": "2021-12-12T17:28:35.368Z"
   },
   {
    "duration": 7,
    "start_time": "2021-12-12T17:28:46.606Z"
   },
   {
    "duration": 11,
    "start_time": "2021-12-12T17:29:07.749Z"
   },
   {
    "duration": 10,
    "start_time": "2021-12-12T17:31:22.401Z"
   },
   {
    "duration": 10,
    "start_time": "2021-12-12T17:31:31.042Z"
   },
   {
    "duration": 9,
    "start_time": "2021-12-12T17:31:36.099Z"
   },
   {
    "duration": 10,
    "start_time": "2021-12-12T17:31:45.790Z"
   },
   {
    "duration": 11,
    "start_time": "2021-12-12T17:37:06.481Z"
   },
   {
    "duration": 10,
    "start_time": "2021-12-12T17:37:15.332Z"
   },
   {
    "duration": 16,
    "start_time": "2021-12-12T17:37:43.249Z"
   },
   {
    "duration": 12,
    "start_time": "2021-12-12T17:37:55.523Z"
   },
   {
    "duration": 11,
    "start_time": "2021-12-12T17:38:17.619Z"
   },
   {
    "duration": 12,
    "start_time": "2021-12-12T17:38:23.026Z"
   },
   {
    "duration": 13,
    "start_time": "2021-12-12T17:38:35.786Z"
   },
   {
    "duration": 14,
    "start_time": "2021-12-12T17:39:04.049Z"
   },
   {
    "duration": 15,
    "start_time": "2021-12-12T17:39:22.305Z"
   },
   {
    "duration": 3,
    "start_time": "2021-12-12T17:45:09.864Z"
   },
   {
    "duration": 519,
    "start_time": "2021-12-12T17:45:31.863Z"
   },
   {
    "duration": 3,
    "start_time": "2021-12-12T17:46:02.848Z"
   },
   {
    "duration": 500,
    "start_time": "2021-12-12T17:46:07.256Z"
   },
   {
    "duration": 508,
    "start_time": "2021-12-12T17:46:36.230Z"
   },
   {
    "duration": 1367,
    "start_time": "2021-12-12T17:47:23.074Z"
   },
   {
    "duration": 3,
    "start_time": "2021-12-12T17:47:39.886Z"
   },
   {
    "duration": 3,
    "start_time": "2021-12-12T17:47:41.045Z"
   },
   {
    "duration": 19,
    "start_time": "2021-12-12T17:49:11.288Z"
   },
   {
    "duration": 13,
    "start_time": "2021-12-12T17:49:49.884Z"
   },
   {
    "duration": 13,
    "start_time": "2021-12-12T17:56:26.670Z"
   },
   {
    "duration": 835,
    "start_time": "2021-12-13T15:09:17.632Z"
   },
   {
    "duration": 66,
    "start_time": "2021-12-13T15:09:18.470Z"
   },
   {
    "duration": 39,
    "start_time": "2021-12-13T15:09:18.539Z"
   },
   {
    "duration": 15,
    "start_time": "2021-12-13T15:09:18.581Z"
   },
   {
    "duration": 44,
    "start_time": "2021-12-13T15:09:18.598Z"
   },
   {
    "duration": 22,
    "start_time": "2021-12-13T15:09:18.645Z"
   },
   {
    "duration": 44,
    "start_time": "2021-12-13T15:09:18.670Z"
   },
   {
    "duration": 15,
    "start_time": "2021-12-13T15:09:18.717Z"
   },
   {
    "duration": 53,
    "start_time": "2021-12-13T15:09:18.739Z"
   },
   {
    "duration": 19,
    "start_time": "2021-12-13T15:09:18.796Z"
   },
   {
    "duration": 20,
    "start_time": "2021-12-13T15:09:18.819Z"
   },
   {
    "duration": 46,
    "start_time": "2021-12-13T15:09:18.843Z"
   },
   {
    "duration": 72,
    "start_time": "2021-12-13T15:09:18.892Z"
   },
   {
    "duration": 40,
    "start_time": "2021-12-13T15:09:18.967Z"
   },
   {
    "duration": 35,
    "start_time": "2021-12-13T15:09:19.011Z"
   },
   {
    "duration": 9,
    "start_time": "2021-12-13T15:09:19.068Z"
   },
   {
    "duration": 6796,
    "start_time": "2021-12-13T15:09:19.080Z"
   },
   {
    "duration": 6028,
    "start_time": "2021-12-13T15:09:25.880Z"
   },
   {
    "duration": 20,
    "start_time": "2021-12-13T15:09:31.911Z"
   },
   {
    "duration": 44,
    "start_time": "2021-12-13T15:09:31.934Z"
   },
   {
    "duration": 6,
    "start_time": "2021-12-13T15:09:31.981Z"
   },
   {
    "duration": 18,
    "start_time": "2021-12-13T15:09:31.990Z"
   },
   {
    "duration": 58,
    "start_time": "2021-12-13T15:09:32.011Z"
   },
   {
    "duration": 11,
    "start_time": "2021-12-13T15:09:32.073Z"
   },
   {
    "duration": 13,
    "start_time": "2021-12-13T15:09:32.086Z"
   },
   {
    "duration": 14,
    "start_time": "2021-12-13T15:09:32.101Z"
   },
   {
    "duration": 48,
    "start_time": "2021-12-13T15:09:32.120Z"
   },
   {
    "duration": 14,
    "start_time": "2021-12-13T15:09:32.171Z"
   },
   {
    "duration": 39,
    "start_time": "2021-12-13T15:09:32.187Z"
   },
   {
    "duration": 25,
    "start_time": "2021-12-13T15:09:32.228Z"
   },
   {
    "duration": 12,
    "start_time": "2021-12-13T15:09:32.256Z"
   },
   {
    "duration": 34,
    "start_time": "2021-12-13T15:09:32.271Z"
   },
   {
    "duration": 61,
    "start_time": "2021-12-13T15:09:32.307Z"
   },
   {
    "duration": 13,
    "start_time": "2021-12-13T15:09:32.371Z"
   },
   {
    "duration": 9,
    "start_time": "2021-12-13T15:28:11.061Z"
   },
   {
    "duration": 921,
    "start_time": "2021-12-13T15:28:30.934Z"
   },
   {
    "duration": 66,
    "start_time": "2021-12-13T15:28:31.858Z"
   },
   {
    "duration": 44,
    "start_time": "2021-12-13T15:28:31.928Z"
   },
   {
    "duration": 23,
    "start_time": "2021-12-13T15:28:31.976Z"
   },
   {
    "duration": 28,
    "start_time": "2021-12-13T15:28:32.002Z"
   },
   {
    "duration": 33,
    "start_time": "2021-12-13T15:28:32.033Z"
   },
   {
    "duration": 5336,
    "start_time": "2021-12-13T15:28:36.031Z"
   },
   {
    "duration": 8606,
    "start_time": "2021-12-13T15:29:07.806Z"
   },
   {
    "duration": 8947,
    "start_time": "2021-12-13T15:30:57.499Z"
   },
   {
    "duration": 8382,
    "start_time": "2021-12-13T15:31:16.584Z"
   },
   {
    "duration": 20,
    "start_time": "2021-12-13T15:36:24.281Z"
   },
   {
    "duration": 6,
    "start_time": "2021-12-13T15:39:56.610Z"
   },
   {
    "duration": 9,
    "start_time": "2021-12-13T15:40:07.977Z"
   },
   {
    "duration": 27,
    "start_time": "2021-12-13T15:40:26.590Z"
   },
   {
    "duration": 5,
    "start_time": "2021-12-13T15:40:37.269Z"
   },
   {
    "duration": 11,
    "start_time": "2021-12-13T15:41:15.141Z"
   },
   {
    "duration": 21,
    "start_time": "2021-12-13T15:41:36.030Z"
   },
   {
    "duration": 18,
    "start_time": "2021-12-13T15:41:36.768Z"
   },
   {
    "duration": 8,
    "start_time": "2021-12-13T15:43:03.467Z"
   },
   {
    "duration": 7,
    "start_time": "2021-12-13T15:43:07.233Z"
   },
   {
    "duration": 35,
    "start_time": "2021-12-13T15:44:56.396Z"
   },
   {
    "duration": 39,
    "start_time": "2021-12-13T15:44:59.479Z"
   },
   {
    "duration": 34,
    "start_time": "2021-12-13T15:45:00.536Z"
   },
   {
    "duration": 488,
    "start_time": "2021-12-13T15:50:33.512Z"
   },
   {
    "duration": 49,
    "start_time": "2021-12-13T15:50:39.120Z"
   },
   {
    "duration": 36,
    "start_time": "2021-12-13T15:53:02.101Z"
   },
   {
    "duration": 33,
    "start_time": "2021-12-13T15:53:16.842Z"
   },
   {
    "duration": 9,
    "start_time": "2021-12-13T15:57:42.166Z"
   },
   {
    "duration": 5976,
    "start_time": "2021-12-13T15:59:11.838Z"
   },
   {
    "duration": 33,
    "start_time": "2021-12-13T16:02:20.520Z"
   },
   {
    "duration": 4811,
    "start_time": "2021-12-13T16:03:55.430Z"
   },
   {
    "duration": 21,
    "start_time": "2021-12-13T16:06:21.281Z"
   },
   {
    "duration": 15,
    "start_time": "2021-12-13T16:11:11.324Z"
   },
   {
    "duration": 4,
    "start_time": "2021-12-13T16:19:26.193Z"
   },
   {
    "duration": 6,
    "start_time": "2021-12-13T16:22:27.204Z"
   },
   {
    "duration": 32,
    "start_time": "2021-12-13T16:22:51.913Z"
   },
   {
    "duration": 8,
    "start_time": "2021-12-13T16:25:42.404Z"
   },
   {
    "duration": 13,
    "start_time": "2021-12-13T16:26:00.889Z"
   },
   {
    "duration": 8,
    "start_time": "2021-12-13T16:26:02.175Z"
   },
   {
    "duration": 12,
    "start_time": "2021-12-13T16:27:16.045Z"
   },
   {
    "duration": 14,
    "start_time": "2021-12-13T16:32:59.405Z"
   },
   {
    "duration": 21,
    "start_time": "2021-12-13T16:35:30.693Z"
   },
   {
    "duration": 6,
    "start_time": "2021-12-13T16:36:09.440Z"
   },
   {
    "duration": 5,
    "start_time": "2021-12-13T16:36:13.247Z"
   },
   {
    "duration": 34,
    "start_time": "2021-12-13T16:42:04.835Z"
   },
   {
    "duration": 20,
    "start_time": "2021-12-13T16:42:37.411Z"
   },
   {
    "duration": 13,
    "start_time": "2021-12-13T16:43:38.032Z"
   },
   {
    "duration": 900,
    "start_time": "2021-12-13T16:48:56.588Z"
   },
   {
    "duration": 68,
    "start_time": "2021-12-13T16:48:57.492Z"
   },
   {
    "duration": 34,
    "start_time": "2021-12-13T16:48:57.563Z"
   },
   {
    "duration": 40,
    "start_time": "2021-12-13T16:48:57.601Z"
   },
   {
    "duration": 22,
    "start_time": "2021-12-13T16:48:57.644Z"
   },
   {
    "duration": 18,
    "start_time": "2021-12-13T16:48:57.669Z"
   },
   {
    "duration": 42,
    "start_time": "2021-12-13T16:48:57.689Z"
   },
   {
    "duration": 27,
    "start_time": "2021-12-13T16:48:57.735Z"
   },
   {
    "duration": 50,
    "start_time": "2021-12-13T16:48:57.765Z"
   },
   {
    "duration": 20,
    "start_time": "2021-12-13T16:48:57.818Z"
   },
   {
    "duration": 35,
    "start_time": "2021-12-13T16:48:57.840Z"
   },
   {
    "duration": 15,
    "start_time": "2021-12-13T16:48:57.877Z"
   },
   {
    "duration": 56,
    "start_time": "2021-12-13T16:48:57.895Z"
   },
   {
    "duration": 37,
    "start_time": "2021-12-13T16:48:57.954Z"
   },
   {
    "duration": 42,
    "start_time": "2021-12-13T16:48:57.994Z"
   },
   {
    "duration": 7,
    "start_time": "2021-12-13T16:48:58.039Z"
   },
   {
    "duration": 6257,
    "start_time": "2021-12-13T16:48:58.049Z"
   },
   {
    "duration": 6340,
    "start_time": "2021-12-13T16:49:04.309Z"
   },
   {
    "duration": 44,
    "start_time": "2021-12-13T16:49:10.656Z"
   },
   {
    "duration": 19,
    "start_time": "2021-12-13T16:49:10.702Z"
   },
   {
    "duration": 24,
    "start_time": "2021-12-13T16:49:10.724Z"
   },
   {
    "duration": 42,
    "start_time": "2021-12-13T16:49:10.751Z"
   },
   {
    "duration": 56,
    "start_time": "2021-12-13T16:49:10.800Z"
   },
   {
    "duration": 14,
    "start_time": "2021-12-13T16:49:10.860Z"
   },
   {
    "duration": 28,
    "start_time": "2021-12-13T16:49:10.877Z"
   },
   {
    "duration": 20,
    "start_time": "2021-12-13T16:49:10.908Z"
   },
   {
    "duration": 36,
    "start_time": "2021-12-13T16:49:10.931Z"
   },
   {
    "duration": 17,
    "start_time": "2021-12-13T16:49:10.970Z"
   },
   {
    "duration": 37,
    "start_time": "2021-12-13T16:49:10.989Z"
   },
   {
    "duration": 37,
    "start_time": "2021-12-13T16:49:11.029Z"
   },
   {
    "duration": 32,
    "start_time": "2021-12-13T16:49:11.069Z"
   },
   {
    "duration": 66,
    "start_time": "2021-12-13T16:49:11.104Z"
   },
   {
    "duration": 49,
    "start_time": "2021-12-13T16:49:11.173Z"
   },
   {
    "duration": 35,
    "start_time": "2021-12-13T16:49:11.225Z"
   },
   {
    "duration": 786,
    "start_time": "2021-12-13T16:57:40.510Z"
   },
   {
    "duration": 67,
    "start_time": "2021-12-13T16:57:41.298Z"
   },
   {
    "duration": 32,
    "start_time": "2021-12-13T16:57:41.368Z"
   },
   {
    "duration": 17,
    "start_time": "2021-12-13T16:57:41.404Z"
   },
   {
    "duration": 48,
    "start_time": "2021-12-13T16:57:41.425Z"
   },
   {
    "duration": 13,
    "start_time": "2021-12-13T16:57:41.476Z"
   },
   {
    "duration": 33,
    "start_time": "2021-12-13T16:57:41.492Z"
   },
   {
    "duration": 40,
    "start_time": "2021-12-13T16:57:41.528Z"
   },
   {
    "duration": 21,
    "start_time": "2021-12-13T16:57:41.574Z"
   },
   {
    "duration": 14,
    "start_time": "2021-12-13T16:57:41.600Z"
   },
   {
    "duration": 6,
    "start_time": "2021-12-13T16:57:41.616Z"
   },
   {
    "duration": 44,
    "start_time": "2021-12-13T16:57:41.625Z"
   },
   {
    "duration": 28,
    "start_time": "2021-12-13T16:57:41.672Z"
   },
   {
    "duration": 27,
    "start_time": "2021-12-13T16:57:41.703Z"
   },
   {
    "duration": 49,
    "start_time": "2021-12-13T16:57:41.733Z"
   },
   {
    "duration": 5,
    "start_time": "2021-12-13T16:57:41.784Z"
   },
   {
    "duration": 5852,
    "start_time": "2021-12-13T16:57:41.792Z"
   },
   {
    "duration": 5320,
    "start_time": "2021-12-13T16:57:47.647Z"
   },
   {
    "duration": 23,
    "start_time": "2021-12-13T16:57:52.970Z"
   },
   {
    "duration": 16,
    "start_time": "2021-12-13T16:57:52.995Z"
   },
   {
    "duration": 7,
    "start_time": "2021-12-13T16:57:53.013Z"
   },
   {
    "duration": 47,
    "start_time": "2021-12-13T16:57:53.023Z"
   },
   {
    "duration": 38,
    "start_time": "2021-12-13T16:57:53.073Z"
   },
   {
    "duration": 9,
    "start_time": "2021-12-13T16:57:53.113Z"
   },
   {
    "duration": 43,
    "start_time": "2021-12-13T16:57:53.124Z"
   },
   {
    "duration": 9,
    "start_time": "2021-12-13T16:57:53.169Z"
   },
   {
    "duration": 18,
    "start_time": "2021-12-13T16:57:53.183Z"
   },
   {
    "duration": 18,
    "start_time": "2021-12-13T16:57:53.205Z"
   },
   {
    "duration": 57,
    "start_time": "2021-12-13T16:57:53.226Z"
   },
   {
    "duration": 5,
    "start_time": "2021-12-13T16:57:53.288Z"
   },
   {
    "duration": 13,
    "start_time": "2021-12-13T16:57:53.297Z"
   },
   {
    "duration": 57,
    "start_time": "2021-12-13T16:57:53.312Z"
   },
   {
    "duration": 20,
    "start_time": "2021-12-13T16:57:53.372Z"
   },
   {
    "duration": 13,
    "start_time": "2021-12-13T16:57:53.394Z"
   },
   {
    "duration": 80,
    "start_time": "2021-12-13T19:23:12.197Z"
   },
   {
    "duration": 558,
    "start_time": "2021-12-13T19:26:38.909Z"
   },
   {
    "duration": 52,
    "start_time": "2021-12-13T19:26:40.129Z"
   },
   {
    "duration": 18,
    "start_time": "2021-12-13T19:26:45.079Z"
   },
   {
    "duration": 11,
    "start_time": "2021-12-13T19:26:49.559Z"
   },
   {
    "duration": 12,
    "start_time": "2021-12-13T19:27:01.879Z"
   },
   {
    "duration": 375,
    "start_time": "2021-12-13T19:29:19.821Z"
   },
   {
    "duration": 4,
    "start_time": "2021-12-13T19:30:25.428Z"
   },
   {
    "duration": 7,
    "start_time": "2021-12-13T19:30:32.005Z"
   },
   {
    "duration": 5,
    "start_time": "2021-12-13T19:40:20.512Z"
   },
   {
    "duration": 13,
    "start_time": "2021-12-13T19:41:03.793Z"
   },
   {
    "duration": 13,
    "start_time": "2021-12-13T19:41:16.047Z"
   },
   {
    "duration": 13,
    "start_time": "2021-12-13T19:41:17.953Z"
   },
   {
    "duration": 13,
    "start_time": "2021-12-13T19:41:19.416Z"
   },
   {
    "duration": 12,
    "start_time": "2021-12-13T19:41:20.847Z"
   },
   {
    "duration": 11,
    "start_time": "2021-12-13T19:41:23.658Z"
   },
   {
    "duration": 12,
    "start_time": "2021-12-13T19:41:25.217Z"
   },
   {
    "duration": 13,
    "start_time": "2021-12-13T19:41:26.665Z"
   },
   {
    "duration": 11,
    "start_time": "2021-12-13T19:41:29.129Z"
   },
   {
    "duration": 12,
    "start_time": "2021-12-13T19:41:30.263Z"
   },
   {
    "duration": 13,
    "start_time": "2021-12-13T19:41:32.072Z"
   },
   {
    "duration": 13,
    "start_time": "2021-12-13T19:41:33.161Z"
   },
   {
    "duration": 13,
    "start_time": "2021-12-13T19:41:35.041Z"
   },
   {
    "duration": 20,
    "start_time": "2021-12-13T19:41:45.033Z"
   },
   {
    "duration": 12,
    "start_time": "2021-12-13T19:42:18.665Z"
   },
   {
    "duration": 13,
    "start_time": "2021-12-13T19:42:20.937Z"
   },
   {
    "duration": 13,
    "start_time": "2021-12-13T19:42:22.824Z"
   },
   {
    "duration": 12,
    "start_time": "2021-12-13T19:42:25.113Z"
   },
   {
    "duration": 13,
    "start_time": "2021-12-13T19:42:26.904Z"
   },
   {
    "duration": 12,
    "start_time": "2021-12-13T19:42:28.953Z"
   },
   {
    "duration": 4,
    "start_time": "2021-12-13T19:42:56.857Z"
   },
   {
    "duration": 5,
    "start_time": "2021-12-13T19:43:42.473Z"
   },
   {
    "duration": 4,
    "start_time": "2021-12-13T19:44:43.209Z"
   },
   {
    "duration": 226,
    "start_time": "2021-12-13T19:44:57.902Z"
   },
   {
    "duration": 6,
    "start_time": "2021-12-13T19:46:11.206Z"
   },
   {
    "duration": 366,
    "start_time": "2021-12-14T16:42:58.966Z"
   },
   {
    "duration": 741,
    "start_time": "2021-12-14T16:43:05.697Z"
   },
   {
    "duration": 65,
    "start_time": "2021-12-14T16:43:06.449Z"
   },
   {
    "duration": 30,
    "start_time": "2021-12-14T16:43:09.265Z"
   },
   {
    "duration": 15,
    "start_time": "2021-12-14T16:43:17.714Z"
   },
   {
    "duration": 13,
    "start_time": "2021-12-14T16:43:21.858Z"
   },
   {
    "duration": 5,
    "start_time": "2021-12-14T16:43:24.826Z"
   },
   {
    "duration": 11,
    "start_time": "2021-12-14T16:43:25.722Z"
   },
   {
    "duration": 21,
    "start_time": "2021-12-14T16:43:29.914Z"
   },
   {
    "duration": 10,
    "start_time": "2021-12-14T16:43:32.778Z"
   },
   {
    "duration": 22,
    "start_time": "2021-12-14T16:43:35.538Z"
   },
   {
    "duration": 13,
    "start_time": "2021-12-14T16:43:36.290Z"
   },
   {
    "duration": 7,
    "start_time": "2021-12-14T16:43:39.131Z"
   },
   {
    "duration": 7,
    "start_time": "2021-12-14T16:43:40.146Z"
   },
   {
    "duration": 25,
    "start_time": "2021-12-14T16:43:43.290Z"
   },
   {
    "duration": 26,
    "start_time": "2021-12-14T16:43:44.266Z"
   },
   {
    "duration": 26,
    "start_time": "2021-12-14T16:43:45.025Z"
   },
   {
    "duration": 7,
    "start_time": "2021-12-14T16:43:47.436Z"
   },
   {
    "duration": 7,
    "start_time": "2021-12-14T16:43:48.920Z"
   },
   {
    "duration": 10,
    "start_time": "2021-12-14T16:44:09.787Z"
   },
   {
    "duration": 33,
    "start_time": "2021-12-14T16:45:03.331Z"
   },
   {
    "duration": 9,
    "start_time": "2021-12-14T16:46:30.690Z"
   },
   {
    "duration": 421,
    "start_time": "2021-12-14T16:46:49.009Z"
   },
   {
    "duration": 13,
    "start_time": "2021-12-14T16:47:23.215Z"
   },
   {
    "duration": 31,
    "start_time": "2021-12-14T16:48:01.048Z"
   },
   {
    "duration": 165,
    "start_time": "2021-12-14T16:48:40.722Z"
   },
   {
    "duration": 19,
    "start_time": "2021-12-14T16:48:46.336Z"
   },
   {
    "duration": 32,
    "start_time": "2021-12-14T16:50:05.791Z"
   },
   {
    "duration": 11,
    "start_time": "2021-12-14T16:50:18.882Z"
   },
   {
    "duration": 272,
    "start_time": "2021-12-14T16:50:41.784Z"
   },
   {
    "duration": 269,
    "start_time": "2021-12-14T16:51:10.359Z"
   },
   {
    "duration": 13,
    "start_time": "2021-12-14T16:51:15.367Z"
   },
   {
    "duration": 318,
    "start_time": "2021-12-14T17:06:32.122Z"
   },
   {
    "duration": 5,
    "start_time": "2021-12-14T17:10:40.456Z"
   },
   {
    "duration": 7,
    "start_time": "2021-12-14T17:11:00.504Z"
   },
   {
    "duration": 275,
    "start_time": "2021-12-14T17:14:59.438Z"
   },
   {
    "duration": 16,
    "start_time": "2021-12-14T17:17:24.700Z"
   },
   {
    "duration": 8,
    "start_time": "2021-12-14T17:17:27.532Z"
   },
   {
    "duration": 17,
    "start_time": "2021-12-14T17:18:21.996Z"
   },
   {
    "duration": 335,
    "start_time": "2021-12-14T17:19:04.804Z"
   },
   {
    "duration": 318,
    "start_time": "2021-12-14T17:25:03.827Z"
   },
   {
    "duration": 331,
    "start_time": "2021-12-14T17:25:10.859Z"
   },
   {
    "duration": 15,
    "start_time": "2021-12-14T17:25:28.411Z"
   },
   {
    "duration": 11,
    "start_time": "2021-12-14T17:25:30.715Z"
   },
   {
    "duration": 60,
    "start_time": "2021-12-14T17:27:05.443Z"
   },
   {
    "duration": 22,
    "start_time": "2021-12-14T17:27:07.920Z"
   },
   {
    "duration": 15,
    "start_time": "2021-12-14T17:27:11.282Z"
   },
   {
    "duration": 13,
    "start_time": "2021-12-14T17:27:14.827Z"
   },
   {
    "duration": 5,
    "start_time": "2021-12-14T17:27:17.938Z"
   },
   {
    "duration": 10,
    "start_time": "2021-12-14T17:27:18.529Z"
   },
   {
    "duration": 23,
    "start_time": "2021-12-14T17:27:21.186Z"
   },
   {
    "duration": 11,
    "start_time": "2021-12-14T17:27:23.947Z"
   },
   {
    "duration": 21,
    "start_time": "2021-12-14T17:27:24.579Z"
   },
   {
    "duration": 18,
    "start_time": "2021-12-14T17:27:25.153Z"
   },
   {
    "duration": 7,
    "start_time": "2021-12-14T17:27:28.323Z"
   },
   {
    "duration": 7,
    "start_time": "2021-12-14T17:27:28.912Z"
   },
   {
    "duration": 23,
    "start_time": "2021-12-14T17:27:32.115Z"
   },
   {
    "duration": 28,
    "start_time": "2021-12-14T17:27:32.665Z"
   },
   {
    "duration": 23,
    "start_time": "2021-12-14T17:27:33.256Z"
   },
   {
    "duration": 7,
    "start_time": "2021-12-14T17:27:37.570Z"
   },
   {
    "duration": 6,
    "start_time": "2021-12-14T17:28:04.154Z"
   },
   {
    "duration": 6,
    "start_time": "2021-12-14T17:28:12.456Z"
   },
   {
    "duration": 5,
    "start_time": "2021-12-14T17:28:22.584Z"
   },
   {
    "duration": 5,
    "start_time": "2021-12-14T17:28:27.906Z"
   },
   {
    "duration": 395,
    "start_time": "2021-12-14T17:31:35.065Z"
   },
   {
    "duration": 325,
    "start_time": "2021-12-14T17:31:43.705Z"
   },
   {
    "duration": 806,
    "start_time": "2021-12-14T17:39:21.441Z"
   },
   {
    "duration": 89,
    "start_time": "2021-12-14T17:39:22.968Z"
   },
   {
    "duration": 30,
    "start_time": "2021-12-14T17:39:24.729Z"
   },
   {
    "duration": 16,
    "start_time": "2021-12-14T17:39:26.856Z"
   },
   {
    "duration": 14,
    "start_time": "2021-12-14T17:39:28.912Z"
   },
   {
    "duration": 6,
    "start_time": "2021-12-14T17:39:31.313Z"
   },
   {
    "duration": 14,
    "start_time": "2021-12-14T17:39:31.944Z"
   },
   {
    "duration": 22,
    "start_time": "2021-12-14T17:39:34.008Z"
   },
   {
    "duration": 11,
    "start_time": "2021-12-14T17:39:35.928Z"
   },
   {
    "duration": 21,
    "start_time": "2021-12-14T17:39:37.672Z"
   },
   {
    "duration": 13,
    "start_time": "2021-12-14T17:39:39.000Z"
   },
   {
    "duration": 7,
    "start_time": "2021-12-14T17:39:41.128Z"
   },
   {
    "duration": 9,
    "start_time": "2021-12-14T17:39:42.481Z"
   },
   {
    "duration": 35,
    "start_time": "2021-12-14T17:39:44.592Z"
   },
   {
    "duration": 42,
    "start_time": "2021-12-14T17:39:45.152Z"
   },
   {
    "duration": 25,
    "start_time": "2021-12-14T17:39:45.905Z"
   },
   {
    "duration": 7,
    "start_time": "2021-12-14T17:39:47.776Z"
   },
   {
    "duration": 9,
    "start_time": "2021-12-14T17:39:49.585Z"
   },
   {
    "duration": 151,
    "start_time": "2021-12-14T17:40:33.337Z"
   },
   {
    "duration": 11,
    "start_time": "2021-12-14T17:40:39.520Z"
   },
   {
    "duration": 9,
    "start_time": "2021-12-14T17:40:59.448Z"
   },
   {
    "duration": 7,
    "start_time": "2021-12-14T18:41:57.673Z"
   },
   {
    "duration": 8,
    "start_time": "2021-12-14T18:41:59.479Z"
   },
   {
    "duration": 8,
    "start_time": "2021-12-14T18:42:00.504Z"
   },
   {
    "duration": 6,
    "start_time": "2021-12-14T18:49:10.590Z"
   },
   {
    "duration": 8,
    "start_time": "2021-12-14T18:50:08.276Z"
   },
   {
    "duration": 8,
    "start_time": "2021-12-14T18:50:21.222Z"
   },
   {
    "duration": 7,
    "start_time": "2021-12-14T18:50:24.917Z"
   },
   {
    "duration": 8,
    "start_time": "2021-12-14T18:51:07.974Z"
   },
   {
    "duration": 6,
    "start_time": "2021-12-14T18:51:18.411Z"
   },
   {
    "duration": 9,
    "start_time": "2021-12-14T18:55:11.374Z"
   },
   {
    "duration": 9,
    "start_time": "2021-12-14T18:55:26.323Z"
   },
   {
    "duration": 7,
    "start_time": "2021-12-14T18:55:38.483Z"
   },
   {
    "duration": 391,
    "start_time": "2021-12-14T18:55:51.323Z"
   },
   {
    "duration": 287,
    "start_time": "2021-12-14T18:56:11.923Z"
   },
   {
    "duration": 256,
    "start_time": "2021-12-14T18:56:16.235Z"
   },
   {
    "duration": 7,
    "start_time": "2021-12-14T18:56:49.467Z"
   },
   {
    "duration": 10,
    "start_time": "2021-12-14T18:57:01.276Z"
   },
   {
    "duration": 4,
    "start_time": "2021-12-14T19:10:13.014Z"
   },
   {
    "duration": 11,
    "start_time": "2021-12-14T19:10:50.901Z"
   },
   {
    "duration": 285,
    "start_time": "2021-12-14T19:11:22.727Z"
   },
   {
    "duration": 9,
    "start_time": "2021-12-14T19:11:41.679Z"
   },
   {
    "duration": 9,
    "start_time": "2021-12-14T19:11:58.918Z"
   },
   {
    "duration": 252,
    "start_time": "2021-12-14T19:12:14.213Z"
   },
   {
    "duration": 11,
    "start_time": "2021-12-14T19:12:18.421Z"
   },
   {
    "duration": 407,
    "start_time": "2021-12-14T19:15:38.509Z"
   },
   {
    "duration": 11,
    "start_time": "2021-12-14T19:16:10.508Z"
   },
   {
    "duration": 258,
    "start_time": "2021-12-14T19:16:31.044Z"
   },
   {
    "duration": 9,
    "start_time": "2021-12-14T19:16:35.108Z"
   },
   {
    "duration": 7,
    "start_time": "2021-12-14T19:18:26.570Z"
   },
   {
    "duration": 11,
    "start_time": "2021-12-14T19:18:45.988Z"
   },
   {
    "duration": 263,
    "start_time": "2021-12-14T19:19:08.937Z"
   },
   {
    "duration": 321,
    "start_time": "2021-12-14T19:19:23.689Z"
   },
   {
    "duration": 250,
    "start_time": "2021-12-14T19:19:29.692Z"
   },
   {
    "duration": 259,
    "start_time": "2021-12-14T19:19:45.490Z"
   },
   {
    "duration": 10,
    "start_time": "2021-12-14T19:20:01.913Z"
   },
   {
    "duration": 8,
    "start_time": "2021-12-14T19:20:34.818Z"
   },
   {
    "duration": 3763,
    "start_time": "2021-12-14T19:21:57.113Z"
   },
   {
    "duration": 11,
    "start_time": "2021-12-14T19:22:31.842Z"
   },
   {
    "duration": 258,
    "start_time": "2021-12-14T19:23:17.720Z"
   },
   {
    "duration": 9,
    "start_time": "2021-12-14T19:23:21.912Z"
   },
   {
    "duration": 13,
    "start_time": "2021-12-14T19:23:41.000Z"
   },
   {
    "duration": 10,
    "start_time": "2021-12-14T19:24:18.143Z"
   },
   {
    "duration": 4,
    "start_time": "2021-12-14T19:24:36.320Z"
   },
   {
    "duration": 484,
    "start_time": "2021-12-14T19:24:36.984Z"
   },
   {
    "duration": 24,
    "start_time": "2021-12-14T19:24:39.974Z"
   },
   {
    "duration": 16,
    "start_time": "2021-12-14T19:24:43.560Z"
   },
   {
    "duration": 13,
    "start_time": "2021-12-14T19:24:46.696Z"
   },
   {
    "duration": 5,
    "start_time": "2021-12-14T19:24:49.696Z"
   },
   {
    "duration": 13,
    "start_time": "2021-12-14T19:24:50.272Z"
   },
   {
    "duration": 22,
    "start_time": "2021-12-14T19:24:53.920Z"
   },
   {
    "duration": 11,
    "start_time": "2021-12-14T19:24:59.136Z"
   },
   {
    "duration": 22,
    "start_time": "2021-12-14T19:25:03.512Z"
   },
   {
    "duration": 188,
    "start_time": "2021-12-14T19:25:04.175Z"
   },
   {
    "duration": 6,
    "start_time": "2021-12-14T19:25:07.824Z"
   },
   {
    "duration": 7,
    "start_time": "2021-12-14T19:25:08.399Z"
   },
   {
    "duration": 25,
    "start_time": "2021-12-14T19:25:11.807Z"
   },
   {
    "duration": 28,
    "start_time": "2021-12-14T19:25:12.408Z"
   },
   {
    "duration": 23,
    "start_time": "2021-12-14T19:25:12.967Z"
   },
   {
    "duration": 7,
    "start_time": "2021-12-14T19:25:15.720Z"
   },
   {
    "duration": 252,
    "start_time": "2021-12-14T19:25:16.392Z"
   },
   {
    "duration": 13,
    "start_time": "2021-12-14T19:25:17.008Z"
   },
   {
    "duration": 9,
    "start_time": "2021-12-14T19:25:20.800Z"
   },
   {
    "duration": 8,
    "start_time": "2021-12-14T19:25:21.591Z"
   },
   {
    "duration": 10,
    "start_time": "2021-12-14T19:25:22.288Z"
   },
   {
    "duration": 8,
    "start_time": "2021-12-14T19:25:25.240Z"
   },
   {
    "duration": 279,
    "start_time": "2021-12-14T19:25:31.200Z"
   },
   {
    "duration": 10,
    "start_time": "2021-12-14T19:26:15.671Z"
   },
   {
    "duration": 309,
    "start_time": "2021-12-14T19:27:00.192Z"
   },
   {
    "duration": 8,
    "start_time": "2021-12-14T19:27:40.447Z"
   },
   {
    "duration": 10,
    "start_time": "2021-12-14T19:27:50.119Z"
   },
   {
    "duration": 9,
    "start_time": "2021-12-14T19:28:06.415Z"
   },
   {
    "duration": 10,
    "start_time": "2021-12-14T19:28:34.374Z"
   },
   {
    "duration": 14,
    "start_time": "2021-12-14T19:29:22.398Z"
   },
   {
    "duration": 12,
    "start_time": "2021-12-14T19:29:52.638Z"
   },
   {
    "duration": 14,
    "start_time": "2021-12-14T19:30:36.117Z"
   },
   {
    "duration": 11,
    "start_time": "2021-12-14T19:32:23.237Z"
   },
   {
    "duration": 11,
    "start_time": "2021-12-14T19:32:38.109Z"
   },
   {
    "duration": 8,
    "start_time": "2021-12-14T19:40:32.732Z"
   },
   {
    "duration": 4,
    "start_time": "2021-12-14T19:40:39.682Z"
   },
   {
    "duration": 12,
    "start_time": "2021-12-14T19:40:40.931Z"
   },
   {
    "duration": 383,
    "start_time": "2021-12-14T19:40:41.736Z"
   },
   {
    "duration": 10,
    "start_time": "2021-12-14T19:40:42.450Z"
   },
   {
    "duration": 8,
    "start_time": "2021-12-14T19:46:06.088Z"
   },
   {
    "duration": 1221,
    "start_time": "2021-12-14T19:46:38.416Z"
   },
   {
    "duration": 1622,
    "start_time": "2021-12-14T19:46:52.968Z"
   },
   {
    "duration": 6407,
    "start_time": "2021-12-14T19:49:11.504Z"
   },
   {
    "duration": 25,
    "start_time": "2021-12-14T19:52:01.324Z"
   },
   {
    "duration": 4,
    "start_time": "2021-12-14T20:33:44.790Z"
   },
   {
    "duration": 338,
    "start_time": "2021-12-14T20:34:24.309Z"
   },
   {
    "duration": 4940,
    "start_time": "2021-12-14T20:34:38.127Z"
   },
   {
    "duration": 20,
    "start_time": "2021-12-14T20:34:45.940Z"
   },
   {
    "duration": 268,
    "start_time": "2021-12-14T20:34:50.867Z"
   },
   {
    "duration": 14,
    "start_time": "2021-12-14T20:35:07.143Z"
   },
   {
    "duration": 264,
    "start_time": "2021-12-14T20:36:20.270Z"
   },
   {
    "duration": 101,
    "start_time": "2021-12-14T20:36:34.652Z"
   },
   {
    "duration": 269,
    "start_time": "2021-12-14T20:36:45.204Z"
   },
   {
    "duration": 9088,
    "start_time": "2021-12-14T20:38:06.548Z"
   },
   {
    "duration": 293,
    "start_time": "2021-12-14T20:38:34.292Z"
   },
   {
    "duration": 261,
    "start_time": "2021-12-14T20:39:35.820Z"
   },
   {
    "duration": 377,
    "start_time": "2021-12-14T20:40:06.988Z"
   },
   {
    "duration": 270,
    "start_time": "2021-12-14T20:43:22.547Z"
   },
   {
    "duration": 152,
    "start_time": "2021-12-14T20:44:36.659Z"
   },
   {
    "duration": 4386,
    "start_time": "2021-12-14T20:44:45.651Z"
   },
   {
    "duration": 12655,
    "start_time": "2021-12-14T20:45:42.914Z"
   },
   {
    "duration": 689,
    "start_time": "2021-12-14T20:46:33.539Z"
   },
   {
    "duration": 266,
    "start_time": "2021-12-14T20:50:29.603Z"
   },
   {
    "duration": 521,
    "start_time": "2021-12-14T20:55:19.344Z"
   },
   {
    "duration": 273,
    "start_time": "2021-12-14T20:55:31.136Z"
   },
   {
    "duration": 265,
    "start_time": "2021-12-14T20:56:56.056Z"
   },
   {
    "duration": 52,
    "start_time": "2021-12-14T20:57:53.574Z"
   },
   {
    "duration": 27,
    "start_time": "2021-12-14T20:58:12.374Z"
   },
   {
    "duration": 4950,
    "start_time": "2021-12-14T20:58:27.864Z"
   },
   {
    "duration": 21,
    "start_time": "2021-12-14T20:58:35.690Z"
   },
   {
    "duration": 13,
    "start_time": "2021-12-14T20:58:41.405Z"
   },
   {
    "duration": 12,
    "start_time": "2021-12-14T20:58:52.326Z"
   },
   {
    "duration": 272,
    "start_time": "2021-12-14T20:59:16.141Z"
   },
   {
    "duration": 5,
    "start_time": "2021-12-14T21:00:22.320Z"
   },
   {
    "duration": 31,
    "start_time": "2021-12-14T21:00:31.437Z"
   },
   {
    "duration": 376,
    "start_time": "2021-12-14T21:00:58.949Z"
   },
   {
    "duration": 17,
    "start_time": "2021-12-14T21:01:07.473Z"
   },
   {
    "duration": 805,
    "start_time": "2021-12-14T21:01:42.622Z"
   },
   {
    "duration": 11,
    "start_time": "2021-12-14T21:03:47.259Z"
   },
   {
    "duration": 7,
    "start_time": "2021-12-14T21:04:07.916Z"
   },
   {
    "duration": 266,
    "start_time": "2021-12-14T21:05:48.012Z"
   },
   {
    "duration": 319,
    "start_time": "2021-12-14T21:06:03.140Z"
   },
   {
    "duration": 311,
    "start_time": "2021-12-14T21:06:38.996Z"
   },
   {
    "duration": 12,
    "start_time": "2021-12-14T21:06:46.878Z"
   },
   {
    "duration": 15,
    "start_time": "2021-12-14T21:07:07.341Z"
   },
   {
    "duration": 196,
    "start_time": "2021-12-14T21:12:15.429Z"
   },
   {
    "duration": 5,
    "start_time": "2021-12-14T21:12:18.538Z"
   },
   {
    "duration": 841,
    "start_time": "2021-12-14T21:13:07.703Z"
   },
   {
    "duration": 596,
    "start_time": "2021-12-14T21:13:08.547Z"
   },
   {
    "duration": 40,
    "start_time": "2021-12-14T21:13:09.146Z"
   },
   {
    "duration": 18,
    "start_time": "2021-12-14T21:13:09.189Z"
   },
   {
    "duration": 31,
    "start_time": "2021-12-14T21:13:09.210Z"
   },
   {
    "duration": 23,
    "start_time": "2021-12-14T21:13:09.244Z"
   },
   {
    "duration": 35,
    "start_time": "2021-12-14T21:13:09.269Z"
   },
   {
    "duration": 28,
    "start_time": "2021-12-14T21:13:09.306Z"
   },
   {
    "duration": 32,
    "start_time": "2021-12-14T21:13:09.338Z"
   },
   {
    "duration": 40,
    "start_time": "2021-12-14T21:13:09.373Z"
   },
   {
    "duration": 32,
    "start_time": "2021-12-14T21:13:09.415Z"
   },
   {
    "duration": 50,
    "start_time": "2021-12-14T21:13:09.450Z"
   },
   {
    "duration": 36,
    "start_time": "2021-12-14T21:13:09.502Z"
   },
   {
    "duration": 32,
    "start_time": "2021-12-14T21:13:09.541Z"
   },
   {
    "duration": 26,
    "start_time": "2021-12-14T21:13:09.576Z"
   },
   {
    "duration": 31,
    "start_time": "2021-12-14T21:13:09.605Z"
   },
   {
    "duration": 29,
    "start_time": "2021-12-14T21:13:09.638Z"
   },
   {
    "duration": 158,
    "start_time": "2021-12-14T21:13:09.670Z"
   },
   {
    "duration": 8,
    "start_time": "2021-12-14T21:13:09.831Z"
   },
   {
    "duration": 27,
    "start_time": "2021-12-14T21:13:09.842Z"
   },
   {
    "duration": 26,
    "start_time": "2021-12-14T21:13:09.871Z"
   },
   {
    "duration": 26,
    "start_time": "2021-12-14T21:13:09.899Z"
   },
   {
    "duration": 36,
    "start_time": "2021-12-14T21:13:09.927Z"
   },
   {
    "duration": 38,
    "start_time": "2021-12-14T21:13:09.966Z"
   },
   {
    "duration": 9,
    "start_time": "2021-12-14T21:13:10.007Z"
   },
   {
    "duration": 40,
    "start_time": "2021-12-14T21:13:10.019Z"
   },
   {
    "duration": 411,
    "start_time": "2021-12-14T21:13:10.067Z"
   },
   {
    "duration": 10,
    "start_time": "2021-12-14T21:13:10.481Z"
   },
   {
    "duration": 10,
    "start_time": "2021-12-14T21:13:10.494Z"
   },
   {
    "duration": 6115,
    "start_time": "2021-12-14T21:13:10.507Z"
   },
   {
    "duration": 22,
    "start_time": "2021-12-14T21:13:16.624Z"
   },
   {
    "duration": 30,
    "start_time": "2021-12-14T21:13:16.649Z"
   },
   {
    "duration": 10,
    "start_time": "2021-12-14T21:13:16.683Z"
   },
   {
    "duration": 346,
    "start_time": "2021-12-14T21:13:16.696Z"
   },
   {
    "duration": 389556,
    "start_time": "2021-12-14T21:06:47.489Z"
   },
   {
    "duration": 389550,
    "start_time": "2021-12-14T21:06:47.497Z"
   },
   {
    "duration": 389550,
    "start_time": "2021-12-14T21:06:47.500Z"
   },
   {
    "duration": 389550,
    "start_time": "2021-12-14T21:06:47.502Z"
   },
   {
    "duration": 389540,
    "start_time": "2021-12-14T21:06:47.514Z"
   },
   {
    "duration": 389539,
    "start_time": "2021-12-14T21:06:47.517Z"
   },
   {
    "duration": 389539,
    "start_time": "2021-12-14T21:06:47.519Z"
   },
   {
    "duration": 389538,
    "start_time": "2021-12-14T21:06:47.522Z"
   },
   {
    "duration": 389537,
    "start_time": "2021-12-14T21:06:47.525Z"
   },
   {
    "duration": 389533,
    "start_time": "2021-12-14T21:06:47.531Z"
   },
   {
    "duration": 389532,
    "start_time": "2021-12-14T21:06:47.534Z"
   },
   {
    "duration": 389531,
    "start_time": "2021-12-14T21:06:47.537Z"
   },
   {
    "duration": 258,
    "start_time": "2021-12-14T21:14:53.634Z"
   },
   {
    "duration": 55,
    "start_time": "2021-12-14T21:15:01.288Z"
   },
   {
    "duration": 54,
    "start_time": "2021-12-14T21:15:29.984Z"
   },
   {
    "duration": 13,
    "start_time": "2021-12-14T21:16:01.752Z"
   },
   {
    "duration": 10,
    "start_time": "2021-12-14T21:16:19.688Z"
   },
   {
    "duration": 10,
    "start_time": "2021-12-14T21:16:41.416Z"
   },
   {
    "duration": 266,
    "start_time": "2021-12-14T21:19:02.688Z"
   },
   {
    "duration": 575,
    "start_time": "2021-12-14T21:19:46.494Z"
   },
   {
    "duration": 91,
    "start_time": "2021-12-14T21:22:35.709Z"
   },
   {
    "duration": 242,
    "start_time": "2021-12-14T21:22:41.781Z"
   },
   {
    "duration": 58,
    "start_time": "2021-12-14T21:22:55.915Z"
   },
   {
    "duration": 90,
    "start_time": "2021-12-14T21:23:05.061Z"
   },
   {
    "duration": 35,
    "start_time": "2021-12-14T21:24:01.971Z"
   },
   {
    "duration": 353,
    "start_time": "2021-12-14T21:24:44.005Z"
   },
   {
    "duration": 259,
    "start_time": "2021-12-14T21:24:54.203Z"
   },
   {
    "duration": 273,
    "start_time": "2021-12-14T21:25:07.167Z"
   },
   {
    "duration": 272,
    "start_time": "2021-12-14T21:25:44.587Z"
   },
   {
    "duration": 97,
    "start_time": "2021-12-14T21:26:08.775Z"
   },
   {
    "duration": 122,
    "start_time": "2021-12-14T21:26:12.333Z"
   },
   {
    "duration": 213,
    "start_time": "2021-12-14T21:26:25.233Z"
   },
   {
    "duration": 48,
    "start_time": "2021-12-14T21:26:31.199Z"
   },
   {
    "duration": 272,
    "start_time": "2021-12-14T21:27:08.739Z"
   },
   {
    "duration": 256,
    "start_time": "2021-12-14T21:27:16.507Z"
   },
   {
    "duration": 390,
    "start_time": "2021-12-14T21:28:59.065Z"
   },
   {
    "duration": 37,
    "start_time": "2021-12-14T21:29:07.381Z"
   },
   {
    "duration": 155,
    "start_time": "2021-12-14T21:30:07.185Z"
   },
   {
    "duration": 741,
    "start_time": "2021-12-15T15:11:03.741Z"
   },
   {
    "duration": 68,
    "start_time": "2021-12-15T15:11:05.474Z"
   },
   {
    "duration": 32,
    "start_time": "2021-12-15T15:11:10.855Z"
   },
   {
    "duration": 15,
    "start_time": "2021-12-15T15:11:14.989Z"
   },
   {
    "duration": 13,
    "start_time": "2021-12-15T15:11:18.981Z"
   },
   {
    "duration": 5,
    "start_time": "2021-12-15T15:11:23.374Z"
   },
   {
    "duration": 10,
    "start_time": "2021-12-15T15:11:40.908Z"
   },
   {
    "duration": 24,
    "start_time": "2021-12-15T15:12:09.069Z"
   },
   {
    "duration": 10,
    "start_time": "2021-12-15T15:12:21.876Z"
   },
   {
    "duration": 21,
    "start_time": "2021-12-15T15:12:23.093Z"
   },
   {
    "duration": 13,
    "start_time": "2021-12-15T15:12:23.939Z"
   },
   {
    "duration": 6,
    "start_time": "2021-12-15T15:12:27.516Z"
   },
   {
    "duration": 8,
    "start_time": "2021-12-15T15:12:28.091Z"
   },
   {
    "duration": 23,
    "start_time": "2021-12-15T15:12:31.468Z"
   },
   {
    "duration": 25,
    "start_time": "2021-12-15T15:12:32.612Z"
   },
   {
    "duration": 23,
    "start_time": "2021-12-15T15:12:34.475Z"
   },
   {
    "duration": 6,
    "start_time": "2021-12-15T15:12:36.028Z"
   },
   {
    "duration": 151,
    "start_time": "2021-12-15T15:12:56.868Z"
   },
   {
    "duration": 9,
    "start_time": "2021-12-15T15:12:58.027Z"
   },
   {
    "duration": 7,
    "start_time": "2021-12-15T15:12:59.716Z"
   },
   {
    "duration": 9,
    "start_time": "2021-12-15T15:13:00.779Z"
   },
   {
    "duration": 10,
    "start_time": "2021-12-15T15:13:02.060Z"
   },
   {
    "duration": 6,
    "start_time": "2021-12-15T15:13:12.892Z"
   },
   {
    "duration": 12,
    "start_time": "2021-12-15T15:13:13.635Z"
   },
   {
    "duration": 4,
    "start_time": "2021-12-15T15:13:21.323Z"
   },
   {
    "duration": 11,
    "start_time": "2021-12-15T15:13:22.043Z"
   },
   {
    "duration": 376,
    "start_time": "2021-12-15T15:13:23.003Z"
   },
   {
    "duration": 9,
    "start_time": "2021-12-15T15:13:23.771Z"
   },
   {
    "duration": 6,
    "start_time": "2021-12-15T15:18:19.459Z"
   },
   {
    "duration": 17,
    "start_time": "2021-12-15T15:21:03.767Z"
   },
   {
    "duration": 326,
    "start_time": "2021-12-15T15:34:28.533Z"
   },
   {
    "duration": 10,
    "start_time": "2021-12-15T15:34:55.698Z"
   },
   {
    "duration": 257,
    "start_time": "2021-12-15T15:50:18.740Z"
   },
   {
    "duration": 1015,
    "start_time": "2021-12-15T15:52:38.632Z"
   },
   {
    "duration": 230,
    "start_time": "2021-12-15T15:56:36.427Z"
   },
   {
    "duration": 336,
    "start_time": "2021-12-15T16:02:21.851Z"
   },
   {
    "duration": 15,
    "start_time": "2021-12-15T16:06:10.303Z"
   },
   {
    "duration": 11,
    "start_time": "2021-12-15T16:06:20.927Z"
   },
   {
    "duration": 20,
    "start_time": "2021-12-15T16:07:22.221Z"
   },
   {
    "duration": 21,
    "start_time": "2021-12-15T16:07:29.413Z"
   },
   {
    "duration": 21,
    "start_time": "2021-12-15T16:07:32.791Z"
   },
   {
    "duration": 21,
    "start_time": "2021-12-15T16:07:35.277Z"
   },
   {
    "duration": 20,
    "start_time": "2021-12-15T16:07:38.063Z"
   },
   {
    "duration": 20,
    "start_time": "2021-12-15T16:07:41.111Z"
   },
   {
    "duration": 20,
    "start_time": "2021-12-15T16:07:45.813Z"
   },
   {
    "duration": 20,
    "start_time": "2021-12-15T16:07:50.777Z"
   },
   {
    "duration": 21,
    "start_time": "2021-12-15T16:07:53.709Z"
   },
   {
    "duration": 20,
    "start_time": "2021-12-15T16:07:55.237Z"
   },
   {
    "duration": 21,
    "start_time": "2021-12-15T16:07:57.101Z"
   },
   {
    "duration": 21,
    "start_time": "2021-12-15T16:08:02.037Z"
   },
   {
    "duration": 22,
    "start_time": "2021-12-15T16:08:03.931Z"
   },
   {
    "duration": 21,
    "start_time": "2021-12-15T16:08:05.533Z"
   },
   {
    "duration": 22,
    "start_time": "2021-12-15T16:08:07.431Z"
   },
   {
    "duration": 22,
    "start_time": "2021-12-15T16:08:09.869Z"
   },
   {
    "duration": 21,
    "start_time": "2021-12-15T16:08:12.517Z"
   },
   {
    "duration": 22,
    "start_time": "2021-12-15T16:08:14.189Z"
   },
   {
    "duration": 21,
    "start_time": "2021-12-15T16:08:17.165Z"
   },
   {
    "duration": 20,
    "start_time": "2021-12-15T16:08:19.421Z"
   },
   {
    "duration": 20,
    "start_time": "2021-12-15T16:08:21.220Z"
   },
   {
    "duration": 21,
    "start_time": "2021-12-15T16:08:24.244Z"
   },
   {
    "duration": 21,
    "start_time": "2021-12-15T16:08:26.173Z"
   },
   {
    "duration": 20,
    "start_time": "2021-12-15T16:08:27.773Z"
   },
   {
    "duration": 22,
    "start_time": "2021-12-15T16:08:29.431Z"
   },
   {
    "duration": 21,
    "start_time": "2021-12-15T16:08:31.781Z"
   },
   {
    "duration": 18,
    "start_time": "2021-12-15T16:09:04.415Z"
   },
   {
    "duration": 11,
    "start_time": "2021-12-15T16:09:08.183Z"
   },
   {
    "duration": 4,
    "start_time": "2021-12-15T16:09:25.731Z"
   },
   {
    "duration": 183,
    "start_time": "2021-12-15T16:09:25.737Z"
   },
   {
    "duration": 28,
    "start_time": "2021-12-15T16:09:25.923Z"
   },
   {
    "duration": 16,
    "start_time": "2021-12-15T16:09:25.954Z"
   },
   {
    "duration": 12,
    "start_time": "2021-12-15T16:09:25.972Z"
   },
   {
    "duration": 6,
    "start_time": "2021-12-15T16:09:26.018Z"
   },
   {
    "duration": 11,
    "start_time": "2021-12-15T16:09:26.028Z"
   },
   {
    "duration": 19,
    "start_time": "2021-12-15T16:09:26.042Z"
   },
   {
    "duration": 273,
    "start_time": "2021-12-15T16:09:26.065Z"
   },
   {
    "duration": 389827,
    "start_time": "2021-12-15T16:02:56.515Z"
   },
   {
    "duration": 389813,
    "start_time": "2021-12-15T16:02:56.531Z"
   },
   {
    "duration": 389812,
    "start_time": "2021-12-15T16:02:56.534Z"
   },
   {
    "duration": 389812,
    "start_time": "2021-12-15T16:02:56.536Z"
   },
   {
    "duration": 389812,
    "start_time": "2021-12-15T16:02:56.538Z"
   },
   {
    "duration": 389813,
    "start_time": "2021-12-15T16:02:56.540Z"
   },
   {
    "duration": 389812,
    "start_time": "2021-12-15T16:02:56.543Z"
   },
   {
    "duration": 389811,
    "start_time": "2021-12-15T16:02:56.546Z"
   },
   {
    "duration": 389810,
    "start_time": "2021-12-15T16:02:56.549Z"
   },
   {
    "duration": 389810,
    "start_time": "2021-12-15T16:02:56.551Z"
   },
   {
    "duration": 389811,
    "start_time": "2021-12-15T16:02:56.553Z"
   },
   {
    "duration": 389783,
    "start_time": "2021-12-15T16:02:56.583Z"
   },
   {
    "duration": 389782,
    "start_time": "2021-12-15T16:02:56.586Z"
   },
   {
    "duration": 389780,
    "start_time": "2021-12-15T16:02:56.590Z"
   },
   {
    "duration": 389779,
    "start_time": "2021-12-15T16:02:56.594Z"
   },
   {
    "duration": 389775,
    "start_time": "2021-12-15T16:02:56.600Z"
   },
   {
    "duration": 389775,
    "start_time": "2021-12-15T16:02:56.602Z"
   },
   {
    "duration": 389775,
    "start_time": "2021-12-15T16:02:56.604Z"
   },
   {
    "duration": 389775,
    "start_time": "2021-12-15T16:02:56.606Z"
   },
   {
    "duration": 389774,
    "start_time": "2021-12-15T16:02:56.608Z"
   },
   {
    "duration": 389757,
    "start_time": "2021-12-15T16:02:56.626Z"
   },
   {
    "duration": 389756,
    "start_time": "2021-12-15T16:02:56.628Z"
   },
   {
    "duration": 389788,
    "start_time": "2021-12-15T16:02:56.631Z"
   },
   {
    "duration": 389785,
    "start_time": "2021-12-15T16:02:56.636Z"
   },
   {
    "duration": 389737,
    "start_time": "2021-12-15T16:02:56.686Z"
   },
   {
    "duration": 389729,
    "start_time": "2021-12-15T16:02:56.697Z"
   },
   {
    "duration": 389729,
    "start_time": "2021-12-15T16:02:56.699Z"
   },
   {
    "duration": 389729,
    "start_time": "2021-12-15T16:02:56.701Z"
   },
   {
    "duration": 389718,
    "start_time": "2021-12-15T16:02:56.714Z"
   },
   {
    "duration": 389718,
    "start_time": "2021-12-15T16:02:56.716Z"
   },
   {
    "duration": 389719,
    "start_time": "2021-12-15T16:02:56.718Z"
   },
   {
    "duration": 389719,
    "start_time": "2021-12-15T16:02:56.720Z"
   },
   {
    "duration": 389719,
    "start_time": "2021-12-15T16:02:56.722Z"
   },
   {
    "duration": 389717,
    "start_time": "2021-12-15T16:02:56.726Z"
   },
   {
    "duration": 389709,
    "start_time": "2021-12-15T16:02:56.738Z"
   },
   {
    "duration": 389708,
    "start_time": "2021-12-15T16:02:56.741Z"
   },
   {
    "duration": 389708,
    "start_time": "2021-12-15T16:02:56.743Z"
   },
   {
    "duration": 389708,
    "start_time": "2021-12-15T16:02:56.745Z"
   },
   {
    "duration": 389706,
    "start_time": "2021-12-15T16:02:56.748Z"
   },
   {
    "duration": 21,
    "start_time": "2021-12-15T16:10:14.501Z"
   },
   {
    "duration": 10,
    "start_time": "2021-12-15T16:10:18.701Z"
   },
   {
    "duration": 21,
    "start_time": "2021-12-15T16:11:59.645Z"
   },
   {
    "duration": 11,
    "start_time": "2021-12-15T16:12:09.085Z"
   },
   {
    "duration": 22,
    "start_time": "2021-12-15T16:12:18.005Z"
   },
   {
    "duration": 3,
    "start_time": "2021-12-15T16:13:18.969Z"
   },
   {
    "duration": 69,
    "start_time": "2021-12-15T16:13:18.975Z"
   },
   {
    "duration": 20,
    "start_time": "2021-12-15T16:13:19.047Z"
   },
   {
    "duration": 17,
    "start_time": "2021-12-15T16:13:19.070Z"
   },
   {
    "duration": 15,
    "start_time": "2021-12-15T16:13:19.118Z"
   },
   {
    "duration": 5,
    "start_time": "2021-12-15T16:13:19.135Z"
   },
   {
    "duration": 21,
    "start_time": "2021-12-15T16:13:19.143Z"
   },
   {
    "duration": 54,
    "start_time": "2021-12-15T16:13:19.167Z"
   },
   {
    "duration": 22,
    "start_time": "2021-12-15T16:13:19.226Z"
   },
   {
    "duration": 11,
    "start_time": "2021-12-15T16:13:19.251Z"
   },
   {
    "duration": 53,
    "start_time": "2021-12-15T16:13:19.264Z"
   },
   {
    "duration": 12,
    "start_time": "2021-12-15T16:13:19.319Z"
   },
   {
    "duration": 6,
    "start_time": "2021-12-15T16:13:19.333Z"
   },
   {
    "duration": 7,
    "start_time": "2021-12-15T16:13:19.341Z"
   },
   {
    "duration": 24,
    "start_time": "2021-12-15T16:13:19.350Z"
   },
   {
    "duration": 62,
    "start_time": "2021-12-15T16:13:19.376Z"
   },
   {
    "duration": 22,
    "start_time": "2021-12-15T16:13:19.440Z"
   },
   {
    "duration": 7,
    "start_time": "2021-12-15T16:13:19.464Z"
   },
   {
    "duration": 167,
    "start_time": "2021-12-15T16:13:19.473Z"
   },
   {
    "duration": 8,
    "start_time": "2021-12-15T16:13:19.642Z"
   },
   {
    "duration": 15,
    "start_time": "2021-12-15T16:13:19.653Z"
   },
   {
    "duration": 5,
    "start_time": "2021-12-15T16:13:19.671Z"
   },
   {
    "duration": 39,
    "start_time": "2021-12-15T16:13:19.679Z"
   },
   {
    "duration": 10,
    "start_time": "2021-12-15T16:13:19.720Z"
   },
   {
    "duration": 6,
    "start_time": "2021-12-15T16:13:19.733Z"
   },
   {
    "duration": 11,
    "start_time": "2021-12-15T16:13:19.741Z"
   },
   {
    "duration": 4,
    "start_time": "2021-12-15T16:13:19.757Z"
   },
   {
    "duration": 55,
    "start_time": "2021-12-15T16:13:19.764Z"
   },
   {
    "duration": 404,
    "start_time": "2021-12-15T16:13:19.822Z"
   },
   {
    "duration": 7,
    "start_time": "2021-12-15T16:13:20.229Z"
   },
   {
    "duration": 10,
    "start_time": "2021-12-15T16:13:20.239Z"
   },
   {
    "duration": 5682,
    "start_time": "2021-12-15T16:13:20.252Z"
   },
   {
    "duration": 22,
    "start_time": "2021-12-15T16:13:25.937Z"
   },
   {
    "duration": 13,
    "start_time": "2021-12-15T16:13:25.961Z"
   },
   {
    "duration": 6,
    "start_time": "2021-12-15T16:13:25.977Z"
   },
   {
    "duration": 431,
    "start_time": "2021-12-15T16:13:25.986Z"
   },
   {
    "duration": 389800,
    "start_time": "2021-12-15T16:06:56.619Z"
   },
   {
    "duration": 389800,
    "start_time": "2021-12-15T16:06:56.621Z"
   },
   {
    "duration": 389799,
    "start_time": "2021-12-15T16:06:56.623Z"
   },
   {
    "duration": 389799,
    "start_time": "2021-12-15T16:06:56.625Z"
   },
   {
    "duration": 389796,
    "start_time": "2021-12-15T16:06:56.629Z"
   },
   {
    "duration": 389792,
    "start_time": "2021-12-15T16:06:56.634Z"
   },
   {
    "duration": 389791,
    "start_time": "2021-12-15T16:06:56.637Z"
   },
   {
    "duration": 389790,
    "start_time": "2021-12-15T16:06:56.639Z"
   },
   {
    "duration": 389791,
    "start_time": "2021-12-15T16:06:56.640Z"
   },
   {
    "duration": 389790,
    "start_time": "2021-12-15T16:06:56.642Z"
   },
   {
    "duration": 389784,
    "start_time": "2021-12-15T16:06:56.649Z"
   },
   {
    "duration": 721,
    "start_time": "2021-12-15T16:13:43.043Z"
   },
   {
    "duration": 65,
    "start_time": "2021-12-15T16:13:43.852Z"
   },
   {
    "duration": 30,
    "start_time": "2021-12-15T16:13:45.963Z"
   },
   {
    "duration": 14,
    "start_time": "2021-12-15T16:13:49.861Z"
   },
   {
    "duration": 13,
    "start_time": "2021-12-15T16:13:53.741Z"
   },
   {
    "duration": 4,
    "start_time": "2021-12-15T16:13:57.037Z"
   },
   {
    "duration": 11,
    "start_time": "2021-12-15T16:13:57.971Z"
   },
   {
    "duration": 26,
    "start_time": "2021-12-15T16:14:00.187Z"
   },
   {
    "duration": 6,
    "start_time": "2021-12-15T16:14:22.267Z"
   },
   {
    "duration": 19,
    "start_time": "2021-12-15T16:14:29.707Z"
   },
   {
    "duration": 6,
    "start_time": "2021-12-15T16:14:31.755Z"
   },
   {
    "duration": 20,
    "start_time": "2021-12-15T16:14:34.579Z"
   },
   {
    "duration": 6,
    "start_time": "2021-12-15T16:14:35.252Z"
   },
   {
    "duration": 20,
    "start_time": "2021-12-15T16:14:55.011Z"
   },
   {
    "duration": 6,
    "start_time": "2021-12-15T16:14:56.075Z"
   },
   {
    "duration": 12,
    "start_time": "2021-12-15T16:15:22.387Z"
   },
   {
    "duration": 3,
    "start_time": "2021-12-15T16:15:56.191Z"
   },
   {
    "duration": 64,
    "start_time": "2021-12-15T16:15:56.197Z"
   },
   {
    "duration": 20,
    "start_time": "2021-12-15T16:15:56.264Z"
   },
   {
    "duration": 16,
    "start_time": "2021-12-15T16:15:56.319Z"
   },
   {
    "duration": 15,
    "start_time": "2021-12-15T16:15:56.338Z"
   },
   {
    "duration": 5,
    "start_time": "2021-12-15T16:15:56.355Z"
   },
   {
    "duration": 58,
    "start_time": "2021-12-15T16:15:56.363Z"
   },
   {
    "duration": 18,
    "start_time": "2021-12-15T16:15:56.425Z"
   },
   {
    "duration": 11,
    "start_time": "2021-12-15T16:15:56.446Z"
   },
   {
    "duration": 22,
    "start_time": "2021-12-15T16:15:56.459Z"
   },
   {
    "duration": 13,
    "start_time": "2021-12-15T16:15:56.516Z"
   },
   {
    "duration": 21,
    "start_time": "2021-12-15T16:15:56.532Z"
   },
   {
    "duration": 13,
    "start_time": "2021-12-15T16:15:56.556Z"
   },
   {
    "duration": 48,
    "start_time": "2021-12-15T16:15:56.572Z"
   },
   {
    "duration": 9,
    "start_time": "2021-12-15T16:15:56.623Z"
   },
   {
    "duration": 26,
    "start_time": "2021-12-15T16:15:56.634Z"
   },
   {
    "duration": 61,
    "start_time": "2021-12-15T16:15:56.663Z"
   },
   {
    "duration": 21,
    "start_time": "2021-12-15T16:15:56.727Z"
   },
   {
    "duration": 5,
    "start_time": "2021-12-15T16:15:56.750Z"
   },
   {
    "duration": 167,
    "start_time": "2021-12-15T16:15:56.757Z"
   },
   {
    "duration": 8,
    "start_time": "2021-12-15T16:15:56.926Z"
   },
   {
    "duration": 24,
    "start_time": "2021-12-15T16:15:56.936Z"
   },
   {
    "duration": 5,
    "start_time": "2021-12-15T16:15:56.966Z"
   },
   {
    "duration": 7,
    "start_time": "2021-12-15T16:15:56.974Z"
   },
   {
    "duration": 36,
    "start_time": "2021-12-15T16:15:56.983Z"
   },
   {
    "duration": 6,
    "start_time": "2021-12-15T16:15:57.022Z"
   },
   {
    "duration": 10,
    "start_time": "2021-12-15T16:15:57.031Z"
   },
   {
    "duration": 3,
    "start_time": "2021-12-15T16:15:57.044Z"
   },
   {
    "duration": 11,
    "start_time": "2021-12-15T16:15:57.049Z"
   },
   {
    "duration": 430,
    "start_time": "2021-12-15T16:15:57.062Z"
   },
   {
    "duration": 8,
    "start_time": "2021-12-15T16:15:57.495Z"
   },
   {
    "duration": 25,
    "start_time": "2021-12-15T16:15:57.505Z"
   },
   {
    "duration": 5819,
    "start_time": "2021-12-15T16:15:57.532Z"
   },
   {
    "duration": 22,
    "start_time": "2021-12-15T16:16:03.354Z"
   },
   {
    "duration": 19,
    "start_time": "2021-12-15T16:16:03.378Z"
   },
   {
    "duration": 4,
    "start_time": "2021-12-15T16:16:03.417Z"
   },
   {
    "duration": 582,
    "start_time": "2021-12-15T16:16:03.423Z"
   },
   {
    "duration": 389785,
    "start_time": "2021-12-15T16:09:34.223Z"
   },
   {
    "duration": 389784,
    "start_time": "2021-12-15T16:09:34.225Z"
   },
   {
    "duration": 389783,
    "start_time": "2021-12-15T16:09:34.227Z"
   },
   {
    "duration": 389782,
    "start_time": "2021-12-15T16:09:34.229Z"
   },
   {
    "duration": 389782,
    "start_time": "2021-12-15T16:09:34.231Z"
   },
   {
    "duration": 389781,
    "start_time": "2021-12-15T16:09:34.233Z"
   },
   {
    "duration": 389775,
    "start_time": "2021-12-15T16:09:34.240Z"
   },
   {
    "duration": 389775,
    "start_time": "2021-12-15T16:09:34.242Z"
   },
   {
    "duration": 389775,
    "start_time": "2021-12-15T16:09:34.244Z"
   },
   {
    "duration": 389775,
    "start_time": "2021-12-15T16:09:34.245Z"
   },
   {
    "duration": 389775,
    "start_time": "2021-12-15T16:09:34.247Z"
   },
   {
    "duration": 4,
    "start_time": "2021-12-15T16:18:52.407Z"
   },
   {
    "duration": 72,
    "start_time": "2021-12-15T16:18:52.414Z"
   },
   {
    "duration": 42,
    "start_time": "2021-12-15T16:18:52.489Z"
   },
   {
    "duration": 15,
    "start_time": "2021-12-15T16:18:52.534Z"
   },
   {
    "duration": 12,
    "start_time": "2021-12-15T16:18:52.552Z"
   },
   {
    "duration": 52,
    "start_time": "2021-12-15T16:18:52.566Z"
   },
   {
    "duration": 14,
    "start_time": "2021-12-15T16:18:52.622Z"
   },
   {
    "duration": 245,
    "start_time": "2021-12-15T16:18:52.642Z"
   },
   {
    "duration": 389819,
    "start_time": "2021-12-15T16:12:23.075Z"
   },
   {
    "duration": 389819,
    "start_time": "2021-12-15T16:12:23.077Z"
   },
   {
    "duration": 389817,
    "start_time": "2021-12-15T16:12:23.081Z"
   },
   {
    "duration": 389816,
    "start_time": "2021-12-15T16:12:23.083Z"
   },
   {
    "duration": 389812,
    "start_time": "2021-12-15T16:12:23.089Z"
   },
   {
    "duration": 389811,
    "start_time": "2021-12-15T16:12:23.091Z"
   },
   {
    "duration": 389811,
    "start_time": "2021-12-15T16:12:23.093Z"
   },
   {
    "duration": 389809,
    "start_time": "2021-12-15T16:12:23.096Z"
   },
   {
    "duration": 389808,
    "start_time": "2021-12-15T16:12:23.099Z"
   },
   {
    "duration": 389807,
    "start_time": "2021-12-15T16:12:23.101Z"
   },
   {
    "duration": 389806,
    "start_time": "2021-12-15T16:12:23.103Z"
   },
   {
    "duration": 389803,
    "start_time": "2021-12-15T16:12:23.108Z"
   },
   {
    "duration": 389801,
    "start_time": "2021-12-15T16:12:23.111Z"
   },
   {
    "duration": 389799,
    "start_time": "2021-12-15T16:12:23.114Z"
   },
   {
    "duration": 389798,
    "start_time": "2021-12-15T16:12:23.117Z"
   },
   {
    "duration": 389797,
    "start_time": "2021-12-15T16:12:23.119Z"
   },
   {
    "duration": 389797,
    "start_time": "2021-12-15T16:12:23.121Z"
   },
   {
    "duration": 389797,
    "start_time": "2021-12-15T16:12:23.123Z"
   },
   {
    "duration": 389792,
    "start_time": "2021-12-15T16:12:23.130Z"
   },
   {
    "duration": 389793,
    "start_time": "2021-12-15T16:12:23.132Z"
   },
   {
    "duration": 389792,
    "start_time": "2021-12-15T16:12:23.135Z"
   },
   {
    "duration": 389793,
    "start_time": "2021-12-15T16:12:23.136Z"
   },
   {
    "duration": 389793,
    "start_time": "2021-12-15T16:12:23.138Z"
   },
   {
    "duration": 389790,
    "start_time": "2021-12-15T16:12:23.144Z"
   },
   {
    "duration": 389789,
    "start_time": "2021-12-15T16:12:23.147Z"
   },
   {
    "duration": 389789,
    "start_time": "2021-12-15T16:12:23.149Z"
   },
   {
    "duration": 389747,
    "start_time": "2021-12-15T16:12:23.193Z"
   },
   {
    "duration": 389735,
    "start_time": "2021-12-15T16:12:23.207Z"
   },
   {
    "duration": 389735,
    "start_time": "2021-12-15T16:12:23.209Z"
   },
   {
    "duration": 389734,
    "start_time": "2021-12-15T16:12:23.211Z"
   },
   {
    "duration": 389719,
    "start_time": "2021-12-15T16:12:23.229Z"
   },
   {
    "duration": 389719,
    "start_time": "2021-12-15T16:12:23.231Z"
   },
   {
    "duration": 389718,
    "start_time": "2021-12-15T16:12:23.234Z"
   },
   {
    "duration": 389717,
    "start_time": "2021-12-15T16:12:23.236Z"
   },
   {
    "duration": 389716,
    "start_time": "2021-12-15T16:12:23.238Z"
   },
   {
    "duration": 389716,
    "start_time": "2021-12-15T16:12:23.240Z"
   },
   {
    "duration": 389713,
    "start_time": "2021-12-15T16:12:23.244Z"
   },
   {
    "duration": 389711,
    "start_time": "2021-12-15T16:12:23.247Z"
   },
   {
    "duration": 389760,
    "start_time": "2021-12-15T16:12:23.257Z"
   },
   {
    "duration": 389760,
    "start_time": "2021-12-15T16:12:23.259Z"
   },
   {
    "duration": 691,
    "start_time": "2021-12-15T16:20:57.953Z"
   },
   {
    "duration": 1660,
    "start_time": "2021-12-15T16:21:25.905Z"
   },
   {
    "duration": 268,
    "start_time": "2021-12-15T16:21:53.226Z"
   },
   {
    "duration": 243,
    "start_time": "2021-12-15T16:22:46.531Z"
   },
   {
    "duration": 18,
    "start_time": "2021-12-15T16:23:08.369Z"
   },
   {
    "duration": 12,
    "start_time": "2021-12-15T16:23:10.801Z"
   },
   {
    "duration": 3,
    "start_time": "2021-12-15T16:23:24.461Z"
   },
   {
    "duration": 63,
    "start_time": "2021-12-15T16:23:24.467Z"
   },
   {
    "duration": 22,
    "start_time": "2021-12-15T16:23:24.532Z"
   },
   {
    "duration": 17,
    "start_time": "2021-12-15T16:23:24.556Z"
   },
   {
    "duration": 42,
    "start_time": "2021-12-15T16:23:24.576Z"
   },
   {
    "duration": 5,
    "start_time": "2021-12-15T16:23:24.622Z"
   },
   {
    "duration": 11,
    "start_time": "2021-12-15T16:23:24.629Z"
   },
   {
    "duration": 18,
    "start_time": "2021-12-15T16:23:24.643Z"
   },
   {
    "duration": 9,
    "start_time": "2021-12-15T16:23:24.663Z"
   },
   {
    "duration": 57,
    "start_time": "2021-12-15T16:23:24.674Z"
   },
   {
    "duration": 10,
    "start_time": "2021-12-15T16:23:24.733Z"
   },
   {
    "duration": 19,
    "start_time": "2021-12-15T16:23:24.746Z"
   },
   {
    "duration": 49,
    "start_time": "2021-12-15T16:23:24.771Z"
   },
   {
    "duration": 6,
    "start_time": "2021-12-15T16:23:24.823Z"
   },
   {
    "duration": 7,
    "start_time": "2021-12-15T16:23:24.832Z"
   },
   {
    "duration": 24,
    "start_time": "2021-12-15T16:23:24.841Z"
   },
   {
    "duration": 62,
    "start_time": "2021-12-15T16:23:24.868Z"
   },
   {
    "duration": 22,
    "start_time": "2021-12-15T16:23:24.933Z"
   },
   {
    "duration": 7,
    "start_time": "2021-12-15T16:23:24.957Z"
   },
   {
    "duration": 179,
    "start_time": "2021-12-15T16:23:24.966Z"
   },
   {
    "duration": 10,
    "start_time": "2021-12-15T16:23:25.147Z"
   },
   {
    "duration": 17,
    "start_time": "2021-12-15T16:23:25.159Z"
   },
   {
    "duration": 39,
    "start_time": "2021-12-15T16:23:25.178Z"
   },
   {
    "duration": 9,
    "start_time": "2021-12-15T16:23:25.219Z"
   },
   {
    "duration": 9,
    "start_time": "2021-12-15T16:23:25.230Z"
   },
   {
    "duration": 6,
    "start_time": "2021-12-15T16:23:25.241Z"
   },
   {
    "duration": 13,
    "start_time": "2021-12-15T16:23:25.249Z"
   },
   {
    "duration": 4,
    "start_time": "2021-12-15T16:23:25.264Z"
   },
   {
    "duration": 55,
    "start_time": "2021-12-15T16:23:25.270Z"
   },
   {
    "duration": 389,
    "start_time": "2021-12-15T16:23:25.328Z"
   },
   {
    "duration": 9,
    "start_time": "2021-12-15T16:23:25.720Z"
   },
   {
    "duration": 33,
    "start_time": "2021-12-15T16:23:25.731Z"
   },
   {
    "duration": 5914,
    "start_time": "2021-12-15T16:23:25.766Z"
   },
   {
    "duration": 40,
    "start_time": "2021-12-15T16:23:31.684Z"
   },
   {
    "duration": 14,
    "start_time": "2021-12-15T16:23:31.727Z"
   },
   {
    "duration": 8,
    "start_time": "2021-12-15T16:23:31.744Z"
   },
   {
    "duration": 405,
    "start_time": "2021-12-15T16:23:31.759Z"
   },
   {
    "duration": 389789,
    "start_time": "2021-12-15T16:17:02.379Z"
   },
   {
    "duration": 389789,
    "start_time": "2021-12-15T16:17:02.381Z"
   },
   {
    "duration": 389788,
    "start_time": "2021-12-15T16:17:02.383Z"
   },
   {
    "duration": 389788,
    "start_time": "2021-12-15T16:17:02.385Z"
   },
   {
    "duration": 389787,
    "start_time": "2021-12-15T16:17:02.387Z"
   },
   {
    "duration": 389781,
    "start_time": "2021-12-15T16:17:02.394Z"
   },
   {
    "duration": 389780,
    "start_time": "2021-12-15T16:17:02.397Z"
   },
   {
    "duration": 389779,
    "start_time": "2021-12-15T16:17:02.399Z"
   },
   {
    "duration": 389778,
    "start_time": "2021-12-15T16:17:02.401Z"
   },
   {
    "duration": 389777,
    "start_time": "2021-12-15T16:17:02.403Z"
   },
   {
    "duration": 389775,
    "start_time": "2021-12-15T16:17:02.406Z"
   },
   {
    "duration": 8,
    "start_time": "2021-12-15T16:27:06.703Z"
   },
   {
    "duration": 8,
    "start_time": "2021-12-15T16:30:00.951Z"
   },
   {
    "duration": 9,
    "start_time": "2021-12-15T16:30:11.573Z"
   },
   {
    "duration": 15,
    "start_time": "2021-12-15T16:31:30.245Z"
   },
   {
    "duration": 2364,
    "start_time": "2021-12-15T16:32:49.981Z"
   },
   {
    "duration": 2253,
    "start_time": "2021-12-15T16:35:14.637Z"
   },
   {
    "duration": 5,
    "start_time": "2021-12-15T16:49:59.463Z"
   },
   {
    "duration": 6,
    "start_time": "2021-12-15T16:51:00.853Z"
   },
   {
    "duration": 34,
    "start_time": "2021-12-15T16:51:01.631Z"
   },
   {
    "duration": 21,
    "start_time": "2021-12-15T17:09:32.031Z"
   },
   {
    "duration": 5,
    "start_time": "2021-12-15T17:12:19.516Z"
   },
   {
    "duration": 5,
    "start_time": "2021-12-15T17:12:20.645Z"
   },
   {
    "duration": 31,
    "start_time": "2021-12-15T17:12:26.341Z"
   },
   {
    "duration": 15,
    "start_time": "2021-12-15T17:13:26.709Z"
   },
   {
    "duration": 13,
    "start_time": "2021-12-15T17:15:54.834Z"
   },
   {
    "duration": 286,
    "start_time": "2021-12-15T17:20:41.804Z"
   },
   {
    "duration": 256,
    "start_time": "2021-12-15T17:21:40.275Z"
   },
   {
    "duration": 274,
    "start_time": "2021-12-15T17:22:05.179Z"
   },
   {
    "duration": 34,
    "start_time": "2021-12-15T17:22:46.147Z"
   },
   {
    "duration": 21,
    "start_time": "2021-12-15T17:58:40.805Z"
   },
   {
    "duration": 481,
    "start_time": "2021-12-15T18:00:04.651Z"
   },
   {
    "duration": 257,
    "start_time": "2021-12-15T18:01:52.027Z"
   },
   {
    "duration": 250,
    "start_time": "2021-12-15T18:02:06.667Z"
   },
   {
    "duration": 277,
    "start_time": "2021-12-15T18:05:03.947Z"
   },
   {
    "duration": 274,
    "start_time": "2021-12-15T18:05:32.753Z"
   },
   {
    "duration": 33,
    "start_time": "2021-12-15T18:06:50.827Z"
   },
   {
    "duration": 30,
    "start_time": "2021-12-15T18:07:23.529Z"
   },
   {
    "duration": 38,
    "start_time": "2021-12-15T18:07:30.865Z"
   },
   {
    "duration": 30,
    "start_time": "2021-12-15T18:07:40.233Z"
   },
   {
    "duration": 49,
    "start_time": "2021-12-15T18:08:13.322Z"
   },
   {
    "duration": 47,
    "start_time": "2021-12-15T18:09:20.784Z"
   },
   {
    "duration": 263,
    "start_time": "2021-12-15T18:10:30.074Z"
   },
   {
    "duration": 30,
    "start_time": "2021-12-15T18:10:41.250Z"
   },
   {
    "duration": 21,
    "start_time": "2021-12-15T18:11:10.040Z"
   },
   {
    "duration": 13,
    "start_time": "2021-12-15T18:11:20.800Z"
   },
   {
    "duration": 23,
    "start_time": "2021-12-15T18:12:32.529Z"
   },
   {
    "duration": 36,
    "start_time": "2021-12-15T18:12:40.047Z"
   },
   {
    "duration": 21,
    "start_time": "2021-12-15T18:12:55.969Z"
   },
   {
    "duration": 269,
    "start_time": "2021-12-15T18:13:23.696Z"
   },
   {
    "duration": 20,
    "start_time": "2021-12-15T18:13:46.487Z"
   },
   {
    "duration": 26,
    "start_time": "2021-12-15T18:14:02.295Z"
   },
   {
    "duration": 269,
    "start_time": "2021-12-15T18:16:32.736Z"
   },
   {
    "duration": 240,
    "start_time": "2021-12-15T18:16:43.045Z"
   },
   {
    "duration": 33,
    "start_time": "2021-12-15T18:19:32.990Z"
   },
   {
    "duration": 277,
    "start_time": "2021-12-15T18:20:22.659Z"
   },
   {
    "duration": 33,
    "start_time": "2021-12-15T18:21:07.948Z"
   },
   {
    "duration": 233,
    "start_time": "2021-12-15T18:23:05.859Z"
   },
   {
    "duration": 33,
    "start_time": "2021-12-15T18:23:17.707Z"
   },
   {
    "duration": 33,
    "start_time": "2021-12-15T18:23:58.851Z"
   },
   {
    "duration": 33,
    "start_time": "2021-12-15T18:24:08.475Z"
   },
   {
    "duration": 263,
    "start_time": "2021-12-15T18:27:11.446Z"
   },
   {
    "duration": 52,
    "start_time": "2021-12-15T18:27:18.274Z"
   },
   {
    "duration": 50,
    "start_time": "2021-12-15T18:28:21.701Z"
   },
   {
    "duration": 246,
    "start_time": "2021-12-15T18:28:41.898Z"
   },
   {
    "duration": 19,
    "start_time": "2021-12-15T18:32:35.152Z"
   },
   {
    "duration": 10,
    "start_time": "2021-12-15T18:33:08.407Z"
   },
   {
    "duration": 12,
    "start_time": "2021-12-15T18:33:28.583Z"
   },
   {
    "duration": 19,
    "start_time": "2021-12-15T18:35:08.719Z"
   },
   {
    "duration": 13,
    "start_time": "2021-12-15T18:45:41.483Z"
   },
   {
    "duration": 21,
    "start_time": "2021-12-15T18:46:12.083Z"
   },
   {
    "duration": 12,
    "start_time": "2021-12-15T18:51:25.409Z"
   },
   {
    "duration": 15,
    "start_time": "2021-12-15T18:52:37.048Z"
   },
   {
    "duration": 745,
    "start_time": "2021-12-15T19:33:04.432Z"
   },
   {
    "duration": 66,
    "start_time": "2021-12-15T19:33:05.179Z"
   },
   {
    "duration": 31,
    "start_time": "2021-12-15T19:33:05.248Z"
   },
   {
    "duration": 40,
    "start_time": "2021-12-15T19:33:05.281Z"
   },
   {
    "duration": 12,
    "start_time": "2021-12-15T19:33:05.324Z"
   },
   {
    "duration": 4,
    "start_time": "2021-12-15T19:33:05.339Z"
   },
   {
    "duration": 15,
    "start_time": "2021-12-15T19:33:05.345Z"
   },
   {
    "duration": 58,
    "start_time": "2021-12-15T19:33:05.362Z"
   },
   {
    "duration": 10,
    "start_time": "2021-12-15T19:33:05.424Z"
   },
   {
    "duration": 21,
    "start_time": "2021-12-15T19:33:05.437Z"
   },
   {
    "duration": 10,
    "start_time": "2021-12-15T19:33:05.461Z"
   },
   {
    "duration": 54,
    "start_time": "2021-12-15T19:33:05.474Z"
   },
   {
    "duration": 12,
    "start_time": "2021-12-15T19:33:05.530Z"
   },
   {
    "duration": 6,
    "start_time": "2021-12-15T19:33:05.545Z"
   },
   {
    "duration": 12,
    "start_time": "2021-12-15T19:33:05.553Z"
   },
   {
    "duration": 55,
    "start_time": "2021-12-15T19:33:05.567Z"
   },
   {
    "duration": 29,
    "start_time": "2021-12-15T19:33:05.625Z"
   },
   {
    "duration": 25,
    "start_time": "2021-12-15T19:33:05.656Z"
   },
   {
    "duration": 36,
    "start_time": "2021-12-15T19:33:05.684Z"
   },
   {
    "duration": 166,
    "start_time": "2021-12-15T19:33:05.723Z"
   },
   {
    "duration": 8,
    "start_time": "2021-12-15T19:33:05.892Z"
   },
   {
    "duration": 7,
    "start_time": "2021-12-15T19:33:05.918Z"
   },
   {
    "duration": 9,
    "start_time": "2021-12-15T19:33:05.928Z"
   },
   {
    "duration": 8,
    "start_time": "2021-12-15T19:33:05.939Z"
   },
   {
    "duration": 5,
    "start_time": "2021-12-15T19:33:05.950Z"
   },
   {
    "duration": 11,
    "start_time": "2021-12-15T19:33:05.958Z"
   },
   {
    "duration": 4,
    "start_time": "2021-12-15T19:33:06.019Z"
   },
   {
    "duration": 15,
    "start_time": "2021-12-15T19:33:06.026Z"
   },
   {
    "duration": 392,
    "start_time": "2021-12-15T19:33:06.043Z"
   },
   {
    "duration": 8,
    "start_time": "2021-12-15T19:33:06.438Z"
   },
   {
    "duration": 12,
    "start_time": "2021-12-15T19:33:06.449Z"
   },
   {
    "duration": 5712,
    "start_time": "2021-12-15T19:33:06.463Z"
   },
   {
    "duration": 22,
    "start_time": "2021-12-15T19:33:12.178Z"
   },
   {
    "duration": 9,
    "start_time": "2021-12-15T19:33:12.218Z"
   },
   {
    "duration": 2297,
    "start_time": "2021-12-15T19:33:12.230Z"
   },
   {
    "duration": 5,
    "start_time": "2021-12-15T19:33:14.530Z"
   },
   {
    "duration": 11,
    "start_time": "2021-12-15T19:33:14.537Z"
   },
   {
    "duration": 34,
    "start_time": "2021-12-15T19:33:14.550Z"
   },
   {
    "duration": 49,
    "start_time": "2021-12-15T19:33:14.587Z"
   },
   {
    "duration": 6,
    "start_time": "2021-12-15T19:33:14.638Z"
   },
   {
    "duration": 10,
    "start_time": "2021-12-15T19:33:14.647Z"
   },
   {
    "duration": 65,
    "start_time": "2021-12-15T19:33:14.660Z"
   },
   {
    "duration": 18,
    "start_time": "2021-12-15T19:33:14.728Z"
   },
   {
    "duration": 20,
    "start_time": "2021-12-15T19:33:14.748Z"
   },
   {
    "duration": 47,
    "start_time": "2021-12-15T19:33:14.770Z"
   },
   {
    "duration": 20,
    "start_time": "2021-12-15T19:33:14.820Z"
   },
   {
    "duration": 12,
    "start_time": "2021-12-15T19:33:14.842Z"
   },
   {
    "duration": 13,
    "start_time": "2021-12-15T19:33:14.856Z"
   },
   {
    "duration": 591,
    "start_time": "2021-12-15T20:30:24.041Z"
   },
   {
    "duration": 65,
    "start_time": "2021-12-15T20:30:24.634Z"
   },
   {
    "duration": 26,
    "start_time": "2021-12-15T20:30:24.701Z"
   },
   {
    "duration": 16,
    "start_time": "2021-12-15T20:30:24.729Z"
   },
   {
    "duration": 13,
    "start_time": "2021-12-15T20:30:24.748Z"
   },
   {
    "duration": 3,
    "start_time": "2021-12-15T20:30:24.763Z"
   },
   {
    "duration": 9,
    "start_time": "2021-12-15T20:30:24.788Z"
   },
   {
    "duration": 18,
    "start_time": "2021-12-15T20:30:24.799Z"
   },
   {
    "duration": 7,
    "start_time": "2021-12-15T20:30:24.821Z"
   },
   {
    "duration": 18,
    "start_time": "2021-12-15T20:30:24.831Z"
   },
   {
    "duration": 37,
    "start_time": "2021-12-15T20:30:24.851Z"
   },
   {
    "duration": 12,
    "start_time": "2021-12-15T20:30:24.890Z"
   },
   {
    "duration": 8,
    "start_time": "2021-12-15T20:30:24.903Z"
   },
   {
    "duration": 5,
    "start_time": "2021-12-15T20:30:24.913Z"
   },
   {
    "duration": 6,
    "start_time": "2021-12-15T20:30:24.920Z"
   },
   {
    "duration": 16,
    "start_time": "2021-12-15T20:30:24.927Z"
   },
   {
    "duration": 55,
    "start_time": "2021-12-15T20:30:24.944Z"
   },
   {
    "duration": 20,
    "start_time": "2021-12-15T20:30:25.001Z"
   },
   {
    "duration": 5,
    "start_time": "2021-12-15T20:30:25.023Z"
   },
   {
    "duration": 171,
    "start_time": "2021-12-15T20:30:25.030Z"
   },
   {
    "duration": 7,
    "start_time": "2021-12-15T20:30:25.203Z"
   },
   {
    "duration": 6,
    "start_time": "2021-12-15T20:30:25.212Z"
   },
   {
    "duration": 5,
    "start_time": "2021-12-15T20:30:25.219Z"
   },
   {
    "duration": 5,
    "start_time": "2021-12-15T20:30:25.226Z"
   },
   {
    "duration": 4,
    "start_time": "2021-12-15T20:30:25.233Z"
   },
   {
    "duration": 8,
    "start_time": "2021-12-15T20:30:25.238Z"
   },
   {
    "duration": 40,
    "start_time": "2021-12-15T20:30:25.248Z"
   },
   {
    "duration": 6,
    "start_time": "2021-12-15T20:30:25.290Z"
   },
   {
    "duration": 254,
    "start_time": "2021-12-15T20:30:25.298Z"
   },
   {
    "duration": 6,
    "start_time": "2021-12-15T20:30:25.554Z"
   },
   {
    "duration": 7,
    "start_time": "2021-12-15T20:30:25.562Z"
   },
   {
    "duration": 4638,
    "start_time": "2021-12-15T20:30:35.635Z"
   },
   {
    "duration": 20,
    "start_time": "2021-12-15T20:34:57.617Z"
   },
   {
    "duration": 2,
    "start_time": "2021-12-15T20:35:11.825Z"
   },
   {
    "duration": 1586,
    "start_time": "2021-12-15T20:35:13.547Z"
   },
   {
    "duration": 704,
    "start_time": "2021-12-15T20:39:37.903Z"
   },
   {
    "duration": 68,
    "start_time": "2021-12-15T20:39:38.609Z"
   },
   {
    "duration": 27,
    "start_time": "2021-12-15T20:39:38.679Z"
   },
   {
    "duration": 14,
    "start_time": "2021-12-15T20:39:38.708Z"
   },
   {
    "duration": 9,
    "start_time": "2021-12-15T20:39:38.724Z"
   },
   {
    "duration": 5,
    "start_time": "2021-12-15T20:39:38.735Z"
   },
   {
    "duration": 10,
    "start_time": "2021-12-15T20:39:38.741Z"
   },
   {
    "duration": 46,
    "start_time": "2021-12-15T20:39:38.753Z"
   },
   {
    "duration": 8,
    "start_time": "2021-12-15T20:39:38.800Z"
   },
   {
    "duration": 13,
    "start_time": "2021-12-15T20:39:38.810Z"
   },
   {
    "duration": 7,
    "start_time": "2021-12-15T20:39:38.824Z"
   },
   {
    "duration": 13,
    "start_time": "2021-12-15T20:39:38.833Z"
   },
   {
    "duration": 41,
    "start_time": "2021-12-15T20:39:38.848Z"
   },
   {
    "duration": 5,
    "start_time": "2021-12-15T20:39:38.890Z"
   },
   {
    "duration": 9,
    "start_time": "2021-12-15T20:39:38.896Z"
   },
   {
    "duration": 16,
    "start_time": "2021-12-15T20:39:38.907Z"
   },
   {
    "duration": 16,
    "start_time": "2021-12-15T20:39:38.924Z"
   },
   {
    "duration": 13,
    "start_time": "2021-12-15T20:39:38.942Z"
   },
   {
    "duration": 4,
    "start_time": "2021-12-15T20:39:38.988Z"
   },
   {
    "duration": 101,
    "start_time": "2021-12-15T20:39:38.994Z"
   },
   {
    "duration": 5,
    "start_time": "2021-12-15T20:39:39.097Z"
   },
   {
    "duration": 5,
    "start_time": "2021-12-15T20:39:39.104Z"
   },
   {
    "duration": 6,
    "start_time": "2021-12-15T20:39:39.112Z"
   },
   {
    "duration": 9,
    "start_time": "2021-12-15T20:39:39.120Z"
   },
   {
    "duration": 6,
    "start_time": "2021-12-15T20:39:39.130Z"
   },
   {
    "duration": 9,
    "start_time": "2021-12-15T20:39:39.138Z"
   },
   {
    "duration": 4,
    "start_time": "2021-12-15T20:39:39.188Z"
   },
   {
    "duration": 15,
    "start_time": "2021-12-15T20:39:39.194Z"
   },
   {
    "duration": 257,
    "start_time": "2021-12-15T20:39:39.211Z"
   },
   {
    "duration": 6,
    "start_time": "2021-12-15T20:39:39.470Z"
   },
   {
    "duration": 15,
    "start_time": "2021-12-15T20:39:39.478Z"
   },
   {
    "duration": 4903,
    "start_time": "2021-12-15T20:39:39.495Z"
   },
   {
    "duration": 19,
    "start_time": "2021-12-15T20:39:44.400Z"
   },
   {
    "duration": 8,
    "start_time": "2021-12-15T20:39:44.422Z"
   },
   {
    "duration": 2384,
    "start_time": "2021-12-15T20:39:44.432Z"
   },
   {
    "duration": 4,
    "start_time": "2021-12-15T20:39:46.818Z"
   },
   {
    "duration": 6,
    "start_time": "2021-12-15T20:39:46.824Z"
   },
   {
    "duration": 22,
    "start_time": "2021-12-15T20:39:46.832Z"
   },
   {
    "duration": 37,
    "start_time": "2021-12-15T20:39:46.856Z"
   },
   {
    "duration": 3,
    "start_time": "2021-12-15T20:39:46.895Z"
   },
   {
    "duration": 6,
    "start_time": "2021-12-15T20:39:46.900Z"
   },
   {
    "duration": 18,
    "start_time": "2021-12-15T20:39:46.908Z"
   },
   {
    "duration": 23,
    "start_time": "2021-12-15T20:40:10.000Z"
   },
   {
    "duration": 18,
    "start_time": "2021-12-15T20:44:09.773Z"
   },
   {
    "duration": 9,
    "start_time": "2021-12-15T20:45:30.907Z"
   },
   {
    "duration": 10,
    "start_time": "2021-12-15T20:46:10.807Z"
   },
   {
    "duration": 574,
    "start_time": "2021-12-15T20:48:50.774Z"
   },
   {
    "duration": 50,
    "start_time": "2021-12-15T20:48:51.350Z"
   },
   {
    "duration": 19,
    "start_time": "2021-12-15T20:48:51.402Z"
   },
   {
    "duration": 11,
    "start_time": "2021-12-15T20:48:51.423Z"
   },
   {
    "duration": 9,
    "start_time": "2021-12-15T20:48:51.436Z"
   },
   {
    "duration": 4,
    "start_time": "2021-12-15T20:48:51.447Z"
   },
   {
    "duration": 38,
    "start_time": "2021-12-15T20:48:51.452Z"
   },
   {
    "duration": 12,
    "start_time": "2021-12-15T20:48:51.492Z"
   },
   {
    "duration": 6,
    "start_time": "2021-12-15T20:48:51.507Z"
   },
   {
    "duration": 12,
    "start_time": "2021-12-15T20:48:51.515Z"
   },
   {
    "duration": 6,
    "start_time": "2021-12-15T20:48:51.529Z"
   },
   {
    "duration": 13,
    "start_time": "2021-12-15T20:48:51.537Z"
   },
   {
    "duration": 38,
    "start_time": "2021-12-15T20:48:51.551Z"
   },
   {
    "duration": 4,
    "start_time": "2021-12-15T20:48:51.591Z"
   },
   {
    "duration": 6,
    "start_time": "2021-12-15T20:48:51.597Z"
   },
   {
    "duration": 15,
    "start_time": "2021-12-15T20:48:51.604Z"
   },
   {
    "duration": 16,
    "start_time": "2021-12-15T20:48:51.620Z"
   },
   {
    "duration": 13,
    "start_time": "2021-12-15T20:48:51.638Z"
   },
   {
    "duration": 37,
    "start_time": "2021-12-15T20:48:51.653Z"
   },
   {
    "duration": 103,
    "start_time": "2021-12-15T20:48:51.692Z"
   },
   {
    "duration": 5,
    "start_time": "2021-12-15T20:48:51.797Z"
   },
   {
    "duration": 5,
    "start_time": "2021-12-15T20:48:51.804Z"
   },
   {
    "duration": 9,
    "start_time": "2021-12-15T20:48:51.810Z"
   },
   {
    "duration": 9,
    "start_time": "2021-12-15T20:48:51.820Z"
   },
   {
    "duration": 4,
    "start_time": "2021-12-15T20:48:51.830Z"
   },
   {
    "duration": 8,
    "start_time": "2021-12-15T20:48:51.836Z"
   },
   {
    "duration": 2,
    "start_time": "2021-12-15T20:48:51.847Z"
   },
   {
    "duration": 36,
    "start_time": "2021-12-15T20:48:51.852Z"
   },
   {
    "duration": 253,
    "start_time": "2021-12-15T20:48:51.890Z"
   },
   {
    "duration": 7,
    "start_time": "2021-12-15T20:48:52.144Z"
   },
   {
    "duration": 7,
    "start_time": "2021-12-15T20:48:52.153Z"
   },
   {
    "duration": 4477,
    "start_time": "2021-12-15T20:48:52.161Z"
   },
   {
    "duration": 13,
    "start_time": "2021-12-15T20:48:56.640Z"
   },
   {
    "duration": 3,
    "start_time": "2021-12-15T20:48:56.655Z"
   },
   {
    "duration": 1672,
    "start_time": "2021-12-15T20:48:56.660Z"
   },
   {
    "duration": 4,
    "start_time": "2021-12-15T20:48:58.334Z"
   },
   {
    "duration": 6,
    "start_time": "2021-12-15T20:48:58.340Z"
   },
   {
    "duration": 47,
    "start_time": "2021-12-15T20:48:58.348Z"
   },
   {
    "duration": 19,
    "start_time": "2021-12-15T20:48:58.397Z"
   },
   {
    "duration": 3,
    "start_time": "2021-12-15T20:48:58.418Z"
   },
   {
    "duration": 8,
    "start_time": "2021-12-15T20:48:58.423Z"
   },
   {
    "duration": 20,
    "start_time": "2021-12-15T20:48:58.433Z"
   },
   {
    "duration": 41,
    "start_time": "2021-12-15T20:48:58.455Z"
   },
   {
    "duration": 13,
    "start_time": "2021-12-15T20:48:58.497Z"
   },
   {
    "duration": 9,
    "start_time": "2021-12-15T20:48:58.511Z"
   },
   {
    "duration": 9,
    "start_time": "2021-12-15T20:48:58.521Z"
   },
   {
    "duration": 613,
    "start_time": "2021-12-16T16:00:38.463Z"
   },
   {
    "duration": 54,
    "start_time": "2021-12-16T16:00:39.077Z"
   },
   {
    "duration": 22,
    "start_time": "2021-12-16T16:00:39.133Z"
   },
   {
    "duration": 12,
    "start_time": "2021-12-16T16:00:39.157Z"
   },
   {
    "duration": 11,
    "start_time": "2021-12-16T16:00:39.170Z"
   },
   {
    "duration": 24,
    "start_time": "2021-12-16T16:00:39.183Z"
   },
   {
    "duration": 8,
    "start_time": "2021-12-16T16:00:39.209Z"
   },
   {
    "duration": 15,
    "start_time": "2021-12-16T16:00:39.220Z"
   },
   {
    "duration": 7,
    "start_time": "2021-12-16T16:00:39.237Z"
   },
   {
    "duration": 15,
    "start_time": "2021-12-16T16:00:39.246Z"
   },
   {
    "duration": 7,
    "start_time": "2021-12-16T16:00:39.263Z"
   },
   {
    "duration": 15,
    "start_time": "2021-12-16T16:00:39.306Z"
   },
   {
    "duration": 10,
    "start_time": "2021-12-16T16:00:39.322Z"
   },
   {
    "duration": 11,
    "start_time": "2021-12-16T16:00:39.334Z"
   },
   {
    "duration": 10,
    "start_time": "2021-12-16T16:00:39.347Z"
   },
   {
    "duration": 25,
    "start_time": "2021-12-16T16:00:39.359Z"
   },
   {
    "duration": 37,
    "start_time": "2021-12-16T16:00:39.385Z"
   },
   {
    "duration": 17,
    "start_time": "2021-12-16T16:00:39.424Z"
   },
   {
    "duration": 4,
    "start_time": "2021-12-16T16:00:39.443Z"
   },
   {
    "duration": 122,
    "start_time": "2021-12-16T16:00:39.449Z"
   },
   {
    "duration": 6,
    "start_time": "2021-12-16T16:00:39.573Z"
   },
   {
    "duration": 15,
    "start_time": "2021-12-16T16:00:39.580Z"
   },
   {
    "duration": 12,
    "start_time": "2021-12-16T16:00:39.598Z"
   },
   {
    "duration": 25,
    "start_time": "2021-12-16T16:00:39.613Z"
   },
   {
    "duration": 32,
    "start_time": "2021-12-16T16:00:39.640Z"
   },
   {
    "duration": 31,
    "start_time": "2021-12-16T16:00:39.674Z"
   },
   {
    "duration": 20,
    "start_time": "2021-12-16T16:00:39.707Z"
   },
   {
    "duration": 39,
    "start_time": "2021-12-16T16:00:39.729Z"
   },
   {
    "duration": 280,
    "start_time": "2021-12-16T16:00:39.769Z"
   },
   {
    "duration": 5,
    "start_time": "2021-12-16T16:00:40.051Z"
   },
   {
    "duration": 10,
    "start_time": "2021-12-16T16:00:40.058Z"
   },
   {
    "duration": 4593,
    "start_time": "2021-12-16T16:00:40.069Z"
   },
   {
    "duration": 15,
    "start_time": "2021-12-16T16:00:44.664Z"
   },
   {
    "duration": 4,
    "start_time": "2021-12-16T16:00:44.681Z"
   },
   {
    "duration": 1697,
    "start_time": "2021-12-16T16:00:44.687Z"
   },
   {
    "duration": 3,
    "start_time": "2021-12-16T16:00:46.386Z"
   },
   {
    "duration": 17,
    "start_time": "2021-12-16T16:00:46.390Z"
   },
   {
    "duration": 27,
    "start_time": "2021-12-16T16:00:46.409Z"
   },
   {
    "duration": 13,
    "start_time": "2021-12-16T16:00:46.438Z"
   },
   {
    "duration": 3,
    "start_time": "2021-12-16T16:00:46.453Z"
   },
   {
    "duration": 16,
    "start_time": "2021-12-16T16:00:46.458Z"
   },
   {
    "duration": 39,
    "start_time": "2021-12-16T16:00:46.476Z"
   },
   {
    "duration": 18,
    "start_time": "2021-12-16T16:00:46.516Z"
   },
   {
    "duration": 15,
    "start_time": "2021-12-16T16:00:46.536Z"
   },
   {
    "duration": 10,
    "start_time": "2021-12-16T16:00:46.553Z"
   },
   {
    "duration": 43,
    "start_time": "2021-12-16T16:00:46.565Z"
   },
   {
    "duration": 57,
    "start_time": "2021-12-16T16:03:00.280Z"
   },
   {
    "duration": 15,
    "start_time": "2021-12-16T16:03:02.447Z"
   },
   {
    "duration": 15,
    "start_time": "2021-12-16T16:03:06.065Z"
   },
   {
    "duration": 9,
    "start_time": "2021-12-16T16:03:09.409Z"
   },
   {
    "duration": 3,
    "start_time": "2021-12-16T16:03:12.873Z"
   },
   {
    "duration": 8,
    "start_time": "2021-12-16T16:03:13.424Z"
   },
   {
    "duration": 15,
    "start_time": "2021-12-16T16:03:14.167Z"
   },
   {
    "duration": 8,
    "start_time": "2021-12-16T16:03:15.047Z"
   },
   {
    "duration": 15,
    "start_time": "2021-12-16T16:03:18.417Z"
   },
   {
    "duration": 8,
    "start_time": "2021-12-16T16:03:22.129Z"
   },
   {
    "duration": 15,
    "start_time": "2021-12-16T16:03:23.342Z"
   },
   {
    "duration": 9,
    "start_time": "2021-12-16T16:03:24.047Z"
   },
   {
    "duration": 5,
    "start_time": "2021-12-16T16:03:27.593Z"
   },
   {
    "duration": 5,
    "start_time": "2021-12-16T16:03:28.215Z"
   },
   {
    "duration": 17,
    "start_time": "2021-12-16T16:03:31.743Z"
   },
   {
    "duration": 18,
    "start_time": "2021-12-16T16:03:32.415Z"
   },
   {
    "duration": 16,
    "start_time": "2021-12-16T16:03:33.015Z"
   },
   {
    "duration": 5,
    "start_time": "2021-12-16T16:03:35.721Z"
   },
   {
    "duration": 10,
    "start_time": "2021-12-16T16:03:37.768Z"
   },
   {
    "duration": 8,
    "start_time": "2021-12-16T16:03:41.071Z"
   },
   {
    "duration": 14,
    "start_time": "2021-12-16T16:47:01.799Z"
   },
   {
    "duration": 2,
    "start_time": "2021-12-16T16:50:28.843Z"
   },
   {
    "duration": 57,
    "start_time": "2021-12-16T16:50:28.847Z"
   },
   {
    "duration": 17,
    "start_time": "2021-12-16T16:50:28.907Z"
   },
   {
    "duration": 13,
    "start_time": "2021-12-16T16:50:28.927Z"
   },
   {
    "duration": 13,
    "start_time": "2021-12-16T16:50:28.942Z"
   },
   {
    "duration": 3,
    "start_time": "2021-12-16T16:50:28.957Z"
   },
   {
    "duration": 12,
    "start_time": "2021-12-16T16:50:28.962Z"
   },
   {
    "duration": 48,
    "start_time": "2021-12-16T16:50:28.977Z"
   },
   {
    "duration": 9,
    "start_time": "2021-12-16T16:50:29.028Z"
   },
   {
    "duration": 15,
    "start_time": "2021-12-16T16:50:29.039Z"
   },
   {
    "duration": 10,
    "start_time": "2021-12-16T16:50:29.056Z"
   },
   {
    "duration": 48,
    "start_time": "2021-12-16T16:50:29.068Z"
   },
   {
    "duration": 10,
    "start_time": "2021-12-16T16:50:29.118Z"
   },
   {
    "duration": 9,
    "start_time": "2021-12-16T16:50:29.130Z"
   },
   {
    "duration": 5,
    "start_time": "2021-12-16T16:50:29.141Z"
   },
   {
    "duration": 22,
    "start_time": "2021-12-16T16:50:29.148Z"
   },
   {
    "duration": 44,
    "start_time": "2021-12-16T16:50:29.172Z"
   },
   {
    "duration": 15,
    "start_time": "2021-12-16T16:50:29.218Z"
   },
   {
    "duration": 5,
    "start_time": "2021-12-16T16:50:29.235Z"
   },
   {
    "duration": 11,
    "start_time": "2021-12-16T16:50:29.241Z"
   },
   {
    "duration": 11,
    "start_time": "2021-12-16T16:50:29.253Z"
   },
   {
    "duration": 6,
    "start_time": "2021-12-16T16:50:29.266Z"
   },
   {
    "duration": 31,
    "start_time": "2021-12-16T16:50:29.276Z"
   },
   {
    "duration": 4,
    "start_time": "2021-12-16T16:50:29.310Z"
   },
   {
    "duration": 11,
    "start_time": "2021-12-16T16:50:29.316Z"
   },
   {
    "duration": 286,
    "start_time": "2021-12-16T16:50:29.329Z"
   },
   {
    "duration": 5,
    "start_time": "2021-12-16T16:50:29.617Z"
   },
   {
    "duration": 10,
    "start_time": "2021-12-16T16:50:29.624Z"
   },
   {
    "duration": 16,
    "start_time": "2021-12-16T16:50:29.635Z"
   },
   {
    "duration": 7,
    "start_time": "2021-12-16T16:50:29.653Z"
   },
   {
    "duration": 47,
    "start_time": "2021-12-16T16:50:29.662Z"
   },
   {
    "duration": 4819,
    "start_time": "2021-12-16T16:50:29.711Z"
   },
   {
    "duration": 15,
    "start_time": "2021-12-16T16:50:34.532Z"
   },
   {
    "duration": 3,
    "start_time": "2021-12-16T16:50:34.549Z"
   },
   {
    "duration": 1842,
    "start_time": "2021-12-16T16:50:34.554Z"
   },
   {
    "duration": 10,
    "start_time": "2021-12-16T16:50:36.397Z"
   },
   {
    "duration": 9,
    "start_time": "2021-12-16T16:50:36.409Z"
   },
   {
    "duration": 24,
    "start_time": "2021-12-16T16:50:36.419Z"
   },
   {
    "duration": 16,
    "start_time": "2021-12-16T16:50:36.446Z"
   },
   {
    "duration": 3,
    "start_time": "2021-12-16T16:50:36.464Z"
   },
   {
    "duration": 39,
    "start_time": "2021-12-16T16:50:36.469Z"
   },
   {
    "duration": 22,
    "start_time": "2021-12-16T16:50:36.510Z"
   },
   {
    "duration": 18,
    "start_time": "2021-12-16T16:50:36.533Z"
   },
   {
    "duration": 14,
    "start_time": "2021-12-16T16:50:36.553Z"
   },
   {
    "duration": 40,
    "start_time": "2021-12-16T16:50:36.568Z"
   },
   {
    "duration": 14,
    "start_time": "2021-12-16T16:50:36.610Z"
   },
   {
    "duration": 354,
    "start_time": "2021-12-16T19:09:42.878Z"
   },
   {
    "duration": 852,
    "start_time": "2021-12-16T19:10:06.925Z"
   },
   {
    "duration": 65,
    "start_time": "2021-12-16T19:10:07.780Z"
   },
   {
    "duration": 30,
    "start_time": "2021-12-16T19:10:07.848Z"
   },
   {
    "duration": 14,
    "start_time": "2021-12-16T19:10:07.881Z"
   },
   {
    "duration": 14,
    "start_time": "2021-12-16T19:10:07.898Z"
   },
   {
    "duration": 4,
    "start_time": "2021-12-16T19:10:07.915Z"
   },
   {
    "duration": 11,
    "start_time": "2021-12-16T19:10:07.962Z"
   },
   {
    "duration": 24,
    "start_time": "2021-12-16T19:10:07.976Z"
   },
   {
    "duration": 10,
    "start_time": "2021-12-16T19:10:08.002Z"
   },
   {
    "duration": 58,
    "start_time": "2021-12-16T19:10:08.014Z"
   },
   {
    "duration": 10,
    "start_time": "2021-12-16T19:10:08.074Z"
   },
   {
    "duration": 20,
    "start_time": "2021-12-16T19:10:08.086Z"
   },
   {
    "duration": 12,
    "start_time": "2021-12-16T19:10:08.109Z"
   },
   {
    "duration": 43,
    "start_time": "2021-12-16T19:10:08.124Z"
   },
   {
    "duration": 8,
    "start_time": "2021-12-16T19:10:08.169Z"
   },
   {
    "duration": 25,
    "start_time": "2021-12-16T19:10:08.179Z"
   },
   {
    "duration": 26,
    "start_time": "2021-12-16T19:10:08.206Z"
   },
   {
    "duration": 22,
    "start_time": "2021-12-16T19:10:08.264Z"
   },
   {
    "duration": 8502,
    "start_time": "2021-12-16T19:10:14.407Z"
   },
   {
    "duration": 17,
    "start_time": "2021-12-16T19:10:33.598Z"
   },
   {
    "duration": 314,
    "start_time": "2021-12-16T19:10:44.046Z"
   },
   {
    "duration": 331,
    "start_time": "2021-12-16T19:10:51.660Z"
   },
   {
    "duration": 27,
    "start_time": "2021-12-16T19:11:07.743Z"
   },
   {
    "duration": 31,
    "start_time": "2021-12-16T19:12:44.667Z"
   },
   {
    "duration": 16,
    "start_time": "2021-12-16T19:15:49.376Z"
   },
   {
    "duration": 14,
    "start_time": "2021-12-16T19:17:41.536Z"
   },
   {
    "duration": 785,
    "start_time": "2021-12-16T19:32:59.726Z"
   },
   {
    "duration": 69,
    "start_time": "2021-12-16T19:33:00.514Z"
   },
   {
    "duration": 30,
    "start_time": "2021-12-16T19:33:00.588Z"
   },
   {
    "duration": 24,
    "start_time": "2021-12-16T19:33:00.621Z"
   },
   {
    "duration": 18,
    "start_time": "2021-12-16T19:33:00.663Z"
   },
   {
    "duration": 13,
    "start_time": "2021-12-16T19:33:00.688Z"
   },
   {
    "duration": 50,
    "start_time": "2021-12-16T19:33:00.704Z"
   },
   {
    "duration": 31,
    "start_time": "2021-12-16T19:33:00.757Z"
   },
   {
    "duration": 10,
    "start_time": "2021-12-16T19:33:00.792Z"
   },
   {
    "duration": 32,
    "start_time": "2021-12-16T19:33:00.806Z"
   },
   {
    "duration": 22,
    "start_time": "2021-12-16T19:33:00.841Z"
   },
   {
    "duration": 33,
    "start_time": "2021-12-16T19:33:00.865Z"
   },
   {
    "duration": 13,
    "start_time": "2021-12-16T19:33:00.900Z"
   },
   {
    "duration": 22,
    "start_time": "2021-12-16T19:33:00.915Z"
   },
   {
    "duration": 13,
    "start_time": "2021-12-16T19:33:00.940Z"
   },
   {
    "duration": 35,
    "start_time": "2021-12-16T19:33:00.955Z"
   },
   {
    "duration": 26,
    "start_time": "2021-12-16T19:33:00.992Z"
   },
   {
    "duration": 47,
    "start_time": "2021-12-16T19:33:01.022Z"
   },
   {
    "duration": 7,
    "start_time": "2021-12-16T19:33:01.072Z"
   },
   {
    "duration": 19,
    "start_time": "2021-12-16T19:33:01.082Z"
   },
   {
    "duration": 19,
    "start_time": "2021-12-16T19:33:01.105Z"
   },
   {
    "duration": 23,
    "start_time": "2021-12-16T19:33:01.127Z"
   },
   {
    "duration": 24,
    "start_time": "2021-12-16T19:33:01.162Z"
   },
   {
    "duration": 5,
    "start_time": "2021-12-16T19:33:01.189Z"
   },
   {
    "duration": 17,
    "start_time": "2021-12-16T19:33:01.197Z"
   },
   {
    "duration": 576,
    "start_time": "2021-12-16T19:33:01.217Z"
   },
   {
    "duration": 11,
    "start_time": "2021-12-16T19:33:01.802Z"
   },
   {
    "duration": 34,
    "start_time": "2021-12-16T19:33:01.817Z"
   },
   {
    "duration": 39,
    "start_time": "2021-12-16T19:33:01.855Z"
   },
   {
    "duration": 31,
    "start_time": "2021-12-16T19:33:01.898Z"
   },
   {
    "duration": 22,
    "start_time": "2021-12-16T19:33:01.933Z"
   },
   {
    "duration": 6576,
    "start_time": "2021-12-16T19:33:01.958Z"
   },
   {
    "duration": 30,
    "start_time": "2021-12-16T19:33:08.537Z"
   },
   {
    "duration": 37,
    "start_time": "2021-12-16T19:33:08.569Z"
   },
   {
    "duration": 2683,
    "start_time": "2021-12-16T19:33:08.608Z"
   },
   {
    "duration": 5,
    "start_time": "2021-12-16T19:33:11.294Z"
   },
   {
    "duration": 47,
    "start_time": "2021-12-16T19:33:11.301Z"
   },
   {
    "duration": 47,
    "start_time": "2021-12-16T19:33:11.351Z"
   },
   {
    "duration": 44,
    "start_time": "2021-12-16T19:33:11.400Z"
   },
   {
    "duration": 39,
    "start_time": "2021-12-16T19:33:11.446Z"
   },
   {
    "duration": 29,
    "start_time": "2021-12-16T19:33:11.488Z"
   },
   {
    "duration": 82,
    "start_time": "2021-12-16T19:33:11.520Z"
   },
   {
    "duration": 43,
    "start_time": "2021-12-16T19:33:11.605Z"
   },
   {
    "duration": 20,
    "start_time": "2021-12-16T19:33:11.651Z"
   },
   {
    "duration": 47,
    "start_time": "2021-12-16T19:33:11.673Z"
   },
   {
    "duration": 42,
    "start_time": "2021-12-16T19:33:11.723Z"
   },
   {
    "duration": 2,
    "start_time": "2021-12-16T20:18:23.295Z"
   },
   {
    "duration": 58,
    "start_time": "2021-12-16T20:18:23.301Z"
   },
   {
    "duration": 14,
    "start_time": "2021-12-16T20:18:23.361Z"
   },
   {
    "duration": 35,
    "start_time": "2021-12-16T20:18:23.377Z"
   },
   {
    "duration": 9,
    "start_time": "2021-12-16T20:18:23.414Z"
   },
   {
    "duration": 4,
    "start_time": "2021-12-16T20:18:23.424Z"
   },
   {
    "duration": 9,
    "start_time": "2021-12-16T20:18:23.430Z"
   },
   {
    "duration": 14,
    "start_time": "2021-12-16T20:18:23.441Z"
   },
   {
    "duration": 7,
    "start_time": "2021-12-16T20:18:23.457Z"
   },
   {
    "duration": 53,
    "start_time": "2021-12-16T20:18:23.466Z"
   },
   {
    "duration": 7,
    "start_time": "2021-12-16T20:18:23.521Z"
   },
   {
    "duration": 15,
    "start_time": "2021-12-16T20:18:23.530Z"
   },
   {
    "duration": 9,
    "start_time": "2021-12-16T20:18:23.547Z"
   },
   {
    "duration": 4,
    "start_time": "2021-12-16T20:18:23.558Z"
   },
   {
    "duration": 4,
    "start_time": "2021-12-16T20:18:23.564Z"
   },
   {
    "duration": 38,
    "start_time": "2021-12-16T20:18:23.570Z"
   },
   {
    "duration": 7,
    "start_time": "2021-12-16T20:18:23.610Z"
   },
   {
    "duration": 5,
    "start_time": "2021-12-16T20:18:23.619Z"
   },
   {
    "duration": 4,
    "start_time": "2021-12-16T20:18:23.626Z"
   },
   {
    "duration": 8,
    "start_time": "2021-12-16T20:18:23.631Z"
   },
   {
    "duration": 2,
    "start_time": "2021-12-16T20:18:23.641Z"
   },
   {
    "duration": 8,
    "start_time": "2021-12-16T20:18:23.645Z"
   },
   {
    "duration": 287,
    "start_time": "2021-12-16T20:18:23.655Z"
   },
   {
    "duration": 6,
    "start_time": "2021-12-16T20:18:23.943Z"
   },
   {
    "duration": 6,
    "start_time": "2021-12-16T20:18:23.951Z"
   },
   {
    "duration": 10,
    "start_time": "2021-12-16T20:18:23.959Z"
   },
   {
    "duration": 9,
    "start_time": "2021-12-16T20:18:23.971Z"
   },
   {
    "duration": 18,
    "start_time": "2021-12-16T20:18:24.005Z"
   },
   {
    "duration": 18,
    "start_time": "2021-12-16T20:18:24.025Z"
   },
   {
    "duration": 16,
    "start_time": "2021-12-16T20:18:24.045Z"
   },
   {
    "duration": 58,
    "start_time": "2021-12-16T20:18:24.062Z"
   },
   {
    "duration": 4485,
    "start_time": "2021-12-16T20:18:24.122Z"
   },
   {
    "duration": 19,
    "start_time": "2021-12-16T20:18:28.610Z"
   },
   {
    "duration": 4,
    "start_time": "2021-12-16T20:18:28.631Z"
   },
   {
    "duration": 1792,
    "start_time": "2021-12-16T20:18:28.637Z"
   },
   {
    "duration": 3,
    "start_time": "2021-12-16T20:18:30.431Z"
   },
   {
    "duration": 17,
    "start_time": "2021-12-16T20:18:30.436Z"
   },
   {
    "duration": 31,
    "start_time": "2021-12-16T20:18:30.455Z"
   },
   {
    "duration": 22,
    "start_time": "2021-12-16T20:18:30.487Z"
   },
   {
    "duration": 3,
    "start_time": "2021-12-16T20:18:30.511Z"
   },
   {
    "duration": 19,
    "start_time": "2021-12-16T20:18:30.516Z"
   },
   {
    "duration": 35,
    "start_time": "2021-12-16T20:18:30.537Z"
   },
   {
    "duration": 16,
    "start_time": "2021-12-16T20:18:30.573Z"
   },
   {
    "duration": 18,
    "start_time": "2021-12-16T20:18:30.591Z"
   },
   {
    "duration": 8,
    "start_time": "2021-12-16T20:18:30.611Z"
   },
   {
    "duration": 9,
    "start_time": "2021-12-16T20:18:30.621Z"
   },
   {
    "duration": 754,
    "start_time": "2021-12-17T15:26:03.446Z"
   },
   {
    "duration": 63,
    "start_time": "2021-12-17T15:26:04.202Z"
   },
   {
    "duration": 29,
    "start_time": "2021-12-17T15:26:04.268Z"
   },
   {
    "duration": 36,
    "start_time": "2021-12-17T15:26:04.300Z"
   },
   {
    "duration": 31,
    "start_time": "2021-12-17T15:26:04.339Z"
   },
   {
    "duration": 5,
    "start_time": "2021-12-17T15:26:04.373Z"
   },
   {
    "duration": 35,
    "start_time": "2021-12-17T15:26:04.380Z"
   },
   {
    "duration": 26,
    "start_time": "2021-12-17T15:26:04.417Z"
   },
   {
    "duration": 12,
    "start_time": "2021-12-17T15:26:04.448Z"
   },
   {
    "duration": 30,
    "start_time": "2021-12-17T15:26:04.464Z"
   },
   {
    "duration": 14,
    "start_time": "2021-12-17T15:26:04.496Z"
   },
   {
    "duration": 21,
    "start_time": "2021-12-17T15:26:04.525Z"
   },
   {
    "duration": 21,
    "start_time": "2021-12-17T15:26:04.549Z"
   },
   {
    "duration": 23,
    "start_time": "2021-12-17T15:26:04.573Z"
   },
   {
    "duration": 35,
    "start_time": "2021-12-17T15:26:04.599Z"
   },
   {
    "duration": 15,
    "start_time": "2021-12-17T15:26:04.637Z"
   },
   {
    "duration": 37,
    "start_time": "2021-12-17T15:26:04.654Z"
   },
   {
    "duration": 24,
    "start_time": "2021-12-17T15:26:04.693Z"
   },
   {
    "duration": 33,
    "start_time": "2021-12-17T15:26:04.720Z"
   },
   {
    "duration": 46,
    "start_time": "2021-12-17T15:26:04.755Z"
   },
   {
    "duration": 25,
    "start_time": "2021-12-17T15:26:04.804Z"
   },
   {
    "duration": 50,
    "start_time": "2021-12-17T15:26:04.832Z"
   },
   {
    "duration": 572,
    "start_time": "2021-12-17T15:26:04.885Z"
   },
   {
    "duration": 11,
    "start_time": "2021-12-17T15:26:05.460Z"
   },
   {
    "duration": 34,
    "start_time": "2021-12-17T15:26:05.474Z"
   },
   {
    "duration": 39,
    "start_time": "2021-12-17T15:26:05.510Z"
   },
   {
    "duration": 23,
    "start_time": "2021-12-17T15:26:05.553Z"
   },
   {
    "duration": 44,
    "start_time": "2021-12-17T15:26:05.578Z"
   },
   {
    "duration": 30,
    "start_time": "2021-12-17T15:26:05.625Z"
   },
   {
    "duration": 20,
    "start_time": "2021-12-17T15:26:05.657Z"
   },
   {
    "duration": 25,
    "start_time": "2021-12-17T15:26:05.680Z"
   },
   {
    "duration": 5636,
    "start_time": "2021-12-17T15:26:05.707Z"
   },
   {
    "duration": 21,
    "start_time": "2021-12-17T15:26:11.346Z"
   },
   {
    "duration": 23,
    "start_time": "2021-12-17T15:26:11.370Z"
   },
   {
    "duration": 2217,
    "start_time": "2021-12-17T15:26:11.395Z"
   },
   {
    "duration": 9,
    "start_time": "2021-12-17T15:26:13.615Z"
   },
   {
    "duration": 24,
    "start_time": "2021-12-17T15:26:13.626Z"
   },
   {
    "duration": 51,
    "start_time": "2021-12-17T15:26:13.653Z"
   },
   {
    "duration": 37,
    "start_time": "2021-12-17T15:26:13.707Z"
   },
   {
    "duration": 10,
    "start_time": "2021-12-17T15:26:13.746Z"
   },
   {
    "duration": 27,
    "start_time": "2021-12-17T15:26:13.758Z"
   },
   {
    "duration": 38,
    "start_time": "2021-12-17T15:26:13.788Z"
   },
   {
    "duration": 21,
    "start_time": "2021-12-17T15:26:13.828Z"
   },
   {
    "duration": 18,
    "start_time": "2021-12-17T15:26:13.851Z"
   },
   {
    "duration": 17,
    "start_time": "2021-12-17T15:26:13.872Z"
   },
   {
    "duration": 14,
    "start_time": "2021-12-17T15:26:13.924Z"
   },
   {
    "duration": 784,
    "start_time": "2021-12-18T18:26:57.267Z"
   },
   {
    "duration": 66,
    "start_time": "2021-12-18T18:26:58.054Z"
   },
   {
    "duration": 30,
    "start_time": "2021-12-18T18:26:58.122Z"
   },
   {
    "duration": 15,
    "start_time": "2021-12-18T18:26:58.159Z"
   },
   {
    "duration": 13,
    "start_time": "2021-12-18T18:26:58.176Z"
   },
   {
    "duration": 4,
    "start_time": "2021-12-18T18:26:58.191Z"
   },
   {
    "duration": 10,
    "start_time": "2021-12-18T18:26:58.198Z"
   },
   {
    "duration": 62,
    "start_time": "2021-12-18T18:26:58.213Z"
   },
   {
    "duration": 11,
    "start_time": "2021-12-18T18:26:58.279Z"
   },
   {
    "duration": 23,
    "start_time": "2021-12-18T18:26:58.293Z"
   },
   {
    "duration": 43,
    "start_time": "2021-12-18T18:26:58.319Z"
   },
   {
    "duration": 21,
    "start_time": "2021-12-18T18:26:58.366Z"
   },
   {
    "duration": 12,
    "start_time": "2021-12-18T18:26:58.389Z"
   },
   {
    "duration": 5,
    "start_time": "2021-12-18T18:26:58.403Z"
   },
   {
    "duration": 49,
    "start_time": "2021-12-18T18:26:58.411Z"
   },
   {
    "duration": 6,
    "start_time": "2021-12-18T18:26:58.462Z"
   },
   {
    "duration": 11,
    "start_time": "2021-12-18T18:26:58.471Z"
   },
   {
    "duration": 10,
    "start_time": "2021-12-18T18:26:58.485Z"
   },
   {
    "duration": 7,
    "start_time": "2021-12-18T18:26:58.497Z"
   },
   {
    "duration": 56,
    "start_time": "2021-12-18T18:26:58.510Z"
   },
   {
    "duration": 4,
    "start_time": "2021-12-18T18:26:58.568Z"
   },
   {
    "duration": 11,
    "start_time": "2021-12-18T18:26:58.575Z"
   },
   {
    "duration": 389,
    "start_time": "2021-12-18T18:26:58.591Z"
   },
   {
    "duration": 8,
    "start_time": "2021-12-18T18:26:58.983Z"
   },
   {
    "duration": 7,
    "start_time": "2021-12-18T18:26:58.993Z"
   },
   {
    "duration": 15,
    "start_time": "2021-12-18T18:26:59.002Z"
   },
   {
    "duration": 41,
    "start_time": "2021-12-18T18:26:59.019Z"
   },
   {
    "duration": 22,
    "start_time": "2021-12-18T18:26:59.063Z"
   },
   {
    "duration": 24,
    "start_time": "2021-12-18T18:26:59.087Z"
   },
   {
    "duration": 55,
    "start_time": "2021-12-18T18:26:59.114Z"
   },
   {
    "duration": 10,
    "start_time": "2021-12-18T18:26:59.171Z"
   },
   {
    "duration": 6145,
    "start_time": "2021-12-18T18:26:59.183Z"
   },
   {
    "duration": 31,
    "start_time": "2021-12-18T18:27:05.330Z"
   },
   {
    "duration": 6,
    "start_time": "2021-12-18T18:27:05.363Z"
   },
   {
    "duration": 2430,
    "start_time": "2021-12-18T18:27:05.371Z"
   },
   {
    "duration": 5,
    "start_time": "2021-12-18T18:27:07.803Z"
   },
   {
    "duration": 11,
    "start_time": "2021-12-18T18:27:07.810Z"
   },
   {
    "duration": 50,
    "start_time": "2021-12-18T18:27:07.824Z"
   },
   {
    "duration": 19,
    "start_time": "2021-12-18T18:27:07.877Z"
   },
   {
    "duration": 4,
    "start_time": "2021-12-18T18:27:07.898Z"
   },
   {
    "duration": 9,
    "start_time": "2021-12-18T18:27:07.905Z"
   },
   {
    "duration": 66,
    "start_time": "2021-12-18T18:27:07.916Z"
   },
   {
    "duration": 24,
    "start_time": "2021-12-18T18:27:07.984Z"
   },
   {
    "duration": 48,
    "start_time": "2021-12-18T18:27:08.011Z"
   },
   {
    "duration": 14,
    "start_time": "2021-12-18T18:27:08.061Z"
   },
   {
    "duration": 13,
    "start_time": "2021-12-18T18:27:08.077Z"
   }
  ],
  "kernelspec": {
   "display_name": "Python 3 (ipykernel)",
   "language": "python",
   "name": "python3"
  },
  "language_info": {
   "codemirror_mode": {
    "name": "ipython",
    "version": 3
   },
   "file_extension": ".py",
   "mimetype": "text/x-python",
   "name": "python",
   "nbconvert_exporter": "python",
   "pygments_lexer": "ipython3",
   "version": "3.9.7"
  },
  "toc": {
   "base_numbering": 1,
   "nav_menu": {},
   "number_sections": true,
   "sideBar": true,
   "skip_h1_title": true,
   "title_cell": "Table of Contents",
   "title_sidebar": "Contents",
   "toc_cell": false,
   "toc_position": {},
   "toc_section_display": true,
   "toc_window_display": false
  }
 },
 "nbformat": 4,
 "nbformat_minor": 2
}
