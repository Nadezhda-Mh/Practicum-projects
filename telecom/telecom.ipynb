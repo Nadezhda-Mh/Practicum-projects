{
 "cells": [
  {
   "cell_type": "markdown",
   "metadata": {},
   "source": [
    "# \"Телеком\""
   ]
  },
  {
   "cell_type": "markdown",
   "metadata": {},
   "source": [
    "## Изучение и предобработка данных"
   ]
  },
  {
   "cell_type": "code",
   "execution_count": 1,
   "metadata": {},
   "outputs": [],
   "source": [
    "# импорт библиотек\n",
    "import pandas as pd\n",
    "import matplotlib.pyplot as plt \n",
    "import seaborn as sns\n",
    "\n",
    "from sklearn.model_selection import train_test_split, GridSearchCV\n",
    "from sklearn.metrics import roc_auc_score, roc_curve, accuracy_score\n",
    "from sklearn.utils import shuffle\n",
    "\n",
    "#from sklearn.preprocessing import StandardScaler\n",
    "\n",
    "from sklearn.tree import DecisionTreeClassifier\n",
    "from sklearn.linear_model import LogisticRegression\n",
    "from sklearn.ensemble import RandomForestClassifier\n",
    "from catboost import CatBoostClassifier\n",
    "\n",
    "import warnings\n",
    "warnings.filterwarnings('ignore')"
   ]
  },
  {
   "cell_type": "code",
   "execution_count": 2,
   "metadata": {},
   "outputs": [],
   "source": [
    "# чтение файлов с данными и сохранение в df с использованием конструкции try-except\n",
    "try:\n",
    "    df_contr = pd.read_csv('C:/Users/datasets/contract.csv')  # локальный путь\n",
    "    df_pers = pd.read_csv('C:/Users/datasets/personal.csv')\n",
    "    df_int = pd.read_csv('C:/Users/datasets/internet.csv')\n",
    "    df_phone = pd.read_csv('C:/Users/datasets/phone.csv')\n",
    "except:\n",
    "    df_contr = pd.read_csv('/datasets/final_provider/contract.csv')  # серверный путь\n",
    "    df_pers = pd.read_csv('/datasets/final_provider/personal.csv')\n",
    "    df_int = pd.read_csv('/datasets/final_provider/internet.csv')\n",
    "    df_phone = pd.read_csv('/datasets/final_provider/phone.csv')"
   ]
  },
  {
   "cell_type": "code",
   "execution_count": 3,
   "metadata": {},
   "outputs": [],
   "source": [
    "# создание функции вывода основной информации о датасете\n",
    "def information(df):\n",
    "    display(df.head(5))\n",
    "    print('')\n",
    "    print(df.info())\n",
    "    print('')\n",
    "    display(df.describe())"
   ]
  },
  {
   "cell_type": "code",
   "execution_count": 4,
   "metadata": {
    "scrolled": true
   },
   "outputs": [
    {
     "data": {
      "text/html": [
       "<div>\n",
       "<style scoped>\n",
       "    .dataframe tbody tr th:only-of-type {\n",
       "        vertical-align: middle;\n",
       "    }\n",
       "\n",
       "    .dataframe tbody tr th {\n",
       "        vertical-align: top;\n",
       "    }\n",
       "\n",
       "    .dataframe thead th {\n",
       "        text-align: right;\n",
       "    }\n",
       "</style>\n",
       "<table border=\"1\" class=\"dataframe\">\n",
       "  <thead>\n",
       "    <tr style=\"text-align: right;\">\n",
       "      <th></th>\n",
       "      <th>customerID</th>\n",
       "      <th>BeginDate</th>\n",
       "      <th>EndDate</th>\n",
       "      <th>Type</th>\n",
       "      <th>PaperlessBilling</th>\n",
       "      <th>PaymentMethod</th>\n",
       "      <th>MonthlyCharges</th>\n",
       "      <th>TotalCharges</th>\n",
       "    </tr>\n",
       "  </thead>\n",
       "  <tbody>\n",
       "    <tr>\n",
       "      <th>0</th>\n",
       "      <td>7590-VHVEG</td>\n",
       "      <td>2020-01-01</td>\n",
       "      <td>No</td>\n",
       "      <td>Month-to-month</td>\n",
       "      <td>Yes</td>\n",
       "      <td>Electronic check</td>\n",
       "      <td>29.85</td>\n",
       "      <td>29.85</td>\n",
       "    </tr>\n",
       "    <tr>\n",
       "      <th>1</th>\n",
       "      <td>5575-GNVDE</td>\n",
       "      <td>2017-04-01</td>\n",
       "      <td>No</td>\n",
       "      <td>One year</td>\n",
       "      <td>No</td>\n",
       "      <td>Mailed check</td>\n",
       "      <td>56.95</td>\n",
       "      <td>1889.5</td>\n",
       "    </tr>\n",
       "    <tr>\n",
       "      <th>2</th>\n",
       "      <td>3668-QPYBK</td>\n",
       "      <td>2019-10-01</td>\n",
       "      <td>2019-12-01 00:00:00</td>\n",
       "      <td>Month-to-month</td>\n",
       "      <td>Yes</td>\n",
       "      <td>Mailed check</td>\n",
       "      <td>53.85</td>\n",
       "      <td>108.15</td>\n",
       "    </tr>\n",
       "    <tr>\n",
       "      <th>3</th>\n",
       "      <td>7795-CFOCW</td>\n",
       "      <td>2016-05-01</td>\n",
       "      <td>No</td>\n",
       "      <td>One year</td>\n",
       "      <td>No</td>\n",
       "      <td>Bank transfer (automatic)</td>\n",
       "      <td>42.30</td>\n",
       "      <td>1840.75</td>\n",
       "    </tr>\n",
       "    <tr>\n",
       "      <th>4</th>\n",
       "      <td>9237-HQITU</td>\n",
       "      <td>2019-09-01</td>\n",
       "      <td>2019-11-01 00:00:00</td>\n",
       "      <td>Month-to-month</td>\n",
       "      <td>Yes</td>\n",
       "      <td>Electronic check</td>\n",
       "      <td>70.70</td>\n",
       "      <td>151.65</td>\n",
       "    </tr>\n",
       "  </tbody>\n",
       "</table>\n",
       "</div>"
      ],
      "text/plain": [
       "   customerID   BeginDate              EndDate            Type  \\\n",
       "0  7590-VHVEG  2020-01-01                   No  Month-to-month   \n",
       "1  5575-GNVDE  2017-04-01                   No        One year   \n",
       "2  3668-QPYBK  2019-10-01  2019-12-01 00:00:00  Month-to-month   \n",
       "3  7795-CFOCW  2016-05-01                   No        One year   \n",
       "4  9237-HQITU  2019-09-01  2019-11-01 00:00:00  Month-to-month   \n",
       "\n",
       "  PaperlessBilling              PaymentMethod  MonthlyCharges TotalCharges  \n",
       "0              Yes           Electronic check           29.85        29.85  \n",
       "1               No               Mailed check           56.95       1889.5  \n",
       "2              Yes               Mailed check           53.85       108.15  \n",
       "3               No  Bank transfer (automatic)           42.30      1840.75  \n",
       "4              Yes           Electronic check           70.70       151.65  "
      ]
     },
     "metadata": {},
     "output_type": "display_data"
    },
    {
     "name": "stdout",
     "output_type": "stream",
     "text": [
      "\n",
      "<class 'pandas.core.frame.DataFrame'>\n",
      "RangeIndex: 7043 entries, 0 to 7042\n",
      "Data columns (total 8 columns):\n",
      " #   Column            Non-Null Count  Dtype  \n",
      "---  ------            --------------  -----  \n",
      " 0   customerID        7043 non-null   object \n",
      " 1   BeginDate         7043 non-null   object \n",
      " 2   EndDate           7043 non-null   object \n",
      " 3   Type              7043 non-null   object \n",
      " 4   PaperlessBilling  7043 non-null   object \n",
      " 5   PaymentMethod     7043 non-null   object \n",
      " 6   MonthlyCharges    7043 non-null   float64\n",
      " 7   TotalCharges      7043 non-null   object \n",
      "dtypes: float64(1), object(7)\n",
      "memory usage: 440.3+ KB\n",
      "None\n",
      "\n"
     ]
    },
    {
     "data": {
      "text/html": [
       "<div>\n",
       "<style scoped>\n",
       "    .dataframe tbody tr th:only-of-type {\n",
       "        vertical-align: middle;\n",
       "    }\n",
       "\n",
       "    .dataframe tbody tr th {\n",
       "        vertical-align: top;\n",
       "    }\n",
       "\n",
       "    .dataframe thead th {\n",
       "        text-align: right;\n",
       "    }\n",
       "</style>\n",
       "<table border=\"1\" class=\"dataframe\">\n",
       "  <thead>\n",
       "    <tr style=\"text-align: right;\">\n",
       "      <th></th>\n",
       "      <th>MonthlyCharges</th>\n",
       "    </tr>\n",
       "  </thead>\n",
       "  <tbody>\n",
       "    <tr>\n",
       "      <th>count</th>\n",
       "      <td>7043.000000</td>\n",
       "    </tr>\n",
       "    <tr>\n",
       "      <th>mean</th>\n",
       "      <td>64.761692</td>\n",
       "    </tr>\n",
       "    <tr>\n",
       "      <th>std</th>\n",
       "      <td>30.090047</td>\n",
       "    </tr>\n",
       "    <tr>\n",
       "      <th>min</th>\n",
       "      <td>18.250000</td>\n",
       "    </tr>\n",
       "    <tr>\n",
       "      <th>25%</th>\n",
       "      <td>35.500000</td>\n",
       "    </tr>\n",
       "    <tr>\n",
       "      <th>50%</th>\n",
       "      <td>70.350000</td>\n",
       "    </tr>\n",
       "    <tr>\n",
       "      <th>75%</th>\n",
       "      <td>89.850000</td>\n",
       "    </tr>\n",
       "    <tr>\n",
       "      <th>max</th>\n",
       "      <td>118.750000</td>\n",
       "    </tr>\n",
       "  </tbody>\n",
       "</table>\n",
       "</div>"
      ],
      "text/plain": [
       "       MonthlyCharges\n",
       "count     7043.000000\n",
       "mean        64.761692\n",
       "std         30.090047\n",
       "min         18.250000\n",
       "25%         35.500000\n",
       "50%         70.350000\n",
       "75%         89.850000\n",
       "max        118.750000"
      ]
     },
     "metadata": {},
     "output_type": "display_data"
    }
   ],
   "source": [
    "# изучение данных о договоре\n",
    "information(df_contr)"
   ]
  },
  {
   "cell_type": "markdown",
   "metadata": {},
   "source": [
    "По первому датасету можно сказать, что пропусков нет, следует изменить тип данных в столбце `TotalCharges` на числовой, а столбцы `BeginDate` и `EndDate` на datetime. Ну и для красоты можно во всех датасетах переименовать столбец с id клиента на CustomerID."
   ]
  },
  {
   "cell_type": "code",
   "execution_count": 5,
   "metadata": {},
   "outputs": [
    {
     "data": {
      "text/html": [
       "<div>\n",
       "<style scoped>\n",
       "    .dataframe tbody tr th:only-of-type {\n",
       "        vertical-align: middle;\n",
       "    }\n",
       "\n",
       "    .dataframe tbody tr th {\n",
       "        vertical-align: top;\n",
       "    }\n",
       "\n",
       "    .dataframe thead th {\n",
       "        text-align: right;\n",
       "    }\n",
       "</style>\n",
       "<table border=\"1\" class=\"dataframe\">\n",
       "  <thead>\n",
       "    <tr style=\"text-align: right;\">\n",
       "      <th></th>\n",
       "      <th>customerID</th>\n",
       "      <th>gender</th>\n",
       "      <th>SeniorCitizen</th>\n",
       "      <th>Partner</th>\n",
       "      <th>Dependents</th>\n",
       "    </tr>\n",
       "  </thead>\n",
       "  <tbody>\n",
       "    <tr>\n",
       "      <th>0</th>\n",
       "      <td>7590-VHVEG</td>\n",
       "      <td>Female</td>\n",
       "      <td>0</td>\n",
       "      <td>Yes</td>\n",
       "      <td>No</td>\n",
       "    </tr>\n",
       "    <tr>\n",
       "      <th>1</th>\n",
       "      <td>5575-GNVDE</td>\n",
       "      <td>Male</td>\n",
       "      <td>0</td>\n",
       "      <td>No</td>\n",
       "      <td>No</td>\n",
       "    </tr>\n",
       "    <tr>\n",
       "      <th>2</th>\n",
       "      <td>3668-QPYBK</td>\n",
       "      <td>Male</td>\n",
       "      <td>0</td>\n",
       "      <td>No</td>\n",
       "      <td>No</td>\n",
       "    </tr>\n",
       "    <tr>\n",
       "      <th>3</th>\n",
       "      <td>7795-CFOCW</td>\n",
       "      <td>Male</td>\n",
       "      <td>0</td>\n",
       "      <td>No</td>\n",
       "      <td>No</td>\n",
       "    </tr>\n",
       "    <tr>\n",
       "      <th>4</th>\n",
       "      <td>9237-HQITU</td>\n",
       "      <td>Female</td>\n",
       "      <td>0</td>\n",
       "      <td>No</td>\n",
       "      <td>No</td>\n",
       "    </tr>\n",
       "  </tbody>\n",
       "</table>\n",
       "</div>"
      ],
      "text/plain": [
       "   customerID  gender  SeniorCitizen Partner Dependents\n",
       "0  7590-VHVEG  Female              0     Yes         No\n",
       "1  5575-GNVDE    Male              0      No         No\n",
       "2  3668-QPYBK    Male              0      No         No\n",
       "3  7795-CFOCW    Male              0      No         No\n",
       "4  9237-HQITU  Female              0      No         No"
      ]
     },
     "metadata": {},
     "output_type": "display_data"
    },
    {
     "name": "stdout",
     "output_type": "stream",
     "text": [
      "\n",
      "<class 'pandas.core.frame.DataFrame'>\n",
      "RangeIndex: 7043 entries, 0 to 7042\n",
      "Data columns (total 5 columns):\n",
      " #   Column         Non-Null Count  Dtype \n",
      "---  ------         --------------  ----- \n",
      " 0   customerID     7043 non-null   object\n",
      " 1   gender         7043 non-null   object\n",
      " 2   SeniorCitizen  7043 non-null   int64 \n",
      " 3   Partner        7043 non-null   object\n",
      " 4   Dependents     7043 non-null   object\n",
      "dtypes: int64(1), object(4)\n",
      "memory usage: 275.2+ KB\n",
      "None\n",
      "\n"
     ]
    },
    {
     "data": {
      "text/html": [
       "<div>\n",
       "<style scoped>\n",
       "    .dataframe tbody tr th:only-of-type {\n",
       "        vertical-align: middle;\n",
       "    }\n",
       "\n",
       "    .dataframe tbody tr th {\n",
       "        vertical-align: top;\n",
       "    }\n",
       "\n",
       "    .dataframe thead th {\n",
       "        text-align: right;\n",
       "    }\n",
       "</style>\n",
       "<table border=\"1\" class=\"dataframe\">\n",
       "  <thead>\n",
       "    <tr style=\"text-align: right;\">\n",
       "      <th></th>\n",
       "      <th>SeniorCitizen</th>\n",
       "    </tr>\n",
       "  </thead>\n",
       "  <tbody>\n",
       "    <tr>\n",
       "      <th>count</th>\n",
       "      <td>7043.000000</td>\n",
       "    </tr>\n",
       "    <tr>\n",
       "      <th>mean</th>\n",
       "      <td>0.162147</td>\n",
       "    </tr>\n",
       "    <tr>\n",
       "      <th>std</th>\n",
       "      <td>0.368612</td>\n",
       "    </tr>\n",
       "    <tr>\n",
       "      <th>min</th>\n",
       "      <td>0.000000</td>\n",
       "    </tr>\n",
       "    <tr>\n",
       "      <th>25%</th>\n",
       "      <td>0.000000</td>\n",
       "    </tr>\n",
       "    <tr>\n",
       "      <th>50%</th>\n",
       "      <td>0.000000</td>\n",
       "    </tr>\n",
       "    <tr>\n",
       "      <th>75%</th>\n",
       "      <td>0.000000</td>\n",
       "    </tr>\n",
       "    <tr>\n",
       "      <th>max</th>\n",
       "      <td>1.000000</td>\n",
       "    </tr>\n",
       "  </tbody>\n",
       "</table>\n",
       "</div>"
      ],
      "text/plain": [
       "       SeniorCitizen\n",
       "count    7043.000000\n",
       "mean        0.162147\n",
       "std         0.368612\n",
       "min         0.000000\n",
       "25%         0.000000\n",
       "50%         0.000000\n",
       "75%         0.000000\n",
       "max         1.000000"
      ]
     },
     "metadata": {},
     "output_type": "display_data"
    }
   ],
   "source": [
    "# изучение персональных данных клиента\n",
    "information(df_pers)"
   ]
  },
  {
   "cell_type": "markdown",
   "metadata": {},
   "source": [
    "Во втором датасете также отустствуют пропуски, количество объектов такое же. Стоит привести названия столбцов к единому стилю."
   ]
  },
  {
   "cell_type": "code",
   "execution_count": 6,
   "metadata": {},
   "outputs": [
    {
     "data": {
      "text/html": [
       "<div>\n",
       "<style scoped>\n",
       "    .dataframe tbody tr th:only-of-type {\n",
       "        vertical-align: middle;\n",
       "    }\n",
       "\n",
       "    .dataframe tbody tr th {\n",
       "        vertical-align: top;\n",
       "    }\n",
       "\n",
       "    .dataframe thead th {\n",
       "        text-align: right;\n",
       "    }\n",
       "</style>\n",
       "<table border=\"1\" class=\"dataframe\">\n",
       "  <thead>\n",
       "    <tr style=\"text-align: right;\">\n",
       "      <th></th>\n",
       "      <th>customerID</th>\n",
       "      <th>InternetService</th>\n",
       "      <th>OnlineSecurity</th>\n",
       "      <th>OnlineBackup</th>\n",
       "      <th>DeviceProtection</th>\n",
       "      <th>TechSupport</th>\n",
       "      <th>StreamingTV</th>\n",
       "      <th>StreamingMovies</th>\n",
       "    </tr>\n",
       "  </thead>\n",
       "  <tbody>\n",
       "    <tr>\n",
       "      <th>0</th>\n",
       "      <td>7590-VHVEG</td>\n",
       "      <td>DSL</td>\n",
       "      <td>No</td>\n",
       "      <td>Yes</td>\n",
       "      <td>No</td>\n",
       "      <td>No</td>\n",
       "      <td>No</td>\n",
       "      <td>No</td>\n",
       "    </tr>\n",
       "    <tr>\n",
       "      <th>1</th>\n",
       "      <td>5575-GNVDE</td>\n",
       "      <td>DSL</td>\n",
       "      <td>Yes</td>\n",
       "      <td>No</td>\n",
       "      <td>Yes</td>\n",
       "      <td>No</td>\n",
       "      <td>No</td>\n",
       "      <td>No</td>\n",
       "    </tr>\n",
       "    <tr>\n",
       "      <th>2</th>\n",
       "      <td>3668-QPYBK</td>\n",
       "      <td>DSL</td>\n",
       "      <td>Yes</td>\n",
       "      <td>Yes</td>\n",
       "      <td>No</td>\n",
       "      <td>No</td>\n",
       "      <td>No</td>\n",
       "      <td>No</td>\n",
       "    </tr>\n",
       "    <tr>\n",
       "      <th>3</th>\n",
       "      <td>7795-CFOCW</td>\n",
       "      <td>DSL</td>\n",
       "      <td>Yes</td>\n",
       "      <td>No</td>\n",
       "      <td>Yes</td>\n",
       "      <td>Yes</td>\n",
       "      <td>No</td>\n",
       "      <td>No</td>\n",
       "    </tr>\n",
       "    <tr>\n",
       "      <th>4</th>\n",
       "      <td>9237-HQITU</td>\n",
       "      <td>Fiber optic</td>\n",
       "      <td>No</td>\n",
       "      <td>No</td>\n",
       "      <td>No</td>\n",
       "      <td>No</td>\n",
       "      <td>No</td>\n",
       "      <td>No</td>\n",
       "    </tr>\n",
       "  </tbody>\n",
       "</table>\n",
       "</div>"
      ],
      "text/plain": [
       "   customerID InternetService OnlineSecurity OnlineBackup DeviceProtection  \\\n",
       "0  7590-VHVEG             DSL             No          Yes               No   \n",
       "1  5575-GNVDE             DSL            Yes           No              Yes   \n",
       "2  3668-QPYBK             DSL            Yes          Yes               No   \n",
       "3  7795-CFOCW             DSL            Yes           No              Yes   \n",
       "4  9237-HQITU     Fiber optic             No           No               No   \n",
       "\n",
       "  TechSupport StreamingTV StreamingMovies  \n",
       "0          No          No              No  \n",
       "1          No          No              No  \n",
       "2          No          No              No  \n",
       "3         Yes          No              No  \n",
       "4          No          No              No  "
      ]
     },
     "metadata": {},
     "output_type": "display_data"
    },
    {
     "name": "stdout",
     "output_type": "stream",
     "text": [
      "\n",
      "<class 'pandas.core.frame.DataFrame'>\n",
      "RangeIndex: 5517 entries, 0 to 5516\n",
      "Data columns (total 8 columns):\n",
      " #   Column            Non-Null Count  Dtype \n",
      "---  ------            --------------  ----- \n",
      " 0   customerID        5517 non-null   object\n",
      " 1   InternetService   5517 non-null   object\n",
      " 2   OnlineSecurity    5517 non-null   object\n",
      " 3   OnlineBackup      5517 non-null   object\n",
      " 4   DeviceProtection  5517 non-null   object\n",
      " 5   TechSupport       5517 non-null   object\n",
      " 6   StreamingTV       5517 non-null   object\n",
      " 7   StreamingMovies   5517 non-null   object\n",
      "dtypes: object(8)\n",
      "memory usage: 344.9+ KB\n",
      "None\n",
      "\n"
     ]
    },
    {
     "data": {
      "text/html": [
       "<div>\n",
       "<style scoped>\n",
       "    .dataframe tbody tr th:only-of-type {\n",
       "        vertical-align: middle;\n",
       "    }\n",
       "\n",
       "    .dataframe tbody tr th {\n",
       "        vertical-align: top;\n",
       "    }\n",
       "\n",
       "    .dataframe thead th {\n",
       "        text-align: right;\n",
       "    }\n",
       "</style>\n",
       "<table border=\"1\" class=\"dataframe\">\n",
       "  <thead>\n",
       "    <tr style=\"text-align: right;\">\n",
       "      <th></th>\n",
       "      <th>customerID</th>\n",
       "      <th>InternetService</th>\n",
       "      <th>OnlineSecurity</th>\n",
       "      <th>OnlineBackup</th>\n",
       "      <th>DeviceProtection</th>\n",
       "      <th>TechSupport</th>\n",
       "      <th>StreamingTV</th>\n",
       "      <th>StreamingMovies</th>\n",
       "    </tr>\n",
       "  </thead>\n",
       "  <tbody>\n",
       "    <tr>\n",
       "      <th>count</th>\n",
       "      <td>5517</td>\n",
       "      <td>5517</td>\n",
       "      <td>5517</td>\n",
       "      <td>5517</td>\n",
       "      <td>5517</td>\n",
       "      <td>5517</td>\n",
       "      <td>5517</td>\n",
       "      <td>5517</td>\n",
       "    </tr>\n",
       "    <tr>\n",
       "      <th>unique</th>\n",
       "      <td>5517</td>\n",
       "      <td>2</td>\n",
       "      <td>2</td>\n",
       "      <td>2</td>\n",
       "      <td>2</td>\n",
       "      <td>2</td>\n",
       "      <td>2</td>\n",
       "      <td>2</td>\n",
       "    </tr>\n",
       "    <tr>\n",
       "      <th>top</th>\n",
       "      <td>4237-RLAQD</td>\n",
       "      <td>Fiber optic</td>\n",
       "      <td>No</td>\n",
       "      <td>No</td>\n",
       "      <td>No</td>\n",
       "      <td>No</td>\n",
       "      <td>No</td>\n",
       "      <td>No</td>\n",
       "    </tr>\n",
       "    <tr>\n",
       "      <th>freq</th>\n",
       "      <td>1</td>\n",
       "      <td>3096</td>\n",
       "      <td>3498</td>\n",
       "      <td>3088</td>\n",
       "      <td>3095</td>\n",
       "      <td>3473</td>\n",
       "      <td>2810</td>\n",
       "      <td>2785</td>\n",
       "    </tr>\n",
       "  </tbody>\n",
       "</table>\n",
       "</div>"
      ],
      "text/plain": [
       "        customerID InternetService OnlineSecurity OnlineBackup  \\\n",
       "count         5517            5517           5517         5517   \n",
       "unique        5517               2              2            2   \n",
       "top     4237-RLAQD     Fiber optic             No           No   \n",
       "freq             1            3096           3498         3088   \n",
       "\n",
       "       DeviceProtection TechSupport StreamingTV StreamingMovies  \n",
       "count              5517        5517        5517            5517  \n",
       "unique                2           2           2               2  \n",
       "top                  No          No          No              No  \n",
       "freq               3095        3473        2810            2785  "
      ]
     },
     "metadata": {},
     "output_type": "display_data"
    }
   ],
   "source": [
    "# изучение данных об интернет-услугах\n",
    "information(df_int)"
   ]
  },
  {
   "cell_type": "markdown",
   "metadata": {},
   "source": [
    "В данном датасете ситуация аналогична: пропусков нет, однако данные у нас имеются не по всем клиентам. Это стоит учесть при объединении таблиц в будущем. Все стобцы имеют тип данных object."
   ]
  },
  {
   "cell_type": "code",
   "execution_count": 7,
   "metadata": {},
   "outputs": [
    {
     "data": {
      "text/html": [
       "<div>\n",
       "<style scoped>\n",
       "    .dataframe tbody tr th:only-of-type {\n",
       "        vertical-align: middle;\n",
       "    }\n",
       "\n",
       "    .dataframe tbody tr th {\n",
       "        vertical-align: top;\n",
       "    }\n",
       "\n",
       "    .dataframe thead th {\n",
       "        text-align: right;\n",
       "    }\n",
       "</style>\n",
       "<table border=\"1\" class=\"dataframe\">\n",
       "  <thead>\n",
       "    <tr style=\"text-align: right;\">\n",
       "      <th></th>\n",
       "      <th>customerID</th>\n",
       "      <th>MultipleLines</th>\n",
       "    </tr>\n",
       "  </thead>\n",
       "  <tbody>\n",
       "    <tr>\n",
       "      <th>0</th>\n",
       "      <td>5575-GNVDE</td>\n",
       "      <td>No</td>\n",
       "    </tr>\n",
       "    <tr>\n",
       "      <th>1</th>\n",
       "      <td>3668-QPYBK</td>\n",
       "      <td>No</td>\n",
       "    </tr>\n",
       "    <tr>\n",
       "      <th>2</th>\n",
       "      <td>9237-HQITU</td>\n",
       "      <td>No</td>\n",
       "    </tr>\n",
       "    <tr>\n",
       "      <th>3</th>\n",
       "      <td>9305-CDSKC</td>\n",
       "      <td>Yes</td>\n",
       "    </tr>\n",
       "    <tr>\n",
       "      <th>4</th>\n",
       "      <td>1452-KIOVK</td>\n",
       "      <td>Yes</td>\n",
       "    </tr>\n",
       "  </tbody>\n",
       "</table>\n",
       "</div>"
      ],
      "text/plain": [
       "   customerID MultipleLines\n",
       "0  5575-GNVDE            No\n",
       "1  3668-QPYBK            No\n",
       "2  9237-HQITU            No\n",
       "3  9305-CDSKC           Yes\n",
       "4  1452-KIOVK           Yes"
      ]
     },
     "metadata": {},
     "output_type": "display_data"
    },
    {
     "name": "stdout",
     "output_type": "stream",
     "text": [
      "\n",
      "<class 'pandas.core.frame.DataFrame'>\n",
      "RangeIndex: 6361 entries, 0 to 6360\n",
      "Data columns (total 2 columns):\n",
      " #   Column         Non-Null Count  Dtype \n",
      "---  ------         --------------  ----- \n",
      " 0   customerID     6361 non-null   object\n",
      " 1   MultipleLines  6361 non-null   object\n",
      "dtypes: object(2)\n",
      "memory usage: 99.5+ KB\n",
      "None\n",
      "\n"
     ]
    },
    {
     "data": {
      "text/html": [
       "<div>\n",
       "<style scoped>\n",
       "    .dataframe tbody tr th:only-of-type {\n",
       "        vertical-align: middle;\n",
       "    }\n",
       "\n",
       "    .dataframe tbody tr th {\n",
       "        vertical-align: top;\n",
       "    }\n",
       "\n",
       "    .dataframe thead th {\n",
       "        text-align: right;\n",
       "    }\n",
       "</style>\n",
       "<table border=\"1\" class=\"dataframe\">\n",
       "  <thead>\n",
       "    <tr style=\"text-align: right;\">\n",
       "      <th></th>\n",
       "      <th>customerID</th>\n",
       "      <th>MultipleLines</th>\n",
       "    </tr>\n",
       "  </thead>\n",
       "  <tbody>\n",
       "    <tr>\n",
       "      <th>count</th>\n",
       "      <td>6361</td>\n",
       "      <td>6361</td>\n",
       "    </tr>\n",
       "    <tr>\n",
       "      <th>unique</th>\n",
       "      <td>6361</td>\n",
       "      <td>2</td>\n",
       "    </tr>\n",
       "    <tr>\n",
       "      <th>top</th>\n",
       "      <td>4945-RVMTE</td>\n",
       "      <td>No</td>\n",
       "    </tr>\n",
       "    <tr>\n",
       "      <th>freq</th>\n",
       "      <td>1</td>\n",
       "      <td>3390</td>\n",
       "    </tr>\n",
       "  </tbody>\n",
       "</table>\n",
       "</div>"
      ],
      "text/plain": [
       "        customerID MultipleLines\n",
       "count         6361          6361\n",
       "unique        6361             2\n",
       "top     4945-RVMTE            No\n",
       "freq             1          3390"
      ]
     },
     "metadata": {},
     "output_type": "display_data"
    }
   ],
   "source": [
    "# изучение данных об услугах телефонии\n",
    "information(df_phone)"
   ]
  },
  {
   "cell_type": "markdown",
   "metadata": {},
   "source": [
    "В последнем датасете также не по всем клиентам данные, пропусков нет.\n",
    "\n",
    "Теперь можем преступить к предобработке данных."
   ]
  },
  {
   "cell_type": "markdown",
   "metadata": {},
   "source": [
    "## Предобработка данных"
   ]
  },
  {
   "cell_type": "code",
   "execution_count": 8,
   "metadata": {},
   "outputs": [
    {
     "data": {
      "text/plain": [
       "Index(['CustomerID', 'Gender', 'SeniorCitizen', 'Partner', 'Dependents'], dtype='object')"
      ]
     },
     "execution_count": 8,
     "metadata": {},
     "output_type": "execute_result"
    }
   ],
   "source": [
    "# переименование столбцов\n",
    "df_contr = df_contr.rename(columns={'customerID': 'CustomerID'})\n",
    "df_pers = df_pers.rename(columns={'customerID': 'CustomerID', 'gender': 'Gender'})\n",
    "df_int = df_int.rename(columns={'customerID': 'CustomerID'})\n",
    "df_phone = df_phone.rename(columns={'customerID': 'CustomerID'})\n",
    "\n",
    "df_pers.columns # проверка"
   ]
  },
  {
   "cell_type": "markdown",
   "metadata": {},
   "source": [
    "Для удобства соединим все датасеты в один."
   ]
  },
  {
   "cell_type": "code",
   "execution_count": 9,
   "metadata": {
    "scrolled": true
   },
   "outputs": [
    {
     "data": {
      "text/html": [
       "<div>\n",
       "<style scoped>\n",
       "    .dataframe tbody tr th:only-of-type {\n",
       "        vertical-align: middle;\n",
       "    }\n",
       "\n",
       "    .dataframe tbody tr th {\n",
       "        vertical-align: top;\n",
       "    }\n",
       "\n",
       "    .dataframe thead th {\n",
       "        text-align: right;\n",
       "    }\n",
       "</style>\n",
       "<table border=\"1\" class=\"dataframe\">\n",
       "  <thead>\n",
       "    <tr style=\"text-align: right;\">\n",
       "      <th></th>\n",
       "      <th>BeginDate</th>\n",
       "      <th>EndDate</th>\n",
       "      <th>Type</th>\n",
       "      <th>PaperlessBilling</th>\n",
       "      <th>PaymentMethod</th>\n",
       "      <th>MonthlyCharges</th>\n",
       "      <th>TotalCharges</th>\n",
       "      <th>Gender</th>\n",
       "      <th>SeniorCitizen</th>\n",
       "      <th>Partner</th>\n",
       "      <th>Dependents</th>\n",
       "      <th>InternetService</th>\n",
       "      <th>OnlineSecurity</th>\n",
       "      <th>OnlineBackup</th>\n",
       "      <th>DeviceProtection</th>\n",
       "      <th>TechSupport</th>\n",
       "      <th>StreamingTV</th>\n",
       "      <th>StreamingMovies</th>\n",
       "      <th>MultipleLines</th>\n",
       "    </tr>\n",
       "    <tr>\n",
       "      <th>CustomerID</th>\n",
       "      <th></th>\n",
       "      <th></th>\n",
       "      <th></th>\n",
       "      <th></th>\n",
       "      <th></th>\n",
       "      <th></th>\n",
       "      <th></th>\n",
       "      <th></th>\n",
       "      <th></th>\n",
       "      <th></th>\n",
       "      <th></th>\n",
       "      <th></th>\n",
       "      <th></th>\n",
       "      <th></th>\n",
       "      <th></th>\n",
       "      <th></th>\n",
       "      <th></th>\n",
       "      <th></th>\n",
       "      <th></th>\n",
       "    </tr>\n",
       "  </thead>\n",
       "  <tbody>\n",
       "    <tr>\n",
       "      <th>7590-VHVEG</th>\n",
       "      <td>2020-01-01</td>\n",
       "      <td>No</td>\n",
       "      <td>Month-to-month</td>\n",
       "      <td>Yes</td>\n",
       "      <td>Electronic check</td>\n",
       "      <td>29.85</td>\n",
       "      <td>29.85</td>\n",
       "      <td>Female</td>\n",
       "      <td>0</td>\n",
       "      <td>Yes</td>\n",
       "      <td>No</td>\n",
       "      <td>DSL</td>\n",
       "      <td>No</td>\n",
       "      <td>Yes</td>\n",
       "      <td>No</td>\n",
       "      <td>No</td>\n",
       "      <td>No</td>\n",
       "      <td>No</td>\n",
       "      <td>NaN</td>\n",
       "    </tr>\n",
       "    <tr>\n",
       "      <th>5575-GNVDE</th>\n",
       "      <td>2017-04-01</td>\n",
       "      <td>No</td>\n",
       "      <td>One year</td>\n",
       "      <td>No</td>\n",
       "      <td>Mailed check</td>\n",
       "      <td>56.95</td>\n",
       "      <td>1889.5</td>\n",
       "      <td>Male</td>\n",
       "      <td>0</td>\n",
       "      <td>No</td>\n",
       "      <td>No</td>\n",
       "      <td>DSL</td>\n",
       "      <td>Yes</td>\n",
       "      <td>No</td>\n",
       "      <td>Yes</td>\n",
       "      <td>No</td>\n",
       "      <td>No</td>\n",
       "      <td>No</td>\n",
       "      <td>No</td>\n",
       "    </tr>\n",
       "    <tr>\n",
       "      <th>3668-QPYBK</th>\n",
       "      <td>2019-10-01</td>\n",
       "      <td>2019-12-01 00:00:00</td>\n",
       "      <td>Month-to-month</td>\n",
       "      <td>Yes</td>\n",
       "      <td>Mailed check</td>\n",
       "      <td>53.85</td>\n",
       "      <td>108.15</td>\n",
       "      <td>Male</td>\n",
       "      <td>0</td>\n",
       "      <td>No</td>\n",
       "      <td>No</td>\n",
       "      <td>DSL</td>\n",
       "      <td>Yes</td>\n",
       "      <td>Yes</td>\n",
       "      <td>No</td>\n",
       "      <td>No</td>\n",
       "      <td>No</td>\n",
       "      <td>No</td>\n",
       "      <td>No</td>\n",
       "    </tr>\n",
       "    <tr>\n",
       "      <th>7795-CFOCW</th>\n",
       "      <td>2016-05-01</td>\n",
       "      <td>No</td>\n",
       "      <td>One year</td>\n",
       "      <td>No</td>\n",
       "      <td>Bank transfer (automatic)</td>\n",
       "      <td>42.30</td>\n",
       "      <td>1840.75</td>\n",
       "      <td>Male</td>\n",
       "      <td>0</td>\n",
       "      <td>No</td>\n",
       "      <td>No</td>\n",
       "      <td>DSL</td>\n",
       "      <td>Yes</td>\n",
       "      <td>No</td>\n",
       "      <td>Yes</td>\n",
       "      <td>Yes</td>\n",
       "      <td>No</td>\n",
       "      <td>No</td>\n",
       "      <td>NaN</td>\n",
       "    </tr>\n",
       "    <tr>\n",
       "      <th>9237-HQITU</th>\n",
       "      <td>2019-09-01</td>\n",
       "      <td>2019-11-01 00:00:00</td>\n",
       "      <td>Month-to-month</td>\n",
       "      <td>Yes</td>\n",
       "      <td>Electronic check</td>\n",
       "      <td>70.70</td>\n",
       "      <td>151.65</td>\n",
       "      <td>Female</td>\n",
       "      <td>0</td>\n",
       "      <td>No</td>\n",
       "      <td>No</td>\n",
       "      <td>Fiber optic</td>\n",
       "      <td>No</td>\n",
       "      <td>No</td>\n",
       "      <td>No</td>\n",
       "      <td>No</td>\n",
       "      <td>No</td>\n",
       "      <td>No</td>\n",
       "      <td>No</td>\n",
       "    </tr>\n",
       "  </tbody>\n",
       "</table>\n",
       "</div>"
      ],
      "text/plain": [
       "             BeginDate              EndDate            Type PaperlessBilling  \\\n",
       "CustomerID                                                                     \n",
       "7590-VHVEG  2020-01-01                   No  Month-to-month              Yes   \n",
       "5575-GNVDE  2017-04-01                   No        One year               No   \n",
       "3668-QPYBK  2019-10-01  2019-12-01 00:00:00  Month-to-month              Yes   \n",
       "7795-CFOCW  2016-05-01                   No        One year               No   \n",
       "9237-HQITU  2019-09-01  2019-11-01 00:00:00  Month-to-month              Yes   \n",
       "\n",
       "                        PaymentMethod  MonthlyCharges TotalCharges  Gender  \\\n",
       "CustomerID                                                                   \n",
       "7590-VHVEG           Electronic check           29.85        29.85  Female   \n",
       "5575-GNVDE               Mailed check           56.95       1889.5    Male   \n",
       "3668-QPYBK               Mailed check           53.85       108.15    Male   \n",
       "7795-CFOCW  Bank transfer (automatic)           42.30      1840.75    Male   \n",
       "9237-HQITU           Electronic check           70.70       151.65  Female   \n",
       "\n",
       "            SeniorCitizen Partner Dependents InternetService OnlineSecurity  \\\n",
       "CustomerID                                                                    \n",
       "7590-VHVEG              0     Yes         No             DSL             No   \n",
       "5575-GNVDE              0      No         No             DSL            Yes   \n",
       "3668-QPYBK              0      No         No             DSL            Yes   \n",
       "7795-CFOCW              0      No         No             DSL            Yes   \n",
       "9237-HQITU              0      No         No     Fiber optic             No   \n",
       "\n",
       "           OnlineBackup DeviceProtection TechSupport StreamingTV  \\\n",
       "CustomerID                                                         \n",
       "7590-VHVEG          Yes               No          No          No   \n",
       "5575-GNVDE           No              Yes          No          No   \n",
       "3668-QPYBK          Yes               No          No          No   \n",
       "7795-CFOCW           No              Yes         Yes          No   \n",
       "9237-HQITU           No               No          No          No   \n",
       "\n",
       "           StreamingMovies MultipleLines  \n",
       "CustomerID                                \n",
       "7590-VHVEG              No           NaN  \n",
       "5575-GNVDE              No            No  \n",
       "3668-QPYBK              No            No  \n",
       "7795-CFOCW              No           NaN  \n",
       "9237-HQITU              No            No  "
      ]
     },
     "metadata": {},
     "output_type": "display_data"
    },
    {
     "name": "stdout",
     "output_type": "stream",
     "text": [
      "\n",
      "<class 'pandas.core.frame.DataFrame'>\n",
      "Index: 7043 entries, 7590-VHVEG to 3186-AJIEK\n",
      "Data columns (total 19 columns):\n",
      " #   Column            Non-Null Count  Dtype  \n",
      "---  ------            --------------  -----  \n",
      " 0   BeginDate         7043 non-null   object \n",
      " 1   EndDate           7043 non-null   object \n",
      " 2   Type              7043 non-null   object \n",
      " 3   PaperlessBilling  7043 non-null   object \n",
      " 4   PaymentMethod     7043 non-null   object \n",
      " 5   MonthlyCharges    7043 non-null   float64\n",
      " 6   TotalCharges      7043 non-null   object \n",
      " 7   Gender            7043 non-null   object \n",
      " 8   SeniorCitizen     7043 non-null   int64  \n",
      " 9   Partner           7043 non-null   object \n",
      " 10  Dependents        7043 non-null   object \n",
      " 11  InternetService   5517 non-null   object \n",
      " 12  OnlineSecurity    5517 non-null   object \n",
      " 13  OnlineBackup      5517 non-null   object \n",
      " 14  DeviceProtection  5517 non-null   object \n",
      " 15  TechSupport       5517 non-null   object \n",
      " 16  StreamingTV       5517 non-null   object \n",
      " 17  StreamingMovies   5517 non-null   object \n",
      " 18  MultipleLines     6361 non-null   object \n",
      "dtypes: float64(1), int64(1), object(17)\n",
      "memory usage: 1.1+ MB\n",
      "None\n",
      "\n"
     ]
    },
    {
     "data": {
      "text/html": [
       "<div>\n",
       "<style scoped>\n",
       "    .dataframe tbody tr th:only-of-type {\n",
       "        vertical-align: middle;\n",
       "    }\n",
       "\n",
       "    .dataframe tbody tr th {\n",
       "        vertical-align: top;\n",
       "    }\n",
       "\n",
       "    .dataframe thead th {\n",
       "        text-align: right;\n",
       "    }\n",
       "</style>\n",
       "<table border=\"1\" class=\"dataframe\">\n",
       "  <thead>\n",
       "    <tr style=\"text-align: right;\">\n",
       "      <th></th>\n",
       "      <th>MonthlyCharges</th>\n",
       "      <th>SeniorCitizen</th>\n",
       "    </tr>\n",
       "  </thead>\n",
       "  <tbody>\n",
       "    <tr>\n",
       "      <th>count</th>\n",
       "      <td>7043.000000</td>\n",
       "      <td>7043.000000</td>\n",
       "    </tr>\n",
       "    <tr>\n",
       "      <th>mean</th>\n",
       "      <td>64.761692</td>\n",
       "      <td>0.162147</td>\n",
       "    </tr>\n",
       "    <tr>\n",
       "      <th>std</th>\n",
       "      <td>30.090047</td>\n",
       "      <td>0.368612</td>\n",
       "    </tr>\n",
       "    <tr>\n",
       "      <th>min</th>\n",
       "      <td>18.250000</td>\n",
       "      <td>0.000000</td>\n",
       "    </tr>\n",
       "    <tr>\n",
       "      <th>25%</th>\n",
       "      <td>35.500000</td>\n",
       "      <td>0.000000</td>\n",
       "    </tr>\n",
       "    <tr>\n",
       "      <th>50%</th>\n",
       "      <td>70.350000</td>\n",
       "      <td>0.000000</td>\n",
       "    </tr>\n",
       "    <tr>\n",
       "      <th>75%</th>\n",
       "      <td>89.850000</td>\n",
       "      <td>0.000000</td>\n",
       "    </tr>\n",
       "    <tr>\n",
       "      <th>max</th>\n",
       "      <td>118.750000</td>\n",
       "      <td>1.000000</td>\n",
       "    </tr>\n",
       "  </tbody>\n",
       "</table>\n",
       "</div>"
      ],
      "text/plain": [
       "       MonthlyCharges  SeniorCitizen\n",
       "count     7043.000000    7043.000000\n",
       "mean        64.761692       0.162147\n",
       "std         30.090047       0.368612\n",
       "min         18.250000       0.000000\n",
       "25%         35.500000       0.000000\n",
       "50%         70.350000       0.000000\n",
       "75%         89.850000       0.000000\n",
       "max        118.750000       1.000000"
      ]
     },
     "metadata": {},
     "output_type": "display_data"
    }
   ],
   "source": [
    "# соединение данных\n",
    "df = df_contr.merge(df_pers, how='left', on='CustomerID').merge(df_int, how='left', on='CustomerID').merge(df_phone, how='left', on='CustomerID')\n",
    "\n",
    "df = df.set_index('CustomerID') # CustomerID сделаем индексом\n",
    "\n",
    "information(df)"
   ]
  },
  {
   "cell_type": "markdown",
   "metadata": {},
   "source": [
    "После объединения таблиц, в данных появились пропуски. Скорее всего это произошло из-за того, что одни клиенты пользуются одними услугами, а другие другими. Поэтому в столбцах `InternetService`, `OnlineSecurity`, `OnlineBackup`, `DeviceProtection`, `TechSupport`, `StreamingTV`, `StreamingMovies`, `MultipleLines` пропуски заменим на No."
   ]
  },
  {
   "cell_type": "code",
   "execution_count": 10,
   "metadata": {},
   "outputs": [
    {
     "name": "stdout",
     "output_type": "stream",
     "text": [
      "<class 'pandas.core.frame.DataFrame'>\n",
      "Index: 7043 entries, 7590-VHVEG to 3186-AJIEK\n",
      "Data columns (total 19 columns):\n",
      " #   Column            Non-Null Count  Dtype  \n",
      "---  ------            --------------  -----  \n",
      " 0   BeginDate         7043 non-null   object \n",
      " 1   EndDate           7043 non-null   object \n",
      " 2   Type              7043 non-null   object \n",
      " 3   PaperlessBilling  7043 non-null   object \n",
      " 4   PaymentMethod     7043 non-null   object \n",
      " 5   MonthlyCharges    7043 non-null   float64\n",
      " 6   TotalCharges      7043 non-null   object \n",
      " 7   Gender            7043 non-null   object \n",
      " 8   SeniorCitizen     7043 non-null   int64  \n",
      " 9   Partner           7043 non-null   object \n",
      " 10  Dependents        7043 non-null   object \n",
      " 11  InternetService   7043 non-null   object \n",
      " 12  OnlineSecurity    7043 non-null   object \n",
      " 13  OnlineBackup      7043 non-null   object \n",
      " 14  DeviceProtection  7043 non-null   object \n",
      " 15  TechSupport       7043 non-null   object \n",
      " 16  StreamingTV       7043 non-null   object \n",
      " 17  StreamingMovies   7043 non-null   object \n",
      " 18  MultipleLines     7043 non-null   object \n",
      "dtypes: float64(1), int64(1), object(17)\n",
      "memory usage: 1.1+ MB\n"
     ]
    }
   ],
   "source": [
    "# заполнение пропущенных значений на No\n",
    "col = ['InternetService', 'OnlineSecurity', 'OnlineBackup', 'DeviceProtection',\n",
    "       'TechSupport', 'StreamingTV', 'StreamingMovies', 'MultipleLines']\n",
    "for column in col:\n",
    "    df[column] = df[column].fillna('No')\n",
    "\n",
    "df.info()"
   ]
  },
  {
   "cell_type": "markdown",
   "metadata": {},
   "source": [
    "Теперь перейдем к изменению типав данных.\n",
    "В столбце `EndDate` сперва необходимо заменить значение No, иначе код выдаст ошибку. Заменим на дату выгрузки данных 2020-02-01, это будет означать, что клиент продолжает пользоваться услугами, что позволит создать новый столбец с целевым признаком, где 0 - это клиент продолжает пользоваться услугами, а 1 - клиент отказался пользоваться услугами компании."
   ]
  },
  {
   "cell_type": "code",
   "execution_count": 11,
   "metadata": {},
   "outputs": [
    {
     "data": {
      "text/plain": [
       "CustomerID\n",
       "7590-VHVEG             2020-02-01\n",
       "5575-GNVDE             2020-02-01\n",
       "3668-QPYBK    2019-12-01 00:00:00\n",
       "7795-CFOCW             2020-02-01\n",
       "9237-HQITU    2019-11-01 00:00:00\n",
       "Name: EndDate, dtype: object"
      ]
     },
     "execution_count": 11,
     "metadata": {},
     "output_type": "execute_result"
    }
   ],
   "source": [
    "# замена значения No на 2020-02-01\n",
    "df['EndDate'] = df['EndDate'].replace('No', '2020-02-01')\n",
    "df['EndDate'].head()"
   ]
  },
  {
   "cell_type": "code",
   "execution_count": 12,
   "metadata": {
    "scrolled": true
   },
   "outputs": [
    {
     "name": "stdout",
     "output_type": "stream",
     "text": [
      "<class 'pandas.core.frame.DataFrame'>\n",
      "Index: 7043 entries, 7590-VHVEG to 3186-AJIEK\n",
      "Data columns (total 19 columns):\n",
      " #   Column            Non-Null Count  Dtype         \n",
      "---  ------            --------------  -----         \n",
      " 0   BeginDate         7043 non-null   datetime64[ns]\n",
      " 1   EndDate           7043 non-null   datetime64[ns]\n",
      " 2   Type              7043 non-null   object        \n",
      " 3   PaperlessBilling  7043 non-null   object        \n",
      " 4   PaymentMethod     7043 non-null   object        \n",
      " 5   MonthlyCharges    7043 non-null   float64       \n",
      " 6   TotalCharges      7032 non-null   float64       \n",
      " 7   Gender            7043 non-null   object        \n",
      " 8   SeniorCitizen     7043 non-null   int64         \n",
      " 9   Partner           7043 non-null   object        \n",
      " 10  Dependents        7043 non-null   object        \n",
      " 11  InternetService   7043 non-null   object        \n",
      " 12  OnlineSecurity    7043 non-null   object        \n",
      " 13  OnlineBackup      7043 non-null   object        \n",
      " 14  DeviceProtection  7043 non-null   object        \n",
      " 15  TechSupport       7043 non-null   object        \n",
      " 16  StreamingTV       7043 non-null   object        \n",
      " 17  StreamingMovies   7043 non-null   object        \n",
      " 18  MultipleLines     7043 non-null   object        \n",
      "dtypes: datetime64[ns](2), float64(2), int64(1), object(14)\n",
      "memory usage: 1.1+ MB\n"
     ]
    }
   ],
   "source": [
    "# изменение типов данных\n",
    "df['TotalCharges'] = pd.to_numeric(df['TotalCharges'], errors ='coerce')\n",
    "df['BeginDate'] = pd.to_datetime(df['BeginDate'], format='%Y-%m-%d')\n",
    "df['EndDate'] = pd.to_datetime(df['EndDate'], format='%Y-%m-%d')\n",
    "\n",
    "df.info()"
   ]
  },
  {
   "cell_type": "markdown",
   "metadata": {},
   "source": [
    "После изменения типа данных в столбце `TotalCharges` появились пропуски, посмотрим их и избавимся от них."
   ]
  },
  {
   "cell_type": "code",
   "execution_count": 13,
   "metadata": {
    "scrolled": true
   },
   "outputs": [
    {
     "data": {
      "text/html": [
       "<div>\n",
       "<style scoped>\n",
       "    .dataframe tbody tr th:only-of-type {\n",
       "        vertical-align: middle;\n",
       "    }\n",
       "\n",
       "    .dataframe tbody tr th {\n",
       "        vertical-align: top;\n",
       "    }\n",
       "\n",
       "    .dataframe thead th {\n",
       "        text-align: right;\n",
       "    }\n",
       "</style>\n",
       "<table border=\"1\" class=\"dataframe\">\n",
       "  <thead>\n",
       "    <tr style=\"text-align: right;\">\n",
       "      <th></th>\n",
       "      <th>BeginDate</th>\n",
       "      <th>EndDate</th>\n",
       "      <th>Type</th>\n",
       "      <th>PaperlessBilling</th>\n",
       "      <th>PaymentMethod</th>\n",
       "      <th>MonthlyCharges</th>\n",
       "      <th>TotalCharges</th>\n",
       "      <th>Gender</th>\n",
       "      <th>SeniorCitizen</th>\n",
       "      <th>Partner</th>\n",
       "      <th>Dependents</th>\n",
       "      <th>InternetService</th>\n",
       "      <th>OnlineSecurity</th>\n",
       "      <th>OnlineBackup</th>\n",
       "      <th>DeviceProtection</th>\n",
       "      <th>TechSupport</th>\n",
       "      <th>StreamingTV</th>\n",
       "      <th>StreamingMovies</th>\n",
       "      <th>MultipleLines</th>\n",
       "    </tr>\n",
       "    <tr>\n",
       "      <th>CustomerID</th>\n",
       "      <th></th>\n",
       "      <th></th>\n",
       "      <th></th>\n",
       "      <th></th>\n",
       "      <th></th>\n",
       "      <th></th>\n",
       "      <th></th>\n",
       "      <th></th>\n",
       "      <th></th>\n",
       "      <th></th>\n",
       "      <th></th>\n",
       "      <th></th>\n",
       "      <th></th>\n",
       "      <th></th>\n",
       "      <th></th>\n",
       "      <th></th>\n",
       "      <th></th>\n",
       "      <th></th>\n",
       "      <th></th>\n",
       "    </tr>\n",
       "  </thead>\n",
       "  <tbody>\n",
       "    <tr>\n",
       "      <th>4472-LVYGI</th>\n",
       "      <td>2020-02-01</td>\n",
       "      <td>2020-02-01</td>\n",
       "      <td>Two year</td>\n",
       "      <td>Yes</td>\n",
       "      <td>Bank transfer (automatic)</td>\n",
       "      <td>52.55</td>\n",
       "      <td>NaN</td>\n",
       "      <td>Female</td>\n",
       "      <td>0</td>\n",
       "      <td>Yes</td>\n",
       "      <td>Yes</td>\n",
       "      <td>DSL</td>\n",
       "      <td>Yes</td>\n",
       "      <td>No</td>\n",
       "      <td>Yes</td>\n",
       "      <td>Yes</td>\n",
       "      <td>Yes</td>\n",
       "      <td>No</td>\n",
       "      <td>No</td>\n",
       "    </tr>\n",
       "    <tr>\n",
       "      <th>3115-CZMZD</th>\n",
       "      <td>2020-02-01</td>\n",
       "      <td>2020-02-01</td>\n",
       "      <td>Two year</td>\n",
       "      <td>No</td>\n",
       "      <td>Mailed check</td>\n",
       "      <td>20.25</td>\n",
       "      <td>NaN</td>\n",
       "      <td>Male</td>\n",
       "      <td>0</td>\n",
       "      <td>No</td>\n",
       "      <td>Yes</td>\n",
       "      <td>No</td>\n",
       "      <td>No</td>\n",
       "      <td>No</td>\n",
       "      <td>No</td>\n",
       "      <td>No</td>\n",
       "      <td>No</td>\n",
       "      <td>No</td>\n",
       "      <td>No</td>\n",
       "    </tr>\n",
       "    <tr>\n",
       "      <th>5709-LVOEQ</th>\n",
       "      <td>2020-02-01</td>\n",
       "      <td>2020-02-01</td>\n",
       "      <td>Two year</td>\n",
       "      <td>No</td>\n",
       "      <td>Mailed check</td>\n",
       "      <td>80.85</td>\n",
       "      <td>NaN</td>\n",
       "      <td>Female</td>\n",
       "      <td>0</td>\n",
       "      <td>Yes</td>\n",
       "      <td>Yes</td>\n",
       "      <td>DSL</td>\n",
       "      <td>Yes</td>\n",
       "      <td>Yes</td>\n",
       "      <td>Yes</td>\n",
       "      <td>No</td>\n",
       "      <td>Yes</td>\n",
       "      <td>Yes</td>\n",
       "      <td>No</td>\n",
       "    </tr>\n",
       "    <tr>\n",
       "      <th>4367-NUYAO</th>\n",
       "      <td>2020-02-01</td>\n",
       "      <td>2020-02-01</td>\n",
       "      <td>Two year</td>\n",
       "      <td>No</td>\n",
       "      <td>Mailed check</td>\n",
       "      <td>25.75</td>\n",
       "      <td>NaN</td>\n",
       "      <td>Male</td>\n",
       "      <td>0</td>\n",
       "      <td>Yes</td>\n",
       "      <td>Yes</td>\n",
       "      <td>No</td>\n",
       "      <td>No</td>\n",
       "      <td>No</td>\n",
       "      <td>No</td>\n",
       "      <td>No</td>\n",
       "      <td>No</td>\n",
       "      <td>No</td>\n",
       "      <td>Yes</td>\n",
       "    </tr>\n",
       "    <tr>\n",
       "      <th>1371-DWPAZ</th>\n",
       "      <td>2020-02-01</td>\n",
       "      <td>2020-02-01</td>\n",
       "      <td>Two year</td>\n",
       "      <td>No</td>\n",
       "      <td>Credit card (automatic)</td>\n",
       "      <td>56.05</td>\n",
       "      <td>NaN</td>\n",
       "      <td>Female</td>\n",
       "      <td>0</td>\n",
       "      <td>Yes</td>\n",
       "      <td>Yes</td>\n",
       "      <td>DSL</td>\n",
       "      <td>Yes</td>\n",
       "      <td>Yes</td>\n",
       "      <td>Yes</td>\n",
       "      <td>Yes</td>\n",
       "      <td>Yes</td>\n",
       "      <td>No</td>\n",
       "      <td>No</td>\n",
       "    </tr>\n",
       "    <tr>\n",
       "      <th>7644-OMVMY</th>\n",
       "      <td>2020-02-01</td>\n",
       "      <td>2020-02-01</td>\n",
       "      <td>Two year</td>\n",
       "      <td>No</td>\n",
       "      <td>Mailed check</td>\n",
       "      <td>19.85</td>\n",
       "      <td>NaN</td>\n",
       "      <td>Male</td>\n",
       "      <td>0</td>\n",
       "      <td>Yes</td>\n",
       "      <td>Yes</td>\n",
       "      <td>No</td>\n",
       "      <td>No</td>\n",
       "      <td>No</td>\n",
       "      <td>No</td>\n",
       "      <td>No</td>\n",
       "      <td>No</td>\n",
       "      <td>No</td>\n",
       "      <td>No</td>\n",
       "    </tr>\n",
       "    <tr>\n",
       "      <th>3213-VVOLG</th>\n",
       "      <td>2020-02-01</td>\n",
       "      <td>2020-02-01</td>\n",
       "      <td>Two year</td>\n",
       "      <td>No</td>\n",
       "      <td>Mailed check</td>\n",
       "      <td>25.35</td>\n",
       "      <td>NaN</td>\n",
       "      <td>Male</td>\n",
       "      <td>0</td>\n",
       "      <td>Yes</td>\n",
       "      <td>Yes</td>\n",
       "      <td>No</td>\n",
       "      <td>No</td>\n",
       "      <td>No</td>\n",
       "      <td>No</td>\n",
       "      <td>No</td>\n",
       "      <td>No</td>\n",
       "      <td>No</td>\n",
       "      <td>Yes</td>\n",
       "    </tr>\n",
       "    <tr>\n",
       "      <th>2520-SGTTA</th>\n",
       "      <td>2020-02-01</td>\n",
       "      <td>2020-02-01</td>\n",
       "      <td>Two year</td>\n",
       "      <td>No</td>\n",
       "      <td>Mailed check</td>\n",
       "      <td>20.00</td>\n",
       "      <td>NaN</td>\n",
       "      <td>Female</td>\n",
       "      <td>0</td>\n",
       "      <td>Yes</td>\n",
       "      <td>Yes</td>\n",
       "      <td>No</td>\n",
       "      <td>No</td>\n",
       "      <td>No</td>\n",
       "      <td>No</td>\n",
       "      <td>No</td>\n",
       "      <td>No</td>\n",
       "      <td>No</td>\n",
       "      <td>No</td>\n",
       "    </tr>\n",
       "    <tr>\n",
       "      <th>2923-ARZLG</th>\n",
       "      <td>2020-02-01</td>\n",
       "      <td>2020-02-01</td>\n",
       "      <td>One year</td>\n",
       "      <td>Yes</td>\n",
       "      <td>Mailed check</td>\n",
       "      <td>19.70</td>\n",
       "      <td>NaN</td>\n",
       "      <td>Male</td>\n",
       "      <td>0</td>\n",
       "      <td>Yes</td>\n",
       "      <td>Yes</td>\n",
       "      <td>No</td>\n",
       "      <td>No</td>\n",
       "      <td>No</td>\n",
       "      <td>No</td>\n",
       "      <td>No</td>\n",
       "      <td>No</td>\n",
       "      <td>No</td>\n",
       "      <td>No</td>\n",
       "    </tr>\n",
       "    <tr>\n",
       "      <th>4075-WKNIU</th>\n",
       "      <td>2020-02-01</td>\n",
       "      <td>2020-02-01</td>\n",
       "      <td>Two year</td>\n",
       "      <td>No</td>\n",
       "      <td>Mailed check</td>\n",
       "      <td>73.35</td>\n",
       "      <td>NaN</td>\n",
       "      <td>Female</td>\n",
       "      <td>0</td>\n",
       "      <td>Yes</td>\n",
       "      <td>Yes</td>\n",
       "      <td>DSL</td>\n",
       "      <td>No</td>\n",
       "      <td>Yes</td>\n",
       "      <td>Yes</td>\n",
       "      <td>Yes</td>\n",
       "      <td>Yes</td>\n",
       "      <td>No</td>\n",
       "      <td>Yes</td>\n",
       "    </tr>\n",
       "    <tr>\n",
       "      <th>2775-SEFEE</th>\n",
       "      <td>2020-02-01</td>\n",
       "      <td>2020-02-01</td>\n",
       "      <td>Two year</td>\n",
       "      <td>Yes</td>\n",
       "      <td>Bank transfer (automatic)</td>\n",
       "      <td>61.90</td>\n",
       "      <td>NaN</td>\n",
       "      <td>Male</td>\n",
       "      <td>0</td>\n",
       "      <td>No</td>\n",
       "      <td>Yes</td>\n",
       "      <td>DSL</td>\n",
       "      <td>Yes</td>\n",
       "      <td>Yes</td>\n",
       "      <td>No</td>\n",
       "      <td>Yes</td>\n",
       "      <td>No</td>\n",
       "      <td>No</td>\n",
       "      <td>Yes</td>\n",
       "    </tr>\n",
       "  </tbody>\n",
       "</table>\n",
       "</div>"
      ],
      "text/plain": [
       "            BeginDate    EndDate      Type PaperlessBilling  \\\n",
       "CustomerID                                                    \n",
       "4472-LVYGI 2020-02-01 2020-02-01  Two year              Yes   \n",
       "3115-CZMZD 2020-02-01 2020-02-01  Two year               No   \n",
       "5709-LVOEQ 2020-02-01 2020-02-01  Two year               No   \n",
       "4367-NUYAO 2020-02-01 2020-02-01  Two year               No   \n",
       "1371-DWPAZ 2020-02-01 2020-02-01  Two year               No   \n",
       "7644-OMVMY 2020-02-01 2020-02-01  Two year               No   \n",
       "3213-VVOLG 2020-02-01 2020-02-01  Two year               No   \n",
       "2520-SGTTA 2020-02-01 2020-02-01  Two year               No   \n",
       "2923-ARZLG 2020-02-01 2020-02-01  One year              Yes   \n",
       "4075-WKNIU 2020-02-01 2020-02-01  Two year               No   \n",
       "2775-SEFEE 2020-02-01 2020-02-01  Two year              Yes   \n",
       "\n",
       "                        PaymentMethod  MonthlyCharges  TotalCharges  Gender  \\\n",
       "CustomerID                                                                    \n",
       "4472-LVYGI  Bank transfer (automatic)           52.55           NaN  Female   \n",
       "3115-CZMZD               Mailed check           20.25           NaN    Male   \n",
       "5709-LVOEQ               Mailed check           80.85           NaN  Female   \n",
       "4367-NUYAO               Mailed check           25.75           NaN    Male   \n",
       "1371-DWPAZ    Credit card (automatic)           56.05           NaN  Female   \n",
       "7644-OMVMY               Mailed check           19.85           NaN    Male   \n",
       "3213-VVOLG               Mailed check           25.35           NaN    Male   \n",
       "2520-SGTTA               Mailed check           20.00           NaN  Female   \n",
       "2923-ARZLG               Mailed check           19.70           NaN    Male   \n",
       "4075-WKNIU               Mailed check           73.35           NaN  Female   \n",
       "2775-SEFEE  Bank transfer (automatic)           61.90           NaN    Male   \n",
       "\n",
       "            SeniorCitizen Partner Dependents InternetService OnlineSecurity  \\\n",
       "CustomerID                                                                    \n",
       "4472-LVYGI              0     Yes        Yes             DSL            Yes   \n",
       "3115-CZMZD              0      No        Yes              No             No   \n",
       "5709-LVOEQ              0     Yes        Yes             DSL            Yes   \n",
       "4367-NUYAO              0     Yes        Yes              No             No   \n",
       "1371-DWPAZ              0     Yes        Yes             DSL            Yes   \n",
       "7644-OMVMY              0     Yes        Yes              No             No   \n",
       "3213-VVOLG              0     Yes        Yes              No             No   \n",
       "2520-SGTTA              0     Yes        Yes              No             No   \n",
       "2923-ARZLG              0     Yes        Yes              No             No   \n",
       "4075-WKNIU              0     Yes        Yes             DSL             No   \n",
       "2775-SEFEE              0      No        Yes             DSL            Yes   \n",
       "\n",
       "           OnlineBackup DeviceProtection TechSupport StreamingTV  \\\n",
       "CustomerID                                                         \n",
       "4472-LVYGI           No              Yes         Yes         Yes   \n",
       "3115-CZMZD           No               No          No          No   \n",
       "5709-LVOEQ          Yes              Yes          No         Yes   \n",
       "4367-NUYAO           No               No          No          No   \n",
       "1371-DWPAZ          Yes              Yes         Yes         Yes   \n",
       "7644-OMVMY           No               No          No          No   \n",
       "3213-VVOLG           No               No          No          No   \n",
       "2520-SGTTA           No               No          No          No   \n",
       "2923-ARZLG           No               No          No          No   \n",
       "4075-WKNIU          Yes              Yes         Yes         Yes   \n",
       "2775-SEFEE          Yes               No         Yes          No   \n",
       "\n",
       "           StreamingMovies MultipleLines  \n",
       "CustomerID                                \n",
       "4472-LVYGI              No            No  \n",
       "3115-CZMZD              No            No  \n",
       "5709-LVOEQ             Yes            No  \n",
       "4367-NUYAO              No           Yes  \n",
       "1371-DWPAZ              No            No  \n",
       "7644-OMVMY              No            No  \n",
       "3213-VVOLG              No           Yes  \n",
       "2520-SGTTA              No            No  \n",
       "2923-ARZLG              No            No  \n",
       "4075-WKNIU              No           Yes  \n",
       "2775-SEFEE              No           Yes  "
      ]
     },
     "execution_count": 13,
     "metadata": {},
     "output_type": "execute_result"
    }
   ],
   "source": [
    "# срез данных с пропусками\n",
    "df.query('TotalCharges.isna()')"
   ]
  },
  {
   "cell_type": "markdown",
   "metadata": {},
   "source": [
    "Из таблицы видно, что пропуски образовались в данных у тех клиентов, которые только начали пользоваться услугами компании (1 день). Заменим пропущенные значения на 0."
   ]
  },
  {
   "cell_type": "code",
   "execution_count": 14,
   "metadata": {},
   "outputs": [
    {
     "data": {
      "text/plain": [
       "0"
      ]
     },
     "execution_count": 14,
     "metadata": {},
     "output_type": "execute_result"
    }
   ],
   "source": [
    "# замена пропусков на 0\n",
    "df['TotalCharges'] = df['TotalCharges'].fillna(0)\n",
    "df['TotalCharges'].isna().sum()"
   ]
  },
  {
   "cell_type": "markdown",
   "metadata": {},
   "source": [
    "Теперь создадим столбец с целевым признаком."
   ]
  },
  {
   "cell_type": "code",
   "execution_count": 15,
   "metadata": {
    "scrolled": true
   },
   "outputs": [
    {
     "data": {
      "text/html": [
       "<div>\n",
       "<style scoped>\n",
       "    .dataframe tbody tr th:only-of-type {\n",
       "        vertical-align: middle;\n",
       "    }\n",
       "\n",
       "    .dataframe tbody tr th {\n",
       "        vertical-align: top;\n",
       "    }\n",
       "\n",
       "    .dataframe thead th {\n",
       "        text-align: right;\n",
       "    }\n",
       "</style>\n",
       "<table border=\"1\" class=\"dataframe\">\n",
       "  <thead>\n",
       "    <tr style=\"text-align: right;\">\n",
       "      <th></th>\n",
       "      <th>BeginDate</th>\n",
       "      <th>EndDate</th>\n",
       "      <th>Type</th>\n",
       "      <th>PaperlessBilling</th>\n",
       "      <th>PaymentMethod</th>\n",
       "      <th>MonthlyCharges</th>\n",
       "      <th>TotalCharges</th>\n",
       "      <th>Gender</th>\n",
       "      <th>SeniorCitizen</th>\n",
       "      <th>Partner</th>\n",
       "      <th>Dependents</th>\n",
       "      <th>InternetService</th>\n",
       "      <th>OnlineSecurity</th>\n",
       "      <th>OnlineBackup</th>\n",
       "      <th>DeviceProtection</th>\n",
       "      <th>TechSupport</th>\n",
       "      <th>StreamingTV</th>\n",
       "      <th>StreamingMovies</th>\n",
       "      <th>MultipleLines</th>\n",
       "      <th>Outflow</th>\n",
       "    </tr>\n",
       "    <tr>\n",
       "      <th>CustomerID</th>\n",
       "      <th></th>\n",
       "      <th></th>\n",
       "      <th></th>\n",
       "      <th></th>\n",
       "      <th></th>\n",
       "      <th></th>\n",
       "      <th></th>\n",
       "      <th></th>\n",
       "      <th></th>\n",
       "      <th></th>\n",
       "      <th></th>\n",
       "      <th></th>\n",
       "      <th></th>\n",
       "      <th></th>\n",
       "      <th></th>\n",
       "      <th></th>\n",
       "      <th></th>\n",
       "      <th></th>\n",
       "      <th></th>\n",
       "      <th></th>\n",
       "    </tr>\n",
       "  </thead>\n",
       "  <tbody>\n",
       "    <tr>\n",
       "      <th>7590-VHVEG</th>\n",
       "      <td>2020-01-01</td>\n",
       "      <td>2020-02-01</td>\n",
       "      <td>Month-to-month</td>\n",
       "      <td>Yes</td>\n",
       "      <td>Electronic check</td>\n",
       "      <td>29.85</td>\n",
       "      <td>29.85</td>\n",
       "      <td>Female</td>\n",
       "      <td>0</td>\n",
       "      <td>Yes</td>\n",
       "      <td>No</td>\n",
       "      <td>DSL</td>\n",
       "      <td>No</td>\n",
       "      <td>Yes</td>\n",
       "      <td>No</td>\n",
       "      <td>No</td>\n",
       "      <td>No</td>\n",
       "      <td>No</td>\n",
       "      <td>No</td>\n",
       "      <td>0</td>\n",
       "    </tr>\n",
       "    <tr>\n",
       "      <th>5575-GNVDE</th>\n",
       "      <td>2017-04-01</td>\n",
       "      <td>2020-02-01</td>\n",
       "      <td>One year</td>\n",
       "      <td>No</td>\n",
       "      <td>Mailed check</td>\n",
       "      <td>56.95</td>\n",
       "      <td>1889.50</td>\n",
       "      <td>Male</td>\n",
       "      <td>0</td>\n",
       "      <td>No</td>\n",
       "      <td>No</td>\n",
       "      <td>DSL</td>\n",
       "      <td>Yes</td>\n",
       "      <td>No</td>\n",
       "      <td>Yes</td>\n",
       "      <td>No</td>\n",
       "      <td>No</td>\n",
       "      <td>No</td>\n",
       "      <td>No</td>\n",
       "      <td>0</td>\n",
       "    </tr>\n",
       "    <tr>\n",
       "      <th>3668-QPYBK</th>\n",
       "      <td>2019-10-01</td>\n",
       "      <td>2019-12-01</td>\n",
       "      <td>Month-to-month</td>\n",
       "      <td>Yes</td>\n",
       "      <td>Mailed check</td>\n",
       "      <td>53.85</td>\n",
       "      <td>108.15</td>\n",
       "      <td>Male</td>\n",
       "      <td>0</td>\n",
       "      <td>No</td>\n",
       "      <td>No</td>\n",
       "      <td>DSL</td>\n",
       "      <td>Yes</td>\n",
       "      <td>Yes</td>\n",
       "      <td>No</td>\n",
       "      <td>No</td>\n",
       "      <td>No</td>\n",
       "      <td>No</td>\n",
       "      <td>No</td>\n",
       "      <td>1</td>\n",
       "    </tr>\n",
       "    <tr>\n",
       "      <th>7795-CFOCW</th>\n",
       "      <td>2016-05-01</td>\n",
       "      <td>2020-02-01</td>\n",
       "      <td>One year</td>\n",
       "      <td>No</td>\n",
       "      <td>Bank transfer (automatic)</td>\n",
       "      <td>42.30</td>\n",
       "      <td>1840.75</td>\n",
       "      <td>Male</td>\n",
       "      <td>0</td>\n",
       "      <td>No</td>\n",
       "      <td>No</td>\n",
       "      <td>DSL</td>\n",
       "      <td>Yes</td>\n",
       "      <td>No</td>\n",
       "      <td>Yes</td>\n",
       "      <td>Yes</td>\n",
       "      <td>No</td>\n",
       "      <td>No</td>\n",
       "      <td>No</td>\n",
       "      <td>0</td>\n",
       "    </tr>\n",
       "    <tr>\n",
       "      <th>9237-HQITU</th>\n",
       "      <td>2019-09-01</td>\n",
       "      <td>2019-11-01</td>\n",
       "      <td>Month-to-month</td>\n",
       "      <td>Yes</td>\n",
       "      <td>Electronic check</td>\n",
       "      <td>70.70</td>\n",
       "      <td>151.65</td>\n",
       "      <td>Female</td>\n",
       "      <td>0</td>\n",
       "      <td>No</td>\n",
       "      <td>No</td>\n",
       "      <td>Fiber optic</td>\n",
       "      <td>No</td>\n",
       "      <td>No</td>\n",
       "      <td>No</td>\n",
       "      <td>No</td>\n",
       "      <td>No</td>\n",
       "      <td>No</td>\n",
       "      <td>No</td>\n",
       "      <td>1</td>\n",
       "    </tr>\n",
       "  </tbody>\n",
       "</table>\n",
       "</div>"
      ],
      "text/plain": [
       "            BeginDate    EndDate            Type PaperlessBilling  \\\n",
       "CustomerID                                                          \n",
       "7590-VHVEG 2020-01-01 2020-02-01  Month-to-month              Yes   \n",
       "5575-GNVDE 2017-04-01 2020-02-01        One year               No   \n",
       "3668-QPYBK 2019-10-01 2019-12-01  Month-to-month              Yes   \n",
       "7795-CFOCW 2016-05-01 2020-02-01        One year               No   \n",
       "9237-HQITU 2019-09-01 2019-11-01  Month-to-month              Yes   \n",
       "\n",
       "                        PaymentMethod  MonthlyCharges  TotalCharges  Gender  \\\n",
       "CustomerID                                                                    \n",
       "7590-VHVEG           Electronic check           29.85         29.85  Female   \n",
       "5575-GNVDE               Mailed check           56.95       1889.50    Male   \n",
       "3668-QPYBK               Mailed check           53.85        108.15    Male   \n",
       "7795-CFOCW  Bank transfer (automatic)           42.30       1840.75    Male   \n",
       "9237-HQITU           Electronic check           70.70        151.65  Female   \n",
       "\n",
       "            SeniorCitizen Partner Dependents InternetService OnlineSecurity  \\\n",
       "CustomerID                                                                    \n",
       "7590-VHVEG              0     Yes         No             DSL             No   \n",
       "5575-GNVDE              0      No         No             DSL            Yes   \n",
       "3668-QPYBK              0      No         No             DSL            Yes   \n",
       "7795-CFOCW              0      No         No             DSL            Yes   \n",
       "9237-HQITU              0      No         No     Fiber optic             No   \n",
       "\n",
       "           OnlineBackup DeviceProtection TechSupport StreamingTV  \\\n",
       "CustomerID                                                         \n",
       "7590-VHVEG          Yes               No          No          No   \n",
       "5575-GNVDE           No              Yes          No          No   \n",
       "3668-QPYBK          Yes               No          No          No   \n",
       "7795-CFOCW           No              Yes         Yes          No   \n",
       "9237-HQITU           No               No          No          No   \n",
       "\n",
       "           StreamingMovies MultipleLines  Outflow  \n",
       "CustomerID                                         \n",
       "7590-VHVEG              No            No        0  \n",
       "5575-GNVDE              No            No        0  \n",
       "3668-QPYBK              No            No        1  \n",
       "7795-CFOCW              No            No        0  \n",
       "9237-HQITU              No            No        1  "
      ]
     },
     "execution_count": 15,
     "metadata": {},
     "output_type": "execute_result"
    }
   ],
   "source": [
    "# создание столбца с целевым признаком\n",
    "df['Outflow'] = (df['EndDate'] != '2020-02-01').astype(int)\n",
    "\n",
    "df.head()"
   ]
  },
  {
   "cell_type": "markdown",
   "metadata": {},
   "source": [
    "Так как у нас известна дата начала пользования услугами и дата окончания, найдем количество дней, которое клиент пользуется услугами."
   ]
  },
  {
   "cell_type": "code",
   "execution_count": 16,
   "metadata": {},
   "outputs": [
    {
     "name": "stdout",
     "output_type": "stream",
     "text": [
      "<class 'pandas.core.frame.DataFrame'>\n",
      "Index: 7043 entries, 7590-VHVEG to 3186-AJIEK\n",
      "Data columns (total 21 columns):\n",
      " #   Column            Non-Null Count  Dtype         \n",
      "---  ------            --------------  -----         \n",
      " 0   BeginDate         7043 non-null   datetime64[ns]\n",
      " 1   EndDate           7043 non-null   datetime64[ns]\n",
      " 2   Type              7043 non-null   object        \n",
      " 3   PaperlessBilling  7043 non-null   object        \n",
      " 4   PaymentMethod     7043 non-null   object        \n",
      " 5   MonthlyCharges    7043 non-null   float64       \n",
      " 6   TotalCharges      7043 non-null   float64       \n",
      " 7   Gender            7043 non-null   object        \n",
      " 8   SeniorCitizen     7043 non-null   int64         \n",
      " 9   Partner           7043 non-null   object        \n",
      " 10  Dependents        7043 non-null   object        \n",
      " 11  InternetService   7043 non-null   object        \n",
      " 12  OnlineSecurity    7043 non-null   object        \n",
      " 13  OnlineBackup      7043 non-null   object        \n",
      " 14  DeviceProtection  7043 non-null   object        \n",
      " 15  TechSupport       7043 non-null   object        \n",
      " 16  StreamingTV       7043 non-null   object        \n",
      " 17  StreamingMovies   7043 non-null   object        \n",
      " 18  MultipleLines     7043 non-null   object        \n",
      " 19  Outflow           7043 non-null   int64         \n",
      " 20  Duration          7043 non-null   int64         \n",
      "dtypes: datetime64[ns](2), float64(2), int64(3), object(14)\n",
      "memory usage: 1.2+ MB\n"
     ]
    }
   ],
   "source": [
    "# создание столбца\n",
    "df['Duration'] = (df['EndDate'] - df['BeginDate']).dt.days\n",
    "\n",
    "df.info()"
   ]
  },
  {
   "cell_type": "markdown",
   "metadata": {},
   "source": [
    "## Исследовательский анализ данных"
   ]
  },
  {
   "cell_type": "markdown",
   "metadata": {},
   "source": [
    "Для начала посмотрим, каково распределение для категориальных столбцов."
   ]
  },
  {
   "cell_type": "code",
   "execution_count": 17,
   "metadata": {},
   "outputs": [
    {
     "data": {
      "image/png": "[encoded data removed]",
      "text/plain": [
       "<Figure size 1440x2160 with 15 Axes>"
      ]
     },
     "metadata": {
      "needs_background": "light"
     },
     "output_type": "display_data"
    }
   ],
   "source": [
    "# столбчатые гистограммы для категориальных данных\n",
    "cat_columns = ['Type', 'PaperlessBilling', 'PaymentMethod', 'Gender', 'SeniorCitizen', 'Partner', 'Dependents',\n",
    "               'InternetService', 'OnlineSecurity', 'OnlineBackup', 'DeviceProtection', 'TechSupport', 'StreamingTV', \n",
    "               'StreamingMovies', 'MultipleLines']\n",
    "\n",
    "plt.figure(figsize=(20, 30))\n",
    "for idx, column in enumerate(cat_columns):\n",
    "    ax = plt.subplot(8, 2, idx+1)\n",
    "    df[column].value_counts().plot(kind='bar', title=column, ax=ax, rot=0)\n",
    "plt.show()"
   ]
  },
  {
   "cell_type": "markdown",
   "metadata": {},
   "source": [
    "Из графиков видно, что больше всего пользователей с ежемесячной оплатой, есть ряд услуг, которые не пользуются большим спросом, такие как блокировка небезопасных сайтов, облачное хранилище файлов, антивирус и т.д."
   ]
  },
  {
   "cell_type": "markdown",
   "metadata": {},
   "source": [
    "Теперь посмотрим распределение, а также построим \"ящик с усами\" для числовых данных."
   ]
  },
  {
   "cell_type": "code",
   "execution_count": 18,
   "metadata": {
    "scrolled": true
   },
   "outputs": [
    {
     "data": {
      "image/png": "[encoded data removed]",
      "text/plain": [
       "<Figure size 1080x1440 with 6 Axes>"
      ]
     },
     "metadata": {
      "needs_background": "light"
     },
     "output_type": "display_data"
    }
   ],
   "source": [
    "# гистограммы и ящик с усами для чтолбцов с числовыми данными\n",
    "numeric_col = ['MonthlyCharges', 'TotalCharges', 'Duration']\n",
    "\n",
    "plt.figure(figsize=(15, 20))\n",
    "\n",
    "idx=-1\n",
    "for col in numeric_col:\n",
    "    idx+=2\n",
    "    plt.subplot(3, 2, idx)\n",
    "    sns.distplot(df[col])\n",
    "\n",
    "idx=0\n",
    "for col in numeric_col:\n",
    "    idx+=2\n",
    "    plt.subplot(3, 2, idx)\n",
    "    plt.boxplot(df[col])\n",
    "    plt.title(col)\n",
    "\n",
    "plt.show()"
   ]
  },
  {
   "cell_type": "markdown",
   "metadata": {},
   "source": [
    "На графике распределения MonthlyCharges видно, что имеется несколько пиков, что может говорить, например, о наличии категорий пользователей. Данные в столбце TotalCharges скошены вправо, а в столце Duration видно два пика - новые клиенты и постоянные, кто пользуется услугами уже длительное время."
   ]
  },
  {
   "cell_type": "markdown",
   "metadata": {},
   "source": [
    "Посмотрим, сколько составлет ежемесячная плата и количество дней пользованием услуг у клиентов, которые продолжают ими пользоваться и которые расторгнули договор."
   ]
  },
  {
   "cell_type": "code",
   "execution_count": 19,
   "metadata": {
    "scrolled": true
   },
   "outputs": [
    {
     "data": {
      "image/png": "[encoded data removed]",
      "text/plain": [
       "<Figure size 432x288 with 1 Axes>"
      ]
     },
     "metadata": {
      "needs_background": "light"
     },
     "output_type": "display_data"
    },
    {
     "data": {
      "image/png": "[encoded data removed]",
      "text/plain": [
       "<Figure size 432x288 with 1 Axes>"
      ]
     },
     "metadata": {
      "needs_background": "light"
     },
     "output_type": "display_data"
    }
   ],
   "source": [
    "# построение столбчатых гистограмм \n",
    "a = list(df[df['Outflow']==0]['MonthlyCharges'])\n",
    "b = list(df[df['Outflow']==1]['MonthlyCharges'])\n",
    "c = list(df[df['Outflow']==0]['Duration'])\n",
    "d = list(df[df['Outflow']==1]['Duration'])\n",
    "names = ['0', '1']\n",
    "\n",
    "plt.hist([a, b], label=names)\n",
    "plt.title('MonthlyCharges')\n",
    "plt.legend()\n",
    "plt.show()\n",
    "\n",
    "plt.hist([c, d], label=names)\n",
    "plt.title('Duration')\n",
    "plt.legend();"
   ]
  },
  {
   "cell_type": "markdown",
   "metadata": {},
   "source": [
    "Отсюда мы видим, что чаще отказываются от услуг те клиенты, чья плата выше и кто пользуется услугами недавно.\n",
    "\n",
    "Теперь посчитаем коэффициенты корреляции."
   ]
  },
  {
   "cell_type": "code",
   "execution_count": 20,
   "metadata": {
    "scrolled": true
   },
   "outputs": [
    {
     "data": {
      "text/html": [
       "<div>\n",
       "<style scoped>\n",
       "    .dataframe tbody tr th:only-of-type {\n",
       "        vertical-align: middle;\n",
       "    }\n",
       "\n",
       "    .dataframe tbody tr th {\n",
       "        vertical-align: top;\n",
       "    }\n",
       "\n",
       "    .dataframe thead th {\n",
       "        text-align: right;\n",
       "    }\n",
       "</style>\n",
       "<table border=\"1\" class=\"dataframe\">\n",
       "  <thead>\n",
       "    <tr style=\"text-align: right;\">\n",
       "      <th></th>\n",
       "      <th>MonthlyCharges</th>\n",
       "      <th>TotalCharges</th>\n",
       "      <th>Duration</th>\n",
       "    </tr>\n",
       "  </thead>\n",
       "  <tbody>\n",
       "    <tr>\n",
       "      <th>MonthlyCharges</th>\n",
       "      <td>1.000000</td>\n",
       "      <td>0.651174</td>\n",
       "      <td>0.247754</td>\n",
       "    </tr>\n",
       "    <tr>\n",
       "      <th>TotalCharges</th>\n",
       "      <td>0.651174</td>\n",
       "      <td>1.000000</td>\n",
       "      <td>0.826109</td>\n",
       "    </tr>\n",
       "    <tr>\n",
       "      <th>Duration</th>\n",
       "      <td>0.247754</td>\n",
       "      <td>0.826109</td>\n",
       "      <td>1.000000</td>\n",
       "    </tr>\n",
       "  </tbody>\n",
       "</table>\n",
       "</div>"
      ],
      "text/plain": [
       "                MonthlyCharges  TotalCharges  Duration\n",
       "MonthlyCharges        1.000000      0.651174  0.247754\n",
       "TotalCharges          0.651174      1.000000  0.826109\n",
       "Duration              0.247754      0.826109  1.000000"
      ]
     },
     "execution_count": 20,
     "metadata": {},
     "output_type": "execute_result"
    }
   ],
   "source": [
    "# расчет коэффициента корреляции\n",
    "df[numeric_col].corr()"
   ]
  },
  {
   "cell_type": "markdown",
   "metadata": {},
   "source": [
    "Мы видим высокую корреляцию между столбцами `TotalCharges` и `Duration`, а также `TotalCharges` и `MonthlyCharges`. Во избежания переобучения модели удалим столбец `TotalCharges` и сразу удалим ненужные для обучения столбцы `BeginDate` и `EndDate`."
   ]
  },
  {
   "cell_type": "code",
   "execution_count": 21,
   "metadata": {},
   "outputs": [],
   "source": [
    "# удаление столбцов\n",
    "del df['BeginDate'], df['EndDate'], df['TotalCharges']"
   ]
  },
  {
   "cell_type": "markdown",
   "metadata": {},
   "source": [
    "## Обучение моделей"
   ]
  },
  {
   "cell_type": "markdown",
   "metadata": {},
   "source": [
    "Преобразуем категориальные признаки в числовые методом One Hot Encoding."
   ]
  },
  {
   "cell_type": "code",
   "execution_count": 22,
   "metadata": {},
   "outputs": [
    {
     "data": {
      "text/html": [
       "<div>\n",
       "<style scoped>\n",
       "    .dataframe tbody tr th:only-of-type {\n",
       "        vertical-align: middle;\n",
       "    }\n",
       "\n",
       "    .dataframe tbody tr th {\n",
       "        vertical-align: top;\n",
       "    }\n",
       "\n",
       "    .dataframe thead th {\n",
       "        text-align: right;\n",
       "    }\n",
       "</style>\n",
       "<table border=\"1\" class=\"dataframe\">\n",
       "  <thead>\n",
       "    <tr style=\"text-align: right;\">\n",
       "      <th></th>\n",
       "      <th>MonthlyCharges</th>\n",
       "      <th>SeniorCitizen</th>\n",
       "      <th>Outflow</th>\n",
       "      <th>Duration</th>\n",
       "      <th>Type_One year</th>\n",
       "      <th>Type_Two year</th>\n",
       "      <th>PaperlessBilling_Yes</th>\n",
       "      <th>PaymentMethod_Credit card (automatic)</th>\n",
       "      <th>PaymentMethod_Electronic check</th>\n",
       "      <th>PaymentMethod_Mailed check</th>\n",
       "      <th>...</th>\n",
       "      <th>Dependents_Yes</th>\n",
       "      <th>InternetService_Fiber optic</th>\n",
       "      <th>InternetService_No</th>\n",
       "      <th>OnlineSecurity_Yes</th>\n",
       "      <th>OnlineBackup_Yes</th>\n",
       "      <th>DeviceProtection_Yes</th>\n",
       "      <th>TechSupport_Yes</th>\n",
       "      <th>StreamingTV_Yes</th>\n",
       "      <th>StreamingMovies_Yes</th>\n",
       "      <th>MultipleLines_Yes</th>\n",
       "    </tr>\n",
       "    <tr>\n",
       "      <th>CustomerID</th>\n",
       "      <th></th>\n",
       "      <th></th>\n",
       "      <th></th>\n",
       "      <th></th>\n",
       "      <th></th>\n",
       "      <th></th>\n",
       "      <th></th>\n",
       "      <th></th>\n",
       "      <th></th>\n",
       "      <th></th>\n",
       "      <th></th>\n",
       "      <th></th>\n",
       "      <th></th>\n",
       "      <th></th>\n",
       "      <th></th>\n",
       "      <th></th>\n",
       "      <th></th>\n",
       "      <th></th>\n",
       "      <th></th>\n",
       "      <th></th>\n",
       "      <th></th>\n",
       "    </tr>\n",
       "  </thead>\n",
       "  <tbody>\n",
       "    <tr>\n",
       "      <th>7590-VHVEG</th>\n",
       "      <td>29.85</td>\n",
       "      <td>0</td>\n",
       "      <td>0</td>\n",
       "      <td>31</td>\n",
       "      <td>0</td>\n",
       "      <td>0</td>\n",
       "      <td>1</td>\n",
       "      <td>0</td>\n",
       "      <td>1</td>\n",
       "      <td>0</td>\n",
       "      <td>...</td>\n",
       "      <td>0</td>\n",
       "      <td>0</td>\n",
       "      <td>0</td>\n",
       "      <td>0</td>\n",
       "      <td>1</td>\n",
       "      <td>0</td>\n",
       "      <td>0</td>\n",
       "      <td>0</td>\n",
       "      <td>0</td>\n",
       "      <td>0</td>\n",
       "    </tr>\n",
       "    <tr>\n",
       "      <th>5575-GNVDE</th>\n",
       "      <td>56.95</td>\n",
       "      <td>0</td>\n",
       "      <td>0</td>\n",
       "      <td>1036</td>\n",
       "      <td>1</td>\n",
       "      <td>0</td>\n",
       "      <td>0</td>\n",
       "      <td>0</td>\n",
       "      <td>0</td>\n",
       "      <td>1</td>\n",
       "      <td>...</td>\n",
       "      <td>0</td>\n",
       "      <td>0</td>\n",
       "      <td>0</td>\n",
       "      <td>1</td>\n",
       "      <td>0</td>\n",
       "      <td>1</td>\n",
       "      <td>0</td>\n",
       "      <td>0</td>\n",
       "      <td>0</td>\n",
       "      <td>0</td>\n",
       "    </tr>\n",
       "    <tr>\n",
       "      <th>3668-QPYBK</th>\n",
       "      <td>53.85</td>\n",
       "      <td>0</td>\n",
       "      <td>1</td>\n",
       "      <td>61</td>\n",
       "      <td>0</td>\n",
       "      <td>0</td>\n",
       "      <td>1</td>\n",
       "      <td>0</td>\n",
       "      <td>0</td>\n",
       "      <td>1</td>\n",
       "      <td>...</td>\n",
       "      <td>0</td>\n",
       "      <td>0</td>\n",
       "      <td>0</td>\n",
       "      <td>1</td>\n",
       "      <td>1</td>\n",
       "      <td>0</td>\n",
       "      <td>0</td>\n",
       "      <td>0</td>\n",
       "      <td>0</td>\n",
       "      <td>0</td>\n",
       "    </tr>\n",
       "    <tr>\n",
       "      <th>7795-CFOCW</th>\n",
       "      <td>42.30</td>\n",
       "      <td>0</td>\n",
       "      <td>0</td>\n",
       "      <td>1371</td>\n",
       "      <td>1</td>\n",
       "      <td>0</td>\n",
       "      <td>0</td>\n",
       "      <td>0</td>\n",
       "      <td>0</td>\n",
       "      <td>0</td>\n",
       "      <td>...</td>\n",
       "      <td>0</td>\n",
       "      <td>0</td>\n",
       "      <td>0</td>\n",
       "      <td>1</td>\n",
       "      <td>0</td>\n",
       "      <td>1</td>\n",
       "      <td>1</td>\n",
       "      <td>0</td>\n",
       "      <td>0</td>\n",
       "      <td>0</td>\n",
       "    </tr>\n",
       "    <tr>\n",
       "      <th>9237-HQITU</th>\n",
       "      <td>70.70</td>\n",
       "      <td>0</td>\n",
       "      <td>1</td>\n",
       "      <td>61</td>\n",
       "      <td>0</td>\n",
       "      <td>0</td>\n",
       "      <td>1</td>\n",
       "      <td>0</td>\n",
       "      <td>1</td>\n",
       "      <td>0</td>\n",
       "      <td>...</td>\n",
       "      <td>0</td>\n",
       "      <td>1</td>\n",
       "      <td>0</td>\n",
       "      <td>0</td>\n",
       "      <td>0</td>\n",
       "      <td>0</td>\n",
       "      <td>0</td>\n",
       "      <td>0</td>\n",
       "      <td>0</td>\n",
       "      <td>0</td>\n",
       "    </tr>\n",
       "  </tbody>\n",
       "</table>\n",
       "<p>5 rows × 22 columns</p>\n",
       "</div>"
      ],
      "text/plain": [
       "            MonthlyCharges  SeniorCitizen  Outflow  Duration  Type_One year  \\\n",
       "CustomerID                                                                    \n",
       "7590-VHVEG           29.85              0        0        31              0   \n",
       "5575-GNVDE           56.95              0        0      1036              1   \n",
       "3668-QPYBK           53.85              0        1        61              0   \n",
       "7795-CFOCW           42.30              0        0      1371              1   \n",
       "9237-HQITU           70.70              0        1        61              0   \n",
       "\n",
       "            Type_Two year  PaperlessBilling_Yes  \\\n",
       "CustomerID                                        \n",
       "7590-VHVEG              0                     1   \n",
       "5575-GNVDE              0                     0   \n",
       "3668-QPYBK              0                     1   \n",
       "7795-CFOCW              0                     0   \n",
       "9237-HQITU              0                     1   \n",
       "\n",
       "            PaymentMethod_Credit card (automatic)  \\\n",
       "CustomerID                                          \n",
       "7590-VHVEG                                      0   \n",
       "5575-GNVDE                                      0   \n",
       "3668-QPYBK                                      0   \n",
       "7795-CFOCW                                      0   \n",
       "9237-HQITU                                      0   \n",
       "\n",
       "            PaymentMethod_Electronic check  PaymentMethod_Mailed check  ...  \\\n",
       "CustomerID                                                              ...   \n",
       "7590-VHVEG                               1                           0  ...   \n",
       "5575-GNVDE                               0                           1  ...   \n",
       "3668-QPYBK                               0                           1  ...   \n",
       "7795-CFOCW                               0                           0  ...   \n",
       "9237-HQITU                               1                           0  ...   \n",
       "\n",
       "            Dependents_Yes  InternetService_Fiber optic  InternetService_No  \\\n",
       "CustomerID                                                                    \n",
       "7590-VHVEG               0                            0                   0   \n",
       "5575-GNVDE               0                            0                   0   \n",
       "3668-QPYBK               0                            0                   0   \n",
       "7795-CFOCW               0                            0                   0   \n",
       "9237-HQITU               0                            1                   0   \n",
       "\n",
       "            OnlineSecurity_Yes  OnlineBackup_Yes  DeviceProtection_Yes  \\\n",
       "CustomerID                                                               \n",
       "7590-VHVEG                   0                 1                     0   \n",
       "5575-GNVDE                   1                 0                     1   \n",
       "3668-QPYBK                   1                 1                     0   \n",
       "7795-CFOCW                   1                 0                     1   \n",
       "9237-HQITU                   0                 0                     0   \n",
       "\n",
       "            TechSupport_Yes  StreamingTV_Yes  StreamingMovies_Yes  \\\n",
       "CustomerID                                                          \n",
       "7590-VHVEG                0                0                    0   \n",
       "5575-GNVDE                0                0                    0   \n",
       "3668-QPYBK                0                0                    0   \n",
       "7795-CFOCW                1                0                    0   \n",
       "9237-HQITU                0                0                    0   \n",
       "\n",
       "            MultipleLines_Yes  \n",
       "CustomerID                     \n",
       "7590-VHVEG                  0  \n",
       "5575-GNVDE                  0  \n",
       "3668-QPYBK                  0  \n",
       "7795-CFOCW                  0  \n",
       "9237-HQITU                  0  \n",
       "\n",
       "[5 rows x 22 columns]"
      ]
     },
     "execution_count": 22,
     "metadata": {},
     "output_type": "execute_result"
    }
   ],
   "source": [
    "# OHE\n",
    "df = pd.get_dummies(df, drop_first=True)\n",
    "df.head()"
   ]
  },
  {
   "cell_type": "markdown",
   "metadata": {},
   "source": [
    "Создадим переменные с признаками и целевым признаком, а так же разделим данные на тренировочную и тестовую выборки."
   ]
  },
  {
   "cell_type": "code",
   "execution_count": 23,
   "metadata": {},
   "outputs": [],
   "source": [
    "# выделение фичей и целевого признака\n",
    "target = df['Outflow'] \n",
    "features = df.drop(columns=['Outflow'])\n",
    "\n",
    "features_train, features_test, target_train, target_test = train_test_split(\n",
    "    features, target, test_size=0.25, random_state=12345)"
   ]
  },
  {
   "cell_type": "markdown",
   "metadata": {},
   "source": [
    "Проверим, есть ли у нас дисбаланс классов"
   ]
  },
  {
   "cell_type": "code",
   "execution_count": 24,
   "metadata": {},
   "outputs": [
    {
     "data": {
      "text/plain": [
       "0    0.735895\n",
       "1    0.264105\n",
       "Name: Outflow, dtype: float64"
      ]
     },
     "execution_count": 24,
     "metadata": {},
     "output_type": "execute_result"
    }
   ],
   "source": [
    "# проверка дисбалана классов\n",
    "target_train.value_counts(normalize=True)"
   ]
  },
  {
   "cell_type": "markdown",
   "metadata": {},
   "source": [
    "Чтобы избавиться от дисбаланса воспользуемся методом upsampling. Для этого создадим функции, которая будет:\n",
    "1. Разделять обучающую выборку на отрицательные и положительные объекты;\n",
    "2. Копировать несколько раз положительные объекты;\n",
    "3. С учётом полученных данных создаст новую обучающую выборку;\n",
    "4. Перемешает данные."
   ]
  },
  {
   "cell_type": "code",
   "execution_count": 25,
   "metadata": {},
   "outputs": [],
   "source": [
    "# создание функции\n",
    "def upsample(features, target, repeat):\n",
    "    features_zeros = features[target == 0]\n",
    "    features_ones = features[target == 1]\n",
    "    target_zeros = target[target == 0]\n",
    "    target_ones = target[target == 1]\n",
    "\n",
    "    features_upsampled = pd.concat([features_zeros] + [features_ones] * repeat)\n",
    "    target_upsampled = pd.concat([target_zeros] + [target_ones] * repeat)\n",
    "    \n",
    "    features_upsampled, target_upsampled = shuffle(\n",
    "        features_upsampled, target_upsampled, random_state=12345)\n",
    "    \n",
    "    return features_upsampled, target_upsampled"
   ]
  },
  {
   "cell_type": "code",
   "execution_count": 26,
   "metadata": {},
   "outputs": [],
   "source": [
    "features_train, target_train = upsample(features_train, target_train, 3)"
   ]
  },
  {
   "cell_type": "code",
   "execution_count": 27,
   "metadata": {
    "scrolled": true
   },
   "outputs": [
    {
     "data": {
      "text/plain": [
       "1    0.518459\n",
       "0    0.481541\n",
       "Name: Outflow, dtype: float64"
      ]
     },
     "execution_count": 27,
     "metadata": {},
     "output_type": "execute_result"
    }
   ],
   "source": [
    "# проверка\n",
    "target_train.value_counts(normalize=True)"
   ]
  },
  {
   "cell_type": "markdown",
   "metadata": {},
   "source": [
    "Для обучения будем использовать следующие модели: LogisticRegression, DecisionTreeClassifier, RandomForestClassifier, CatBoostClassifier"
   ]
  },
  {
   "cell_type": "code",
   "execution_count": 28,
   "metadata": {
    "scrolled": true
   },
   "outputs": [
    {
     "name": "stdout",
     "output_type": "stream",
     "text": [
      "0.8369675331700648\n"
     ]
    },
    {
     "data": {
      "image/png": "[encoded data removed]",
      "text/plain": [
       "<Figure size 432x288 with 1 Axes>"
      ]
     },
     "metadata": {
      "needs_background": "light"
     },
     "output_type": "display_data"
    }
   ],
   "source": [
    "# LogisticRegression\n",
    "model = LogisticRegression(random_state=12345, solver='liblinear')\n",
    "model.fit(features_train, target_train)\n",
    "probabilities = model.predict_proba(features_test) # рассчет вероятности классов\n",
    "probabilities_one = probabilities[:, 1] # вероятность класса \"1\"\n",
    "auc_roc = roc_auc_score(target_test, probabilities_one) # метрика AUC-ROC\n",
    "print(auc_roc)\n",
    "\n",
    "fpr, tpr, thresholds = roc_curve(target_test, probabilities_one) # кривая ошибок\n",
    "plt.figure()\n",
    "plt.plot(fpr, tpr)\n",
    "plt.plot([0, 1], [0, 1], linestyle='--') # ROC-кривая случайной модели\n",
    "plt.xlim([0.0, 1.0])\n",
    "plt.ylim([0.0, 1.0])\n",
    "plt.xlabel('False Positive Rate')\n",
    "plt.ylabel('True Positive Rate')\n",
    "plt.title('ROC-кривая')\n",
    "plt.show()"
   ]
  },
  {
   "cell_type": "code",
   "execution_count": 29,
   "metadata": {},
   "outputs": [
    {
     "name": "stdout",
     "output_type": "stream",
     "text": [
      "Гиперпараметры: {'max_depth': 20}\n",
      "0.7084648825155153\n"
     ]
    },
    {
     "data": {
      "image/png": "[encoded data removed]",
      "text/plain": [
       "<Figure size 432x288 with 1 Axes>"
      ]
     },
     "metadata": {
      "needs_background": "light"
     },
     "output_type": "display_data"
    }
   ],
   "source": [
    "# DecisionTreeClassifier\n",
    "param_grid = {'max_depth': range(2, 21)}\n",
    "model = DecisionTreeClassifier(random_state=12345)\n",
    "search = GridSearchCV(model, param_grid, cv=5, scoring='roc_auc')\n",
    "search.fit(features_train, target_train)\n",
    "\n",
    "print('Гиперпараметры: {}'.format(search.best_params_))\n",
    "\n",
    "probabilities_one = search.best_estimator_.predict_proba(features_test)[:, 1]\n",
    "auc_roc = roc_auc_score(target_test, probabilities_one)\n",
    "print(auc_roc)\n",
    "\n",
    "fpr, tpr, thresholds = roc_curve(target_test, probabilities_one) \n",
    "plt.figure()\n",
    "plt.plot(fpr, tpr)\n",
    "plt.plot([0, 1], [0, 1], linestyle='--') \n",
    "plt.xlim([0.0, 1.0])\n",
    "plt.ylim([0.0, 1.0])\n",
    "plt.xlabel('False Positive Rate')\n",
    "plt.ylabel('True Positive Rate')\n",
    "plt.title('ROC-кривая')\n",
    "plt.show()"
   ]
  },
  {
   "cell_type": "code",
   "execution_count": 30,
   "metadata": {},
   "outputs": [
    {
     "name": "stdout",
     "output_type": "stream",
     "text": [
      "Гиперпараметры: {'max_depth': 14, 'n_estimators': 90}\n",
      "0.8419541077768926\n"
     ]
    },
    {
     "data": {
      "image/png": "[encoded data removed]",
      "text/plain": [
       "<Figure size 432x288 with 1 Axes>"
      ]
     },
     "metadata": {
      "needs_background": "light"
     },
     "output_type": "display_data"
    }
   ],
   "source": [
    "# RandomForestClassifier\n",
    "param_grid = {'max_depth': range(2, 15),\n",
    "              'n_estimators': range(10, 100, 10)}\n",
    "model = RandomForestClassifier(random_state=12345)\n",
    "search = GridSearchCV(model, param_grid, cv=5, scoring='roc_auc')\n",
    "search.fit(features_train, target_train)\n",
    "\n",
    "print('Гиперпараметры: {}'.format(search.best_params_))\n",
    "\n",
    "probabilities_one = search.best_estimator_.predict_proba(features_test)[:, 1]\n",
    "auc_roc = roc_auc_score(target_test, probabilities_one)\n",
    "print(auc_roc)\n",
    "\n",
    "fpr, tpr, thresholds = roc_curve(target_test, probabilities_one)\n",
    "plt.figure()\n",
    "plt.plot(fpr, tpr)\n",
    "plt.plot([0, 1], [0, 1], linestyle='--')\n",
    "plt.xlim([0.0, 1.0])\n",
    "plt.ylim([0.0, 1.0])\n",
    "plt.xlabel('False Positive Rate')\n",
    "plt.ylabel('True Positive Rate')\n",
    "plt.title('ROC-кривая')\n",
    "plt.show()"
   ]
  },
  {
   "cell_type": "code",
   "execution_count": 31,
   "metadata": {
    "scrolled": true
   },
   "outputs": [
    {
     "name": "stdout",
     "output_type": "stream",
     "text": [
      "Гиперпараметры: {'learning_rate': 0.3}\n",
      "0.9141184647513763\n"
     ]
    },
    {
     "data": {
      "image/png": "[encoded data removed]",
      "text/plain": [
       "<Figure size 432x288 with 1 Axes>"
      ]
     },
     "metadata": {
      "needs_background": "light"
     },
     "output_type": "display_data"
    }
   ],
   "source": [
    "# CatBoostClassifier\n",
    "param_grid = {'learning_rate': [x/10 for x in range(1, 6)]}\n",
    "model = CatBoostClassifier(random_state=12345, verbose=False)\n",
    "search = GridSearchCV(model, param_grid, cv=5, scoring='roc_auc')\n",
    "search.fit(features_train, target_train)\n",
    "print('Гиперпараметры: {}'.format(search.best_params_))\n",
    "\n",
    "probabilities_one = search.best_estimator_.predict_proba(features_test)[:, 1]\n",
    "auc_roc = roc_auc_score(target_test, probabilities_one) \n",
    "print(auc_roc)\n",
    "\n",
    "fpr, tpr, thresholds = roc_curve(target_test, probabilities_one) \n",
    "plt.figure()\n",
    "plt.plot(fpr, tpr)\n",
    "plt.plot([0, 1], [0, 1], linestyle='--')\n",
    "plt.xlim([0.0, 1.0])\n",
    "plt.ylim([0.0, 1.0])\n",
    "plt.xlabel('False Positive Rate')\n",
    "plt.ylabel('True Positive Rate')\n",
    "plt.title('ROC-кривая')\n",
    "plt.show()"
   ]
  },
  {
   "cell_type": "markdown",
   "metadata": {},
   "source": [
    "Таким образом, лучший результат показала модель CatBoostClassifier со значением метрики ROC-AUC в 0.91."
   ]
  },
  {
   "cell_type": "markdown",
   "metadata": {},
   "source": [
    "**ВЫВОД**\n",
    "\n",
    "Целью данной работы было создание модели по прогнозированию оттока клиентов. В ходе работы были изучены файлы с данными, а также проведена их предобработка, такая как: изменение типов данных, избавление от пропущенных значений и т.д. Анализ данных показал, что  чаще отказываются от услуг те клиенты, чья плата выше и кто пользуется услугами недавно. Была обнаружена высокая корреляция между столбцами TotalCharges и Duration, а также TotalCharges и MonthlyCharges. Поэтому столбец TotalCharges был удален, а также были удалены ненужные для обучения столбцы BeginDate и EndDate. Поскольку некоторые алгоритмы машинного обучения не могут работать напрямую с категориальными данными был применен метод one hot encoding. Для обучения были использованы следующие модели: LogisticRegression, DecisionTreeClassifier, RandomForestClassifier, CatBoostClassifier, послядняя из которых показала лучшее значение метрики ROC-AUC в 0.91."
   ]
  },
  {
   "cell_type": "code",
   "execution_count": null,
   "metadata": {},
   "outputs": [],
   "source": []
  }
 ],
 "metadata": {
  "ExecuteTimeLog": [
   {
    "duration": 1225,
    "start_time": "2022-07-11T20:33:31.664Z"
   },
   {
    "duration": 416,
    "start_time": "2022-07-11T20:35:59.818Z"
   },
   {
    "duration": 14,
    "start_time": "2022-07-11T20:36:09.801Z"
   },
   {
    "duration": 253,
    "start_time": "2022-07-11T20:39:35.970Z"
   },
   {
    "duration": 232,
    "start_time": "2022-07-11T20:43:38.884Z"
   },
   {
    "duration": 169,
    "start_time": "2022-07-11T20:48:26.923Z"
   },
   {
    "duration": 94,
    "start_time": "2022-07-11T20:54:09.720Z"
   },
   {
    "duration": 8,
    "start_time": "2022-07-11T20:54:39.304Z"
   },
   {
    "duration": 100,
    "start_time": "2022-07-11T20:54:59.940Z"
   },
   {
    "duration": 38,
    "start_time": "2022-07-11T20:55:04.672Z"
   },
   {
    "duration": 1515,
    "start_time": "2022-07-12T09:13:01.349Z"
   },
   {
    "duration": 193,
    "start_time": "2022-07-12T09:13:02.867Z"
   },
   {
    "duration": 18,
    "start_time": "2022-07-12T09:13:03.063Z"
   },
   {
    "duration": 166,
    "start_time": "2022-07-12T09:13:03.082Z"
   },
   {
    "duration": 120,
    "start_time": "2022-07-12T09:13:03.251Z"
   },
   {
    "duration": 101,
    "start_time": "2022-07-12T09:13:03.372Z"
   },
   {
    "duration": 44,
    "start_time": "2022-07-12T09:13:03.475Z"
   },
   {
    "duration": 51,
    "start_time": "2022-07-12T09:13:03.521Z"
   },
   {
    "duration": 1269,
    "start_time": "2022-07-12T15:28:13.410Z"
   },
   {
    "duration": 210,
    "start_time": "2022-07-12T15:28:14.681Z"
   },
   {
    "duration": 14,
    "start_time": "2022-07-12T15:29:35.634Z"
   },
   {
    "duration": 3,
    "start_time": "2022-07-12T15:41:42.436Z"
   },
   {
    "duration": 23,
    "start_time": "2022-07-12T15:42:07.632Z"
   },
   {
    "duration": 2,
    "start_time": "2022-07-12T15:43:21.603Z"
   },
   {
    "duration": 19,
    "start_time": "2022-07-12T15:43:22.539Z"
   },
   {
    "duration": 3,
    "start_time": "2022-07-12T15:44:08.791Z"
   },
   {
    "duration": 25,
    "start_time": "2022-07-12T15:44:09.543Z"
   },
   {
    "duration": 6,
    "start_time": "2022-07-12T16:00:34.287Z"
   },
   {
    "duration": 97,
    "start_time": "2022-07-12T16:01:22.907Z"
   },
   {
    "duration": 6,
    "start_time": "2022-07-12T16:01:33.877Z"
   },
   {
    "duration": 21,
    "start_time": "2022-07-12T16:03:35.475Z"
   },
   {
    "duration": 41,
    "start_time": "2022-07-12T16:05:28.739Z"
   },
   {
    "duration": 3,
    "start_time": "2022-07-12T16:06:07.080Z"
   },
   {
    "duration": 28,
    "start_time": "2022-07-12T16:06:10.579Z"
   },
   {
    "duration": 43,
    "start_time": "2022-07-12T16:06:18.099Z"
   },
   {
    "duration": 1050,
    "start_time": "2022-07-12T16:06:47.598Z"
   },
   {
    "duration": 99,
    "start_time": "2022-07-12T16:06:48.650Z"
   },
   {
    "duration": 3,
    "start_time": "2022-07-12T16:06:48.750Z"
   },
   {
    "duration": 38,
    "start_time": "2022-07-12T16:06:48.755Z"
   },
   {
    "duration": 6,
    "start_time": "2022-07-12T16:06:48.795Z"
   },
   {
    "duration": 10,
    "start_time": "2022-07-12T16:06:48.803Z"
   },
   {
    "duration": 27,
    "start_time": "2022-07-12T16:06:48.814Z"
   },
   {
    "duration": 55,
    "start_time": "2022-07-12T16:06:48.843Z"
   },
   {
    "duration": 3,
    "start_time": "2022-07-12T16:07:37.558Z"
   },
   {
    "duration": 39,
    "start_time": "2022-07-12T16:07:46.070Z"
   },
   {
    "duration": 6,
    "start_time": "2022-07-12T16:08:51.257Z"
   },
   {
    "duration": 27,
    "start_time": "2022-07-12T16:09:53.519Z"
   },
   {
    "duration": 101,
    "start_time": "2022-07-12T16:12:19.610Z"
   },
   {
    "duration": 110,
    "start_time": "2022-07-12T16:12:31.350Z"
   },
   {
    "duration": 304,
    "start_time": "2022-07-12T16:13:13.397Z"
   },
   {
    "duration": 142,
    "start_time": "2022-07-12T16:13:24.932Z"
   },
   {
    "duration": 122,
    "start_time": "2022-07-12T16:13:40.650Z"
   },
   {
    "duration": 113,
    "start_time": "2022-07-12T16:13:52.143Z"
   },
   {
    "duration": 115,
    "start_time": "2022-07-12T16:13:57.577Z"
   },
   {
    "duration": 118,
    "start_time": "2022-07-12T16:14:01.889Z"
   },
   {
    "duration": 112,
    "start_time": "2022-07-12T16:14:10.490Z"
   },
   {
    "duration": 174,
    "start_time": "2022-07-12T16:14:58.294Z"
   },
   {
    "duration": 116,
    "start_time": "2022-07-12T16:15:09.973Z"
   },
   {
    "duration": 118,
    "start_time": "2022-07-12T16:15:20.142Z"
   },
   {
    "duration": 127,
    "start_time": "2022-07-12T16:16:33.174Z"
   },
   {
    "duration": 232,
    "start_time": "2022-07-12T16:17:00.936Z"
   },
   {
    "duration": 136,
    "start_time": "2022-07-12T16:17:07.053Z"
   },
   {
    "duration": 151,
    "start_time": "2022-07-12T16:17:14.405Z"
   },
   {
    "duration": 134,
    "start_time": "2022-07-12T16:17:21.493Z"
   },
   {
    "duration": 162,
    "start_time": "2022-07-12T16:17:48.265Z"
   },
   {
    "duration": 141,
    "start_time": "2022-07-12T16:17:54.614Z"
   },
   {
    "duration": 260,
    "start_time": "2022-07-12T16:18:12.213Z"
   },
   {
    "duration": 140,
    "start_time": "2022-07-12T16:18:21.016Z"
   },
   {
    "duration": 137,
    "start_time": "2022-07-12T16:18:25.543Z"
   },
   {
    "duration": 319,
    "start_time": "2022-07-12T16:25:46.881Z"
   },
   {
    "duration": 255,
    "start_time": "2022-07-12T16:27:20.749Z"
   },
   {
    "duration": 9,
    "start_time": "2022-07-12T16:29:22.393Z"
   },
   {
    "duration": 3,
    "start_time": "2022-07-12T16:30:13.330Z"
   },
   {
    "duration": 180,
    "start_time": "2022-07-12T16:30:25.343Z"
   },
   {
    "duration": 4,
    "start_time": "2022-07-12T16:32:15.628Z"
   },
   {
    "duration": 165,
    "start_time": "2022-07-12T16:32:21.703Z"
   },
   {
    "duration": 268,
    "start_time": "2022-07-12T16:33:33.492Z"
   },
   {
    "duration": 9,
    "start_time": "2022-07-12T17:42:15.550Z"
   },
   {
    "duration": 14,
    "start_time": "2022-07-12T17:43:55.987Z"
   },
   {
    "duration": 86060,
    "start_time": "2022-07-12T17:44:10.396Z"
   },
   {
    "duration": 97,
    "start_time": "2022-07-12T17:47:49.943Z"
   },
   {
    "duration": 11,
    "start_time": "2022-07-12T17:49:27.364Z"
   },
   {
    "duration": 95,
    "start_time": "2022-07-12T17:52:03.372Z"
   },
   {
    "duration": 10,
    "start_time": "2022-07-12T18:02:27.163Z"
   },
   {
    "duration": 85,
    "start_time": "2022-07-12T18:05:56.021Z"
   },
   {
    "duration": 43,
    "start_time": "2022-07-12T18:24:59.471Z"
   },
   {
    "duration": 14,
    "start_time": "2022-07-12T18:25:11.018Z"
   },
   {
    "duration": 4,
    "start_time": "2022-07-12T18:25:45.544Z"
   },
   {
    "duration": 10,
    "start_time": "2022-07-12T18:26:03.944Z"
   },
   {
    "duration": 8,
    "start_time": "2022-07-12T18:27:46.211Z"
   },
   {
    "duration": 34,
    "start_time": "2022-07-12T18:27:53.483Z"
   },
   {
    "duration": 7,
    "start_time": "2022-07-12T18:28:31.164Z"
   },
   {
    "duration": 6,
    "start_time": "2022-07-12T18:29:08.050Z"
   },
   {
    "duration": 5,
    "start_time": "2022-07-12T18:29:22.679Z"
   },
   {
    "duration": 29,
    "start_time": "2022-07-12T18:30:18.062Z"
   },
   {
    "duration": 15,
    "start_time": "2022-07-12T18:31:04.282Z"
   },
   {
    "duration": 94,
    "start_time": "2022-07-12T18:31:38.466Z"
   },
   {
    "duration": 35,
    "start_time": "2022-07-12T18:31:46.282Z"
   },
   {
    "duration": 854,
    "start_time": "2022-07-12T18:32:08.381Z"
   },
   {
    "duration": 4,
    "start_time": "2022-07-12T18:32:30.555Z"
   },
   {
    "duration": 1089,
    "start_time": "2022-07-12T20:27:14.553Z"
   },
   {
    "duration": 102,
    "start_time": "2022-07-12T20:27:15.644Z"
   },
   {
    "duration": 3,
    "start_time": "2022-07-12T20:27:15.748Z"
   },
   {
    "duration": 40,
    "start_time": "2022-07-12T20:27:15.752Z"
   },
   {
    "duration": 96,
    "start_time": "2022-07-12T20:27:15.793Z"
   },
   {
    "duration": 289,
    "start_time": "2022-07-12T20:27:15.891Z"
   },
   {
    "duration": 5,
    "start_time": "2022-07-12T20:27:16.182Z"
   },
   {
    "duration": 137,
    "start_time": "2022-07-12T20:27:16.188Z"
   },
   {
    "duration": 6,
    "start_time": "2022-07-12T20:27:16.327Z"
   },
   {
    "duration": 126,
    "start_time": "2022-07-12T20:27:16.334Z"
   },
   {
    "duration": 25,
    "start_time": "2022-07-12T20:27:16.462Z"
   },
   {
    "duration": 38,
    "start_time": "2022-07-12T20:27:16.489Z"
   },
   {
    "duration": 5,
    "start_time": "2022-07-12T20:27:16.529Z"
   },
   {
    "duration": 128,
    "start_time": "2022-07-12T20:27:16.571Z"
   },
   {
    "duration": 30,
    "start_time": "2022-07-12T20:27:16.701Z"
   },
   {
    "duration": 168,
    "start_time": "2022-07-12T20:29:31.301Z"
   },
   {
    "duration": 1186,
    "start_time": "2022-07-12T20:30:14.960Z"
   },
   {
    "duration": 105,
    "start_time": "2022-07-12T20:30:16.148Z"
   },
   {
    "duration": 3,
    "start_time": "2022-07-12T20:30:16.255Z"
   },
   {
    "duration": 50,
    "start_time": "2022-07-12T20:30:16.261Z"
   },
   {
    "duration": 120,
    "start_time": "2022-07-12T20:30:16.313Z"
   },
   {
    "duration": 189,
    "start_time": "2022-07-12T20:30:16.435Z"
   },
   {
    "duration": 6,
    "start_time": "2022-07-12T20:30:16.626Z"
   },
   {
    "duration": 128,
    "start_time": "2022-07-12T20:30:16.633Z"
   },
   {
    "duration": 5,
    "start_time": "2022-07-12T20:30:16.763Z"
   },
   {
    "duration": 126,
    "start_time": "2022-07-12T20:30:16.770Z"
   },
   {
    "duration": 26,
    "start_time": "2022-07-12T20:30:16.897Z"
   },
   {
    "duration": 67,
    "start_time": "2022-07-12T20:30:16.924Z"
   },
   {
    "duration": 5,
    "start_time": "2022-07-12T20:30:16.992Z"
   },
   {
    "duration": 112,
    "start_time": "2022-07-12T20:30:16.999Z"
   },
   {
    "duration": 25,
    "start_time": "2022-07-12T20:30:17.112Z"
   },
   {
    "duration": 50,
    "start_time": "2022-07-13T17:03:35.295Z"
   },
   {
    "duration": 1288,
    "start_time": "2022-07-13T17:03:43.364Z"
   },
   {
    "duration": 278,
    "start_time": "2022-07-13T17:03:44.654Z"
   },
   {
    "duration": 3,
    "start_time": "2022-07-13T17:03:44.934Z"
   },
   {
    "duration": 37,
    "start_time": "2022-07-13T17:03:48.695Z"
   },
   {
    "duration": 33,
    "start_time": "2022-07-13T17:03:52.203Z"
   },
   {
    "duration": 44,
    "start_time": "2022-07-13T17:05:40.703Z"
   },
   {
    "duration": 26,
    "start_time": "2022-07-13T17:07:35.623Z"
   },
   {
    "duration": 975,
    "start_time": "2022-07-13T17:14:18.382Z"
   },
   {
    "duration": 5,
    "start_time": "2022-07-13T17:27:05.641Z"
   },
   {
    "duration": 7,
    "start_time": "2022-07-13T17:27:47.461Z"
   },
   {
    "duration": 27,
    "start_time": "2022-07-13T17:27:59.129Z"
   },
   {
    "duration": 11,
    "start_time": "2022-07-13T18:39:27.483Z"
   },
   {
    "duration": 10,
    "start_time": "2022-07-13T18:40:02.752Z"
   },
   {
    "duration": 18,
    "start_time": "2022-07-13T18:43:57.479Z"
   },
   {
    "duration": 11,
    "start_time": "2022-07-13T18:47:09.711Z"
   },
   {
    "duration": 59,
    "start_time": "2022-07-13T18:47:48.204Z"
   },
   {
    "duration": 63,
    "start_time": "2022-07-13T18:50:57.228Z"
   },
   {
    "duration": 39,
    "start_time": "2022-07-13T18:55:10.006Z"
   },
   {
    "duration": 72,
    "start_time": "2022-07-13T18:55:41.515Z"
   },
   {
    "duration": 7,
    "start_time": "2022-07-13T20:18:07.751Z"
   },
   {
    "duration": 32,
    "start_time": "2022-07-13T20:19:01.852Z"
   },
   {
    "duration": 25,
    "start_time": "2022-07-13T20:19:33.135Z"
   },
   {
    "duration": 28,
    "start_time": "2022-07-13T20:19:37.959Z"
   },
   {
    "duration": 25,
    "start_time": "2022-07-13T20:19:42.212Z"
   },
   {
    "duration": 94,
    "start_time": "2022-07-13T20:22:35.472Z"
   },
   {
    "duration": 22,
    "start_time": "2022-07-13T20:29:33.192Z"
   },
   {
    "duration": 1173,
    "start_time": "2022-07-13T20:30:58.886Z"
   },
   {
    "duration": 95,
    "start_time": "2022-07-13T20:31:00.061Z"
   },
   {
    "duration": 3,
    "start_time": "2022-07-13T20:31:00.158Z"
   },
   {
    "duration": 42,
    "start_time": "2022-07-13T20:31:00.163Z"
   },
   {
    "duration": 25,
    "start_time": "2022-07-13T20:31:00.207Z"
   },
   {
    "duration": 54,
    "start_time": "2022-07-13T20:31:00.234Z"
   },
   {
    "duration": 25,
    "start_time": "2022-07-13T20:31:00.289Z"
   },
   {
    "duration": 36,
    "start_time": "2022-07-13T20:31:00.315Z"
   },
   {
    "duration": 74,
    "start_time": "2022-07-13T20:31:00.352Z"
   },
   {
    "duration": 24,
    "start_time": "2022-07-13T20:31:00.445Z"
   },
   {
    "duration": 21,
    "start_time": "2022-07-13T20:31:00.472Z"
   },
   {
    "duration": 20,
    "start_time": "2022-07-13T20:31:00.495Z"
   },
   {
    "duration": 109,
    "start_time": "2022-07-13T20:31:00.516Z"
   },
   {
    "duration": 191,
    "start_time": "2022-07-13T20:31:00.627Z"
   },
   {
    "duration": 6,
    "start_time": "2022-07-13T20:31:00.820Z"
   },
   {
    "duration": 145,
    "start_time": "2022-07-13T20:31:00.827Z"
   },
   {
    "duration": 7,
    "start_time": "2022-07-13T20:31:00.974Z"
   },
   {
    "duration": 139,
    "start_time": "2022-07-13T20:31:00.982Z"
   },
   {
    "duration": 31,
    "start_time": "2022-07-13T20:31:01.123Z"
   },
   {
    "duration": 49,
    "start_time": "2022-07-13T20:31:01.156Z"
   },
   {
    "duration": 5,
    "start_time": "2022-07-13T20:31:01.207Z"
   },
   {
    "duration": 131,
    "start_time": "2022-07-13T20:31:01.214Z"
   },
   {
    "duration": 27,
    "start_time": "2022-07-13T20:31:01.347Z"
   },
   {
    "duration": 28,
    "start_time": "2022-07-13T20:31:50.115Z"
   },
   {
    "duration": 26,
    "start_time": "2022-07-13T20:32:40.654Z"
   },
   {
    "duration": 5,
    "start_time": "2022-07-13T20:33:56.924Z"
   },
   {
    "duration": 48,
    "start_time": "2022-07-13T20:42:29.496Z"
   },
   {
    "duration": 96,
    "start_time": "2022-07-13T20:42:42.844Z"
   },
   {
    "duration": 55,
    "start_time": "2022-07-13T20:43:45.760Z"
   },
   {
    "duration": 377,
    "start_time": "2022-07-13T20:43:53.764Z"
   },
   {
    "duration": 460,
    "start_time": "2022-07-13T20:44:12.566Z"
   },
   {
    "duration": 348,
    "start_time": "2022-07-13T20:45:06.138Z"
   },
   {
    "duration": 355,
    "start_time": "2022-07-13T20:45:17.970Z"
   },
   {
    "duration": 358,
    "start_time": "2022-07-13T20:45:23.468Z"
   },
   {
    "duration": 6,
    "start_time": "2022-07-13T20:45:47.885Z"
   },
   {
    "duration": 3,
    "start_time": "2022-07-13T20:46:40.236Z"
   },
   {
    "duration": 27,
    "start_time": "2022-07-13T20:52:04.705Z"
   },
   {
    "duration": 366,
    "start_time": "2022-07-13T20:52:33.047Z"
   },
   {
    "duration": 390,
    "start_time": "2022-07-13T20:52:52.079Z"
   },
   {
    "duration": 52,
    "start_time": "2022-07-13T20:53:30.437Z"
   },
   {
    "duration": 11,
    "start_time": "2022-07-13T20:53:42.306Z"
   },
   {
    "duration": 12,
    "start_time": "2022-07-13T20:53:54.832Z"
   },
   {
    "duration": 5,
    "start_time": "2022-07-13T20:54:01.726Z"
   },
   {
    "duration": 19,
    "start_time": "2022-07-13T20:54:21.376Z"
   },
   {
    "duration": 1288,
    "start_time": "2022-07-13T20:55:51.058Z"
   },
   {
    "duration": 100,
    "start_time": "2022-07-13T20:55:52.349Z"
   },
   {
    "duration": 3,
    "start_time": "2022-07-13T20:55:52.451Z"
   },
   {
    "duration": 48,
    "start_time": "2022-07-13T20:55:52.457Z"
   },
   {
    "duration": 46,
    "start_time": "2022-07-13T20:55:52.507Z"
   },
   {
    "duration": 48,
    "start_time": "2022-07-13T20:55:52.555Z"
   },
   {
    "duration": 56,
    "start_time": "2022-07-13T20:55:52.605Z"
   },
   {
    "duration": 9,
    "start_time": "2022-07-13T20:55:52.663Z"
   },
   {
    "duration": 101,
    "start_time": "2022-07-13T20:55:52.673Z"
   },
   {
    "duration": 22,
    "start_time": "2022-07-13T20:55:52.777Z"
   },
   {
    "duration": 10,
    "start_time": "2022-07-13T20:55:52.801Z"
   },
   {
    "duration": 57,
    "start_time": "2022-07-13T20:55:52.813Z"
   },
   {
    "duration": 24,
    "start_time": "2022-07-13T20:55:52.872Z"
   },
   {
    "duration": 6,
    "start_time": "2022-07-13T20:55:52.898Z"
   },
   {
    "duration": 150,
    "start_time": "2022-07-13T20:55:52.905Z"
   },
   {
    "duration": 0,
    "start_time": "2022-07-13T20:55:53.057Z"
   },
   {
    "duration": 0,
    "start_time": "2022-07-13T20:55:53.058Z"
   },
   {
    "duration": 0,
    "start_time": "2022-07-13T20:55:53.060Z"
   },
   {
    "duration": 1,
    "start_time": "2022-07-13T20:55:53.060Z"
   },
   {
    "duration": 0,
    "start_time": "2022-07-13T20:55:53.061Z"
   },
   {
    "duration": 0,
    "start_time": "2022-07-13T20:55:53.063Z"
   },
   {
    "duration": 0,
    "start_time": "2022-07-13T20:55:53.064Z"
   },
   {
    "duration": 0,
    "start_time": "2022-07-13T20:55:53.066Z"
   },
   {
    "duration": 0,
    "start_time": "2022-07-13T20:55:53.068Z"
   },
   {
    "duration": 0,
    "start_time": "2022-07-13T20:55:53.069Z"
   },
   {
    "duration": 0,
    "start_time": "2022-07-13T20:55:53.070Z"
   },
   {
    "duration": 0,
    "start_time": "2022-07-13T20:55:53.072Z"
   },
   {
    "duration": 0,
    "start_time": "2022-07-13T20:55:53.073Z"
   },
   {
    "duration": 0,
    "start_time": "2022-07-13T20:55:53.074Z"
   },
   {
    "duration": 31,
    "start_time": "2022-07-13T20:56:06.496Z"
   },
   {
    "duration": 7,
    "start_time": "2022-07-13T20:56:22.314Z"
   },
   {
    "duration": 5,
    "start_time": "2022-07-13T20:56:47.330Z"
   },
   {
    "duration": 11,
    "start_time": "2022-07-13T20:57:22.881Z"
   },
   {
    "duration": 1242,
    "start_time": "2022-07-13T20:57:31.831Z"
   },
   {
    "duration": 97,
    "start_time": "2022-07-13T20:57:33.076Z"
   },
   {
    "duration": 4,
    "start_time": "2022-07-13T20:57:33.175Z"
   },
   {
    "duration": 50,
    "start_time": "2022-07-13T20:57:33.180Z"
   },
   {
    "duration": 30,
    "start_time": "2022-07-13T20:57:33.232Z"
   },
   {
    "duration": 47,
    "start_time": "2022-07-13T20:57:33.264Z"
   },
   {
    "duration": 62,
    "start_time": "2022-07-13T20:57:33.313Z"
   },
   {
    "duration": 11,
    "start_time": "2022-07-13T20:57:33.377Z"
   },
   {
    "duration": 125,
    "start_time": "2022-07-13T20:57:33.390Z"
   },
   {
    "duration": 46,
    "start_time": "2022-07-13T20:57:33.518Z"
   },
   {
    "duration": 7,
    "start_time": "2022-07-13T20:57:33.566Z"
   },
   {
    "duration": 44,
    "start_time": "2022-07-13T20:57:33.575Z"
   },
   {
    "duration": 45,
    "start_time": "2022-07-13T20:57:33.621Z"
   },
   {
    "duration": 6,
    "start_time": "2022-07-13T20:57:33.670Z"
   },
   {
    "duration": 125,
    "start_time": "2022-07-13T20:57:33.678Z"
   },
   {
    "duration": 0,
    "start_time": "2022-07-13T20:57:33.805Z"
   },
   {
    "duration": 0,
    "start_time": "2022-07-13T20:57:33.807Z"
   },
   {
    "duration": 0,
    "start_time": "2022-07-13T20:57:33.808Z"
   },
   {
    "duration": 0,
    "start_time": "2022-07-13T20:57:33.810Z"
   },
   {
    "duration": 0,
    "start_time": "2022-07-13T20:57:33.812Z"
   },
   {
    "duration": 0,
    "start_time": "2022-07-13T20:57:33.813Z"
   },
   {
    "duration": 0,
    "start_time": "2022-07-13T20:57:33.815Z"
   },
   {
    "duration": 0,
    "start_time": "2022-07-13T20:57:33.816Z"
   },
   {
    "duration": 0,
    "start_time": "2022-07-13T20:57:33.817Z"
   },
   {
    "duration": 0,
    "start_time": "2022-07-13T20:57:33.846Z"
   },
   {
    "duration": 0,
    "start_time": "2022-07-13T20:57:33.847Z"
   },
   {
    "duration": 0,
    "start_time": "2022-07-13T20:57:33.849Z"
   },
   {
    "duration": 0,
    "start_time": "2022-07-13T20:57:33.850Z"
   },
   {
    "duration": 0,
    "start_time": "2022-07-13T20:57:33.851Z"
   },
   {
    "duration": 26,
    "start_time": "2022-07-13T20:57:42.294Z"
   },
   {
    "duration": 4,
    "start_time": "2022-07-13T20:59:18.178Z"
   },
   {
    "duration": 19,
    "start_time": "2022-07-13T20:59:34.767Z"
   },
   {
    "duration": 22,
    "start_time": "2022-07-13T21:00:38.374Z"
   },
   {
    "duration": 1526,
    "start_time": "2022-07-14T10:22:15.591Z"
   },
   {
    "duration": 422,
    "start_time": "2022-07-14T10:22:17.119Z"
   },
   {
    "duration": 4,
    "start_time": "2022-07-14T10:22:17.543Z"
   },
   {
    "duration": 39,
    "start_time": "2022-07-14T10:22:17.549Z"
   },
   {
    "duration": 33,
    "start_time": "2022-07-14T10:22:17.591Z"
   },
   {
    "duration": 52,
    "start_time": "2022-07-14T10:22:17.625Z"
   },
   {
    "duration": 44,
    "start_time": "2022-07-14T10:22:17.679Z"
   },
   {
    "duration": 14,
    "start_time": "2022-07-14T10:22:17.726Z"
   },
   {
    "duration": 80,
    "start_time": "2022-07-14T10:22:17.741Z"
   },
   {
    "duration": 24,
    "start_time": "2022-07-14T10:22:17.823Z"
   },
   {
    "duration": 7,
    "start_time": "2022-07-14T10:22:17.848Z"
   },
   {
    "duration": 30,
    "start_time": "2022-07-14T10:22:17.856Z"
   },
   {
    "duration": 34,
    "start_time": "2022-07-14T10:22:17.905Z"
   },
   {
    "duration": 5,
    "start_time": "2022-07-14T10:22:17.942Z"
   },
   {
    "duration": 20,
    "start_time": "2022-07-14T10:22:17.949Z"
   },
   {
    "duration": 147,
    "start_time": "2022-07-14T10:22:17.971Z"
   },
   {
    "duration": 206,
    "start_time": "2022-07-14T10:22:18.133Z"
   },
   {
    "duration": 7,
    "start_time": "2022-07-14T10:22:18.341Z"
   },
   {
    "duration": 175,
    "start_time": "2022-07-14T10:22:18.350Z"
   },
   {
    "duration": 10,
    "start_time": "2022-07-14T10:22:18.528Z"
   },
   {
    "duration": 130,
    "start_time": "2022-07-14T10:22:18.540Z"
   },
   {
    "duration": 38,
    "start_time": "2022-07-14T10:22:18.672Z"
   },
   {
    "duration": 53,
    "start_time": "2022-07-14T10:22:18.711Z"
   },
   {
    "duration": 6,
    "start_time": "2022-07-14T10:22:18.765Z"
   },
   {
    "duration": 148,
    "start_time": "2022-07-14T10:22:18.772Z"
   },
   {
    "duration": 40,
    "start_time": "2022-07-14T10:22:18.927Z"
   },
   {
    "duration": 14,
    "start_time": "2022-07-14T10:29:12.630Z"
   },
   {
    "duration": 7,
    "start_time": "2022-07-14T10:46:36.825Z"
   },
   {
    "duration": 23,
    "start_time": "2022-07-14T10:46:39.275Z"
   },
   {
    "duration": 7,
    "start_time": "2022-07-14T10:46:57.446Z"
   },
   {
    "duration": 31,
    "start_time": "2022-07-14T10:47:31.173Z"
   },
   {
    "duration": 20,
    "start_time": "2022-07-14T12:30:07.130Z"
   },
   {
    "duration": 16,
    "start_time": "2022-07-14T13:13:56.842Z"
   },
   {
    "duration": 125,
    "start_time": "2022-07-14T13:14:32.003Z"
   },
   {
    "duration": 9,
    "start_time": "2022-07-14T13:32:37.959Z"
   },
   {
    "duration": 117,
    "start_time": "2022-07-14T13:33:12.008Z"
   },
   {
    "duration": 277,
    "start_time": "2022-07-14T13:42:54.647Z"
   },
   {
    "duration": 1913,
    "start_time": "2022-07-14T13:43:56.647Z"
   },
   {
    "duration": 33,
    "start_time": "2022-07-14T13:47:10.441Z"
   },
   {
    "duration": 15,
    "start_time": "2022-07-14T13:47:28.893Z"
   },
   {
    "duration": 1131,
    "start_time": "2022-07-14T13:47:39.894Z"
   },
   {
    "duration": 1251,
    "start_time": "2022-07-14T13:47:48.022Z"
   },
   {
    "duration": 1233,
    "start_time": "2022-07-14T13:51:48.934Z"
   },
   {
    "duration": 1981,
    "start_time": "2022-07-14T13:52:23.805Z"
   },
   {
    "duration": 2680,
    "start_time": "2022-07-14T13:54:58.259Z"
   },
   {
    "duration": 1042,
    "start_time": "2022-07-14T13:55:20.399Z"
   },
   {
    "duration": 895,
    "start_time": "2022-07-14T13:56:21.678Z"
   },
   {
    "duration": 10,
    "start_time": "2022-07-14T13:56:45.139Z"
   },
   {
    "duration": 11,
    "start_time": "2022-07-14T13:56:54.278Z"
   },
   {
    "duration": 75,
    "start_time": "2022-07-14T13:57:00.800Z"
   },
   {
    "duration": 20,
    "start_time": "2022-07-14T14:02:16.088Z"
   },
   {
    "duration": 20,
    "start_time": "2022-07-14T14:02:36.106Z"
   },
   {
    "duration": 19,
    "start_time": "2022-07-14T14:04:15.126Z"
   },
   {
    "duration": 19,
    "start_time": "2022-07-14T14:05:25.818Z"
   },
   {
    "duration": 24,
    "start_time": "2022-07-14T14:06:04.258Z"
   },
   {
    "duration": 31,
    "start_time": "2022-07-14T14:06:34.959Z"
   },
   {
    "duration": 24,
    "start_time": "2022-07-14T14:06:58.166Z"
   },
   {
    "duration": 22,
    "start_time": "2022-07-14T14:07:21.258Z"
   },
   {
    "duration": 1690,
    "start_time": "2022-07-14T14:07:38.139Z"
   },
   {
    "duration": 22,
    "start_time": "2022-07-14T14:08:15.422Z"
   },
   {
    "duration": 26,
    "start_time": "2022-07-14T14:08:29.225Z"
   },
   {
    "duration": 22,
    "start_time": "2022-07-14T14:10:16.925Z"
   },
   {
    "duration": 27,
    "start_time": "2022-07-14T14:11:08.412Z"
   },
   {
    "duration": 145,
    "start_time": "2022-07-14T14:13:43.737Z"
   },
   {
    "duration": 189,
    "start_time": "2022-07-14T14:14:03.959Z"
   },
   {
    "duration": 155,
    "start_time": "2022-07-14T14:14:49.019Z"
   },
   {
    "duration": 173,
    "start_time": "2022-07-14T14:15:07.839Z"
   },
   {
    "duration": 1777,
    "start_time": "2022-07-14T14:15:23.586Z"
   },
   {
    "duration": 1501,
    "start_time": "2022-07-14T14:15:53.677Z"
   },
   {
    "duration": 129,
    "start_time": "2022-07-14T14:16:10.266Z"
   },
   {
    "duration": 1194,
    "start_time": "2022-07-14T14:17:02.321Z"
   },
   {
    "duration": 1232,
    "start_time": "2022-07-14T14:17:13.601Z"
   },
   {
    "duration": 1614,
    "start_time": "2022-07-14T14:17:27.194Z"
   },
   {
    "duration": 1405,
    "start_time": "2022-07-14T14:18:41.118Z"
   },
   {
    "duration": 1647,
    "start_time": "2022-07-14T14:18:52.477Z"
   },
   {
    "duration": 1979,
    "start_time": "2022-07-14T14:19:35.279Z"
   },
   {
    "duration": 1607,
    "start_time": "2022-07-14T14:19:47.692Z"
   },
   {
    "duration": 1868,
    "start_time": "2022-07-14T14:20:31.094Z"
   },
   {
    "duration": 1273,
    "start_time": "2022-07-14T20:07:35.980Z"
   },
   {
    "duration": 359,
    "start_time": "2022-07-14T20:07:37.255Z"
   },
   {
    "duration": 4,
    "start_time": "2022-07-14T20:07:37.617Z"
   },
   {
    "duration": 48,
    "start_time": "2022-07-14T20:07:37.622Z"
   },
   {
    "duration": 23,
    "start_time": "2022-07-14T20:07:37.671Z"
   },
   {
    "duration": 57,
    "start_time": "2022-07-14T20:07:37.696Z"
   },
   {
    "duration": 33,
    "start_time": "2022-07-14T20:07:37.756Z"
   },
   {
    "duration": 22,
    "start_time": "2022-07-14T20:07:37.791Z"
   },
   {
    "duration": 74,
    "start_time": "2022-07-14T20:07:37.814Z"
   },
   {
    "duration": 33,
    "start_time": "2022-07-14T20:07:37.890Z"
   },
   {
    "duration": 22,
    "start_time": "2022-07-14T20:07:37.925Z"
   },
   {
    "duration": 46,
    "start_time": "2022-07-14T20:07:37.949Z"
   },
   {
    "duration": 37,
    "start_time": "2022-07-14T20:07:37.997Z"
   },
   {
    "duration": 25,
    "start_time": "2022-07-14T20:07:38.037Z"
   },
   {
    "duration": 32,
    "start_time": "2022-07-14T20:07:38.063Z"
   },
   {
    "duration": 21,
    "start_time": "2022-07-14T20:07:38.097Z"
   },
   {
    "duration": 1321,
    "start_time": "2022-07-14T20:07:38.120Z"
   },
   {
    "duration": 96,
    "start_time": "2022-07-14T20:07:39.443Z"
   },
   {
    "duration": 193,
    "start_time": "2022-07-14T20:07:39.541Z"
   },
   {
    "duration": 7,
    "start_time": "2022-07-14T20:07:39.736Z"
   },
   {
    "duration": 214,
    "start_time": "2022-07-14T20:07:39.744Z"
   },
   {
    "duration": 6,
    "start_time": "2022-07-14T20:07:39.960Z"
   },
   {
    "duration": 134,
    "start_time": "2022-07-14T20:07:39.968Z"
   },
   {
    "duration": 28,
    "start_time": "2022-07-14T20:07:40.106Z"
   },
   {
    "duration": 38,
    "start_time": "2022-07-14T20:07:40.136Z"
   },
   {
    "duration": 5,
    "start_time": "2022-07-14T20:07:40.176Z"
   },
   {
    "duration": 129,
    "start_time": "2022-07-14T20:07:40.183Z"
   },
   {
    "duration": 26,
    "start_time": "2022-07-14T20:07:40.314Z"
   },
   {
    "duration": 309,
    "start_time": "2022-07-14T20:25:30.348Z"
   },
   {
    "duration": 605,
    "start_time": "2022-07-14T20:25:42.611Z"
   },
   {
    "duration": 1552,
    "start_time": "2022-07-14T20:26:16.336Z"
   },
   {
    "duration": 607,
    "start_time": "2022-07-14T20:28:05.008Z"
   },
   {
    "duration": 841,
    "start_time": "2022-07-14T20:28:20.065Z"
   },
   {
    "duration": 65,
    "start_time": "2022-07-14T20:29:23.960Z"
   },
   {
    "duration": 753,
    "start_time": "2022-07-14T20:29:35.640Z"
   },
   {
    "duration": 338,
    "start_time": "2022-07-14T20:30:05.019Z"
   },
   {
    "duration": 933,
    "start_time": "2022-07-14T20:30:17.009Z"
   },
   {
    "duration": 697,
    "start_time": "2022-07-14T20:32:45.548Z"
   },
   {
    "duration": 513,
    "start_time": "2022-07-14T20:33:09.707Z"
   },
   {
    "duration": 788,
    "start_time": "2022-07-14T20:33:23.503Z"
   },
   {
    "duration": 16,
    "start_time": "2022-07-14T20:34:54.655Z"
   },
   {
    "duration": 441,
    "start_time": "2022-07-14T20:35:35.669Z"
   },
   {
    "duration": 662,
    "start_time": "2022-07-14T20:35:50.648Z"
   },
   {
    "duration": 17,
    "start_time": "2022-07-14T20:36:28.515Z"
   },
   {
    "duration": 639,
    "start_time": "2022-07-14T20:37:00.098Z"
   },
   {
    "duration": 324,
    "start_time": "2022-07-14T20:37:25.290Z"
   },
   {
    "duration": 414,
    "start_time": "2022-07-14T20:38:44.399Z"
   },
   {
    "duration": 489,
    "start_time": "2022-07-14T20:39:21.679Z"
   },
   {
    "duration": 735,
    "start_time": "2022-07-14T20:39:38.169Z"
   },
   {
    "duration": 633,
    "start_time": "2022-07-14T20:39:52.480Z"
   },
   {
    "duration": 676,
    "start_time": "2022-07-14T20:43:12.050Z"
   },
   {
    "duration": 824,
    "start_time": "2022-07-14T20:43:27.718Z"
   },
   {
    "duration": 666,
    "start_time": "2022-07-14T20:44:04.417Z"
   },
   {
    "duration": 679,
    "start_time": "2022-07-14T20:44:25.467Z"
   },
   {
    "duration": 666,
    "start_time": "2022-07-14T20:44:36.459Z"
   },
   {
    "duration": 933,
    "start_time": "2022-07-14T20:44:55.479Z"
   },
   {
    "duration": 768,
    "start_time": "2022-07-14T20:45:19.739Z"
   },
   {
    "duration": 621,
    "start_time": "2022-07-14T20:45:31.348Z"
   },
   {
    "duration": 650,
    "start_time": "2022-07-14T20:45:40.385Z"
   },
   {
    "duration": 583,
    "start_time": "2022-07-14T20:46:25.867Z"
   },
   {
    "duration": 653,
    "start_time": "2022-07-14T20:47:40.130Z"
   },
   {
    "duration": 608,
    "start_time": "2022-07-14T20:47:56.985Z"
   },
   {
    "duration": 464,
    "start_time": "2022-07-14T20:48:32.500Z"
   },
   {
    "duration": 734,
    "start_time": "2022-07-14T20:49:30.920Z"
   },
   {
    "duration": 611,
    "start_time": "2022-07-14T20:50:59.122Z"
   },
   {
    "duration": 800,
    "start_time": "2022-07-14T20:52:09.220Z"
   },
   {
    "duration": 910,
    "start_time": "2022-07-14T20:52:50.107Z"
   },
   {
    "duration": 865,
    "start_time": "2022-07-14T20:53:15.649Z"
   },
   {
    "duration": 9,
    "start_time": "2022-07-14T21:09:44.812Z"
   },
   {
    "duration": 8,
    "start_time": "2022-07-14T21:24:27.329Z"
   },
   {
    "duration": 9,
    "start_time": "2022-07-14T21:28:07.944Z"
   },
   {
    "duration": 610,
    "start_time": "2022-07-14T21:28:21.141Z"
   },
   {
    "duration": 371,
    "start_time": "2022-07-14T21:28:49.509Z"
   },
   {
    "duration": 15,
    "start_time": "2022-07-14T21:30:36.034Z"
   },
   {
    "duration": 1397,
    "start_time": "2022-07-15T12:40:25.974Z"
   },
   {
    "duration": 368,
    "start_time": "2022-07-15T12:40:27.374Z"
   },
   {
    "duration": 4,
    "start_time": "2022-07-15T12:40:27.744Z"
   },
   {
    "duration": 50,
    "start_time": "2022-07-15T12:40:27.750Z"
   },
   {
    "duration": 30,
    "start_time": "2022-07-15T12:40:27.802Z"
   },
   {
    "duration": 53,
    "start_time": "2022-07-15T12:40:27.834Z"
   },
   {
    "duration": 47,
    "start_time": "2022-07-15T12:40:27.889Z"
   },
   {
    "duration": 10,
    "start_time": "2022-07-15T12:40:27.938Z"
   },
   {
    "duration": 101,
    "start_time": "2022-07-15T12:40:27.950Z"
   },
   {
    "duration": 24,
    "start_time": "2022-07-15T12:40:28.053Z"
   },
   {
    "duration": 6,
    "start_time": "2022-07-15T12:40:28.079Z"
   },
   {
    "duration": 26,
    "start_time": "2022-07-15T12:40:28.110Z"
   },
   {
    "duration": 23,
    "start_time": "2022-07-15T12:40:28.138Z"
   },
   {
    "duration": 9,
    "start_time": "2022-07-15T12:40:28.162Z"
   },
   {
    "duration": 50,
    "start_time": "2022-07-15T12:40:28.173Z"
   },
   {
    "duration": 17,
    "start_time": "2022-07-15T12:40:28.224Z"
   },
   {
    "duration": 1391,
    "start_time": "2022-07-15T12:40:28.243Z"
   },
   {
    "duration": 1043,
    "start_time": "2022-07-15T12:40:29.636Z"
   },
   {
    "duration": 8,
    "start_time": "2022-07-15T12:40:30.681Z"
   },
   {
    "duration": 548,
    "start_time": "2022-07-15T12:40:30.690Z"
   },
   {
    "duration": 0,
    "start_time": "2022-07-15T12:40:31.240Z"
   },
   {
    "duration": 13,
    "start_time": "2022-07-15T12:44:23.046Z"
   },
   {
    "duration": 13,
    "start_time": "2022-07-15T12:45:43.256Z"
   },
   {
    "duration": 13,
    "start_time": "2022-07-15T13:01:30.897Z"
   },
   {
    "duration": 92,
    "start_time": "2022-07-15T13:03:27.655Z"
   },
   {
    "duration": 84,
    "start_time": "2022-07-15T13:05:40.800Z"
   },
   {
    "duration": 152,
    "start_time": "2022-07-15T13:06:05.849Z"
   },
   {
    "duration": 77,
    "start_time": "2022-07-15T13:07:52.320Z"
   },
   {
    "duration": 227,
    "start_time": "2022-07-15T13:08:09.766Z"
   },
   {
    "duration": 472,
    "start_time": "2022-07-15T13:08:29.164Z"
   },
   {
    "duration": 3867,
    "start_time": "2022-07-15T13:18:28.910Z"
   },
   {
    "duration": 14,
    "start_time": "2022-07-15T13:22:39.258Z"
   },
   {
    "duration": 14,
    "start_time": "2022-07-15T13:23:36.960Z"
   },
   {
    "duration": 10,
    "start_time": "2022-07-15T13:24:05.822Z"
   },
   {
    "duration": 223,
    "start_time": "2022-07-15T13:24:25.977Z"
   },
   {
    "duration": 236,
    "start_time": "2022-07-15T13:24:57.757Z"
   },
   {
    "duration": 235,
    "start_time": "2022-07-15T13:25:27.352Z"
   },
   {
    "duration": 4,
    "start_time": "2022-07-15T13:28:56.085Z"
   },
   {
    "duration": 37,
    "start_time": "2022-07-15T13:29:58.731Z"
   },
   {
    "duration": 81,
    "start_time": "2022-07-15T13:30:31.931Z"
   },
   {
    "duration": 34,
    "start_time": "2022-07-15T13:30:39.292Z"
   },
   {
    "duration": 6,
    "start_time": "2022-07-15T13:30:58.325Z"
   },
   {
    "duration": 32,
    "start_time": "2022-07-15T13:31:05.862Z"
   },
   {
    "duration": 31,
    "start_time": "2022-07-15T13:33:53.536Z"
   },
   {
    "duration": 237,
    "start_time": "2022-07-15T13:34:00.239Z"
   },
   {
    "duration": 338,
    "start_time": "2022-07-15T13:35:44.636Z"
   },
   {
    "duration": 133,
    "start_time": "2022-07-15T13:36:26.045Z"
   },
   {
    "duration": 136,
    "start_time": "2022-07-15T13:39:56.450Z"
   },
   {
    "duration": 129,
    "start_time": "2022-07-15T13:40:26.949Z"
   },
   {
    "duration": 283,
    "start_time": "2022-07-15T13:40:39.599Z"
   },
   {
    "duration": 167,
    "start_time": "2022-07-15T13:41:28.192Z"
   },
   {
    "duration": 163,
    "start_time": "2022-07-15T13:42:33.844Z"
   },
   {
    "duration": 190,
    "start_time": "2022-07-15T13:43:27.036Z"
   },
   {
    "duration": 188,
    "start_time": "2022-07-15T13:45:29.134Z"
   },
   {
    "duration": 176,
    "start_time": "2022-07-15T13:48:58.160Z"
   },
   {
    "duration": 186,
    "start_time": "2022-07-15T13:49:10.270Z"
   },
   {
    "duration": 165,
    "start_time": "2022-07-15T13:49:19.347Z"
   },
   {
    "duration": 269,
    "start_time": "2022-07-15T13:49:52.815Z"
   },
   {
    "duration": 187,
    "start_time": "2022-07-15T13:50:02.840Z"
   },
   {
    "duration": 185,
    "start_time": "2022-07-15T13:50:13.609Z"
   },
   {
    "duration": 186,
    "start_time": "2022-07-15T13:50:34.390Z"
   },
   {
    "duration": 347,
    "start_time": "2022-07-15T13:50:51.249Z"
   },
   {
    "duration": 187,
    "start_time": "2022-07-15T13:51:04.951Z"
   },
   {
    "duration": 33,
    "start_time": "2022-07-15T13:53:21.900Z"
   },
   {
    "duration": 15,
    "start_time": "2022-07-15T13:53:28.449Z"
   },
   {
    "duration": 12,
    "start_time": "2022-07-15T13:54:28.083Z"
   },
   {
    "duration": 13,
    "start_time": "2022-07-15T13:54:43.870Z"
   },
   {
    "duration": 242,
    "start_time": "2022-07-15T13:56:10.813Z"
   },
   {
    "duration": 235,
    "start_time": "2022-07-15T13:56:28.749Z"
   },
   {
    "duration": 343,
    "start_time": "2022-07-15T13:57:46.057Z"
   },
   {
    "duration": 251,
    "start_time": "2022-07-15T14:02:31.775Z"
   },
   {
    "duration": 346,
    "start_time": "2022-07-15T14:04:56.615Z"
   },
   {
    "duration": 373,
    "start_time": "2022-07-15T14:05:41.908Z"
   },
   {
    "duration": 536,
    "start_time": "2022-07-15T14:06:22.015Z"
   },
   {
    "duration": 376,
    "start_time": "2022-07-15T14:06:39.328Z"
   },
   {
    "duration": 7,
    "start_time": "2022-07-15T14:10:19.232Z"
   },
   {
    "duration": 144,
    "start_time": "2022-07-15T14:10:20.185Z"
   },
   {
    "duration": 8,
    "start_time": "2022-07-15T14:11:53.328Z"
   },
   {
    "duration": 187,
    "start_time": "2022-07-15T14:11:54.257Z"
   },
   {
    "duration": 161,
    "start_time": "2022-07-15T14:12:16.288Z"
   },
   {
    "duration": 151,
    "start_time": "2022-07-15T14:13:01.112Z"
   },
   {
    "duration": 165,
    "start_time": "2022-07-15T14:13:42.037Z"
   },
   {
    "duration": 310,
    "start_time": "2022-07-15T14:15:00.336Z"
   },
   {
    "duration": 172,
    "start_time": "2022-07-15T14:15:08.284Z"
   },
   {
    "duration": 169,
    "start_time": "2022-07-15T14:16:25.747Z"
   },
   {
    "duration": 351,
    "start_time": "2022-07-15T14:19:08.087Z"
   },
   {
    "duration": 175,
    "start_time": "2022-07-15T14:19:34.067Z"
   },
   {
    "duration": 12,
    "start_time": "2022-07-15T14:21:09.548Z"
   },
   {
    "duration": 200,
    "start_time": "2022-07-15T14:21:33.693Z"
   },
   {
    "duration": 218,
    "start_time": "2022-07-15T14:21:45.596Z"
   },
   {
    "duration": 333,
    "start_time": "2022-07-15T14:22:01.554Z"
   },
   {
    "duration": 303,
    "start_time": "2022-07-15T14:22:46.907Z"
   },
   {
    "duration": 169,
    "start_time": "2022-07-15T14:23:28.413Z"
   },
   {
    "duration": 305,
    "start_time": "2022-07-15T14:24:02.032Z"
   },
   {
    "duration": 331,
    "start_time": "2022-07-15T14:25:13.432Z"
   },
   {
    "duration": 326,
    "start_time": "2022-07-15T14:25:48.693Z"
   },
   {
    "duration": 5,
    "start_time": "2022-07-15T14:47:12.885Z"
   },
   {
    "duration": 27,
    "start_time": "2022-07-15T14:50:04.552Z"
   },
   {
    "duration": 20,
    "start_time": "2022-07-15T14:50:14.852Z"
   },
   {
    "duration": 11,
    "start_time": "2022-07-15T14:54:24.753Z"
   },
   {
    "duration": 586,
    "start_time": "2022-07-15T14:57:03.985Z"
   },
   {
    "duration": 8,
    "start_time": "2022-07-15T14:57:17.886Z"
   },
   {
    "duration": 6,
    "start_time": "2022-07-15T15:03:12.546Z"
   },
   {
    "duration": 36,
    "start_time": "2022-07-15T15:03:41.127Z"
   },
   {
    "duration": 9,
    "start_time": "2022-07-15T15:03:45.971Z"
   },
   {
    "duration": 4,
    "start_time": "2022-07-15T15:15:11.745Z"
   },
   {
    "duration": 21,
    "start_time": "2022-07-15T15:16:07.063Z"
   },
   {
    "duration": 4,
    "start_time": "2022-07-15T15:16:18.345Z"
   },
   {
    "duration": 25,
    "start_time": "2022-07-15T15:16:26.753Z"
   },
   {
    "duration": 7,
    "start_time": "2022-07-15T15:16:54.548Z"
   },
   {
    "duration": 19,
    "start_time": "2022-07-15T15:17:04.253Z"
   },
   {
    "duration": 7,
    "start_time": "2022-07-15T15:17:07.722Z"
   },
   {
    "duration": 46,
    "start_time": "2022-07-15T15:17:13.449Z"
   },
   {
    "duration": 7,
    "start_time": "2022-07-15T15:17:14.510Z"
   },
   {
    "duration": 247,
    "start_time": "2022-07-15T15:17:21.969Z"
   },
   {
    "duration": 11,
    "start_time": "2022-07-15T15:17:22.945Z"
   },
   {
    "duration": 1524,
    "start_time": "2022-07-15T15:17:37.749Z"
   },
   {
    "duration": 149,
    "start_time": "2022-07-15T15:17:39.275Z"
   },
   {
    "duration": 4,
    "start_time": "2022-07-15T15:17:39.426Z"
   },
   {
    "duration": 39,
    "start_time": "2022-07-15T15:17:39.432Z"
   },
   {
    "duration": 48,
    "start_time": "2022-07-15T15:17:39.473Z"
   },
   {
    "duration": 51,
    "start_time": "2022-07-15T15:17:39.523Z"
   },
   {
    "duration": 55,
    "start_time": "2022-07-15T15:17:39.575Z"
   },
   {
    "duration": 10,
    "start_time": "2022-07-15T15:17:39.632Z"
   },
   {
    "duration": 104,
    "start_time": "2022-07-15T15:17:39.644Z"
   },
   {
    "duration": 28,
    "start_time": "2022-07-15T15:17:39.753Z"
   },
   {
    "duration": 32,
    "start_time": "2022-07-15T15:17:39.783Z"
   },
   {
    "duration": 26,
    "start_time": "2022-07-15T15:17:39.817Z"
   },
   {
    "duration": 25,
    "start_time": "2022-07-15T15:17:39.845Z"
   },
   {
    "duration": 6,
    "start_time": "2022-07-15T15:17:39.872Z"
   },
   {
    "duration": 48,
    "start_time": "2022-07-15T15:17:39.880Z"
   },
   {
    "duration": 30,
    "start_time": "2022-07-15T15:17:39.930Z"
   },
   {
    "duration": 1611,
    "start_time": "2022-07-15T15:17:39.963Z"
   },
   {
    "duration": 1008,
    "start_time": "2022-07-15T15:17:41.575Z"
   },
   {
    "duration": 365,
    "start_time": "2022-07-15T15:17:42.585Z"
   },
   {
    "duration": 11,
    "start_time": "2022-07-15T15:17:42.952Z"
   },
   {
    "duration": 7,
    "start_time": "2022-07-15T15:17:42.964Z"
   },
   {
    "duration": 67,
    "start_time": "2022-07-15T15:17:42.973Z"
   },
   {
    "duration": 9,
    "start_time": "2022-07-15T15:17:43.042Z"
   },
   {
    "duration": 5,
    "start_time": "2022-07-15T15:17:43.053Z"
   },
   {
    "duration": 8,
    "start_time": "2022-07-15T15:17:43.060Z"
   },
   {
    "duration": 42,
    "start_time": "2022-07-15T15:17:43.070Z"
   },
   {
    "duration": 6,
    "start_time": "2022-07-15T15:17:43.114Z"
   },
   {
    "duration": 1515,
    "start_time": "2022-07-15T15:18:30.552Z"
   },
   {
    "duration": 148,
    "start_time": "2022-07-15T15:18:32.069Z"
   },
   {
    "duration": 4,
    "start_time": "2022-07-15T15:18:32.218Z"
   },
   {
    "duration": 38,
    "start_time": "2022-07-15T15:18:32.224Z"
   },
   {
    "duration": 48,
    "start_time": "2022-07-15T15:18:32.264Z"
   },
   {
    "duration": 61,
    "start_time": "2022-07-15T15:18:32.314Z"
   },
   {
    "duration": 66,
    "start_time": "2022-07-15T15:18:32.376Z"
   },
   {
    "duration": 11,
    "start_time": "2022-07-15T15:18:32.444Z"
   },
   {
    "duration": 89,
    "start_time": "2022-07-15T15:18:32.457Z"
   },
   {
    "duration": 25,
    "start_time": "2022-07-15T15:18:32.550Z"
   },
   {
    "duration": 36,
    "start_time": "2022-07-15T15:18:32.576Z"
   },
   {
    "duration": 29,
    "start_time": "2022-07-15T15:18:32.614Z"
   },
   {
    "duration": 28,
    "start_time": "2022-07-15T15:18:32.645Z"
   },
   {
    "duration": 7,
    "start_time": "2022-07-15T15:18:32.675Z"
   },
   {
    "duration": 50,
    "start_time": "2022-07-15T15:18:32.684Z"
   },
   {
    "duration": 20,
    "start_time": "2022-07-15T15:18:32.736Z"
   },
   {
    "duration": 1481,
    "start_time": "2022-07-15T15:18:32.757Z"
   },
   {
    "duration": 957,
    "start_time": "2022-07-15T15:18:34.239Z"
   },
   {
    "duration": 362,
    "start_time": "2022-07-15T15:18:35.198Z"
   },
   {
    "duration": 13,
    "start_time": "2022-07-15T15:18:35.562Z"
   },
   {
    "duration": 18,
    "start_time": "2022-07-15T15:18:35.577Z"
   },
   {
    "duration": 48,
    "start_time": "2022-07-15T15:18:35.597Z"
   },
   {
    "duration": 9,
    "start_time": "2022-07-15T15:18:35.647Z"
   },
   {
    "duration": 6,
    "start_time": "2022-07-15T15:18:35.659Z"
   },
   {
    "duration": 9,
    "start_time": "2022-07-15T15:18:35.667Z"
   },
   {
    "duration": 42,
    "start_time": "2022-07-15T15:18:35.677Z"
   },
   {
    "duration": 5,
    "start_time": "2022-07-15T15:18:35.721Z"
   },
   {
    "duration": 155,
    "start_time": "2022-07-15T15:31:53.601Z"
   },
   {
    "duration": 43,
    "start_time": "2022-07-15T15:33:06.454Z"
   },
   {
    "duration": 51,
    "start_time": "2022-07-15T15:33:16.582Z"
   },
   {
    "duration": 61193,
    "start_time": "2022-07-15T15:33:32.435Z"
   },
   {
    "duration": 142,
    "start_time": "2022-07-15T15:36:21.405Z"
   },
   {
    "duration": 122,
    "start_time": "2022-07-15T15:37:11.454Z"
   },
   {
    "duration": 9,
    "start_time": "2022-07-15T15:37:38.985Z"
   },
   {
    "duration": 6,
    "start_time": "2022-07-15T15:38:40.084Z"
   },
   {
    "duration": 45,
    "start_time": "2022-07-15T19:04:54.983Z"
   },
   {
    "duration": 1583,
    "start_time": "2022-07-15T19:05:12.507Z"
   },
   {
    "duration": 333,
    "start_time": "2022-07-15T19:05:14.092Z"
   },
   {
    "duration": 3,
    "start_time": "2022-07-15T19:05:14.427Z"
   },
   {
    "duration": 38,
    "start_time": "2022-07-15T19:05:14.432Z"
   },
   {
    "duration": 22,
    "start_time": "2022-07-15T19:05:14.472Z"
   },
   {
    "duration": 39,
    "start_time": "2022-07-15T19:05:14.496Z"
   },
   {
    "duration": 24,
    "start_time": "2022-07-15T19:05:14.537Z"
   },
   {
    "duration": 8,
    "start_time": "2022-07-15T19:05:14.565Z"
   },
   {
    "duration": 82,
    "start_time": "2022-07-15T19:05:14.574Z"
   },
   {
    "duration": 18,
    "start_time": "2022-07-15T19:05:14.659Z"
   },
   {
    "duration": 24,
    "start_time": "2022-07-15T19:05:14.678Z"
   },
   {
    "duration": 22,
    "start_time": "2022-07-15T19:05:14.703Z"
   },
   {
    "duration": 21,
    "start_time": "2022-07-15T19:05:14.727Z"
   },
   {
    "duration": 5,
    "start_time": "2022-07-15T19:05:14.749Z"
   },
   {
    "duration": 46,
    "start_time": "2022-07-15T19:05:14.755Z"
   },
   {
    "duration": 14,
    "start_time": "2022-07-15T19:05:14.803Z"
   },
   {
    "duration": 1393,
    "start_time": "2022-07-15T19:05:14.819Z"
   },
   {
    "duration": 830,
    "start_time": "2022-07-15T19:05:16.214Z"
   },
   {
    "duration": 300,
    "start_time": "2022-07-15T19:05:17.045Z"
   },
   {
    "duration": 9,
    "start_time": "2022-07-15T19:05:17.347Z"
   },
   {
    "duration": 4,
    "start_time": "2022-07-15T19:05:17.357Z"
   },
   {
    "duration": 52,
    "start_time": "2022-07-15T19:05:17.363Z"
   },
   {
    "duration": 7,
    "start_time": "2022-07-15T19:05:17.417Z"
   },
   {
    "duration": 6,
    "start_time": "2022-07-15T19:05:17.426Z"
   },
   {
    "duration": 4,
    "start_time": "2022-07-15T19:05:17.433Z"
   },
   {
    "duration": 13,
    "start_time": "2022-07-15T19:05:17.439Z"
   },
   {
    "duration": 5,
    "start_time": "2022-07-15T19:05:17.454Z"
   },
   {
    "duration": 79,
    "start_time": "2022-07-15T19:05:17.462Z"
   },
   {
    "duration": 319,
    "start_time": "2022-07-15T19:05:17.600Z"
   },
   {
    "duration": 113,
    "start_time": "2022-07-15T19:05:17.921Z"
   },
   {
    "duration": 367,
    "start_time": "2022-07-15T19:06:28.239Z"
   },
   {
    "duration": 50,
    "start_time": "2022-07-15T19:17:27.489Z"
   },
   {
    "duration": 105,
    "start_time": "2022-07-15T19:17:35.488Z"
   },
   {
    "duration": 12,
    "start_time": "2022-07-15T19:18:05.367Z"
   },
   {
    "duration": 108276,
    "start_time": "2022-07-15T19:18:28.109Z"
   },
   {
    "duration": 114899,
    "start_time": "2022-07-15T19:23:04.989Z"
   },
   {
    "duration": 115996,
    "start_time": "2022-07-15T19:26:36.154Z"
   },
   {
    "duration": 5,
    "start_time": "2022-07-15T19:31:41.737Z"
   },
   {
    "duration": 108811,
    "start_time": "2022-07-15T19:31:54.966Z"
   },
   {
    "duration": 2180,
    "start_time": "2022-07-15T19:37:56.556Z"
   },
   {
    "duration": 4854,
    "start_time": "2022-07-15T19:38:15.598Z"
   },
   {
    "duration": 1369,
    "start_time": "2022-07-15T19:46:16.478Z"
   },
   {
    "duration": 385,
    "start_time": "2022-07-15T19:46:17.850Z"
   },
   {
    "duration": 4,
    "start_time": "2022-07-15T19:46:18.240Z"
   },
   {
    "duration": 54,
    "start_time": "2022-07-15T19:46:18.246Z"
   },
   {
    "duration": 41,
    "start_time": "2022-07-15T19:46:18.301Z"
   },
   {
    "duration": 59,
    "start_time": "2022-07-15T19:46:18.344Z"
   },
   {
    "duration": 38,
    "start_time": "2022-07-15T19:46:18.407Z"
   },
   {
    "duration": 10,
    "start_time": "2022-07-15T19:46:18.447Z"
   },
   {
    "duration": 98,
    "start_time": "2022-07-15T19:46:18.466Z"
   },
   {
    "duration": 23,
    "start_time": "2022-07-15T19:46:18.568Z"
   },
   {
    "duration": 15,
    "start_time": "2022-07-15T19:46:18.593Z"
   },
   {
    "duration": 63,
    "start_time": "2022-07-15T19:46:18.616Z"
   },
   {
    "duration": 29,
    "start_time": "2022-07-15T19:46:18.680Z"
   },
   {
    "duration": 18,
    "start_time": "2022-07-15T19:46:18.716Z"
   },
   {
    "duration": 21,
    "start_time": "2022-07-15T19:46:18.736Z"
   },
   {
    "duration": 17,
    "start_time": "2022-07-15T19:46:18.758Z"
   },
   {
    "duration": 1527,
    "start_time": "2022-07-15T19:46:18.777Z"
   },
   {
    "duration": 969,
    "start_time": "2022-07-15T19:46:20.308Z"
   },
   {
    "duration": 380,
    "start_time": "2022-07-15T19:46:21.279Z"
   },
   {
    "duration": 9,
    "start_time": "2022-07-15T19:46:21.661Z"
   },
   {
    "duration": 5,
    "start_time": "2022-07-15T19:46:21.672Z"
   },
   {
    "duration": 57,
    "start_time": "2022-07-15T19:46:21.679Z"
   },
   {
    "duration": 8,
    "start_time": "2022-07-15T19:46:21.737Z"
   },
   {
    "duration": 12,
    "start_time": "2022-07-15T19:46:21.746Z"
   },
   {
    "duration": 7,
    "start_time": "2022-07-15T19:46:21.759Z"
   },
   {
    "duration": 14,
    "start_time": "2022-07-15T19:46:21.768Z"
   },
   {
    "duration": 18,
    "start_time": "2022-07-15T19:46:21.783Z"
   },
   {
    "duration": 329,
    "start_time": "2022-07-15T19:46:21.806Z"
   },
   {
    "duration": 2038,
    "start_time": "2022-07-15T19:46:22.137Z"
   },
   {
    "duration": 113513,
    "start_time": "2022-07-15T19:46:24.177Z"
   },
   {
    "duration": 97689,
    "start_time": "2022-07-15T19:48:17.692Z"
   }
  ],
  "kernelspec": {
   "display_name": "Python 3 (ipykernel)",
   "language": "python",
   "name": "python3"
  },
  "language_info": {
   "codemirror_mode": {
    "name": "ipython",
    "version": 3
   },
   "file_extension": ".py",
   "mimetype": "text/x-python",
   "name": "python",
   "nbconvert_exporter": "python",
   "pygments_lexer": "ipython3",
   "version": "3.9.7"
  },
  "toc": {
   "base_numbering": 1,
   "nav_menu": {},
   "number_sections": true,
   "sideBar": true,
   "skip_h1_title": true,
   "title_cell": "Table of Contents",
   "title_sidebar": "Contents",
   "toc_cell": false,
   "toc_position": {},
   "toc_section_display": true,
   "toc_window_display": false
  }
 },
 "nbformat": 4,
 "nbformat_minor": 2
}
