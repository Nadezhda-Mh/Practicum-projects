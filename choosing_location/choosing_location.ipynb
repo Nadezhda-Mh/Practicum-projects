{
 "cells": [
  {
   "cell_type": "markdown",
   "metadata": {},
   "source": [
    "# Выбор локации для скважины"
   ]
  },
  {
   "cell_type": "markdown",
   "metadata": {},
   "source": [
    "## Загрузка и подготовка данных"
   ]
  },
  {
   "cell_type": "code",
   "execution_count": 1,
   "metadata": {},
   "outputs": [],
   "source": [
    "# импорт библиотек\n",
    "import pandas as pd\n",
    "import numpy as np\n",
    "import matplotlib.pyplot as plt\n",
    "from sklearn.linear_model import LinearRegression\n",
    "from sklearn.model_selection import train_test_split\n",
    "from sklearn.metrics import mean_squared_error\n",
    "from numpy.random import RandomState"
   ]
  },
  {
   "cell_type": "code",
   "execution_count": 2,
   "metadata": {},
   "outputs": [],
   "source": [
    "# чтение файла с данными и сохранение в df с использованием конструкции try-except\n",
    "try:\n",
    "    df_zero = pd.read_csv('C:/Users/datasets/geo_data_0.csv') # локальный путь\n",
    "    df_one = pd.read_csv('C:/Users/datasets/geo_data_1.csv')\n",
    "    df_two = pd.read_csv('C:/Users/datasets/geo_data_2.csv')\n",
    "except:\n",
    "    df_zero = pd.read_csv('/datasets/geo_data_0.csv') # серверный путь\n",
    "    df_one = pd.read_csv('/datasets/geo_data_1.csv')\n",
    "    df_two = pd.read_csv('/datasets/geo_data_2.csv')"
   ]
  },
  {
   "cell_type": "code",
   "execution_count": 3,
   "metadata": {},
   "outputs": [
    {
     "data": {
      "text/html": [
       "<div>\n",
       "<style scoped>\n",
       "    .dataframe tbody tr th:only-of-type {\n",
       "        vertical-align: middle;\n",
       "    }\n",
       "\n",
       "    .dataframe tbody tr th {\n",
       "        vertical-align: top;\n",
       "    }\n",
       "\n",
       "    .dataframe thead th {\n",
       "        text-align: right;\n",
       "    }\n",
       "</style>\n",
       "<table border=\"1\" class=\"dataframe\">\n",
       "  <thead>\n",
       "    <tr style=\"text-align: right;\">\n",
       "      <th></th>\n",
       "      <th>id</th>\n",
       "      <th>f0</th>\n",
       "      <th>f1</th>\n",
       "      <th>f2</th>\n",
       "      <th>product</th>\n",
       "    </tr>\n",
       "  </thead>\n",
       "  <tbody>\n",
       "    <tr>\n",
       "      <td>0</td>\n",
       "      <td>txEyH</td>\n",
       "      <td>0.705745</td>\n",
       "      <td>-0.497823</td>\n",
       "      <td>1.221170</td>\n",
       "      <td>105.280062</td>\n",
       "    </tr>\n",
       "    <tr>\n",
       "      <td>1</td>\n",
       "      <td>2acmU</td>\n",
       "      <td>1.334711</td>\n",
       "      <td>-0.340164</td>\n",
       "      <td>4.365080</td>\n",
       "      <td>73.037750</td>\n",
       "    </tr>\n",
       "    <tr>\n",
       "      <td>2</td>\n",
       "      <td>409Wp</td>\n",
       "      <td>1.022732</td>\n",
       "      <td>0.151990</td>\n",
       "      <td>1.419926</td>\n",
       "      <td>85.265647</td>\n",
       "    </tr>\n",
       "  </tbody>\n",
       "</table>\n",
       "</div>"
      ],
      "text/plain": [
       "      id        f0        f1        f2     product\n",
       "0  txEyH  0.705745 -0.497823  1.221170  105.280062\n",
       "1  2acmU  1.334711 -0.340164  4.365080   73.037750\n",
       "2  409Wp  1.022732  0.151990  1.419926   85.265647"
      ]
     },
     "execution_count": 3,
     "metadata": {},
     "output_type": "execute_result"
    }
   ],
   "source": [
    "# просмотр первых 3 строк таблицы df_zero\n",
    "df_zero.head(3)"
   ]
  },
  {
   "cell_type": "code",
   "execution_count": 4,
   "metadata": {},
   "outputs": [
    {
     "data": {
      "text/html": [
       "<div>\n",
       "<style scoped>\n",
       "    .dataframe tbody tr th:only-of-type {\n",
       "        vertical-align: middle;\n",
       "    }\n",
       "\n",
       "    .dataframe tbody tr th {\n",
       "        vertical-align: top;\n",
       "    }\n",
       "\n",
       "    .dataframe thead th {\n",
       "        text-align: right;\n",
       "    }\n",
       "</style>\n",
       "<table border=\"1\" class=\"dataframe\">\n",
       "  <thead>\n",
       "    <tr style=\"text-align: right;\">\n",
       "      <th></th>\n",
       "      <th>id</th>\n",
       "      <th>f0</th>\n",
       "      <th>f1</th>\n",
       "      <th>f2</th>\n",
       "      <th>product</th>\n",
       "    </tr>\n",
       "  </thead>\n",
       "  <tbody>\n",
       "    <tr>\n",
       "      <td>0</td>\n",
       "      <td>kBEdx</td>\n",
       "      <td>-15.001348</td>\n",
       "      <td>-8.276000</td>\n",
       "      <td>-0.005876</td>\n",
       "      <td>3.179103</td>\n",
       "    </tr>\n",
       "    <tr>\n",
       "      <td>1</td>\n",
       "      <td>62mP7</td>\n",
       "      <td>14.272088</td>\n",
       "      <td>-3.475083</td>\n",
       "      <td>0.999183</td>\n",
       "      <td>26.953261</td>\n",
       "    </tr>\n",
       "    <tr>\n",
       "      <td>2</td>\n",
       "      <td>vyE1P</td>\n",
       "      <td>6.263187</td>\n",
       "      <td>-5.948386</td>\n",
       "      <td>5.001160</td>\n",
       "      <td>134.766305</td>\n",
       "    </tr>\n",
       "  </tbody>\n",
       "</table>\n",
       "</div>"
      ],
      "text/plain": [
       "      id         f0        f1        f2     product\n",
       "0  kBEdx -15.001348 -8.276000 -0.005876    3.179103\n",
       "1  62mP7  14.272088 -3.475083  0.999183   26.953261\n",
       "2  vyE1P   6.263187 -5.948386  5.001160  134.766305"
      ]
     },
     "execution_count": 4,
     "metadata": {},
     "output_type": "execute_result"
    }
   ],
   "source": [
    "# просмотр первых 3 строк таблицы df_one\n",
    "df_one.head(3)"
   ]
  },
  {
   "cell_type": "code",
   "execution_count": 5,
   "metadata": {},
   "outputs": [
    {
     "data": {
      "text/html": [
       "<div>\n",
       "<style scoped>\n",
       "    .dataframe tbody tr th:only-of-type {\n",
       "        vertical-align: middle;\n",
       "    }\n",
       "\n",
       "    .dataframe tbody tr th {\n",
       "        vertical-align: top;\n",
       "    }\n",
       "\n",
       "    .dataframe thead th {\n",
       "        text-align: right;\n",
       "    }\n",
       "</style>\n",
       "<table border=\"1\" class=\"dataframe\">\n",
       "  <thead>\n",
       "    <tr style=\"text-align: right;\">\n",
       "      <th></th>\n",
       "      <th>id</th>\n",
       "      <th>f0</th>\n",
       "      <th>f1</th>\n",
       "      <th>f2</th>\n",
       "      <th>product</th>\n",
       "    </tr>\n",
       "  </thead>\n",
       "  <tbody>\n",
       "    <tr>\n",
       "      <td>0</td>\n",
       "      <td>fwXo0</td>\n",
       "      <td>-1.146987</td>\n",
       "      <td>0.963328</td>\n",
       "      <td>-0.828965</td>\n",
       "      <td>27.758673</td>\n",
       "    </tr>\n",
       "    <tr>\n",
       "      <td>1</td>\n",
       "      <td>WJtFt</td>\n",
       "      <td>0.262778</td>\n",
       "      <td>0.269839</td>\n",
       "      <td>-2.530187</td>\n",
       "      <td>56.069697</td>\n",
       "    </tr>\n",
       "    <tr>\n",
       "      <td>2</td>\n",
       "      <td>ovLUW</td>\n",
       "      <td>0.194587</td>\n",
       "      <td>0.289035</td>\n",
       "      <td>-5.586433</td>\n",
       "      <td>62.871910</td>\n",
       "    </tr>\n",
       "  </tbody>\n",
       "</table>\n",
       "</div>"
      ],
      "text/plain": [
       "      id        f0        f1        f2    product\n",
       "0  fwXo0 -1.146987  0.963328 -0.828965  27.758673\n",
       "1  WJtFt  0.262778  0.269839 -2.530187  56.069697\n",
       "2  ovLUW  0.194587  0.289035 -5.586433  62.871910"
      ]
     },
     "execution_count": 5,
     "metadata": {},
     "output_type": "execute_result"
    }
   ],
   "source": [
    "# просмотр первых 3 строк таблицы df_two\n",
    "df_two.head(3)"
   ]
  },
  {
   "cell_type": "code",
   "execution_count": 6,
   "metadata": {
    "scrolled": false
   },
   "outputs": [
    {
     "name": "stdout",
     "output_type": "stream",
     "text": [
      "<class 'pandas.core.frame.DataFrame'>\n",
      "RangeIndex: 100000 entries, 0 to 99999\n",
      "Data columns (total 5 columns):\n",
      "id         100000 non-null object\n",
      "f0         100000 non-null float64\n",
      "f1         100000 non-null float64\n",
      "f2         100000 non-null float64\n",
      "product    100000 non-null float64\n",
      "dtypes: float64(4), object(1)\n",
      "memory usage: 3.8+ MB\n",
      "None\n",
      "\n",
      "<class 'pandas.core.frame.DataFrame'>\n",
      "RangeIndex: 100000 entries, 0 to 99999\n",
      "Data columns (total 5 columns):\n",
      "id         100000 non-null object\n",
      "f0         100000 non-null float64\n",
      "f1         100000 non-null float64\n",
      "f2         100000 non-null float64\n",
      "product    100000 non-null float64\n",
      "dtypes: float64(4), object(1)\n",
      "memory usage: 3.8+ MB\n",
      "None\n",
      "\n",
      "<class 'pandas.core.frame.DataFrame'>\n",
      "RangeIndex: 100000 entries, 0 to 99999\n",
      "Data columns (total 5 columns):\n",
      "id         100000 non-null object\n",
      "f0         100000 non-null float64\n",
      "f1         100000 non-null float64\n",
      "f2         100000 non-null float64\n",
      "product    100000 non-null float64\n",
      "dtypes: float64(4), object(1)\n",
      "memory usage: 3.8+ MB\n",
      "None\n",
      "\n"
     ]
    }
   ],
   "source": [
    "# получение общей информации о данных\n",
    "data = [df_zero, df_one, df_two]\n",
    "for df in data:\n",
    "    print(df.info())\n",
    "    print('')"
   ]
  },
  {
   "cell_type": "markdown",
   "metadata": {},
   "source": [
    "Посмотрим на распределение запасов нефти по регионам, построив \"ящик с усами\"."
   ]
  },
  {
   "cell_type": "code",
   "execution_count": 7,
   "metadata": {},
   "outputs": [
    {
     "data": {
      "text/html": [
       "<div>\n",
       "<style scoped>\n",
       "    .dataframe tbody tr th:only-of-type {\n",
       "        vertical-align: middle;\n",
       "    }\n",
       "\n",
       "    .dataframe tbody tr th {\n",
       "        vertical-align: top;\n",
       "    }\n",
       "\n",
       "    .dataframe thead th {\n",
       "        text-align: right;\n",
       "    }\n",
       "</style>\n",
       "<table border=\"1\" class=\"dataframe\">\n",
       "  <thead>\n",
       "    <tr style=\"text-align: right;\">\n",
       "      <th></th>\n",
       "      <th>product_0</th>\n",
       "      <th>product_1</th>\n",
       "      <th>product_2</th>\n",
       "    </tr>\n",
       "  </thead>\n",
       "  <tbody>\n",
       "    <tr>\n",
       "      <td>0</td>\n",
       "      <td>105.280062</td>\n",
       "      <td>3.179103</td>\n",
       "      <td>27.758673</td>\n",
       "    </tr>\n",
       "    <tr>\n",
       "      <td>1</td>\n",
       "      <td>73.037750</td>\n",
       "      <td>26.953261</td>\n",
       "      <td>56.069697</td>\n",
       "    </tr>\n",
       "    <tr>\n",
       "      <td>2</td>\n",
       "      <td>85.265647</td>\n",
       "      <td>134.766305</td>\n",
       "      <td>62.871910</td>\n",
       "    </tr>\n",
       "    <tr>\n",
       "      <td>3</td>\n",
       "      <td>168.620776</td>\n",
       "      <td>137.945408</td>\n",
       "      <td>114.572842</td>\n",
       "    </tr>\n",
       "    <tr>\n",
       "      <td>4</td>\n",
       "      <td>154.036647</td>\n",
       "      <td>134.766305</td>\n",
       "      <td>149.600746</td>\n",
       "    </tr>\n",
       "    <tr>\n",
       "      <td>...</td>\n",
       "      <td>...</td>\n",
       "      <td>...</td>\n",
       "      <td>...</td>\n",
       "    </tr>\n",
       "    <tr>\n",
       "      <td>99995</td>\n",
       "      <td>110.744026</td>\n",
       "      <td>53.906522</td>\n",
       "      <td>172.327046</td>\n",
       "    </tr>\n",
       "    <tr>\n",
       "      <td>99996</td>\n",
       "      <td>122.346843</td>\n",
       "      <td>137.945408</td>\n",
       "      <td>138.748846</td>\n",
       "    </tr>\n",
       "    <tr>\n",
       "      <td>99997</td>\n",
       "      <td>64.375443</td>\n",
       "      <td>137.945408</td>\n",
       "      <td>157.080080</td>\n",
       "    </tr>\n",
       "    <tr>\n",
       "      <td>99998</td>\n",
       "      <td>74.040764</td>\n",
       "      <td>30.132364</td>\n",
       "      <td>51.795253</td>\n",
       "    </tr>\n",
       "    <tr>\n",
       "      <td>99999</td>\n",
       "      <td>149.633246</td>\n",
       "      <td>3.179103</td>\n",
       "      <td>102.775767</td>\n",
       "    </tr>\n",
       "  </tbody>\n",
       "</table>\n",
       "<p>100000 rows × 3 columns</p>\n",
       "</div>"
      ],
      "text/plain": [
       "        product_0   product_1   product_2\n",
       "0      105.280062    3.179103   27.758673\n",
       "1       73.037750   26.953261   56.069697\n",
       "2       85.265647  134.766305   62.871910\n",
       "3      168.620776  137.945408  114.572842\n",
       "4      154.036647  134.766305  149.600746\n",
       "...           ...         ...         ...\n",
       "99995  110.744026   53.906522  172.327046\n",
       "99996  122.346843  137.945408  138.748846\n",
       "99997   64.375443  137.945408  157.080080\n",
       "99998   74.040764   30.132364   51.795253\n",
       "99999  149.633246    3.179103  102.775767\n",
       "\n",
       "[100000 rows x 3 columns]"
      ]
     },
     "execution_count": 7,
     "metadata": {},
     "output_type": "execute_result"
    }
   ],
   "source": [
    "# создание таблицы с запасами нефти в каждом регионе\n",
    "product = pd.concat([df_zero['product'], df_one['product'], df_two['product']], axis=1)\n",
    "product.columns = ['product_0', 'product_1', 'product_2']\n",
    "\n",
    "product"
   ]
  },
  {
   "cell_type": "code",
   "execution_count": 8,
   "metadata": {
    "scrolled": true
   },
   "outputs": [
    {
     "data": {
      "image/png": "[encoded data removed]",
      "text/plain": [
       "<Figure size 432x288 with 1 Axes>"
      ]
     },
     "metadata": {
      "needs_background": "light"
     },
     "output_type": "display_data"
    }
   ],
   "source": [
    "# график распределения запасов нефти по регионам\n",
    "product.boxplot()\n",
    "plt.title('Распределение запасов нефти по регионам');"
   ]
  },
  {
   "cell_type": "markdown",
   "metadata": {},
   "source": [
    "Данные трех таблиц содержат по 5 столбцов и 100000 строк. Пропусков не обнаружено."
   ]
  },
  {
   "cell_type": "markdown",
   "metadata": {},
   "source": [
    "## Обучение и проверка модели"
   ]
  },
  {
   "cell_type": "markdown",
   "metadata": {},
   "source": [
    "Создадим функцию, которая делит данные  на обучающую и валидационную выборки, обучает модель и делает предсказания на валидационной выборке, рассчитывает средний запас предсказанного сырья и RMSE модели."
   ]
  },
  {
   "cell_type": "code",
   "execution_count": 9,
   "metadata": {},
   "outputs": [],
   "source": [
    "# создание функции\n",
    "def train_predictions(df):\n",
    "    features = df.drop(['product','id'], axis=1)\n",
    "    target = df['product']\n",
    "    features_train, features_valid, target_train, target_valid = train_test_split(features, target, test_size=0.25, \n",
    "                                                                                  random_state=12345)\n",
    "    model = LinearRegression()\n",
    "    model.fit(features_train, target_train)\n",
    "    predictions = model.predict(features_valid)\n",
    "    predictions = pd.Series(predictions)\n",
    "    rmse = (mean_squared_error(predictions, target_valid))**(0.5)\n",
    "    average_product = sum(predictions) / len(predictions)\n",
    "    print('RMSE', rmse)\n",
    "    print('Cредний запас предсказанного сырья', average_product)\n",
    "    return rmse, target_valid.reset_index(drop=True), predictions "
   ]
  },
  {
   "cell_type": "code",
   "execution_count": 10,
   "metadata": {
    "scrolled": true
   },
   "outputs": [
    {
     "name": "stdout",
     "output_type": "stream",
     "text": [
      "RMSE 37.5794217150813\n",
      "Cредний запас предсказанного сырья 92.59256778438008\n",
      "RMSE 0.893099286775616\n",
      "Cредний запас предсказанного сырья 68.7285468954458\n",
      "RMSE 40.02970873393434\n",
      "Cредний запас предсказанного сырья 94.96504596800506\n"
     ]
    }
   ],
   "source": [
    "# сохранение предсказаний и правильных ответов на валидационной выборке и RMSE\n",
    "rmse_0, target_0, predictions_0 = train_predictions(df_zero)\n",
    "rmse_1, target_1, predictions_1 = train_predictions(df_one)\n",
    "rmse_2, target_2, predictions_2 = train_predictions(df_two)"
   ]
  },
  {
   "cell_type": "code",
   "execution_count": 11,
   "metadata": {},
   "outputs": [
    {
     "name": "stdout",
     "output_type": "stream",
     "text": [
      "Регион 0\n",
      "RMSE 37.5794217150813\n",
      "Cредний запас предсказанного сырья 92.59256778438008\n",
      "\n",
      "Регион 1\n",
      "RMSE 0.893099286775616\n",
      "Cредний запас предсказанного сырья 68.7285468954458\n",
      "\n",
      "Регион 2\n",
      "RMSE 40.02970873393434\n",
      "Cредний запас предсказанного сырья 94.96504596800506\n",
      "\n"
     ]
    }
   ],
   "source": [
    "# вывод на экран по каждому региону RMSE и среднего запаса предсказанного сырья\n",
    "i=0\n",
    "for df in data:\n",
    "    print('Регион', i)\n",
    "    i+=1\n",
    "    train_predictions(df)\n",
    "    print('')"
   ]
  },
  {
   "cell_type": "markdown",
   "metadata": {},
   "source": [
    "Набольший средний запас предсказанного сырья получился у региона 2 (94.96), при этом и значение RMSE у данного региона самое высокое (40.03). Самое низкое значение RMSE получилось у региона 1 (0.89), что меньше более чем в 40 раз чем у региона 2."
   ]
  },
  {
   "cell_type": "markdown",
   "metadata": {},
   "source": [
    "## Подготовка к расчёту прибыли"
   ]
  },
  {
   "cell_type": "code",
   "execution_count": 12,
   "metadata": {},
   "outputs": [],
   "source": [
    "# сохранение значений в отдельных переменных\n",
    "Budget = 10**10\n",
    "Income = 450000"
   ]
  },
  {
   "cell_type": "markdown",
   "metadata": {},
   "source": [
    "Точка безубыточности — это объём продаж товаров или услуг, при котором доход компании равен ее затратам. Следовательно, чтобы найти точку безубыточности надо наш бюджет затрат разделить на доход  с каждой единицы продукта."
   ]
  },
  {
   "cell_type": "code",
   "execution_count": 13,
   "metadata": {},
   "outputs": [
    {
     "name": "stdout",
     "output_type": "stream",
     "text": [
      "Точка безубыточности 22222 тыс. баррелей\n"
     ]
    }
   ],
   "source": [
    "# рассчет точки безубыточности\n",
    "break_even = Budget / Income\n",
    "print('Точка безубыточности', '{:.0f}'.format(break_even), 'тыс. баррелей')"
   ]
  },
  {
   "cell_type": "code",
   "execution_count": 14,
   "metadata": {},
   "outputs": [
    {
     "data": {
      "text/plain": [
       "112.0"
      ]
     },
     "execution_count": 14,
     "metadata": {},
     "output_type": "execute_result"
    }
   ],
   "source": [
    "# расчет достаточного объёма сырья для безубыточной разработки новой скважины\n",
    "np.ceil(break_even/200)"
   ]
  },
  {
   "cell_type": "markdown",
   "metadata": {},
   "source": [
    "Среднего запаса сырья недостаточно для безубыточной разработки новой скважины."
   ]
  },
  {
   "cell_type": "markdown",
   "metadata": {},
   "source": [
    "## Расчёт прибыли и рисков "
   ]
  },
  {
   "cell_type": "code",
   "execution_count": 15,
   "metadata": {},
   "outputs": [],
   "source": [
    "# создание функции для расчёта прибыли по выбранным скважинам и предсказаниям модели\n",
    "def profit(predictions, target):\n",
    "    max_predictions = predictions.sort_values(ascending=False)\n",
    "    top_target = target[max_predictions.index][:200]\n",
    "    revenue = top_target.sum() * Income\n",
    "    return revenue - Budget"
   ]
  },
  {
   "cell_type": "code",
   "execution_count": 16,
   "metadata": {},
   "outputs": [
    {
     "name": "stdout",
     "output_type": "stream",
     "text": [
      "3320826043.1398525\n",
      "2415086696.681511\n",
      "2710349963.5998325\n"
     ]
    }
   ],
   "source": [
    "# проверка\n",
    "for preds, target in zip([predictions_0, predictions_1, predictions_2], [target_0, target_1, target_2]):\n",
    "    print(profit(preds, target))"
   ]
  },
  {
   "cell_type": "code",
   "execution_count": 19,
   "metadata": {},
   "outputs": [],
   "source": [
    "# создание функции для создания подвыборок, расчета средней прибыли, 95%-ого доверительного интервала и риска убытков\n",
    "state = RandomState(12345)\n",
    "\n",
    "def profit_and_risk(predictions, target):\n",
    "    revenue = []\n",
    "    for i in range(1000):\n",
    "        target_sample = target.sample(500, replace=True, random_state=state)\n",
    "        predictions_sample = predictions[target_sample.index]\n",
    "        revenue.append(profit(predictions_sample, target_sample))\n",
    "    revenue = pd.Series(revenue)\n",
    "    \n",
    "    mean_revenue = sum(revenue) / len(revenue)\n",
    "    print('Средняя прибыль', mean_revenue)\n",
    "    \n",
    "    lower = revenue.quantile(0.025)\n",
    "    upper = revenue.quantile(0.975)\n",
    "    print('95%-й доверительный интервал', (lower, upper))\n",
    "    \n",
    "    risk = (revenue < 0).mean()\n",
    "    print('Риск убытков', risk)\n",
    "    \n",
    "    return mean_revenue, lower, upper, risk"
   ]
  },
  {
   "cell_type": "code",
   "execution_count": 20,
   "metadata": {
    "scrolled": true
   },
   "outputs": [
    {
     "name": "stdout",
     "output_type": "stream",
     "text": [
      "Регион 0\n",
      "Средняя прибыль 425938526.910592\n",
      "95%-й доверительный интервал (-102090094.83793654, 947976353.358369)\n",
      "Риск убытков 0.06\n",
      "\n",
      "Регион 1\n",
      "Средняя прибыль 518259493.69732505\n",
      "95%-й доверительный интервал (128123231.43308629, 953612982.0669085)\n",
      "Риск убытков 0.003\n",
      "\n",
      "Регион 2\n",
      "Средняя прибыль 420194005.34404975\n",
      "95%-й доверительный интервал (-115852609.16001143, 989629939.844574)\n",
      "Риск убытков 0.062\n",
      "\n"
     ]
    }
   ],
   "source": [
    "# вывод полученных результатов\n",
    "i=0\n",
    "for preds, target in zip([predictions_0, predictions_1, predictions_2], [target_0, target_1, target_2]):\n",
    "    print('Регион', i)\n",
    "    i+=1\n",
    "    profit_and_risk(preds, target)\n",
    "    print('')"
   ]
  },
  {
   "cell_type": "markdown",
   "metadata": {},
   "source": [
    "Полученные результаты свидетельствуют о том, что для разработки скважин надо выбрать регион 1, поскольку у данного региона самый низкий риск получения убытков и наибольшая средняя прибыль."
   ]
  },
  {
   "cell_type": "code",
   "execution_count": null,
   "metadata": {},
   "outputs": [],
   "source": []
  }
 ],
 "metadata": {
  "ExecuteTimeLog": [
   {
    "duration": 973,
    "start_time": "2022-03-12T15:42:33.616Z"
   },
   {
    "duration": 534,
    "start_time": "2022-03-12T15:45:37.060Z"
   },
   {
    "duration": 16,
    "start_time": "2022-03-12T15:45:55.706Z"
   },
   {
    "duration": 10,
    "start_time": "2022-03-12T15:46:05.068Z"
   },
   {
    "duration": 9,
    "start_time": "2022-03-12T15:46:19.106Z"
   },
   {
    "duration": 1314,
    "start_time": "2022-03-14T07:52:58.635Z"
   },
   {
    "duration": 620,
    "start_time": "2022-03-14T07:52:59.952Z"
   },
   {
    "duration": 28,
    "start_time": "2022-03-14T07:53:00.575Z"
   },
   {
    "duration": 27,
    "start_time": "2022-03-14T07:53:00.605Z"
   },
   {
    "duration": 26,
    "start_time": "2022-03-14T07:53:00.635Z"
   },
   {
    "duration": 11,
    "start_time": "2022-03-14T07:56:39.913Z"
   },
   {
    "duration": 15,
    "start_time": "2022-03-14T07:56:50.754Z"
   },
   {
    "duration": 25,
    "start_time": "2022-03-14T07:57:36.509Z"
   },
   {
    "duration": 22,
    "start_time": "2022-03-14T07:58:05.462Z"
   },
   {
    "duration": 34,
    "start_time": "2022-03-14T07:59:46.823Z"
   },
   {
    "duration": 352,
    "start_time": "2022-03-14T08:14:18.187Z"
   },
   {
    "duration": 230,
    "start_time": "2022-03-14T08:14:55.818Z"
   },
   {
    "duration": 463,
    "start_time": "2022-03-14T08:17:34.896Z"
   },
   {
    "duration": 309,
    "start_time": "2022-03-14T08:21:57.928Z"
   },
   {
    "duration": 277,
    "start_time": "2022-03-14T08:22:24.482Z"
   },
   {
    "duration": 403,
    "start_time": "2022-03-14T08:24:04.488Z"
   },
   {
    "duration": 42,
    "start_time": "2022-03-14T08:38:30.847Z"
   },
   {
    "duration": 50,
    "start_time": "2022-03-14T08:38:58.855Z"
   },
   {
    "duration": 18,
    "start_time": "2022-03-14T08:39:50.223Z"
   },
   {
    "duration": 7,
    "start_time": "2022-03-14T08:40:44.399Z"
   },
   {
    "duration": 17,
    "start_time": "2022-03-14T08:41:03.279Z"
   },
   {
    "duration": 361,
    "start_time": "2022-03-14T08:43:13.243Z"
   },
   {
    "duration": 16,
    "start_time": "2022-03-14T08:44:53.681Z"
   },
   {
    "duration": 97,
    "start_time": "2022-03-14T08:47:16.513Z"
   },
   {
    "duration": 18,
    "start_time": "2022-03-14T08:47:21.205Z"
   },
   {
    "duration": 261,
    "start_time": "2022-03-14T08:47:51.949Z"
   },
   {
    "duration": 282,
    "start_time": "2022-03-14T08:48:23.983Z"
   },
   {
    "duration": 470,
    "start_time": "2022-03-14T09:11:44.297Z"
   },
   {
    "duration": 269,
    "start_time": "2022-03-14T09:16:32.606Z"
   },
   {
    "duration": 495,
    "start_time": "2022-03-14T09:21:37.013Z"
   },
   {
    "duration": 268,
    "start_time": "2022-03-14T09:22:30.639Z"
   },
   {
    "duration": 4,
    "start_time": "2022-03-14T09:22:39.771Z"
   },
   {
    "duration": 357,
    "start_time": "2022-03-14T09:22:51.807Z"
   },
   {
    "duration": 270,
    "start_time": "2022-03-14T09:23:06.160Z"
   },
   {
    "duration": 263,
    "start_time": "2022-03-14T09:23:14.964Z"
   },
   {
    "duration": 535,
    "start_time": "2022-03-14T09:23:35.989Z"
   },
   {
    "duration": 786,
    "start_time": "2022-03-14T09:24:13.408Z"
   },
   {
    "duration": 538,
    "start_time": "2022-03-14T09:24:39.114Z"
   },
   {
    "duration": 5,
    "start_time": "2022-03-14T09:34:52.742Z"
   },
   {
    "duration": 612,
    "start_time": "2022-03-14T09:34:52.750Z"
   },
   {
    "duration": 19,
    "start_time": "2022-03-14T09:34:53.365Z"
   },
   {
    "duration": 12,
    "start_time": "2022-03-14T09:34:53.387Z"
   },
   {
    "duration": 15,
    "start_time": "2022-03-14T09:34:53.402Z"
   },
   {
    "duration": 70,
    "start_time": "2022-03-14T09:34:53.419Z"
   },
   {
    "duration": 16,
    "start_time": "2022-03-14T09:34:53.492Z"
   },
   {
    "duration": 536,
    "start_time": "2022-03-14T09:34:53.512Z"
   },
   {
    "duration": 439170,
    "start_time": "2022-03-14T09:27:34.881Z"
   },
   {
    "duration": 651,
    "start_time": "2022-03-14T09:39:01.946Z"
   },
   {
    "duration": 532,
    "start_time": "2022-03-14T09:40:17.974Z"
   },
   {
    "duration": 508,
    "start_time": "2022-03-14T09:40:40.132Z"
   },
   {
    "duration": 483,
    "start_time": "2022-03-14T09:41:46.228Z"
   },
   {
    "duration": 654,
    "start_time": "2022-03-14T09:41:53.542Z"
   },
   {
    "duration": 615,
    "start_time": "2022-03-14T09:42:05.276Z"
   },
   {
    "duration": 516,
    "start_time": "2022-03-14T09:43:17.422Z"
   },
   {
    "duration": 530,
    "start_time": "2022-03-14T09:43:44.884Z"
   },
   {
    "duration": 672,
    "start_time": "2022-03-14T09:43:51.939Z"
   },
   {
    "duration": 518,
    "start_time": "2022-03-14T09:43:57.387Z"
   },
   {
    "duration": 239,
    "start_time": "2022-03-14T09:44:43.292Z"
   },
   {
    "duration": 260,
    "start_time": "2022-03-14T09:44:52.364Z"
   },
   {
    "duration": 1425,
    "start_time": "2022-03-14T09:49:54.857Z"
   },
   {
    "duration": 565,
    "start_time": "2022-03-14T09:49:56.285Z"
   },
   {
    "duration": 16,
    "start_time": "2022-03-14T09:49:56.853Z"
   },
   {
    "duration": 23,
    "start_time": "2022-03-14T09:49:56.872Z"
   },
   {
    "duration": 17,
    "start_time": "2022-03-14T09:49:56.897Z"
   },
   {
    "duration": 37,
    "start_time": "2022-03-14T09:49:56.916Z"
   },
   {
    "duration": 14,
    "start_time": "2022-03-14T09:49:56.983Z"
   },
   {
    "duration": 662,
    "start_time": "2022-03-14T09:49:57.000Z"
   },
   {
    "duration": 439168,
    "start_time": "2022-03-14T09:42:38.497Z"
   },
   {
    "duration": 1387,
    "start_time": "2022-03-14T09:52:54.078Z"
   },
   {
    "duration": 554,
    "start_time": "2022-03-14T09:52:55.468Z"
   },
   {
    "duration": 16,
    "start_time": "2022-03-14T09:52:56.025Z"
   },
   {
    "duration": 14,
    "start_time": "2022-03-14T09:52:56.043Z"
   },
   {
    "duration": 27,
    "start_time": "2022-03-14T09:52:56.059Z"
   },
   {
    "duration": 44,
    "start_time": "2022-03-14T09:52:56.089Z"
   },
   {
    "duration": 15,
    "start_time": "2022-03-14T09:52:56.136Z"
   },
   {
    "duration": 88,
    "start_time": "2022-03-14T09:52:56.153Z"
   },
   {
    "duration": 439162,
    "start_time": "2022-03-14T09:45:37.081Z"
   },
   {
    "duration": 299,
    "start_time": "2022-03-14T09:53:09.116Z"
   },
   {
    "duration": 287,
    "start_time": "2022-03-14T09:53:26.122Z"
   },
   {
    "duration": 1413,
    "start_time": "2022-03-14T09:53:42.250Z"
   },
   {
    "duration": 571,
    "start_time": "2022-03-14T09:53:43.666Z"
   },
   {
    "duration": 17,
    "start_time": "2022-03-14T09:53:44.240Z"
   },
   {
    "duration": 27,
    "start_time": "2022-03-14T09:53:44.259Z"
   },
   {
    "duration": 11,
    "start_time": "2022-03-14T09:53:44.289Z"
   },
   {
    "duration": 33,
    "start_time": "2022-03-14T09:53:44.302Z"
   },
   {
    "duration": 15,
    "start_time": "2022-03-14T09:53:44.338Z"
   },
   {
    "duration": 332,
    "start_time": "2022-03-14T09:53:44.355Z"
   },
   {
    "duration": 298,
    "start_time": "2022-03-14T09:53:56.211Z"
   },
   {
    "duration": 6,
    "start_time": "2022-03-14T10:10:52.500Z"
   },
   {
    "duration": 700,
    "start_time": "2022-03-14T10:11:18.324Z"
   },
   {
    "duration": 39,
    "start_time": "2022-03-14T10:11:34.740Z"
   },
   {
    "duration": 24,
    "start_time": "2022-03-14T10:12:12.044Z"
   },
   {
    "duration": 26,
    "start_time": "2022-03-14T10:12:17.934Z"
   },
   {
    "duration": 5,
    "start_time": "2022-03-14T10:24:18.831Z"
   },
   {
    "duration": 494,
    "start_time": "2022-03-14T10:26:15.934Z"
   },
   {
    "duration": 5,
    "start_time": "2022-03-14T10:26:56.726Z"
   },
   {
    "duration": 61,
    "start_time": "2022-03-14T10:26:58.272Z"
   },
   {
    "duration": 548,
    "start_time": "2022-03-14T10:27:12.896Z"
   },
   {
    "duration": 248,
    "start_time": "2022-03-14T10:27:50.009Z"
   },
   {
    "duration": 493,
    "start_time": "2022-03-14T10:27:59.398Z"
   },
   {
    "duration": 656,
    "start_time": "2022-03-14T10:32:39.308Z"
   },
   {
    "duration": 444,
    "start_time": "2022-03-14T10:33:04.420Z"
   },
   {
    "duration": 5,
    "start_time": "2022-03-14T10:33:51.838Z"
   },
   {
    "duration": 1007,
    "start_time": "2022-03-14T10:33:53.364Z"
   },
   {
    "duration": 5,
    "start_time": "2022-03-14T10:35:19.356Z"
   },
   {
    "duration": 656,
    "start_time": "2022-03-14T10:35:20.294Z"
   },
   {
    "duration": 7,
    "start_time": "2022-03-14T10:36:23.148Z"
   },
   {
    "duration": 557,
    "start_time": "2022-03-14T10:36:24.452Z"
   },
   {
    "duration": 4,
    "start_time": "2022-03-14T10:36:54.908Z"
   },
   {
    "duration": 8,
    "start_time": "2022-03-14T10:37:01.684Z"
   },
   {
    "duration": 179,
    "start_time": "2022-03-14T10:37:04.004Z"
   },
   {
    "duration": 471,
    "start_time": "2022-03-14T10:37:27.213Z"
   },
   {
    "duration": 639,
    "start_time": "2022-03-14T10:38:11.251Z"
   },
   {
    "duration": 488,
    "start_time": "2022-03-14T10:41:39.098Z"
   },
   {
    "duration": 507,
    "start_time": "2022-03-14T10:41:46.778Z"
   },
   {
    "duration": 530,
    "start_time": "2022-03-14T10:42:02.954Z"
   },
   {
    "duration": 510,
    "start_time": "2022-03-14T10:42:28.274Z"
   },
   {
    "duration": 474,
    "start_time": "2022-03-14T10:43:10.208Z"
   },
   {
    "duration": 484,
    "start_time": "2022-03-14T10:43:39.999Z"
   },
   {
    "duration": 506,
    "start_time": "2022-03-14T10:43:47.378Z"
   },
   {
    "duration": 468,
    "start_time": "2022-03-14T10:44:00.618Z"
   },
   {
    "duration": 245,
    "start_time": "2022-03-14T10:44:18.186Z"
   },
   {
    "duration": 511,
    "start_time": "2022-03-14T10:44:25.372Z"
   },
   {
    "duration": 494,
    "start_time": "2022-03-14T10:48:17.590Z"
   },
   {
    "duration": 494,
    "start_time": "2022-03-14T10:48:26.190Z"
   },
   {
    "duration": 527,
    "start_time": "2022-03-14T10:48:38.157Z"
   },
   {
    "duration": 543,
    "start_time": "2022-03-14T10:48:46.040Z"
   },
   {
    "duration": 479,
    "start_time": "2022-03-14T10:49:01.505Z"
   },
   {
    "duration": 545,
    "start_time": "2022-03-14T10:50:23.238Z"
   },
   {
    "duration": 277,
    "start_time": "2022-03-14T10:50:29.134Z"
   },
   {
    "duration": 251,
    "start_time": "2022-03-14T10:50:56.846Z"
   },
   {
    "duration": 249,
    "start_time": "2022-03-14T10:51:17.478Z"
   },
   {
    "duration": 86,
    "start_time": "2022-03-14T10:51:41.038Z"
   },
   {
    "duration": 91,
    "start_time": "2022-03-14T10:51:54.207Z"
   },
   {
    "duration": 441,
    "start_time": "2022-03-14T10:51:58.543Z"
   },
   {
    "duration": 537,
    "start_time": "2022-03-14T10:52:12.150Z"
   },
   {
    "duration": 1519,
    "start_time": "2022-03-14T10:52:21.472Z"
   },
   {
    "duration": 651,
    "start_time": "2022-03-14T10:52:22.993Z"
   },
   {
    "duration": 17,
    "start_time": "2022-03-14T10:52:23.647Z"
   },
   {
    "duration": 13,
    "start_time": "2022-03-14T10:52:23.682Z"
   },
   {
    "duration": 21,
    "start_time": "2022-03-14T10:52:23.697Z"
   },
   {
    "duration": 69,
    "start_time": "2022-03-14T10:52:23.721Z"
   },
   {
    "duration": 21,
    "start_time": "2022-03-14T10:52:23.792Z"
   },
   {
    "duration": 449,
    "start_time": "2022-03-14T10:52:23.817Z"
   },
   {
    "duration": 14,
    "start_time": "2022-03-14T10:52:24.269Z"
   },
   {
    "duration": 40,
    "start_time": "2022-03-14T10:52:24.285Z"
   },
   {
    "duration": 6,
    "start_time": "2022-03-14T10:52:24.327Z"
   },
   {
    "duration": 247,
    "start_time": "2022-03-14T10:52:24.335Z"
   },
   {
    "duration": 434,
    "start_time": "2022-03-14T10:52:24.585Z"
   },
   {
    "duration": 557,
    "start_time": "2022-03-14T10:52:35.026Z"
   },
   {
    "duration": 477,
    "start_time": "2022-03-14T10:53:15.506Z"
   },
   {
    "duration": 631,
    "start_time": "2022-03-14T10:53:30.554Z"
   },
   {
    "duration": 5,
    "start_time": "2022-03-14T11:10:17.115Z"
   },
   {
    "duration": 762,
    "start_time": "2022-03-14T11:10:24.653Z"
   },
   {
    "duration": 5,
    "start_time": "2022-03-14T11:10:37.726Z"
   },
   {
    "duration": 540,
    "start_time": "2022-03-14T11:10:40.748Z"
   },
   {
    "duration": 245,
    "start_time": "2022-03-14T11:11:49.066Z"
   },
   {
    "duration": 6,
    "start_time": "2022-03-14T11:11:52.642Z"
   },
   {
    "duration": 373,
    "start_time": "2022-03-14T11:11:53.530Z"
   },
   {
    "duration": 486,
    "start_time": "2022-03-14T11:12:05.802Z"
   },
   {
    "duration": 461,
    "start_time": "2022-03-14T11:32:48.925Z"
   },
   {
    "duration": 6,
    "start_time": "2022-03-14T11:33:19.892Z"
   },
   {
    "duration": 7,
    "start_time": "2022-03-14T11:33:34.708Z"
   },
   {
    "duration": 7,
    "start_time": "2022-03-14T11:33:47.956Z"
   },
   {
    "duration": 6,
    "start_time": "2022-03-14T11:35:15.371Z"
   },
   {
    "duration": 461,
    "start_time": "2022-03-14T11:35:21.622Z"
   },
   {
    "duration": 5,
    "start_time": "2022-03-14T11:35:27.805Z"
   },
   {
    "duration": 7,
    "start_time": "2022-03-14T11:36:08.443Z"
   },
   {
    "duration": 7,
    "start_time": "2022-03-14T11:36:57.612Z"
   },
   {
    "duration": 467,
    "start_time": "2022-03-14T11:37:02.420Z"
   },
   {
    "duration": 8,
    "start_time": "2022-03-14T11:37:03.754Z"
   },
   {
    "duration": 7,
    "start_time": "2022-03-14T11:37:27.765Z"
   },
   {
    "duration": 498,
    "start_time": "2022-03-14T11:37:28.787Z"
   },
   {
    "duration": 8,
    "start_time": "2022-03-14T11:37:30.706Z"
   },
   {
    "duration": 6,
    "start_time": "2022-03-14T11:37:41.931Z"
   },
   {
    "duration": 458,
    "start_time": "2022-03-14T11:37:42.426Z"
   },
   {
    "duration": 8,
    "start_time": "2022-03-14T11:37:45.058Z"
   },
   {
    "duration": 532,
    "start_time": "2022-03-14T11:39:09.452Z"
   },
   {
    "duration": 129,
    "start_time": "2022-03-14T11:41:37.907Z"
   },
   {
    "duration": 506,
    "start_time": "2022-03-14T11:42:01.384Z"
   },
   {
    "duration": 3,
    "start_time": "2022-03-14T12:21:52.692Z"
   },
   {
    "duration": 6,
    "start_time": "2022-03-14T12:30:58.321Z"
   },
   {
    "duration": 178,
    "start_time": "2022-03-14T12:33:00.000Z"
   },
   {
    "duration": 107,
    "start_time": "2022-03-14T12:33:10.130Z"
   },
   {
    "duration": 166,
    "start_time": "2022-03-14T12:36:42.521Z"
   },
   {
    "duration": 134,
    "start_time": "2022-03-14T12:36:50.224Z"
   },
   {
    "duration": 216,
    "start_time": "2022-03-14T12:37:28.376Z"
   },
   {
    "duration": 6,
    "start_time": "2022-03-14T12:37:36.688Z"
   },
   {
    "duration": 5,
    "start_time": "2022-03-14T12:38:40.486Z"
   },
   {
    "duration": 93,
    "start_time": "2022-03-14T12:39:08.262Z"
   },
   {
    "duration": 5,
    "start_time": "2022-03-14T12:42:34.391Z"
   },
   {
    "duration": 5,
    "start_time": "2022-03-14T12:44:53.875Z"
   },
   {
    "duration": 308,
    "start_time": "2022-03-14T12:46:20.508Z"
   },
   {
    "duration": 4,
    "start_time": "2022-03-14T12:46:44.402Z"
   },
   {
    "duration": 6,
    "start_time": "2022-03-14T12:46:49.666Z"
   },
   {
    "duration": 5,
    "start_time": "2022-03-14T13:12:10.147Z"
   },
   {
    "duration": 583,
    "start_time": "2022-03-14T13:13:31.404Z"
   },
   {
    "duration": 1176,
    "start_time": "2022-03-14T13:13:42.636Z"
   },
   {
    "duration": 5,
    "start_time": "2022-03-14T13:13:49.964Z"
   },
   {
    "duration": 13,
    "start_time": "2022-03-14T13:13:50.588Z"
   },
   {
    "duration": 519,
    "start_time": "2022-03-14T13:18:29.724Z"
   },
   {
    "duration": 597,
    "start_time": "2022-03-14T13:19:30.078Z"
   },
   {
    "duration": 375,
    "start_time": "2022-03-14T13:19:46.075Z"
   },
   {
    "duration": 510,
    "start_time": "2022-03-14T13:20:01.444Z"
   },
   {
    "duration": 24,
    "start_time": "2022-03-14T13:21:43.477Z"
   },
   {
    "duration": 28,
    "start_time": "2022-03-14T13:22:01.595Z"
   },
   {
    "duration": 552,
    "start_time": "2022-03-14T13:27:46.821Z"
   },
   {
    "duration": 5,
    "start_time": "2022-03-14T13:28:24.044Z"
   },
   {
    "duration": 4,
    "start_time": "2022-03-14T13:28:30.404Z"
   },
   {
    "duration": 264,
    "start_time": "2022-03-14T13:33:19.554Z"
   },
   {
    "duration": 5,
    "start_time": "2022-03-14T13:34:28.016Z"
   },
   {
    "duration": 528,
    "start_time": "2022-03-14T13:35:15.919Z"
   },
   {
    "duration": 5,
    "start_time": "2022-03-14T13:35:23.671Z"
   },
   {
    "duration": 15370,
    "start_time": "2022-03-14T13:35:24.479Z"
   },
   {
    "duration": 17466,
    "start_time": "2022-03-14T13:35:55.599Z"
   },
   {
    "duration": 6,
    "start_time": "2022-03-14T13:37:04.592Z"
   },
   {
    "duration": 17251,
    "start_time": "2022-03-14T13:37:06.366Z"
   },
   {
    "duration": 7,
    "start_time": "2022-03-14T13:40:05.872Z"
   },
   {
    "duration": 148366,
    "start_time": "2022-03-14T13:40:12.968Z"
   },
   {
    "duration": 6,
    "start_time": "2022-03-14T13:45:40.187Z"
   },
   {
    "duration": 5753,
    "start_time": "2022-03-14T13:45:48.827Z"
   },
   {
    "duration": 7,
    "start_time": "2022-03-14T13:46:17.179Z"
   },
   {
    "duration": 5714,
    "start_time": "2022-03-14T13:46:17.691Z"
   },
   {
    "duration": 6,
    "start_time": "2022-03-14T13:47:56.454Z"
   },
   {
    "duration": 6249,
    "start_time": "2022-03-14T13:47:56.970Z"
   },
   {
    "duration": 7,
    "start_time": "2022-03-14T13:48:53.588Z"
   },
   {
    "duration": 7,
    "start_time": "2022-03-14T13:50:07.533Z"
   },
   {
    "duration": 15705,
    "start_time": "2022-03-14T13:50:08.803Z"
   },
   {
    "duration": 15579,
    "start_time": "2022-03-14T13:53:05.204Z"
   },
   {
    "duration": 8,
    "start_time": "2022-03-14T13:53:22.747Z"
   },
   {
    "duration": 15341,
    "start_time": "2022-03-14T13:53:24.796Z"
   },
   {
    "duration": 8,
    "start_time": "2022-03-14T13:56:57.778Z"
   },
   {
    "duration": 15847,
    "start_time": "2022-03-14T13:57:01.930Z"
   },
   {
    "duration": 8,
    "start_time": "2022-03-14T13:57:42.298Z"
   },
   {
    "duration": 16004,
    "start_time": "2022-03-14T13:57:42.834Z"
   },
   {
    "duration": 7,
    "start_time": "2022-03-14T13:58:35.946Z"
   },
   {
    "duration": 6108,
    "start_time": "2022-03-14T13:58:38.261Z"
   },
   {
    "duration": 6,
    "start_time": "2022-03-14T13:59:01.715Z"
   },
   {
    "duration": 15870,
    "start_time": "2022-03-14T13:59:02.162Z"
   },
   {
    "duration": 9,
    "start_time": "2022-03-14T14:06:14.073Z"
   },
   {
    "duration": 15404,
    "start_time": "2022-03-14T14:06:15.422Z"
   },
   {
    "duration": 15456,
    "start_time": "2022-03-14T14:07:30.332Z"
   },
   {
    "duration": 15532,
    "start_time": "2022-03-14T14:08:19.327Z"
   },
   {
    "duration": 1538,
    "start_time": "2022-03-14T14:21:15.538Z"
   },
   {
    "duration": 613,
    "start_time": "2022-03-14T14:21:17.078Z"
   },
   {
    "duration": 20,
    "start_time": "2022-03-14T14:21:17.694Z"
   },
   {
    "duration": 12,
    "start_time": "2022-03-14T14:21:17.717Z"
   },
   {
    "duration": 28,
    "start_time": "2022-03-14T14:21:17.731Z"
   },
   {
    "duration": 50,
    "start_time": "2022-03-14T14:21:17.762Z"
   },
   {
    "duration": 17,
    "start_time": "2022-03-14T14:21:17.814Z"
   },
   {
    "duration": 322,
    "start_time": "2022-03-14T14:21:17.835Z"
   },
   {
    "duration": 7,
    "start_time": "2022-03-14T14:21:18.160Z"
   },
   {
    "duration": 514,
    "start_time": "2022-03-14T14:21:18.170Z"
   },
   {
    "duration": 506,
    "start_time": "2022-03-14T14:21:18.782Z"
   },
   {
    "duration": 91,
    "start_time": "2022-03-14T14:21:19.292Z"
   },
   {
    "duration": 11,
    "start_time": "2022-03-14T14:21:19.386Z"
   },
   {
    "duration": 13,
    "start_time": "2022-03-14T14:21:19.400Z"
   },
   {
    "duration": 18,
    "start_time": "2022-03-14T14:21:19.416Z"
   },
   {
    "duration": 51,
    "start_time": "2022-03-14T14:21:19.437Z"
   },
   {
    "duration": 11,
    "start_time": "2022-03-14T14:21:19.491Z"
   },
   {
    "duration": 15915,
    "start_time": "2022-03-14T14:21:19.505Z"
   },
   {
    "duration": 7,
    "start_time": "2022-03-14T14:25:06.299Z"
   },
   {
    "duration": 15965,
    "start_time": "2022-03-14T14:25:16.030Z"
   },
   {
    "duration": 8,
    "start_time": "2022-03-14T14:31:25.870Z"
   },
   {
    "duration": 10511,
    "start_time": "2022-03-14T14:31:28.075Z"
   },
   {
    "duration": 8,
    "start_time": "2022-03-14T14:31:52.285Z"
   },
   {
    "duration": 15828,
    "start_time": "2022-03-14T14:32:01.683Z"
   },
   {
    "duration": 1081,
    "start_time": "2022-03-14T18:49:08.674Z"
   },
   {
    "duration": 652,
    "start_time": "2022-03-14T18:49:09.758Z"
   },
   {
    "duration": 10,
    "start_time": "2022-03-14T18:49:10.412Z"
   },
   {
    "duration": 12,
    "start_time": "2022-03-14T18:49:10.424Z"
   },
   {
    "duration": 8,
    "start_time": "2022-03-14T18:49:10.438Z"
   },
   {
    "duration": 23,
    "start_time": "2022-03-14T18:49:10.447Z"
   },
   {
    "duration": 10,
    "start_time": "2022-03-14T18:49:10.472Z"
   },
   {
    "duration": 204,
    "start_time": "2022-03-14T18:49:10.484Z"
   },
   {
    "duration": 5,
    "start_time": "2022-03-14T18:49:10.689Z"
   },
   {
    "duration": 454,
    "start_time": "2022-03-14T18:49:10.695Z"
   },
   {
    "duration": 592,
    "start_time": "2022-03-14T18:49:11.151Z"
   },
   {
    "duration": 89,
    "start_time": "2022-03-14T18:49:11.745Z"
   },
   {
    "duration": 103,
    "start_time": "2022-03-14T18:49:11.837Z"
   },
   {
    "duration": 6,
    "start_time": "2022-03-14T18:49:11.941Z"
   },
   {
    "duration": 4,
    "start_time": "2022-03-14T18:49:11.948Z"
   },
   {
    "duration": 22,
    "start_time": "2022-03-14T18:49:11.953Z"
   },
   {
    "duration": 4,
    "start_time": "2022-03-14T18:49:11.977Z"
   },
   {
    "duration": 9076,
    "start_time": "2022-03-14T18:49:11.983Z"
   },
   {
    "duration": 272072,
    "start_time": "2022-03-14T18:50:20.454Z"
   },
   {
    "duration": 507,
    "start_time": "2022-03-14T18:54:59.760Z"
   },
   {
    "duration": 3403,
    "start_time": "2022-03-14T18:56:01.404Z"
   },
   {
    "duration": 439,
    "start_time": "2022-03-14T18:58:13.023Z"
   },
   {
    "duration": 215,
    "start_time": "2022-03-14T18:59:05.840Z"
   },
   {
    "duration": 6,
    "start_time": "2022-03-14T19:03:56.563Z"
   },
   {
    "duration": 9403,
    "start_time": "2022-03-14T19:04:00.597Z"
   },
   {
    "duration": 1170,
    "start_time": "2022-03-14T19:07:45.078Z"
   },
   {
    "duration": 2207,
    "start_time": "2022-03-14T19:07:46.250Z"
   },
   {
    "duration": 12,
    "start_time": "2022-03-14T19:07:48.461Z"
   },
   {
    "duration": 8,
    "start_time": "2022-03-14T19:07:48.474Z"
   },
   {
    "duration": 10,
    "start_time": "2022-03-14T19:07:48.484Z"
   },
   {
    "duration": 48,
    "start_time": "2022-03-14T19:07:48.496Z"
   },
   {
    "duration": 11,
    "start_time": "2022-03-14T19:07:48.545Z"
   },
   {
    "duration": 228,
    "start_time": "2022-03-14T19:07:48.558Z"
   },
   {
    "duration": 5,
    "start_time": "2022-03-14T19:07:48.788Z"
   },
   {
    "duration": 453,
    "start_time": "2022-03-14T19:07:48.795Z"
   },
   {
    "duration": 603,
    "start_time": "2022-03-14T19:07:49.250Z"
   },
   {
    "duration": 87,
    "start_time": "2022-03-14T19:07:49.855Z"
   },
   {
    "duration": 8,
    "start_time": "2022-03-14T19:07:50.034Z"
   },
   {
    "duration": 5,
    "start_time": "2022-03-14T19:07:50.044Z"
   },
   {
    "duration": 10,
    "start_time": "2022-03-14T19:07:50.051Z"
   },
   {
    "duration": 24,
    "start_time": "2022-03-14T19:07:50.063Z"
   },
   {
    "duration": 6,
    "start_time": "2022-03-14T19:07:50.088Z"
   },
   {
    "duration": 9212,
    "start_time": "2022-03-14T19:07:50.095Z"
   },
   {
    "duration": 7,
    "start_time": "2022-03-14T19:08:49.939Z"
   },
   {
    "duration": 9003,
    "start_time": "2022-03-14T19:08:53.235Z"
   }
  ],
  "kernelspec": {
   "display_name": "Python 3 (ipykernel)",
   "language": "python",
   "name": "python3"
  },
  "language_info": {
   "codemirror_mode": {
    "name": "ipython",
    "version": 3
   },
   "file_extension": ".py",
   "mimetype": "text/x-python",
   "name": "python",
   "nbconvert_exporter": "python",
   "pygments_lexer": "ipython3",
   "version": "3.9.7"
  },
  "toc": {
   "base_numbering": 1,
   "nav_menu": {},
   "number_sections": true,
   "sideBar": true,
   "skip_h1_title": true,
   "title_cell": "Table of Contents",
   "title_sidebar": "Contents",
   "toc_cell": false,
   "toc_position": {},
   "toc_section_display": true,
   "toc_window_display": false
  }
 },
 "nbformat": 4,
 "nbformat_minor": 2
}
