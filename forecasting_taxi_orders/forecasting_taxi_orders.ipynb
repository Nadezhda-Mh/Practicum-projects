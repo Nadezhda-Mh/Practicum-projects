{
 "cells": [
  {
   "cell_type": "markdown",
   "metadata": {},
   "source": [
    "#  Прогнозирование заказов такси"
   ]
  },
  {
   "cell_type": "markdown",
   "metadata": {},
   "source": [
    "## Подготовка"
   ]
  },
  {
   "cell_type": "code",
   "execution_count": 1,
   "metadata": {},
   "outputs": [],
   "source": [
    "# импорт библиотек\n",
    "import pandas as pd\n",
    "import numpy as np\n",
    "from statsmodels.tsa.seasonal import seasonal_decompose\n",
    "import matplotlib.pyplot as plt\n",
    "from sklearn.model_selection import train_test_split, cross_val_score, GridSearchCV\n",
    "from sklearn.model_selection import TimeSeriesSplit\n",
    "from sklearn.metrics import mean_squared_error\n",
    "from sklearn.linear_model import LinearRegression\n",
    "from sklearn.tree import DecisionTreeRegressor\n",
    "from sklearn.ensemble import RandomForestRegressor\n",
    "from sklearn.linear_model import Ridge\n",
    "from catboost import CatBoostRegressor\n",
    "from lightgbm import LGBMRegressor\n",
    "import warnings\n",
    "warnings.filterwarnings('ignore')"
   ]
  },
  {
   "cell_type": "code",
   "execution_count": 2,
   "metadata": {},
   "outputs": [],
   "source": [
    "# чтение файла с данными и сохранение в df с использованием конструкции try-except\n",
    "try:\n",
    "    df = pd.read_csv('C:/Users/datasets/taxi.csv') # локальный путь\n",
    "except:\n",
    "    df = pd.read_csv('//datasets/taxi.csv') # серверный путь"
   ]
  },
  {
   "cell_type": "code",
   "execution_count": 3,
   "metadata": {
    "scrolled": true
   },
   "outputs": [
    {
     "data": {
      "text/html": [
       "<div>\n",
       "<style scoped>\n",
       "    .dataframe tbody tr th:only-of-type {\n",
       "        vertical-align: middle;\n",
       "    }\n",
       "\n",
       "    .dataframe tbody tr th {\n",
       "        vertical-align: top;\n",
       "    }\n",
       "\n",
       "    .dataframe thead th {\n",
       "        text-align: right;\n",
       "    }\n",
       "</style>\n",
       "<table border=\"1\" class=\"dataframe\">\n",
       "  <thead>\n",
       "    <tr style=\"text-align: right;\">\n",
       "      <th></th>\n",
       "      <th>datetime</th>\n",
       "      <th>num_orders</th>\n",
       "    </tr>\n",
       "  </thead>\n",
       "  <tbody>\n",
       "    <tr>\n",
       "      <th>0</th>\n",
       "      <td>2018-03-01 00:00:00</td>\n",
       "      <td>9</td>\n",
       "    </tr>\n",
       "    <tr>\n",
       "      <th>1</th>\n",
       "      <td>2018-03-01 00:10:00</td>\n",
       "      <td>14</td>\n",
       "    </tr>\n",
       "    <tr>\n",
       "      <th>2</th>\n",
       "      <td>2018-03-01 00:20:00</td>\n",
       "      <td>28</td>\n",
       "    </tr>\n",
       "    <tr>\n",
       "      <th>3</th>\n",
       "      <td>2018-03-01 00:30:00</td>\n",
       "      <td>20</td>\n",
       "    </tr>\n",
       "    <tr>\n",
       "      <th>4</th>\n",
       "      <td>2018-03-01 00:40:00</td>\n",
       "      <td>32</td>\n",
       "    </tr>\n",
       "  </tbody>\n",
       "</table>\n",
       "</div>"
      ],
      "text/plain": [
       "              datetime  num_orders\n",
       "0  2018-03-01 00:00:00           9\n",
       "1  2018-03-01 00:10:00          14\n",
       "2  2018-03-01 00:20:00          28\n",
       "3  2018-03-01 00:30:00          20\n",
       "4  2018-03-01 00:40:00          32"
      ]
     },
     "execution_count": 3,
     "metadata": {},
     "output_type": "execute_result"
    }
   ],
   "source": [
    "# просмотр первых пяти строк \n",
    "df.head()"
   ]
  },
  {
   "cell_type": "code",
   "execution_count": 4,
   "metadata": {},
   "outputs": [
    {
     "name": "stdout",
     "output_type": "stream",
     "text": [
      "<class 'pandas.core.frame.DataFrame'>\n",
      "RangeIndex: 26496 entries, 0 to 26495\n",
      "Data columns (total 2 columns):\n",
      " #   Column      Non-Null Count  Dtype \n",
      "---  ------      --------------  ----- \n",
      " 0   datetime    26496 non-null  object\n",
      " 1   num_orders  26496 non-null  int64 \n",
      "dtypes: int64(1), object(1)\n",
      "memory usage: 414.1+ KB\n"
     ]
    }
   ],
   "source": [
    "# получение общей информации\n",
    "df.info()"
   ]
  },
  {
   "cell_type": "code",
   "execution_count": 5,
   "metadata": {},
   "outputs": [],
   "source": [
    "# заменим тип данных datetime с object на datetime64\n",
    "df['datetime'] = pd.to_datetime(df['datetime'])"
   ]
  },
  {
   "cell_type": "code",
   "execution_count": 6,
   "metadata": {},
   "outputs": [],
   "source": [
    "# установим индекс таблицы равным столбцу datetime\n",
    "df = df.set_index('datetime')"
   ]
  },
  {
   "cell_type": "code",
   "execution_count": 7,
   "metadata": {},
   "outputs": [
    {
     "data": {
      "text/plain": [
       "True"
      ]
     },
     "execution_count": 7,
     "metadata": {},
     "output_type": "execute_result"
    }
   ],
   "source": [
    "# проверим, в хронологическом ли порядке расположены даты и время\n",
    "df.index.is_monotonic"
   ]
  },
  {
   "cell_type": "markdown",
   "metadata": {},
   "source": [
    "## Анализ"
   ]
  },
  {
   "cell_type": "markdown",
   "metadata": {},
   "source": [
    "Изучим наши данные."
   ]
  },
  {
   "cell_type": "code",
   "execution_count": 8,
   "metadata": {},
   "outputs": [
    {
     "data": {
      "image/png": "[encoded data removed]",
      "text/plain": [
       "<Figure size 864x504 with 1 Axes>"
      ]
     },
     "metadata": {
      "needs_background": "light"
     },
     "output_type": "display_data"
    }
   ],
   "source": [
    "# выберим интервал в один час, по каждому — вычислим суммарное количество заказов такси\n",
    "df = df.resample('1H').sum()\n",
    "figsize = (12,7)\n",
    "df.plot(figsize=figsize);"
   ]
  },
  {
   "cell_type": "code",
   "execution_count": 9,
   "metadata": {
    "scrolled": true
   },
   "outputs": [
    {
     "data": {
      "image/png": "[encoded data removed]",
      "text/plain": [
       "<Figure size 720x864 with 3 Axes>"
      ]
     },
     "metadata": {
      "needs_background": "light"
     },
     "output_type": "display_data"
    }
   ],
   "source": [
    "# разложим временной ряд на тренд и сезонную компоненту\n",
    "decomposed = seasonal_decompose(df)\n",
    "\n",
    "plt.figure(figsize=(10, 12))\n",
    "plt.subplot(311)\n",
    "decomposed.trend.plot(ax=plt.gca())\n",
    "plt.title('Trend')\n",
    "plt.subplot(312)\n",
    "decomposed.seasonal.plot(ax=plt.gca())\n",
    "plt.title('Seasonality')\n",
    "plt.subplot(313)\n",
    "decomposed.resid.plot(ax=plt.gca())\n",
    "plt.title('Residuals')\n",
    "plt.tight_layout()"
   ]
  },
  {
   "cell_type": "markdown",
   "metadata": {},
   "source": [
    "На графике тренда видно, что количество заказов такси растет. А значит временной ряд не является стационарным. \n",
    "\n",
    "Построим период равный неделе, чтобы исследовать сезонность."
   ]
  },
  {
   "cell_type": "code",
   "execution_count": 10,
   "metadata": {},
   "outputs": [
    {
     "data": {
      "image/png": "[encoded data removed]",
      "text/plain": [
       "<Figure size 864x504 with 1 Axes>"
      ]
     },
     "metadata": {
      "needs_background": "light"
     },
     "output_type": "display_data"
    }
   ],
   "source": [
    "# график количества заказов с 01-03-2018 по 07-03-2018\n",
    "df['2018-03-01':'2018-03-07'].plot(figsize=figsize);"
   ]
  },
  {
   "cell_type": "code",
   "execution_count": 11,
   "metadata": {
    "scrolled": true
   },
   "outputs": [
    {
     "data": {
      "image/png": "[encoded data removed]",
      "text/plain": [
       "<Figure size 864x504 with 1 Axes>"
      ]
     },
     "metadata": {
      "needs_background": "light"
     },
     "output_type": "display_data"
    }
   ],
   "source": [
    "# построим график сезонной составляющей за неделю \n",
    "decomposed.seasonal['2018-03-01':'2018-03-07'].plot(figsize=figsize);"
   ]
  },
  {
   "cell_type": "markdown",
   "metadata": {},
   "source": [
    "Из графика видно, что в ночное время количество заказов такси увеличивается и падает в утренние часы. "
   ]
  },
  {
   "cell_type": "markdown",
   "metadata": {},
   "source": [
    "<div class=\"alert alert-block alert-success\">\n",
    "<b>Успех:</b> Декомпозиция была сделана верно. Хорошо, что сезонность была визуализирована на более коротком интервале.\n",
    "</div>"
   ]
  },
  {
   "cell_type": "markdown",
   "metadata": {},
   "source": [
    "## Обучение"
   ]
  },
  {
   "cell_type": "code",
   "execution_count": 12,
   "metadata": {},
   "outputs": [],
   "source": [
    "# напишим функцию make_features(), чтобы создать новые признаки\n",
    "def make_features(df, max_lag, rolling_mean_size):\n",
    "    df['month'] = df.index.month\n",
    "    df['day'] = df.index.day\n",
    "    df['dayofweek'] = df.index.dayofweek\n",
    "    \n",
    "    for lag in range(1, max_lag + 1):\n",
    "        df['lag_{}'.format(lag)] = df['num_orders'].shift(lag)\n",
    "\n",
    "    df['rolling_mean'] = df['num_orders'].shift().rolling(rolling_mean_size).mean()"
   ]
  },
  {
   "cell_type": "markdown",
   "metadata": {},
   "source": [
    "Для обучения будет использовать следующие модели: LinearRegression, DecisionTreeRegressor, RandomForestRegressor, Ridge, CatBoostRegressor и LGBMRegressor.\n",
    "\n",
    "В цикле на примере линейной регрессии подберем значения max_lag и rolling_mean_size."
   ]
  },
  {
   "cell_type": "code",
   "execution_count": null,
   "metadata": {},
   "outputs": [],
   "source": [
    "%%time\n",
    "\n",
    "data = df.copy() # создадим копию df\n",
    "best_rmse = 48\n",
    "best_p = 0\n",
    "best_q = 0\n",
    "values = [i for i in range(1, 26)]\n",
    "for p in values:\n",
    "    for q in values:\n",
    "        make_features(data, p, q)\n",
    "        \n",
    "        data_train, data_test = train_test_split(data, shuffle=False, test_size=0.1) # делим данные на тестовую и обучающую выборки\n",
    "        data_train.dropna(inplace=True) # удаляем пропуски\n",
    "        \n",
    "        X_train = data_train.drop('num_orders', axis=1)\n",
    "        y_train = data_train['num_orders']\n",
    "        X_test = data_test.drop('num_orders', axis=1)\n",
    "        y_test = data_test['num_orders']\n",
    "        \n",
    "        tscv = TimeSeriesSplit(n_splits=5) # используем TimeSeriesSplit вместо CV    \n",
    "    \n",
    "        model = LinearRegression()\n",
    "        RMSE_LR = ((-cross_val_score(model, X_train, y_train, cv=tscv, scoring='neg_mean_squared_error'))**0.5).mean()\n",
    "        \n",
    "        if RMSE_LR < best_rmse:\n",
    "            best_rmse = RMSE_LR\n",
    "            best_p = p\n",
    "            best_q = q\n",
    "            \n",
    "print('RMSE:', best_rmse, '\\nmax_lag:', best_p, '\\nRolling_mean_size:', best_q)"
   ]
  },
  {
   "cell_type": "code",
   "execution_count": null,
   "metadata": {},
   "outputs": [],
   "source": [
    "# запускаем нашу функцию по найденным значениям max_lag и rolling_mean_size\n",
    "make_features(df, best_p, best_q)\n",
    "\n",
    "# разделим датасет на обучающую и тестовую выборки\n",
    "train, test = train_test_split(df, shuffle=False, test_size=0.1)\n",
    "train = train.dropna()\n",
    "# создадим переменные с целевым признаком и признаками\n",
    "train_features = train.drop('num_orders', axis=1)\n",
    "train_target = train['num_orders']\n",
    "test_features = test.drop('num_orders', axis=1)\n",
    "test_target = test['num_orders']"
   ]
  },
  {
   "cell_type": "markdown",
   "metadata": {},
   "source": [
    "Теперь обучим остальные модели."
   ]
  },
  {
   "cell_type": "code",
   "execution_count": null,
   "metadata": {},
   "outputs": [],
   "source": [
    "%%time\n",
    "\n",
    "# DecisionTreeRegressor\n",
    "param_grid = {'max_depth': range(2, 15)}\n",
    "model = DecisionTreeRegressor(random_state=12345)\n",
    "search = GridSearchCV(model, param_grid, cv=tscv, scoring='neg_mean_squared_error')\n",
    "search.fit(train_features, train_target)\n",
    "\n",
    "print('RMSE:', (-search.best_score_)**0.5, 'при значениях гиперпараметров:', search.best_params_)"
   ]
  },
  {
   "cell_type": "code",
   "execution_count": null,
   "metadata": {},
   "outputs": [],
   "source": [
    "%%time\n",
    "\n",
    "# RandomForestRegressor\n",
    "param_grid = {'max_depth': range(2, 15),\n",
    "              'n_estimators': range(1, 31, 10)}\n",
    "model = RandomForestRegressor(random_state=12345)\n",
    "search = GridSearchCV(model, param_grid, cv=tscv, scoring='neg_mean_squared_error')\n",
    "search.fit(train_features, train_target)\n",
    "\n",
    "print('RMSE: {} при значениях гиперпараметров: {}'.format((-search.best_score_)**0.5, search.best_params_))"
   ]
  },
  {
   "cell_type": "code",
   "execution_count": null,
   "metadata": {},
   "outputs": [],
   "source": [
    "%%time\n",
    "\n",
    "# Ridge\n",
    "param_grid = {'alpha':[0.1, 1, 10, 100, 1000]}\n",
    "model = Ridge()\n",
    "search = GridSearchCV(model, param_grid, cv=tscv, scoring='neg_mean_squared_error')\n",
    "search.fit(train_features, train_target)\n",
    "\n",
    "print('RMSE: {} при значениях гиперпараметров: {}'.format((-search.best_score_)**0.5, search.best_params_))"
   ]
  },
  {
   "cell_type": "code",
   "execution_count": null,
   "metadata": {},
   "outputs": [],
   "source": [
    "%%time\n",
    "\n",
    "# CatBoostRegressor\n",
    "param_grid = {'learning_rate': [x/10 for x in range(1, 6)]}\n",
    "model = CatBoostRegressor(random_state=12345, verbose=False)\n",
    "search = GridSearchCV(model, param_grid, cv=tscv, scoring='neg_mean_squared_error')\n",
    "search.fit(train_features, train_target)\n",
    "\n",
    "print('RMSE: {} при значениях гиперпараметров: {}'.format((-search.best_score_)**0.5, search.best_params_))"
   ]
  },
  {
   "cell_type": "code",
   "execution_count": null,
   "metadata": {},
   "outputs": [],
   "source": [
    "%%time\n",
    "\n",
    "# LGBMRegressor\n",
    "param_grid = {'learning_rate': [x/10 for x in range(1, 6)]}\n",
    "\n",
    "model = LGBMRegressor(random_state=12345)\n",
    "search = GridSearchCV(model, param_grid, cv=tscv, scoring='neg_mean_squared_error')\n",
    "search.fit(train_features, train_target)\n",
    "\n",
    "print('RMSE: {} при значениях гиперпараметров: {}'.format((-search.best_score_)**0.5, search.best_params_))"
   ]
  },
  {
   "cell_type": "markdown",
   "metadata": {},
   "source": [
    "Протетируем модели и сравним предсказание с тестовыми данными."
   ]
  },
  {
   "cell_type": "markdown",
   "metadata": {},
   "source": [
    "## Тестирование"
   ]
  },
  {
   "cell_type": "code",
   "execution_count": null,
   "metadata": {},
   "outputs": [],
   "source": [
    "%%time\n",
    "\n",
    "# LinearRegression\n",
    "model = LinearRegression()\n",
    "model.fit(train_features, train_target)\n",
    "target_predict = model.predict(test_features)\n",
    "print('RMSE:', mean_squared_error(test_target, target_predict) ** 0.5)\n",
    "\n",
    "plt.figure(figsize=figsize)\n",
    "plt.plot(test_target.index, \n",
    "         test_target, \n",
    "         'b-', \n",
    "         test_target.index, \n",
    "         target_predict,\n",
    "         'r-');"
   ]
  },
  {
   "cell_type": "code",
   "execution_count": null,
   "metadata": {},
   "outputs": [],
   "source": [
    "%%time\n",
    "\n",
    "# DecisionTreeRegressor\n",
    "model = DecisionTreeRegressor(random_state=12345, max_depth=3)\n",
    "model.fit(train_features, train_target)\n",
    "target_predict = model.predict(test_features)\n",
    "print('RMSE:', mean_squared_error(test_target, target_predict) ** 0.5)\n",
    "\n",
    "plt.figure(figsize=figsize)\n",
    "plt.plot(test_target.index, \n",
    "         test_target, \n",
    "         'b-', \n",
    "         test_target.index, \n",
    "         target_predict,\n",
    "         'r-');"
   ]
  },
  {
   "cell_type": "code",
   "execution_count": null,
   "metadata": {},
   "outputs": [],
   "source": [
    "%%time\n",
    "\n",
    "# RandomForestRegressor\n",
    "model = RandomForestRegressor(random_state=12345, max_depth=13, n_estimators=21)\n",
    "model.fit(train_features, train_target)\n",
    "target_predict = model.predict(test_features)\n",
    "print('RMSE:', mean_squared_error(test_target, target_predict) ** 0.5)\n",
    "\n",
    "plt.figure(figsize=figsize)\n",
    "plt.plot(test_target.index, \n",
    "         test_target, \n",
    "         'b-', \n",
    "         test_target.index, \n",
    "         target_predict,\n",
    "         'r-');"
   ]
  },
  {
   "cell_type": "code",
   "execution_count": null,
   "metadata": {},
   "outputs": [],
   "source": [
    "%%time\n",
    "\n",
    "# Ridge\n",
    "model = Ridge(alpha=0.1)\n",
    "model.fit(train_features, train_target)\n",
    "target_predict = model.predict(test_features)\n",
    "print('RMSE:', mean_squared_error(test_target, target_predict) ** 0.5)\n",
    "\n",
    "plt.figure(figsize=figsize)\n",
    "plt.plot(test_target.index, \n",
    "         test_target, \n",
    "         'b-', \n",
    "         test_target.index, \n",
    "         target_predict,\n",
    "         'r-');"
   ]
  },
  {
   "cell_type": "code",
   "execution_count": null,
   "metadata": {},
   "outputs": [],
   "source": [
    "%%time\n",
    "\n",
    "# CatBoostRegressor\n",
    "model = CatBoostRegressor(learning_rate=0.1, random_state=12345, verbose=False)\n",
    "model.fit(train_features, train_target)\n",
    "target_predict = model.predict(test_features)\n",
    "print('RMSE:', mean_squared_error(test_target, target_predict) ** 0.5)\n",
    "\n",
    "plt.figure(figsize=figsize)\n",
    "plt.plot(test_target.index, \n",
    "         test_target, \n",
    "         'b-', \n",
    "         test_target.index, \n",
    "         target_predict,\n",
    "         'r-');"
   ]
  },
  {
   "cell_type": "code",
   "execution_count": null,
   "metadata": {},
   "outputs": [],
   "source": [
    "%%time\n",
    "\n",
    "# LGBMRegressor\n",
    "model = LGBMRegressor(learning_rate=0.1, random_state=12345)\n",
    "model.fit(train_features, train_target)\n",
    "target_predict = model.predict(test_features)\n",
    "print('RMSE:', mean_squared_error(test_target, target_predict) ** 0.5)\n",
    "\n",
    "plt.figure(figsize=figsize)\n",
    "plt.plot(test_target.index, \n",
    "         test_target, \n",
    "         'b-', \n",
    "         test_target.index, \n",
    "         target_predict,\n",
    "         'r-');"
   ]
  },
  {
   "cell_type": "code",
   "execution_count": null,
   "metadata": {},
   "outputs": [],
   "source": [
    "# создание таблицы для сравнения полученных результатов\n",
    "X = [[27.00, 45.67],\n",
    "     [31.21, 56.35],\n",
    "     [26.54, 44.72],\n",
    "     [27.24, 45.67],\n",
    "     [25.27, 41.25],\n",
    "     [, 42.47]]\n",
    "models = ['Linear', 'Tree', 'Forest', 'Ridge', 'Catboost', 'LGBM']\n",
    "\n",
    "pd.DataFrame(data=X, index=models, columns=['RMSE_train', 'RMSE_test'])"
   ]
  },
  {
   "cell_type": "markdown",
   "metadata": {},
   "source": [
    "Таким образом, лучшее значение показала модель CatBoostRegressor."
   ]
  },
  {
   "cell_type": "code",
   "execution_count": null,
   "metadata": {},
   "outputs": [],
   "source": []
  }
 ],
 "metadata": {
  "ExecuteTimeLog": [
   {
    "duration": 401,
    "start_time": "2022-05-03T17:23:05.810Z"
   },
   {
    "duration": 68,
    "start_time": "2022-05-03T17:23:44.857Z"
   },
   {
    "duration": 13,
    "start_time": "2022-05-03T17:23:56.420Z"
   },
   {
    "duration": 13,
    "start_time": "2022-05-03T17:24:26.055Z"
   },
   {
    "duration": 9,
    "start_time": "2022-05-03T17:28:38.331Z"
   },
   {
    "duration": 10,
    "start_time": "2022-05-03T17:30:53.864Z"
   },
   {
    "duration": 10,
    "start_time": "2022-05-03T17:31:40.556Z"
   },
   {
    "duration": 4,
    "start_time": "2022-05-03T17:31:55.952Z"
   },
   {
    "duration": 9,
    "start_time": "2022-05-03T17:31:58.676Z"
   },
   {
    "duration": 4,
    "start_time": "2022-05-03T17:36:31.956Z"
   },
   {
    "duration": 1038,
    "start_time": "2022-05-03T17:38:22.893Z"
   },
   {
    "duration": 632,
    "start_time": "2022-05-03T17:38:29.162Z"
   },
   {
    "duration": 6,
    "start_time": "2022-05-03T17:40:12.259Z"
   },
   {
    "duration": 4,
    "start_time": "2022-05-03T17:40:25.550Z"
   },
   {
    "duration": 135,
    "start_time": "2022-05-03T17:42:15.911Z"
   },
   {
    "duration": 173,
    "start_time": "2022-05-03T17:43:28.288Z"
   },
   {
    "duration": 159,
    "start_time": "2022-05-03T17:44:33.002Z"
   },
   {
    "duration": 8,
    "start_time": "2022-05-03T17:44:53.765Z"
   },
   {
    "duration": 444,
    "start_time": "2022-05-03T17:45:09.890Z"
   },
   {
    "duration": 63,
    "start_time": "2022-05-03T17:45:10.336Z"
   },
   {
    "duration": 14,
    "start_time": "2022-05-03T17:45:10.401Z"
   },
   {
    "duration": 13,
    "start_time": "2022-05-03T17:45:10.417Z"
   },
   {
    "duration": 9,
    "start_time": "2022-05-03T17:45:10.432Z"
   },
   {
    "duration": 7,
    "start_time": "2022-05-03T17:45:10.442Z"
   },
   {
    "duration": 7,
    "start_time": "2022-05-03T17:45:10.451Z"
   },
   {
    "duration": 443,
    "start_time": "2022-05-03T17:45:10.474Z"
   },
   {
    "duration": 193,
    "start_time": "2022-05-03T17:45:10.919Z"
   },
   {
    "duration": 186,
    "start_time": "2022-05-03T17:45:28.859Z"
   },
   {
    "duration": 377,
    "start_time": "2022-05-03T17:45:41.500Z"
   },
   {
    "duration": 66,
    "start_time": "2022-05-03T17:45:41.879Z"
   },
   {
    "duration": 13,
    "start_time": "2022-05-03T17:45:41.947Z"
   },
   {
    "duration": 11,
    "start_time": "2022-05-03T17:45:41.962Z"
   },
   {
    "duration": 7,
    "start_time": "2022-05-03T17:45:41.976Z"
   },
   {
    "duration": 6,
    "start_time": "2022-05-03T17:45:41.985Z"
   },
   {
    "duration": 6,
    "start_time": "2022-05-03T17:45:41.992Z"
   },
   {
    "duration": 413,
    "start_time": "2022-05-03T17:45:41.999Z"
   },
   {
    "duration": 180,
    "start_time": "2022-05-03T17:45:42.414Z"
   },
   {
    "duration": 415,
    "start_time": "2022-05-03T17:47:02.768Z"
   },
   {
    "duration": 76,
    "start_time": "2022-05-03T17:47:03.186Z"
   },
   {
    "duration": 12,
    "start_time": "2022-05-03T17:47:03.266Z"
   },
   {
    "duration": 13,
    "start_time": "2022-05-03T17:47:03.280Z"
   },
   {
    "duration": 9,
    "start_time": "2022-05-03T17:47:03.295Z"
   },
   {
    "duration": 12,
    "start_time": "2022-05-03T17:47:03.305Z"
   },
   {
    "duration": 17,
    "start_time": "2022-05-03T17:47:03.318Z"
   },
   {
    "duration": 436,
    "start_time": "2022-05-03T17:47:03.337Z"
   },
   {
    "duration": 190,
    "start_time": "2022-05-03T17:47:03.775Z"
   },
   {
    "duration": 208,
    "start_time": "2022-05-03T17:53:39.834Z"
   },
   {
    "duration": 73,
    "start_time": "2022-05-03T17:55:54.329Z"
   },
   {
    "duration": 521,
    "start_time": "2022-05-03T17:56:25.239Z"
   },
   {
    "duration": 47,
    "start_time": "2022-05-03T17:56:32.802Z"
   },
   {
    "duration": 7,
    "start_time": "2022-05-03T17:57:37.009Z"
   },
   {
    "duration": 1049,
    "start_time": "2022-05-03T17:58:21.144Z"
   },
   {
    "duration": 135,
    "start_time": "2022-05-03T17:58:22.195Z"
   },
   {
    "duration": 9,
    "start_time": "2022-05-03T17:58:22.332Z"
   },
   {
    "duration": 11,
    "start_time": "2022-05-03T17:58:22.343Z"
   },
   {
    "duration": 20,
    "start_time": "2022-05-03T17:58:22.355Z"
   },
   {
    "duration": 6,
    "start_time": "2022-05-03T17:58:22.378Z"
   },
   {
    "duration": 8,
    "start_time": "2022-05-03T17:58:22.387Z"
   },
   {
    "duration": 232,
    "start_time": "2022-05-03T17:58:22.397Z"
   },
   {
    "duration": 3,
    "start_time": "2022-05-03T17:58:22.631Z"
   },
   {
    "duration": 6,
    "start_time": "2022-05-03T17:58:22.637Z"
   },
   {
    "duration": 678,
    "start_time": "2022-05-03T17:58:22.644Z"
   },
   {
    "duration": 192,
    "start_time": "2022-05-03T18:01:44.607Z"
   },
   {
    "duration": 1094,
    "start_time": "2022-05-03T18:25:06.335Z"
   },
   {
    "duration": 156,
    "start_time": "2022-05-03T18:25:07.431Z"
   },
   {
    "duration": 11,
    "start_time": "2022-05-03T18:25:07.589Z"
   },
   {
    "duration": 24,
    "start_time": "2022-05-03T18:25:07.601Z"
   },
   {
    "duration": 9,
    "start_time": "2022-05-03T18:25:07.627Z"
   },
   {
    "duration": 8,
    "start_time": "2022-05-03T18:25:07.637Z"
   },
   {
    "duration": 6,
    "start_time": "2022-05-03T18:25:07.647Z"
   },
   {
    "duration": 235,
    "start_time": "2022-05-03T18:25:07.654Z"
   },
   {
    "duration": 2,
    "start_time": "2022-05-03T18:25:07.892Z"
   },
   {
    "duration": 6,
    "start_time": "2022-05-03T18:25:07.896Z"
   },
   {
    "duration": 662,
    "start_time": "2022-05-03T18:25:07.904Z"
   },
   {
    "duration": 180,
    "start_time": "2022-05-03T18:25:08.568Z"
   },
   {
    "duration": 247,
    "start_time": "2022-05-03T18:25:08.750Z"
   },
   {
    "duration": 228,
    "start_time": "2022-05-03T18:28:33.973Z"
   },
   {
    "duration": 13,
    "start_time": "2022-05-03T18:29:20.087Z"
   },
   {
    "duration": 5,
    "start_time": "2022-05-03T18:29:40.823Z"
   },
   {
    "duration": 69,
    "start_time": "2022-05-03T18:29:53.827Z"
   },
   {
    "duration": 7,
    "start_time": "2022-05-03T18:29:54.547Z"
   },
   {
    "duration": 12,
    "start_time": "2022-05-03T18:29:55.672Z"
   },
   {
    "duration": 9,
    "start_time": "2022-05-03T18:30:03.060Z"
   },
   {
    "duration": 5,
    "start_time": "2022-05-03T18:30:03.967Z"
   },
   {
    "duration": 5,
    "start_time": "2022-05-03T18:30:06.493Z"
   },
   {
    "duration": 187,
    "start_time": "2022-05-03T18:30:07.917Z"
   },
   {
    "duration": 742,
    "start_time": "2022-05-03T18:30:14.109Z"
   },
   {
    "duration": 207,
    "start_time": "2022-05-03T18:30:42.153Z"
   },
   {
    "duration": 5,
    "start_time": "2022-05-03T18:31:02.303Z"
   },
   {
    "duration": 1374,
    "start_time": "2022-05-03T18:31:36.865Z"
   },
   {
    "duration": 73,
    "start_time": "2022-05-03T18:31:38.241Z"
   },
   {
    "duration": 11,
    "start_time": "2022-05-03T18:31:38.315Z"
   },
   {
    "duration": 14,
    "start_time": "2022-05-03T18:31:38.328Z"
   },
   {
    "duration": 11,
    "start_time": "2022-05-03T18:31:38.345Z"
   },
   {
    "duration": 9,
    "start_time": "2022-05-03T18:31:38.358Z"
   },
   {
    "duration": 12,
    "start_time": "2022-05-03T18:31:38.369Z"
   },
   {
    "duration": 228,
    "start_time": "2022-05-03T18:31:38.383Z"
   },
   {
    "duration": 2,
    "start_time": "2022-05-03T18:31:38.613Z"
   },
   {
    "duration": 6,
    "start_time": "2022-05-03T18:31:38.617Z"
   },
   {
    "duration": 640,
    "start_time": "2022-05-03T18:31:38.625Z"
   },
   {
    "duration": 196,
    "start_time": "2022-05-03T18:31:39.267Z"
   },
   {
    "duration": 211,
    "start_time": "2022-05-03T18:31:39.465Z"
   },
   {
    "duration": 4,
    "start_time": "2022-05-03T18:31:39.679Z"
   },
   {
    "duration": 9,
    "start_time": "2022-05-03T18:31:39.684Z"
   },
   {
    "duration": 7,
    "start_time": "2022-05-03T18:33:34.216Z"
   },
   {
    "duration": 1793,
    "start_time": "2022-05-05T15:27:19.905Z"
   },
   {
    "duration": 113,
    "start_time": "2022-05-05T15:27:21.703Z"
   },
   {
    "duration": 10,
    "start_time": "2022-05-05T15:27:21.818Z"
   },
   {
    "duration": 11,
    "start_time": "2022-05-05T15:27:21.830Z"
   },
   {
    "duration": 9,
    "start_time": "2022-05-05T15:27:21.842Z"
   },
   {
    "duration": 6,
    "start_time": "2022-05-05T15:27:21.852Z"
   },
   {
    "duration": 6,
    "start_time": "2022-05-05T15:27:21.859Z"
   },
   {
    "duration": 260,
    "start_time": "2022-05-05T15:27:21.866Z"
   },
   {
    "duration": 1,
    "start_time": "2022-05-05T15:27:22.128Z"
   },
   {
    "duration": 5,
    "start_time": "2022-05-05T15:27:22.132Z"
   },
   {
    "duration": 734,
    "start_time": "2022-05-05T15:27:22.139Z"
   },
   {
    "duration": 178,
    "start_time": "2022-05-05T15:27:22.875Z"
   },
   {
    "duration": 294,
    "start_time": "2022-05-05T15:27:23.055Z"
   },
   {
    "duration": 4,
    "start_time": "2022-05-05T15:27:23.350Z"
   },
   {
    "duration": 7,
    "start_time": "2022-05-05T15:27:23.356Z"
   },
   {
    "duration": 117,
    "start_time": "2022-05-05T15:27:23.365Z"
   },
   {
    "duration": 240,
    "start_time": "2022-05-05T15:30:16.006Z"
   },
   {
    "duration": 227,
    "start_time": "2022-05-05T15:30:26.658Z"
   },
   {
    "duration": 220,
    "start_time": "2022-05-05T15:30:38.913Z"
   },
   {
    "duration": 479,
    "start_time": "2022-05-05T15:31:47.650Z"
   },
   {
    "duration": 860,
    "start_time": "2022-05-05T15:33:10.247Z"
   },
   {
    "duration": 6,
    "start_time": "2022-05-05T15:33:53.782Z"
   },
   {
    "duration": 189,
    "start_time": "2022-05-05T15:34:50.530Z"
   },
   {
    "duration": 240,
    "start_time": "2022-05-05T15:36:49.623Z"
   },
   {
    "duration": 309,
    "start_time": "2022-05-05T15:36:59.126Z"
   },
   {
    "duration": 278,
    "start_time": "2022-05-05T15:41:44.780Z"
   },
   {
    "duration": 256,
    "start_time": "2022-05-05T15:43:00.484Z"
   },
   {
    "duration": 289,
    "start_time": "2022-05-05T15:43:16.743Z"
   },
   {
    "duration": 614,
    "start_time": "2022-05-05T16:01:25.160Z"
   },
   {
    "duration": 375,
    "start_time": "2022-05-05T16:01:44.480Z"
   },
   {
    "duration": 182,
    "start_time": "2022-05-05T16:02:42.983Z"
   },
   {
    "duration": 3,
    "start_time": "2022-05-05T16:17:44.184Z"
   },
   {
    "duration": 6,
    "start_time": "2022-05-05T16:17:46.400Z"
   },
   {
    "duration": 5,
    "start_time": "2022-05-05T16:17:52.810Z"
   },
   {
    "duration": 3,
    "start_time": "2022-05-05T16:27:20.921Z"
   },
   {
    "duration": 184,
    "start_time": "2022-05-05T16:28:27.376Z"
   },
   {
    "duration": 178,
    "start_time": "2022-05-05T16:28:43.064Z"
   },
   {
    "duration": 17,
    "start_time": "2022-05-05T16:29:07.898Z"
   },
   {
    "duration": 3,
    "start_time": "2022-05-05T16:29:47.838Z"
   },
   {
    "duration": 5,
    "start_time": "2022-05-05T16:48:46.111Z"
   },
   {
    "duration": 16,
    "start_time": "2022-05-05T16:49:01.221Z"
   },
   {
    "duration": 6,
    "start_time": "2022-05-05T16:49:42.847Z"
   },
   {
    "duration": 3932,
    "start_time": "2022-05-05T16:49:47.205Z"
   },
   {
    "duration": 4487,
    "start_time": "2022-05-05T16:50:27.414Z"
   },
   {
    "duration": 10131,
    "start_time": "2022-05-05T16:51:12.660Z"
   },
   {
    "duration": 7377,
    "start_time": "2022-05-05T16:52:04.924Z"
   },
   {
    "duration": 146152,
    "start_time": "2022-05-05T16:52:32.463Z"
   },
   {
    "duration": 16,
    "start_time": "2022-05-05T16:56:08.455Z"
   },
   {
    "duration": 22,
    "start_time": "2022-05-05T16:59:44.140Z"
   },
   {
    "duration": 1500,
    "start_time": "2022-05-05T17:00:06.455Z"
   },
   {
    "duration": 111,
    "start_time": "2022-05-05T17:00:07.956Z"
   },
   {
    "duration": 10,
    "start_time": "2022-05-05T17:00:08.068Z"
   },
   {
    "duration": 10,
    "start_time": "2022-05-05T17:00:08.079Z"
   },
   {
    "duration": 10,
    "start_time": "2022-05-05T17:00:08.091Z"
   },
   {
    "duration": 13,
    "start_time": "2022-05-05T17:00:08.103Z"
   },
   {
    "duration": 15,
    "start_time": "2022-05-05T17:00:08.117Z"
   },
   {
    "duration": 5,
    "start_time": "2022-05-05T17:00:08.133Z"
   },
   {
    "duration": 8,
    "start_time": "2022-05-05T17:00:08.139Z"
   },
   {
    "duration": 233,
    "start_time": "2022-05-05T17:00:08.149Z"
   },
   {
    "duration": 745,
    "start_time": "2022-05-05T17:00:08.384Z"
   },
   {
    "duration": 164,
    "start_time": "2022-05-05T17:00:09.130Z"
   },
   {
    "duration": 154,
    "start_time": "2022-05-05T17:00:09.300Z"
   },
   {
    "duration": 2,
    "start_time": "2022-05-05T17:00:09.457Z"
   },
   {
    "duration": 5,
    "start_time": "2022-05-05T17:00:09.461Z"
   },
   {
    "duration": 12,
    "start_time": "2022-05-05T17:00:09.468Z"
   },
   {
    "duration": 21,
    "start_time": "2022-05-05T17:00:09.482Z"
   },
   {
    "duration": 117,
    "start_time": "2022-05-05T17:00:09.504Z"
   },
   {
    "duration": 0,
    "start_time": "2022-05-05T17:00:09.623Z"
   },
   {
    "duration": 0,
    "start_time": "2022-05-05T17:00:09.624Z"
   },
   {
    "duration": 3,
    "start_time": "2022-05-05T17:00:57.515Z"
   },
   {
    "duration": 11,
    "start_time": "2022-05-05T17:01:06.036Z"
   },
   {
    "duration": 17,
    "start_time": "2022-05-05T17:01:55.487Z"
   },
   {
    "duration": 15,
    "start_time": "2022-05-05T17:02:15.042Z"
   },
   {
    "duration": 12,
    "start_time": "2022-05-05T17:02:19.970Z"
   },
   {
    "duration": 6,
    "start_time": "2022-05-05T17:23:33.300Z"
   },
   {
    "duration": 1883,
    "start_time": "2022-05-05T17:24:17.749Z"
   },
   {
    "duration": 123,
    "start_time": "2022-05-05T17:24:19.635Z"
   },
   {
    "duration": 11,
    "start_time": "2022-05-05T17:24:19.760Z"
   },
   {
    "duration": 11,
    "start_time": "2022-05-05T17:24:19.773Z"
   },
   {
    "duration": 8,
    "start_time": "2022-05-05T17:24:19.786Z"
   },
   {
    "duration": 13,
    "start_time": "2022-05-05T17:24:19.795Z"
   },
   {
    "duration": 5,
    "start_time": "2022-05-05T17:24:19.810Z"
   },
   {
    "duration": 4,
    "start_time": "2022-05-05T17:24:19.817Z"
   },
   {
    "duration": 6,
    "start_time": "2022-05-05T17:24:19.822Z"
   },
   {
    "duration": 228,
    "start_time": "2022-05-05T17:24:19.831Z"
   },
   {
    "duration": 753,
    "start_time": "2022-05-05T17:24:20.061Z"
   },
   {
    "duration": 162,
    "start_time": "2022-05-05T17:24:20.816Z"
   },
   {
    "duration": 148,
    "start_time": "2022-05-05T17:24:20.980Z"
   },
   {
    "duration": 2,
    "start_time": "2022-05-05T17:24:21.130Z"
   },
   {
    "duration": 6,
    "start_time": "2022-05-05T17:24:21.134Z"
   },
   {
    "duration": 6,
    "start_time": "2022-05-05T17:24:21.142Z"
   },
   {
    "duration": 5,
    "start_time": "2022-05-05T17:24:21.150Z"
   },
   {
    "duration": 13,
    "start_time": "2022-05-05T17:24:21.156Z"
   },
   {
    "duration": 4,
    "start_time": "2022-05-05T17:24:21.171Z"
   },
   {
    "duration": 115,
    "start_time": "2022-05-05T17:24:21.200Z"
   },
   {
    "duration": 0,
    "start_time": "2022-05-05T17:24:21.317Z"
   },
   {
    "duration": 0,
    "start_time": "2022-05-05T17:24:21.319Z"
   },
   {
    "duration": 1536,
    "start_time": "2022-05-05T17:24:52.207Z"
   },
   {
    "duration": 101,
    "start_time": "2022-05-05T17:24:53.745Z"
   },
   {
    "duration": 10,
    "start_time": "2022-05-05T17:24:53.848Z"
   },
   {
    "duration": 11,
    "start_time": "2022-05-05T17:24:53.859Z"
   },
   {
    "duration": 7,
    "start_time": "2022-05-05T17:24:53.872Z"
   },
   {
    "duration": 7,
    "start_time": "2022-05-05T17:24:53.880Z"
   },
   {
    "duration": 7,
    "start_time": "2022-05-05T17:24:53.888Z"
   },
   {
    "duration": 4,
    "start_time": "2022-05-05T17:24:53.896Z"
   },
   {
    "duration": 8,
    "start_time": "2022-05-05T17:24:53.902Z"
   },
   {
    "duration": 224,
    "start_time": "2022-05-05T17:24:53.912Z"
   },
   {
    "duration": 768,
    "start_time": "2022-05-05T17:24:54.137Z"
   },
   {
    "duration": 156,
    "start_time": "2022-05-05T17:24:54.907Z"
   },
   {
    "duration": 141,
    "start_time": "2022-05-05T17:24:55.065Z"
   },
   {
    "duration": 2,
    "start_time": "2022-05-05T17:24:55.208Z"
   },
   {
    "duration": 6,
    "start_time": "2022-05-05T17:24:55.212Z"
   },
   {
    "duration": 10,
    "start_time": "2022-05-05T17:24:55.219Z"
   },
   {
    "duration": 6,
    "start_time": "2022-05-05T17:24:55.231Z"
   },
   {
    "duration": 15,
    "start_time": "2022-05-05T17:24:55.239Z"
   },
   {
    "duration": 13,
    "start_time": "2022-05-05T17:24:55.255Z"
   },
   {
    "duration": 189,
    "start_time": "2022-05-05T17:24:55.270Z"
   },
   {
    "duration": 0,
    "start_time": "2022-05-05T17:24:55.461Z"
   },
   {
    "duration": 0,
    "start_time": "2022-05-05T17:24:55.463Z"
   },
   {
    "duration": 2,
    "start_time": "2022-05-05T17:25:21.705Z"
   },
   {
    "duration": 9,
    "start_time": "2022-05-05T17:25:33.275Z"
   },
   {
    "duration": 247,
    "start_time": "2022-05-05T17:29:28.257Z"
   },
   {
    "duration": 6,
    "start_time": "2022-05-05T17:29:29.137Z"
   },
   {
    "duration": 6,
    "start_time": "2022-05-05T17:29:33.419Z"
   },
   {
    "duration": 1957,
    "start_time": "2022-05-05T17:30:20.636Z"
   },
   {
    "duration": 106,
    "start_time": "2022-05-05T17:30:22.595Z"
   },
   {
    "duration": 10,
    "start_time": "2022-05-05T17:30:22.704Z"
   },
   {
    "duration": 19,
    "start_time": "2022-05-05T17:30:22.716Z"
   },
   {
    "duration": 9,
    "start_time": "2022-05-05T17:30:22.738Z"
   },
   {
    "duration": 6,
    "start_time": "2022-05-05T17:30:22.748Z"
   },
   {
    "duration": 6,
    "start_time": "2022-05-05T17:30:22.756Z"
   },
   {
    "duration": 4,
    "start_time": "2022-05-05T17:30:22.763Z"
   },
   {
    "duration": 4,
    "start_time": "2022-05-05T17:30:22.768Z"
   },
   {
    "duration": 250,
    "start_time": "2022-05-05T17:30:22.800Z"
   },
   {
    "duration": 773,
    "start_time": "2022-05-05T17:30:23.052Z"
   },
   {
    "duration": 165,
    "start_time": "2022-05-05T17:30:23.827Z"
   },
   {
    "duration": 150,
    "start_time": "2022-05-05T17:30:23.993Z"
   },
   {
    "duration": 2,
    "start_time": "2022-05-05T17:30:24.146Z"
   },
   {
    "duration": 5,
    "start_time": "2022-05-05T17:30:24.149Z"
   },
   {
    "duration": 6,
    "start_time": "2022-05-05T17:30:24.156Z"
   },
   {
    "duration": 7,
    "start_time": "2022-05-05T17:30:24.164Z"
   },
   {
    "duration": 11,
    "start_time": "2022-05-05T17:30:24.173Z"
   },
   {
    "duration": 17,
    "start_time": "2022-05-05T17:30:24.186Z"
   },
   {
    "duration": 297556,
    "start_time": "2022-05-05T17:30:24.204Z"
   },
   {
    "duration": 0,
    "start_time": "2022-05-05T17:35:21.761Z"
   },
   {
    "duration": 0,
    "start_time": "2022-05-05T17:35:21.763Z"
   },
   {
    "duration": 0,
    "start_time": "2022-05-05T17:35:21.763Z"
   },
   {
    "duration": 205132,
    "start_time": "2022-05-05T17:58:57.868Z"
   },
   {
    "duration": 217217,
    "start_time": "2022-05-05T18:05:46.058Z"
   },
   {
    "duration": 9,
    "start_time": "2022-05-05T18:10:44.669Z"
   },
   {
    "duration": 12,
    "start_time": "2022-05-05T18:11:05.264Z"
   },
   {
    "duration": 7,
    "start_time": "2022-05-05T18:11:16.814Z"
   },
   {
    "duration": 2652,
    "start_time": "2022-05-05T18:12:34.551Z"
   },
   {
    "duration": 239430,
    "start_time": "2022-05-05T18:12:41.244Z"
   },
   {
    "duration": 3199109,
    "start_time": "2022-05-05T18:19:57.595Z"
   },
   {
    "duration": 3,
    "start_time": "2022-05-05T19:17:12.722Z"
   },
   {
    "duration": 167308,
    "start_time": "2022-05-05T19:17:57.265Z"
   },
   {
    "duration": 189,
    "start_time": "2022-05-05T19:21:16.120Z"
   },
   {
    "duration": 31624,
    "start_time": "2022-05-05T19:21:33.789Z"
   },
   {
    "duration": 905310,
    "start_time": "2022-05-05T19:22:38.890Z"
   },
   {
    "duration": 177,
    "start_time": "2022-05-05T19:38:29.032Z"
   },
   {
    "duration": 154,
    "start_time": "2022-05-05T19:38:55.066Z"
   },
   {
    "duration": 3,
    "start_time": "2022-05-05T19:39:03.602Z"
   },
   {
    "duration": 168,
    "start_time": "2022-05-05T19:39:08.459Z"
   },
   {
    "duration": 685078,
    "start_time": "2022-05-05T19:39:29.257Z"
   },
   {
    "duration": 136411,
    "start_time": "2022-05-05T19:53:23.613Z"
   },
   {
    "duration": 153,
    "start_time": "2022-05-05T19:56:29.684Z"
   },
   {
    "duration": 8328,
    "start_time": "2022-05-05T19:56:43.367Z"
   },
   {
    "duration": 8489,
    "start_time": "2022-05-05T19:57:53.523Z"
   },
   {
    "duration": 8433,
    "start_time": "2022-05-05T19:58:58.186Z"
   },
   {
    "duration": 13680,
    "start_time": "2022-05-05T19:59:38.183Z"
   },
   {
    "duration": 3855,
    "start_time": "2022-05-05T20:00:06.439Z"
   },
   {
    "duration": 349027,
    "start_time": "2022-05-05T20:01:05.664Z"
   },
   {
    "duration": 14,
    "start_time": "2022-05-05T20:08:10.313Z"
   },
   {
    "duration": 26,
    "start_time": "2022-05-05T20:10:53.169Z"
   },
   {
    "duration": 100,
    "start_time": "2022-05-05T20:11:39.199Z"
   },
   {
    "duration": 92,
    "start_time": "2022-05-05T20:11:59.007Z"
   },
   {
    "duration": 39,
    "start_time": "2022-05-05T20:14:16.661Z"
   },
   {
    "duration": 7,
    "start_time": "2022-05-05T20:14:53.143Z"
   },
   {
    "duration": 3,
    "start_time": "2022-05-05T20:15:30.616Z"
   },
   {
    "duration": 303,
    "start_time": "2022-05-05T20:16:01.504Z"
   },
   {
    "duration": 3932,
    "start_time": "2022-05-05T20:16:31.912Z"
   },
   {
    "duration": 3800,
    "start_time": "2022-05-05T20:16:45.576Z"
   },
   {
    "duration": 3926,
    "start_time": "2022-05-05T20:17:16.431Z"
   },
   {
    "duration": 3875,
    "start_time": "2022-05-05T20:17:30.254Z"
   },
   {
    "duration": 1702,
    "start_time": "2022-05-06T15:49:44.517Z"
   },
   {
    "duration": 77,
    "start_time": "2022-05-06T15:49:46.221Z"
   },
   {
    "duration": 13,
    "start_time": "2022-05-06T15:49:46.299Z"
   },
   {
    "duration": 16,
    "start_time": "2022-05-06T15:49:46.319Z"
   },
   {
    "duration": 9,
    "start_time": "2022-05-06T15:49:46.337Z"
   },
   {
    "duration": 6,
    "start_time": "2022-05-06T15:49:46.348Z"
   },
   {
    "duration": 6,
    "start_time": "2022-05-06T15:49:46.355Z"
   },
   {
    "duration": 3,
    "start_time": "2022-05-06T15:49:46.362Z"
   },
   {
    "duration": 5,
    "start_time": "2022-05-06T15:49:46.367Z"
   },
   {
    "duration": 338,
    "start_time": "2022-05-06T15:49:46.374Z"
   },
   {
    "duration": 981,
    "start_time": "2022-05-06T15:49:46.715Z"
   },
   {
    "duration": 191,
    "start_time": "2022-05-06T15:49:47.697Z"
   },
   {
    "duration": 187,
    "start_time": "2022-05-06T15:49:47.889Z"
   },
   {
    "duration": 2,
    "start_time": "2022-05-06T15:49:48.079Z"
   },
   {
    "duration": 7,
    "start_time": "2022-05-06T15:49:48.083Z"
   },
   {
    "duration": 25,
    "start_time": "2022-05-06T15:49:48.092Z"
   },
   {
    "duration": 6,
    "start_time": "2022-05-06T15:49:48.119Z"
   },
   {
    "duration": 15,
    "start_time": "2022-05-06T15:49:48.127Z"
   },
   {
    "duration": 9,
    "start_time": "2022-05-06T15:49:48.143Z"
   },
   {
    "duration": 10472,
    "start_time": "2022-05-06T15:49:48.154Z"
   },
   {
    "duration": 197,
    "start_time": "2022-05-06T15:49:58.630Z"
   },
   {
    "duration": 23923,
    "start_time": "2022-05-06T15:49:58.829Z"
   },
   {
    "duration": 803,
    "start_time": "2022-05-06T15:50:22.753Z"
   },
   {
    "duration": 63433,
    "start_time": "2022-05-06T15:50:23.559Z"
   },
   {
    "duration": 4,
    "start_time": "2022-05-06T15:51:26.994Z"
   },
   {
    "duration": 14,
    "start_time": "2022-05-06T15:52:21.414Z"
   },
   {
    "duration": 68,
    "start_time": "2022-05-06T15:52:43.988Z"
   },
   {
    "duration": 14,
    "start_time": "2022-05-06T15:52:58.914Z"
   },
   {
    "duration": 3,
    "start_time": "2022-05-06T15:52:59.573Z"
   },
   {
    "duration": 284,
    "start_time": "2022-05-06T15:53:08.284Z"
   },
   {
    "duration": 6,
    "start_time": "2022-05-06T15:53:25.132Z"
   },
   {
    "duration": 10333,
    "start_time": "2022-05-06T15:53:30.801Z"
   },
   {
    "duration": 20,
    "start_time": "2022-05-06T15:54:07.524Z"
   },
   {
    "duration": 8,
    "start_time": "2022-05-06T15:54:17.144Z"
   },
   {
    "duration": 11868,
    "start_time": "2022-05-06T15:54:34.554Z"
   },
   {
    "duration": 6,
    "start_time": "2022-05-06T15:54:59.438Z"
   },
   {
    "duration": 174802,
    "start_time": "2022-05-06T15:55:26.310Z"
   },
   {
    "duration": 31,
    "start_time": "2022-05-06T16:06:51.217Z"
   },
   {
    "duration": 14,
    "start_time": "2022-05-06T16:07:00.063Z"
   },
   {
    "duration": 180,
    "start_time": "2022-05-06T16:08:07.428Z"
   },
   {
    "duration": 1336948,
    "start_time": "2022-05-06T16:09:14.310Z"
   },
   {
    "duration": 14,
    "start_time": "2022-05-06T16:31:31.260Z"
   },
   {
    "duration": 6,
    "start_time": "2022-05-06T16:42:53.037Z"
   },
   {
    "duration": 91,
    "start_time": "2022-05-06T16:56:07.346Z"
   },
   {
    "duration": 9,
    "start_time": "2022-05-06T16:56:12.292Z"
   },
   {
    "duration": 4,
    "start_time": "2022-05-06T16:56:12.936Z"
   },
   {
    "duration": 286,
    "start_time": "2022-05-06T16:56:17.728Z"
   },
   {
    "duration": 4,
    "start_time": "2022-05-06T16:56:32.568Z"
   },
   {
    "duration": 7,
    "start_time": "2022-05-06T16:56:33.432Z"
   },
   {
    "duration": 5,
    "start_time": "2022-05-06T16:56:34.170Z"
   },
   {
    "duration": 97,
    "start_time": "2022-05-06T16:56:56.065Z"
   },
   {
    "duration": 7,
    "start_time": "2022-05-06T16:57:19.829Z"
   },
   {
    "duration": 126,
    "start_time": "2022-05-06T16:57:25.772Z"
   },
   {
    "duration": 157,
    "start_time": "2022-05-06T17:00:15.807Z"
   },
   {
    "duration": 127,
    "start_time": "2022-05-06T17:04:34.844Z"
   },
   {
    "duration": 139,
    "start_time": "2022-05-06T17:05:15.561Z"
   },
   {
    "duration": 17,
    "start_time": "2022-05-06T17:06:13.266Z"
   },
   {
    "duration": 20,
    "start_time": "2022-05-06T17:06:43.442Z"
   },
   {
    "duration": 9,
    "start_time": "2022-05-06T17:06:50.289Z"
   },
   {
    "duration": 1575,
    "start_time": "2022-05-06T17:07:07.624Z"
   },
   {
    "duration": 75,
    "start_time": "2022-05-06T17:07:09.201Z"
   },
   {
    "duration": 12,
    "start_time": "2022-05-06T17:07:09.278Z"
   },
   {
    "duration": 13,
    "start_time": "2022-05-06T17:07:09.293Z"
   },
   {
    "duration": 14,
    "start_time": "2022-05-06T17:07:09.311Z"
   },
   {
    "duration": 9,
    "start_time": "2022-05-06T17:07:09.327Z"
   },
   {
    "duration": 10,
    "start_time": "2022-05-06T17:07:09.338Z"
   },
   {
    "duration": 3,
    "start_time": "2022-05-06T17:07:09.350Z"
   },
   {
    "duration": 10,
    "start_time": "2022-05-06T17:07:09.355Z"
   },
   {
    "duration": 315,
    "start_time": "2022-05-06T17:07:09.368Z"
   },
   {
    "duration": 1036,
    "start_time": "2022-05-06T17:07:09.684Z"
   },
   {
    "duration": 203,
    "start_time": "2022-05-06T17:07:10.722Z"
   },
   {
    "duration": 188,
    "start_time": "2022-05-06T17:07:10.927Z"
   },
   {
    "duration": 3,
    "start_time": "2022-05-06T17:07:11.117Z"
   },
   {
    "duration": 6,
    "start_time": "2022-05-06T17:07:11.122Z"
   },
   {
    "duration": 9,
    "start_time": "2022-05-06T17:07:11.130Z"
   },
   {
    "duration": 5,
    "start_time": "2022-05-06T17:07:11.141Z"
   },
   {
    "duration": 14,
    "start_time": "2022-05-06T17:07:11.148Z"
   },
   {
    "duration": 170,
    "start_time": "2022-05-06T17:07:11.164Z"
   },
   {
    "duration": 0,
    "start_time": "2022-05-06T17:07:11.336Z"
   },
   {
    "duration": 0,
    "start_time": "2022-05-06T17:07:11.337Z"
   },
   {
    "duration": 0,
    "start_time": "2022-05-06T17:07:11.338Z"
   },
   {
    "duration": 0,
    "start_time": "2022-05-06T17:07:11.339Z"
   },
   {
    "duration": 1,
    "start_time": "2022-05-06T17:07:11.340Z"
   },
   {
    "duration": 0,
    "start_time": "2022-05-06T17:07:11.341Z"
   },
   {
    "duration": 0,
    "start_time": "2022-05-06T17:07:11.342Z"
   },
   {
    "duration": 12,
    "start_time": "2022-05-06T17:07:35.719Z"
   },
   {
    "duration": 14,
    "start_time": "2022-05-06T17:08:03.029Z"
   },
   {
    "duration": 128,
    "start_time": "2022-05-06T17:08:06.021Z"
   },
   {
    "duration": 346282,
    "start_time": "2022-05-06T17:34:12.456Z"
   },
   {
    "duration": 16,
    "start_time": "2022-05-06T17:48:48.914Z"
   },
   {
    "duration": 10,
    "start_time": "2022-05-06T17:56:53.746Z"
   },
   {
    "duration": 325,
    "start_time": "2022-05-06T17:59:42.731Z"
   },
   {
    "duration": 4,
    "start_time": "2022-05-06T18:01:30.764Z"
   },
   {
    "duration": 15,
    "start_time": "2022-05-06T18:01:40.552Z"
   },
   {
    "duration": 18,
    "start_time": "2022-05-06T18:03:14.932Z"
   },
   {
    "duration": 14,
    "start_time": "2022-05-06T18:03:23.778Z"
   },
   {
    "duration": 340,
    "start_time": "2022-05-06T18:03:36.494Z"
   },
   {
    "duration": 19,
    "start_time": "2022-05-06T18:08:32.519Z"
   },
   {
    "duration": 2024,
    "start_time": "2022-05-06T18:08:37.537Z"
   },
   {
    "duration": 19,
    "start_time": "2022-05-06T18:09:15.501Z"
   },
   {
    "duration": 105299,
    "start_time": "2022-05-06T18:10:25.673Z"
   },
   {
    "duration": 97,
    "start_time": "2022-05-06T18:16:24.233Z"
   },
   {
    "duration": 36648,
    "start_time": "2022-05-06T18:16:36.186Z"
   },
   {
    "duration": 92,
    "start_time": "2022-05-06T18:19:52.546Z"
   },
   {
    "duration": 160179,
    "start_time": "2022-05-06T18:21:37.623Z"
   },
   {
    "duration": 1628258,
    "start_time": "2022-05-06T18:25:04.187Z"
   },
   {
    "duration": 107,
    "start_time": "2022-05-06T18:52:16.412Z"
   },
   {
    "duration": 6,
    "start_time": "2022-05-06T18:53:02.208Z"
   },
   {
    "duration": 2072,
    "start_time": "2022-05-06T18:53:09.536Z"
   },
   {
    "duration": 7518,
    "start_time": "2022-05-06T18:53:18.231Z"
   },
   {
    "duration": 16,
    "start_time": "2022-05-06T18:53:38.414Z"
   },
   {
    "duration": 303081,
    "start_time": "2022-05-06T18:53:46.550Z"
   },
   {
    "duration": 497,
    "start_time": "2022-05-06T18:58:58.289Z"
   },
   {
    "duration": 363214,
    "start_time": "2022-05-06T18:59:02.529Z"
   },
   {
    "duration": 268,
    "start_time": "2022-05-06T19:07:47.919Z"
   },
   {
    "duration": 1305,
    "start_time": "2022-05-06T19:07:57.271Z"
   },
   {
    "duration": 381,
    "start_time": "2022-05-06T19:08:04.664Z"
   },
   {
    "duration": 8835,
    "start_time": "2022-05-06T19:08:56.514Z"
   },
   {
    "duration": 35675,
    "start_time": "2022-05-06T19:09:17.586Z"
   },
   {
    "duration": 1853,
    "start_time": "2022-05-06T19:10:12.197Z"
   },
   {
    "duration": 258646,
    "start_time": "2022-05-06T19:10:18.765Z"
   },
   {
    "duration": 337005,
    "start_time": "2022-05-06T19:17:01.774Z"
   },
   {
    "duration": 2271536,
    "start_time": "2022-05-06T19:22:52.911Z"
   },
   {
    "duration": 82,
    "start_time": "2022-05-06T20:00:44.449Z"
   },
   {
    "duration": 1646,
    "start_time": "2022-05-06T20:02:47.515Z"
   },
   {
    "duration": 76,
    "start_time": "2022-05-06T20:02:49.163Z"
   },
   {
    "duration": 11,
    "start_time": "2022-05-06T20:02:49.241Z"
   },
   {
    "duration": 12,
    "start_time": "2022-05-06T20:02:49.254Z"
   },
   {
    "duration": 9,
    "start_time": "2022-05-06T20:02:49.268Z"
   },
   {
    "duration": 34,
    "start_time": "2022-05-06T20:02:49.279Z"
   },
   {
    "duration": 5,
    "start_time": "2022-05-06T20:02:49.318Z"
   },
   {
    "duration": 317,
    "start_time": "2022-05-06T20:02:49.325Z"
   },
   {
    "duration": 962,
    "start_time": "2022-05-06T20:02:49.643Z"
   },
   {
    "duration": 208,
    "start_time": "2022-05-06T20:02:50.609Z"
   },
   {
    "duration": 182,
    "start_time": "2022-05-06T20:02:50.821Z"
   },
   {
    "duration": 11,
    "start_time": "2022-05-06T20:02:51.007Z"
   },
   {
    "duration": 7,
    "start_time": "2022-05-06T20:02:51.020Z"
   },
   {
    "duration": 13,
    "start_time": "2022-05-06T20:02:51.029Z"
   }
  ],
  "kernelspec": {
   "display_name": "Python 3 (ipykernel)",
   "language": "python",
   "name": "python3"
  },
  "language_info": {
   "codemirror_mode": {
    "name": "ipython",
    "version": 3
   },
   "file_extension": ".py",
   "mimetype": "text/x-python",
   "name": "python",
   "nbconvert_exporter": "python",
   "pygments_lexer": "ipython3",
   "version": "3.9.7"
  },
  "toc": {
   "base_numbering": 1,
   "nav_menu": {},
   "number_sections": true,
   "sideBar": true,
   "skip_h1_title": true,
   "title_cell": "Содержание",
   "title_sidebar": "Contents",
   "toc_cell": true,
   "toc_position": {},
   "toc_section_display": true,
   "toc_window_display": false
  }
 },
 "nbformat": 4,
 "nbformat_minor": 2
}
