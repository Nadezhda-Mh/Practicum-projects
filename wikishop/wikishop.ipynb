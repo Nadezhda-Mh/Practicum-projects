{
 "cells": [
  {
   "cell_type": "markdown",
   "metadata": {
    "id": "Icajpg8iAO-9"
   },
   "source": [
    "# Проект для «Викишоп»"
   ]
  },
  {
   "cell_type": "markdown",
   "metadata": {
    "id": "NO1xINMZx4tX"
   },
   "source": [
    "## Подготовка"
   ]
  },
  {
   "cell_type": "code",
   "execution_count": 1,
   "metadata": {
    "colab": {
     "base_uri": "https://localhost:8080/"
    },
    "id": "d6pOinbbHIn9",
    "outputId": "36ce87bc-06f6-4512-e7f7-b547678459e0"
   },
   "outputs": [
    {
     "name": "stdout",
     "output_type": "stream",
     "text": [
      "Requirement already satisfied: catboost in /opt/conda/lib/python3.9/site-packages (1.0.3)\n",
      "Requirement already satisfied: graphviz in /opt/conda/lib/python3.9/site-packages (from catboost) (0.20)\n",
      "Requirement already satisfied: six in /opt/conda/lib/python3.9/site-packages (from catboost) (1.16.0)\n",
      "Requirement already satisfied: numpy>=1.16.0 in /opt/conda/lib/python3.9/site-packages (from catboost) (1.22.3)\n",
      "Requirement already satisfied: scipy in /opt/conda/lib/python3.9/site-packages (from catboost) (1.8.0)\n",
      "Requirement already satisfied: plotly in /opt/conda/lib/python3.9/site-packages (from catboost) (5.4.0)\n",
      "Requirement already satisfied: matplotlib in /opt/conda/lib/python3.9/site-packages (from catboost) (3.3.4)\n",
      "Requirement already satisfied: pandas>=0.24.0 in /opt/conda/lib/python3.9/site-packages (from catboost) (1.2.4)\n",
      "Requirement already satisfied: python-dateutil>=2.7.3 in /opt/conda/lib/python3.9/site-packages (from pandas>=0.24.0->catboost) (2.8.2)\n",
      "Requirement already satisfied: pytz>=2017.3 in /opt/conda/lib/python3.9/site-packages (from pandas>=0.24.0->catboost) (2021.3)\n",
      "Requirement already satisfied: cycler>=0.10 in /opt/conda/lib/python3.9/site-packages (from matplotlib->catboost) (0.11.0)\n",
      "Requirement already satisfied: kiwisolver>=1.0.1 in /opt/conda/lib/python3.9/site-packages (from matplotlib->catboost) (1.4.2)\n",
      "Requirement already satisfied: pillow>=6.2.0 in /opt/conda/lib/python3.9/site-packages (from matplotlib->catboost) (8.4.0)\n",
      "Requirement already satisfied: pyparsing!=2.0.4,!=2.1.2,!=2.1.6,>=2.0.3 in /opt/conda/lib/python3.9/site-packages (from matplotlib->catboost) (3.0.6)\n",
      "Requirement already satisfied: tenacity>=6.2.0 in /opt/conda/lib/python3.9/site-packages (from plotly->catboost) (8.0.1)\n",
      "Collecting optuna\n",
      "  Downloading optuna-2.10.0-py3-none-any.whl (308 kB)\n",
      "     |████████████████████████████████| 308 kB 1.1 MB/s            \n",
      "\u001b[?25hRequirement already satisfied: alembic in /opt/conda/lib/python3.9/site-packages (from optuna) (1.7.5)\n",
      "Requirement already satisfied: tqdm in /opt/conda/lib/python3.9/site-packages (from optuna) (4.62.3)\n",
      "Collecting colorlog\n",
      "  Downloading colorlog-6.6.0-py2.py3-none-any.whl (11 kB)\n",
      "Requirement already satisfied: PyYAML in /opt/conda/lib/python3.9/site-packages (from optuna) (6.0)\n",
      "Requirement already satisfied: numpy in /opt/conda/lib/python3.9/site-packages (from optuna) (1.22.3)\n",
      "Requirement already satisfied: sqlalchemy>=1.1.0 in /opt/conda/lib/python3.9/site-packages (from optuna) (1.4.27)\n",
      "Requirement already satisfied: scipy!=1.4.0 in /opt/conda/lib/python3.9/site-packages (from optuna) (1.8.0)\n",
      "Collecting cliff\n",
      "  Downloading cliff-3.10.1-py3-none-any.whl (81 kB)\n",
      "     |████████████████████████████████| 81 kB 4.1 MB/s             \n",
      "\u001b[?25hRequirement already satisfied: packaging>=20.0 in /opt/conda/lib/python3.9/site-packages (from optuna) (21.3)\n",
      "Collecting cmaes>=0.8.2\n",
      "  Downloading cmaes-0.8.2-py3-none-any.whl (15 kB)\n",
      "Requirement already satisfied: pyparsing!=3.0.5,>=2.0.2 in /opt/conda/lib/python3.9/site-packages (from packaging>=20.0->optuna) (3.0.6)\n",
      "Requirement already satisfied: greenlet!=0.4.17 in /opt/conda/lib/python3.9/site-packages (from sqlalchemy>=1.1.0->optuna) (1.1.2)\n",
      "Requirement already satisfied: Mako in /opt/conda/lib/python3.9/site-packages (from alembic->optuna) (1.1.6)\n",
      "Collecting pbr!=2.1.0,>=2.0.0\n",
      "  Downloading pbr-5.9.0-py2.py3-none-any.whl (112 kB)\n",
      "     |████████████████████████████████| 112 kB 19.1 MB/s            \n",
      "\u001b[?25hCollecting PrettyTable>=0.7.2\n",
      "  Downloading prettytable-3.3.0-py3-none-any.whl (26 kB)\n",
      "Collecting stevedore>=2.0.1\n",
      "  Downloading stevedore-3.5.0-py3-none-any.whl (49 kB)\n",
      "     |████████████████████████████████| 49 kB 7.1 MB/s             \n",
      "\u001b[?25hCollecting autopage>=0.4.0\n",
      "  Downloading autopage-0.5.0-py3-none-any.whl (29 kB)\n",
      "Collecting cmd2>=1.0.0\n",
      "  Downloading cmd2-2.4.1-py3-none-any.whl (146 kB)\n",
      "     |████████████████████████████████| 146 kB 19.2 MB/s            \n",
      "\u001b[?25hCollecting pyperclip>=1.6\n",
      "  Downloading pyperclip-1.8.2.tar.gz (20 kB)\n",
      "  Preparing metadata (setup.py) ... \u001b[?25ldone\n",
      "\u001b[?25hRequirement already satisfied: attrs>=16.3.0 in /opt/conda/lib/python3.9/site-packages (from cmd2>=1.0.0->cliff->optuna) (21.2.0)\n",
      "Requirement already satisfied: wcwidth>=0.1.7 in /opt/conda/lib/python3.9/site-packages (from cmd2>=1.0.0->cliff->optuna) (0.2.5)\n",
      "Requirement already satisfied: MarkupSafe>=0.9.2 in /opt/conda/lib/python3.9/site-packages (from Mako->alembic->optuna) (2.0.1)\n",
      "Building wheels for collected packages: pyperclip\n",
      "  Building wheel for pyperclip (setup.py) ... \u001b[?25ldone\n",
      "\u001b[?25h  Created wheel for pyperclip: filename=pyperclip-1.8.2-py3-none-any.whl size=11136 sha256=47cdd52efe8fdab5cccfda436baaa163cfd34a1d8d69d85981a16828e93628f2\n",
      "  Stored in directory: /home/jovyan/.cache/pip/wheels/0c/09/9e/49e21a6840ef7955b06d47394afef0058f0378c0914e48b8b8\n",
      "Successfully built pyperclip\n",
      "Installing collected packages: pyperclip, pbr, stevedore, PrettyTable, cmd2, autopage, colorlog, cmaes, cliff, optuna\n",
      "Successfully installed PrettyTable-3.3.0 autopage-0.5.0 cliff-3.10.1 cmaes-0.8.2 cmd2-2.4.1 colorlog-6.6.0 optuna-2.10.0 pbr-5.9.0 pyperclip-1.8.2 stevedore-3.5.0\n"
     ]
    },
    {
     "name": "stderr",
     "output_type": "stream",
     "text": [
      "[nltk_data] Downloading package punkt to /home/jovyan/nltk_data...\n",
      "[nltk_data]   Package punkt is already up-to-date!\n",
      "[nltk_data] Downloading package wordnet to /home/jovyan/nltk_data...\n",
      "[nltk_data]   Package wordnet is already up-to-date!\n",
      "[nltk_data] Downloading package stopwords to /home/jovyan/nltk_data...\n",
      "[nltk_data]   Package stopwords is already up-to-date!\n"
     ]
    }
   ],
   "source": [
    "# импорт библиотек\n",
    "!pip3 install catboost\n",
    "! pip install optuna\n",
    "import optuna\n",
    "import pandas as pd\n",
    "import numpy as np\n",
    "import re\n",
    "import nltk\n",
    "from nltk.corpus import stopwords as nltk_stopwords\n",
    "from nltk.stem import WordNetLemmatizer\n",
    "from sklearn.feature_extraction.text import TfidfVectorizer\n",
    "from sklearn.model_selection import train_test_split, cross_val_score\n",
    "from sklearn.pipeline import Pipeline\n",
    "from sklearn.linear_model import LogisticRegression, SGDClassifier\n",
    "from sklearn.tree import DecisionTreeClassifier\n",
    "from catboost import CatBoostClassifier\n",
    "from sklearn.metrics import f1_score\n",
    "\n",
    "nltk.download('punkt')\n",
    "nltk.download('wordnet')\n",
    "nltk.download('stopwords')\n",
    "import warnings\n",
    "warnings.filterwarnings('ignore')"
   ]
  },
  {
   "cell_type": "code",
   "execution_count": 4,
   "metadata": {
    "colab": {
     "base_uri": "https://localhost:8080/"
    },
    "id": "b7BmBaM_H6v0",
    "outputId": "0b10e80a-13bc-4f5d-f5c1-0d9b4f35bc93"
   },
   "outputs": [
    {
     "ename": "ModuleNotFoundError",
     "evalue": "No module named 'google.colab'",
     "output_type": "error",
     "traceback": [
      "\u001b[0;31m---------------------------------------------------------------------------\u001b[0m",
      "\u001b[0;31mModuleNotFoundError\u001b[0m                       Traceback (most recent call last)",
      "\u001b[0;32m/tmp/ipykernel_24/2351450606.py\u001b[0m in \u001b[0;36m<module>\u001b[0;34m\u001b[0m\n\u001b[1;32m      1\u001b[0m \u001b[0;31m# подключение Google Диск к Google Colab\u001b[0m\u001b[0;34m\u001b[0m\u001b[0;34m\u001b[0m\u001b[0m\n\u001b[0;32m----> 2\u001b[0;31m \u001b[0;32mfrom\u001b[0m \u001b[0mgoogle\u001b[0m\u001b[0;34m.\u001b[0m\u001b[0mcolab\u001b[0m \u001b[0;32mimport\u001b[0m \u001b[0mdrive\u001b[0m\u001b[0;34m\u001b[0m\u001b[0;34m\u001b[0m\u001b[0m\n\u001b[0m\u001b[1;32m      3\u001b[0m \u001b[0mdrive\u001b[0m\u001b[0;34m.\u001b[0m\u001b[0mmount\u001b[0m\u001b[0;34m(\u001b[0m\u001b[0;34m'/content/drive'\u001b[0m\u001b[0;34m)\u001b[0m\u001b[0;34m\u001b[0m\u001b[0;34m\u001b[0m\u001b[0m\n",
      "\u001b[0;31mModuleNotFoundError\u001b[0m: No module named 'google.colab'"
     ]
    }
   ],
   "source": [
    "# подключение Google Диск к Google Colab\n",
    "from google.colab import drive\n",
    "drive.mount('/content/drive')"
   ]
  },
  {
   "cell_type": "code",
   "execution_count": 2,
   "metadata": {
    "id": "dhQKSHQtwJDu"
   },
   "outputs": [],
   "source": [
    "# чтение файла с данными и сохранение в df с использованием конструкции try-except\n",
    "try:\n",
    "  df = pd.read_csv('https://code.s3.yandex.net/datasets/toxic_comments.csv')\n",
    "except:\n",
    "  df = pd.read_csv('/content/drive/MyDrive/toxic_comments.csv')"
   ]
  },
  {
   "cell_type": "code",
   "execution_count": 6,
   "metadata": {
    "colab": {
     "base_uri": "https://localhost:8080/"
    },
    "id": "SFfhnNWPJuJz",
    "outputId": "10782373-fdc9-464a-f381-a3c55d566eb5"
   },
   "outputs": [
    {
     "name": "stdout",
     "output_type": "stream",
     "text": [
      "<class 'pandas.core.frame.DataFrame'>\n",
      "RangeIndex: 159571 entries, 0 to 159570\n",
      "Data columns (total 2 columns):\n",
      " #   Column  Non-Null Count   Dtype \n",
      "---  ------  --------------   ----- \n",
      " 0   text    159571 non-null  object\n",
      " 1   toxic   159571 non-null  int64 \n",
      "dtypes: int64(1), object(1)\n",
      "memory usage: 2.4+ MB\n"
     ]
    }
   ],
   "source": [
    "# получение общей информации о данных в таблице df\n",
    "df.info()"
   ]
  },
  {
   "cell_type": "code",
   "execution_count": 7,
   "metadata": {
    "colab": {
     "base_uri": "https://localhost:8080/",
     "height": 206
    },
    "id": "yNHdeIk1R9Li",
    "outputId": "37ef59ce-358f-4915-c397-1a00d660221c"
   },
   "outputs": [
    {
     "data": {
      "text/html": [
       "<div>\n",
       "<style scoped>\n",
       "    .dataframe tbody tr th:only-of-type {\n",
       "        vertical-align: middle;\n",
       "    }\n",
       "\n",
       "    .dataframe tbody tr th {\n",
       "        vertical-align: top;\n",
       "    }\n",
       "\n",
       "    .dataframe thead th {\n",
       "        text-align: right;\n",
       "    }\n",
       "</style>\n",
       "<table border=\"1\" class=\"dataframe\">\n",
       "  <thead>\n",
       "    <tr style=\"text-align: right;\">\n",
       "      <th></th>\n",
       "      <th>text</th>\n",
       "      <th>toxic</th>\n",
       "    </tr>\n",
       "  </thead>\n",
       "  <tbody>\n",
       "    <tr>\n",
       "      <th>0</th>\n",
       "      <td>Explanation\\nWhy the edits made under my usern...</td>\n",
       "      <td>0</td>\n",
       "    </tr>\n",
       "    <tr>\n",
       "      <th>1</th>\n",
       "      <td>D'aww! He matches this background colour I'm s...</td>\n",
       "      <td>0</td>\n",
       "    </tr>\n",
       "    <tr>\n",
       "      <th>2</th>\n",
       "      <td>Hey man, I'm really not trying to edit war. It...</td>\n",
       "      <td>0</td>\n",
       "    </tr>\n",
       "    <tr>\n",
       "      <th>3</th>\n",
       "      <td>\"\\nMore\\nI can't make any real suggestions on ...</td>\n",
       "      <td>0</td>\n",
       "    </tr>\n",
       "    <tr>\n",
       "      <th>4</th>\n",
       "      <td>You, sir, are my hero. Any chance you remember...</td>\n",
       "      <td>0</td>\n",
       "    </tr>\n",
       "  </tbody>\n",
       "</table>\n",
       "</div>"
      ],
      "text/plain": [
       "                                                text  toxic\n",
       "0  Explanation\\nWhy the edits made under my usern...      0\n",
       "1  D'aww! He matches this background colour I'm s...      0\n",
       "2  Hey man, I'm really not trying to edit war. It...      0\n",
       "3  \"\\nMore\\nI can't make any real suggestions on ...      0\n",
       "4  You, sir, are my hero. Any chance you remember...      0"
      ]
     },
     "execution_count": 7,
     "metadata": {},
     "output_type": "execute_result"
    }
   ],
   "source": [
    "# просмотр первых 5 строк таблицы df\n",
    "df.head()"
   ]
  },
  {
   "cell_type": "code",
   "execution_count": 8,
   "metadata": {
    "colab": {
     "base_uri": "https://localhost:8080/",
     "height": 264
    },
    "id": "D0wmZT1fSBxo",
    "outputId": "bc5a9f5d-12b7-499d-dbe1-68c0d5074c75"
   },
   "outputs": [
    {
     "data": {
      "image/png": "[encoded data removed]",
      "text/plain": [
       "<Figure size 432x288 with 1 Axes>"
      ]
     },
     "metadata": {},
     "output_type": "display_data"
    }
   ],
   "source": [
    "# визуализация распределения столбца toxic\n",
    "df['toxic'].value_counts().plot(kind='pie', title='Toxic comments', autopct='%1.0f%%');"
   ]
  },
  {
   "cell_type": "markdown",
   "metadata": {
    "id": "SEWeL-chAc89"
   },
   "source": [
    "Наблюдается дисбаланс классов, так как токсичных комментариев существенно меньше позитивных."
   ]
  },
  {
   "cell_type": "code",
   "execution_count": 3,
   "metadata": {
    "colab": {
     "base_uri": "https://localhost:8080/"
    },
    "id": "NMpbWx2pD5RT",
    "outputId": "b914bd44-5240-47b1-eff0-f645a6764322"
   },
   "outputs": [
    {
     "name": "stdout",
     "output_type": "stream",
     "text": [
      "Explanation\n",
      "Why the edits made under my username Hardcore Metallica Fan were reverted? They weren't vandalisms, just closure on some GAs after I voted at New York Dolls FAC. And please don't remove the template from the talk page since I'm retired now.89.205.38.27\n",
      "\n",
      "Explanation Why the edits made under my username Hardcore Metallica Fan were reverted They were n t vandalism just closure on some GAs after I voted at New York Dolls FAC And please do n t remove the template from the talk page since I m retired now\n"
     ]
    }
   ],
   "source": [
    "# создание функции лемматизации и очистки текста\n",
    "def lemmatize_clear(text): \n",
    "    tokens = nltk.word_tokenize(text) # разбиваем текст комментария на слова\n",
    "    lemmatizer = WordNetLemmatizer()                                        # cоздаем экземпляр WordNetLemmatizer()\n",
    "    token_lem = ' '.join([lemmatizer.lemmatize(token) for token in tokens]) # вызываем функцию lemmatize() для каждого слова\n",
    "    clear_text = ' '.join(re.sub(r'[^a-zA-Z]', ' ', token_lem).split()) # очищаем лемматизированный текст\n",
    "    return clear_text\n",
    "\n",
    "# очищаем и лемматизируем текст\n",
    "corpus = []\n",
    "for comment in df['text']: \n",
    "    corpus.append(lemmatize_clear(comment))\n",
    "\n",
    "print(df['text'][0])\n",
    "print('')\n",
    "print(corpus[0])"
   ]
  },
  {
   "cell_type": "code",
   "execution_count": 4,
   "metadata": {
    "id": "6edjKungTZ8e"
   },
   "outputs": [],
   "source": [
    "# создание переменных с целевым признаком и признаками\n",
    "features = corpus\n",
    "target = df['toxic']\n",
    "\n",
    "# разделение данных на обучающую и тестовую выборки\n",
    "features_train, features_test, target_train, target_test = train_test_split(features, target, test_size=0.25, random_state=12345)"
   ]
  },
  {
   "cell_type": "code",
   "execution_count": 5,
   "metadata": {
    "id": "Tv8oAxqrTvAc"
   },
   "outputs": [],
   "source": [
    "# вычисление TF-IDF для обучающей и тестовой выборок\n",
    "stopwords = set(nltk_stopwords.words('english'))\n",
    "\n",
    "count_tf_idf = TfidfVectorizer(stop_words=stopwords)\n",
    "\n",
    "features_train = count_tf_idf.fit_transform(features_train)\n",
    "features_test = count_tf_idf.transform(features_test)"
   ]
  },
  {
   "cell_type": "markdown",
   "metadata": {
    "id": "5E7NphatyPxA"
   },
   "source": [
    "## Обучение"
   ]
  },
  {
   "cell_type": "code",
   "execution_count": 18,
   "metadata": {
    "colab": {
     "base_uri": "https://localhost:8080/"
    },
    "id": "qQdd8ru_E-nY",
    "outputId": "b131cd49-622d-4bf4-992d-8b98381b4769",
    "scrolled": true
   },
   "outputs": [
    {
     "name": "stderr",
     "output_type": "stream",
     "text": [
      "\u001b[32m[I 2022-05-18 19:17:31,724]\u001b[0m A new study created in memory with name: no-name-daef3e72-8099-4346-85a8-4e5442a60750\u001b[0m\n",
      "\u001b[32m[I 2022-05-18 19:17:40,905]\u001b[0m Trial 0 finished with value: 0.7277096437924673 and parameters: {'logreg_c': 0.3412978281559831}. Best is trial 0 with value: 0.7277096437924673.\u001b[0m\n",
      "\u001b[32m[I 2022-05-18 19:18:03,894]\u001b[0m Trial 1 finished with value: 0.7602330444881803 and parameters: {'logreg_c': 11.120778556887993}. Best is trial 1 with value: 0.7602330444881803.\u001b[0m\n",
      "\u001b[32m[I 2022-05-18 19:18:13,004]\u001b[0m Trial 2 finished with value: 0.7181912213920331 and parameters: {'logreg_c': 0.2023854291144516}. Best is trial 1 with value: 0.7602330444881803.\u001b[0m\n",
      "\u001b[32m[I 2022-05-18 19:18:35,438]\u001b[0m Trial 3 finished with value: 0.7493694726840036 and parameters: {'logreg_c': 66.60458357095095}. Best is trial 1 with value: 0.7602330444881803.\u001b[0m\n",
      "\u001b[32m[I 2022-05-18 19:18:41,984]\u001b[0m Trial 4 finished with value: 0.7075997478367493 and parameters: {'logreg_c': 0.12485000221902413}. Best is trial 1 with value: 0.7602330444881803.\u001b[0m\n"
     ]
    },
    {
     "name": "stdout",
     "output_type": "stream",
     "text": [
      "\n",
      "The best value is : \n",
      "0.7602330444881803\n",
      "The best parameters are : \n",
      "{'logreg_c': 11.120778556887993}\n"
     ]
    }
   ],
   "source": [
    "# LogisticRegression\n",
    "\n",
    "def objective(trial):\n",
    "  logreg_c = trial.suggest_float('logreg_c', 0.1, 100, log=True)\n",
    "  LR = LogisticRegression(random_state=12345, class_weight='balanced', C=logreg_c)\n",
    "  score = (cross_val_score(LR, features_train, target_train, n_jobs=-1, cv=5, scoring='f1')).mean()\n",
    "  return score\n",
    "\n",
    "study = optuna.create_study(direction='maximize')\n",
    "study.optimize(objective, n_trials=5)\n",
    "\n",
    "print('')\n",
    "print(f'The best value is : \\n{study.best_value}')\n",
    "print(f'The best parameters are : \\n{study.best_params}')"
   ]
  },
  {
   "cell_type": "code",
   "execution_count": 11,
   "metadata": {
    "colab": {
     "base_uri": "https://localhost:8080/"
    },
    "id": "zJ4r3uIBJ3BA",
    "outputId": "e8f80b04-3b0b-4cc2-b313-4c710f5b2403"
   },
   "outputs": [
    {
     "name": "stderr",
     "output_type": "stream",
     "text": [
      "\u001b[32m[I 2022-05-18 18:12:57,619]\u001b[0m A new study created in memory with name: no-name-85d78d6a-8f6c-49c0-8a16-b7fba8db3f78\u001b[0m\n",
      "\u001b[32m[I 2022-05-18 18:14:17,510]\u001b[0m Trial 0 finished with value: 0.5892351130975655 and parameters: {'depth': 20, 'min_samples_split': 4, 'min_samples_leaf': 12}. Best is trial 0 with value: 0.5892351130975655.\u001b[0m\n",
      "\u001b[32m[I 2022-05-18 18:16:22,966]\u001b[0m Trial 1 finished with value: 0.5955528254685809 and parameters: {'depth': 40, 'min_samples_split': 11, 'min_samples_leaf': 8}. Best is trial 1 with value: 0.5955528254685809.\u001b[0m\n",
      "\u001b[32m[I 2022-05-18 18:17:44,852]\u001b[0m Trial 2 finished with value: 0.5956486202676156 and parameters: {'depth': 20, 'min_samples_split': 7, 'min_samples_leaf': 4}. Best is trial 2 with value: 0.5956486202676156.\u001b[0m\n",
      "\u001b[32m[I 2022-05-18 18:19:34,384]\u001b[0m Trial 3 finished with value: 0.6182797368062599 and parameters: {'depth': 32, 'min_samples_split': 20, 'min_samples_leaf': 3}. Best is trial 3 with value: 0.6182797368062599.\u001b[0m\n",
      "\u001b[32m[I 2022-05-18 18:20:49,872]\u001b[0m Trial 4 finished with value: 0.5810370200607307 and parameters: {'depth': 18, 'min_samples_split': 16, 'min_samples_leaf': 2}. Best is trial 3 with value: 0.6182797368062599.\u001b[0m\n"
     ]
    },
    {
     "name": "stdout",
     "output_type": "stream",
     "text": [
      "\n",
      "The best value is : \n",
      "0.6182797368062599\n",
      "The best parameters are : \n",
      "{'depth': 32, 'min_samples_split': 20, 'min_samples_leaf': 3}\n"
     ]
    }
   ],
   "source": [
    "# DecisionTreeClassifier\n",
    "\n",
    "def objective(trial):\n",
    "  depth = trial.suggest_int('depth', 10, 60)\n",
    "  min_samples_split = trial.suggest_int('min_samples_split', 2, 20)\n",
    "  min_samples_leaf = trial.suggest_int('min_samples_leaf', 2, 20)\n",
    "  tree = DecisionTreeClassifier(random_state=12345, class_weight='balanced', max_depth=depth, min_samples_split=min_samples_split, min_samples_leaf=min_samples_leaf)\n",
    "  score = (cross_val_score(tree, features_train, target_train, n_jobs=-1, cv=5, scoring='f1')).mean()\n",
    "  return score\n",
    "\n",
    "study = optuna.create_study(direction='maximize')\n",
    "study.optimize(objective, n_trials=5)\n",
    "\n",
    "print('')\n",
    "print(f'The best value is : \\n{study.best_value}')\n",
    "print(f'The best parameters are : \\n{study.best_params}')"
   ]
  },
  {
   "cell_type": "code",
   "execution_count": null,
   "metadata": {
    "colab": {
     "base_uri": "https://localhost:8080/"
    },
    "id": "1SySDoyqggzL",
    "outputId": "33933e2a-99d4-4924-e898-8dfde9c03796"
   },
   "outputs": [
    {
     "name": "stderr",
     "output_type": "stream",
     "text": [
      "\u001b[32m[I 2022-05-19 18:23:22,645]\u001b[0m A new study created in memory with name: no-name-ebdc3eb9-636b-4fb2-80bf-d810635d0dce\u001b[0m\n"
     ]
    }
   ],
   "source": [
    "# CatBoostClassifier\n",
    "def objective(trial):\n",
    "    learning_rate = trial.suggest_float('learning_rate', 0.1, 0.4)\n",
    "    ctbst = CatBoostClassifier(verbose=False, loss_function='Logloss', learning_rate=learning_rate, task_type='GPU')\n",
    "    score = (cross_val_score(ctbst, features_train, target_train, cv=3, scoring='f1')).mean()\n",
    "    return score\n",
    "\n",
    "study = optuna.create_study(direction='maximize')\n",
    "study.optimize(objective, n_trials=4)\n",
    "\n",
    "print('')\n",
    "print(f'The best parameters are : \\n{study.best_params}')"
   ]
  },
  {
   "cell_type": "code",
   "execution_count": 14,
   "metadata": {
    "colab": {
     "base_uri": "https://localhost:8080/"
    },
    "id": "n7Xf6Z0yoUHH",
    "outputId": "13d6d03a-4a66-41e6-9a94-81f623f3c217"
   },
   "outputs": [
    {
     "name": "stderr",
     "output_type": "stream",
     "text": [
      "\u001b[32m[I 2022-05-18 19:14:34,681]\u001b[0m A new study created in memory with name: no-name-812821cc-bf9e-40c0-9914-05494daf6de7\u001b[0m\n",
      "\u001b[32m[I 2022-05-18 19:14:38,902]\u001b[0m Trial 0 finished with value: 0.7314271629291681 and parameters: {'eta0': 0.9086680268203222}. Best is trial 0 with value: 0.7314271629291681.\u001b[0m\n",
      "\u001b[32m[I 2022-05-18 19:14:40,616]\u001b[0m Trial 1 finished with value: 0.7314271629291681 and parameters: {'eta0': 0.6803062067800164}. Best is trial 0 with value: 0.7314271629291681.\u001b[0m\n",
      "\u001b[32m[I 2022-05-18 19:14:42,321]\u001b[0m Trial 2 finished with value: 0.7314271629291681 and parameters: {'eta0': 0.5426140144358418}. Best is trial 0 with value: 0.7314271629291681.\u001b[0m\n",
      "\u001b[32m[I 2022-05-18 19:14:44,063]\u001b[0m Trial 3 finished with value: 0.7314271629291681 and parameters: {'eta0': 0.8633582416189232}. Best is trial 0 with value: 0.7314271629291681.\u001b[0m\n",
      "\u001b[32m[I 2022-05-18 19:14:45,800]\u001b[0m Trial 4 finished with value: 0.7314271629291681 and parameters: {'eta0': 0.9135996895648704}. Best is trial 0 with value: 0.7314271629291681.\u001b[0m\n"
     ]
    },
    {
     "name": "stdout",
     "output_type": "stream",
     "text": [
      "\n",
      "The best value is : \n",
      "0.7314271629291681\n",
      "The best parameters are : \n",
      "{'eta0': 0.9086680268203222}\n"
     ]
    }
   ],
   "source": [
    "# SGDClassifier\n",
    "def objective(trial):\n",
    "  eta0 = trial.suggest_float('eta0', 0.01, 1)\n",
    "\n",
    "  SGD = SGDClassifier(random_state=12345, class_weight='balanced', eta0=eta0)\n",
    "  score = (cross_val_score(SGD, features_train, target_train, n_jobs=-1, cv=5, scoring='f1')).mean()\n",
    "  return score\n",
    "\n",
    "study = optuna.create_study(direction='maximize')\n",
    "study.optimize(objective, n_trials=5)\n",
    "\n",
    "print('')\n",
    "print(f'The best value is : \\n{study.best_value}')\n",
    "print(f'The best parameters are : \\n{study.best_params}')"
   ]
  },
  {
   "cell_type": "markdown",
   "metadata": {
    "id": "PZv8mWfxyao-"
   },
   "source": [
    "## Выводы"
   ]
  },
  {
   "cell_type": "markdown",
   "metadata": {
    "id": "sxeqcF2iMsrT"
   },
   "source": [
    "Было обучено 4 модели: LogisticRegression, CatBoostClassifier, SGDClassifier и DecisionTreeClassifier. Лучшее значение метрики f1 показала логистическая регрессия. Проверим, какое значение данная модель покажет на тестовой выборке."
   ]
  },
  {
   "cell_type": "code",
   "execution_count": 15,
   "metadata": {
    "colab": {
     "base_uri": "https://localhost:8080/"
    },
    "id": "T3LhF0_2rH52",
    "outputId": "d528d85a-a73a-445c-d84a-eb1dfe99966a"
   },
   "outputs": [
    {
     "name": "stdout",
     "output_type": "stream",
     "text": [
      "0.7630911188004613\n"
     ]
    }
   ],
   "source": [
    "model = LogisticRegression(random_state=12345, class_weight='balanced', C=22.274927408131955)\n",
    "\n",
    "model.fit(features_train, target_train)\n",
    "predictions = model.predict(features_test)\n",
    "\n",
    "print(f1_score(target_test, predictions))"
   ]
  },
  {
   "cell_type": "markdown",
   "metadata": {
    "id": "dWZ1NAGJT0pT"
   },
   "source": [
    "Таким образом, на тестовых данных значение метрики оказалось чуть выше и составила 0.76"
   ]
  },
  {
   "cell_type": "code",
   "execution_count": null,
   "metadata": {
    "id": "BlFSJ1ayyjtZ"
   },
   "outputs": [],
   "source": []
  }
 ],
 "metadata": {
  "ExecuteTimeLog": [
   {
    "duration": 84,
    "start_time": "2022-05-19T17:19:05.960Z"
   },
   {
    "duration": 2445,
    "start_time": "2022-05-19T17:19:12.297Z"
   },
   {
    "duration": 10635,
    "start_time": "2022-05-19T17:19:24.907Z"
   },
   {
    "duration": 184,
    "start_time": "2022-05-19T17:19:39.830Z"
   },
   {
    "duration": 2206,
    "start_time": "2022-05-19T17:19:48.698Z"
   },
   {
    "duration": 41,
    "start_time": "2022-05-19T17:19:52.198Z"
   },
   {
    "duration": 12,
    "start_time": "2022-05-19T17:19:54.305Z"
   },
   {
    "duration": 112,
    "start_time": "2022-05-19T17:19:56.757Z"
   },
   {
    "duration": 150468,
    "start_time": "2022-05-19T17:20:13.498Z"
   },
   {
    "duration": 97,
    "start_time": "2022-05-19T17:22:43.969Z"
   },
   {
    "duration": 7871,
    "start_time": "2022-05-19T17:22:44.068Z"
   },
   {
    "duration": 516,
    "start_time": "2022-05-19T17:23:15.932Z"
   },
   {
    "duration": 468,
    "start_time": "2022-05-19T17:23:34.050Z"
   },
   {
    "duration": 454,
    "start_time": "2022-05-19T17:23:49.578Z"
   },
   {
    "duration": 460,
    "start_time": "2022-05-19T17:24:44.983Z"
   },
   {
    "duration": 457,
    "start_time": "2022-05-19T17:25:05.948Z"
   },
   {
    "duration": 15,
    "start_time": "2022-05-19T17:32:58.390Z"
   },
   {
    "duration": 47,
    "start_time": "2022-05-19T17:34:11.599Z"
   },
   {
    "duration": 39,
    "start_time": "2022-05-19T17:39:57.587Z"
   },
   {
    "duration": 13,
    "start_time": "2022-05-19T18:11:08.491Z"
   },
   {
    "duration": 4,
    "start_time": "2022-05-19T18:11:26.466Z"
   },
   {
    "duration": 13,
    "start_time": "2022-05-19T18:11:59.460Z"
   },
   {
    "duration": 5,
    "start_time": "2022-05-19T18:12:12.420Z"
   },
   {
    "duration": 4,
    "start_time": "2022-05-19T18:18:04.772Z"
   },
   {
    "duration": 11571,
    "start_time": "2022-05-21T18:00:49.641Z"
   },
   {
    "duration": 2180,
    "start_time": "2022-05-21T18:01:01.215Z"
   },
   {
    "duration": 144006,
    "start_time": "2022-05-21T18:01:12.920Z"
   },
   {
    "duration": 60,
    "start_time": "2022-05-21T18:03:36.932Z"
   },
   {
    "duration": 6959,
    "start_time": "2022-05-21T18:03:36.993Z"
   },
   {
    "duration": 197,
    "start_time": "2022-05-21T18:08:11.175Z"
   },
   {
    "duration": 32,
    "start_time": "2022-05-21T18:08:38.459Z"
   },
   {
    "duration": 5,
    "start_time": "2022-05-21T18:10:38.807Z"
   },
   {
    "duration": 25,
    "start_time": "2022-05-21T18:11:22.541Z"
   },
   {
    "duration": 35,
    "start_time": "2022-05-21T18:12:19.306Z"
   },
   {
    "duration": 41,
    "start_time": "2022-05-21T18:13:10.754Z"
   },
   {
    "duration": 419,
    "start_time": "2022-05-21T18:14:08.247Z"
   },
   {
    "duration": 464,
    "start_time": "2022-05-21T18:15:14.112Z"
   },
   {
    "duration": 7,
    "start_time": "2022-05-21T18:20:46.902Z"
   },
   {
    "duration": 396,
    "start_time": "2022-05-21T18:21:00.344Z"
   },
   {
    "duration": 465,
    "start_time": "2022-05-21T18:21:09.750Z"
   }
  ],
  "accelerator": "GPU",
  "colab": {
   "collapsed_sections": [],
   "name": "Махова Викишоп.ipynb",
   "provenance": []
  },
  "kernelspec": {
   "display_name": "Python 3 (ipykernel)",
   "language": "python",
   "name": "python3"
  },
  "language_info": {
   "codemirror_mode": {
    "name": "ipython",
    "version": 3
   },
   "file_extension": ".py",
   "mimetype": "text/x-python",
   "name": "python",
   "nbconvert_exporter": "python",
   "pygments_lexer": "ipython3",
   "version": "3.9.7"
  },
  "toc": {
   "base_numbering": 1,
   "nav_menu": {},
   "number_sections": true,
   "sideBar": true,
   "skip_h1_title": true,
   "title_cell": "Table of Contents",
   "title_sidebar": "Contents",
   "toc_cell": false,
   "toc_position": {},
   "toc_section_display": true,
   "toc_window_display": false
  }
 },
 "nbformat": 4,
 "nbformat_minor": 1
}
