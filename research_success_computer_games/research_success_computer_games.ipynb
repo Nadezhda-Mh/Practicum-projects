{
 "cells": [
  {
   "cell_type": "markdown",
   "metadata": {},
   "source": [
    "# Сборный проект"
   ]
  },
  {
   "cell_type": "markdown",
   "metadata": {},
   "source": [
    "# Описание данных\n",
    "* Name — название игры\n",
    "* Platform — платформа\n",
    "* Year_of_Release — год выпуска\n",
    "* Genre — жанр игры\n",
    "* NA_sales — продажи в Северной Америке (миллионы проданных копий)\n",
    "* EU_sales — продажи в Европе (миллионы проданных копий)\n",
    "* JP_sales — продажи в Японии (миллионы проданных копий)\n",
    "* Other_sales — продажи в других странах (миллионы проданных копий)\n",
    "* Critic_Score — оценка критиков (максимум 100)\n",
    "* User_Score — оценка пользователей (максимум 10)\n",
    "* Rating — рейтинг от организации ESRB (англ. Entertainment Software Rating Board). Эта ассоциация определяет рейтинг компьютерных игр и присваивает им подходящую возрастную категорию."
   ]
  },
  {
   "cell_type": "markdown",
   "metadata": {},
   "source": [
    "## Изучение данных из файла"
   ]
  },
  {
   "cell_type": "code",
   "execution_count": 1,
   "metadata": {},
   "outputs": [],
   "source": [
    "# импорт библиотек\n",
    "import pandas as pd\n",
    "import numpy as np\n",
    "import matplotlib.pyplot as plt\n",
    "import seaborn as sns\n",
    "from scipy import stats as st"
   ]
  },
  {
   "cell_type": "code",
   "execution_count": 2,
   "metadata": {},
   "outputs": [],
   "source": [
    "# чтение файла с данными и сохранение в df с использованием конструкции try-except\n",
    "try:\n",
    "    df = pd.read_csv('C:/Users/datasets/games.csv')  # локальный путь\n",
    "except:\n",
    "    df = pd.read_csv('/datasets/games.csv')  # серверный путь"
   ]
  },
  {
   "cell_type": "code",
   "execution_count": 3,
   "metadata": {},
   "outputs": [
    {
     "data": {
      "text/html": [
       "<div>\n",
       "<style scoped>\n",
       "    .dataframe tbody tr th:only-of-type {\n",
       "        vertical-align: middle;\n",
       "    }\n",
       "\n",
       "    .dataframe tbody tr th {\n",
       "        vertical-align: top;\n",
       "    }\n",
       "\n",
       "    .dataframe thead th {\n",
       "        text-align: right;\n",
       "    }\n",
       "</style>\n",
       "<table border=\"1\" class=\"dataframe\">\n",
       "  <thead>\n",
       "    <tr style=\"text-align: right;\">\n",
       "      <th></th>\n",
       "      <th>Name</th>\n",
       "      <th>Platform</th>\n",
       "      <th>Year_of_Release</th>\n",
       "      <th>Genre</th>\n",
       "      <th>NA_sales</th>\n",
       "      <th>EU_sales</th>\n",
       "      <th>JP_sales</th>\n",
       "      <th>Other_sales</th>\n",
       "      <th>Critic_Score</th>\n",
       "      <th>User_Score</th>\n",
       "      <th>Rating</th>\n",
       "    </tr>\n",
       "  </thead>\n",
       "  <tbody>\n",
       "    <tr>\n",
       "      <td>8515</td>\n",
       "      <td>Dancing With The Stars</td>\n",
       "      <td>PS2</td>\n",
       "      <td>2007.0</td>\n",
       "      <td>Misc</td>\n",
       "      <td>0.08</td>\n",
       "      <td>0.06</td>\n",
       "      <td>0.00</td>\n",
       "      <td>0.02</td>\n",
       "      <td>NaN</td>\n",
       "      <td>tbd</td>\n",
       "      <td>E10+</td>\n",
       "    </tr>\n",
       "    <tr>\n",
       "      <td>11027</td>\n",
       "      <td>Pro Evolution Soccer 2012</td>\n",
       "      <td>PC</td>\n",
       "      <td>2011.0</td>\n",
       "      <td>Action</td>\n",
       "      <td>0.00</td>\n",
       "      <td>0.07</td>\n",
       "      <td>0.00</td>\n",
       "      <td>0.02</td>\n",
       "      <td>77.0</td>\n",
       "      <td>6.4</td>\n",
       "      <td>NaN</td>\n",
       "    </tr>\n",
       "    <tr>\n",
       "      <td>5329</td>\n",
       "      <td>EverGrace</td>\n",
       "      <td>PS2</td>\n",
       "      <td>2000.0</td>\n",
       "      <td>Role-Playing</td>\n",
       "      <td>0.10</td>\n",
       "      <td>0.08</td>\n",
       "      <td>0.15</td>\n",
       "      <td>0.03</td>\n",
       "      <td>59.0</td>\n",
       "      <td>7.8</td>\n",
       "      <td>T</td>\n",
       "    </tr>\n",
       "    <tr>\n",
       "      <td>6385</td>\n",
       "      <td>Just Dance Kids 2</td>\n",
       "      <td>Wii</td>\n",
       "      <td>2011.0</td>\n",
       "      <td>Misc</td>\n",
       "      <td>0.25</td>\n",
       "      <td>0.00</td>\n",
       "      <td>0.00</td>\n",
       "      <td>0.02</td>\n",
       "      <td>NaN</td>\n",
       "      <td>tbd</td>\n",
       "      <td>E</td>\n",
       "    </tr>\n",
       "    <tr>\n",
       "      <td>13532</td>\n",
       "      <td>Sekai no Gohan Shaberu! DS Oryouri Navi</td>\n",
       "      <td>DS</td>\n",
       "      <td>2008.0</td>\n",
       "      <td>Misc</td>\n",
       "      <td>0.00</td>\n",
       "      <td>0.00</td>\n",
       "      <td>0.04</td>\n",
       "      <td>0.00</td>\n",
       "      <td>NaN</td>\n",
       "      <td>NaN</td>\n",
       "      <td>NaN</td>\n",
       "    </tr>\n",
       "  </tbody>\n",
       "</table>\n",
       "</div>"
      ],
      "text/plain": [
       "                                          Name Platform  Year_of_Release  \\\n",
       "8515                    Dancing With The Stars      PS2           2007.0   \n",
       "11027                Pro Evolution Soccer 2012       PC           2011.0   \n",
       "5329                                 EverGrace      PS2           2000.0   \n",
       "6385                         Just Dance Kids 2      Wii           2011.0   \n",
       "13532  Sekai no Gohan Shaberu! DS Oryouri Navi       DS           2008.0   \n",
       "\n",
       "              Genre  NA_sales  EU_sales  JP_sales  Other_sales  Critic_Score  \\\n",
       "8515           Misc      0.08      0.06      0.00         0.02           NaN   \n",
       "11027        Action      0.00      0.07      0.00         0.02          77.0   \n",
       "5329   Role-Playing      0.10      0.08      0.15         0.03          59.0   \n",
       "6385           Misc      0.25      0.00      0.00         0.02           NaN   \n",
       "13532          Misc      0.00      0.00      0.04         0.00           NaN   \n",
       "\n",
       "      User_Score Rating  \n",
       "8515         tbd   E10+  \n",
       "11027        6.4    NaN  \n",
       "5329         7.8      T  \n",
       "6385         tbd      E  \n",
       "13532        NaN    NaN  "
      ]
     },
     "execution_count": 3,
     "metadata": {},
     "output_type": "execute_result"
    }
   ],
   "source": [
    "# получение 5 строк таблицы df\n",
    "df.sample(5)"
   ]
  },
  {
   "cell_type": "code",
   "execution_count": 4,
   "metadata": {},
   "outputs": [
    {
     "name": "stdout",
     "output_type": "stream",
     "text": [
      "<class 'pandas.core.frame.DataFrame'>\n",
      "RangeIndex: 16715 entries, 0 to 16714\n",
      "Data columns (total 11 columns):\n",
      "Name               16713 non-null object\n",
      "Platform           16715 non-null object\n",
      "Year_of_Release    16446 non-null float64\n",
      "Genre              16713 non-null object\n",
      "NA_sales           16715 non-null float64\n",
      "EU_sales           16715 non-null float64\n",
      "JP_sales           16715 non-null float64\n",
      "Other_sales        16715 non-null float64\n",
      "Critic_Score       8137 non-null float64\n",
      "User_Score         10014 non-null object\n",
      "Rating             9949 non-null object\n",
      "dtypes: float64(6), object(5)\n",
      "memory usage: 1.4+ MB\n"
     ]
    }
   ],
   "source": [
    "# получение общей информации о данных в таблице df\n",
    "df.info()"
   ]
  },
  {
   "cell_type": "code",
   "execution_count": 5,
   "metadata": {},
   "outputs": [
    {
     "data": {
      "text/html": [
       "<div>\n",
       "<style scoped>\n",
       "    .dataframe tbody tr th:only-of-type {\n",
       "        vertical-align: middle;\n",
       "    }\n",
       "\n",
       "    .dataframe tbody tr th {\n",
       "        vertical-align: top;\n",
       "    }\n",
       "\n",
       "    .dataframe thead th {\n",
       "        text-align: right;\n",
       "    }\n",
       "</style>\n",
       "<table border=\"1\" class=\"dataframe\">\n",
       "  <thead>\n",
       "    <tr style=\"text-align: right;\">\n",
       "      <th></th>\n",
       "      <th>Year_of_Release</th>\n",
       "      <th>NA_sales</th>\n",
       "      <th>EU_sales</th>\n",
       "      <th>JP_sales</th>\n",
       "      <th>Other_sales</th>\n",
       "      <th>Critic_Score</th>\n",
       "    </tr>\n",
       "  </thead>\n",
       "  <tbody>\n",
       "    <tr>\n",
       "      <td>count</td>\n",
       "      <td>16446.000000</td>\n",
       "      <td>16715.000000</td>\n",
       "      <td>16715.000000</td>\n",
       "      <td>16715.000000</td>\n",
       "      <td>16715.000000</td>\n",
       "      <td>8137.000000</td>\n",
       "    </tr>\n",
       "    <tr>\n",
       "      <td>mean</td>\n",
       "      <td>2006.484616</td>\n",
       "      <td>0.263377</td>\n",
       "      <td>0.145060</td>\n",
       "      <td>0.077617</td>\n",
       "      <td>0.047342</td>\n",
       "      <td>68.967679</td>\n",
       "    </tr>\n",
       "    <tr>\n",
       "      <td>std</td>\n",
       "      <td>5.877050</td>\n",
       "      <td>0.813604</td>\n",
       "      <td>0.503339</td>\n",
       "      <td>0.308853</td>\n",
       "      <td>0.186731</td>\n",
       "      <td>13.938165</td>\n",
       "    </tr>\n",
       "    <tr>\n",
       "      <td>min</td>\n",
       "      <td>1980.000000</td>\n",
       "      <td>0.000000</td>\n",
       "      <td>0.000000</td>\n",
       "      <td>0.000000</td>\n",
       "      <td>0.000000</td>\n",
       "      <td>13.000000</td>\n",
       "    </tr>\n",
       "    <tr>\n",
       "      <td>25%</td>\n",
       "      <td>2003.000000</td>\n",
       "      <td>0.000000</td>\n",
       "      <td>0.000000</td>\n",
       "      <td>0.000000</td>\n",
       "      <td>0.000000</td>\n",
       "      <td>60.000000</td>\n",
       "    </tr>\n",
       "    <tr>\n",
       "      <td>50%</td>\n",
       "      <td>2007.000000</td>\n",
       "      <td>0.080000</td>\n",
       "      <td>0.020000</td>\n",
       "      <td>0.000000</td>\n",
       "      <td>0.010000</td>\n",
       "      <td>71.000000</td>\n",
       "    </tr>\n",
       "    <tr>\n",
       "      <td>75%</td>\n",
       "      <td>2010.000000</td>\n",
       "      <td>0.240000</td>\n",
       "      <td>0.110000</td>\n",
       "      <td>0.040000</td>\n",
       "      <td>0.030000</td>\n",
       "      <td>79.000000</td>\n",
       "    </tr>\n",
       "    <tr>\n",
       "      <td>max</td>\n",
       "      <td>2016.000000</td>\n",
       "      <td>41.360000</td>\n",
       "      <td>28.960000</td>\n",
       "      <td>10.220000</td>\n",
       "      <td>10.570000</td>\n",
       "      <td>98.000000</td>\n",
       "    </tr>\n",
       "  </tbody>\n",
       "</table>\n",
       "</div>"
      ],
      "text/plain": [
       "       Year_of_Release      NA_sales      EU_sales      JP_sales  \\\n",
       "count     16446.000000  16715.000000  16715.000000  16715.000000   \n",
       "mean       2006.484616      0.263377      0.145060      0.077617   \n",
       "std           5.877050      0.813604      0.503339      0.308853   \n",
       "min        1980.000000      0.000000      0.000000      0.000000   \n",
       "25%        2003.000000      0.000000      0.000000      0.000000   \n",
       "50%        2007.000000      0.080000      0.020000      0.000000   \n",
       "75%        2010.000000      0.240000      0.110000      0.040000   \n",
       "max        2016.000000     41.360000     28.960000     10.220000   \n",
       "\n",
       "        Other_sales  Critic_Score  \n",
       "count  16715.000000   8137.000000  \n",
       "mean       0.047342     68.967679  \n",
       "std        0.186731     13.938165  \n",
       "min        0.000000     13.000000  \n",
       "25%        0.000000     60.000000  \n",
       "50%        0.010000     71.000000  \n",
       "75%        0.030000     79.000000  \n",
       "max       10.570000     98.000000  "
      ]
     },
     "execution_count": 5,
     "metadata": {},
     "output_type": "execute_result"
    }
   ],
   "source": [
    "# получение статистической информации\n",
    "df.describe()"
   ]
  },
  {
   "cell_type": "markdown",
   "metadata": {},
   "source": [
    "**Вывод**\n",
    "\n",
    "Таблица состоит из 11 столбцов, 6 столбцов из которой имеют вещественный тип данных, а остальные строковый. В каждой строке таблицы - данные о продажах игр, оценки пользователей и экспертов, жанры и платформы. Количество значений в столбцах различается. Значит, в данных есть пропущенные значения."
   ]
  },
  {
   "cell_type": "markdown",
   "metadata": {},
   "source": [
    "## Предобработка данных"
   ]
  },
  {
   "cell_type": "markdown",
   "metadata": {},
   "source": [
    "Заменим названия всех столбцов: приведем к нижнему регистру."
   ]
  },
  {
   "cell_type": "code",
   "execution_count": 6,
   "metadata": {},
   "outputs": [],
   "source": [
    "# замена названий столбцов\n",
    "df.columns = df.columns.str.lower()"
   ]
  },
  {
   "cell_type": "code",
   "execution_count": 7,
   "metadata": {},
   "outputs": [
    {
     "data": {
      "text/plain": [
       "Index(['name', 'platform', 'year_of_release', 'genre', 'na_sales', 'eu_sales',\n",
       "       'jp_sales', 'other_sales', 'critic_score', 'user_score', 'rating'],\n",
       "      dtype='object')"
      ]
     },
     "execution_count": 7,
     "metadata": {},
     "output_type": "execute_result"
    }
   ],
   "source": [
    "# проверка\n",
    "df.columns"
   ]
  },
  {
   "cell_type": "markdown",
   "metadata": {},
   "source": [
    "Теперь заменим тип данных на целочисленный в  столбце с годом выпуска игры, а столбец `user_score` сделаем числовым. Кроме того в этом столбце есть аббревиатура 'tbd', которая означает to be determined, т.е можно данную аббревиатуру воспринимать как пропуск. Поэтому при замене типа данных данные значения станут `nan`."
   ]
  },
  {
   "cell_type": "code",
   "execution_count": 8,
   "metadata": {
    "scrolled": true
   },
   "outputs": [
    {
     "data": {
      "text/plain": [
       "name                object\n",
       "platform            object\n",
       "year_of_release      Int64\n",
       "genre               object\n",
       "na_sales           float64\n",
       "eu_sales           float64\n",
       "jp_sales           float64\n",
       "other_sales        float64\n",
       "critic_score       float64\n",
       "user_score         float64\n",
       "rating              object\n",
       "dtype: object"
      ]
     },
     "execution_count": 8,
     "metadata": {},
     "output_type": "execute_result"
    }
   ],
   "source": [
    "# замена типа данных float64 на Int64\n",
    "df['year_of_release'] = df['year_of_release'].astype('Int64')\n",
    "df['user_score']= pd.to_numeric(df['user_score'], errors='coerce')\n",
    "df.dtypes # проверка"
   ]
  },
  {
   "cell_type": "markdown",
   "metadata": {},
   "source": [
    "Теперь перейдем к обработке пропусков в данных. В столбце с названием игры имеются два пропуска, не смотря на то, что по этим играм есть информация о годе выпуске, платформе и продажах, узнать название мы не сможем, а без него информация не имеет смысла. Так как пропуска всего два, то можно удалить данные строки, что не повлияет на результаты исследования."
   ]
  },
  {
   "cell_type": "code",
   "execution_count": 9,
   "metadata": {},
   "outputs": [
    {
     "data": {
      "text/html": [
       "<div>\n",
       "<style scoped>\n",
       "    .dataframe tbody tr th:only-of-type {\n",
       "        vertical-align: middle;\n",
       "    }\n",
       "\n",
       "    .dataframe tbody tr th {\n",
       "        vertical-align: top;\n",
       "    }\n",
       "\n",
       "    .dataframe thead th {\n",
       "        text-align: right;\n",
       "    }\n",
       "</style>\n",
       "<table border=\"1\" class=\"dataframe\">\n",
       "  <thead>\n",
       "    <tr style=\"text-align: right;\">\n",
       "      <th></th>\n",
       "      <th>name</th>\n",
       "      <th>platform</th>\n",
       "      <th>year_of_release</th>\n",
       "      <th>genre</th>\n",
       "      <th>na_sales</th>\n",
       "      <th>eu_sales</th>\n",
       "      <th>jp_sales</th>\n",
       "      <th>other_sales</th>\n",
       "      <th>critic_score</th>\n",
       "      <th>user_score</th>\n",
       "      <th>rating</th>\n",
       "    </tr>\n",
       "  </thead>\n",
       "  <tbody>\n",
       "    <tr>\n",
       "      <td>659</td>\n",
       "      <td>NaN</td>\n",
       "      <td>GEN</td>\n",
       "      <td>1993</td>\n",
       "      <td>NaN</td>\n",
       "      <td>1.78</td>\n",
       "      <td>0.53</td>\n",
       "      <td>0.00</td>\n",
       "      <td>0.08</td>\n",
       "      <td>NaN</td>\n",
       "      <td>NaN</td>\n",
       "      <td>NaN</td>\n",
       "    </tr>\n",
       "    <tr>\n",
       "      <td>14244</td>\n",
       "      <td>NaN</td>\n",
       "      <td>GEN</td>\n",
       "      <td>1993</td>\n",
       "      <td>NaN</td>\n",
       "      <td>0.00</td>\n",
       "      <td>0.00</td>\n",
       "      <td>0.03</td>\n",
       "      <td>0.00</td>\n",
       "      <td>NaN</td>\n",
       "      <td>NaN</td>\n",
       "      <td>NaN</td>\n",
       "    </tr>\n",
       "  </tbody>\n",
       "</table>\n",
       "</div>"
      ],
      "text/plain": [
       "      name platform  year_of_release genre  na_sales  eu_sales  jp_sales  \\\n",
       "659    NaN      GEN             1993   NaN      1.78      0.53      0.00   \n",
       "14244  NaN      GEN             1993   NaN      0.00      0.00      0.03   \n",
       "\n",
       "       other_sales  critic_score  user_score rating  \n",
       "659           0.08           NaN         NaN    NaN  \n",
       "14244         0.00           NaN         NaN    NaN  "
      ]
     },
     "execution_count": 9,
     "metadata": {},
     "output_type": "execute_result"
    }
   ],
   "source": [
    "# просмотр строк с пропусками в столбце name\n",
    "df.query('name.isna()')"
   ]
  },
  {
   "cell_type": "code",
   "execution_count": 10,
   "metadata": {},
   "outputs": [],
   "source": [
    "# удаление строк с пропусками в столбце name\n",
    "df.drop(labels=[659, 14244], axis=0, inplace = True)"
   ]
  },
  {
   "cell_type": "code",
   "execution_count": 11,
   "metadata": {},
   "outputs": [
    {
     "data": {
      "text/plain": [
       "0"
      ]
     },
     "execution_count": 11,
     "metadata": {},
     "output_type": "execute_result"
    }
   ],
   "source": [
    "# проверка\n",
    "df['name'].isna().sum()"
   ]
  },
  {
   "cell_type": "markdown",
   "metadata": {},
   "source": [
    "У нас имеется 269 пропусков в столбце `year_of_release`, заполним их вручную, посмотрев год выпуска игр в интернете."
   ]
  },
  {
   "cell_type": "code",
   "execution_count": 12,
   "metadata": {},
   "outputs": [
    {
     "data": {
      "text/html": [
       "<div>\n",
       "<style scoped>\n",
       "    .dataframe tbody tr th:only-of-type {\n",
       "        vertical-align: middle;\n",
       "    }\n",
       "\n",
       "    .dataframe tbody tr th {\n",
       "        vertical-align: top;\n",
       "    }\n",
       "\n",
       "    .dataframe thead th {\n",
       "        text-align: right;\n",
       "    }\n",
       "</style>\n",
       "<table border=\"1\" class=\"dataframe\">\n",
       "  <thead>\n",
       "    <tr style=\"text-align: right;\">\n",
       "      <th></th>\n",
       "      <th>name</th>\n",
       "      <th>platform</th>\n",
       "      <th>year_of_release</th>\n",
       "      <th>genre</th>\n",
       "      <th>na_sales</th>\n",
       "      <th>eu_sales</th>\n",
       "      <th>jp_sales</th>\n",
       "      <th>other_sales</th>\n",
       "      <th>critic_score</th>\n",
       "      <th>user_score</th>\n",
       "      <th>rating</th>\n",
       "    </tr>\n",
       "  </thead>\n",
       "  <tbody>\n",
       "    <tr>\n",
       "      <td>183</td>\n",
       "      <td>Madden NFL 2004</td>\n",
       "      <td>PS2</td>\n",
       "      <td>NaN</td>\n",
       "      <td>Sports</td>\n",
       "      <td>4.26</td>\n",
       "      <td>0.26</td>\n",
       "      <td>0.01</td>\n",
       "      <td>0.71</td>\n",
       "      <td>94.0</td>\n",
       "      <td>8.5</td>\n",
       "      <td>E</td>\n",
       "    </tr>\n",
       "    <tr>\n",
       "      <td>377</td>\n",
       "      <td>FIFA Soccer 2004</td>\n",
       "      <td>PS2</td>\n",
       "      <td>NaN</td>\n",
       "      <td>Sports</td>\n",
       "      <td>0.59</td>\n",
       "      <td>2.36</td>\n",
       "      <td>0.04</td>\n",
       "      <td>0.51</td>\n",
       "      <td>84.0</td>\n",
       "      <td>6.4</td>\n",
       "      <td>E</td>\n",
       "    </tr>\n",
       "    <tr>\n",
       "      <td>456</td>\n",
       "      <td>LEGO Batman: The Videogame</td>\n",
       "      <td>Wii</td>\n",
       "      <td>NaN</td>\n",
       "      <td>Action</td>\n",
       "      <td>1.80</td>\n",
       "      <td>0.97</td>\n",
       "      <td>0.00</td>\n",
       "      <td>0.29</td>\n",
       "      <td>74.0</td>\n",
       "      <td>7.9</td>\n",
       "      <td>E10+</td>\n",
       "    </tr>\n",
       "    <tr>\n",
       "      <td>475</td>\n",
       "      <td>wwe Smackdown vs. Raw 2006</td>\n",
       "      <td>PS2</td>\n",
       "      <td>NaN</td>\n",
       "      <td>Fighting</td>\n",
       "      <td>1.57</td>\n",
       "      <td>1.02</td>\n",
       "      <td>0.00</td>\n",
       "      <td>0.41</td>\n",
       "      <td>NaN</td>\n",
       "      <td>NaN</td>\n",
       "      <td>NaN</td>\n",
       "    </tr>\n",
       "    <tr>\n",
       "      <td>609</td>\n",
       "      <td>Space Invaders</td>\n",
       "      <td>2600</td>\n",
       "      <td>NaN</td>\n",
       "      <td>Shooter</td>\n",
       "      <td>2.36</td>\n",
       "      <td>0.14</td>\n",
       "      <td>0.00</td>\n",
       "      <td>0.03</td>\n",
       "      <td>NaN</td>\n",
       "      <td>NaN</td>\n",
       "      <td>NaN</td>\n",
       "    </tr>\n",
       "    <tr>\n",
       "      <td>...</td>\n",
       "      <td>...</td>\n",
       "      <td>...</td>\n",
       "      <td>...</td>\n",
       "      <td>...</td>\n",
       "      <td>...</td>\n",
       "      <td>...</td>\n",
       "      <td>...</td>\n",
       "      <td>...</td>\n",
       "      <td>...</td>\n",
       "      <td>...</td>\n",
       "      <td>...</td>\n",
       "    </tr>\n",
       "    <tr>\n",
       "      <td>16373</td>\n",
       "      <td>PDC World Championship Darts 2008</td>\n",
       "      <td>PSP</td>\n",
       "      <td>NaN</td>\n",
       "      <td>Sports</td>\n",
       "      <td>0.01</td>\n",
       "      <td>0.00</td>\n",
       "      <td>0.00</td>\n",
       "      <td>0.00</td>\n",
       "      <td>43.0</td>\n",
       "      <td>NaN</td>\n",
       "      <td>E10+</td>\n",
       "    </tr>\n",
       "    <tr>\n",
       "      <td>16405</td>\n",
       "      <td>Freaky Flyers</td>\n",
       "      <td>GC</td>\n",
       "      <td>NaN</td>\n",
       "      <td>Racing</td>\n",
       "      <td>0.01</td>\n",
       "      <td>0.00</td>\n",
       "      <td>0.00</td>\n",
       "      <td>0.00</td>\n",
       "      <td>69.0</td>\n",
       "      <td>6.5</td>\n",
       "      <td>T</td>\n",
       "    </tr>\n",
       "    <tr>\n",
       "      <td>16448</td>\n",
       "      <td>Inversion</td>\n",
       "      <td>PC</td>\n",
       "      <td>NaN</td>\n",
       "      <td>Shooter</td>\n",
       "      <td>0.01</td>\n",
       "      <td>0.00</td>\n",
       "      <td>0.00</td>\n",
       "      <td>0.00</td>\n",
       "      <td>59.0</td>\n",
       "      <td>6.7</td>\n",
       "      <td>M</td>\n",
       "    </tr>\n",
       "    <tr>\n",
       "      <td>16458</td>\n",
       "      <td>Hakuouki: Shinsengumi Kitan</td>\n",
       "      <td>PS3</td>\n",
       "      <td>NaN</td>\n",
       "      <td>Adventure</td>\n",
       "      <td>0.01</td>\n",
       "      <td>0.00</td>\n",
       "      <td>0.00</td>\n",
       "      <td>0.00</td>\n",
       "      <td>NaN</td>\n",
       "      <td>NaN</td>\n",
       "      <td>NaN</td>\n",
       "    </tr>\n",
       "    <tr>\n",
       "      <td>16522</td>\n",
       "      <td>Virtua Quest</td>\n",
       "      <td>GC</td>\n",
       "      <td>NaN</td>\n",
       "      <td>Role-Playing</td>\n",
       "      <td>0.01</td>\n",
       "      <td>0.00</td>\n",
       "      <td>0.00</td>\n",
       "      <td>0.00</td>\n",
       "      <td>55.0</td>\n",
       "      <td>5.5</td>\n",
       "      <td>T</td>\n",
       "    </tr>\n",
       "  </tbody>\n",
       "</table>\n",
       "<p>269 rows × 11 columns</p>\n",
       "</div>"
      ],
      "text/plain": [
       "                                    name platform  year_of_release  \\\n",
       "183                      Madden NFL 2004      PS2              NaN   \n",
       "377                     FIFA Soccer 2004      PS2              NaN   \n",
       "456           LEGO Batman: The Videogame      Wii              NaN   \n",
       "475           wwe Smackdown vs. Raw 2006      PS2              NaN   \n",
       "609                       Space Invaders     2600              NaN   \n",
       "...                                  ...      ...              ...   \n",
       "16373  PDC World Championship Darts 2008      PSP              NaN   \n",
       "16405                      Freaky Flyers       GC              NaN   \n",
       "16448                          Inversion       PC              NaN   \n",
       "16458        Hakuouki: Shinsengumi Kitan      PS3              NaN   \n",
       "16522                       Virtua Quest       GC              NaN   \n",
       "\n",
       "              genre  na_sales  eu_sales  jp_sales  other_sales  critic_score  \\\n",
       "183          Sports      4.26      0.26      0.01         0.71          94.0   \n",
       "377          Sports      0.59      2.36      0.04         0.51          84.0   \n",
       "456          Action      1.80      0.97      0.00         0.29          74.0   \n",
       "475        Fighting      1.57      1.02      0.00         0.41           NaN   \n",
       "609         Shooter      2.36      0.14      0.00         0.03           NaN   \n",
       "...             ...       ...       ...       ...          ...           ...   \n",
       "16373        Sports      0.01      0.00      0.00         0.00          43.0   \n",
       "16405        Racing      0.01      0.00      0.00         0.00          69.0   \n",
       "16448       Shooter      0.01      0.00      0.00         0.00          59.0   \n",
       "16458     Adventure      0.01      0.00      0.00         0.00           NaN   \n",
       "16522  Role-Playing      0.01      0.00      0.00         0.00          55.0   \n",
       "\n",
       "       user_score rating  \n",
       "183           8.5      E  \n",
       "377           6.4      E  \n",
       "456           7.9   E10+  \n",
       "475           NaN    NaN  \n",
       "609           NaN    NaN  \n",
       "...           ...    ...  \n",
       "16373         NaN   E10+  \n",
       "16405         6.5      T  \n",
       "16448         6.7      M  \n",
       "16458         NaN    NaN  \n",
       "16522         5.5      T  \n",
       "\n",
       "[269 rows x 11 columns]"
      ]
     },
     "execution_count": 12,
     "metadata": {},
     "output_type": "execute_result"
    }
   ],
   "source": [
    "# просмотр пропущенных значений в столбце year_of_release\n",
    "df.query('year_of_release.isna()')"
   ]
  },
  {
   "cell_type": "code",
   "execution_count": 13,
   "metadata": {},
   "outputs": [],
   "source": [
    "# заполнение пропущенных значений\n",
    "df['year_of_release'][183, 377, 2773, 3704, 4294, 6255, 7332, 12011, 14931, 15754, 16522] = 2004\n",
    "df['year_of_release'][456, 678, 1538, 2361, 2536, 3289, 4373, 4445, 4945, 4959, 6293, 6356, 9485, 10764,\n",
    "                      11016, 11433, 11565, 12568, 12734, 13142, 13781, 14141, 15292, 15704, 15953, 16373, 16458] = 2008\n",
    "df['year_of_release'][475, 719, 2479, 3187, 4127, 4205, 5294, 6019, 6773, 6999, 8023, 8212, 9761, 9876,\n",
    "                      10465, 10486, 12241, 12524, 12784, 13929, 14126, 14597, 15079, 15675] = 2006\n",
    "df['year_of_release'][609, 4337, 4437, 5041, 6299, 7354, 8740] = 1978\n",
    "df['year_of_release'][627, 805, 1142, 1840, 3352, 5070, 5932, 10050, 11455, 12959, 13317, 13874, 14350, \n",
    "                      15795, 15998, 16079, 16348] = 2007\n",
    "df['year_of_release'][657, 2281, 4848, 8150, 8547, 9380] = 2001\n",
    "df['year_of_release'][1131, 2169, 2849, 4635, 5443, 5624, 5874, 6818, 6861, 6899, 7108, 7584, 8250, 8500,\n",
    "                      9043, 9218, 9827, 9855, 10993, 11550, 12718, 14252, 14449, 14685, 16080, 16180] = 2010\n",
    "df['year_of_release'][1301, 13711] = 1998\n",
    "df['year_of_release'][1506, 5800] = 1979\n",
    "df['year_of_release'][1585, 2106, 6266] = 1977\n",
    "df['year_of_release'][1609, 2132, 2273, 2453, 2522, 2969, 3081, 3233, 4648, 4818, 5326, 6476, 6636, 7210, \n",
    "                      7387, 7391, 7406, 7735, 7848, 8151, 8680, 10317, 10686, 10790, 11377, 11622, 11943,\n",
    "                      11957, 12235, 12896, 13060, 13195, 13609, 13647, 14105, 14746, 15022, 15081, 16059, 16293] = 2011\n",
    "df['year_of_release'][1650, 3739, 4775, 5156, 5889, 8884, 9516, 10258, 12046, 13792, 14769, 15006, 15966, 16157, 16405] = 2003\n",
    "df['year_of_release'][1699, 2108, 2492, 3223, 3459, 3486, 5194, 5588, 5769, 6101, 6199, 6954, 7008, 7367,\n",
    "                      8197, 8319, 9817, 9830, 12217, 14749] = 2002\n",
    "df['year_of_release'][1984, 5492, 13289, 13564] = 1999\n",
    "df['year_of_release'][2010, 2157, 7605] = 1997\n",
    "df['year_of_release'][2572, 3997, 8067, 8260, 8632, 9119, 9664, 9703, 10612, 11338, 11790, 12209, 14369, \n",
    "                      15119, 15267, 15535, 15557, 16017, 16288] = 2009\n",
    "df['year_of_release'][3024, 3413, 5655, 6133, 6180, 6342, 6624, 8918, 9293, 10837, 11000, 12584, 12970, 14546, 15816] = 2005\n",
    "df['year_of_release'][3883, 4220, 5642] = 1980\n",
    "df['year_of_release'][4132] = 1982\n",
    "df['year_of_release'][5336, 7724, 11954] = 2013\n",
    "df['year_of_release'][5857, 9151, 11092, 11832] = 2000\n",
    "df['year_of_release'][7353, 8364] = 1989\n",
    "df['year_of_release'][9706, 9738, 11925, 12221, 12880, 14325, 14950, 15338, 16329, 16448] = 2012\n",
    "df['year_of_release'][11119] = 1996\n",
    "df['year_of_release'][12003] = 1993\n",
    "df['year_of_release'][13672] = 2016\n",
    "df['year_of_release'][14210] = 1984\n",
    "df['year_of_release'][16277] = 2015"
   ]
  },
  {
   "cell_type": "code",
   "execution_count": 14,
   "metadata": {},
   "outputs": [
    {
     "data": {
      "text/plain": [
       "0"
      ]
     },
     "execution_count": 14,
     "metadata": {},
     "output_type": "execute_result"
    }
   ],
   "source": [
    "# проверка\n",
    "df['year_of_release'].isna().sum()"
   ]
  },
  {
   "cell_type": "markdown",
   "metadata": {},
   "source": [
    "Заполним еще немного пропусков средним значением в столбцах `critic_score` и `user_score`, но только для тех игр, которые размещены на нескольких платформах и на других имеют рейтинг. \n",
    "\n",
    "Говоря о причинах, скорее всего пропуски появились в результате некорректной выгрузки данных или же сбой при сборе информации. Заменять все пропуски мы не стали, так как данные могут исказиться.  Однако на это стоит обратить внимание и в дальнейшем не допускать появления такое числа пропусков."
   ]
  },
  {
   "cell_type": "code",
   "execution_count": 15,
   "metadata": {},
   "outputs": [],
   "source": [
    "# замена пропущенных значений в стролбце critic_score на среднее значение\n",
    "df['critic_score'] = df.groupby('name')['critic_score'].transform(lambda x: x.fillna(x.mean()))"
   ]
  },
  {
   "cell_type": "markdown",
   "metadata": {},
   "source": [
    "Сразу округлим значения в столбце `critic_score`."
   ]
  },
  {
   "cell_type": "code",
   "execution_count": 16,
   "metadata": {},
   "outputs": [],
   "source": [
    "# округление значений в столбце critic_score\n",
    "df['critic_score'] = round(df['critic_score'])"
   ]
  },
  {
   "cell_type": "code",
   "execution_count": 17,
   "metadata": {},
   "outputs": [],
   "source": [
    "# замена пропущенных значений в стролбце user_score на среднее значение\n",
    "df['user_score'] = df.groupby('name')['user_score'].transform(lambda x: x.fillna(x.mean()))"
   ]
  },
  {
   "cell_type": "markdown",
   "metadata": {},
   "source": [
    "В столбце с рейтингом пропуски заполним аббревиатурой NN, которая будет означать \"неизвестно\"."
   ]
  },
  {
   "cell_type": "code",
   "execution_count": 18,
   "metadata": {},
   "outputs": [],
   "source": [
    "# заполнение пропусков в столбце rating\n",
    "df['rating'] = df['rating'].fillna('NN')"
   ]
  },
  {
   "cell_type": "code",
   "execution_count": 19,
   "metadata": {},
   "outputs": [
    {
     "data": {
      "text/plain": [
       "array(['E', 'NN', 'M', 'T', 'E10+', 'K-A', 'AO', 'EC', 'RP'], dtype=object)"
      ]
     },
     "execution_count": 19,
     "metadata": {},
     "output_type": "execute_result"
    }
   ],
   "source": [
    "# проверка\n",
    "df['rating'].unique()"
   ]
  },
  {
   "cell_type": "markdown",
   "metadata": {},
   "source": [
    "Теперь посчитаем суммарные продажи во всех регионах и запишем их в отдельный столбец."
   ]
  },
  {
   "cell_type": "code",
   "execution_count": 20,
   "metadata": {},
   "outputs": [],
   "source": [
    "# рассчет суммарных продаж\n",
    "df['total_sales'] = df['na_sales'] + df['eu_sales'] + df['jp_sales'] + df['other_sales']"
   ]
  },
  {
   "cell_type": "code",
   "execution_count": 21,
   "metadata": {},
   "outputs": [
    {
     "data": {
      "text/html": [
       "<div>\n",
       "<style scoped>\n",
       "    .dataframe tbody tr th:only-of-type {\n",
       "        vertical-align: middle;\n",
       "    }\n",
       "\n",
       "    .dataframe tbody tr th {\n",
       "        vertical-align: top;\n",
       "    }\n",
       "\n",
       "    .dataframe thead th {\n",
       "        text-align: right;\n",
       "    }\n",
       "</style>\n",
       "<table border=\"1\" class=\"dataframe\">\n",
       "  <thead>\n",
       "    <tr style=\"text-align: right;\">\n",
       "      <th></th>\n",
       "      <th>name</th>\n",
       "      <th>platform</th>\n",
       "      <th>year_of_release</th>\n",
       "      <th>genre</th>\n",
       "      <th>na_sales</th>\n",
       "      <th>eu_sales</th>\n",
       "      <th>jp_sales</th>\n",
       "      <th>other_sales</th>\n",
       "      <th>critic_score</th>\n",
       "      <th>user_score</th>\n",
       "      <th>rating</th>\n",
       "      <th>total_sales</th>\n",
       "    </tr>\n",
       "  </thead>\n",
       "  <tbody>\n",
       "    <tr>\n",
       "      <td>0</td>\n",
       "      <td>Wii Sports</td>\n",
       "      <td>Wii</td>\n",
       "      <td>2006</td>\n",
       "      <td>Sports</td>\n",
       "      <td>41.36</td>\n",
       "      <td>28.96</td>\n",
       "      <td>3.77</td>\n",
       "      <td>8.45</td>\n",
       "      <td>76.0</td>\n",
       "      <td>8.0</td>\n",
       "      <td>E</td>\n",
       "      <td>82.54</td>\n",
       "    </tr>\n",
       "    <tr>\n",
       "      <td>1</td>\n",
       "      <td>Super Mario Bros.</td>\n",
       "      <td>NES</td>\n",
       "      <td>1985</td>\n",
       "      <td>Platform</td>\n",
       "      <td>29.08</td>\n",
       "      <td>3.58</td>\n",
       "      <td>6.81</td>\n",
       "      <td>0.77</td>\n",
       "      <td>NaN</td>\n",
       "      <td>NaN</td>\n",
       "      <td>NN</td>\n",
       "      <td>40.24</td>\n",
       "    </tr>\n",
       "    <tr>\n",
       "      <td>2</td>\n",
       "      <td>Mario Kart Wii</td>\n",
       "      <td>Wii</td>\n",
       "      <td>2008</td>\n",
       "      <td>Racing</td>\n",
       "      <td>15.68</td>\n",
       "      <td>12.76</td>\n",
       "      <td>3.79</td>\n",
       "      <td>3.29</td>\n",
       "      <td>82.0</td>\n",
       "      <td>8.3</td>\n",
       "      <td>E</td>\n",
       "      <td>35.52</td>\n",
       "    </tr>\n",
       "    <tr>\n",
       "      <td>3</td>\n",
       "      <td>Wii Sports Resort</td>\n",
       "      <td>Wii</td>\n",
       "      <td>2009</td>\n",
       "      <td>Sports</td>\n",
       "      <td>15.61</td>\n",
       "      <td>10.93</td>\n",
       "      <td>3.28</td>\n",
       "      <td>2.95</td>\n",
       "      <td>80.0</td>\n",
       "      <td>8.0</td>\n",
       "      <td>E</td>\n",
       "      <td>32.77</td>\n",
       "    </tr>\n",
       "    <tr>\n",
       "      <td>4</td>\n",
       "      <td>Pokemon Red/Pokemon Blue</td>\n",
       "      <td>GB</td>\n",
       "      <td>1996</td>\n",
       "      <td>Role-Playing</td>\n",
       "      <td>11.27</td>\n",
       "      <td>8.89</td>\n",
       "      <td>10.22</td>\n",
       "      <td>1.00</td>\n",
       "      <td>NaN</td>\n",
       "      <td>NaN</td>\n",
       "      <td>NN</td>\n",
       "      <td>31.38</td>\n",
       "    </tr>\n",
       "  </tbody>\n",
       "</table>\n",
       "</div>"
      ],
      "text/plain": [
       "                       name platform  year_of_release         genre  na_sales  \\\n",
       "0                Wii Sports      Wii             2006        Sports     41.36   \n",
       "1         Super Mario Bros.      NES             1985      Platform     29.08   \n",
       "2            Mario Kart Wii      Wii             2008        Racing     15.68   \n",
       "3         Wii Sports Resort      Wii             2009        Sports     15.61   \n",
       "4  Pokemon Red/Pokemon Blue       GB             1996  Role-Playing     11.27   \n",
       "\n",
       "   eu_sales  jp_sales  other_sales  critic_score  user_score rating  \\\n",
       "0     28.96      3.77         8.45          76.0         8.0      E   \n",
       "1      3.58      6.81         0.77           NaN         NaN     NN   \n",
       "2     12.76      3.79         3.29          82.0         8.3      E   \n",
       "3     10.93      3.28         2.95          80.0         8.0      E   \n",
       "4      8.89     10.22         1.00           NaN         NaN     NN   \n",
       "\n",
       "   total_sales  \n",
       "0        82.54  \n",
       "1        40.24  \n",
       "2        35.52  \n",
       "3        32.77  \n",
       "4        31.38  "
      ]
     },
     "execution_count": 21,
     "metadata": {},
     "output_type": "execute_result"
    }
   ],
   "source": [
    "# проверка\n",
    "df.head()"
   ]
  },
  {
   "cell_type": "markdown",
   "metadata": {},
   "source": [
    "**Вывод**\n",
    "\n",
    "Таким образом, в ходе предобработки данных были заменены названия столбцов, изменены типы данных, заполнены пропуски, а также подсчитаны суммарные продажи во всех регионах."
   ]
  },
  {
   "cell_type": "markdown",
   "metadata": {},
   "source": [
    "## Исследовательский анализ данных"
   ]
  },
  {
   "cell_type": "markdown",
   "metadata": {},
   "source": [
    "Посмотрим с помощью сводной таблицы, сколько игр выпускалось в разные годы."
   ]
  },
  {
   "cell_type": "code",
   "execution_count": 22,
   "metadata": {
    "scrolled": true
   },
   "outputs": [
    {
     "data": {
      "text/html": [
       "<div>\n",
       "<style scoped>\n",
       "    .dataframe tbody tr th:only-of-type {\n",
       "        vertical-align: middle;\n",
       "    }\n",
       "\n",
       "    .dataframe tbody tr th {\n",
       "        vertical-align: top;\n",
       "    }\n",
       "\n",
       "    .dataframe thead th {\n",
       "        text-align: right;\n",
       "    }\n",
       "</style>\n",
       "<table border=\"1\" class=\"dataframe\">\n",
       "  <thead>\n",
       "    <tr style=\"text-align: right;\">\n",
       "      <th></th>\n",
       "      <th>name</th>\n",
       "    </tr>\n",
       "    <tr>\n",
       "      <th>year_of_release</th>\n",
       "      <th></th>\n",
       "    </tr>\n",
       "  </thead>\n",
       "  <tbody>\n",
       "    <tr>\n",
       "      <td>1977</td>\n",
       "      <td>3</td>\n",
       "    </tr>\n",
       "    <tr>\n",
       "      <td>1978</td>\n",
       "      <td>7</td>\n",
       "    </tr>\n",
       "    <tr>\n",
       "      <td>1979</td>\n",
       "      <td>2</td>\n",
       "    </tr>\n",
       "    <tr>\n",
       "      <td>1980</td>\n",
       "      <td>12</td>\n",
       "    </tr>\n",
       "    <tr>\n",
       "      <td>1981</td>\n",
       "      <td>46</td>\n",
       "    </tr>\n",
       "    <tr>\n",
       "      <td>1982</td>\n",
       "      <td>37</td>\n",
       "    </tr>\n",
       "    <tr>\n",
       "      <td>1983</td>\n",
       "      <td>17</td>\n",
       "    </tr>\n",
       "    <tr>\n",
       "      <td>1984</td>\n",
       "      <td>14</td>\n",
       "    </tr>\n",
       "    <tr>\n",
       "      <td>1985</td>\n",
       "      <td>14</td>\n",
       "    </tr>\n",
       "    <tr>\n",
       "      <td>1986</td>\n",
       "      <td>21</td>\n",
       "    </tr>\n",
       "    <tr>\n",
       "      <td>1987</td>\n",
       "      <td>16</td>\n",
       "    </tr>\n",
       "    <tr>\n",
       "      <td>1988</td>\n",
       "      <td>15</td>\n",
       "    </tr>\n",
       "    <tr>\n",
       "      <td>1989</td>\n",
       "      <td>19</td>\n",
       "    </tr>\n",
       "    <tr>\n",
       "      <td>1990</td>\n",
       "      <td>16</td>\n",
       "    </tr>\n",
       "    <tr>\n",
       "      <td>1991</td>\n",
       "      <td>41</td>\n",
       "    </tr>\n",
       "    <tr>\n",
       "      <td>1992</td>\n",
       "      <td>43</td>\n",
       "    </tr>\n",
       "    <tr>\n",
       "      <td>1993</td>\n",
       "      <td>60</td>\n",
       "    </tr>\n",
       "    <tr>\n",
       "      <td>1994</td>\n",
       "      <td>121</td>\n",
       "    </tr>\n",
       "    <tr>\n",
       "      <td>1995</td>\n",
       "      <td>219</td>\n",
       "    </tr>\n",
       "    <tr>\n",
       "      <td>1996</td>\n",
       "      <td>263</td>\n",
       "    </tr>\n",
       "    <tr>\n",
       "      <td>1997</td>\n",
       "      <td>292</td>\n",
       "    </tr>\n",
       "    <tr>\n",
       "      <td>1998</td>\n",
       "      <td>381</td>\n",
       "    </tr>\n",
       "    <tr>\n",
       "      <td>1999</td>\n",
       "      <td>342</td>\n",
       "    </tr>\n",
       "    <tr>\n",
       "      <td>2000</td>\n",
       "      <td>354</td>\n",
       "    </tr>\n",
       "    <tr>\n",
       "      <td>2001</td>\n",
       "      <td>488</td>\n",
       "    </tr>\n",
       "    <tr>\n",
       "      <td>2002</td>\n",
       "      <td>849</td>\n",
       "    </tr>\n",
       "    <tr>\n",
       "      <td>2003</td>\n",
       "      <td>790</td>\n",
       "    </tr>\n",
       "    <tr>\n",
       "      <td>2004</td>\n",
       "      <td>773</td>\n",
       "    </tr>\n",
       "    <tr>\n",
       "      <td>2005</td>\n",
       "      <td>954</td>\n",
       "    </tr>\n",
       "    <tr>\n",
       "      <td>2006</td>\n",
       "      <td>1030</td>\n",
       "    </tr>\n",
       "    <tr>\n",
       "      <td>2007</td>\n",
       "      <td>1214</td>\n",
       "    </tr>\n",
       "    <tr>\n",
       "      <td>2008</td>\n",
       "      <td>1454</td>\n",
       "    </tr>\n",
       "    <tr>\n",
       "      <td>2009</td>\n",
       "      <td>1445</td>\n",
       "    </tr>\n",
       "    <tr>\n",
       "      <td>2010</td>\n",
       "      <td>1281</td>\n",
       "    </tr>\n",
       "    <tr>\n",
       "      <td>2011</td>\n",
       "      <td>1176</td>\n",
       "    </tr>\n",
       "    <tr>\n",
       "      <td>2012</td>\n",
       "      <td>663</td>\n",
       "    </tr>\n",
       "    <tr>\n",
       "      <td>2013</td>\n",
       "      <td>547</td>\n",
       "    </tr>\n",
       "    <tr>\n",
       "      <td>2014</td>\n",
       "      <td>581</td>\n",
       "    </tr>\n",
       "    <tr>\n",
       "      <td>2015</td>\n",
       "      <td>606</td>\n",
       "    </tr>\n",
       "    <tr>\n",
       "      <td>2016</td>\n",
       "      <td>502</td>\n",
       "    </tr>\n",
       "  </tbody>\n",
       "</table>\n",
       "</div>"
      ],
      "text/plain": [
       "                 name\n",
       "year_of_release      \n",
       "1977                3\n",
       "1978                7\n",
       "1979                2\n",
       "1980               12\n",
       "1981               46\n",
       "1982               37\n",
       "1983               17\n",
       "1984               14\n",
       "1985               14\n",
       "1986               21\n",
       "1987               16\n",
       "1988               15\n",
       "1989               19\n",
       "1990               16\n",
       "1991               41\n",
       "1992               43\n",
       "1993               60\n",
       "1994              121\n",
       "1995              219\n",
       "1996              263\n",
       "1997              292\n",
       "1998              381\n",
       "1999              342\n",
       "2000              354\n",
       "2001              488\n",
       "2002              849\n",
       "2003              790\n",
       "2004              773\n",
       "2005              954\n",
       "2006             1030\n",
       "2007             1214\n",
       "2008             1454\n",
       "2009             1445\n",
       "2010             1281\n",
       "2011             1176\n",
       "2012              663\n",
       "2013              547\n",
       "2014              581\n",
       "2015              606\n",
       "2016              502"
      ]
     },
     "execution_count": 22,
     "metadata": {},
     "output_type": "execute_result"
    }
   ],
   "source": [
    "# подсчет количества выпущенных игр по годам\n",
    "df.pivot_table(index=['year_of_release'], values='name', aggfunc='count')"
   ]
  },
  {
   "cell_type": "code",
   "execution_count": 23,
   "metadata": {},
   "outputs": [
    {
     "data": {
      "image/png": "[encoded data removed]",
      "text/plain": [
       "<Figure size 432x288 with 1 Axes>"
      ]
     },
     "metadata": {
      "needs_background": "light"
     },
     "output_type": "display_data"
    }
   ],
   "source": [
    "# график количества выпущенных игр по годам\n",
    "df.pivot_table(index=['year_of_release'], values='name', aggfunc='count').plot(title='Количества выпущенных игр по годам');"
   ]
  },
  {
   "cell_type": "markdown",
   "metadata": {},
   "source": [
    "Из таблицы видно, что с 1994 года количество игр резко стало расти. Резкий рост количества выпущенных игр приходится на 2002-2011 года, а пик на 2008 и 2009 год. После 2011 количество игр уменьшилось вдвое."
   ]
  },
  {
   "cell_type": "markdown",
   "metadata": {},
   "source": [
    "Чтобы посмотреть, как менялись продажи по платформам, создадим сводную таблицу, в которой выберем платформы с наибольшими суммарными продажами и построим по ним распределение по годам."
   ]
  },
  {
   "cell_type": "code",
   "execution_count": 24,
   "metadata": {
    "scrolled": true
   },
   "outputs": [
    {
     "data": {
      "text/html": [
       "<div>\n",
       "<style scoped>\n",
       "    .dataframe tbody tr th:only-of-type {\n",
       "        vertical-align: middle;\n",
       "    }\n",
       "\n",
       "    .dataframe tbody tr th {\n",
       "        vertical-align: top;\n",
       "    }\n",
       "\n",
       "    .dataframe thead th {\n",
       "        text-align: right;\n",
       "    }\n",
       "</style>\n",
       "<table border=\"1\" class=\"dataframe\">\n",
       "  <thead>\n",
       "    <tr style=\"text-align: right;\">\n",
       "      <th></th>\n",
       "      <th>total_sales</th>\n",
       "    </tr>\n",
       "    <tr>\n",
       "      <th>platform</th>\n",
       "      <th></th>\n",
       "    </tr>\n",
       "  </thead>\n",
       "  <tbody>\n",
       "    <tr>\n",
       "      <td>PS2</td>\n",
       "      <td>1255.77</td>\n",
       "    </tr>\n",
       "    <tr>\n",
       "      <td>X360</td>\n",
       "      <td>971.42</td>\n",
       "    </tr>\n",
       "    <tr>\n",
       "      <td>PS3</td>\n",
       "      <td>939.65</td>\n",
       "    </tr>\n",
       "    <tr>\n",
       "      <td>Wii</td>\n",
       "      <td>907.51</td>\n",
       "    </tr>\n",
       "    <tr>\n",
       "      <td>DS</td>\n",
       "      <td>806.12</td>\n",
       "    </tr>\n",
       "    <tr>\n",
       "      <td>PS</td>\n",
       "      <td>730.86</td>\n",
       "    </tr>\n",
       "    <tr>\n",
       "      <td>GBA</td>\n",
       "      <td>317.85</td>\n",
       "    </tr>\n",
       "    <tr>\n",
       "      <td>PS4</td>\n",
       "      <td>314.14</td>\n",
       "    </tr>\n",
       "    <tr>\n",
       "      <td>PSP</td>\n",
       "      <td>294.05</td>\n",
       "    </tr>\n",
       "    <tr>\n",
       "      <td>PC</td>\n",
       "      <td>259.52</td>\n",
       "    </tr>\n",
       "    <tr>\n",
       "      <td>3DS</td>\n",
       "      <td>259.00</td>\n",
       "    </tr>\n",
       "    <tr>\n",
       "      <td>XB</td>\n",
       "      <td>257.74</td>\n",
       "    </tr>\n",
       "    <tr>\n",
       "      <td>GB</td>\n",
       "      <td>255.46</td>\n",
       "    </tr>\n",
       "    <tr>\n",
       "      <td>NES</td>\n",
       "      <td>251.05</td>\n",
       "    </tr>\n",
       "    <tr>\n",
       "      <td>N64</td>\n",
       "      <td>218.68</td>\n",
       "    </tr>\n",
       "    <tr>\n",
       "      <td>SNES</td>\n",
       "      <td>200.04</td>\n",
       "    </tr>\n",
       "    <tr>\n",
       "      <td>GC</td>\n",
       "      <td>198.93</td>\n",
       "    </tr>\n",
       "    <tr>\n",
       "      <td>XOne</td>\n",
       "      <td>159.32</td>\n",
       "    </tr>\n",
       "    <tr>\n",
       "      <td>2600</td>\n",
       "      <td>96.98</td>\n",
       "    </tr>\n",
       "    <tr>\n",
       "      <td>WiiU</td>\n",
       "      <td>82.19</td>\n",
       "    </tr>\n",
       "    <tr>\n",
       "      <td>PSV</td>\n",
       "      <td>54.07</td>\n",
       "    </tr>\n",
       "    <tr>\n",
       "      <td>SAT</td>\n",
       "      <td>33.59</td>\n",
       "    </tr>\n",
       "    <tr>\n",
       "      <td>GEN</td>\n",
       "      <td>28.35</td>\n",
       "    </tr>\n",
       "    <tr>\n",
       "      <td>DC</td>\n",
       "      <td>15.95</td>\n",
       "    </tr>\n",
       "    <tr>\n",
       "      <td>SCD</td>\n",
       "      <td>1.86</td>\n",
       "    </tr>\n",
       "    <tr>\n",
       "      <td>NG</td>\n",
       "      <td>1.44</td>\n",
       "    </tr>\n",
       "    <tr>\n",
       "      <td>WS</td>\n",
       "      <td>1.42</td>\n",
       "    </tr>\n",
       "    <tr>\n",
       "      <td>TG16</td>\n",
       "      <td>0.16</td>\n",
       "    </tr>\n",
       "    <tr>\n",
       "      <td>3DO</td>\n",
       "      <td>0.10</td>\n",
       "    </tr>\n",
       "    <tr>\n",
       "      <td>GG</td>\n",
       "      <td>0.04</td>\n",
       "    </tr>\n",
       "    <tr>\n",
       "      <td>PCFX</td>\n",
       "      <td>0.03</td>\n",
       "    </tr>\n",
       "  </tbody>\n",
       "</table>\n",
       "</div>"
      ],
      "text/plain": [
       "          total_sales\n",
       "platform             \n",
       "PS2           1255.77\n",
       "X360           971.42\n",
       "PS3            939.65\n",
       "Wii            907.51\n",
       "DS             806.12\n",
       "PS             730.86\n",
       "GBA            317.85\n",
       "PS4            314.14\n",
       "PSP            294.05\n",
       "PC             259.52\n",
       "3DS            259.00\n",
       "XB             257.74\n",
       "GB             255.46\n",
       "NES            251.05\n",
       "N64            218.68\n",
       "SNES           200.04\n",
       "GC             198.93\n",
       "XOne           159.32\n",
       "2600            96.98\n",
       "WiiU            82.19\n",
       "PSV             54.07\n",
       "SAT             33.59\n",
       "GEN             28.35\n",
       "DC              15.95\n",
       "SCD              1.86\n",
       "NG               1.44\n",
       "WS               1.42\n",
       "TG16             0.16\n",
       "3DO              0.10\n",
       "GG               0.04\n",
       "PCFX             0.03"
      ]
     },
     "execution_count": 24,
     "metadata": {},
     "output_type": "execute_result"
    }
   ],
   "source": [
    "# подсчет суммарных продаж по платформам\n",
    "df.pivot_table(index=['platform'], values='total_sales', aggfunc='sum').sort_values(by='total_sales', ascending=False)"
   ]
  },
  {
   "cell_type": "code",
   "execution_count": 25,
   "metadata": {
    "scrolled": true
   },
   "outputs": [
    {
     "data": {
      "text/html": [
       "<div>\n",
       "<style scoped>\n",
       "    .dataframe tbody tr th:only-of-type {\n",
       "        vertical-align: middle;\n",
       "    }\n",
       "\n",
       "    .dataframe tbody tr th {\n",
       "        vertical-align: top;\n",
       "    }\n",
       "\n",
       "    .dataframe thead th {\n",
       "        text-align: right;\n",
       "    }\n",
       "</style>\n",
       "<table border=\"1\" class=\"dataframe\">\n",
       "  <thead>\n",
       "    <tr style=\"text-align: right;\">\n",
       "      <th>platform</th>\n",
       "      <th>DS</th>\n",
       "      <th>GBA</th>\n",
       "      <th>PS</th>\n",
       "      <th>PS2</th>\n",
       "      <th>PS3</th>\n",
       "      <th>PS4</th>\n",
       "      <th>PSP</th>\n",
       "      <th>Wii</th>\n",
       "      <th>X360</th>\n",
       "    </tr>\n",
       "    <tr>\n",
       "      <th>year_of_release</th>\n",
       "      <th></th>\n",
       "      <th></th>\n",
       "      <th></th>\n",
       "      <th></th>\n",
       "      <th></th>\n",
       "      <th></th>\n",
       "      <th></th>\n",
       "      <th></th>\n",
       "      <th></th>\n",
       "    </tr>\n",
       "  </thead>\n",
       "  <tbody>\n",
       "    <tr>\n",
       "      <td>1985</td>\n",
       "      <td>0.02</td>\n",
       "      <td>0.00</td>\n",
       "      <td>0.00</td>\n",
       "      <td>0.00</td>\n",
       "      <td>0.00</td>\n",
       "      <td>0.00</td>\n",
       "      <td>0.00</td>\n",
       "      <td>0.00</td>\n",
       "      <td>0.00</td>\n",
       "    </tr>\n",
       "    <tr>\n",
       "      <td>1989</td>\n",
       "      <td>0.00</td>\n",
       "      <td>0.00</td>\n",
       "      <td>0.00</td>\n",
       "      <td>0.17</td>\n",
       "      <td>0.00</td>\n",
       "      <td>0.00</td>\n",
       "      <td>0.00</td>\n",
       "      <td>0.00</td>\n",
       "      <td>0.00</td>\n",
       "    </tr>\n",
       "    <tr>\n",
       "      <td>1994</td>\n",
       "      <td>0.00</td>\n",
       "      <td>0.00</td>\n",
       "      <td>6.03</td>\n",
       "      <td>0.00</td>\n",
       "      <td>0.00</td>\n",
       "      <td>0.00</td>\n",
       "      <td>0.00</td>\n",
       "      <td>0.00</td>\n",
       "      <td>0.00</td>\n",
       "    </tr>\n",
       "    <tr>\n",
       "      <td>1995</td>\n",
       "      <td>0.00</td>\n",
       "      <td>0.00</td>\n",
       "      <td>35.96</td>\n",
       "      <td>0.00</td>\n",
       "      <td>0.00</td>\n",
       "      <td>0.00</td>\n",
       "      <td>0.00</td>\n",
       "      <td>0.00</td>\n",
       "      <td>0.00</td>\n",
       "    </tr>\n",
       "    <tr>\n",
       "      <td>1996</td>\n",
       "      <td>0.00</td>\n",
       "      <td>0.00</td>\n",
       "      <td>94.70</td>\n",
       "      <td>0.00</td>\n",
       "      <td>0.00</td>\n",
       "      <td>0.00</td>\n",
       "      <td>0.00</td>\n",
       "      <td>0.00</td>\n",
       "      <td>0.00</td>\n",
       "    </tr>\n",
       "    <tr>\n",
       "      <td>1997</td>\n",
       "      <td>0.00</td>\n",
       "      <td>0.00</td>\n",
       "      <td>136.17</td>\n",
       "      <td>0.95</td>\n",
       "      <td>0.00</td>\n",
       "      <td>0.00</td>\n",
       "      <td>0.00</td>\n",
       "      <td>0.00</td>\n",
       "      <td>0.00</td>\n",
       "    </tr>\n",
       "    <tr>\n",
       "      <td>1998</td>\n",
       "      <td>0.00</td>\n",
       "      <td>0.00</td>\n",
       "      <td>170.99</td>\n",
       "      <td>0.00</td>\n",
       "      <td>0.00</td>\n",
       "      <td>0.00</td>\n",
       "      <td>0.00</td>\n",
       "      <td>0.00</td>\n",
       "      <td>0.00</td>\n",
       "    </tr>\n",
       "    <tr>\n",
       "      <td>1999</td>\n",
       "      <td>0.00</td>\n",
       "      <td>0.00</td>\n",
       "      <td>145.58</td>\n",
       "      <td>0.00</td>\n",
       "      <td>0.00</td>\n",
       "      <td>0.00</td>\n",
       "      <td>0.00</td>\n",
       "      <td>0.04</td>\n",
       "      <td>0.00</td>\n",
       "    </tr>\n",
       "    <tr>\n",
       "      <td>2000</td>\n",
       "      <td>0.00</td>\n",
       "      <td>0.07</td>\n",
       "      <td>96.76</td>\n",
       "      <td>39.17</td>\n",
       "      <td>0.00</td>\n",
       "      <td>0.00</td>\n",
       "      <td>0.00</td>\n",
       "      <td>0.00</td>\n",
       "      <td>0.00</td>\n",
       "    </tr>\n",
       "    <tr>\n",
       "      <td>2001</td>\n",
       "      <td>0.00</td>\n",
       "      <td>63.93</td>\n",
       "      <td>35.93</td>\n",
       "      <td>166.82</td>\n",
       "      <td>0.00</td>\n",
       "      <td>0.00</td>\n",
       "      <td>0.00</td>\n",
       "      <td>0.00</td>\n",
       "      <td>0.00</td>\n",
       "    </tr>\n",
       "    <tr>\n",
       "      <td>2002</td>\n",
       "      <td>0.00</td>\n",
       "      <td>74.53</td>\n",
       "      <td>6.67</td>\n",
       "      <td>209.18</td>\n",
       "      <td>0.00</td>\n",
       "      <td>0.00</td>\n",
       "      <td>0.00</td>\n",
       "      <td>0.00</td>\n",
       "      <td>0.00</td>\n",
       "    </tr>\n",
       "    <tr>\n",
       "      <td>2003</td>\n",
       "      <td>0.00</td>\n",
       "      <td>56.70</td>\n",
       "      <td>2.07</td>\n",
       "      <td>186.08</td>\n",
       "      <td>0.00</td>\n",
       "      <td>0.00</td>\n",
       "      <td>0.00</td>\n",
       "      <td>0.00</td>\n",
       "      <td>0.00</td>\n",
       "    </tr>\n",
       "    <tr>\n",
       "      <td>2004</td>\n",
       "      <td>17.27</td>\n",
       "      <td>78.93</td>\n",
       "      <td>0.00</td>\n",
       "      <td>220.85</td>\n",
       "      <td>0.00</td>\n",
       "      <td>0.00</td>\n",
       "      <td>7.06</td>\n",
       "      <td>0.00</td>\n",
       "      <td>0.00</td>\n",
       "    </tr>\n",
       "    <tr>\n",
       "      <td>2005</td>\n",
       "      <td>130.23</td>\n",
       "      <td>34.72</td>\n",
       "      <td>0.00</td>\n",
       "      <td>161.38</td>\n",
       "      <td>0.00</td>\n",
       "      <td>0.00</td>\n",
       "      <td>43.84</td>\n",
       "      <td>0.00</td>\n",
       "      <td>9.10</td>\n",
       "    </tr>\n",
       "    <tr>\n",
       "      <td>2006</td>\n",
       "      <td>120.07</td>\n",
       "      <td>5.46</td>\n",
       "      <td>0.00</td>\n",
       "      <td>107.50</td>\n",
       "      <td>21.44</td>\n",
       "      <td>0.00</td>\n",
       "      <td>56.30</td>\n",
       "      <td>140.54</td>\n",
       "      <td>51.79</td>\n",
       "    </tr>\n",
       "    <tr>\n",
       "      <td>2007</td>\n",
       "      <td>147.30</td>\n",
       "      <td>3.40</td>\n",
       "      <td>0.00</td>\n",
       "      <td>77.28</td>\n",
       "      <td>74.87</td>\n",
       "      <td>0.00</td>\n",
       "      <td>47.30</td>\n",
       "      <td>155.50</td>\n",
       "      <td>97.89</td>\n",
       "    </tr>\n",
       "    <tr>\n",
       "      <td>2008</td>\n",
       "      <td>146.10</td>\n",
       "      <td>0.00</td>\n",
       "      <td>0.00</td>\n",
       "      <td>53.90</td>\n",
       "      <td>119.56</td>\n",
       "      <td>0.00</td>\n",
       "      <td>36.02</td>\n",
       "      <td>177.76</td>\n",
       "      <td>137.00</td>\n",
       "    </tr>\n",
       "    <tr>\n",
       "      <td>2009</td>\n",
       "      <td>119.99</td>\n",
       "      <td>0.00</td>\n",
       "      <td>0.00</td>\n",
       "      <td>26.40</td>\n",
       "      <td>131.23</td>\n",
       "      <td>0.00</td>\n",
       "      <td>38.58</td>\n",
       "      <td>207.37</td>\n",
       "      <td>121.00</td>\n",
       "    </tr>\n",
       "    <tr>\n",
       "      <td>2010</td>\n",
       "      <td>85.47</td>\n",
       "      <td>0.00</td>\n",
       "      <td>0.00</td>\n",
       "      <td>5.64</td>\n",
       "      <td>143.89</td>\n",
       "      <td>0.00</td>\n",
       "      <td>35.31</td>\n",
       "      <td>129.66</td>\n",
       "      <td>170.70</td>\n",
       "    </tr>\n",
       "    <tr>\n",
       "      <td>2011</td>\n",
       "      <td>26.99</td>\n",
       "      <td>0.00</td>\n",
       "      <td>0.00</td>\n",
       "      <td>0.45</td>\n",
       "      <td>159.80</td>\n",
       "      <td>0.00</td>\n",
       "      <td>18.33</td>\n",
       "      <td>61.25</td>\n",
       "      <td>147.32</td>\n",
       "    </tr>\n",
       "    <tr>\n",
       "      <td>2012</td>\n",
       "      <td>11.07</td>\n",
       "      <td>0.00</td>\n",
       "      <td>0.00</td>\n",
       "      <td>0.00</td>\n",
       "      <td>107.43</td>\n",
       "      <td>0.00</td>\n",
       "      <td>7.81</td>\n",
       "      <td>21.73</td>\n",
       "      <td>99.82</td>\n",
       "    </tr>\n",
       "    <tr>\n",
       "      <td>2013</td>\n",
       "      <td>1.54</td>\n",
       "      <td>0.00</td>\n",
       "      <td>0.00</td>\n",
       "      <td>0.00</td>\n",
       "      <td>113.25</td>\n",
       "      <td>25.99</td>\n",
       "      <td>3.14</td>\n",
       "      <td>8.59</td>\n",
       "      <td>88.58</td>\n",
       "    </tr>\n",
       "    <tr>\n",
       "      <td>2014</td>\n",
       "      <td>0.00</td>\n",
       "      <td>0.00</td>\n",
       "      <td>0.00</td>\n",
       "      <td>0.00</td>\n",
       "      <td>47.76</td>\n",
       "      <td>100.00</td>\n",
       "      <td>0.24</td>\n",
       "      <td>3.75</td>\n",
       "      <td>34.74</td>\n",
       "    </tr>\n",
       "    <tr>\n",
       "      <td>2015</td>\n",
       "      <td>0.00</td>\n",
       "      <td>0.00</td>\n",
       "      <td>0.00</td>\n",
       "      <td>0.00</td>\n",
       "      <td>16.82</td>\n",
       "      <td>118.90</td>\n",
       "      <td>0.12</td>\n",
       "      <td>1.14</td>\n",
       "      <td>11.96</td>\n",
       "    </tr>\n",
       "    <tr>\n",
       "      <td>2016</td>\n",
       "      <td>0.00</td>\n",
       "      <td>0.00</td>\n",
       "      <td>0.00</td>\n",
       "      <td>0.00</td>\n",
       "      <td>3.60</td>\n",
       "      <td>69.25</td>\n",
       "      <td>0.00</td>\n",
       "      <td>0.18</td>\n",
       "      <td>1.52</td>\n",
       "    </tr>\n",
       "  </tbody>\n",
       "</table>\n",
       "</div>"
      ],
      "text/plain": [
       "platform             DS    GBA      PS     PS2     PS3     PS4    PSP     Wii  \\\n",
       "year_of_release                                                                 \n",
       "1985               0.02   0.00    0.00    0.00    0.00    0.00   0.00    0.00   \n",
       "1989               0.00   0.00    0.00    0.17    0.00    0.00   0.00    0.00   \n",
       "1994               0.00   0.00    6.03    0.00    0.00    0.00   0.00    0.00   \n",
       "1995               0.00   0.00   35.96    0.00    0.00    0.00   0.00    0.00   \n",
       "1996               0.00   0.00   94.70    0.00    0.00    0.00   0.00    0.00   \n",
       "1997               0.00   0.00  136.17    0.95    0.00    0.00   0.00    0.00   \n",
       "1998               0.00   0.00  170.99    0.00    0.00    0.00   0.00    0.00   \n",
       "1999               0.00   0.00  145.58    0.00    0.00    0.00   0.00    0.04   \n",
       "2000               0.00   0.07   96.76   39.17    0.00    0.00   0.00    0.00   \n",
       "2001               0.00  63.93   35.93  166.82    0.00    0.00   0.00    0.00   \n",
       "2002               0.00  74.53    6.67  209.18    0.00    0.00   0.00    0.00   \n",
       "2003               0.00  56.70    2.07  186.08    0.00    0.00   0.00    0.00   \n",
       "2004              17.27  78.93    0.00  220.85    0.00    0.00   7.06    0.00   \n",
       "2005             130.23  34.72    0.00  161.38    0.00    0.00  43.84    0.00   \n",
       "2006             120.07   5.46    0.00  107.50   21.44    0.00  56.30  140.54   \n",
       "2007             147.30   3.40    0.00   77.28   74.87    0.00  47.30  155.50   \n",
       "2008             146.10   0.00    0.00   53.90  119.56    0.00  36.02  177.76   \n",
       "2009             119.99   0.00    0.00   26.40  131.23    0.00  38.58  207.37   \n",
       "2010              85.47   0.00    0.00    5.64  143.89    0.00  35.31  129.66   \n",
       "2011              26.99   0.00    0.00    0.45  159.80    0.00  18.33   61.25   \n",
       "2012              11.07   0.00    0.00    0.00  107.43    0.00   7.81   21.73   \n",
       "2013               1.54   0.00    0.00    0.00  113.25   25.99   3.14    8.59   \n",
       "2014               0.00   0.00    0.00    0.00   47.76  100.00   0.24    3.75   \n",
       "2015               0.00   0.00    0.00    0.00   16.82  118.90   0.12    1.14   \n",
       "2016               0.00   0.00    0.00    0.00    3.60   69.25   0.00    0.18   \n",
       "\n",
       "platform           X360  \n",
       "year_of_release          \n",
       "1985               0.00  \n",
       "1989               0.00  \n",
       "1994               0.00  \n",
       "1995               0.00  \n",
       "1996               0.00  \n",
       "1997               0.00  \n",
       "1998               0.00  \n",
       "1999               0.00  \n",
       "2000               0.00  \n",
       "2001               0.00  \n",
       "2002               0.00  \n",
       "2003               0.00  \n",
       "2004               0.00  \n",
       "2005               9.10  \n",
       "2006              51.79  \n",
       "2007              97.89  \n",
       "2008             137.00  \n",
       "2009             121.00  \n",
       "2010             170.70  \n",
       "2011             147.32  \n",
       "2012              99.82  \n",
       "2013              88.58  \n",
       "2014              34.74  \n",
       "2015              11.96  \n",
       "2016               1.52  "
      ]
     },
     "execution_count": 25,
     "metadata": {},
     "output_type": "execute_result"
    }
   ],
   "source": [
    "# подсчет суммарных продаж для первых 9 платформ по годам\n",
    "top_sales = ['PS2', 'X360', 'PS3', 'Wii', 'DS', 'PS', 'GBA', 'PS4', 'PSP']\n",
    "top = df.query('platform==@top_sales').pivot_table(\n",
    "    index=['year_of_release'], columns='platform', values='total_sales', aggfunc='sum').fillna(0) # в тех годах, где не было продаж, пропуски заполним 0\n",
    "top"
   ]
  },
  {
   "cell_type": "code",
   "execution_count": 26,
   "metadata": {},
   "outputs": [
    {
     "data": {
      "image/png": "[encoded data removed]",
      "text/plain": [
       "<Figure size 720x360 with 1 Axes>"
      ]
     },
     "metadata": {
      "needs_background": "light"
     },
     "output_type": "display_data"
    }
   ],
   "source": [
    "# распределение продаж по годам и платформам\n",
    "top.plot(title='Платформы с наибольшими сумарными продажами', figsize=(10,5));\n",
    "plt.show()"
   ]
  },
  {
   "cell_type": "code",
   "execution_count": 27,
   "metadata": {},
   "outputs": [
    {
     "data": {
      "image/png": "[encoded data removed]",
      "text/plain": [
       "<Figure size 432x288 with 1 Axes>"
      ]
     },
     "metadata": {
      "needs_background": "light"
     },
     "output_type": "display_data"
    },
    {
     "data": {
      "image/png": "[encoded data removed]",
      "text/plain": [
       "<Figure size 432x288 with 1 Axes>"
      ]
     },
     "metadata": {
      "needs_background": "light"
     },
     "output_type": "display_data"
    },
    {
     "data": {
      "image/png": "[encoded data removed]",
      "text/plain": [
       "<Figure size 432x288 with 1 Axes>"
      ]
     },
     "metadata": {
      "needs_background": "light"
     },
     "output_type": "display_data"
    },
    {
     "data": {
      "image/png": "[encoded data removed]",
      "text/plain": [
       "<Figure size 432x288 with 1 Axes>"
      ]
     },
     "metadata": {
      "needs_background": "light"
     },
     "output_type": "display_data"
    },
    {
     "data": {
      "image/png": "[encoded data removed]",
      "text/plain": [
       "<Figure size 432x288 with 1 Axes>"
      ]
     },
     "metadata": {
      "needs_background": "light"
     },
     "output_type": "display_data"
    },
    {
     "data": {
      "image/png": "[encoded data removed]",
      "text/plain": [
       "<Figure size 432x288 with 1 Axes>"
      ]
     },
     "metadata": {
      "needs_background": "light"
     },
     "output_type": "display_data"
    },
    {
     "data": {
      "image/png": "[encoded data removed]",
      "text/plain": [
       "<Figure size 432x288 with 1 Axes>"
      ]
     },
     "metadata": {
      "needs_background": "light"
     },
     "output_type": "display_data"
    },
    {
     "data": {
      "image/png": "[encoded data removed]",
      "text/plain": [
       "<Figure size 432x288 with 1 Axes>"
      ]
     },
     "metadata": {
      "needs_background": "light"
     },
     "output_type": "display_data"
    },
    {
     "data": {
      "image/png": "[encoded data removed]",
      "text/plain": [
       "<Figure size 432x288 with 1 Axes>"
      ]
     },
     "metadata": {
      "needs_background": "light"
     },
     "output_type": "display_data"
    }
   ],
   "source": [
    "# распределение продаж для каждой платформы\n",
    "for platform in top_sales:\n",
    "    df.query('platform==@platform').pivot_table(\n",
    "    index=['year_of_release'], columns='platform', values='total_sales', aggfunc='sum').fillna(0).plot();"
   ]
  },
  {
   "cell_type": "markdown",
   "metadata": {},
   "source": [
    "На графике видно, что одни платформы сменяют другие, появляются новые. Например с 1994 по 2003 была платформа PS, затем были выпущеные новые версии консолей и на смену пришли PS2, затем PS3, а в 2013 появилась PS4. Актуальными платформы держаться лет 5-6 и за года 3-4 полностью теряют свою актуальность."
   ]
  },
  {
   "cell_type": "markdown",
   "metadata": {},
   "source": [
    "Для дальнейшего исследования оставим только данные за соответствующий актуальный период. Актуальным периодом будем считать 2014-2016 года."
   ]
  },
  {
   "cell_type": "code",
   "execution_count": 28,
   "metadata": {},
   "outputs": [
    {
     "data": {
      "text/html": [
       "<div>\n",
       "<style scoped>\n",
       "    .dataframe tbody tr th:only-of-type {\n",
       "        vertical-align: middle;\n",
       "    }\n",
       "\n",
       "    .dataframe tbody tr th {\n",
       "        vertical-align: top;\n",
       "    }\n",
       "\n",
       "    .dataframe thead th {\n",
       "        text-align: right;\n",
       "    }\n",
       "</style>\n",
       "<table border=\"1\" class=\"dataframe\">\n",
       "  <thead>\n",
       "    <tr style=\"text-align: right;\">\n",
       "      <th></th>\n",
       "      <th>name</th>\n",
       "      <th>platform</th>\n",
       "      <th>year_of_release</th>\n",
       "      <th>genre</th>\n",
       "      <th>na_sales</th>\n",
       "      <th>eu_sales</th>\n",
       "      <th>jp_sales</th>\n",
       "      <th>other_sales</th>\n",
       "      <th>critic_score</th>\n",
       "      <th>user_score</th>\n",
       "      <th>rating</th>\n",
       "      <th>total_sales</th>\n",
       "    </tr>\n",
       "  </thead>\n",
       "  <tbody>\n",
       "    <tr>\n",
       "      <td>31</td>\n",
       "      <td>Call of Duty: Black Ops 3</td>\n",
       "      <td>PS4</td>\n",
       "      <td>2015</td>\n",
       "      <td>Shooter</td>\n",
       "      <td>6.03</td>\n",
       "      <td>5.86</td>\n",
       "      <td>0.36</td>\n",
       "      <td>2.38</td>\n",
       "      <td>NaN</td>\n",
       "      <td>NaN</td>\n",
       "      <td>NN</td>\n",
       "      <td>14.63</td>\n",
       "    </tr>\n",
       "    <tr>\n",
       "      <td>42</td>\n",
       "      <td>Grand Theft Auto V</td>\n",
       "      <td>PS4</td>\n",
       "      <td>2014</td>\n",
       "      <td>Action</td>\n",
       "      <td>3.96</td>\n",
       "      <td>6.31</td>\n",
       "      <td>0.38</td>\n",
       "      <td>1.97</td>\n",
       "      <td>97.0</td>\n",
       "      <td>8.3</td>\n",
       "      <td>M</td>\n",
       "      <td>12.62</td>\n",
       "    </tr>\n",
       "    <tr>\n",
       "      <td>47</td>\n",
       "      <td>Pokemon Omega Ruby/Pokemon Alpha Sapphire</td>\n",
       "      <td>3DS</td>\n",
       "      <td>2014</td>\n",
       "      <td>Role-Playing</td>\n",
       "      <td>4.35</td>\n",
       "      <td>3.49</td>\n",
       "      <td>3.10</td>\n",
       "      <td>0.74</td>\n",
       "      <td>NaN</td>\n",
       "      <td>NaN</td>\n",
       "      <td>NN</td>\n",
       "      <td>11.68</td>\n",
       "    </tr>\n",
       "    <tr>\n",
       "      <td>77</td>\n",
       "      <td>FIFA 16</td>\n",
       "      <td>PS4</td>\n",
       "      <td>2015</td>\n",
       "      <td>Sports</td>\n",
       "      <td>1.12</td>\n",
       "      <td>6.12</td>\n",
       "      <td>0.06</td>\n",
       "      <td>1.28</td>\n",
       "      <td>82.0</td>\n",
       "      <td>4.3</td>\n",
       "      <td>E</td>\n",
       "      <td>8.58</td>\n",
       "    </tr>\n",
       "    <tr>\n",
       "      <td>87</td>\n",
       "      <td>Star Wars Battlefront (2015)</td>\n",
       "      <td>PS4</td>\n",
       "      <td>2015</td>\n",
       "      <td>Shooter</td>\n",
       "      <td>2.99</td>\n",
       "      <td>3.49</td>\n",
       "      <td>0.22</td>\n",
       "      <td>1.28</td>\n",
       "      <td>NaN</td>\n",
       "      <td>NaN</td>\n",
       "      <td>NN</td>\n",
       "      <td>7.98</td>\n",
       "    </tr>\n",
       "    <tr>\n",
       "      <td>...</td>\n",
       "      <td>...</td>\n",
       "      <td>...</td>\n",
       "      <td>...</td>\n",
       "      <td>...</td>\n",
       "      <td>...</td>\n",
       "      <td>...</td>\n",
       "      <td>...</td>\n",
       "      <td>...</td>\n",
       "      <td>...</td>\n",
       "      <td>...</td>\n",
       "      <td>...</td>\n",
       "      <td>...</td>\n",
       "    </tr>\n",
       "    <tr>\n",
       "      <td>16703</td>\n",
       "      <td>Strawberry Nauts</td>\n",
       "      <td>PSV</td>\n",
       "      <td>2016</td>\n",
       "      <td>Adventure</td>\n",
       "      <td>0.00</td>\n",
       "      <td>0.00</td>\n",
       "      <td>0.01</td>\n",
       "      <td>0.00</td>\n",
       "      <td>NaN</td>\n",
       "      <td>NaN</td>\n",
       "      <td>NN</td>\n",
       "      <td>0.01</td>\n",
       "    </tr>\n",
       "    <tr>\n",
       "      <td>16707</td>\n",
       "      <td>Aiyoku no Eustia</td>\n",
       "      <td>PSV</td>\n",
       "      <td>2014</td>\n",
       "      <td>Misc</td>\n",
       "      <td>0.00</td>\n",
       "      <td>0.00</td>\n",
       "      <td>0.01</td>\n",
       "      <td>0.00</td>\n",
       "      <td>NaN</td>\n",
       "      <td>NaN</td>\n",
       "      <td>NN</td>\n",
       "      <td>0.01</td>\n",
       "    </tr>\n",
       "    <tr>\n",
       "      <td>16710</td>\n",
       "      <td>Samurai Warriors: Sanada Maru</td>\n",
       "      <td>PS3</td>\n",
       "      <td>2016</td>\n",
       "      <td>Action</td>\n",
       "      <td>0.00</td>\n",
       "      <td>0.00</td>\n",
       "      <td>0.01</td>\n",
       "      <td>0.00</td>\n",
       "      <td>NaN</td>\n",
       "      <td>NaN</td>\n",
       "      <td>NN</td>\n",
       "      <td>0.01</td>\n",
       "    </tr>\n",
       "    <tr>\n",
       "      <td>16712</td>\n",
       "      <td>Haitaka no Psychedelica</td>\n",
       "      <td>PSV</td>\n",
       "      <td>2016</td>\n",
       "      <td>Adventure</td>\n",
       "      <td>0.00</td>\n",
       "      <td>0.00</td>\n",
       "      <td>0.01</td>\n",
       "      <td>0.00</td>\n",
       "      <td>NaN</td>\n",
       "      <td>NaN</td>\n",
       "      <td>NN</td>\n",
       "      <td>0.01</td>\n",
       "    </tr>\n",
       "    <tr>\n",
       "      <td>16714</td>\n",
       "      <td>Winning Post 8 2016</td>\n",
       "      <td>PSV</td>\n",
       "      <td>2016</td>\n",
       "      <td>Simulation</td>\n",
       "      <td>0.00</td>\n",
       "      <td>0.00</td>\n",
       "      <td>0.01</td>\n",
       "      <td>0.00</td>\n",
       "      <td>NaN</td>\n",
       "      <td>NaN</td>\n",
       "      <td>NN</td>\n",
       "      <td>0.01</td>\n",
       "    </tr>\n",
       "  </tbody>\n",
       "</table>\n",
       "<p>1689 rows × 12 columns</p>\n",
       "</div>"
      ],
      "text/plain": [
       "                                            name platform  year_of_release  \\\n",
       "31                     Call of Duty: Black Ops 3      PS4             2015   \n",
       "42                            Grand Theft Auto V      PS4             2014   \n",
       "47     Pokemon Omega Ruby/Pokemon Alpha Sapphire      3DS             2014   \n",
       "77                                       FIFA 16      PS4             2015   \n",
       "87                  Star Wars Battlefront (2015)      PS4             2015   \n",
       "...                                          ...      ...              ...   \n",
       "16703                           Strawberry Nauts      PSV             2016   \n",
       "16707                           Aiyoku no Eustia      PSV             2014   \n",
       "16710              Samurai Warriors: Sanada Maru      PS3             2016   \n",
       "16712                    Haitaka no Psychedelica      PSV             2016   \n",
       "16714                        Winning Post 8 2016      PSV             2016   \n",
       "\n",
       "              genre  na_sales  eu_sales  jp_sales  other_sales  critic_score  \\\n",
       "31          Shooter      6.03      5.86      0.36         2.38           NaN   \n",
       "42           Action      3.96      6.31      0.38         1.97          97.0   \n",
       "47     Role-Playing      4.35      3.49      3.10         0.74           NaN   \n",
       "77           Sports      1.12      6.12      0.06         1.28          82.0   \n",
       "87          Shooter      2.99      3.49      0.22         1.28           NaN   \n",
       "...             ...       ...       ...       ...          ...           ...   \n",
       "16703     Adventure      0.00      0.00      0.01         0.00           NaN   \n",
       "16707          Misc      0.00      0.00      0.01         0.00           NaN   \n",
       "16710        Action      0.00      0.00      0.01         0.00           NaN   \n",
       "16712     Adventure      0.00      0.00      0.01         0.00           NaN   \n",
       "16714    Simulation      0.00      0.00      0.01         0.00           NaN   \n",
       "\n",
       "       user_score rating  total_sales  \n",
       "31            NaN     NN        14.63  \n",
       "42            8.3      M        12.62  \n",
       "47            NaN     NN        11.68  \n",
       "77            4.3      E         8.58  \n",
       "87            NaN     NN         7.98  \n",
       "...           ...    ...          ...  \n",
       "16703         NaN     NN         0.01  \n",
       "16707         NaN     NN         0.01  \n",
       "16710         NaN     NN         0.01  \n",
       "16712         NaN     NN         0.01  \n",
       "16714         NaN     NN         0.01  \n",
       "\n",
       "[1689 rows x 12 columns]"
      ]
     },
     "execution_count": 28,
     "metadata": {},
     "output_type": "execute_result"
    }
   ],
   "source": [
    "# отбор данных за актуальный период\n",
    "df_actual = df.query('year_of_release>=2014')\n",
    "df_actual"
   ]
  },
  {
   "cell_type": "code",
   "execution_count": 29,
   "metadata": {},
   "outputs": [
    {
     "data": {
      "text/html": [
       "<div>\n",
       "<style scoped>\n",
       "    .dataframe tbody tr th:only-of-type {\n",
       "        vertical-align: middle;\n",
       "    }\n",
       "\n",
       "    .dataframe tbody tr th {\n",
       "        vertical-align: top;\n",
       "    }\n",
       "\n",
       "    .dataframe thead th {\n",
       "        text-align: right;\n",
       "    }\n",
       "</style>\n",
       "<table border=\"1\" class=\"dataframe\">\n",
       "  <thead>\n",
       "    <tr style=\"text-align: right;\">\n",
       "      <th>platform</th>\n",
       "      <th>3DS</th>\n",
       "      <th>PC</th>\n",
       "      <th>PS3</th>\n",
       "      <th>PS4</th>\n",
       "      <th>PSP</th>\n",
       "      <th>PSV</th>\n",
       "      <th>Wii</th>\n",
       "      <th>WiiU</th>\n",
       "      <th>X360</th>\n",
       "      <th>XOne</th>\n",
       "    </tr>\n",
       "    <tr>\n",
       "      <th>year_of_release</th>\n",
       "      <th></th>\n",
       "      <th></th>\n",
       "      <th></th>\n",
       "      <th></th>\n",
       "      <th></th>\n",
       "      <th></th>\n",
       "      <th></th>\n",
       "      <th></th>\n",
       "      <th></th>\n",
       "      <th></th>\n",
       "    </tr>\n",
       "  </thead>\n",
       "  <tbody>\n",
       "    <tr>\n",
       "      <td>2014</td>\n",
       "      <td>43.76</td>\n",
       "      <td>13.28</td>\n",
       "      <td>47.76</td>\n",
       "      <td>100.00</td>\n",
       "      <td>0.24</td>\n",
       "      <td>11.90</td>\n",
       "      <td>3.75</td>\n",
       "      <td>22.03</td>\n",
       "      <td>34.74</td>\n",
       "      <td>54.07</td>\n",
       "    </tr>\n",
       "    <tr>\n",
       "      <td>2015</td>\n",
       "      <td>27.78</td>\n",
       "      <td>8.52</td>\n",
       "      <td>16.82</td>\n",
       "      <td>118.90</td>\n",
       "      <td>0.12</td>\n",
       "      <td>6.25</td>\n",
       "      <td>1.14</td>\n",
       "      <td>16.35</td>\n",
       "      <td>11.96</td>\n",
       "      <td>60.14</td>\n",
       "    </tr>\n",
       "    <tr>\n",
       "      <td>2016</td>\n",
       "      <td>15.14</td>\n",
       "      <td>5.25</td>\n",
       "      <td>3.60</td>\n",
       "      <td>69.25</td>\n",
       "      <td>NaN</td>\n",
       "      <td>4.25</td>\n",
       "      <td>0.18</td>\n",
       "      <td>4.60</td>\n",
       "      <td>1.52</td>\n",
       "      <td>26.15</td>\n",
       "    </tr>\n",
       "  </tbody>\n",
       "</table>\n",
       "</div>"
      ],
      "text/plain": [
       "platform           3DS     PC    PS3     PS4   PSP    PSV   Wii   WiiU   X360  \\\n",
       "year_of_release                                                                 \n",
       "2014             43.76  13.28  47.76  100.00  0.24  11.90  3.75  22.03  34.74   \n",
       "2015             27.78   8.52  16.82  118.90  0.12   6.25  1.14  16.35  11.96   \n",
       "2016             15.14   5.25   3.60   69.25   NaN   4.25  0.18   4.60   1.52   \n",
       "\n",
       "platform          XOne  \n",
       "year_of_release         \n",
       "2014             54.07  \n",
       "2015             60.14  \n",
       "2016             26.15  "
      ]
     },
     "execution_count": 29,
     "metadata": {},
     "output_type": "execute_result"
    }
   ],
   "source": [
    "# продажи по платформам\n",
    "df_platform = df_actual.pivot_table(index=['year_of_release'], columns='platform', values='total_sales', aggfunc='sum')\n",
    "df_platform"
   ]
  },
  {
   "cell_type": "markdown",
   "metadata": {},
   "source": [
    "Из таблицы видно, что лидирует по продажам платформа PS4, так же можно выделить XOne и 3DS. Платформы PSP и Wii имеют самые маленькие продажи, т.е можно сказать, что устарели."
   ]
  },
  {
   "cell_type": "code",
   "execution_count": 30,
   "metadata": {
    "scrolled": true
   },
   "outputs": [
    {
     "data": {
      "image/png": "[encoded data removed]",
      "text/plain": [
       "<Figure size 432x288 with 1 Axes>"
      ]
     },
     "metadata": {
      "needs_background": "light"
     },
     "output_type": "display_data"
    }
   ],
   "source": [
    "# \"ящик с усами\" по глобальным продажам игр в разбивке по платформам\n",
    "sns.boxplot(data=df_platform);"
   ]
  },
  {
   "cell_type": "markdown",
   "metadata": {},
   "source": [
    "Мы видим, что среди платформ выделяется платформа PS4. Количество проданных игр за три года в несколько раз превышает продажи на других платформах."
   ]
  },
  {
   "cell_type": "markdown",
   "metadata": {},
   "source": [
    "Далее посмотрим, как влияют на продажи внутри платформы отзывы пользователей и критиков на примере платформы PS3. Для этого построим диаграмму рассеяния и посчитаем корреляцию между отзывами и продажами."
   ]
  },
  {
   "cell_type": "code",
   "execution_count": 31,
   "metadata": {},
   "outputs": [
    {
     "data": {
      "text/html": [
       "<div>\n",
       "<style scoped>\n",
       "    .dataframe tbody tr th:only-of-type {\n",
       "        vertical-align: middle;\n",
       "    }\n",
       "\n",
       "    .dataframe tbody tr th {\n",
       "        vertical-align: top;\n",
       "    }\n",
       "\n",
       "    .dataframe thead th {\n",
       "        text-align: right;\n",
       "    }\n",
       "</style>\n",
       "<table border=\"1\" class=\"dataframe\">\n",
       "  <thead>\n",
       "    <tr style=\"text-align: right;\">\n",
       "      <th></th>\n",
       "      <th>name</th>\n",
       "      <th>platform</th>\n",
       "      <th>year_of_release</th>\n",
       "      <th>genre</th>\n",
       "      <th>na_sales</th>\n",
       "      <th>eu_sales</th>\n",
       "      <th>jp_sales</th>\n",
       "      <th>other_sales</th>\n",
       "      <th>critic_score</th>\n",
       "      <th>user_score</th>\n",
       "      <th>rating</th>\n",
       "      <th>total_sales</th>\n",
       "    </tr>\n",
       "  </thead>\n",
       "  <tbody>\n",
       "    <tr>\n",
       "      <td>180</td>\n",
       "      <td>Minecraft</td>\n",
       "      <td>PS3</td>\n",
       "      <td>2014</td>\n",
       "      <td>Misc</td>\n",
       "      <td>2.03</td>\n",
       "      <td>2.37</td>\n",
       "      <td>0.00</td>\n",
       "      <td>0.87</td>\n",
       "      <td>NaN</td>\n",
       "      <td>NaN</td>\n",
       "      <td>NN</td>\n",
       "      <td>5.27</td>\n",
       "    </tr>\n",
       "    <tr>\n",
       "      <td>255</td>\n",
       "      <td>Call of Duty: Advanced Warfare</td>\n",
       "      <td>PS3</td>\n",
       "      <td>2014</td>\n",
       "      <td>Shooter</td>\n",
       "      <td>1.56</td>\n",
       "      <td>1.93</td>\n",
       "      <td>0.19</td>\n",
       "      <td>0.68</td>\n",
       "      <td>81.0</td>\n",
       "      <td>4.8</td>\n",
       "      <td>M</td>\n",
       "      <td>4.36</td>\n",
       "    </tr>\n",
       "    <tr>\n",
       "      <td>264</td>\n",
       "      <td>FIFA 15</td>\n",
       "      <td>PS3</td>\n",
       "      <td>2014</td>\n",
       "      <td>Sports</td>\n",
       "      <td>0.58</td>\n",
       "      <td>3.02</td>\n",
       "      <td>0.04</td>\n",
       "      <td>0.64</td>\n",
       "      <td>82.0</td>\n",
       "      <td>4.5</td>\n",
       "      <td>E</td>\n",
       "      <td>4.28</td>\n",
       "    </tr>\n",
       "    <tr>\n",
       "      <td>552</td>\n",
       "      <td>FIFA 16</td>\n",
       "      <td>PS3</td>\n",
       "      <td>2015</td>\n",
       "      <td>Sports</td>\n",
       "      <td>0.41</td>\n",
       "      <td>1.84</td>\n",
       "      <td>0.05</td>\n",
       "      <td>0.40</td>\n",
       "      <td>82.0</td>\n",
       "      <td>3.2</td>\n",
       "      <td>E</td>\n",
       "      <td>2.70</td>\n",
       "    </tr>\n",
       "    <tr>\n",
       "      <td>1021</td>\n",
       "      <td>Watch Dogs</td>\n",
       "      <td>PS3</td>\n",
       "      <td>2014</td>\n",
       "      <td>Action</td>\n",
       "      <td>0.56</td>\n",
       "      <td>0.81</td>\n",
       "      <td>0.10</td>\n",
       "      <td>0.27</td>\n",
       "      <td>74.0</td>\n",
       "      <td>5.1</td>\n",
       "      <td>M</td>\n",
       "      <td>1.74</td>\n",
       "    </tr>\n",
       "    <tr>\n",
       "      <td>...</td>\n",
       "      <td>...</td>\n",
       "      <td>...</td>\n",
       "      <td>...</td>\n",
       "      <td>...</td>\n",
       "      <td>...</td>\n",
       "      <td>...</td>\n",
       "      <td>...</td>\n",
       "      <td>...</td>\n",
       "      <td>...</td>\n",
       "      <td>...</td>\n",
       "      <td>...</td>\n",
       "      <td>...</td>\n",
       "    </tr>\n",
       "    <tr>\n",
       "      <td>16558</td>\n",
       "      <td>Naruto Shippuden: Ultimate Ninja Storm Collection</td>\n",
       "      <td>PS3</td>\n",
       "      <td>2016</td>\n",
       "      <td>Action</td>\n",
       "      <td>0.00</td>\n",
       "      <td>0.01</td>\n",
       "      <td>0.00</td>\n",
       "      <td>0.00</td>\n",
       "      <td>NaN</td>\n",
       "      <td>NaN</td>\n",
       "      <td>NN</td>\n",
       "      <td>0.01</td>\n",
       "    </tr>\n",
       "    <tr>\n",
       "      <td>16638</td>\n",
       "      <td>Tour de France 2014</td>\n",
       "      <td>PS3</td>\n",
       "      <td>2014</td>\n",
       "      <td>Sports</td>\n",
       "      <td>0.00</td>\n",
       "      <td>0.01</td>\n",
       "      <td>0.00</td>\n",
       "      <td>0.00</td>\n",
       "      <td>53.0</td>\n",
       "      <td>5.1</td>\n",
       "      <td>E</td>\n",
       "      <td>0.01</td>\n",
       "    </tr>\n",
       "    <tr>\n",
       "      <td>16674</td>\n",
       "      <td>Tsukigime Ranko's Longest Day</td>\n",
       "      <td>PS3</td>\n",
       "      <td>2014</td>\n",
       "      <td>Action</td>\n",
       "      <td>0.00</td>\n",
       "      <td>0.01</td>\n",
       "      <td>0.00</td>\n",
       "      <td>0.00</td>\n",
       "      <td>NaN</td>\n",
       "      <td>NaN</td>\n",
       "      <td>NN</td>\n",
       "      <td>0.01</td>\n",
       "    </tr>\n",
       "    <tr>\n",
       "      <td>16691</td>\n",
       "      <td>Dynasty Warriors: Eiketsuden</td>\n",
       "      <td>PS3</td>\n",
       "      <td>2016</td>\n",
       "      <td>Action</td>\n",
       "      <td>0.00</td>\n",
       "      <td>0.00</td>\n",
       "      <td>0.01</td>\n",
       "      <td>0.00</td>\n",
       "      <td>NaN</td>\n",
       "      <td>NaN</td>\n",
       "      <td>NN</td>\n",
       "      <td>0.01</td>\n",
       "    </tr>\n",
       "    <tr>\n",
       "      <td>16710</td>\n",
       "      <td>Samurai Warriors: Sanada Maru</td>\n",
       "      <td>PS3</td>\n",
       "      <td>2016</td>\n",
       "      <td>Action</td>\n",
       "      <td>0.00</td>\n",
       "      <td>0.00</td>\n",
       "      <td>0.01</td>\n",
       "      <td>0.00</td>\n",
       "      <td>NaN</td>\n",
       "      <td>NaN</td>\n",
       "      <td>NN</td>\n",
       "      <td>0.01</td>\n",
       "    </tr>\n",
       "  </tbody>\n",
       "</table>\n",
       "<p>219 rows × 12 columns</p>\n",
       "</div>"
      ],
      "text/plain": [
       "                                                    name platform  \\\n",
       "180                                            Minecraft      PS3   \n",
       "255                       Call of Duty: Advanced Warfare      PS3   \n",
       "264                                              FIFA 15      PS3   \n",
       "552                                              FIFA 16      PS3   \n",
       "1021                                          Watch Dogs      PS3   \n",
       "...                                                  ...      ...   \n",
       "16558  Naruto Shippuden: Ultimate Ninja Storm Collection      PS3   \n",
       "16638                                Tour de France 2014      PS3   \n",
       "16674                      Tsukigime Ranko's Longest Day      PS3   \n",
       "16691                       Dynasty Warriors: Eiketsuden      PS3   \n",
       "16710                      Samurai Warriors: Sanada Maru      PS3   \n",
       "\n",
       "       year_of_release    genre  na_sales  eu_sales  jp_sales  other_sales  \\\n",
       "180               2014     Misc      2.03      2.37      0.00         0.87   \n",
       "255               2014  Shooter      1.56      1.93      0.19         0.68   \n",
       "264               2014   Sports      0.58      3.02      0.04         0.64   \n",
       "552               2015   Sports      0.41      1.84      0.05         0.40   \n",
       "1021              2014   Action      0.56      0.81      0.10         0.27   \n",
       "...                ...      ...       ...       ...       ...          ...   \n",
       "16558             2016   Action      0.00      0.01      0.00         0.00   \n",
       "16638             2014   Sports      0.00      0.01      0.00         0.00   \n",
       "16674             2014   Action      0.00      0.01      0.00         0.00   \n",
       "16691             2016   Action      0.00      0.00      0.01         0.00   \n",
       "16710             2016   Action      0.00      0.00      0.01         0.00   \n",
       "\n",
       "       critic_score  user_score rating  total_sales  \n",
       "180             NaN         NaN     NN         5.27  \n",
       "255            81.0         4.8      M         4.36  \n",
       "264            82.0         4.5      E         4.28  \n",
       "552            82.0         3.2      E         2.70  \n",
       "1021           74.0         5.1      M         1.74  \n",
       "...             ...         ...    ...          ...  \n",
       "16558           NaN         NaN     NN         0.01  \n",
       "16638          53.0         5.1      E         0.01  \n",
       "16674           NaN         NaN     NN         0.01  \n",
       "16691           NaN         NaN     NN         0.01  \n",
       "16710           NaN         NaN     NN         0.01  \n",
       "\n",
       "[219 rows x 12 columns]"
      ]
     },
     "execution_count": 31,
     "metadata": {},
     "output_type": "execute_result"
    }
   ],
   "source": [
    "# срез данных по платформе PS3\n",
    "df_PS3 = df_actual.query('platform==\"PS3\"')\n",
    "df_PS3"
   ]
  },
  {
   "cell_type": "code",
   "execution_count": 32,
   "metadata": {},
   "outputs": [
    {
     "data": {
      "image/png": "[encoded data removed]",
      "text/plain": [
       "<Figure size 432x288 with 1 Axes>"
      ]
     },
     "metadata": {
      "needs_background": "light"
     },
     "output_type": "display_data"
    }
   ],
   "source": [
    "# диаграмма рассеивания по отзывам критиков\n",
    "df_PS3.plot(x='total_sales', y='critic_score', kind='scatter');"
   ]
  },
  {
   "cell_type": "code",
   "execution_count": 33,
   "metadata": {},
   "outputs": [
    {
     "data": {
      "text/plain": [
       "0.3183215658383992"
      ]
     },
     "execution_count": 33,
     "metadata": {},
     "output_type": "execute_result"
    }
   ],
   "source": [
    "# рассчет коэффициента корреляции между отзывами критиков и продажами\n",
    "df_PS3['critic_score'].corr(df_PS3['total_sales'])"
   ]
  },
  {
   "cell_type": "code",
   "execution_count": 34,
   "metadata": {},
   "outputs": [
    {
     "data": {
      "image/png": "[encoded data removed]",
      "text/plain": [
       "<Figure size 432x288 with 1 Axes>"
      ]
     },
     "metadata": {
      "needs_background": "light"
     },
     "output_type": "display_data"
    }
   ],
   "source": [
    "# диаграмма рассеивания по отзывам пользователей\n",
    "df_PS3.plot(x='total_sales', y='user_score', kind='scatter');"
   ]
  },
  {
   "cell_type": "code",
   "execution_count": 35,
   "metadata": {},
   "outputs": [
    {
     "data": {
      "text/plain": [
       "-0.14840710472933621"
      ]
     },
     "execution_count": 35,
     "metadata": {},
     "output_type": "execute_result"
    }
   ],
   "source": [
    "# рассчет коэффициента корреляции между отзывами пользователей и продажами\n",
    "df_PS3['user_score'].corr(df_PS3['total_sales'])"
   ]
  },
  {
   "cell_type": "markdown",
   "metadata": {},
   "source": [
    "В целом можно сказать, что игры с более высокими оценками зарабатывают больше. Влияние отзовов критиков больше чем влияние отзывов пользователей. Корреляция между отзывами пользователей и продажами отрицательная. При этом зависимость между продажами и отзывами критиков и пользователей слабая."
   ]
  },
  {
   "cell_type": "markdown",
   "metadata": {},
   "source": [
    "Теперь посмотрим на общее распределение игр по жанрам. Сгруппируем данные по жанрам и построим столбчатую диаграмму. Использовать для рассчетов будем средние продажи."
   ]
  },
  {
   "cell_type": "code",
   "execution_count": 36,
   "metadata": {},
   "outputs": [
    {
     "data": {
      "text/plain": [
       "genre\n",
       "Action          0.322068\n",
       "Adventure       0.094865\n",
       "Fighting        0.470333\n",
       "Misc            0.332301\n",
       "Platform        0.476053\n",
       "Puzzle          0.157857\n",
       "Racing          0.398841\n",
       "Role-Playing    0.459005\n",
       "Shooter         1.335469\n",
       "Simulation      0.298409\n",
       "Sports          0.680000\n",
       "Strategy        0.107027\n",
       "Name: total_sales, dtype: float64"
      ]
     },
     "execution_count": 36,
     "metadata": {},
     "output_type": "execute_result"
    }
   ],
   "source": [
    "# группировка средних продаж по жанрам\n",
    "df_actual.groupby('genre')['total_sales'].mean()"
   ]
  },
  {
   "cell_type": "code",
   "execution_count": 37,
   "metadata": {
    "scrolled": true
   },
   "outputs": [
    {
     "data": {
      "image/png": "[encoded data removed]",
      "text/plain": [
       "<Figure size 432x288 with 1 Axes>"
      ]
     },
     "metadata": {
      "needs_background": "light"
     },
     "output_type": "display_data"
    }
   ],
   "source": [
    "# столбчатая диаграмма \n",
    "df_actual.groupby('genre')['total_sales'].mean().plot(kind='bar');"
   ]
  },
  {
   "cell_type": "markdown",
   "metadata": {},
   "source": [
    "Всего имеются 12 жанров игр. Самым популярным, а следовательно самым прибыльным является жанр \"Shooter\", далее идут \"Sports\", \"Platform\" и \"Role-Playing\". А наименее прибыльными оказались игры жанра \"Adventure\", \"Strategy\" и \"Puzzle\"."
   ]
  },
  {
   "cell_type": "markdown",
   "metadata": {},
   "source": [
    "**Вывод**\n",
    "\n",
    "Таким образом, с 1994 года количество игр резко стало расти. Резкий рост количества выпущенных игр приходится на 2002-2011 года, а пик на 2008 и 2009 год. Для дальнейшего исследования были оставлены данные за актуальные период 2014-2016 гг. В эти годы лидирует по продажам платформа PS4, так же можно выделить XOne и 3DS. Платформы PSP и Wii имеют самые маленькие продажи, т.е можно сказать, что устарели. Из рассмотренных жанров самым популярным, а следовательно самым прибыльным является жанр \"Shooter\", далее идут \"Sports\", \"Platform\" и \"Role-Playing\". А наименее прибыльными оказались игры жанра \"Adventure\", \"Strategy\" и \"Puzzle\"."
   ]
  },
  {
   "cell_type": "markdown",
   "metadata": {},
   "source": [
    "## Портрет пользователя каждого региона"
   ]
  },
  {
   "cell_type": "markdown",
   "metadata": {},
   "source": [
    "Определим для пользователя каждого региона (NA, EU, JP) самые популярные платформы (топ-5)."
   ]
  },
  {
   "cell_type": "code",
   "execution_count": 38,
   "metadata": {},
   "outputs": [
    {
     "data": {
      "text/html": [
       "<div>\n",
       "<style scoped>\n",
       "    .dataframe tbody tr th:only-of-type {\n",
       "        vertical-align: middle;\n",
       "    }\n",
       "\n",
       "    .dataframe tbody tr th {\n",
       "        vertical-align: top;\n",
       "    }\n",
       "\n",
       "    .dataframe thead th {\n",
       "        text-align: right;\n",
       "    }\n",
       "</style>\n",
       "<table border=\"1\" class=\"dataframe\">\n",
       "  <thead>\n",
       "    <tr style=\"text-align: right;\">\n",
       "      <th></th>\n",
       "      <th>na_sales</th>\n",
       "      <th>eu_sales</th>\n",
       "      <th>jp_sales</th>\n",
       "    </tr>\n",
       "    <tr>\n",
       "      <th>platform</th>\n",
       "      <th></th>\n",
       "      <th></th>\n",
       "      <th></th>\n",
       "    </tr>\n",
       "  </thead>\n",
       "  <tbody>\n",
       "    <tr>\n",
       "      <td>3DS</td>\n",
       "      <td>22.64</td>\n",
       "      <td>16.12</td>\n",
       "      <td>44.24</td>\n",
       "    </tr>\n",
       "    <tr>\n",
       "      <td>PC</td>\n",
       "      <td>7.23</td>\n",
       "      <td>17.97</td>\n",
       "      <td>0.00</td>\n",
       "    </tr>\n",
       "    <tr>\n",
       "      <td>PS3</td>\n",
       "      <td>22.05</td>\n",
       "      <td>25.54</td>\n",
       "      <td>11.22</td>\n",
       "    </tr>\n",
       "    <tr>\n",
       "      <td>PS4</td>\n",
       "      <td>98.61</td>\n",
       "      <td>130.04</td>\n",
       "      <td>15.02</td>\n",
       "    </tr>\n",
       "    <tr>\n",
       "      <td>PSP</td>\n",
       "      <td>0.00</td>\n",
       "      <td>0.00</td>\n",
       "      <td>0.36</td>\n",
       "    </tr>\n",
       "    <tr>\n",
       "      <td>PSV</td>\n",
       "      <td>2.52</td>\n",
       "      <td>3.53</td>\n",
       "      <td>14.54</td>\n",
       "    </tr>\n",
       "    <tr>\n",
       "      <td>Wii</td>\n",
       "      <td>2.08</td>\n",
       "      <td>2.59</td>\n",
       "      <td>0.00</td>\n",
       "    </tr>\n",
       "    <tr>\n",
       "      <td>WiiU</td>\n",
       "      <td>19.36</td>\n",
       "      <td>13.15</td>\n",
       "      <td>7.31</td>\n",
       "    </tr>\n",
       "    <tr>\n",
       "      <td>X360</td>\n",
       "      <td>28.30</td>\n",
       "      <td>15.49</td>\n",
       "      <td>0.08</td>\n",
       "    </tr>\n",
       "    <tr>\n",
       "      <td>XOne</td>\n",
       "      <td>81.27</td>\n",
       "      <td>46.25</td>\n",
       "      <td>0.32</td>\n",
       "    </tr>\n",
       "  </tbody>\n",
       "</table>\n",
       "</div>"
      ],
      "text/plain": [
       "          na_sales  eu_sales  jp_sales\n",
       "platform                              \n",
       "3DS          22.64     16.12     44.24\n",
       "PC            7.23     17.97      0.00\n",
       "PS3          22.05     25.54     11.22\n",
       "PS4          98.61    130.04     15.02\n",
       "PSP           0.00      0.00      0.36\n",
       "PSV           2.52      3.53     14.54\n",
       "Wii           2.08      2.59      0.00\n",
       "WiiU         19.36     13.15      7.31\n",
       "X360         28.30     15.49      0.08\n",
       "XOne         81.27     46.25      0.32"
      ]
     },
     "execution_count": 38,
     "metadata": {},
     "output_type": "execute_result"
    }
   ],
   "source": [
    "# группировка продаж для каждого региона по платформам\n",
    "df_actual.groupby('platform').agg({'na_sales':'sum', 'eu_sales':'sum', 'jp_sales':'sum'})"
   ]
  },
  {
   "cell_type": "markdown",
   "metadata": {},
   "source": [
    "Для Северной Америки топ-5 платформ выглядит следующим образом: PS4, XOne, X360, 3DS и PS3. Для Европы распределение по платформам выглядет практически также кроме одной платформы: PS4, XOne, PS3, X360, PC, 3DS. В Японии топ платформ уже выглядет иначе: 3DS, PS4, PSV, PS3 и WiiU. То есть самая популярная платформа в Америке - это PS4 (34.7%) и XOne (28.6%), в Европе - PS4 (48%) и XOne (17%), а в Японии - 3DS (47.5%) и PS4 (15%)."
   ]
  },
  {
   "cell_type": "markdown",
   "metadata": {},
   "source": [
    "Теперь для каждого региона определим топ-5 популярных жанров."
   ]
  },
  {
   "cell_type": "code",
   "execution_count": 39,
   "metadata": {},
   "outputs": [
    {
     "data": {
      "text/html": [
       "<div>\n",
       "<style scoped>\n",
       "    .dataframe tbody tr th:only-of-type {\n",
       "        vertical-align: middle;\n",
       "    }\n",
       "\n",
       "    .dataframe tbody tr th {\n",
       "        vertical-align: top;\n",
       "    }\n",
       "\n",
       "    .dataframe thead th {\n",
       "        text-align: right;\n",
       "    }\n",
       "</style>\n",
       "<table border=\"1\" class=\"dataframe\">\n",
       "  <thead>\n",
       "    <tr style=\"text-align: right;\">\n",
       "      <th></th>\n",
       "      <th>na_sales</th>\n",
       "      <th>eu_sales</th>\n",
       "      <th>jp_sales</th>\n",
       "    </tr>\n",
       "    <tr>\n",
       "      <th>genre</th>\n",
       "      <th></th>\n",
       "      <th></th>\n",
       "      <th></th>\n",
       "    </tr>\n",
       "  </thead>\n",
       "  <tbody>\n",
       "    <tr>\n",
       "      <td>Action</td>\n",
       "      <td>72.53</td>\n",
       "      <td>74.68</td>\n",
       "      <td>29.58</td>\n",
       "    </tr>\n",
       "    <tr>\n",
       "      <td>Adventure</td>\n",
       "      <td>5.64</td>\n",
       "      <td>6.49</td>\n",
       "      <td>3.60</td>\n",
       "    </tr>\n",
       "    <tr>\n",
       "      <td>Fighting</td>\n",
       "      <td>12.43</td>\n",
       "      <td>6.69</td>\n",
       "      <td>6.37</td>\n",
       "    </tr>\n",
       "    <tr>\n",
       "      <td>Misc</td>\n",
       "      <td>15.05</td>\n",
       "      <td>12.86</td>\n",
       "      <td>5.61</td>\n",
       "    </tr>\n",
       "    <tr>\n",
       "      <td>Platform</td>\n",
       "      <td>6.79</td>\n",
       "      <td>6.80</td>\n",
       "      <td>2.69</td>\n",
       "    </tr>\n",
       "    <tr>\n",
       "      <td>Puzzle</td>\n",
       "      <td>0.65</td>\n",
       "      <td>0.52</td>\n",
       "      <td>0.93</td>\n",
       "    </tr>\n",
       "    <tr>\n",
       "      <td>Racing</td>\n",
       "      <td>8.74</td>\n",
       "      <td>14.13</td>\n",
       "      <td>1.76</td>\n",
       "    </tr>\n",
       "    <tr>\n",
       "      <td>Role-Playing</td>\n",
       "      <td>33.47</td>\n",
       "      <td>28.17</td>\n",
       "      <td>31.16</td>\n",
       "    </tr>\n",
       "    <tr>\n",
       "      <td>Shooter</td>\n",
       "      <td>79.02</td>\n",
       "      <td>65.52</td>\n",
       "      <td>4.87</td>\n",
       "    </tr>\n",
       "    <tr>\n",
       "      <td>Simulation</td>\n",
       "      <td>2.63</td>\n",
       "      <td>7.30</td>\n",
       "      <td>2.31</td>\n",
       "    </tr>\n",
       "    <tr>\n",
       "      <td>Sports</td>\n",
       "      <td>46.13</td>\n",
       "      <td>45.73</td>\n",
       "      <td>3.26</td>\n",
       "    </tr>\n",
       "    <tr>\n",
       "      <td>Strategy</td>\n",
       "      <td>0.98</td>\n",
       "      <td>1.79</td>\n",
       "      <td>0.95</td>\n",
       "    </tr>\n",
       "  </tbody>\n",
       "</table>\n",
       "</div>"
      ],
      "text/plain": [
       "              na_sales  eu_sales  jp_sales\n",
       "genre                                     \n",
       "Action           72.53     74.68     29.58\n",
       "Adventure         5.64      6.49      3.60\n",
       "Fighting         12.43      6.69      6.37\n",
       "Misc             15.05     12.86      5.61\n",
       "Platform          6.79      6.80      2.69\n",
       "Puzzle            0.65      0.52      0.93\n",
       "Racing            8.74     14.13      1.76\n",
       "Role-Playing     33.47     28.17     31.16\n",
       "Shooter          79.02     65.52      4.87\n",
       "Simulation        2.63      7.30      2.31\n",
       "Sports           46.13     45.73      3.26\n",
       "Strategy          0.98      1.79      0.95"
      ]
     },
     "execution_count": 39,
     "metadata": {},
     "output_type": "execute_result"
    }
   ],
   "source": [
    "# группировка продаж для каждого региона по жанрам\n",
    "df_actual.groupby('genre').agg({'na_sales':'sum', 'eu_sales':'sum', 'jp_sales':'sum'})"
   ]
  },
  {
   "cell_type": "markdown",
   "metadata": {},
   "source": [
    "Таким образом популярными жанрами для Северной Америки являются Shooter, Action, Sports, Role-Playing и Misc. Для Европы жанры совпадают за исключением гонок: Action, Shooter, Sports, Racing и Misc. А для Японии самым популярным жанром является Role-Playing и далее идут Action, Fighting, Misc, и Shooter."
   ]
  },
  {
   "cell_type": "markdown",
   "metadata": {},
   "source": [
    "Для определения влияния рейтинга ESRB на продажи в отдельном регионе сперва разберемся, что значит каждая буква рейтинга.\n",
    "АО - «Только для взрослых», \n",
    "Е - «Для всех», \n",
    "Е10+ - «Для всех от 10 лет и старше», \n",
    "ЕС - «Для детей младшего возраста», \n",
    "М - «Для взрослых», \n",
    "RP - «Рейтинг ожидается», \n",
    "Т - «Подросткам»."
   ]
  },
  {
   "cell_type": "code",
   "execution_count": 40,
   "metadata": {},
   "outputs": [
    {
     "data": {
      "text/html": [
       "<div>\n",
       "<style scoped>\n",
       "    .dataframe tbody tr th:only-of-type {\n",
       "        vertical-align: middle;\n",
       "    }\n",
       "\n",
       "    .dataframe tbody tr th {\n",
       "        vertical-align: top;\n",
       "    }\n",
       "\n",
       "    .dataframe thead th {\n",
       "        text-align: right;\n",
       "    }\n",
       "</style>\n",
       "<table border=\"1\" class=\"dataframe\">\n",
       "  <thead>\n",
       "    <tr style=\"text-align: right;\">\n",
       "      <th></th>\n",
       "      <th>na_sales</th>\n",
       "      <th>eu_sales</th>\n",
       "      <th>jp_sales</th>\n",
       "    </tr>\n",
       "    <tr>\n",
       "      <th>rating</th>\n",
       "      <th></th>\n",
       "      <th></th>\n",
       "      <th></th>\n",
       "    </tr>\n",
       "  </thead>\n",
       "  <tbody>\n",
       "    <tr>\n",
       "      <td>E</td>\n",
       "      <td>50.74</td>\n",
       "      <td>58.06</td>\n",
       "      <td>8.94</td>\n",
       "    </tr>\n",
       "    <tr>\n",
       "      <td>E10+</td>\n",
       "      <td>33.23</td>\n",
       "      <td>26.16</td>\n",
       "      <td>4.46</td>\n",
       "    </tr>\n",
       "    <tr>\n",
       "      <td>M</td>\n",
       "      <td>96.42</td>\n",
       "      <td>93.44</td>\n",
       "      <td>8.01</td>\n",
       "    </tr>\n",
       "    <tr>\n",
       "      <td>NN</td>\n",
       "      <td>64.72</td>\n",
       "      <td>58.95</td>\n",
       "      <td>56.90</td>\n",
       "    </tr>\n",
       "    <tr>\n",
       "      <td>T</td>\n",
       "      <td>38.95</td>\n",
       "      <td>34.07</td>\n",
       "      <td>14.78</td>\n",
       "    </tr>\n",
       "  </tbody>\n",
       "</table>\n",
       "</div>"
      ],
      "text/plain": [
       "        na_sales  eu_sales  jp_sales\n",
       "rating                              \n",
       "E          50.74     58.06      8.94\n",
       "E10+       33.23     26.16      4.46\n",
       "M          96.42     93.44      8.01\n",
       "NN         64.72     58.95     56.90\n",
       "T          38.95     34.07     14.78"
      ]
     },
     "execution_count": 40,
     "metadata": {},
     "output_type": "execute_result"
    }
   ],
   "source": [
    "# группировка продаж для каждого региона по рейтингу от организации ESRB\n",
    "df_actual.groupby('rating').agg({'na_sales':'sum', 'eu_sales':'sum', 'jp_sales':'sum'})"
   ]
  },
  {
   "cell_type": "code",
   "execution_count": 41,
   "metadata": {},
   "outputs": [
    {
     "data": {
      "image/png": "[encoded data removed]",
      "text/plain": [
       "<Figure size 1080x720 with 3 Axes>"
      ]
     },
     "metadata": {},
     "output_type": "display_data"
    }
   ],
   "source": [
    "# круговая диаграмма для каждого региона\n",
    "df_actual.groupby('rating').agg({'na_sales':'sum', 'eu_sales':'sum', 'jp_sales':'sum'}).plot(\n",
    "    kind='pie', subplots=True, figsize=(15, 10));"
   ]
  },
  {
   "cell_type": "markdown",
   "metadata": {},
   "source": [
    "Мы видим, что есть 4 основные категории игр: игры для всех, для взрослых, для подростков и для людей старше 10 лет. Это нам говорит о возрастных категориях, которые предпочитают играть в игры и соответственно покупают игры исходя из своих предпочтений, а не самого рейтинга. Кроме того есть огромное количество игр без рейтинга. На диаграмме видно, на сколько сильно различается распределение категорий игр в Японии по сравнению с Северной Америкой и Европой."
   ]
  },
  {
   "cell_type": "markdown",
   "metadata": {},
   "source": [
    "**Вывод**\n",
    "\n",
    "Интересы пользователей Северной Америки и Европы почти полнростью совпадают, а вот в Японии топ-5 платформ и топ-5 жанров уже будут значительно отличаться."
   ]
  },
  {
   "cell_type": "markdown",
   "metadata": {},
   "source": [
    "## Проверка гипотез"
   ]
  },
  {
   "cell_type": "markdown",
   "metadata": {},
   "source": [
    "Сформульруем первую нулевую гипотезу: средние пользовательские рейтинги платформ Xbox One и PC равны. Тогда альтернативная гипотеза звучит: средние пользовательские рейтинги платформ Xbox One и PC не равны. Для рассчетов будем использовать метод `st.ttest_ind()`. Для этого создадим два списка с рейтингом платформ Xbox One и PC, p-value (alpha) зададим 5%."
   ]
  },
  {
   "cell_type": "code",
   "execution_count": 42,
   "metadata": {},
   "outputs": [
    {
     "data": {
      "text/plain": [
       "[7.9,\n",
       " 5.4,\n",
       " 6.4,\n",
       " 6.2,\n",
       " 4.1,\n",
       " 5.5,\n",
       " 7.5,\n",
       " 4.4,\n",
       " 7.2,\n",
       " 6.4,\n",
       " 5.5,\n",
       " 3.1,\n",
       " 6.1,\n",
       " 6.2,\n",
       " 8.2,\n",
       " 5.4,\n",
       " 6.9,\n",
       " 7.9,\n",
       " 6.3,\n",
       " 7.5,\n",
       " 5.8,\n",
       " 6.4,\n",
       " 6.6,\n",
       " 8.2,\n",
       " 7.3,\n",
       " 8.0,\n",
       " 8.0,\n",
       " 6.2,\n",
       " 6.9,\n",
       " 9.2,\n",
       " 6.1,\n",
       " 7.8,\n",
       " 8.4,\n",
       " 5.9,\n",
       " 5.1,\n",
       " 5.2,\n",
       " 7.7,\n",
       " 7.4,\n",
       " 5.6,\n",
       " 6.2,\n",
       " 6.9,\n",
       " 7.0,\n",
       " 6.4,\n",
       " 7.7,\n",
       " 7.3,\n",
       " 7.633333333333333,\n",
       " 7.4,\n",
       " 7.8,\n",
       " 7.3,\n",
       " 5.666666666666667,\n",
       " 6.7,\n",
       " 5.9,\n",
       " 5.1,\n",
       " 4.6,\n",
       " 8.5,\n",
       " 5.1,\n",
       " 5.7,\n",
       " 8.0,\n",
       " 5.7,\n",
       " 6.8,\n",
       " 5.1,\n",
       " 7.5,\n",
       " 6.9,\n",
       " 7.8,\n",
       " 8.1,\n",
       " 6.0,\n",
       " 6.4,\n",
       " 6.3,\n",
       " 7.8,\n",
       " 7.1,\n",
       " 6.0,\n",
       " 6.9,\n",
       " 3.2,\n",
       " 8.6,\n",
       " 5.7749999999999995,\n",
       " 7.7,\n",
       " 5.1,\n",
       " 6.6,\n",
       " 7.9,\n",
       " 6.1,\n",
       " 7.2,\n",
       " 8.4,\n",
       " 8.5,\n",
       " 7.0,\n",
       " 5.4,\n",
       " 4.3,\n",
       " 6.8,\n",
       " 5.5,\n",
       " 5.8,\n",
       " 5.3,\n",
       " 7.1,\n",
       " 5.5,\n",
       " 4.0,\n",
       " 8.3,\n",
       " 7.7,\n",
       " 6.8,\n",
       " 6.7,\n",
       " 6.8,\n",
       " 6.733333333333334,\n",
       " 7.3,\n",
       " 7.933333333333334,\n",
       " 7.0,\n",
       " 8.3,\n",
       " 5.3,\n",
       " 7.0,\n",
       " 7.2,\n",
       " 4.4,\n",
       " 7.0,\n",
       " 8.3,\n",
       " 7.5,\n",
       " 8.0,\n",
       " 7.9,\n",
       " 7.2,\n",
       " 6.6,\n",
       " 7.3,\n",
       " 4.1,\n",
       " 7.9,\n",
       " 5.199999999999999,\n",
       " 8.7,\n",
       " 5.7,\n",
       " 8.0,\n",
       " 8.1,\n",
       " 8.35,\n",
       " 2.1,\n",
       " 8.2,\n",
       " 5.6,\n",
       " 7.2,\n",
       " 6.2,\n",
       " 5.3,\n",
       " 7.5,\n",
       " 6.0,\n",
       " 7.800000000000001,\n",
       " 3.1,\n",
       " 7.6,\n",
       " 8.5,\n",
       " 8.7,\n",
       " 6.8,\n",
       " 6.3,\n",
       " 7.7749999999999995,\n",
       " 5.8,\n",
       " 7.7,\n",
       " 6.9,\n",
       " 8.4,\n",
       " 5.2,\n",
       " 4.9,\n",
       " 7.1,\n",
       " 7.1,\n",
       " 6.1,\n",
       " 8.1,\n",
       " 6.3,\n",
       " 6.0,\n",
       " 8.9,\n",
       " 7.7,\n",
       " 7.15,\n",
       " 8.0,\n",
       " 1.6,\n",
       " 8.0,\n",
       " 5.4,\n",
       " 8.1,\n",
       " 4.3,\n",
       " 4.1,\n",
       " 7.4,\n",
       " 6.9,\n",
       " 4.3,\n",
       " 7.1,\n",
       " 5.8,\n",
       " 4.2,\n",
       " 6.6,\n",
       " 7.3,\n",
       " 7.2,\n",
       " 6.625,\n",
       " 7.1,\n",
       " 6.7,\n",
       " 8.8,\n",
       " 7.8,\n",
       " 7.9,\n",
       " 8.1,\n",
       " 3.1,\n",
       " 7.5,\n",
       " 6.3,\n",
       " 8.2,\n",
       " 7.1,\n",
       " 6.8,\n",
       " 6.0,\n",
       " 8.2,\n",
       " 6.6,\n",
       " 7.7,\n",
       " 6.7,\n",
       " 7.8]"
      ]
     },
     "execution_count": 42,
     "metadata": {},
     "output_type": "execute_result"
    }
   ],
   "source": [
    "# создание списка с рейтингом платформы Xbox One\n",
    "xbox_one = df_actual.query('platform==\"XOne\" and user_score!=\"nan\"')['user_score'].tolist()\n",
    "xbox_one"
   ]
  },
  {
   "cell_type": "code",
   "execution_count": 43,
   "metadata": {},
   "outputs": [
    {
     "data": {
      "text/plain": [
       "[3.9,\n",
       " 5.4,\n",
       " 7.9,\n",
       " 5.7,\n",
       " 5.9,\n",
       " 9.3,\n",
       " 8.0,\n",
       " 6.7,\n",
       " 6.2,\n",
       " 3.0,\n",
       " 6.8,\n",
       " 8.3,\n",
       " 5.9,\n",
       " 6.0,\n",
       " 8.2,\n",
       " 4.7,\n",
       " 5.8,\n",
       " 4.5,\n",
       " 7.6,\n",
       " 5.5,\n",
       " 8.0,\n",
       " 6.9,\n",
       " 7.5,\n",
       " 6.2,\n",
       " 4.2,\n",
       " 5.9,\n",
       " 5.9,\n",
       " 7.3,\n",
       " 7.3,\n",
       " 7.1,\n",
       " 6.9,\n",
       " 7.3,\n",
       " 5.9,\n",
       " 4.4,\n",
       " 7.9,\n",
       " 3.2,\n",
       " 8.6,\n",
       " 4.3,\n",
       " 7.1,\n",
       " 4.8,\n",
       " 6.4,\n",
       " 7.4,\n",
       " 8.4,\n",
       " 5.3,\n",
       " 8.9,\n",
       " 3.8,\n",
       " 3.0,\n",
       " 7.3,\n",
       " 2.5,\n",
       " 7.1,\n",
       " 7.9,\n",
       " 6.0,\n",
       " 7.0,\n",
       " 4.2,\n",
       " 7.3,\n",
       " 5.7,\n",
       " 5.7,\n",
       " 4.8,\n",
       " 4.3,\n",
       " 7.6,\n",
       " 5.7,\n",
       " 6.9,\n",
       " 8.0,\n",
       " 7.5,\n",
       " 7.7,\n",
       " 8.6,\n",
       " 4.4,\n",
       " 5.8,\n",
       " 6.8,\n",
       " 6.8,\n",
       " 2.9,\n",
       " 8.2,\n",
       " 6.9,\n",
       " 7.4,\n",
       " 3.6,\n",
       " 5.1,\n",
       " 5.4,\n",
       " 7.5,\n",
       " 6.566666666666667,\n",
       " 8.6,\n",
       " 4.3,\n",
       " 8.0,\n",
       " 7.6,\n",
       " 7.1,\n",
       " 4.0,\n",
       " 7.7,\n",
       " 7.0,\n",
       " 3.5,\n",
       " 4.8,\n",
       " 6.1,\n",
       " 6.3,\n",
       " 8.7,\n",
       " 6.8,\n",
       " 7.6,\n",
       " 6.9,\n",
       " 4.8,\n",
       " 6.1,\n",
       " 6.2,\n",
       " 7.7,\n",
       " 7.8,\n",
       " 1.4,\n",
       " 3.7,\n",
       " 2.4,\n",
       " 8.5,\n",
       " 5.4,\n",
       " 7.4,\n",
       " 8.3,\n",
       " 8.7,\n",
       " 5.3,\n",
       " 4.3,\n",
       " 6.2,\n",
       " 6.3,\n",
       " 7.7,\n",
       " 6.8,\n",
       " 7.3,\n",
       " 7.1,\n",
       " 7.1,\n",
       " 7.1,\n",
       " 8.3,\n",
       " 6.8,\n",
       " 7.9,\n",
       " 1.4,\n",
       " 7.6]"
      ]
     },
     "execution_count": 43,
     "metadata": {},
     "output_type": "execute_result"
    }
   ],
   "source": [
    "# создание списка с рейтингом платформы PC\n",
    "pc = df_actual.query('platform==\"PC\" and user_score!=\"nan\"')['user_score'].tolist()\n",
    "pc"
   ]
  },
  {
   "cell_type": "code",
   "execution_count": 44,
   "metadata": {},
   "outputs": [
    {
     "name": "stdout",
     "output_type": "stream",
     "text": [
      "p-значение:  0.032480809044416796\n",
      "Отвергаем нулевую гипотезу\n"
     ]
    }
   ],
   "source": [
    "# проверка нулевой гипотезы\n",
    "alpha = .05 \n",
    "\n",
    "results = st.ttest_ind(\n",
    "    xbox_one, \n",
    "    pc)\n",
    "\n",
    "print('p-значение: ', results.pvalue)\n",
    "\n",
    "if results.pvalue < alpha:\n",
    "    print(\"Отвергаем нулевую гипотезу\")\n",
    "else:\n",
    "    print(\"Не получилось отвергнуть нулевую гипотезу\") "
   ]
  },
  {
   "cell_type": "markdown",
   "metadata": {},
   "source": [
    "Нулевая гипотиза отвергается, а это значит, что средние пользовательские рейтинги платформ Xbox One и PC не равны.\n",
    "\n",
    "Тоже самое проведелаем с нулевой гипотизой \"cредние пользовательские рейтинги жанров Action и Sports одинаковые\". При этом альтернативная гипотиза - cредние пользовательские рейтинги жанров Action и Sports разные."
   ]
  },
  {
   "cell_type": "code",
   "execution_count": 45,
   "metadata": {},
   "outputs": [
    {
     "data": {
      "text/plain": [
       "[8.3,\n",
       " 7.9,\n",
       " 9.1,\n",
       " 8.1,\n",
       " 6.3,\n",
       " 4.9,\n",
       " 7.6,\n",
       " 4.1,\n",
       " 8.2,\n",
       " 6.8,\n",
       " 8.1,\n",
       " 7.9,\n",
       " 8.6,\n",
       " 9.0,\n",
       " 6.3,\n",
       " 7.9,\n",
       " 6.5,\n",
       " 5.1,\n",
       " 7.3,\n",
       " 5.1,\n",
       " 4.5,\n",
       " 5.8,\n",
       " 6.6,\n",
       " 8.5,\n",
       " 8.0,\n",
       " 6.1,\n",
       " 7.8,\n",
       " 7.5,\n",
       " 7.2,\n",
       " 6.2,\n",
       " 5.0,\n",
       " 8.3,\n",
       " 7.9,\n",
       " 7.8,\n",
       " 7.6,\n",
       " 8.4,\n",
       " 7.3,\n",
       " 5.7749999999999995,\n",
       " 8.7,\n",
       " 7.1,\n",
       " 6.8,\n",
       " 7.0,\n",
       " 7.0,\n",
       " 5.7749999999999995,\n",
       " 6.8,\n",
       " 6.4,\n",
       " 7.1,\n",
       " 7.4,\n",
       " 7.6,\n",
       " 8.2,\n",
       " 7.3,\n",
       " 6.7,\n",
       " 7.0,\n",
       " 7.1,\n",
       " 7.8,\n",
       " 7.1,\n",
       " 7.5,\n",
       " 5.4,\n",
       " 7.3,\n",
       " 7.1,\n",
       " 7.0,\n",
       " 8.4,\n",
       " 6.7,\n",
       " 8.7,\n",
       " 7.7,\n",
       " 7.2,\n",
       " 7.7,\n",
       " 7.2,\n",
       " 4.6,\n",
       " 8.5,\n",
       " 6.6,\n",
       " 5.9,\n",
       " 6.8,\n",
       " 3.4,\n",
       " 7.7,\n",
       " 6.4,\n",
       " 3.0,\n",
       " 6.5,\n",
       " 6.9,\n",
       " 6.1,\n",
       " 8.1,\n",
       " 3.7,\n",
       " 4.6,\n",
       " 5.6,\n",
       " 5.9,\n",
       " 7.4,\n",
       " 7.6,\n",
       " 7.0,\n",
       " 8.7,\n",
       " 6.4,\n",
       " 7.0,\n",
       " 4.7,\n",
       " 5.6,\n",
       " 7.933333333333334,\n",
       " 8.3,\n",
       " 7.1,\n",
       " 8.0,\n",
       " 5.4,\n",
       " 6.9,\n",
       " 6.733333333333334,\n",
       " 7.9,\n",
       " 4.2,\n",
       " 5.7749999999999995,\n",
       " 7.7,\n",
       " 8.0,\n",
       " 5.1,\n",
       " 7.9,\n",
       " 6.9,\n",
       " 5.7,\n",
       " 3.6,\n",
       " 8.4,\n",
       " 3.3,\n",
       " 5.199999999999999,\n",
       " 7.3,\n",
       " 7.7,\n",
       " 6.8,\n",
       " 7.0,\n",
       " 5.6,\n",
       " 5.7,\n",
       " 6.8,\n",
       " 6.3,\n",
       " 5.4,\n",
       " 7.1,\n",
       " 3.4,\n",
       " 7.3,\n",
       " 5.9,\n",
       " 4.3,\n",
       " 6.8,\n",
       " 5.5,\n",
       " 7.6,\n",
       " 8.5,\n",
       " 8.0,\n",
       " 3.7,\n",
       " 6.5,\n",
       " 5.5,\n",
       " 8.1,\n",
       " 6.566666666666667,\n",
       " 6.8,\n",
       " 7.5,\n",
       " 8.6,\n",
       " 7.6,\n",
       " 7.8,\n",
       " 7.7749999999999995,\n",
       " 8.4,\n",
       " 6.8,\n",
       " 6.8,\n",
       " 5.9,\n",
       " 8.4,\n",
       " 7.4,\n",
       " 7.4,\n",
       " 6.733333333333334,\n",
       " 7.3,\n",
       " 7.933333333333334,\n",
       " 7.9,\n",
       " 7.8,\n",
       " 7.1,\n",
       " 3.2,\n",
       " 7.5,\n",
       " 8.8,\n",
       " 7.2,\n",
       " 7.4,\n",
       " 8.0,\n",
       " 7.6,\n",
       " 6.5,\n",
       " 7.3,\n",
       " 6.3,\n",
       " 4.8,\n",
       " 7.0,\n",
       " 7.383333333333334,\n",
       " 8.0,\n",
       " 2.5,\n",
       " 8.0,\n",
       " 7.9,\n",
       " 8.1,\n",
       " 4.8,\n",
       " 8.0,\n",
       " 6.6,\n",
       " 7.7,\n",
       " 5.3,\n",
       " 5.7,\n",
       " 5.9,\n",
       " 7.9,\n",
       " 6.4,\n",
       " 5.199999999999999,\n",
       " 7.1,\n",
       " 8.2,\n",
       " 2.5,\n",
       " 7.6,\n",
       " 6.4,\n",
       " 7.5,\n",
       " 7.8,\n",
       " 5.7,\n",
       " 6.6,\n",
       " 7.8,\n",
       " 6.9,\n",
       " 6.9,\n",
       " 6.0,\n",
       " 6.5,\n",
       " 4.8,\n",
       " 7.3,\n",
       " 8.2,\n",
       " 6.8,\n",
       " 6.8,\n",
       " 7.6,\n",
       " 7.3,\n",
       " 8.5,\n",
       " 8.6,\n",
       " 8.2,\n",
       " 7.9,\n",
       " 7.8,\n",
       " 7.5,\n",
       " 7.2,\n",
       " 6.8,\n",
       " 6.5,\n",
       " 7.1,\n",
       " 8.233333333333333,\n",
       " 5.5,\n",
       " 4.5,\n",
       " 7.8,\n",
       " 6.4,\n",
       " 6.6,\n",
       " 7.6,\n",
       " 7.1,\n",
       " 7.233333333333334,\n",
       " 6.1,\n",
       " 6.7,\n",
       " 7.8,\n",
       " 7.1,\n",
       " 5.6,\n",
       " 8.4,\n",
       " 7.5,\n",
       " 7.3,\n",
       " 7.6,\n",
       " 7.7,\n",
       " 6.1,\n",
       " 3.5,\n",
       " 7.7,\n",
       " 3.8,\n",
       " 6.6,\n",
       " 8.5,\n",
       " 6.8,\n",
       " 7.3,\n",
       " 8.0,\n",
       " 7.9,\n",
       " 6.3,\n",
       " 5.2,\n",
       " 7.9,\n",
       " 7.8,\n",
       " 7.7749999999999995,\n",
       " 7.7,\n",
       " 7.6,\n",
       " 6.8,\n",
       " 6.8,\n",
       " 6.9,\n",
       " 6.5,\n",
       " 7.5,\n",
       " 8.4,\n",
       " 6.5,\n",
       " 7.7,\n",
       " 6.5,\n",
       " 5.2,\n",
       " 7.3,\n",
       " 7.4,\n",
       " 4.9,\n",
       " 3.4,\n",
       " 7.1,\n",
       " 7.3,\n",
       " 5.1,\n",
       " 5.7,\n",
       " 6.566666666666667,\n",
       " 6.199999999999999,\n",
       " 5.3,\n",
       " 8.1,\n",
       " 7.0,\n",
       " 6.0,\n",
       " 4.3,\n",
       " 5.8,\n",
       " 5.6,\n",
       " 7.7,\n",
       " 8.3,\n",
       " 6.6,\n",
       " 7.8,\n",
       " 8.1,\n",
       " 7.1,\n",
       " 8.0,\n",
       " 7.7,\n",
       " 6.4,\n",
       " 7.5,\n",
       " 5.2,\n",
       " 2.8,\n",
       " 6.3,\n",
       " 8.0,\n",
       " 7.6,\n",
       " 7.6,\n",
       " 6.9,\n",
       " 7.4,\n",
       " 6.8,\n",
       " 2.8,\n",
       " 6.6,\n",
       " 8.8,\n",
       " 8.3,\n",
       " 6.6,\n",
       " 7.8,\n",
       " 6.8,\n",
       " 6.4,\n",
       " 7.7,\n",
       " 8.2,\n",
       " 7.6,\n",
       " 7.0,\n",
       " 8.05,\n",
       " 7.9,\n",
       " 6.1,\n",
       " 7.1,\n",
       " 5.8,\n",
       " 8.5,\n",
       " 5.4,\n",
       " 7.4,\n",
       " 2.4,\n",
       " 6.8,\n",
       " 6.8,\n",
       " 6.6,\n",
       " 7.4,\n",
       " 2.0,\n",
       " 7.233333333333333,\n",
       " 6.625,\n",
       " 4.3,\n",
       " 5.8,\n",
       " 8.8,\n",
       " 8.4,\n",
       " 5.2,\n",
       " 7.9,\n",
       " 8.1,\n",
       " 2.8,\n",
       " 3.1,\n",
       " 7.1,\n",
       " 8.3,\n",
       " 6.8,\n",
       " 2.3,\n",
       " 5.5,\n",
       " 7.1,\n",
       " 6.8,\n",
       " 6.0,\n",
       " 7.7,\n",
       " 8.5,\n",
       " 6.7,\n",
       " 7.8,\n",
       " 7.6]"
      ]
     },
     "execution_count": 45,
     "metadata": {},
     "output_type": "execute_result"
    }
   ],
   "source": [
    "# создание списка с рейтингом игр жанра Action\n",
    "action = df_actual.query('genre==\"Action\" and user_score!=\"nan\"')['user_score'].tolist()\n",
    "action"
   ]
  },
  {
   "cell_type": "code",
   "execution_count": 46,
   "metadata": {},
   "outputs": [
    {
     "data": {
      "text/plain": [
       "[4.3,\n",
       " 5.0,\n",
       " 5.7,\n",
       " 4.5,\n",
       " 6.7,\n",
       " 4.4,\n",
       " 5.9,\n",
       " 4.2,\n",
       " 3.2,\n",
       " 5.5,\n",
       " 7.0,\n",
       " 6.1,\n",
       " 6.2,\n",
       " 6.1,\n",
       " 5.4,\n",
       " 5.5,\n",
       " 6.7,\n",
       " 4.9,\n",
       " 6.3,\n",
       " 3.0,\n",
       " 2.9,\n",
       " 6.4,\n",
       " 2.7,\n",
       " 3.5,\n",
       " 5.9,\n",
       " 7.4,\n",
       " 5.1,\n",
       " 6.1,\n",
       " 6.2,\n",
       " 5.1,\n",
       " 3.2,\n",
       " 6.2,\n",
       " 7.8,\n",
       " 7.1,\n",
       " 3.1,\n",
       " 3.1,\n",
       " 7.2,\n",
       " 4.6,\n",
       " 3.3,\n",
       " 7.7,\n",
       " 4.0,\n",
       " 5.5,\n",
       " 4.3,\n",
       " 5.1,\n",
       " 6.9,\n",
       " 3.6,\n",
       " 3.1,\n",
       " 5.7,\n",
       " 7.8,\n",
       " 5.7,\n",
       " 4.3,\n",
       " 6.0,\n",
       " 8.2,\n",
       " 6.0,\n",
       " 6.3,\n",
       " 2.4,\n",
       " 2.8,\n",
       " 7.6,\n",
       " 5.3,\n",
       " 6.8,\n",
       " 5.4,\n",
       " 4.4,\n",
       " 6.0,\n",
       " 3.2,\n",
       " 7.2,\n",
       " 8.2,\n",
       " 1.7,\n",
       " 7.0,\n",
       " 8.7,\n",
       " 1.6,\n",
       " 5.8,\n",
       " 6.6,\n",
       " 4.2,\n",
       " 5.5,\n",
       " 4.0,\n",
       " 8.3,\n",
       " 5.6,\n",
       " 6.8,\n",
       " 1.5,\n",
       " 4.4,\n",
       " 6.1,\n",
       " 0.7,\n",
       " 3.8,\n",
       " 7.3,\n",
       " 4.1,\n",
       " 6.8,\n",
       " 7.2,\n",
       " 2.0,\n",
       " 7.4,\n",
       " 2.1,\n",
       " 3.4,\n",
       " 4.2,\n",
       " 0.2,\n",
       " 3.4,\n",
       " 5.6,\n",
       " 6.2,\n",
       " 7.0,\n",
       " 5.5,\n",
       " 5.7,\n",
       " 7.0,\n",
       " 3.25,\n",
       " 3.1,\n",
       " 6.3,\n",
       " 4.8,\n",
       " 6.6,\n",
       " 2.8,\n",
       " 5.8,\n",
       " 3.1,\n",
       " 4.1,\n",
       " 1.9,\n",
       " 3.9,\n",
       " 3.0,\n",
       " 8.2,\n",
       " 7.8,\n",
       " 6.1,\n",
       " 4.3,\n",
       " 6.8,\n",
       " 7.15,\n",
       " 6.5,\n",
       " 4.8,\n",
       " 5.1,\n",
       " 3.25,\n",
       " 8.0,\n",
       " 5.4,\n",
       " 3.25,\n",
       " 3.0,\n",
       " 6.699999999999999,\n",
       " 4.1,\n",
       " 6.699999999999999,\n",
       " 4.5,\n",
       " 4.3,\n",
       " 3.7,\n",
       " 6.0,\n",
       " 3.9,\n",
       " 7.1,\n",
       " 6.3,\n",
       " 8.8,\n",
       " 6.9,\n",
       " 5.75,\n",
       " 1.4,\n",
       " 5.1,\n",
       " 6.6]"
      ]
     },
     "execution_count": 46,
     "metadata": {},
     "output_type": "execute_result"
    }
   ],
   "source": [
    "# создание списка с рейтингом игр жанра Sports\n",
    "sports = df_actual.query('genre==\"Sports\" and user_score!=\"nan\"')['user_score'].tolist()\n",
    "sports"
   ]
  },
  {
   "cell_type": "code",
   "execution_count": 47,
   "metadata": {},
   "outputs": [
    {
     "name": "stdout",
     "output_type": "stream",
     "text": [
      "p-значение:  1.0402397283362026e-23\n",
      "Отвергаем нулевую гипотезу\n"
     ]
    }
   ],
   "source": [
    "# проверка нулевой гипотезы\n",
    "alpha = .05 \n",
    "\n",
    "results = st.ttest_ind(\n",
    "    action, \n",
    "    sports)\n",
    "\n",
    "print('p-значение: ', results.pvalue)\n",
    "\n",
    "if results.pvalue < alpha:\n",
    "    print(\"Отвергаем нулевую гипотезу\")\n",
    "else:\n",
    "    print(\"Не получилось отвергнуть нулевую гипотезу\") "
   ]
  },
  {
   "cell_type": "markdown",
   "metadata": {},
   "source": [
    "**Вывод**\n",
    "\n",
    "Обе нулевые гипотезы были отвергнуты, а значит приняты альтернативные: средние пользовательские рейтинги платформ Xbox One и PC не равны и cредние пользовательские рейтинги жанров Action и Sports разные."
   ]
  },
  {
   "cell_type": "markdown",
   "metadata": {},
   "source": [
    "## Общий вывод"
   ]
  },
  {
   "cell_type": "markdown",
   "metadata": {},
   "source": [
    "Было проведено исследование данных о продажах игр, оценок пользователей и экспертов, жанров и платформ, в ходе которого была проведена предобработка данных. В данных количество значений в столбцах различается, а следовательно имеются пропуски. Говоря о причинах, скорее всего пропуски появились в результате некорректной выгрузки данных или же сбой при сборе информации. Заменять все пропуски мы не стали (заменили только часть), так как данные могут исказиться. Однако на это стоит обратить внимание и в дальнейшем не допускать появления такое числа пропусков.\n",
    "\n",
    "Для прогнозирования и оценки реальной ситуции были оставлены данные за актуальные период, а именно 2014-2016 гг. В анализируемом периоде лидирует по продажам платформа PS4, так же можно выделить XOne и 3DS. Платформы PSP и Wii имеют самые маленькие продажи, т.е можно сказать, что устарели. Из рассмотренных жанров самым популярным, а следовательно самым прибыльным является жанр \"Shooter\", далее идут \"Sports\", \"Platform\" и \"Role-Playing\". А наименее прибыльными оказались игры жанра \"Adventure\", \"Strategy\" и \"Puzzle\".\n",
    "\n",
    "Для того, чтобы понимать, на какой продукт делать ставки, необходимо опираться на то, из какого региона пользователи. Если предпочтения между Северной Америкой и Европой не такие сильные, то в Японии интересы уже другие. Например, самая популярная платформа в Америке - это PS4 (34.7%) и XOne (28.6%), в Европе - PS4 (48%) и XOne (17%), а в Японии - 3DS (47.5%) и PS4 (15%). При этом популярными жанрами для Северной Америки являются Shooter, Action, Sports, Role-Playing и Misc. Для Европы жанры совпадают за исключением гонок: Action, Shooter, Sports, Racing и Misc. А для Японии самым популярным жанром является Role-Playing и далее идут Action, Fighting, Misc, и Shooter.\n",
    "\n",
    "Было выдвенуто и проверено две нулевые гипотезы. Первая нулевая гипотеза была отвергнута, следовательно принята альтернативная ей гипотеза - \"средние пользовательские рейтинги платформ Xbox One и PC не равны\". Вторая же гипотеза аналогично  была отвергнута, то есть cредние пользовательские рейтинги жанров Action и Sports разные."
   ]
  }
 ],
 "metadata": {
  "ExecuteTimeLog": [
   {
    "duration": 83,
    "start_time": "2022-01-25T18:56:17.263Z"
   },
   {
    "duration": 80,
    "start_time": "2022-01-25T18:56:48.017Z"
   },
   {
    "duration": 84,
    "start_time": "2022-01-25T18:58:09.387Z"
   },
   {
    "duration": 734,
    "start_time": "2022-01-25T18:59:00.650Z"
   },
   {
    "duration": 209,
    "start_time": "2022-01-25T19:00:40.518Z"
   },
   {
    "duration": 29,
    "start_time": "2022-01-25T19:00:59.765Z"
   },
   {
    "duration": 20,
    "start_time": "2022-01-25T19:01:05.461Z"
   },
   {
    "duration": 17,
    "start_time": "2022-01-25T19:03:13.508Z"
   },
   {
    "duration": 42,
    "start_time": "2022-01-25T19:04:48.634Z"
   },
   {
    "duration": 394,
    "start_time": "2022-01-25T19:14:26.809Z"
   },
   {
    "duration": 15,
    "start_time": "2022-01-25T19:14:33.367Z"
   },
   {
    "duration": 9,
    "start_time": "2022-01-25T19:15:02.147Z"
   },
   {
    "duration": 11,
    "start_time": "2022-01-25T19:15:27.435Z"
   },
   {
    "duration": 30,
    "start_time": "2022-01-25T19:15:39.827Z"
   },
   {
    "duration": 8009,
    "start_time": "2022-01-25T19:16:01.588Z"
   },
   {
    "duration": 744,
    "start_time": "2022-01-26T09:07:07.809Z"
   },
   {
    "duration": 233,
    "start_time": "2022-01-26T09:07:08.555Z"
   },
   {
    "duration": 29,
    "start_time": "2022-01-26T09:07:08.791Z"
   },
   {
    "duration": 15,
    "start_time": "2022-01-26T09:07:08.823Z"
   },
   {
    "duration": 40,
    "start_time": "2022-01-26T09:07:08.841Z"
   },
   {
    "duration": 26,
    "start_time": "2022-01-26T09:07:08.883Z"
   },
   {
    "duration": 4,
    "start_time": "2022-01-26T09:11:15.632Z"
   },
   {
    "duration": 6,
    "start_time": "2022-01-26T09:11:30.641Z"
   },
   {
    "duration": 8,
    "start_time": "2022-01-26T09:18:44.743Z"
   },
   {
    "duration": 391,
    "start_time": "2022-01-26T09:21:30.533Z"
   },
   {
    "duration": 322,
    "start_time": "2022-01-26T09:21:42.004Z"
   },
   {
    "duration": 6,
    "start_time": "2022-01-26T09:21:46.350Z"
   },
   {
    "duration": 1207,
    "start_time": "2022-01-26T09:22:33.149Z"
   },
   {
    "duration": 291,
    "start_time": "2022-01-26T09:22:39.796Z"
   },
   {
    "duration": 6,
    "start_time": "2022-01-26T09:22:59.718Z"
   },
   {
    "duration": 6,
    "start_time": "2022-01-26T09:23:11.156Z"
   },
   {
    "duration": 1194,
    "start_time": "2022-01-26T09:23:21.774Z"
   },
   {
    "duration": 6,
    "start_time": "2022-01-26T09:23:51.228Z"
   },
   {
    "duration": 7,
    "start_time": "2022-01-26T09:23:53.421Z"
   },
   {
    "duration": 17,
    "start_time": "2022-01-26T09:25:09.438Z"
   },
   {
    "duration": 25,
    "start_time": "2022-01-26T09:28:02.408Z"
   },
   {
    "duration": 9,
    "start_time": "2022-01-26T09:40:25.198Z"
   },
   {
    "duration": 9,
    "start_time": "2022-01-26T09:40:57.476Z"
   },
   {
    "duration": 7,
    "start_time": "2022-01-26T09:41:08.900Z"
   },
   {
    "duration": 6,
    "start_time": "2022-01-26T09:42:05.357Z"
   },
   {
    "duration": 40,
    "start_time": "2022-01-26T14:24:07.685Z"
   },
   {
    "duration": 27,
    "start_time": "2022-01-26T14:25:37.273Z"
   },
   {
    "duration": 26,
    "start_time": "2022-01-26T14:29:30.587Z"
   },
   {
    "duration": 38,
    "start_time": "2022-01-26T14:42:24.370Z"
   },
   {
    "duration": 32,
    "start_time": "2022-01-26T14:51:13.717Z"
   },
   {
    "duration": 54,
    "start_time": "2022-01-26T14:53:26.667Z"
   },
   {
    "duration": 46,
    "start_time": "2022-01-26T14:54:11.733Z"
   },
   {
    "duration": 6,
    "start_time": "2022-01-26T15:10:10.193Z"
   },
   {
    "duration": 260,
    "start_time": "2022-01-26T15:10:51.311Z"
   },
   {
    "duration": 276,
    "start_time": "2022-01-26T15:11:27.599Z"
   },
   {
    "duration": 305,
    "start_time": "2022-01-26T15:12:14.493Z"
   },
   {
    "duration": 4,
    "start_time": "2022-01-26T15:12:49.180Z"
   },
   {
    "duration": 5,
    "start_time": "2022-01-26T15:12:53.654Z"
   },
   {
    "duration": 7,
    "start_time": "2022-01-26T15:13:22.463Z"
   },
   {
    "duration": 7,
    "start_time": "2022-01-26T15:13:34.884Z"
   },
   {
    "duration": 18,
    "start_time": "2022-01-26T15:27:29.989Z"
   },
   {
    "duration": 48,
    "start_time": "2022-01-26T15:27:33.384Z"
   },
   {
    "duration": 482,
    "start_time": "2022-01-26T15:29:52.735Z"
   },
   {
    "duration": 33,
    "start_time": "2022-01-26T15:30:11.069Z"
   },
   {
    "duration": 18,
    "start_time": "2022-01-26T15:30:45.397Z"
   },
   {
    "duration": 30,
    "start_time": "2022-01-26T15:31:00.101Z"
   },
   {
    "duration": 23,
    "start_time": "2022-01-26T15:38:59.041Z"
   },
   {
    "duration": 31,
    "start_time": "2022-01-26T15:39:02.084Z"
   },
   {
    "duration": 22,
    "start_time": "2022-01-26T15:44:14.359Z"
   },
   {
    "duration": 29,
    "start_time": "2022-01-26T15:44:17.041Z"
   },
   {
    "duration": 35,
    "start_time": "2022-01-26T15:49:28.252Z"
   },
   {
    "duration": 41,
    "start_time": "2022-01-26T15:49:30.775Z"
   },
   {
    "duration": 45,
    "start_time": "2022-01-26T15:58:46.922Z"
   },
   {
    "duration": 42,
    "start_time": "2022-01-26T15:58:49.843Z"
   },
   {
    "duration": 35,
    "start_time": "2022-01-26T15:59:12.206Z"
   },
   {
    "duration": 106,
    "start_time": "2022-01-26T16:00:47.754Z"
   },
   {
    "duration": 17,
    "start_time": "2022-01-26T16:00:53.451Z"
   },
   {
    "duration": 23,
    "start_time": "2022-01-26T16:01:15.163Z"
   },
   {
    "duration": 33,
    "start_time": "2022-01-26T16:05:17.343Z"
   },
   {
    "duration": 28,
    "start_time": "2022-01-26T16:05:20.011Z"
   },
   {
    "duration": 43,
    "start_time": "2022-01-26T16:11:40.197Z"
   },
   {
    "duration": 46,
    "start_time": "2022-01-26T16:11:43.416Z"
   },
   {
    "duration": 46,
    "start_time": "2022-01-26T16:27:06.451Z"
   },
   {
    "duration": 29,
    "start_time": "2022-01-26T16:27:10.017Z"
   },
   {
    "duration": 52,
    "start_time": "2022-01-26T16:27:45.103Z"
   },
   {
    "duration": 34,
    "start_time": "2022-01-26T16:33:09.949Z"
   },
   {
    "duration": 27,
    "start_time": "2022-01-26T16:33:13.229Z"
   },
   {
    "duration": 35,
    "start_time": "2022-01-26T16:37:35.037Z"
   },
   {
    "duration": 26,
    "start_time": "2022-01-26T16:37:38.206Z"
   },
   {
    "duration": 37,
    "start_time": "2022-01-26T16:54:27.557Z"
   },
   {
    "duration": 27,
    "start_time": "2022-01-26T16:54:31.263Z"
   },
   {
    "duration": 35,
    "start_time": "2022-01-26T16:54:36.111Z"
   },
   {
    "duration": 38,
    "start_time": "2022-01-26T16:59:24.724Z"
   },
   {
    "duration": 28,
    "start_time": "2022-01-26T16:59:27.661Z"
   },
   {
    "duration": 51,
    "start_time": "2022-01-26T17:08:18.313Z"
   },
   {
    "duration": 28,
    "start_time": "2022-01-26T17:08:21.689Z"
   },
   {
    "duration": 53,
    "start_time": "2022-01-26T17:08:29.323Z"
   },
   {
    "duration": 39,
    "start_time": "2022-01-26T17:13:26.856Z"
   },
   {
    "duration": 28,
    "start_time": "2022-01-26T17:13:29.393Z"
   },
   {
    "duration": 33,
    "start_time": "2022-01-26T18:47:38.819Z"
   },
   {
    "duration": 42,
    "start_time": "2022-01-26T18:58:47.361Z"
   },
   {
    "duration": 30,
    "start_time": "2022-01-26T18:58:50.152Z"
   },
   {
    "duration": 58,
    "start_time": "2022-01-26T19:04:58.136Z"
   },
   {
    "duration": 39,
    "start_time": "2022-01-26T19:05:01.477Z"
   },
   {
    "duration": 66,
    "start_time": "2022-01-26T19:09:59.539Z"
   },
   {
    "duration": 29,
    "start_time": "2022-01-26T19:10:02.074Z"
   },
   {
    "duration": 48,
    "start_time": "2022-01-26T19:10:07.835Z"
   },
   {
    "duration": 55,
    "start_time": "2022-01-26T19:16:53.401Z"
   },
   {
    "duration": 29,
    "start_time": "2022-01-26T19:16:56.706Z"
   },
   {
    "duration": 33,
    "start_time": "2022-01-26T19:17:14.095Z"
   },
   {
    "duration": 60,
    "start_time": "2022-01-26T19:23:30.343Z"
   },
   {
    "duration": 26,
    "start_time": "2022-01-26T19:23:33.948Z"
   },
   {
    "duration": 52,
    "start_time": "2022-01-26T19:23:42.149Z"
   },
   {
    "duration": 51,
    "start_time": "2022-01-26T19:29:36.703Z"
   },
   {
    "duration": 35,
    "start_time": "2022-01-26T19:29:39.574Z"
   },
   {
    "duration": 48,
    "start_time": "2022-01-26T19:38:43.360Z"
   },
   {
    "duration": 29,
    "start_time": "2022-01-26T19:38:47.169Z"
   },
   {
    "duration": 45,
    "start_time": "2022-01-26T19:39:00.760Z"
   },
   {
    "duration": 538,
    "start_time": "2022-01-27T06:52:38.452Z"
   },
   {
    "duration": 204,
    "start_time": "2022-01-27T06:52:39.820Z"
   },
   {
    "duration": 17,
    "start_time": "2022-01-27T06:52:40.571Z"
   },
   {
    "duration": 3,
    "start_time": "2022-01-27T06:52:45.636Z"
   },
   {
    "duration": 4,
    "start_time": "2022-01-27T06:52:46.532Z"
   },
   {
    "duration": 8,
    "start_time": "2022-01-27T06:52:49.459Z"
   },
   {
    "duration": 7,
    "start_time": "2022-01-27T06:52:56.180Z"
   },
   {
    "duration": 4,
    "start_time": "2022-01-27T06:52:57.468Z"
   },
   {
    "duration": 27,
    "start_time": "2022-01-27T06:53:03.564Z"
   },
   {
    "duration": 19,
    "start_time": "2022-01-27T06:53:07.304Z"
   },
   {
    "duration": 10,
    "start_time": "2022-01-27T06:53:25.645Z"
   },
   {
    "duration": 28,
    "start_time": "2022-01-27T07:08:57.015Z"
   },
   {
    "duration": 16,
    "start_time": "2022-01-27T07:09:00.238Z"
   },
   {
    "duration": 29,
    "start_time": "2022-01-27T08:18:11.582Z"
   },
   {
    "duration": 16,
    "start_time": "2022-01-27T08:18:14.636Z"
   },
   {
    "duration": 9,
    "start_time": "2022-01-27T08:18:37.661Z"
   },
   {
    "duration": 29,
    "start_time": "2022-01-27T08:37:18.855Z"
   },
   {
    "duration": 16,
    "start_time": "2022-01-27T08:37:22.741Z"
   },
   {
    "duration": 28,
    "start_time": "2022-01-27T08:44:33.499Z"
   },
   {
    "duration": 23,
    "start_time": "2022-01-27T08:44:37.309Z"
   },
   {
    "duration": 29,
    "start_time": "2022-01-27T08:55:41.821Z"
   },
   {
    "duration": 11,
    "start_time": "2022-01-27T08:55:45.165Z"
   },
   {
    "duration": 5,
    "start_time": "2022-01-27T09:07:45.735Z"
   },
   {
    "duration": 19,
    "start_time": "2022-01-27T09:08:48.245Z"
   },
   {
    "duration": 16,
    "start_time": "2022-01-27T09:09:35.975Z"
   },
   {
    "duration": 18,
    "start_time": "2022-01-27T09:09:41.151Z"
   },
   {
    "duration": 18,
    "start_time": "2022-01-27T09:09:49.519Z"
   },
   {
    "duration": 15,
    "start_time": "2022-01-27T12:15:46.162Z"
   },
   {
    "duration": 12,
    "start_time": "2022-01-27T12:18:01.368Z"
   },
   {
    "duration": 14,
    "start_time": "2022-01-27T12:18:26.498Z"
   },
   {
    "duration": 17,
    "start_time": "2022-01-27T12:20:56.508Z"
   },
   {
    "duration": 18,
    "start_time": "2022-01-27T12:21:50.559Z"
   },
   {
    "duration": 17,
    "start_time": "2022-01-27T12:23:31.361Z"
   },
   {
    "duration": 27,
    "start_time": "2022-01-27T12:23:49.792Z"
   },
   {
    "duration": 14,
    "start_time": "2022-01-27T12:24:21.490Z"
   },
   {
    "duration": 11,
    "start_time": "2022-01-27T12:24:53.218Z"
   },
   {
    "duration": 15,
    "start_time": "2022-01-27T12:25:22.392Z"
   },
   {
    "duration": 10,
    "start_time": "2022-01-27T12:25:42.568Z"
   },
   {
    "duration": 10,
    "start_time": "2022-01-27T12:26:23.456Z"
   },
   {
    "duration": 13,
    "start_time": "2022-01-27T12:26:48.007Z"
   },
   {
    "duration": 14,
    "start_time": "2022-01-27T12:27:15.767Z"
   },
   {
    "duration": 13,
    "start_time": "2022-01-27T12:28:06.048Z"
   },
   {
    "duration": 14,
    "start_time": "2022-01-27T12:28:45.735Z"
   },
   {
    "duration": 580,
    "start_time": "2022-01-27T12:31:43.710Z"
   },
   {
    "duration": 102,
    "start_time": "2022-01-27T12:33:53.060Z"
   },
   {
    "duration": 537,
    "start_time": "2022-01-27T12:34:27.965Z"
   },
   {
    "duration": 479,
    "start_time": "2022-01-27T12:36:53.148Z"
   },
   {
    "duration": 680,
    "start_time": "2022-01-27T12:42:08.992Z"
   },
   {
    "duration": 2,
    "start_time": "2022-01-27T12:43:24.418Z"
   },
   {
    "duration": 228,
    "start_time": "2022-01-27T12:43:27.203Z"
   },
   {
    "duration": 3,
    "start_time": "2022-01-27T12:43:32.704Z"
   },
   {
    "duration": 4,
    "start_time": "2022-01-27T12:43:33.920Z"
   },
   {
    "duration": 14,
    "start_time": "2022-01-27T12:43:42.814Z"
   },
   {
    "duration": 5,
    "start_time": "2022-01-27T12:43:44.528Z"
   },
   {
    "duration": 5,
    "start_time": "2022-01-27T12:43:46.096Z"
   },
   {
    "duration": 19,
    "start_time": "2022-01-27T12:43:50.592Z"
   },
   {
    "duration": 36,
    "start_time": "2022-01-27T12:44:03.711Z"
   },
   {
    "duration": 4245,
    "start_time": "2022-01-27T12:44:15.458Z"
   },
   {
    "duration": 15,
    "start_time": "2022-01-27T12:44:28.058Z"
   },
   {
    "duration": 10,
    "start_time": "2022-01-27T12:45:29.566Z"
   },
   {
    "duration": 299,
    "start_time": "2022-01-27T12:47:55.990Z"
   },
   {
    "duration": 377,
    "start_time": "2022-01-27T12:48:25.048Z"
   },
   {
    "duration": 15,
    "start_time": "2022-01-27T12:48:47.316Z"
   },
   {
    "duration": 277,
    "start_time": "2022-01-27T12:48:58.714Z"
   },
   {
    "duration": 5,
    "start_time": "2022-01-27T12:49:26.928Z"
   },
   {
    "duration": 15,
    "start_time": "2022-01-27T12:49:29.982Z"
   },
   {
    "duration": 291,
    "start_time": "2022-01-27T12:52:19.775Z"
   },
   {
    "duration": 19,
    "start_time": "2022-01-27T12:53:10.678Z"
   },
   {
    "duration": 517,
    "start_time": "2022-01-27T12:53:27.514Z"
   },
   {
    "duration": 2,
    "start_time": "2022-01-27T12:53:41.220Z"
   },
   {
    "duration": 220,
    "start_time": "2022-01-27T12:53:41.854Z"
   },
   {
    "duration": 3,
    "start_time": "2022-01-27T12:53:48.396Z"
   },
   {
    "duration": 4,
    "start_time": "2022-01-27T12:53:48.932Z"
   },
   {
    "duration": 6,
    "start_time": "2022-01-27T12:53:51.324Z"
   },
   {
    "duration": 8,
    "start_time": "2022-01-27T12:53:56.820Z"
   },
   {
    "duration": 6,
    "start_time": "2022-01-27T12:53:57.404Z"
   },
   {
    "duration": 28,
    "start_time": "2022-01-27T12:54:00.847Z"
   },
   {
    "duration": 4,
    "start_time": "2022-01-27T12:54:03.828Z"
   },
   {
    "duration": 4053,
    "start_time": "2022-01-27T12:54:14.879Z"
   },
   {
    "duration": 5,
    "start_time": "2022-01-27T12:54:21.620Z"
   },
   {
    "duration": 296,
    "start_time": "2022-01-27T12:54:24.404Z"
   },
   {
    "duration": 17,
    "start_time": "2022-01-27T12:54:52.700Z"
   },
   {
    "duration": 6,
    "start_time": "2022-01-27T12:58:56.956Z"
   },
   {
    "duration": 280,
    "start_time": "2022-01-27T12:59:10.436Z"
   },
   {
    "duration": 14,
    "start_time": "2022-01-27T12:59:20.514Z"
   },
   {
    "duration": 1024,
    "start_time": "2022-01-27T12:59:53.698Z"
   },
   {
    "duration": 285,
    "start_time": "2022-01-27T13:00:07.012Z"
   },
   {
    "duration": 9,
    "start_time": "2022-01-27T13:01:15.364Z"
   },
   {
    "duration": 6,
    "start_time": "2022-01-27T13:01:43.177Z"
   },
   {
    "duration": 5,
    "start_time": "2022-01-27T13:02:33.321Z"
   },
   {
    "duration": 356,
    "start_time": "2022-01-27T13:02:52.722Z"
   },
   {
    "duration": 9,
    "start_time": "2022-01-27T13:03:05.696Z"
   },
   {
    "duration": 305,
    "start_time": "2022-01-27T13:06:15.559Z"
   },
   {
    "duration": 6,
    "start_time": "2022-01-27T13:06:53.408Z"
   },
   {
    "duration": 10,
    "start_time": "2022-01-27T13:07:01.007Z"
   },
   {
    "duration": 4385,
    "start_time": "2022-01-27T13:09:57.094Z"
   },
   {
    "duration": 14,
    "start_time": "2022-01-27T13:10:05.500Z"
   },
   {
    "duration": 3,
    "start_time": "2022-01-27T13:10:38.353Z"
   },
   {
    "duration": 729,
    "start_time": "2022-01-27T13:10:38.361Z"
   },
   {
    "duration": 13,
    "start_time": "2022-01-27T13:10:39.092Z"
   },
   {
    "duration": 14,
    "start_time": "2022-01-27T13:10:39.107Z"
   },
   {
    "duration": 27,
    "start_time": "2022-01-27T13:10:39.124Z"
   },
   {
    "duration": 3,
    "start_time": "2022-01-27T13:10:39.153Z"
   },
   {
    "duration": 9,
    "start_time": "2022-01-27T13:10:39.158Z"
   },
   {
    "duration": 8,
    "start_time": "2022-01-27T13:10:39.169Z"
   },
   {
    "duration": 16,
    "start_time": "2022-01-27T13:10:39.179Z"
   },
   {
    "duration": 30,
    "start_time": "2022-01-27T13:10:39.199Z"
   },
   {
    "duration": 6,
    "start_time": "2022-01-27T13:10:39.231Z"
   },
   {
    "duration": 22,
    "start_time": "2022-01-27T13:10:39.239Z"
   },
   {
    "duration": 43,
    "start_time": "2022-01-27T13:10:39.263Z"
   },
   {
    "duration": 7,
    "start_time": "2022-01-27T13:10:39.328Z"
   },
   {
    "duration": 29,
    "start_time": "2022-01-27T13:10:39.337Z"
   },
   {
    "duration": 9,
    "start_time": "2022-01-27T13:10:39.368Z"
   },
   {
    "duration": 22,
    "start_time": "2022-01-27T13:10:39.379Z"
   },
   {
    "duration": 5452,
    "start_time": "2022-01-27T13:10:39.402Z"
   },
   {
    "duration": 5,
    "start_time": "2022-01-27T13:10:44.856Z"
   },
   {
    "duration": 319,
    "start_time": "2022-01-27T13:10:44.862Z"
   },
   {
    "duration": 413378,
    "start_time": "2022-01-27T13:03:51.805Z"
   },
   {
    "duration": 413347,
    "start_time": "2022-01-27T13:03:51.837Z"
   },
   {
    "duration": 413347,
    "start_time": "2022-01-27T13:03:51.839Z"
   },
   {
    "duration": 8,
    "start_time": "2022-01-27T13:10:58.950Z"
   },
   {
    "duration": 9,
    "start_time": "2022-01-27T13:11:08.121Z"
   },
   {
    "duration": 4111,
    "start_time": "2022-01-27T13:11:14.990Z"
   },
   {
    "duration": 15,
    "start_time": "2022-01-27T13:11:21.974Z"
   },
   {
    "duration": 8,
    "start_time": "2022-01-27T13:13:59.127Z"
   },
   {
    "duration": 539,
    "start_time": "2022-01-27T13:23:37.956Z"
   },
   {
    "duration": 204,
    "start_time": "2022-01-27T13:23:38.497Z"
   },
   {
    "duration": 16,
    "start_time": "2022-01-27T13:23:38.703Z"
   },
   {
    "duration": 9,
    "start_time": "2022-01-27T13:23:38.721Z"
   },
   {
    "duration": 23,
    "start_time": "2022-01-27T13:23:38.732Z"
   },
   {
    "duration": 2,
    "start_time": "2022-01-27T13:23:38.757Z"
   },
   {
    "duration": 6,
    "start_time": "2022-01-27T13:23:38.761Z"
   },
   {
    "duration": 14,
    "start_time": "2022-01-27T13:23:38.768Z"
   },
   {
    "duration": 13,
    "start_time": "2022-01-27T13:23:38.784Z"
   },
   {
    "duration": 29,
    "start_time": "2022-01-27T13:23:38.799Z"
   },
   {
    "duration": 6,
    "start_time": "2022-01-27T13:23:38.829Z"
   },
   {
    "duration": 19,
    "start_time": "2022-01-27T13:23:38.836Z"
   },
   {
    "duration": 29,
    "start_time": "2022-01-27T13:23:38.857Z"
   },
   {
    "duration": 3,
    "start_time": "2022-01-27T13:23:38.887Z"
   },
   {
    "duration": 4324,
    "start_time": "2022-01-27T13:23:38.892Z"
   },
   {
    "duration": 12,
    "start_time": "2022-01-27T13:23:43.217Z"
   },
   {
    "duration": 4176,
    "start_time": "2022-01-27T13:23:43.230Z"
   },
   {
    "duration": 5,
    "start_time": "2022-01-27T13:58:46.103Z"
   },
   {
    "duration": 13,
    "start_time": "2022-01-27T13:58:55.942Z"
   },
   {
    "duration": 14,
    "start_time": "2022-01-27T14:47:22.188Z"
   },
   {
    "duration": 18,
    "start_time": "2022-01-27T14:56:40.784Z"
   },
   {
    "duration": 415,
    "start_time": "2022-01-27T14:57:00.217Z"
   },
   {
    "duration": 14,
    "start_time": "2022-01-27T14:57:38.655Z"
   },
   {
    "duration": 13,
    "start_time": "2022-01-27T14:58:08.513Z"
   },
   {
    "duration": 73,
    "start_time": "2022-01-27T15:05:05.012Z"
   },
   {
    "duration": 29,
    "start_time": "2022-01-27T15:07:34.828Z"
   },
   {
    "duration": 18,
    "start_time": "2022-01-27T15:08:06.220Z"
   },
   {
    "duration": 17,
    "start_time": "2022-01-27T15:08:43.578Z"
   },
   {
    "duration": 21,
    "start_time": "2022-01-27T15:09:06.738Z"
   },
   {
    "duration": 86,
    "start_time": "2022-01-27T15:09:34.474Z"
   },
   {
    "duration": 14,
    "start_time": "2022-01-27T15:09:48.770Z"
   },
   {
    "duration": 22,
    "start_time": "2022-01-27T15:14:56.536Z"
   },
   {
    "duration": 22,
    "start_time": "2022-01-27T15:16:06.143Z"
   },
   {
    "duration": 22,
    "start_time": "2022-01-27T15:17:00.344Z"
   },
   {
    "duration": 284,
    "start_time": "2022-01-27T15:17:21.088Z"
   },
   {
    "duration": 471,
    "start_time": "2022-01-27T15:19:41.479Z"
   },
   {
    "duration": 160,
    "start_time": "2022-01-27T15:19:46.145Z"
   },
   {
    "duration": 15,
    "start_time": "2022-01-27T15:21:11.921Z"
   },
   {
    "duration": 144,
    "start_time": "2022-01-27T15:21:23.711Z"
   },
   {
    "duration": 7,
    "start_time": "2022-01-27T15:23:39.151Z"
   },
   {
    "duration": 353,
    "start_time": "2022-01-27T15:24:32.759Z"
   },
   {
    "duration": 18,
    "start_time": "2022-01-27T15:25:03.207Z"
   },
   {
    "duration": 13,
    "start_time": "2022-01-27T15:25:06.499Z"
   },
   {
    "duration": 439,
    "start_time": "2022-01-27T15:25:40.157Z"
   },
   {
    "duration": 20,
    "start_time": "2022-01-27T15:29:46.028Z"
   },
   {
    "duration": 15,
    "start_time": "2022-01-27T15:29:49.783Z"
   },
   {
    "duration": 461,
    "start_time": "2022-01-27T15:29:54.941Z"
   },
   {
    "duration": 299,
    "start_time": "2022-01-27T15:31:11.131Z"
   },
   {
    "duration": 24,
    "start_time": "2022-01-27T15:33:07.339Z"
   },
   {
    "duration": 19,
    "start_time": "2022-01-27T15:33:18.067Z"
   },
   {
    "duration": 14,
    "start_time": "2022-01-27T15:33:20.810Z"
   },
   {
    "duration": 209,
    "start_time": "2022-01-27T15:33:30.994Z"
   },
   {
    "duration": 925,
    "start_time": "2022-01-27T15:33:56.794Z"
   },
   {
    "duration": 1635,
    "start_time": "2022-01-27T15:35:12.266Z"
   },
   {
    "duration": 206,
    "start_time": "2022-01-27T15:35:26.594Z"
   },
   {
    "duration": 231,
    "start_time": "2022-01-27T15:36:05.145Z"
   },
   {
    "duration": 19,
    "start_time": "2022-01-27T15:37:11.656Z"
   },
   {
    "duration": 15,
    "start_time": "2022-01-27T15:37:13.888Z"
   },
   {
    "duration": 28,
    "start_time": "2022-01-27T15:37:22.306Z"
   },
   {
    "duration": 32,
    "start_time": "2022-01-27T15:37:46.306Z"
   },
   {
    "duration": 35,
    "start_time": "2022-01-27T16:14:50.563Z"
   },
   {
    "duration": 16,
    "start_time": "2022-01-27T16:15:03.417Z"
   },
   {
    "duration": 6,
    "start_time": "2022-01-27T16:17:13.763Z"
   },
   {
    "duration": 22,
    "start_time": "2022-01-27T16:17:21.550Z"
   },
   {
    "duration": 9,
    "start_time": "2022-01-27T16:17:49.819Z"
   },
   {
    "duration": 22,
    "start_time": "2022-01-27T16:17:59.921Z"
   },
   {
    "duration": 7,
    "start_time": "2022-01-27T16:19:56.612Z"
   },
   {
    "duration": 31,
    "start_time": "2022-01-27T16:21:06.081Z"
   },
   {
    "duration": 32,
    "start_time": "2022-01-27T18:57:31.642Z"
   },
   {
    "duration": 290,
    "start_time": "2022-01-27T18:58:33.956Z"
   },
   {
    "duration": 294,
    "start_time": "2022-01-27T19:00:21.874Z"
   },
   {
    "duration": 7,
    "start_time": "2022-01-27T19:01:12.643Z"
   },
   {
    "duration": 31,
    "start_time": "2022-01-27T19:02:47.162Z"
   },
   {
    "duration": 395,
    "start_time": "2022-01-27T19:03:50.289Z"
   },
   {
    "duration": 481,
    "start_time": "2022-01-27T19:05:24.632Z"
   },
   {
    "duration": 644,
    "start_time": "2022-01-27T19:05:40.937Z"
   },
   {
    "duration": 385,
    "start_time": "2022-01-27T19:05:50.560Z"
   },
   {
    "duration": 15,
    "start_time": "2022-01-27T19:07:38.600Z"
   },
   {
    "duration": 109,
    "start_time": "2022-01-27T19:08:03.998Z"
   },
   {
    "duration": 7,
    "start_time": "2022-01-27T19:08:27.648Z"
   },
   {
    "duration": 410,
    "start_time": "2022-01-27T19:09:23.861Z"
   },
   {
    "duration": 304,
    "start_time": "2022-01-27T19:16:48.260Z"
   },
   {
    "duration": 22,
    "start_time": "2022-01-27T19:17:02.710Z"
   },
   {
    "duration": 275,
    "start_time": "2022-01-27T19:19:10.356Z"
   },
   {
    "duration": 6,
    "start_time": "2022-01-27T19:19:13.955Z"
   },
   {
    "duration": 357,
    "start_time": "2022-01-27T19:19:16.547Z"
   },
   {
    "duration": 23,
    "start_time": "2022-01-27T19:19:37.365Z"
   },
   {
    "duration": 23,
    "start_time": "2022-01-27T19:19:58.028Z"
   },
   {
    "duration": 264,
    "start_time": "2022-01-27T19:20:03.354Z"
   },
   {
    "duration": 279,
    "start_time": "2022-01-27T19:20:53.218Z"
   },
   {
    "duration": 12,
    "start_time": "2022-01-27T19:22:22.042Z"
   },
   {
    "duration": 868,
    "start_time": "2022-01-27T19:23:15.786Z"
   },
   {
    "duration": 6,
    "start_time": "2022-01-27T19:23:59.921Z"
   },
   {
    "duration": 1109,
    "start_time": "2022-01-28T05:28:17.742Z"
   },
   {
    "duration": 172,
    "start_time": "2022-01-28T05:28:18.853Z"
   },
   {
    "duration": 16,
    "start_time": "2022-01-28T05:28:19.026Z"
   },
   {
    "duration": 11,
    "start_time": "2022-01-28T05:28:19.044Z"
   },
   {
    "duration": 42,
    "start_time": "2022-01-28T05:28:19.057Z"
   },
   {
    "duration": 3,
    "start_time": "2022-01-28T05:28:19.101Z"
   },
   {
    "duration": 7,
    "start_time": "2022-01-28T05:28:19.105Z"
   },
   {
    "duration": 17,
    "start_time": "2022-01-28T05:28:19.114Z"
   },
   {
    "duration": 17,
    "start_time": "2022-01-28T05:28:19.133Z"
   },
   {
    "duration": 5,
    "start_time": "2022-01-28T05:28:19.151Z"
   },
   {
    "duration": 9,
    "start_time": "2022-01-28T05:28:19.157Z"
   },
   {
    "duration": 51,
    "start_time": "2022-01-28T05:28:19.167Z"
   },
   {
    "duration": 30,
    "start_time": "2022-01-28T05:28:19.220Z"
   },
   {
    "duration": 3,
    "start_time": "2022-01-28T05:28:19.252Z"
   },
   {
    "duration": 4435,
    "start_time": "2022-01-28T05:28:19.257Z"
   },
   {
    "duration": 7,
    "start_time": "2022-01-28T05:28:23.693Z"
   },
   {
    "duration": 4478,
    "start_time": "2022-01-28T05:28:23.702Z"
   },
   {
    "duration": 6,
    "start_time": "2022-01-28T05:28:28.182Z"
   },
   {
    "duration": 15,
    "start_time": "2022-01-28T05:28:28.198Z"
   },
   {
    "duration": 33,
    "start_time": "2022-01-28T05:28:28.215Z"
   },
   {
    "duration": 14,
    "start_time": "2022-01-28T05:28:28.249Z"
   },
   {
    "duration": 45,
    "start_time": "2022-01-28T05:28:28.265Z"
   },
   {
    "duration": 294,
    "start_time": "2022-01-28T05:28:28.313Z"
   },
   {
    "duration": 24,
    "start_time": "2022-01-28T05:28:28.609Z"
   },
   {
    "duration": 36,
    "start_time": "2022-01-28T05:28:28.634Z"
   },
   {
    "duration": 494,
    "start_time": "2022-01-28T05:28:28.672Z"
   },
   {
    "duration": 494,
    "start_time": "2022-01-28T05:28:29.167Z"
   },
   {
    "duration": 24,
    "start_time": "2022-01-28T05:28:29.662Z"
   },
   {
    "duration": 327,
    "start_time": "2022-01-28T05:28:29.688Z"
   },
   {
    "duration": 6,
    "start_time": "2022-01-28T05:28:30.017Z"
   },
   {
    "duration": 23,
    "start_time": "2022-01-28T05:43:09.022Z"
   },
   {
    "duration": 363,
    "start_time": "2022-01-28T05:43:15.052Z"
   },
   {
    "duration": 314,
    "start_time": "2022-01-28T05:43:31.700Z"
   },
   {
    "duration": 6,
    "start_time": "2022-01-28T05:45:12.660Z"
   },
   {
    "duration": 24,
    "start_time": "2022-01-28T05:45:19.304Z"
   },
   {
    "duration": 275,
    "start_time": "2022-01-28T05:45:20.444Z"
   },
   {
    "duration": 5,
    "start_time": "2022-01-28T05:45:21.460Z"
   },
   {
    "duration": 5404,
    "start_time": "2022-01-28T05:57:40.632Z"
   },
   {
    "duration": 1357,
    "start_time": "2022-01-28T05:58:40.184Z"
   },
   {
    "duration": 49,
    "start_time": "2022-01-28T07:16:50.472Z"
   },
   {
    "duration": 53,
    "start_time": "2022-01-28T07:17:06.136Z"
   },
   {
    "duration": 56,
    "start_time": "2022-01-28T07:18:04.439Z"
   },
   {
    "duration": 62,
    "start_time": "2022-01-28T07:19:58.376Z"
   },
   {
    "duration": 668,
    "start_time": "2022-01-28T07:20:59.686Z"
   },
   {
    "duration": 80,
    "start_time": "2022-01-28T08:44:11.445Z"
   },
   {
    "duration": 63,
    "start_time": "2022-01-28T08:44:31.750Z"
   },
   {
    "duration": 14,
    "start_time": "2022-01-28T15:03:51.252Z"
   },
   {
    "duration": 229,
    "start_time": "2022-01-28T15:05:16.774Z"
   },
   {
    "duration": 14,
    "start_time": "2022-01-28T15:07:57.931Z"
   },
   {
    "duration": 7,
    "start_time": "2022-01-28T15:09:24.524Z"
   },
   {
    "duration": 175,
    "start_time": "2022-01-28T15:10:12.029Z"
   },
   {
    "duration": 208,
    "start_time": "2022-01-28T15:11:16.777Z"
   },
   {
    "duration": 397,
    "start_time": "2022-01-28T15:12:01.277Z"
   },
   {
    "duration": 172,
    "start_time": "2022-01-28T15:12:09.010Z"
   },
   {
    "duration": 15,
    "start_time": "2022-01-28T15:13:26.650Z"
   },
   {
    "duration": 253,
    "start_time": "2022-01-28T15:13:36.864Z"
   },
   {
    "duration": 232,
    "start_time": "2022-01-28T15:13:45.454Z"
   },
   {
    "duration": 195,
    "start_time": "2022-01-28T15:14:49.738Z"
   },
   {
    "duration": 214,
    "start_time": "2022-01-28T15:16:09.288Z"
   },
   {
    "duration": 447,
    "start_time": "2022-01-28T15:16:38.528Z"
   },
   {
    "duration": 204,
    "start_time": "2022-01-28T15:16:45.624Z"
   },
   {
    "duration": 521,
    "start_time": "2022-01-28T15:17:33.362Z"
   },
   {
    "duration": 223,
    "start_time": "2022-01-28T15:17:59.552Z"
   },
   {
    "duration": 257,
    "start_time": "2022-01-28T15:18:34.199Z"
   },
   {
    "duration": 239,
    "start_time": "2022-01-28T15:18:42.497Z"
   },
   {
    "duration": 210,
    "start_time": "2022-01-28T15:19:13.073Z"
   },
   {
    "duration": 69,
    "start_time": "2022-01-28T15:43:02.358Z"
   },
   {
    "duration": 51,
    "start_time": "2022-01-28T15:43:30.332Z"
   },
   {
    "duration": 416,
    "start_time": "2022-01-28T15:46:38.212Z"
   },
   {
    "duration": 15,
    "start_time": "2022-01-28T15:49:08.417Z"
   },
   {
    "duration": 13,
    "start_time": "2022-01-28T15:52:34.528Z"
   },
   {
    "duration": 220,
    "start_time": "2022-01-28T16:05:52.556Z"
   },
   {
    "duration": 228,
    "start_time": "2022-01-28T16:06:24.092Z"
   },
   {
    "duration": 231,
    "start_time": "2022-01-28T16:07:28.628Z"
   },
   {
    "duration": 15,
    "start_time": "2022-01-28T16:07:51.380Z"
   },
   {
    "duration": 226,
    "start_time": "2022-01-28T16:09:04.833Z"
   },
   {
    "duration": 13,
    "start_time": "2022-01-28T19:12:45.684Z"
   },
   {
    "duration": 13,
    "start_time": "2022-01-28T19:25:48.670Z"
   },
   {
    "duration": 674,
    "start_time": "2022-01-28T19:38:29.849Z"
   },
   {
    "duration": 101,
    "start_time": "2022-01-28T19:51:55.039Z"
   },
   {
    "duration": 13,
    "start_time": "2022-01-28T19:54:19.067Z"
   },
   {
    "duration": 272,
    "start_time": "2022-01-28T19:55:07.363Z"
   },
   {
    "duration": 3,
    "start_time": "2022-01-28T19:55:36.859Z"
   },
   {
    "duration": 5,
    "start_time": "2022-01-28T19:55:41.805Z"
   },
   {
    "duration": 13,
    "start_time": "2022-01-28T19:57:13.035Z"
   },
   {
    "duration": 11,
    "start_time": "2022-01-28T19:57:52.377Z"
   },
   {
    "duration": 5,
    "start_time": "2022-01-28T19:57:56.273Z"
   },
   {
    "duration": 16,
    "start_time": "2022-01-28T20:03:26.487Z"
   },
   {
    "duration": 8,
    "start_time": "2022-01-28T20:03:29.831Z"
   },
   {
    "duration": 5,
    "start_time": "2022-01-28T20:03:55.331Z"
   },
   {
    "duration": 15,
    "start_time": "2022-01-28T20:04:09.393Z"
   },
   {
    "duration": 7,
    "start_time": "2022-01-28T20:04:13.120Z"
   },
   {
    "duration": 45,
    "start_time": "2022-01-28T20:19:01.490Z"
   },
   {
    "duration": 1102,
    "start_time": "2022-01-28T20:33:41.200Z"
   },
   {
    "duration": 164,
    "start_time": "2022-01-28T20:33:42.304Z"
   },
   {
    "duration": 17,
    "start_time": "2022-01-28T20:33:42.470Z"
   },
   {
    "duration": 16,
    "start_time": "2022-01-28T20:33:42.489Z"
   },
   {
    "duration": 48,
    "start_time": "2022-01-28T20:33:42.506Z"
   },
   {
    "duration": 3,
    "start_time": "2022-01-28T20:33:42.555Z"
   },
   {
    "duration": 8,
    "start_time": "2022-01-28T20:33:42.559Z"
   },
   {
    "duration": 14,
    "start_time": "2022-01-28T20:33:42.569Z"
   },
   {
    "duration": 18,
    "start_time": "2022-01-28T20:33:42.584Z"
   },
   {
    "duration": 5,
    "start_time": "2022-01-28T20:33:42.603Z"
   },
   {
    "duration": 8,
    "start_time": "2022-01-28T20:33:42.610Z"
   },
   {
    "duration": 24,
    "start_time": "2022-01-28T20:33:42.620Z"
   },
   {
    "duration": 53,
    "start_time": "2022-01-28T20:33:42.646Z"
   },
   {
    "duration": 4,
    "start_time": "2022-01-28T20:33:42.701Z"
   },
   {
    "duration": 4500,
    "start_time": "2022-01-28T20:33:42.707Z"
   },
   {
    "duration": 5,
    "start_time": "2022-01-28T20:33:47.208Z"
   },
   {
    "duration": 4645,
    "start_time": "2022-01-28T20:33:47.215Z"
   },
   {
    "duration": 4,
    "start_time": "2022-01-28T20:33:51.862Z"
   },
   {
    "duration": 19,
    "start_time": "2022-01-28T20:33:51.868Z"
   },
   {
    "duration": 25,
    "start_time": "2022-01-28T20:33:51.889Z"
   },
   {
    "duration": 15,
    "start_time": "2022-01-28T20:33:51.916Z"
   },
   {
    "duration": 34,
    "start_time": "2022-01-28T20:33:51.932Z"
   },
   {
    "duration": 317,
    "start_time": "2022-01-28T20:33:51.969Z"
   },
   {
    "duration": 31,
    "start_time": "2022-01-28T20:33:52.289Z"
   },
   {
    "duration": 38,
    "start_time": "2022-01-28T20:33:52.322Z"
   },
   {
    "duration": 509,
    "start_time": "2022-01-28T20:33:52.362Z"
   },
   {
    "duration": 36,
    "start_time": "2022-01-28T20:33:52.873Z"
   },
   {
    "duration": 313,
    "start_time": "2022-01-28T20:33:52.911Z"
   },
   {
    "duration": 6,
    "start_time": "2022-01-28T20:33:53.226Z"
   },
   {
    "duration": 77,
    "start_time": "2022-01-28T20:33:53.233Z"
   },
   {
    "duration": 7,
    "start_time": "2022-01-28T20:33:53.312Z"
   },
   {
    "duration": 226,
    "start_time": "2022-01-28T20:33:53.320Z"
   },
   {
    "duration": 13,
    "start_time": "2022-01-28T20:33:53.547Z"
   },
   {
    "duration": 12,
    "start_time": "2022-01-28T20:33:53.561Z"
   },
   {
    "duration": 29,
    "start_time": "2022-01-28T20:33:53.574Z"
   },
   {
    "duration": 10,
    "start_time": "2022-01-28T20:33:53.604Z"
   },
   {
    "duration": 11,
    "start_time": "2022-01-28T20:33:53.616Z"
   },
   {
    "duration": 4,
    "start_time": "2022-01-28T20:33:53.629Z"
   },
   {
    "duration": 16,
    "start_time": "2022-01-28T20:33:53.635Z"
   },
   {
    "duration": 47,
    "start_time": "2022-01-28T20:33:53.653Z"
   },
   {
    "duration": 4,
    "start_time": "2022-01-28T20:33:53.702Z"
   },
   {
    "duration": 1184,
    "start_time": "2022-01-29T06:07:20.599Z"
   },
   {
    "duration": 159,
    "start_time": "2022-01-29T06:07:21.785Z"
   },
   {
    "duration": 17,
    "start_time": "2022-01-29T06:07:21.946Z"
   },
   {
    "duration": 14,
    "start_time": "2022-01-29T06:07:21.965Z"
   },
   {
    "duration": 31,
    "start_time": "2022-01-29T06:07:21.981Z"
   },
   {
    "duration": 3,
    "start_time": "2022-01-29T06:07:22.014Z"
   },
   {
    "duration": 9,
    "start_time": "2022-01-29T06:07:22.019Z"
   },
   {
    "duration": 15,
    "start_time": "2022-01-29T06:07:22.032Z"
   },
   {
    "duration": 19,
    "start_time": "2022-01-29T06:07:22.050Z"
   },
   {
    "duration": 31,
    "start_time": "2022-01-29T06:07:22.071Z"
   },
   {
    "duration": 8,
    "start_time": "2022-01-29T06:07:22.104Z"
   },
   {
    "duration": 27,
    "start_time": "2022-01-29T06:07:22.114Z"
   },
   {
    "duration": 56,
    "start_time": "2022-01-29T06:07:22.142Z"
   },
   {
    "duration": 5,
    "start_time": "2022-01-29T06:07:22.200Z"
   },
   {
    "duration": 4837,
    "start_time": "2022-01-29T06:07:22.206Z"
   },
   {
    "duration": 5,
    "start_time": "2022-01-29T06:07:27.045Z"
   },
   {
    "duration": 4918,
    "start_time": "2022-01-29T06:07:27.051Z"
   },
   {
    "duration": 5,
    "start_time": "2022-01-29T06:07:31.970Z"
   },
   {
    "duration": 30,
    "start_time": "2022-01-29T06:07:31.977Z"
   },
   {
    "duration": 37,
    "start_time": "2022-01-29T06:07:32.009Z"
   },
   {
    "duration": 24,
    "start_time": "2022-01-29T06:07:32.048Z"
   },
   {
    "duration": 47,
    "start_time": "2022-01-29T06:07:32.074Z"
   },
   {
    "duration": 314,
    "start_time": "2022-01-29T06:07:32.126Z"
   },
   {
    "duration": 28,
    "start_time": "2022-01-29T06:07:32.442Z"
   },
   {
    "duration": 59,
    "start_time": "2022-01-29T06:07:32.472Z"
   },
   {
    "duration": 508,
    "start_time": "2022-01-29T06:07:32.533Z"
   },
   {
    "duration": 24,
    "start_time": "2022-01-29T06:07:33.043Z"
   },
   {
    "duration": 353,
    "start_time": "2022-01-29T06:07:33.069Z"
   },
   {
    "duration": 4,
    "start_time": "2022-01-29T06:07:33.424Z"
   },
   {
    "duration": 80,
    "start_time": "2022-01-29T06:07:33.430Z"
   },
   {
    "duration": 7,
    "start_time": "2022-01-29T06:07:33.512Z"
   },
   {
    "duration": 254,
    "start_time": "2022-01-29T06:07:33.520Z"
   },
   {
    "duration": 13,
    "start_time": "2022-01-29T06:07:33.776Z"
   },
   {
    "duration": 35,
    "start_time": "2022-01-29T06:07:33.791Z"
   },
   {
    "duration": 29,
    "start_time": "2022-01-29T06:07:33.827Z"
   },
   {
    "duration": 20,
    "start_time": "2022-01-29T06:07:33.857Z"
   },
   {
    "duration": 31,
    "start_time": "2022-01-29T06:07:33.879Z"
   },
   {
    "duration": 6,
    "start_time": "2022-01-29T06:07:33.911Z"
   },
   {
    "duration": 34,
    "start_time": "2022-01-29T06:07:33.918Z"
   },
   {
    "duration": 29,
    "start_time": "2022-01-29T06:07:33.953Z"
   },
   {
    "duration": 7,
    "start_time": "2022-01-29T06:07:33.983Z"
   },
   {
    "duration": 4,
    "start_time": "2022-01-29T06:55:29.502Z"
   },
   {
    "duration": 1188,
    "start_time": "2022-01-29T06:55:47.472Z"
   },
   {
    "duration": 155,
    "start_time": "2022-01-29T06:55:48.662Z"
   },
   {
    "duration": 18,
    "start_time": "2022-01-29T06:55:48.819Z"
   },
   {
    "duration": 10,
    "start_time": "2022-01-29T06:55:48.839Z"
   },
   {
    "duration": 49,
    "start_time": "2022-01-29T06:55:48.851Z"
   },
   {
    "duration": 3,
    "start_time": "2022-01-29T06:55:48.902Z"
   },
   {
    "duration": 7,
    "start_time": "2022-01-29T06:55:48.906Z"
   },
   {
    "duration": 16,
    "start_time": "2022-01-29T06:55:48.914Z"
   },
   {
    "duration": 20,
    "start_time": "2022-01-29T06:55:48.932Z"
   },
   {
    "duration": 5,
    "start_time": "2022-01-29T06:55:48.954Z"
   },
   {
    "duration": 39,
    "start_time": "2022-01-29T06:55:48.961Z"
   },
   {
    "duration": 23,
    "start_time": "2022-01-29T06:55:49.002Z"
   },
   {
    "duration": 34,
    "start_time": "2022-01-29T06:55:49.027Z"
   },
   {
    "duration": 5,
    "start_time": "2022-01-29T06:55:49.062Z"
   },
   {
    "duration": 4730,
    "start_time": "2022-01-29T06:55:49.068Z"
   },
   {
    "duration": 5,
    "start_time": "2022-01-29T06:55:53.800Z"
   },
   {
    "duration": 7,
    "start_time": "2022-01-29T06:55:53.806Z"
   },
   {
    "duration": 4866,
    "start_time": "2022-01-29T06:55:53.815Z"
   },
   {
    "duration": 17,
    "start_time": "2022-01-29T06:55:58.682Z"
   },
   {
    "duration": 14,
    "start_time": "2022-01-29T06:55:58.701Z"
   },
   {
    "duration": 20,
    "start_time": "2022-01-29T06:55:58.717Z"
   },
   {
    "duration": 15,
    "start_time": "2022-01-29T06:55:58.738Z"
   },
   {
    "duration": 36,
    "start_time": "2022-01-29T06:55:58.755Z"
   },
   {
    "duration": 316,
    "start_time": "2022-01-29T06:55:58.799Z"
   },
   {
    "duration": 26,
    "start_time": "2022-01-29T06:55:59.117Z"
   },
   {
    "duration": 38,
    "start_time": "2022-01-29T06:55:59.144Z"
   },
   {
    "duration": 621,
    "start_time": "2022-01-29T06:55:59.185Z"
   },
   {
    "duration": 25,
    "start_time": "2022-01-29T06:55:59.808Z"
   },
   {
    "duration": 313,
    "start_time": "2022-01-29T06:55:59.835Z"
   },
   {
    "duration": 6,
    "start_time": "2022-01-29T06:56:00.149Z"
   },
   {
    "duration": 82,
    "start_time": "2022-01-29T06:56:00.157Z"
   },
   {
    "duration": 8,
    "start_time": "2022-01-29T06:56:00.241Z"
   },
   {
    "duration": 241,
    "start_time": "2022-01-29T06:56:00.251Z"
   },
   {
    "duration": 17,
    "start_time": "2022-01-29T06:56:00.495Z"
   },
   {
    "duration": 14,
    "start_time": "2022-01-29T06:56:00.514Z"
   },
   {
    "duration": 15,
    "start_time": "2022-01-29T06:56:00.531Z"
   },
   {
    "duration": 51,
    "start_time": "2022-01-29T06:56:00.548Z"
   },
   {
    "duration": 14,
    "start_time": "2022-01-29T06:56:00.601Z"
   },
   {
    "duration": 4,
    "start_time": "2022-01-29T06:56:00.617Z"
   },
   {
    "duration": 29,
    "start_time": "2022-01-29T06:56:00.623Z"
   },
   {
    "duration": 16,
    "start_time": "2022-01-29T06:56:00.653Z"
   },
   {
    "duration": 5,
    "start_time": "2022-01-29T06:56:00.670Z"
   },
   {
    "duration": 1203,
    "start_time": "2022-01-29T06:56:13.770Z"
   },
   {
    "duration": 156,
    "start_time": "2022-01-29T06:56:14.975Z"
   },
   {
    "duration": 19,
    "start_time": "2022-01-29T06:56:15.133Z"
   },
   {
    "duration": 10,
    "start_time": "2022-01-29T06:56:15.154Z"
   },
   {
    "duration": 49,
    "start_time": "2022-01-29T06:56:15.166Z"
   },
   {
    "duration": 2,
    "start_time": "2022-01-29T06:56:15.217Z"
   },
   {
    "duration": 8,
    "start_time": "2022-01-29T06:56:15.221Z"
   },
   {
    "duration": 14,
    "start_time": "2022-01-29T06:56:15.231Z"
   },
   {
    "duration": 19,
    "start_time": "2022-01-29T06:56:15.248Z"
   },
   {
    "duration": 32,
    "start_time": "2022-01-29T06:56:15.269Z"
   },
   {
    "duration": 6,
    "start_time": "2022-01-29T06:56:15.302Z"
   },
   {
    "duration": 22,
    "start_time": "2022-01-29T06:56:15.310Z"
   },
   {
    "duration": 34,
    "start_time": "2022-01-29T06:56:15.334Z"
   },
   {
    "duration": 32,
    "start_time": "2022-01-29T06:56:15.370Z"
   },
   {
    "duration": 10,
    "start_time": "2022-01-29T06:56:15.403Z"
   },
   {
    "duration": 4822,
    "start_time": "2022-01-29T06:56:15.415Z"
   },
   {
    "duration": 5,
    "start_time": "2022-01-29T06:56:20.239Z"
   },
   {
    "duration": 6,
    "start_time": "2022-01-29T06:56:20.246Z"
   },
   {
    "duration": 4838,
    "start_time": "2022-01-29T06:56:20.253Z"
   },
   {
    "duration": 6,
    "start_time": "2022-01-29T06:56:25.093Z"
   },
   {
    "duration": 15,
    "start_time": "2022-01-29T06:56:25.101Z"
   },
   {
    "duration": 20,
    "start_time": "2022-01-29T06:56:25.118Z"
   },
   {
    "duration": 17,
    "start_time": "2022-01-29T06:56:25.139Z"
   },
   {
    "duration": 65,
    "start_time": "2022-01-29T06:56:25.157Z"
   },
   {
    "duration": 317,
    "start_time": "2022-01-29T06:56:25.223Z"
   },
   {
    "duration": 27,
    "start_time": "2022-01-29T06:56:25.542Z"
   },
   {
    "duration": 57,
    "start_time": "2022-01-29T06:56:25.572Z"
   },
   {
    "duration": 516,
    "start_time": "2022-01-29T06:56:25.631Z"
   },
   {
    "duration": 26,
    "start_time": "2022-01-29T06:56:26.149Z"
   },
   {
    "duration": 371,
    "start_time": "2022-01-29T06:56:26.177Z"
   },
   {
    "duration": 5,
    "start_time": "2022-01-29T06:56:26.549Z"
   },
   {
    "duration": 76,
    "start_time": "2022-01-29T06:56:26.556Z"
   },
   {
    "duration": 6,
    "start_time": "2022-01-29T06:56:26.634Z"
   },
   {
    "duration": 227,
    "start_time": "2022-01-29T06:56:26.642Z"
   },
   {
    "duration": 14,
    "start_time": "2022-01-29T06:56:26.871Z"
   },
   {
    "duration": 22,
    "start_time": "2022-01-29T06:56:26.886Z"
   },
   {
    "duration": 11,
    "start_time": "2022-01-29T06:56:26.910Z"
   },
   {
    "duration": 9,
    "start_time": "2022-01-29T06:56:26.923Z"
   },
   {
    "duration": 16,
    "start_time": "2022-01-29T06:56:26.934Z"
   },
   {
    "duration": 6,
    "start_time": "2022-01-29T06:56:26.952Z"
   },
   {
    "duration": 56,
    "start_time": "2022-01-29T06:56:26.960Z"
   },
   {
    "duration": 14,
    "start_time": "2022-01-29T06:56:27.018Z"
   },
   {
    "duration": 6,
    "start_time": "2022-01-29T06:56:27.034Z"
   },
   {
    "duration": 10,
    "start_time": "2022-01-29T07:11:55.485Z"
   },
   {
    "duration": 1275,
    "start_time": "2022-01-29T16:41:54.909Z"
   },
   {
    "duration": 161,
    "start_time": "2022-01-29T16:41:56.186Z"
   },
   {
    "duration": 18,
    "start_time": "2022-01-29T16:41:57.513Z"
   },
   {
    "duration": 12,
    "start_time": "2022-01-29T16:42:01.064Z"
   },
   {
    "duration": 31,
    "start_time": "2022-01-29T16:42:01.904Z"
   },
   {
    "duration": 4,
    "start_time": "2022-01-29T16:42:05.158Z"
   },
   {
    "duration": 4,
    "start_time": "2022-01-29T16:42:05.854Z"
   },
   {
    "duration": 14,
    "start_time": "2022-01-29T16:42:08.846Z"
   },
   {
    "duration": 21,
    "start_time": "2022-01-29T16:42:11.802Z"
   },
   {
    "duration": 6,
    "start_time": "2022-01-29T16:42:12.744Z"
   },
   {
    "duration": 6,
    "start_time": "2022-01-29T16:42:13.383Z"
   },
   {
    "duration": 24,
    "start_time": "2022-01-29T16:42:16.224Z"
   },
   {
    "duration": 35,
    "start_time": "2022-01-29T16:42:17.523Z"
   },
   {
    "duration": 5,
    "start_time": "2022-01-29T16:42:19.295Z"
   },
   {
    "duration": 5091,
    "start_time": "2022-01-29T16:42:23.065Z"
   },
   {
    "duration": 5,
    "start_time": "2022-01-29T16:42:28.158Z"
   },
   {
    "duration": 8,
    "start_time": "2022-01-29T16:42:33.103Z"
   },
   {
    "duration": 6,
    "start_time": "2022-01-29T16:43:31.574Z"
   },
   {
    "duration": 14,
    "start_time": "2022-01-29T16:44:30.006Z"
   },
   {
    "duration": 4,
    "start_time": "2022-01-29T16:44:35.636Z"
   },
   {
    "duration": 163,
    "start_time": "2022-01-29T16:44:36.254Z"
   },
   {
    "duration": 18,
    "start_time": "2022-01-29T16:44:36.983Z"
   },
   {
    "duration": 330,
    "start_time": "2022-01-29T16:45:01.503Z"
   },
   {
    "duration": 3,
    "start_time": "2022-01-29T16:45:11.062Z"
   },
   {
    "duration": 23,
    "start_time": "2022-01-29T16:45:18.911Z"
   },
   {
    "duration": 14,
    "start_time": "2022-01-29T16:45:39.782Z"
   },
   {
    "duration": 14,
    "start_time": "2022-01-29T16:45:46.606Z"
   },
   {
    "duration": 7,
    "start_time": "2022-01-29T16:45:56.735Z"
   },
   {
    "duration": 5,
    "start_time": "2022-01-29T16:46:50.144Z"
   },
   {
    "duration": 204,
    "start_time": "2022-01-29T16:57:05.744Z"
   },
   {
    "duration": 248,
    "start_time": "2022-01-29T16:58:13.584Z"
   },
   {
    "duration": 212,
    "start_time": "2022-01-29T16:59:46.841Z"
   },
   {
    "duration": 295,
    "start_time": "2022-01-29T17:00:00.383Z"
   },
   {
    "duration": 4,
    "start_time": "2022-01-29T17:00:33.933Z"
   },
   {
    "duration": 238,
    "start_time": "2022-01-29T17:00:33.939Z"
   },
   {
    "duration": 14,
    "start_time": "2022-01-29T17:00:34.179Z"
   },
   {
    "duration": 28,
    "start_time": "2022-01-29T17:00:34.195Z"
   },
   {
    "duration": 43,
    "start_time": "2022-01-29T17:00:34.225Z"
   },
   {
    "duration": 3,
    "start_time": "2022-01-29T17:00:34.269Z"
   },
   {
    "duration": 17,
    "start_time": "2022-01-29T17:00:34.274Z"
   },
   {
    "duration": 21,
    "start_time": "2022-01-29T17:00:34.294Z"
   },
   {
    "duration": 25,
    "start_time": "2022-01-29T17:00:34.317Z"
   },
   {
    "duration": 10,
    "start_time": "2022-01-29T17:00:34.344Z"
   },
   {
    "duration": 12,
    "start_time": "2022-01-29T17:00:34.356Z"
   },
   {
    "duration": 30,
    "start_time": "2022-01-29T17:00:34.370Z"
   },
   {
    "duration": 34,
    "start_time": "2022-01-29T17:00:34.407Z"
   },
   {
    "duration": 5,
    "start_time": "2022-01-29T17:00:34.443Z"
   },
   {
    "duration": 4757,
    "start_time": "2022-01-29T17:00:34.450Z"
   },
   {
    "duration": 5,
    "start_time": "2022-01-29T17:00:39.209Z"
   },
   {
    "duration": 4918,
    "start_time": "2022-01-29T17:00:39.216Z"
   },
   {
    "duration": 5,
    "start_time": "2022-01-29T17:00:44.136Z"
   },
   {
    "duration": 21,
    "start_time": "2022-01-29T17:00:44.143Z"
   },
   {
    "duration": 23,
    "start_time": "2022-01-29T17:00:44.166Z"
   },
   {
    "duration": 218,
    "start_time": "2022-01-29T17:00:44.207Z"
   },
   {
    "duration": 16,
    "start_time": "2022-01-29T17:00:44.427Z"
   },
   {
    "duration": 36,
    "start_time": "2022-01-29T17:00:44.446Z"
   },
   {
    "duration": 305,
    "start_time": "2022-01-29T17:00:44.484Z"
   },
   {
    "duration": 33,
    "start_time": "2022-01-29T17:00:44.791Z"
   },
   {
    "duration": 35,
    "start_time": "2022-01-29T17:00:44.826Z"
   },
   {
    "duration": 473,
    "start_time": "2022-01-29T17:00:44.862Z"
   },
   {
    "duration": 24,
    "start_time": "2022-01-29T17:00:45.337Z"
   },
   {
    "duration": 348,
    "start_time": "2022-01-29T17:00:45.363Z"
   },
   {
    "duration": 5,
    "start_time": "2022-01-29T17:00:45.713Z"
   },
   {
    "duration": 74,
    "start_time": "2022-01-29T17:00:45.720Z"
   },
   {
    "duration": 15,
    "start_time": "2022-01-29T17:00:45.796Z"
   },
   {
    "duration": 254,
    "start_time": "2022-01-29T17:00:45.813Z"
   },
   {
    "duration": 15,
    "start_time": "2022-01-29T17:00:46.069Z"
   },
   {
    "duration": 32,
    "start_time": "2022-01-29T17:00:46.086Z"
   },
   {
    "duration": 14,
    "start_time": "2022-01-29T17:00:46.120Z"
   },
   {
    "duration": 19,
    "start_time": "2022-01-29T17:00:46.136Z"
   },
   {
    "duration": 19,
    "start_time": "2022-01-29T17:00:46.157Z"
   },
   {
    "duration": 18,
    "start_time": "2022-01-29T17:00:46.178Z"
   },
   {
    "duration": 34,
    "start_time": "2022-01-29T17:00:46.198Z"
   },
   {
    "duration": 18,
    "start_time": "2022-01-29T17:00:46.234Z"
   },
   {
    "duration": 9,
    "start_time": "2022-01-29T17:00:46.253Z"
   },
   {
    "duration": 655,
    "start_time": "2022-01-29T17:05:04.103Z"
   },
   {
    "duration": 300,
    "start_time": "2022-01-29T17:05:47.015Z"
   },
   {
    "duration": 2625,
    "start_time": "2022-01-29T17:07:56.413Z"
   },
   {
    "duration": 2476,
    "start_time": "2022-01-29T17:08:50.063Z"
   },
   {
    "duration": 1942,
    "start_time": "2022-01-29T17:10:21.056Z"
   },
   {
    "duration": 50,
    "start_time": "2022-01-29T17:13:54.739Z"
   },
   {
    "duration": 44,
    "start_time": "2022-01-29T17:17:04.747Z"
   },
   {
    "duration": 35,
    "start_time": "2022-01-29T17:18:57.923Z"
   },
   {
    "duration": 25,
    "start_time": "2022-01-29T17:27:18.729Z"
   },
   {
    "duration": 1183,
    "start_time": "2022-01-29T17:31:46.762Z"
   },
   {
    "duration": 171,
    "start_time": "2022-01-29T17:31:47.947Z"
   },
   {
    "duration": 18,
    "start_time": "2022-01-29T17:31:48.120Z"
   },
   {
    "duration": 11,
    "start_time": "2022-01-29T17:31:48.140Z"
   },
   {
    "duration": 30,
    "start_time": "2022-01-29T17:31:48.153Z"
   },
   {
    "duration": 23,
    "start_time": "2022-01-29T17:31:48.184Z"
   },
   {
    "duration": 8,
    "start_time": "2022-01-29T17:31:48.209Z"
   },
   {
    "duration": 15,
    "start_time": "2022-01-29T17:31:48.219Z"
   },
   {
    "duration": 21,
    "start_time": "2022-01-29T17:31:48.236Z"
   },
   {
    "duration": 5,
    "start_time": "2022-01-29T17:31:48.260Z"
   },
   {
    "duration": 8,
    "start_time": "2022-01-29T17:31:48.267Z"
   },
   {
    "duration": 23,
    "start_time": "2022-01-29T17:31:48.307Z"
   },
   {
    "duration": 36,
    "start_time": "2022-01-29T17:31:48.332Z"
   },
   {
    "duration": 4,
    "start_time": "2022-01-29T17:31:48.370Z"
   },
   {
    "duration": 4900,
    "start_time": "2022-01-29T17:31:48.376Z"
   },
   {
    "duration": 5,
    "start_time": "2022-01-29T17:31:53.278Z"
   },
   {
    "duration": 4878,
    "start_time": "2022-01-29T17:31:53.285Z"
   },
   {
    "duration": 5,
    "start_time": "2022-01-29T17:31:58.165Z"
   },
   {
    "duration": 16,
    "start_time": "2022-01-29T17:31:58.172Z"
   },
   {
    "duration": 32,
    "start_time": "2022-01-29T17:31:58.190Z"
   },
   {
    "duration": 221,
    "start_time": "2022-01-29T17:31:58.224Z"
   },
   {
    "duration": 17,
    "start_time": "2022-01-29T17:31:58.447Z"
   },
   {
    "duration": 55,
    "start_time": "2022-01-29T17:31:58.466Z"
   },
   {
    "duration": 289,
    "start_time": "2022-01-29T17:31:58.523Z"
   },
   {
    "duration": 1914,
    "start_time": "2022-01-29T17:31:58.814Z"
   },
   {
    "duration": 27,
    "start_time": "2022-01-29T17:32:00.730Z"
   },
   {
    "duration": 55,
    "start_time": "2022-01-29T17:32:00.762Z"
   },
   {
    "duration": 341,
    "start_time": "2022-01-29T17:32:00.819Z"
   },
   {
    "duration": 12,
    "start_time": "2022-01-29T17:32:01.162Z"
   },
   {
    "duration": 333,
    "start_time": "2022-01-29T17:32:01.176Z"
   },
   {
    "duration": 415596,
    "start_time": "2022-01-29T17:25:05.916Z"
   },
   {
    "duration": 415595,
    "start_time": "2022-01-29T17:25:05.918Z"
   },
   {
    "duration": 415591,
    "start_time": "2022-01-29T17:25:05.924Z"
   },
   {
    "duration": 415590,
    "start_time": "2022-01-29T17:25:05.926Z"
   },
   {
    "duration": 415590,
    "start_time": "2022-01-29T17:25:05.928Z"
   },
   {
    "duration": 415591,
    "start_time": "2022-01-29T17:25:05.929Z"
   },
   {
    "duration": 415589,
    "start_time": "2022-01-29T17:25:05.932Z"
   },
   {
    "duration": 415589,
    "start_time": "2022-01-29T17:25:05.934Z"
   },
   {
    "duration": 415589,
    "start_time": "2022-01-29T17:25:05.935Z"
   },
   {
    "duration": 415589,
    "start_time": "2022-01-29T17:25:05.937Z"
   },
   {
    "duration": 415588,
    "start_time": "2022-01-29T17:25:05.939Z"
   },
   {
    "duration": 415588,
    "start_time": "2022-01-29T17:25:05.941Z"
   },
   {
    "duration": 415588,
    "start_time": "2022-01-29T17:25:05.943Z"
   },
   {
    "duration": 32,
    "start_time": "2022-01-29T17:34:16.295Z"
   },
   {
    "duration": 240,
    "start_time": "2022-01-29T17:34:21.200Z"
   },
   {
    "duration": 291,
    "start_time": "2022-01-29T17:34:25.497Z"
   },
   {
    "duration": 5,
    "start_time": "2022-01-29T17:35:37.038Z"
   },
   {
    "duration": 724,
    "start_time": "2022-01-29T17:36:27.440Z"
   },
   {
    "duration": 286,
    "start_time": "2022-01-29T17:37:38.648Z"
   },
   {
    "duration": 3,
    "start_time": "2022-01-29T17:38:10.852Z"
   },
   {
    "duration": 160,
    "start_time": "2022-01-29T17:38:10.860Z"
   },
   {
    "duration": 15,
    "start_time": "2022-01-29T17:38:11.023Z"
   },
   {
    "duration": 13,
    "start_time": "2022-01-29T17:38:11.042Z"
   },
   {
    "duration": 53,
    "start_time": "2022-01-29T17:38:11.058Z"
   },
   {
    "duration": 4,
    "start_time": "2022-01-29T17:38:11.114Z"
   },
   {
    "duration": 7,
    "start_time": "2022-01-29T17:38:11.119Z"
   },
   {
    "duration": 24,
    "start_time": "2022-01-29T17:38:11.128Z"
   },
   {
    "duration": 18,
    "start_time": "2022-01-29T17:38:11.154Z"
   },
   {
    "duration": 6,
    "start_time": "2022-01-29T17:38:11.175Z"
   },
   {
    "duration": 28,
    "start_time": "2022-01-29T17:38:11.183Z"
   },
   {
    "duration": 27,
    "start_time": "2022-01-29T17:38:11.213Z"
   },
   {
    "duration": 34,
    "start_time": "2022-01-29T17:38:11.242Z"
   },
   {
    "duration": 5,
    "start_time": "2022-01-29T17:38:11.278Z"
   },
   {
    "duration": 5061,
    "start_time": "2022-01-29T17:38:11.307Z"
   },
   {
    "duration": 8,
    "start_time": "2022-01-29T17:38:16.370Z"
   },
   {
    "duration": 4997,
    "start_time": "2022-01-29T17:38:16.380Z"
   },
   {
    "duration": 6,
    "start_time": "2022-01-29T17:38:21.379Z"
   },
   {
    "duration": 26,
    "start_time": "2022-01-29T17:38:21.387Z"
   },
   {
    "duration": 24,
    "start_time": "2022-01-29T17:38:21.415Z"
   },
   {
    "duration": 222,
    "start_time": "2022-01-29T17:38:21.441Z"
   },
   {
    "duration": 15,
    "start_time": "2022-01-29T17:38:21.665Z"
   },
   {
    "duration": 56,
    "start_time": "2022-01-29T17:38:21.682Z"
   },
   {
    "duration": 284,
    "start_time": "2022-01-29T17:38:21.739Z"
   },
   {
    "duration": 1902,
    "start_time": "2022-01-29T17:38:22.025Z"
   },
   {
    "duration": 26,
    "start_time": "2022-01-29T17:38:23.929Z"
   },
   {
    "duration": 51,
    "start_time": "2022-01-29T17:38:23.957Z"
   },
   {
    "duration": 340,
    "start_time": "2022-01-29T17:38:24.013Z"
   },
   {
    "duration": 28,
    "start_time": "2022-01-29T17:38:24.356Z"
   },
   {
    "duration": 336,
    "start_time": "2022-01-29T17:38:24.386Z"
   },
   {
    "duration": 5,
    "start_time": "2022-01-29T17:38:24.724Z"
   },
   {
    "duration": 608,
    "start_time": "2022-01-29T17:38:24.732Z"
   },
   {
    "duration": 415590,
    "start_time": "2022-01-29T17:31:29.752Z"
   },
   {
    "duration": 415590,
    "start_time": "2022-01-29T17:31:29.754Z"
   },
   {
    "duration": 415590,
    "start_time": "2022-01-29T17:31:29.755Z"
   },
   {
    "duration": 415589,
    "start_time": "2022-01-29T17:31:29.757Z"
   },
   {
    "duration": 415588,
    "start_time": "2022-01-29T17:31:29.759Z"
   },
   {
    "duration": 415587,
    "start_time": "2022-01-29T17:31:29.761Z"
   },
   {
    "duration": 415586,
    "start_time": "2022-01-29T17:31:29.763Z"
   },
   {
    "duration": 415587,
    "start_time": "2022-01-29T17:31:29.764Z"
   },
   {
    "duration": 415586,
    "start_time": "2022-01-29T17:31:29.766Z"
   },
   {
    "duration": 415585,
    "start_time": "2022-01-29T17:31:29.768Z"
   },
   {
    "duration": 415584,
    "start_time": "2022-01-29T17:31:29.770Z"
   },
   {
    "duration": 415583,
    "start_time": "2022-01-29T17:31:29.772Z"
   },
   {
    "duration": 5,
    "start_time": "2022-01-29T17:39:25.708Z"
   },
   {
    "duration": 201,
    "start_time": "2022-01-29T17:39:25.715Z"
   },
   {
    "duration": 21,
    "start_time": "2022-01-29T17:39:25.919Z"
   },
   {
    "duration": 11,
    "start_time": "2022-01-29T17:39:25.942Z"
   },
   {
    "duration": 59,
    "start_time": "2022-01-29T17:39:25.955Z"
   },
   {
    "duration": 4,
    "start_time": "2022-01-29T17:39:26.017Z"
   },
   {
    "duration": 18,
    "start_time": "2022-01-29T17:39:26.023Z"
   },
   {
    "duration": 16,
    "start_time": "2022-01-29T17:39:26.044Z"
   },
   {
    "duration": 44,
    "start_time": "2022-01-29T17:39:26.063Z"
   },
   {
    "duration": 6,
    "start_time": "2022-01-29T17:39:26.109Z"
   },
   {
    "duration": 18,
    "start_time": "2022-01-29T17:39:26.117Z"
   },
   {
    "duration": 47,
    "start_time": "2022-01-29T17:39:26.137Z"
   },
   {
    "duration": 48,
    "start_time": "2022-01-29T17:39:26.187Z"
   },
   {
    "duration": 5,
    "start_time": "2022-01-29T17:39:26.237Z"
   },
   {
    "duration": 4925,
    "start_time": "2022-01-29T17:39:26.245Z"
   },
   {
    "duration": 3,
    "start_time": "2022-01-29T17:39:31.172Z"
   },
   {
    "duration": 5078,
    "start_time": "2022-01-29T17:39:31.177Z"
   },
   {
    "duration": 6,
    "start_time": "2022-01-29T17:39:36.256Z"
   },
   {
    "duration": 21,
    "start_time": "2022-01-29T17:39:36.264Z"
   },
   {
    "duration": 33,
    "start_time": "2022-01-29T17:39:36.287Z"
   },
   {
    "duration": 221,
    "start_time": "2022-01-29T17:39:36.322Z"
   },
   {
    "duration": 16,
    "start_time": "2022-01-29T17:39:36.545Z"
   },
   {
    "duration": 52,
    "start_time": "2022-01-29T17:39:36.565Z"
   },
   {
    "duration": 291,
    "start_time": "2022-01-29T17:39:36.620Z"
   },
   {
    "duration": 1881,
    "start_time": "2022-01-29T17:39:36.914Z"
   },
   {
    "duration": 29,
    "start_time": "2022-01-29T17:39:38.797Z"
   },
   {
    "duration": 26,
    "start_time": "2022-01-29T17:39:38.828Z"
   },
   {
    "duration": 327,
    "start_time": "2022-01-29T17:39:38.856Z"
   },
   {
    "duration": 39,
    "start_time": "2022-01-29T17:39:39.185Z"
   },
   {
    "duration": 290,
    "start_time": "2022-01-29T17:39:39.226Z"
   },
   {
    "duration": 5,
    "start_time": "2022-01-29T17:39:39.518Z"
   },
   {
    "duration": 20,
    "start_time": "2022-01-29T17:39:39.525Z"
   },
   {
    "duration": 75,
    "start_time": "2022-01-29T17:39:39.547Z"
   },
   {
    "duration": 7,
    "start_time": "2022-01-29T17:39:39.624Z"
   },
   {
    "duration": 224,
    "start_time": "2022-01-29T17:39:39.633Z"
   },
   {
    "duration": 14,
    "start_time": "2022-01-29T17:39:39.859Z"
   },
   {
    "duration": 37,
    "start_time": "2022-01-29T17:39:39.875Z"
   },
   {
    "duration": 35,
    "start_time": "2022-01-29T17:39:39.915Z"
   },
   {
    "duration": 24,
    "start_time": "2022-01-29T17:39:39.952Z"
   },
   {
    "duration": 26,
    "start_time": "2022-01-29T17:39:39.978Z"
   },
   {
    "duration": 19,
    "start_time": "2022-01-29T17:39:40.006Z"
   },
   {
    "duration": 29,
    "start_time": "2022-01-29T17:39:40.027Z"
   },
   {
    "duration": 30,
    "start_time": "2022-01-29T17:39:40.058Z"
   },
   {
    "duration": 20,
    "start_time": "2022-01-29T17:39:40.090Z"
   },
   {
    "duration": 302,
    "start_time": "2022-01-29T17:40:31.294Z"
   },
   {
    "duration": 25,
    "start_time": "2022-01-29T17:45:34.748Z"
   },
   {
    "duration": 32,
    "start_time": "2022-01-29T17:45:39.420Z"
   },
   {
    "duration": 289,
    "start_time": "2022-01-29T17:46:06.660Z"
   },
   {
    "duration": 304,
    "start_time": "2022-01-29T17:48:03.356Z"
   },
   {
    "duration": 392,
    "start_time": "2022-01-29T17:48:08.788Z"
   },
   {
    "duration": 25,
    "start_time": "2022-01-29T19:41:50.513Z"
   },
   {
    "duration": 279,
    "start_time": "2022-01-29T19:41:56.847Z"
   },
   {
    "duration": 5,
    "start_time": "2022-01-29T19:41:59.359Z"
   },
   {
    "duration": 313,
    "start_time": "2022-01-29T19:42:00.599Z"
   },
   {
    "duration": 5,
    "start_time": "2022-01-29T19:42:05.967Z"
   },
   {
    "duration": 48,
    "start_time": "2022-01-29T19:42:57.047Z"
   },
   {
    "duration": 49,
    "start_time": "2022-01-29T19:44:35.375Z"
   },
   {
    "duration": 53,
    "start_time": "2022-01-29T19:45:26.293Z"
   },
   {
    "duration": 70,
    "start_time": "2022-01-29T19:46:48.382Z"
   },
   {
    "duration": 51,
    "start_time": "2022-01-29T19:46:58.925Z"
   },
   {
    "duration": 9,
    "start_time": "2022-01-29T19:51:23.715Z"
   },
   {
    "duration": 7,
    "start_time": "2022-01-29T19:51:38.683Z"
   },
   {
    "duration": 7,
    "start_time": "2022-01-29T19:51:55.779Z"
   },
   {
    "duration": 25,
    "start_time": "2022-01-29T19:52:42.171Z"
   },
   {
    "duration": 22,
    "start_time": "2022-01-29T19:52:58.197Z"
   },
   {
    "duration": 21,
    "start_time": "2022-01-29T19:53:07.843Z"
   },
   {
    "duration": 7,
    "start_time": "2022-01-29T19:53:39.563Z"
   },
   {
    "duration": 236,
    "start_time": "2022-01-29T19:54:27.515Z"
   },
   {
    "duration": 10,
    "start_time": "2022-01-29T19:55:12.946Z"
   },
   {
    "duration": 7,
    "start_time": "2022-01-29T19:56:03.978Z"
   },
   {
    "duration": 199,
    "start_time": "2022-01-29T19:56:32.801Z"
   },
   {
    "duration": 281,
    "start_time": "2022-01-29T19:57:04.596Z"
   },
   {
    "duration": 7,
    "start_time": "2022-01-29T19:58:40.515Z"
   },
   {
    "duration": 201,
    "start_time": "2022-01-29T19:58:43.109Z"
   },
   {
    "duration": 5,
    "start_time": "2022-01-29T20:10:05.764Z"
   },
   {
    "duration": 5,
    "start_time": "2022-01-29T20:10:19.644Z"
   },
   {
    "duration": 7,
    "start_time": "2022-01-29T20:12:02.260Z"
   },
   {
    "duration": 1205,
    "start_time": "2022-01-29T20:13:06.320Z"
   },
   {
    "duration": 164,
    "start_time": "2022-01-29T20:13:07.528Z"
   },
   {
    "duration": 18,
    "start_time": "2022-01-29T20:13:07.695Z"
   },
   {
    "duration": 13,
    "start_time": "2022-01-29T20:13:07.716Z"
   },
   {
    "duration": 34,
    "start_time": "2022-01-29T20:13:07.731Z"
   },
   {
    "duration": 3,
    "start_time": "2022-01-29T20:13:07.767Z"
   },
   {
    "duration": 18,
    "start_time": "2022-01-29T20:13:07.772Z"
   },
   {
    "duration": 27,
    "start_time": "2022-01-29T20:13:07.793Z"
   },
   {
    "duration": 17,
    "start_time": "2022-01-29T20:13:07.823Z"
   },
   {
    "duration": 6,
    "start_time": "2022-01-29T20:13:07.842Z"
   },
   {
    "duration": 18,
    "start_time": "2022-01-29T20:13:07.850Z"
   },
   {
    "duration": 46,
    "start_time": "2022-01-29T20:13:07.870Z"
   },
   {
    "duration": 36,
    "start_time": "2022-01-29T20:13:07.918Z"
   },
   {
    "duration": 4,
    "start_time": "2022-01-29T20:13:07.956Z"
   },
   {
    "duration": 5183,
    "start_time": "2022-01-29T20:13:07.962Z"
   },
   {
    "duration": 4,
    "start_time": "2022-01-29T20:13:13.148Z"
   },
   {
    "duration": 5291,
    "start_time": "2022-01-29T20:13:13.154Z"
   },
   {
    "duration": 5,
    "start_time": "2022-01-29T20:13:18.447Z"
   },
   {
    "duration": 9,
    "start_time": "2022-01-29T20:13:18.454Z"
   },
   {
    "duration": 9,
    "start_time": "2022-01-29T20:13:18.465Z"
   },
   {
    "duration": 15,
    "start_time": "2022-01-29T20:13:18.476Z"
   },
   {
    "duration": 33,
    "start_time": "2022-01-29T20:13:18.493Z"
   },
   {
    "duration": 236,
    "start_time": "2022-01-29T20:13:18.530Z"
   },
   {
    "duration": 16,
    "start_time": "2022-01-29T20:13:18.769Z"
   },
   {
    "duration": 54,
    "start_time": "2022-01-29T20:13:18.787Z"
   },
   {
    "duration": 323,
    "start_time": "2022-01-29T20:13:18.843Z"
   },
   {
    "duration": 2109,
    "start_time": "2022-01-29T20:13:19.168Z"
   },
   {
    "duration": 37,
    "start_time": "2022-01-29T20:13:21.280Z"
   },
   {
    "duration": 94,
    "start_time": "2022-01-29T20:13:21.319Z"
   },
   {
    "duration": 415575,
    "start_time": "2022-01-29T20:06:25.840Z"
   },
   {
    "duration": 415569,
    "start_time": "2022-01-29T20:06:25.848Z"
   },
   {
    "duration": 415568,
    "start_time": "2022-01-29T20:06:25.850Z"
   },
   {
    "duration": 415566,
    "start_time": "2022-01-29T20:06:25.853Z"
   },
   {
    "duration": 415566,
    "start_time": "2022-01-29T20:06:25.854Z"
   },
   {
    "duration": 415564,
    "start_time": "2022-01-29T20:06:25.857Z"
   },
   {
    "duration": 415563,
    "start_time": "2022-01-29T20:06:25.859Z"
   },
   {
    "duration": 415562,
    "start_time": "2022-01-29T20:06:25.861Z"
   },
   {
    "duration": 415561,
    "start_time": "2022-01-29T20:06:25.863Z"
   },
   {
    "duration": 415553,
    "start_time": "2022-01-29T20:06:25.872Z"
   },
   {
    "duration": 415547,
    "start_time": "2022-01-29T20:06:25.878Z"
   },
   {
    "duration": 415545,
    "start_time": "2022-01-29T20:06:25.881Z"
   },
   {
    "duration": 415546,
    "start_time": "2022-01-29T20:06:25.882Z"
   },
   {
    "duration": 415544,
    "start_time": "2022-01-29T20:06:25.884Z"
   },
   {
    "duration": 415543,
    "start_time": "2022-01-29T20:06:25.886Z"
   },
   {
    "duration": 415543,
    "start_time": "2022-01-29T20:06:25.888Z"
   },
   {
    "duration": 415540,
    "start_time": "2022-01-29T20:06:25.891Z"
   },
   {
    "duration": 70,
    "start_time": "2022-01-29T20:20:03.455Z"
   },
   {
    "duration": 25,
    "start_time": "2022-01-29T20:20:34.311Z"
   },
   {
    "duration": 1206,
    "start_time": "2022-01-29T20:20:46.183Z"
   },
   {
    "duration": 169,
    "start_time": "2022-01-29T20:20:47.391Z"
   },
   {
    "duration": 18,
    "start_time": "2022-01-29T20:20:47.562Z"
   },
   {
    "duration": 14,
    "start_time": "2022-01-29T20:20:47.583Z"
   },
   {
    "duration": 35,
    "start_time": "2022-01-29T20:20:47.600Z"
   },
   {
    "duration": 3,
    "start_time": "2022-01-29T20:20:47.637Z"
   },
   {
    "duration": 11,
    "start_time": "2022-01-29T20:20:47.642Z"
   },
   {
    "duration": 21,
    "start_time": "2022-01-29T20:20:47.656Z"
   },
   {
    "duration": 38,
    "start_time": "2022-01-29T20:20:47.680Z"
   },
   {
    "duration": 5,
    "start_time": "2022-01-29T20:20:47.721Z"
   },
   {
    "duration": 9,
    "start_time": "2022-01-29T20:20:47.728Z"
   },
   {
    "duration": 26,
    "start_time": "2022-01-29T20:20:47.739Z"
   },
   {
    "duration": 60,
    "start_time": "2022-01-29T20:20:47.766Z"
   },
   {
    "duration": 5,
    "start_time": "2022-01-29T20:20:47.828Z"
   },
   {
    "duration": 4977,
    "start_time": "2022-01-29T20:20:47.834Z"
   },
   {
    "duration": 3,
    "start_time": "2022-01-29T20:20:52.813Z"
   },
   {
    "duration": 5027,
    "start_time": "2022-01-29T20:20:52.818Z"
   },
   {
    "duration": 5,
    "start_time": "2022-01-29T20:20:57.847Z"
   },
   {
    "duration": 8,
    "start_time": "2022-01-29T20:20:57.854Z"
   },
   {
    "duration": 7,
    "start_time": "2022-01-29T20:20:57.864Z"
   },
   {
    "duration": 36,
    "start_time": "2022-01-29T20:20:57.873Z"
   },
   {
    "duration": 22,
    "start_time": "2022-01-29T20:20:57.910Z"
   },
   {
    "duration": 232,
    "start_time": "2022-01-29T20:20:57.934Z"
   },
   {
    "duration": 17,
    "start_time": "2022-01-29T20:20:58.168Z"
   },
   {
    "duration": 52,
    "start_time": "2022-01-29T20:20:58.187Z"
   },
   {
    "duration": 300,
    "start_time": "2022-01-29T20:20:58.241Z"
   },
   {
    "duration": 1916,
    "start_time": "2022-01-29T20:20:58.544Z"
   },
   {
    "duration": 26,
    "start_time": "2022-01-29T20:21:00.464Z"
   },
   {
    "duration": 26,
    "start_time": "2022-01-29T20:21:00.508Z"
   },
   {
    "duration": 321,
    "start_time": "2022-01-29T20:21:00.536Z"
   },
   {
    "duration": 25,
    "start_time": "2022-01-29T20:21:00.859Z"
   },
   {
    "duration": 350,
    "start_time": "2022-01-29T20:21:00.886Z"
   },
   {
    "duration": 4,
    "start_time": "2022-01-29T20:21:01.238Z"
   },
   {
    "duration": 311,
    "start_time": "2022-01-29T20:21:01.244Z"
   },
   {
    "duration": 5,
    "start_time": "2022-01-29T20:21:01.557Z"
   },
   {
    "duration": 19,
    "start_time": "2022-01-29T20:21:01.565Z"
   },
   {
    "duration": 215,
    "start_time": "2022-01-29T20:21:01.586Z"
   },
   {
    "duration": 12,
    "start_time": "2022-01-29T20:21:01.804Z"
   },
   {
    "duration": 17,
    "start_time": "2022-01-29T20:21:01.818Z"
   },
   {
    "duration": 18,
    "start_time": "2022-01-29T20:21:01.837Z"
   },
   {
    "duration": 33,
    "start_time": "2022-01-29T20:21:01.857Z"
   },
   {
    "duration": 57,
    "start_time": "2022-01-29T20:21:01.892Z"
   },
   {
    "duration": 23,
    "start_time": "2022-01-29T20:21:01.952Z"
   },
   {
    "duration": 24,
    "start_time": "2022-01-29T20:21:01.978Z"
   },
   {
    "duration": 18,
    "start_time": "2022-01-29T20:21:02.004Z"
   },
   {
    "duration": 22,
    "start_time": "2022-01-29T20:21:02.024Z"
   },
   {
    "duration": 10,
    "start_time": "2022-01-29T21:00:28.346Z"
   },
   {
    "duration": 10,
    "start_time": "2022-01-29T21:00:30.763Z"
   },
   {
    "duration": 6,
    "start_time": "2022-01-29T21:00:33.697Z"
   },
   {
    "duration": 12,
    "start_time": "2022-01-29T21:00:36.529Z"
   },
   {
    "duration": 11,
    "start_time": "2022-01-29T21:00:39.249Z"
   },
   {
    "duration": 6,
    "start_time": "2022-01-29T21:00:42.761Z"
   },
   {
    "duration": 1179,
    "start_time": "2022-01-29T21:02:47.510Z"
   },
   {
    "duration": 170,
    "start_time": "2022-01-29T21:02:48.691Z"
   },
   {
    "duration": 18,
    "start_time": "2022-01-29T21:02:48.864Z"
   },
   {
    "duration": 12,
    "start_time": "2022-01-29T21:02:48.885Z"
   },
   {
    "duration": 32,
    "start_time": "2022-01-29T21:02:48.900Z"
   },
   {
    "duration": 4,
    "start_time": "2022-01-29T21:02:48.934Z"
   },
   {
    "duration": 8,
    "start_time": "2022-01-29T21:02:48.940Z"
   },
   {
    "duration": 18,
    "start_time": "2022-01-29T21:02:48.950Z"
   },
   {
    "duration": 43,
    "start_time": "2022-01-29T21:02:48.971Z"
   },
   {
    "duration": 6,
    "start_time": "2022-01-29T21:02:49.017Z"
   },
   {
    "duration": 8,
    "start_time": "2022-01-29T21:02:49.025Z"
   },
   {
    "duration": 25,
    "start_time": "2022-01-29T21:02:49.035Z"
   },
   {
    "duration": 63,
    "start_time": "2022-01-29T21:02:49.062Z"
   },
   {
    "duration": 5,
    "start_time": "2022-01-29T21:02:49.127Z"
   },
   {
    "duration": 4955,
    "start_time": "2022-01-29T21:02:49.134Z"
   },
   {
    "duration": 3,
    "start_time": "2022-01-29T21:02:54.091Z"
   },
   {
    "duration": 4891,
    "start_time": "2022-01-29T21:02:54.096Z"
   },
   {
    "duration": 5,
    "start_time": "2022-01-29T21:02:58.989Z"
   },
   {
    "duration": 7,
    "start_time": "2022-01-29T21:02:59.008Z"
   },
   {
    "duration": 7,
    "start_time": "2022-01-29T21:02:59.016Z"
   },
   {
    "duration": 16,
    "start_time": "2022-01-29T21:02:59.025Z"
   },
   {
    "duration": 21,
    "start_time": "2022-01-29T21:02:59.043Z"
   },
   {
    "duration": 237,
    "start_time": "2022-01-29T21:02:59.065Z"
   },
   {
    "duration": 17,
    "start_time": "2022-01-29T21:02:59.308Z"
   },
   {
    "duration": 35,
    "start_time": "2022-01-29T21:02:59.327Z"
   },
   {
    "duration": 301,
    "start_time": "2022-01-29T21:02:59.364Z"
   },
   {
    "duration": 1959,
    "start_time": "2022-01-29T21:02:59.669Z"
   },
   {
    "duration": 24,
    "start_time": "2022-01-29T21:03:01.630Z"
   },
   {
    "duration": 24,
    "start_time": "2022-01-29T21:03:01.656Z"
   },
   {
    "duration": 342,
    "start_time": "2022-01-29T21:03:01.683Z"
   },
   {
    "duration": 31,
    "start_time": "2022-01-29T21:03:02.028Z"
   },
   {
    "duration": 355,
    "start_time": "2022-01-29T21:03:02.061Z"
   },
   {
    "duration": 6,
    "start_time": "2022-01-29T21:03:02.418Z"
   },
   {
    "duration": 287,
    "start_time": "2022-01-29T21:03:02.425Z"
   },
   {
    "duration": 5,
    "start_time": "2022-01-29T21:03:02.715Z"
   },
   {
    "duration": 23,
    "start_time": "2022-01-29T21:03:02.722Z"
   },
   {
    "duration": 208,
    "start_time": "2022-01-29T21:03:02.747Z"
   },
   {
    "duration": 12,
    "start_time": "2022-01-29T21:03:02.957Z"
   },
   {
    "duration": 37,
    "start_time": "2022-01-29T21:03:02.971Z"
   },
   {
    "duration": 16,
    "start_time": "2022-01-29T21:03:03.010Z"
   },
   {
    "duration": 22,
    "start_time": "2022-01-29T21:03:03.028Z"
   },
   {
    "duration": 22,
    "start_time": "2022-01-29T21:03:03.052Z"
   },
   {
    "duration": 35,
    "start_time": "2022-01-29T21:03:03.076Z"
   },
   {
    "duration": 35,
    "start_time": "2022-01-29T21:03:03.113Z"
   },
   {
    "duration": 16,
    "start_time": "2022-01-29T21:03:03.150Z"
   },
   {
    "duration": 12,
    "start_time": "2022-01-29T21:03:03.168Z"
   },
   {
    "duration": 488,
    "start_time": "2022-01-30T04:41:34.475Z"
   },
   {
    "duration": 1449,
    "start_time": "2022-01-30T04:41:42.322Z"
   },
   {
    "duration": 429,
    "start_time": "2022-01-30T04:41:43.774Z"
   },
   {
    "duration": 25,
    "start_time": "2022-01-30T04:41:44.206Z"
   },
   {
    "duration": 14,
    "start_time": "2022-01-30T04:41:44.234Z"
   },
   {
    "duration": 51,
    "start_time": "2022-01-30T04:41:44.251Z"
   },
   {
    "duration": 5,
    "start_time": "2022-01-30T04:41:44.304Z"
   },
   {
    "duration": 9,
    "start_time": "2022-01-30T04:41:44.311Z"
   },
   {
    "duration": 18,
    "start_time": "2022-01-30T04:41:44.324Z"
   },
   {
    "duration": 34,
    "start_time": "2022-01-30T04:41:44.345Z"
   },
   {
    "duration": 8,
    "start_time": "2022-01-30T04:41:44.382Z"
   },
   {
    "duration": 10,
    "start_time": "2022-01-30T04:41:44.393Z"
   },
   {
    "duration": 37,
    "start_time": "2022-01-30T04:41:44.406Z"
   },
   {
    "duration": 66,
    "start_time": "2022-01-30T04:41:44.446Z"
   },
   {
    "duration": 6,
    "start_time": "2022-01-30T04:41:44.515Z"
   },
   {
    "duration": 8520,
    "start_time": "2022-01-30T04:41:44.524Z"
   },
   {
    "duration": 4,
    "start_time": "2022-01-30T04:41:53.046Z"
   },
   {
    "duration": 8623,
    "start_time": "2022-01-30T04:41:53.052Z"
   },
   {
    "duration": 10,
    "start_time": "2022-01-30T04:42:01.677Z"
   },
   {
    "duration": 17,
    "start_time": "2022-01-30T04:42:01.689Z"
   },
   {
    "duration": 22,
    "start_time": "2022-01-30T04:42:01.709Z"
   },
   {
    "duration": 13,
    "start_time": "2022-01-30T04:42:01.733Z"
   },
   {
    "duration": 40,
    "start_time": "2022-01-30T04:42:01.749Z"
   },
   {
    "duration": 35,
    "start_time": "2022-01-30T04:42:01.794Z"
   },
   {
    "duration": 329,
    "start_time": "2022-01-30T04:42:01.831Z"
   },
   {
    "duration": 21,
    "start_time": "2022-01-30T04:42:02.170Z"
   },
   {
    "duration": 65,
    "start_time": "2022-01-30T04:42:02.193Z"
   },
   {
    "duration": 432,
    "start_time": "2022-01-30T04:42:02.260Z"
   },
   {
    "duration": 2840,
    "start_time": "2022-01-30T04:42:02.695Z"
   },
   {
    "duration": 47,
    "start_time": "2022-01-30T04:42:05.537Z"
   },
   {
    "duration": 37,
    "start_time": "2022-01-30T04:42:05.586Z"
   },
   {
    "duration": 476,
    "start_time": "2022-01-30T04:42:05.625Z"
   },
   {
    "duration": 35,
    "start_time": "2022-01-30T04:42:06.103Z"
   },
   {
    "duration": 425,
    "start_time": "2022-01-30T04:42:06.141Z"
   },
   {
    "duration": 9,
    "start_time": "2022-01-30T04:42:06.569Z"
   },
   {
    "duration": 381,
    "start_time": "2022-01-30T04:42:06.581Z"
   },
   {
    "duration": 6,
    "start_time": "2022-01-30T04:42:06.969Z"
   },
   {
    "duration": 11,
    "start_time": "2022-01-30T04:42:06.979Z"
   },
   {
    "duration": 335,
    "start_time": "2022-01-30T04:42:06.993Z"
   },
   {
    "duration": 19,
    "start_time": "2022-01-30T04:42:07.331Z"
   },
   {
    "duration": 17,
    "start_time": "2022-01-30T04:42:07.370Z"
   },
   {
    "duration": 15,
    "start_time": "2022-01-30T04:42:07.390Z"
   },
   {
    "duration": 12,
    "start_time": "2022-01-30T04:42:07.407Z"
   },
   {
    "duration": 49,
    "start_time": "2022-01-30T04:42:07.422Z"
   },
   {
    "duration": 8,
    "start_time": "2022-01-30T04:42:07.473Z"
   },
   {
    "duration": 16,
    "start_time": "2022-01-30T04:42:07.484Z"
   },
   {
    "duration": 12,
    "start_time": "2022-01-30T04:42:07.503Z"
   },
   {
    "duration": 8,
    "start_time": "2022-01-30T04:42:07.517Z"
   },
   {
    "duration": 1435,
    "start_time": "2022-01-30T05:39:35.006Z"
   },
   {
    "duration": 257,
    "start_time": "2022-01-30T05:39:36.444Z"
   },
   {
    "duration": 25,
    "start_time": "2022-01-30T05:39:36.704Z"
   },
   {
    "duration": 38,
    "start_time": "2022-01-30T05:39:36.731Z"
   },
   {
    "duration": 44,
    "start_time": "2022-01-30T05:39:36.771Z"
   },
   {
    "duration": 4,
    "start_time": "2022-01-30T05:39:36.817Z"
   },
   {
    "duration": 8,
    "start_time": "2022-01-30T05:39:36.823Z"
   },
   {
    "duration": 52,
    "start_time": "2022-01-30T05:39:36.833Z"
   },
   {
    "duration": 28,
    "start_time": "2022-01-30T05:39:36.889Z"
   },
   {
    "duration": 7,
    "start_time": "2022-01-30T05:39:36.920Z"
   },
   {
    "duration": 7,
    "start_time": "2022-01-30T05:39:36.970Z"
   },
   {
    "duration": 32,
    "start_time": "2022-01-30T05:39:36.979Z"
   },
   {
    "duration": 77,
    "start_time": "2022-01-30T05:39:37.014Z"
   },
   {
    "duration": 6,
    "start_time": "2022-01-30T05:39:37.093Z"
   },
   {
    "duration": 8936,
    "start_time": "2022-01-30T05:39:37.102Z"
   },
   {
    "duration": 4,
    "start_time": "2022-01-30T05:39:46.040Z"
   },
   {
    "duration": 8546,
    "start_time": "2022-01-30T05:39:46.047Z"
   },
   {
    "duration": 5,
    "start_time": "2022-01-30T05:39:54.596Z"
   },
   {
    "duration": 12,
    "start_time": "2022-01-30T05:39:54.604Z"
   },
   {
    "duration": 6,
    "start_time": "2022-01-30T05:39:54.619Z"
   },
   {
    "duration": 49,
    "start_time": "2022-01-30T05:39:54.628Z"
   },
   {
    "duration": 26,
    "start_time": "2022-01-30T05:39:54.680Z"
   },
   {
    "duration": 352,
    "start_time": "2022-01-30T05:39:54.708Z"
   },
   {
    "duration": 21,
    "start_time": "2022-01-30T05:39:55.069Z"
   },
   {
    "duration": 48,
    "start_time": "2022-01-30T05:39:55.093Z"
   },
   {
    "duration": 573,
    "start_time": "2022-01-30T05:39:55.144Z"
   },
   {
    "duration": 3052,
    "start_time": "2022-01-30T05:39:55.722Z"
   },
   {
    "duration": 35,
    "start_time": "2022-01-30T05:39:58.777Z"
   },
   {
    "duration": 63,
    "start_time": "2022-01-30T05:39:58.815Z"
   },
   {
    "duration": 470,
    "start_time": "2022-01-30T05:39:58.881Z"
   },
   {
    "duration": 40,
    "start_time": "2022-01-30T05:39:59.353Z"
   },
   {
    "duration": 388,
    "start_time": "2022-01-30T05:39:59.397Z"
   },
   {
    "duration": 7,
    "start_time": "2022-01-30T05:39:59.787Z"
   },
   {
    "duration": 351,
    "start_time": "2022-01-30T05:39:59.796Z"
   },
   {
    "duration": 19,
    "start_time": "2022-01-30T05:40:00.150Z"
   },
   {
    "duration": 13,
    "start_time": "2022-01-30T05:40:00.172Z"
   },
   {
    "duration": 318,
    "start_time": "2022-01-30T05:40:00.187Z"
   },
   {
    "duration": 19,
    "start_time": "2022-01-30T05:40:00.508Z"
   },
   {
    "duration": 49,
    "start_time": "2022-01-30T05:40:00.530Z"
   },
   {
    "duration": 17,
    "start_time": "2022-01-30T05:40:00.582Z"
   },
   {
    "duration": 15,
    "start_time": "2022-01-30T05:40:00.602Z"
   },
   {
    "duration": 54,
    "start_time": "2022-01-30T05:40:00.620Z"
   },
   {
    "duration": 10,
    "start_time": "2022-01-30T05:40:00.677Z"
   },
   {
    "duration": 21,
    "start_time": "2022-01-30T05:40:00.690Z"
   },
   {
    "duration": 15,
    "start_time": "2022-01-30T05:40:00.714Z"
   },
   {
    "duration": 7,
    "start_time": "2022-01-30T05:40:00.769Z"
   },
   {
    "duration": 1485,
    "start_time": "2022-01-30T05:43:55.249Z"
   },
   {
    "duration": 296,
    "start_time": "2022-01-30T05:43:56.736Z"
   },
   {
    "duration": 27,
    "start_time": "2022-01-30T05:43:57.035Z"
   },
   {
    "duration": 17,
    "start_time": "2022-01-30T05:43:57.065Z"
   },
   {
    "duration": 54,
    "start_time": "2022-01-30T05:43:57.085Z"
   },
   {
    "duration": 4,
    "start_time": "2022-01-30T05:43:57.142Z"
   },
   {
    "duration": 27,
    "start_time": "2022-01-30T05:43:57.148Z"
   },
   {
    "duration": 24,
    "start_time": "2022-01-30T05:43:57.179Z"
   },
   {
    "duration": 27,
    "start_time": "2022-01-30T05:43:57.206Z"
   },
   {
    "duration": 7,
    "start_time": "2022-01-30T05:43:57.235Z"
   },
   {
    "duration": 29,
    "start_time": "2022-01-30T05:43:57.245Z"
   },
   {
    "duration": 39,
    "start_time": "2022-01-30T05:43:57.276Z"
   },
   {
    "duration": 69,
    "start_time": "2022-01-30T05:43:57.317Z"
   },
   {
    "duration": 5,
    "start_time": "2022-01-30T05:43:57.389Z"
   },
   {
    "duration": 8460,
    "start_time": "2022-01-30T05:43:57.396Z"
   },
   {
    "duration": 11,
    "start_time": "2022-01-30T05:44:05.859Z"
   },
   {
    "duration": 8378,
    "start_time": "2022-01-30T05:44:05.872Z"
   },
   {
    "duration": 5,
    "start_time": "2022-01-30T05:44:14.252Z"
   },
   {
    "duration": 14,
    "start_time": "2022-01-30T05:44:14.260Z"
   },
   {
    "duration": 12,
    "start_time": "2022-01-30T05:44:14.276Z"
   },
   {
    "duration": 19,
    "start_time": "2022-01-30T05:44:14.291Z"
   },
   {
    "duration": 24,
    "start_time": "2022-01-30T05:44:14.313Z"
   },
   {
    "duration": 341,
    "start_time": "2022-01-30T05:44:14.371Z"
   },
   {
    "duration": 22,
    "start_time": "2022-01-30T05:44:14.715Z"
   },
   {
    "duration": 65,
    "start_time": "2022-01-30T05:44:14.739Z"
   },
   {
    "duration": 469,
    "start_time": "2022-01-30T05:44:14.806Z"
   },
   {
    "duration": 2863,
    "start_time": "2022-01-30T05:44:15.277Z"
   },
   {
    "duration": 45,
    "start_time": "2022-01-30T05:44:18.143Z"
   },
   {
    "duration": 36,
    "start_time": "2022-01-30T05:44:18.191Z"
   },
   {
    "duration": 515,
    "start_time": "2022-01-30T05:44:18.230Z"
   },
   {
    "duration": 42,
    "start_time": "2022-01-30T05:44:18.748Z"
   },
   {
    "duration": 365,
    "start_time": "2022-01-30T05:44:18.793Z"
   },
   {
    "duration": 12,
    "start_time": "2022-01-30T05:44:19.160Z"
   },
   {
    "duration": 361,
    "start_time": "2022-01-30T05:44:19.175Z"
   },
   {
    "duration": 7,
    "start_time": "2022-01-30T05:44:19.539Z"
   },
   {
    "duration": 29,
    "start_time": "2022-01-30T05:44:19.549Z"
   },
   {
    "duration": 319,
    "start_time": "2022-01-30T05:44:19.581Z"
   },
   {
    "duration": 19,
    "start_time": "2022-01-30T05:44:19.903Z"
   },
   {
    "duration": 46,
    "start_time": "2022-01-30T05:44:19.925Z"
   },
   {
    "duration": 16,
    "start_time": "2022-01-30T05:44:19.973Z"
   },
   {
    "duration": 14,
    "start_time": "2022-01-30T05:44:19.991Z"
   },
   {
    "duration": 13,
    "start_time": "2022-01-30T05:44:20.007Z"
   },
   {
    "duration": 47,
    "start_time": "2022-01-30T05:44:20.023Z"
   },
   {
    "duration": 16,
    "start_time": "2022-01-30T05:44:20.072Z"
   },
   {
    "duration": 13,
    "start_time": "2022-01-30T05:44:20.090Z"
   },
   {
    "duration": 7,
    "start_time": "2022-01-30T05:44:20.106Z"
   },
   {
    "duration": 385,
    "start_time": "2022-01-30T16:10:37.135Z"
   },
   {
    "duration": 1739,
    "start_time": "2022-01-30T16:10:45.630Z"
   },
   {
    "duration": 292,
    "start_time": "2022-01-30T16:10:47.373Z"
   },
   {
    "duration": 30,
    "start_time": "2022-01-30T16:10:47.669Z"
   },
   {
    "duration": 40,
    "start_time": "2022-01-30T16:10:47.703Z"
   },
   {
    "duration": 42,
    "start_time": "2022-01-30T16:10:47.746Z"
   },
   {
    "duration": 4,
    "start_time": "2022-01-30T16:10:47.790Z"
   },
   {
    "duration": 37,
    "start_time": "2022-01-30T16:10:47.797Z"
   },
   {
    "duration": 23,
    "start_time": "2022-01-30T16:10:47.837Z"
   },
   {
    "duration": 24,
    "start_time": "2022-01-30T16:10:47.864Z"
   },
   {
    "duration": 8,
    "start_time": "2022-01-30T16:10:47.892Z"
   },
   {
    "duration": 36,
    "start_time": "2022-01-30T16:10:47.903Z"
   },
   {
    "duration": 36,
    "start_time": "2022-01-30T16:10:47.941Z"
   },
   {
    "duration": 76,
    "start_time": "2022-01-30T16:10:47.980Z"
   },
   {
    "duration": 7,
    "start_time": "2022-01-30T16:10:48.060Z"
   },
   {
    "duration": 8764,
    "start_time": "2022-01-30T16:10:48.069Z"
   },
   {
    "duration": 4,
    "start_time": "2022-01-30T16:10:56.835Z"
   },
   {
    "duration": 8590,
    "start_time": "2022-01-30T16:10:56.842Z"
   },
   {
    "duration": 6,
    "start_time": "2022-01-30T16:11:05.434Z"
   },
   {
    "duration": 11,
    "start_time": "2022-01-30T16:11:05.442Z"
   },
   {
    "duration": 6,
    "start_time": "2022-01-30T16:11:05.455Z"
   },
   {
    "duration": 21,
    "start_time": "2022-01-30T16:11:05.463Z"
   },
   {
    "duration": 57,
    "start_time": "2022-01-30T16:11:05.487Z"
   },
   {
    "duration": 328,
    "start_time": "2022-01-30T16:11:05.547Z"
   },
   {
    "duration": 26,
    "start_time": "2022-01-30T16:11:05.877Z"
   },
   {
    "duration": 68,
    "start_time": "2022-01-30T16:11:05.905Z"
   },
   {
    "duration": 446,
    "start_time": "2022-01-30T16:11:05.975Z"
   },
   {
    "duration": 2812,
    "start_time": "2022-01-30T16:11:06.434Z"
   },
   {
    "duration": 39,
    "start_time": "2022-01-30T16:11:09.249Z"
   },
   {
    "duration": 60,
    "start_time": "2022-01-30T16:11:09.291Z"
   },
   {
    "duration": 456,
    "start_time": "2022-01-30T16:11:09.354Z"
   },
   {
    "duration": 42,
    "start_time": "2022-01-30T16:11:09.813Z"
   },
   {
    "duration": 386,
    "start_time": "2022-01-30T16:11:09.857Z"
   },
   {
    "duration": 8,
    "start_time": "2022-01-30T16:11:10.246Z"
   },
   {
    "duration": 349,
    "start_time": "2022-01-30T16:11:10.257Z"
   },
   {
    "duration": 6,
    "start_time": "2022-01-30T16:11:10.609Z"
   },
   {
    "duration": 9,
    "start_time": "2022-01-30T16:11:10.633Z"
   },
   {
    "duration": 310,
    "start_time": "2022-01-30T16:11:10.645Z"
   },
   {
    "duration": 16,
    "start_time": "2022-01-30T16:11:10.958Z"
   },
   {
    "duration": 17,
    "start_time": "2022-01-30T16:11:10.976Z"
   },
   {
    "duration": 42,
    "start_time": "2022-01-30T16:11:10.996Z"
   },
   {
    "duration": 356,
    "start_time": "2022-01-30T16:11:11.041Z"
   },
   {
    "duration": 415893,
    "start_time": "2022-01-30T16:04:15.506Z"
   },
   {
    "duration": 415868,
    "start_time": "2022-01-30T16:04:15.533Z"
   },
   {
    "duration": 415867,
    "start_time": "2022-01-30T16:04:15.535Z"
   },
   {
    "duration": 415866,
    "start_time": "2022-01-30T16:04:15.537Z"
   },
   {
    "duration": 415865,
    "start_time": "2022-01-30T16:04:15.539Z"
   },
   {
    "duration": 415865,
    "start_time": "2022-01-30T16:04:15.541Z"
   },
   {
    "duration": 334,
    "start_time": "2022-01-30T16:11:27.928Z"
   },
   {
    "duration": 397,
    "start_time": "2022-01-30T16:12:07.619Z"
   },
   {
    "duration": 450,
    "start_time": "2022-01-30T16:12:15.368Z"
   },
   {
    "duration": 757,
    "start_time": "2022-01-30T16:12:21.625Z"
   },
   {
    "duration": 498,
    "start_time": "2022-01-30T16:12:29.321Z"
   },
   {
    "duration": 496,
    "start_time": "2022-01-30T16:14:18.913Z"
   },
   {
    "duration": 1450,
    "start_time": "2022-01-30T16:15:05.243Z"
   },
   {
    "duration": 228,
    "start_time": "2022-01-30T16:15:06.696Z"
   },
   {
    "duration": 24,
    "start_time": "2022-01-30T16:15:06.928Z"
   },
   {
    "duration": 16,
    "start_time": "2022-01-30T16:15:06.955Z"
   },
   {
    "duration": 69,
    "start_time": "2022-01-30T16:15:06.974Z"
   },
   {
    "duration": 5,
    "start_time": "2022-01-30T16:15:07.046Z"
   },
   {
    "duration": 14,
    "start_time": "2022-01-30T16:15:07.054Z"
   },
   {
    "duration": 22,
    "start_time": "2022-01-30T16:15:07.074Z"
   },
   {
    "duration": 48,
    "start_time": "2022-01-30T16:15:07.099Z"
   },
   {
    "duration": 7,
    "start_time": "2022-01-30T16:15:07.149Z"
   },
   {
    "duration": 10,
    "start_time": "2022-01-30T16:15:07.158Z"
   },
   {
    "duration": 62,
    "start_time": "2022-01-30T16:15:07.170Z"
   },
   {
    "duration": 47,
    "start_time": "2022-01-30T16:15:07.234Z"
   },
   {
    "duration": 5,
    "start_time": "2022-01-30T16:15:07.284Z"
   },
   {
    "duration": 8257,
    "start_time": "2022-01-30T16:15:07.291Z"
   },
   {
    "duration": 4,
    "start_time": "2022-01-30T16:15:15.551Z"
   },
   {
    "duration": 8268,
    "start_time": "2022-01-30T16:15:15.557Z"
   },
   {
    "duration": 6,
    "start_time": "2022-01-30T16:15:23.827Z"
   },
   {
    "duration": 10,
    "start_time": "2022-01-30T16:15:23.835Z"
   },
   {
    "duration": 8,
    "start_time": "2022-01-30T16:15:23.847Z"
   },
   {
    "duration": 21,
    "start_time": "2022-01-30T16:15:23.857Z"
   },
   {
    "duration": 53,
    "start_time": "2022-01-30T16:15:23.881Z"
   },
   {
    "duration": 318,
    "start_time": "2022-01-30T16:15:23.939Z"
   },
   {
    "duration": 21,
    "start_time": "2022-01-30T16:15:24.260Z"
   },
   {
    "duration": 66,
    "start_time": "2022-01-30T16:15:24.284Z"
   },
   {
    "duration": 445,
    "start_time": "2022-01-30T16:15:24.353Z"
   },
   {
    "duration": 2786,
    "start_time": "2022-01-30T16:15:24.801Z"
   },
   {
    "duration": 46,
    "start_time": "2022-01-30T16:15:27.589Z"
   },
   {
    "duration": 33,
    "start_time": "2022-01-30T16:15:27.638Z"
   },
   {
    "duration": 467,
    "start_time": "2022-01-30T16:15:27.674Z"
   },
   {
    "duration": 33,
    "start_time": "2022-01-30T16:15:28.144Z"
   },
   {
    "duration": 448,
    "start_time": "2022-01-30T16:15:28.180Z"
   },
   {
    "duration": 6,
    "start_time": "2022-01-30T16:15:28.631Z"
   },
   {
    "duration": 359,
    "start_time": "2022-01-30T16:15:28.640Z"
   },
   {
    "duration": 7,
    "start_time": "2022-01-30T16:15:29.002Z"
   },
   {
    "duration": 23,
    "start_time": "2022-01-30T16:15:29.011Z"
   },
   {
    "duration": 317,
    "start_time": "2022-01-30T16:15:29.036Z"
   },
   {
    "duration": 17,
    "start_time": "2022-01-30T16:15:29.355Z"
   },
   {
    "duration": 16,
    "start_time": "2022-01-30T16:15:29.374Z"
   },
   {
    "duration": 44,
    "start_time": "2022-01-30T16:15:29.392Z"
   },
   {
    "duration": 510,
    "start_time": "2022-01-30T16:15:29.438Z"
   },
   {
    "duration": 13,
    "start_time": "2022-01-30T16:15:29.950Z"
   },
   {
    "duration": 14,
    "start_time": "2022-01-30T16:15:29.965Z"
   },
   {
    "duration": 12,
    "start_time": "2022-01-30T16:15:29.981Z"
   },
   {
    "duration": 46,
    "start_time": "2022-01-30T16:15:29.995Z"
   },
   {
    "duration": 14,
    "start_time": "2022-01-30T16:15:30.044Z"
   },
   {
    "duration": 16,
    "start_time": "2022-01-30T16:15:30.061Z"
   }
  ],
  "kernelspec": {
   "display_name": "Python 3 (ipykernel)",
   "language": "python",
   "name": "python3"
  },
  "language_info": {
   "codemirror_mode": {
    "name": "ipython",
    "version": 3
   },
   "file_extension": ".py",
   "mimetype": "text/x-python",
   "name": "python",
   "nbconvert_exporter": "python",
   "pygments_lexer": "ipython3",
   "version": "3.9.7"
  },
  "toc": {
   "base_numbering": 1,
   "nav_menu": {},
   "number_sections": true,
   "sideBar": true,
   "skip_h1_title": true,
   "title_cell": "Table of Contents",
   "title_sidebar": "Contents",
   "toc_cell": false,
   "toc_position": {
    "height": "calc(100% - 180px)",
    "left": "10px",
    "top": "150px",
    "width": "165px"
   },
   "toc_section_display": true,
   "toc_window_display": true
  }
 },
 "nbformat": 4,
 "nbformat_minor": 2
}
